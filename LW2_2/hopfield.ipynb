{
 "cells": [
  {
   "cell_type": "code",
   "execution_count": 1,
   "metadata": {},
   "outputs": [],
   "source": [
    "# Реализовать модель сети Хопфилда с дискретным состоянием\n",
    "# и дискретным временем в асинхронном режиме"
   ]
  },
  {
   "cell_type": "code",
   "execution_count": 2,
   "metadata": {},
   "outputs": [],
   "source": [
    "import numpy as np\n",
    "from numbers import Number"
   ]
  },
  {
   "cell_type": "code",
   "execution_count": 3,
   "metadata": {},
   "outputs": [],
   "source": [
    "class Hopfield:\n",
    "\n",
    "    def __init__(self, images, nu: float = 1) -> None:\n",
    "        self.size = images.shape[1]\n",
    "        self.w = np.matrix(np.zeros((self.size, self.size)))\n",
    "        self.images = images\n",
    "        self.neg_images = self._get_neg_images(self.images)\n",
    "        self.nu = nu\n",
    "\n",
    "    def _get_neg_images(self, images):\n",
    "        return images * (-1)      \n",
    "\n",
    "    def msign(self, s: Number, y_t: Number) -> Number:\n",
    "        if s > 0:\n",
    "            return 1\n",
    "        elif s < 0:\n",
    "            return -1\n",
    "        else:\n",
    "            return y_t \n",
    "\n",
    "    def train(self):\n",
    "        for image in self.images:\n",
    "            # x = np.matrix(image.copy()).T                        \n",
    "            # x_plus = np.linalg.pinv(x) # pseudo-inverted matrix                      \n",
    "            # w = x @ x_plus            \n",
    "            # # print(w)\n",
    "            # x_t = image.copy()\n",
    "            # print(w @ x_t)\n",
    "            # self.w = self.w + (self.nu / self.size) * (x_t - (w @ x_t)) @ x_t.T\n",
    "            x = np.matrix(image)            \n",
    "            self.w += (x.T @ x) / len(self.images)                                                                 \n",
    "        np.fill_diagonal(self.w, 0)\n",
    "    \n",
    "    def _update_neuron(self, x, neuron_idx: int) -> Number:\n",
    "        return self.msign((self.w[neuron_idx] @ x).item(), x[neuron_idx])\n",
    "    \n",
    "    def _find_image_num(self, x, images) -> int | None:\n",
    "        mask = (images == x).all(axis=1)\n",
    "        search_result = np.where(mask)[0]\n",
    "        if np.any(search_result):\n",
    "            return search_result.item()\n",
    "        return None\n",
    "\n",
    "    def predict(self, x, max_iters: int = 100):\n",
    "        state = x.copy()\n",
    "        relaxation_iters = 0\n",
    "        for _ in range(max_iters):            \n",
    "            relaxation_iters += 1\n",
    "            prev_state = state.copy()\n",
    "            for i in range(self.size):                \n",
    "                state[i] = self._update_neuron(state, i)\n",
    "            if np.array_equal(prev_state, state):\n",
    "                is_negative = False\n",
    "                image_num = self._find_image_num(state, self.images)\n",
    "                if image_num is None:\n",
    "                    image_num = self._find_image_num(state, self.neg_images)\n",
    "                    is_negative = True\n",
    "                return (relaxation_iters, state,\n",
    "                        image_num, is_negative)            \n",
    "        return max_iters, state, None, None"
   ]
  },
  {
   "cell_type": "code",
   "execution_count": 4,
   "metadata": {},
   "outputs": [],
   "source": [
    "def is_negative(image, neg_image) -> bool:\n",
    "    return(np.array_equal(image, neg_image))"
   ]
  },
  {
   "cell_type": "code",
   "execution_count": 5,
   "metadata": {},
   "outputs": [],
   "source": [
    "# [-1, 1, 1, 1, -1, -1, -1, 1, 1],\n",
    "# [1, 1, -1, 1, -1, 1, 1, 1, -1]\n",
    "alphabet = np.array(\n",
    "    [\n",
    "        [-1, 1, -1, 1, 1, 1, 1, -1, 1],\n",
    "        [-1, 1, 1, 1, -1, -1, -1, 1, 1],\n",
    "        [1, 1, -1, 1, -1, 1, 1, 1, -1]       \n",
    "    ]\n",
    ")\n",
    "network = Hopfield(alphabet, 4.5)\n",
    "network.train()"
   ]
  },
  {
   "cell_type": "code",
   "execution_count": 8,
   "metadata": {},
   "outputs": [
    {
     "name": "stdout",
     "output_type": "stream",
     "text": [
      "Prediction success? - True\n",
      "Image number: 1.\n",
      "Image: [ 1 -1 -1 -1  1  1  1 -1 -1].\n",
      "Iters for relax: 1\n",
      "Is this image a negative? - True\n"
     ]
    }
   ],
   "source": [
    "test_image = np.array([1, -1, -1, -1, 1, 1, 1, -1, -1])\n",
    "r_iters, state, image_idx, is_negative = network.predict(test_image, 100)\n",
    "if image_idx:\n",
    "    predicted_img = network.neg_images[image_idx] if is_negative else network.images[image_idx]\n",
    "else:\n",
    "    predicted_img = state\n",
    "print(f'Prediction success? - {True if image_idx is not None else False}')\n",
    "print(f'Image number: {image_idx}.\\nImage: {predicted_img}.\\nIters for relax: {r_iters}')\n",
    "print(f'Is this image a negative? - {is_negative}')"
   ]
  }
 ],
 "metadata": {
  "kernelspec": {
   "display_name": ".venv",
   "language": "python",
   "name": "python3"
  },
  "language_info": {
   "codemirror_mode": {
    "name": "ipython",
    "version": 3
   },
   "file_extension": ".py",
   "mimetype": "text/x-python",
   "name": "python",
   "nbconvert_exporter": "python",
   "pygments_lexer": "ipython3",
   "version": "3.11.9"
  }
 },
 "nbformat": 4,
 "nbformat_minor": 2
}
