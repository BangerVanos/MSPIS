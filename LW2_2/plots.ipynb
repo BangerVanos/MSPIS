{
 "cells": [
  {
   "cell_type": "code",
   "execution_count": 15,
   "metadata": {},
   "outputs": [],
   "source": [
    "import numpy as np\n",
    "from hopfield import Hopfield\n",
    "from random import choices\n",
    "import plotly.graph_objects as go"
   ]
  },
  {
   "cell_type": "code",
   "execution_count": 16,
   "metadata": {},
   "outputs": [],
   "source": [
    "IMAGE_DIMENSION = 16"
   ]
  },
  {
   "cell_type": "code",
   "execution_count": 19,
   "metadata": {},
   "outputs": [
    {
     "name": "stdout",
     "output_type": "stream",
     "text": [
      "TRAINING FINISHED ON\n",
      "Epoch 17/10000: max(w17 - w16) = 3.4331228693229576e-09\n",
      "TRAINING FINISHED ON\n",
      "Epoch 17/10000: max(w17 - w16) = 3.4331228693229576e-09\n",
      "TRAINING FINISHED ON\n",
      "Epoch 17/10000: max(w17 - w16) = 3.4331228693229576e-09\n",
      "TRAINING FINISHED ON\n",
      "Epoch 17/10000: max(w17 - w16) = 3.4331228693229576e-09\n",
      "TRAINING FINISHED ON\n",
      "Epoch 17/10000: max(w17 - w16) = 3.4331228693229576e-09\n",
      "TRAINING FINISHED ON\n",
      "Epoch 30/10000: max(w30 - w29) = 6.720381307001588e-09\n",
      "TRAINING FINISHED ON\n",
      "Epoch 30/10000: max(w30 - w29) = 6.441339739371443e-09\n",
      "TRAINING FINISHED ON\n",
      "Epoch 30/10000: max(w30 - w29) = 6.4546274436416695e-09\n",
      "TRAINING FINISHED ON\n",
      "Epoch 30/10000: max(w30 - w29) = 6.441339739371443e-09\n",
      "TRAINING FINISHED ON\n",
      "Epoch 30/10000: max(w30 - w29) = 6.4546274436416695e-09\n",
      "TRAINING FINISHED ON\n",
      "Epoch 43/10000: max(w43 - w42) = 7.738878315954878e-09\n",
      "TRAINING FINISHED ON\n",
      "Epoch 43/10000: max(w43 - w42) = 7.514623867610482e-09\n",
      "TRAINING FINISHED ON\n",
      "Epoch 43/10000: max(w43 - w42) = 7.09495495687662e-09\n",
      "TRAINING FINISHED ON\n",
      "Epoch 43/10000: max(w43 - w42) = 7.178689032105723e-09\n",
      "TRAINING FINISHED ON\n",
      "Epoch 43/10000: max(w43 - w42) = 6.778407279917076e-09\n",
      "TRAINING FINISHED ON\n",
      "Epoch 50/10000: max(w50 - w49) = 8.27602453234988e-09\n",
      "TRAINING FINISHED ON\n",
      "Epoch 50/10000: max(w50 - w49) = 7.960411607665918e-09\n",
      "TRAINING FINISHED ON\n",
      "Epoch 50/10000: max(w50 - w49) = 8.484074942582964e-09\n",
      "TRAINING FINISHED ON\n",
      "Epoch 50/10000: max(w50 - w49) = 7.622622311131977e-09\n",
      "TRAINING FINISHED ON\n",
      "Epoch 50/10000: max(w50 - w49) = 8.177067856163234e-09\n",
      "TRAINING FINISHED ON\n",
      "Epoch 54/10000: max(w54 - w53) = 9.983972926175255e-09\n",
      "TRAINING FINISHED ON\n",
      "Epoch 55/10000: max(w55 - w54) = 7.495857323736033e-09\n",
      "TRAINING FINISHED ON\n",
      "Epoch 55/10000: max(w55 - w54) = 8.768778370082941e-09\n",
      "TRAINING FINISHED ON\n",
      "Epoch 55/10000: max(w55 - w54) = 7.703578441820014e-09\n",
      "TRAINING FINISHED ON\n",
      "Epoch 54/10000: max(w54 - w53) = 9.633006892162399e-09\n",
      "TRAINING FINISHED ON\n",
      "Epoch 109/10000: max(w109 - w108) = 8.896972603089637e-09\n",
      "TRAINING FINISHED ON\n",
      "Epoch 108/10000: max(w108 - w107) = 9.826235047860621e-09\n",
      "TRAINING FINISHED ON\n",
      "Epoch 108/10000: max(w108 - w107) = 9.713927662247102e-09\n",
      "TRAINING FINISHED ON\n",
      "Epoch 108/10000: max(w108 - w107) = 9.859035254855542e-09\n",
      "TRAINING FINISHED ON\n",
      "Epoch 108/10000: max(w108 - w107) = 9.856701677080082e-09\n",
      "TRAINING FINISHED ON\n",
      "Epoch 336/10000: max(w336 - w335) = 9.956430235824598e-09\n",
      "TRAINING FINISHED ON\n",
      "Epoch 336/10000: max(w336 - w335) = 9.672885603606574e-09\n",
      "TRAINING FINISHED ON\n",
      "Epoch 337/10000: max(w337 - w336) = 9.641878184751818e-09\n",
      "TRAINING FINISHED ON\n",
      "Epoch 336/10000: max(w336 - w335) = 9.714451354447817e-09\n",
      "TRAINING FINISHED ON\n",
      "Epoch 339/10000: max(w339 - w338) = 9.70652958010021e-09\n",
      "TRAINING FINISHED ON\n",
      "Epoch 433/10000: max(w433 - w432) = 9.750313001433142e-09\n",
      "TRAINING FINISHED ON\n",
      "Epoch 432/10000: max(w432 - w431) = 9.870191997052302e-09\n",
      "TRAINING FINISHED ON\n",
      "Epoch 431/10000: max(w431 - w430) = 9.821806035148484e-09\n",
      "TRAINING FINISHED ON\n",
      "Epoch 430/10000: max(w430 - w429) = 9.834660419372199e-09\n",
      "TRAINING FINISHED ON\n",
      "Epoch 434/10000: max(w434 - w433) = 9.698611691533188e-09\n",
      "TRAINING FINISHED ON\n",
      "Epoch 647/10000: max(w647 - w646) = 9.903461273275127e-09\n",
      "TRAINING FINISHED ON\n",
      "Epoch 647/10000: max(w647 - w646) = 9.83191073000711e-09\n",
      "TRAINING FINISHED ON\n",
      "Epoch 649/10000: max(w649 - w648) = 9.923790567079038e-09\n",
      "TRAINING FINISHED ON\n",
      "Epoch 651/10000: max(w651 - w650) = 9.961562463800533e-09\n",
      "TRAINING FINISHED ON\n",
      "Epoch 650/10000: max(w650 - w649) = 9.800821154648531e-09\n"
     ]
    },
    {
     "data": {
      "application/vnd.plotly.v1+json": {
       "config": {
        "plotlyServerURL": "https://plot.ly"
       },
       "data": [
        {
         "mode": "markers",
         "name": "Все наблюдения",
         "type": "scatter",
         "x": [
          2,
          2,
          2,
          2,
          2,
          3,
          3,
          3,
          3,
          3,
          4,
          4,
          4,
          4,
          4,
          5,
          5,
          5,
          5,
          5,
          6,
          6,
          6,
          6,
          6,
          7,
          7,
          7,
          7,
          7,
          8,
          8,
          8,
          8,
          8,
          9,
          9,
          9,
          9,
          9,
          10,
          10,
          10,
          10,
          10
         ],
         "y": [
          17,
          17,
          17,
          17,
          17,
          30,
          30,
          30,
          30,
          30,
          43,
          43,
          43,
          43,
          43,
          50,
          50,
          50,
          50,
          50,
          54,
          55,
          55,
          55,
          54,
          109,
          108,
          108,
          108,
          108,
          336,
          336,
          337,
          336,
          339,
          433,
          432,
          431,
          430,
          434,
          647,
          647,
          649,
          651,
          650
         ]
        },
        {
         "mode": "lines+markers",
         "name": "Средние значения",
         "type": "scatter",
         "x": [
          2,
          3,
          4,
          5,
          6,
          7,
          8,
          9,
          10
         ],
         "y": [
          17,
          30,
          43,
          50,
          54.6,
          108.2,
          336.8,
          432,
          648.8
         ]
        }
       ],
       "layout": {
        "font": {
         "size": 20
        },
        "height": 720,
        "template": {
         "data": {
          "bar": [
           {
            "error_x": {
             "color": "#2a3f5f"
            },
            "error_y": {
             "color": "#2a3f5f"
            },
            "marker": {
             "line": {
              "color": "#E5ECF6",
              "width": 0.5
             },
             "pattern": {
              "fillmode": "overlay",
              "size": 10,
              "solidity": 0.2
             }
            },
            "type": "bar"
           }
          ],
          "barpolar": [
           {
            "marker": {
             "line": {
              "color": "#E5ECF6",
              "width": 0.5
             },
             "pattern": {
              "fillmode": "overlay",
              "size": 10,
              "solidity": 0.2
             }
            },
            "type": "barpolar"
           }
          ],
          "carpet": [
           {
            "aaxis": {
             "endlinecolor": "#2a3f5f",
             "gridcolor": "white",
             "linecolor": "white",
             "minorgridcolor": "white",
             "startlinecolor": "#2a3f5f"
            },
            "baxis": {
             "endlinecolor": "#2a3f5f",
             "gridcolor": "white",
             "linecolor": "white",
             "minorgridcolor": "white",
             "startlinecolor": "#2a3f5f"
            },
            "type": "carpet"
           }
          ],
          "choropleth": [
           {
            "colorbar": {
             "outlinewidth": 0,
             "ticks": ""
            },
            "type": "choropleth"
           }
          ],
          "contour": [
           {
            "colorbar": {
             "outlinewidth": 0,
             "ticks": ""
            },
            "colorscale": [
             [
              0,
              "#0d0887"
             ],
             [
              0.1111111111111111,
              "#46039f"
             ],
             [
              0.2222222222222222,
              "#7201a8"
             ],
             [
              0.3333333333333333,
              "#9c179e"
             ],
             [
              0.4444444444444444,
              "#bd3786"
             ],
             [
              0.5555555555555556,
              "#d8576b"
             ],
             [
              0.6666666666666666,
              "#ed7953"
             ],
             [
              0.7777777777777778,
              "#fb9f3a"
             ],
             [
              0.8888888888888888,
              "#fdca26"
             ],
             [
              1,
              "#f0f921"
             ]
            ],
            "type": "contour"
           }
          ],
          "contourcarpet": [
           {
            "colorbar": {
             "outlinewidth": 0,
             "ticks": ""
            },
            "type": "contourcarpet"
           }
          ],
          "heatmap": [
           {
            "colorbar": {
             "outlinewidth": 0,
             "ticks": ""
            },
            "colorscale": [
             [
              0,
              "#0d0887"
             ],
             [
              0.1111111111111111,
              "#46039f"
             ],
             [
              0.2222222222222222,
              "#7201a8"
             ],
             [
              0.3333333333333333,
              "#9c179e"
             ],
             [
              0.4444444444444444,
              "#bd3786"
             ],
             [
              0.5555555555555556,
              "#d8576b"
             ],
             [
              0.6666666666666666,
              "#ed7953"
             ],
             [
              0.7777777777777778,
              "#fb9f3a"
             ],
             [
              0.8888888888888888,
              "#fdca26"
             ],
             [
              1,
              "#f0f921"
             ]
            ],
            "type": "heatmap"
           }
          ],
          "heatmapgl": [
           {
            "colorbar": {
             "outlinewidth": 0,
             "ticks": ""
            },
            "colorscale": [
             [
              0,
              "#0d0887"
             ],
             [
              0.1111111111111111,
              "#46039f"
             ],
             [
              0.2222222222222222,
              "#7201a8"
             ],
             [
              0.3333333333333333,
              "#9c179e"
             ],
             [
              0.4444444444444444,
              "#bd3786"
             ],
             [
              0.5555555555555556,
              "#d8576b"
             ],
             [
              0.6666666666666666,
              "#ed7953"
             ],
             [
              0.7777777777777778,
              "#fb9f3a"
             ],
             [
              0.8888888888888888,
              "#fdca26"
             ],
             [
              1,
              "#f0f921"
             ]
            ],
            "type": "heatmapgl"
           }
          ],
          "histogram": [
           {
            "marker": {
             "pattern": {
              "fillmode": "overlay",
              "size": 10,
              "solidity": 0.2
             }
            },
            "type": "histogram"
           }
          ],
          "histogram2d": [
           {
            "colorbar": {
             "outlinewidth": 0,
             "ticks": ""
            },
            "colorscale": [
             [
              0,
              "#0d0887"
             ],
             [
              0.1111111111111111,
              "#46039f"
             ],
             [
              0.2222222222222222,
              "#7201a8"
             ],
             [
              0.3333333333333333,
              "#9c179e"
             ],
             [
              0.4444444444444444,
              "#bd3786"
             ],
             [
              0.5555555555555556,
              "#d8576b"
             ],
             [
              0.6666666666666666,
              "#ed7953"
             ],
             [
              0.7777777777777778,
              "#fb9f3a"
             ],
             [
              0.8888888888888888,
              "#fdca26"
             ],
             [
              1,
              "#f0f921"
             ]
            ],
            "type": "histogram2d"
           }
          ],
          "histogram2dcontour": [
           {
            "colorbar": {
             "outlinewidth": 0,
             "ticks": ""
            },
            "colorscale": [
             [
              0,
              "#0d0887"
             ],
             [
              0.1111111111111111,
              "#46039f"
             ],
             [
              0.2222222222222222,
              "#7201a8"
             ],
             [
              0.3333333333333333,
              "#9c179e"
             ],
             [
              0.4444444444444444,
              "#bd3786"
             ],
             [
              0.5555555555555556,
              "#d8576b"
             ],
             [
              0.6666666666666666,
              "#ed7953"
             ],
             [
              0.7777777777777778,
              "#fb9f3a"
             ],
             [
              0.8888888888888888,
              "#fdca26"
             ],
             [
              1,
              "#f0f921"
             ]
            ],
            "type": "histogram2dcontour"
           }
          ],
          "mesh3d": [
           {
            "colorbar": {
             "outlinewidth": 0,
             "ticks": ""
            },
            "type": "mesh3d"
           }
          ],
          "parcoords": [
           {
            "line": {
             "colorbar": {
              "outlinewidth": 0,
              "ticks": ""
             }
            },
            "type": "parcoords"
           }
          ],
          "pie": [
           {
            "automargin": true,
            "type": "pie"
           }
          ],
          "scatter": [
           {
            "fillpattern": {
             "fillmode": "overlay",
             "size": 10,
             "solidity": 0.2
            },
            "type": "scatter"
           }
          ],
          "scatter3d": [
           {
            "line": {
             "colorbar": {
              "outlinewidth": 0,
              "ticks": ""
             }
            },
            "marker": {
             "colorbar": {
              "outlinewidth": 0,
              "ticks": ""
             }
            },
            "type": "scatter3d"
           }
          ],
          "scattercarpet": [
           {
            "marker": {
             "colorbar": {
              "outlinewidth": 0,
              "ticks": ""
             }
            },
            "type": "scattercarpet"
           }
          ],
          "scattergeo": [
           {
            "marker": {
             "colorbar": {
              "outlinewidth": 0,
              "ticks": ""
             }
            },
            "type": "scattergeo"
           }
          ],
          "scattergl": [
           {
            "marker": {
             "colorbar": {
              "outlinewidth": 0,
              "ticks": ""
             }
            },
            "type": "scattergl"
           }
          ],
          "scattermapbox": [
           {
            "marker": {
             "colorbar": {
              "outlinewidth": 0,
              "ticks": ""
             }
            },
            "type": "scattermapbox"
           }
          ],
          "scatterpolar": [
           {
            "marker": {
             "colorbar": {
              "outlinewidth": 0,
              "ticks": ""
             }
            },
            "type": "scatterpolar"
           }
          ],
          "scatterpolargl": [
           {
            "marker": {
             "colorbar": {
              "outlinewidth": 0,
              "ticks": ""
             }
            },
            "type": "scatterpolargl"
           }
          ],
          "scatterternary": [
           {
            "marker": {
             "colorbar": {
              "outlinewidth": 0,
              "ticks": ""
             }
            },
            "type": "scatterternary"
           }
          ],
          "surface": [
           {
            "colorbar": {
             "outlinewidth": 0,
             "ticks": ""
            },
            "colorscale": [
             [
              0,
              "#0d0887"
             ],
             [
              0.1111111111111111,
              "#46039f"
             ],
             [
              0.2222222222222222,
              "#7201a8"
             ],
             [
              0.3333333333333333,
              "#9c179e"
             ],
             [
              0.4444444444444444,
              "#bd3786"
             ],
             [
              0.5555555555555556,
              "#d8576b"
             ],
             [
              0.6666666666666666,
              "#ed7953"
             ],
             [
              0.7777777777777778,
              "#fb9f3a"
             ],
             [
              0.8888888888888888,
              "#fdca26"
             ],
             [
              1,
              "#f0f921"
             ]
            ],
            "type": "surface"
           }
          ],
          "table": [
           {
            "cells": {
             "fill": {
              "color": "#EBF0F8"
             },
             "line": {
              "color": "white"
             }
            },
            "header": {
             "fill": {
              "color": "#C8D4E3"
             },
             "line": {
              "color": "white"
             }
            },
            "type": "table"
           }
          ]
         },
         "layout": {
          "annotationdefaults": {
           "arrowcolor": "#2a3f5f",
           "arrowhead": 0,
           "arrowwidth": 1
          },
          "autotypenumbers": "strict",
          "coloraxis": {
           "colorbar": {
            "outlinewidth": 0,
            "ticks": ""
           }
          },
          "colorscale": {
           "diverging": [
            [
             0,
             "#8e0152"
            ],
            [
             0.1,
             "#c51b7d"
            ],
            [
             0.2,
             "#de77ae"
            ],
            [
             0.3,
             "#f1b6da"
            ],
            [
             0.4,
             "#fde0ef"
            ],
            [
             0.5,
             "#f7f7f7"
            ],
            [
             0.6,
             "#e6f5d0"
            ],
            [
             0.7,
             "#b8e186"
            ],
            [
             0.8,
             "#7fbc41"
            ],
            [
             0.9,
             "#4d9221"
            ],
            [
             1,
             "#276419"
            ]
           ],
           "sequential": [
            [
             0,
             "#0d0887"
            ],
            [
             0.1111111111111111,
             "#46039f"
            ],
            [
             0.2222222222222222,
             "#7201a8"
            ],
            [
             0.3333333333333333,
             "#9c179e"
            ],
            [
             0.4444444444444444,
             "#bd3786"
            ],
            [
             0.5555555555555556,
             "#d8576b"
            ],
            [
             0.6666666666666666,
             "#ed7953"
            ],
            [
             0.7777777777777778,
             "#fb9f3a"
            ],
            [
             0.8888888888888888,
             "#fdca26"
            ],
            [
             1,
             "#f0f921"
            ]
           ],
           "sequentialminus": [
            [
             0,
             "#0d0887"
            ],
            [
             0.1111111111111111,
             "#46039f"
            ],
            [
             0.2222222222222222,
             "#7201a8"
            ],
            [
             0.3333333333333333,
             "#9c179e"
            ],
            [
             0.4444444444444444,
             "#bd3786"
            ],
            [
             0.5555555555555556,
             "#d8576b"
            ],
            [
             0.6666666666666666,
             "#ed7953"
            ],
            [
             0.7777777777777778,
             "#fb9f3a"
            ],
            [
             0.8888888888888888,
             "#fdca26"
            ],
            [
             1,
             "#f0f921"
            ]
           ]
          },
          "colorway": [
           "#636efa",
           "#EF553B",
           "#00cc96",
           "#ab63fa",
           "#FFA15A",
           "#19d3f3",
           "#FF6692",
           "#B6E880",
           "#FF97FF",
           "#FECB52"
          ],
          "font": {
           "color": "#2a3f5f"
          },
          "geo": {
           "bgcolor": "white",
           "lakecolor": "white",
           "landcolor": "#E5ECF6",
           "showlakes": true,
           "showland": true,
           "subunitcolor": "white"
          },
          "hoverlabel": {
           "align": "left"
          },
          "hovermode": "closest",
          "mapbox": {
           "style": "light"
          },
          "paper_bgcolor": "white",
          "plot_bgcolor": "#E5ECF6",
          "polar": {
           "angularaxis": {
            "gridcolor": "white",
            "linecolor": "white",
            "ticks": ""
           },
           "bgcolor": "#E5ECF6",
           "radialaxis": {
            "gridcolor": "white",
            "linecolor": "white",
            "ticks": ""
           }
          },
          "scene": {
           "xaxis": {
            "backgroundcolor": "#E5ECF6",
            "gridcolor": "white",
            "gridwidth": 2,
            "linecolor": "white",
            "showbackground": true,
            "ticks": "",
            "zerolinecolor": "white"
           },
           "yaxis": {
            "backgroundcolor": "#E5ECF6",
            "gridcolor": "white",
            "gridwidth": 2,
            "linecolor": "white",
            "showbackground": true,
            "ticks": "",
            "zerolinecolor": "white"
           },
           "zaxis": {
            "backgroundcolor": "#E5ECF6",
            "gridcolor": "white",
            "gridwidth": 2,
            "linecolor": "white",
            "showbackground": true,
            "ticks": "",
            "zerolinecolor": "white"
           }
          },
          "shapedefaults": {
           "line": {
            "color": "#2a3f5f"
           }
          },
          "ternary": {
           "aaxis": {
            "gridcolor": "white",
            "linecolor": "white",
            "ticks": ""
           },
           "baxis": {
            "gridcolor": "white",
            "linecolor": "white",
            "ticks": ""
           },
           "bgcolor": "#E5ECF6",
           "caxis": {
            "gridcolor": "white",
            "linecolor": "white",
            "ticks": ""
           }
          },
          "title": {
           "x": 0.05
          },
          "xaxis": {
           "automargin": true,
           "gridcolor": "white",
           "linecolor": "white",
           "ticks": "",
           "title": {
            "standoff": 15
           },
           "zerolinecolor": "white",
           "zerolinewidth": 2
          },
          "yaxis": {
           "automargin": true,
           "gridcolor": "white",
           "linecolor": "white",
           "ticks": "",
           "title": {
            "standoff": 15
           },
           "zerolinecolor": "white",
           "zerolinewidth": 2
          }
         }
        },
        "title": {
         "text": "Зависимость количества итераций обучения от количества образов"
        },
        "width": 1280,
        "xaxis": {
         "title": {
          "text": "Количество предъявляемых образов"
         }
        },
        "yaxis": {
         "title": {
          "text": "Количество итераций обучения"
         }
        }
       }
      }
     },
     "metadata": {},
     "output_type": "display_data"
    },
    {
     "name": "stdout",
     "output_type": "stream",
     "text": [
      "Images amount: 2; Mean prediction successes: 2.0\n",
      "Images amount: 3; Mean prediction successes: 3.0\n",
      "Images amount: 4; Mean prediction successes: 4.0\n",
      "Images amount: 5; Mean prediction successes: 5.0\n",
      "Images amount: 6; Mean prediction successes: 6.0\n",
      "Images amount: 7; Mean prediction successes: 7.0\n",
      "Images amount: 8; Mean prediction successes: 8.0\n",
      "Images amount: 9; Mean prediction successes: 9.0\n",
      "Images amount: 10; Mean prediction successes: 10.0\n"
     ]
    }
   ],
   "source": [
    "# Relation between images amount and training epochs\n",
    "experiments_amount = 5\n",
    "\n",
    "np.random.seed(12345)\n",
    "images_amount = range(2, 11)\n",
    "\n",
    "all_training_epochs = []\n",
    "training_epochs_mean = []\n",
    "successes_mean: dict[int, float] = {}\n",
    "\n",
    "all_images_amount = []\n",
    "\n",
    "for amount in images_amount:\n",
    "\n",
    "    # Creating images dataset\n",
    "    images = []\n",
    "    while True:\n",
    "        image = tuple(np.random.choice([-1, 1], size=IMAGE_DIMENSION)\n",
    "                      .tolist())\n",
    "        if image not in images:\n",
    "            images.append(image)\n",
    "        if len(images) >= amount:\n",
    "            break\n",
    "    \n",
    "    # To numpy array\n",
    "    images = np.array(images)\n",
    "\n",
    "    # Training network for five times with shuffled dataset\n",
    "    epochs_sum = 0\n",
    "    successes: int = 0\n",
    "    for _ in range(experiments_amount):        \n",
    "        all_images_amount.append(amount)\n",
    "        np.random.shuffle(images)\n",
    "        network = Hopfield(images, 0.8)\n",
    "        network.train(1e-8, 10000, 2000)\n",
    "        all_training_epochs.append(network.epochs)\n",
    "        epochs_sum += network.epochs\n",
    "\n",
    "        #Check whether trained network could recognize images from dataset        \n",
    "        for image in images:\n",
    "            _, _, image_idx, _ = network.predict(image, 100)\n",
    "            successes += 1 if image_idx is not None else 0        \n",
    "    \n",
    "    # Mean training epochs amount    \n",
    "    training_epochs_mean.append(epochs_sum / experiments_amount)\n",
    "\n",
    "    # Average prediction successes for image amount\n",
    "    successes_mean[amount] = successes / experiments_amount\n",
    "\n",
    "\n",
    "# Plotting results\n",
    "fig = go.Figure()\n",
    "fig.add_trace(\n",
    "    go.Scatter(x=all_images_amount, y=all_training_epochs,\n",
    "               name='Все наблюдения', mode='markers')\n",
    ")\n",
    "fig.add_trace(\n",
    "    go.Scatter(x=list(images_amount), y=training_epochs_mean,\n",
    "               name='Средние значения', mode='lines+markers')\n",
    ")\n",
    "fig.update_layout(\n",
    "    title='Зависимость количества итераций обучения от количества образов',\n",
    "    font=dict(size=20),\n",
    "    xaxis=dict(title='Количество предъявляемых образов'),\n",
    "    yaxis=dict(title='Количество итераций обучения'),\n",
    "    width=1280,\n",
    "    height=720\n",
    ")\n",
    "fig.show()\n",
    "for amount, predicted_successes_mean in successes_mean.items():\n",
    "    print(f'Images amount: {amount}; Mean prediction successes: {predicted_successes_mean}')"
   ]
  },
  {
   "cell_type": "code",
   "execution_count": null,
   "metadata": {},
   "outputs": [],
   "source": []
  }
 ],
 "metadata": {
  "kernelspec": {
   "display_name": ".venv",
   "language": "python",
   "name": "python3"
  },
  "language_info": {
   "codemirror_mode": {
    "name": "ipython",
    "version": 3
   },
   "file_extension": ".py",
   "mimetype": "text/x-python",
   "name": "python",
   "nbconvert_exporter": "python",
   "pygments_lexer": "ipython3",
   "version": "3.11.9"
  }
 },
 "nbformat": 4,
 "nbformat_minor": 2
}
