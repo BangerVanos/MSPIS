{
 "cells": [
  {
   "cell_type": "code",
   "execution_count": 1,
   "metadata": {},
   "outputs": [],
   "source": [
    "import numpy as np\n",
    "from gru import (\n",
    "    # GRUModel,\n",
    "    fibonacci_generator,\n",
    "    one_by_n_generator,\n",
    "    plus_one_minus_one_generator,\n",
    "    squared_generator,\n",
    "    half_generator,\n",
    "    arithmetic_progression,\n",
    "    create_sliding_window_batches,\n",
    "    mape\n",
    ")\n",
    "from gru2 import GRUModel\n",
    "import plotly.graph_objects as go"
   ]
  },
  {
   "cell_type": "code",
   "execution_count": 2,
   "metadata": {},
   "outputs": [],
   "source": [
    "# seq_length = 10\n",
    "# window_size = 5\n",
    "# batch_size = 2\n",
    "# hidden_size = 4\n",
    "# output_size = 3\n",
    "\n",
    "# sequence = list(fibonacci_generator(seq_length))\n",
    "# X, y = create_sliding_window_batches(sequence, window_size, batch_size, output_size)\n",
    "# X_train, y_train = X[0:int(len(X) * 0.8)], y[0:int(len(X) * 0.8)][-1]\n",
    "# X_test, y_test = X[int(len(X) * 0.8):], y[int(len(X) * 0.8):][-1]\n",
    "\n",
    "# verbosity = 1000\n",
    "\n",
    "# max_mape = 1e-3\n",
    "# learn_until_meet_mape = True\n",
    "\n",
    "# model = GRUModel(window_size, hidden_size, output_size)\n",
    "\n",
    "# # Параметры обучения\n",
    "# lr = 1e-4\n",
    "# epochs = 5000\n",
    "\n",
    "# model.train(X_train, y_train, lr, epochs,\n",
    "#             True, max_mape, verbosity)\n",
    "# Проверим результат после обучения\n",
    "# y_pred, _, _ = model.forward(X_train)\n",
    "# print(\"Предсказание после обучения:\\n\", y_pred)\n",
    "# print(\"Истинное значение:\\n\", y_train)\n",
    "# print(f\"MAPE: {mape(y_train, y_pred) * 100:.4f}%\")\n",
    "\n",
    "# print('TEST')\n",
    "# y_pred, _, _ = model.forward(X_test)\n",
    "# print(\"Предсказания на тестовой выборке:\\n\", y_pred)\n",
    "# print(\"Истинное значение на тестовой выборке:\\n\", y_test)\n",
    "# print(f\"MAPE: {mape(y_test, y_pred) * 100:.4f}%\")  "
   ]
  },
  {
   "cell_type": "code",
   "execution_count": 3,
   "metadata": {},
   "outputs": [
    {
     "name": "stdout",
     "output_type": "stream",
     "text": [
      "TRAINING FINISHED\n",
      "Epoch 100/100, Loss: 108.112637\n",
      "MAPE: 0.741717\n",
      "TRAINING FINISHED\n",
      "Epoch 100/100, Loss: 111.936476\n",
      "MAPE: 0.747157\n",
      "TRAINING FINISHED\n",
      "Epoch 100/100, Loss: 105.177965\n",
      "MAPE: 0.729561\n",
      "TRAINING FINISHED\n",
      "Epoch 100/100, Loss: 95.513908\n",
      "MAPE: 0.691203\n",
      "TRAINING FINISHED\n",
      "Epoch 100/100, Loss: 90.055349\n",
      "MAPE: 0.661583\n",
      "TRAINING FINISHED\n",
      "Epoch 200/200, Loss: 34.816310\n",
      "MAPE: 0.382981\n",
      "TRAINING FINISHED\n",
      "Epoch 200/200, Loss: 34.639313\n",
      "MAPE: 0.383373\n",
      "TRAINING FINISHED\n",
      "Epoch 200/200, Loss: 43.633149\n",
      "MAPE: 0.440270\n",
      "TRAINING FINISHED\n",
      "Epoch 200/200, Loss: 55.456931\n",
      "MAPE: 0.478182\n",
      "TRAINING FINISHED\n",
      "Epoch 200/200, Loss: 37.557318\n",
      "MAPE: 0.406644\n",
      "TRAINING FINISHED\n",
      "Epoch 300/300, Loss: 21.268230\n",
      "MAPE: 0.282434\n",
      "TRAINING FINISHED\n",
      "Epoch 300/300, Loss: 19.416605\n",
      "MAPE: 0.275715\n",
      "TRAINING FINISHED\n",
      "Epoch 300/300, Loss: 42.093131\n",
      "MAPE: 0.421036\n",
      "TRAINING FINISHED\n",
      "Epoch 300/300, Loss: 14.457497\n",
      "MAPE: 0.223158\n",
      "TRAINING FINISHED\n",
      "Epoch 300/300, Loss: 11.303788\n",
      "MAPE: 0.186387\n",
      "TRAINING FINISHED\n",
      "Epoch 400/400, Loss: 10.113467\n",
      "MAPE: 0.157375\n",
      "TRAINING FINISHED\n",
      "Epoch 400/400, Loss: 5.417098\n",
      "MAPE: 0.111479\n",
      "TRAINING FINISHED\n",
      "Epoch 400/400, Loss: 6.126346\n",
      "MAPE: 0.115414\n",
      "TRAINING FINISHED\n",
      "Epoch 400/400, Loss: 5.293231\n",
      "MAPE: 0.111753\n",
      "TRAINING FINISHED\n",
      "Epoch 400/400, Loss: 8.278061\n",
      "MAPE: 0.147325\n",
      "TRAINING FINISHED\n",
      "Epoch 500/500, Loss: 3.879475\n",
      "MAPE: 0.106402\n",
      "TRAINING FINISHED\n",
      "Epoch 500/500, Loss: 2.831082\n",
      "MAPE: 0.099882\n",
      "TRAINING FINISHED\n",
      "Epoch 500/500, Loss: 4.296723\n",
      "MAPE: 0.106849\n",
      "TRAINING FINISHED\n",
      "Epoch 500/500, Loss: 4.303237\n",
      "MAPE: 0.108586\n",
      "TRAINING FINISHED\n",
      "Epoch 500/500, Loss: 3.963632\n",
      "MAPE: 0.106276\n",
      "TRAINING FINISHED\n",
      "Epoch 600/600, Loss: 2.974986\n",
      "MAPE: 0.106887\n",
      "TRAINING FINISHED\n",
      "Epoch 600/600, Loss: 3.792368\n",
      "MAPE: 0.120791\n",
      "TRAINING FINISHED\n",
      "Epoch 600/600, Loss: 3.166954\n",
      "MAPE: 0.106466\n",
      "TRAINING FINISHED\n",
      "Epoch 600/600, Loss: 2.757165\n",
      "MAPE: 0.102580\n",
      "TRAINING FINISHED\n",
      "Epoch 600/600, Loss: 2.646687\n",
      "MAPE: 0.098808\n",
      "TRAINING FINISHED\n",
      "Epoch 700/700, Loss: 2.777608\n",
      "MAPE: 0.106502\n",
      "TRAINING FINISHED\n",
      "Epoch 700/700, Loss: 3.401904\n",
      "MAPE: 0.115607\n",
      "TRAINING FINISHED\n",
      "Epoch 700/700, Loss: 2.432210\n",
      "MAPE: 0.098243\n",
      "TRAINING FINISHED\n",
      "Epoch 700/700, Loss: 2.939510\n",
      "MAPE: 0.105029\n",
      "TRAINING FINISHED\n",
      "Epoch 700/700, Loss: 2.603492\n",
      "MAPE: 0.103836\n",
      "TRAINING FINISHED\n",
      "Epoch 800/800, Loss: 2.972355\n",
      "MAPE: 0.111883\n",
      "TRAINING FINISHED\n",
      "Epoch 800/800, Loss: 2.482953\n",
      "MAPE: 0.102782\n",
      "TRAINING FINISHED\n",
      "Epoch 800/800, Loss: 3.037629\n",
      "MAPE: 0.117155\n",
      "TRAINING FINISHED\n",
      "Epoch 800/800, Loss: 2.333516\n",
      "MAPE: 0.100719\n",
      "TRAINING FINISHED\n",
      "Epoch 800/800, Loss: 2.774361\n",
      "MAPE: 0.104467\n",
      "TRAINING FINISHED\n",
      "Epoch 900/900, Loss: 2.121041\n",
      "MAPE: 0.092217\n",
      "TRAINING FINISHED\n",
      "Epoch 900/900, Loss: 2.408991\n",
      "MAPE: 0.101458\n",
      "TRAINING FINISHED\n",
      "Epoch 900/900, Loss: 2.264411\n",
      "MAPE: 0.099416\n",
      "TRAINING FINISHED\n",
      "Epoch 900/900, Loss: 2.329414\n",
      "MAPE: 0.099217\n",
      "TRAINING FINISHED\n",
      "Epoch 900/900, Loss: 2.578466\n",
      "MAPE: 0.102321\n",
      "TRAINING FINISHED\n",
      "Epoch 1000/1000, Loss: 2.299075\n",
      "MAPE: 0.098499\n",
      "TRAINING FINISHED\n",
      "Epoch 1000/1000, Loss: 2.618303\n",
      "MAPE: 0.109529\n",
      "TRAINING FINISHED\n",
      "Epoch 1000/1000, Loss: 1.630302\n",
      "MAPE: 0.079995\n",
      "TRAINING FINISHED\n",
      "Epoch 1000/1000, Loss: 2.306288\n",
      "MAPE: 0.103809\n",
      "TRAINING FINISHED\n",
      "Epoch 1000/1000, Loss: 2.141544\n",
      "MAPE: 0.093464\n",
      "TRAINING FINISHED\n",
      "Epoch 1100/1100, Loss: 1.614825\n",
      "MAPE: 0.079358\n",
      "TRAINING FINISHED\n",
      "Epoch 1100/1100, Loss: 2.033022\n",
      "MAPE: 0.093916\n",
      "TRAINING FINISHED\n",
      "Epoch 1100/1100, Loss: 2.012315\n",
      "MAPE: 0.091833\n",
      "TRAINING FINISHED\n",
      "Epoch 1100/1100, Loss: 1.782456\n",
      "MAPE: 0.087237\n",
      "TRAINING FINISHED\n",
      "Epoch 1100/1100, Loss: 2.128267\n",
      "MAPE: 0.093791\n",
      "TRAINING FINISHED\n",
      "Epoch 1200/1200, Loss: 2.353766\n",
      "MAPE: 0.101881\n",
      "TRAINING FINISHED\n",
      "Epoch 1200/1200, Loss: 1.761838\n",
      "MAPE: 0.089574\n",
      "TRAINING FINISHED\n",
      "Epoch 1200/1200, Loss: 2.562194\n",
      "MAPE: 0.107556\n",
      "TRAINING FINISHED\n",
      "Epoch 1200/1200, Loss: 1.667326\n",
      "MAPE: 0.083223\n",
      "TRAINING FINISHED\n",
      "Epoch 1200/1200, Loss: 1.376979\n",
      "MAPE: 0.073347\n",
      "TRAINING FINISHED\n",
      "Epoch 1300/1300, Loss: 2.358179\n",
      "MAPE: 0.100366\n",
      "TRAINING FINISHED\n",
      "Epoch 1300/1300, Loss: 1.553620\n",
      "MAPE: 0.082723\n",
      "TRAINING FINISHED\n",
      "Epoch 1300/1300, Loss: 1.454757\n",
      "MAPE: 0.080314\n",
      "TRAINING FINISHED\n",
      "Epoch 1300/1300, Loss: 1.539447\n",
      "MAPE: 0.081017\n",
      "TRAINING FINISHED\n",
      "Epoch 1300/1300, Loss: 2.217157\n",
      "MAPE: 0.099376\n",
      "TRAINING FINISHED\n",
      "Epoch 1400/1400, Loss: 1.511629\n",
      "MAPE: 0.075915\n",
      "TRAINING FINISHED\n",
      "Epoch 1400/1400, Loss: 1.913218\n",
      "MAPE: 0.092866\n",
      "TRAINING FINISHED\n",
      "Epoch 1400/1400, Loss: 1.492237\n",
      "MAPE: 0.082225\n",
      "TRAINING FINISHED\n",
      "Epoch 1400/1400, Loss: 2.076224\n",
      "MAPE: 0.095756\n",
      "TRAINING FINISHED\n",
      "Epoch 1400/1400, Loss: 1.838903\n",
      "MAPE: 0.088439\n",
      "TRAINING FINISHED\n",
      "Epoch 1500/1500, Loss: 1.852115\n",
      "MAPE: 0.093500\n",
      "TRAINING FINISHED\n",
      "Epoch 1500/1500, Loss: 1.743062\n",
      "MAPE: 0.093169\n",
      "TRAINING FINISHED\n",
      "Epoch 1500/1500, Loss: 1.812050\n",
      "MAPE: 0.088945\n",
      "TRAINING FINISHED\n",
      "Epoch 1500/1500, Loss: 1.954428\n",
      "MAPE: 0.095483\n",
      "TRAINING FINISHED\n",
      "Epoch 1500/1500, Loss: 1.576694\n",
      "MAPE: 0.085876\n",
      "TRAINING FINISHED\n",
      "Epoch 1600/1600, Loss: 1.541135\n",
      "MAPE: 0.081748\n",
      "TRAINING FINISHED\n",
      "Epoch 1600/1600, Loss: 1.800983\n",
      "MAPE: 0.090808\n",
      "TRAINING FINISHED\n",
      "Epoch 1600/1600, Loss: 1.361323\n",
      "MAPE: 0.078803\n",
      "TRAINING FINISHED\n",
      "Epoch 1600/1600, Loss: 1.879033\n",
      "MAPE: 0.091985\n",
      "TRAINING FINISHED\n",
      "Epoch 1600/1600, Loss: 1.616710\n",
      "MAPE: 0.088519\n",
      "TRAINING FINISHED\n",
      "Epoch 1700/1700, Loss: 1.388561\n",
      "MAPE: 0.077443\n",
      "TRAINING FINISHED\n",
      "Epoch 1700/1700, Loss: 0.989682\n",
      "MAPE: 0.068164\n",
      "TRAINING FINISHED\n",
      "Epoch 1700/1700, Loss: 1.113558\n",
      "MAPE: 0.074416\n",
      "TRAINING FINISHED\n",
      "Epoch 1700/1700, Loss: 1.136664\n",
      "MAPE: 0.073120\n",
      "TRAINING FINISHED\n",
      "Epoch 1700/1700, Loss: 1.210221\n",
      "MAPE: 0.075560\n",
      "TRAINING FINISHED\n",
      "Epoch 1800/1800, Loss: 1.313543\n",
      "MAPE: 0.079401\n",
      "TRAINING FINISHED\n",
      "Epoch 1800/1800, Loss: 1.729713\n",
      "MAPE: 0.089144\n",
      "TRAINING FINISHED\n",
      "Epoch 1800/1800, Loss: 1.678834\n",
      "MAPE: 0.088997\n",
      "TRAINING FINISHED\n",
      "Epoch 1800/1800, Loss: 1.413715\n",
      "MAPE: 0.079205\n",
      "TRAINING FINISHED\n",
      "Epoch 1800/1800, Loss: 1.058099\n",
      "MAPE: 0.069417\n",
      "TRAINING FINISHED\n",
      "Epoch 1900/1900, Loss: 0.912904\n",
      "MAPE: 0.063896\n",
      "TRAINING FINISHED\n",
      "Epoch 1900/1900, Loss: 1.288730\n",
      "MAPE: 0.077138\n",
      "TRAINING FINISHED\n",
      "Epoch 1900/1900, Loss: 1.259805\n",
      "MAPE: 0.078758\n",
      "TRAINING FINISHED\n",
      "Epoch 1900/1900, Loss: 1.321649\n",
      "MAPE: 0.079097\n",
      "TRAINING FINISHED\n",
      "Epoch 1900/1900, Loss: 1.493178\n",
      "MAPE: 0.090571\n",
      "TRAINING FINISHED\n",
      "Epoch 2000/2000, Loss: 0.988888\n",
      "MAPE: 0.068950\n",
      "TRAINING FINISHED\n",
      "Epoch 2000/2000, Loss: 1.239800\n",
      "MAPE: 0.076413\n",
      "TRAINING FINISHED\n",
      "Epoch 2000/2000, Loss: 1.295906\n",
      "MAPE: 0.078183\n",
      "TRAINING FINISHED\n",
      "Epoch 2000/2000, Loss: 1.342502\n",
      "MAPE: 0.081457\n",
      "TRAINING FINISHED\n",
      "Epoch 2000/2000, Loss: 1.074399\n",
      "MAPE: 0.076327\n"
     ]
    }
   ],
   "source": [
    "experiments_amount = 5\n",
    "# epochs = np.linspace(1000, 35000, endpoint=True, num=10).astype(np.int32).tolist()\n",
    "epochs = list(range(100, 2100, 100))\n",
    "\n",
    "# np.random.seed(12345)\n",
    "\n",
    "all_mapes = []\n",
    "mapes_mean = []\n",
    "\n",
    "all_epochs: list[int] = []\n",
    "\n",
    "seq_length = 20\n",
    "window_size = 5\n",
    "batch_size = 2\n",
    "hidden_size = 10\n",
    "output_size = 3\n",
    "\n",
    "verbosity = 100000\n",
    "lr = 1e-4\n",
    "\n",
    "sequence = list(arithmetic_progression(seq_length, a0=1, d=1))\n",
    "X, y = create_sliding_window_batches(sequence, window_size, batch_size, output_size)\n",
    "\n",
    "for max_epochs in epochs:    \n",
    "\n",
    "    # Training network for five times\n",
    "    mapes_sum = 0    \n",
    "    for _ in range(experiments_amount):              \n",
    "        \n",
    "        network = GRUModel(input_size=window_size, hidden_size=hidden_size,\n",
    "                           output_size=output_size)\n",
    "        _, _mape = network.train(x=X, y=y, lr=lr, max_epochs=max_epochs, verbosity=verbosity)\n",
    "        all_epochs.append(max_epochs)\n",
    "        mapes_sum += _mape        \n",
    "        all_mapes.append(_mape)    \n",
    "\n",
    "    # Average mape for epochs amount\n",
    "    mapes_mean.append(mapes_sum / experiments_amount)"
   ]
  },
  {
   "cell_type": "code",
   "execution_count": 4,
   "metadata": {},
   "outputs": [
    {
     "data": {
      "application/vnd.plotly.v1+json": {
       "config": {
        "plotlyServerURL": "https://plot.ly"
       },
       "data": [
        {
         "mode": "markers",
         "name": "Все наблюдения",
         "type": "scatter",
         "x": [
          100,
          100,
          100,
          100,
          100,
          200,
          200,
          200,
          200,
          200,
          300,
          300,
          300,
          300,
          300,
          400,
          400,
          400,
          400,
          400,
          500,
          500,
          500,
          500,
          500,
          600,
          600,
          600,
          600,
          600,
          700,
          700,
          700,
          700,
          700,
          800,
          800,
          800,
          800,
          800,
          900,
          900,
          900,
          900,
          900,
          1000,
          1000,
          1000,
          1000,
          1000,
          1100,
          1100,
          1100,
          1100,
          1100,
          1200,
          1200,
          1200,
          1200,
          1200,
          1300,
          1300,
          1300,
          1300,
          1300,
          1400,
          1400,
          1400,
          1400,
          1400,
          1500,
          1500,
          1500,
          1500,
          1500,
          1600,
          1600,
          1600,
          1600,
          1600,
          1700,
          1700,
          1700,
          1700,
          1700,
          1800,
          1800,
          1800,
          1800,
          1800,
          1900,
          1900,
          1900,
          1900,
          1900,
          2000,
          2000,
          2000,
          2000,
          2000
         ],
         "y": [
          0.7417166331444158,
          0.7471565237498704,
          0.729561100050808,
          0.691203095380386,
          0.6615830827415886,
          0.38298086827967515,
          0.38337299715522705,
          0.44027015670447284,
          0.47818225493526817,
          0.4066439486122077,
          0.282434399412563,
          0.275714919074428,
          0.42103632120571693,
          0.223158125059233,
          0.1863866044305682,
          0.15737487536339176,
          0.11147939338848932,
          0.11541388681592148,
          0.11175276639694558,
          0.14732537853114222,
          0.10640218275845804,
          0.09988182510161847,
          0.10684900719652085,
          0.10858637556582842,
          0.10627640727615784,
          0.1068873416879847,
          0.12079124878354577,
          0.10646616313988723,
          0.10258049528094484,
          0.0988076433025785,
          0.1065016916284515,
          0.11560726163459807,
          0.09824261885629604,
          0.10502930820934585,
          0.10383587982050554,
          0.111883135928694,
          0.10278203492683627,
          0.11715482048102616,
          0.1007187115868799,
          0.10446720757800769,
          0.09221743202999762,
          0.10145843897716145,
          0.09941590023814631,
          0.09921719395060326,
          0.10232058679369165,
          0.09849932774261136,
          0.1095287411279875,
          0.07999475269244724,
          0.10380851530265528,
          0.09346366219824818,
          0.07935827578268059,
          0.09391614849804812,
          0.09183319840295011,
          0.08723680185671918,
          0.09379148797185148,
          0.10188094551587985,
          0.0895743681714518,
          0.10755577386043483,
          0.08322343997913727,
          0.07334744802134946,
          0.10036617569338405,
          0.08272333047513286,
          0.08031371828127731,
          0.08101703164419483,
          0.0993758928604652,
          0.075914506332703,
          0.09286634215756118,
          0.08222511032578057,
          0.0957563010931734,
          0.08843947314384959,
          0.09349995816755621,
          0.09316877969035285,
          0.0889446973679028,
          0.09548268543007374,
          0.08587563097476299,
          0.08174834009866516,
          0.09080803923488165,
          0.07880257261109606,
          0.09198508028690867,
          0.08851869454952566,
          0.07744289539667164,
          0.06816433213573597,
          0.0744156130231793,
          0.07311965206761721,
          0.07556028078052501,
          0.0794007971813559,
          0.08914399696597033,
          0.08899717551548599,
          0.07920476694848581,
          0.06941723945261444,
          0.06389630434091223,
          0.07713814226119722,
          0.07875760956376641,
          0.07909743231481435,
          0.09057069434450046,
          0.06894979387598033,
          0.07641277655272749,
          0.07818343162883783,
          0.08145735447836058,
          0.07632743969532131
         ]
        },
        {
         "mode": "lines+markers",
         "name": "Средние значения",
         "type": "scatter",
         "x": [
          100,
          200,
          300,
          400,
          500,
          600,
          700,
          800,
          900,
          1000,
          1100,
          1200,
          1300,
          1400,
          1500,
          1600,
          1700,
          1800,
          1900,
          2000
         ],
         "y": [
          0.7142440870134138,
          0.4182900451373702,
          0.2777460738365018,
          0.12866926009917806,
          0.10559915957971673,
          0.10710657843898821,
          0.10584335202983941,
          0.10740118210028879,
          0.09892591039792006,
          0.09705899981278991,
          0.0892271825024499,
          0.09111639510965065,
          0.08875922979089086,
          0.08704034661061355,
          0.09139435032612972,
          0.08637254535621544,
          0.07374055468074583,
          0.08123279521278251,
          0.07789203656503814,
          0.07626615924624551
         ]
        }
       ],
       "layout": {
        "font": {
         "size": 20
        },
        "height": 720,
        "template": {
         "data": {
          "bar": [
           {
            "error_x": {
             "color": "#2a3f5f"
            },
            "error_y": {
             "color": "#2a3f5f"
            },
            "marker": {
             "line": {
              "color": "#E5ECF6",
              "width": 0.5
             },
             "pattern": {
              "fillmode": "overlay",
              "size": 10,
              "solidity": 0.2
             }
            },
            "type": "bar"
           }
          ],
          "barpolar": [
           {
            "marker": {
             "line": {
              "color": "#E5ECF6",
              "width": 0.5
             },
             "pattern": {
              "fillmode": "overlay",
              "size": 10,
              "solidity": 0.2
             }
            },
            "type": "barpolar"
           }
          ],
          "carpet": [
           {
            "aaxis": {
             "endlinecolor": "#2a3f5f",
             "gridcolor": "white",
             "linecolor": "white",
             "minorgridcolor": "white",
             "startlinecolor": "#2a3f5f"
            },
            "baxis": {
             "endlinecolor": "#2a3f5f",
             "gridcolor": "white",
             "linecolor": "white",
             "minorgridcolor": "white",
             "startlinecolor": "#2a3f5f"
            },
            "type": "carpet"
           }
          ],
          "choropleth": [
           {
            "colorbar": {
             "outlinewidth": 0,
             "ticks": ""
            },
            "type": "choropleth"
           }
          ],
          "contour": [
           {
            "colorbar": {
             "outlinewidth": 0,
             "ticks": ""
            },
            "colorscale": [
             [
              0,
              "#0d0887"
             ],
             [
              0.1111111111111111,
              "#46039f"
             ],
             [
              0.2222222222222222,
              "#7201a8"
             ],
             [
              0.3333333333333333,
              "#9c179e"
             ],
             [
              0.4444444444444444,
              "#bd3786"
             ],
             [
              0.5555555555555556,
              "#d8576b"
             ],
             [
              0.6666666666666666,
              "#ed7953"
             ],
             [
              0.7777777777777778,
              "#fb9f3a"
             ],
             [
              0.8888888888888888,
              "#fdca26"
             ],
             [
              1,
              "#f0f921"
             ]
            ],
            "type": "contour"
           }
          ],
          "contourcarpet": [
           {
            "colorbar": {
             "outlinewidth": 0,
             "ticks": ""
            },
            "type": "contourcarpet"
           }
          ],
          "heatmap": [
           {
            "colorbar": {
             "outlinewidth": 0,
             "ticks": ""
            },
            "colorscale": [
             [
              0,
              "#0d0887"
             ],
             [
              0.1111111111111111,
              "#46039f"
             ],
             [
              0.2222222222222222,
              "#7201a8"
             ],
             [
              0.3333333333333333,
              "#9c179e"
             ],
             [
              0.4444444444444444,
              "#bd3786"
             ],
             [
              0.5555555555555556,
              "#d8576b"
             ],
             [
              0.6666666666666666,
              "#ed7953"
             ],
             [
              0.7777777777777778,
              "#fb9f3a"
             ],
             [
              0.8888888888888888,
              "#fdca26"
             ],
             [
              1,
              "#f0f921"
             ]
            ],
            "type": "heatmap"
           }
          ],
          "heatmapgl": [
           {
            "colorbar": {
             "outlinewidth": 0,
             "ticks": ""
            },
            "colorscale": [
             [
              0,
              "#0d0887"
             ],
             [
              0.1111111111111111,
              "#46039f"
             ],
             [
              0.2222222222222222,
              "#7201a8"
             ],
             [
              0.3333333333333333,
              "#9c179e"
             ],
             [
              0.4444444444444444,
              "#bd3786"
             ],
             [
              0.5555555555555556,
              "#d8576b"
             ],
             [
              0.6666666666666666,
              "#ed7953"
             ],
             [
              0.7777777777777778,
              "#fb9f3a"
             ],
             [
              0.8888888888888888,
              "#fdca26"
             ],
             [
              1,
              "#f0f921"
             ]
            ],
            "type": "heatmapgl"
           }
          ],
          "histogram": [
           {
            "marker": {
             "pattern": {
              "fillmode": "overlay",
              "size": 10,
              "solidity": 0.2
             }
            },
            "type": "histogram"
           }
          ],
          "histogram2d": [
           {
            "colorbar": {
             "outlinewidth": 0,
             "ticks": ""
            },
            "colorscale": [
             [
              0,
              "#0d0887"
             ],
             [
              0.1111111111111111,
              "#46039f"
             ],
             [
              0.2222222222222222,
              "#7201a8"
             ],
             [
              0.3333333333333333,
              "#9c179e"
             ],
             [
              0.4444444444444444,
              "#bd3786"
             ],
             [
              0.5555555555555556,
              "#d8576b"
             ],
             [
              0.6666666666666666,
              "#ed7953"
             ],
             [
              0.7777777777777778,
              "#fb9f3a"
             ],
             [
              0.8888888888888888,
              "#fdca26"
             ],
             [
              1,
              "#f0f921"
             ]
            ],
            "type": "histogram2d"
           }
          ],
          "histogram2dcontour": [
           {
            "colorbar": {
             "outlinewidth": 0,
             "ticks": ""
            },
            "colorscale": [
             [
              0,
              "#0d0887"
             ],
             [
              0.1111111111111111,
              "#46039f"
             ],
             [
              0.2222222222222222,
              "#7201a8"
             ],
             [
              0.3333333333333333,
              "#9c179e"
             ],
             [
              0.4444444444444444,
              "#bd3786"
             ],
             [
              0.5555555555555556,
              "#d8576b"
             ],
             [
              0.6666666666666666,
              "#ed7953"
             ],
             [
              0.7777777777777778,
              "#fb9f3a"
             ],
             [
              0.8888888888888888,
              "#fdca26"
             ],
             [
              1,
              "#f0f921"
             ]
            ],
            "type": "histogram2dcontour"
           }
          ],
          "mesh3d": [
           {
            "colorbar": {
             "outlinewidth": 0,
             "ticks": ""
            },
            "type": "mesh3d"
           }
          ],
          "parcoords": [
           {
            "line": {
             "colorbar": {
              "outlinewidth": 0,
              "ticks": ""
             }
            },
            "type": "parcoords"
           }
          ],
          "pie": [
           {
            "automargin": true,
            "type": "pie"
           }
          ],
          "scatter": [
           {
            "fillpattern": {
             "fillmode": "overlay",
             "size": 10,
             "solidity": 0.2
            },
            "type": "scatter"
           }
          ],
          "scatter3d": [
           {
            "line": {
             "colorbar": {
              "outlinewidth": 0,
              "ticks": ""
             }
            },
            "marker": {
             "colorbar": {
              "outlinewidth": 0,
              "ticks": ""
             }
            },
            "type": "scatter3d"
           }
          ],
          "scattercarpet": [
           {
            "marker": {
             "colorbar": {
              "outlinewidth": 0,
              "ticks": ""
             }
            },
            "type": "scattercarpet"
           }
          ],
          "scattergeo": [
           {
            "marker": {
             "colorbar": {
              "outlinewidth": 0,
              "ticks": ""
             }
            },
            "type": "scattergeo"
           }
          ],
          "scattergl": [
           {
            "marker": {
             "colorbar": {
              "outlinewidth": 0,
              "ticks": ""
             }
            },
            "type": "scattergl"
           }
          ],
          "scattermapbox": [
           {
            "marker": {
             "colorbar": {
              "outlinewidth": 0,
              "ticks": ""
             }
            },
            "type": "scattermapbox"
           }
          ],
          "scatterpolar": [
           {
            "marker": {
             "colorbar": {
              "outlinewidth": 0,
              "ticks": ""
             }
            },
            "type": "scatterpolar"
           }
          ],
          "scatterpolargl": [
           {
            "marker": {
             "colorbar": {
              "outlinewidth": 0,
              "ticks": ""
             }
            },
            "type": "scatterpolargl"
           }
          ],
          "scatterternary": [
           {
            "marker": {
             "colorbar": {
              "outlinewidth": 0,
              "ticks": ""
             }
            },
            "type": "scatterternary"
           }
          ],
          "surface": [
           {
            "colorbar": {
             "outlinewidth": 0,
             "ticks": ""
            },
            "colorscale": [
             [
              0,
              "#0d0887"
             ],
             [
              0.1111111111111111,
              "#46039f"
             ],
             [
              0.2222222222222222,
              "#7201a8"
             ],
             [
              0.3333333333333333,
              "#9c179e"
             ],
             [
              0.4444444444444444,
              "#bd3786"
             ],
             [
              0.5555555555555556,
              "#d8576b"
             ],
             [
              0.6666666666666666,
              "#ed7953"
             ],
             [
              0.7777777777777778,
              "#fb9f3a"
             ],
             [
              0.8888888888888888,
              "#fdca26"
             ],
             [
              1,
              "#f0f921"
             ]
            ],
            "type": "surface"
           }
          ],
          "table": [
           {
            "cells": {
             "fill": {
              "color": "#EBF0F8"
             },
             "line": {
              "color": "white"
             }
            },
            "header": {
             "fill": {
              "color": "#C8D4E3"
             },
             "line": {
              "color": "white"
             }
            },
            "type": "table"
           }
          ]
         },
         "layout": {
          "annotationdefaults": {
           "arrowcolor": "#2a3f5f",
           "arrowhead": 0,
           "arrowwidth": 1
          },
          "autotypenumbers": "strict",
          "coloraxis": {
           "colorbar": {
            "outlinewidth": 0,
            "ticks": ""
           }
          },
          "colorscale": {
           "diverging": [
            [
             0,
             "#8e0152"
            ],
            [
             0.1,
             "#c51b7d"
            ],
            [
             0.2,
             "#de77ae"
            ],
            [
             0.3,
             "#f1b6da"
            ],
            [
             0.4,
             "#fde0ef"
            ],
            [
             0.5,
             "#f7f7f7"
            ],
            [
             0.6,
             "#e6f5d0"
            ],
            [
             0.7,
             "#b8e186"
            ],
            [
             0.8,
             "#7fbc41"
            ],
            [
             0.9,
             "#4d9221"
            ],
            [
             1,
             "#276419"
            ]
           ],
           "sequential": [
            [
             0,
             "#0d0887"
            ],
            [
             0.1111111111111111,
             "#46039f"
            ],
            [
             0.2222222222222222,
             "#7201a8"
            ],
            [
             0.3333333333333333,
             "#9c179e"
            ],
            [
             0.4444444444444444,
             "#bd3786"
            ],
            [
             0.5555555555555556,
             "#d8576b"
            ],
            [
             0.6666666666666666,
             "#ed7953"
            ],
            [
             0.7777777777777778,
             "#fb9f3a"
            ],
            [
             0.8888888888888888,
             "#fdca26"
            ],
            [
             1,
             "#f0f921"
            ]
           ],
           "sequentialminus": [
            [
             0,
             "#0d0887"
            ],
            [
             0.1111111111111111,
             "#46039f"
            ],
            [
             0.2222222222222222,
             "#7201a8"
            ],
            [
             0.3333333333333333,
             "#9c179e"
            ],
            [
             0.4444444444444444,
             "#bd3786"
            ],
            [
             0.5555555555555556,
             "#d8576b"
            ],
            [
             0.6666666666666666,
             "#ed7953"
            ],
            [
             0.7777777777777778,
             "#fb9f3a"
            ],
            [
             0.8888888888888888,
             "#fdca26"
            ],
            [
             1,
             "#f0f921"
            ]
           ]
          },
          "colorway": [
           "#636efa",
           "#EF553B",
           "#00cc96",
           "#ab63fa",
           "#FFA15A",
           "#19d3f3",
           "#FF6692",
           "#B6E880",
           "#FF97FF",
           "#FECB52"
          ],
          "font": {
           "color": "#2a3f5f"
          },
          "geo": {
           "bgcolor": "white",
           "lakecolor": "white",
           "landcolor": "#E5ECF6",
           "showlakes": true,
           "showland": true,
           "subunitcolor": "white"
          },
          "hoverlabel": {
           "align": "left"
          },
          "hovermode": "closest",
          "mapbox": {
           "style": "light"
          },
          "paper_bgcolor": "white",
          "plot_bgcolor": "#E5ECF6",
          "polar": {
           "angularaxis": {
            "gridcolor": "white",
            "linecolor": "white",
            "ticks": ""
           },
           "bgcolor": "#E5ECF6",
           "radialaxis": {
            "gridcolor": "white",
            "linecolor": "white",
            "ticks": ""
           }
          },
          "scene": {
           "xaxis": {
            "backgroundcolor": "#E5ECF6",
            "gridcolor": "white",
            "gridwidth": 2,
            "linecolor": "white",
            "showbackground": true,
            "ticks": "",
            "zerolinecolor": "white"
           },
           "yaxis": {
            "backgroundcolor": "#E5ECF6",
            "gridcolor": "white",
            "gridwidth": 2,
            "linecolor": "white",
            "showbackground": true,
            "ticks": "",
            "zerolinecolor": "white"
           },
           "zaxis": {
            "backgroundcolor": "#E5ECF6",
            "gridcolor": "white",
            "gridwidth": 2,
            "linecolor": "white",
            "showbackground": true,
            "ticks": "",
            "zerolinecolor": "white"
           }
          },
          "shapedefaults": {
           "line": {
            "color": "#2a3f5f"
           }
          },
          "ternary": {
           "aaxis": {
            "gridcolor": "white",
            "linecolor": "white",
            "ticks": ""
           },
           "baxis": {
            "gridcolor": "white",
            "linecolor": "white",
            "ticks": ""
           },
           "bgcolor": "#E5ECF6",
           "caxis": {
            "gridcolor": "white",
            "linecolor": "white",
            "ticks": ""
           }
          },
          "title": {
           "x": 0.05
          },
          "xaxis": {
           "automargin": true,
           "gridcolor": "white",
           "linecolor": "white",
           "ticks": "",
           "title": {
            "standoff": 15
           },
           "zerolinecolor": "white",
           "zerolinewidth": 2
          },
          "yaxis": {
           "automargin": true,
           "gridcolor": "white",
           "linecolor": "white",
           "ticks": "",
           "title": {
            "standoff": 15
           },
           "zerolinecolor": "white",
           "zerolinewidth": 2
          }
         }
        },
        "title": {
         "text": "Зависимость средней абсолютной ошибки от количества итераций обучения"
        },
        "width": 1280,
        "xaxis": {
         "title": {
          "text": "Количество итераций обучения"
         }
        },
        "yaxis": {
         "title": {
          "text": "Средняя абсолютная ошибка"
         }
        }
       }
      }
     },
     "metadata": {},
     "output_type": "display_data"
    }
   ],
   "source": [
    "# Plotting results for training epochs amount\n",
    "fig = go.Figure()\n",
    "fig.add_trace(\n",
    "    go.Scatter(x=all_epochs, y=all_mapes,\n",
    "               name='Все наблюдения', mode='markers')\n",
    ")\n",
    "fig.add_trace(\n",
    "    go.Scatter(x=epochs, y=mapes_mean,\n",
    "               name='Средние значения', mode='lines+markers')\n",
    ")\n",
    "fig.update_layout(\n",
    "    title='Зависимость средней абсолютной ошибки от количества итераций обучения',\n",
    "    font=dict(size=20),\n",
    "    xaxis=dict(title='Количество итераций обучения'),\n",
    "    yaxis=dict(title='Средняя абсолютная ошибка'),\n",
    "    width=1280,\n",
    "    height=720\n",
    ")\n",
    "fig.show()"
   ]
  },
  {
   "cell_type": "code",
   "execution_count": 5,
   "metadata": {},
   "outputs": [
    {
     "name": "stdout",
     "output_type": "stream",
     "text": [
      "TRAINING FINISHED\n",
      "Epoch 250/250, Loss: 113.254297\n",
      "MAPE: 0.728856\n",
      "TRAINING FINISHED\n",
      "Epoch 250/250, Loss: 114.474569\n",
      "MAPE: 0.743300\n",
      "TRAINING FINISHED\n",
      "Epoch 250/250, Loss: 118.570898\n",
      "MAPE: 0.737075\n",
      "TRAINING FINISHED\n",
      "Epoch 250/250, Loss: 155.171632\n",
      "MAPE: 0.884375\n",
      "TRAINING FINISHED\n",
      "Epoch 250/250, Loss: 106.383359\n",
      "MAPE: 0.709909\n",
      "TRAINING FINISHED\n",
      "Epoch 250/250, Loss: 75.643469\n",
      "MAPE: 0.588634\n",
      "TRAINING FINISHED\n",
      "Epoch 250/250, Loss: 105.057270\n",
      "MAPE: 0.715384\n",
      "TRAINING FINISHED\n",
      "Epoch 250/250, Loss: 70.417936\n",
      "MAPE: 0.573706\n",
      "TRAINING FINISHED\n",
      "Epoch 250/250, Loss: 126.115568\n",
      "MAPE: 0.783584\n",
      "TRAINING FINISHED\n",
      "Epoch 250/250, Loss: 72.562564\n",
      "MAPE: 0.579172\n",
      "TRAINING FINISHED\n",
      "Epoch 250/250, Loss: 59.682925\n",
      "MAPE: 0.518430\n",
      "TRAINING FINISHED\n",
      "Epoch 250/250, Loss: 41.986958\n",
      "MAPE: 0.426344\n",
      "TRAINING FINISHED\n",
      "Epoch 250/250, Loss: 58.819334\n",
      "MAPE: 0.507957\n",
      "TRAINING FINISHED\n",
      "Epoch 250/250, Loss: 61.345379\n",
      "MAPE: 0.529299\n",
      "TRAINING FINISHED\n",
      "Epoch 250/250, Loss: 42.006700\n",
      "MAPE: 0.421710\n",
      "TRAINING FINISHED\n",
      "Epoch 250/250, Loss: 19.898539\n",
      "MAPE: 0.268828\n",
      "TRAINING FINISHED\n",
      "Epoch 250/250, Loss: 39.142581\n",
      "MAPE: 0.416603\n",
      "TRAINING FINISHED\n",
      "Epoch 250/250, Loss: 39.837613\n",
      "MAPE: 0.411263\n",
      "TRAINING FINISHED\n",
      "Epoch 250/250, Loss: 34.034090\n",
      "MAPE: 0.380814\n",
      "TRAINING FINISHED\n",
      "Epoch 250/250, Loss: 46.693482\n",
      "MAPE: 0.434916\n",
      "TRAINING FINISHED\n",
      "Epoch 250/250, Loss: 37.190301\n",
      "MAPE: 0.406173\n",
      "TRAINING FINISHED\n",
      "Epoch 250/250, Loss: 41.816014\n",
      "MAPE: 0.426733\n",
      "TRAINING FINISHED\n",
      "Epoch 250/250, Loss: 42.189294\n",
      "MAPE: 0.433830\n",
      "TRAINING FINISHED\n",
      "Epoch 250/250, Loss: 21.204214\n",
      "MAPE: 0.285820\n",
      "TRAINING FINISHED\n",
      "Epoch 250/250, Loss: 20.487597\n",
      "MAPE: 0.284270\n",
      "TRAINING FINISHED\n",
      "Epoch 250/250, Loss: 36.410616\n",
      "MAPE: 0.400765\n",
      "TRAINING FINISHED\n",
      "Epoch 250/250, Loss: 33.227610\n",
      "MAPE: 0.384434\n",
      "TRAINING FINISHED\n",
      "Epoch 250/250, Loss: 15.568304\n",
      "MAPE: 0.231415\n",
      "TRAINING FINISHED\n",
      "Epoch 250/250, Loss: 28.594394\n",
      "MAPE: 0.351019\n",
      "TRAINING FINISHED\n",
      "Epoch 250/250, Loss: 13.207134\n",
      "MAPE: 0.216260\n",
      "TRAINING FINISHED\n",
      "Epoch 250/250, Loss: 17.420841\n",
      "MAPE: 0.253065\n",
      "TRAINING FINISHED\n",
      "Epoch 250/250, Loss: 15.987928\n",
      "MAPE: 0.238801\n",
      "TRAINING FINISHED\n",
      "Epoch 250/250, Loss: 14.906413\n",
      "MAPE: 0.233255\n",
      "TRAINING FINISHED\n",
      "Epoch 250/250, Loss: 22.969413\n",
      "MAPE: 0.300555\n",
      "TRAINING FINISHED\n",
      "Epoch 250/250, Loss: 20.024961\n",
      "MAPE: 0.286820\n",
      "TRAINING FINISHED\n",
      "Epoch 250/250, Loss: 16.568763\n",
      "MAPE: 0.257299\n",
      "TRAINING FINISHED\n",
      "Epoch 250/250, Loss: 18.582485\n",
      "MAPE: 0.272391\n",
      "TRAINING FINISHED\n",
      "Epoch 250/250, Loss: 12.481109\n",
      "MAPE: 0.210248\n",
      "TRAINING FINISHED\n",
      "Epoch 250/250, Loss: 23.261845\n",
      "MAPE: 0.311629\n",
      "TRAINING FINISHED\n",
      "Epoch 250/250, Loss: 14.577884\n",
      "MAPE: 0.239541\n",
      "TRAINING FINISHED\n",
      "Epoch 250/250, Loss: 14.580636\n",
      "MAPE: 0.227600\n",
      "TRAINING FINISHED\n",
      "Epoch 250/250, Loss: 14.156385\n",
      "MAPE: 0.231916\n",
      "TRAINING FINISHED\n",
      "Epoch 250/250, Loss: 8.190661\n",
      "MAPE: 0.159631\n",
      "TRAINING FINISHED\n",
      "Epoch 250/250, Loss: 12.437615\n",
      "MAPE: 0.216346\n",
      "TRAINING FINISHED\n",
      "Epoch 250/250, Loss: 14.018437\n",
      "MAPE: 0.232008\n",
      "TRAINING FINISHED\n",
      "Epoch 250/250, Loss: 11.187163\n",
      "MAPE: 0.202185\n",
      "TRAINING FINISHED\n",
      "Epoch 250/250, Loss: 9.364044\n",
      "MAPE: 0.183757\n",
      "TRAINING FINISHED\n",
      "Epoch 250/250, Loss: 7.594552\n",
      "MAPE: 0.162992\n",
      "TRAINING FINISHED\n",
      "Epoch 250/250, Loss: 14.130408\n",
      "MAPE: 0.233928\n",
      "TRAINING FINISHED\n",
      "Epoch 250/250, Loss: 8.131734\n",
      "MAPE: 0.166997\n"
     ]
    }
   ],
   "source": [
    "experiments_amount = 5\n",
    "# epochs = np.linspace(1000, 35000, endpoint=True, num=10).astype(np.int32).tolist()\n",
    "hidden_sizes = list(range(2, 22, 2))\n",
    "\n",
    "# np.random.seed(12345)\n",
    "\n",
    "all_mapes = []\n",
    "mapes_mean = []\n",
    "\n",
    "all_sizes: list[int] = []\n",
    "\n",
    "seq_length = 20\n",
    "window_size = 5\n",
    "batch_size = 2\n",
    "output_size = 3\n",
    "\n",
    "verbosity = 100000\n",
    "max_mape = 1e-3\n",
    "learn_until_meet_mape = True\n",
    "lr = 1e-4\n",
    "max_epochs = 250\n",
    "\n",
    "sequence = list(arithmetic_progression(seq_length, a0=1, d=1))\n",
    "X, y = create_sliding_window_batches(sequence, window_size, batch_size, output_size)\n",
    "y = y\n",
    "\n",
    "for size in hidden_sizes:    \n",
    "\n",
    "    # Training network for five times\n",
    "    mapes_sum = 0    \n",
    "    for _ in range(experiments_amount):              \n",
    "        \n",
    "        network = GRUModel(input_size=window_size, hidden_size=size,\n",
    "                           output_size=output_size)\n",
    "        _, _mape = network.train(x=X, y=y, lr=lr, max_epochs=max_epochs, verbosity=verbosity)\n",
    "        all_sizes.append(size)\n",
    "        mapes_sum += _mape        \n",
    "        all_mapes.append(_mape)    \n",
    "\n",
    "    # Average mape for epochs amount\n",
    "    mapes_mean.append(mapes_sum / experiments_amount)"
   ]
  },
  {
   "cell_type": "code",
   "execution_count": 6,
   "metadata": {},
   "outputs": [
    {
     "data": {
      "application/vnd.plotly.v1+json": {
       "config": {
        "plotlyServerURL": "https://plot.ly"
       },
       "data": [
        {
         "mode": "markers",
         "name": "Все наблюдения",
         "type": "scatter",
         "x": [
          2,
          2,
          2,
          2,
          2,
          4,
          4,
          4,
          4,
          4,
          6,
          6,
          6,
          6,
          6,
          8,
          8,
          8,
          8,
          8,
          10,
          10,
          10,
          10,
          10,
          12,
          12,
          12,
          12,
          12,
          14,
          14,
          14,
          14,
          14,
          16,
          16,
          16,
          16,
          16,
          18,
          18,
          18,
          18,
          18,
          20,
          20,
          20,
          20,
          20
         ],
         "y": [
          0.7288555806637548,
          0.7433003867815604,
          0.7370748536251779,
          0.884374766630492,
          0.7099087332741372,
          0.588634454206096,
          0.7153843441546703,
          0.573705977509033,
          0.7835839561588477,
          0.579171812046303,
          0.5184303702999972,
          0.4263438256755118,
          0.5079569269249943,
          0.5292986294757652,
          0.4217102437685953,
          0.26882762161553336,
          0.4166034007974245,
          0.41126328023134656,
          0.3808141469003458,
          0.434916129535992,
          0.406172803162464,
          0.42673287041676033,
          0.4338301793009657,
          0.28582028982839036,
          0.2842703573314836,
          0.40076545871378677,
          0.38443389130245587,
          0.23141482484457115,
          0.35101852643959425,
          0.21626047530434905,
          0.25306534285878696,
          0.23880117581030352,
          0.2332553730254497,
          0.3005550246629478,
          0.2868196511967038,
          0.25729878194827277,
          0.2723907098060157,
          0.2102483184296704,
          0.31162909034455366,
          0.23954111783927765,
          0.22759980272891944,
          0.23191649514804058,
          0.15963126443659525,
          0.21634625528596954,
          0.23200826733846278,
          0.20218504593404726,
          0.1837571480949397,
          0.16299202379590774,
          0.23392826226806893,
          0.16699693523250964
         ]
        },
        {
         "mode": "lines+markers",
         "name": "Средние значения",
         "type": "scatter",
         "x": [
          2,
          4,
          6,
          8,
          10,
          12,
          14,
          16,
          18,
          20
         ],
         "y": [
          0.7607028641950244,
          0.64809610881499,
          0.48074799922897266,
          0.3824849158161284,
          0.3673653000080128,
          0.3167786353209514,
          0.26249931351083833,
          0.258221603673558,
          0.2135004169875975,
          0.18997188306509466
         ]
        }
       ],
       "layout": {
        "font": {
         "size": 20
        },
        "height": 720,
        "template": {
         "data": {
          "bar": [
           {
            "error_x": {
             "color": "#2a3f5f"
            },
            "error_y": {
             "color": "#2a3f5f"
            },
            "marker": {
             "line": {
              "color": "#E5ECF6",
              "width": 0.5
             },
             "pattern": {
              "fillmode": "overlay",
              "size": 10,
              "solidity": 0.2
             }
            },
            "type": "bar"
           }
          ],
          "barpolar": [
           {
            "marker": {
             "line": {
              "color": "#E5ECF6",
              "width": 0.5
             },
             "pattern": {
              "fillmode": "overlay",
              "size": 10,
              "solidity": 0.2
             }
            },
            "type": "barpolar"
           }
          ],
          "carpet": [
           {
            "aaxis": {
             "endlinecolor": "#2a3f5f",
             "gridcolor": "white",
             "linecolor": "white",
             "minorgridcolor": "white",
             "startlinecolor": "#2a3f5f"
            },
            "baxis": {
             "endlinecolor": "#2a3f5f",
             "gridcolor": "white",
             "linecolor": "white",
             "minorgridcolor": "white",
             "startlinecolor": "#2a3f5f"
            },
            "type": "carpet"
           }
          ],
          "choropleth": [
           {
            "colorbar": {
             "outlinewidth": 0,
             "ticks": ""
            },
            "type": "choropleth"
           }
          ],
          "contour": [
           {
            "colorbar": {
             "outlinewidth": 0,
             "ticks": ""
            },
            "colorscale": [
             [
              0,
              "#0d0887"
             ],
             [
              0.1111111111111111,
              "#46039f"
             ],
             [
              0.2222222222222222,
              "#7201a8"
             ],
             [
              0.3333333333333333,
              "#9c179e"
             ],
             [
              0.4444444444444444,
              "#bd3786"
             ],
             [
              0.5555555555555556,
              "#d8576b"
             ],
             [
              0.6666666666666666,
              "#ed7953"
             ],
             [
              0.7777777777777778,
              "#fb9f3a"
             ],
             [
              0.8888888888888888,
              "#fdca26"
             ],
             [
              1,
              "#f0f921"
             ]
            ],
            "type": "contour"
           }
          ],
          "contourcarpet": [
           {
            "colorbar": {
             "outlinewidth": 0,
             "ticks": ""
            },
            "type": "contourcarpet"
           }
          ],
          "heatmap": [
           {
            "colorbar": {
             "outlinewidth": 0,
             "ticks": ""
            },
            "colorscale": [
             [
              0,
              "#0d0887"
             ],
             [
              0.1111111111111111,
              "#46039f"
             ],
             [
              0.2222222222222222,
              "#7201a8"
             ],
             [
              0.3333333333333333,
              "#9c179e"
             ],
             [
              0.4444444444444444,
              "#bd3786"
             ],
             [
              0.5555555555555556,
              "#d8576b"
             ],
             [
              0.6666666666666666,
              "#ed7953"
             ],
             [
              0.7777777777777778,
              "#fb9f3a"
             ],
             [
              0.8888888888888888,
              "#fdca26"
             ],
             [
              1,
              "#f0f921"
             ]
            ],
            "type": "heatmap"
           }
          ],
          "heatmapgl": [
           {
            "colorbar": {
             "outlinewidth": 0,
             "ticks": ""
            },
            "colorscale": [
             [
              0,
              "#0d0887"
             ],
             [
              0.1111111111111111,
              "#46039f"
             ],
             [
              0.2222222222222222,
              "#7201a8"
             ],
             [
              0.3333333333333333,
              "#9c179e"
             ],
             [
              0.4444444444444444,
              "#bd3786"
             ],
             [
              0.5555555555555556,
              "#d8576b"
             ],
             [
              0.6666666666666666,
              "#ed7953"
             ],
             [
              0.7777777777777778,
              "#fb9f3a"
             ],
             [
              0.8888888888888888,
              "#fdca26"
             ],
             [
              1,
              "#f0f921"
             ]
            ],
            "type": "heatmapgl"
           }
          ],
          "histogram": [
           {
            "marker": {
             "pattern": {
              "fillmode": "overlay",
              "size": 10,
              "solidity": 0.2
             }
            },
            "type": "histogram"
           }
          ],
          "histogram2d": [
           {
            "colorbar": {
             "outlinewidth": 0,
             "ticks": ""
            },
            "colorscale": [
             [
              0,
              "#0d0887"
             ],
             [
              0.1111111111111111,
              "#46039f"
             ],
             [
              0.2222222222222222,
              "#7201a8"
             ],
             [
              0.3333333333333333,
              "#9c179e"
             ],
             [
              0.4444444444444444,
              "#bd3786"
             ],
             [
              0.5555555555555556,
              "#d8576b"
             ],
             [
              0.6666666666666666,
              "#ed7953"
             ],
             [
              0.7777777777777778,
              "#fb9f3a"
             ],
             [
              0.8888888888888888,
              "#fdca26"
             ],
             [
              1,
              "#f0f921"
             ]
            ],
            "type": "histogram2d"
           }
          ],
          "histogram2dcontour": [
           {
            "colorbar": {
             "outlinewidth": 0,
             "ticks": ""
            },
            "colorscale": [
             [
              0,
              "#0d0887"
             ],
             [
              0.1111111111111111,
              "#46039f"
             ],
             [
              0.2222222222222222,
              "#7201a8"
             ],
             [
              0.3333333333333333,
              "#9c179e"
             ],
             [
              0.4444444444444444,
              "#bd3786"
             ],
             [
              0.5555555555555556,
              "#d8576b"
             ],
             [
              0.6666666666666666,
              "#ed7953"
             ],
             [
              0.7777777777777778,
              "#fb9f3a"
             ],
             [
              0.8888888888888888,
              "#fdca26"
             ],
             [
              1,
              "#f0f921"
             ]
            ],
            "type": "histogram2dcontour"
           }
          ],
          "mesh3d": [
           {
            "colorbar": {
             "outlinewidth": 0,
             "ticks": ""
            },
            "type": "mesh3d"
           }
          ],
          "parcoords": [
           {
            "line": {
             "colorbar": {
              "outlinewidth": 0,
              "ticks": ""
             }
            },
            "type": "parcoords"
           }
          ],
          "pie": [
           {
            "automargin": true,
            "type": "pie"
           }
          ],
          "scatter": [
           {
            "fillpattern": {
             "fillmode": "overlay",
             "size": 10,
             "solidity": 0.2
            },
            "type": "scatter"
           }
          ],
          "scatter3d": [
           {
            "line": {
             "colorbar": {
              "outlinewidth": 0,
              "ticks": ""
             }
            },
            "marker": {
             "colorbar": {
              "outlinewidth": 0,
              "ticks": ""
             }
            },
            "type": "scatter3d"
           }
          ],
          "scattercarpet": [
           {
            "marker": {
             "colorbar": {
              "outlinewidth": 0,
              "ticks": ""
             }
            },
            "type": "scattercarpet"
           }
          ],
          "scattergeo": [
           {
            "marker": {
             "colorbar": {
              "outlinewidth": 0,
              "ticks": ""
             }
            },
            "type": "scattergeo"
           }
          ],
          "scattergl": [
           {
            "marker": {
             "colorbar": {
              "outlinewidth": 0,
              "ticks": ""
             }
            },
            "type": "scattergl"
           }
          ],
          "scattermapbox": [
           {
            "marker": {
             "colorbar": {
              "outlinewidth": 0,
              "ticks": ""
             }
            },
            "type": "scattermapbox"
           }
          ],
          "scatterpolar": [
           {
            "marker": {
             "colorbar": {
              "outlinewidth": 0,
              "ticks": ""
             }
            },
            "type": "scatterpolar"
           }
          ],
          "scatterpolargl": [
           {
            "marker": {
             "colorbar": {
              "outlinewidth": 0,
              "ticks": ""
             }
            },
            "type": "scatterpolargl"
           }
          ],
          "scatterternary": [
           {
            "marker": {
             "colorbar": {
              "outlinewidth": 0,
              "ticks": ""
             }
            },
            "type": "scatterternary"
           }
          ],
          "surface": [
           {
            "colorbar": {
             "outlinewidth": 0,
             "ticks": ""
            },
            "colorscale": [
             [
              0,
              "#0d0887"
             ],
             [
              0.1111111111111111,
              "#46039f"
             ],
             [
              0.2222222222222222,
              "#7201a8"
             ],
             [
              0.3333333333333333,
              "#9c179e"
             ],
             [
              0.4444444444444444,
              "#bd3786"
             ],
             [
              0.5555555555555556,
              "#d8576b"
             ],
             [
              0.6666666666666666,
              "#ed7953"
             ],
             [
              0.7777777777777778,
              "#fb9f3a"
             ],
             [
              0.8888888888888888,
              "#fdca26"
             ],
             [
              1,
              "#f0f921"
             ]
            ],
            "type": "surface"
           }
          ],
          "table": [
           {
            "cells": {
             "fill": {
              "color": "#EBF0F8"
             },
             "line": {
              "color": "white"
             }
            },
            "header": {
             "fill": {
              "color": "#C8D4E3"
             },
             "line": {
              "color": "white"
             }
            },
            "type": "table"
           }
          ]
         },
         "layout": {
          "annotationdefaults": {
           "arrowcolor": "#2a3f5f",
           "arrowhead": 0,
           "arrowwidth": 1
          },
          "autotypenumbers": "strict",
          "coloraxis": {
           "colorbar": {
            "outlinewidth": 0,
            "ticks": ""
           }
          },
          "colorscale": {
           "diverging": [
            [
             0,
             "#8e0152"
            ],
            [
             0.1,
             "#c51b7d"
            ],
            [
             0.2,
             "#de77ae"
            ],
            [
             0.3,
             "#f1b6da"
            ],
            [
             0.4,
             "#fde0ef"
            ],
            [
             0.5,
             "#f7f7f7"
            ],
            [
             0.6,
             "#e6f5d0"
            ],
            [
             0.7,
             "#b8e186"
            ],
            [
             0.8,
             "#7fbc41"
            ],
            [
             0.9,
             "#4d9221"
            ],
            [
             1,
             "#276419"
            ]
           ],
           "sequential": [
            [
             0,
             "#0d0887"
            ],
            [
             0.1111111111111111,
             "#46039f"
            ],
            [
             0.2222222222222222,
             "#7201a8"
            ],
            [
             0.3333333333333333,
             "#9c179e"
            ],
            [
             0.4444444444444444,
             "#bd3786"
            ],
            [
             0.5555555555555556,
             "#d8576b"
            ],
            [
             0.6666666666666666,
             "#ed7953"
            ],
            [
             0.7777777777777778,
             "#fb9f3a"
            ],
            [
             0.8888888888888888,
             "#fdca26"
            ],
            [
             1,
             "#f0f921"
            ]
           ],
           "sequentialminus": [
            [
             0,
             "#0d0887"
            ],
            [
             0.1111111111111111,
             "#46039f"
            ],
            [
             0.2222222222222222,
             "#7201a8"
            ],
            [
             0.3333333333333333,
             "#9c179e"
            ],
            [
             0.4444444444444444,
             "#bd3786"
            ],
            [
             0.5555555555555556,
             "#d8576b"
            ],
            [
             0.6666666666666666,
             "#ed7953"
            ],
            [
             0.7777777777777778,
             "#fb9f3a"
            ],
            [
             0.8888888888888888,
             "#fdca26"
            ],
            [
             1,
             "#f0f921"
            ]
           ]
          },
          "colorway": [
           "#636efa",
           "#EF553B",
           "#00cc96",
           "#ab63fa",
           "#FFA15A",
           "#19d3f3",
           "#FF6692",
           "#B6E880",
           "#FF97FF",
           "#FECB52"
          ],
          "font": {
           "color": "#2a3f5f"
          },
          "geo": {
           "bgcolor": "white",
           "lakecolor": "white",
           "landcolor": "#E5ECF6",
           "showlakes": true,
           "showland": true,
           "subunitcolor": "white"
          },
          "hoverlabel": {
           "align": "left"
          },
          "hovermode": "closest",
          "mapbox": {
           "style": "light"
          },
          "paper_bgcolor": "white",
          "plot_bgcolor": "#E5ECF6",
          "polar": {
           "angularaxis": {
            "gridcolor": "white",
            "linecolor": "white",
            "ticks": ""
           },
           "bgcolor": "#E5ECF6",
           "radialaxis": {
            "gridcolor": "white",
            "linecolor": "white",
            "ticks": ""
           }
          },
          "scene": {
           "xaxis": {
            "backgroundcolor": "#E5ECF6",
            "gridcolor": "white",
            "gridwidth": 2,
            "linecolor": "white",
            "showbackground": true,
            "ticks": "",
            "zerolinecolor": "white"
           },
           "yaxis": {
            "backgroundcolor": "#E5ECF6",
            "gridcolor": "white",
            "gridwidth": 2,
            "linecolor": "white",
            "showbackground": true,
            "ticks": "",
            "zerolinecolor": "white"
           },
           "zaxis": {
            "backgroundcolor": "#E5ECF6",
            "gridcolor": "white",
            "gridwidth": 2,
            "linecolor": "white",
            "showbackground": true,
            "ticks": "",
            "zerolinecolor": "white"
           }
          },
          "shapedefaults": {
           "line": {
            "color": "#2a3f5f"
           }
          },
          "ternary": {
           "aaxis": {
            "gridcolor": "white",
            "linecolor": "white",
            "ticks": ""
           },
           "baxis": {
            "gridcolor": "white",
            "linecolor": "white",
            "ticks": ""
           },
           "bgcolor": "#E5ECF6",
           "caxis": {
            "gridcolor": "white",
            "linecolor": "white",
            "ticks": ""
           }
          },
          "title": {
           "x": 0.05
          },
          "xaxis": {
           "automargin": true,
           "gridcolor": "white",
           "linecolor": "white",
           "ticks": "",
           "title": {
            "standoff": 15
           },
           "zerolinecolor": "white",
           "zerolinewidth": 2
          },
          "yaxis": {
           "automargin": true,
           "gridcolor": "white",
           "linecolor": "white",
           "ticks": "",
           "title": {
            "standoff": 15
           },
           "zerolinecolor": "white",
           "zerolinewidth": 2
          }
         }
        },
        "title": {
         "text": "Зависимость средней абсолютной ошибки от<br>количества нейронов на скрытом слое"
        },
        "width": 1280,
        "xaxis": {
         "title": {
          "text": "Количество нейронов на скрытом слое"
         }
        },
        "yaxis": {
         "title": {
          "text": "Средняя абсолютная ошибка"
         }
        }
       }
      }
     },
     "metadata": {},
     "output_type": "display_data"
    }
   ],
   "source": [
    "# Plotting results for training epochs amount\n",
    "fig = go.Figure()\n",
    "fig.add_trace(\n",
    "    go.Scatter(x=all_sizes, y=all_mapes,\n",
    "               name='Все наблюдения', mode='markers')\n",
    ")\n",
    "fig.add_trace(\n",
    "    go.Scatter(x=hidden_sizes, y=mapes_mean,\n",
    "               name='Средние значения', mode='lines+markers')\n",
    ")\n",
    "fig.update_layout(\n",
    "    title='Зависимость средней абсолютной ошибки от<br>количества нейронов на скрытом слое',\n",
    "    font=dict(size=20),\n",
    "    xaxis=dict(title='Количество нейронов на скрытом слое'),\n",
    "    yaxis=dict(title='Средняя абсолютная ошибка'),\n",
    "    width=1280,\n",
    "    height=720\n",
    ")\n",
    "fig.show()"
   ]
  },
  {
   "cell_type": "code",
   "execution_count": 14,
   "metadata": {},
   "outputs": [
    {
     "name": "stdout",
     "output_type": "stream",
     "text": [
      "TRAINING FINISHED\n",
      "Epoch 1000/1000, Loss: 29.783604\n",
      "MAPE: 0.285755\n",
      "TRAINING FINISHED\n",
      "Epoch 1000/1000, Loss: 27.544617\n",
      "MAPE: 0.278742\n",
      "TRAINING FINISHED\n",
      "Epoch 1000/1000, Loss: 28.025855\n",
      "MAPE: 0.277098\n",
      "TRAINING FINISHED\n",
      "Epoch 1000/1000, Loss: 32.704714\n",
      "MAPE: 0.288321\n",
      "TRAINING FINISHED\n",
      "Epoch 1000/1000, Loss: 32.037401\n",
      "MAPE: 0.285830\n",
      "TRAINING FINISHED\n",
      "Epoch 1000/1000, Loss: 22.679322\n",
      "MAPE: 0.252511\n",
      "TRAINING FINISHED\n",
      "Epoch 1000/1000, Loss: 24.479679\n",
      "MAPE: 0.244326\n",
      "TRAINING FINISHED\n",
      "Epoch 1000/1000, Loss: 27.658556\n",
      "MAPE: 0.260378\n",
      "TRAINING FINISHED\n",
      "Epoch 1000/1000, Loss: 19.930330\n",
      "MAPE: 0.246136\n",
      "TRAINING FINISHED\n",
      "Epoch 1000/1000, Loss: 25.090126\n",
      "MAPE: 0.242071\n",
      "TRAINING FINISHED\n",
      "Epoch 1000/1000, Loss: 27.196415\n",
      "MAPE: 0.253209\n",
      "TRAINING FINISHED\n",
      "Epoch 1000/1000, Loss: 18.520941\n",
      "MAPE: 0.217855\n",
      "TRAINING FINISHED\n",
      "Epoch 1000/1000, Loss: 19.811121\n",
      "MAPE: 0.210037\n",
      "TRAINING FINISHED\n",
      "Epoch 1000/1000, Loss: 20.008474\n",
      "MAPE: 0.223217\n",
      "TRAINING FINISHED\n",
      "Epoch 1000/1000, Loss: 21.651516\n",
      "MAPE: 0.225296\n",
      "TRAINING FINISHED\n",
      "Epoch 1000/1000, Loss: 12.605443\n",
      "MAPE: 0.158967\n",
      "TRAINING FINISHED\n",
      "Epoch 1000/1000, Loss: 15.103679\n",
      "MAPE: 0.163104\n",
      "TRAINING FINISHED\n",
      "Epoch 1000/1000, Loss: 12.091876\n",
      "MAPE: 0.158216\n",
      "TRAINING FINISHED\n",
      "Epoch 1000/1000, Loss: 12.798178\n",
      "MAPE: 0.160201\n",
      "TRAINING FINISHED\n",
      "Epoch 1000/1000, Loss: 10.111226\n",
      "MAPE: 0.146651\n",
      "TRAINING FINISHED\n",
      "Epoch 1000/1000, Loss: 6.579384\n",
      "MAPE: 0.098969\n",
      "TRAINING FINISHED\n",
      "Epoch 1000/1000, Loss: 5.128003\n",
      "MAPE: 0.074287\n",
      "TRAINING FINISHED\n",
      "Epoch 1000/1000, Loss: 5.524555\n",
      "MAPE: 0.052729\n",
      "TRAINING FINISHED\n",
      "Epoch 1000/1000, Loss: 8.652335\n",
      "MAPE: 0.095166\n",
      "TRAINING FINISHED\n",
      "Epoch 1000/1000, Loss: 7.108377\n",
      "MAPE: 0.100462\n",
      "TRAINING FINISHED\n",
      "Epoch 1000/1000, Loss: 5.459888\n",
      "MAPE: 0.069423\n",
      "TRAINING FINISHED\n",
      "Epoch 1000/1000, Loss: 7.404412\n",
      "MAPE: 0.110106\n",
      "TRAINING FINISHED\n",
      "Epoch 1000/1000, Loss: 6.997301\n",
      "MAPE: 0.097906\n",
      "TRAINING FINISHED\n",
      "Epoch 1000/1000, Loss: 5.656594\n",
      "MAPE: 0.088499\n",
      "TRAINING FINISHED\n",
      "Epoch 1000/1000, Loss: 8.274865\n",
      "MAPE: 0.106597\n",
      "TRAINING FINISHED\n",
      "Epoch 1000/1000, Loss: 3.399647\n",
      "MAPE: 0.058912\n",
      "TRAINING FINISHED\n",
      "Epoch 1000/1000, Loss: 5.214783\n",
      "MAPE: 0.081004\n",
      "TRAINING FINISHED\n",
      "Epoch 1000/1000, Loss: 7.495061\n",
      "MAPE: 0.089104\n",
      "TRAINING FINISHED\n",
      "Epoch 1000/1000, Loss: 5.743866\n",
      "MAPE: 0.077874\n",
      "TRAINING FINISHED\n",
      "Epoch 1000/1000, Loss: 5.983409\n",
      "MAPE: 0.093017\n",
      "TRAINING FINISHED\n",
      "Epoch 1000/1000, Loss: 4.127132\n",
      "MAPE: 0.060465\n",
      "TRAINING FINISHED\n",
      "Epoch 1000/1000, Loss: 5.532663\n",
      "MAPE: 0.065524\n",
      "TRAINING FINISHED\n",
      "Epoch 1000/1000, Loss: 4.913218\n",
      "MAPE: 0.065678\n",
      "TRAINING FINISHED\n",
      "Epoch 1000/1000, Loss: 3.612837\n",
      "MAPE: 0.052291\n",
      "TRAINING FINISHED\n",
      "Epoch 1000/1000, Loss: 9.008345\n",
      "MAPE: 0.068327\n",
      "TRAINING FINISHED\n",
      "Epoch 1000/1000, Loss: 3.823656\n",
      "MAPE: 0.048895\n",
      "TRAINING FINISHED\n",
      "Epoch 1000/1000, Loss: 5.718850\n",
      "MAPE: 0.061185\n",
      "TRAINING FINISHED\n",
      "Epoch 1000/1000, Loss: 3.174075\n",
      "MAPE: 0.048158\n",
      "TRAINING FINISHED\n",
      "Epoch 1000/1000, Loss: 12.170437\n",
      "MAPE: 0.087968\n",
      "TRAINING FINISHED\n",
      "Epoch 1000/1000, Loss: 7.511360\n",
      "MAPE: 0.066772\n",
      "TRAINING FINISHED\n",
      "Epoch 1000/1000, Loss: 4.902892\n",
      "MAPE: 0.059495\n",
      "TRAINING FINISHED\n",
      "Epoch 1000/1000, Loss: 4.198921\n",
      "MAPE: 0.052885\n",
      "TRAINING FINISHED\n",
      "Epoch 1000/1000, Loss: 3.107349\n",
      "MAPE: 0.044180\n",
      "TRAINING FINISHED\n",
      "Epoch 1000/1000, Loss: 7.424625\n",
      "MAPE: 0.074448\n",
      "TRAINING FINISHED\n",
      "Epoch 1000/1000, Loss: 2.430894\n",
      "MAPE: 0.042580\n",
      "TRAINING FINISHED\n",
      "Epoch 1000/1000, Loss: 2.720199\n",
      "MAPE: 0.042235\n",
      "TRAINING FINISHED\n",
      "Epoch 1000/1000, Loss: 4.115382\n",
      "MAPE: 0.053724\n",
      "TRAINING FINISHED\n",
      "Epoch 1000/1000, Loss: 2.869664\n",
      "MAPE: 0.044362\n",
      "TRAINING FINISHED\n",
      "Epoch 1000/1000, Loss: 4.011148\n",
      "MAPE: 0.050099\n",
      "TRAINING FINISHED\n",
      "Epoch 1000/1000, Loss: 4.421685\n",
      "MAPE: 0.051154\n",
      "TRAINING FINISHED\n",
      "Epoch 1000/1000, Loss: 4.033151\n",
      "MAPE: 0.050448\n",
      "TRAINING FINISHED\n",
      "Epoch 1000/1000, Loss: 4.344989\n",
      "MAPE: 0.055591\n",
      "TRAINING FINISHED\n",
      "Epoch 1000/1000, Loss: 3.810790\n",
      "MAPE: 0.056428\n",
      "TRAINING FINISHED\n",
      "Epoch 1000/1000, Loss: 4.122136\n",
      "MAPE: 0.054276\n",
      "TRAINING FINISHED\n",
      "Epoch 1000/1000, Loss: 7.844624\n",
      "MAPE: 0.069669\n",
      "TRAINING FINISHED\n",
      "Epoch 1000/1000, Loss: 4.888562\n",
      "MAPE: 0.052938\n",
      "TRAINING FINISHED\n",
      "Epoch 1000/1000, Loss: 4.307046\n",
      "MAPE: 0.051141\n",
      "TRAINING FINISHED\n",
      "Epoch 1000/1000, Loss: 5.451863\n",
      "MAPE: 0.055869\n",
      "TRAINING FINISHED\n",
      "Epoch 1000/1000, Loss: 3.834739\n",
      "MAPE: 0.045868\n",
      "TRAINING FINISHED\n",
      "Epoch 1000/1000, Loss: 2.928398\n",
      "MAPE: 0.044822\n",
      "TRAINING FINISHED\n",
      "Epoch 1000/1000, Loss: 2.945191\n",
      "MAPE: 0.040848\n",
      "TRAINING FINISHED\n",
      "Epoch 1000/1000, Loss: 2.505714\n",
      "MAPE: 0.031972\n",
      "TRAINING FINISHED\n",
      "Epoch 1000/1000, Loss: 2.215442\n",
      "MAPE: 0.035549\n",
      "TRAINING FINISHED\n",
      "Epoch 1000/1000, Loss: 2.860555\n",
      "MAPE: 0.040737\n",
      "TRAINING FINISHED\n",
      "Epoch 1000/1000, Loss: 2.115252\n",
      "MAPE: 0.030927\n",
      "TRAINING FINISHED\n",
      "Epoch 1000/1000, Loss: 2.505920\n",
      "MAPE: 0.036585\n",
      "TRAINING FINISHED\n",
      "Epoch 1000/1000, Loss: 3.869803\n",
      "MAPE: 0.047646\n",
      "TRAINING FINISHED\n",
      "Epoch 1000/1000, Loss: 3.489118\n",
      "MAPE: 0.043251\n",
      "TRAINING FINISHED\n",
      "Epoch 1000/1000, Loss: 1.895943\n",
      "MAPE: 0.034182\n",
      "TRAINING FINISHED\n",
      "Epoch 1000/1000, Loss: 2.629449\n",
      "MAPE: 0.039443\n",
      "TRAINING FINISHED\n",
      "Epoch 1000/1000, Loss: 1.458148\n",
      "MAPE: 0.027108\n",
      "TRAINING FINISHED\n",
      "Epoch 1000/1000, Loss: 3.242874\n",
      "MAPE: 0.041463\n",
      "TRAINING FINISHED\n",
      "Epoch 1000/1000, Loss: 3.007367\n",
      "MAPE: 0.039303\n",
      "TRAINING FINISHED\n",
      "Epoch 1000/1000, Loss: 4.442599\n",
      "MAPE: 0.048630\n",
      "TRAINING FINISHED\n",
      "Epoch 1000/1000, Loss: 2.370963\n",
      "MAPE: 0.038673\n",
      "TRAINING FINISHED\n",
      "Epoch 1000/1000, Loss: 4.359110\n",
      "MAPE: 0.056263\n",
      "TRAINING FINISHED\n",
      "Epoch 1000/1000, Loss: 2.459063\n",
      "MAPE: 0.034095\n",
      "TRAINING FINISHED\n",
      "Epoch 1000/1000, Loss: 2.513235\n",
      "MAPE: 0.037754\n",
      "TRAINING FINISHED\n",
      "Epoch 1000/1000, Loss: 2.225662\n",
      "MAPE: 0.034198\n",
      "TRAINING FINISHED\n",
      "Epoch 1000/1000, Loss: 1.797134\n",
      "MAPE: 0.033305\n",
      "TRAINING FINISHED\n",
      "Epoch 1000/1000, Loss: 1.780135\n",
      "MAPE: 0.030726\n",
      "TRAINING FINISHED\n",
      "Epoch 1000/1000, Loss: 1.613905\n",
      "MAPE: 0.027063\n",
      "TRAINING FINISHED\n",
      "Epoch 1000/1000, Loss: 3.215948\n",
      "MAPE: 0.045048\n",
      "TRAINING FINISHED\n",
      "Epoch 1000/1000, Loss: 2.068120\n",
      "MAPE: 0.033853\n",
      "TRAINING FINISHED\n",
      "Epoch 1000/1000, Loss: 2.346731\n",
      "MAPE: 0.034426\n",
      "TRAINING FINISHED\n",
      "Epoch 1000/1000, Loss: 1.530444\n",
      "MAPE: 0.027344\n",
      "TRAINING FINISHED\n",
      "Epoch 1000/1000, Loss: 2.050708\n",
      "MAPE: 0.033157\n",
      "TRAINING FINISHED\n",
      "Epoch 1000/1000, Loss: 5.959960\n",
      "MAPE: 0.060875\n",
      "TRAINING FINISHED\n",
      "Epoch 1000/1000, Loss: 3.861238\n",
      "MAPE: 0.047490\n",
      "TRAINING FINISHED\n",
      "Epoch 1000/1000, Loss: 2.079654\n",
      "MAPE: 0.028482\n",
      "TRAINING FINISHED\n",
      "Epoch 1000/1000, Loss: 2.643272\n",
      "MAPE: 0.030950\n",
      "TRAINING FINISHED\n",
      "Epoch 1000/1000, Loss: 2.788297\n",
      "MAPE: 0.039228\n",
      "TRAINING FINISHED\n",
      "Epoch 1000/1000, Loss: 1.254299\n",
      "MAPE: 0.022961\n",
      "TRAINING FINISHED\n",
      "Epoch 1000/1000, Loss: 7.968856\n",
      "MAPE: 0.069211\n",
      "TRAINING FINISHED\n",
      "Epoch 1000/1000, Loss: 4.603523\n",
      "MAPE: 0.050896\n",
      "TRAINING FINISHED\n",
      "Epoch 1000/1000, Loss: 1.675316\n",
      "MAPE: 0.028408\n",
      "TRAINING FINISHED\n",
      "Epoch 1000/1000, Loss: 32.246142\n",
      "MAPE: 0.148430\n",
      "TRAINING FINISHED\n",
      "Epoch 1000/1000, Loss: 1.682143\n",
      "MAPE: 0.027359\n",
      "TRAINING FINISHED\n",
      "Epoch 1000/1000, Loss: 9.298301\n",
      "MAPE: 0.070510\n",
      "TRAINING FINISHED\n",
      "Epoch 1000/1000, Loss: 1.522456\n",
      "MAPE: 0.029440\n",
      "TRAINING FINISHED\n",
      "Epoch 1000/1000, Loss: 15.544229\n",
      "MAPE: 0.096030\n",
      "TRAINING FINISHED\n",
      "Epoch 1000/1000, Loss: 1.664832\n",
      "MAPE: 0.027941\n",
      "TRAINING FINISHED\n",
      "Epoch 1000/1000, Loss: 1.545434\n",
      "MAPE: 0.028047\n",
      "TRAINING FINISHED\n",
      "Epoch 1000/1000, Loss: 2.144651\n",
      "MAPE: 0.029941\n",
      "TRAINING FINISHED\n",
      "Epoch 1000/1000, Loss: 1.478224\n",
      "MAPE: 0.025138\n",
      "TRAINING FINISHED\n",
      "Epoch 1000/1000, Loss: 2.380410\n",
      "MAPE: 0.034073\n",
      "TRAINING FINISHED\n",
      "Epoch 1000/1000, Loss: 5.960364\n",
      "MAPE: 0.051639\n",
      "TRAINING FINISHED\n",
      "Epoch 1000/1000, Loss: 1.657319\n",
      "MAPE: 0.026945\n",
      "TRAINING FINISHED\n",
      "Epoch 1000/1000, Loss: 2.334961\n",
      "MAPE: 0.034666\n",
      "TRAINING FINISHED\n",
      "Epoch 1000/1000, Loss: 1.869033\n",
      "MAPE: 0.030789\n",
      "TRAINING FINISHED\n",
      "Epoch 1000/1000, Loss: 0.618349\n",
      "MAPE: 0.014953\n",
      "TRAINING FINISHED\n",
      "Epoch 1000/1000, Loss: 5.235121\n",
      "MAPE: 0.051978\n",
      "TRAINING FINISHED\n",
      "Epoch 1000/1000, Loss: 24.339050\n",
      "MAPE: 0.121002\n",
      "TRAINING FINISHED\n",
      "Epoch 1000/1000, Loss: 25.036672\n",
      "MAPE: 0.123365\n",
      "TRAINING FINISHED\n",
      "Epoch 1000/1000, Loss: 1.195911\n",
      "MAPE: 0.023267\n"
     ]
    }
   ],
   "source": [
    "# MAPE relation with sliding window\n",
    "experiments_amount = 5\n",
    "# epochs = np.linspace(1000, 35000, endpoint=True, num=10).astype(np.int32).tolist()\n",
    "\n",
    "\n",
    "all_mapes = []\n",
    "mapes_mean = []\n",
    "\n",
    "all_sizes: list[int] = []\n",
    "\n",
    "seq_length = 50\n",
    "window_sizes = list(range(1, seq_length // 2))\n",
    "hidden_size = 10\n",
    "batch_size = 2\n",
    "output_size = 3\n",
    "\n",
    "verbosity = 100000\n",
    "max_mape = 1e-3\n",
    "learn_until_meet_mape = True\n",
    "lr = 1e-4\n",
    "max_epochs = 1000\n",
    "\n",
    "sequence = list(arithmetic_progression(seq_length, a0=1, d=1))\n",
    "\n",
    "for size in window_sizes:\n",
    "    X, y = create_sliding_window_batches(sequence, size, batch_size, output_size)    \n",
    "\n",
    "    # Training network for five times\n",
    "    mapes_sum = 0    \n",
    "    for _ in range(experiments_amount):              \n",
    "        \n",
    "        network = GRUModel(input_size=size, hidden_size=hidden_size,\n",
    "                           output_size=output_size)\n",
    "        _, _mape = network.train(x=X, y=y, lr=lr, max_epochs=max_epochs, verbosity=verbosity)\n",
    "        all_sizes.append(size)\n",
    "        mapes_sum += _mape        \n",
    "        all_mapes.append(_mape)    \n",
    "\n",
    "    # Average mape for epochs amount\n",
    "    mapes_mean.append(mapes_sum / experiments_amount)"
   ]
  },
  {
   "cell_type": "code",
   "execution_count": 15,
   "metadata": {},
   "outputs": [
    {
     "data": {
      "application/vnd.plotly.v1+json": {
       "config": {
        "plotlyServerURL": "https://plot.ly"
       },
       "data": [
        {
         "mode": "markers",
         "name": "Все наблюдения",
         "type": "scatter",
         "x": [
          1,
          1,
          1,
          1,
          1,
          2,
          2,
          2,
          2,
          2,
          3,
          3,
          3,
          3,
          3,
          4,
          4,
          4,
          4,
          4,
          5,
          5,
          5,
          5,
          5,
          6,
          6,
          6,
          6,
          6,
          7,
          7,
          7,
          7,
          7,
          8,
          8,
          8,
          8,
          8,
          9,
          9,
          9,
          9,
          9,
          10,
          10,
          10,
          10,
          10,
          11,
          11,
          11,
          11,
          11,
          12,
          12,
          12,
          12,
          12,
          13,
          13,
          13,
          13,
          13,
          14,
          14,
          14,
          14,
          14,
          15,
          15,
          15,
          15,
          15,
          16,
          16,
          16,
          16,
          16,
          17,
          17,
          17,
          17,
          17,
          18,
          18,
          18,
          18,
          18,
          19,
          19,
          19,
          19,
          19,
          20,
          20,
          20,
          20,
          20,
          21,
          21,
          21,
          21,
          21,
          22,
          22,
          22,
          22,
          22,
          23,
          23,
          23,
          23,
          23,
          24,
          24,
          24,
          24,
          24
         ],
         "y": [
          0.2857553035777834,
          0.2787423668060511,
          0.2770976808979896,
          0.2883207363915565,
          0.28582985868371114,
          0.25251096240434445,
          0.24432596965074857,
          0.26037765183469974,
          0.2461356473363337,
          0.24207101044244048,
          0.25320941540224207,
          0.21785461779364437,
          0.21003705010568183,
          0.22321677860113198,
          0.22529641013554766,
          0.15896651578692858,
          0.16310383181079854,
          0.15821576916136323,
          0.16020121888429367,
          0.14665118826537432,
          0.09896922791429132,
          0.0742870969136439,
          0.0527294565887018,
          0.09516564754164628,
          0.10046226636078553,
          0.06942319908980925,
          0.11010601302106535,
          0.09790607549028683,
          0.08849853912880347,
          0.10659653701955439,
          0.058911757275626156,
          0.08100400222330505,
          0.0891039245375685,
          0.07787401307361495,
          0.0930167048865333,
          0.060465154719116114,
          0.06552416529784412,
          0.06567762546435872,
          0.05229136373248166,
          0.06832741018328602,
          0.04889472509777258,
          0.06118499302540086,
          0.04815763441909855,
          0.08796790009836924,
          0.06677186793306264,
          0.05949488400105266,
          0.05288525298318208,
          0.0441797179954223,
          0.07444836121193431,
          0.04258039544514766,
          0.04223462524364199,
          0.05372357092721293,
          0.044361688640046124,
          0.05009872256657636,
          0.05115359441805373,
          0.05044752533392317,
          0.055590847583418895,
          0.05642820326201782,
          0.0542758605067058,
          0.06966876174863479,
          0.05293786479988847,
          0.05114111024649664,
          0.055868501219991706,
          0.04586827704191876,
          0.04482204403830105,
          0.04084814660371569,
          0.031972114547527665,
          0.03554867462982135,
          0.040737306928652066,
          0.030927191648612185,
          0.03658539137875594,
          0.04764578463940113,
          0.043250724324631666,
          0.03418234696663515,
          0.03944334392039687,
          0.027107645870035207,
          0.04146336880949962,
          0.03930263105273197,
          0.04862962108939198,
          0.03867340918845776,
          0.05626278384321124,
          0.03409538304702411,
          0.037753937822157135,
          0.03419773975404529,
          0.03330460182944073,
          0.030726166839396565,
          0.027062690657406425,
          0.045047639855857934,
          0.033853443622076755,
          0.034425674237033015,
          0.027343765538067194,
          0.0331569900901655,
          0.06087484430789709,
          0.047489581035508495,
          0.028481527553410328,
          0.03095023519166461,
          0.039227843949973515,
          0.02296063678317722,
          0.06921119072011593,
          0.050896102841365885,
          0.02840760088238384,
          0.14843043088444519,
          0.02735905033917168,
          0.07050972333287701,
          0.029440064387140745,
          0.0960296990786493,
          0.027941339749263328,
          0.028047444327923037,
          0.029940739887470126,
          0.025137695582044796,
          0.03407308565226175,
          0.051639327112015736,
          0.026945346583862814,
          0.03466608298638211,
          0.030788950463617838,
          0.014953129099940966,
          0.05197804769564596,
          0.12100236904448074,
          0.1233650155539706,
          0.023266892572735065
         ]
        },
        {
         "mode": "lines+markers",
         "name": "Средние значения",
         "type": "scatter",
         "x": [
          1,
          2,
          3,
          4,
          5,
          6,
          7,
          8,
          9,
          10,
          11,
          12,
          13,
          14,
          15,
          16,
          17,
          18,
          19,
          20,
          21,
          22,
          23,
          24
         ],
         "y": [
          0.2831491892714183,
          0.24908424833371337,
          0.22592285440764956,
          0.15742770478175167,
          0.08432273906381377,
          0.09450607274990386,
          0.0799820803993296,
          0.06245714387941733,
          0.06259542411474077,
          0.0547177223273478,
          0.048314440359106224,
          0.057282239686940094,
          0.05012755946931933,
          0.03600668687166579,
          0.04022151824596416,
          0.039035335202023305,
          0.039122889259175696,
          0.03422312304235414,
          0.03946934170500972,
          0.04264920189725943,
          0.060829373965203694,
          0.04141938372507011,
          0.03562255855962805,
          0.06691309079335467
         ]
        }
       ],
       "layout": {
        "font": {
         "size": 20
        },
        "height": 720,
        "template": {
         "data": {
          "bar": [
           {
            "error_x": {
             "color": "#2a3f5f"
            },
            "error_y": {
             "color": "#2a3f5f"
            },
            "marker": {
             "line": {
              "color": "#E5ECF6",
              "width": 0.5
             },
             "pattern": {
              "fillmode": "overlay",
              "size": 10,
              "solidity": 0.2
             }
            },
            "type": "bar"
           }
          ],
          "barpolar": [
           {
            "marker": {
             "line": {
              "color": "#E5ECF6",
              "width": 0.5
             },
             "pattern": {
              "fillmode": "overlay",
              "size": 10,
              "solidity": 0.2
             }
            },
            "type": "barpolar"
           }
          ],
          "carpet": [
           {
            "aaxis": {
             "endlinecolor": "#2a3f5f",
             "gridcolor": "white",
             "linecolor": "white",
             "minorgridcolor": "white",
             "startlinecolor": "#2a3f5f"
            },
            "baxis": {
             "endlinecolor": "#2a3f5f",
             "gridcolor": "white",
             "linecolor": "white",
             "minorgridcolor": "white",
             "startlinecolor": "#2a3f5f"
            },
            "type": "carpet"
           }
          ],
          "choropleth": [
           {
            "colorbar": {
             "outlinewidth": 0,
             "ticks": ""
            },
            "type": "choropleth"
           }
          ],
          "contour": [
           {
            "colorbar": {
             "outlinewidth": 0,
             "ticks": ""
            },
            "colorscale": [
             [
              0,
              "#0d0887"
             ],
             [
              0.1111111111111111,
              "#46039f"
             ],
             [
              0.2222222222222222,
              "#7201a8"
             ],
             [
              0.3333333333333333,
              "#9c179e"
             ],
             [
              0.4444444444444444,
              "#bd3786"
             ],
             [
              0.5555555555555556,
              "#d8576b"
             ],
             [
              0.6666666666666666,
              "#ed7953"
             ],
             [
              0.7777777777777778,
              "#fb9f3a"
             ],
             [
              0.8888888888888888,
              "#fdca26"
             ],
             [
              1,
              "#f0f921"
             ]
            ],
            "type": "contour"
           }
          ],
          "contourcarpet": [
           {
            "colorbar": {
             "outlinewidth": 0,
             "ticks": ""
            },
            "type": "contourcarpet"
           }
          ],
          "heatmap": [
           {
            "colorbar": {
             "outlinewidth": 0,
             "ticks": ""
            },
            "colorscale": [
             [
              0,
              "#0d0887"
             ],
             [
              0.1111111111111111,
              "#46039f"
             ],
             [
              0.2222222222222222,
              "#7201a8"
             ],
             [
              0.3333333333333333,
              "#9c179e"
             ],
             [
              0.4444444444444444,
              "#bd3786"
             ],
             [
              0.5555555555555556,
              "#d8576b"
             ],
             [
              0.6666666666666666,
              "#ed7953"
             ],
             [
              0.7777777777777778,
              "#fb9f3a"
             ],
             [
              0.8888888888888888,
              "#fdca26"
             ],
             [
              1,
              "#f0f921"
             ]
            ],
            "type": "heatmap"
           }
          ],
          "heatmapgl": [
           {
            "colorbar": {
             "outlinewidth": 0,
             "ticks": ""
            },
            "colorscale": [
             [
              0,
              "#0d0887"
             ],
             [
              0.1111111111111111,
              "#46039f"
             ],
             [
              0.2222222222222222,
              "#7201a8"
             ],
             [
              0.3333333333333333,
              "#9c179e"
             ],
             [
              0.4444444444444444,
              "#bd3786"
             ],
             [
              0.5555555555555556,
              "#d8576b"
             ],
             [
              0.6666666666666666,
              "#ed7953"
             ],
             [
              0.7777777777777778,
              "#fb9f3a"
             ],
             [
              0.8888888888888888,
              "#fdca26"
             ],
             [
              1,
              "#f0f921"
             ]
            ],
            "type": "heatmapgl"
           }
          ],
          "histogram": [
           {
            "marker": {
             "pattern": {
              "fillmode": "overlay",
              "size": 10,
              "solidity": 0.2
             }
            },
            "type": "histogram"
           }
          ],
          "histogram2d": [
           {
            "colorbar": {
             "outlinewidth": 0,
             "ticks": ""
            },
            "colorscale": [
             [
              0,
              "#0d0887"
             ],
             [
              0.1111111111111111,
              "#46039f"
             ],
             [
              0.2222222222222222,
              "#7201a8"
             ],
             [
              0.3333333333333333,
              "#9c179e"
             ],
             [
              0.4444444444444444,
              "#bd3786"
             ],
             [
              0.5555555555555556,
              "#d8576b"
             ],
             [
              0.6666666666666666,
              "#ed7953"
             ],
             [
              0.7777777777777778,
              "#fb9f3a"
             ],
             [
              0.8888888888888888,
              "#fdca26"
             ],
             [
              1,
              "#f0f921"
             ]
            ],
            "type": "histogram2d"
           }
          ],
          "histogram2dcontour": [
           {
            "colorbar": {
             "outlinewidth": 0,
             "ticks": ""
            },
            "colorscale": [
             [
              0,
              "#0d0887"
             ],
             [
              0.1111111111111111,
              "#46039f"
             ],
             [
              0.2222222222222222,
              "#7201a8"
             ],
             [
              0.3333333333333333,
              "#9c179e"
             ],
             [
              0.4444444444444444,
              "#bd3786"
             ],
             [
              0.5555555555555556,
              "#d8576b"
             ],
             [
              0.6666666666666666,
              "#ed7953"
             ],
             [
              0.7777777777777778,
              "#fb9f3a"
             ],
             [
              0.8888888888888888,
              "#fdca26"
             ],
             [
              1,
              "#f0f921"
             ]
            ],
            "type": "histogram2dcontour"
           }
          ],
          "mesh3d": [
           {
            "colorbar": {
             "outlinewidth": 0,
             "ticks": ""
            },
            "type": "mesh3d"
           }
          ],
          "parcoords": [
           {
            "line": {
             "colorbar": {
              "outlinewidth": 0,
              "ticks": ""
             }
            },
            "type": "parcoords"
           }
          ],
          "pie": [
           {
            "automargin": true,
            "type": "pie"
           }
          ],
          "scatter": [
           {
            "fillpattern": {
             "fillmode": "overlay",
             "size": 10,
             "solidity": 0.2
            },
            "type": "scatter"
           }
          ],
          "scatter3d": [
           {
            "line": {
             "colorbar": {
              "outlinewidth": 0,
              "ticks": ""
             }
            },
            "marker": {
             "colorbar": {
              "outlinewidth": 0,
              "ticks": ""
             }
            },
            "type": "scatter3d"
           }
          ],
          "scattercarpet": [
           {
            "marker": {
             "colorbar": {
              "outlinewidth": 0,
              "ticks": ""
             }
            },
            "type": "scattercarpet"
           }
          ],
          "scattergeo": [
           {
            "marker": {
             "colorbar": {
              "outlinewidth": 0,
              "ticks": ""
             }
            },
            "type": "scattergeo"
           }
          ],
          "scattergl": [
           {
            "marker": {
             "colorbar": {
              "outlinewidth": 0,
              "ticks": ""
             }
            },
            "type": "scattergl"
           }
          ],
          "scattermapbox": [
           {
            "marker": {
             "colorbar": {
              "outlinewidth": 0,
              "ticks": ""
             }
            },
            "type": "scattermapbox"
           }
          ],
          "scatterpolar": [
           {
            "marker": {
             "colorbar": {
              "outlinewidth": 0,
              "ticks": ""
             }
            },
            "type": "scatterpolar"
           }
          ],
          "scatterpolargl": [
           {
            "marker": {
             "colorbar": {
              "outlinewidth": 0,
              "ticks": ""
             }
            },
            "type": "scatterpolargl"
           }
          ],
          "scatterternary": [
           {
            "marker": {
             "colorbar": {
              "outlinewidth": 0,
              "ticks": ""
             }
            },
            "type": "scatterternary"
           }
          ],
          "surface": [
           {
            "colorbar": {
             "outlinewidth": 0,
             "ticks": ""
            },
            "colorscale": [
             [
              0,
              "#0d0887"
             ],
             [
              0.1111111111111111,
              "#46039f"
             ],
             [
              0.2222222222222222,
              "#7201a8"
             ],
             [
              0.3333333333333333,
              "#9c179e"
             ],
             [
              0.4444444444444444,
              "#bd3786"
             ],
             [
              0.5555555555555556,
              "#d8576b"
             ],
             [
              0.6666666666666666,
              "#ed7953"
             ],
             [
              0.7777777777777778,
              "#fb9f3a"
             ],
             [
              0.8888888888888888,
              "#fdca26"
             ],
             [
              1,
              "#f0f921"
             ]
            ],
            "type": "surface"
           }
          ],
          "table": [
           {
            "cells": {
             "fill": {
              "color": "#EBF0F8"
             },
             "line": {
              "color": "white"
             }
            },
            "header": {
             "fill": {
              "color": "#C8D4E3"
             },
             "line": {
              "color": "white"
             }
            },
            "type": "table"
           }
          ]
         },
         "layout": {
          "annotationdefaults": {
           "arrowcolor": "#2a3f5f",
           "arrowhead": 0,
           "arrowwidth": 1
          },
          "autotypenumbers": "strict",
          "coloraxis": {
           "colorbar": {
            "outlinewidth": 0,
            "ticks": ""
           }
          },
          "colorscale": {
           "diverging": [
            [
             0,
             "#8e0152"
            ],
            [
             0.1,
             "#c51b7d"
            ],
            [
             0.2,
             "#de77ae"
            ],
            [
             0.3,
             "#f1b6da"
            ],
            [
             0.4,
             "#fde0ef"
            ],
            [
             0.5,
             "#f7f7f7"
            ],
            [
             0.6,
             "#e6f5d0"
            ],
            [
             0.7,
             "#b8e186"
            ],
            [
             0.8,
             "#7fbc41"
            ],
            [
             0.9,
             "#4d9221"
            ],
            [
             1,
             "#276419"
            ]
           ],
           "sequential": [
            [
             0,
             "#0d0887"
            ],
            [
             0.1111111111111111,
             "#46039f"
            ],
            [
             0.2222222222222222,
             "#7201a8"
            ],
            [
             0.3333333333333333,
             "#9c179e"
            ],
            [
             0.4444444444444444,
             "#bd3786"
            ],
            [
             0.5555555555555556,
             "#d8576b"
            ],
            [
             0.6666666666666666,
             "#ed7953"
            ],
            [
             0.7777777777777778,
             "#fb9f3a"
            ],
            [
             0.8888888888888888,
             "#fdca26"
            ],
            [
             1,
             "#f0f921"
            ]
           ],
           "sequentialminus": [
            [
             0,
             "#0d0887"
            ],
            [
             0.1111111111111111,
             "#46039f"
            ],
            [
             0.2222222222222222,
             "#7201a8"
            ],
            [
             0.3333333333333333,
             "#9c179e"
            ],
            [
             0.4444444444444444,
             "#bd3786"
            ],
            [
             0.5555555555555556,
             "#d8576b"
            ],
            [
             0.6666666666666666,
             "#ed7953"
            ],
            [
             0.7777777777777778,
             "#fb9f3a"
            ],
            [
             0.8888888888888888,
             "#fdca26"
            ],
            [
             1,
             "#f0f921"
            ]
           ]
          },
          "colorway": [
           "#636efa",
           "#EF553B",
           "#00cc96",
           "#ab63fa",
           "#FFA15A",
           "#19d3f3",
           "#FF6692",
           "#B6E880",
           "#FF97FF",
           "#FECB52"
          ],
          "font": {
           "color": "#2a3f5f"
          },
          "geo": {
           "bgcolor": "white",
           "lakecolor": "white",
           "landcolor": "#E5ECF6",
           "showlakes": true,
           "showland": true,
           "subunitcolor": "white"
          },
          "hoverlabel": {
           "align": "left"
          },
          "hovermode": "closest",
          "mapbox": {
           "style": "light"
          },
          "paper_bgcolor": "white",
          "plot_bgcolor": "#E5ECF6",
          "polar": {
           "angularaxis": {
            "gridcolor": "white",
            "linecolor": "white",
            "ticks": ""
           },
           "bgcolor": "#E5ECF6",
           "radialaxis": {
            "gridcolor": "white",
            "linecolor": "white",
            "ticks": ""
           }
          },
          "scene": {
           "xaxis": {
            "backgroundcolor": "#E5ECF6",
            "gridcolor": "white",
            "gridwidth": 2,
            "linecolor": "white",
            "showbackground": true,
            "ticks": "",
            "zerolinecolor": "white"
           },
           "yaxis": {
            "backgroundcolor": "#E5ECF6",
            "gridcolor": "white",
            "gridwidth": 2,
            "linecolor": "white",
            "showbackground": true,
            "ticks": "",
            "zerolinecolor": "white"
           },
           "zaxis": {
            "backgroundcolor": "#E5ECF6",
            "gridcolor": "white",
            "gridwidth": 2,
            "linecolor": "white",
            "showbackground": true,
            "ticks": "",
            "zerolinecolor": "white"
           }
          },
          "shapedefaults": {
           "line": {
            "color": "#2a3f5f"
           }
          },
          "ternary": {
           "aaxis": {
            "gridcolor": "white",
            "linecolor": "white",
            "ticks": ""
           },
           "baxis": {
            "gridcolor": "white",
            "linecolor": "white",
            "ticks": ""
           },
           "bgcolor": "#E5ECF6",
           "caxis": {
            "gridcolor": "white",
            "linecolor": "white",
            "ticks": ""
           }
          },
          "title": {
           "x": 0.05
          },
          "xaxis": {
           "automargin": true,
           "gridcolor": "white",
           "linecolor": "white",
           "ticks": "",
           "title": {
            "standoff": 15
           },
           "zerolinecolor": "white",
           "zerolinewidth": 2
          },
          "yaxis": {
           "automargin": true,
           "gridcolor": "white",
           "linecolor": "white",
           "ticks": "",
           "title": {
            "standoff": 15
           },
           "zerolinecolor": "white",
           "zerolinewidth": 2
          }
         }
        },
        "title": {
         "text": "Зависимость средней абсолютной ошибки от<br>размера скользящего окна"
        },
        "width": 1280,
        "xaxis": {
         "title": {
          "text": "Размер скользящего окна"
         }
        },
        "yaxis": {
         "title": {
          "text": "Средняя абсолютная ошибка"
         }
        }
       }
      }
     },
     "metadata": {},
     "output_type": "display_data"
    }
   ],
   "source": [
    "# Plotting results\n",
    "fig = go.Figure()\n",
    "fig.add_trace(\n",
    "    go.Scatter(x=all_sizes, y=all_mapes,\n",
    "               name='Все наблюдения', mode='markers')\n",
    ")\n",
    "fig.add_trace(\n",
    "    go.Scatter(x=window_sizes, y=mapes_mean,\n",
    "               name='Средние значения', mode='lines+markers')\n",
    ")\n",
    "fig.update_layout(\n",
    "    title='Зависимость средней абсолютной ошибки от<br>размера скользящего окна',\n",
    "    font=dict(size=20),\n",
    "    xaxis=dict(title='Размер скользящего окна'),\n",
    "    yaxis=dict(title='Средняя абсолютная ошибка'),\n",
    "    width=1280,\n",
    "    height=720\n",
    ")\n",
    "fig.show()"
   ]
  },
  {
   "cell_type": "code",
   "execution_count": 9,
   "metadata": {},
   "outputs": [
    {
     "name": "stdout",
     "output_type": "stream",
     "text": [
      "TRAINING FINISHED\n",
      "Epoch 2000/2000, Loss: 0.034509\n",
      "MAPE: 0.012212\n",
      "TEST\n",
      "Предсказания на тестовой выборке:\n",
      " [18.00383565 19.17017873 20.10163977]\n",
      "Истинное значение на тестовой выборке:\n",
      " [18 19 20]\n",
      "MAPE: 0.4751%\n"
     ]
    }
   ],
   "source": [
    "# Arithmetic\n",
    "seq_length = 20\n",
    "window_size = 5\n",
    "batch_size = 2\n",
    "hidden_size = 10\n",
    "output_size = 3\n",
    "\n",
    "sequence = list(arithmetic_progression(seq_length, 1, 1))\n",
    "X, y = create_sliding_window_batches(sequence, window_size, batch_size, output_size)\n",
    "\n",
    "verbosity = 5000\n",
    "model = GRUModel(window_size, hidden_size, output_size)\n",
    "\n",
    "# Параметры обучения\n",
    "lr = 1e-3\n",
    "epochs = 2000\n",
    "\n",
    "model.train(x=X, y=y, lr=lr, max_epochs=epochs, verbosity=verbosity)\n",
    "\n",
    "print('TEST')\n",
    "y_pred, _, _ = model.forward(X)\n",
    "print(\"Предсказания на тестовой выборке:\\n\", y_pred[-1][-1])\n",
    "print(\"Истинное значение на тестовой выборке:\\n\", y[-1][-1])\n",
    "print(f\"MAPE: {mape(y[-1][-1], y_pred[-1][-1]) * 100:.4f}%\")  "
   ]
  },
  {
   "cell_type": "code",
   "execution_count": 10,
   "metadata": {},
   "outputs": [
    {
     "name": "stdout",
     "output_type": "stream",
     "text": [
      "TRAINING FINISHED\n",
      "Epoch 2000/2000, Loss: 401.406563\n",
      "MAPE: 0.249506\n",
      "TEST\n",
      "Предсказания на тестовой выборке:\n",
      " [124.3206073  201.14490545 325.4805035 ]\n",
      "Истинное значение на тестовой выборке:\n",
      " [144 233 377]\n",
      "MAPE: 13.6679%\n"
     ]
    }
   ],
   "source": [
    "# Fibonacci\n",
    "seq_length = 15\n",
    "window_size = 5\n",
    "batch_size = 2\n",
    "hidden_size = 10\n",
    "output_size = 3\n",
    "\n",
    "sequence = list(fibonacci_generator(seq_length))\n",
    "X, y = create_sliding_window_batches(sequence, window_size, batch_size, output_size)\n",
    "\n",
    "verbosity = 5000\n",
    "model = GRUModel(window_size, hidden_size, output_size)\n",
    "\n",
    "# Параметры обучения\n",
    "lr = 1e-3\n",
    "epochs = 2000\n",
    "\n",
    "model.train(x=X, y=y, lr=lr, max_epochs=epochs, verbosity=verbosity)\n",
    "\n",
    "print('TEST')\n",
    "y_pred, _, _ = model.forward(X)\n",
    "print(\"Предсказания на тестовой выборке:\\n\", y_pred[-1][-1])\n",
    "print(\"Истинное значение на тестовой выборке:\\n\", y[-1][-1])\n",
    "print(f\"MAPE: {mape(y[-1][-1], y_pred[-1][-1]) * 100:.4f}%\")"
   ]
  },
  {
   "cell_type": "code",
   "execution_count": 11,
   "metadata": {},
   "outputs": [
    {
     "name": "stdout",
     "output_type": "stream",
     "text": [
      "TRAINING FINISHED\n",
      "Epoch 2000/2000, Loss: 0.001185\n",
      "MAPE: 0.249061\n",
      "TEST\n",
      "Предсказания на тестовой выборке:\n",
      " [0.06865588 0.0529477  0.07845942]\n",
      "Истинное значение на тестовой выборке:\n",
      " [0.05555556 0.05263158 0.05      ]\n",
      "MAPE: 27.0334%\n"
     ]
    }
   ],
   "source": [
    "# 1 / n\n",
    "seq_length = 20\n",
    "window_size = 5\n",
    "batch_size = 2\n",
    "hidden_size = 10\n",
    "output_size = 3\n",
    "\n",
    "sequence = list(one_by_n_generator(seq_length))\n",
    "X, y = create_sliding_window_batches(sequence, window_size, batch_size, output_size)\n",
    "\n",
    "verbosity = 5000\n",
    "model = GRUModel(window_size, hidden_size, output_size)\n",
    "\n",
    "# Параметры обучения\n",
    "lr = 1e-3\n",
    "epochs = 2000\n",
    "\n",
    "model.train(x=X, y=y, lr=lr, max_epochs=epochs, verbosity=verbosity)\n",
    "\n",
    "print('TEST')\n",
    "y_pred, _, _ = model.forward(X)\n",
    "print(\"Предсказания на тестовой выборке:\\n\", y_pred[-1][-1])\n",
    "print(\"Истинное значение на тестовой выборке:\\n\", y[-1][-1])\n",
    "print(f\"MAPE: {mape(y[-1][-1], y_pred[-1][-1]) * 100:.4f}%\")"
   ]
  },
  {
   "cell_type": "code",
   "execution_count": 18,
   "metadata": {},
   "outputs": [
    {
     "name": "stdout",
     "output_type": "stream",
     "text": [
      "Epoch 2000/20000, Loss: 0.067609\n",
      "MAPE: 0.180630\n",
      "Epoch 4000/20000, Loss: 0.040364\n",
      "MAPE: 0.142345\n",
      "Epoch 6000/20000, Loss: 0.026233\n",
      "MAPE: 0.111760\n",
      "Epoch 8000/20000, Loss: 0.018843\n",
      "MAPE: 0.089739\n",
      "Epoch 10000/20000, Loss: 0.014775\n",
      "MAPE: 0.075359\n",
      "Epoch 12000/20000, Loss: 0.012267\n",
      "MAPE: 0.066537\n",
      "Epoch 14000/20000, Loss: 0.010498\n",
      "MAPE: 0.060230\n",
      "Epoch 16000/20000, Loss: 0.009119\n",
      "MAPE: 0.056046\n",
      "Epoch 18000/20000, Loss: 0.007991\n",
      "MAPE: 0.052257\n",
      "Epoch 20000/20000, Loss: 0.007051\n",
      "MAPE: 0.049284\n",
      "TRAINING FINISHED\n",
      "Epoch 20000/20000, Loss: 0.007051\n",
      "MAPE: 0.049284\n",
      "TEST\n",
      "Предсказания на тестовой выборке:\n",
      " [-0.98057382  1.04345501 -1.07653309]\n",
      "Истинное значение на тестовой выборке:\n",
      " [-1  1 -1]\n",
      "MAPE: 4.6471%\n"
     ]
    }
   ],
   "source": [
    "# 1, -1, 1, -1, ...\n",
    "seq_length = 20\n",
    "window_size = 5\n",
    "batch_size = 2\n",
    "hidden_size = 10\n",
    "output_size = 3\n",
    "\n",
    "sequence = list(plus_one_minus_one_generator(seq_length))\n",
    "X, y = create_sliding_window_batches(sequence, window_size, batch_size, output_size)\n",
    "\n",
    "verbosity = 2000\n",
    "model = GRUModel(window_size, hidden_size, output_size)\n",
    "\n",
    "# Параметры обучения\n",
    "lr = 1e-3\n",
    "epochs = 20000\n",
    "\n",
    "model.train(x=X, y=y, lr=lr, max_epochs=epochs, verbosity=verbosity)\n",
    "\n",
    "print('TEST')\n",
    "y_pred, _, _ = model.forward(X)\n",
    "print(\"Предсказания на тестовой выборке:\\n\", y_pred[-1][-1])\n",
    "print(\"Истинное значение на тестовой выборке:\\n\", y[-1][-1])\n",
    "print(f\"MAPE: {mape(y[-1][-1], y_pred[-1][-1]) * 100:.4f}%\") "
   ]
  },
  {
   "cell_type": "code",
   "execution_count": 13,
   "metadata": {},
   "outputs": [
    {
     "name": "stdout",
     "output_type": "stream",
     "text": [
      "TRAINING FINISHED\n",
      "Epoch 2000/2000, Loss: 0.456573\n",
      "MAPE: 0.012882\n",
      "TEST\n",
      "Предсказания на тестовой выборке:\n",
      " [64.17992591 81.05429415 99.86305664]\n",
      "Истинное значение на тестовой выборке:\n",
      " [ 64  81 100]\n",
      "MAPE: 0.1617%\n"
     ]
    }
   ],
   "source": [
    "# n ** 2\n",
    "seq_length = 10\n",
    "window_size = 3\n",
    "batch_size = 2\n",
    "hidden_size = 10\n",
    "output_size = 3\n",
    "\n",
    "sequence = list(squared_generator(seq_length))\n",
    "X, y = create_sliding_window_batches(sequence, window_size, batch_size, output_size)\n",
    "\n",
    "verbosity = 5000\n",
    "model = GRUModel(window_size, hidden_size, output_size)\n",
    "\n",
    "# Параметры обучения\n",
    "lr = 1e-3\n",
    "epochs = 2000\n",
    "\n",
    "model.train(x=X, y=y, lr=lr, max_epochs=epochs, verbosity=verbosity)\n",
    "\n",
    "print('TEST')\n",
    "y_pred, _, _ = model.forward(X)\n",
    "print(\"Предсказания на тестовой выборке:\\n\", y_pred[-1][-1])\n",
    "print(\"Истинное значение на тестовой выборке:\\n\", y[-1][-1])\n",
    "print(f\"MAPE: {mape(y[-1][-1], y_pred[-1][-1]) * 100:.4f}%\") "
   ]
  }
 ],
 "metadata": {
  "kernelspec": {
   "display_name": ".venv",
   "language": "python",
   "name": "python3"
  },
  "language_info": {
   "codemirror_mode": {
    "name": "ipython",
    "version": 3
   },
   "file_extension": ".py",
   "mimetype": "text/x-python",
   "name": "python",
   "nbconvert_exporter": "python",
   "pygments_lexer": "ipython3",
   "version": "3.11.9"
  }
 },
 "nbformat": 4,
 "nbformat_minor": 2
}
