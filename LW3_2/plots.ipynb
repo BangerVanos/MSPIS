{
 "cells": [
  {
   "cell_type": "code",
   "execution_count": 53,
   "metadata": {},
   "outputs": [],
   "source": [
    "# Лабораторная работа 3 по дисциплине МРЗвИС\n",
    "# Выполнена студентом группы 121702\n",
    "# БГУИР Заломов Роман Андреевич\n",
    "#\n",
    "# Вариант 15: Реализовать модель рекуррентной сети с цепью нейросетевых моделей управляемых рекуррентных блоков \n",
    "# с логарифмической функцией активации (гиперболический арксинус) выходного сигнала на скрытом слое\n",
    "#\n",
    "# 24.12.24\n",
    "# Данный файл содержит код построения графиков различных зависимостей"
   ]
  },
  {
   "cell_type": "code",
   "execution_count": 54,
   "metadata": {},
   "outputs": [],
   "source": [
    "import numpy as np\n",
    "from gru import (\n",
    "    GRUModel,\n",
    "    fibonacci_generator,\n",
    "    one_by_n_generator,\n",
    "    plus_one_minus_one_generator,\n",
    "    squared_generator,\n",
    "    half_generator,\n",
    "    arithmetic_progression,\n",
    "    create_sliding_window_batches,\n",
    "    one_half_generator,\n",
    "    sin_generator,    \n",
    "    mape\n",
    ")\n",
    "from gru_with_adam import GRUAdam\n",
    "import plotly.graph_objects as go\n",
    "from math import pi"
   ]
  },
  {
   "cell_type": "code",
   "execution_count": 55,
   "metadata": {},
   "outputs": [],
   "source": [
    "def scale_sequence(sequence):\n",
    "    mean = np.mean(sequence)\n",
    "    deviation = np.std(sequence)    \n",
    "    scaled = (np.array(sequence) - mean) / deviation    \n",
    "    return scaled, mean, deviation\n",
    "\n",
    "def descale_sequence(scaled, mean, deviation):\n",
    "    descaled = scaled * deviation + mean\n",
    "    return descaled\n",
    "\n",
    "def predict_next_n_elements(sequence, window_size, batch_size, hidden_size, n,\n",
    "                            max_epochs, verbosity, lr, use_adam: bool = False):\n",
    "    scaled, mean, deviation = scale_sequence(sequence)        \n",
    "    # scaled = sequence  \n",
    "    X, y = create_sliding_window_batches(scaled, window_size, batch_size, n)\n",
    "    if not use_adam:\n",
    "        model = GRUModel(window_size, hidden_size, n)\n",
    "    else:\n",
    "        model = GRUAdam(window_size, hidden_size, n)\n",
    "    model.train(X, y, lr, max_epochs, verbosity=verbosity)\n",
    "    train_pred, _, _ = model.forward(X)\n",
    "    training_mape = mape(y, train_pred)           \n",
    "    x_last = np.vstack(tuple(scaled[-window_size:] for _ in range(batch_size)))\n",
    "    x_last = np.expand_dims(x_last, axis=0)    \n",
    "    pred, _, _ = model.forward(x_last)\n",
    "    descaled_pred = descale_sequence(pred[-1][-1], mean, deviation)\n",
    "    # descaled_pred = pred[-1][-1]\n",
    "    return training_mape, model, descaled_pred, mean, deviation"
   ]
  },
  {
   "cell_type": "code",
   "execution_count": 56,
   "metadata": {},
   "outputs": [
    {
     "name": "stdout",
     "output_type": "stream",
     "text": [
      "TRAINING FINISHED\n",
      "Epoch 100/100, Loss: 0.183219\n",
      "MAPE: 81.713292%\n",
      "TRAINING FINISHED\n",
      "Epoch 100/100, Loss: 0.245824\n",
      "MAPE: 97.319597%\n",
      "TRAINING FINISHED\n",
      "Epoch 100/100, Loss: 0.213274\n",
      "MAPE: 97.276740%\n",
      "TRAINING FINISHED\n",
      "Epoch 100/100, Loss: 0.215889\n",
      "MAPE: 104.716029%\n",
      "TRAINING FINISHED\n",
      "Epoch 100/100, Loss: 0.172576\n",
      "MAPE: 83.801975%\n",
      "TRAINING FINISHED\n",
      "Epoch 200/200, Loss: 0.086650\n",
      "MAPE: 69.491097%\n",
      "TRAINING FINISHED\n",
      "Epoch 200/200, Loss: 0.154460\n",
      "MAPE: 86.888960%\n",
      "TRAINING FINISHED\n",
      "Epoch 200/200, Loss: 0.097917\n",
      "MAPE: 68.467048%\n",
      "TRAINING FINISHED\n",
      "Epoch 200/200, Loss: 0.128618\n",
      "MAPE: 74.005516%\n",
      "TRAINING FINISHED\n",
      "Epoch 200/200, Loss: 0.136882\n",
      "MAPE: 83.319917%\n",
      "TRAINING FINISHED\n",
      "Epoch 300/300, Loss: 0.053142\n",
      "MAPE: 48.297127%\n",
      "TRAINING FINISHED\n",
      "Epoch 300/300, Loss: 0.050055\n",
      "MAPE: 46.865870%\n",
      "TRAINING FINISHED\n",
      "Epoch 300/300, Loss: 0.069713\n",
      "MAPE: 59.921694%\n",
      "TRAINING FINISHED\n",
      "Epoch 300/300, Loss: 0.074936\n",
      "MAPE: 70.825347%\n",
      "TRAINING FINISHED\n",
      "Epoch 300/300, Loss: 0.069255\n",
      "MAPE: 66.564396%\n",
      "TRAINING FINISHED\n",
      "Epoch 400/400, Loss: 0.063667\n",
      "MAPE: 60.560239%\n",
      "TRAINING FINISHED\n",
      "Epoch 400/400, Loss: 0.038403\n",
      "MAPE: 42.491272%\n",
      "TRAINING FINISHED\n",
      "Epoch 400/400, Loss: 0.014476\n",
      "MAPE: 33.281043%\n",
      "TRAINING FINISHED\n",
      "Epoch 400/400, Loss: 0.081505\n",
      "MAPE: 65.126380%\n",
      "TRAINING FINISHED\n",
      "Epoch 400/400, Loss: 0.013480\n",
      "MAPE: 31.980034%\n",
      "TRAINING FINISHED\n",
      "Epoch 500/500, Loss: 0.010994\n",
      "MAPE: 21.202828%\n",
      "TRAINING FINISHED\n",
      "Epoch 500/500, Loss: 0.014012\n",
      "MAPE: 29.662534%\n",
      "TRAINING FINISHED\n",
      "Epoch 500/500, Loss: 0.024732\n",
      "MAPE: 36.185318%\n",
      "TRAINING FINISHED\n",
      "Epoch 500/500, Loss: 0.019463\n",
      "MAPE: 32.879163%\n",
      "TRAINING FINISHED\n",
      "Epoch 500/500, Loss: 0.018846\n",
      "MAPE: 32.626260%\n",
      "TRAINING FINISHED\n",
      "Epoch 600/600, Loss: 0.014352\n",
      "MAPE: 30.955375%\n",
      "TRAINING FINISHED\n",
      "Epoch 600/600, Loss: 0.067202\n",
      "MAPE: 67.501428%\n",
      "TRAINING FINISHED\n",
      "Epoch 600/600, Loss: 0.010449\n",
      "MAPE: 28.916168%\n",
      "TRAINING FINISHED\n",
      "Epoch 600/600, Loss: 0.007062\n",
      "MAPE: 27.335849%\n",
      "TRAINING FINISHED\n",
      "Epoch 600/600, Loss: 0.034215\n",
      "MAPE: 55.217559%\n",
      "TRAINING FINISHED\n",
      "Epoch 700/700, Loss: 0.005894\n",
      "MAPE: 25.701058%\n",
      "TRAINING FINISHED\n",
      "Epoch 700/700, Loss: 0.013282\n",
      "MAPE: 32.586759%\n",
      "TRAINING FINISHED\n",
      "Epoch 700/700, Loss: 0.016621\n",
      "MAPE: 39.115797%\n",
      "TRAINING FINISHED\n",
      "Epoch 700/700, Loss: 0.021957\n",
      "MAPE: 44.947993%\n",
      "TRAINING FINISHED\n",
      "Epoch 700/700, Loss: 0.008356\n",
      "MAPE: 30.282842%\n",
      "TRAINING FINISHED\n",
      "Epoch 800/800, Loss: 0.004409\n",
      "MAPE: 21.375323%\n",
      "TRAINING FINISHED\n",
      "Epoch 800/800, Loss: 0.009036\n",
      "MAPE: 30.394569%\n",
      "TRAINING FINISHED\n",
      "Epoch 800/800, Loss: 0.005129\n",
      "MAPE: 20.250215%\n",
      "TRAINING FINISHED\n",
      "Epoch 800/800, Loss: 0.009592\n",
      "MAPE: 24.626539%\n",
      "TRAINING FINISHED\n",
      "Epoch 800/800, Loss: 0.003497\n",
      "MAPE: 16.668606%\n",
      "TRAINING FINISHED\n",
      "Epoch 900/900, Loss: 0.002778\n",
      "MAPE: 15.918241%\n",
      "TRAINING FINISHED\n",
      "Epoch 900/900, Loss: 0.004237\n",
      "MAPE: 20.920851%\n",
      "TRAINING FINISHED\n",
      "Epoch 900/900, Loss: 0.009123\n",
      "MAPE: 28.824876%\n",
      "TRAINING FINISHED\n",
      "Epoch 900/900, Loss: 0.007168\n",
      "MAPE: 26.138377%\n",
      "TRAINING FINISHED\n",
      "Epoch 900/900, Loss: 0.008092\n",
      "MAPE: 28.438481%\n",
      "TRAINING FINISHED\n",
      "Epoch 1000/1000, Loss: 0.004824\n",
      "MAPE: 21.403743%\n",
      "TRAINING FINISHED\n",
      "Epoch 1000/1000, Loss: 0.006370\n",
      "MAPE: 23.495858%\n",
      "TRAINING FINISHED\n",
      "Epoch 1000/1000, Loss: 0.001780\n",
      "MAPE: 14.414809%\n",
      "TRAINING FINISHED\n",
      "Epoch 1000/1000, Loss: 0.009136\n",
      "MAPE: 29.958119%\n",
      "TRAINING FINISHED\n",
      "Epoch 1000/1000, Loss: 0.003109\n",
      "MAPE: 16.957720%\n",
      "TRAINING FINISHED\n",
      "Epoch 1100/1100, Loss: 0.004230\n",
      "MAPE: 20.752223%\n",
      "TRAINING FINISHED\n",
      "Epoch 1100/1100, Loss: 0.011098\n",
      "MAPE: 34.039451%\n",
      "TRAINING FINISHED\n",
      "Epoch 1100/1100, Loss: 0.008526\n",
      "MAPE: 31.681944%\n",
      "TRAINING FINISHED\n",
      "Epoch 1100/1100, Loss: 0.007955\n",
      "MAPE: 25.912226%\n",
      "TRAINING FINISHED\n",
      "Epoch 1100/1100, Loss: 0.005488\n",
      "MAPE: 23.536529%\n",
      "TRAINING FINISHED\n",
      "Epoch 1200/1200, Loss: 0.006575\n",
      "MAPE: 27.826715%\n",
      "TRAINING FINISHED\n",
      "Epoch 1200/1200, Loss: 0.003893\n",
      "MAPE: 19.891368%\n",
      "TRAINING FINISHED\n",
      "Epoch 1200/1200, Loss: 0.012240\n",
      "MAPE: 35.868223%\n",
      "TRAINING FINISHED\n",
      "Epoch 1200/1200, Loss: 0.004443\n",
      "MAPE: 21.334223%\n",
      "TRAINING FINISHED\n",
      "Epoch 1200/1200, Loss: 0.011749\n",
      "MAPE: 32.003348%\n",
      "TRAINING FINISHED\n",
      "Epoch 1300/1300, Loss: 0.008138\n",
      "MAPE: 27.500717%\n",
      "TRAINING FINISHED\n",
      "Epoch 1300/1300, Loss: 0.005854\n",
      "MAPE: 25.817142%\n",
      "TRAINING FINISHED\n",
      "Epoch 1300/1300, Loss: 0.004951\n",
      "MAPE: 22.548369%\n",
      "TRAINING FINISHED\n",
      "Epoch 1300/1300, Loss: 0.005757\n",
      "MAPE: 26.355191%\n",
      "TRAINING FINISHED\n",
      "Epoch 1300/1300, Loss: 0.003181\n",
      "MAPE: 18.765572%\n",
      "TRAINING FINISHED\n",
      "Epoch 1400/1400, Loss: 0.003664\n",
      "MAPE: 21.136712%\n",
      "TRAINING FINISHED\n",
      "Epoch 1400/1400, Loss: 0.003688\n",
      "MAPE: 20.414336%\n",
      "TRAINING FINISHED\n",
      "Epoch 1400/1400, Loss: 0.005021\n",
      "MAPE: 22.976125%\n",
      "TRAINING FINISHED\n",
      "Epoch 1400/1400, Loss: 0.004720\n",
      "MAPE: 22.470162%\n",
      "TRAINING FINISHED\n",
      "Epoch 1400/1400, Loss: 0.005905\n",
      "MAPE: 26.234712%\n",
      "TRAINING FINISHED\n",
      "Epoch 1500/1500, Loss: 0.005732\n",
      "MAPE: 23.449381%\n",
      "TRAINING FINISHED\n",
      "Epoch 1500/1500, Loss: 0.002532\n",
      "MAPE: 17.364240%\n",
      "TRAINING FINISHED\n",
      "Epoch 1500/1500, Loss: 0.003804\n",
      "MAPE: 19.813634%\n",
      "TRAINING FINISHED\n",
      "Epoch 1500/1500, Loss: 0.005488\n",
      "MAPE: 25.258768%\n",
      "TRAINING FINISHED\n",
      "Epoch 1500/1500, Loss: 0.003205\n",
      "MAPE: 17.238547%\n",
      "TRAINING FINISHED\n",
      "Epoch 1600/1600, Loss: 0.005555\n",
      "MAPE: 22.946584%\n",
      "TRAINING FINISHED\n",
      "Epoch 1600/1600, Loss: 0.005112\n",
      "MAPE: 21.881792%\n",
      "TRAINING FINISHED\n",
      "Epoch 1600/1600, Loss: 0.004902\n",
      "MAPE: 22.057921%\n",
      "TRAINING FINISHED\n",
      "Epoch 1600/1600, Loss: 0.003101\n",
      "MAPE: 18.187922%\n",
      "TRAINING FINISHED\n",
      "Epoch 1600/1600, Loss: 0.005840\n",
      "MAPE: 23.947858%\n",
      "TRAINING FINISHED\n",
      "Epoch 1700/1700, Loss: 0.005839\n",
      "MAPE: 24.303006%\n",
      "TRAINING FINISHED\n",
      "Epoch 1700/1700, Loss: 0.007852\n",
      "MAPE: 29.102880%\n",
      "TRAINING FINISHED\n",
      "Epoch 1700/1700, Loss: 0.005700\n",
      "MAPE: 22.890970%\n",
      "TRAINING FINISHED\n",
      "Epoch 1700/1700, Loss: 0.004293\n",
      "MAPE: 21.892095%\n",
      "TRAINING FINISHED\n",
      "Epoch 1700/1700, Loss: 0.004750\n",
      "MAPE: 23.207652%\n",
      "TRAINING FINISHED\n",
      "Epoch 1800/1800, Loss: 0.004654\n",
      "MAPE: 23.435222%\n",
      "TRAINING FINISHED\n",
      "Epoch 1800/1800, Loss: 0.005237\n",
      "MAPE: 22.585085%\n",
      "TRAINING FINISHED\n",
      "Epoch 1800/1800, Loss: 0.002149\n",
      "MAPE: 15.241099%\n",
      "TRAINING FINISHED\n",
      "Epoch 1800/1800, Loss: 0.007003\n",
      "MAPE: 26.677745%\n",
      "TRAINING FINISHED\n",
      "Epoch 1800/1800, Loss: 0.003935\n",
      "MAPE: 20.955959%\n",
      "TRAINING FINISHED\n",
      "Epoch 1900/1900, Loss: 0.003419\n",
      "MAPE: 19.025566%\n",
      "TRAINING FINISHED\n",
      "Epoch 1900/1900, Loss: 0.003461\n",
      "MAPE: 19.308182%\n",
      "TRAINING FINISHED\n",
      "Epoch 1900/1900, Loss: 0.003137\n",
      "MAPE: 18.490097%\n",
      "TRAINING FINISHED\n",
      "Epoch 1900/1900, Loss: 0.003598\n",
      "MAPE: 20.644137%\n",
      "TRAINING FINISHED\n",
      "Epoch 1900/1900, Loss: 0.003622\n",
      "MAPE: 18.436327%\n",
      "TRAINING FINISHED\n",
      "Epoch 2000/2000, Loss: 0.003536\n",
      "MAPE: 18.469162%\n",
      "TRAINING FINISHED\n",
      "Epoch 2000/2000, Loss: 0.002471\n",
      "MAPE: 16.215798%\n",
      "TRAINING FINISHED\n",
      "Epoch 2000/2000, Loss: 0.009165\n",
      "MAPE: 31.927996%\n",
      "TRAINING FINISHED\n",
      "Epoch 2000/2000, Loss: 0.004016\n",
      "MAPE: 21.050058%\n",
      "TRAINING FINISHED\n",
      "Epoch 2000/2000, Loss: 0.002860\n",
      "MAPE: 16.351091%\n"
     ]
    }
   ],
   "source": [
    "experiments_amount = 5\n",
    "# epochs = np.linspace(1000, 35000, endpoint=True, num=10).astype(np.int32).tolist()\n",
    "epochs = list(range(100, 2100, 100))\n",
    "\n",
    "# np.random.seed(12345)\n",
    "\n",
    "all_mapes = []\n",
    "mapes_mean = []\n",
    "\n",
    "all_epochs: list[int] = []\n",
    "\n",
    "seq_length = 20\n",
    "window_size = 5\n",
    "batch_size = 1\n",
    "hidden_size = 6\n",
    "output_size = 3\n",
    "\n",
    "verbosity = 100000\n",
    "lr = 1e-2\n",
    "use_adam = False\n",
    "\n",
    "sequence = list(arithmetic_progression(seq_length + output_size, 1, 1))\n",
    "\n",
    "for max_epochs in epochs:    \n",
    "\n",
    "    # Training network for five times\n",
    "    mapes_sum = 0    \n",
    "    for _ in range(experiments_amount):        \n",
    "        train_sequence = sequence[:seq_length]\n",
    "        test_sequence = sequence[-output_size:]\n",
    "        training_mape, model, next_n_pred, mean, deviation = predict_next_n_elements(\n",
    "            train_sequence, window_size, batch_size,\n",
    "            hidden_size, output_size, max_epochs,\n",
    "            verbosity, lr, use_adam=use_adam\n",
    "        )\n",
    "        all_epochs.append(max_epochs)\n",
    "\n",
    "        # Test sequence mape\n",
    "        test_sequence = sequence[-output_size:]\n",
    "        test_mape = mape(test_sequence, next_n_pred)\n",
    "        mapes_sum += test_mape    \n",
    "        all_mapes.append(test_mape)\n",
    "            \n",
    "\n",
    "    # Average mape for epochs amount\n",
    "    mapes_mean.append(mapes_sum / experiments_amount)"
   ]
  },
  {
   "cell_type": "code",
   "execution_count": 57,
   "metadata": {},
   "outputs": [
    {
     "data": {
      "application/vnd.plotly.v1+json": {
       "config": {
        "plotlyServerURL": "https://plot.ly"
       },
       "data": [
        {
         "mode": "markers",
         "name": "Все наблюдения",
         "type": "scatter",
         "x": [
          100,
          100,
          100,
          100,
          100,
          200,
          200,
          200,
          200,
          200,
          300,
          300,
          300,
          300,
          300,
          400,
          400,
          400,
          400,
          400,
          500,
          500,
          500,
          500,
          500,
          600,
          600,
          600,
          600,
          600,
          700,
          700,
          700,
          700,
          700,
          800,
          800,
          800,
          800,
          800,
          900,
          900,
          900,
          900,
          900,
          1000,
          1000,
          1000,
          1000,
          1000,
          1100,
          1100,
          1100,
          1100,
          1100,
          1200,
          1200,
          1200,
          1200,
          1200,
          1300,
          1300,
          1300,
          1300,
          1300,
          1400,
          1400,
          1400,
          1400,
          1400,
          1500,
          1500,
          1500,
          1500,
          1500,
          1600,
          1600,
          1600,
          1600,
          1600,
          1700,
          1700,
          1700,
          1700,
          1700,
          1800,
          1800,
          1800,
          1800,
          1800,
          1900,
          1900,
          1900,
          1900,
          1900,
          2000,
          2000,
          2000,
          2000,
          2000
         ],
         "y": [
          0.4598028077695999,
          0.47691529007018,
          0.46137824496116986,
          0.4869616070503739,
          0.4169254650689774,
          0.34891810740407597,
          0.4291526681524395,
          0.39929013092692384,
          0.36442416939749306,
          0.3896438384249743,
          0.34497451586665867,
          0.3319245476370762,
          0.3625236811920438,
          0.37164672562500417,
          0.29810310520173683,
          0.31797517117770163,
          0.28434882586066623,
          0.2951365265917518,
          0.39786723910175814,
          0.2676791966111174,
          0.25766422110399884,
          0.2638281592217557,
          0.2599239613117184,
          0.2503573399581344,
          0.33774157924774234,
          0.2499483663936645,
          0.2565720956561115,
          0.2938596238699875,
          0.3159195141519037,
          0.23861937537855105,
          0.25876714170049336,
          0.21342265609662134,
          0.25657520324008326,
          0.1870187230926996,
          0.26353775676007274,
          0.2897849480739502,
          0.24729448568859558,
          0.24610371501194575,
          0.2536733349656442,
          0.2719436704341139,
          0.2975487446149009,
          0.25123934956568067,
          0.22412399578088915,
          0.2701872442008932,
          0.2287376214181591,
          0.2656933703353808,
          0.23602380513176882,
          0.30561963821097776,
          0.21704557863829801,
          0.215157550699288,
          0.27443158182368543,
          0.2123634438544443,
          0.2714938389180162,
          0.202394220072755,
          0.2780060125484665,
          0.2605572411189166,
          0.26922901507938546,
          0.2174681900605263,
          0.2722595514244693,
          0.15486276082927722,
          0.270475786802787,
          0.2268474579015929,
          0.18160471651389806,
          0.2782067902946067,
          0.3119130320372077,
          0.29093454528029694,
          0.27545180167957833,
          0.2202983414669195,
          0.23106732699541518,
          0.23166809814827335,
          0.20812753376425233,
          0.3129023275505607,
          0.219392892015119,
          0.17779066952601844,
          0.2287077268048691,
          0.24415497985662657,
          0.2054705133281086,
          0.21693394339823568,
          0.3286587266363983,
          0.2298993186681516,
          0.2532232090679277,
          0.2050552218059046,
          0.20008407734745895,
          0.2534646844703847,
          0.2617192801372938,
          0.24191695940032412,
          0.2728050105284218,
          0.2827840412183011,
          0.22720256735338842,
          0.2546146099387855,
          0.2568709814579985,
          0.28710001967234744,
          0.26486373839825544,
          0.2837754893710995,
          0.2712599243899934,
          0.21603873148826683,
          0.2359750028777429,
          0.20193611684014057,
          0.3255411664122438,
          0.279486481613316
         ]
        },
        {
         "mode": "lines+markers",
         "name": "Средние значения",
         "type": "scatter",
         "x": [
          100,
          200,
          300,
          400,
          500,
          600,
          700,
          800,
          900,
          1000,
          1100,
          1200,
          1300,
          1400,
          1500,
          1600,
          1700,
          1800,
          1900,
          2000
         ],
         "y": [
          0.4603966829840602,
          0.3862857828611813,
          0.34183451510450397,
          0.31260139186859903,
          0.27390305216866995,
          0.27098379509004367,
          0.23586429617799406,
          0.2617600308348499,
          0.2543673911161046,
          0.2479079886031427,
          0.24773781944347348,
          0.23487535170251497,
          0.2538095567100185,
          0.24988402271409665,
          0.22938422993216392,
          0.24502349637750412,
          0.23470929456579395,
          0.2558646376878442,
          0.27277403065793887,
          0.25179549984634203
         ]
        }
       ],
       "layout": {
        "font": {
         "size": 20
        },
        "height": 720,
        "template": {
         "data": {
          "bar": [
           {
            "error_x": {
             "color": "#2a3f5f"
            },
            "error_y": {
             "color": "#2a3f5f"
            },
            "marker": {
             "line": {
              "color": "#E5ECF6",
              "width": 0.5
             },
             "pattern": {
              "fillmode": "overlay",
              "size": 10,
              "solidity": 0.2
             }
            },
            "type": "bar"
           }
          ],
          "barpolar": [
           {
            "marker": {
             "line": {
              "color": "#E5ECF6",
              "width": 0.5
             },
             "pattern": {
              "fillmode": "overlay",
              "size": 10,
              "solidity": 0.2
             }
            },
            "type": "barpolar"
           }
          ],
          "carpet": [
           {
            "aaxis": {
             "endlinecolor": "#2a3f5f",
             "gridcolor": "white",
             "linecolor": "white",
             "minorgridcolor": "white",
             "startlinecolor": "#2a3f5f"
            },
            "baxis": {
             "endlinecolor": "#2a3f5f",
             "gridcolor": "white",
             "linecolor": "white",
             "minorgridcolor": "white",
             "startlinecolor": "#2a3f5f"
            },
            "type": "carpet"
           }
          ],
          "choropleth": [
           {
            "colorbar": {
             "outlinewidth": 0,
             "ticks": ""
            },
            "type": "choropleth"
           }
          ],
          "contour": [
           {
            "colorbar": {
             "outlinewidth": 0,
             "ticks": ""
            },
            "colorscale": [
             [
              0,
              "#0d0887"
             ],
             [
              0.1111111111111111,
              "#46039f"
             ],
             [
              0.2222222222222222,
              "#7201a8"
             ],
             [
              0.3333333333333333,
              "#9c179e"
             ],
             [
              0.4444444444444444,
              "#bd3786"
             ],
             [
              0.5555555555555556,
              "#d8576b"
             ],
             [
              0.6666666666666666,
              "#ed7953"
             ],
             [
              0.7777777777777778,
              "#fb9f3a"
             ],
             [
              0.8888888888888888,
              "#fdca26"
             ],
             [
              1,
              "#f0f921"
             ]
            ],
            "type": "contour"
           }
          ],
          "contourcarpet": [
           {
            "colorbar": {
             "outlinewidth": 0,
             "ticks": ""
            },
            "type": "contourcarpet"
           }
          ],
          "heatmap": [
           {
            "colorbar": {
             "outlinewidth": 0,
             "ticks": ""
            },
            "colorscale": [
             [
              0,
              "#0d0887"
             ],
             [
              0.1111111111111111,
              "#46039f"
             ],
             [
              0.2222222222222222,
              "#7201a8"
             ],
             [
              0.3333333333333333,
              "#9c179e"
             ],
             [
              0.4444444444444444,
              "#bd3786"
             ],
             [
              0.5555555555555556,
              "#d8576b"
             ],
             [
              0.6666666666666666,
              "#ed7953"
             ],
             [
              0.7777777777777778,
              "#fb9f3a"
             ],
             [
              0.8888888888888888,
              "#fdca26"
             ],
             [
              1,
              "#f0f921"
             ]
            ],
            "type": "heatmap"
           }
          ],
          "heatmapgl": [
           {
            "colorbar": {
             "outlinewidth": 0,
             "ticks": ""
            },
            "colorscale": [
             [
              0,
              "#0d0887"
             ],
             [
              0.1111111111111111,
              "#46039f"
             ],
             [
              0.2222222222222222,
              "#7201a8"
             ],
             [
              0.3333333333333333,
              "#9c179e"
             ],
             [
              0.4444444444444444,
              "#bd3786"
             ],
             [
              0.5555555555555556,
              "#d8576b"
             ],
             [
              0.6666666666666666,
              "#ed7953"
             ],
             [
              0.7777777777777778,
              "#fb9f3a"
             ],
             [
              0.8888888888888888,
              "#fdca26"
             ],
             [
              1,
              "#f0f921"
             ]
            ],
            "type": "heatmapgl"
           }
          ],
          "histogram": [
           {
            "marker": {
             "pattern": {
              "fillmode": "overlay",
              "size": 10,
              "solidity": 0.2
             }
            },
            "type": "histogram"
           }
          ],
          "histogram2d": [
           {
            "colorbar": {
             "outlinewidth": 0,
             "ticks": ""
            },
            "colorscale": [
             [
              0,
              "#0d0887"
             ],
             [
              0.1111111111111111,
              "#46039f"
             ],
             [
              0.2222222222222222,
              "#7201a8"
             ],
             [
              0.3333333333333333,
              "#9c179e"
             ],
             [
              0.4444444444444444,
              "#bd3786"
             ],
             [
              0.5555555555555556,
              "#d8576b"
             ],
             [
              0.6666666666666666,
              "#ed7953"
             ],
             [
              0.7777777777777778,
              "#fb9f3a"
             ],
             [
              0.8888888888888888,
              "#fdca26"
             ],
             [
              1,
              "#f0f921"
             ]
            ],
            "type": "histogram2d"
           }
          ],
          "histogram2dcontour": [
           {
            "colorbar": {
             "outlinewidth": 0,
             "ticks": ""
            },
            "colorscale": [
             [
              0,
              "#0d0887"
             ],
             [
              0.1111111111111111,
              "#46039f"
             ],
             [
              0.2222222222222222,
              "#7201a8"
             ],
             [
              0.3333333333333333,
              "#9c179e"
             ],
             [
              0.4444444444444444,
              "#bd3786"
             ],
             [
              0.5555555555555556,
              "#d8576b"
             ],
             [
              0.6666666666666666,
              "#ed7953"
             ],
             [
              0.7777777777777778,
              "#fb9f3a"
             ],
             [
              0.8888888888888888,
              "#fdca26"
             ],
             [
              1,
              "#f0f921"
             ]
            ],
            "type": "histogram2dcontour"
           }
          ],
          "mesh3d": [
           {
            "colorbar": {
             "outlinewidth": 0,
             "ticks": ""
            },
            "type": "mesh3d"
           }
          ],
          "parcoords": [
           {
            "line": {
             "colorbar": {
              "outlinewidth": 0,
              "ticks": ""
             }
            },
            "type": "parcoords"
           }
          ],
          "pie": [
           {
            "automargin": true,
            "type": "pie"
           }
          ],
          "scatter": [
           {
            "fillpattern": {
             "fillmode": "overlay",
             "size": 10,
             "solidity": 0.2
            },
            "type": "scatter"
           }
          ],
          "scatter3d": [
           {
            "line": {
             "colorbar": {
              "outlinewidth": 0,
              "ticks": ""
             }
            },
            "marker": {
             "colorbar": {
              "outlinewidth": 0,
              "ticks": ""
             }
            },
            "type": "scatter3d"
           }
          ],
          "scattercarpet": [
           {
            "marker": {
             "colorbar": {
              "outlinewidth": 0,
              "ticks": ""
             }
            },
            "type": "scattercarpet"
           }
          ],
          "scattergeo": [
           {
            "marker": {
             "colorbar": {
              "outlinewidth": 0,
              "ticks": ""
             }
            },
            "type": "scattergeo"
           }
          ],
          "scattergl": [
           {
            "marker": {
             "colorbar": {
              "outlinewidth": 0,
              "ticks": ""
             }
            },
            "type": "scattergl"
           }
          ],
          "scattermapbox": [
           {
            "marker": {
             "colorbar": {
              "outlinewidth": 0,
              "ticks": ""
             }
            },
            "type": "scattermapbox"
           }
          ],
          "scatterpolar": [
           {
            "marker": {
             "colorbar": {
              "outlinewidth": 0,
              "ticks": ""
             }
            },
            "type": "scatterpolar"
           }
          ],
          "scatterpolargl": [
           {
            "marker": {
             "colorbar": {
              "outlinewidth": 0,
              "ticks": ""
             }
            },
            "type": "scatterpolargl"
           }
          ],
          "scatterternary": [
           {
            "marker": {
             "colorbar": {
              "outlinewidth": 0,
              "ticks": ""
             }
            },
            "type": "scatterternary"
           }
          ],
          "surface": [
           {
            "colorbar": {
             "outlinewidth": 0,
             "ticks": ""
            },
            "colorscale": [
             [
              0,
              "#0d0887"
             ],
             [
              0.1111111111111111,
              "#46039f"
             ],
             [
              0.2222222222222222,
              "#7201a8"
             ],
             [
              0.3333333333333333,
              "#9c179e"
             ],
             [
              0.4444444444444444,
              "#bd3786"
             ],
             [
              0.5555555555555556,
              "#d8576b"
             ],
             [
              0.6666666666666666,
              "#ed7953"
             ],
             [
              0.7777777777777778,
              "#fb9f3a"
             ],
             [
              0.8888888888888888,
              "#fdca26"
             ],
             [
              1,
              "#f0f921"
             ]
            ],
            "type": "surface"
           }
          ],
          "table": [
           {
            "cells": {
             "fill": {
              "color": "#EBF0F8"
             },
             "line": {
              "color": "white"
             }
            },
            "header": {
             "fill": {
              "color": "#C8D4E3"
             },
             "line": {
              "color": "white"
             }
            },
            "type": "table"
           }
          ]
         },
         "layout": {
          "annotationdefaults": {
           "arrowcolor": "#2a3f5f",
           "arrowhead": 0,
           "arrowwidth": 1
          },
          "autotypenumbers": "strict",
          "coloraxis": {
           "colorbar": {
            "outlinewidth": 0,
            "ticks": ""
           }
          },
          "colorscale": {
           "diverging": [
            [
             0,
             "#8e0152"
            ],
            [
             0.1,
             "#c51b7d"
            ],
            [
             0.2,
             "#de77ae"
            ],
            [
             0.3,
             "#f1b6da"
            ],
            [
             0.4,
             "#fde0ef"
            ],
            [
             0.5,
             "#f7f7f7"
            ],
            [
             0.6,
             "#e6f5d0"
            ],
            [
             0.7,
             "#b8e186"
            ],
            [
             0.8,
             "#7fbc41"
            ],
            [
             0.9,
             "#4d9221"
            ],
            [
             1,
             "#276419"
            ]
           ],
           "sequential": [
            [
             0,
             "#0d0887"
            ],
            [
             0.1111111111111111,
             "#46039f"
            ],
            [
             0.2222222222222222,
             "#7201a8"
            ],
            [
             0.3333333333333333,
             "#9c179e"
            ],
            [
             0.4444444444444444,
             "#bd3786"
            ],
            [
             0.5555555555555556,
             "#d8576b"
            ],
            [
             0.6666666666666666,
             "#ed7953"
            ],
            [
             0.7777777777777778,
             "#fb9f3a"
            ],
            [
             0.8888888888888888,
             "#fdca26"
            ],
            [
             1,
             "#f0f921"
            ]
           ],
           "sequentialminus": [
            [
             0,
             "#0d0887"
            ],
            [
             0.1111111111111111,
             "#46039f"
            ],
            [
             0.2222222222222222,
             "#7201a8"
            ],
            [
             0.3333333333333333,
             "#9c179e"
            ],
            [
             0.4444444444444444,
             "#bd3786"
            ],
            [
             0.5555555555555556,
             "#d8576b"
            ],
            [
             0.6666666666666666,
             "#ed7953"
            ],
            [
             0.7777777777777778,
             "#fb9f3a"
            ],
            [
             0.8888888888888888,
             "#fdca26"
            ],
            [
             1,
             "#f0f921"
            ]
           ]
          },
          "colorway": [
           "#636efa",
           "#EF553B",
           "#00cc96",
           "#ab63fa",
           "#FFA15A",
           "#19d3f3",
           "#FF6692",
           "#B6E880",
           "#FF97FF",
           "#FECB52"
          ],
          "font": {
           "color": "#2a3f5f"
          },
          "geo": {
           "bgcolor": "white",
           "lakecolor": "white",
           "landcolor": "#E5ECF6",
           "showlakes": true,
           "showland": true,
           "subunitcolor": "white"
          },
          "hoverlabel": {
           "align": "left"
          },
          "hovermode": "closest",
          "mapbox": {
           "style": "light"
          },
          "paper_bgcolor": "white",
          "plot_bgcolor": "#E5ECF6",
          "polar": {
           "angularaxis": {
            "gridcolor": "white",
            "linecolor": "white",
            "ticks": ""
           },
           "bgcolor": "#E5ECF6",
           "radialaxis": {
            "gridcolor": "white",
            "linecolor": "white",
            "ticks": ""
           }
          },
          "scene": {
           "xaxis": {
            "backgroundcolor": "#E5ECF6",
            "gridcolor": "white",
            "gridwidth": 2,
            "linecolor": "white",
            "showbackground": true,
            "ticks": "",
            "zerolinecolor": "white"
           },
           "yaxis": {
            "backgroundcolor": "#E5ECF6",
            "gridcolor": "white",
            "gridwidth": 2,
            "linecolor": "white",
            "showbackground": true,
            "ticks": "",
            "zerolinecolor": "white"
           },
           "zaxis": {
            "backgroundcolor": "#E5ECF6",
            "gridcolor": "white",
            "gridwidth": 2,
            "linecolor": "white",
            "showbackground": true,
            "ticks": "",
            "zerolinecolor": "white"
           }
          },
          "shapedefaults": {
           "line": {
            "color": "#2a3f5f"
           }
          },
          "ternary": {
           "aaxis": {
            "gridcolor": "white",
            "linecolor": "white",
            "ticks": ""
           },
           "baxis": {
            "gridcolor": "white",
            "linecolor": "white",
            "ticks": ""
           },
           "bgcolor": "#E5ECF6",
           "caxis": {
            "gridcolor": "white",
            "linecolor": "white",
            "ticks": ""
           }
          },
          "title": {
           "x": 0.05
          },
          "xaxis": {
           "automargin": true,
           "gridcolor": "white",
           "linecolor": "white",
           "ticks": "",
           "title": {
            "standoff": 15
           },
           "zerolinecolor": "white",
           "zerolinewidth": 2
          },
          "yaxis": {
           "automargin": true,
           "gridcolor": "white",
           "linecolor": "white",
           "ticks": "",
           "title": {
            "standoff": 15
           },
           "zerolinecolor": "white",
           "zerolinewidth": 2
          }
         }
        },
        "title": {
         "text": "Зависимость средней абсолютной ошибки от количества итераций обучения"
        },
        "width": 1280,
        "xaxis": {
         "title": {
          "text": "Количество итераций обучения"
         }
        },
        "yaxis": {
         "title": {
          "text": "Средняя абсолютная ошибка"
         }
        }
       }
      }
     },
     "metadata": {},
     "output_type": "display_data"
    }
   ],
   "source": [
    "# Plotting results for training epochs amount\n",
    "fig = go.Figure()\n",
    "fig.add_trace(\n",
    "    go.Scatter(x=all_epochs, y=all_mapes,\n",
    "               name='Все наблюдения', mode='markers')\n",
    ")\n",
    "fig.add_trace(\n",
    "    go.Scatter(x=epochs, y=mapes_mean,\n",
    "               name='Средние значения', mode='lines+markers')\n",
    ")\n",
    "fig.update_layout(\n",
    "    title='Зависимость средней абсолютной ошибки от количества итераций обучения',\n",
    "    font=dict(size=20),\n",
    "    xaxis=dict(title='Количество итераций обучения'),\n",
    "    yaxis=dict(title='Средняя абсолютная ошибка'),\n",
    "    width=1280,\n",
    "    height=720\n",
    ")\n",
    "fig.show()"
   ]
  },
  {
   "cell_type": "code",
   "execution_count": 58,
   "metadata": {},
   "outputs": [
    {
     "name": "stdout",
     "output_type": "stream",
     "text": [
      "TRAINING FINISHED\n",
      "Epoch 500/500, Loss: 0.122198\n",
      "MAPE: 61.792311%\n",
      "TRAINING FINISHED\n",
      "Epoch 500/500, Loss: 0.256110\n",
      "MAPE: 102.774528%\n",
      "TRAINING FINISHED\n",
      "Epoch 500/500, Loss: 0.250605\n",
      "MAPE: 100.656882%\n",
      "TRAINING FINISHED\n",
      "Epoch 500/500, Loss: 0.230501\n",
      "MAPE: 94.894570%\n",
      "TRAINING FINISHED\n",
      "Epoch 500/500, Loss: 0.108553\n",
      "MAPE: 64.501710%\n",
      "TRAINING FINISHED\n",
      "Epoch 500/500, Loss: 0.203620\n",
      "MAPE: 90.663798%\n",
      "TRAINING FINISHED\n",
      "Epoch 500/500, Loss: 0.257336\n",
      "MAPE: 104.838779%\n",
      "TRAINING FINISHED\n",
      "Epoch 500/500, Loss: 0.082164\n",
      "MAPE: 56.983724%\n",
      "TRAINING FINISHED\n",
      "Epoch 500/500, Loss: 0.069825\n",
      "MAPE: 44.445954%\n",
      "TRAINING FINISHED\n",
      "Epoch 500/500, Loss: 0.051090\n",
      "MAPE: 39.607612%\n",
      "TRAINING FINISHED\n",
      "Epoch 500/500, Loss: 0.139117\n",
      "MAPE: 68.282225%\n",
      "TRAINING FINISHED\n",
      "Epoch 500/500, Loss: 0.103826\n",
      "MAPE: 64.989631%\n",
      "TRAINING FINISHED\n",
      "Epoch 500/500, Loss: 0.080946\n",
      "MAPE: 72.485033%\n",
      "TRAINING FINISHED\n",
      "Epoch 500/500, Loss: 0.144690\n",
      "MAPE: 68.997536%\n",
      "TRAINING FINISHED\n",
      "Epoch 500/500, Loss: 0.146871\n",
      "MAPE: 69.434875%\n",
      "TRAINING FINISHED\n",
      "Epoch 500/500, Loss: 0.144319\n",
      "MAPE: 73.839277%\n",
      "TRAINING FINISHED\n",
      "Epoch 500/500, Loss: 0.138567\n",
      "MAPE: 63.795745%\n",
      "TRAINING FINISHED\n",
      "Epoch 500/500, Loss: 0.097737\n",
      "MAPE: 60.537016%\n",
      "TRAINING FINISHED\n",
      "Epoch 500/500, Loss: 0.114621\n",
      "MAPE: 60.981157%\n",
      "TRAINING FINISHED\n",
      "Epoch 500/500, Loss: 0.138562\n",
      "MAPE: 66.691259%\n",
      "TRAINING FINISHED\n",
      "Epoch 500/500, Loss: 0.116089\n",
      "MAPE: 63.750651%\n",
      "TRAINING FINISHED\n",
      "Epoch 500/500, Loss: 0.063301\n",
      "MAPE: 59.862030%\n",
      "TRAINING FINISHED\n",
      "Epoch 500/500, Loss: 0.149363\n",
      "MAPE: 71.351968%\n",
      "TRAINING FINISHED\n",
      "Epoch 500/500, Loss: 0.097153\n",
      "MAPE: 65.083902%\n",
      "TRAINING FINISHED\n",
      "Epoch 500/500, Loss: 0.116827\n",
      "MAPE: 65.025616%\n",
      "TRAINING FINISHED\n",
      "Epoch 500/500, Loss: 0.104030\n",
      "MAPE: 66.989548%\n",
      "TRAINING FINISHED\n",
      "Epoch 500/500, Loss: 0.063950\n",
      "MAPE: 60.470846%\n",
      "TRAINING FINISHED\n",
      "Epoch 500/500, Loss: 0.165451\n",
      "MAPE: 71.940310%\n",
      "TRAINING FINISHED\n",
      "Epoch 500/500, Loss: 0.150512\n",
      "MAPE: 70.712503%\n",
      "TRAINING FINISHED\n",
      "Epoch 500/500, Loss: 0.076259\n",
      "MAPE: 54.515787%\n",
      "TRAINING FINISHED\n",
      "Epoch 500/500, Loss: 0.088691\n",
      "MAPE: 66.146215%\n",
      "TRAINING FINISHED\n",
      "Epoch 500/500, Loss: 0.080160\n",
      "MAPE: 66.073029%\n",
      "TRAINING FINISHED\n",
      "Epoch 500/500, Loss: 0.097185\n",
      "MAPE: 59.919324%\n",
      "TRAINING FINISHED\n",
      "Epoch 500/500, Loss: 0.095714\n",
      "MAPE: 63.953180%\n",
      "TRAINING FINISHED\n",
      "Epoch 500/500, Loss: 0.120743\n",
      "MAPE: 63.427990%\n",
      "TRAINING FINISHED\n",
      "Epoch 500/500, Loss: 0.095768\n",
      "MAPE: 61.498766%\n",
      "TRAINING FINISHED\n",
      "Epoch 500/500, Loss: 0.093361\n",
      "MAPE: 63.669732%\n",
      "TRAINING FINISHED\n",
      "Epoch 500/500, Loss: 0.099429\n",
      "MAPE: 57.442300%\n",
      "TRAINING FINISHED\n",
      "Epoch 500/500, Loss: 0.079020\n",
      "MAPE: 58.564305%\n",
      "TRAINING FINISHED\n",
      "Epoch 500/500, Loss: 0.071611\n",
      "MAPE: 61.823408%\n",
      "TRAINING FINISHED\n",
      "Epoch 500/500, Loss: 0.118607\n",
      "MAPE: 62.403936%\n",
      "TRAINING FINISHED\n",
      "Epoch 500/500, Loss: 0.093933\n",
      "MAPE: 57.280271%\n",
      "TRAINING FINISHED\n",
      "Epoch 500/500, Loss: 0.074706\n",
      "MAPE: 54.932014%\n",
      "TRAINING FINISHED\n",
      "Epoch 500/500, Loss: 0.129482\n",
      "MAPE: 68.282820%\n",
      "TRAINING FINISHED\n",
      "Epoch 500/500, Loss: 0.111011\n",
      "MAPE: 60.165903%\n",
      "TRAINING FINISHED\n",
      "Epoch 500/500, Loss: 0.085687\n",
      "MAPE: 55.354562%\n",
      "TRAINING FINISHED\n",
      "Epoch 500/500, Loss: 0.098470\n",
      "MAPE: 61.886312%\n",
      "TRAINING FINISHED\n",
      "Epoch 500/500, Loss: 0.111189\n",
      "MAPE: 63.833107%\n",
      "TRAINING FINISHED\n",
      "Epoch 500/500, Loss: 0.088245\n",
      "MAPE: 57.132274%\n",
      "TRAINING FINISHED\n",
      "Epoch 500/500, Loss: 0.184967\n",
      "MAPE: 79.136632%\n"
     ]
    }
   ],
   "source": [
    "experiments_amount = 5\n",
    "# epochs = np.linspace(1000, 35000, endpoint=True, num=10).astype(np.int32).tolist()\n",
    "hidden_sizes = list(range(2, 22, 2))\n",
    "\n",
    "# np.random.seed(12345)\n",
    "\n",
    "all_mapes = []\n",
    "mapes_mean = []\n",
    "\n",
    "all_sizes: list[int] = []\n",
    "\n",
    "seq_length = 20\n",
    "window_size = 3\n",
    "batch_size = 1\n",
    "output_size = 3\n",
    "\n",
    "verbosity = 100000\n",
    "lr = 5e-3\n",
    "max_epochs = 500\n",
    "use_adam = False\n",
    "\n",
    "sequence = list(arithmetic_progression(seq_length + output_size, 1, 1))\n",
    "\n",
    "for size in hidden_sizes:    \n",
    "\n",
    "    # Training network for five times\n",
    "    mapes_sum = 0    \n",
    "    for _ in range(experiments_amount):\n",
    "        all_sizes.append(size)        \n",
    "        \n",
    "        train_sequence = sequence[:seq_length]\n",
    "        test_sequence = sequence[-output_size:]\n",
    "        training_mape, model, next_n_pred, mean, deviation = predict_next_n_elements(\n",
    "            train_sequence, window_size, batch_size,\n",
    "            size, output_size, max_epochs,\n",
    "            verbosity, lr, use_adam=use_adam\n",
    "        )\n",
    "        all_epochs.append(max_epochs)\n",
    "\n",
    "        # Test sequence mape\n",
    "        test_sequence = sequence[-output_size:]\n",
    "        test_mape = mape(test_sequence, next_n_pred)\n",
    "        mapes_sum += test_mape    \n",
    "        all_mapes.append(test_mape)    \n",
    "\n",
    "    # Average mape for epochs amount\n",
    "    mapes_mean.append(mapes_sum / experiments_amount)"
   ]
  },
  {
   "cell_type": "code",
   "execution_count": 59,
   "metadata": {},
   "outputs": [
    {
     "data": {
      "application/vnd.plotly.v1+json": {
       "config": {
        "plotlyServerURL": "https://plot.ly"
       },
       "data": [
        {
         "mode": "markers",
         "name": "Все наблюдения",
         "type": "scatter",
         "x": [
          2,
          2,
          2,
          2,
          2,
          4,
          4,
          4,
          4,
          4,
          6,
          6,
          6,
          6,
          6,
          8,
          8,
          8,
          8,
          8,
          10,
          10,
          10,
          10,
          10,
          12,
          12,
          12,
          12,
          12,
          14,
          14,
          14,
          14,
          14,
          16,
          16,
          16,
          16,
          16,
          18,
          18,
          18,
          18,
          18,
          20,
          20,
          20,
          20,
          20
         ],
         "y": [
          0.369374538937227,
          0.45683397038677587,
          0.4588022465398036,
          0.4322483735765285,
          0.330148346705063,
          0.4237869184516066,
          0.4759085753971502,
          0.390582608548428,
          0.4093747442775797,
          0.4190828685315931,
          0.438051014554142,
          0.35177152187199817,
          0.32999463106867677,
          0.3960092113567897,
          0.3922180818279392,
          0.3891125142912693,
          0.4076186113693728,
          0.37030854927720475,
          0.37109698486266707,
          0.39196271183890424,
          0.38014863752235756,
          0.3159414123591513,
          0.41176078501339325,
          0.3455001819198537,
          0.37250370589040105,
          0.3739080714180187,
          0.3198254168644819,
          0.4224963216347241,
          0.41016968642836044,
          0.36469652809625935,
          0.3310477318975093,
          0.3410221128107984,
          0.3626001825152807,
          0.37341962730858985,
          0.3812838795567319,
          0.3702765871283691,
          0.36046497324602295,
          0.38156470538103937,
          0.35112914935980055,
          0.3247664743350504,
          0.37635687083203323,
          0.37128310058120356,
          0.3538669756974045,
          0.38038070579418015,
          0.37471152129827895,
          0.36488861231940667,
          0.3808190684850498,
          0.3790349992112774,
          0.35420568754801507,
          0.42725390518883993
         ]
        },
        {
         "mode": "lines+markers",
         "name": "Средние значения",
         "type": "scatter",
         "x": [
          2,
          4,
          6,
          8,
          10,
          12,
          14,
          16,
          18,
          20
         ],
         "y": [
          0.4094814952290796,
          0.42374714304127153,
          0.3816088921359092,
          0.38601987432788365,
          0.3651709445410314,
          0.3782192048883689,
          0.35787470681778205,
          0.3576403778900565,
          0.3713198348406201,
          0.3812404545505178
         ]
        }
       ],
       "layout": {
        "font": {
         "size": 20
        },
        "height": 720,
        "template": {
         "data": {
          "bar": [
           {
            "error_x": {
             "color": "#2a3f5f"
            },
            "error_y": {
             "color": "#2a3f5f"
            },
            "marker": {
             "line": {
              "color": "#E5ECF6",
              "width": 0.5
             },
             "pattern": {
              "fillmode": "overlay",
              "size": 10,
              "solidity": 0.2
             }
            },
            "type": "bar"
           }
          ],
          "barpolar": [
           {
            "marker": {
             "line": {
              "color": "#E5ECF6",
              "width": 0.5
             },
             "pattern": {
              "fillmode": "overlay",
              "size": 10,
              "solidity": 0.2
             }
            },
            "type": "barpolar"
           }
          ],
          "carpet": [
           {
            "aaxis": {
             "endlinecolor": "#2a3f5f",
             "gridcolor": "white",
             "linecolor": "white",
             "minorgridcolor": "white",
             "startlinecolor": "#2a3f5f"
            },
            "baxis": {
             "endlinecolor": "#2a3f5f",
             "gridcolor": "white",
             "linecolor": "white",
             "minorgridcolor": "white",
             "startlinecolor": "#2a3f5f"
            },
            "type": "carpet"
           }
          ],
          "choropleth": [
           {
            "colorbar": {
             "outlinewidth": 0,
             "ticks": ""
            },
            "type": "choropleth"
           }
          ],
          "contour": [
           {
            "colorbar": {
             "outlinewidth": 0,
             "ticks": ""
            },
            "colorscale": [
             [
              0,
              "#0d0887"
             ],
             [
              0.1111111111111111,
              "#46039f"
             ],
             [
              0.2222222222222222,
              "#7201a8"
             ],
             [
              0.3333333333333333,
              "#9c179e"
             ],
             [
              0.4444444444444444,
              "#bd3786"
             ],
             [
              0.5555555555555556,
              "#d8576b"
             ],
             [
              0.6666666666666666,
              "#ed7953"
             ],
             [
              0.7777777777777778,
              "#fb9f3a"
             ],
             [
              0.8888888888888888,
              "#fdca26"
             ],
             [
              1,
              "#f0f921"
             ]
            ],
            "type": "contour"
           }
          ],
          "contourcarpet": [
           {
            "colorbar": {
             "outlinewidth": 0,
             "ticks": ""
            },
            "type": "contourcarpet"
           }
          ],
          "heatmap": [
           {
            "colorbar": {
             "outlinewidth": 0,
             "ticks": ""
            },
            "colorscale": [
             [
              0,
              "#0d0887"
             ],
             [
              0.1111111111111111,
              "#46039f"
             ],
             [
              0.2222222222222222,
              "#7201a8"
             ],
             [
              0.3333333333333333,
              "#9c179e"
             ],
             [
              0.4444444444444444,
              "#bd3786"
             ],
             [
              0.5555555555555556,
              "#d8576b"
             ],
             [
              0.6666666666666666,
              "#ed7953"
             ],
             [
              0.7777777777777778,
              "#fb9f3a"
             ],
             [
              0.8888888888888888,
              "#fdca26"
             ],
             [
              1,
              "#f0f921"
             ]
            ],
            "type": "heatmap"
           }
          ],
          "heatmapgl": [
           {
            "colorbar": {
             "outlinewidth": 0,
             "ticks": ""
            },
            "colorscale": [
             [
              0,
              "#0d0887"
             ],
             [
              0.1111111111111111,
              "#46039f"
             ],
             [
              0.2222222222222222,
              "#7201a8"
             ],
             [
              0.3333333333333333,
              "#9c179e"
             ],
             [
              0.4444444444444444,
              "#bd3786"
             ],
             [
              0.5555555555555556,
              "#d8576b"
             ],
             [
              0.6666666666666666,
              "#ed7953"
             ],
             [
              0.7777777777777778,
              "#fb9f3a"
             ],
             [
              0.8888888888888888,
              "#fdca26"
             ],
             [
              1,
              "#f0f921"
             ]
            ],
            "type": "heatmapgl"
           }
          ],
          "histogram": [
           {
            "marker": {
             "pattern": {
              "fillmode": "overlay",
              "size": 10,
              "solidity": 0.2
             }
            },
            "type": "histogram"
           }
          ],
          "histogram2d": [
           {
            "colorbar": {
             "outlinewidth": 0,
             "ticks": ""
            },
            "colorscale": [
             [
              0,
              "#0d0887"
             ],
             [
              0.1111111111111111,
              "#46039f"
             ],
             [
              0.2222222222222222,
              "#7201a8"
             ],
             [
              0.3333333333333333,
              "#9c179e"
             ],
             [
              0.4444444444444444,
              "#bd3786"
             ],
             [
              0.5555555555555556,
              "#d8576b"
             ],
             [
              0.6666666666666666,
              "#ed7953"
             ],
             [
              0.7777777777777778,
              "#fb9f3a"
             ],
             [
              0.8888888888888888,
              "#fdca26"
             ],
             [
              1,
              "#f0f921"
             ]
            ],
            "type": "histogram2d"
           }
          ],
          "histogram2dcontour": [
           {
            "colorbar": {
             "outlinewidth": 0,
             "ticks": ""
            },
            "colorscale": [
             [
              0,
              "#0d0887"
             ],
             [
              0.1111111111111111,
              "#46039f"
             ],
             [
              0.2222222222222222,
              "#7201a8"
             ],
             [
              0.3333333333333333,
              "#9c179e"
             ],
             [
              0.4444444444444444,
              "#bd3786"
             ],
             [
              0.5555555555555556,
              "#d8576b"
             ],
             [
              0.6666666666666666,
              "#ed7953"
             ],
             [
              0.7777777777777778,
              "#fb9f3a"
             ],
             [
              0.8888888888888888,
              "#fdca26"
             ],
             [
              1,
              "#f0f921"
             ]
            ],
            "type": "histogram2dcontour"
           }
          ],
          "mesh3d": [
           {
            "colorbar": {
             "outlinewidth": 0,
             "ticks": ""
            },
            "type": "mesh3d"
           }
          ],
          "parcoords": [
           {
            "line": {
             "colorbar": {
              "outlinewidth": 0,
              "ticks": ""
             }
            },
            "type": "parcoords"
           }
          ],
          "pie": [
           {
            "automargin": true,
            "type": "pie"
           }
          ],
          "scatter": [
           {
            "fillpattern": {
             "fillmode": "overlay",
             "size": 10,
             "solidity": 0.2
            },
            "type": "scatter"
           }
          ],
          "scatter3d": [
           {
            "line": {
             "colorbar": {
              "outlinewidth": 0,
              "ticks": ""
             }
            },
            "marker": {
             "colorbar": {
              "outlinewidth": 0,
              "ticks": ""
             }
            },
            "type": "scatter3d"
           }
          ],
          "scattercarpet": [
           {
            "marker": {
             "colorbar": {
              "outlinewidth": 0,
              "ticks": ""
             }
            },
            "type": "scattercarpet"
           }
          ],
          "scattergeo": [
           {
            "marker": {
             "colorbar": {
              "outlinewidth": 0,
              "ticks": ""
             }
            },
            "type": "scattergeo"
           }
          ],
          "scattergl": [
           {
            "marker": {
             "colorbar": {
              "outlinewidth": 0,
              "ticks": ""
             }
            },
            "type": "scattergl"
           }
          ],
          "scattermapbox": [
           {
            "marker": {
             "colorbar": {
              "outlinewidth": 0,
              "ticks": ""
             }
            },
            "type": "scattermapbox"
           }
          ],
          "scatterpolar": [
           {
            "marker": {
             "colorbar": {
              "outlinewidth": 0,
              "ticks": ""
             }
            },
            "type": "scatterpolar"
           }
          ],
          "scatterpolargl": [
           {
            "marker": {
             "colorbar": {
              "outlinewidth": 0,
              "ticks": ""
             }
            },
            "type": "scatterpolargl"
           }
          ],
          "scatterternary": [
           {
            "marker": {
             "colorbar": {
              "outlinewidth": 0,
              "ticks": ""
             }
            },
            "type": "scatterternary"
           }
          ],
          "surface": [
           {
            "colorbar": {
             "outlinewidth": 0,
             "ticks": ""
            },
            "colorscale": [
             [
              0,
              "#0d0887"
             ],
             [
              0.1111111111111111,
              "#46039f"
             ],
             [
              0.2222222222222222,
              "#7201a8"
             ],
             [
              0.3333333333333333,
              "#9c179e"
             ],
             [
              0.4444444444444444,
              "#bd3786"
             ],
             [
              0.5555555555555556,
              "#d8576b"
             ],
             [
              0.6666666666666666,
              "#ed7953"
             ],
             [
              0.7777777777777778,
              "#fb9f3a"
             ],
             [
              0.8888888888888888,
              "#fdca26"
             ],
             [
              1,
              "#f0f921"
             ]
            ],
            "type": "surface"
           }
          ],
          "table": [
           {
            "cells": {
             "fill": {
              "color": "#EBF0F8"
             },
             "line": {
              "color": "white"
             }
            },
            "header": {
             "fill": {
              "color": "#C8D4E3"
             },
             "line": {
              "color": "white"
             }
            },
            "type": "table"
           }
          ]
         },
         "layout": {
          "annotationdefaults": {
           "arrowcolor": "#2a3f5f",
           "arrowhead": 0,
           "arrowwidth": 1
          },
          "autotypenumbers": "strict",
          "coloraxis": {
           "colorbar": {
            "outlinewidth": 0,
            "ticks": ""
           }
          },
          "colorscale": {
           "diverging": [
            [
             0,
             "#8e0152"
            ],
            [
             0.1,
             "#c51b7d"
            ],
            [
             0.2,
             "#de77ae"
            ],
            [
             0.3,
             "#f1b6da"
            ],
            [
             0.4,
             "#fde0ef"
            ],
            [
             0.5,
             "#f7f7f7"
            ],
            [
             0.6,
             "#e6f5d0"
            ],
            [
             0.7,
             "#b8e186"
            ],
            [
             0.8,
             "#7fbc41"
            ],
            [
             0.9,
             "#4d9221"
            ],
            [
             1,
             "#276419"
            ]
           ],
           "sequential": [
            [
             0,
             "#0d0887"
            ],
            [
             0.1111111111111111,
             "#46039f"
            ],
            [
             0.2222222222222222,
             "#7201a8"
            ],
            [
             0.3333333333333333,
             "#9c179e"
            ],
            [
             0.4444444444444444,
             "#bd3786"
            ],
            [
             0.5555555555555556,
             "#d8576b"
            ],
            [
             0.6666666666666666,
             "#ed7953"
            ],
            [
             0.7777777777777778,
             "#fb9f3a"
            ],
            [
             0.8888888888888888,
             "#fdca26"
            ],
            [
             1,
             "#f0f921"
            ]
           ],
           "sequentialminus": [
            [
             0,
             "#0d0887"
            ],
            [
             0.1111111111111111,
             "#46039f"
            ],
            [
             0.2222222222222222,
             "#7201a8"
            ],
            [
             0.3333333333333333,
             "#9c179e"
            ],
            [
             0.4444444444444444,
             "#bd3786"
            ],
            [
             0.5555555555555556,
             "#d8576b"
            ],
            [
             0.6666666666666666,
             "#ed7953"
            ],
            [
             0.7777777777777778,
             "#fb9f3a"
            ],
            [
             0.8888888888888888,
             "#fdca26"
            ],
            [
             1,
             "#f0f921"
            ]
           ]
          },
          "colorway": [
           "#636efa",
           "#EF553B",
           "#00cc96",
           "#ab63fa",
           "#FFA15A",
           "#19d3f3",
           "#FF6692",
           "#B6E880",
           "#FF97FF",
           "#FECB52"
          ],
          "font": {
           "color": "#2a3f5f"
          },
          "geo": {
           "bgcolor": "white",
           "lakecolor": "white",
           "landcolor": "#E5ECF6",
           "showlakes": true,
           "showland": true,
           "subunitcolor": "white"
          },
          "hoverlabel": {
           "align": "left"
          },
          "hovermode": "closest",
          "mapbox": {
           "style": "light"
          },
          "paper_bgcolor": "white",
          "plot_bgcolor": "#E5ECF6",
          "polar": {
           "angularaxis": {
            "gridcolor": "white",
            "linecolor": "white",
            "ticks": ""
           },
           "bgcolor": "#E5ECF6",
           "radialaxis": {
            "gridcolor": "white",
            "linecolor": "white",
            "ticks": ""
           }
          },
          "scene": {
           "xaxis": {
            "backgroundcolor": "#E5ECF6",
            "gridcolor": "white",
            "gridwidth": 2,
            "linecolor": "white",
            "showbackground": true,
            "ticks": "",
            "zerolinecolor": "white"
           },
           "yaxis": {
            "backgroundcolor": "#E5ECF6",
            "gridcolor": "white",
            "gridwidth": 2,
            "linecolor": "white",
            "showbackground": true,
            "ticks": "",
            "zerolinecolor": "white"
           },
           "zaxis": {
            "backgroundcolor": "#E5ECF6",
            "gridcolor": "white",
            "gridwidth": 2,
            "linecolor": "white",
            "showbackground": true,
            "ticks": "",
            "zerolinecolor": "white"
           }
          },
          "shapedefaults": {
           "line": {
            "color": "#2a3f5f"
           }
          },
          "ternary": {
           "aaxis": {
            "gridcolor": "white",
            "linecolor": "white",
            "ticks": ""
           },
           "baxis": {
            "gridcolor": "white",
            "linecolor": "white",
            "ticks": ""
           },
           "bgcolor": "#E5ECF6",
           "caxis": {
            "gridcolor": "white",
            "linecolor": "white",
            "ticks": ""
           }
          },
          "title": {
           "x": 0.05
          },
          "xaxis": {
           "automargin": true,
           "gridcolor": "white",
           "linecolor": "white",
           "ticks": "",
           "title": {
            "standoff": 15
           },
           "zerolinecolor": "white",
           "zerolinewidth": 2
          },
          "yaxis": {
           "automargin": true,
           "gridcolor": "white",
           "linecolor": "white",
           "ticks": "",
           "title": {
            "standoff": 15
           },
           "zerolinecolor": "white",
           "zerolinewidth": 2
          }
         }
        },
        "title": {
         "text": "Зависимость средней абсолютной ошибки от<br>количества нейронов на скрытом слое"
        },
        "width": 1280,
        "xaxis": {
         "title": {
          "text": "Количество нейронов на скрытом слое"
         }
        },
        "yaxis": {
         "title": {
          "text": "Средняя абсолютная ошибка"
         }
        }
       }
      }
     },
     "metadata": {},
     "output_type": "display_data"
    }
   ],
   "source": [
    "# Plotting results for training epochs amount\n",
    "fig = go.Figure()\n",
    "fig.add_trace(\n",
    "    go.Scatter(x=all_sizes, y=all_mapes,\n",
    "               name='Все наблюдения', mode='markers')\n",
    ")\n",
    "fig.add_trace(\n",
    "    go.Scatter(x=hidden_sizes, y=mapes_mean,\n",
    "               name='Средние значения', mode='lines+markers')\n",
    ")\n",
    "fig.update_layout(\n",
    "    title='Зависимость средней абсолютной ошибки от<br>количества нейронов на скрытом слое',\n",
    "    font=dict(size=20),\n",
    "    xaxis=dict(title='Количество нейронов на скрытом слое'),\n",
    "    yaxis=dict(title='Средняя абсолютная ошибка'),\n",
    "    width=1280,\n",
    "    height=720\n",
    ")\n",
    "fig.show()"
   ]
  },
  {
   "cell_type": "code",
   "execution_count": 60,
   "metadata": {},
   "outputs": [
    {
     "name": "stdout",
     "output_type": "stream",
     "text": [
      "TRAINING FINISHED\n",
      "Epoch 250/250, Loss: 0.048720\n",
      "MAPE: 48.719204%\n",
      "TRAINING FINISHED\n",
      "Epoch 250/250, Loss: 0.035868\n",
      "MAPE: 49.571113%\n",
      "TRAINING FINISHED\n",
      "Epoch 250/250, Loss: 0.091457\n",
      "MAPE: 48.266458%\n",
      "TRAINING FINISHED\n",
      "Epoch 250/250, Loss: 0.048372\n",
      "MAPE: 41.541267%\n",
      "TRAINING FINISHED\n",
      "Epoch 250/250, Loss: 0.111439\n",
      "MAPE: 53.291036%\n",
      "TRAINING FINISHED\n",
      "Epoch 250/250, Loss: 0.022475\n",
      "MAPE: 48.231422%\n",
      "TRAINING FINISHED\n",
      "Epoch 250/250, Loss: 0.036679\n",
      "MAPE: 58.509946%\n",
      "TRAINING FINISHED\n",
      "Epoch 250/250, Loss: 0.052383\n",
      "MAPE: 58.493765%\n",
      "TRAINING FINISHED\n",
      "Epoch 250/250, Loss: 0.037505\n",
      "MAPE: 63.483636%\n",
      "TRAINING FINISHED\n",
      "Epoch 250/250, Loss: 0.058443\n",
      "MAPE: 48.309907%\n",
      "TRAINING FINISHED\n",
      "Epoch 250/250, Loss: 0.029365\n",
      "MAPE: 62.204312%\n",
      "TRAINING FINISHED\n",
      "Epoch 250/250, Loss: 0.023148\n",
      "MAPE: 65.377842%\n",
      "TRAINING FINISHED\n",
      "Epoch 250/250, Loss: 0.035619\n",
      "MAPE: 76.174040%\n",
      "TRAINING FINISHED\n",
      "Epoch 250/250, Loss: 0.030799\n",
      "MAPE: 72.565365%\n",
      "TRAINING FINISHED\n",
      "Epoch 250/250, Loss: 0.040866\n",
      "MAPE: 78.310398%\n",
      "TRAINING FINISHED\n",
      "Epoch 250/250, Loss: 0.029360\n",
      "MAPE: 66.188306%\n",
      "TRAINING FINISHED\n",
      "Epoch 250/250, Loss: 0.041394\n",
      "MAPE: 77.820556%\n",
      "TRAINING FINISHED\n",
      "Epoch 250/250, Loss: 0.018073\n",
      "MAPE: 57.589959%\n",
      "TRAINING FINISHED\n",
      "Epoch 250/250, Loss: 0.047509\n",
      "MAPE: 64.135660%\n",
      "TRAINING FINISHED\n",
      "Epoch 250/250, Loss: 0.024551\n",
      "MAPE: 58.386785%\n",
      "TRAINING FINISHED\n",
      "Epoch 250/250, Loss: 0.024298\n",
      "MAPE: 40.824250%\n",
      "TRAINING FINISHED\n",
      "Epoch 250/250, Loss: 0.016646\n",
      "MAPE: 49.313031%\n",
      "TRAINING FINISHED\n",
      "Epoch 250/250, Loss: 0.030922\n",
      "MAPE: 60.297842%\n",
      "TRAINING FINISHED\n",
      "Epoch 250/250, Loss: 0.012886\n",
      "MAPE: 47.001322%\n",
      "TRAINING FINISHED\n",
      "Epoch 250/250, Loss: 0.036210\n",
      "MAPE: 56.131216%\n",
      "TRAINING FINISHED\n",
      "Epoch 250/250, Loss: 0.029581\n",
      "MAPE: 52.915111%\n",
      "TRAINING FINISHED\n",
      "Epoch 250/250, Loss: 0.010904\n",
      "MAPE: 37.239805%\n",
      "TRAINING FINISHED\n",
      "Epoch 250/250, Loss: 0.018260\n",
      "MAPE: 37.183588%\n",
      "TRAINING FINISHED\n",
      "Epoch 250/250, Loss: 0.017585\n",
      "MAPE: 37.939970%\n",
      "TRAINING FINISHED\n",
      "Epoch 250/250, Loss: 0.027596\n",
      "MAPE: 46.492136%\n",
      "TRAINING FINISHED\n",
      "Epoch 250/250, Loss: 0.036154\n",
      "MAPE: 39.129477%\n",
      "TRAINING FINISHED\n",
      "Epoch 250/250, Loss: 0.006493\n",
      "MAPE: 33.126805%\n",
      "TRAINING FINISHED\n",
      "Epoch 250/250, Loss: 0.020536\n",
      "MAPE: 38.804813%\n",
      "TRAINING FINISHED\n",
      "Epoch 250/250, Loss: 0.012977\n",
      "MAPE: 35.210399%\n",
      "TRAINING FINISHED\n",
      "Epoch 250/250, Loss: 0.012103\n",
      "MAPE: 36.452168%\n",
      "TRAINING FINISHED\n",
      "Epoch 250/250, Loss: 0.017234\n",
      "MAPE: 36.098993%\n",
      "TRAINING FINISHED\n",
      "Epoch 250/250, Loss: 0.024273\n",
      "MAPE: 80.603261%\n",
      "TRAINING FINISHED\n",
      "Epoch 250/250, Loss: 0.028712\n",
      "MAPE: 84.244226%\n",
      "TRAINING FINISHED\n",
      "Epoch 250/250, Loss: 0.010925\n",
      "MAPE: 57.242419%\n",
      "TRAINING FINISHED\n",
      "Epoch 250/250, Loss: 0.010154\n",
      "MAPE: 40.823829%\n",
      "TRAINING FINISHED\n",
      "Epoch 250/250, Loss: 0.007607\n",
      "MAPE: 37.389016%\n",
      "TRAINING FINISHED\n",
      "Epoch 250/250, Loss: 0.032763\n",
      "MAPE: 104.138779%\n",
      "TRAINING FINISHED\n",
      "Epoch 250/250, Loss: 0.011336\n",
      "MAPE: 52.487938%\n",
      "TRAINING FINISHED\n",
      "Epoch 250/250, Loss: 0.009425\n",
      "MAPE: 38.263311%\n",
      "TRAINING FINISHED\n",
      "Epoch 250/250, Loss: 0.010794\n",
      "MAPE: 58.396194%\n"
     ]
    }
   ],
   "source": [
    "# MAPE relation with sliding window\n",
    "experiments_amount = 5\n",
    "# epochs = np.linspace(1000, 35000, endpoint=True, num=10).astype(np.int32).tolist()\n",
    "\n",
    "\n",
    "all_mapes = []\n",
    "mapes_mean = []\n",
    "\n",
    "all_sizes: list[int] = []\n",
    "\n",
    "seq_length = 40\n",
    "window_sizes = list(range(2, seq_length // 2, 2))\n",
    "hidden_size = 8\n",
    "batch_size = 1\n",
    "output_size = 3\n",
    "\n",
    "verbosity = 100000\n",
    "lr = 1e-2\n",
    "max_epochs = 250\n",
    "use_adam = False\n",
    "\n",
    "sequence = list(arithmetic_progression(seq_length + output_size, 1, 1))\n",
    "\n",
    "for size in window_sizes:        \n",
    "\n",
    "    # Training network for five times\n",
    "    mapes_sum = 0    \n",
    "    for _ in range(experiments_amount):\n",
    "        all_sizes.append(size)              \n",
    "        \n",
    "        train_sequence = sequence[:seq_length]\n",
    "        test_sequence = sequence[-output_size:]\n",
    "        training_mape, model, next_n_pred, mean, deviation = predict_next_n_elements(\n",
    "            train_sequence, size, batch_size,\n",
    "            hidden_size, output_size, max_epochs,\n",
    "            verbosity, lr, use_adam=use_adam\n",
    "        )\n",
    "        all_epochs.append(max_epochs)\n",
    "        \n",
    "        # Test sequence mape\n",
    "        test_sequence = sequence[-output_size:]\n",
    "        test_mape = mape(test_sequence, next_n_pred)\n",
    "        mapes_sum += test_mape    \n",
    "        all_mapes.append(test_mape)    \n",
    "\n",
    "    # Average mape for epochs amount\n",
    "    mapes_mean.append(mapes_sum / experiments_amount)"
   ]
  },
  {
   "cell_type": "code",
   "execution_count": 61,
   "metadata": {},
   "outputs": [
    {
     "data": {
      "application/vnd.plotly.v1+json": {
       "config": {
        "plotlyServerURL": "https://plot.ly"
       },
       "data": [
        {
         "mode": "markers",
         "name": "Все наблюдения",
         "type": "scatter",
         "x": [
          2,
          2,
          2,
          2,
          2,
          4,
          4,
          4,
          4,
          4,
          6,
          6,
          6,
          6,
          6,
          8,
          8,
          8,
          8,
          8,
          10,
          10,
          10,
          10,
          10,
          12,
          12,
          12,
          12,
          12,
          14,
          14,
          14,
          14,
          14,
          16,
          16,
          16,
          16,
          16,
          18,
          18,
          18,
          18,
          18
         ],
         "y": [
          0.3378196832574383,
          0.3518021384118746,
          0.3543155036555441,
          0.32470321547497427,
          0.3474852471421181,
          0.30259408322968434,
          0.28814137124029066,
          0.3371279639355798,
          0.27410765246570135,
          0.3332986721562415,
          0.3123602797199096,
          0.28662380146145594,
          0.26802913293403896,
          0.31667560946957596,
          0.3058392906975264,
          0.252644904026063,
          0.27688868289485674,
          0.30635364308418184,
          0.30581998367026125,
          0.26660908082110873,
          0.3121317553095901,
          0.2963104904481939,
          0.33759482564608345,
          0.28142692484311294,
          0.2991424915782402,
          0.3016160116456437,
          0.3252631287062508,
          0.29779931955405653,
          0.3123323738685206,
          0.284612536789272,
          0.3156179554260676,
          0.25907566500751483,
          0.2974310156402251,
          0.2923152071679595,
          0.3328009296186935,
          0.33788754536413507,
          0.2998826244536072,
          0.3085946863435987,
          0.2544779681941381,
          0.27538450660604785,
          0.2749200105751242,
          0.30132709348172154,
          0.30366123186786204,
          0.3135015343464253,
          0.27116488428534263
         ]
        },
        {
         "mode": "lines+markers",
         "name": "Средние значения",
         "type": "scatter",
         "x": [
          2,
          4,
          6,
          8,
          10,
          12,
          14,
          16,
          18
         ],
         "y": [
          0.3432251575883899,
          0.3070539486054995,
          0.2979056228565014,
          0.28166325889929433,
          0.3053212975650441,
          0.3043246741127487,
          0.2994481545720921,
          0.29524546619230535,
          0.29291495091129516
         ]
        }
       ],
       "layout": {
        "font": {
         "size": 20
        },
        "height": 720,
        "template": {
         "data": {
          "bar": [
           {
            "error_x": {
             "color": "#2a3f5f"
            },
            "error_y": {
             "color": "#2a3f5f"
            },
            "marker": {
             "line": {
              "color": "#E5ECF6",
              "width": 0.5
             },
             "pattern": {
              "fillmode": "overlay",
              "size": 10,
              "solidity": 0.2
             }
            },
            "type": "bar"
           }
          ],
          "barpolar": [
           {
            "marker": {
             "line": {
              "color": "#E5ECF6",
              "width": 0.5
             },
             "pattern": {
              "fillmode": "overlay",
              "size": 10,
              "solidity": 0.2
             }
            },
            "type": "barpolar"
           }
          ],
          "carpet": [
           {
            "aaxis": {
             "endlinecolor": "#2a3f5f",
             "gridcolor": "white",
             "linecolor": "white",
             "minorgridcolor": "white",
             "startlinecolor": "#2a3f5f"
            },
            "baxis": {
             "endlinecolor": "#2a3f5f",
             "gridcolor": "white",
             "linecolor": "white",
             "minorgridcolor": "white",
             "startlinecolor": "#2a3f5f"
            },
            "type": "carpet"
           }
          ],
          "choropleth": [
           {
            "colorbar": {
             "outlinewidth": 0,
             "ticks": ""
            },
            "type": "choropleth"
           }
          ],
          "contour": [
           {
            "colorbar": {
             "outlinewidth": 0,
             "ticks": ""
            },
            "colorscale": [
             [
              0,
              "#0d0887"
             ],
             [
              0.1111111111111111,
              "#46039f"
             ],
             [
              0.2222222222222222,
              "#7201a8"
             ],
             [
              0.3333333333333333,
              "#9c179e"
             ],
             [
              0.4444444444444444,
              "#bd3786"
             ],
             [
              0.5555555555555556,
              "#d8576b"
             ],
             [
              0.6666666666666666,
              "#ed7953"
             ],
             [
              0.7777777777777778,
              "#fb9f3a"
             ],
             [
              0.8888888888888888,
              "#fdca26"
             ],
             [
              1,
              "#f0f921"
             ]
            ],
            "type": "contour"
           }
          ],
          "contourcarpet": [
           {
            "colorbar": {
             "outlinewidth": 0,
             "ticks": ""
            },
            "type": "contourcarpet"
           }
          ],
          "heatmap": [
           {
            "colorbar": {
             "outlinewidth": 0,
             "ticks": ""
            },
            "colorscale": [
             [
              0,
              "#0d0887"
             ],
             [
              0.1111111111111111,
              "#46039f"
             ],
             [
              0.2222222222222222,
              "#7201a8"
             ],
             [
              0.3333333333333333,
              "#9c179e"
             ],
             [
              0.4444444444444444,
              "#bd3786"
             ],
             [
              0.5555555555555556,
              "#d8576b"
             ],
             [
              0.6666666666666666,
              "#ed7953"
             ],
             [
              0.7777777777777778,
              "#fb9f3a"
             ],
             [
              0.8888888888888888,
              "#fdca26"
             ],
             [
              1,
              "#f0f921"
             ]
            ],
            "type": "heatmap"
           }
          ],
          "heatmapgl": [
           {
            "colorbar": {
             "outlinewidth": 0,
             "ticks": ""
            },
            "colorscale": [
             [
              0,
              "#0d0887"
             ],
             [
              0.1111111111111111,
              "#46039f"
             ],
             [
              0.2222222222222222,
              "#7201a8"
             ],
             [
              0.3333333333333333,
              "#9c179e"
             ],
             [
              0.4444444444444444,
              "#bd3786"
             ],
             [
              0.5555555555555556,
              "#d8576b"
             ],
             [
              0.6666666666666666,
              "#ed7953"
             ],
             [
              0.7777777777777778,
              "#fb9f3a"
             ],
             [
              0.8888888888888888,
              "#fdca26"
             ],
             [
              1,
              "#f0f921"
             ]
            ],
            "type": "heatmapgl"
           }
          ],
          "histogram": [
           {
            "marker": {
             "pattern": {
              "fillmode": "overlay",
              "size": 10,
              "solidity": 0.2
             }
            },
            "type": "histogram"
           }
          ],
          "histogram2d": [
           {
            "colorbar": {
             "outlinewidth": 0,
             "ticks": ""
            },
            "colorscale": [
             [
              0,
              "#0d0887"
             ],
             [
              0.1111111111111111,
              "#46039f"
             ],
             [
              0.2222222222222222,
              "#7201a8"
             ],
             [
              0.3333333333333333,
              "#9c179e"
             ],
             [
              0.4444444444444444,
              "#bd3786"
             ],
             [
              0.5555555555555556,
              "#d8576b"
             ],
             [
              0.6666666666666666,
              "#ed7953"
             ],
             [
              0.7777777777777778,
              "#fb9f3a"
             ],
             [
              0.8888888888888888,
              "#fdca26"
             ],
             [
              1,
              "#f0f921"
             ]
            ],
            "type": "histogram2d"
           }
          ],
          "histogram2dcontour": [
           {
            "colorbar": {
             "outlinewidth": 0,
             "ticks": ""
            },
            "colorscale": [
             [
              0,
              "#0d0887"
             ],
             [
              0.1111111111111111,
              "#46039f"
             ],
             [
              0.2222222222222222,
              "#7201a8"
             ],
             [
              0.3333333333333333,
              "#9c179e"
             ],
             [
              0.4444444444444444,
              "#bd3786"
             ],
             [
              0.5555555555555556,
              "#d8576b"
             ],
             [
              0.6666666666666666,
              "#ed7953"
             ],
             [
              0.7777777777777778,
              "#fb9f3a"
             ],
             [
              0.8888888888888888,
              "#fdca26"
             ],
             [
              1,
              "#f0f921"
             ]
            ],
            "type": "histogram2dcontour"
           }
          ],
          "mesh3d": [
           {
            "colorbar": {
             "outlinewidth": 0,
             "ticks": ""
            },
            "type": "mesh3d"
           }
          ],
          "parcoords": [
           {
            "line": {
             "colorbar": {
              "outlinewidth": 0,
              "ticks": ""
             }
            },
            "type": "parcoords"
           }
          ],
          "pie": [
           {
            "automargin": true,
            "type": "pie"
           }
          ],
          "scatter": [
           {
            "fillpattern": {
             "fillmode": "overlay",
             "size": 10,
             "solidity": 0.2
            },
            "type": "scatter"
           }
          ],
          "scatter3d": [
           {
            "line": {
             "colorbar": {
              "outlinewidth": 0,
              "ticks": ""
             }
            },
            "marker": {
             "colorbar": {
              "outlinewidth": 0,
              "ticks": ""
             }
            },
            "type": "scatter3d"
           }
          ],
          "scattercarpet": [
           {
            "marker": {
             "colorbar": {
              "outlinewidth": 0,
              "ticks": ""
             }
            },
            "type": "scattercarpet"
           }
          ],
          "scattergeo": [
           {
            "marker": {
             "colorbar": {
              "outlinewidth": 0,
              "ticks": ""
             }
            },
            "type": "scattergeo"
           }
          ],
          "scattergl": [
           {
            "marker": {
             "colorbar": {
              "outlinewidth": 0,
              "ticks": ""
             }
            },
            "type": "scattergl"
           }
          ],
          "scattermapbox": [
           {
            "marker": {
             "colorbar": {
              "outlinewidth": 0,
              "ticks": ""
             }
            },
            "type": "scattermapbox"
           }
          ],
          "scatterpolar": [
           {
            "marker": {
             "colorbar": {
              "outlinewidth": 0,
              "ticks": ""
             }
            },
            "type": "scatterpolar"
           }
          ],
          "scatterpolargl": [
           {
            "marker": {
             "colorbar": {
              "outlinewidth": 0,
              "ticks": ""
             }
            },
            "type": "scatterpolargl"
           }
          ],
          "scatterternary": [
           {
            "marker": {
             "colorbar": {
              "outlinewidth": 0,
              "ticks": ""
             }
            },
            "type": "scatterternary"
           }
          ],
          "surface": [
           {
            "colorbar": {
             "outlinewidth": 0,
             "ticks": ""
            },
            "colorscale": [
             [
              0,
              "#0d0887"
             ],
             [
              0.1111111111111111,
              "#46039f"
             ],
             [
              0.2222222222222222,
              "#7201a8"
             ],
             [
              0.3333333333333333,
              "#9c179e"
             ],
             [
              0.4444444444444444,
              "#bd3786"
             ],
             [
              0.5555555555555556,
              "#d8576b"
             ],
             [
              0.6666666666666666,
              "#ed7953"
             ],
             [
              0.7777777777777778,
              "#fb9f3a"
             ],
             [
              0.8888888888888888,
              "#fdca26"
             ],
             [
              1,
              "#f0f921"
             ]
            ],
            "type": "surface"
           }
          ],
          "table": [
           {
            "cells": {
             "fill": {
              "color": "#EBF0F8"
             },
             "line": {
              "color": "white"
             }
            },
            "header": {
             "fill": {
              "color": "#C8D4E3"
             },
             "line": {
              "color": "white"
             }
            },
            "type": "table"
           }
          ]
         },
         "layout": {
          "annotationdefaults": {
           "arrowcolor": "#2a3f5f",
           "arrowhead": 0,
           "arrowwidth": 1
          },
          "autotypenumbers": "strict",
          "coloraxis": {
           "colorbar": {
            "outlinewidth": 0,
            "ticks": ""
           }
          },
          "colorscale": {
           "diverging": [
            [
             0,
             "#8e0152"
            ],
            [
             0.1,
             "#c51b7d"
            ],
            [
             0.2,
             "#de77ae"
            ],
            [
             0.3,
             "#f1b6da"
            ],
            [
             0.4,
             "#fde0ef"
            ],
            [
             0.5,
             "#f7f7f7"
            ],
            [
             0.6,
             "#e6f5d0"
            ],
            [
             0.7,
             "#b8e186"
            ],
            [
             0.8,
             "#7fbc41"
            ],
            [
             0.9,
             "#4d9221"
            ],
            [
             1,
             "#276419"
            ]
           ],
           "sequential": [
            [
             0,
             "#0d0887"
            ],
            [
             0.1111111111111111,
             "#46039f"
            ],
            [
             0.2222222222222222,
             "#7201a8"
            ],
            [
             0.3333333333333333,
             "#9c179e"
            ],
            [
             0.4444444444444444,
             "#bd3786"
            ],
            [
             0.5555555555555556,
             "#d8576b"
            ],
            [
             0.6666666666666666,
             "#ed7953"
            ],
            [
             0.7777777777777778,
             "#fb9f3a"
            ],
            [
             0.8888888888888888,
             "#fdca26"
            ],
            [
             1,
             "#f0f921"
            ]
           ],
           "sequentialminus": [
            [
             0,
             "#0d0887"
            ],
            [
             0.1111111111111111,
             "#46039f"
            ],
            [
             0.2222222222222222,
             "#7201a8"
            ],
            [
             0.3333333333333333,
             "#9c179e"
            ],
            [
             0.4444444444444444,
             "#bd3786"
            ],
            [
             0.5555555555555556,
             "#d8576b"
            ],
            [
             0.6666666666666666,
             "#ed7953"
            ],
            [
             0.7777777777777778,
             "#fb9f3a"
            ],
            [
             0.8888888888888888,
             "#fdca26"
            ],
            [
             1,
             "#f0f921"
            ]
           ]
          },
          "colorway": [
           "#636efa",
           "#EF553B",
           "#00cc96",
           "#ab63fa",
           "#FFA15A",
           "#19d3f3",
           "#FF6692",
           "#B6E880",
           "#FF97FF",
           "#FECB52"
          ],
          "font": {
           "color": "#2a3f5f"
          },
          "geo": {
           "bgcolor": "white",
           "lakecolor": "white",
           "landcolor": "#E5ECF6",
           "showlakes": true,
           "showland": true,
           "subunitcolor": "white"
          },
          "hoverlabel": {
           "align": "left"
          },
          "hovermode": "closest",
          "mapbox": {
           "style": "light"
          },
          "paper_bgcolor": "white",
          "plot_bgcolor": "#E5ECF6",
          "polar": {
           "angularaxis": {
            "gridcolor": "white",
            "linecolor": "white",
            "ticks": ""
           },
           "bgcolor": "#E5ECF6",
           "radialaxis": {
            "gridcolor": "white",
            "linecolor": "white",
            "ticks": ""
           }
          },
          "scene": {
           "xaxis": {
            "backgroundcolor": "#E5ECF6",
            "gridcolor": "white",
            "gridwidth": 2,
            "linecolor": "white",
            "showbackground": true,
            "ticks": "",
            "zerolinecolor": "white"
           },
           "yaxis": {
            "backgroundcolor": "#E5ECF6",
            "gridcolor": "white",
            "gridwidth": 2,
            "linecolor": "white",
            "showbackground": true,
            "ticks": "",
            "zerolinecolor": "white"
           },
           "zaxis": {
            "backgroundcolor": "#E5ECF6",
            "gridcolor": "white",
            "gridwidth": 2,
            "linecolor": "white",
            "showbackground": true,
            "ticks": "",
            "zerolinecolor": "white"
           }
          },
          "shapedefaults": {
           "line": {
            "color": "#2a3f5f"
           }
          },
          "ternary": {
           "aaxis": {
            "gridcolor": "white",
            "linecolor": "white",
            "ticks": ""
           },
           "baxis": {
            "gridcolor": "white",
            "linecolor": "white",
            "ticks": ""
           },
           "bgcolor": "#E5ECF6",
           "caxis": {
            "gridcolor": "white",
            "linecolor": "white",
            "ticks": ""
           }
          },
          "title": {
           "x": 0.05
          },
          "xaxis": {
           "automargin": true,
           "gridcolor": "white",
           "linecolor": "white",
           "ticks": "",
           "title": {
            "standoff": 15
           },
           "zerolinecolor": "white",
           "zerolinewidth": 2
          },
          "yaxis": {
           "automargin": true,
           "gridcolor": "white",
           "linecolor": "white",
           "ticks": "",
           "title": {
            "standoff": 15
           },
           "zerolinecolor": "white",
           "zerolinewidth": 2
          }
         }
        },
        "title": {
         "text": "Зависимость средней абсолютной ошибки от<br>размера скользящего окна"
        },
        "width": 1280,
        "xaxis": {
         "title": {
          "text": "Размер скользящего окна"
         }
        },
        "yaxis": {
         "title": {
          "text": "Средняя абсолютная ошибка"
         }
        }
       }
      }
     },
     "metadata": {},
     "output_type": "display_data"
    }
   ],
   "source": [
    "# Plotting results\n",
    "fig = go.Figure()\n",
    "fig.add_trace(\n",
    "    go.Scatter(x=all_sizes, y=all_mapes,\n",
    "               name='Все наблюдения', mode='markers')\n",
    ")\n",
    "fig.add_trace(\n",
    "    go.Scatter(x=window_sizes, y=mapes_mean,\n",
    "               name='Средние значения', mode='lines+markers')\n",
    ")\n",
    "fig.update_layout(\n",
    "    title='Зависимость средней абсолютной ошибки от<br>размера скользящего окна',\n",
    "    font=dict(size=20),\n",
    "    xaxis=dict(title='Размер скользящего окна'),\n",
    "    yaxis=dict(title='Средняя абсолютная ошибка'),\n",
    "    width=1280,\n",
    "    height=720\n",
    ")\n",
    "fig.show()"
   ]
  },
  {
   "cell_type": "code",
   "execution_count": 62,
   "metadata": {},
   "outputs": [
    {
     "name": "stdout",
     "output_type": "stream",
     "text": [
      "[0, 1, 1, 2, 3, 5, 8, 13, 21, 34, 55, 89, 144]\n",
      "TRAINING FINISHED\n",
      "Epoch 2000/2000, Loss: 0.069315\n",
      "MAPE: 106.606362%\n",
      "TRAINING FINISHED\n",
      "Epoch 2000/2000, Loss: 0.037164\n",
      "MAPE: 73.649958%\n",
      "TRAINING FINISHED\n",
      "Epoch 2000/2000, Loss: 0.103106\n",
      "MAPE: 118.619316%\n",
      "TRAINING FINISHED\n",
      "Epoch 2000/2000, Loss: 0.043945\n",
      "MAPE: 81.270103%\n",
      "TRAINING FINISHED\n",
      "Epoch 2000/2000, Loss: 0.088307\n",
      "MAPE: 124.658718%\n",
      "[1, 4, 9, 16, 25, 36, 49, 64, 81, 100, 121, 144, 169]\n",
      "TRAINING FINISHED\n",
      "Epoch 2000/2000, Loss: 0.006152\n",
      "MAPE: 28.845831%\n",
      "TRAINING FINISHED\n",
      "Epoch 2000/2000, Loss: 0.005922\n",
      "MAPE: 28.491753%\n",
      "TRAINING FINISHED\n",
      "Epoch 2000/2000, Loss: 0.001616\n",
      "MAPE: 11.799408%\n",
      "TRAINING FINISHED\n",
      "Epoch 2000/2000, Loss: 0.012792\n",
      "MAPE: 42.713602%\n",
      "TRAINING FINISHED\n",
      "Epoch 2000/2000, Loss: 0.002754\n",
      "MAPE: 19.437776%\n",
      "[1, 2, 3, 4, 5, 6, 7, 8, 9, 10, 11, 12, 13]\n",
      "TRAINING FINISHED\n",
      "Epoch 2000/2000, Loss: 0.005417\n",
      "MAPE: 23.355729%\n",
      "TRAINING FINISHED\n",
      "Epoch 2000/2000, Loss: 0.001966\n",
      "MAPE: 15.491020%\n",
      "TRAINING FINISHED\n",
      "Epoch 2000/2000, Loss: 0.001257\n",
      "MAPE: 11.177583%\n",
      "TRAINING FINISHED\n",
      "Epoch 2000/2000, Loss: 0.007536\n",
      "MAPE: 32.363676%\n",
      "TRAINING FINISHED\n",
      "Epoch 2000/2000, Loss: 0.003352\n",
      "MAPE: 19.599153%\n",
      "[1.0, 0.5, 0.3333333333333333, 0.25, 0.2, 0.16666666666666666, 0.14285714285714285, 0.125, 0.1111111111111111, 0.1, 0.09090909090909091, 0.08333333333333333, 0.07692307692307693]\n",
      "TRAINING FINISHED\n",
      "Epoch 2000/2000, Loss: 0.000198\n",
      "MAPE: 4.316371%\n",
      "TRAINING FINISHED\n",
      "Epoch 2000/2000, Loss: 0.000434\n",
      "MAPE: 5.433919%\n",
      "TRAINING FINISHED\n",
      "Epoch 2000/2000, Loss: 0.001159\n",
      "MAPE: 10.355899%\n",
      "TRAINING FINISHED\n",
      "Epoch 2000/2000, Loss: 0.001182\n",
      "MAPE: 9.621725%\n",
      "TRAINING FINISHED\n",
      "Epoch 2000/2000, Loss: 0.000237\n",
      "MAPE: 4.274749%\n",
      "[1, -1, 1, -1, 1, -1, 1, -1, 1, -1, 1, -1, 1]\n",
      "TRAINING FINISHED\n",
      "Epoch 2000/2000, Loss: 0.003935\n",
      "MAPE: 7.529960%\n",
      "TRAINING FINISHED\n",
      "Epoch 2000/2000, Loss: 0.002904\n",
      "MAPE: 6.544390%\n",
      "TRAINING FINISHED\n",
      "Epoch 2000/2000, Loss: 0.003877\n",
      "MAPE: 7.494687%\n",
      "TRAINING FINISHED\n",
      "Epoch 2000/2000, Loss: 0.004190\n",
      "MAPE: 7.758722%\n",
      "TRAINING FINISHED\n",
      "Epoch 2000/2000, Loss: 0.007979\n",
      "MAPE: 10.931491%\n",
      "[1, 0.5, 1, 0.5, 0.5, 1, 0.5, 0.5, 0.5, 1, 0.5, 0.5, 0.5]\n",
      "TRAINING FINISHED\n",
      "Epoch 2000/2000, Loss: 0.196081\n",
      "MAPE: 47.580571%\n",
      "TRAINING FINISHED\n",
      "Epoch 2000/2000, Loss: 0.203408\n",
      "MAPE: 52.009431%\n",
      "TRAINING FINISHED\n",
      "Epoch 2000/2000, Loss: 0.204862\n",
      "MAPE: 47.106681%\n",
      "TRAINING FINISHED\n",
      "Epoch 2000/2000, Loss: 0.202570\n",
      "MAPE: 46.798926%\n",
      "TRAINING FINISHED\n",
      "Epoch 2000/2000, Loss: 0.221129\n",
      "MAPE: 52.826231%\n"
     ]
    }
   ],
   "source": [
    "# Настройки эксперимента\n",
    "experiments_amount = 5\n",
    "seq_length = 10\n",
    "window_size = 3\n",
    "batch_size = 1\n",
    "hidden_size = 10\n",
    "output_size = 3\n",
    "max_epochs = 2000\n",
    "verbosity = 100000\n",
    "lr = 1e-2\n",
    "\n",
    "# Словарь с генераторами\n",
    "sequence_generators = {\n",
    "    \"1, 1, 2, 3, 5, 8,...\": lambda n: list(fibonacci_generator(n)),\n",
    "    \"1, 4, 9, 16,...\": lambda n: list(squared_generator(n)),\n",
    "    \"1, 2, 3, 4, 5,...\": lambda n: list(arithmetic_progression(n, a0=1, d=1)),    \n",
    "    \"1, 0.5 ,0.(3), 0.25, 0.2,...\": lambda n: list(one_by_n_generator(n)),\n",
    "    \"1, -1, 1, -1,...\": lambda n: list(plus_one_minus_one_generator(n)),\n",
    "    \"1, 0.5, 1, 0.5, 0.5, 1,...\": lambda n: list(one_half_generator(n)),\n",
    "}\n",
    "\n",
    "all_mapes = []\n",
    "mapes_mean = []\n",
    "all_sequences = []\n",
    "\n",
    "# Тренировка для каждой последовательности\n",
    "for seq_name, seq_generator in sequence_generators.items():\n",
    "    sequence = seq_generator(seq_length + output_size)\n",
    "    print(sequence)   \n",
    "\n",
    "    mapes_sum = 0\n",
    "    for _ in range(experiments_amount):\n",
    "        all_sequences.append(seq_name)\n",
    "        \n",
    "        train_sequence = sequence[:seq_length]\n",
    "        test_sequence = sequence[-output_size:]\n",
    "        training_mape, model, next_n_pred, mean, deviation = predict_next_n_elements(\n",
    "            train_sequence, window_size, batch_size,\n",
    "            hidden_size, output_size, max_epochs,\n",
    "            verbosity, lr, use_adam=use_adam\n",
    "        )\n",
    "        all_epochs.append(max_epochs)\n",
    "        \n",
    "        # Test sequence mape\n",
    "        test_sequence = sequence[-output_size:]\n",
    "        test_mape = mape(test_sequence, next_n_pred)\n",
    "        mapes_sum += test_mape    \n",
    "        all_mapes.append(test_mape)\n",
    "\n",
    "    mapes_mean.append(mapes_sum / experiments_amount)"
   ]
  },
  {
   "cell_type": "code",
   "execution_count": 63,
   "metadata": {},
   "outputs": [
    {
     "data": {
      "application/vnd.plotly.v1+json": {
       "config": {
        "plotlyServerURL": "https://plot.ly"
       },
       "data": [
        {
         "mode": "markers",
         "name": "Все наблюдения",
         "type": "scatter",
         "x": [
          "1, 1, 2, 3, 5, 8,...",
          "1, 1, 2, 3, 5, 8,...",
          "1, 1, 2, 3, 5, 8,...",
          "1, 1, 2, 3, 5, 8,...",
          "1, 1, 2, 3, 5, 8,...",
          "1, 4, 9, 16,...",
          "1, 4, 9, 16,...",
          "1, 4, 9, 16,...",
          "1, 4, 9, 16,...",
          "1, 4, 9, 16,...",
          "1, 2, 3, 4, 5,...",
          "1, 2, 3, 4, 5,...",
          "1, 2, 3, 4, 5,...",
          "1, 2, 3, 4, 5,...",
          "1, 2, 3, 4, 5,...",
          "1, 0.5 ,0.(3), 0.25, 0.2,...",
          "1, 0.5 ,0.(3), 0.25, 0.2,...",
          "1, 0.5 ,0.(3), 0.25, 0.2,...",
          "1, 0.5 ,0.(3), 0.25, 0.2,...",
          "1, 0.5 ,0.(3), 0.25, 0.2,...",
          "1, -1, 1, -1,...",
          "1, -1, 1, -1,...",
          "1, -1, 1, -1,...",
          "1, -1, 1, -1,...",
          "1, -1, 1, -1,...",
          "1, 0.5, 1, 0.5, 0.5, 1,...",
          "1, 0.5, 1, 0.5, 0.5, 1,...",
          "1, 0.5, 1, 0.5, 0.5, 1,...",
          "1, 0.5, 1, 0.5, 0.5, 1,...",
          "1, 0.5, 1, 0.5, 0.5, 1,..."
         ],
         "y": [
          0.8694723389064604,
          0.8369018633899131,
          0.8361661149339595,
          0.8649295684663113,
          0.8375218302451439,
          0.5534600556839328,
          0.5255064272544295,
          0.5012138739432709,
          0.6031511921906231,
          0.6111337457398167,
          0.2662401804340196,
          0.27477858879473344,
          0.28928402686175164,
          0.26255053768075237,
          0.32817661402667586,
          0.735888515788758,
          0.8128249299735741,
          0.6044881031416972,
          0.8153180971313225,
          1.009670248760863,
          0.24732656403667308,
          0.3869808018847452,
          0.35664286689056235,
          0.26729665640391126,
          0.387836233766322,
          0.35391745622622056,
          0.3488633836853856,
          0.4218182115485131,
          0.3197205457314707,
          0.3388717794731608
         ]
        },
        {
         "mode": "markers",
         "name": "Средние значения",
         "type": "scatter",
         "x": [
          "1, 1, 2, 3, 5, 8,...",
          "1, 4, 9, 16,...",
          "1, 2, 3, 4, 5,...",
          "1, 0.5 ,0.(3), 0.25, 0.2,...",
          "1, -1, 1, -1,...",
          "1, 0.5, 1, 0.5, 0.5, 1,..."
         ],
         "y": [
          0.8489983431883577,
          0.5588930589624146,
          0.2842059895595866,
          0.795637978959243,
          0.32921662459644274,
          0.35663827533295017
         ]
        }
       ],
       "layout": {
        "font": {
         "size": 20
        },
        "height": 720,
        "template": {
         "data": {
          "bar": [
           {
            "error_x": {
             "color": "#2a3f5f"
            },
            "error_y": {
             "color": "#2a3f5f"
            },
            "marker": {
             "line": {
              "color": "#E5ECF6",
              "width": 0.5
             },
             "pattern": {
              "fillmode": "overlay",
              "size": 10,
              "solidity": 0.2
             }
            },
            "type": "bar"
           }
          ],
          "barpolar": [
           {
            "marker": {
             "line": {
              "color": "#E5ECF6",
              "width": 0.5
             },
             "pattern": {
              "fillmode": "overlay",
              "size": 10,
              "solidity": 0.2
             }
            },
            "type": "barpolar"
           }
          ],
          "carpet": [
           {
            "aaxis": {
             "endlinecolor": "#2a3f5f",
             "gridcolor": "white",
             "linecolor": "white",
             "minorgridcolor": "white",
             "startlinecolor": "#2a3f5f"
            },
            "baxis": {
             "endlinecolor": "#2a3f5f",
             "gridcolor": "white",
             "linecolor": "white",
             "minorgridcolor": "white",
             "startlinecolor": "#2a3f5f"
            },
            "type": "carpet"
           }
          ],
          "choropleth": [
           {
            "colorbar": {
             "outlinewidth": 0,
             "ticks": ""
            },
            "type": "choropleth"
           }
          ],
          "contour": [
           {
            "colorbar": {
             "outlinewidth": 0,
             "ticks": ""
            },
            "colorscale": [
             [
              0,
              "#0d0887"
             ],
             [
              0.1111111111111111,
              "#46039f"
             ],
             [
              0.2222222222222222,
              "#7201a8"
             ],
             [
              0.3333333333333333,
              "#9c179e"
             ],
             [
              0.4444444444444444,
              "#bd3786"
             ],
             [
              0.5555555555555556,
              "#d8576b"
             ],
             [
              0.6666666666666666,
              "#ed7953"
             ],
             [
              0.7777777777777778,
              "#fb9f3a"
             ],
             [
              0.8888888888888888,
              "#fdca26"
             ],
             [
              1,
              "#f0f921"
             ]
            ],
            "type": "contour"
           }
          ],
          "contourcarpet": [
           {
            "colorbar": {
             "outlinewidth": 0,
             "ticks": ""
            },
            "type": "contourcarpet"
           }
          ],
          "heatmap": [
           {
            "colorbar": {
             "outlinewidth": 0,
             "ticks": ""
            },
            "colorscale": [
             [
              0,
              "#0d0887"
             ],
             [
              0.1111111111111111,
              "#46039f"
             ],
             [
              0.2222222222222222,
              "#7201a8"
             ],
             [
              0.3333333333333333,
              "#9c179e"
             ],
             [
              0.4444444444444444,
              "#bd3786"
             ],
             [
              0.5555555555555556,
              "#d8576b"
             ],
             [
              0.6666666666666666,
              "#ed7953"
             ],
             [
              0.7777777777777778,
              "#fb9f3a"
             ],
             [
              0.8888888888888888,
              "#fdca26"
             ],
             [
              1,
              "#f0f921"
             ]
            ],
            "type": "heatmap"
           }
          ],
          "heatmapgl": [
           {
            "colorbar": {
             "outlinewidth": 0,
             "ticks": ""
            },
            "colorscale": [
             [
              0,
              "#0d0887"
             ],
             [
              0.1111111111111111,
              "#46039f"
             ],
             [
              0.2222222222222222,
              "#7201a8"
             ],
             [
              0.3333333333333333,
              "#9c179e"
             ],
             [
              0.4444444444444444,
              "#bd3786"
             ],
             [
              0.5555555555555556,
              "#d8576b"
             ],
             [
              0.6666666666666666,
              "#ed7953"
             ],
             [
              0.7777777777777778,
              "#fb9f3a"
             ],
             [
              0.8888888888888888,
              "#fdca26"
             ],
             [
              1,
              "#f0f921"
             ]
            ],
            "type": "heatmapgl"
           }
          ],
          "histogram": [
           {
            "marker": {
             "pattern": {
              "fillmode": "overlay",
              "size": 10,
              "solidity": 0.2
             }
            },
            "type": "histogram"
           }
          ],
          "histogram2d": [
           {
            "colorbar": {
             "outlinewidth": 0,
             "ticks": ""
            },
            "colorscale": [
             [
              0,
              "#0d0887"
             ],
             [
              0.1111111111111111,
              "#46039f"
             ],
             [
              0.2222222222222222,
              "#7201a8"
             ],
             [
              0.3333333333333333,
              "#9c179e"
             ],
             [
              0.4444444444444444,
              "#bd3786"
             ],
             [
              0.5555555555555556,
              "#d8576b"
             ],
             [
              0.6666666666666666,
              "#ed7953"
             ],
             [
              0.7777777777777778,
              "#fb9f3a"
             ],
             [
              0.8888888888888888,
              "#fdca26"
             ],
             [
              1,
              "#f0f921"
             ]
            ],
            "type": "histogram2d"
           }
          ],
          "histogram2dcontour": [
           {
            "colorbar": {
             "outlinewidth": 0,
             "ticks": ""
            },
            "colorscale": [
             [
              0,
              "#0d0887"
             ],
             [
              0.1111111111111111,
              "#46039f"
             ],
             [
              0.2222222222222222,
              "#7201a8"
             ],
             [
              0.3333333333333333,
              "#9c179e"
             ],
             [
              0.4444444444444444,
              "#bd3786"
             ],
             [
              0.5555555555555556,
              "#d8576b"
             ],
             [
              0.6666666666666666,
              "#ed7953"
             ],
             [
              0.7777777777777778,
              "#fb9f3a"
             ],
             [
              0.8888888888888888,
              "#fdca26"
             ],
             [
              1,
              "#f0f921"
             ]
            ],
            "type": "histogram2dcontour"
           }
          ],
          "mesh3d": [
           {
            "colorbar": {
             "outlinewidth": 0,
             "ticks": ""
            },
            "type": "mesh3d"
           }
          ],
          "parcoords": [
           {
            "line": {
             "colorbar": {
              "outlinewidth": 0,
              "ticks": ""
             }
            },
            "type": "parcoords"
           }
          ],
          "pie": [
           {
            "automargin": true,
            "type": "pie"
           }
          ],
          "scatter": [
           {
            "fillpattern": {
             "fillmode": "overlay",
             "size": 10,
             "solidity": 0.2
            },
            "type": "scatter"
           }
          ],
          "scatter3d": [
           {
            "line": {
             "colorbar": {
              "outlinewidth": 0,
              "ticks": ""
             }
            },
            "marker": {
             "colorbar": {
              "outlinewidth": 0,
              "ticks": ""
             }
            },
            "type": "scatter3d"
           }
          ],
          "scattercarpet": [
           {
            "marker": {
             "colorbar": {
              "outlinewidth": 0,
              "ticks": ""
             }
            },
            "type": "scattercarpet"
           }
          ],
          "scattergeo": [
           {
            "marker": {
             "colorbar": {
              "outlinewidth": 0,
              "ticks": ""
             }
            },
            "type": "scattergeo"
           }
          ],
          "scattergl": [
           {
            "marker": {
             "colorbar": {
              "outlinewidth": 0,
              "ticks": ""
             }
            },
            "type": "scattergl"
           }
          ],
          "scattermapbox": [
           {
            "marker": {
             "colorbar": {
              "outlinewidth": 0,
              "ticks": ""
             }
            },
            "type": "scattermapbox"
           }
          ],
          "scatterpolar": [
           {
            "marker": {
             "colorbar": {
              "outlinewidth": 0,
              "ticks": ""
             }
            },
            "type": "scatterpolar"
           }
          ],
          "scatterpolargl": [
           {
            "marker": {
             "colorbar": {
              "outlinewidth": 0,
              "ticks": ""
             }
            },
            "type": "scatterpolargl"
           }
          ],
          "scatterternary": [
           {
            "marker": {
             "colorbar": {
              "outlinewidth": 0,
              "ticks": ""
             }
            },
            "type": "scatterternary"
           }
          ],
          "surface": [
           {
            "colorbar": {
             "outlinewidth": 0,
             "ticks": ""
            },
            "colorscale": [
             [
              0,
              "#0d0887"
             ],
             [
              0.1111111111111111,
              "#46039f"
             ],
             [
              0.2222222222222222,
              "#7201a8"
             ],
             [
              0.3333333333333333,
              "#9c179e"
             ],
             [
              0.4444444444444444,
              "#bd3786"
             ],
             [
              0.5555555555555556,
              "#d8576b"
             ],
             [
              0.6666666666666666,
              "#ed7953"
             ],
             [
              0.7777777777777778,
              "#fb9f3a"
             ],
             [
              0.8888888888888888,
              "#fdca26"
             ],
             [
              1,
              "#f0f921"
             ]
            ],
            "type": "surface"
           }
          ],
          "table": [
           {
            "cells": {
             "fill": {
              "color": "#EBF0F8"
             },
             "line": {
              "color": "white"
             }
            },
            "header": {
             "fill": {
              "color": "#C8D4E3"
             },
             "line": {
              "color": "white"
             }
            },
            "type": "table"
           }
          ]
         },
         "layout": {
          "annotationdefaults": {
           "arrowcolor": "#2a3f5f",
           "arrowhead": 0,
           "arrowwidth": 1
          },
          "autotypenumbers": "strict",
          "coloraxis": {
           "colorbar": {
            "outlinewidth": 0,
            "ticks": ""
           }
          },
          "colorscale": {
           "diverging": [
            [
             0,
             "#8e0152"
            ],
            [
             0.1,
             "#c51b7d"
            ],
            [
             0.2,
             "#de77ae"
            ],
            [
             0.3,
             "#f1b6da"
            ],
            [
             0.4,
             "#fde0ef"
            ],
            [
             0.5,
             "#f7f7f7"
            ],
            [
             0.6,
             "#e6f5d0"
            ],
            [
             0.7,
             "#b8e186"
            ],
            [
             0.8,
             "#7fbc41"
            ],
            [
             0.9,
             "#4d9221"
            ],
            [
             1,
             "#276419"
            ]
           ],
           "sequential": [
            [
             0,
             "#0d0887"
            ],
            [
             0.1111111111111111,
             "#46039f"
            ],
            [
             0.2222222222222222,
             "#7201a8"
            ],
            [
             0.3333333333333333,
             "#9c179e"
            ],
            [
             0.4444444444444444,
             "#bd3786"
            ],
            [
             0.5555555555555556,
             "#d8576b"
            ],
            [
             0.6666666666666666,
             "#ed7953"
            ],
            [
             0.7777777777777778,
             "#fb9f3a"
            ],
            [
             0.8888888888888888,
             "#fdca26"
            ],
            [
             1,
             "#f0f921"
            ]
           ],
           "sequentialminus": [
            [
             0,
             "#0d0887"
            ],
            [
             0.1111111111111111,
             "#46039f"
            ],
            [
             0.2222222222222222,
             "#7201a8"
            ],
            [
             0.3333333333333333,
             "#9c179e"
            ],
            [
             0.4444444444444444,
             "#bd3786"
            ],
            [
             0.5555555555555556,
             "#d8576b"
            ],
            [
             0.6666666666666666,
             "#ed7953"
            ],
            [
             0.7777777777777778,
             "#fb9f3a"
            ],
            [
             0.8888888888888888,
             "#fdca26"
            ],
            [
             1,
             "#f0f921"
            ]
           ]
          },
          "colorway": [
           "#636efa",
           "#EF553B",
           "#00cc96",
           "#ab63fa",
           "#FFA15A",
           "#19d3f3",
           "#FF6692",
           "#B6E880",
           "#FF97FF",
           "#FECB52"
          ],
          "font": {
           "color": "#2a3f5f"
          },
          "geo": {
           "bgcolor": "white",
           "lakecolor": "white",
           "landcolor": "#E5ECF6",
           "showlakes": true,
           "showland": true,
           "subunitcolor": "white"
          },
          "hoverlabel": {
           "align": "left"
          },
          "hovermode": "closest",
          "mapbox": {
           "style": "light"
          },
          "paper_bgcolor": "white",
          "plot_bgcolor": "#E5ECF6",
          "polar": {
           "angularaxis": {
            "gridcolor": "white",
            "linecolor": "white",
            "ticks": ""
           },
           "bgcolor": "#E5ECF6",
           "radialaxis": {
            "gridcolor": "white",
            "linecolor": "white",
            "ticks": ""
           }
          },
          "scene": {
           "xaxis": {
            "backgroundcolor": "#E5ECF6",
            "gridcolor": "white",
            "gridwidth": 2,
            "linecolor": "white",
            "showbackground": true,
            "ticks": "",
            "zerolinecolor": "white"
           },
           "yaxis": {
            "backgroundcolor": "#E5ECF6",
            "gridcolor": "white",
            "gridwidth": 2,
            "linecolor": "white",
            "showbackground": true,
            "ticks": "",
            "zerolinecolor": "white"
           },
           "zaxis": {
            "backgroundcolor": "#E5ECF6",
            "gridcolor": "white",
            "gridwidth": 2,
            "linecolor": "white",
            "showbackground": true,
            "ticks": "",
            "zerolinecolor": "white"
           }
          },
          "shapedefaults": {
           "line": {
            "color": "#2a3f5f"
           }
          },
          "ternary": {
           "aaxis": {
            "gridcolor": "white",
            "linecolor": "white",
            "ticks": ""
           },
           "baxis": {
            "gridcolor": "white",
            "linecolor": "white",
            "ticks": ""
           },
           "bgcolor": "#E5ECF6",
           "caxis": {
            "gridcolor": "white",
            "linecolor": "white",
            "ticks": ""
           }
          },
          "title": {
           "x": 0.05
          },
          "xaxis": {
           "automargin": true,
           "gridcolor": "white",
           "linecolor": "white",
           "ticks": "",
           "title": {
            "standoff": 15
           },
           "zerolinecolor": "white",
           "zerolinewidth": 2
          },
          "yaxis": {
           "automargin": true,
           "gridcolor": "white",
           "linecolor": "white",
           "ticks": "",
           "title": {
            "standoff": 15
           },
           "zerolinecolor": "white",
           "zerolinewidth": 2
          }
         }
        },
        "title": {
         "text": "Зависимость средней абсолютной ошибки<br>от вида последовательности"
        },
        "width": 1280,
        "xaxis": {
         "title": {
          "text": "Вид последовательности"
         }
        },
        "yaxis": {
         "title": {
          "text": "Средняя абсолютная ошибка"
         }
        }
       }
      }
     },
     "metadata": {},
     "output_type": "display_data"
    }
   ],
   "source": [
    "# Построение графика\n",
    "fig = go.Figure()\n",
    "fig.add_trace(\n",
    "    go.Scatter(x=all_sequences, y=all_mapes, name=\"Все наблюдения\", mode=\"markers\")\n",
    ")\n",
    "fig.add_trace(\n",
    "    go.Scatter(x=list(sequence_generators.keys()), y=mapes_mean, name=\"Средние значения\", mode=\"markers\")\n",
    ")\n",
    "fig.update_layout(\n",
    "    title=\"Зависимость средней абсолютной ошибки<br>от вида последовательности\",\n",
    "    font=dict(size=20),\n",
    "    xaxis=dict(title=\"Вид последовательности\"),\n",
    "    yaxis=dict(title=\"Средняя абсолютная ошибка\"),\n",
    "    width=1280,\n",
    "    height=720\n",
    ")\n",
    "fig.show()"
   ]
  },
  {
   "cell_type": "code",
   "execution_count": 64,
   "metadata": {},
   "outputs": [
    {
     "name": "stdout",
     "output_type": "stream",
     "text": [
      "TRAINING FINISHED\n",
      "Epoch 2000/2000, Loss: 0.088438\n",
      "MAPE: 2.888482%\n",
      "TEST\n",
      "Предсказания на тестовой выборке:\n",
      " [17.00577661 18.37214946 19.55869165]\n",
      "Истинное значение на тестовой выборке:\n",
      " [18 19 20]\n",
      "MAPE: 3.6782%\n"
     ]
    }
   ],
   "source": [
    "# Arithmetic\n",
    "seq_length = 20\n",
    "window_size = 5\n",
    "batch_size = 1\n",
    "hidden_size = 10\n",
    "output_size = 3\n",
    "\n",
    "sequence = list(arithmetic_progression(seq_length, 1, 1))\n",
    "X, y = create_sliding_window_batches(sequence, window_size, batch_size, output_size)\n",
    "\n",
    "verbosity = 5000\n",
    "model = GRUModel(window_size, hidden_size, output_size)\n",
    "\n",
    "# Параметры обучения\n",
    "lr = 1e-3\n",
    "epochs = 2000\n",
    "\n",
    "model.train(x=X, y=y, lr=lr, max_epochs=epochs, verbosity=verbosity)\n",
    "\n",
    "print('TEST')\n",
    "y_pred, _, _ = model.forward(X)\n",
    "print(\"Предсказания на тестовой выборке:\\n\", y_pred[-1][-1])\n",
    "print(\"Истинное значение на тестовой выборке:\\n\", y[-1][-1])\n",
    "print(f\"MAPE: {mape(y[-1][-1], y_pred[-1][-1]) * 100:.4f}%\")  "
   ]
  },
  {
   "cell_type": "code",
   "execution_count": 65,
   "metadata": {},
   "outputs": [
    {
     "name": "stdout",
     "output_type": "stream",
     "text": [
      "TRAINING FINISHED\n",
      "Epoch 2000/2000, Loss: 9.891472\n",
      "MAPE: 4.988450%\n",
      "TEST\n",
      "Предсказания на тестовой выборке:\n",
      " [142.7695358  230.84261034 373.49654181]\n",
      "Истинное значение на тестовой выборке:\n",
      " [144 233 377]\n",
      "MAPE: 0.9032%\n"
     ]
    }
   ],
   "source": [
    "# Fibonacci\n",
    "seq_length = 15\n",
    "window_size = 5\n",
    "batch_size = 1\n",
    "hidden_size = 10\n",
    "output_size = 3\n",
    "\n",
    "sequence = list(fibonacci_generator(seq_length))\n",
    "X, y = create_sliding_window_batches(sequence, window_size, batch_size, output_size)\n",
    "\n",
    "verbosity = 5000\n",
    "model = GRUModel(window_size, hidden_size, output_size)\n",
    "\n",
    "# Параметры обучения\n",
    "lr = 1e-3\n",
    "epochs = 2000\n",
    "\n",
    "model.train(x=X, y=y, lr=lr, max_epochs=epochs, verbosity=verbosity)\n",
    "\n",
    "print('TEST')\n",
    "y_pred, _, _ = model.forward(X)\n",
    "print(\"Предсказания на тестовой выборке:\\n\", y_pred[-1][-1])\n",
    "print(\"Истинное значение на тестовой выборке:\\n\", y[-1][-1])\n",
    "print(f\"MAPE: {mape(y[-1][-1], y_pred[-1][-1]) * 100:.4f}%\")"
   ]
  },
  {
   "cell_type": "code",
   "execution_count": 66,
   "metadata": {},
   "outputs": [
    {
     "name": "stdout",
     "output_type": "stream",
     "text": [
      "TRAINING FINISHED\n",
      "Epoch 2000/2000, Loss: 0.000935\n",
      "MAPE: 33.357387%\n",
      "TEST\n",
      "Предсказания на тестовой выборке:\n",
      " [0.05546381 0.05277901 0.04147735]\n",
      "Истинное значение на тестовой выборке:\n",
      " [0.05555556 0.05263158 0.05      ]\n",
      "MAPE: 5.8302%\n"
     ]
    }
   ],
   "source": [
    "# 1 / n\n",
    "seq_length = 20\n",
    "window_size = 5\n",
    "batch_size = 1\n",
    "hidden_size = 10\n",
    "output_size = 3\n",
    "\n",
    "sequence = list(one_by_n_generator(seq_length))\n",
    "X, y = create_sliding_window_batches(sequence, window_size, batch_size, output_size)\n",
    "\n",
    "verbosity = 5000\n",
    "model = GRUModel(window_size, hidden_size, output_size)\n",
    "\n",
    "# Параметры обучения\n",
    "lr = 1e-3\n",
    "epochs = 2000\n",
    "\n",
    "model.train(x=X, y=y, lr=lr, max_epochs=epochs, verbosity=verbosity)\n",
    "\n",
    "print('TEST')\n",
    "y_pred, _, _ = model.forward(X)\n",
    "print(\"Предсказания на тестовой выборке:\\n\", y_pred[-1][-1])\n",
    "print(\"Истинное значение на тестовой выборке:\\n\", y[-1][-1])\n",
    "print(f\"MAPE: {mape(y[-1][-1], y_pred[-1][-1]) * 100:.4f}%\")"
   ]
  },
  {
   "cell_type": "code",
   "execution_count": 67,
   "metadata": {},
   "outputs": [
    {
     "name": "stdout",
     "output_type": "stream",
     "text": [
      "Epoch 2000/2000, Loss: 0.300272\n",
      "MAPE: 76.522467%\n",
      "TRAINING FINISHED\n",
      "Epoch 2000/2000, Loss: 0.300165\n",
      "MAPE: 76.508329%\n",
      "TEST\n",
      "Предсказания на тестовой выборке:\n",
      " [-0.1763651   0.19311535 -0.4053049 ]\n",
      "Истинное значение на тестовой выборке:\n",
      " [-1  1 -1]\n",
      "MAPE: 74.1738%\n"
     ]
    }
   ],
   "source": [
    "# 1, -1, 1, -1, ...\n",
    "seq_length = 20\n",
    "window_size = 5\n",
    "batch_size = 1\n",
    "hidden_size = 10\n",
    "output_size = 3\n",
    "\n",
    "sequence = list(plus_one_minus_one_generator(seq_length))\n",
    "X, y = create_sliding_window_batches(sequence, window_size, batch_size, output_size)\n",
    "\n",
    "verbosity = 2000\n",
    "model = GRUModel(window_size, hidden_size, output_size)\n",
    "\n",
    "# Параметры обучения\n",
    "lr = 1e-3\n",
    "epochs = 2000\n",
    "\n",
    "model.train(x=X, y=y, lr=lr, max_epochs=epochs, verbosity=verbosity)\n",
    "\n",
    "print('TEST')\n",
    "y_pred, _, _ = model.forward(X)\n",
    "print(\"Предсказания на тестовой выборке:\\n\", y_pred[-1][-1])\n",
    "print(\"Истинное значение на тестовой выборке:\\n\", y[-1][-1])\n",
    "print(f\"MAPE: {mape(y[-1][-1], y_pred[-1][-1]) * 100:.4f}%\") "
   ]
  },
  {
   "cell_type": "code",
   "execution_count": 68,
   "metadata": {},
   "outputs": [
    {
     "name": "stdout",
     "output_type": "stream",
     "text": [
      "TRAINING FINISHED\n",
      "Epoch 2000/2000, Loss: 0.029547\n",
      "MAPE: 0.582809%\n",
      "TEST\n",
      "Предсказания на тестовой выборке:\n",
      " [63.92575511 81.14614529 99.84609925]\n",
      "Истинное значение на тестовой выборке:\n",
      " [ 64  81 100]\n",
      "MAPE: 0.1501%\n"
     ]
    }
   ],
   "source": [
    "# n ** 2\n",
    "seq_length = 10\n",
    "window_size = 3\n",
    "batch_size = 1\n",
    "hidden_size = 10\n",
    "output_size = 3\n",
    "\n",
    "sequence = list(squared_generator(seq_length))\n",
    "X, y = create_sliding_window_batches(sequence, window_size, batch_size, output_size)\n",
    "\n",
    "verbosity = 5000\n",
    "model = GRUModel(window_size, hidden_size, output_size)\n",
    "\n",
    "# Параметры обучения\n",
    "lr = 1e-3\n",
    "epochs = 2000\n",
    "\n",
    "model.train(x=X, y=y, lr=lr, max_epochs=epochs, verbosity=verbosity)\n",
    "\n",
    "print('TEST')\n",
    "y_pred, _, _ = model.forward(X)\n",
    "print(\"Предсказания на тестовой выборке:\\n\", y_pred[-1][-1])\n",
    "print(\"Истинное значение на тестовой выборке:\\n\", y[-1][-1])\n",
    "print(f\"MAPE: {mape(y[-1][-1], y_pred[-1][-1]) * 100:.4f}%\") "
   ]
  }
 ],
 "metadata": {
  "kernelspec": {
   "display_name": ".venv",
   "language": "python",
   "name": "python3"
  },
  "language_info": {
   "codemirror_mode": {
    "name": "ipython",
    "version": 3
   },
   "file_extension": ".py",
   "mimetype": "text/x-python",
   "name": "python",
   "nbconvert_exporter": "python",
   "pygments_lexer": "ipython3",
   "version": "3.11.9"
  }
 },
 "nbformat": 4,
 "nbformat_minor": 2
}
