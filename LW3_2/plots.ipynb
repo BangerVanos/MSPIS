{
 "cells": [
  {
   "cell_type": "code",
   "execution_count": 3,
   "metadata": {},
   "outputs": [],
   "source": [
    "import numpy as np\n",
    "from gru import (\n",
    "    GRUModel,\n",
    "    fibonacci_generator,\n",
    "    one_by_n_generator,\n",
    "    plus_one_minus_one_generator,\n",
    "    squared_generator,\n",
    "    half_generator,\n",
    "    arithmetic_progression,\n",
    "    create_sliding_window_batches,\n",
    "    mape\n",
    ")\n",
    "import plotly.graph_objects as go"
   ]
  },
  {
   "cell_type": "code",
   "execution_count": 4,
   "metadata": {},
   "outputs": [],
   "source": [
    "# seq_length = 10\n",
    "# window_size = 5\n",
    "# batch_size = 2\n",
    "# hidden_size = 4\n",
    "# output_size = 3\n",
    "\n",
    "# sequence = list(fibonacci_generator(seq_length))\n",
    "# X, y = create_sliding_window_batches(sequence, window_size, batch_size, output_size)\n",
    "# X_train, y_train = X[0:int(len(X) * 0.8)], y[0:int(len(X) * 0.8)][-1]\n",
    "# X_test, y_test = X[int(len(X) * 0.8):], y[int(len(X) * 0.8):][-1]\n",
    "\n",
    "# verbosity = 1000\n",
    "\n",
    "# max_mape = 1e-3\n",
    "# learn_until_meet_mape = True\n",
    "\n",
    "# model = GRUModel(window_size, hidden_size, output_size)\n",
    "\n",
    "# # Параметры обучения\n",
    "# lr = 1e-4\n",
    "# epochs = 5000\n",
    "\n",
    "# model.train(X_train, y_train, lr, epochs,\n",
    "#             True, max_mape, verbosity)\n",
    "# Проверим результат после обучения\n",
    "# y_pred, _, _ = model.forward(X_train)\n",
    "# print(\"Предсказание после обучения:\\n\", y_pred)\n",
    "# print(\"Истинное значение:\\n\", y_train)\n",
    "# print(f\"MAPE: {mape(y_train, y_pred) * 100:.4f}%\")\n",
    "\n",
    "# print('TEST')\n",
    "# y_pred, _, _ = model.forward(X_test)\n",
    "# print(\"Предсказания на тестовой выборке:\\n\", y_pred)\n",
    "# print(\"Истинное значение на тестовой выборке:\\n\", y_test)\n",
    "# print(f\"MAPE: {mape(y_test, y_pred) * 100:.4f}%\")  "
   ]
  },
  {
   "cell_type": "code",
   "execution_count": 6,
   "metadata": {},
   "outputs": [
    {
     "ename": "ValueError",
     "evalue": "non-broadcastable output operand with shape (5,4) doesn't match the broadcast shape (22,5,4)",
     "output_type": "error",
     "traceback": [
      "\u001b[1;31m---------------------------------------------------------------------------\u001b[0m",
      "\u001b[1;31mValueError\u001b[0m                                Traceback (most recent call last)",
      "Cell \u001b[1;32mIn[6], line 34\u001b[0m\n\u001b[0;32m     30\u001b[0m \u001b[38;5;28;01mfor\u001b[39;00m _ \u001b[38;5;129;01min\u001b[39;00m \u001b[38;5;28mrange\u001b[39m(experiments_amount):              \n\u001b[0;32m     32\u001b[0m     network \u001b[38;5;241m=\u001b[39m GRUModel(input_size\u001b[38;5;241m=\u001b[39mwindow_size, hidden_size\u001b[38;5;241m=\u001b[39mhidden_size,\n\u001b[0;32m     33\u001b[0m                        output_size\u001b[38;5;241m=\u001b[39moutput_size)\n\u001b[1;32m---> 34\u001b[0m     _, _mape \u001b[38;5;241m=\u001b[39m \u001b[43mnetwork\u001b[49m\u001b[38;5;241;43m.\u001b[39;49m\u001b[43mtrain\u001b[49m\u001b[43m(\u001b[49m\u001b[43mx\u001b[49m\u001b[38;5;241;43m=\u001b[39;49m\u001b[43mX\u001b[49m\u001b[43m,\u001b[49m\u001b[43m \u001b[49m\u001b[43my\u001b[49m\u001b[38;5;241;43m=\u001b[39;49m\u001b[43my\u001b[49m\u001b[43m,\u001b[49m\u001b[43m \u001b[49m\u001b[43mlr\u001b[49m\u001b[38;5;241;43m=\u001b[39;49m\u001b[43mlr\u001b[49m\u001b[43m,\u001b[49m\u001b[43m \u001b[49m\u001b[43mmax_epochs\u001b[49m\u001b[38;5;241;43m=\u001b[39;49m\u001b[43mmax_epochs\u001b[49m\u001b[43m,\u001b[49m\u001b[43m \u001b[49m\u001b[43mverbosity\u001b[49m\u001b[38;5;241;43m=\u001b[39;49m\u001b[43mverbosity\u001b[49m\u001b[43m)\u001b[49m\n\u001b[0;32m     35\u001b[0m     all_epochs\u001b[38;5;241m.\u001b[39mappend(max_epochs)\n\u001b[0;32m     36\u001b[0m     mapes_sum \u001b[38;5;241m+\u001b[39m\u001b[38;5;241m=\u001b[39m network\u001b[38;5;241m.\u001b[39mepochs        \n",
      "File \u001b[1;32md:\\Programms\\Programming\\BSUIR\\MSPIS\\LW3_2\\gru.py:315\u001b[0m, in \u001b[0;36mGRUModel.train\u001b[1;34m(self, x, y, lr, max_epochs, learn_by_loss, max_loss, verbosity)\u001b[0m\n\u001b[0;32m    313\u001b[0m \u001b[38;5;66;03m# Обратный проход\u001b[39;00m\n\u001b[0;32m    314\u001b[0m dy_pred \u001b[38;5;241m=\u001b[39m mse_grad(y_pred, y)\n\u001b[1;32m--> 315\u001b[0m grads \u001b[38;5;241m=\u001b[39m \u001b[38;5;28;43mself\u001b[39;49m\u001b[38;5;241;43m.\u001b[39;49m\u001b[43mbackward\u001b[49m\u001b[43m(\u001b[49m\u001b[43mdy_pred\u001b[49m\u001b[43m,\u001b[49m\u001b[43m \u001b[49m\u001b[43mh\u001b[49m\u001b[43m,\u001b[49m\u001b[43m \u001b[49m\u001b[43mcaches\u001b[49m\u001b[43m,\u001b[49m\u001b[43m \u001b[49m\u001b[43mx\u001b[49m\u001b[43m)\u001b[49m\n\u001b[0;32m    317\u001b[0m \u001b[38;5;66;03m# Обновление параметров\u001b[39;00m\n\u001b[0;32m    318\u001b[0m \u001b[38;5;28mself\u001b[39m\u001b[38;5;241m.\u001b[39mupdate_parameters(grads, lr)\n",
      "File \u001b[1;32md:\\Programms\\Programming\\BSUIR\\MSPIS\\LW3_2\\gru.py:257\u001b[0m, in \u001b[0;36mGRUModel.backward\u001b[1;34m(self, dy_pred, h, caches, X)\u001b[0m\n\u001b[0;32m    254\u001b[0m gW_z, gU_z, gb_z, gW_r, gU_r, gb_r, gW_h, gU_h, gb_h \u001b[38;5;241m=\u001b[39m grads_cell\n\u001b[0;32m    256\u001b[0m \u001b[38;5;66;03m# Суммируем градиенты\u001b[39;00m\n\u001b[1;32m--> 257\u001b[0m \u001b[43mdW_z\u001b[49m\u001b[43m \u001b[49m\u001b[38;5;241;43m+\u001b[39;49m\u001b[38;5;241;43m=\u001b[39;49m\u001b[43m \u001b[49m\u001b[43mgW_z\u001b[49m\n\u001b[0;32m    258\u001b[0m dU_z \u001b[38;5;241m+\u001b[39m\u001b[38;5;241m=\u001b[39m gU_z\n\u001b[0;32m    259\u001b[0m db_z \u001b[38;5;241m+\u001b[39m\u001b[38;5;241m=\u001b[39m gb_z\n",
      "\u001b[1;31mValueError\u001b[0m: non-broadcastable output operand with shape (5,4) doesn't match the broadcast shape (22,5,4)"
     ]
    }
   ],
   "source": [
    "# Relation between images amount and training epochs\n",
    "experiments_amount = 5\n",
    "epochs = list(range(1000, 36000, 1000))\n",
    "\n",
    "# np.random.seed(12345)\n",
    "\n",
    "all_mapes = []\n",
    "mapes_mean = []\n",
    "\n",
    "all_epochs: list[int] = []\n",
    "\n",
    "seq_length = 50\n",
    "window_size = 5\n",
    "batch_size = 2\n",
    "hidden_size = 4\n",
    "output_size = 3\n",
    "\n",
    "verbosity = 100000\n",
    "max_mape = 1e-3\n",
    "learn_until_meet_mape = True\n",
    "lr = 1e-4\n",
    "\n",
    "sequence = list(arithmetic_progression(seq_length, a0=1, d=1))\n",
    "X, y = create_sliding_window_batches(sequence, window_size, batch_size, output_size)\n",
    "\n",
    "for max_epochs in epochs:    \n",
    "\n",
    "    # Training network for five times\n",
    "    mapes_sum = 0    \n",
    "    for _ in range(experiments_amount):              \n",
    "        \n",
    "        network = GRUModel(input_size=window_size, hidden_size=hidden_size,\n",
    "                           output_size=output_size)\n",
    "        _, _mape = network.train(x=X, y=y, lr=lr, max_epochs=max_epochs, verbosity=verbosity)\n",
    "        all_epochs.append(max_epochs)\n",
    "        mapes_sum += network.epochs        \n",
    "        all_mapes.append(_mape)    \n",
    "\n",
    "    # Average mape for epochs amount\n",
    "    mapes_mean.append(mapes_sum / experiments_amount)"
   ]
  },
  {
   "cell_type": "code",
   "execution_count": null,
   "metadata": {},
   "outputs": [],
   "source": [
    "# Plotting results for training epochs amount\n",
    "fig = go.Figure()\n",
    "fig.add_trace(\n",
    "    go.Scatter(x=all_epochs, y=all_mapes,\n",
    "               name='Все наблюдения', mode='markers')\n",
    ")\n",
    "fig.add_trace(\n",
    "    go.Scatter(x=epochs, y=mapes_mean,\n",
    "               name='Средние значения', mode='lines+markers')\n",
    ")\n",
    "fig.update_layout(\n",
    "    title='Зависимость средней абсолютной ошибки от количества итераций обучения',\n",
    "    font=dict(size=20),\n",
    "    xaxis=dict(title='Количество итераций обучения'),\n",
    "    yaxis=dict(title='Средняя абсолютная ошибка'),\n",
    "    width=1280,\n",
    "    height=720\n",
    ")\n",
    "fig.show()"
   ]
  }
 ],
 "metadata": {
  "kernelspec": {
   "display_name": ".venv",
   "language": "python",
   "name": "python3"
  },
  "language_info": {
   "codemirror_mode": {
    "name": "ipython",
    "version": 3
   },
   "file_extension": ".py",
   "mimetype": "text/x-python",
   "name": "python",
   "nbconvert_exporter": "python",
   "pygments_lexer": "ipython3",
   "version": "3.11.9"
  }
 },
 "nbformat": 4,
 "nbformat_minor": 2
}
