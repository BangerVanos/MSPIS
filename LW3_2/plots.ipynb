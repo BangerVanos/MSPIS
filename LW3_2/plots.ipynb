{
 "cells": [
  {
   "cell_type": "code",
   "execution_count": 37,
   "metadata": {},
   "outputs": [],
   "source": [
    "# Лабораторная работа 3 по дисциплине МРЗвИС\n",
    "# Выполнена студентом группы 121702\n",
    "# БГУИР Заломов Роман Андреевич\n",
    "#\n",
    "# Вариант 15: Реализовать модель рекуррентной сети с цепью нейросетевых моделей управляемых рекуррентных блоков \n",
    "# с логарифмической функцией активации (гиперболический арксинус) выходного сигнала на скрытом слое\n",
    "#\n",
    "# 24.12.24\n",
    "# Данный файл содержит код построения графиков различных зависимостей"
   ]
  },
  {
   "cell_type": "code",
   "execution_count": 38,
   "metadata": {},
   "outputs": [],
   "source": [
    "import numpy as np\n",
    "from gru import (\n",
    "    GRUModel,\n",
    "    fibonacci_generator,\n",
    "    one_by_n_generator,\n",
    "    plus_one_minus_one_generator,\n",
    "    squared_generator,\n",
    "    half_generator,\n",
    "    arithmetic_progression,\n",
    "    create_sliding_window_batches,\n",
    "    one_half_generator,\n",
    "    sin_generator,    \n",
    "    mape\n",
    ")\n",
    "from gru_with_adam import GRUAdam\n",
    "import plotly.graph_objects as go\n",
    "from math import pi"
   ]
  },
  {
   "cell_type": "code",
   "execution_count": 39,
   "metadata": {},
   "outputs": [],
   "source": [
    "def scale_sequence(sequence):\n",
    "    mean = np.mean(sequence)\n",
    "    deviation = np.std(sequence)    \n",
    "    scaled = (np.array(sequence) - mean) / deviation    \n",
    "    return scaled, mean, deviation\n",
    "\n",
    "def descale_sequence(scaled, mean, deviation):\n",
    "    descaled = scaled * deviation + mean\n",
    "    return descaled\n",
    "\n",
    "def predict_next_n_elements(sequence, window_size, batch_size, hidden_size, n,\n",
    "                            max_epochs, verbosity, lr, use_adam: bool = False):\n",
    "    scaled, mean, deviation = scale_sequence(sequence)        \n",
    "    # scaled = sequence  \n",
    "    X, y = create_sliding_window_batches(scaled, window_size, batch_size, n)\n",
    "    if not use_adam:\n",
    "        model = GRUModel(window_size, hidden_size, n)\n",
    "    else:\n",
    "        model = GRUAdam(window_size, hidden_size, n)\n",
    "    model.train(X, y, lr, max_epochs, verbosity=verbosity)\n",
    "    train_pred, _, _ = model.forward(X)\n",
    "    training_mape = mape(y, train_pred)           \n",
    "    x_last = np.vstack(tuple(scaled[-window_size:] for _ in range(batch_size)))\n",
    "    x_last = np.expand_dims(x_last, axis=0)    \n",
    "    pred, _, _ = model.forward(x_last)\n",
    "    descaled_pred = descale_sequence(pred[-1][-1], mean, deviation)\n",
    "    # descaled_pred = pred[-1][-1]\n",
    "    return training_mape, model, descaled_pred, mean, deviation"
   ]
  },
  {
   "cell_type": "code",
   "execution_count": 40,
   "metadata": {},
   "outputs": [
    {
     "name": "stdout",
     "output_type": "stream",
     "text": [
      "TRAINING FINISHED\n",
      "Epoch 100/100, Loss: 0.286522\n",
      "MAPE: 114.374474%\n",
      "TRAINING FINISHED\n",
      "Epoch 100/100, Loss: 0.191074\n",
      "MAPE: 97.845095%\n",
      "TRAINING FINISHED\n",
      "Epoch 100/100, Loss: 0.201103\n",
      "MAPE: 81.613798%\n",
      "TRAINING FINISHED\n",
      "Epoch 100/100, Loss: 0.239291\n",
      "MAPE: 97.315626%\n",
      "TRAINING FINISHED\n",
      "Epoch 100/100, Loss: 0.200409\n",
      "MAPE: 103.953198%\n",
      "TRAINING FINISHED\n",
      "Epoch 200/200, Loss: 0.177511\n",
      "MAPE: 90.659416%\n",
      "TRAINING FINISHED\n",
      "Epoch 200/200, Loss: 0.067001\n",
      "MAPE: 57.770198%\n",
      "TRAINING FINISHED\n",
      "Epoch 200/200, Loss: 0.139088\n",
      "MAPE: 70.856538%\n",
      "TRAINING FINISHED\n",
      "Epoch 200/200, Loss: 0.154058\n",
      "MAPE: 100.214669%\n",
      "TRAINING FINISHED\n",
      "Epoch 200/200, Loss: 0.143562\n",
      "MAPE: 81.273861%\n",
      "TRAINING FINISHED\n",
      "Epoch 300/300, Loss: 0.051633\n",
      "MAPE: 46.816176%\n",
      "TRAINING FINISHED\n",
      "Epoch 300/300, Loss: 0.059098\n",
      "MAPE: 64.503772%\n",
      "TRAINING FINISHED\n",
      "Epoch 300/300, Loss: 0.115552\n",
      "MAPE: 78.533218%\n",
      "TRAINING FINISHED\n",
      "Epoch 300/300, Loss: 0.047254\n",
      "MAPE: 40.282347%\n",
      "TRAINING FINISHED\n",
      "Epoch 300/300, Loss: 0.079795\n",
      "MAPE: 67.333501%\n",
      "TRAINING FINISHED\n",
      "Epoch 400/400, Loss: 0.044187\n",
      "MAPE: 48.723731%\n",
      "TRAINING FINISHED\n",
      "Epoch 400/400, Loss: 0.060653\n",
      "MAPE: 50.267944%\n",
      "TRAINING FINISHED\n",
      "Epoch 400/400, Loss: 0.041149\n",
      "MAPE: 50.871748%\n",
      "TRAINING FINISHED\n",
      "Epoch 400/400, Loss: 0.027926\n",
      "MAPE: 39.532532%\n",
      "TRAINING FINISHED\n",
      "Epoch 400/400, Loss: 0.037514\n",
      "MAPE: 47.971370%\n",
      "TRAINING FINISHED\n",
      "Epoch 500/500, Loss: 0.023024\n",
      "MAPE: 38.509300%\n",
      "TRAINING FINISHED\n",
      "Epoch 500/500, Loss: 0.009250\n",
      "MAPE: 22.608039%\n",
      "TRAINING FINISHED\n",
      "Epoch 500/500, Loss: 0.016472\n",
      "MAPE: 32.530494%\n",
      "TRAINING FINISHED\n",
      "Epoch 500/500, Loss: 0.004725\n",
      "MAPE: 14.467562%\n",
      "TRAINING FINISHED\n",
      "Epoch 500/500, Loss: 0.013944\n",
      "MAPE: 32.771230%\n",
      "TRAINING FINISHED\n",
      "Epoch 600/600, Loss: 0.017768\n",
      "MAPE: 34.510893%\n",
      "TRAINING FINISHED\n",
      "Epoch 600/600, Loss: 0.041628\n",
      "MAPE: 46.817030%\n",
      "TRAINING FINISHED\n",
      "Epoch 600/600, Loss: 0.008043\n",
      "MAPE: 26.381599%\n",
      "TRAINING FINISHED\n",
      "Epoch 600/600, Loss: 0.016777\n",
      "MAPE: 28.862582%\n",
      "TRAINING FINISHED\n",
      "Epoch 600/600, Loss: 0.025183\n",
      "MAPE: 38.080136%\n",
      "TRAINING FINISHED\n",
      "Epoch 700/700, Loss: 0.015392\n",
      "MAPE: 31.265981%\n",
      "TRAINING FINISHED\n",
      "Epoch 700/700, Loss: 0.010827\n",
      "MAPE: 31.255450%\n",
      "TRAINING FINISHED\n",
      "Epoch 700/700, Loss: 0.027757\n",
      "MAPE: 42.803747%\n",
      "TRAINING FINISHED\n",
      "Epoch 700/700, Loss: 0.007927\n",
      "MAPE: 25.367767%\n",
      "TRAINING FINISHED\n",
      "Epoch 700/700, Loss: 0.016584\n",
      "MAPE: 28.562112%\n",
      "TRAINING FINISHED\n",
      "Epoch 800/800, Loss: 0.006351\n",
      "MAPE: 23.328620%\n",
      "TRAINING FINISHED\n",
      "Epoch 800/800, Loss: 0.006860\n",
      "MAPE: 23.116083%\n",
      "TRAINING FINISHED\n",
      "Epoch 800/800, Loss: 0.009238\n",
      "MAPE: 22.846416%\n",
      "TRAINING FINISHED\n",
      "Epoch 800/800, Loss: 0.016188\n",
      "MAPE: 39.296458%\n",
      "TRAINING FINISHED\n",
      "Epoch 800/800, Loss: 0.013400\n",
      "MAPE: 36.830597%\n",
      "TRAINING FINISHED\n",
      "Epoch 900/900, Loss: 0.003841\n",
      "MAPE: 19.124015%\n",
      "TRAINING FINISHED\n",
      "Epoch 900/900, Loss: 0.008096\n",
      "MAPE: 29.772520%\n",
      "TRAINING FINISHED\n",
      "Epoch 900/900, Loss: 0.008388\n",
      "MAPE: 29.346279%\n",
      "TRAINING FINISHED\n",
      "Epoch 900/900, Loss: 0.007937\n",
      "MAPE: 26.500740%\n",
      "TRAINING FINISHED\n",
      "Epoch 900/900, Loss: 0.003326\n",
      "MAPE: 17.470597%\n",
      "TRAINING FINISHED\n",
      "Epoch 1000/1000, Loss: 0.000958\n",
      "MAPE: 7.305274%\n",
      "TRAINING FINISHED\n",
      "Epoch 1000/1000, Loss: 0.005955\n",
      "MAPE: 27.110606%\n",
      "TRAINING FINISHED\n",
      "Epoch 1000/1000, Loss: 0.012344\n",
      "MAPE: 32.803527%\n",
      "TRAINING FINISHED\n",
      "Epoch 1000/1000, Loss: 0.005566\n",
      "MAPE: 23.935773%\n",
      "TRAINING FINISHED\n",
      "Epoch 1000/1000, Loss: 0.007608\n",
      "MAPE: 27.851457%\n",
      "TRAINING FINISHED\n",
      "Epoch 1100/1100, Loss: 0.008469\n",
      "MAPE: 29.044383%\n",
      "TRAINING FINISHED\n",
      "Epoch 1100/1100, Loss: 0.014988\n",
      "MAPE: 38.462884%\n",
      "TRAINING FINISHED\n",
      "Epoch 1100/1100, Loss: 0.005988\n",
      "MAPE: 26.159073%\n",
      "TRAINING FINISHED\n",
      "Epoch 1100/1100, Loss: 0.006878\n",
      "MAPE: 26.466209%\n",
      "TRAINING FINISHED\n",
      "Epoch 1100/1100, Loss: 0.012561\n",
      "MAPE: 37.312490%\n",
      "TRAINING FINISHED\n",
      "Epoch 1200/1200, Loss: 0.003462\n",
      "MAPE: 18.228989%\n",
      "TRAINING FINISHED\n",
      "Epoch 1200/1200, Loss: 0.005229\n",
      "MAPE: 24.027556%\n",
      "TRAINING FINISHED\n",
      "Epoch 1200/1200, Loss: 0.009426\n",
      "MAPE: 30.376736%\n",
      "TRAINING FINISHED\n",
      "Epoch 1200/1200, Loss: 0.005412\n",
      "MAPE: 23.907669%\n",
      "TRAINING FINISHED\n",
      "Epoch 1200/1200, Loss: 0.004193\n",
      "MAPE: 21.394876%\n",
      "TRAINING FINISHED\n",
      "Epoch 1300/1300, Loss: 0.008516\n",
      "MAPE: 31.001863%\n",
      "TRAINING FINISHED\n",
      "Epoch 1300/1300, Loss: 0.002750\n",
      "MAPE: 17.974347%\n",
      "TRAINING FINISHED\n",
      "Epoch 1300/1300, Loss: 0.006086\n",
      "MAPE: 25.857125%\n",
      "TRAINING FINISHED\n",
      "Epoch 1300/1300, Loss: 0.004712\n",
      "MAPE: 21.326602%\n",
      "TRAINING FINISHED\n",
      "Epoch 1300/1300, Loss: 0.008038\n",
      "MAPE: 31.830303%\n",
      "TRAINING FINISHED\n",
      "Epoch 1400/1400, Loss: 0.002120\n",
      "MAPE: 15.318647%\n",
      "TRAINING FINISHED\n",
      "Epoch 1400/1400, Loss: 0.002222\n",
      "MAPE: 14.400091%\n",
      "TRAINING FINISHED\n",
      "Epoch 1400/1400, Loss: 0.004995\n",
      "MAPE: 22.877739%\n",
      "TRAINING FINISHED\n",
      "Epoch 1400/1400, Loss: 0.008140\n",
      "MAPE: 30.435247%\n",
      "TRAINING FINISHED\n",
      "Epoch 1400/1400, Loss: 0.011777\n",
      "MAPE: 34.385044%\n",
      "TRAINING FINISHED\n",
      "Epoch 1500/1500, Loss: 0.004130\n",
      "MAPE: 18.539466%\n",
      "TRAINING FINISHED\n",
      "Epoch 1500/1500, Loss: 0.002894\n",
      "MAPE: 17.747395%\n",
      "TRAINING FINISHED\n",
      "Epoch 1500/1500, Loss: 0.001739\n",
      "MAPE: 11.993675%\n",
      "TRAINING FINISHED\n",
      "Epoch 1500/1500, Loss: 0.004363\n",
      "MAPE: 22.428424%\n",
      "TRAINING FINISHED\n",
      "Epoch 1500/1500, Loss: 0.004842\n",
      "MAPE: 20.450079%\n",
      "TRAINING FINISHED\n",
      "Epoch 1600/1600, Loss: 0.004187\n",
      "MAPE: 22.879934%\n",
      "TRAINING FINISHED\n",
      "Epoch 1600/1600, Loss: 0.002707\n",
      "MAPE: 16.887152%\n",
      "TRAINING FINISHED\n",
      "Epoch 1600/1600, Loss: 0.005355\n",
      "MAPE: 22.845050%\n",
      "TRAINING FINISHED\n",
      "Epoch 1600/1600, Loss: 0.004458\n",
      "MAPE: 20.344417%\n",
      "TRAINING FINISHED\n",
      "Epoch 1600/1600, Loss: 0.004175\n",
      "MAPE: 21.540343%\n",
      "TRAINING FINISHED\n",
      "Epoch 1700/1700, Loss: 0.003883\n",
      "MAPE: 19.732339%\n",
      "TRAINING FINISHED\n",
      "Epoch 1700/1700, Loss: 0.002950\n",
      "MAPE: 17.216590%\n",
      "TRAINING FINISHED\n",
      "Epoch 1700/1700, Loss: 0.004970\n",
      "MAPE: 24.137349%\n",
      "TRAINING FINISHED\n",
      "Epoch 1700/1700, Loss: 0.003286\n",
      "MAPE: 18.968538%\n",
      "TRAINING FINISHED\n",
      "Epoch 1700/1700, Loss: 0.002556\n",
      "MAPE: 17.613118%\n",
      "TRAINING FINISHED\n",
      "Epoch 1800/1800, Loss: 0.003942\n",
      "MAPE: 22.934790%\n",
      "TRAINING FINISHED\n",
      "Epoch 1800/1800, Loss: 0.002639\n",
      "MAPE: 18.343845%\n",
      "TRAINING FINISHED\n",
      "Epoch 1800/1800, Loss: 0.009928\n",
      "MAPE: 31.928800%\n",
      "TRAINING FINISHED\n",
      "Epoch 1800/1800, Loss: 0.003285\n",
      "MAPE: 19.258875%\n",
      "TRAINING FINISHED\n",
      "Epoch 1800/1800, Loss: 0.003244\n",
      "MAPE: 18.766365%\n",
      "TRAINING FINISHED\n",
      "Epoch 1900/1900, Loss: 0.005022\n",
      "MAPE: 24.282394%\n",
      "TRAINING FINISHED\n",
      "Epoch 1900/1900, Loss: 0.003573\n",
      "MAPE: 21.389640%\n",
      "TRAINING FINISHED\n",
      "Epoch 1900/1900, Loss: 0.004682\n",
      "MAPE: 22.530676%\n",
      "TRAINING FINISHED\n",
      "Epoch 1900/1900, Loss: 0.002216\n",
      "MAPE: 15.643267%\n",
      "TRAINING FINISHED\n",
      "Epoch 1900/1900, Loss: 0.004982\n",
      "MAPE: 23.315167%\n",
      "TRAINING FINISHED\n",
      "Epoch 2000/2000, Loss: 0.003941\n",
      "MAPE: 21.565780%\n",
      "TRAINING FINISHED\n",
      "Epoch 2000/2000, Loss: 0.003941\n",
      "MAPE: 22.018117%\n",
      "TRAINING FINISHED\n",
      "Epoch 2000/2000, Loss: 0.006359\n",
      "MAPE: 27.308185%\n",
      "TRAINING FINISHED\n",
      "Epoch 2000/2000, Loss: 0.003307\n",
      "MAPE: 18.601366%\n",
      "TRAINING FINISHED\n",
      "Epoch 2000/2000, Loss: 0.003077\n",
      "MAPE: 18.901473%\n"
     ]
    }
   ],
   "source": [
    "experiments_amount = 5\n",
    "# epochs = np.linspace(1000, 35000, endpoint=True, num=10).astype(np.int32).tolist()\n",
    "epochs = list(range(100, 2100, 100))\n",
    "\n",
    "# np.random.seed(12345)\n",
    "\n",
    "all_mapes = []\n",
    "mapes_mean = []\n",
    "\n",
    "all_epochs: list[int] = []\n",
    "\n",
    "seq_length = 20\n",
    "window_size = 5\n",
    "batch_size = 1\n",
    "hidden_size = 6\n",
    "output_size = 3\n",
    "\n",
    "verbosity = 100000\n",
    "lr = 1e-2\n",
    "use_adam = False\n",
    "\n",
    "sequence = list(arithmetic_progression(seq_length + output_size, 1, 1))\n",
    "\n",
    "for max_epochs in epochs:    \n",
    "\n",
    "    # Training network for five times\n",
    "    mapes_sum = 0    \n",
    "    for _ in range(experiments_amount):        \n",
    "        train_sequence = sequence[:seq_length]\n",
    "        test_sequence = sequence[-output_size:]\n",
    "        training_mape, model, next_n_pred, mean, deviation = predict_next_n_elements(\n",
    "            train_sequence, window_size, batch_size,\n",
    "            hidden_size, output_size, max_epochs,\n",
    "            verbosity, lr, use_adam=use_adam\n",
    "        )\n",
    "        all_epochs.append(max_epochs)\n",
    "\n",
    "        # Test sequence mape\n",
    "        test_sequence = sequence[-output_size:]\n",
    "        test_mape = mape(test_sequence, next_n_pred)\n",
    "        mapes_sum += test_mape    \n",
    "        all_mapes.append(test_mape)\n",
    "            \n",
    "\n",
    "    # Average mape for epochs amount\n",
    "    mapes_mean.append(mapes_sum / experiments_amount)"
   ]
  },
  {
   "cell_type": "code",
   "execution_count": 41,
   "metadata": {},
   "outputs": [
    {
     "data": {
      "application/vnd.plotly.v1+json": {
       "config": {
        "plotlyServerURL": "https://plot.ly"
       },
       "data": [
        {
         "mode": "markers",
         "name": "Все наблюдения",
         "type": "scatter",
         "x": [
          100,
          100,
          100,
          100,
          100,
          200,
          200,
          200,
          200,
          200,
          300,
          300,
          300,
          300,
          300,
          400,
          400,
          400,
          400,
          400,
          500,
          500,
          500,
          500,
          500,
          600,
          600,
          600,
          600,
          600,
          700,
          700,
          700,
          700,
          700,
          800,
          800,
          800,
          800,
          800,
          900,
          900,
          900,
          900,
          900,
          1000,
          1000,
          1000,
          1000,
          1000,
          1100,
          1100,
          1100,
          1100,
          1100,
          1200,
          1200,
          1200,
          1200,
          1200,
          1300,
          1300,
          1300,
          1300,
          1300,
          1400,
          1400,
          1400,
          1400,
          1400,
          1500,
          1500,
          1500,
          1500,
          1500,
          1600,
          1600,
          1600,
          1600,
          1600,
          1700,
          1700,
          1700,
          1700,
          1700,
          1800,
          1800,
          1800,
          1800,
          1800,
          1900,
          1900,
          1900,
          1900,
          1900,
          2000,
          2000,
          2000,
          2000,
          2000
         ],
         "y": [
          0.5052158392084136,
          0.44035448048225084,
          0.4508974866523052,
          0.46474984786651746,
          0.4280211977270407,
          0.4076408150459941,
          0.3305228238747925,
          0.3866845995196661,
          0.4158265647248798,
          0.40625600277290735,
          0.35383182019004705,
          0.27768015728766865,
          0.35963247830785966,
          0.3379415949181592,
          0.3502110069813344,
          0.24795727211324595,
          0.31937415008164194,
          0.302208120000786,
          0.3242977286327304,
          0.2713965182289975,
          0.24112460680705886,
          0.29343110496650815,
          0.2643172178652852,
          0.3136143002053235,
          0.27333565416037603,
          0.27451895800330234,
          0.2985679916688719,
          0.22152709679832872,
          0.3145132487775558,
          0.2622301003006375,
          0.2733248358158297,
          0.23494683363163482,
          0.2667829017741458,
          0.2634539157912819,
          0.25963509354630565,
          0.25250709457577386,
          0.23935120780224103,
          0.2998966650695449,
          0.2087990025937033,
          0.19856431262610474,
          0.2849549024929457,
          0.2661496556012334,
          0.22646225249775045,
          0.261417457862803,
          0.2598652635147507,
          0.2591229664206754,
          0.27007272833671353,
          0.2074394025905056,
          0.24121020518512526,
          0.25188730325533276,
          0.23615656859834763,
          0.21136447725399277,
          0.2307102354552045,
          0.22583678938572668,
          0.20285696751214935,
          0.3119441495067698,
          0.20973232593606564,
          0.23549930876450273,
          0.22455397881763903,
          0.3018596819600982,
          0.1911666238499116,
          0.27218851710628084,
          0.23725500063337165,
          0.23465782045730363,
          0.2390204751472272,
          0.300600932686518,
          0.2922024101186987,
          0.23805715820617449,
          0.29377897935369046,
          0.19728789476165273,
          0.19027224034090218,
          0.27160498582351794,
          0.23930533652316144,
          0.2305314962423174,
          0.21500635122388012,
          0.22067148600495726,
          0.23871385130473946,
          0.24343300700812143,
          0.2628709387219818,
          0.22340938662407886,
          0.25613904789817105,
          0.332688324776754,
          0.2602488355642118,
          0.3476643817321605,
          0.27730736623310887,
          0.29138936059282244,
          0.29618324574962135,
          0.25041293299012374,
          0.2662232608097661,
          0.2462650588193588,
          0.1844586818144093,
          0.25932306126664556,
          0.2612295205715926,
          0.3169117508514702,
          0.23444534117625257,
          0.2855353990494756,
          0.31017177878696317,
          0.23925629889015446,
          0.2808041079215799,
          0.24267434787537923
         ]
        },
        {
         "mode": "lines+markers",
         "name": "Средние значения",
         "type": "scatter",
         "x": [
          100,
          200,
          300,
          400,
          500,
          600,
          700,
          800,
          900,
          1000,
          1100,
          1200,
          1300,
          1400,
          1500,
          1600,
          1700,
          1800,
          1900,
          2000
         ],
         "y": [
          0.4578477703873055,
          0.389386161187648,
          0.3358594115370138,
          0.2930467578114803,
          0.27716457680091033,
          0.27427147910973926,
          0.2596287161118396,
          0.23982365653347354,
          0.25976990639389663,
          0.24594652115767052,
          0.2213850076410842,
          0.2567178889970151,
          0.234857687438819,
          0.26438547502534687,
          0.22934408203075582,
          0.2378197339327758,
          0.29480959124088124,
          0.2700947717923385,
          0.2512736711360741,
          0.2716883865047105
         ]
        }
       ],
       "layout": {
        "font": {
         "size": 20
        },
        "height": 720,
        "template": {
         "data": {
          "bar": [
           {
            "error_x": {
             "color": "#2a3f5f"
            },
            "error_y": {
             "color": "#2a3f5f"
            },
            "marker": {
             "line": {
              "color": "#E5ECF6",
              "width": 0.5
             },
             "pattern": {
              "fillmode": "overlay",
              "size": 10,
              "solidity": 0.2
             }
            },
            "type": "bar"
           }
          ],
          "barpolar": [
           {
            "marker": {
             "line": {
              "color": "#E5ECF6",
              "width": 0.5
             },
             "pattern": {
              "fillmode": "overlay",
              "size": 10,
              "solidity": 0.2
             }
            },
            "type": "barpolar"
           }
          ],
          "carpet": [
           {
            "aaxis": {
             "endlinecolor": "#2a3f5f",
             "gridcolor": "white",
             "linecolor": "white",
             "minorgridcolor": "white",
             "startlinecolor": "#2a3f5f"
            },
            "baxis": {
             "endlinecolor": "#2a3f5f",
             "gridcolor": "white",
             "linecolor": "white",
             "minorgridcolor": "white",
             "startlinecolor": "#2a3f5f"
            },
            "type": "carpet"
           }
          ],
          "choropleth": [
           {
            "colorbar": {
             "outlinewidth": 0,
             "ticks": ""
            },
            "type": "choropleth"
           }
          ],
          "contour": [
           {
            "colorbar": {
             "outlinewidth": 0,
             "ticks": ""
            },
            "colorscale": [
             [
              0,
              "#0d0887"
             ],
             [
              0.1111111111111111,
              "#46039f"
             ],
             [
              0.2222222222222222,
              "#7201a8"
             ],
             [
              0.3333333333333333,
              "#9c179e"
             ],
             [
              0.4444444444444444,
              "#bd3786"
             ],
             [
              0.5555555555555556,
              "#d8576b"
             ],
             [
              0.6666666666666666,
              "#ed7953"
             ],
             [
              0.7777777777777778,
              "#fb9f3a"
             ],
             [
              0.8888888888888888,
              "#fdca26"
             ],
             [
              1,
              "#f0f921"
             ]
            ],
            "type": "contour"
           }
          ],
          "contourcarpet": [
           {
            "colorbar": {
             "outlinewidth": 0,
             "ticks": ""
            },
            "type": "contourcarpet"
           }
          ],
          "heatmap": [
           {
            "colorbar": {
             "outlinewidth": 0,
             "ticks": ""
            },
            "colorscale": [
             [
              0,
              "#0d0887"
             ],
             [
              0.1111111111111111,
              "#46039f"
             ],
             [
              0.2222222222222222,
              "#7201a8"
             ],
             [
              0.3333333333333333,
              "#9c179e"
             ],
             [
              0.4444444444444444,
              "#bd3786"
             ],
             [
              0.5555555555555556,
              "#d8576b"
             ],
             [
              0.6666666666666666,
              "#ed7953"
             ],
             [
              0.7777777777777778,
              "#fb9f3a"
             ],
             [
              0.8888888888888888,
              "#fdca26"
             ],
             [
              1,
              "#f0f921"
             ]
            ],
            "type": "heatmap"
           }
          ],
          "heatmapgl": [
           {
            "colorbar": {
             "outlinewidth": 0,
             "ticks": ""
            },
            "colorscale": [
             [
              0,
              "#0d0887"
             ],
             [
              0.1111111111111111,
              "#46039f"
             ],
             [
              0.2222222222222222,
              "#7201a8"
             ],
             [
              0.3333333333333333,
              "#9c179e"
             ],
             [
              0.4444444444444444,
              "#bd3786"
             ],
             [
              0.5555555555555556,
              "#d8576b"
             ],
             [
              0.6666666666666666,
              "#ed7953"
             ],
             [
              0.7777777777777778,
              "#fb9f3a"
             ],
             [
              0.8888888888888888,
              "#fdca26"
             ],
             [
              1,
              "#f0f921"
             ]
            ],
            "type": "heatmapgl"
           }
          ],
          "histogram": [
           {
            "marker": {
             "pattern": {
              "fillmode": "overlay",
              "size": 10,
              "solidity": 0.2
             }
            },
            "type": "histogram"
           }
          ],
          "histogram2d": [
           {
            "colorbar": {
             "outlinewidth": 0,
             "ticks": ""
            },
            "colorscale": [
             [
              0,
              "#0d0887"
             ],
             [
              0.1111111111111111,
              "#46039f"
             ],
             [
              0.2222222222222222,
              "#7201a8"
             ],
             [
              0.3333333333333333,
              "#9c179e"
             ],
             [
              0.4444444444444444,
              "#bd3786"
             ],
             [
              0.5555555555555556,
              "#d8576b"
             ],
             [
              0.6666666666666666,
              "#ed7953"
             ],
             [
              0.7777777777777778,
              "#fb9f3a"
             ],
             [
              0.8888888888888888,
              "#fdca26"
             ],
             [
              1,
              "#f0f921"
             ]
            ],
            "type": "histogram2d"
           }
          ],
          "histogram2dcontour": [
           {
            "colorbar": {
             "outlinewidth": 0,
             "ticks": ""
            },
            "colorscale": [
             [
              0,
              "#0d0887"
             ],
             [
              0.1111111111111111,
              "#46039f"
             ],
             [
              0.2222222222222222,
              "#7201a8"
             ],
             [
              0.3333333333333333,
              "#9c179e"
             ],
             [
              0.4444444444444444,
              "#bd3786"
             ],
             [
              0.5555555555555556,
              "#d8576b"
             ],
             [
              0.6666666666666666,
              "#ed7953"
             ],
             [
              0.7777777777777778,
              "#fb9f3a"
             ],
             [
              0.8888888888888888,
              "#fdca26"
             ],
             [
              1,
              "#f0f921"
             ]
            ],
            "type": "histogram2dcontour"
           }
          ],
          "mesh3d": [
           {
            "colorbar": {
             "outlinewidth": 0,
             "ticks": ""
            },
            "type": "mesh3d"
           }
          ],
          "parcoords": [
           {
            "line": {
             "colorbar": {
              "outlinewidth": 0,
              "ticks": ""
             }
            },
            "type": "parcoords"
           }
          ],
          "pie": [
           {
            "automargin": true,
            "type": "pie"
           }
          ],
          "scatter": [
           {
            "fillpattern": {
             "fillmode": "overlay",
             "size": 10,
             "solidity": 0.2
            },
            "type": "scatter"
           }
          ],
          "scatter3d": [
           {
            "line": {
             "colorbar": {
              "outlinewidth": 0,
              "ticks": ""
             }
            },
            "marker": {
             "colorbar": {
              "outlinewidth": 0,
              "ticks": ""
             }
            },
            "type": "scatter3d"
           }
          ],
          "scattercarpet": [
           {
            "marker": {
             "colorbar": {
              "outlinewidth": 0,
              "ticks": ""
             }
            },
            "type": "scattercarpet"
           }
          ],
          "scattergeo": [
           {
            "marker": {
             "colorbar": {
              "outlinewidth": 0,
              "ticks": ""
             }
            },
            "type": "scattergeo"
           }
          ],
          "scattergl": [
           {
            "marker": {
             "colorbar": {
              "outlinewidth": 0,
              "ticks": ""
             }
            },
            "type": "scattergl"
           }
          ],
          "scattermapbox": [
           {
            "marker": {
             "colorbar": {
              "outlinewidth": 0,
              "ticks": ""
             }
            },
            "type": "scattermapbox"
           }
          ],
          "scatterpolar": [
           {
            "marker": {
             "colorbar": {
              "outlinewidth": 0,
              "ticks": ""
             }
            },
            "type": "scatterpolar"
           }
          ],
          "scatterpolargl": [
           {
            "marker": {
             "colorbar": {
              "outlinewidth": 0,
              "ticks": ""
             }
            },
            "type": "scatterpolargl"
           }
          ],
          "scatterternary": [
           {
            "marker": {
             "colorbar": {
              "outlinewidth": 0,
              "ticks": ""
             }
            },
            "type": "scatterternary"
           }
          ],
          "surface": [
           {
            "colorbar": {
             "outlinewidth": 0,
             "ticks": ""
            },
            "colorscale": [
             [
              0,
              "#0d0887"
             ],
             [
              0.1111111111111111,
              "#46039f"
             ],
             [
              0.2222222222222222,
              "#7201a8"
             ],
             [
              0.3333333333333333,
              "#9c179e"
             ],
             [
              0.4444444444444444,
              "#bd3786"
             ],
             [
              0.5555555555555556,
              "#d8576b"
             ],
             [
              0.6666666666666666,
              "#ed7953"
             ],
             [
              0.7777777777777778,
              "#fb9f3a"
             ],
             [
              0.8888888888888888,
              "#fdca26"
             ],
             [
              1,
              "#f0f921"
             ]
            ],
            "type": "surface"
           }
          ],
          "table": [
           {
            "cells": {
             "fill": {
              "color": "#EBF0F8"
             },
             "line": {
              "color": "white"
             }
            },
            "header": {
             "fill": {
              "color": "#C8D4E3"
             },
             "line": {
              "color": "white"
             }
            },
            "type": "table"
           }
          ]
         },
         "layout": {
          "annotationdefaults": {
           "arrowcolor": "#2a3f5f",
           "arrowhead": 0,
           "arrowwidth": 1
          },
          "autotypenumbers": "strict",
          "coloraxis": {
           "colorbar": {
            "outlinewidth": 0,
            "ticks": ""
           }
          },
          "colorscale": {
           "diverging": [
            [
             0,
             "#8e0152"
            ],
            [
             0.1,
             "#c51b7d"
            ],
            [
             0.2,
             "#de77ae"
            ],
            [
             0.3,
             "#f1b6da"
            ],
            [
             0.4,
             "#fde0ef"
            ],
            [
             0.5,
             "#f7f7f7"
            ],
            [
             0.6,
             "#e6f5d0"
            ],
            [
             0.7,
             "#b8e186"
            ],
            [
             0.8,
             "#7fbc41"
            ],
            [
             0.9,
             "#4d9221"
            ],
            [
             1,
             "#276419"
            ]
           ],
           "sequential": [
            [
             0,
             "#0d0887"
            ],
            [
             0.1111111111111111,
             "#46039f"
            ],
            [
             0.2222222222222222,
             "#7201a8"
            ],
            [
             0.3333333333333333,
             "#9c179e"
            ],
            [
             0.4444444444444444,
             "#bd3786"
            ],
            [
             0.5555555555555556,
             "#d8576b"
            ],
            [
             0.6666666666666666,
             "#ed7953"
            ],
            [
             0.7777777777777778,
             "#fb9f3a"
            ],
            [
             0.8888888888888888,
             "#fdca26"
            ],
            [
             1,
             "#f0f921"
            ]
           ],
           "sequentialminus": [
            [
             0,
             "#0d0887"
            ],
            [
             0.1111111111111111,
             "#46039f"
            ],
            [
             0.2222222222222222,
             "#7201a8"
            ],
            [
             0.3333333333333333,
             "#9c179e"
            ],
            [
             0.4444444444444444,
             "#bd3786"
            ],
            [
             0.5555555555555556,
             "#d8576b"
            ],
            [
             0.6666666666666666,
             "#ed7953"
            ],
            [
             0.7777777777777778,
             "#fb9f3a"
            ],
            [
             0.8888888888888888,
             "#fdca26"
            ],
            [
             1,
             "#f0f921"
            ]
           ]
          },
          "colorway": [
           "#636efa",
           "#EF553B",
           "#00cc96",
           "#ab63fa",
           "#FFA15A",
           "#19d3f3",
           "#FF6692",
           "#B6E880",
           "#FF97FF",
           "#FECB52"
          ],
          "font": {
           "color": "#2a3f5f"
          },
          "geo": {
           "bgcolor": "white",
           "lakecolor": "white",
           "landcolor": "#E5ECF6",
           "showlakes": true,
           "showland": true,
           "subunitcolor": "white"
          },
          "hoverlabel": {
           "align": "left"
          },
          "hovermode": "closest",
          "mapbox": {
           "style": "light"
          },
          "paper_bgcolor": "white",
          "plot_bgcolor": "#E5ECF6",
          "polar": {
           "angularaxis": {
            "gridcolor": "white",
            "linecolor": "white",
            "ticks": ""
           },
           "bgcolor": "#E5ECF6",
           "radialaxis": {
            "gridcolor": "white",
            "linecolor": "white",
            "ticks": ""
           }
          },
          "scene": {
           "xaxis": {
            "backgroundcolor": "#E5ECF6",
            "gridcolor": "white",
            "gridwidth": 2,
            "linecolor": "white",
            "showbackground": true,
            "ticks": "",
            "zerolinecolor": "white"
           },
           "yaxis": {
            "backgroundcolor": "#E5ECF6",
            "gridcolor": "white",
            "gridwidth": 2,
            "linecolor": "white",
            "showbackground": true,
            "ticks": "",
            "zerolinecolor": "white"
           },
           "zaxis": {
            "backgroundcolor": "#E5ECF6",
            "gridcolor": "white",
            "gridwidth": 2,
            "linecolor": "white",
            "showbackground": true,
            "ticks": "",
            "zerolinecolor": "white"
           }
          },
          "shapedefaults": {
           "line": {
            "color": "#2a3f5f"
           }
          },
          "ternary": {
           "aaxis": {
            "gridcolor": "white",
            "linecolor": "white",
            "ticks": ""
           },
           "baxis": {
            "gridcolor": "white",
            "linecolor": "white",
            "ticks": ""
           },
           "bgcolor": "#E5ECF6",
           "caxis": {
            "gridcolor": "white",
            "linecolor": "white",
            "ticks": ""
           }
          },
          "title": {
           "x": 0.05
          },
          "xaxis": {
           "automargin": true,
           "gridcolor": "white",
           "linecolor": "white",
           "ticks": "",
           "title": {
            "standoff": 15
           },
           "zerolinecolor": "white",
           "zerolinewidth": 2
          },
          "yaxis": {
           "automargin": true,
           "gridcolor": "white",
           "linecolor": "white",
           "ticks": "",
           "title": {
            "standoff": 15
           },
           "zerolinecolor": "white",
           "zerolinewidth": 2
          }
         }
        },
        "title": {
         "text": "Зависимость средней абсолютной ошибки от количества итераций обучения"
        },
        "width": 1280,
        "xaxis": {
         "title": {
          "text": "Количество итераций обучения"
         }
        },
        "yaxis": {
         "title": {
          "text": "Средняя абсолютная ошибка"
         }
        }
       }
      }
     },
     "metadata": {},
     "output_type": "display_data"
    }
   ],
   "source": [
    "# Plotting results for training epochs amount\n",
    "fig = go.Figure()\n",
    "fig.add_trace(\n",
    "    go.Scatter(x=all_epochs, y=all_mapes,\n",
    "               name='Все наблюдения', mode='markers')\n",
    ")\n",
    "fig.add_trace(\n",
    "    go.Scatter(x=epochs, y=mapes_mean,\n",
    "               name='Средние значения', mode='lines+markers')\n",
    ")\n",
    "fig.update_layout(\n",
    "    title='Зависимость средней абсолютной ошибки от количества итераций обучения',\n",
    "    font=dict(size=20),\n",
    "    xaxis=dict(title='Количество итераций обучения'),\n",
    "    yaxis=dict(title='Средняя абсолютная ошибка'),\n",
    "    width=1280,\n",
    "    height=720\n",
    ")\n",
    "fig.show()"
   ]
  },
  {
   "cell_type": "code",
   "execution_count": 42,
   "metadata": {},
   "outputs": [
    {
     "name": "stdout",
     "output_type": "stream",
     "text": [
      "TRAINING FINISHED\n",
      "Epoch 500/500, Loss: 0.313054\n",
      "MAPE: 116.085258%\n",
      "TRAINING FINISHED\n",
      "Epoch 500/500, Loss: 0.189225\n",
      "MAPE: 87.225613%\n",
      "TRAINING FINISHED\n",
      "Epoch 500/500, Loss: 0.271174\n",
      "MAPE: 101.322652%\n",
      "TRAINING FINISHED\n",
      "Epoch 500/500, Loss: 0.157079\n",
      "MAPE: 75.692446%\n",
      "TRAINING FINISHED\n",
      "Epoch 500/500, Loss: 0.224639\n",
      "MAPE: 96.920583%\n",
      "TRAINING FINISHED\n",
      "Epoch 500/500, Loss: 0.102870\n",
      "MAPE: 62.486577%\n",
      "TRAINING FINISHED\n",
      "Epoch 500/500, Loss: 0.245793\n",
      "MAPE: 97.412380%\n",
      "TRAINING FINISHED\n",
      "Epoch 500/500, Loss: 0.198485\n",
      "MAPE: 94.760749%\n",
      "TRAINING FINISHED\n",
      "Epoch 500/500, Loss: 0.168840\n",
      "MAPE: 73.565108%\n",
      "TRAINING FINISHED\n",
      "Epoch 500/500, Loss: 0.083684\n",
      "MAPE: 51.140527%\n",
      "TRAINING FINISHED\n",
      "Epoch 500/500, Loss: 0.192812\n",
      "MAPE: 82.786189%\n",
      "TRAINING FINISHED\n",
      "Epoch 500/500, Loss: 0.126134\n",
      "MAPE: 64.537909%\n",
      "TRAINING FINISHED\n",
      "Epoch 500/500, Loss: 0.133269\n",
      "MAPE: 63.870042%\n",
      "TRAINING FINISHED\n",
      "Epoch 500/500, Loss: 0.152888\n",
      "MAPE: 70.350054%\n",
      "TRAINING FINISHED\n",
      "Epoch 500/500, Loss: 0.099835\n",
      "MAPE: 64.740451%\n",
      "TRAINING FINISHED\n",
      "Epoch 500/500, Loss: 0.099780\n",
      "MAPE: 64.053639%\n",
      "TRAINING FINISHED\n",
      "Epoch 500/500, Loss: 0.095495\n",
      "MAPE: 60.911134%\n",
      "TRAINING FINISHED\n",
      "Epoch 500/500, Loss: 0.089807\n",
      "MAPE: 53.851630%\n",
      "TRAINING FINISHED\n",
      "Epoch 500/500, Loss: 0.105393\n",
      "MAPE: 59.135645%\n",
      "TRAINING FINISHED\n",
      "Epoch 500/500, Loss: 0.095082\n",
      "MAPE: 62.352168%\n",
      "TRAINING FINISHED\n",
      "Epoch 500/500, Loss: 0.106436\n",
      "MAPE: 67.169298%\n",
      "TRAINING FINISHED\n",
      "Epoch 500/500, Loss: 0.079832\n",
      "MAPE: 60.692156%\n",
      "TRAINING FINISHED\n",
      "Epoch 500/500, Loss: 0.117037\n",
      "MAPE: 63.109117%\n",
      "TRAINING FINISHED\n",
      "Epoch 500/500, Loss: 0.113090\n",
      "MAPE: 65.105207%\n",
      "TRAINING FINISHED\n",
      "Epoch 500/500, Loss: 0.157891\n",
      "MAPE: 70.836680%\n",
      "TRAINING FINISHED\n",
      "Epoch 500/500, Loss: 0.085194\n",
      "MAPE: 59.630422%\n",
      "TRAINING FINISHED\n",
      "Epoch 500/500, Loss: 0.157215\n",
      "MAPE: 70.414699%\n",
      "TRAINING FINISHED\n",
      "Epoch 500/500, Loss: 0.096484\n",
      "MAPE: 61.413950%\n",
      "TRAINING FINISHED\n",
      "Epoch 500/500, Loss: 0.074245\n",
      "MAPE: 58.291109%\n",
      "TRAINING FINISHED\n",
      "Epoch 500/500, Loss: 0.079857\n",
      "MAPE: 53.626317%\n",
      "TRAINING FINISHED\n",
      "Epoch 500/500, Loss: 0.087215\n",
      "MAPE: 61.750306%\n",
      "TRAINING FINISHED\n",
      "Epoch 500/500, Loss: 0.075678\n",
      "MAPE: 61.079887%\n",
      "TRAINING FINISHED\n",
      "Epoch 500/500, Loss: 0.103364\n",
      "MAPE: 62.324863%\n",
      "TRAINING FINISHED\n",
      "Epoch 500/500, Loss: 0.096572\n",
      "MAPE: 58.383359%\n",
      "TRAINING FINISHED\n",
      "Epoch 500/500, Loss: 0.123040\n",
      "MAPE: 67.720949%\n",
      "TRAINING FINISHED\n",
      "Epoch 500/500, Loss: 0.139682\n",
      "MAPE: 69.219709%\n",
      "TRAINING FINISHED\n",
      "Epoch 500/500, Loss: 0.098127\n",
      "MAPE: 59.860001%\n",
      "TRAINING FINISHED\n",
      "Epoch 500/500, Loss: 0.069045\n",
      "MAPE: 51.736409%\n",
      "TRAINING FINISHED\n",
      "Epoch 500/500, Loss: 0.104252\n",
      "MAPE: 65.467027%\n",
      "TRAINING FINISHED\n",
      "Epoch 500/500, Loss: 0.100899\n",
      "MAPE: 59.953923%\n",
      "TRAINING FINISHED\n",
      "Epoch 500/500, Loss: 0.112276\n",
      "MAPE: 59.528723%\n",
      "TRAINING FINISHED\n",
      "Epoch 500/500, Loss: 0.119558\n",
      "MAPE: 63.492541%\n",
      "TRAINING FINISHED\n",
      "Epoch 500/500, Loss: 0.164163\n",
      "MAPE: 72.893077%\n",
      "TRAINING FINISHED\n",
      "Epoch 500/500, Loss: 0.125262\n",
      "MAPE: 63.968292%\n",
      "TRAINING FINISHED\n",
      "Epoch 500/500, Loss: 0.087337\n",
      "MAPE: 55.871338%\n",
      "TRAINING FINISHED\n",
      "Epoch 500/500, Loss: 0.090520\n",
      "MAPE: 58.889066%\n",
      "TRAINING FINISHED\n",
      "Epoch 500/500, Loss: 0.083969\n",
      "MAPE: 56.486645%\n",
      "TRAINING FINISHED\n",
      "Epoch 500/500, Loss: 0.129468\n",
      "MAPE: 65.707535%\n",
      "TRAINING FINISHED\n",
      "Epoch 500/500, Loss: 0.075017\n",
      "MAPE: 56.429694%\n",
      "TRAINING FINISHED\n",
      "Epoch 500/500, Loss: 0.096711\n",
      "MAPE: 57.571009%\n"
     ]
    }
   ],
   "source": [
    "experiments_amount = 5\n",
    "# epochs = np.linspace(1000, 35000, endpoint=True, num=10).astype(np.int32).tolist()\n",
    "hidden_sizes = list(range(2, 22, 2))\n",
    "\n",
    "# np.random.seed(12345)\n",
    "\n",
    "all_mapes = []\n",
    "mapes_mean = []\n",
    "\n",
    "all_sizes: list[int] = []\n",
    "\n",
    "seq_length = 20\n",
    "window_size = 3\n",
    "batch_size = 1\n",
    "output_size = 3\n",
    "\n",
    "verbosity = 100000\n",
    "lr = 5e-3\n",
    "max_epochs = 500\n",
    "use_adam = False\n",
    "\n",
    "sequence = list(arithmetic_progression(seq_length + output_size, 1, 1))\n",
    "\n",
    "for size in hidden_sizes:    \n",
    "\n",
    "    # Training network for five times\n",
    "    mapes_sum = 0    \n",
    "    for _ in range(experiments_amount):\n",
    "        all_sizes.append(size)        \n",
    "        \n",
    "        train_sequence = sequence[:seq_length]\n",
    "        test_sequence = sequence[-output_size:]\n",
    "        training_mape, model, next_n_pred, mean, deviation = predict_next_n_elements(\n",
    "            train_sequence, window_size, batch_size,\n",
    "            size, output_size, max_epochs,\n",
    "            verbosity, lr, use_adam=use_adam\n",
    "        )\n",
    "        all_epochs.append(max_epochs)\n",
    "\n",
    "        # Test sequence mape\n",
    "        test_sequence = sequence[-output_size:]\n",
    "        test_mape = mape(test_sequence, next_n_pred)\n",
    "        mapes_sum += test_mape    \n",
    "        all_mapes.append(test_mape)    \n",
    "\n",
    "    # Average mape for epochs amount\n",
    "    mapes_mean.append(mapes_sum / experiments_amount)"
   ]
  },
  {
   "cell_type": "code",
   "execution_count": 43,
   "metadata": {},
   "outputs": [
    {
     "data": {
      "application/vnd.plotly.v1+json": {
       "config": {
        "plotlyServerURL": "https://plot.ly"
       },
       "data": [
        {
         "mode": "markers",
         "name": "Все наблюдения",
         "type": "scatter",
         "x": [
          2,
          2,
          2,
          2,
          2,
          4,
          4,
          4,
          4,
          4,
          6,
          6,
          6,
          6,
          6,
          8,
          8,
          8,
          8,
          8,
          10,
          10,
          10,
          10,
          10,
          12,
          12,
          12,
          12,
          12,
          14,
          14,
          14,
          14,
          14,
          16,
          16,
          16,
          16,
          16,
          18,
          18,
          18,
          18,
          18,
          20,
          20,
          20,
          20,
          20
         ],
         "y": [
          0.494915746597631,
          0.451567148225615,
          0.475448054311619,
          0.41598578150636634,
          0.4931468888022741,
          0.38393732508528206,
          0.4756132868136333,
          0.41194037376497566,
          0.4294783607193897,
          0.38597525464800614,
          0.40586975285332966,
          0.3801327640521998,
          0.3956383009703441,
          0.4088230389410117,
          0.376399226331613,
          0.37151665817584273,
          0.3610906801982529,
          0.35236134240267547,
          0.3726431794338434,
          0.3690812567598793,
          0.3866107499403235,
          0.333634554781091,
          0.34995054199080206,
          0.38798627269354835,
          0.40239604534631684,
          0.3549932601958021,
          0.40476854082968244,
          0.35192485360803444,
          0.3309801807356693,
          0.3466631583800895,
          0.35116332830542585,
          0.3373252727761899,
          0.349657707438392,
          0.3713521737824647,
          0.4036240035300143,
          0.3981355136198532,
          0.3612425318884485,
          0.34494638921892334,
          0.35464464363562437,
          0.36402168195700196,
          0.3725873551966101,
          0.3982298607102959,
          0.4102459468007249,
          0.38191026412355394,
          0.34932215810746886,
          0.3615938556369995,
          0.3660741249314268,
          0.38551199378940715,
          0.33742327855209225,
          0.3696075872142324
         ]
        },
        {
         "mode": "lines+markers",
         "name": "Средние значения",
         "type": "scatter",
         "x": [
          2,
          4,
          6,
          8,
          10,
          12,
          14,
          16,
          18,
          20
         ],
         "y": [
          0.46621272388870116,
          0.4173889202062574,
          0.39337261662969963,
          0.3653386233940988,
          0.3721156329504164,
          0.35786599874985553,
          0.36262449716649736,
          0.3645981520639702,
          0.3824591169877307,
          0.36404216802483164
         ]
        }
       ],
       "layout": {
        "font": {
         "size": 20
        },
        "height": 720,
        "template": {
         "data": {
          "bar": [
           {
            "error_x": {
             "color": "#2a3f5f"
            },
            "error_y": {
             "color": "#2a3f5f"
            },
            "marker": {
             "line": {
              "color": "#E5ECF6",
              "width": 0.5
             },
             "pattern": {
              "fillmode": "overlay",
              "size": 10,
              "solidity": 0.2
             }
            },
            "type": "bar"
           }
          ],
          "barpolar": [
           {
            "marker": {
             "line": {
              "color": "#E5ECF6",
              "width": 0.5
             },
             "pattern": {
              "fillmode": "overlay",
              "size": 10,
              "solidity": 0.2
             }
            },
            "type": "barpolar"
           }
          ],
          "carpet": [
           {
            "aaxis": {
             "endlinecolor": "#2a3f5f",
             "gridcolor": "white",
             "linecolor": "white",
             "minorgridcolor": "white",
             "startlinecolor": "#2a3f5f"
            },
            "baxis": {
             "endlinecolor": "#2a3f5f",
             "gridcolor": "white",
             "linecolor": "white",
             "minorgridcolor": "white",
             "startlinecolor": "#2a3f5f"
            },
            "type": "carpet"
           }
          ],
          "choropleth": [
           {
            "colorbar": {
             "outlinewidth": 0,
             "ticks": ""
            },
            "type": "choropleth"
           }
          ],
          "contour": [
           {
            "colorbar": {
             "outlinewidth": 0,
             "ticks": ""
            },
            "colorscale": [
             [
              0,
              "#0d0887"
             ],
             [
              0.1111111111111111,
              "#46039f"
             ],
             [
              0.2222222222222222,
              "#7201a8"
             ],
             [
              0.3333333333333333,
              "#9c179e"
             ],
             [
              0.4444444444444444,
              "#bd3786"
             ],
             [
              0.5555555555555556,
              "#d8576b"
             ],
             [
              0.6666666666666666,
              "#ed7953"
             ],
             [
              0.7777777777777778,
              "#fb9f3a"
             ],
             [
              0.8888888888888888,
              "#fdca26"
             ],
             [
              1,
              "#f0f921"
             ]
            ],
            "type": "contour"
           }
          ],
          "contourcarpet": [
           {
            "colorbar": {
             "outlinewidth": 0,
             "ticks": ""
            },
            "type": "contourcarpet"
           }
          ],
          "heatmap": [
           {
            "colorbar": {
             "outlinewidth": 0,
             "ticks": ""
            },
            "colorscale": [
             [
              0,
              "#0d0887"
             ],
             [
              0.1111111111111111,
              "#46039f"
             ],
             [
              0.2222222222222222,
              "#7201a8"
             ],
             [
              0.3333333333333333,
              "#9c179e"
             ],
             [
              0.4444444444444444,
              "#bd3786"
             ],
             [
              0.5555555555555556,
              "#d8576b"
             ],
             [
              0.6666666666666666,
              "#ed7953"
             ],
             [
              0.7777777777777778,
              "#fb9f3a"
             ],
             [
              0.8888888888888888,
              "#fdca26"
             ],
             [
              1,
              "#f0f921"
             ]
            ],
            "type": "heatmap"
           }
          ],
          "heatmapgl": [
           {
            "colorbar": {
             "outlinewidth": 0,
             "ticks": ""
            },
            "colorscale": [
             [
              0,
              "#0d0887"
             ],
             [
              0.1111111111111111,
              "#46039f"
             ],
             [
              0.2222222222222222,
              "#7201a8"
             ],
             [
              0.3333333333333333,
              "#9c179e"
             ],
             [
              0.4444444444444444,
              "#bd3786"
             ],
             [
              0.5555555555555556,
              "#d8576b"
             ],
             [
              0.6666666666666666,
              "#ed7953"
             ],
             [
              0.7777777777777778,
              "#fb9f3a"
             ],
             [
              0.8888888888888888,
              "#fdca26"
             ],
             [
              1,
              "#f0f921"
             ]
            ],
            "type": "heatmapgl"
           }
          ],
          "histogram": [
           {
            "marker": {
             "pattern": {
              "fillmode": "overlay",
              "size": 10,
              "solidity": 0.2
             }
            },
            "type": "histogram"
           }
          ],
          "histogram2d": [
           {
            "colorbar": {
             "outlinewidth": 0,
             "ticks": ""
            },
            "colorscale": [
             [
              0,
              "#0d0887"
             ],
             [
              0.1111111111111111,
              "#46039f"
             ],
             [
              0.2222222222222222,
              "#7201a8"
             ],
             [
              0.3333333333333333,
              "#9c179e"
             ],
             [
              0.4444444444444444,
              "#bd3786"
             ],
             [
              0.5555555555555556,
              "#d8576b"
             ],
             [
              0.6666666666666666,
              "#ed7953"
             ],
             [
              0.7777777777777778,
              "#fb9f3a"
             ],
             [
              0.8888888888888888,
              "#fdca26"
             ],
             [
              1,
              "#f0f921"
             ]
            ],
            "type": "histogram2d"
           }
          ],
          "histogram2dcontour": [
           {
            "colorbar": {
             "outlinewidth": 0,
             "ticks": ""
            },
            "colorscale": [
             [
              0,
              "#0d0887"
             ],
             [
              0.1111111111111111,
              "#46039f"
             ],
             [
              0.2222222222222222,
              "#7201a8"
             ],
             [
              0.3333333333333333,
              "#9c179e"
             ],
             [
              0.4444444444444444,
              "#bd3786"
             ],
             [
              0.5555555555555556,
              "#d8576b"
             ],
             [
              0.6666666666666666,
              "#ed7953"
             ],
             [
              0.7777777777777778,
              "#fb9f3a"
             ],
             [
              0.8888888888888888,
              "#fdca26"
             ],
             [
              1,
              "#f0f921"
             ]
            ],
            "type": "histogram2dcontour"
           }
          ],
          "mesh3d": [
           {
            "colorbar": {
             "outlinewidth": 0,
             "ticks": ""
            },
            "type": "mesh3d"
           }
          ],
          "parcoords": [
           {
            "line": {
             "colorbar": {
              "outlinewidth": 0,
              "ticks": ""
             }
            },
            "type": "parcoords"
           }
          ],
          "pie": [
           {
            "automargin": true,
            "type": "pie"
           }
          ],
          "scatter": [
           {
            "fillpattern": {
             "fillmode": "overlay",
             "size": 10,
             "solidity": 0.2
            },
            "type": "scatter"
           }
          ],
          "scatter3d": [
           {
            "line": {
             "colorbar": {
              "outlinewidth": 0,
              "ticks": ""
             }
            },
            "marker": {
             "colorbar": {
              "outlinewidth": 0,
              "ticks": ""
             }
            },
            "type": "scatter3d"
           }
          ],
          "scattercarpet": [
           {
            "marker": {
             "colorbar": {
              "outlinewidth": 0,
              "ticks": ""
             }
            },
            "type": "scattercarpet"
           }
          ],
          "scattergeo": [
           {
            "marker": {
             "colorbar": {
              "outlinewidth": 0,
              "ticks": ""
             }
            },
            "type": "scattergeo"
           }
          ],
          "scattergl": [
           {
            "marker": {
             "colorbar": {
              "outlinewidth": 0,
              "ticks": ""
             }
            },
            "type": "scattergl"
           }
          ],
          "scattermapbox": [
           {
            "marker": {
             "colorbar": {
              "outlinewidth": 0,
              "ticks": ""
             }
            },
            "type": "scattermapbox"
           }
          ],
          "scatterpolar": [
           {
            "marker": {
             "colorbar": {
              "outlinewidth": 0,
              "ticks": ""
             }
            },
            "type": "scatterpolar"
           }
          ],
          "scatterpolargl": [
           {
            "marker": {
             "colorbar": {
              "outlinewidth": 0,
              "ticks": ""
             }
            },
            "type": "scatterpolargl"
           }
          ],
          "scatterternary": [
           {
            "marker": {
             "colorbar": {
              "outlinewidth": 0,
              "ticks": ""
             }
            },
            "type": "scatterternary"
           }
          ],
          "surface": [
           {
            "colorbar": {
             "outlinewidth": 0,
             "ticks": ""
            },
            "colorscale": [
             [
              0,
              "#0d0887"
             ],
             [
              0.1111111111111111,
              "#46039f"
             ],
             [
              0.2222222222222222,
              "#7201a8"
             ],
             [
              0.3333333333333333,
              "#9c179e"
             ],
             [
              0.4444444444444444,
              "#bd3786"
             ],
             [
              0.5555555555555556,
              "#d8576b"
             ],
             [
              0.6666666666666666,
              "#ed7953"
             ],
             [
              0.7777777777777778,
              "#fb9f3a"
             ],
             [
              0.8888888888888888,
              "#fdca26"
             ],
             [
              1,
              "#f0f921"
             ]
            ],
            "type": "surface"
           }
          ],
          "table": [
           {
            "cells": {
             "fill": {
              "color": "#EBF0F8"
             },
             "line": {
              "color": "white"
             }
            },
            "header": {
             "fill": {
              "color": "#C8D4E3"
             },
             "line": {
              "color": "white"
             }
            },
            "type": "table"
           }
          ]
         },
         "layout": {
          "annotationdefaults": {
           "arrowcolor": "#2a3f5f",
           "arrowhead": 0,
           "arrowwidth": 1
          },
          "autotypenumbers": "strict",
          "coloraxis": {
           "colorbar": {
            "outlinewidth": 0,
            "ticks": ""
           }
          },
          "colorscale": {
           "diverging": [
            [
             0,
             "#8e0152"
            ],
            [
             0.1,
             "#c51b7d"
            ],
            [
             0.2,
             "#de77ae"
            ],
            [
             0.3,
             "#f1b6da"
            ],
            [
             0.4,
             "#fde0ef"
            ],
            [
             0.5,
             "#f7f7f7"
            ],
            [
             0.6,
             "#e6f5d0"
            ],
            [
             0.7,
             "#b8e186"
            ],
            [
             0.8,
             "#7fbc41"
            ],
            [
             0.9,
             "#4d9221"
            ],
            [
             1,
             "#276419"
            ]
           ],
           "sequential": [
            [
             0,
             "#0d0887"
            ],
            [
             0.1111111111111111,
             "#46039f"
            ],
            [
             0.2222222222222222,
             "#7201a8"
            ],
            [
             0.3333333333333333,
             "#9c179e"
            ],
            [
             0.4444444444444444,
             "#bd3786"
            ],
            [
             0.5555555555555556,
             "#d8576b"
            ],
            [
             0.6666666666666666,
             "#ed7953"
            ],
            [
             0.7777777777777778,
             "#fb9f3a"
            ],
            [
             0.8888888888888888,
             "#fdca26"
            ],
            [
             1,
             "#f0f921"
            ]
           ],
           "sequentialminus": [
            [
             0,
             "#0d0887"
            ],
            [
             0.1111111111111111,
             "#46039f"
            ],
            [
             0.2222222222222222,
             "#7201a8"
            ],
            [
             0.3333333333333333,
             "#9c179e"
            ],
            [
             0.4444444444444444,
             "#bd3786"
            ],
            [
             0.5555555555555556,
             "#d8576b"
            ],
            [
             0.6666666666666666,
             "#ed7953"
            ],
            [
             0.7777777777777778,
             "#fb9f3a"
            ],
            [
             0.8888888888888888,
             "#fdca26"
            ],
            [
             1,
             "#f0f921"
            ]
           ]
          },
          "colorway": [
           "#636efa",
           "#EF553B",
           "#00cc96",
           "#ab63fa",
           "#FFA15A",
           "#19d3f3",
           "#FF6692",
           "#B6E880",
           "#FF97FF",
           "#FECB52"
          ],
          "font": {
           "color": "#2a3f5f"
          },
          "geo": {
           "bgcolor": "white",
           "lakecolor": "white",
           "landcolor": "#E5ECF6",
           "showlakes": true,
           "showland": true,
           "subunitcolor": "white"
          },
          "hoverlabel": {
           "align": "left"
          },
          "hovermode": "closest",
          "mapbox": {
           "style": "light"
          },
          "paper_bgcolor": "white",
          "plot_bgcolor": "#E5ECF6",
          "polar": {
           "angularaxis": {
            "gridcolor": "white",
            "linecolor": "white",
            "ticks": ""
           },
           "bgcolor": "#E5ECF6",
           "radialaxis": {
            "gridcolor": "white",
            "linecolor": "white",
            "ticks": ""
           }
          },
          "scene": {
           "xaxis": {
            "backgroundcolor": "#E5ECF6",
            "gridcolor": "white",
            "gridwidth": 2,
            "linecolor": "white",
            "showbackground": true,
            "ticks": "",
            "zerolinecolor": "white"
           },
           "yaxis": {
            "backgroundcolor": "#E5ECF6",
            "gridcolor": "white",
            "gridwidth": 2,
            "linecolor": "white",
            "showbackground": true,
            "ticks": "",
            "zerolinecolor": "white"
           },
           "zaxis": {
            "backgroundcolor": "#E5ECF6",
            "gridcolor": "white",
            "gridwidth": 2,
            "linecolor": "white",
            "showbackground": true,
            "ticks": "",
            "zerolinecolor": "white"
           }
          },
          "shapedefaults": {
           "line": {
            "color": "#2a3f5f"
           }
          },
          "ternary": {
           "aaxis": {
            "gridcolor": "white",
            "linecolor": "white",
            "ticks": ""
           },
           "baxis": {
            "gridcolor": "white",
            "linecolor": "white",
            "ticks": ""
           },
           "bgcolor": "#E5ECF6",
           "caxis": {
            "gridcolor": "white",
            "linecolor": "white",
            "ticks": ""
           }
          },
          "title": {
           "x": 0.05
          },
          "xaxis": {
           "automargin": true,
           "gridcolor": "white",
           "linecolor": "white",
           "ticks": "",
           "title": {
            "standoff": 15
           },
           "zerolinecolor": "white",
           "zerolinewidth": 2
          },
          "yaxis": {
           "automargin": true,
           "gridcolor": "white",
           "linecolor": "white",
           "ticks": "",
           "title": {
            "standoff": 15
           },
           "zerolinecolor": "white",
           "zerolinewidth": 2
          }
         }
        },
        "title": {
         "text": "Зависимость средней абсолютной ошибки от<br>количества нейронов на скрытом слое"
        },
        "width": 1280,
        "xaxis": {
         "title": {
          "text": "Количество нейронов на скрытом слое"
         }
        },
        "yaxis": {
         "title": {
          "text": "Средняя абсолютная ошибка"
         }
        }
       }
      }
     },
     "metadata": {},
     "output_type": "display_data"
    }
   ],
   "source": [
    "# Plotting results for training epochs amount\n",
    "fig = go.Figure()\n",
    "fig.add_trace(\n",
    "    go.Scatter(x=all_sizes, y=all_mapes,\n",
    "               name='Все наблюдения', mode='markers')\n",
    ")\n",
    "fig.add_trace(\n",
    "    go.Scatter(x=hidden_sizes, y=mapes_mean,\n",
    "               name='Средние значения', mode='lines+markers')\n",
    ")\n",
    "fig.update_layout(\n",
    "    title='Зависимость средней абсолютной ошибки от<br>количества нейронов на скрытом слое',\n",
    "    font=dict(size=20),\n",
    "    xaxis=dict(title='Количество нейронов на скрытом слое'),\n",
    "    yaxis=dict(title='Средняя абсолютная ошибка'),\n",
    "    width=1280,\n",
    "    height=720\n",
    ")\n",
    "fig.show()"
   ]
  },
  {
   "cell_type": "code",
   "execution_count": 44,
   "metadata": {},
   "outputs": [
    {
     "name": "stdout",
     "output_type": "stream",
     "text": [
      "TRAINING FINISHED\n",
      "Epoch 250/250, Loss: 0.045420\n",
      "MAPE: 44.494578%\n",
      "TRAINING FINISHED\n",
      "Epoch 250/250, Loss: 0.111794\n",
      "MAPE: 52.444295%\n",
      "TRAINING FINISHED\n",
      "Epoch 250/250, Loss: 0.042035\n",
      "MAPE: 44.981416%\n",
      "TRAINING FINISHED\n",
      "Epoch 250/250, Loss: 0.032653\n",
      "MAPE: 40.677738%\n",
      "TRAINING FINISHED\n",
      "Epoch 250/250, Loss: 0.051842\n",
      "MAPE: 46.561302%\n",
      "TRAINING FINISHED\n",
      "Epoch 250/250, Loss: 0.031021\n",
      "MAPE: 60.137445%\n",
      "TRAINING FINISHED\n",
      "Epoch 250/250, Loss: 0.045199\n",
      "MAPE: 48.798401%\n",
      "TRAINING FINISHED\n",
      "Epoch 250/250, Loss: 0.039759\n",
      "MAPE: 63.856625%\n",
      "TRAINING FINISHED\n",
      "Epoch 250/250, Loss: 0.024006\n",
      "MAPE: 42.989415%\n",
      "TRAINING FINISHED\n",
      "Epoch 250/250, Loss: 0.066966\n",
      "MAPE: 52.792896%\n",
      "TRAINING FINISHED\n",
      "Epoch 250/250, Loss: 0.020254\n",
      "MAPE: 51.302164%\n",
      "TRAINING FINISHED\n",
      "Epoch 250/250, Loss: 0.018561\n",
      "MAPE: 44.135124%\n",
      "TRAINING FINISHED\n",
      "Epoch 250/250, Loss: 0.022036\n",
      "MAPE: 50.694265%\n",
      "TRAINING FINISHED\n",
      "Epoch 250/250, Loss: 0.021637\n",
      "MAPE: 54.517646%\n",
      "TRAINING FINISHED\n",
      "Epoch 250/250, Loss: 0.038012\n",
      "MAPE: 50.175741%\n",
      "TRAINING FINISHED\n",
      "Epoch 250/250, Loss: 0.026715\n",
      "MAPE: 74.764818%\n",
      "TRAINING FINISHED\n",
      "Epoch 250/250, Loss: 0.014579\n",
      "MAPE: 54.909490%\n",
      "TRAINING FINISHED\n",
      "Epoch 250/250, Loss: 0.012846\n",
      "MAPE: 49.483665%\n",
      "TRAINING FINISHED\n",
      "Epoch 250/250, Loss: 0.051186\n",
      "MAPE: 86.743321%\n",
      "TRAINING FINISHED\n",
      "Epoch 250/250, Loss: 0.028347\n",
      "MAPE: 68.724637%\n",
      "TRAINING FINISHED\n",
      "Epoch 250/250, Loss: 0.020014\n",
      "MAPE: 57.991273%\n",
      "TRAINING FINISHED\n",
      "Epoch 250/250, Loss: 0.019087\n",
      "MAPE: 58.853470%\n",
      "TRAINING FINISHED\n",
      "Epoch 250/250, Loss: 0.035999\n",
      "MAPE: 96.234553%\n",
      "TRAINING FINISHED\n",
      "Epoch 250/250, Loss: 0.033693\n",
      "MAPE: 54.462032%\n",
      "TRAINING FINISHED\n",
      "Epoch 250/250, Loss: 0.021495\n",
      "MAPE: 47.151120%\n",
      "TRAINING FINISHED\n",
      "Epoch 250/250, Loss: 0.024593\n",
      "MAPE: 47.238195%\n",
      "TRAINING FINISHED\n",
      "Epoch 250/250, Loss: 0.025446\n",
      "MAPE: 39.191324%\n",
      "TRAINING FINISHED\n",
      "Epoch 250/250, Loss: 0.028021\n",
      "MAPE: 43.941801%\n",
      "TRAINING FINISHED\n",
      "Epoch 250/250, Loss: 0.006635\n",
      "MAPE: 32.166117%\n",
      "TRAINING FINISHED\n",
      "Epoch 250/250, Loss: 0.035959\n",
      "MAPE: 50.541468%\n",
      "TRAINING FINISHED\n",
      "Epoch 250/250, Loss: 0.082775\n",
      "MAPE: 61.568166%\n",
      "TRAINING FINISHED\n",
      "Epoch 250/250, Loss: 0.013626\n",
      "MAPE: 29.969901%\n",
      "TRAINING FINISHED\n",
      "Epoch 250/250, Loss: 0.021217\n",
      "MAPE: 40.838383%\n",
      "TRAINING FINISHED\n",
      "Epoch 250/250, Loss: 0.005806\n",
      "MAPE: 29.534054%\n",
      "TRAINING FINISHED\n",
      "Epoch 250/250, Loss: 0.004499\n",
      "MAPE: 27.051157%\n",
      "TRAINING FINISHED\n",
      "Epoch 250/250, Loss: 0.023138\n",
      "MAPE: 63.174974%\n",
      "TRAINING FINISHED\n",
      "Epoch 250/250, Loss: 0.010239\n",
      "MAPE: 64.907005%\n",
      "TRAINING FINISHED\n",
      "Epoch 250/250, Loss: 0.024888\n",
      "MAPE: 67.592847%\n",
      "TRAINING FINISHED\n",
      "Epoch 250/250, Loss: 0.019062\n",
      "MAPE: 39.132231%\n",
      "TRAINING FINISHED\n",
      "Epoch 250/250, Loss: 0.010060\n",
      "MAPE: 38.889887%\n",
      "TRAINING FINISHED\n",
      "Epoch 250/250, Loss: 0.008525\n",
      "MAPE: 31.313226%\n",
      "TRAINING FINISHED\n",
      "Epoch 250/250, Loss: 0.027349\n",
      "MAPE: 80.047992%\n",
      "TRAINING FINISHED\n",
      "Epoch 250/250, Loss: 0.008146\n",
      "MAPE: 38.450547%\n",
      "TRAINING FINISHED\n",
      "Epoch 250/250, Loss: 0.004407\n",
      "MAPE: 41.934429%\n",
      "TRAINING FINISHED\n",
      "Epoch 250/250, Loss: 0.007526\n",
      "MAPE: 44.374197%\n"
     ]
    }
   ],
   "source": [
    "# MAPE relation with sliding window\n",
    "experiments_amount = 5\n",
    "# epochs = np.linspace(1000, 35000, endpoint=True, num=10).astype(np.int32).tolist()\n",
    "\n",
    "\n",
    "all_mapes = []\n",
    "mapes_mean = []\n",
    "\n",
    "all_sizes: list[int] = []\n",
    "\n",
    "seq_length = 40\n",
    "window_sizes = list(range(2, seq_length // 2, 2))\n",
    "hidden_size = 8\n",
    "batch_size = 1\n",
    "output_size = 3\n",
    "\n",
    "verbosity = 100000\n",
    "lr = 1e-2\n",
    "max_epochs = 250\n",
    "use_adam = False\n",
    "\n",
    "sequence = list(arithmetic_progression(seq_length + output_size, 1, 1))\n",
    "\n",
    "for size in window_sizes:        \n",
    "\n",
    "    # Training network for five times\n",
    "    mapes_sum = 0    \n",
    "    for _ in range(experiments_amount):\n",
    "        all_sizes.append(size)              \n",
    "        \n",
    "        train_sequence = sequence[:seq_length]\n",
    "        test_sequence = sequence[-output_size:]\n",
    "        training_mape, model, next_n_pred, mean, deviation = predict_next_n_elements(\n",
    "            train_sequence, size, batch_size,\n",
    "            hidden_size, output_size, max_epochs,\n",
    "            verbosity, lr, use_adam=use_adam\n",
    "        )\n",
    "        all_epochs.append(max_epochs)\n",
    "        \n",
    "        # Test sequence mape\n",
    "        test_sequence = sequence[-output_size:]\n",
    "        test_mape = mape(test_sequence, next_n_pred)\n",
    "        mapes_sum += test_mape    \n",
    "        all_mapes.append(test_mape)    \n",
    "\n",
    "    # Average mape for epochs amount\n",
    "    mapes_mean.append(mapes_sum / experiments_amount)"
   ]
  },
  {
   "cell_type": "code",
   "execution_count": 45,
   "metadata": {},
   "outputs": [
    {
     "data": {
      "application/vnd.plotly.v1+json": {
       "config": {
        "plotlyServerURL": "https://plot.ly"
       },
       "data": [
        {
         "mode": "markers",
         "name": "Все наблюдения",
         "type": "scatter",
         "x": [
          2,
          2,
          2,
          2,
          2,
          4,
          4,
          4,
          4,
          4,
          6,
          6,
          6,
          6,
          6,
          8,
          8,
          8,
          8,
          8,
          10,
          10,
          10,
          10,
          10,
          12,
          12,
          12,
          12,
          12,
          14,
          14,
          14,
          14,
          14,
          16,
          16,
          16,
          16,
          16,
          18,
          18,
          18,
          18,
          18
         ],
         "y": [
          0.304843862193585,
          0.3887940750456605,
          0.3316183648360009,
          0.36190066859943143,
          0.34219503784259714,
          0.3229178928785969,
          0.264307546181915,
          0.29340687539715743,
          0.2845230340844635,
          0.3232333332651114,
          0.2534177379437852,
          0.3266956846519819,
          0.30943873642742686,
          0.2733374184358986,
          0.3126418875608321,
          0.27821862717119966,
          0.2834704520834595,
          0.3738364733295614,
          0.2922619699071198,
          0.22384990681343472,
          0.29274505196352885,
          0.2746216920859899,
          0.26839911389327104,
          0.2919753805026723,
          0.26310981361314156,
          0.26770343741933483,
          0.34878897714270557,
          0.2995241239001612,
          0.2937313209522259,
          0.35191794605803944,
          0.3194042996622545,
          0.3059543783799749,
          0.2857937888567609,
          0.32759102049520045,
          0.2546888861981253,
          0.3492709960638276,
          0.24806739366443642,
          0.3079069487744097,
          0.3063468969180514,
          0.32048574319017303,
          0.2606337610380863,
          0.32575445633108646,
          0.2442639405925875,
          0.2485039048189197,
          0.30397490922838355
         ]
        },
        {
         "mode": "lines+markers",
         "name": "Средние значения",
         "type": "scatter",
         "x": [
          2,
          4,
          6,
          8,
          10,
          12,
          14,
          16,
          18
         ],
         "y": [
          0.34587040170345495,
          0.29767773636144884,
          0.29510629300398494,
          0.290327485860955,
          0.27817021041172074,
          0.3123331610944934,
          0.2986864747184632,
          0.30641559572217963,
          0.2766261944018127
         ]
        }
       ],
       "layout": {
        "font": {
         "size": 20
        },
        "height": 720,
        "template": {
         "data": {
          "bar": [
           {
            "error_x": {
             "color": "#2a3f5f"
            },
            "error_y": {
             "color": "#2a3f5f"
            },
            "marker": {
             "line": {
              "color": "#E5ECF6",
              "width": 0.5
             },
             "pattern": {
              "fillmode": "overlay",
              "size": 10,
              "solidity": 0.2
             }
            },
            "type": "bar"
           }
          ],
          "barpolar": [
           {
            "marker": {
             "line": {
              "color": "#E5ECF6",
              "width": 0.5
             },
             "pattern": {
              "fillmode": "overlay",
              "size": 10,
              "solidity": 0.2
             }
            },
            "type": "barpolar"
           }
          ],
          "carpet": [
           {
            "aaxis": {
             "endlinecolor": "#2a3f5f",
             "gridcolor": "white",
             "linecolor": "white",
             "minorgridcolor": "white",
             "startlinecolor": "#2a3f5f"
            },
            "baxis": {
             "endlinecolor": "#2a3f5f",
             "gridcolor": "white",
             "linecolor": "white",
             "minorgridcolor": "white",
             "startlinecolor": "#2a3f5f"
            },
            "type": "carpet"
           }
          ],
          "choropleth": [
           {
            "colorbar": {
             "outlinewidth": 0,
             "ticks": ""
            },
            "type": "choropleth"
           }
          ],
          "contour": [
           {
            "colorbar": {
             "outlinewidth": 0,
             "ticks": ""
            },
            "colorscale": [
             [
              0,
              "#0d0887"
             ],
             [
              0.1111111111111111,
              "#46039f"
             ],
             [
              0.2222222222222222,
              "#7201a8"
             ],
             [
              0.3333333333333333,
              "#9c179e"
             ],
             [
              0.4444444444444444,
              "#bd3786"
             ],
             [
              0.5555555555555556,
              "#d8576b"
             ],
             [
              0.6666666666666666,
              "#ed7953"
             ],
             [
              0.7777777777777778,
              "#fb9f3a"
             ],
             [
              0.8888888888888888,
              "#fdca26"
             ],
             [
              1,
              "#f0f921"
             ]
            ],
            "type": "contour"
           }
          ],
          "contourcarpet": [
           {
            "colorbar": {
             "outlinewidth": 0,
             "ticks": ""
            },
            "type": "contourcarpet"
           }
          ],
          "heatmap": [
           {
            "colorbar": {
             "outlinewidth": 0,
             "ticks": ""
            },
            "colorscale": [
             [
              0,
              "#0d0887"
             ],
             [
              0.1111111111111111,
              "#46039f"
             ],
             [
              0.2222222222222222,
              "#7201a8"
             ],
             [
              0.3333333333333333,
              "#9c179e"
             ],
             [
              0.4444444444444444,
              "#bd3786"
             ],
             [
              0.5555555555555556,
              "#d8576b"
             ],
             [
              0.6666666666666666,
              "#ed7953"
             ],
             [
              0.7777777777777778,
              "#fb9f3a"
             ],
             [
              0.8888888888888888,
              "#fdca26"
             ],
             [
              1,
              "#f0f921"
             ]
            ],
            "type": "heatmap"
           }
          ],
          "heatmapgl": [
           {
            "colorbar": {
             "outlinewidth": 0,
             "ticks": ""
            },
            "colorscale": [
             [
              0,
              "#0d0887"
             ],
             [
              0.1111111111111111,
              "#46039f"
             ],
             [
              0.2222222222222222,
              "#7201a8"
             ],
             [
              0.3333333333333333,
              "#9c179e"
             ],
             [
              0.4444444444444444,
              "#bd3786"
             ],
             [
              0.5555555555555556,
              "#d8576b"
             ],
             [
              0.6666666666666666,
              "#ed7953"
             ],
             [
              0.7777777777777778,
              "#fb9f3a"
             ],
             [
              0.8888888888888888,
              "#fdca26"
             ],
             [
              1,
              "#f0f921"
             ]
            ],
            "type": "heatmapgl"
           }
          ],
          "histogram": [
           {
            "marker": {
             "pattern": {
              "fillmode": "overlay",
              "size": 10,
              "solidity": 0.2
             }
            },
            "type": "histogram"
           }
          ],
          "histogram2d": [
           {
            "colorbar": {
             "outlinewidth": 0,
             "ticks": ""
            },
            "colorscale": [
             [
              0,
              "#0d0887"
             ],
             [
              0.1111111111111111,
              "#46039f"
             ],
             [
              0.2222222222222222,
              "#7201a8"
             ],
             [
              0.3333333333333333,
              "#9c179e"
             ],
             [
              0.4444444444444444,
              "#bd3786"
             ],
             [
              0.5555555555555556,
              "#d8576b"
             ],
             [
              0.6666666666666666,
              "#ed7953"
             ],
             [
              0.7777777777777778,
              "#fb9f3a"
             ],
             [
              0.8888888888888888,
              "#fdca26"
             ],
             [
              1,
              "#f0f921"
             ]
            ],
            "type": "histogram2d"
           }
          ],
          "histogram2dcontour": [
           {
            "colorbar": {
             "outlinewidth": 0,
             "ticks": ""
            },
            "colorscale": [
             [
              0,
              "#0d0887"
             ],
             [
              0.1111111111111111,
              "#46039f"
             ],
             [
              0.2222222222222222,
              "#7201a8"
             ],
             [
              0.3333333333333333,
              "#9c179e"
             ],
             [
              0.4444444444444444,
              "#bd3786"
             ],
             [
              0.5555555555555556,
              "#d8576b"
             ],
             [
              0.6666666666666666,
              "#ed7953"
             ],
             [
              0.7777777777777778,
              "#fb9f3a"
             ],
             [
              0.8888888888888888,
              "#fdca26"
             ],
             [
              1,
              "#f0f921"
             ]
            ],
            "type": "histogram2dcontour"
           }
          ],
          "mesh3d": [
           {
            "colorbar": {
             "outlinewidth": 0,
             "ticks": ""
            },
            "type": "mesh3d"
           }
          ],
          "parcoords": [
           {
            "line": {
             "colorbar": {
              "outlinewidth": 0,
              "ticks": ""
             }
            },
            "type": "parcoords"
           }
          ],
          "pie": [
           {
            "automargin": true,
            "type": "pie"
           }
          ],
          "scatter": [
           {
            "fillpattern": {
             "fillmode": "overlay",
             "size": 10,
             "solidity": 0.2
            },
            "type": "scatter"
           }
          ],
          "scatter3d": [
           {
            "line": {
             "colorbar": {
              "outlinewidth": 0,
              "ticks": ""
             }
            },
            "marker": {
             "colorbar": {
              "outlinewidth": 0,
              "ticks": ""
             }
            },
            "type": "scatter3d"
           }
          ],
          "scattercarpet": [
           {
            "marker": {
             "colorbar": {
              "outlinewidth": 0,
              "ticks": ""
             }
            },
            "type": "scattercarpet"
           }
          ],
          "scattergeo": [
           {
            "marker": {
             "colorbar": {
              "outlinewidth": 0,
              "ticks": ""
             }
            },
            "type": "scattergeo"
           }
          ],
          "scattergl": [
           {
            "marker": {
             "colorbar": {
              "outlinewidth": 0,
              "ticks": ""
             }
            },
            "type": "scattergl"
           }
          ],
          "scattermapbox": [
           {
            "marker": {
             "colorbar": {
              "outlinewidth": 0,
              "ticks": ""
             }
            },
            "type": "scattermapbox"
           }
          ],
          "scatterpolar": [
           {
            "marker": {
             "colorbar": {
              "outlinewidth": 0,
              "ticks": ""
             }
            },
            "type": "scatterpolar"
           }
          ],
          "scatterpolargl": [
           {
            "marker": {
             "colorbar": {
              "outlinewidth": 0,
              "ticks": ""
             }
            },
            "type": "scatterpolargl"
           }
          ],
          "scatterternary": [
           {
            "marker": {
             "colorbar": {
              "outlinewidth": 0,
              "ticks": ""
             }
            },
            "type": "scatterternary"
           }
          ],
          "surface": [
           {
            "colorbar": {
             "outlinewidth": 0,
             "ticks": ""
            },
            "colorscale": [
             [
              0,
              "#0d0887"
             ],
             [
              0.1111111111111111,
              "#46039f"
             ],
             [
              0.2222222222222222,
              "#7201a8"
             ],
             [
              0.3333333333333333,
              "#9c179e"
             ],
             [
              0.4444444444444444,
              "#bd3786"
             ],
             [
              0.5555555555555556,
              "#d8576b"
             ],
             [
              0.6666666666666666,
              "#ed7953"
             ],
             [
              0.7777777777777778,
              "#fb9f3a"
             ],
             [
              0.8888888888888888,
              "#fdca26"
             ],
             [
              1,
              "#f0f921"
             ]
            ],
            "type": "surface"
           }
          ],
          "table": [
           {
            "cells": {
             "fill": {
              "color": "#EBF0F8"
             },
             "line": {
              "color": "white"
             }
            },
            "header": {
             "fill": {
              "color": "#C8D4E3"
             },
             "line": {
              "color": "white"
             }
            },
            "type": "table"
           }
          ]
         },
         "layout": {
          "annotationdefaults": {
           "arrowcolor": "#2a3f5f",
           "arrowhead": 0,
           "arrowwidth": 1
          },
          "autotypenumbers": "strict",
          "coloraxis": {
           "colorbar": {
            "outlinewidth": 0,
            "ticks": ""
           }
          },
          "colorscale": {
           "diverging": [
            [
             0,
             "#8e0152"
            ],
            [
             0.1,
             "#c51b7d"
            ],
            [
             0.2,
             "#de77ae"
            ],
            [
             0.3,
             "#f1b6da"
            ],
            [
             0.4,
             "#fde0ef"
            ],
            [
             0.5,
             "#f7f7f7"
            ],
            [
             0.6,
             "#e6f5d0"
            ],
            [
             0.7,
             "#b8e186"
            ],
            [
             0.8,
             "#7fbc41"
            ],
            [
             0.9,
             "#4d9221"
            ],
            [
             1,
             "#276419"
            ]
           ],
           "sequential": [
            [
             0,
             "#0d0887"
            ],
            [
             0.1111111111111111,
             "#46039f"
            ],
            [
             0.2222222222222222,
             "#7201a8"
            ],
            [
             0.3333333333333333,
             "#9c179e"
            ],
            [
             0.4444444444444444,
             "#bd3786"
            ],
            [
             0.5555555555555556,
             "#d8576b"
            ],
            [
             0.6666666666666666,
             "#ed7953"
            ],
            [
             0.7777777777777778,
             "#fb9f3a"
            ],
            [
             0.8888888888888888,
             "#fdca26"
            ],
            [
             1,
             "#f0f921"
            ]
           ],
           "sequentialminus": [
            [
             0,
             "#0d0887"
            ],
            [
             0.1111111111111111,
             "#46039f"
            ],
            [
             0.2222222222222222,
             "#7201a8"
            ],
            [
             0.3333333333333333,
             "#9c179e"
            ],
            [
             0.4444444444444444,
             "#bd3786"
            ],
            [
             0.5555555555555556,
             "#d8576b"
            ],
            [
             0.6666666666666666,
             "#ed7953"
            ],
            [
             0.7777777777777778,
             "#fb9f3a"
            ],
            [
             0.8888888888888888,
             "#fdca26"
            ],
            [
             1,
             "#f0f921"
            ]
           ]
          },
          "colorway": [
           "#636efa",
           "#EF553B",
           "#00cc96",
           "#ab63fa",
           "#FFA15A",
           "#19d3f3",
           "#FF6692",
           "#B6E880",
           "#FF97FF",
           "#FECB52"
          ],
          "font": {
           "color": "#2a3f5f"
          },
          "geo": {
           "bgcolor": "white",
           "lakecolor": "white",
           "landcolor": "#E5ECF6",
           "showlakes": true,
           "showland": true,
           "subunitcolor": "white"
          },
          "hoverlabel": {
           "align": "left"
          },
          "hovermode": "closest",
          "mapbox": {
           "style": "light"
          },
          "paper_bgcolor": "white",
          "plot_bgcolor": "#E5ECF6",
          "polar": {
           "angularaxis": {
            "gridcolor": "white",
            "linecolor": "white",
            "ticks": ""
           },
           "bgcolor": "#E5ECF6",
           "radialaxis": {
            "gridcolor": "white",
            "linecolor": "white",
            "ticks": ""
           }
          },
          "scene": {
           "xaxis": {
            "backgroundcolor": "#E5ECF6",
            "gridcolor": "white",
            "gridwidth": 2,
            "linecolor": "white",
            "showbackground": true,
            "ticks": "",
            "zerolinecolor": "white"
           },
           "yaxis": {
            "backgroundcolor": "#E5ECF6",
            "gridcolor": "white",
            "gridwidth": 2,
            "linecolor": "white",
            "showbackground": true,
            "ticks": "",
            "zerolinecolor": "white"
           },
           "zaxis": {
            "backgroundcolor": "#E5ECF6",
            "gridcolor": "white",
            "gridwidth": 2,
            "linecolor": "white",
            "showbackground": true,
            "ticks": "",
            "zerolinecolor": "white"
           }
          },
          "shapedefaults": {
           "line": {
            "color": "#2a3f5f"
           }
          },
          "ternary": {
           "aaxis": {
            "gridcolor": "white",
            "linecolor": "white",
            "ticks": ""
           },
           "baxis": {
            "gridcolor": "white",
            "linecolor": "white",
            "ticks": ""
           },
           "bgcolor": "#E5ECF6",
           "caxis": {
            "gridcolor": "white",
            "linecolor": "white",
            "ticks": ""
           }
          },
          "title": {
           "x": 0.05
          },
          "xaxis": {
           "automargin": true,
           "gridcolor": "white",
           "linecolor": "white",
           "ticks": "",
           "title": {
            "standoff": 15
           },
           "zerolinecolor": "white",
           "zerolinewidth": 2
          },
          "yaxis": {
           "automargin": true,
           "gridcolor": "white",
           "linecolor": "white",
           "ticks": "",
           "title": {
            "standoff": 15
           },
           "zerolinecolor": "white",
           "zerolinewidth": 2
          }
         }
        },
        "title": {
         "text": "Зависимость средней абсолютной ошибки от<br>размера скользящего окна"
        },
        "width": 1280,
        "xaxis": {
         "title": {
          "text": "Размер скользящего окна"
         }
        },
        "yaxis": {
         "title": {
          "text": "Средняя абсолютная ошибка"
         }
        }
       }
      }
     },
     "metadata": {},
     "output_type": "display_data"
    }
   ],
   "source": [
    "# Plotting results\n",
    "fig = go.Figure()\n",
    "fig.add_trace(\n",
    "    go.Scatter(x=all_sizes, y=all_mapes,\n",
    "               name='Все наблюдения', mode='markers')\n",
    ")\n",
    "fig.add_trace(\n",
    "    go.Scatter(x=window_sizes, y=mapes_mean,\n",
    "               name='Средние значения', mode='lines+markers')\n",
    ")\n",
    "fig.update_layout(\n",
    "    title='Зависимость средней абсолютной ошибки от<br>размера скользящего окна',\n",
    "    font=dict(size=20),\n",
    "    xaxis=dict(title='Размер скользящего окна'),\n",
    "    yaxis=dict(title='Средняя абсолютная ошибка'),\n",
    "    width=1280,\n",
    "    height=720\n",
    ")\n",
    "fig.show()"
   ]
  },
  {
   "cell_type": "code",
   "execution_count": 46,
   "metadata": {},
   "outputs": [
    {
     "name": "stdout",
     "output_type": "stream",
     "text": [
      "[0, 1, 1, 2, 3, 5, 8, 13, 21, 34, 55, 89, 144]\n",
      "TRAINING FINISHED\n",
      "Epoch 2000/2000, Loss: 0.080018\n",
      "MAPE: 112.208121%\n",
      "TRAINING FINISHED\n",
      "Epoch 2000/2000, Loss: 0.104843\n",
      "MAPE: 125.815779%\n",
      "TRAINING FINISHED\n",
      "Epoch 2000/2000, Loss: 0.048081\n",
      "MAPE: 86.437790%\n",
      "TRAINING FINISHED\n",
      "Epoch 2000/2000, Loss: 0.042514\n",
      "MAPE: 77.859735%\n",
      "TRAINING FINISHED\n",
      "Epoch 2000/2000, Loss: 0.074972\n",
      "MAPE: 111.674799%\n",
      "[1, 4, 9, 16, 25, 36, 49, 64, 81, 100, 121, 144, 169]\n",
      "TRAINING FINISHED\n",
      "Epoch 2000/2000, Loss: 0.009073\n",
      "MAPE: 37.295664%\n",
      "TRAINING FINISHED\n",
      "Epoch 2000/2000, Loss: 0.007252\n",
      "MAPE: 25.546749%\n",
      "TRAINING FINISHED\n",
      "Epoch 2000/2000, Loss: 0.006347\n",
      "MAPE: 31.110579%\n",
      "TRAINING FINISHED\n",
      "Epoch 2000/2000, Loss: 0.004189\n",
      "MAPE: 25.265090%\n",
      "TRAINING FINISHED\n",
      "Epoch 2000/2000, Loss: 0.004472\n",
      "MAPE: 20.134286%\n",
      "[1, 2, 3, 4, 5, 6, 7, 8, 9, 10, 11, 12, 13]\n",
      "TRAINING FINISHED\n",
      "Epoch 2000/2000, Loss: 0.001374\n",
      "MAPE: 12.136676%\n",
      "TRAINING FINISHED\n",
      "Epoch 2000/2000, Loss: 0.011811\n",
      "MAPE: 35.280334%\n",
      "TRAINING FINISHED\n",
      "Epoch 2000/2000, Loss: 0.003041\n",
      "MAPE: 13.768750%\n",
      "TRAINING FINISHED\n",
      "Epoch 2000/2000, Loss: 0.006722\n",
      "MAPE: 24.518045%\n",
      "TRAINING FINISHED\n",
      "Epoch 2000/2000, Loss: 0.003254\n",
      "MAPE: 17.134811%\n",
      "[1.0, 0.5, 0.3333333333333333, 0.25, 0.2, 0.16666666666666666, 0.14285714285714285, 0.125, 0.1111111111111111, 0.1, 0.09090909090909091, 0.08333333333333333, 0.07692307692307693]\n",
      "TRAINING FINISHED\n",
      "Epoch 2000/2000, Loss: 0.001067\n",
      "MAPE: 9.666934%\n",
      "TRAINING FINISHED\n",
      "Epoch 2000/2000, Loss: 0.000256\n",
      "MAPE: 4.759739%\n",
      "TRAINING FINISHED\n",
      "Epoch 2000/2000, Loss: 0.000233\n",
      "MAPE: 3.720957%\n",
      "TRAINING FINISHED\n",
      "Epoch 2000/2000, Loss: 0.001659\n",
      "MAPE: 11.816772%\n",
      "TRAINING FINISHED\n",
      "Epoch 2000/2000, Loss: 0.000230\n",
      "MAPE: 4.158823%\n",
      "[1, -1, 1, -1, 1, -1, 1, -1, 1, -1, 1, -1, 1]\n",
      "TRAINING FINISHED\n",
      "Epoch 2000/2000, Loss: 0.005452\n",
      "MAPE: 9.022205%\n",
      "TRAINING FINISHED\n",
      "Epoch 2000/2000, Loss: 0.002483\n",
      "MAPE: 5.915839%\n",
      "TRAINING FINISHED\n",
      "Epoch 2000/2000, Loss: 0.002678\n",
      "MAPE: 6.127932%\n",
      "TRAINING FINISHED\n",
      "Epoch 2000/2000, Loss: 0.007164\n",
      "MAPE: 10.380684%\n",
      "TRAINING FINISHED\n",
      "Epoch 2000/2000, Loss: 0.005564\n",
      "MAPE: 9.255804%\n",
      "[1, 0.5, 1, 0.5, 0.5, 1, 0.5, 0.5, 0.5, 1, 0.5, 0.5, 0.5]\n",
      "TRAINING FINISHED\n",
      "Epoch 2000/2000, Loss: 0.182934\n",
      "MAPE: 45.047928%\n",
      "TRAINING FINISHED\n",
      "Epoch 2000/2000, Loss: 0.206308\n",
      "MAPE: 48.363101%\n",
      "TRAINING FINISHED\n",
      "Epoch 2000/2000, Loss: 0.212648\n",
      "MAPE: 51.894142%\n",
      "TRAINING FINISHED\n",
      "Epoch 2000/2000, Loss: 0.204431\n",
      "MAPE: 50.604397%\n",
      "TRAINING FINISHED\n",
      "Epoch 2000/2000, Loss: 0.201315\n",
      "MAPE: 50.765470%\n"
     ]
    }
   ],
   "source": [
    "# Настройки эксперимента\n",
    "experiments_amount = 5\n",
    "seq_length = 10\n",
    "window_size = 3\n",
    "batch_size = 1\n",
    "hidden_size = 10\n",
    "output_size = 3\n",
    "max_epochs = 2000\n",
    "verbosity = 100000\n",
    "lr = 1e-2\n",
    "\n",
    "# Словарь с генераторами\n",
    "sequence_generators = {\n",
    "    \"1, 1, 2, 3, 5, 8,...\": lambda n: list(fibonacci_generator(n)),\n",
    "    \"1, 4, 9, 16,...\": lambda n: list(squared_generator(n)),\n",
    "    \"1, 2, 3, 4, 5,...\": lambda n: list(arithmetic_progression(n, a0=1, d=1)),    \n",
    "    \"1, 0.5 ,0.(3), 0.25, 0.2,...\": lambda n: list(one_by_n_generator(n)),\n",
    "    \"1, -1, 1, -1,...\": lambda n: list(plus_one_minus_one_generator(n)),\n",
    "    \"1, 0.5, 1, 0.5, 0.5, 1,...\": lambda n: list(one_half_generator(n)),\n",
    "}\n",
    "\n",
    "all_mapes = []\n",
    "mapes_mean = []\n",
    "all_sequences = []\n",
    "\n",
    "# Тренировка для каждой последовательности\n",
    "for seq_name, seq_generator in sequence_generators.items():\n",
    "    sequence = seq_generator(seq_length + output_size)\n",
    "    print(sequence)   \n",
    "\n",
    "    mapes_sum = 0\n",
    "    for _ in range(experiments_amount):\n",
    "        all_sequences.append(seq_name)\n",
    "        \n",
    "        train_sequence = sequence[:seq_length]\n",
    "        test_sequence = sequence[-output_size:]\n",
    "        training_mape, model, next_n_pred, mean, deviation = predict_next_n_elements(\n",
    "            train_sequence, window_size, batch_size,\n",
    "            hidden_size, output_size, max_epochs,\n",
    "            verbosity, lr, use_adam=use_adam\n",
    "        )\n",
    "        all_epochs.append(max_epochs)\n",
    "        \n",
    "        # Test sequence mape\n",
    "        test_sequence = sequence[-output_size:]\n",
    "        test_mape = mape(test_sequence, next_n_pred)\n",
    "        mapes_sum += test_mape    \n",
    "        all_mapes.append(test_mape)\n",
    "\n",
    "    mapes_mean.append(mapes_sum / experiments_amount)"
   ]
  },
  {
   "cell_type": "code",
   "execution_count": 47,
   "metadata": {},
   "outputs": [
    {
     "data": {
      "application/vnd.plotly.v1+json": {
       "config": {
        "plotlyServerURL": "https://plot.ly"
       },
       "data": [
        {
         "mode": "markers",
         "name": "Все наблюдения",
         "type": "scatter",
         "x": [
          "1, 1, 2, 3, 5, 8,...",
          "1, 1, 2, 3, 5, 8,...",
          "1, 1, 2, 3, 5, 8,...",
          "1, 1, 2, 3, 5, 8,...",
          "1, 1, 2, 3, 5, 8,...",
          "1, 4, 9, 16,...",
          "1, 4, 9, 16,...",
          "1, 4, 9, 16,...",
          "1, 4, 9, 16,...",
          "1, 4, 9, 16,...",
          "1, 2, 3, 4, 5,...",
          "1, 2, 3, 4, 5,...",
          "1, 2, 3, 4, 5,...",
          "1, 2, 3, 4, 5,...",
          "1, 2, 3, 4, 5,...",
          "1, 0.5 ,0.(3), 0.25, 0.2,...",
          "1, 0.5 ,0.(3), 0.25, 0.2,...",
          "1, 0.5 ,0.(3), 0.25, 0.2,...",
          "1, 0.5 ,0.(3), 0.25, 0.2,...",
          "1, 0.5 ,0.(3), 0.25, 0.2,...",
          "1, -1, 1, -1,...",
          "1, -1, 1, -1,...",
          "1, -1, 1, -1,...",
          "1, -1, 1, -1,...",
          "1, -1, 1, -1,...",
          "1, 0.5, 1, 0.5, 0.5, 1,...",
          "1, 0.5, 1, 0.5, 0.5, 1,...",
          "1, 0.5, 1, 0.5, 0.5, 1,...",
          "1, 0.5, 1, 0.5, 0.5, 1,...",
          "1, 0.5, 1, 0.5, 0.5, 1,..."
         ],
         "y": [
          0.8507330236732814,
          0.8670975638025284,
          0.8277240555127704,
          0.8473921971462174,
          0.8861570529989783,
          0.5941668933137537,
          0.4958334747927913,
          0.49367545068512425,
          0.5474541285513104,
          0.42362860721614176,
          0.27396655146593707,
          0.30406153805990926,
          0.30699109841513866,
          0.2376229649965124,
          0.25429975326852866,
          0.9285199064466526,
          0.660257210414679,
          0.7899415163982053,
          1.0096940425945011,
          0.9306042496844732,
          0.4681968588592898,
          0.3234629349399613,
          0.3110697703550338,
          0.32050024617414063,
          0.3880383073047338,
          0.36190496543570605,
          0.3643574359733857,
          0.25874631518009655,
          0.3428687836760646,
          0.35978080565968296
         ]
        },
        {
         "mode": "markers",
         "name": "Средние значения",
         "type": "scatter",
         "x": [
          "1, 1, 2, 3, 5, 8,...",
          "1, 4, 9, 16,...",
          "1, 2, 3, 4, 5,...",
          "1, 0.5 ,0.(3), 0.25, 0.2,...",
          "1, -1, 1, -1,...",
          "1, 0.5, 1, 0.5, 0.5, 1,..."
         ],
         "y": [
          0.8558207786267552,
          0.5109517109118242,
          0.27538838124120524,
          0.8638033851077023,
          0.3622536235266319,
          0.3375316611849872
         ]
        }
       ],
       "layout": {
        "font": {
         "size": 20
        },
        "height": 720,
        "template": {
         "data": {
          "bar": [
           {
            "error_x": {
             "color": "#2a3f5f"
            },
            "error_y": {
             "color": "#2a3f5f"
            },
            "marker": {
             "line": {
              "color": "#E5ECF6",
              "width": 0.5
             },
             "pattern": {
              "fillmode": "overlay",
              "size": 10,
              "solidity": 0.2
             }
            },
            "type": "bar"
           }
          ],
          "barpolar": [
           {
            "marker": {
             "line": {
              "color": "#E5ECF6",
              "width": 0.5
             },
             "pattern": {
              "fillmode": "overlay",
              "size": 10,
              "solidity": 0.2
             }
            },
            "type": "barpolar"
           }
          ],
          "carpet": [
           {
            "aaxis": {
             "endlinecolor": "#2a3f5f",
             "gridcolor": "white",
             "linecolor": "white",
             "minorgridcolor": "white",
             "startlinecolor": "#2a3f5f"
            },
            "baxis": {
             "endlinecolor": "#2a3f5f",
             "gridcolor": "white",
             "linecolor": "white",
             "minorgridcolor": "white",
             "startlinecolor": "#2a3f5f"
            },
            "type": "carpet"
           }
          ],
          "choropleth": [
           {
            "colorbar": {
             "outlinewidth": 0,
             "ticks": ""
            },
            "type": "choropleth"
           }
          ],
          "contour": [
           {
            "colorbar": {
             "outlinewidth": 0,
             "ticks": ""
            },
            "colorscale": [
             [
              0,
              "#0d0887"
             ],
             [
              0.1111111111111111,
              "#46039f"
             ],
             [
              0.2222222222222222,
              "#7201a8"
             ],
             [
              0.3333333333333333,
              "#9c179e"
             ],
             [
              0.4444444444444444,
              "#bd3786"
             ],
             [
              0.5555555555555556,
              "#d8576b"
             ],
             [
              0.6666666666666666,
              "#ed7953"
             ],
             [
              0.7777777777777778,
              "#fb9f3a"
             ],
             [
              0.8888888888888888,
              "#fdca26"
             ],
             [
              1,
              "#f0f921"
             ]
            ],
            "type": "contour"
           }
          ],
          "contourcarpet": [
           {
            "colorbar": {
             "outlinewidth": 0,
             "ticks": ""
            },
            "type": "contourcarpet"
           }
          ],
          "heatmap": [
           {
            "colorbar": {
             "outlinewidth": 0,
             "ticks": ""
            },
            "colorscale": [
             [
              0,
              "#0d0887"
             ],
             [
              0.1111111111111111,
              "#46039f"
             ],
             [
              0.2222222222222222,
              "#7201a8"
             ],
             [
              0.3333333333333333,
              "#9c179e"
             ],
             [
              0.4444444444444444,
              "#bd3786"
             ],
             [
              0.5555555555555556,
              "#d8576b"
             ],
             [
              0.6666666666666666,
              "#ed7953"
             ],
             [
              0.7777777777777778,
              "#fb9f3a"
             ],
             [
              0.8888888888888888,
              "#fdca26"
             ],
             [
              1,
              "#f0f921"
             ]
            ],
            "type": "heatmap"
           }
          ],
          "heatmapgl": [
           {
            "colorbar": {
             "outlinewidth": 0,
             "ticks": ""
            },
            "colorscale": [
             [
              0,
              "#0d0887"
             ],
             [
              0.1111111111111111,
              "#46039f"
             ],
             [
              0.2222222222222222,
              "#7201a8"
             ],
             [
              0.3333333333333333,
              "#9c179e"
             ],
             [
              0.4444444444444444,
              "#bd3786"
             ],
             [
              0.5555555555555556,
              "#d8576b"
             ],
             [
              0.6666666666666666,
              "#ed7953"
             ],
             [
              0.7777777777777778,
              "#fb9f3a"
             ],
             [
              0.8888888888888888,
              "#fdca26"
             ],
             [
              1,
              "#f0f921"
             ]
            ],
            "type": "heatmapgl"
           }
          ],
          "histogram": [
           {
            "marker": {
             "pattern": {
              "fillmode": "overlay",
              "size": 10,
              "solidity": 0.2
             }
            },
            "type": "histogram"
           }
          ],
          "histogram2d": [
           {
            "colorbar": {
             "outlinewidth": 0,
             "ticks": ""
            },
            "colorscale": [
             [
              0,
              "#0d0887"
             ],
             [
              0.1111111111111111,
              "#46039f"
             ],
             [
              0.2222222222222222,
              "#7201a8"
             ],
             [
              0.3333333333333333,
              "#9c179e"
             ],
             [
              0.4444444444444444,
              "#bd3786"
             ],
             [
              0.5555555555555556,
              "#d8576b"
             ],
             [
              0.6666666666666666,
              "#ed7953"
             ],
             [
              0.7777777777777778,
              "#fb9f3a"
             ],
             [
              0.8888888888888888,
              "#fdca26"
             ],
             [
              1,
              "#f0f921"
             ]
            ],
            "type": "histogram2d"
           }
          ],
          "histogram2dcontour": [
           {
            "colorbar": {
             "outlinewidth": 0,
             "ticks": ""
            },
            "colorscale": [
             [
              0,
              "#0d0887"
             ],
             [
              0.1111111111111111,
              "#46039f"
             ],
             [
              0.2222222222222222,
              "#7201a8"
             ],
             [
              0.3333333333333333,
              "#9c179e"
             ],
             [
              0.4444444444444444,
              "#bd3786"
             ],
             [
              0.5555555555555556,
              "#d8576b"
             ],
             [
              0.6666666666666666,
              "#ed7953"
             ],
             [
              0.7777777777777778,
              "#fb9f3a"
             ],
             [
              0.8888888888888888,
              "#fdca26"
             ],
             [
              1,
              "#f0f921"
             ]
            ],
            "type": "histogram2dcontour"
           }
          ],
          "mesh3d": [
           {
            "colorbar": {
             "outlinewidth": 0,
             "ticks": ""
            },
            "type": "mesh3d"
           }
          ],
          "parcoords": [
           {
            "line": {
             "colorbar": {
              "outlinewidth": 0,
              "ticks": ""
             }
            },
            "type": "parcoords"
           }
          ],
          "pie": [
           {
            "automargin": true,
            "type": "pie"
           }
          ],
          "scatter": [
           {
            "fillpattern": {
             "fillmode": "overlay",
             "size": 10,
             "solidity": 0.2
            },
            "type": "scatter"
           }
          ],
          "scatter3d": [
           {
            "line": {
             "colorbar": {
              "outlinewidth": 0,
              "ticks": ""
             }
            },
            "marker": {
             "colorbar": {
              "outlinewidth": 0,
              "ticks": ""
             }
            },
            "type": "scatter3d"
           }
          ],
          "scattercarpet": [
           {
            "marker": {
             "colorbar": {
              "outlinewidth": 0,
              "ticks": ""
             }
            },
            "type": "scattercarpet"
           }
          ],
          "scattergeo": [
           {
            "marker": {
             "colorbar": {
              "outlinewidth": 0,
              "ticks": ""
             }
            },
            "type": "scattergeo"
           }
          ],
          "scattergl": [
           {
            "marker": {
             "colorbar": {
              "outlinewidth": 0,
              "ticks": ""
             }
            },
            "type": "scattergl"
           }
          ],
          "scattermapbox": [
           {
            "marker": {
             "colorbar": {
              "outlinewidth": 0,
              "ticks": ""
             }
            },
            "type": "scattermapbox"
           }
          ],
          "scatterpolar": [
           {
            "marker": {
             "colorbar": {
              "outlinewidth": 0,
              "ticks": ""
             }
            },
            "type": "scatterpolar"
           }
          ],
          "scatterpolargl": [
           {
            "marker": {
             "colorbar": {
              "outlinewidth": 0,
              "ticks": ""
             }
            },
            "type": "scatterpolargl"
           }
          ],
          "scatterternary": [
           {
            "marker": {
             "colorbar": {
              "outlinewidth": 0,
              "ticks": ""
             }
            },
            "type": "scatterternary"
           }
          ],
          "surface": [
           {
            "colorbar": {
             "outlinewidth": 0,
             "ticks": ""
            },
            "colorscale": [
             [
              0,
              "#0d0887"
             ],
             [
              0.1111111111111111,
              "#46039f"
             ],
             [
              0.2222222222222222,
              "#7201a8"
             ],
             [
              0.3333333333333333,
              "#9c179e"
             ],
             [
              0.4444444444444444,
              "#bd3786"
             ],
             [
              0.5555555555555556,
              "#d8576b"
             ],
             [
              0.6666666666666666,
              "#ed7953"
             ],
             [
              0.7777777777777778,
              "#fb9f3a"
             ],
             [
              0.8888888888888888,
              "#fdca26"
             ],
             [
              1,
              "#f0f921"
             ]
            ],
            "type": "surface"
           }
          ],
          "table": [
           {
            "cells": {
             "fill": {
              "color": "#EBF0F8"
             },
             "line": {
              "color": "white"
             }
            },
            "header": {
             "fill": {
              "color": "#C8D4E3"
             },
             "line": {
              "color": "white"
             }
            },
            "type": "table"
           }
          ]
         },
         "layout": {
          "annotationdefaults": {
           "arrowcolor": "#2a3f5f",
           "arrowhead": 0,
           "arrowwidth": 1
          },
          "autotypenumbers": "strict",
          "coloraxis": {
           "colorbar": {
            "outlinewidth": 0,
            "ticks": ""
           }
          },
          "colorscale": {
           "diverging": [
            [
             0,
             "#8e0152"
            ],
            [
             0.1,
             "#c51b7d"
            ],
            [
             0.2,
             "#de77ae"
            ],
            [
             0.3,
             "#f1b6da"
            ],
            [
             0.4,
             "#fde0ef"
            ],
            [
             0.5,
             "#f7f7f7"
            ],
            [
             0.6,
             "#e6f5d0"
            ],
            [
             0.7,
             "#b8e186"
            ],
            [
             0.8,
             "#7fbc41"
            ],
            [
             0.9,
             "#4d9221"
            ],
            [
             1,
             "#276419"
            ]
           ],
           "sequential": [
            [
             0,
             "#0d0887"
            ],
            [
             0.1111111111111111,
             "#46039f"
            ],
            [
             0.2222222222222222,
             "#7201a8"
            ],
            [
             0.3333333333333333,
             "#9c179e"
            ],
            [
             0.4444444444444444,
             "#bd3786"
            ],
            [
             0.5555555555555556,
             "#d8576b"
            ],
            [
             0.6666666666666666,
             "#ed7953"
            ],
            [
             0.7777777777777778,
             "#fb9f3a"
            ],
            [
             0.8888888888888888,
             "#fdca26"
            ],
            [
             1,
             "#f0f921"
            ]
           ],
           "sequentialminus": [
            [
             0,
             "#0d0887"
            ],
            [
             0.1111111111111111,
             "#46039f"
            ],
            [
             0.2222222222222222,
             "#7201a8"
            ],
            [
             0.3333333333333333,
             "#9c179e"
            ],
            [
             0.4444444444444444,
             "#bd3786"
            ],
            [
             0.5555555555555556,
             "#d8576b"
            ],
            [
             0.6666666666666666,
             "#ed7953"
            ],
            [
             0.7777777777777778,
             "#fb9f3a"
            ],
            [
             0.8888888888888888,
             "#fdca26"
            ],
            [
             1,
             "#f0f921"
            ]
           ]
          },
          "colorway": [
           "#636efa",
           "#EF553B",
           "#00cc96",
           "#ab63fa",
           "#FFA15A",
           "#19d3f3",
           "#FF6692",
           "#B6E880",
           "#FF97FF",
           "#FECB52"
          ],
          "font": {
           "color": "#2a3f5f"
          },
          "geo": {
           "bgcolor": "white",
           "lakecolor": "white",
           "landcolor": "#E5ECF6",
           "showlakes": true,
           "showland": true,
           "subunitcolor": "white"
          },
          "hoverlabel": {
           "align": "left"
          },
          "hovermode": "closest",
          "mapbox": {
           "style": "light"
          },
          "paper_bgcolor": "white",
          "plot_bgcolor": "#E5ECF6",
          "polar": {
           "angularaxis": {
            "gridcolor": "white",
            "linecolor": "white",
            "ticks": ""
           },
           "bgcolor": "#E5ECF6",
           "radialaxis": {
            "gridcolor": "white",
            "linecolor": "white",
            "ticks": ""
           }
          },
          "scene": {
           "xaxis": {
            "backgroundcolor": "#E5ECF6",
            "gridcolor": "white",
            "gridwidth": 2,
            "linecolor": "white",
            "showbackground": true,
            "ticks": "",
            "zerolinecolor": "white"
           },
           "yaxis": {
            "backgroundcolor": "#E5ECF6",
            "gridcolor": "white",
            "gridwidth": 2,
            "linecolor": "white",
            "showbackground": true,
            "ticks": "",
            "zerolinecolor": "white"
           },
           "zaxis": {
            "backgroundcolor": "#E5ECF6",
            "gridcolor": "white",
            "gridwidth": 2,
            "linecolor": "white",
            "showbackground": true,
            "ticks": "",
            "zerolinecolor": "white"
           }
          },
          "shapedefaults": {
           "line": {
            "color": "#2a3f5f"
           }
          },
          "ternary": {
           "aaxis": {
            "gridcolor": "white",
            "linecolor": "white",
            "ticks": ""
           },
           "baxis": {
            "gridcolor": "white",
            "linecolor": "white",
            "ticks": ""
           },
           "bgcolor": "#E5ECF6",
           "caxis": {
            "gridcolor": "white",
            "linecolor": "white",
            "ticks": ""
           }
          },
          "title": {
           "x": 0.05
          },
          "xaxis": {
           "automargin": true,
           "gridcolor": "white",
           "linecolor": "white",
           "ticks": "",
           "title": {
            "standoff": 15
           },
           "zerolinecolor": "white",
           "zerolinewidth": 2
          },
          "yaxis": {
           "automargin": true,
           "gridcolor": "white",
           "linecolor": "white",
           "ticks": "",
           "title": {
            "standoff": 15
           },
           "zerolinecolor": "white",
           "zerolinewidth": 2
          }
         }
        },
        "title": {
         "text": "Зависимость средней абсолютной ошибки<br>от вида последовательности"
        },
        "width": 1280,
        "xaxis": {
         "title": {
          "text": "Вид последовательности"
         }
        },
        "yaxis": {
         "title": {
          "text": "Средняя абсолютная ошибка"
         }
        }
       }
      }
     },
     "metadata": {},
     "output_type": "display_data"
    }
   ],
   "source": [
    "# Построение графика\n",
    "fig = go.Figure()\n",
    "fig.add_trace(\n",
    "    go.Scatter(x=all_sequences, y=all_mapes, name=\"Все наблюдения\", mode=\"markers\")\n",
    ")\n",
    "fig.add_trace(\n",
    "    go.Scatter(x=list(sequence_generators.keys()), y=mapes_mean, name=\"Средние значения\", mode=\"markers\")\n",
    ")\n",
    "fig.update_layout(\n",
    "    title=\"Зависимость средней абсолютной ошибки<br>от вида последовательности\",\n",
    "    font=dict(size=20),\n",
    "    xaxis=dict(title=\"Вид последовательности\"),\n",
    "    yaxis=dict(title=\"Средняя абсолютная ошибка\"),\n",
    "    width=1280,\n",
    "    height=720\n",
    ")\n",
    "fig.show()"
   ]
  },
  {
   "cell_type": "code",
   "execution_count": 48,
   "metadata": {},
   "outputs": [
    {
     "name": "stdout",
     "output_type": "stream",
     "text": [
      "TRAINING FINISHED\n",
      "Epoch 2000/2000, Loss: 0.075597\n",
      "MAPE: 2.774577%\n",
      "TEST\n",
      "Предсказания на тестовой выборке:\n",
      " [17.19924749 18.28864466 19.29795358]\n",
      "Истинное значение на тестовой выборке:\n",
      " [18 19 20]\n",
      "MAPE: 3.9009%\n"
     ]
    }
   ],
   "source": [
    "# Arithmetic\n",
    "seq_length = 20\n",
    "window_size = 5\n",
    "batch_size = 1\n",
    "hidden_size = 10\n",
    "output_size = 3\n",
    "\n",
    "sequence = list(arithmetic_progression(seq_length, 1, 1))\n",
    "X, y = create_sliding_window_batches(sequence, window_size, batch_size, output_size)\n",
    "\n",
    "verbosity = 5000\n",
    "model = GRUModel(window_size, hidden_size, output_size)\n",
    "\n",
    "# Параметры обучения\n",
    "lr = 1e-3\n",
    "epochs = 2000\n",
    "\n",
    "model.train(x=X, y=y, lr=lr, max_epochs=epochs, verbosity=verbosity)\n",
    "\n",
    "print('TEST')\n",
    "y_pred, _, _ = model.forward(X)\n",
    "print(\"Предсказания на тестовой выборке:\\n\", y_pred[-1][-1])\n",
    "print(\"Истинное значение на тестовой выборке:\\n\", y[-1][-1])\n",
    "print(f\"MAPE: {mape(y[-1][-1], y_pred[-1][-1]) * 100:.4f}%\")  "
   ]
  },
  {
   "cell_type": "code",
   "execution_count": 49,
   "metadata": {},
   "outputs": [
    {
     "name": "stdout",
     "output_type": "stream",
     "text": [
      "TRAINING FINISHED\n",
      "Epoch 2000/2000, Loss: 14.883284\n",
      "MAPE: 5.824914%\n",
      "TEST\n",
      "Предсказания на тестовой выборке:\n",
      " [141.2765023  228.73504274 370.11261634]\n",
      "Истинное значение на тестовой выборке:\n",
      " [144 233 377]\n",
      "MAPE: 1.8496%\n"
     ]
    }
   ],
   "source": [
    "# Fibonacci\n",
    "seq_length = 15\n",
    "window_size = 5\n",
    "batch_size = 1\n",
    "hidden_size = 10\n",
    "output_size = 3\n",
    "\n",
    "sequence = list(fibonacci_generator(seq_length))\n",
    "X, y = create_sliding_window_batches(sequence, window_size, batch_size, output_size)\n",
    "\n",
    "verbosity = 5000\n",
    "model = GRUModel(window_size, hidden_size, output_size)\n",
    "\n",
    "# Параметры обучения\n",
    "lr = 1e-3\n",
    "epochs = 2000\n",
    "\n",
    "model.train(x=X, y=y, lr=lr, max_epochs=epochs, verbosity=verbosity)\n",
    "\n",
    "print('TEST')\n",
    "y_pred, _, _ = model.forward(X)\n",
    "print(\"Предсказания на тестовой выборке:\\n\", y_pred[-1][-1])\n",
    "print(\"Истинное значение на тестовой выборке:\\n\", y[-1][-1])\n",
    "print(f\"MAPE: {mape(y[-1][-1], y_pred[-1][-1]) * 100:.4f}%\")"
   ]
  },
  {
   "cell_type": "code",
   "execution_count": 50,
   "metadata": {},
   "outputs": [
    {
     "name": "stdout",
     "output_type": "stream",
     "text": [
      "TRAINING FINISHED\n",
      "Epoch 2000/2000, Loss: 0.001188\n",
      "MAPE: 34.203959%\n",
      "TEST\n",
      "Предсказания на тестовой выборке:\n",
      " [0.0508449  0.05290368 0.03482916]\n",
      "Истинное значение на тестовой выборке:\n",
      " [0.05555556 0.05263158 0.05      ]\n",
      "MAPE: 13.1126%\n"
     ]
    }
   ],
   "source": [
    "# 1 / n\n",
    "seq_length = 20\n",
    "window_size = 5\n",
    "batch_size = 1\n",
    "hidden_size = 10\n",
    "output_size = 3\n",
    "\n",
    "sequence = list(one_by_n_generator(seq_length))\n",
    "X, y = create_sliding_window_batches(sequence, window_size, batch_size, output_size)\n",
    "\n",
    "verbosity = 5000\n",
    "model = GRUModel(window_size, hidden_size, output_size)\n",
    "\n",
    "# Параметры обучения\n",
    "lr = 1e-3\n",
    "epochs = 2000\n",
    "\n",
    "model.train(x=X, y=y, lr=lr, max_epochs=epochs, verbosity=verbosity)\n",
    "\n",
    "print('TEST')\n",
    "y_pred, _, _ = model.forward(X)\n",
    "print(\"Предсказания на тестовой выборке:\\n\", y_pred[-1][-1])\n",
    "print(\"Истинное значение на тестовой выборке:\\n\", y[-1][-1])\n",
    "print(f\"MAPE: {mape(y[-1][-1], y_pred[-1][-1]) * 100:.4f}%\")"
   ]
  },
  {
   "cell_type": "code",
   "execution_count": 51,
   "metadata": {},
   "outputs": [
    {
     "name": "stdout",
     "output_type": "stream",
     "text": [
      "Epoch 2000/2000, Loss: 0.243853\n",
      "MAPE: 68.737718%\n",
      "TRAINING FINISHED\n",
      "Epoch 2000/2000, Loss: 0.243743\n",
      "MAPE: 68.721470%\n",
      "TEST\n",
      "Предсказания на тестовой выборке:\n",
      " [-0.32862481  0.1850694  -0.46685774]\n",
      "Истинное значение на тестовой выборке:\n",
      " [-1  1 -1]\n",
      "MAPE: 67.3149%\n"
     ]
    }
   ],
   "source": [
    "# 1, -1, 1, -1, ...\n",
    "seq_length = 20\n",
    "window_size = 5\n",
    "batch_size = 1\n",
    "hidden_size = 10\n",
    "output_size = 3\n",
    "\n",
    "sequence = list(plus_one_minus_one_generator(seq_length))\n",
    "X, y = create_sliding_window_batches(sequence, window_size, batch_size, output_size)\n",
    "\n",
    "verbosity = 2000\n",
    "model = GRUModel(window_size, hidden_size, output_size)\n",
    "\n",
    "# Параметры обучения\n",
    "lr = 1e-3\n",
    "epochs = 2000\n",
    "\n",
    "model.train(x=X, y=y, lr=lr, max_epochs=epochs, verbosity=verbosity)\n",
    "\n",
    "print('TEST')\n",
    "y_pred, _, _ = model.forward(X)\n",
    "print(\"Предсказания на тестовой выборке:\\n\", y_pred[-1][-1])\n",
    "print(\"Истинное значение на тестовой выборке:\\n\", y[-1][-1])\n",
    "print(f\"MAPE: {mape(y[-1][-1], y_pred[-1][-1]) * 100:.4f}%\") "
   ]
  },
  {
   "cell_type": "code",
   "execution_count": 52,
   "metadata": {},
   "outputs": [
    {
     "name": "stdout",
     "output_type": "stream",
     "text": [
      "TRAINING FINISHED\n",
      "Epoch 2000/2000, Loss: 0.110145\n",
      "MAPE: 0.909499%\n",
      "TEST\n",
      "Предсказания на тестовой выборке:\n",
      " [64.01295662 80.92381294 99.97013976]\n",
      "Истинное значение на тестовой выборке:\n",
      " [ 64  81 100]\n",
      "MAPE: 0.0481%\n"
     ]
    }
   ],
   "source": [
    "# n ** 2\n",
    "seq_length = 10\n",
    "window_size = 3\n",
    "batch_size = 1\n",
    "hidden_size = 10\n",
    "output_size = 3\n",
    "\n",
    "sequence = list(squared_generator(seq_length))\n",
    "X, y = create_sliding_window_batches(sequence, window_size, batch_size, output_size)\n",
    "\n",
    "verbosity = 5000\n",
    "model = GRUModel(window_size, hidden_size, output_size)\n",
    "\n",
    "# Параметры обучения\n",
    "lr = 1e-3\n",
    "epochs = 2000\n",
    "\n",
    "model.train(x=X, y=y, lr=lr, max_epochs=epochs, verbosity=verbosity)\n",
    "\n",
    "print('TEST')\n",
    "y_pred, _, _ = model.forward(X)\n",
    "print(\"Предсказания на тестовой выборке:\\n\", y_pred[-1][-1])\n",
    "print(\"Истинное значение на тестовой выборке:\\n\", y[-1][-1])\n",
    "print(f\"MAPE: {mape(y[-1][-1], y_pred[-1][-1]) * 100:.4f}%\") "
   ]
  }
 ],
 "metadata": {
  "kernelspec": {
   "display_name": ".venv",
   "language": "python",
   "name": "python3"
  },
  "language_info": {
   "codemirror_mode": {
    "name": "ipython",
    "version": 3
   },
   "file_extension": ".py",
   "mimetype": "text/x-python",
   "name": "python",
   "nbconvert_exporter": "python",
   "pygments_lexer": "ipython3",
   "version": "3.11.9"
  }
 },
 "nbformat": 4,
 "nbformat_minor": 2
}
