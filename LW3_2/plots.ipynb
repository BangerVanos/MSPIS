{
 "cells": [
  {
   "cell_type": "code",
   "execution_count": 1,
   "metadata": {},
   "outputs": [],
   "source": [
    "# Лабораторная работа 3 по дисциплине МРЗвИС\n",
    "# Выполнена студентом группы 121702\n",
    "# БГУИР Заломов Роман Андреевич\n",
    "#\n",
    "# Вариант 15: Реализовать модель рекуррентной сети с цепью нейросетевых моделей управляемых рекуррентных блоков \n",
    "# с логарифмической функцией активации (гиперболический арксинус) выходного сигнала на скрытом слое\n",
    "#\n",
    "# 24.12.24\n",
    "# Данный файл содержит код построения графиков различных зависимостей"
   ]
  },
  {
   "cell_type": "code",
   "execution_count": 2,
   "metadata": {},
   "outputs": [],
   "source": [
    "import numpy as np\n",
    "from gru import (\n",
    "    GRUModel,\n",
    "    fibonacci_generator,\n",
    "    one_by_n_generator,\n",
    "    plus_one_minus_one_generator,\n",
    "    squared_generator,\n",
    "    half_generator,\n",
    "    arithmetic_progression,\n",
    "    create_sliding_window_batches,\n",
    "    one_half_generator,\n",
    "    sin_generator,    \n",
    "    mape\n",
    ")\n",
    "from gru_with_adam import GRUAdam\n",
    "import plotly.graph_objects as go\n",
    "from math import pi"
   ]
  },
  {
   "cell_type": "code",
   "execution_count": 3,
   "metadata": {},
   "outputs": [],
   "source": [
    "def scale_sequence(sequence):\n",
    "    mean = np.mean(sequence)\n",
    "    deviation = np.std(sequence)    \n",
    "    scaled = (np.array(sequence) - mean) / deviation    \n",
    "    return scaled, mean, deviation\n",
    "\n",
    "def descale_sequence(scaled, mean, deviation):\n",
    "    descaled = scaled * deviation + mean\n",
    "    return descaled\n",
    "\n",
    "def predict_next_n_elements(sequence, window_size, batch_size, hidden_size, n,\n",
    "                            max_epochs, verbosity, lr, use_adam: bool = False):\n",
    "    scaled, mean, deviation = scale_sequence(sequence)        \n",
    "    # scaled = sequence  \n",
    "    X, y = create_sliding_window_batches(scaled, window_size, batch_size, n)\n",
    "    if not use_adam:\n",
    "        model = GRUModel(window_size, hidden_size, n)\n",
    "    else:\n",
    "        model = GRUAdam(window_size, hidden_size, n)\n",
    "    model.train(X, y, lr, max_epochs, verbosity=verbosity)\n",
    "    train_pred, _, _ = model.forward(X)\n",
    "    training_mape = mape(y, train_pred)           \n",
    "    x_last = np.vstack(tuple(scaled[-window_size:] for _ in range(batch_size)))\n",
    "    x_last = np.expand_dims(x_last, axis=0)    \n",
    "    pred, _, _ = model.forward(x_last)\n",
    "    descaled_pred = descale_sequence(pred[-1][-1], mean, deviation)\n",
    "    # descaled_pred = pred[-1][-1]\n",
    "    return training_mape, model, descaled_pred, mean, deviation"
   ]
  },
  {
   "cell_type": "code",
   "execution_count": 17,
   "metadata": {},
   "outputs": [
    {
     "name": "stdout",
     "output_type": "stream",
     "text": [
      "TRAINING FINISHED\n",
      "Epoch 100/100, Loss: 0.413583\n",
      "MAPE: 0.875836\n",
      "TRAINING FINISHED\n",
      "Epoch 100/100, Loss: 0.412435\n",
      "MAPE: 0.878887\n",
      "TRAINING FINISHED\n",
      "Epoch 100/100, Loss: 0.402150\n",
      "MAPE: 0.866519\n",
      "TRAINING FINISHED\n",
      "Epoch 100/100, Loss: 0.396965\n",
      "MAPE: 0.834600\n",
      "TRAINING FINISHED\n",
      "Epoch 100/100, Loss: 0.408666\n",
      "MAPE: 0.840113\n",
      "TRAINING FINISHED\n",
      "Epoch 200/200, Loss: 0.329652\n",
      "MAPE: 0.748664\n",
      "TRAINING FINISHED\n",
      "Epoch 200/200, Loss: 0.316063\n",
      "MAPE: 0.706690\n",
      "TRAINING FINISHED\n",
      "Epoch 200/200, Loss: 0.294389\n",
      "MAPE: 0.707296\n",
      "TRAINING FINISHED\n",
      "Epoch 200/200, Loss: 0.322457\n",
      "MAPE: 0.782993\n",
      "TRAINING FINISHED\n",
      "Epoch 200/200, Loss: 0.289987\n",
      "MAPE: 0.714173\n",
      "TRAINING FINISHED\n",
      "Epoch 300/300, Loss: 0.296166\n",
      "MAPE: 0.776401\n",
      "TRAINING FINISHED\n",
      "Epoch 300/300, Loss: 0.216418\n",
      "MAPE: 0.593974\n",
      "TRAINING FINISHED\n",
      "Epoch 300/300, Loss: 0.246362\n",
      "MAPE: 0.634782\n",
      "TRAINING FINISHED\n",
      "Epoch 300/300, Loss: 0.207311\n",
      "MAPE: 0.582617\n",
      "TRAINING FINISHED\n",
      "Epoch 300/300, Loss: 0.298528\n",
      "MAPE: 0.702845\n",
      "TRAINING FINISHED\n",
      "Epoch 400/400, Loss: 0.182232\n",
      "MAPE: 0.550925\n",
      "TRAINING FINISHED\n",
      "Epoch 400/400, Loss: 0.192905\n",
      "MAPE: 0.586769\n",
      "TRAINING FINISHED\n",
      "Epoch 400/400, Loss: 0.165036\n",
      "MAPE: 0.514223\n",
      "TRAINING FINISHED\n",
      "Epoch 400/400, Loss: 0.110824\n",
      "MAPE: 0.441576\n",
      "TRAINING FINISHED\n",
      "Epoch 400/400, Loss: 0.176233\n",
      "MAPE: 0.549674\n",
      "TRAINING FINISHED\n",
      "Epoch 500/500, Loss: 0.120687\n",
      "MAPE: 0.474243\n",
      "TRAINING FINISHED\n",
      "Epoch 500/500, Loss: 0.090255\n",
      "MAPE: 0.413579\n",
      "TRAINING FINISHED\n",
      "Epoch 500/500, Loss: 0.093356\n",
      "MAPE: 0.389117\n",
      "TRAINING FINISHED\n",
      "Epoch 500/500, Loss: 0.118986\n",
      "MAPE: 0.455423\n",
      "TRAINING FINISHED\n",
      "Epoch 500/500, Loss: 0.147798\n",
      "MAPE: 0.596613\n",
      "TRAINING FINISHED\n",
      "Epoch 600/600, Loss: 0.056498\n",
      "MAPE: 0.322323\n",
      "TRAINING FINISHED\n",
      "Epoch 600/600, Loss: 0.060632\n",
      "MAPE: 0.354816\n",
      "TRAINING FINISHED\n",
      "Epoch 600/600, Loss: 0.074670\n",
      "MAPE: 0.375169\n",
      "TRAINING FINISHED\n",
      "Epoch 600/600, Loss: 0.096419\n",
      "MAPE: 0.432031\n",
      "TRAINING FINISHED\n",
      "Epoch 600/600, Loss: 0.046876\n",
      "MAPE: 0.325182\n",
      "TRAINING FINISHED\n",
      "Epoch 700/700, Loss: 0.028658\n",
      "MAPE: 0.234685\n",
      "TRAINING FINISHED\n",
      "Epoch 700/700, Loss: 0.049292\n",
      "MAPE: 0.340679\n",
      "TRAINING FINISHED\n",
      "Epoch 700/700, Loss: 0.067627\n",
      "MAPE: 0.378636\n",
      "TRAINING FINISHED\n",
      "Epoch 700/700, Loss: 0.045865\n",
      "MAPE: 0.277614\n",
      "TRAINING FINISHED\n",
      "Epoch 700/700, Loss: 0.039787\n",
      "MAPE: 0.293293\n",
      "TRAINING FINISHED\n",
      "Epoch 800/800, Loss: 0.039340\n",
      "MAPE: 0.299798\n",
      "TRAINING FINISHED\n",
      "Epoch 800/800, Loss: 0.034215\n",
      "MAPE: 0.263007\n",
      "TRAINING FINISHED\n",
      "Epoch 800/800, Loss: 0.029766\n",
      "MAPE: 0.256764\n",
      "TRAINING FINISHED\n",
      "Epoch 800/800, Loss: 0.028036\n",
      "MAPE: 0.262853\n",
      "TRAINING FINISHED\n",
      "Epoch 800/800, Loss: 0.030601\n",
      "MAPE: 0.284039\n",
      "TRAINING FINISHED\n",
      "Epoch 900/900, Loss: 0.024847\n",
      "MAPE: 0.246899\n",
      "TRAINING FINISHED\n",
      "Epoch 900/900, Loss: 0.019170\n",
      "MAPE: 0.216949\n",
      "TRAINING FINISHED\n",
      "Epoch 900/900, Loss: 0.018118\n",
      "MAPE: 0.197970\n",
      "TRAINING FINISHED\n",
      "Epoch 900/900, Loss: 0.022661\n",
      "MAPE: 0.251561\n",
      "TRAINING FINISHED\n",
      "Epoch 900/900, Loss: 0.020577\n",
      "MAPE: 0.239535\n",
      "TRAINING FINISHED\n",
      "Epoch 1000/1000, Loss: 0.016092\n",
      "MAPE: 0.215890\n",
      "TRAINING FINISHED\n",
      "Epoch 1000/1000, Loss: 0.016578\n",
      "MAPE: 0.207878\n",
      "TRAINING FINISHED\n",
      "Epoch 1000/1000, Loss: 0.015200\n",
      "MAPE: 0.192708\n",
      "TRAINING FINISHED\n",
      "Epoch 1000/1000, Loss: 0.020542\n",
      "MAPE: 0.244337\n",
      "TRAINING FINISHED\n",
      "Epoch 1000/1000, Loss: 0.019667\n",
      "MAPE: 0.231317\n",
      "TRAINING FINISHED\n",
      "Epoch 1100/1100, Loss: 0.019124\n",
      "MAPE: 0.205189\n",
      "TRAINING FINISHED\n",
      "Epoch 1100/1100, Loss: 0.017564\n",
      "MAPE: 0.217802\n",
      "TRAINING FINISHED\n",
      "Epoch 1100/1100, Loss: 0.013617\n",
      "MAPE: 0.188869\n",
      "TRAINING FINISHED\n",
      "Epoch 1100/1100, Loss: 0.015995\n",
      "MAPE: 0.206071\n",
      "TRAINING FINISHED\n",
      "Epoch 1100/1100, Loss: 0.016008\n",
      "MAPE: 0.213218\n",
      "TRAINING FINISHED\n",
      "Epoch 1200/1200, Loss: 0.012311\n",
      "MAPE: 0.181770\n",
      "TRAINING FINISHED\n",
      "Epoch 1200/1200, Loss: 0.015802\n",
      "MAPE: 0.208422\n",
      "TRAINING FINISHED\n",
      "Epoch 1200/1200, Loss: 0.012587\n",
      "MAPE: 0.181212\n",
      "TRAINING FINISHED\n",
      "Epoch 1200/1200, Loss: 0.010951\n",
      "MAPE: 0.164560\n",
      "TRAINING FINISHED\n",
      "Epoch 1200/1200, Loss: 0.015748\n",
      "MAPE: 0.206663\n",
      "TRAINING FINISHED\n",
      "Epoch 1300/1300, Loss: 0.015551\n",
      "MAPE: 0.187440\n",
      "TRAINING FINISHED\n",
      "Epoch 1300/1300, Loss: 0.019225\n",
      "MAPE: 0.242150\n",
      "TRAINING FINISHED\n",
      "Epoch 1300/1300, Loss: 0.013585\n",
      "MAPE: 0.196170\n",
      "TRAINING FINISHED\n",
      "Epoch 1300/1300, Loss: 0.014165\n",
      "MAPE: 0.190247\n",
      "TRAINING FINISHED\n",
      "Epoch 1300/1300, Loss: 0.017357\n",
      "MAPE: 0.214571\n",
      "TRAINING FINISHED\n",
      "Epoch 1400/1400, Loss: 0.012912\n",
      "MAPE: 0.195248\n",
      "TRAINING FINISHED\n",
      "Epoch 1400/1400, Loss: 0.014969\n",
      "MAPE: 0.188725\n",
      "TRAINING FINISHED\n",
      "Epoch 1400/1400, Loss: 0.015214\n",
      "MAPE: 0.204919\n",
      "TRAINING FINISHED\n",
      "Epoch 1400/1400, Loss: 0.011528\n",
      "MAPE: 0.174648\n",
      "TRAINING FINISHED\n",
      "Epoch 1400/1400, Loss: 0.012725\n",
      "MAPE: 0.179123\n",
      "TRAINING FINISHED\n",
      "Epoch 1500/1500, Loss: 0.011902\n",
      "MAPE: 0.201162\n",
      "TRAINING FINISHED\n",
      "Epoch 1500/1500, Loss: 0.012943\n",
      "MAPE: 0.191664\n",
      "TRAINING FINISHED\n",
      "Epoch 1500/1500, Loss: 0.012618\n",
      "MAPE: 0.187295\n",
      "TRAINING FINISHED\n",
      "Epoch 1500/1500, Loss: 0.011620\n",
      "MAPE: 0.180221\n",
      "TRAINING FINISHED\n",
      "Epoch 1500/1500, Loss: 0.014591\n",
      "MAPE: 0.199445\n",
      "TRAINING FINISHED\n",
      "Epoch 1600/1600, Loss: 0.012667\n",
      "MAPE: 0.185988\n",
      "TRAINING FINISHED\n",
      "Epoch 1600/1600, Loss: 0.011728\n",
      "MAPE: 0.179808\n",
      "TRAINING FINISHED\n",
      "Epoch 1600/1600, Loss: 0.014076\n",
      "MAPE: 0.204100\n",
      "TRAINING FINISHED\n",
      "Epoch 1600/1600, Loss: 0.011642\n",
      "MAPE: 0.184527\n",
      "TRAINING FINISHED\n",
      "Epoch 1600/1600, Loss: 0.010066\n",
      "MAPE: 0.175171\n",
      "TRAINING FINISHED\n",
      "Epoch 1700/1700, Loss: 0.010293\n",
      "MAPE: 0.169221\n",
      "TRAINING FINISHED\n",
      "Epoch 1700/1700, Loss: 0.012701\n",
      "MAPE: 0.190465\n",
      "TRAINING FINISHED\n",
      "Epoch 1700/1700, Loss: 0.011555\n",
      "MAPE: 0.180982\n",
      "TRAINING FINISHED\n",
      "Epoch 1700/1700, Loss: 0.012666\n",
      "MAPE: 0.179697\n",
      "TRAINING FINISHED\n",
      "Epoch 1700/1700, Loss: 0.011915\n",
      "MAPE: 0.199042\n",
      "TRAINING FINISHED\n",
      "Epoch 1800/1800, Loss: 0.010697\n",
      "MAPE: 0.167396\n",
      "TRAINING FINISHED\n",
      "Epoch 1800/1800, Loss: 0.011062\n",
      "MAPE: 0.167053\n",
      "TRAINING FINISHED\n",
      "Epoch 1800/1800, Loss: 0.010631\n",
      "MAPE: 0.175949\n",
      "TRAINING FINISHED\n",
      "Epoch 1800/1800, Loss: 0.010434\n",
      "MAPE: 0.162905\n",
      "TRAINING FINISHED\n",
      "Epoch 1800/1800, Loss: 0.011145\n",
      "MAPE: 0.183479\n",
      "TRAINING FINISHED\n",
      "Epoch 1900/1900, Loss: 0.008351\n",
      "MAPE: 0.156651\n",
      "TRAINING FINISHED\n",
      "Epoch 1900/1900, Loss: 0.010920\n",
      "MAPE: 0.151907\n",
      "TRAINING FINISHED\n",
      "Epoch 1900/1900, Loss: 0.010378\n",
      "MAPE: 0.170470\n",
      "TRAINING FINISHED\n",
      "Epoch 1900/1900, Loss: 0.009074\n",
      "MAPE: 0.153324\n",
      "TRAINING FINISHED\n",
      "Epoch 1900/1900, Loss: 0.011905\n",
      "MAPE: 0.183389\n",
      "TRAINING FINISHED\n",
      "Epoch 2000/2000, Loss: 0.009237\n",
      "MAPE: 0.160453\n",
      "TRAINING FINISHED\n",
      "Epoch 2000/2000, Loss: 0.010597\n",
      "MAPE: 0.171183\n",
      "TRAINING FINISHED\n",
      "Epoch 2000/2000, Loss: 0.009091\n",
      "MAPE: 0.151567\n",
      "TRAINING FINISHED\n",
      "Epoch 2000/2000, Loss: 0.009365\n",
      "MAPE: 0.151675\n",
      "TRAINING FINISHED\n",
      "Epoch 2000/2000, Loss: 0.011208\n",
      "MAPE: 0.165483\n"
     ]
    }
   ],
   "source": [
    "experiments_amount = 5\n",
    "# epochs = np.linspace(1000, 35000, endpoint=True, num=10).astype(np.int32).tolist()\n",
    "epochs = list(range(100, 2100, 100))\n",
    "\n",
    "# np.random.seed(12345)\n",
    "\n",
    "all_mapes = []\n",
    "mapes_mean = []\n",
    "\n",
    "all_epochs: list[int] = []\n",
    "\n",
    "seq_length = 20\n",
    "window_size = 5\n",
    "batch_size = 2\n",
    "hidden_size = 20\n",
    "output_size = 3\n",
    "\n",
    "verbosity = 100000\n",
    "lr = 1e-2\n",
    "use_adam = False\n",
    "\n",
    "sequence = list(sin_generator(seq_length + output_size, alpha=10, beta=pi/4, omega=pi/6))\n",
    "\n",
    "for max_epochs in epochs:    \n",
    "\n",
    "    # Training network for five times\n",
    "    mapes_sum = 0    \n",
    "    for _ in range(experiments_amount):        \n",
    "        train_sequence = sequence[:seq_length]\n",
    "        test_sequence = sequence[-output_size:]\n",
    "        training_mape, model, next_n_pred, mean, deviation = predict_next_n_elements(\n",
    "            train_sequence, window_size, batch_size,\n",
    "            hidden_size, output_size, max_epochs,\n",
    "            verbosity, lr, use_adam=use_adam\n",
    "        )\n",
    "        all_epochs.append(max_epochs)\n",
    "\n",
    "        # Test sequence mape\n",
    "        test_sequence = sequence[-output_size:]\n",
    "        test_mape = mape(test_sequence, next_n_pred)\n",
    "        mapes_sum += test_mape    \n",
    "        all_mapes.append(test_mape)\n",
    "            \n",
    "\n",
    "    # Average mape for epochs amount\n",
    "    mapes_mean.append(mapes_sum / experiments_amount)"
   ]
  },
  {
   "cell_type": "code",
   "execution_count": 5,
   "metadata": {},
   "outputs": [
    {
     "data": {
      "application/vnd.plotly.v1+json": {
       "config": {
        "plotlyServerURL": "https://plot.ly"
       },
       "data": [
        {
         "mode": "markers",
         "name": "Все наблюдения",
         "type": "scatter",
         "x": [
          100,
          100,
          100,
          100,
          100,
          200,
          200,
          200,
          200,
          200,
          300,
          300,
          300,
          300,
          300,
          400,
          400,
          400,
          400,
          400,
          500,
          500,
          500,
          500,
          500,
          600,
          600,
          600,
          600,
          600,
          700,
          700,
          700,
          700,
          700,
          800,
          800,
          800,
          800,
          800,
          900,
          900,
          900,
          900,
          900,
          1000,
          1000,
          1000,
          1000,
          1000,
          1100,
          1100,
          1100,
          1100,
          1100,
          1200,
          1200,
          1200,
          1200,
          1200,
          1300,
          1300,
          1300,
          1300,
          1300,
          1400,
          1400,
          1400,
          1400,
          1400,
          1500,
          1500,
          1500,
          1500,
          1500,
          1600,
          1600,
          1600,
          1600,
          1600,
          1700,
          1700,
          1700,
          1700,
          1700,
          1800,
          1800,
          1800,
          1800,
          1800,
          1900,
          1900,
          1900,
          1900,
          1900,
          2000,
          2000,
          2000,
          2000,
          2000
         ],
         "y": [
          1.1365924761392898,
          1.165098027736436,
          1.1358436353751482,
          1.1810369848924605,
          1.127387122260025,
          1.116831262904304,
          0.9736461545633969,
          1.032253617441963,
          1.0604947123145536,
          1.136072768837086,
          1.0499212748191653,
          1.063031004920947,
          1.0040946115781841,
          0.9055140660840979,
          0.9180118661074744,
          1.013716653565262,
          0.9648910894338222,
          0.8966982153728359,
          0.8800541184061109,
          0.9821032988119415,
          0.8644537547404981,
          0.8519502397140681,
          0.7478629077237416,
          0.8152138592474082,
          0.896135623308702,
          0.7411761992364281,
          0.7497553111534536,
          0.7757230040244428,
          0.6499977434446046,
          0.8284258391421403,
          0.5711094001923219,
          0.6679140226009445,
          0.7580514827211083,
          0.7552333331492981,
          0.5911627791145122,
          0.5971732878645303,
          0.6084419296891835,
          0.5876930482373495,
          0.41549906211342374,
          0.632598233707915,
          0.5582678383434309,
          0.4133360605529579,
          0.525257873958319,
          0.6105660583633337,
          0.44139006288466986,
          0.35260587878046606,
          0.5393379094256456,
          0.407880055229646,
          0.6755313778581535,
          0.4699674241523674,
          0.3984540945823323,
          0.2947579861505114,
          0.49915795791467515,
          0.36992866216022824,
          0.348607258038441,
          0.5022577234820892,
          0.28043057809734306,
          0.3382962126958127,
          0.3691992321579864,
          0.29116389756966554,
          0.3983540554612157,
          0.33145513328319026,
          0.4190449593288861,
          0.4005965704751029,
          0.2930102201734936,
          0.33301678763579406,
          0.34241317622732476,
          0.4643319845422393,
          0.43450352254433144,
          0.3634745274023518,
          0.3577022012729834,
          0.375900258109166,
          0.27961480957804574,
          0.2843932777017463,
          0.27473449317125676,
          0.3308483671426505,
          0.37251872320637763,
          0.3624565360114902,
          0.2587423662300319,
          0.3089344434609697,
          0.2393279707677641,
          0.34217453001065645,
          0.34367691219547297,
          0.37007654543945273,
          0.4185012169212172,
          0.3324811504073087,
          0.280923791933855,
          0.33471018547196235,
          0.2992899309410888,
          0.37585812538042324,
          0.34777227230264973,
          0.32742440521895605,
          0.31193344822803487,
          0.2688923752909449,
          0.33564048715176903,
          0.31339535495963294,
          0.2925325466485313,
          0.37325650744029953,
          0.32016046694624856,
          0.37562492354748334
         ]
        },
        {
         "mode": "lines+markers",
         "name": "Средние значения",
         "type": "scatter",
         "x": [
          100,
          200,
          300,
          400,
          500,
          600,
          700,
          800,
          900,
          1000,
          1100,
          1200,
          1300,
          1400,
          1500,
          1600,
          1700,
          1800,
          1900,
          2000
         ],
         "y": [
          1.149191649280672,
          1.0638597032122605,
          0.9881145647019738,
          0.9474926751179945,
          0.8351232769468837,
          0.7490156194002139,
          0.6686942035556369,
          0.5682811123224804,
          0.5097635788205424,
          0.48906452908925574,
          0.3821811917692376,
          0.3562695288005794,
          0.36849218774437775,
          0.38754799967040826,
          0.3144690079666396,
          0.32670008721030397,
          0.3427514350669127,
          0.32465263682692763,
          0.31833259763847094,
          0.33499395990843917
         ]
        }
       ],
       "layout": {
        "font": {
         "size": 20
        },
        "height": 720,
        "template": {
         "data": {
          "bar": [
           {
            "error_x": {
             "color": "#2a3f5f"
            },
            "error_y": {
             "color": "#2a3f5f"
            },
            "marker": {
             "line": {
              "color": "#E5ECF6",
              "width": 0.5
             },
             "pattern": {
              "fillmode": "overlay",
              "size": 10,
              "solidity": 0.2
             }
            },
            "type": "bar"
           }
          ],
          "barpolar": [
           {
            "marker": {
             "line": {
              "color": "#E5ECF6",
              "width": 0.5
             },
             "pattern": {
              "fillmode": "overlay",
              "size": 10,
              "solidity": 0.2
             }
            },
            "type": "barpolar"
           }
          ],
          "carpet": [
           {
            "aaxis": {
             "endlinecolor": "#2a3f5f",
             "gridcolor": "white",
             "linecolor": "white",
             "minorgridcolor": "white",
             "startlinecolor": "#2a3f5f"
            },
            "baxis": {
             "endlinecolor": "#2a3f5f",
             "gridcolor": "white",
             "linecolor": "white",
             "minorgridcolor": "white",
             "startlinecolor": "#2a3f5f"
            },
            "type": "carpet"
           }
          ],
          "choropleth": [
           {
            "colorbar": {
             "outlinewidth": 0,
             "ticks": ""
            },
            "type": "choropleth"
           }
          ],
          "contour": [
           {
            "colorbar": {
             "outlinewidth": 0,
             "ticks": ""
            },
            "colorscale": [
             [
              0,
              "#0d0887"
             ],
             [
              0.1111111111111111,
              "#46039f"
             ],
             [
              0.2222222222222222,
              "#7201a8"
             ],
             [
              0.3333333333333333,
              "#9c179e"
             ],
             [
              0.4444444444444444,
              "#bd3786"
             ],
             [
              0.5555555555555556,
              "#d8576b"
             ],
             [
              0.6666666666666666,
              "#ed7953"
             ],
             [
              0.7777777777777778,
              "#fb9f3a"
             ],
             [
              0.8888888888888888,
              "#fdca26"
             ],
             [
              1,
              "#f0f921"
             ]
            ],
            "type": "contour"
           }
          ],
          "contourcarpet": [
           {
            "colorbar": {
             "outlinewidth": 0,
             "ticks": ""
            },
            "type": "contourcarpet"
           }
          ],
          "heatmap": [
           {
            "colorbar": {
             "outlinewidth": 0,
             "ticks": ""
            },
            "colorscale": [
             [
              0,
              "#0d0887"
             ],
             [
              0.1111111111111111,
              "#46039f"
             ],
             [
              0.2222222222222222,
              "#7201a8"
             ],
             [
              0.3333333333333333,
              "#9c179e"
             ],
             [
              0.4444444444444444,
              "#bd3786"
             ],
             [
              0.5555555555555556,
              "#d8576b"
             ],
             [
              0.6666666666666666,
              "#ed7953"
             ],
             [
              0.7777777777777778,
              "#fb9f3a"
             ],
             [
              0.8888888888888888,
              "#fdca26"
             ],
             [
              1,
              "#f0f921"
             ]
            ],
            "type": "heatmap"
           }
          ],
          "heatmapgl": [
           {
            "colorbar": {
             "outlinewidth": 0,
             "ticks": ""
            },
            "colorscale": [
             [
              0,
              "#0d0887"
             ],
             [
              0.1111111111111111,
              "#46039f"
             ],
             [
              0.2222222222222222,
              "#7201a8"
             ],
             [
              0.3333333333333333,
              "#9c179e"
             ],
             [
              0.4444444444444444,
              "#bd3786"
             ],
             [
              0.5555555555555556,
              "#d8576b"
             ],
             [
              0.6666666666666666,
              "#ed7953"
             ],
             [
              0.7777777777777778,
              "#fb9f3a"
             ],
             [
              0.8888888888888888,
              "#fdca26"
             ],
             [
              1,
              "#f0f921"
             ]
            ],
            "type": "heatmapgl"
           }
          ],
          "histogram": [
           {
            "marker": {
             "pattern": {
              "fillmode": "overlay",
              "size": 10,
              "solidity": 0.2
             }
            },
            "type": "histogram"
           }
          ],
          "histogram2d": [
           {
            "colorbar": {
             "outlinewidth": 0,
             "ticks": ""
            },
            "colorscale": [
             [
              0,
              "#0d0887"
             ],
             [
              0.1111111111111111,
              "#46039f"
             ],
             [
              0.2222222222222222,
              "#7201a8"
             ],
             [
              0.3333333333333333,
              "#9c179e"
             ],
             [
              0.4444444444444444,
              "#bd3786"
             ],
             [
              0.5555555555555556,
              "#d8576b"
             ],
             [
              0.6666666666666666,
              "#ed7953"
             ],
             [
              0.7777777777777778,
              "#fb9f3a"
             ],
             [
              0.8888888888888888,
              "#fdca26"
             ],
             [
              1,
              "#f0f921"
             ]
            ],
            "type": "histogram2d"
           }
          ],
          "histogram2dcontour": [
           {
            "colorbar": {
             "outlinewidth": 0,
             "ticks": ""
            },
            "colorscale": [
             [
              0,
              "#0d0887"
             ],
             [
              0.1111111111111111,
              "#46039f"
             ],
             [
              0.2222222222222222,
              "#7201a8"
             ],
             [
              0.3333333333333333,
              "#9c179e"
             ],
             [
              0.4444444444444444,
              "#bd3786"
             ],
             [
              0.5555555555555556,
              "#d8576b"
             ],
             [
              0.6666666666666666,
              "#ed7953"
             ],
             [
              0.7777777777777778,
              "#fb9f3a"
             ],
             [
              0.8888888888888888,
              "#fdca26"
             ],
             [
              1,
              "#f0f921"
             ]
            ],
            "type": "histogram2dcontour"
           }
          ],
          "mesh3d": [
           {
            "colorbar": {
             "outlinewidth": 0,
             "ticks": ""
            },
            "type": "mesh3d"
           }
          ],
          "parcoords": [
           {
            "line": {
             "colorbar": {
              "outlinewidth": 0,
              "ticks": ""
             }
            },
            "type": "parcoords"
           }
          ],
          "pie": [
           {
            "automargin": true,
            "type": "pie"
           }
          ],
          "scatter": [
           {
            "fillpattern": {
             "fillmode": "overlay",
             "size": 10,
             "solidity": 0.2
            },
            "type": "scatter"
           }
          ],
          "scatter3d": [
           {
            "line": {
             "colorbar": {
              "outlinewidth": 0,
              "ticks": ""
             }
            },
            "marker": {
             "colorbar": {
              "outlinewidth": 0,
              "ticks": ""
             }
            },
            "type": "scatter3d"
           }
          ],
          "scattercarpet": [
           {
            "marker": {
             "colorbar": {
              "outlinewidth": 0,
              "ticks": ""
             }
            },
            "type": "scattercarpet"
           }
          ],
          "scattergeo": [
           {
            "marker": {
             "colorbar": {
              "outlinewidth": 0,
              "ticks": ""
             }
            },
            "type": "scattergeo"
           }
          ],
          "scattergl": [
           {
            "marker": {
             "colorbar": {
              "outlinewidth": 0,
              "ticks": ""
             }
            },
            "type": "scattergl"
           }
          ],
          "scattermapbox": [
           {
            "marker": {
             "colorbar": {
              "outlinewidth": 0,
              "ticks": ""
             }
            },
            "type": "scattermapbox"
           }
          ],
          "scatterpolar": [
           {
            "marker": {
             "colorbar": {
              "outlinewidth": 0,
              "ticks": ""
             }
            },
            "type": "scatterpolar"
           }
          ],
          "scatterpolargl": [
           {
            "marker": {
             "colorbar": {
              "outlinewidth": 0,
              "ticks": ""
             }
            },
            "type": "scatterpolargl"
           }
          ],
          "scatterternary": [
           {
            "marker": {
             "colorbar": {
              "outlinewidth": 0,
              "ticks": ""
             }
            },
            "type": "scatterternary"
           }
          ],
          "surface": [
           {
            "colorbar": {
             "outlinewidth": 0,
             "ticks": ""
            },
            "colorscale": [
             [
              0,
              "#0d0887"
             ],
             [
              0.1111111111111111,
              "#46039f"
             ],
             [
              0.2222222222222222,
              "#7201a8"
             ],
             [
              0.3333333333333333,
              "#9c179e"
             ],
             [
              0.4444444444444444,
              "#bd3786"
             ],
             [
              0.5555555555555556,
              "#d8576b"
             ],
             [
              0.6666666666666666,
              "#ed7953"
             ],
             [
              0.7777777777777778,
              "#fb9f3a"
             ],
             [
              0.8888888888888888,
              "#fdca26"
             ],
             [
              1,
              "#f0f921"
             ]
            ],
            "type": "surface"
           }
          ],
          "table": [
           {
            "cells": {
             "fill": {
              "color": "#EBF0F8"
             },
             "line": {
              "color": "white"
             }
            },
            "header": {
             "fill": {
              "color": "#C8D4E3"
             },
             "line": {
              "color": "white"
             }
            },
            "type": "table"
           }
          ]
         },
         "layout": {
          "annotationdefaults": {
           "arrowcolor": "#2a3f5f",
           "arrowhead": 0,
           "arrowwidth": 1
          },
          "autotypenumbers": "strict",
          "coloraxis": {
           "colorbar": {
            "outlinewidth": 0,
            "ticks": ""
           }
          },
          "colorscale": {
           "diverging": [
            [
             0,
             "#8e0152"
            ],
            [
             0.1,
             "#c51b7d"
            ],
            [
             0.2,
             "#de77ae"
            ],
            [
             0.3,
             "#f1b6da"
            ],
            [
             0.4,
             "#fde0ef"
            ],
            [
             0.5,
             "#f7f7f7"
            ],
            [
             0.6,
             "#e6f5d0"
            ],
            [
             0.7,
             "#b8e186"
            ],
            [
             0.8,
             "#7fbc41"
            ],
            [
             0.9,
             "#4d9221"
            ],
            [
             1,
             "#276419"
            ]
           ],
           "sequential": [
            [
             0,
             "#0d0887"
            ],
            [
             0.1111111111111111,
             "#46039f"
            ],
            [
             0.2222222222222222,
             "#7201a8"
            ],
            [
             0.3333333333333333,
             "#9c179e"
            ],
            [
             0.4444444444444444,
             "#bd3786"
            ],
            [
             0.5555555555555556,
             "#d8576b"
            ],
            [
             0.6666666666666666,
             "#ed7953"
            ],
            [
             0.7777777777777778,
             "#fb9f3a"
            ],
            [
             0.8888888888888888,
             "#fdca26"
            ],
            [
             1,
             "#f0f921"
            ]
           ],
           "sequentialminus": [
            [
             0,
             "#0d0887"
            ],
            [
             0.1111111111111111,
             "#46039f"
            ],
            [
             0.2222222222222222,
             "#7201a8"
            ],
            [
             0.3333333333333333,
             "#9c179e"
            ],
            [
             0.4444444444444444,
             "#bd3786"
            ],
            [
             0.5555555555555556,
             "#d8576b"
            ],
            [
             0.6666666666666666,
             "#ed7953"
            ],
            [
             0.7777777777777778,
             "#fb9f3a"
            ],
            [
             0.8888888888888888,
             "#fdca26"
            ],
            [
             1,
             "#f0f921"
            ]
           ]
          },
          "colorway": [
           "#636efa",
           "#EF553B",
           "#00cc96",
           "#ab63fa",
           "#FFA15A",
           "#19d3f3",
           "#FF6692",
           "#B6E880",
           "#FF97FF",
           "#FECB52"
          ],
          "font": {
           "color": "#2a3f5f"
          },
          "geo": {
           "bgcolor": "white",
           "lakecolor": "white",
           "landcolor": "#E5ECF6",
           "showlakes": true,
           "showland": true,
           "subunitcolor": "white"
          },
          "hoverlabel": {
           "align": "left"
          },
          "hovermode": "closest",
          "mapbox": {
           "style": "light"
          },
          "paper_bgcolor": "white",
          "plot_bgcolor": "#E5ECF6",
          "polar": {
           "angularaxis": {
            "gridcolor": "white",
            "linecolor": "white",
            "ticks": ""
           },
           "bgcolor": "#E5ECF6",
           "radialaxis": {
            "gridcolor": "white",
            "linecolor": "white",
            "ticks": ""
           }
          },
          "scene": {
           "xaxis": {
            "backgroundcolor": "#E5ECF6",
            "gridcolor": "white",
            "gridwidth": 2,
            "linecolor": "white",
            "showbackground": true,
            "ticks": "",
            "zerolinecolor": "white"
           },
           "yaxis": {
            "backgroundcolor": "#E5ECF6",
            "gridcolor": "white",
            "gridwidth": 2,
            "linecolor": "white",
            "showbackground": true,
            "ticks": "",
            "zerolinecolor": "white"
           },
           "zaxis": {
            "backgroundcolor": "#E5ECF6",
            "gridcolor": "white",
            "gridwidth": 2,
            "linecolor": "white",
            "showbackground": true,
            "ticks": "",
            "zerolinecolor": "white"
           }
          },
          "shapedefaults": {
           "line": {
            "color": "#2a3f5f"
           }
          },
          "ternary": {
           "aaxis": {
            "gridcolor": "white",
            "linecolor": "white",
            "ticks": ""
           },
           "baxis": {
            "gridcolor": "white",
            "linecolor": "white",
            "ticks": ""
           },
           "bgcolor": "#E5ECF6",
           "caxis": {
            "gridcolor": "white",
            "linecolor": "white",
            "ticks": ""
           }
          },
          "title": {
           "x": 0.05
          },
          "xaxis": {
           "automargin": true,
           "gridcolor": "white",
           "linecolor": "white",
           "ticks": "",
           "title": {
            "standoff": 15
           },
           "zerolinecolor": "white",
           "zerolinewidth": 2
          },
          "yaxis": {
           "automargin": true,
           "gridcolor": "white",
           "linecolor": "white",
           "ticks": "",
           "title": {
            "standoff": 15
           },
           "zerolinecolor": "white",
           "zerolinewidth": 2
          }
         }
        },
        "title": {
         "text": "Зависимость средней абсолютной ошибки от количества итераций обучения"
        },
        "width": 1280,
        "xaxis": {
         "title": {
          "text": "Количество итераций обучения"
         }
        },
        "yaxis": {
         "title": {
          "text": "Средняя абсолютная ошибка"
         }
        }
       }
      }
     },
     "metadata": {},
     "output_type": "display_data"
    }
   ],
   "source": [
    "# Plotting results for training epochs amount\n",
    "fig = go.Figure()\n",
    "fig.add_trace(\n",
    "    go.Scatter(x=all_epochs, y=all_mapes,\n",
    "               name='Все наблюдения', mode='markers')\n",
    ")\n",
    "fig.add_trace(\n",
    "    go.Scatter(x=epochs, y=mapes_mean,\n",
    "               name='Средние значения', mode='lines+markers')\n",
    ")\n",
    "fig.update_layout(\n",
    "    title='Зависимость средней абсолютной ошибки от количества итераций обучения',\n",
    "    font=dict(size=20),\n",
    "    xaxis=dict(title='Количество итераций обучения'),\n",
    "    yaxis=dict(title='Средняя абсолютная ошибка'),\n",
    "    width=1280,\n",
    "    height=720\n",
    ")\n",
    "fig.show()"
   ]
  },
  {
   "cell_type": "code",
   "execution_count": 6,
   "metadata": {},
   "outputs": [
    {
     "name": "stdout",
     "output_type": "stream",
     "text": [
      "TRAINING FINISHED\n",
      "Epoch 500/500, Loss: 0.343639\n",
      "MAPE: 0.770945\n",
      "TRAINING FINISHED\n",
      "Epoch 500/500, Loss: 0.367624\n",
      "MAPE: 0.843546\n",
      "TRAINING FINISHED\n",
      "Epoch 500/500, Loss: 0.417537\n",
      "MAPE: 0.882940\n",
      "TRAINING FINISHED\n",
      "Epoch 500/500, Loss: 0.340840\n",
      "MAPE: 0.887279\n",
      "TRAINING FINISHED\n",
      "Epoch 500/500, Loss: 0.383233\n",
      "MAPE: 0.878368\n",
      "TRAINING FINISHED\n",
      "Epoch 500/500, Loss: 0.283701\n",
      "MAPE: 0.727022\n",
      "TRAINING FINISHED\n",
      "Epoch 500/500, Loss: 0.401288\n",
      "MAPE: 0.888707\n",
      "TRAINING FINISHED\n",
      "Epoch 500/500, Loss: 0.340528\n",
      "MAPE: 0.886499\n",
      "TRAINING FINISHED\n",
      "Epoch 500/500, Loss: 0.422268\n",
      "MAPE: 0.874499\n",
      "TRAINING FINISHED\n",
      "Epoch 500/500, Loss: 0.435586\n",
      "MAPE: 0.935992\n",
      "TRAINING FINISHED\n",
      "Epoch 500/500, Loss: 0.366519\n",
      "MAPE: 0.848996\n",
      "TRAINING FINISHED\n",
      "Epoch 500/500, Loss: 0.398328\n",
      "MAPE: 0.910734\n",
      "TRAINING FINISHED\n",
      "Epoch 500/500, Loss: 0.294548\n",
      "MAPE: 0.777193\n",
      "TRAINING FINISHED\n",
      "Epoch 500/500, Loss: 0.320095\n",
      "MAPE: 0.786817\n",
      "TRAINING FINISHED\n",
      "Epoch 500/500, Loss: 0.318261\n",
      "MAPE: 0.790957\n",
      "TRAINING FINISHED\n",
      "Epoch 500/500, Loss: 0.263031\n",
      "MAPE: 0.729369\n",
      "TRAINING FINISHED\n",
      "Epoch 500/500, Loss: 0.359307\n",
      "MAPE: 0.828943\n",
      "TRAINING FINISHED\n",
      "Epoch 500/500, Loss: 0.275019\n",
      "MAPE: 0.733619\n",
      "TRAINING FINISHED\n",
      "Epoch 500/500, Loss: 0.346552\n",
      "MAPE: 0.782747\n",
      "TRAINING FINISHED\n",
      "Epoch 500/500, Loss: 0.292394\n",
      "MAPE: 0.801474\n",
      "TRAINING FINISHED\n",
      "Epoch 500/500, Loss: 0.288657\n",
      "MAPE: 0.742516\n",
      "TRAINING FINISHED\n",
      "Epoch 500/500, Loss: 0.345754\n",
      "MAPE: 0.854727\n",
      "TRAINING FINISHED\n",
      "Epoch 500/500, Loss: 0.281726\n",
      "MAPE: 0.750519\n",
      "TRAINING FINISHED\n",
      "Epoch 500/500, Loss: 0.335880\n",
      "MAPE: 0.806708\n",
      "TRAINING FINISHED\n",
      "Epoch 500/500, Loss: 0.319589\n",
      "MAPE: 0.751985\n",
      "TRAINING FINISHED\n",
      "Epoch 500/500, Loss: 0.342498\n",
      "MAPE: 0.809008\n",
      "TRAINING FINISHED\n",
      "Epoch 500/500, Loss: 0.302516\n",
      "MAPE: 0.777127\n",
      "TRAINING FINISHED\n",
      "Epoch 500/500, Loss: 0.380653\n",
      "MAPE: 0.889710\n",
      "TRAINING FINISHED\n",
      "Epoch 500/500, Loss: 0.281318\n",
      "MAPE: 0.785671\n",
      "TRAINING FINISHED\n",
      "Epoch 500/500, Loss: 0.367777\n",
      "MAPE: 0.847121\n",
      "TRAINING FINISHED\n",
      "Epoch 500/500, Loss: 0.350865\n",
      "MAPE: 0.857363\n",
      "TRAINING FINISHED\n",
      "Epoch 500/500, Loss: 0.384566\n",
      "MAPE: 0.841828\n",
      "TRAINING FINISHED\n",
      "Epoch 500/500, Loss: 0.321271\n",
      "MAPE: 0.761807\n",
      "TRAINING FINISHED\n",
      "Epoch 500/500, Loss: 0.304269\n",
      "MAPE: 0.770833\n",
      "TRAINING FINISHED\n",
      "Epoch 500/500, Loss: 0.326843\n",
      "MAPE: 0.801960\n",
      "TRAINING FINISHED\n",
      "Epoch 500/500, Loss: 0.283435\n",
      "MAPE: 0.746368\n",
      "TRAINING FINISHED\n",
      "Epoch 500/500, Loss: 0.320132\n",
      "MAPE: 0.783561\n",
      "TRAINING FINISHED\n",
      "Epoch 500/500, Loss: 0.296636\n",
      "MAPE: 0.742104\n",
      "TRAINING FINISHED\n",
      "Epoch 500/500, Loss: 0.338231\n",
      "MAPE: 0.822573\n",
      "TRAINING FINISHED\n",
      "Epoch 500/500, Loss: 0.305698\n",
      "MAPE: 0.763081\n",
      "TRAINING FINISHED\n",
      "Epoch 500/500, Loss: 0.292122\n",
      "MAPE: 0.765325\n",
      "TRAINING FINISHED\n",
      "Epoch 500/500, Loss: 0.291997\n",
      "MAPE: 0.730214\n",
      "TRAINING FINISHED\n",
      "Epoch 500/500, Loss: 0.283979\n",
      "MAPE: 0.764402\n",
      "TRAINING FINISHED\n",
      "Epoch 500/500, Loss: 0.330000\n",
      "MAPE: 0.752988\n",
      "TRAINING FINISHED\n",
      "Epoch 500/500, Loss: 0.385780\n",
      "MAPE: 0.875901\n",
      "TRAINING FINISHED\n",
      "Epoch 500/500, Loss: 0.304896\n",
      "MAPE: 0.756961\n",
      "TRAINING FINISHED\n",
      "Epoch 500/500, Loss: 0.350346\n",
      "MAPE: 0.815753\n",
      "TRAINING FINISHED\n",
      "Epoch 500/500, Loss: 0.277470\n",
      "MAPE: 0.715781\n",
      "TRAINING FINISHED\n",
      "Epoch 500/500, Loss: 0.248079\n",
      "MAPE: 0.654764\n",
      "TRAINING FINISHED\n",
      "Epoch 500/500, Loss: 0.363333\n",
      "MAPE: 0.808582\n"
     ]
    }
   ],
   "source": [
    "experiments_amount = 5\n",
    "# epochs = np.linspace(1000, 35000, endpoint=True, num=10).astype(np.int32).tolist()\n",
    "hidden_sizes = list(range(2, 22, 2))\n",
    "\n",
    "# np.random.seed(12345)\n",
    "\n",
    "all_mapes = []\n",
    "mapes_mean = []\n",
    "\n",
    "all_sizes: list[int] = []\n",
    "\n",
    "seq_length = 20\n",
    "window_size = 3\n",
    "batch_size = 2\n",
    "output_size = 3\n",
    "\n",
    "verbosity = 100000\n",
    "lr = 5e-3\n",
    "max_epochs = 500\n",
    "use_adam = False\n",
    "\n",
    "sequence = list(sin_generator(seq_length + output_size, alpha=10, beta=pi/4, omega=pi/6))\n",
    "\n",
    "for size in hidden_sizes:    \n",
    "\n",
    "    # Training network for five times\n",
    "    mapes_sum = 0    \n",
    "    for _ in range(experiments_amount):\n",
    "        all_sizes.append(size)        \n",
    "        \n",
    "        train_sequence = sequence[:seq_length]\n",
    "        test_sequence = sequence[-output_size:]\n",
    "        training_mape, model, next_n_pred, mean, deviation = predict_next_n_elements(\n",
    "            train_sequence, window_size, batch_size,\n",
    "            size, output_size, max_epochs,\n",
    "            verbosity, lr, use_adam=use_adam\n",
    "        )\n",
    "        all_epochs.append(max_epochs)\n",
    "\n",
    "        # Test sequence mape\n",
    "        test_sequence = sequence[-output_size:]\n",
    "        test_mape = mape(test_sequence, next_n_pred)\n",
    "        mapes_sum += test_mape    \n",
    "        all_mapes.append(test_mape)    \n",
    "\n",
    "    # Average mape for epochs amount\n",
    "    mapes_mean.append(mapes_sum / experiments_amount)"
   ]
  },
  {
   "cell_type": "code",
   "execution_count": 7,
   "metadata": {},
   "outputs": [
    {
     "data": {
      "application/vnd.plotly.v1+json": {
       "config": {
        "plotlyServerURL": "https://plot.ly"
       },
       "data": [
        {
         "mode": "markers",
         "name": "Все наблюдения",
         "type": "scatter",
         "x": [
          2,
          2,
          2,
          2,
          2,
          4,
          4,
          4,
          4,
          4,
          6,
          6,
          6,
          6,
          6,
          8,
          8,
          8,
          8,
          8,
          10,
          10,
          10,
          10,
          10,
          12,
          12,
          12,
          12,
          12,
          14,
          14,
          14,
          14,
          14,
          16,
          16,
          16,
          16,
          16,
          18,
          18,
          18,
          18,
          18,
          20,
          20,
          20,
          20,
          20
         ],
         "y": [
          0.8688038858551472,
          0.8639644025847276,
          1.0786540497254116,
          0.6872408065400077,
          0.7534128148593059,
          0.7202072525253603,
          1.0382176795668576,
          0.7613073644780498,
          0.9779223971232022,
          0.9825425411705621,
          0.9161107591224611,
          0.8125516428752345,
          0.6628656564848963,
          0.7594192695791354,
          0.8127728186613643,
          0.6675415454302683,
          0.7635716971511209,
          0.6610339437537566,
          0.880267709698939,
          0.7804301851934806,
          0.7342025374781728,
          0.7280117389082545,
          0.7783122474107467,
          0.7771263008281807,
          0.7982795428807555,
          0.828640354195994,
          0.7533533400195332,
          0.9004448139439695,
          0.7504005615520705,
          0.8855687500982796,
          0.8230940419129614,
          0.9034476500888805,
          0.8351370823131016,
          0.7805802802854074,
          0.80177679734222,
          0.7603610258685286,
          0.8480050463373866,
          0.8028153590111592,
          0.8343437475191079,
          0.8104293476027671,
          0.7607510016273932,
          0.7001244237268253,
          0.6938465219603381,
          0.8562276559854971,
          0.9245884693313203,
          0.7657921825064643,
          0.8641278463406664,
          0.7446862940043926,
          0.7067969786537591,
          0.891029777518725
         ]
        },
        {
         "mode": "lines+markers",
         "name": "Средние значения",
         "type": "scatter",
         "x": [
          2,
          4,
          6,
          8,
          10,
          12,
          14,
          16,
          18,
          20
         ],
         "y": [
          0.8504151919129199,
          0.8960394469728064,
          0.7927440293446183,
          0.7505690162455131,
          0.763186473501222,
          0.8236815639619695,
          0.828807170388514,
          0.8111909052677898,
          0.7871076145262748,
          0.7944866158048015
         ]
        }
       ],
       "layout": {
        "font": {
         "size": 20
        },
        "height": 720,
        "template": {
         "data": {
          "bar": [
           {
            "error_x": {
             "color": "#2a3f5f"
            },
            "error_y": {
             "color": "#2a3f5f"
            },
            "marker": {
             "line": {
              "color": "#E5ECF6",
              "width": 0.5
             },
             "pattern": {
              "fillmode": "overlay",
              "size": 10,
              "solidity": 0.2
             }
            },
            "type": "bar"
           }
          ],
          "barpolar": [
           {
            "marker": {
             "line": {
              "color": "#E5ECF6",
              "width": 0.5
             },
             "pattern": {
              "fillmode": "overlay",
              "size": 10,
              "solidity": 0.2
             }
            },
            "type": "barpolar"
           }
          ],
          "carpet": [
           {
            "aaxis": {
             "endlinecolor": "#2a3f5f",
             "gridcolor": "white",
             "linecolor": "white",
             "minorgridcolor": "white",
             "startlinecolor": "#2a3f5f"
            },
            "baxis": {
             "endlinecolor": "#2a3f5f",
             "gridcolor": "white",
             "linecolor": "white",
             "minorgridcolor": "white",
             "startlinecolor": "#2a3f5f"
            },
            "type": "carpet"
           }
          ],
          "choropleth": [
           {
            "colorbar": {
             "outlinewidth": 0,
             "ticks": ""
            },
            "type": "choropleth"
           }
          ],
          "contour": [
           {
            "colorbar": {
             "outlinewidth": 0,
             "ticks": ""
            },
            "colorscale": [
             [
              0,
              "#0d0887"
             ],
             [
              0.1111111111111111,
              "#46039f"
             ],
             [
              0.2222222222222222,
              "#7201a8"
             ],
             [
              0.3333333333333333,
              "#9c179e"
             ],
             [
              0.4444444444444444,
              "#bd3786"
             ],
             [
              0.5555555555555556,
              "#d8576b"
             ],
             [
              0.6666666666666666,
              "#ed7953"
             ],
             [
              0.7777777777777778,
              "#fb9f3a"
             ],
             [
              0.8888888888888888,
              "#fdca26"
             ],
             [
              1,
              "#f0f921"
             ]
            ],
            "type": "contour"
           }
          ],
          "contourcarpet": [
           {
            "colorbar": {
             "outlinewidth": 0,
             "ticks": ""
            },
            "type": "contourcarpet"
           }
          ],
          "heatmap": [
           {
            "colorbar": {
             "outlinewidth": 0,
             "ticks": ""
            },
            "colorscale": [
             [
              0,
              "#0d0887"
             ],
             [
              0.1111111111111111,
              "#46039f"
             ],
             [
              0.2222222222222222,
              "#7201a8"
             ],
             [
              0.3333333333333333,
              "#9c179e"
             ],
             [
              0.4444444444444444,
              "#bd3786"
             ],
             [
              0.5555555555555556,
              "#d8576b"
             ],
             [
              0.6666666666666666,
              "#ed7953"
             ],
             [
              0.7777777777777778,
              "#fb9f3a"
             ],
             [
              0.8888888888888888,
              "#fdca26"
             ],
             [
              1,
              "#f0f921"
             ]
            ],
            "type": "heatmap"
           }
          ],
          "heatmapgl": [
           {
            "colorbar": {
             "outlinewidth": 0,
             "ticks": ""
            },
            "colorscale": [
             [
              0,
              "#0d0887"
             ],
             [
              0.1111111111111111,
              "#46039f"
             ],
             [
              0.2222222222222222,
              "#7201a8"
             ],
             [
              0.3333333333333333,
              "#9c179e"
             ],
             [
              0.4444444444444444,
              "#bd3786"
             ],
             [
              0.5555555555555556,
              "#d8576b"
             ],
             [
              0.6666666666666666,
              "#ed7953"
             ],
             [
              0.7777777777777778,
              "#fb9f3a"
             ],
             [
              0.8888888888888888,
              "#fdca26"
             ],
             [
              1,
              "#f0f921"
             ]
            ],
            "type": "heatmapgl"
           }
          ],
          "histogram": [
           {
            "marker": {
             "pattern": {
              "fillmode": "overlay",
              "size": 10,
              "solidity": 0.2
             }
            },
            "type": "histogram"
           }
          ],
          "histogram2d": [
           {
            "colorbar": {
             "outlinewidth": 0,
             "ticks": ""
            },
            "colorscale": [
             [
              0,
              "#0d0887"
             ],
             [
              0.1111111111111111,
              "#46039f"
             ],
             [
              0.2222222222222222,
              "#7201a8"
             ],
             [
              0.3333333333333333,
              "#9c179e"
             ],
             [
              0.4444444444444444,
              "#bd3786"
             ],
             [
              0.5555555555555556,
              "#d8576b"
             ],
             [
              0.6666666666666666,
              "#ed7953"
             ],
             [
              0.7777777777777778,
              "#fb9f3a"
             ],
             [
              0.8888888888888888,
              "#fdca26"
             ],
             [
              1,
              "#f0f921"
             ]
            ],
            "type": "histogram2d"
           }
          ],
          "histogram2dcontour": [
           {
            "colorbar": {
             "outlinewidth": 0,
             "ticks": ""
            },
            "colorscale": [
             [
              0,
              "#0d0887"
             ],
             [
              0.1111111111111111,
              "#46039f"
             ],
             [
              0.2222222222222222,
              "#7201a8"
             ],
             [
              0.3333333333333333,
              "#9c179e"
             ],
             [
              0.4444444444444444,
              "#bd3786"
             ],
             [
              0.5555555555555556,
              "#d8576b"
             ],
             [
              0.6666666666666666,
              "#ed7953"
             ],
             [
              0.7777777777777778,
              "#fb9f3a"
             ],
             [
              0.8888888888888888,
              "#fdca26"
             ],
             [
              1,
              "#f0f921"
             ]
            ],
            "type": "histogram2dcontour"
           }
          ],
          "mesh3d": [
           {
            "colorbar": {
             "outlinewidth": 0,
             "ticks": ""
            },
            "type": "mesh3d"
           }
          ],
          "parcoords": [
           {
            "line": {
             "colorbar": {
              "outlinewidth": 0,
              "ticks": ""
             }
            },
            "type": "parcoords"
           }
          ],
          "pie": [
           {
            "automargin": true,
            "type": "pie"
           }
          ],
          "scatter": [
           {
            "fillpattern": {
             "fillmode": "overlay",
             "size": 10,
             "solidity": 0.2
            },
            "type": "scatter"
           }
          ],
          "scatter3d": [
           {
            "line": {
             "colorbar": {
              "outlinewidth": 0,
              "ticks": ""
             }
            },
            "marker": {
             "colorbar": {
              "outlinewidth": 0,
              "ticks": ""
             }
            },
            "type": "scatter3d"
           }
          ],
          "scattercarpet": [
           {
            "marker": {
             "colorbar": {
              "outlinewidth": 0,
              "ticks": ""
             }
            },
            "type": "scattercarpet"
           }
          ],
          "scattergeo": [
           {
            "marker": {
             "colorbar": {
              "outlinewidth": 0,
              "ticks": ""
             }
            },
            "type": "scattergeo"
           }
          ],
          "scattergl": [
           {
            "marker": {
             "colorbar": {
              "outlinewidth": 0,
              "ticks": ""
             }
            },
            "type": "scattergl"
           }
          ],
          "scattermapbox": [
           {
            "marker": {
             "colorbar": {
              "outlinewidth": 0,
              "ticks": ""
             }
            },
            "type": "scattermapbox"
           }
          ],
          "scatterpolar": [
           {
            "marker": {
             "colorbar": {
              "outlinewidth": 0,
              "ticks": ""
             }
            },
            "type": "scatterpolar"
           }
          ],
          "scatterpolargl": [
           {
            "marker": {
             "colorbar": {
              "outlinewidth": 0,
              "ticks": ""
             }
            },
            "type": "scatterpolargl"
           }
          ],
          "scatterternary": [
           {
            "marker": {
             "colorbar": {
              "outlinewidth": 0,
              "ticks": ""
             }
            },
            "type": "scatterternary"
           }
          ],
          "surface": [
           {
            "colorbar": {
             "outlinewidth": 0,
             "ticks": ""
            },
            "colorscale": [
             [
              0,
              "#0d0887"
             ],
             [
              0.1111111111111111,
              "#46039f"
             ],
             [
              0.2222222222222222,
              "#7201a8"
             ],
             [
              0.3333333333333333,
              "#9c179e"
             ],
             [
              0.4444444444444444,
              "#bd3786"
             ],
             [
              0.5555555555555556,
              "#d8576b"
             ],
             [
              0.6666666666666666,
              "#ed7953"
             ],
             [
              0.7777777777777778,
              "#fb9f3a"
             ],
             [
              0.8888888888888888,
              "#fdca26"
             ],
             [
              1,
              "#f0f921"
             ]
            ],
            "type": "surface"
           }
          ],
          "table": [
           {
            "cells": {
             "fill": {
              "color": "#EBF0F8"
             },
             "line": {
              "color": "white"
             }
            },
            "header": {
             "fill": {
              "color": "#C8D4E3"
             },
             "line": {
              "color": "white"
             }
            },
            "type": "table"
           }
          ]
         },
         "layout": {
          "annotationdefaults": {
           "arrowcolor": "#2a3f5f",
           "arrowhead": 0,
           "arrowwidth": 1
          },
          "autotypenumbers": "strict",
          "coloraxis": {
           "colorbar": {
            "outlinewidth": 0,
            "ticks": ""
           }
          },
          "colorscale": {
           "diverging": [
            [
             0,
             "#8e0152"
            ],
            [
             0.1,
             "#c51b7d"
            ],
            [
             0.2,
             "#de77ae"
            ],
            [
             0.3,
             "#f1b6da"
            ],
            [
             0.4,
             "#fde0ef"
            ],
            [
             0.5,
             "#f7f7f7"
            ],
            [
             0.6,
             "#e6f5d0"
            ],
            [
             0.7,
             "#b8e186"
            ],
            [
             0.8,
             "#7fbc41"
            ],
            [
             0.9,
             "#4d9221"
            ],
            [
             1,
             "#276419"
            ]
           ],
           "sequential": [
            [
             0,
             "#0d0887"
            ],
            [
             0.1111111111111111,
             "#46039f"
            ],
            [
             0.2222222222222222,
             "#7201a8"
            ],
            [
             0.3333333333333333,
             "#9c179e"
            ],
            [
             0.4444444444444444,
             "#bd3786"
            ],
            [
             0.5555555555555556,
             "#d8576b"
            ],
            [
             0.6666666666666666,
             "#ed7953"
            ],
            [
             0.7777777777777778,
             "#fb9f3a"
            ],
            [
             0.8888888888888888,
             "#fdca26"
            ],
            [
             1,
             "#f0f921"
            ]
           ],
           "sequentialminus": [
            [
             0,
             "#0d0887"
            ],
            [
             0.1111111111111111,
             "#46039f"
            ],
            [
             0.2222222222222222,
             "#7201a8"
            ],
            [
             0.3333333333333333,
             "#9c179e"
            ],
            [
             0.4444444444444444,
             "#bd3786"
            ],
            [
             0.5555555555555556,
             "#d8576b"
            ],
            [
             0.6666666666666666,
             "#ed7953"
            ],
            [
             0.7777777777777778,
             "#fb9f3a"
            ],
            [
             0.8888888888888888,
             "#fdca26"
            ],
            [
             1,
             "#f0f921"
            ]
           ]
          },
          "colorway": [
           "#636efa",
           "#EF553B",
           "#00cc96",
           "#ab63fa",
           "#FFA15A",
           "#19d3f3",
           "#FF6692",
           "#B6E880",
           "#FF97FF",
           "#FECB52"
          ],
          "font": {
           "color": "#2a3f5f"
          },
          "geo": {
           "bgcolor": "white",
           "lakecolor": "white",
           "landcolor": "#E5ECF6",
           "showlakes": true,
           "showland": true,
           "subunitcolor": "white"
          },
          "hoverlabel": {
           "align": "left"
          },
          "hovermode": "closest",
          "mapbox": {
           "style": "light"
          },
          "paper_bgcolor": "white",
          "plot_bgcolor": "#E5ECF6",
          "polar": {
           "angularaxis": {
            "gridcolor": "white",
            "linecolor": "white",
            "ticks": ""
           },
           "bgcolor": "#E5ECF6",
           "radialaxis": {
            "gridcolor": "white",
            "linecolor": "white",
            "ticks": ""
           }
          },
          "scene": {
           "xaxis": {
            "backgroundcolor": "#E5ECF6",
            "gridcolor": "white",
            "gridwidth": 2,
            "linecolor": "white",
            "showbackground": true,
            "ticks": "",
            "zerolinecolor": "white"
           },
           "yaxis": {
            "backgroundcolor": "#E5ECF6",
            "gridcolor": "white",
            "gridwidth": 2,
            "linecolor": "white",
            "showbackground": true,
            "ticks": "",
            "zerolinecolor": "white"
           },
           "zaxis": {
            "backgroundcolor": "#E5ECF6",
            "gridcolor": "white",
            "gridwidth": 2,
            "linecolor": "white",
            "showbackground": true,
            "ticks": "",
            "zerolinecolor": "white"
           }
          },
          "shapedefaults": {
           "line": {
            "color": "#2a3f5f"
           }
          },
          "ternary": {
           "aaxis": {
            "gridcolor": "white",
            "linecolor": "white",
            "ticks": ""
           },
           "baxis": {
            "gridcolor": "white",
            "linecolor": "white",
            "ticks": ""
           },
           "bgcolor": "#E5ECF6",
           "caxis": {
            "gridcolor": "white",
            "linecolor": "white",
            "ticks": ""
           }
          },
          "title": {
           "x": 0.05
          },
          "xaxis": {
           "automargin": true,
           "gridcolor": "white",
           "linecolor": "white",
           "ticks": "",
           "title": {
            "standoff": 15
           },
           "zerolinecolor": "white",
           "zerolinewidth": 2
          },
          "yaxis": {
           "automargin": true,
           "gridcolor": "white",
           "linecolor": "white",
           "ticks": "",
           "title": {
            "standoff": 15
           },
           "zerolinecolor": "white",
           "zerolinewidth": 2
          }
         }
        },
        "title": {
         "text": "Зависимость средней абсолютной ошибки от<br>количества нейронов на скрытом слое"
        },
        "width": 1280,
        "xaxis": {
         "title": {
          "text": "Количество нейронов на скрытом слое"
         }
        },
        "yaxis": {
         "title": {
          "text": "Средняя абсолютная ошибка"
         }
        }
       }
      }
     },
     "metadata": {},
     "output_type": "display_data"
    }
   ],
   "source": [
    "# Plotting results for training epochs amount\n",
    "fig = go.Figure()\n",
    "fig.add_trace(\n",
    "    go.Scatter(x=all_sizes, y=all_mapes,\n",
    "               name='Все наблюдения', mode='markers')\n",
    ")\n",
    "fig.add_trace(\n",
    "    go.Scatter(x=hidden_sizes, y=mapes_mean,\n",
    "               name='Средние значения', mode='lines+markers')\n",
    ")\n",
    "fig.update_layout(\n",
    "    title='Зависимость средней абсолютной ошибки от<br>количества нейронов на скрытом слое',\n",
    "    font=dict(size=20),\n",
    "    xaxis=dict(title='Количество нейронов на скрытом слое'),\n",
    "    yaxis=dict(title='Средняя абсолютная ошибка'),\n",
    "    width=1280,\n",
    "    height=720\n",
    ")\n",
    "fig.show()"
   ]
  },
  {
   "cell_type": "code",
   "execution_count": 8,
   "metadata": {},
   "outputs": [
    {
     "name": "stdout",
     "output_type": "stream",
     "text": [
      "TRAINING FINISHED\n",
      "Epoch 100/100, Loss: 0.117221\n",
      "MAPE: 0.479201\n",
      "TRAINING FINISHED\n",
      "Epoch 100/100, Loss: 0.146971\n",
      "MAPE: 0.509149\n",
      "TRAINING FINISHED\n",
      "Epoch 100/100, Loss: 0.189460\n",
      "MAPE: 0.614321\n",
      "TRAINING FINISHED\n",
      "Epoch 100/100, Loss: 0.132914\n",
      "MAPE: 0.509548\n",
      "TRAINING FINISHED\n",
      "Epoch 100/100, Loss: 0.265346\n",
      "MAPE: 0.722912\n",
      "TRAINING FINISHED\n",
      "Epoch 100/100, Loss: 0.013465\n",
      "MAPE: 0.454479\n",
      "TRAINING FINISHED\n",
      "Epoch 100/100, Loss: 0.008804\n",
      "MAPE: 0.380299\n",
      "TRAINING FINISHED\n",
      "Epoch 100/100, Loss: 0.015134\n",
      "MAPE: 0.484995\n",
      "TRAINING FINISHED\n",
      "Epoch 100/100, Loss: 0.009315\n",
      "MAPE: 0.423110\n",
      "TRAINING FINISHED\n",
      "Epoch 100/100, Loss: 0.021445\n",
      "MAPE: 0.384293\n",
      "TRAINING FINISHED\n",
      "Epoch 100/100, Loss: 0.017567\n",
      "MAPE: 0.814404\n",
      "TRAINING FINISHED\n",
      "Epoch 100/100, Loss: 0.015926\n",
      "MAPE: 0.779956\n",
      "TRAINING FINISHED\n",
      "Epoch 100/100, Loss: 0.023994\n",
      "MAPE: 0.985070\n",
      "TRAINING FINISHED\n",
      "Epoch 100/100, Loss: 0.008858\n",
      "MAPE: 0.697760\n",
      "TRAINING FINISHED\n",
      "Epoch 100/100, Loss: 0.016992\n",
      "MAPE: 0.797077\n",
      "TRAINING FINISHED\n",
      "Epoch 100/100, Loss: 0.021611\n",
      "MAPE: 1.070410\n",
      "TRAINING FINISHED\n",
      "Epoch 100/100, Loss: 0.015222\n",
      "MAPE: 1.013549\n",
      "TRAINING FINISHED\n",
      "Epoch 100/100, Loss: 0.021734\n",
      "MAPE: 1.045562\n",
      "TRAINING FINISHED\n",
      "Epoch 100/100, Loss: 0.023435\n",
      "MAPE: 1.085707\n",
      "TRAINING FINISHED\n",
      "Epoch 100/100, Loss: 0.016766\n",
      "MAPE: 0.881048\n",
      "TRAINING FINISHED\n",
      "Epoch 100/100, Loss: 0.011190\n",
      "MAPE: 0.835329\n",
      "TRAINING FINISHED\n",
      "Epoch 100/100, Loss: 0.023787\n",
      "MAPE: 1.411407\n",
      "TRAINING FINISHED\n",
      "Epoch 100/100, Loss: 0.039115\n",
      "MAPE: 1.654508\n",
      "TRAINING FINISHED\n",
      "Epoch 100/100, Loss: 0.016420\n",
      "MAPE: 0.993079\n",
      "TRAINING FINISHED\n",
      "Epoch 100/100, Loss: 0.017921\n",
      "MAPE: 0.887551\n",
      "TRAINING FINISHED\n",
      "Epoch 100/100, Loss: 0.015115\n",
      "MAPE: 1.012081\n",
      "TRAINING FINISHED\n",
      "Epoch 100/100, Loss: 0.023433\n",
      "MAPE: 1.363018\n",
      "TRAINING FINISHED\n",
      "Epoch 100/100, Loss: 0.019991\n",
      "MAPE: 1.276468\n",
      "TRAINING FINISHED\n",
      "Epoch 100/100, Loss: 0.028458\n",
      "MAPE: 1.615142\n",
      "TRAINING FINISHED\n",
      "Epoch 100/100, Loss: 0.017961\n",
      "MAPE: 1.274077\n",
      "TRAINING FINISHED\n",
      "Epoch 100/100, Loss: 0.013891\n",
      "MAPE: 1.019743\n",
      "TRAINING FINISHED\n",
      "Epoch 100/100, Loss: 0.015068\n",
      "MAPE: 1.086665\n",
      "TRAINING FINISHED\n",
      "Epoch 100/100, Loss: 0.011012\n",
      "MAPE: 0.524122\n",
      "TRAINING FINISHED\n",
      "Epoch 100/100, Loss: 0.016173\n",
      "MAPE: 1.117288\n",
      "TRAINING FINISHED\n",
      "Epoch 100/100, Loss: 0.019077\n",
      "MAPE: 1.225527\n",
      "TRAINING FINISHED\n",
      "Epoch 100/100, Loss: 0.020128\n",
      "MAPE: 1.099411\n",
      "TRAINING FINISHED\n",
      "Epoch 100/100, Loss: 0.010964\n",
      "MAPE: 0.540582\n",
      "TRAINING FINISHED\n",
      "Epoch 100/100, Loss: 0.011405\n",
      "MAPE: 0.567717\n",
      "TRAINING FINISHED\n",
      "Epoch 100/100, Loss: 0.015733\n",
      "MAPE: 0.838116\n",
      "TRAINING FINISHED\n",
      "Epoch 100/100, Loss: 0.018664\n",
      "MAPE: 1.054724\n",
      "TRAINING FINISHED\n",
      "Epoch 100/100, Loss: 0.005090\n",
      "MAPE: 0.554485\n",
      "TRAINING FINISHED\n",
      "Epoch 100/100, Loss: 0.012635\n",
      "MAPE: 1.011253\n",
      "TRAINING FINISHED\n",
      "Epoch 100/100, Loss: 0.005760\n",
      "MAPE: 0.553077\n",
      "TRAINING FINISHED\n",
      "Epoch 100/100, Loss: 0.002401\n",
      "MAPE: 0.315314\n",
      "TRAINING FINISHED\n",
      "Epoch 100/100, Loss: 0.012717\n",
      "MAPE: 0.946922\n",
      "TRAINING FINISHED\n",
      "Epoch 100/100, Loss: 0.013936\n",
      "MAPE: 0.897723\n",
      "TRAINING FINISHED\n",
      "Epoch 100/100, Loss: 0.011850\n",
      "MAPE: 0.833066\n",
      "TRAINING FINISHED\n",
      "Epoch 100/100, Loss: 0.008906\n",
      "MAPE: 0.711150\n",
      "TRAINING FINISHED\n",
      "Epoch 100/100, Loss: 0.006439\n",
      "MAPE: 0.517221\n",
      "TRAINING FINISHED\n",
      "Epoch 100/100, Loss: 0.005782\n",
      "MAPE: 0.519702\n",
      "TRAINING FINISHED\n",
      "Epoch 100/100, Loss: 0.008357\n",
      "MAPE: 0.568465\n",
      "TRAINING FINISHED\n",
      "Epoch 100/100, Loss: 0.006034\n",
      "MAPE: 0.331336\n",
      "TRAINING FINISHED\n",
      "Epoch 100/100, Loss: 0.004806\n",
      "MAPE: 0.291521\n",
      "TRAINING FINISHED\n",
      "Epoch 100/100, Loss: 0.006261\n",
      "MAPE: 0.471468\n",
      "TRAINING FINISHED\n",
      "Epoch 100/100, Loss: 0.004640\n",
      "MAPE: 0.390876\n",
      "TRAINING FINISHED\n",
      "Epoch 100/100, Loss: 0.007313\n",
      "MAPE: 0.560747\n",
      "TRAINING FINISHED\n",
      "Epoch 100/100, Loss: 0.006462\n",
      "MAPE: 0.730053\n",
      "TRAINING FINISHED\n",
      "Epoch 100/100, Loss: 0.009239\n",
      "MAPE: 1.013617\n",
      "TRAINING FINISHED\n",
      "Epoch 100/100, Loss: 0.006964\n",
      "MAPE: 0.799494\n",
      "TRAINING FINISHED\n",
      "Epoch 100/100, Loss: 0.006496\n",
      "MAPE: 0.594535\n",
      "TRAINING FINISHED\n",
      "Epoch 100/100, Loss: 0.006519\n",
      "MAPE: 0.660875\n",
      "TRAINING FINISHED\n",
      "Epoch 100/100, Loss: 0.009243\n",
      "MAPE: 0.491344\n",
      "TRAINING FINISHED\n",
      "Epoch 100/100, Loss: 0.004335\n",
      "MAPE: 0.610541\n",
      "TRAINING FINISHED\n",
      "Epoch 100/100, Loss: 0.007849\n",
      "MAPE: 1.187744\n",
      "TRAINING FINISHED\n",
      "Epoch 100/100, Loss: 0.005637\n",
      "MAPE: 0.861119\n"
     ]
    }
   ],
   "source": [
    "# MAPE relation with sliding window\n",
    "experiments_amount = 5\n",
    "# epochs = np.linspace(1000, 35000, endpoint=True, num=10).astype(np.int32).tolist()\n",
    "\n",
    "\n",
    "all_mapes = []\n",
    "mapes_mean = []\n",
    "\n",
    "all_sizes: list[int] = []\n",
    "\n",
    "seq_length = 500\n",
    "window_sizes = list(range(2, seq_length // 2, 20))\n",
    "hidden_size = 10\n",
    "batch_size = 2\n",
    "output_size = 3\n",
    "\n",
    "verbosity = 100000\n",
    "lr = 1e-2\n",
    "max_epochs = 100\n",
    "use_adam = False\n",
    "\n",
    "sequence = list(arithmetic_progression(seq_length + output_size, 1, 1))\n",
    "\n",
    "for size in window_sizes:        \n",
    "\n",
    "    # Training network for five times\n",
    "    mapes_sum = 0    \n",
    "    for _ in range(experiments_amount):\n",
    "        all_sizes.append(size)              \n",
    "        \n",
    "        train_sequence = sequence[:seq_length]\n",
    "        test_sequence = sequence[-output_size:]\n",
    "        training_mape, model, next_n_pred, mean, deviation = predict_next_n_elements(\n",
    "            train_sequence, size, batch_size,\n",
    "            hidden_size, output_size, max_epochs,\n",
    "            verbosity, lr, use_adam=use_adam\n",
    "        )\n",
    "        all_epochs.append(max_epochs)\n",
    "        \n",
    "        # Test sequence mape\n",
    "        test_sequence = sequence[-output_size:]\n",
    "        test_mape = mape(test_sequence, next_n_pred)\n",
    "        mapes_sum += test_mape    \n",
    "        all_mapes.append(test_mape)    \n",
    "\n",
    "    # Average mape for epochs amount\n",
    "    mapes_mean.append(mapes_sum / experiments_amount)"
   ]
  },
  {
   "cell_type": "code",
   "execution_count": 9,
   "metadata": {},
   "outputs": [
    {
     "data": {
      "application/vnd.plotly.v1+json": {
       "config": {
        "plotlyServerURL": "https://plot.ly"
       },
       "data": [
        {
         "mode": "markers",
         "name": "Все наблюдения",
         "type": "scatter",
         "x": [
          2,
          2,
          2,
          2,
          2,
          22,
          22,
          22,
          22,
          22,
          42,
          42,
          42,
          42,
          42,
          62,
          62,
          62,
          62,
          62,
          82,
          82,
          82,
          82,
          82,
          102,
          102,
          102,
          102,
          102,
          122,
          122,
          122,
          122,
          122,
          142,
          142,
          142,
          142,
          142,
          162,
          162,
          162,
          162,
          162,
          182,
          182,
          182,
          182,
          182,
          202,
          202,
          202,
          202,
          202,
          222,
          222,
          222,
          222,
          222,
          242,
          242,
          242,
          242,
          242
         ],
         "y": [
          0.42408929692709424,
          0.4009084856416858,
          0.41759461755805694,
          0.4116471972680722,
          0.4366615669419349,
          0.20213790119168676,
          0.27946410443136555,
          0.17360642378859062,
          0.27499010069341073,
          0.23336864509780866,
          0.3794102119570741,
          0.31078863106743837,
          0.27340885636510154,
          0.36803766652078473,
          0.3597607607753386,
          0.2701839981657836,
          0.48122895473362476,
          0.26401695649821805,
          0.3009707516080649,
          0.3120848395487731,
          0.3425000346989855,
          0.25588074731190086,
          0.23726317446373082,
          0.33457764292257103,
          0.16782335514454996,
          0.3069836094817107,
          0.23799671115895504,
          0.25705683395079737,
          0.3414847250741367,
          0.3762895228744804,
          0.4374941834673751,
          0.3847121593334977,
          0.3612895141582387,
          0.32154566408388313,
          0.2579989701313133,
          0.29162119525356145,
          0.30493439365416636,
          0.2806955502460097,
          0.18558868110300764,
          0.2656712483512674,
          0.23248145158755731,
          0.3415088990667771,
          0.29360956777259184,
          0.3564669007278624,
          0.25880254909221945,
          0.3362530440835616,
          0.3019402013659364,
          0.3283858134288367,
          0.36196165638492417,
          0.337939523768315,
          0.3728795395671076,
          0.21915446350630288,
          0.38124268510007836,
          0.2774214735294468,
          0.33293387907483524,
          0.2522540691648849,
          0.23547459034986593,
          0.3297388689803566,
          0.2515172741851769,
          0.2814584009818424,
          0.3477518616764175,
          0.369648236058971,
          0.3469146238767367,
          0.2555872133787251,
          0.24319976014728717
         ]
        },
        {
         "mode": "lines+markers",
         "name": "Средние значения",
         "type": "scatter",
         "x": [
          2,
          22,
          42,
          62,
          82,
          102,
          122,
          142,
          162,
          182,
          202,
          222,
          242
         ],
         "y": [
          0.41818023286736883,
          0.23271343504057249,
          0.3382812253371475,
          0.3256971001108929,
          0.26760899090834767,
          0.3039622805080161,
          0.35260809823486156,
          0.26570221372160246,
          0.29657387364940163,
          0.3332960478063148,
          0.3167264081555542,
          0.27008864073242533,
          0.3126203390276275
         ]
        }
       ],
       "layout": {
        "font": {
         "size": 20
        },
        "height": 720,
        "template": {
         "data": {
          "bar": [
           {
            "error_x": {
             "color": "#2a3f5f"
            },
            "error_y": {
             "color": "#2a3f5f"
            },
            "marker": {
             "line": {
              "color": "#E5ECF6",
              "width": 0.5
             },
             "pattern": {
              "fillmode": "overlay",
              "size": 10,
              "solidity": 0.2
             }
            },
            "type": "bar"
           }
          ],
          "barpolar": [
           {
            "marker": {
             "line": {
              "color": "#E5ECF6",
              "width": 0.5
             },
             "pattern": {
              "fillmode": "overlay",
              "size": 10,
              "solidity": 0.2
             }
            },
            "type": "barpolar"
           }
          ],
          "carpet": [
           {
            "aaxis": {
             "endlinecolor": "#2a3f5f",
             "gridcolor": "white",
             "linecolor": "white",
             "minorgridcolor": "white",
             "startlinecolor": "#2a3f5f"
            },
            "baxis": {
             "endlinecolor": "#2a3f5f",
             "gridcolor": "white",
             "linecolor": "white",
             "minorgridcolor": "white",
             "startlinecolor": "#2a3f5f"
            },
            "type": "carpet"
           }
          ],
          "choropleth": [
           {
            "colorbar": {
             "outlinewidth": 0,
             "ticks": ""
            },
            "type": "choropleth"
           }
          ],
          "contour": [
           {
            "colorbar": {
             "outlinewidth": 0,
             "ticks": ""
            },
            "colorscale": [
             [
              0,
              "#0d0887"
             ],
             [
              0.1111111111111111,
              "#46039f"
             ],
             [
              0.2222222222222222,
              "#7201a8"
             ],
             [
              0.3333333333333333,
              "#9c179e"
             ],
             [
              0.4444444444444444,
              "#bd3786"
             ],
             [
              0.5555555555555556,
              "#d8576b"
             ],
             [
              0.6666666666666666,
              "#ed7953"
             ],
             [
              0.7777777777777778,
              "#fb9f3a"
             ],
             [
              0.8888888888888888,
              "#fdca26"
             ],
             [
              1,
              "#f0f921"
             ]
            ],
            "type": "contour"
           }
          ],
          "contourcarpet": [
           {
            "colorbar": {
             "outlinewidth": 0,
             "ticks": ""
            },
            "type": "contourcarpet"
           }
          ],
          "heatmap": [
           {
            "colorbar": {
             "outlinewidth": 0,
             "ticks": ""
            },
            "colorscale": [
             [
              0,
              "#0d0887"
             ],
             [
              0.1111111111111111,
              "#46039f"
             ],
             [
              0.2222222222222222,
              "#7201a8"
             ],
             [
              0.3333333333333333,
              "#9c179e"
             ],
             [
              0.4444444444444444,
              "#bd3786"
             ],
             [
              0.5555555555555556,
              "#d8576b"
             ],
             [
              0.6666666666666666,
              "#ed7953"
             ],
             [
              0.7777777777777778,
              "#fb9f3a"
             ],
             [
              0.8888888888888888,
              "#fdca26"
             ],
             [
              1,
              "#f0f921"
             ]
            ],
            "type": "heatmap"
           }
          ],
          "heatmapgl": [
           {
            "colorbar": {
             "outlinewidth": 0,
             "ticks": ""
            },
            "colorscale": [
             [
              0,
              "#0d0887"
             ],
             [
              0.1111111111111111,
              "#46039f"
             ],
             [
              0.2222222222222222,
              "#7201a8"
             ],
             [
              0.3333333333333333,
              "#9c179e"
             ],
             [
              0.4444444444444444,
              "#bd3786"
             ],
             [
              0.5555555555555556,
              "#d8576b"
             ],
             [
              0.6666666666666666,
              "#ed7953"
             ],
             [
              0.7777777777777778,
              "#fb9f3a"
             ],
             [
              0.8888888888888888,
              "#fdca26"
             ],
             [
              1,
              "#f0f921"
             ]
            ],
            "type": "heatmapgl"
           }
          ],
          "histogram": [
           {
            "marker": {
             "pattern": {
              "fillmode": "overlay",
              "size": 10,
              "solidity": 0.2
             }
            },
            "type": "histogram"
           }
          ],
          "histogram2d": [
           {
            "colorbar": {
             "outlinewidth": 0,
             "ticks": ""
            },
            "colorscale": [
             [
              0,
              "#0d0887"
             ],
             [
              0.1111111111111111,
              "#46039f"
             ],
             [
              0.2222222222222222,
              "#7201a8"
             ],
             [
              0.3333333333333333,
              "#9c179e"
             ],
             [
              0.4444444444444444,
              "#bd3786"
             ],
             [
              0.5555555555555556,
              "#d8576b"
             ],
             [
              0.6666666666666666,
              "#ed7953"
             ],
             [
              0.7777777777777778,
              "#fb9f3a"
             ],
             [
              0.8888888888888888,
              "#fdca26"
             ],
             [
              1,
              "#f0f921"
             ]
            ],
            "type": "histogram2d"
           }
          ],
          "histogram2dcontour": [
           {
            "colorbar": {
             "outlinewidth": 0,
             "ticks": ""
            },
            "colorscale": [
             [
              0,
              "#0d0887"
             ],
             [
              0.1111111111111111,
              "#46039f"
             ],
             [
              0.2222222222222222,
              "#7201a8"
             ],
             [
              0.3333333333333333,
              "#9c179e"
             ],
             [
              0.4444444444444444,
              "#bd3786"
             ],
             [
              0.5555555555555556,
              "#d8576b"
             ],
             [
              0.6666666666666666,
              "#ed7953"
             ],
             [
              0.7777777777777778,
              "#fb9f3a"
             ],
             [
              0.8888888888888888,
              "#fdca26"
             ],
             [
              1,
              "#f0f921"
             ]
            ],
            "type": "histogram2dcontour"
           }
          ],
          "mesh3d": [
           {
            "colorbar": {
             "outlinewidth": 0,
             "ticks": ""
            },
            "type": "mesh3d"
           }
          ],
          "parcoords": [
           {
            "line": {
             "colorbar": {
              "outlinewidth": 0,
              "ticks": ""
             }
            },
            "type": "parcoords"
           }
          ],
          "pie": [
           {
            "automargin": true,
            "type": "pie"
           }
          ],
          "scatter": [
           {
            "fillpattern": {
             "fillmode": "overlay",
             "size": 10,
             "solidity": 0.2
            },
            "type": "scatter"
           }
          ],
          "scatter3d": [
           {
            "line": {
             "colorbar": {
              "outlinewidth": 0,
              "ticks": ""
             }
            },
            "marker": {
             "colorbar": {
              "outlinewidth": 0,
              "ticks": ""
             }
            },
            "type": "scatter3d"
           }
          ],
          "scattercarpet": [
           {
            "marker": {
             "colorbar": {
              "outlinewidth": 0,
              "ticks": ""
             }
            },
            "type": "scattercarpet"
           }
          ],
          "scattergeo": [
           {
            "marker": {
             "colorbar": {
              "outlinewidth": 0,
              "ticks": ""
             }
            },
            "type": "scattergeo"
           }
          ],
          "scattergl": [
           {
            "marker": {
             "colorbar": {
              "outlinewidth": 0,
              "ticks": ""
             }
            },
            "type": "scattergl"
           }
          ],
          "scattermapbox": [
           {
            "marker": {
             "colorbar": {
              "outlinewidth": 0,
              "ticks": ""
             }
            },
            "type": "scattermapbox"
           }
          ],
          "scatterpolar": [
           {
            "marker": {
             "colorbar": {
              "outlinewidth": 0,
              "ticks": ""
             }
            },
            "type": "scatterpolar"
           }
          ],
          "scatterpolargl": [
           {
            "marker": {
             "colorbar": {
              "outlinewidth": 0,
              "ticks": ""
             }
            },
            "type": "scatterpolargl"
           }
          ],
          "scatterternary": [
           {
            "marker": {
             "colorbar": {
              "outlinewidth": 0,
              "ticks": ""
             }
            },
            "type": "scatterternary"
           }
          ],
          "surface": [
           {
            "colorbar": {
             "outlinewidth": 0,
             "ticks": ""
            },
            "colorscale": [
             [
              0,
              "#0d0887"
             ],
             [
              0.1111111111111111,
              "#46039f"
             ],
             [
              0.2222222222222222,
              "#7201a8"
             ],
             [
              0.3333333333333333,
              "#9c179e"
             ],
             [
              0.4444444444444444,
              "#bd3786"
             ],
             [
              0.5555555555555556,
              "#d8576b"
             ],
             [
              0.6666666666666666,
              "#ed7953"
             ],
             [
              0.7777777777777778,
              "#fb9f3a"
             ],
             [
              0.8888888888888888,
              "#fdca26"
             ],
             [
              1,
              "#f0f921"
             ]
            ],
            "type": "surface"
           }
          ],
          "table": [
           {
            "cells": {
             "fill": {
              "color": "#EBF0F8"
             },
             "line": {
              "color": "white"
             }
            },
            "header": {
             "fill": {
              "color": "#C8D4E3"
             },
             "line": {
              "color": "white"
             }
            },
            "type": "table"
           }
          ]
         },
         "layout": {
          "annotationdefaults": {
           "arrowcolor": "#2a3f5f",
           "arrowhead": 0,
           "arrowwidth": 1
          },
          "autotypenumbers": "strict",
          "coloraxis": {
           "colorbar": {
            "outlinewidth": 0,
            "ticks": ""
           }
          },
          "colorscale": {
           "diverging": [
            [
             0,
             "#8e0152"
            ],
            [
             0.1,
             "#c51b7d"
            ],
            [
             0.2,
             "#de77ae"
            ],
            [
             0.3,
             "#f1b6da"
            ],
            [
             0.4,
             "#fde0ef"
            ],
            [
             0.5,
             "#f7f7f7"
            ],
            [
             0.6,
             "#e6f5d0"
            ],
            [
             0.7,
             "#b8e186"
            ],
            [
             0.8,
             "#7fbc41"
            ],
            [
             0.9,
             "#4d9221"
            ],
            [
             1,
             "#276419"
            ]
           ],
           "sequential": [
            [
             0,
             "#0d0887"
            ],
            [
             0.1111111111111111,
             "#46039f"
            ],
            [
             0.2222222222222222,
             "#7201a8"
            ],
            [
             0.3333333333333333,
             "#9c179e"
            ],
            [
             0.4444444444444444,
             "#bd3786"
            ],
            [
             0.5555555555555556,
             "#d8576b"
            ],
            [
             0.6666666666666666,
             "#ed7953"
            ],
            [
             0.7777777777777778,
             "#fb9f3a"
            ],
            [
             0.8888888888888888,
             "#fdca26"
            ],
            [
             1,
             "#f0f921"
            ]
           ],
           "sequentialminus": [
            [
             0,
             "#0d0887"
            ],
            [
             0.1111111111111111,
             "#46039f"
            ],
            [
             0.2222222222222222,
             "#7201a8"
            ],
            [
             0.3333333333333333,
             "#9c179e"
            ],
            [
             0.4444444444444444,
             "#bd3786"
            ],
            [
             0.5555555555555556,
             "#d8576b"
            ],
            [
             0.6666666666666666,
             "#ed7953"
            ],
            [
             0.7777777777777778,
             "#fb9f3a"
            ],
            [
             0.8888888888888888,
             "#fdca26"
            ],
            [
             1,
             "#f0f921"
            ]
           ]
          },
          "colorway": [
           "#636efa",
           "#EF553B",
           "#00cc96",
           "#ab63fa",
           "#FFA15A",
           "#19d3f3",
           "#FF6692",
           "#B6E880",
           "#FF97FF",
           "#FECB52"
          ],
          "font": {
           "color": "#2a3f5f"
          },
          "geo": {
           "bgcolor": "white",
           "lakecolor": "white",
           "landcolor": "#E5ECF6",
           "showlakes": true,
           "showland": true,
           "subunitcolor": "white"
          },
          "hoverlabel": {
           "align": "left"
          },
          "hovermode": "closest",
          "mapbox": {
           "style": "light"
          },
          "paper_bgcolor": "white",
          "plot_bgcolor": "#E5ECF6",
          "polar": {
           "angularaxis": {
            "gridcolor": "white",
            "linecolor": "white",
            "ticks": ""
           },
           "bgcolor": "#E5ECF6",
           "radialaxis": {
            "gridcolor": "white",
            "linecolor": "white",
            "ticks": ""
           }
          },
          "scene": {
           "xaxis": {
            "backgroundcolor": "#E5ECF6",
            "gridcolor": "white",
            "gridwidth": 2,
            "linecolor": "white",
            "showbackground": true,
            "ticks": "",
            "zerolinecolor": "white"
           },
           "yaxis": {
            "backgroundcolor": "#E5ECF6",
            "gridcolor": "white",
            "gridwidth": 2,
            "linecolor": "white",
            "showbackground": true,
            "ticks": "",
            "zerolinecolor": "white"
           },
           "zaxis": {
            "backgroundcolor": "#E5ECF6",
            "gridcolor": "white",
            "gridwidth": 2,
            "linecolor": "white",
            "showbackground": true,
            "ticks": "",
            "zerolinecolor": "white"
           }
          },
          "shapedefaults": {
           "line": {
            "color": "#2a3f5f"
           }
          },
          "ternary": {
           "aaxis": {
            "gridcolor": "white",
            "linecolor": "white",
            "ticks": ""
           },
           "baxis": {
            "gridcolor": "white",
            "linecolor": "white",
            "ticks": ""
           },
           "bgcolor": "#E5ECF6",
           "caxis": {
            "gridcolor": "white",
            "linecolor": "white",
            "ticks": ""
           }
          },
          "title": {
           "x": 0.05
          },
          "xaxis": {
           "automargin": true,
           "gridcolor": "white",
           "linecolor": "white",
           "ticks": "",
           "title": {
            "standoff": 15
           },
           "zerolinecolor": "white",
           "zerolinewidth": 2
          },
          "yaxis": {
           "automargin": true,
           "gridcolor": "white",
           "linecolor": "white",
           "ticks": "",
           "title": {
            "standoff": 15
           },
           "zerolinecolor": "white",
           "zerolinewidth": 2
          }
         }
        },
        "title": {
         "text": "Зависимость средней абсолютной ошибки от<br>размера скользящего окна"
        },
        "width": 1280,
        "xaxis": {
         "title": {
          "text": "Размер скользящего окна"
         }
        },
        "yaxis": {
         "title": {
          "text": "Средняя абсолютная ошибка"
         }
        }
       }
      }
     },
     "metadata": {},
     "output_type": "display_data"
    }
   ],
   "source": [
    "# Plotting results\n",
    "fig = go.Figure()\n",
    "fig.add_trace(\n",
    "    go.Scatter(x=all_sizes, y=all_mapes,\n",
    "               name='Все наблюдения', mode='markers')\n",
    ")\n",
    "fig.add_trace(\n",
    "    go.Scatter(x=window_sizes, y=mapes_mean,\n",
    "               name='Средние значения', mode='lines+markers')\n",
    ")\n",
    "fig.update_layout(\n",
    "    title='Зависимость средней абсолютной ошибки от<br>размера скользящего окна',\n",
    "    font=dict(size=20),\n",
    "    xaxis=dict(title='Размер скользящего окна'),\n",
    "    yaxis=dict(title='Средняя абсолютная ошибка'),\n",
    "    width=1280,\n",
    "    height=720\n",
    ")\n",
    "fig.show()"
   ]
  },
  {
   "cell_type": "code",
   "execution_count": 10,
   "metadata": {},
   "outputs": [
    {
     "name": "stdout",
     "output_type": "stream",
     "text": [
      "[0, 1, 1, 2, 3, 5, 8, 13, 21, 34, 55, 89, 144]\n",
      "TRAINING FINISHED\n",
      "Epoch 2000/2000, Loss: 0.072960\n",
      "MAPE: 1.098746\n",
      "TRAINING FINISHED\n",
      "Epoch 2000/2000, Loss: 0.103815\n",
      "MAPE: 1.317980\n",
      "TRAINING FINISHED\n",
      "Epoch 2000/2000, Loss: 0.057144\n",
      "MAPE: 0.943951\n",
      "TRAINING FINISHED\n",
      "Epoch 2000/2000, Loss: 0.057585\n",
      "MAPE: 0.985164\n",
      "TRAINING FINISHED\n",
      "Epoch 2000/2000, Loss: 0.115869\n",
      "MAPE: 1.297140\n",
      "[1, 4, 9, 16, 25, 36, 49, 64, 81, 100, 121, 144, 169]\n",
      "TRAINING FINISHED\n",
      "Epoch 2000/2000, Loss: 0.043033\n",
      "MAPE: 0.984465\n",
      "TRAINING FINISHED\n",
      "Epoch 2000/2000, Loss: 0.005189\n",
      "MAPE: 0.295546\n",
      "TRAINING FINISHED\n",
      "Epoch 2000/2000, Loss: 0.046015\n",
      "MAPE: 0.983851\n",
      "TRAINING FINISHED\n",
      "Epoch 2000/2000, Loss: 0.010621\n",
      "MAPE: 0.430717\n",
      "TRAINING FINISHED\n",
      "Epoch 2000/2000, Loss: 0.019934\n",
      "MAPE: 0.698109\n",
      "[1, 2, 3, 4, 5, 6, 7, 8, 9, 10, 11, 12, 13]\n",
      "TRAINING FINISHED\n",
      "Epoch 2000/2000, Loss: 0.005330\n",
      "MAPE: 0.260070\n",
      "TRAINING FINISHED\n",
      "Epoch 2000/2000, Loss: 0.008696\n",
      "MAPE: 0.321637\n",
      "TRAINING FINISHED\n",
      "Epoch 2000/2000, Loss: 0.005418\n",
      "MAPE: 0.251922\n",
      "TRAINING FINISHED\n",
      "Epoch 2000/2000, Loss: 0.002570\n",
      "MAPE: 0.175243\n",
      "TRAINING FINISHED\n",
      "Epoch 2000/2000, Loss: 0.012549\n",
      "MAPE: 0.381499\n",
      "[1.0, 0.5, 0.3333333333333333, 0.25, 0.2, 0.16666666666666666, 0.14285714285714285, 0.125, 0.1111111111111111, 0.1, 0.09090909090909091, 0.08333333333333333, 0.07692307692307693]\n",
      "TRAINING FINISHED\n",
      "Epoch 2000/2000, Loss: 0.001270\n",
      "MAPE: 0.098596\n",
      "TRAINING FINISHED\n",
      "Epoch 2000/2000, Loss: 0.002432\n",
      "MAPE: 0.140493\n",
      "TRAINING FINISHED\n",
      "Epoch 2000/2000, Loss: 0.000846\n",
      "MAPE: 0.086465\n",
      "TRAINING FINISHED\n",
      "Epoch 2000/2000, Loss: 0.003187\n",
      "MAPE: 0.167483\n",
      "TRAINING FINISHED\n",
      "Epoch 2000/2000, Loss: 0.002092\n",
      "MAPE: 0.138547\n",
      "[1, -1, 1, -1, 1, -1, 1, -1, 1, -1, 1, -1, 1]\n",
      "TRAINING FINISHED\n",
      "Epoch 2000/2000, Loss: 0.008527\n",
      "MAPE: 0.119541\n",
      "TRAINING FINISHED\n",
      "Epoch 2000/2000, Loss: 0.011656\n",
      "MAPE: 0.143413\n",
      "TRAINING FINISHED\n",
      "Epoch 2000/2000, Loss: 0.006815\n",
      "MAPE: 0.106181\n",
      "TRAINING FINISHED\n",
      "Epoch 2000/2000, Loss: 0.005231\n",
      "MAPE: 0.091592\n",
      "TRAINING FINISHED\n",
      "Epoch 2000/2000, Loss: 0.008268\n",
      "MAPE: 0.118955\n",
      "[1, 0.5, 1, 0.5, 0.5, 1, 0.5, 0.5, 0.5, 1, 0.5, 0.5, 0.5]\n",
      "TRAINING FINISHED\n",
      "Epoch 2000/2000, Loss: 0.233460\n",
      "MAPE: 0.589920\n",
      "TRAINING FINISHED\n",
      "Epoch 2000/2000, Loss: 0.223046\n",
      "MAPE: 0.580448\n",
      "TRAINING FINISHED\n",
      "Epoch 2000/2000, Loss: 0.205779\n",
      "MAPE: 0.570525\n",
      "TRAINING FINISHED\n",
      "Epoch 2000/2000, Loss: 0.257748\n",
      "MAPE: 0.617841\n",
      "TRAINING FINISHED\n",
      "Epoch 2000/2000, Loss: 0.227925\n",
      "MAPE: 0.593990\n"
     ]
    }
   ],
   "source": [
    "# Настройки эксперимента\n",
    "experiments_amount = 5\n",
    "seq_length = 10\n",
    "window_size = 3\n",
    "batch_size = 2\n",
    "hidden_size = 10\n",
    "output_size = 3\n",
    "max_epochs = 2000\n",
    "verbosity = 100000\n",
    "lr = 1e-2\n",
    "\n",
    "# Словарь с генераторами\n",
    "sequence_generators = {\n",
    "    \"1, 1, 2, 3, 5, 8,...\": lambda n: list(fibonacci_generator(n)),\n",
    "    \"1, 4, 9, 16,...\": lambda n: list(squared_generator(n)),\n",
    "    \"1, 2, 3, 4, 5,...\": lambda n: list(arithmetic_progression(n, a0=1, d=1)),    \n",
    "    \"1, 0.5 ,0.(3), 0.25, 0.2,...\": lambda n: list(one_by_n_generator(n)),\n",
    "    \"1, -1, 1, -1,...\": lambda n: list(plus_one_minus_one_generator(n)),\n",
    "    \"1, 0.5, 1, 0.5, 0.5, 1,...\": lambda n: list(one_half_generator(n)),\n",
    "}\n",
    "\n",
    "all_mapes = []\n",
    "mapes_mean = []\n",
    "all_sequences = []\n",
    "\n",
    "# Тренировка для каждой последовательности\n",
    "for seq_name, seq_generator in sequence_generators.items():\n",
    "    sequence = seq_generator(seq_length + output_size)\n",
    "    print(sequence)   \n",
    "\n",
    "    mapes_sum = 0\n",
    "    for _ in range(experiments_amount):\n",
    "        all_sequences.append(seq_name)\n",
    "        \n",
    "        train_sequence = sequence[:seq_length]\n",
    "        test_sequence = sequence[-output_size:]\n",
    "        training_mape, model, next_n_pred, mean, deviation = predict_next_n_elements(\n",
    "            train_sequence, window_size, batch_size,\n",
    "            hidden_size, output_size, max_epochs,\n",
    "            verbosity, lr, use_adam=use_adam\n",
    "        )\n",
    "        all_epochs.append(max_epochs)\n",
    "        \n",
    "        # Test sequence mape\n",
    "        test_sequence = sequence[-output_size:]\n",
    "        test_mape = mape(test_sequence, next_n_pred)\n",
    "        mapes_sum += test_mape    \n",
    "        all_mapes.append(test_mape)\n",
    "\n",
    "    mapes_mean.append(mapes_sum / experiments_amount)"
   ]
  },
  {
   "cell_type": "code",
   "execution_count": 11,
   "metadata": {},
   "outputs": [
    {
     "data": {
      "application/vnd.plotly.v1+json": {
       "config": {
        "plotlyServerURL": "https://plot.ly"
       },
       "data": [
        {
         "mode": "markers",
         "name": "Все наблюдения",
         "type": "scatter",
         "x": [
          "1, 1, 2, 3, 5, 8,...",
          "1, 1, 2, 3, 5, 8,...",
          "1, 1, 2, 3, 5, 8,...",
          "1, 1, 2, 3, 5, 8,...",
          "1, 1, 2, 3, 5, 8,...",
          "1, 4, 9, 16,...",
          "1, 4, 9, 16,...",
          "1, 4, 9, 16,...",
          "1, 4, 9, 16,...",
          "1, 4, 9, 16,...",
          "1, 2, 3, 4, 5,...",
          "1, 2, 3, 4, 5,...",
          "1, 2, 3, 4, 5,...",
          "1, 2, 3, 4, 5,...",
          "1, 2, 3, 4, 5,...",
          "1, 0.5 ,0.(3), 0.25, 0.2,...",
          "1, 0.5 ,0.(3), 0.25, 0.2,...",
          "1, 0.5 ,0.(3), 0.25, 0.2,...",
          "1, 0.5 ,0.(3), 0.25, 0.2,...",
          "1, 0.5 ,0.(3), 0.25, 0.2,...",
          "1, -1, 1, -1,...",
          "1, -1, 1, -1,...",
          "1, -1, 1, -1,...",
          "1, -1, 1, -1,...",
          "1, -1, 1, -1,...",
          "1, 0.5, 1, 0.5, 0.5, 1,...",
          "1, 0.5, 1, 0.5, 0.5, 1,...",
          "1, 0.5, 1, 0.5, 0.5, 1,...",
          "1, 0.5, 1, 0.5, 0.5, 1,...",
          "1, 0.5, 1, 0.5, 0.5, 1,..."
         ],
         "y": [
          0.862192937504967,
          0.8276421558457551,
          0.8360608796395087,
          0.8628964192260701,
          0.8031129017380293,
          0.4722606884920948,
          0.34865242048995687,
          0.40188656168132475,
          0.42146038820747717,
          0.3949824173196537,
          0.2191695441107604,
          0.24705280561973897,
          0.21322199007241652,
          0.24301098624036852,
          0.2355362605701934,
          0.5608005474645519,
          0.6411840680108283,
          0.5781349053537648,
          0.6970153943832572,
          0.6992569767886341,
          0.21740187158780722,
          0.22504810325839184,
          0.19422860101251538,
          0.16575440024590757,
          0.18605012451796574,
          0.18446218901824843,
          0.2100251841146027,
          0.18801542462047763,
          0.18080345436602108,
          0.16474218585214198
         ]
        },
        {
         "mode": "markers",
         "name": "Средние значения",
         "type": "scatter",
         "x": [
          "1, 1, 2, 3, 5, 8,...",
          "1, 4, 9, 16,...",
          "1, 2, 3, 4, 5,...",
          "1, 0.5 ,0.(3), 0.25, 0.2,...",
          "1, -1, 1, -1,...",
          "1, 0.5, 1, 0.5, 0.5, 1,..."
         ],
         "y": [
          0.8383810587908661,
          0.40784849523810146,
          0.23159831732269556,
          0.6352783784002073,
          0.19769662012451755,
          0.18560968759429836
         ]
        }
       ],
       "layout": {
        "font": {
         "size": 20
        },
        "height": 720,
        "template": {
         "data": {
          "bar": [
           {
            "error_x": {
             "color": "#2a3f5f"
            },
            "error_y": {
             "color": "#2a3f5f"
            },
            "marker": {
             "line": {
              "color": "#E5ECF6",
              "width": 0.5
             },
             "pattern": {
              "fillmode": "overlay",
              "size": 10,
              "solidity": 0.2
             }
            },
            "type": "bar"
           }
          ],
          "barpolar": [
           {
            "marker": {
             "line": {
              "color": "#E5ECF6",
              "width": 0.5
             },
             "pattern": {
              "fillmode": "overlay",
              "size": 10,
              "solidity": 0.2
             }
            },
            "type": "barpolar"
           }
          ],
          "carpet": [
           {
            "aaxis": {
             "endlinecolor": "#2a3f5f",
             "gridcolor": "white",
             "linecolor": "white",
             "minorgridcolor": "white",
             "startlinecolor": "#2a3f5f"
            },
            "baxis": {
             "endlinecolor": "#2a3f5f",
             "gridcolor": "white",
             "linecolor": "white",
             "minorgridcolor": "white",
             "startlinecolor": "#2a3f5f"
            },
            "type": "carpet"
           }
          ],
          "choropleth": [
           {
            "colorbar": {
             "outlinewidth": 0,
             "ticks": ""
            },
            "type": "choropleth"
           }
          ],
          "contour": [
           {
            "colorbar": {
             "outlinewidth": 0,
             "ticks": ""
            },
            "colorscale": [
             [
              0,
              "#0d0887"
             ],
             [
              0.1111111111111111,
              "#46039f"
             ],
             [
              0.2222222222222222,
              "#7201a8"
             ],
             [
              0.3333333333333333,
              "#9c179e"
             ],
             [
              0.4444444444444444,
              "#bd3786"
             ],
             [
              0.5555555555555556,
              "#d8576b"
             ],
             [
              0.6666666666666666,
              "#ed7953"
             ],
             [
              0.7777777777777778,
              "#fb9f3a"
             ],
             [
              0.8888888888888888,
              "#fdca26"
             ],
             [
              1,
              "#f0f921"
             ]
            ],
            "type": "contour"
           }
          ],
          "contourcarpet": [
           {
            "colorbar": {
             "outlinewidth": 0,
             "ticks": ""
            },
            "type": "contourcarpet"
           }
          ],
          "heatmap": [
           {
            "colorbar": {
             "outlinewidth": 0,
             "ticks": ""
            },
            "colorscale": [
             [
              0,
              "#0d0887"
             ],
             [
              0.1111111111111111,
              "#46039f"
             ],
             [
              0.2222222222222222,
              "#7201a8"
             ],
             [
              0.3333333333333333,
              "#9c179e"
             ],
             [
              0.4444444444444444,
              "#bd3786"
             ],
             [
              0.5555555555555556,
              "#d8576b"
             ],
             [
              0.6666666666666666,
              "#ed7953"
             ],
             [
              0.7777777777777778,
              "#fb9f3a"
             ],
             [
              0.8888888888888888,
              "#fdca26"
             ],
             [
              1,
              "#f0f921"
             ]
            ],
            "type": "heatmap"
           }
          ],
          "heatmapgl": [
           {
            "colorbar": {
             "outlinewidth": 0,
             "ticks": ""
            },
            "colorscale": [
             [
              0,
              "#0d0887"
             ],
             [
              0.1111111111111111,
              "#46039f"
             ],
             [
              0.2222222222222222,
              "#7201a8"
             ],
             [
              0.3333333333333333,
              "#9c179e"
             ],
             [
              0.4444444444444444,
              "#bd3786"
             ],
             [
              0.5555555555555556,
              "#d8576b"
             ],
             [
              0.6666666666666666,
              "#ed7953"
             ],
             [
              0.7777777777777778,
              "#fb9f3a"
             ],
             [
              0.8888888888888888,
              "#fdca26"
             ],
             [
              1,
              "#f0f921"
             ]
            ],
            "type": "heatmapgl"
           }
          ],
          "histogram": [
           {
            "marker": {
             "pattern": {
              "fillmode": "overlay",
              "size": 10,
              "solidity": 0.2
             }
            },
            "type": "histogram"
           }
          ],
          "histogram2d": [
           {
            "colorbar": {
             "outlinewidth": 0,
             "ticks": ""
            },
            "colorscale": [
             [
              0,
              "#0d0887"
             ],
             [
              0.1111111111111111,
              "#46039f"
             ],
             [
              0.2222222222222222,
              "#7201a8"
             ],
             [
              0.3333333333333333,
              "#9c179e"
             ],
             [
              0.4444444444444444,
              "#bd3786"
             ],
             [
              0.5555555555555556,
              "#d8576b"
             ],
             [
              0.6666666666666666,
              "#ed7953"
             ],
             [
              0.7777777777777778,
              "#fb9f3a"
             ],
             [
              0.8888888888888888,
              "#fdca26"
             ],
             [
              1,
              "#f0f921"
             ]
            ],
            "type": "histogram2d"
           }
          ],
          "histogram2dcontour": [
           {
            "colorbar": {
             "outlinewidth": 0,
             "ticks": ""
            },
            "colorscale": [
             [
              0,
              "#0d0887"
             ],
             [
              0.1111111111111111,
              "#46039f"
             ],
             [
              0.2222222222222222,
              "#7201a8"
             ],
             [
              0.3333333333333333,
              "#9c179e"
             ],
             [
              0.4444444444444444,
              "#bd3786"
             ],
             [
              0.5555555555555556,
              "#d8576b"
             ],
             [
              0.6666666666666666,
              "#ed7953"
             ],
             [
              0.7777777777777778,
              "#fb9f3a"
             ],
             [
              0.8888888888888888,
              "#fdca26"
             ],
             [
              1,
              "#f0f921"
             ]
            ],
            "type": "histogram2dcontour"
           }
          ],
          "mesh3d": [
           {
            "colorbar": {
             "outlinewidth": 0,
             "ticks": ""
            },
            "type": "mesh3d"
           }
          ],
          "parcoords": [
           {
            "line": {
             "colorbar": {
              "outlinewidth": 0,
              "ticks": ""
             }
            },
            "type": "parcoords"
           }
          ],
          "pie": [
           {
            "automargin": true,
            "type": "pie"
           }
          ],
          "scatter": [
           {
            "fillpattern": {
             "fillmode": "overlay",
             "size": 10,
             "solidity": 0.2
            },
            "type": "scatter"
           }
          ],
          "scatter3d": [
           {
            "line": {
             "colorbar": {
              "outlinewidth": 0,
              "ticks": ""
             }
            },
            "marker": {
             "colorbar": {
              "outlinewidth": 0,
              "ticks": ""
             }
            },
            "type": "scatter3d"
           }
          ],
          "scattercarpet": [
           {
            "marker": {
             "colorbar": {
              "outlinewidth": 0,
              "ticks": ""
             }
            },
            "type": "scattercarpet"
           }
          ],
          "scattergeo": [
           {
            "marker": {
             "colorbar": {
              "outlinewidth": 0,
              "ticks": ""
             }
            },
            "type": "scattergeo"
           }
          ],
          "scattergl": [
           {
            "marker": {
             "colorbar": {
              "outlinewidth": 0,
              "ticks": ""
             }
            },
            "type": "scattergl"
           }
          ],
          "scattermapbox": [
           {
            "marker": {
             "colorbar": {
              "outlinewidth": 0,
              "ticks": ""
             }
            },
            "type": "scattermapbox"
           }
          ],
          "scatterpolar": [
           {
            "marker": {
             "colorbar": {
              "outlinewidth": 0,
              "ticks": ""
             }
            },
            "type": "scatterpolar"
           }
          ],
          "scatterpolargl": [
           {
            "marker": {
             "colorbar": {
              "outlinewidth": 0,
              "ticks": ""
             }
            },
            "type": "scatterpolargl"
           }
          ],
          "scatterternary": [
           {
            "marker": {
             "colorbar": {
              "outlinewidth": 0,
              "ticks": ""
             }
            },
            "type": "scatterternary"
           }
          ],
          "surface": [
           {
            "colorbar": {
             "outlinewidth": 0,
             "ticks": ""
            },
            "colorscale": [
             [
              0,
              "#0d0887"
             ],
             [
              0.1111111111111111,
              "#46039f"
             ],
             [
              0.2222222222222222,
              "#7201a8"
             ],
             [
              0.3333333333333333,
              "#9c179e"
             ],
             [
              0.4444444444444444,
              "#bd3786"
             ],
             [
              0.5555555555555556,
              "#d8576b"
             ],
             [
              0.6666666666666666,
              "#ed7953"
             ],
             [
              0.7777777777777778,
              "#fb9f3a"
             ],
             [
              0.8888888888888888,
              "#fdca26"
             ],
             [
              1,
              "#f0f921"
             ]
            ],
            "type": "surface"
           }
          ],
          "table": [
           {
            "cells": {
             "fill": {
              "color": "#EBF0F8"
             },
             "line": {
              "color": "white"
             }
            },
            "header": {
             "fill": {
              "color": "#C8D4E3"
             },
             "line": {
              "color": "white"
             }
            },
            "type": "table"
           }
          ]
         },
         "layout": {
          "annotationdefaults": {
           "arrowcolor": "#2a3f5f",
           "arrowhead": 0,
           "arrowwidth": 1
          },
          "autotypenumbers": "strict",
          "coloraxis": {
           "colorbar": {
            "outlinewidth": 0,
            "ticks": ""
           }
          },
          "colorscale": {
           "diverging": [
            [
             0,
             "#8e0152"
            ],
            [
             0.1,
             "#c51b7d"
            ],
            [
             0.2,
             "#de77ae"
            ],
            [
             0.3,
             "#f1b6da"
            ],
            [
             0.4,
             "#fde0ef"
            ],
            [
             0.5,
             "#f7f7f7"
            ],
            [
             0.6,
             "#e6f5d0"
            ],
            [
             0.7,
             "#b8e186"
            ],
            [
             0.8,
             "#7fbc41"
            ],
            [
             0.9,
             "#4d9221"
            ],
            [
             1,
             "#276419"
            ]
           ],
           "sequential": [
            [
             0,
             "#0d0887"
            ],
            [
             0.1111111111111111,
             "#46039f"
            ],
            [
             0.2222222222222222,
             "#7201a8"
            ],
            [
             0.3333333333333333,
             "#9c179e"
            ],
            [
             0.4444444444444444,
             "#bd3786"
            ],
            [
             0.5555555555555556,
             "#d8576b"
            ],
            [
             0.6666666666666666,
             "#ed7953"
            ],
            [
             0.7777777777777778,
             "#fb9f3a"
            ],
            [
             0.8888888888888888,
             "#fdca26"
            ],
            [
             1,
             "#f0f921"
            ]
           ],
           "sequentialminus": [
            [
             0,
             "#0d0887"
            ],
            [
             0.1111111111111111,
             "#46039f"
            ],
            [
             0.2222222222222222,
             "#7201a8"
            ],
            [
             0.3333333333333333,
             "#9c179e"
            ],
            [
             0.4444444444444444,
             "#bd3786"
            ],
            [
             0.5555555555555556,
             "#d8576b"
            ],
            [
             0.6666666666666666,
             "#ed7953"
            ],
            [
             0.7777777777777778,
             "#fb9f3a"
            ],
            [
             0.8888888888888888,
             "#fdca26"
            ],
            [
             1,
             "#f0f921"
            ]
           ]
          },
          "colorway": [
           "#636efa",
           "#EF553B",
           "#00cc96",
           "#ab63fa",
           "#FFA15A",
           "#19d3f3",
           "#FF6692",
           "#B6E880",
           "#FF97FF",
           "#FECB52"
          ],
          "font": {
           "color": "#2a3f5f"
          },
          "geo": {
           "bgcolor": "white",
           "lakecolor": "white",
           "landcolor": "#E5ECF6",
           "showlakes": true,
           "showland": true,
           "subunitcolor": "white"
          },
          "hoverlabel": {
           "align": "left"
          },
          "hovermode": "closest",
          "mapbox": {
           "style": "light"
          },
          "paper_bgcolor": "white",
          "plot_bgcolor": "#E5ECF6",
          "polar": {
           "angularaxis": {
            "gridcolor": "white",
            "linecolor": "white",
            "ticks": ""
           },
           "bgcolor": "#E5ECF6",
           "radialaxis": {
            "gridcolor": "white",
            "linecolor": "white",
            "ticks": ""
           }
          },
          "scene": {
           "xaxis": {
            "backgroundcolor": "#E5ECF6",
            "gridcolor": "white",
            "gridwidth": 2,
            "linecolor": "white",
            "showbackground": true,
            "ticks": "",
            "zerolinecolor": "white"
           },
           "yaxis": {
            "backgroundcolor": "#E5ECF6",
            "gridcolor": "white",
            "gridwidth": 2,
            "linecolor": "white",
            "showbackground": true,
            "ticks": "",
            "zerolinecolor": "white"
           },
           "zaxis": {
            "backgroundcolor": "#E5ECF6",
            "gridcolor": "white",
            "gridwidth": 2,
            "linecolor": "white",
            "showbackground": true,
            "ticks": "",
            "zerolinecolor": "white"
           }
          },
          "shapedefaults": {
           "line": {
            "color": "#2a3f5f"
           }
          },
          "ternary": {
           "aaxis": {
            "gridcolor": "white",
            "linecolor": "white",
            "ticks": ""
           },
           "baxis": {
            "gridcolor": "white",
            "linecolor": "white",
            "ticks": ""
           },
           "bgcolor": "#E5ECF6",
           "caxis": {
            "gridcolor": "white",
            "linecolor": "white",
            "ticks": ""
           }
          },
          "title": {
           "x": 0.05
          },
          "xaxis": {
           "automargin": true,
           "gridcolor": "white",
           "linecolor": "white",
           "ticks": "",
           "title": {
            "standoff": 15
           },
           "zerolinecolor": "white",
           "zerolinewidth": 2
          },
          "yaxis": {
           "automargin": true,
           "gridcolor": "white",
           "linecolor": "white",
           "ticks": "",
           "title": {
            "standoff": 15
           },
           "zerolinecolor": "white",
           "zerolinewidth": 2
          }
         }
        },
        "title": {
         "text": "Зависимость средней абсолютной ошибки<br>от вида последовательности"
        },
        "width": 1280,
        "xaxis": {
         "title": {
          "text": "Вид последовательности"
         }
        },
        "yaxis": {
         "title": {
          "text": "Средняя абсолютная ошибка"
         }
        }
       }
      }
     },
     "metadata": {},
     "output_type": "display_data"
    }
   ],
   "source": [
    "# Построение графика\n",
    "fig = go.Figure()\n",
    "fig.add_trace(\n",
    "    go.Scatter(x=all_sequences, y=all_mapes, name=\"Все наблюдения\", mode=\"markers\")\n",
    ")\n",
    "fig.add_trace(\n",
    "    go.Scatter(x=list(sequence_generators.keys()), y=mapes_mean, name=\"Средние значения\", mode=\"markers\")\n",
    ")\n",
    "fig.update_layout(\n",
    "    title=\"Зависимость средней абсолютной ошибки<br>от вида последовательности\",\n",
    "    font=dict(size=20),\n",
    "    xaxis=dict(title=\"Вид последовательности\"),\n",
    "    yaxis=dict(title=\"Средняя абсолютная ошибка\"),\n",
    "    width=1280,\n",
    "    height=720\n",
    ")\n",
    "fig.show()"
   ]
  },
  {
   "cell_type": "code",
   "execution_count": 12,
   "metadata": {},
   "outputs": [
    {
     "name": "stdout",
     "output_type": "stream",
     "text": [
      "TRAINING FINISHED\n",
      "Epoch 2000/2000, Loss: 0.028077\n",
      "MAPE: 0.016677\n",
      "TEST\n",
      "Предсказания на тестовой выборке:\n",
      " [17.79325494 19.04303641 19.93346374]\n",
      "Истинное значение на тестовой выборке:\n",
      " [18 19 20]\n",
      "MAPE: 0.5693%\n"
     ]
    }
   ],
   "source": [
    "# Arithmetic\n",
    "seq_length = 20\n",
    "window_size = 5\n",
    "batch_size = 2\n",
    "hidden_size = 10\n",
    "output_size = 3\n",
    "\n",
    "sequence = list(arithmetic_progression(seq_length, 1, 1))\n",
    "X, y = create_sliding_window_batches(sequence, window_size, batch_size, output_size)\n",
    "\n",
    "verbosity = 5000\n",
    "model = GRUModel(window_size, hidden_size, output_size)\n",
    "\n",
    "# Параметры обучения\n",
    "lr = 1e-3\n",
    "epochs = 2000\n",
    "\n",
    "model.train(x=X, y=y, lr=lr, max_epochs=epochs, verbosity=verbosity)\n",
    "\n",
    "print('TEST')\n",
    "y_pred, _, _ = model.forward(X)\n",
    "print(\"Предсказания на тестовой выборке:\\n\", y_pred[-1][-1])\n",
    "print(\"Истинное значение на тестовой выборке:\\n\", y[-1][-1])\n",
    "print(f\"MAPE: {mape(y[-1][-1], y_pred[-1][-1]) * 100:.4f}%\")  "
   ]
  },
  {
   "cell_type": "code",
   "execution_count": 13,
   "metadata": {},
   "outputs": [
    {
     "name": "stdout",
     "output_type": "stream",
     "text": [
      "TRAINING FINISHED\n",
      "Epoch 2000/2000, Loss: 319.289598\n",
      "MAPE: 0.616905\n",
      "TEST\n",
      "Предсказания на тестовой выборке:\n",
      " [116.23869509 188.07697139 304.26049756]\n",
      "Истинное значение на тестовой выборке:\n",
      " [144 233 377]\n",
      "MAPE: 19.2844%\n"
     ]
    }
   ],
   "source": [
    "# Fibonacci\n",
    "seq_length = 15\n",
    "window_size = 5\n",
    "batch_size = 2\n",
    "hidden_size = 10\n",
    "output_size = 3\n",
    "\n",
    "sequence = list(fibonacci_generator(seq_length))\n",
    "X, y = create_sliding_window_batches(sequence, window_size, batch_size, output_size)\n",
    "\n",
    "verbosity = 5000\n",
    "model = GRUModel(window_size, hidden_size, output_size)\n",
    "\n",
    "# Параметры обучения\n",
    "lr = 1e-3\n",
    "epochs = 2000\n",
    "\n",
    "model.train(x=X, y=y, lr=lr, max_epochs=epochs, verbosity=verbosity)\n",
    "\n",
    "print('TEST')\n",
    "y_pred, _, _ = model.forward(X)\n",
    "print(\"Предсказания на тестовой выборке:\\n\", y_pred[-1][-1])\n",
    "print(\"Истинное значение на тестовой выборке:\\n\", y[-1][-1])\n",
    "print(f\"MAPE: {mape(y[-1][-1], y_pred[-1][-1]) * 100:.4f}%\")"
   ]
  },
  {
   "cell_type": "code",
   "execution_count": 14,
   "metadata": {},
   "outputs": [
    {
     "name": "stdout",
     "output_type": "stream",
     "text": [
      "TRAINING FINISHED\n",
      "Epoch 2000/2000, Loss: 0.001076\n",
      "MAPE: 0.266920\n",
      "TEST\n",
      "Предсказания на тестовой выборке:\n",
      " [0.06172827 0.0467618  0.04550962]\n",
      "Истинное значение на тестовой выборке:\n",
      " [0.05555556 0.05263158 0.05      ]\n",
      "MAPE: 10.4147%\n"
     ]
    }
   ],
   "source": [
    "# 1 / n\n",
    "seq_length = 20\n",
    "window_size = 5\n",
    "batch_size = 2\n",
    "hidden_size = 10\n",
    "output_size = 3\n",
    "\n",
    "sequence = list(one_by_n_generator(seq_length))\n",
    "X, y = create_sliding_window_batches(sequence, window_size, batch_size, output_size)\n",
    "\n",
    "verbosity = 5000\n",
    "model = GRUModel(window_size, hidden_size, output_size)\n",
    "\n",
    "# Параметры обучения\n",
    "lr = 1e-3\n",
    "epochs = 2000\n",
    "\n",
    "model.train(x=X, y=y, lr=lr, max_epochs=epochs, verbosity=verbosity)\n",
    "\n",
    "print('TEST')\n",
    "y_pred, _, _ = model.forward(X)\n",
    "print(\"Предсказания на тестовой выборке:\\n\", y_pred[-1][-1])\n",
    "print(\"Истинное значение на тестовой выборке:\\n\", y[-1][-1])\n",
    "print(f\"MAPE: {mape(y[-1][-1], y_pred[-1][-1]) * 100:.4f}%\")"
   ]
  },
  {
   "cell_type": "code",
   "execution_count": 15,
   "metadata": {},
   "outputs": [
    {
     "name": "stdout",
     "output_type": "stream",
     "text": [
      "Epoch 2000/2000, Loss: 0.051418\n",
      "MAPE: 0.208200\n",
      "TRAINING FINISHED\n",
      "Epoch 2000/2000, Loss: 0.051404\n",
      "MAPE: 0.208168\n",
      "TEST\n",
      "Предсказания на тестовой выборке:\n",
      " [-0.16109262  0.09186779 -0.09827792]\n",
      "Истинное значение на тестовой выборке:\n",
      " [-1  1 -1]\n",
      "MAPE: 88.2921%\n"
     ]
    }
   ],
   "source": [
    "# 1, -1, 1, -1, ...\n",
    "seq_length = 20\n",
    "window_size = 5\n",
    "batch_size = 2\n",
    "hidden_size = 10\n",
    "output_size = 3\n",
    "\n",
    "sequence = list(plus_one_minus_one_generator(seq_length))\n",
    "X, y = create_sliding_window_batches(sequence, window_size, batch_size, output_size)\n",
    "\n",
    "verbosity = 2000\n",
    "model = GRUModel(window_size, hidden_size, output_size)\n",
    "\n",
    "# Параметры обучения\n",
    "lr = 1e-3\n",
    "epochs = 2000\n",
    "\n",
    "model.train(x=X, y=y, lr=lr, max_epochs=epochs, verbosity=verbosity)\n",
    "\n",
    "print('TEST')\n",
    "y_pred, _, _ = model.forward(X)\n",
    "print(\"Предсказания на тестовой выборке:\\n\", y_pred[-1][-1])\n",
    "print(\"Истинное значение на тестовой выборке:\\n\", y[-1][-1])\n",
    "print(f\"MAPE: {mape(y[-1][-1], y_pred[-1][-1]) * 100:.4f}%\") "
   ]
  },
  {
   "cell_type": "code",
   "execution_count": 16,
   "metadata": {},
   "outputs": [
    {
     "name": "stdout",
     "output_type": "stream",
     "text": [
      "TRAINING FINISHED\n",
      "Epoch 2000/2000, Loss: 0.452125\n",
      "MAPE: 0.017158\n",
      "TEST\n",
      "Предсказания на тестовой выборке:\n",
      " [ 64.53483234  81.48946797 100.3979004 ]\n",
      "Истинное значение на тестовой выборке:\n",
      " [ 64  81 100]\n",
      "MAPE: 0.6126%\n"
     ]
    }
   ],
   "source": [
    "# n ** 2\n",
    "seq_length = 10\n",
    "window_size = 3\n",
    "batch_size = 2\n",
    "hidden_size = 10\n",
    "output_size = 3\n",
    "\n",
    "sequence = list(squared_generator(seq_length))\n",
    "X, y = create_sliding_window_batches(sequence, window_size, batch_size, output_size)\n",
    "\n",
    "verbosity = 5000\n",
    "model = GRUModel(window_size, hidden_size, output_size)\n",
    "\n",
    "# Параметры обучения\n",
    "lr = 1e-3\n",
    "epochs = 2000\n",
    "\n",
    "model.train(x=X, y=y, lr=lr, max_epochs=epochs, verbosity=verbosity)\n",
    "\n",
    "print('TEST')\n",
    "y_pred, _, _ = model.forward(X)\n",
    "print(\"Предсказания на тестовой выборке:\\n\", y_pred[-1][-1])\n",
    "print(\"Истинное значение на тестовой выборке:\\n\", y[-1][-1])\n",
    "print(f\"MAPE: {mape(y[-1][-1], y_pred[-1][-1]) * 100:.4f}%\") "
   ]
  }
 ],
 "metadata": {
  "kernelspec": {
   "display_name": ".venv",
   "language": "python",
   "name": "python3"
  },
  "language_info": {
   "codemirror_mode": {
    "name": "ipython",
    "version": 3
   },
   "file_extension": ".py",
   "mimetype": "text/x-python",
   "name": "python",
   "nbconvert_exporter": "python",
   "pygments_lexer": "ipython3",
   "version": "3.11.9"
  }
 },
 "nbformat": 4,
 "nbformat_minor": 2
}
