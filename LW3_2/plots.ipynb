{
 "cells": [
  {
   "cell_type": "code",
   "execution_count": 6,
   "metadata": {},
   "outputs": [],
   "source": [
    "# Лабораторная работа 3 по дисциплине МРЗвИС\n",
    "# Выполнена студентом группы 121702\n",
    "# БГУИР Заломов Роман Андреевич\n",
    "#\n",
    "# Вариант 15: Реализовать модель рекуррентной сети с цепью нейросетевых моделей управляемых рекуррентных блоков \n",
    "# с логарифмической функцией активации (гиперболический арксинус) выходного сигнала на скрытом слое\n",
    "#\n",
    "# 24.12.24\n",
    "# Данный файл содержит код построения графиков различных зависимостей"
   ]
  },
  {
   "cell_type": "code",
   "execution_count": 1,
   "metadata": {},
   "outputs": [],
   "source": [
    "import numpy as np\n",
    "from gru import (\n",
    "    GRUModel,\n",
    "    fibonacci_generator,\n",
    "    one_by_n_generator,\n",
    "    plus_one_minus_one_generator,\n",
    "    squared_generator,\n",
    "    half_generator,\n",
    "    arithmetic_progression,\n",
    "    create_sliding_window_batches,\n",
    "    one_half_generator,\n",
    "    sin_generator,    \n",
    "    mape\n",
    ")\n",
    "from gru_with_adam import GRUAdam\n",
    "import plotly.graph_objects as go\n",
    "from math import pi"
   ]
  },
  {
   "cell_type": "code",
   "execution_count": 2,
   "metadata": {},
   "outputs": [],
   "source": [
    "def scale_sequence(sequence):\n",
    "    mean = np.mean(sequence)\n",
    "    deviation = np.std(sequence)    \n",
    "    scaled = (np.array(sequence) - mean) / deviation    \n",
    "    return scaled, mean, deviation\n",
    "\n",
    "def descale_sequence(scaled, mean, deviation):\n",
    "    descaled = scaled * deviation + mean\n",
    "    return descaled\n",
    "\n",
    "def predict_next_n_elements(sequence, window_size, batch_size, hidden_size, n,\n",
    "                            max_epochs, verbosity, lr, use_adam: bool = False):\n",
    "    scaled, mean, deviation = scale_sequence(sequence)        \n",
    "    # scaled = sequence  \n",
    "    X, y = create_sliding_window_batches(scaled, window_size, batch_size, n)\n",
    "    if not use_adam:\n",
    "        model = GRUModel(window_size, hidden_size, n)\n",
    "    else:\n",
    "        model = GRUAdam(window_size, hidden_size, n)\n",
    "    model.train(X, y, lr, max_epochs, verbosity=verbosity)\n",
    "    train_pred, _, _ = model.forward(X)\n",
    "    training_mape = mape(y, train_pred)           \n",
    "    x_last = np.vstack(tuple(scaled[-window_size:] for _ in range(batch_size)))\n",
    "    x_last = np.expand_dims(x_last, axis=0)    \n",
    "    pred, _, _ = model.forward(x_last)\n",
    "    descaled_pred = descale_sequence(pred[-1][-1], mean, deviation)\n",
    "    # descaled_pred = pred[-1][-1]\n",
    "    return training_mape, model, descaled_pred, mean, deviation"
   ]
  },
  {
   "cell_type": "code",
   "execution_count": 10,
   "metadata": {},
   "outputs": [
    {
     "name": "stdout",
     "output_type": "stream",
     "text": [
      "TRAINING FINISHED\n",
      "Epoch 100/100, Loss: 0.884858\n",
      "MAPE: 0.905306\n",
      "TRAINING FINISHED\n",
      "Epoch 100/100, Loss: 0.769593\n",
      "MAPE: 0.840057\n",
      "TRAINING FINISHED\n",
      "Epoch 100/100, Loss: 0.807190\n",
      "MAPE: 0.842075\n",
      "TRAINING FINISHED\n",
      "Epoch 100/100, Loss: 0.794541\n",
      "MAPE: 0.850727\n",
      "TRAINING FINISHED\n",
      "Epoch 100/100, Loss: 0.831966\n",
      "MAPE: 0.832133\n",
      "TRAINING FINISHED\n",
      "Epoch 200/200, Loss: 0.616038\n",
      "MAPE: 0.757940\n",
      "TRAINING FINISHED\n",
      "Epoch 200/200, Loss: 0.652556\n",
      "MAPE: 0.721981\n",
      "TRAINING FINISHED\n",
      "Epoch 200/200, Loss: 0.749466\n",
      "MAPE: 0.782345\n",
      "TRAINING FINISHED\n",
      "Epoch 200/200, Loss: 0.638106\n",
      "MAPE: 0.703709\n",
      "TRAINING FINISHED\n",
      "Epoch 200/200, Loss: 0.547271\n",
      "MAPE: 0.704182\n",
      "TRAINING FINISHED\n",
      "Epoch 300/300, Loss: 0.496421\n",
      "MAPE: 0.659162\n",
      "TRAINING FINISHED\n",
      "Epoch 300/300, Loss: 0.501160\n",
      "MAPE: 0.626691\n",
      "TRAINING FINISHED\n",
      "Epoch 300/300, Loss: 0.450271\n",
      "MAPE: 0.615677\n",
      "TRAINING FINISHED\n",
      "Epoch 300/300, Loss: 0.343756\n",
      "MAPE: 0.524703\n",
      "TRAINING FINISHED\n",
      "Epoch 300/300, Loss: 0.444580\n",
      "MAPE: 0.593911\n",
      "TRAINING FINISHED\n",
      "Epoch 400/400, Loss: 0.392701\n",
      "MAPE: 0.584084\n",
      "TRAINING FINISHED\n",
      "Epoch 400/400, Loss: 0.347017\n",
      "MAPE: 0.575510\n",
      "TRAINING FINISHED\n",
      "Epoch 400/400, Loss: 0.398159\n",
      "MAPE: 0.590450\n",
      "TRAINING FINISHED\n",
      "Epoch 400/400, Loss: 0.253344\n",
      "MAPE: 0.509391\n",
      "TRAINING FINISHED\n",
      "Epoch 400/400, Loss: 0.265998\n",
      "MAPE: 0.481585\n",
      "TRAINING FINISHED\n",
      "Epoch 500/500, Loss: 0.178262\n",
      "MAPE: 0.427978\n",
      "TRAINING FINISHED\n",
      "Epoch 500/500, Loss: 0.149340\n",
      "MAPE: 0.368434\n",
      "TRAINING FINISHED\n",
      "Epoch 500/500, Loss: 0.186074\n",
      "MAPE: 0.402700\n",
      "TRAINING FINISHED\n",
      "Epoch 500/500, Loss: 0.278407\n",
      "MAPE: 0.484053\n",
      "TRAINING FINISHED\n",
      "Epoch 500/500, Loss: 0.244772\n",
      "MAPE: 0.557405\n",
      "TRAINING FINISHED\n",
      "Epoch 600/600, Loss: 0.157189\n",
      "MAPE: 0.354979\n",
      "TRAINING FINISHED\n",
      "Epoch 600/600, Loss: 0.152606\n",
      "MAPE: 0.402059\n",
      "TRAINING FINISHED\n",
      "Epoch 600/600, Loss: 0.192184\n",
      "MAPE: 0.470316\n",
      "TRAINING FINISHED\n",
      "Epoch 600/600, Loss: 0.105642\n",
      "MAPE: 0.341596\n",
      "TRAINING FINISHED\n",
      "Epoch 600/600, Loss: 0.131220\n",
      "MAPE: 0.342108\n",
      "TRAINING FINISHED\n",
      "Epoch 700/700, Loss: 0.075192\n",
      "MAPE: 0.293474\n",
      "TRAINING FINISHED\n",
      "Epoch 700/700, Loss: 0.081216\n",
      "MAPE: 0.299931\n",
      "TRAINING FINISHED\n",
      "Epoch 700/700, Loss: 0.073566\n",
      "MAPE: 0.279394\n",
      "TRAINING FINISHED\n",
      "Epoch 700/700, Loss: 0.054026\n",
      "MAPE: 0.243578\n",
      "TRAINING FINISHED\n",
      "Epoch 700/700, Loss: 0.074805\n",
      "MAPE: 0.270885\n",
      "TRAINING FINISHED\n",
      "Epoch 800/800, Loss: 0.047646\n",
      "MAPE: 0.245041\n",
      "TRAINING FINISHED\n",
      "Epoch 800/800, Loss: 0.064581\n",
      "MAPE: 0.277389\n",
      "TRAINING FINISHED\n",
      "Epoch 800/800, Loss: 0.053930\n",
      "MAPE: 0.239525\n",
      "TRAINING FINISHED\n",
      "Epoch 800/800, Loss: 0.096696\n",
      "MAPE: 0.298742\n",
      "TRAINING FINISHED\n",
      "Epoch 800/800, Loss: 0.065187\n",
      "MAPE: 0.266829\n",
      "TRAINING FINISHED\n",
      "Epoch 900/900, Loss: 0.037138\n",
      "MAPE: 0.220158\n",
      "TRAINING FINISHED\n",
      "Epoch 900/900, Loss: 0.043085\n",
      "MAPE: 0.233154\n",
      "TRAINING FINISHED\n",
      "Epoch 900/900, Loss: 0.047244\n",
      "MAPE: 0.224504\n",
      "TRAINING FINISHED\n",
      "Epoch 900/900, Loss: 0.044344\n",
      "MAPE: 0.225106\n",
      "TRAINING FINISHED\n",
      "Epoch 900/900, Loss: 0.049446\n",
      "MAPE: 0.241554\n",
      "TRAINING FINISHED\n",
      "Epoch 1000/1000, Loss: 0.031008\n",
      "MAPE: 0.213589\n",
      "TRAINING FINISHED\n",
      "Epoch 1000/1000, Loss: 0.031540\n",
      "MAPE: 0.204074\n",
      "TRAINING FINISHED\n",
      "Epoch 1000/1000, Loss: 0.037485\n",
      "MAPE: 0.223083\n",
      "TRAINING FINISHED\n",
      "Epoch 1000/1000, Loss: 0.030205\n",
      "MAPE: 0.194911\n",
      "TRAINING FINISHED\n",
      "Epoch 1000/1000, Loss: 0.039528\n",
      "MAPE: 0.220887\n",
      "TRAINING FINISHED\n",
      "Epoch 1100/1100, Loss: 0.023972\n",
      "MAPE: 0.169773\n",
      "TRAINING FINISHED\n",
      "Epoch 1100/1100, Loss: 0.034609\n",
      "MAPE: 0.226660\n",
      "TRAINING FINISHED\n",
      "Epoch 1100/1100, Loss: 0.036547\n",
      "MAPE: 0.208468\n",
      "TRAINING FINISHED\n",
      "Epoch 1100/1100, Loss: 0.039624\n",
      "MAPE: 0.221026\n",
      "TRAINING FINISHED\n",
      "Epoch 1100/1100, Loss: 0.028550\n",
      "MAPE: 0.189005\n",
      "TRAINING FINISHED\n",
      "Epoch 1200/1200, Loss: 0.029998\n",
      "MAPE: 0.193094\n",
      "TRAINING FINISHED\n",
      "Epoch 1200/1200, Loss: 0.037106\n",
      "MAPE: 0.232639\n",
      "TRAINING FINISHED\n",
      "Epoch 1200/1200, Loss: 0.030248\n",
      "MAPE: 0.202353\n",
      "TRAINING FINISHED\n",
      "Epoch 1200/1200, Loss: 0.023151\n",
      "MAPE: 0.173215\n",
      "TRAINING FINISHED\n",
      "Epoch 1200/1200, Loss: 0.026343\n",
      "MAPE: 0.181899\n",
      "TRAINING FINISHED\n",
      "Epoch 1300/1300, Loss: 0.026816\n",
      "MAPE: 0.196018\n",
      "TRAINING FINISHED\n",
      "Epoch 1300/1300, Loss: 0.027781\n",
      "MAPE: 0.187814\n",
      "TRAINING FINISHED\n",
      "Epoch 1300/1300, Loss: 0.032782\n",
      "MAPE: 0.218604\n",
      "TRAINING FINISHED\n",
      "Epoch 1300/1300, Loss: 0.031379\n",
      "MAPE: 0.209690\n",
      "TRAINING FINISHED\n",
      "Epoch 1300/1300, Loss: 0.030512\n",
      "MAPE: 0.202301\n",
      "TRAINING FINISHED\n",
      "Epoch 1400/1400, Loss: 0.022923\n",
      "MAPE: 0.174261\n",
      "TRAINING FINISHED\n",
      "Epoch 1400/1400, Loss: 0.020316\n",
      "MAPE: 0.158705\n",
      "TRAINING FINISHED\n",
      "Epoch 1400/1400, Loss: 0.025051\n",
      "MAPE: 0.190981\n",
      "TRAINING FINISHED\n",
      "Epoch 1400/1400, Loss: 0.030424\n",
      "MAPE: 0.215001\n",
      "TRAINING FINISHED\n",
      "Epoch 1400/1400, Loss: 0.025198\n",
      "MAPE: 0.177356\n",
      "TRAINING FINISHED\n",
      "Epoch 1500/1500, Loss: 0.027386\n",
      "MAPE: 0.191610\n",
      "TRAINING FINISHED\n",
      "Epoch 1500/1500, Loss: 0.023846\n",
      "MAPE: 0.169036\n",
      "TRAINING FINISHED\n",
      "Epoch 1500/1500, Loss: 0.031509\n",
      "MAPE: 0.193405\n",
      "TRAINING FINISHED\n",
      "Epoch 1500/1500, Loss: 0.024434\n",
      "MAPE: 0.193122\n",
      "TRAINING FINISHED\n",
      "Epoch 1500/1500, Loss: 0.027126\n",
      "MAPE: 0.189139\n",
      "TRAINING FINISHED\n",
      "Epoch 1600/1600, Loss: 0.026756\n",
      "MAPE: 0.190746\n",
      "TRAINING FINISHED\n",
      "Epoch 1600/1600, Loss: 0.021705\n",
      "MAPE: 0.176265\n",
      "TRAINING FINISHED\n",
      "Epoch 1600/1600, Loss: 0.022131\n",
      "MAPE: 0.173248\n",
      "TRAINING FINISHED\n",
      "Epoch 1600/1600, Loss: 0.018301\n",
      "MAPE: 0.155147\n",
      "TRAINING FINISHED\n",
      "Epoch 1600/1600, Loss: 0.020181\n",
      "MAPE: 0.153917\n",
      "TRAINING FINISHED\n",
      "Epoch 1700/1700, Loss: 0.025427\n",
      "MAPE: 0.186857\n",
      "TRAINING FINISHED\n",
      "Epoch 1700/1700, Loss: 0.024710\n",
      "MAPE: 0.177732\n",
      "TRAINING FINISHED\n",
      "Epoch 1700/1700, Loss: 0.022138\n",
      "MAPE: 0.177543\n",
      "TRAINING FINISHED\n",
      "Epoch 1700/1700, Loss: 0.019017\n",
      "MAPE: 0.157969\n",
      "TRAINING FINISHED\n",
      "Epoch 1700/1700, Loss: 0.022288\n",
      "MAPE: 0.165729\n",
      "TRAINING FINISHED\n",
      "Epoch 1800/1800, Loss: 0.021588\n",
      "MAPE: 0.178856\n",
      "TRAINING FINISHED\n",
      "Epoch 1800/1800, Loss: 0.020167\n",
      "MAPE: 0.174853\n",
      "TRAINING FINISHED\n",
      "Epoch 1800/1800, Loss: 0.028949\n",
      "MAPE: 0.195415\n",
      "TRAINING FINISHED\n",
      "Epoch 1800/1800, Loss: 0.020904\n",
      "MAPE: 0.171026\n",
      "TRAINING FINISHED\n",
      "Epoch 1800/1800, Loss: 0.020474\n",
      "MAPE: 0.161391\n",
      "TRAINING FINISHED\n",
      "Epoch 1900/1900, Loss: 0.023992\n",
      "MAPE: 0.180514\n",
      "TRAINING FINISHED\n",
      "Epoch 1900/1900, Loss: 0.020726\n",
      "MAPE: 0.172932\n",
      "TRAINING FINISHED\n",
      "Epoch 1900/1900, Loss: 0.019465\n",
      "MAPE: 0.159456\n",
      "TRAINING FINISHED\n",
      "Epoch 1900/1900, Loss: 0.021649\n",
      "MAPE: 0.170318\n",
      "TRAINING FINISHED\n",
      "Epoch 1900/1900, Loss: 0.022756\n",
      "MAPE: 0.149680\n",
      "TRAINING FINISHED\n",
      "Epoch 2000/2000, Loss: 0.021004\n",
      "MAPE: 0.163588\n",
      "TRAINING FINISHED\n",
      "Epoch 2000/2000, Loss: 0.023034\n",
      "MAPE: 0.189020\n",
      "TRAINING FINISHED\n",
      "Epoch 2000/2000, Loss: 0.019997\n",
      "MAPE: 0.166636\n",
      "TRAINING FINISHED\n",
      "Epoch 2000/2000, Loss: 0.021580\n",
      "MAPE: 0.174786\n",
      "TRAINING FINISHED\n",
      "Epoch 2000/2000, Loss: 0.020628\n",
      "MAPE: 0.172952\n"
     ]
    }
   ],
   "source": [
    "experiments_amount = 5\n",
    "# epochs = np.linspace(1000, 35000, endpoint=True, num=10).astype(np.int32).tolist()\n",
    "epochs = list(range(100, 2100, 100))\n",
    "\n",
    "# np.random.seed(12345)\n",
    "\n",
    "all_mapes = []\n",
    "mapes_mean = []\n",
    "\n",
    "all_epochs: list[int] = []\n",
    "\n",
    "seq_length = 20\n",
    "window_size = 5\n",
    "batch_size = 2\n",
    "hidden_size = 20\n",
    "output_size = 3\n",
    "\n",
    "verbosity = 100000\n",
    "lr = 5e-3\n",
    "use_adam = False\n",
    "\n",
    "sequence = list(sin_generator(seq_length + output_size, alpha=10, beta=pi/4, omega=pi/6))\n",
    "\n",
    "for max_epochs in epochs:    \n",
    "\n",
    "    # Training network for five times\n",
    "    mapes_sum = 0    \n",
    "    for _ in range(experiments_amount):        \n",
    "        train_sequence = sequence[:seq_length]\n",
    "        test_sequence = sequence[-output_size:]\n",
    "        training_mape, model, next_n_pred, mean, deviation = predict_next_n_elements(\n",
    "            train_sequence, window_size, batch_size,\n",
    "            hidden_size, output_size, max_epochs,\n",
    "            verbosity, lr, use_adam=use_adam\n",
    "        )\n",
    "        all_epochs.append(max_epochs)\n",
    "\n",
    "        # Test sequence mape\n",
    "        test_sequence = sequence[-output_size:]\n",
    "        test_mape = mape(test_sequence, next_n_pred)\n",
    "        mapes_sum += test_mape    \n",
    "        all_mapes.append(test_mape)\n",
    "            \n",
    "\n",
    "    # Average mape for epochs amount\n",
    "    mapes_mean.append(mapes_sum / experiments_amount)"
   ]
  },
  {
   "cell_type": "code",
   "execution_count": 12,
   "metadata": {},
   "outputs": [
    {
     "data": {
      "application/vnd.plotly.v1+json": {
       "config": {
        "plotlyServerURL": "https://plot.ly"
       },
       "data": [
        {
         "mode": "markers",
         "name": "Все наблюдения",
         "type": "scatter",
         "x": [
          100,
          100,
          100,
          100,
          100,
          200,
          200,
          200,
          200,
          200,
          300,
          300,
          300,
          300,
          300,
          400,
          400,
          400,
          400,
          400,
          500,
          500,
          500,
          500,
          500,
          600,
          600,
          600,
          600,
          600,
          700,
          700,
          700,
          700,
          700,
          800,
          800,
          800,
          800,
          800,
          900,
          900,
          900,
          900,
          900,
          1000,
          1000,
          1000,
          1000,
          1000,
          1100,
          1100,
          1100,
          1100,
          1100,
          1200,
          1200,
          1200,
          1200,
          1200,
          1300,
          1300,
          1300,
          1300,
          1300,
          1400,
          1400,
          1400,
          1400,
          1400,
          1500,
          1500,
          1500,
          1500,
          1500,
          1600,
          1600,
          1600,
          1600,
          1600,
          1700,
          1700,
          1700,
          1700,
          1700,
          1800,
          1800,
          1800,
          1800,
          1800,
          1900,
          1900,
          1900,
          1900,
          1900,
          2000,
          2000,
          2000,
          2000,
          2000
         ],
         "y": [
          1.0977286916875149,
          1.0083013024048888,
          1.0338067095968693,
          1.0523832344908524,
          1.0454649927591309,
          0.8705407140943819,
          0.9352093307392856,
          1.0092901836876513,
          0.9678836231543011,
          0.932546613373057,
          0.7487096656938959,
          0.7855784261044424,
          0.726758208037294,
          0.6950954535796431,
          0.7050924401550912,
          0.7019052430992554,
          0.5601506124698178,
          0.6809281347304781,
          0.596884734270605,
          0.5381132223881103,
          0.41825321277408767,
          0.357946826547239,
          0.40978910794458573,
          0.4910308595981414,
          0.519241822094325,
          0.38867776663960774,
          0.3986354202200737,
          0.5512101611159635,
          0.42346927306165627,
          0.29174126982632465,
          0.3698652376051747,
          0.35292849607515864,
          0.3197960045019927,
          0.3231169177832914,
          0.3408813919134577,
          0.4129326357491023,
          0.30260038971181813,
          0.3982533640631611,
          0.45950129028292075,
          0.41671092829141515,
          0.3223692587586189,
          0.2870522078105315,
          0.31545898375561543,
          0.4070255735346288,
          0.3013966840774036,
          0.2706671383556316,
          0.32140369521679707,
          0.35522026547971053,
          0.27393727622506786,
          0.30474976419340327,
          0.28397823946812567,
          0.3251664456039522,
          0.3289473379167011,
          0.2912384017383295,
          0.3528707383809004,
          0.3248907262603466,
          0.38186404378163585,
          0.2436193285110476,
          0.32583203518649334,
          0.29992707291163345,
          0.3467140014714294,
          0.28424718898717344,
          0.36768281722988555,
          0.29247953617197747,
          0.2786605714805768,
          0.33265123537524194,
          0.32815899980124225,
          0.3088586525768476,
          0.3315655876761991,
          0.2598392685862584,
          0.41662028845075216,
          0.25727554692927757,
          0.3277542971963656,
          0.2985039944633034,
          0.3833560709307878,
          0.3233704782009054,
          0.2794257232929837,
          0.3596076523308474,
          0.25106748842160426,
          0.31371568342906064,
          0.2979224265972991,
          0.3673057919820091,
          0.3327693397071294,
          0.33240734706144726,
          0.26479574766739084,
          0.3846382348218444,
          0.35185644758935447,
          0.37296518676994306,
          0.3778321728151055,
          0.3899396219055049,
          0.3333922444097545,
          0.27744326488928683,
          0.31824916945589976,
          0.3366062470646945,
          0.269850597694717,
          0.36632617092091957,
          0.2755221842717322,
          0.30923833686195606,
          0.3549400286690029,
          0.33700288981200277
         ]
        },
        {
         "mode": "lines+markers",
         "name": "Средние значения",
         "type": "scatter",
         "x": [
          100,
          200,
          300,
          400,
          500,
          600,
          700,
          800,
          900,
          1000,
          1100,
          1200,
          1300,
          1400,
          1500,
          1600,
          1700,
          1800,
          1900,
          2000
         ],
         "y": [
          1.0475369861878512,
          0.9430940930097353,
          0.7322468387140733,
          0.6155963893916533,
          0.4392523657916757,
          0.41074677817272515,
          0.34131760957581503,
          0.3979997216196835,
          0.3266605415873597,
          0.3051956278941221,
          0.3164402326216018,
          0.31522664133023137,
          0.3139568230682085,
          0.31221474880315786,
          0.3367020395940973,
          0.3054374051350803,
          0.31904013060305514,
          0.37544633278035044,
          0.30710830470287054,
          0.3286059221071227
         ]
        }
       ],
       "layout": {
        "font": {
         "size": 20
        },
        "height": 720,
        "template": {
         "data": {
          "bar": [
           {
            "error_x": {
             "color": "#2a3f5f"
            },
            "error_y": {
             "color": "#2a3f5f"
            },
            "marker": {
             "line": {
              "color": "#E5ECF6",
              "width": 0.5
             },
             "pattern": {
              "fillmode": "overlay",
              "size": 10,
              "solidity": 0.2
             }
            },
            "type": "bar"
           }
          ],
          "barpolar": [
           {
            "marker": {
             "line": {
              "color": "#E5ECF6",
              "width": 0.5
             },
             "pattern": {
              "fillmode": "overlay",
              "size": 10,
              "solidity": 0.2
             }
            },
            "type": "barpolar"
           }
          ],
          "carpet": [
           {
            "aaxis": {
             "endlinecolor": "#2a3f5f",
             "gridcolor": "white",
             "linecolor": "white",
             "minorgridcolor": "white",
             "startlinecolor": "#2a3f5f"
            },
            "baxis": {
             "endlinecolor": "#2a3f5f",
             "gridcolor": "white",
             "linecolor": "white",
             "minorgridcolor": "white",
             "startlinecolor": "#2a3f5f"
            },
            "type": "carpet"
           }
          ],
          "choropleth": [
           {
            "colorbar": {
             "outlinewidth": 0,
             "ticks": ""
            },
            "type": "choropleth"
           }
          ],
          "contour": [
           {
            "colorbar": {
             "outlinewidth": 0,
             "ticks": ""
            },
            "colorscale": [
             [
              0,
              "#0d0887"
             ],
             [
              0.1111111111111111,
              "#46039f"
             ],
             [
              0.2222222222222222,
              "#7201a8"
             ],
             [
              0.3333333333333333,
              "#9c179e"
             ],
             [
              0.4444444444444444,
              "#bd3786"
             ],
             [
              0.5555555555555556,
              "#d8576b"
             ],
             [
              0.6666666666666666,
              "#ed7953"
             ],
             [
              0.7777777777777778,
              "#fb9f3a"
             ],
             [
              0.8888888888888888,
              "#fdca26"
             ],
             [
              1,
              "#f0f921"
             ]
            ],
            "type": "contour"
           }
          ],
          "contourcarpet": [
           {
            "colorbar": {
             "outlinewidth": 0,
             "ticks": ""
            },
            "type": "contourcarpet"
           }
          ],
          "heatmap": [
           {
            "colorbar": {
             "outlinewidth": 0,
             "ticks": ""
            },
            "colorscale": [
             [
              0,
              "#0d0887"
             ],
             [
              0.1111111111111111,
              "#46039f"
             ],
             [
              0.2222222222222222,
              "#7201a8"
             ],
             [
              0.3333333333333333,
              "#9c179e"
             ],
             [
              0.4444444444444444,
              "#bd3786"
             ],
             [
              0.5555555555555556,
              "#d8576b"
             ],
             [
              0.6666666666666666,
              "#ed7953"
             ],
             [
              0.7777777777777778,
              "#fb9f3a"
             ],
             [
              0.8888888888888888,
              "#fdca26"
             ],
             [
              1,
              "#f0f921"
             ]
            ],
            "type": "heatmap"
           }
          ],
          "heatmapgl": [
           {
            "colorbar": {
             "outlinewidth": 0,
             "ticks": ""
            },
            "colorscale": [
             [
              0,
              "#0d0887"
             ],
             [
              0.1111111111111111,
              "#46039f"
             ],
             [
              0.2222222222222222,
              "#7201a8"
             ],
             [
              0.3333333333333333,
              "#9c179e"
             ],
             [
              0.4444444444444444,
              "#bd3786"
             ],
             [
              0.5555555555555556,
              "#d8576b"
             ],
             [
              0.6666666666666666,
              "#ed7953"
             ],
             [
              0.7777777777777778,
              "#fb9f3a"
             ],
             [
              0.8888888888888888,
              "#fdca26"
             ],
             [
              1,
              "#f0f921"
             ]
            ],
            "type": "heatmapgl"
           }
          ],
          "histogram": [
           {
            "marker": {
             "pattern": {
              "fillmode": "overlay",
              "size": 10,
              "solidity": 0.2
             }
            },
            "type": "histogram"
           }
          ],
          "histogram2d": [
           {
            "colorbar": {
             "outlinewidth": 0,
             "ticks": ""
            },
            "colorscale": [
             [
              0,
              "#0d0887"
             ],
             [
              0.1111111111111111,
              "#46039f"
             ],
             [
              0.2222222222222222,
              "#7201a8"
             ],
             [
              0.3333333333333333,
              "#9c179e"
             ],
             [
              0.4444444444444444,
              "#bd3786"
             ],
             [
              0.5555555555555556,
              "#d8576b"
             ],
             [
              0.6666666666666666,
              "#ed7953"
             ],
             [
              0.7777777777777778,
              "#fb9f3a"
             ],
             [
              0.8888888888888888,
              "#fdca26"
             ],
             [
              1,
              "#f0f921"
             ]
            ],
            "type": "histogram2d"
           }
          ],
          "histogram2dcontour": [
           {
            "colorbar": {
             "outlinewidth": 0,
             "ticks": ""
            },
            "colorscale": [
             [
              0,
              "#0d0887"
             ],
             [
              0.1111111111111111,
              "#46039f"
             ],
             [
              0.2222222222222222,
              "#7201a8"
             ],
             [
              0.3333333333333333,
              "#9c179e"
             ],
             [
              0.4444444444444444,
              "#bd3786"
             ],
             [
              0.5555555555555556,
              "#d8576b"
             ],
             [
              0.6666666666666666,
              "#ed7953"
             ],
             [
              0.7777777777777778,
              "#fb9f3a"
             ],
             [
              0.8888888888888888,
              "#fdca26"
             ],
             [
              1,
              "#f0f921"
             ]
            ],
            "type": "histogram2dcontour"
           }
          ],
          "mesh3d": [
           {
            "colorbar": {
             "outlinewidth": 0,
             "ticks": ""
            },
            "type": "mesh3d"
           }
          ],
          "parcoords": [
           {
            "line": {
             "colorbar": {
              "outlinewidth": 0,
              "ticks": ""
             }
            },
            "type": "parcoords"
           }
          ],
          "pie": [
           {
            "automargin": true,
            "type": "pie"
           }
          ],
          "scatter": [
           {
            "fillpattern": {
             "fillmode": "overlay",
             "size": 10,
             "solidity": 0.2
            },
            "type": "scatter"
           }
          ],
          "scatter3d": [
           {
            "line": {
             "colorbar": {
              "outlinewidth": 0,
              "ticks": ""
             }
            },
            "marker": {
             "colorbar": {
              "outlinewidth": 0,
              "ticks": ""
             }
            },
            "type": "scatter3d"
           }
          ],
          "scattercarpet": [
           {
            "marker": {
             "colorbar": {
              "outlinewidth": 0,
              "ticks": ""
             }
            },
            "type": "scattercarpet"
           }
          ],
          "scattergeo": [
           {
            "marker": {
             "colorbar": {
              "outlinewidth": 0,
              "ticks": ""
             }
            },
            "type": "scattergeo"
           }
          ],
          "scattergl": [
           {
            "marker": {
             "colorbar": {
              "outlinewidth": 0,
              "ticks": ""
             }
            },
            "type": "scattergl"
           }
          ],
          "scattermapbox": [
           {
            "marker": {
             "colorbar": {
              "outlinewidth": 0,
              "ticks": ""
             }
            },
            "type": "scattermapbox"
           }
          ],
          "scatterpolar": [
           {
            "marker": {
             "colorbar": {
              "outlinewidth": 0,
              "ticks": ""
             }
            },
            "type": "scatterpolar"
           }
          ],
          "scatterpolargl": [
           {
            "marker": {
             "colorbar": {
              "outlinewidth": 0,
              "ticks": ""
             }
            },
            "type": "scatterpolargl"
           }
          ],
          "scatterternary": [
           {
            "marker": {
             "colorbar": {
              "outlinewidth": 0,
              "ticks": ""
             }
            },
            "type": "scatterternary"
           }
          ],
          "surface": [
           {
            "colorbar": {
             "outlinewidth": 0,
             "ticks": ""
            },
            "colorscale": [
             [
              0,
              "#0d0887"
             ],
             [
              0.1111111111111111,
              "#46039f"
             ],
             [
              0.2222222222222222,
              "#7201a8"
             ],
             [
              0.3333333333333333,
              "#9c179e"
             ],
             [
              0.4444444444444444,
              "#bd3786"
             ],
             [
              0.5555555555555556,
              "#d8576b"
             ],
             [
              0.6666666666666666,
              "#ed7953"
             ],
             [
              0.7777777777777778,
              "#fb9f3a"
             ],
             [
              0.8888888888888888,
              "#fdca26"
             ],
             [
              1,
              "#f0f921"
             ]
            ],
            "type": "surface"
           }
          ],
          "table": [
           {
            "cells": {
             "fill": {
              "color": "#EBF0F8"
             },
             "line": {
              "color": "white"
             }
            },
            "header": {
             "fill": {
              "color": "#C8D4E3"
             },
             "line": {
              "color": "white"
             }
            },
            "type": "table"
           }
          ]
         },
         "layout": {
          "annotationdefaults": {
           "arrowcolor": "#2a3f5f",
           "arrowhead": 0,
           "arrowwidth": 1
          },
          "autotypenumbers": "strict",
          "coloraxis": {
           "colorbar": {
            "outlinewidth": 0,
            "ticks": ""
           }
          },
          "colorscale": {
           "diverging": [
            [
             0,
             "#8e0152"
            ],
            [
             0.1,
             "#c51b7d"
            ],
            [
             0.2,
             "#de77ae"
            ],
            [
             0.3,
             "#f1b6da"
            ],
            [
             0.4,
             "#fde0ef"
            ],
            [
             0.5,
             "#f7f7f7"
            ],
            [
             0.6,
             "#e6f5d0"
            ],
            [
             0.7,
             "#b8e186"
            ],
            [
             0.8,
             "#7fbc41"
            ],
            [
             0.9,
             "#4d9221"
            ],
            [
             1,
             "#276419"
            ]
           ],
           "sequential": [
            [
             0,
             "#0d0887"
            ],
            [
             0.1111111111111111,
             "#46039f"
            ],
            [
             0.2222222222222222,
             "#7201a8"
            ],
            [
             0.3333333333333333,
             "#9c179e"
            ],
            [
             0.4444444444444444,
             "#bd3786"
            ],
            [
             0.5555555555555556,
             "#d8576b"
            ],
            [
             0.6666666666666666,
             "#ed7953"
            ],
            [
             0.7777777777777778,
             "#fb9f3a"
            ],
            [
             0.8888888888888888,
             "#fdca26"
            ],
            [
             1,
             "#f0f921"
            ]
           ],
           "sequentialminus": [
            [
             0,
             "#0d0887"
            ],
            [
             0.1111111111111111,
             "#46039f"
            ],
            [
             0.2222222222222222,
             "#7201a8"
            ],
            [
             0.3333333333333333,
             "#9c179e"
            ],
            [
             0.4444444444444444,
             "#bd3786"
            ],
            [
             0.5555555555555556,
             "#d8576b"
            ],
            [
             0.6666666666666666,
             "#ed7953"
            ],
            [
             0.7777777777777778,
             "#fb9f3a"
            ],
            [
             0.8888888888888888,
             "#fdca26"
            ],
            [
             1,
             "#f0f921"
            ]
           ]
          },
          "colorway": [
           "#636efa",
           "#EF553B",
           "#00cc96",
           "#ab63fa",
           "#FFA15A",
           "#19d3f3",
           "#FF6692",
           "#B6E880",
           "#FF97FF",
           "#FECB52"
          ],
          "font": {
           "color": "#2a3f5f"
          },
          "geo": {
           "bgcolor": "white",
           "lakecolor": "white",
           "landcolor": "#E5ECF6",
           "showlakes": true,
           "showland": true,
           "subunitcolor": "white"
          },
          "hoverlabel": {
           "align": "left"
          },
          "hovermode": "closest",
          "mapbox": {
           "style": "light"
          },
          "paper_bgcolor": "white",
          "plot_bgcolor": "#E5ECF6",
          "polar": {
           "angularaxis": {
            "gridcolor": "white",
            "linecolor": "white",
            "ticks": ""
           },
           "bgcolor": "#E5ECF6",
           "radialaxis": {
            "gridcolor": "white",
            "linecolor": "white",
            "ticks": ""
           }
          },
          "scene": {
           "xaxis": {
            "backgroundcolor": "#E5ECF6",
            "gridcolor": "white",
            "gridwidth": 2,
            "linecolor": "white",
            "showbackground": true,
            "ticks": "",
            "zerolinecolor": "white"
           },
           "yaxis": {
            "backgroundcolor": "#E5ECF6",
            "gridcolor": "white",
            "gridwidth": 2,
            "linecolor": "white",
            "showbackground": true,
            "ticks": "",
            "zerolinecolor": "white"
           },
           "zaxis": {
            "backgroundcolor": "#E5ECF6",
            "gridcolor": "white",
            "gridwidth": 2,
            "linecolor": "white",
            "showbackground": true,
            "ticks": "",
            "zerolinecolor": "white"
           }
          },
          "shapedefaults": {
           "line": {
            "color": "#2a3f5f"
           }
          },
          "ternary": {
           "aaxis": {
            "gridcolor": "white",
            "linecolor": "white",
            "ticks": ""
           },
           "baxis": {
            "gridcolor": "white",
            "linecolor": "white",
            "ticks": ""
           },
           "bgcolor": "#E5ECF6",
           "caxis": {
            "gridcolor": "white",
            "linecolor": "white",
            "ticks": ""
           }
          },
          "title": {
           "x": 0.05
          },
          "xaxis": {
           "automargin": true,
           "gridcolor": "white",
           "linecolor": "white",
           "ticks": "",
           "title": {
            "standoff": 15
           },
           "zerolinecolor": "white",
           "zerolinewidth": 2
          },
          "yaxis": {
           "automargin": true,
           "gridcolor": "white",
           "linecolor": "white",
           "ticks": "",
           "title": {
            "standoff": 15
           },
           "zerolinecolor": "white",
           "zerolinewidth": 2
          }
         }
        },
        "title": {
         "text": "Зависимость средней абсолютной ошибки от количества итераций обучения"
        },
        "width": 1280,
        "xaxis": {
         "title": {
          "text": "Количество итераций обучения"
         }
        },
        "yaxis": {
         "title": {
          "text": "Средняя абсолютная ошибка"
         }
        }
       }
      }
     },
     "metadata": {},
     "output_type": "display_data"
    }
   ],
   "source": [
    "# Plotting results for training epochs amount\n",
    "fig = go.Figure()\n",
    "fig.add_trace(\n",
    "    go.Scatter(x=all_epochs, y=all_mapes,\n",
    "               name='Все наблюдения', mode='markers')\n",
    ")\n",
    "fig.add_trace(\n",
    "    go.Scatter(x=epochs, y=mapes_mean,\n",
    "               name='Средние значения', mode='lines+markers')\n",
    ")\n",
    "fig.update_layout(\n",
    "    title='Зависимость средней абсолютной ошибки от количества итераций обучения',\n",
    "    font=dict(size=20),\n",
    "    xaxis=dict(title='Количество итераций обучения'),\n",
    "    yaxis=dict(title='Средняя абсолютная ошибка'),\n",
    "    width=1280,\n",
    "    height=720\n",
    ")\n",
    "fig.show()"
   ]
  },
  {
   "cell_type": "code",
   "execution_count": 49,
   "metadata": {},
   "outputs": [
    {
     "name": "stdout",
     "output_type": "stream",
     "text": [
      "TRAINING FINISHED\n",
      "Epoch 500/500, Loss: 0.851771\n",
      "MAPE: 0.898832\n",
      "TRAINING FINISHED\n",
      "Epoch 500/500, Loss: 0.918061\n",
      "MAPE: 1.026745\n",
      "TRAINING FINISHED\n",
      "Epoch 500/500, Loss: 0.809541\n",
      "MAPE: 0.994965\n",
      "TRAINING FINISHED\n",
      "Epoch 500/500, Loss: 0.843528\n",
      "MAPE: 0.934266\n",
      "TRAINING FINISHED\n",
      "Epoch 500/500, Loss: 0.570121\n",
      "MAPE: 0.769079\n",
      "TRAINING FINISHED\n",
      "Epoch 500/500, Loss: 0.598965\n",
      "MAPE: 0.849153\n",
      "TRAINING FINISHED\n",
      "Epoch 500/500, Loss: 0.344979\n",
      "MAPE: 0.664488\n",
      "TRAINING FINISHED\n",
      "Epoch 500/500, Loss: 0.406819\n",
      "MAPE: 0.598202\n",
      "TRAINING FINISHED\n",
      "Epoch 500/500, Loss: 0.601636\n",
      "MAPE: 0.770695\n",
      "TRAINING FINISHED\n",
      "Epoch 500/500, Loss: 0.483632\n",
      "MAPE: 0.824517\n",
      "TRAINING FINISHED\n",
      "Epoch 500/500, Loss: 0.317030\n",
      "MAPE: 0.607575\n",
      "TRAINING FINISHED\n",
      "Epoch 500/500, Loss: 0.284266\n",
      "MAPE: 0.682829\n",
      "TRAINING FINISHED\n",
      "Epoch 500/500, Loss: 0.382046\n",
      "MAPE: 0.669237\n",
      "TRAINING FINISHED\n",
      "Epoch 500/500, Loss: 0.404099\n",
      "MAPE: 0.648871\n",
      "TRAINING FINISHED\n",
      "Epoch 500/500, Loss: 0.258333\n",
      "MAPE: 0.581794\n",
      "TRAINING FINISHED\n",
      "Epoch 500/500, Loss: 0.291861\n",
      "MAPE: 0.572833\n",
      "TRAINING FINISHED\n",
      "Epoch 500/500, Loss: 0.384993\n",
      "MAPE: 0.642097\n",
      "TRAINING FINISHED\n",
      "Epoch 500/500, Loss: 0.339365\n",
      "MAPE: 0.613558\n",
      "TRAINING FINISHED\n",
      "Epoch 500/500, Loss: 0.419874\n",
      "MAPE: 0.719431\n",
      "TRAINING FINISHED\n",
      "Epoch 500/500, Loss: 0.295185\n",
      "MAPE: 0.595856\n",
      "TRAINING FINISHED\n",
      "Epoch 500/500, Loss: 0.458793\n",
      "MAPE: 0.746707\n",
      "TRAINING FINISHED\n",
      "Epoch 500/500, Loss: 0.348305\n",
      "MAPE: 0.697638\n",
      "TRAINING FINISHED\n",
      "Epoch 500/500, Loss: 0.563890\n",
      "MAPE: 0.763641\n",
      "TRAINING FINISHED\n",
      "Epoch 500/500, Loss: 0.329705\n",
      "MAPE: 0.689535\n",
      "TRAINING FINISHED\n",
      "Epoch 500/500, Loss: 0.283067\n",
      "MAPE: 0.632503\n",
      "TRAINING FINISHED\n",
      "Epoch 500/500, Loss: 0.313860\n",
      "MAPE: 0.660480\n",
      "TRAINING FINISHED\n",
      "Epoch 500/500, Loss: 0.397218\n",
      "MAPE: 0.660565\n",
      "TRAINING FINISHED\n",
      "Epoch 500/500, Loss: 0.342358\n",
      "MAPE: 0.669198\n",
      "TRAINING FINISHED\n",
      "Epoch 500/500, Loss: 0.426114\n",
      "MAPE: 0.664406\n",
      "TRAINING FINISHED\n",
      "Epoch 500/500, Loss: 0.347474\n",
      "MAPE: 0.684119\n",
      "TRAINING FINISHED\n",
      "Epoch 500/500, Loss: 0.328680\n",
      "MAPE: 0.580764\n",
      "TRAINING FINISHED\n",
      "Epoch 500/500, Loss: 0.267222\n",
      "MAPE: 0.586253\n",
      "TRAINING FINISHED\n",
      "Epoch 500/500, Loss: 0.301340\n",
      "MAPE: 0.596577\n",
      "TRAINING FINISHED\n",
      "Epoch 500/500, Loss: 0.312778\n",
      "MAPE: 0.704146\n",
      "TRAINING FINISHED\n",
      "Epoch 500/500, Loss: 0.339481\n",
      "MAPE: 0.623650\n",
      "TRAINING FINISHED\n",
      "Epoch 500/500, Loss: 0.314632\n",
      "MAPE: 0.595551\n",
      "TRAINING FINISHED\n",
      "Epoch 500/500, Loss: 0.322182\n",
      "MAPE: 0.672809\n",
      "TRAINING FINISHED\n",
      "Epoch 500/500, Loss: 0.273043\n",
      "MAPE: 0.661288\n",
      "TRAINING FINISHED\n",
      "Epoch 500/500, Loss: 0.317207\n",
      "MAPE: 0.634230\n",
      "TRAINING FINISHED\n",
      "Epoch 500/500, Loss: 0.254606\n",
      "MAPE: 0.571116\n",
      "TRAINING FINISHED\n",
      "Epoch 500/500, Loss: 0.308485\n",
      "MAPE: 0.597443\n",
      "TRAINING FINISHED\n",
      "Epoch 500/500, Loss: 0.296010\n",
      "MAPE: 0.587272\n",
      "TRAINING FINISHED\n",
      "Epoch 500/500, Loss: 0.344355\n",
      "MAPE: 0.632372\n",
      "TRAINING FINISHED\n",
      "Epoch 500/500, Loss: 0.342384\n",
      "MAPE: 0.576479\n",
      "TRAINING FINISHED\n",
      "Epoch 500/500, Loss: 0.378774\n",
      "MAPE: 0.688751\n",
      "TRAINING FINISHED\n",
      "Epoch 500/500, Loss: 0.257832\n",
      "MAPE: 0.587544\n",
      "TRAINING FINISHED\n",
      "Epoch 500/500, Loss: 0.313421\n",
      "MAPE: 0.558986\n",
      "TRAINING FINISHED\n",
      "Epoch 500/500, Loss: 0.285189\n",
      "MAPE: 0.597271\n",
      "TRAINING FINISHED\n",
      "Epoch 500/500, Loss: 0.290478\n",
      "MAPE: 0.606634\n",
      "TRAINING FINISHED\n",
      "Epoch 500/500, Loss: 0.323231\n",
      "MAPE: 0.600093\n"
     ]
    }
   ],
   "source": [
    "experiments_amount = 5\n",
    "# epochs = np.linspace(1000, 35000, endpoint=True, num=10).astype(np.int32).tolist()\n",
    "hidden_sizes = list(range(2, 22, 2))\n",
    "\n",
    "# np.random.seed(12345)\n",
    "\n",
    "all_mapes = []\n",
    "mapes_mean = []\n",
    "\n",
    "all_sizes: list[int] = []\n",
    "\n",
    "seq_length = 20\n",
    "window_size = 3\n",
    "batch_size = 2\n",
    "output_size = 3\n",
    "\n",
    "verbosity = 100000\n",
    "lr = 5e-3\n",
    "max_epochs = 500\n",
    "use_adam = False\n",
    "\n",
    "sequence = list(sin_generator(seq_length + output_size, alpha=10, beta=pi/4, omega=pi/6))\n",
    "\n",
    "for size in hidden_sizes:    \n",
    "\n",
    "    # Training network for five times\n",
    "    mapes_sum = 0    \n",
    "    for _ in range(experiments_amount):\n",
    "        all_sizes.append(size)        \n",
    "        \n",
    "        train_sequence = sequence[:seq_length]\n",
    "        test_sequence = sequence[-output_size:]\n",
    "        training_mape, model, next_n_pred, mean, deviation = predict_next_n_elements(\n",
    "            train_sequence, window_size, batch_size,\n",
    "            size, output_size, max_epochs,\n",
    "            verbosity, lr, use_adam=use_adam\n",
    "        )\n",
    "        all_epochs.append(max_epochs)\n",
    "\n",
    "        # Test sequence mape\n",
    "        test_sequence = sequence[-output_size:]\n",
    "        test_mape = mape(test_sequence, next_n_pred)\n",
    "        mapes_sum += test_mape    \n",
    "        all_mapes.append(test_mape)    \n",
    "\n",
    "    # Average mape for epochs amount\n",
    "    mapes_mean.append(mapes_sum / experiments_amount)"
   ]
  },
  {
   "cell_type": "code",
   "execution_count": 50,
   "metadata": {},
   "outputs": [
    {
     "data": {
      "application/vnd.plotly.v1+json": {
       "config": {
        "plotlyServerURL": "https://plot.ly"
       },
       "data": [
        {
         "mode": "markers",
         "name": "Все наблюдения",
         "type": "scatter",
         "x": [
          2,
          2,
          2,
          2,
          2,
          4,
          4,
          4,
          4,
          4,
          6,
          6,
          6,
          6,
          6,
          8,
          8,
          8,
          8,
          8,
          10,
          10,
          10,
          10,
          10,
          12,
          12,
          12,
          12,
          12,
          14,
          14,
          14,
          14,
          14,
          16,
          16,
          16,
          16,
          16,
          18,
          18,
          18,
          18,
          18,
          20,
          20,
          20,
          20,
          20
         ],
         "y": [
          0.9276906394081935,
          1.0609059385236892,
          1.031185712827949,
          0.9550204832336681,
          0.6406086421673834,
          0.6938430129394771,
          0.4268595905517552,
          0.5404723941546048,
          0.701641216946844,
          0.6466881385235707,
          0.3854176644415112,
          0.3044112958028676,
          0.4906664530958076,
          0.48270591421052184,
          0.3535872098114496,
          0.4361431548413523,
          0.5247168577242678,
          0.4528227774162839,
          0.44451492630400335,
          0.47322769729829456,
          0.5660126283310726,
          0.4443930237252209,
          0.7317404729035856,
          0.34686010683465685,
          0.3920670534906103,
          0.46334806531288164,
          0.5663544225657793,
          0.4996711642536616,
          0.6278525384212298,
          0.3946829111883523,
          0.5219565289068243,
          0.40715620884404347,
          0.435482232964727,
          0.33018051402574106,
          0.42222372790559487,
          0.5176584272678174,
          0.3476446545061866,
          0.25190747254976537,
          0.39155775551491895,
          0.3666623963240254,
          0.4744553780043212,
          0.3790763609472176,
          0.5167531943549313,
          0.5727427479797045,
          0.5025538288921434,
          0.2759982513070454,
          0.4810586756274442,
          0.4071264325838822,
          0.4251419600968637,
          0.5136591976588969
         ]
        },
        {
         "mode": "lines+markers",
         "name": "Средние значения",
         "type": "scatter",
         "x": [
          2,
          4,
          6,
          8,
          10,
          12,
          14,
          16,
          18,
          20
         ],
         "y": [
          0.9230822832321766,
          0.6019008706232503,
          0.4033577074724316,
          0.4662850827168404,
          0.4962146570570292,
          0.5103818203483809,
          0.4233998425293861,
          0.37508614123254275,
          0.4891163020356636,
          0.4205969034548264
         ]
        }
       ],
       "layout": {
        "font": {
         "size": 20
        },
        "height": 720,
        "template": {
         "data": {
          "bar": [
           {
            "error_x": {
             "color": "#2a3f5f"
            },
            "error_y": {
             "color": "#2a3f5f"
            },
            "marker": {
             "line": {
              "color": "#E5ECF6",
              "width": 0.5
             },
             "pattern": {
              "fillmode": "overlay",
              "size": 10,
              "solidity": 0.2
             }
            },
            "type": "bar"
           }
          ],
          "barpolar": [
           {
            "marker": {
             "line": {
              "color": "#E5ECF6",
              "width": 0.5
             },
             "pattern": {
              "fillmode": "overlay",
              "size": 10,
              "solidity": 0.2
             }
            },
            "type": "barpolar"
           }
          ],
          "carpet": [
           {
            "aaxis": {
             "endlinecolor": "#2a3f5f",
             "gridcolor": "white",
             "linecolor": "white",
             "minorgridcolor": "white",
             "startlinecolor": "#2a3f5f"
            },
            "baxis": {
             "endlinecolor": "#2a3f5f",
             "gridcolor": "white",
             "linecolor": "white",
             "minorgridcolor": "white",
             "startlinecolor": "#2a3f5f"
            },
            "type": "carpet"
           }
          ],
          "choropleth": [
           {
            "colorbar": {
             "outlinewidth": 0,
             "ticks": ""
            },
            "type": "choropleth"
           }
          ],
          "contour": [
           {
            "colorbar": {
             "outlinewidth": 0,
             "ticks": ""
            },
            "colorscale": [
             [
              0,
              "#0d0887"
             ],
             [
              0.1111111111111111,
              "#46039f"
             ],
             [
              0.2222222222222222,
              "#7201a8"
             ],
             [
              0.3333333333333333,
              "#9c179e"
             ],
             [
              0.4444444444444444,
              "#bd3786"
             ],
             [
              0.5555555555555556,
              "#d8576b"
             ],
             [
              0.6666666666666666,
              "#ed7953"
             ],
             [
              0.7777777777777778,
              "#fb9f3a"
             ],
             [
              0.8888888888888888,
              "#fdca26"
             ],
             [
              1,
              "#f0f921"
             ]
            ],
            "type": "contour"
           }
          ],
          "contourcarpet": [
           {
            "colorbar": {
             "outlinewidth": 0,
             "ticks": ""
            },
            "type": "contourcarpet"
           }
          ],
          "heatmap": [
           {
            "colorbar": {
             "outlinewidth": 0,
             "ticks": ""
            },
            "colorscale": [
             [
              0,
              "#0d0887"
             ],
             [
              0.1111111111111111,
              "#46039f"
             ],
             [
              0.2222222222222222,
              "#7201a8"
             ],
             [
              0.3333333333333333,
              "#9c179e"
             ],
             [
              0.4444444444444444,
              "#bd3786"
             ],
             [
              0.5555555555555556,
              "#d8576b"
             ],
             [
              0.6666666666666666,
              "#ed7953"
             ],
             [
              0.7777777777777778,
              "#fb9f3a"
             ],
             [
              0.8888888888888888,
              "#fdca26"
             ],
             [
              1,
              "#f0f921"
             ]
            ],
            "type": "heatmap"
           }
          ],
          "heatmapgl": [
           {
            "colorbar": {
             "outlinewidth": 0,
             "ticks": ""
            },
            "colorscale": [
             [
              0,
              "#0d0887"
             ],
             [
              0.1111111111111111,
              "#46039f"
             ],
             [
              0.2222222222222222,
              "#7201a8"
             ],
             [
              0.3333333333333333,
              "#9c179e"
             ],
             [
              0.4444444444444444,
              "#bd3786"
             ],
             [
              0.5555555555555556,
              "#d8576b"
             ],
             [
              0.6666666666666666,
              "#ed7953"
             ],
             [
              0.7777777777777778,
              "#fb9f3a"
             ],
             [
              0.8888888888888888,
              "#fdca26"
             ],
             [
              1,
              "#f0f921"
             ]
            ],
            "type": "heatmapgl"
           }
          ],
          "histogram": [
           {
            "marker": {
             "pattern": {
              "fillmode": "overlay",
              "size": 10,
              "solidity": 0.2
             }
            },
            "type": "histogram"
           }
          ],
          "histogram2d": [
           {
            "colorbar": {
             "outlinewidth": 0,
             "ticks": ""
            },
            "colorscale": [
             [
              0,
              "#0d0887"
             ],
             [
              0.1111111111111111,
              "#46039f"
             ],
             [
              0.2222222222222222,
              "#7201a8"
             ],
             [
              0.3333333333333333,
              "#9c179e"
             ],
             [
              0.4444444444444444,
              "#bd3786"
             ],
             [
              0.5555555555555556,
              "#d8576b"
             ],
             [
              0.6666666666666666,
              "#ed7953"
             ],
             [
              0.7777777777777778,
              "#fb9f3a"
             ],
             [
              0.8888888888888888,
              "#fdca26"
             ],
             [
              1,
              "#f0f921"
             ]
            ],
            "type": "histogram2d"
           }
          ],
          "histogram2dcontour": [
           {
            "colorbar": {
             "outlinewidth": 0,
             "ticks": ""
            },
            "colorscale": [
             [
              0,
              "#0d0887"
             ],
             [
              0.1111111111111111,
              "#46039f"
             ],
             [
              0.2222222222222222,
              "#7201a8"
             ],
             [
              0.3333333333333333,
              "#9c179e"
             ],
             [
              0.4444444444444444,
              "#bd3786"
             ],
             [
              0.5555555555555556,
              "#d8576b"
             ],
             [
              0.6666666666666666,
              "#ed7953"
             ],
             [
              0.7777777777777778,
              "#fb9f3a"
             ],
             [
              0.8888888888888888,
              "#fdca26"
             ],
             [
              1,
              "#f0f921"
             ]
            ],
            "type": "histogram2dcontour"
           }
          ],
          "mesh3d": [
           {
            "colorbar": {
             "outlinewidth": 0,
             "ticks": ""
            },
            "type": "mesh3d"
           }
          ],
          "parcoords": [
           {
            "line": {
             "colorbar": {
              "outlinewidth": 0,
              "ticks": ""
             }
            },
            "type": "parcoords"
           }
          ],
          "pie": [
           {
            "automargin": true,
            "type": "pie"
           }
          ],
          "scatter": [
           {
            "fillpattern": {
             "fillmode": "overlay",
             "size": 10,
             "solidity": 0.2
            },
            "type": "scatter"
           }
          ],
          "scatter3d": [
           {
            "line": {
             "colorbar": {
              "outlinewidth": 0,
              "ticks": ""
             }
            },
            "marker": {
             "colorbar": {
              "outlinewidth": 0,
              "ticks": ""
             }
            },
            "type": "scatter3d"
           }
          ],
          "scattercarpet": [
           {
            "marker": {
             "colorbar": {
              "outlinewidth": 0,
              "ticks": ""
             }
            },
            "type": "scattercarpet"
           }
          ],
          "scattergeo": [
           {
            "marker": {
             "colorbar": {
              "outlinewidth": 0,
              "ticks": ""
             }
            },
            "type": "scattergeo"
           }
          ],
          "scattergl": [
           {
            "marker": {
             "colorbar": {
              "outlinewidth": 0,
              "ticks": ""
             }
            },
            "type": "scattergl"
           }
          ],
          "scattermapbox": [
           {
            "marker": {
             "colorbar": {
              "outlinewidth": 0,
              "ticks": ""
             }
            },
            "type": "scattermapbox"
           }
          ],
          "scatterpolar": [
           {
            "marker": {
             "colorbar": {
              "outlinewidth": 0,
              "ticks": ""
             }
            },
            "type": "scatterpolar"
           }
          ],
          "scatterpolargl": [
           {
            "marker": {
             "colorbar": {
              "outlinewidth": 0,
              "ticks": ""
             }
            },
            "type": "scatterpolargl"
           }
          ],
          "scatterternary": [
           {
            "marker": {
             "colorbar": {
              "outlinewidth": 0,
              "ticks": ""
             }
            },
            "type": "scatterternary"
           }
          ],
          "surface": [
           {
            "colorbar": {
             "outlinewidth": 0,
             "ticks": ""
            },
            "colorscale": [
             [
              0,
              "#0d0887"
             ],
             [
              0.1111111111111111,
              "#46039f"
             ],
             [
              0.2222222222222222,
              "#7201a8"
             ],
             [
              0.3333333333333333,
              "#9c179e"
             ],
             [
              0.4444444444444444,
              "#bd3786"
             ],
             [
              0.5555555555555556,
              "#d8576b"
             ],
             [
              0.6666666666666666,
              "#ed7953"
             ],
             [
              0.7777777777777778,
              "#fb9f3a"
             ],
             [
              0.8888888888888888,
              "#fdca26"
             ],
             [
              1,
              "#f0f921"
             ]
            ],
            "type": "surface"
           }
          ],
          "table": [
           {
            "cells": {
             "fill": {
              "color": "#EBF0F8"
             },
             "line": {
              "color": "white"
             }
            },
            "header": {
             "fill": {
              "color": "#C8D4E3"
             },
             "line": {
              "color": "white"
             }
            },
            "type": "table"
           }
          ]
         },
         "layout": {
          "annotationdefaults": {
           "arrowcolor": "#2a3f5f",
           "arrowhead": 0,
           "arrowwidth": 1
          },
          "autotypenumbers": "strict",
          "coloraxis": {
           "colorbar": {
            "outlinewidth": 0,
            "ticks": ""
           }
          },
          "colorscale": {
           "diverging": [
            [
             0,
             "#8e0152"
            ],
            [
             0.1,
             "#c51b7d"
            ],
            [
             0.2,
             "#de77ae"
            ],
            [
             0.3,
             "#f1b6da"
            ],
            [
             0.4,
             "#fde0ef"
            ],
            [
             0.5,
             "#f7f7f7"
            ],
            [
             0.6,
             "#e6f5d0"
            ],
            [
             0.7,
             "#b8e186"
            ],
            [
             0.8,
             "#7fbc41"
            ],
            [
             0.9,
             "#4d9221"
            ],
            [
             1,
             "#276419"
            ]
           ],
           "sequential": [
            [
             0,
             "#0d0887"
            ],
            [
             0.1111111111111111,
             "#46039f"
            ],
            [
             0.2222222222222222,
             "#7201a8"
            ],
            [
             0.3333333333333333,
             "#9c179e"
            ],
            [
             0.4444444444444444,
             "#bd3786"
            ],
            [
             0.5555555555555556,
             "#d8576b"
            ],
            [
             0.6666666666666666,
             "#ed7953"
            ],
            [
             0.7777777777777778,
             "#fb9f3a"
            ],
            [
             0.8888888888888888,
             "#fdca26"
            ],
            [
             1,
             "#f0f921"
            ]
           ],
           "sequentialminus": [
            [
             0,
             "#0d0887"
            ],
            [
             0.1111111111111111,
             "#46039f"
            ],
            [
             0.2222222222222222,
             "#7201a8"
            ],
            [
             0.3333333333333333,
             "#9c179e"
            ],
            [
             0.4444444444444444,
             "#bd3786"
            ],
            [
             0.5555555555555556,
             "#d8576b"
            ],
            [
             0.6666666666666666,
             "#ed7953"
            ],
            [
             0.7777777777777778,
             "#fb9f3a"
            ],
            [
             0.8888888888888888,
             "#fdca26"
            ],
            [
             1,
             "#f0f921"
            ]
           ]
          },
          "colorway": [
           "#636efa",
           "#EF553B",
           "#00cc96",
           "#ab63fa",
           "#FFA15A",
           "#19d3f3",
           "#FF6692",
           "#B6E880",
           "#FF97FF",
           "#FECB52"
          ],
          "font": {
           "color": "#2a3f5f"
          },
          "geo": {
           "bgcolor": "white",
           "lakecolor": "white",
           "landcolor": "#E5ECF6",
           "showlakes": true,
           "showland": true,
           "subunitcolor": "white"
          },
          "hoverlabel": {
           "align": "left"
          },
          "hovermode": "closest",
          "mapbox": {
           "style": "light"
          },
          "paper_bgcolor": "white",
          "plot_bgcolor": "#E5ECF6",
          "polar": {
           "angularaxis": {
            "gridcolor": "white",
            "linecolor": "white",
            "ticks": ""
           },
           "bgcolor": "#E5ECF6",
           "radialaxis": {
            "gridcolor": "white",
            "linecolor": "white",
            "ticks": ""
           }
          },
          "scene": {
           "xaxis": {
            "backgroundcolor": "#E5ECF6",
            "gridcolor": "white",
            "gridwidth": 2,
            "linecolor": "white",
            "showbackground": true,
            "ticks": "",
            "zerolinecolor": "white"
           },
           "yaxis": {
            "backgroundcolor": "#E5ECF6",
            "gridcolor": "white",
            "gridwidth": 2,
            "linecolor": "white",
            "showbackground": true,
            "ticks": "",
            "zerolinecolor": "white"
           },
           "zaxis": {
            "backgroundcolor": "#E5ECF6",
            "gridcolor": "white",
            "gridwidth": 2,
            "linecolor": "white",
            "showbackground": true,
            "ticks": "",
            "zerolinecolor": "white"
           }
          },
          "shapedefaults": {
           "line": {
            "color": "#2a3f5f"
           }
          },
          "ternary": {
           "aaxis": {
            "gridcolor": "white",
            "linecolor": "white",
            "ticks": ""
           },
           "baxis": {
            "gridcolor": "white",
            "linecolor": "white",
            "ticks": ""
           },
           "bgcolor": "#E5ECF6",
           "caxis": {
            "gridcolor": "white",
            "linecolor": "white",
            "ticks": ""
           }
          },
          "title": {
           "x": 0.05
          },
          "xaxis": {
           "automargin": true,
           "gridcolor": "white",
           "linecolor": "white",
           "ticks": "",
           "title": {
            "standoff": 15
           },
           "zerolinecolor": "white",
           "zerolinewidth": 2
          },
          "yaxis": {
           "automargin": true,
           "gridcolor": "white",
           "linecolor": "white",
           "ticks": "",
           "title": {
            "standoff": 15
           },
           "zerolinecolor": "white",
           "zerolinewidth": 2
          }
         }
        },
        "title": {
         "text": "Зависимость средней абсолютной ошибки от<br>количества нейронов на скрытом слое"
        },
        "width": 1280,
        "xaxis": {
         "title": {
          "text": "Количество нейронов на скрытом слое"
         }
        },
        "yaxis": {
         "title": {
          "text": "Средняя абсолютная ошибка"
         }
        }
       }
      }
     },
     "metadata": {},
     "output_type": "display_data"
    }
   ],
   "source": [
    "# Plotting results for training epochs amount\n",
    "fig = go.Figure()\n",
    "fig.add_trace(\n",
    "    go.Scatter(x=all_sizes, y=all_mapes,\n",
    "               name='Все наблюдения', mode='markers')\n",
    ")\n",
    "fig.add_trace(\n",
    "    go.Scatter(x=hidden_sizes, y=mapes_mean,\n",
    "               name='Средние значения', mode='lines+markers')\n",
    ")\n",
    "fig.update_layout(\n",
    "    title='Зависимость средней абсолютной ошибки от<br>количества нейронов на скрытом слое',\n",
    "    font=dict(size=20),\n",
    "    xaxis=dict(title='Количество нейронов на скрытом слое'),\n",
    "    yaxis=dict(title='Средняя абсолютная ошибка'),\n",
    "    width=1280,\n",
    "    height=720\n",
    ")\n",
    "fig.show()"
   ]
  },
  {
   "cell_type": "code",
   "execution_count": 86,
   "metadata": {},
   "outputs": [
    {
     "name": "stdout",
     "output_type": "stream",
     "text": [
      "TRAINING FINISHED\n",
      "Epoch 100/100, Loss: 0.033831\n",
      "MAPE: 0.150670\n",
      "TRAINING FINISHED\n",
      "Epoch 100/100, Loss: 0.047728\n",
      "MAPE: 0.202741\n",
      "TRAINING FINISHED\n",
      "Epoch 100/100, Loss: 0.033706\n",
      "MAPE: 0.220421\n",
      "TRAINING FINISHED\n",
      "Epoch 100/100, Loss: 0.086796\n",
      "MAPE: 0.273037\n",
      "TRAINING FINISHED\n",
      "Epoch 100/100, Loss: 0.190484\n",
      "MAPE: 0.425041\n",
      "TRAINING FINISHED\n",
      "Epoch 100/100, Loss: 0.019447\n",
      "MAPE: 0.502039\n",
      "TRAINING FINISHED\n",
      "Epoch 100/100, Loss: 0.015332\n",
      "MAPE: 0.295300\n",
      "TRAINING FINISHED\n",
      "Epoch 100/100, Loss: 0.017207\n",
      "MAPE: 0.418973\n",
      "TRAINING FINISHED\n",
      "Epoch 100/100, Loss: 0.022240\n",
      "MAPE: 0.478391\n",
      "TRAINING FINISHED\n",
      "Epoch 100/100, Loss: 0.023443\n",
      "MAPE: 0.499902\n",
      "TRAINING FINISHED\n",
      "Epoch 100/100, Loss: 0.019605\n",
      "MAPE: 0.522542\n",
      "TRAINING FINISHED\n",
      "Epoch 100/100, Loss: 0.021167\n",
      "MAPE: 0.516021\n",
      "TRAINING FINISHED\n",
      "Epoch 100/100, Loss: 0.021966\n",
      "MAPE: 0.662980\n",
      "TRAINING FINISHED\n",
      "Epoch 100/100, Loss: 0.024505\n",
      "MAPE: 0.560169\n",
      "TRAINING FINISHED\n",
      "Epoch 100/100, Loss: 0.035344\n",
      "MAPE: 0.570950\n",
      "TRAINING FINISHED\n",
      "Epoch 100/100, Loss: 0.034649\n",
      "MAPE: 1.024653\n",
      "TRAINING FINISHED\n",
      "Epoch 100/100, Loss: 0.024121\n",
      "MAPE: 0.827595\n",
      "TRAINING FINISHED\n",
      "Epoch 100/100, Loss: 0.023478\n",
      "MAPE: 0.766243\n",
      "TRAINING FINISHED\n",
      "Epoch 100/100, Loss: 0.027958\n",
      "MAPE: 0.927596\n",
      "TRAINING FINISHED\n",
      "Epoch 100/100, Loss: 0.027672\n",
      "MAPE: 0.974762\n",
      "TRAINING FINISHED\n",
      "Epoch 100/100, Loss: 0.025373\n",
      "MAPE: 0.754527\n",
      "TRAINING FINISHED\n",
      "Epoch 100/100, Loss: 0.028066\n",
      "MAPE: 0.968133\n",
      "TRAINING FINISHED\n",
      "Epoch 100/100, Loss: 0.025954\n",
      "MAPE: 0.940203\n",
      "TRAINING FINISHED\n",
      "Epoch 100/100, Loss: 0.013081\n",
      "MAPE: 0.382838\n",
      "TRAINING FINISHED\n",
      "Epoch 100/100, Loss: 0.017006\n",
      "MAPE: 0.510099\n",
      "TRAINING FINISHED\n",
      "Epoch 100/100, Loss: 0.013690\n",
      "MAPE: 0.643461\n",
      "TRAINING FINISHED\n",
      "Epoch 100/100, Loss: 0.012232\n",
      "MAPE: 0.510929\n",
      "TRAINING FINISHED\n",
      "Epoch 100/100, Loss: 0.039798\n",
      "MAPE: 1.074442\n",
      "TRAINING FINISHED\n",
      "Epoch 100/100, Loss: 0.014087\n",
      "MAPE: 0.669792\n",
      "TRAINING FINISHED\n",
      "Epoch 100/100, Loss: 0.008343\n",
      "MAPE: 0.468651\n",
      "TRAINING FINISHED\n",
      "Epoch 100/100, Loss: 0.031847\n",
      "MAPE: 0.997310\n",
      "TRAINING FINISHED\n",
      "Epoch 100/100, Loss: 0.004227\n",
      "MAPE: 0.336995\n",
      "TRAINING FINISHED\n",
      "Epoch 100/100, Loss: 0.010509\n",
      "MAPE: 0.566849\n",
      "TRAINING FINISHED\n",
      "Epoch 100/100, Loss: 0.021856\n",
      "MAPE: 0.923273\n",
      "TRAINING FINISHED\n",
      "Epoch 100/100, Loss: 0.013178\n",
      "MAPE: 0.422867\n",
      "TRAINING FINISHED\n",
      "Epoch 100/100, Loss: 0.014386\n",
      "MAPE: 0.807009\n",
      "TRAINING FINISHED\n",
      "Epoch 100/100, Loss: 0.005770\n",
      "MAPE: 0.256075\n",
      "TRAINING FINISHED\n",
      "Epoch 100/100, Loss: 0.008534\n",
      "MAPE: 0.253948\n",
      "TRAINING FINISHED\n",
      "Epoch 100/100, Loss: 0.019782\n",
      "MAPE: 0.767634\n",
      "TRAINING FINISHED\n",
      "Epoch 100/100, Loss: 0.019411\n",
      "MAPE: 0.499859\n",
      "TRAINING FINISHED\n",
      "Epoch 100/100, Loss: 0.011001\n",
      "MAPE: 0.355354\n",
      "TRAINING FINISHED\n",
      "Epoch 100/100, Loss: 0.008494\n",
      "MAPE: 0.263510\n",
      "TRAINING FINISHED\n",
      "Epoch 100/100, Loss: 0.015187\n",
      "MAPE: 0.606901\n",
      "TRAINING FINISHED\n",
      "Epoch 100/100, Loss: 0.032390\n",
      "MAPE: 0.874257\n",
      "TRAINING FINISHED\n",
      "Epoch 100/100, Loss: 0.021672\n",
      "MAPE: 0.735788\n",
      "TRAINING FINISHED\n",
      "Epoch 100/100, Loss: 0.014673\n",
      "MAPE: 0.648072\n",
      "TRAINING FINISHED\n",
      "Epoch 100/100, Loss: 0.007630\n",
      "MAPE: 0.373857\n",
      "TRAINING FINISHED\n",
      "Epoch 100/100, Loss: 0.007142\n",
      "MAPE: 0.289375\n",
      "TRAINING FINISHED\n",
      "Epoch 100/100, Loss: 0.007724\n",
      "MAPE: 0.330839\n",
      "TRAINING FINISHED\n",
      "Epoch 100/100, Loss: 0.010655\n",
      "MAPE: 0.295007\n",
      "TRAINING FINISHED\n",
      "Epoch 100/100, Loss: 0.008026\n",
      "MAPE: 0.503735\n",
      "TRAINING FINISHED\n",
      "Epoch 100/100, Loss: 0.009372\n",
      "MAPE: 0.368622\n",
      "TRAINING FINISHED\n",
      "Epoch 100/100, Loss: 0.010527\n",
      "MAPE: 0.483116\n",
      "TRAINING FINISHED\n",
      "Epoch 100/100, Loss: 0.004707\n",
      "MAPE: 0.291680\n",
      "TRAINING FINISHED\n",
      "Epoch 100/100, Loss: 0.009798\n",
      "MAPE: 0.336641\n",
      "TRAINING FINISHED\n",
      "Epoch 100/100, Loss: 0.008729\n",
      "MAPE: 0.348971\n",
      "TRAINING FINISHED\n",
      "Epoch 100/100, Loss: 0.010486\n",
      "MAPE: 0.347668\n",
      "TRAINING FINISHED\n",
      "Epoch 100/100, Loss: 0.006830\n",
      "MAPE: 0.450980\n",
      "TRAINING FINISHED\n",
      "Epoch 100/100, Loss: 0.007205\n",
      "MAPE: 0.388877\n",
      "TRAINING FINISHED\n",
      "Epoch 100/100, Loss: 0.008039\n",
      "MAPE: 0.395715\n",
      "TRAINING FINISHED\n",
      "Epoch 100/100, Loss: 0.010064\n",
      "MAPE: 0.422023\n",
      "TRAINING FINISHED\n",
      "Epoch 100/100, Loss: 0.007596\n",
      "MAPE: 0.736286\n",
      "TRAINING FINISHED\n",
      "Epoch 100/100, Loss: 0.009150\n",
      "MAPE: 0.685073\n",
      "TRAINING FINISHED\n",
      "Epoch 100/100, Loss: 0.013686\n",
      "MAPE: 0.964906\n",
      "TRAINING FINISHED\n",
      "Epoch 100/100, Loss: 0.010222\n",
      "MAPE: 0.796802\n"
     ]
    }
   ],
   "source": [
    "# MAPE relation with sliding window\n",
    "experiments_amount = 5\n",
    "# epochs = np.linspace(1000, 35000, endpoint=True, num=10).astype(np.int32).tolist()\n",
    "\n",
    "\n",
    "all_mapes = []\n",
    "mapes_mean = []\n",
    "\n",
    "all_sizes: list[int] = []\n",
    "\n",
    "seq_length = 500\n",
    "window_sizes = list(range(2, seq_length // 2, 20))\n",
    "hidden_size = 10\n",
    "batch_size = 2\n",
    "output_size = 3\n",
    "\n",
    "verbosity = 100000\n",
    "lr = 1e-2\n",
    "max_epochs = 100\n",
    "use_adam = False\n",
    "\n",
    "sequence = list(arithmetic_progression(seq_length + output_size, 1, 1))\n",
    "\n",
    "for size in window_sizes:        \n",
    "\n",
    "    # Training network for five times\n",
    "    mapes_sum = 0    \n",
    "    for _ in range(experiments_amount):\n",
    "        all_sizes.append(size)              \n",
    "        \n",
    "        train_sequence = sequence[:seq_length]\n",
    "        test_sequence = sequence[-output_size:]\n",
    "        training_mape, model, next_n_pred, mean, deviation = predict_next_n_elements(\n",
    "            train_sequence, size, batch_size,\n",
    "            hidden_size, output_size, max_epochs,\n",
    "            verbosity, lr, use_adam=use_adam\n",
    "        )\n",
    "        all_epochs.append(max_epochs)\n",
    "        \n",
    "        # Test sequence mape\n",
    "        test_sequence = sequence[-output_size:]\n",
    "        test_mape = mape(test_sequence, next_n_pred)\n",
    "        mapes_sum += test_mape    \n",
    "        all_mapes.append(test_mape)    \n",
    "\n",
    "    # Average mape for epochs amount\n",
    "    mapes_mean.append(mapes_sum / experiments_amount)"
   ]
  },
  {
   "cell_type": "code",
   "execution_count": 87,
   "metadata": {},
   "outputs": [
    {
     "data": {
      "application/vnd.plotly.v1+json": {
       "config": {
        "plotlyServerURL": "https://plot.ly"
       },
       "data": [
        {
         "mode": "markers",
         "name": "Все наблюдения",
         "type": "scatter",
         "x": [
          2,
          2,
          2,
          2,
          2,
          22,
          22,
          22,
          22,
          22,
          42,
          42,
          42,
          42,
          42,
          62,
          62,
          62,
          62,
          62,
          82,
          82,
          82,
          82,
          82,
          102,
          102,
          102,
          102,
          102,
          122,
          122,
          122,
          122,
          122,
          142,
          142,
          142,
          142,
          142,
          162,
          162,
          162,
          162,
          162,
          182,
          182,
          182,
          182,
          182,
          202,
          202,
          202,
          202,
          202,
          222,
          222,
          222,
          222,
          222,
          242,
          242,
          242,
          242,
          242
         ],
         "y": [
          0.3274160444464943,
          0.3646397791009244,
          0.36361363001562763,
          0.34153152338054465,
          0.36936836470838114,
          0.3078390303681306,
          0.31126470807795054,
          0.2861573416536409,
          0.28945646077544074,
          0.2934846471193892,
          0.31788074133835326,
          0.2600197131976526,
          0.2574981670461746,
          0.21310450867596617,
          0.1770144105394419,
          0.3236961147614723,
          0.31668110484190876,
          0.3315834983022401,
          0.28589375564093583,
          0.3056088438991835,
          0.3336879065425136,
          0.2964338451205522,
          0.3221548623428972,
          0.32821716368137777,
          0.341522206378649,
          0.3546006561100848,
          0.306317066195895,
          0.34933613160022775,
          0.3348644919394472,
          0.31611322813990284,
          0.20480492962092944,
          0.2641550111129152,
          0.3642907923011383,
          0.319809012317771,
          0.304335688087562,
          0.16398589812299533,
          0.30633565785590794,
          0.23778692107403143,
          0.18742454731131067,
          0.43609625422177434,
          0.1670120048499245,
          0.2793016118064677,
          0.3165914994556262,
          0.3030354938800805,
          0.2249771044944389,
          0.18145915592885475,
          0.21805534802897023,
          0.2646339591967788,
          0.3110753715826628,
          0.3595559703943468,
          0.30025955418021727,
          0.18575570839252883,
          0.2335580991969527,
          0.34486001124678695,
          0.3405081693832486,
          0.2372009466882595,
          0.2580184332130165,
          0.23827300407373184,
          0.18361971789995316,
          0.28499143505969876,
          0.294907485995395,
          0.31152167886784676,
          0.280058514356281,
          0.29730505236960175,
          0.3025272360157087
         ]
        },
        {
         "mode": "lines+markers",
         "name": "Средние значения",
         "type": "scatter",
         "x": [
          2,
          22,
          42,
          62,
          82,
          102,
          122,
          142,
          162,
          182,
          202,
          222,
          242
         ],
         "y": [
          0.3533138683303944,
          0.2976404375989104,
          0.2451035081595177,
          0.3126926634891481,
          0.32440319681319796,
          0.33224631479711153,
          0.2914790866880632,
          0.2663258557172039,
          0.25818354289730755,
          0.2669559610263227,
          0.2809883084799468,
          0.24042070738693194,
          0.29726399352096666
         ]
        }
       ],
       "layout": {
        "font": {
         "size": 20
        },
        "height": 720,
        "template": {
         "data": {
          "bar": [
           {
            "error_x": {
             "color": "#2a3f5f"
            },
            "error_y": {
             "color": "#2a3f5f"
            },
            "marker": {
             "line": {
              "color": "#E5ECF6",
              "width": 0.5
             },
             "pattern": {
              "fillmode": "overlay",
              "size": 10,
              "solidity": 0.2
             }
            },
            "type": "bar"
           }
          ],
          "barpolar": [
           {
            "marker": {
             "line": {
              "color": "#E5ECF6",
              "width": 0.5
             },
             "pattern": {
              "fillmode": "overlay",
              "size": 10,
              "solidity": 0.2
             }
            },
            "type": "barpolar"
           }
          ],
          "carpet": [
           {
            "aaxis": {
             "endlinecolor": "#2a3f5f",
             "gridcolor": "white",
             "linecolor": "white",
             "minorgridcolor": "white",
             "startlinecolor": "#2a3f5f"
            },
            "baxis": {
             "endlinecolor": "#2a3f5f",
             "gridcolor": "white",
             "linecolor": "white",
             "minorgridcolor": "white",
             "startlinecolor": "#2a3f5f"
            },
            "type": "carpet"
           }
          ],
          "choropleth": [
           {
            "colorbar": {
             "outlinewidth": 0,
             "ticks": ""
            },
            "type": "choropleth"
           }
          ],
          "contour": [
           {
            "colorbar": {
             "outlinewidth": 0,
             "ticks": ""
            },
            "colorscale": [
             [
              0,
              "#0d0887"
             ],
             [
              0.1111111111111111,
              "#46039f"
             ],
             [
              0.2222222222222222,
              "#7201a8"
             ],
             [
              0.3333333333333333,
              "#9c179e"
             ],
             [
              0.4444444444444444,
              "#bd3786"
             ],
             [
              0.5555555555555556,
              "#d8576b"
             ],
             [
              0.6666666666666666,
              "#ed7953"
             ],
             [
              0.7777777777777778,
              "#fb9f3a"
             ],
             [
              0.8888888888888888,
              "#fdca26"
             ],
             [
              1,
              "#f0f921"
             ]
            ],
            "type": "contour"
           }
          ],
          "contourcarpet": [
           {
            "colorbar": {
             "outlinewidth": 0,
             "ticks": ""
            },
            "type": "contourcarpet"
           }
          ],
          "heatmap": [
           {
            "colorbar": {
             "outlinewidth": 0,
             "ticks": ""
            },
            "colorscale": [
             [
              0,
              "#0d0887"
             ],
             [
              0.1111111111111111,
              "#46039f"
             ],
             [
              0.2222222222222222,
              "#7201a8"
             ],
             [
              0.3333333333333333,
              "#9c179e"
             ],
             [
              0.4444444444444444,
              "#bd3786"
             ],
             [
              0.5555555555555556,
              "#d8576b"
             ],
             [
              0.6666666666666666,
              "#ed7953"
             ],
             [
              0.7777777777777778,
              "#fb9f3a"
             ],
             [
              0.8888888888888888,
              "#fdca26"
             ],
             [
              1,
              "#f0f921"
             ]
            ],
            "type": "heatmap"
           }
          ],
          "heatmapgl": [
           {
            "colorbar": {
             "outlinewidth": 0,
             "ticks": ""
            },
            "colorscale": [
             [
              0,
              "#0d0887"
             ],
             [
              0.1111111111111111,
              "#46039f"
             ],
             [
              0.2222222222222222,
              "#7201a8"
             ],
             [
              0.3333333333333333,
              "#9c179e"
             ],
             [
              0.4444444444444444,
              "#bd3786"
             ],
             [
              0.5555555555555556,
              "#d8576b"
             ],
             [
              0.6666666666666666,
              "#ed7953"
             ],
             [
              0.7777777777777778,
              "#fb9f3a"
             ],
             [
              0.8888888888888888,
              "#fdca26"
             ],
             [
              1,
              "#f0f921"
             ]
            ],
            "type": "heatmapgl"
           }
          ],
          "histogram": [
           {
            "marker": {
             "pattern": {
              "fillmode": "overlay",
              "size": 10,
              "solidity": 0.2
             }
            },
            "type": "histogram"
           }
          ],
          "histogram2d": [
           {
            "colorbar": {
             "outlinewidth": 0,
             "ticks": ""
            },
            "colorscale": [
             [
              0,
              "#0d0887"
             ],
             [
              0.1111111111111111,
              "#46039f"
             ],
             [
              0.2222222222222222,
              "#7201a8"
             ],
             [
              0.3333333333333333,
              "#9c179e"
             ],
             [
              0.4444444444444444,
              "#bd3786"
             ],
             [
              0.5555555555555556,
              "#d8576b"
             ],
             [
              0.6666666666666666,
              "#ed7953"
             ],
             [
              0.7777777777777778,
              "#fb9f3a"
             ],
             [
              0.8888888888888888,
              "#fdca26"
             ],
             [
              1,
              "#f0f921"
             ]
            ],
            "type": "histogram2d"
           }
          ],
          "histogram2dcontour": [
           {
            "colorbar": {
             "outlinewidth": 0,
             "ticks": ""
            },
            "colorscale": [
             [
              0,
              "#0d0887"
             ],
             [
              0.1111111111111111,
              "#46039f"
             ],
             [
              0.2222222222222222,
              "#7201a8"
             ],
             [
              0.3333333333333333,
              "#9c179e"
             ],
             [
              0.4444444444444444,
              "#bd3786"
             ],
             [
              0.5555555555555556,
              "#d8576b"
             ],
             [
              0.6666666666666666,
              "#ed7953"
             ],
             [
              0.7777777777777778,
              "#fb9f3a"
             ],
             [
              0.8888888888888888,
              "#fdca26"
             ],
             [
              1,
              "#f0f921"
             ]
            ],
            "type": "histogram2dcontour"
           }
          ],
          "mesh3d": [
           {
            "colorbar": {
             "outlinewidth": 0,
             "ticks": ""
            },
            "type": "mesh3d"
           }
          ],
          "parcoords": [
           {
            "line": {
             "colorbar": {
              "outlinewidth": 0,
              "ticks": ""
             }
            },
            "type": "parcoords"
           }
          ],
          "pie": [
           {
            "automargin": true,
            "type": "pie"
           }
          ],
          "scatter": [
           {
            "fillpattern": {
             "fillmode": "overlay",
             "size": 10,
             "solidity": 0.2
            },
            "type": "scatter"
           }
          ],
          "scatter3d": [
           {
            "line": {
             "colorbar": {
              "outlinewidth": 0,
              "ticks": ""
             }
            },
            "marker": {
             "colorbar": {
              "outlinewidth": 0,
              "ticks": ""
             }
            },
            "type": "scatter3d"
           }
          ],
          "scattercarpet": [
           {
            "marker": {
             "colorbar": {
              "outlinewidth": 0,
              "ticks": ""
             }
            },
            "type": "scattercarpet"
           }
          ],
          "scattergeo": [
           {
            "marker": {
             "colorbar": {
              "outlinewidth": 0,
              "ticks": ""
             }
            },
            "type": "scattergeo"
           }
          ],
          "scattergl": [
           {
            "marker": {
             "colorbar": {
              "outlinewidth": 0,
              "ticks": ""
             }
            },
            "type": "scattergl"
           }
          ],
          "scattermapbox": [
           {
            "marker": {
             "colorbar": {
              "outlinewidth": 0,
              "ticks": ""
             }
            },
            "type": "scattermapbox"
           }
          ],
          "scatterpolar": [
           {
            "marker": {
             "colorbar": {
              "outlinewidth": 0,
              "ticks": ""
             }
            },
            "type": "scatterpolar"
           }
          ],
          "scatterpolargl": [
           {
            "marker": {
             "colorbar": {
              "outlinewidth": 0,
              "ticks": ""
             }
            },
            "type": "scatterpolargl"
           }
          ],
          "scatterternary": [
           {
            "marker": {
             "colorbar": {
              "outlinewidth": 0,
              "ticks": ""
             }
            },
            "type": "scatterternary"
           }
          ],
          "surface": [
           {
            "colorbar": {
             "outlinewidth": 0,
             "ticks": ""
            },
            "colorscale": [
             [
              0,
              "#0d0887"
             ],
             [
              0.1111111111111111,
              "#46039f"
             ],
             [
              0.2222222222222222,
              "#7201a8"
             ],
             [
              0.3333333333333333,
              "#9c179e"
             ],
             [
              0.4444444444444444,
              "#bd3786"
             ],
             [
              0.5555555555555556,
              "#d8576b"
             ],
             [
              0.6666666666666666,
              "#ed7953"
             ],
             [
              0.7777777777777778,
              "#fb9f3a"
             ],
             [
              0.8888888888888888,
              "#fdca26"
             ],
             [
              1,
              "#f0f921"
             ]
            ],
            "type": "surface"
           }
          ],
          "table": [
           {
            "cells": {
             "fill": {
              "color": "#EBF0F8"
             },
             "line": {
              "color": "white"
             }
            },
            "header": {
             "fill": {
              "color": "#C8D4E3"
             },
             "line": {
              "color": "white"
             }
            },
            "type": "table"
           }
          ]
         },
         "layout": {
          "annotationdefaults": {
           "arrowcolor": "#2a3f5f",
           "arrowhead": 0,
           "arrowwidth": 1
          },
          "autotypenumbers": "strict",
          "coloraxis": {
           "colorbar": {
            "outlinewidth": 0,
            "ticks": ""
           }
          },
          "colorscale": {
           "diverging": [
            [
             0,
             "#8e0152"
            ],
            [
             0.1,
             "#c51b7d"
            ],
            [
             0.2,
             "#de77ae"
            ],
            [
             0.3,
             "#f1b6da"
            ],
            [
             0.4,
             "#fde0ef"
            ],
            [
             0.5,
             "#f7f7f7"
            ],
            [
             0.6,
             "#e6f5d0"
            ],
            [
             0.7,
             "#b8e186"
            ],
            [
             0.8,
             "#7fbc41"
            ],
            [
             0.9,
             "#4d9221"
            ],
            [
             1,
             "#276419"
            ]
           ],
           "sequential": [
            [
             0,
             "#0d0887"
            ],
            [
             0.1111111111111111,
             "#46039f"
            ],
            [
             0.2222222222222222,
             "#7201a8"
            ],
            [
             0.3333333333333333,
             "#9c179e"
            ],
            [
             0.4444444444444444,
             "#bd3786"
            ],
            [
             0.5555555555555556,
             "#d8576b"
            ],
            [
             0.6666666666666666,
             "#ed7953"
            ],
            [
             0.7777777777777778,
             "#fb9f3a"
            ],
            [
             0.8888888888888888,
             "#fdca26"
            ],
            [
             1,
             "#f0f921"
            ]
           ],
           "sequentialminus": [
            [
             0,
             "#0d0887"
            ],
            [
             0.1111111111111111,
             "#46039f"
            ],
            [
             0.2222222222222222,
             "#7201a8"
            ],
            [
             0.3333333333333333,
             "#9c179e"
            ],
            [
             0.4444444444444444,
             "#bd3786"
            ],
            [
             0.5555555555555556,
             "#d8576b"
            ],
            [
             0.6666666666666666,
             "#ed7953"
            ],
            [
             0.7777777777777778,
             "#fb9f3a"
            ],
            [
             0.8888888888888888,
             "#fdca26"
            ],
            [
             1,
             "#f0f921"
            ]
           ]
          },
          "colorway": [
           "#636efa",
           "#EF553B",
           "#00cc96",
           "#ab63fa",
           "#FFA15A",
           "#19d3f3",
           "#FF6692",
           "#B6E880",
           "#FF97FF",
           "#FECB52"
          ],
          "font": {
           "color": "#2a3f5f"
          },
          "geo": {
           "bgcolor": "white",
           "lakecolor": "white",
           "landcolor": "#E5ECF6",
           "showlakes": true,
           "showland": true,
           "subunitcolor": "white"
          },
          "hoverlabel": {
           "align": "left"
          },
          "hovermode": "closest",
          "mapbox": {
           "style": "light"
          },
          "paper_bgcolor": "white",
          "plot_bgcolor": "#E5ECF6",
          "polar": {
           "angularaxis": {
            "gridcolor": "white",
            "linecolor": "white",
            "ticks": ""
           },
           "bgcolor": "#E5ECF6",
           "radialaxis": {
            "gridcolor": "white",
            "linecolor": "white",
            "ticks": ""
           }
          },
          "scene": {
           "xaxis": {
            "backgroundcolor": "#E5ECF6",
            "gridcolor": "white",
            "gridwidth": 2,
            "linecolor": "white",
            "showbackground": true,
            "ticks": "",
            "zerolinecolor": "white"
           },
           "yaxis": {
            "backgroundcolor": "#E5ECF6",
            "gridcolor": "white",
            "gridwidth": 2,
            "linecolor": "white",
            "showbackground": true,
            "ticks": "",
            "zerolinecolor": "white"
           },
           "zaxis": {
            "backgroundcolor": "#E5ECF6",
            "gridcolor": "white",
            "gridwidth": 2,
            "linecolor": "white",
            "showbackground": true,
            "ticks": "",
            "zerolinecolor": "white"
           }
          },
          "shapedefaults": {
           "line": {
            "color": "#2a3f5f"
           }
          },
          "ternary": {
           "aaxis": {
            "gridcolor": "white",
            "linecolor": "white",
            "ticks": ""
           },
           "baxis": {
            "gridcolor": "white",
            "linecolor": "white",
            "ticks": ""
           },
           "bgcolor": "#E5ECF6",
           "caxis": {
            "gridcolor": "white",
            "linecolor": "white",
            "ticks": ""
           }
          },
          "title": {
           "x": 0.05
          },
          "xaxis": {
           "automargin": true,
           "gridcolor": "white",
           "linecolor": "white",
           "ticks": "",
           "title": {
            "standoff": 15
           },
           "zerolinecolor": "white",
           "zerolinewidth": 2
          },
          "yaxis": {
           "automargin": true,
           "gridcolor": "white",
           "linecolor": "white",
           "ticks": "",
           "title": {
            "standoff": 15
           },
           "zerolinecolor": "white",
           "zerolinewidth": 2
          }
         }
        },
        "title": {
         "text": "Зависимость средней абсолютной ошибки от<br>размера скользящего окна"
        },
        "width": 1280,
        "xaxis": {
         "title": {
          "text": "Размер скользящего окна"
         }
        },
        "yaxis": {
         "title": {
          "text": "Средняя абсолютная ошибка"
         }
        }
       }
      }
     },
     "metadata": {},
     "output_type": "display_data"
    }
   ],
   "source": [
    "# Plotting results\n",
    "fig = go.Figure()\n",
    "fig.add_trace(\n",
    "    go.Scatter(x=all_sizes, y=all_mapes,\n",
    "               name='Все наблюдения', mode='markers')\n",
    ")\n",
    "fig.add_trace(\n",
    "    go.Scatter(x=window_sizes, y=mapes_mean,\n",
    "               name='Средние значения', mode='lines+markers')\n",
    ")\n",
    "fig.update_layout(\n",
    "    title='Зависимость средней абсолютной ошибки от<br>размера скользящего окна',\n",
    "    font=dict(size=20),\n",
    "    xaxis=dict(title='Размер скользящего окна'),\n",
    "    yaxis=dict(title='Средняя абсолютная ошибка'),\n",
    "    width=1280,\n",
    "    height=720\n",
    ")\n",
    "fig.show()"
   ]
  },
  {
   "cell_type": "code",
   "execution_count": 29,
   "metadata": {},
   "outputs": [
    {
     "name": "stdout",
     "output_type": "stream",
     "text": [
      "[0, 1, 1, 2, 3, 5, 8, 13, 21, 34, 55, 89, 144]\n",
      "TRAINING FINISHED\n",
      "Epoch 2000/2000, Loss: 0.013494\n",
      "MAPE: 0.413876\n",
      "TRAINING FINISHED\n",
      "Epoch 2000/2000, Loss: 0.016975\n",
      "MAPE: 0.474967\n",
      "TRAINING FINISHED\n",
      "Epoch 2000/2000, Loss: 0.011370\n",
      "MAPE: 0.373764\n",
      "TRAINING FINISHED\n",
      "Epoch 2000/2000, Loss: 0.016158\n",
      "MAPE: 0.467851\n",
      "TRAINING FINISHED\n",
      "Epoch 2000/2000, Loss: 0.016539\n",
      "MAPE: 0.441455\n",
      "[1, 4, 9, 16, 25, 36, 49, 64, 81, 100, 121, 144, 169]\n",
      "TRAINING FINISHED\n",
      "Epoch 2000/2000, Loss: 0.003922\n",
      "MAPE: 0.197437\n",
      "TRAINING FINISHED\n",
      "Epoch 2000/2000, Loss: 0.004621\n",
      "MAPE: 0.201097\n",
      "TRAINING FINISHED\n",
      "Epoch 2000/2000, Loss: 0.008123\n",
      "MAPE: 0.258518\n",
      "TRAINING FINISHED\n",
      "Epoch 2000/2000, Loss: 0.006724\n",
      "MAPE: 0.265829\n",
      "TRAINING FINISHED\n",
      "Epoch 2000/2000, Loss: 0.008951\n",
      "MAPE: 0.300480\n",
      "[1, 2, 3, 4, 5, 6, 7, 8, 9, 10, 11, 12, 13]\n",
      "TRAINING FINISHED\n",
      "Epoch 2000/2000, Loss: 0.004778\n",
      "MAPE: 0.148969\n",
      "TRAINING FINISHED\n",
      "Epoch 2000/2000, Loss: 0.006750\n",
      "MAPE: 0.175396\n",
      "TRAINING FINISHED\n",
      "Epoch 2000/2000, Loss: 0.002131\n",
      "MAPE: 0.099188\n",
      "TRAINING FINISHED\n",
      "Epoch 2000/2000, Loss: 0.005680\n",
      "MAPE: 0.171221\n",
      "TRAINING FINISHED\n",
      "Epoch 2000/2000, Loss: 0.003421\n",
      "MAPE: 0.134190\n",
      "[1.0, 0.5, 0.3333333333333333, 0.25, 0.2, 0.16666666666666666, 0.14285714285714285, 0.125, 0.1111111111111111, 0.1, 0.09090909090909091, 0.08333333333333333, 0.07692307692307693]\n",
      "TRAINING FINISHED\n",
      "Epoch 2000/2000, Loss: 0.004106\n",
      "MAPE: 0.137482\n",
      "TRAINING FINISHED\n",
      "Epoch 2000/2000, Loss: 0.000921\n",
      "MAPE: 0.050919\n",
      "TRAINING FINISHED\n",
      "Epoch 2000/2000, Loss: 0.001127\n",
      "MAPE: 0.064159\n",
      "TRAINING FINISHED\n",
      "Epoch 2000/2000, Loss: 0.001715\n",
      "MAPE: 0.078919\n",
      "TRAINING FINISHED\n",
      "Epoch 2000/2000, Loss: 0.000356\n",
      "MAPE: 0.030537\n",
      "[1, -1, 1, -1, 1, -1, 1, -1, 1, -1, 1, -1, 1]\n",
      "TRAINING FINISHED\n",
      "Epoch 2000/2000, Loss: 0.008336\n",
      "MAPE: 0.076249\n",
      "TRAINING FINISHED\n",
      "Epoch 2000/2000, Loss: 0.005287\n",
      "MAPE: 0.058151\n",
      "TRAINING FINISHED\n",
      "Epoch 2000/2000, Loss: 0.006247\n",
      "MAPE: 0.058489\n",
      "TRAINING FINISHED\n",
      "Epoch 2000/2000, Loss: 0.007990\n",
      "MAPE: 0.076342\n",
      "TRAINING FINISHED\n",
      "Epoch 2000/2000, Loss: 0.006290\n",
      "MAPE: 0.061052\n",
      "[1, 0.5, 1, 0.5, 0.5, 1, 0.5, 0.5, 0.5, 1, 0.5, 0.5, 0.5]\n",
      "TRAINING FINISHED\n",
      "Epoch 2000/2000, Loss: 0.273607\n",
      "MAPE: 0.448312\n",
      "TRAINING FINISHED\n",
      "Epoch 2000/2000, Loss: 0.122003\n",
      "MAPE: 0.311458\n",
      "TRAINING FINISHED\n",
      "Epoch 2000/2000, Loss: 0.134104\n",
      "MAPE: 0.290238\n",
      "TRAINING FINISHED\n",
      "Epoch 2000/2000, Loss: 0.300291\n",
      "MAPE: 0.486876\n",
      "TRAINING FINISHED\n",
      "Epoch 2000/2000, Loss: 0.166929\n",
      "MAPE: 0.358536\n"
     ]
    }
   ],
   "source": [
    "# Настройки эксперимента\n",
    "experiments_amount = 5\n",
    "seq_length = 10\n",
    "window_size = 3\n",
    "batch_size = 2\n",
    "hidden_size = 10\n",
    "output_size = 3\n",
    "max_epochs = 2000\n",
    "verbosity = 100000\n",
    "lr = 1e-2\n",
    "\n",
    "# Словарь с генераторами\n",
    "sequence_generators = {\n",
    "    \"1, 1, 2, 3, 5, 8,...\": lambda n: list(fibonacci_generator(n)),\n",
    "    \"1, 4, 9, 16,...\": lambda n: list(squared_generator(n)),\n",
    "    \"1, 2, 3, 4, 5,...\": lambda n: list(arithmetic_progression(n, a0=1, d=1)),    \n",
    "    \"1, 0.5 ,0.(3), 0.25, 0.2,...\": lambda n: list(one_by_n_generator(n)),\n",
    "    \"1, -1, 1, -1,...\": lambda n: list(plus_one_minus_one_generator(n)),\n",
    "    \"1, 0.5, 1, 0.5, 0.5, 1,...\": lambda n: list(one_half_generator(n)),\n",
    "}\n",
    "\n",
    "all_mapes = []\n",
    "mapes_mean = []\n",
    "all_sequences = []\n",
    "\n",
    "# Тренировка для каждой последовательности\n",
    "for seq_name, seq_generator in sequence_generators.items():\n",
    "    sequence = seq_generator(seq_length + output_size)\n",
    "    print(sequence)   \n",
    "\n",
    "    mapes_sum = 0\n",
    "    for _ in range(experiments_amount):\n",
    "        all_sequences.append(seq_name)\n",
    "        \n",
    "        train_sequence = sequence[:seq_length]\n",
    "        test_sequence = sequence[-output_size:]\n",
    "        training_mape, model, next_n_pred, mean, deviation = predict_next_n_elements(\n",
    "            train_sequence, window_size, batch_size,\n",
    "            hidden_size, output_size, max_epochs,\n",
    "            verbosity, lr, use_adam=use_adam\n",
    "        )\n",
    "        all_epochs.append(max_epochs)\n",
    "        \n",
    "        # Test sequence mape\n",
    "        test_sequence = sequence[-output_size:]\n",
    "        test_mape = mape(test_sequence, next_n_pred)\n",
    "        mapes_sum += test_mape    \n",
    "        all_mapes.append(test_mape)\n",
    "\n",
    "    mapes_mean.append(mapes_sum / experiments_amount)"
   ]
  },
  {
   "cell_type": "code",
   "execution_count": 30,
   "metadata": {},
   "outputs": [
    {
     "data": {
      "application/vnd.plotly.v1+json": {
       "config": {
        "plotlyServerURL": "https://plot.ly"
       },
       "data": [
        {
         "mode": "markers",
         "name": "Все наблюдения",
         "type": "scatter",
         "x": [
          "1, 1, 2, 3, 5, 8,...",
          "1, 1, 2, 3, 5, 8,...",
          "1, 1, 2, 3, 5, 8,...",
          "1, 1, 2, 3, 5, 8,...",
          "1, 1, 2, 3, 5, 8,...",
          "1, 4, 9, 16,...",
          "1, 4, 9, 16,...",
          "1, 4, 9, 16,...",
          "1, 4, 9, 16,...",
          "1, 4, 9, 16,...",
          "1, 2, 3, 4, 5,...",
          "1, 2, 3, 4, 5,...",
          "1, 2, 3, 4, 5,...",
          "1, 2, 3, 4, 5,...",
          "1, 2, 3, 4, 5,...",
          "1, 0.5 ,0.(3), 0.25, 0.2,...",
          "1, 0.5 ,0.(3), 0.25, 0.2,...",
          "1, 0.5 ,0.(3), 0.25, 0.2,...",
          "1, 0.5 ,0.(3), 0.25, 0.2,...",
          "1, 0.5 ,0.(3), 0.25, 0.2,...",
          "1, -1, 1, -1,...",
          "1, -1, 1, -1,...",
          "1, -1, 1, -1,...",
          "1, -1, 1, -1,...",
          "1, -1, 1, -1,...",
          "1, 0.5, 1, 0.5, 0.5, 1,...",
          "1, 0.5, 1, 0.5, 0.5, 1,...",
          "1, 0.5, 1, 0.5, 0.5, 1,...",
          "1, 0.5, 1, 0.5, 0.5, 1,...",
          "1, 0.5, 1, 0.5, 0.5, 1,..."
         ],
         "y": [
          0.7411196746831735,
          0.7993543969171809,
          0.7995898275740311,
          0.7149836518513429,
          0.7277610016640957,
          0.39846574473520385,
          0.4017904602008453,
          0.42130327755226576,
          0.39440057217451985,
          0.4551923356836483,
          0.20155854986855307,
          0.15220829039989872,
          0.20633554534298204,
          0.15742936498184198,
          0.20002945222136617,
          0.5048489845606694,
          0.36317511823853915,
          0.31227242731321075,
          0.44235886616026193,
          0.5273320306822247,
          0.14848328857320317,
          0.12441563778820626,
          0.1454775136348783,
          0.12674067370832057,
          0.14147605079179656,
          0.14007171774233573,
          0.08444453238571643,
          0.20481456118443786,
          0.13534893811827878,
          0.1834103283841897
         ]
        },
        {
         "mode": "markers",
         "name": "Средние значения",
         "type": "scatter",
         "x": [
          "1, 1, 2, 3, 5, 8,...",
          "1, 4, 9, 16,...",
          "1, 2, 3, 4, 5,...",
          "1, 0.5 ,0.(3), 0.25, 0.2,...",
          "1, -1, 1, -1,...",
          "1, 0.5, 1, 0.5, 0.5, 1,..."
         ],
         "y": [
          0.7565617105379647,
          0.41423047806929664,
          0.1835122405629284,
          0.4299974853909812,
          0.13731863289928098,
          0.1496180155629917
         ]
        }
       ],
       "layout": {
        "font": {
         "size": 20
        },
        "height": 720,
        "template": {
         "data": {
          "bar": [
           {
            "error_x": {
             "color": "#2a3f5f"
            },
            "error_y": {
             "color": "#2a3f5f"
            },
            "marker": {
             "line": {
              "color": "#E5ECF6",
              "width": 0.5
             },
             "pattern": {
              "fillmode": "overlay",
              "size": 10,
              "solidity": 0.2
             }
            },
            "type": "bar"
           }
          ],
          "barpolar": [
           {
            "marker": {
             "line": {
              "color": "#E5ECF6",
              "width": 0.5
             },
             "pattern": {
              "fillmode": "overlay",
              "size": 10,
              "solidity": 0.2
             }
            },
            "type": "barpolar"
           }
          ],
          "carpet": [
           {
            "aaxis": {
             "endlinecolor": "#2a3f5f",
             "gridcolor": "white",
             "linecolor": "white",
             "minorgridcolor": "white",
             "startlinecolor": "#2a3f5f"
            },
            "baxis": {
             "endlinecolor": "#2a3f5f",
             "gridcolor": "white",
             "linecolor": "white",
             "minorgridcolor": "white",
             "startlinecolor": "#2a3f5f"
            },
            "type": "carpet"
           }
          ],
          "choropleth": [
           {
            "colorbar": {
             "outlinewidth": 0,
             "ticks": ""
            },
            "type": "choropleth"
           }
          ],
          "contour": [
           {
            "colorbar": {
             "outlinewidth": 0,
             "ticks": ""
            },
            "colorscale": [
             [
              0,
              "#0d0887"
             ],
             [
              0.1111111111111111,
              "#46039f"
             ],
             [
              0.2222222222222222,
              "#7201a8"
             ],
             [
              0.3333333333333333,
              "#9c179e"
             ],
             [
              0.4444444444444444,
              "#bd3786"
             ],
             [
              0.5555555555555556,
              "#d8576b"
             ],
             [
              0.6666666666666666,
              "#ed7953"
             ],
             [
              0.7777777777777778,
              "#fb9f3a"
             ],
             [
              0.8888888888888888,
              "#fdca26"
             ],
             [
              1,
              "#f0f921"
             ]
            ],
            "type": "contour"
           }
          ],
          "contourcarpet": [
           {
            "colorbar": {
             "outlinewidth": 0,
             "ticks": ""
            },
            "type": "contourcarpet"
           }
          ],
          "heatmap": [
           {
            "colorbar": {
             "outlinewidth": 0,
             "ticks": ""
            },
            "colorscale": [
             [
              0,
              "#0d0887"
             ],
             [
              0.1111111111111111,
              "#46039f"
             ],
             [
              0.2222222222222222,
              "#7201a8"
             ],
             [
              0.3333333333333333,
              "#9c179e"
             ],
             [
              0.4444444444444444,
              "#bd3786"
             ],
             [
              0.5555555555555556,
              "#d8576b"
             ],
             [
              0.6666666666666666,
              "#ed7953"
             ],
             [
              0.7777777777777778,
              "#fb9f3a"
             ],
             [
              0.8888888888888888,
              "#fdca26"
             ],
             [
              1,
              "#f0f921"
             ]
            ],
            "type": "heatmap"
           }
          ],
          "heatmapgl": [
           {
            "colorbar": {
             "outlinewidth": 0,
             "ticks": ""
            },
            "colorscale": [
             [
              0,
              "#0d0887"
             ],
             [
              0.1111111111111111,
              "#46039f"
             ],
             [
              0.2222222222222222,
              "#7201a8"
             ],
             [
              0.3333333333333333,
              "#9c179e"
             ],
             [
              0.4444444444444444,
              "#bd3786"
             ],
             [
              0.5555555555555556,
              "#d8576b"
             ],
             [
              0.6666666666666666,
              "#ed7953"
             ],
             [
              0.7777777777777778,
              "#fb9f3a"
             ],
             [
              0.8888888888888888,
              "#fdca26"
             ],
             [
              1,
              "#f0f921"
             ]
            ],
            "type": "heatmapgl"
           }
          ],
          "histogram": [
           {
            "marker": {
             "pattern": {
              "fillmode": "overlay",
              "size": 10,
              "solidity": 0.2
             }
            },
            "type": "histogram"
           }
          ],
          "histogram2d": [
           {
            "colorbar": {
             "outlinewidth": 0,
             "ticks": ""
            },
            "colorscale": [
             [
              0,
              "#0d0887"
             ],
             [
              0.1111111111111111,
              "#46039f"
             ],
             [
              0.2222222222222222,
              "#7201a8"
             ],
             [
              0.3333333333333333,
              "#9c179e"
             ],
             [
              0.4444444444444444,
              "#bd3786"
             ],
             [
              0.5555555555555556,
              "#d8576b"
             ],
             [
              0.6666666666666666,
              "#ed7953"
             ],
             [
              0.7777777777777778,
              "#fb9f3a"
             ],
             [
              0.8888888888888888,
              "#fdca26"
             ],
             [
              1,
              "#f0f921"
             ]
            ],
            "type": "histogram2d"
           }
          ],
          "histogram2dcontour": [
           {
            "colorbar": {
             "outlinewidth": 0,
             "ticks": ""
            },
            "colorscale": [
             [
              0,
              "#0d0887"
             ],
             [
              0.1111111111111111,
              "#46039f"
             ],
             [
              0.2222222222222222,
              "#7201a8"
             ],
             [
              0.3333333333333333,
              "#9c179e"
             ],
             [
              0.4444444444444444,
              "#bd3786"
             ],
             [
              0.5555555555555556,
              "#d8576b"
             ],
             [
              0.6666666666666666,
              "#ed7953"
             ],
             [
              0.7777777777777778,
              "#fb9f3a"
             ],
             [
              0.8888888888888888,
              "#fdca26"
             ],
             [
              1,
              "#f0f921"
             ]
            ],
            "type": "histogram2dcontour"
           }
          ],
          "mesh3d": [
           {
            "colorbar": {
             "outlinewidth": 0,
             "ticks": ""
            },
            "type": "mesh3d"
           }
          ],
          "parcoords": [
           {
            "line": {
             "colorbar": {
              "outlinewidth": 0,
              "ticks": ""
             }
            },
            "type": "parcoords"
           }
          ],
          "pie": [
           {
            "automargin": true,
            "type": "pie"
           }
          ],
          "scatter": [
           {
            "fillpattern": {
             "fillmode": "overlay",
             "size": 10,
             "solidity": 0.2
            },
            "type": "scatter"
           }
          ],
          "scatter3d": [
           {
            "line": {
             "colorbar": {
              "outlinewidth": 0,
              "ticks": ""
             }
            },
            "marker": {
             "colorbar": {
              "outlinewidth": 0,
              "ticks": ""
             }
            },
            "type": "scatter3d"
           }
          ],
          "scattercarpet": [
           {
            "marker": {
             "colorbar": {
              "outlinewidth": 0,
              "ticks": ""
             }
            },
            "type": "scattercarpet"
           }
          ],
          "scattergeo": [
           {
            "marker": {
             "colorbar": {
              "outlinewidth": 0,
              "ticks": ""
             }
            },
            "type": "scattergeo"
           }
          ],
          "scattergl": [
           {
            "marker": {
             "colorbar": {
              "outlinewidth": 0,
              "ticks": ""
             }
            },
            "type": "scattergl"
           }
          ],
          "scattermapbox": [
           {
            "marker": {
             "colorbar": {
              "outlinewidth": 0,
              "ticks": ""
             }
            },
            "type": "scattermapbox"
           }
          ],
          "scatterpolar": [
           {
            "marker": {
             "colorbar": {
              "outlinewidth": 0,
              "ticks": ""
             }
            },
            "type": "scatterpolar"
           }
          ],
          "scatterpolargl": [
           {
            "marker": {
             "colorbar": {
              "outlinewidth": 0,
              "ticks": ""
             }
            },
            "type": "scatterpolargl"
           }
          ],
          "scatterternary": [
           {
            "marker": {
             "colorbar": {
              "outlinewidth": 0,
              "ticks": ""
             }
            },
            "type": "scatterternary"
           }
          ],
          "surface": [
           {
            "colorbar": {
             "outlinewidth": 0,
             "ticks": ""
            },
            "colorscale": [
             [
              0,
              "#0d0887"
             ],
             [
              0.1111111111111111,
              "#46039f"
             ],
             [
              0.2222222222222222,
              "#7201a8"
             ],
             [
              0.3333333333333333,
              "#9c179e"
             ],
             [
              0.4444444444444444,
              "#bd3786"
             ],
             [
              0.5555555555555556,
              "#d8576b"
             ],
             [
              0.6666666666666666,
              "#ed7953"
             ],
             [
              0.7777777777777778,
              "#fb9f3a"
             ],
             [
              0.8888888888888888,
              "#fdca26"
             ],
             [
              1,
              "#f0f921"
             ]
            ],
            "type": "surface"
           }
          ],
          "table": [
           {
            "cells": {
             "fill": {
              "color": "#EBF0F8"
             },
             "line": {
              "color": "white"
             }
            },
            "header": {
             "fill": {
              "color": "#C8D4E3"
             },
             "line": {
              "color": "white"
             }
            },
            "type": "table"
           }
          ]
         },
         "layout": {
          "annotationdefaults": {
           "arrowcolor": "#2a3f5f",
           "arrowhead": 0,
           "arrowwidth": 1
          },
          "autotypenumbers": "strict",
          "coloraxis": {
           "colorbar": {
            "outlinewidth": 0,
            "ticks": ""
           }
          },
          "colorscale": {
           "diverging": [
            [
             0,
             "#8e0152"
            ],
            [
             0.1,
             "#c51b7d"
            ],
            [
             0.2,
             "#de77ae"
            ],
            [
             0.3,
             "#f1b6da"
            ],
            [
             0.4,
             "#fde0ef"
            ],
            [
             0.5,
             "#f7f7f7"
            ],
            [
             0.6,
             "#e6f5d0"
            ],
            [
             0.7,
             "#b8e186"
            ],
            [
             0.8,
             "#7fbc41"
            ],
            [
             0.9,
             "#4d9221"
            ],
            [
             1,
             "#276419"
            ]
           ],
           "sequential": [
            [
             0,
             "#0d0887"
            ],
            [
             0.1111111111111111,
             "#46039f"
            ],
            [
             0.2222222222222222,
             "#7201a8"
            ],
            [
             0.3333333333333333,
             "#9c179e"
            ],
            [
             0.4444444444444444,
             "#bd3786"
            ],
            [
             0.5555555555555556,
             "#d8576b"
            ],
            [
             0.6666666666666666,
             "#ed7953"
            ],
            [
             0.7777777777777778,
             "#fb9f3a"
            ],
            [
             0.8888888888888888,
             "#fdca26"
            ],
            [
             1,
             "#f0f921"
            ]
           ],
           "sequentialminus": [
            [
             0,
             "#0d0887"
            ],
            [
             0.1111111111111111,
             "#46039f"
            ],
            [
             0.2222222222222222,
             "#7201a8"
            ],
            [
             0.3333333333333333,
             "#9c179e"
            ],
            [
             0.4444444444444444,
             "#bd3786"
            ],
            [
             0.5555555555555556,
             "#d8576b"
            ],
            [
             0.6666666666666666,
             "#ed7953"
            ],
            [
             0.7777777777777778,
             "#fb9f3a"
            ],
            [
             0.8888888888888888,
             "#fdca26"
            ],
            [
             1,
             "#f0f921"
            ]
           ]
          },
          "colorway": [
           "#636efa",
           "#EF553B",
           "#00cc96",
           "#ab63fa",
           "#FFA15A",
           "#19d3f3",
           "#FF6692",
           "#B6E880",
           "#FF97FF",
           "#FECB52"
          ],
          "font": {
           "color": "#2a3f5f"
          },
          "geo": {
           "bgcolor": "white",
           "lakecolor": "white",
           "landcolor": "#E5ECF6",
           "showlakes": true,
           "showland": true,
           "subunitcolor": "white"
          },
          "hoverlabel": {
           "align": "left"
          },
          "hovermode": "closest",
          "mapbox": {
           "style": "light"
          },
          "paper_bgcolor": "white",
          "plot_bgcolor": "#E5ECF6",
          "polar": {
           "angularaxis": {
            "gridcolor": "white",
            "linecolor": "white",
            "ticks": ""
           },
           "bgcolor": "#E5ECF6",
           "radialaxis": {
            "gridcolor": "white",
            "linecolor": "white",
            "ticks": ""
           }
          },
          "scene": {
           "xaxis": {
            "backgroundcolor": "#E5ECF6",
            "gridcolor": "white",
            "gridwidth": 2,
            "linecolor": "white",
            "showbackground": true,
            "ticks": "",
            "zerolinecolor": "white"
           },
           "yaxis": {
            "backgroundcolor": "#E5ECF6",
            "gridcolor": "white",
            "gridwidth": 2,
            "linecolor": "white",
            "showbackground": true,
            "ticks": "",
            "zerolinecolor": "white"
           },
           "zaxis": {
            "backgroundcolor": "#E5ECF6",
            "gridcolor": "white",
            "gridwidth": 2,
            "linecolor": "white",
            "showbackground": true,
            "ticks": "",
            "zerolinecolor": "white"
           }
          },
          "shapedefaults": {
           "line": {
            "color": "#2a3f5f"
           }
          },
          "ternary": {
           "aaxis": {
            "gridcolor": "white",
            "linecolor": "white",
            "ticks": ""
           },
           "baxis": {
            "gridcolor": "white",
            "linecolor": "white",
            "ticks": ""
           },
           "bgcolor": "#E5ECF6",
           "caxis": {
            "gridcolor": "white",
            "linecolor": "white",
            "ticks": ""
           }
          },
          "title": {
           "x": 0.05
          },
          "xaxis": {
           "automargin": true,
           "gridcolor": "white",
           "linecolor": "white",
           "ticks": "",
           "title": {
            "standoff": 15
           },
           "zerolinecolor": "white",
           "zerolinewidth": 2
          },
          "yaxis": {
           "automargin": true,
           "gridcolor": "white",
           "linecolor": "white",
           "ticks": "",
           "title": {
            "standoff": 15
           },
           "zerolinecolor": "white",
           "zerolinewidth": 2
          }
         }
        },
        "title": {
         "text": "Зависимость средней абсолютной ошибки<br>от вида последовательности"
        },
        "width": 1280,
        "xaxis": {
         "title": {
          "text": "Вид последовательности"
         }
        },
        "yaxis": {
         "title": {
          "text": "Средняя абсолютная ошибка"
         }
        }
       }
      }
     },
     "metadata": {},
     "output_type": "display_data"
    }
   ],
   "source": [
    "# Построение графика\n",
    "fig = go.Figure()\n",
    "fig.add_trace(\n",
    "    go.Scatter(x=all_sequences, y=all_mapes, name=\"Все наблюдения\", mode=\"markers\")\n",
    ")\n",
    "fig.add_trace(\n",
    "    go.Scatter(x=list(sequence_generators.keys()), y=mapes_mean, name=\"Средние значения\", mode=\"markers\")\n",
    ")\n",
    "fig.update_layout(\n",
    "    title=\"Зависимость средней абсолютной ошибки<br>от вида последовательности\",\n",
    "    font=dict(size=20),\n",
    "    xaxis=dict(title=\"Вид последовательности\"),\n",
    "    yaxis=dict(title=\"Средняя абсолютная ошибка\"),\n",
    "    width=1280,\n",
    "    height=720\n",
    ")\n",
    "fig.show()"
   ]
  },
  {
   "cell_type": "code",
   "execution_count": 18,
   "metadata": {},
   "outputs": [
    {
     "name": "stdout",
     "output_type": "stream",
     "text": [
      "TRAINING FINISHED\n",
      "Epoch 2000/2000, Loss: 0.017820\n",
      "MAPE: 0.008936\n",
      "TEST\n",
      "Предсказания на тестовой выборке:\n",
      " [18.09476853 19.10482458 20.19017522]\n",
      "Истинное значение на тестовой выборке:\n",
      " [18 19 20]\n",
      "MAPE: 0.6764%\n"
     ]
    }
   ],
   "source": [
    "# Arithmetic\n",
    "seq_length = 20\n",
    "window_size = 5\n",
    "batch_size = 2\n",
    "hidden_size = 10\n",
    "output_size = 3\n",
    "\n",
    "sequence = list(arithmetic_progression(seq_length, 1, 1))\n",
    "X, y = create_sliding_window_batches(sequence, window_size, batch_size, output_size)\n",
    "\n",
    "verbosity = 5000\n",
    "model = GRUModel(window_size, hidden_size, output_size)\n",
    "\n",
    "# Параметры обучения\n",
    "lr = 1e-3\n",
    "epochs = 2000\n",
    "\n",
    "model.train(x=X, y=y, lr=lr, max_epochs=epochs, verbosity=verbosity)\n",
    "\n",
    "print('TEST')\n",
    "y_pred, _, _ = model.forward(X)\n",
    "print(\"Предсказания на тестовой выборке:\\n\", y_pred[-1][-1])\n",
    "print(\"Истинное значение на тестовой выборке:\\n\", y[-1][-1])\n",
    "print(f\"MAPE: {mape(y[-1][-1], y_pred[-1][-1]) * 100:.4f}%\")  "
   ]
  },
  {
   "cell_type": "code",
   "execution_count": 19,
   "metadata": {},
   "outputs": [
    {
     "name": "stdout",
     "output_type": "stream",
     "text": [
      "TRAINING FINISHED\n",
      "Epoch 2000/2000, Loss: 1368.325603\n",
      "MAPE: 0.456188\n",
      "TEST\n",
      "Предсказания на тестовой выборке:\n",
      " [125.56325952 203.17306437 328.7341584 ]\n",
      "Истинное значение на тестовой выборке:\n",
      " [144 233 377]\n",
      "MAPE: 12.8024%\n"
     ]
    }
   ],
   "source": [
    "# Fibonacci\n",
    "seq_length = 15\n",
    "window_size = 5\n",
    "batch_size = 2\n",
    "hidden_size = 10\n",
    "output_size = 3\n",
    "\n",
    "sequence = list(fibonacci_generator(seq_length))\n",
    "X, y = create_sliding_window_batches(sequence, window_size, batch_size, output_size)\n",
    "\n",
    "verbosity = 5000\n",
    "model = GRUModel(window_size, hidden_size, output_size)\n",
    "\n",
    "# Параметры обучения\n",
    "lr = 1e-3\n",
    "epochs = 2000\n",
    "\n",
    "model.train(x=X, y=y, lr=lr, max_epochs=epochs, verbosity=verbosity)\n",
    "\n",
    "print('TEST')\n",
    "y_pred, _, _ = model.forward(X)\n",
    "print(\"Предсказания на тестовой выборке:\\n\", y_pred[-1][-1])\n",
    "print(\"Истинное значение на тестовой выборке:\\n\", y[-1][-1])\n",
    "print(f\"MAPE: {mape(y[-1][-1], y_pred[-1][-1]) * 100:.4f}%\")"
   ]
  },
  {
   "cell_type": "code",
   "execution_count": 20,
   "metadata": {},
   "outputs": [
    {
     "name": "stdout",
     "output_type": "stream",
     "text": [
      "TRAINING FINISHED\n",
      "Epoch 2000/2000, Loss: 0.001371\n",
      "MAPE: 0.286088\n",
      "TEST\n",
      "Предсказания на тестовой выборке:\n",
      " [0.06865221 0.06474164 0.07640989]\n",
      "Истинное значение на тестовой выборке:\n",
      " [0.05555556 0.05263158 0.05      ]\n",
      "MAPE: 33.1343%\n"
     ]
    }
   ],
   "source": [
    "# 1 / n\n",
    "seq_length = 20\n",
    "window_size = 5\n",
    "batch_size = 2\n",
    "hidden_size = 10\n",
    "output_size = 3\n",
    "\n",
    "sequence = list(one_by_n_generator(seq_length))\n",
    "X, y = create_sliding_window_batches(sequence, window_size, batch_size, output_size)\n",
    "\n",
    "verbosity = 5000\n",
    "model = GRUModel(window_size, hidden_size, output_size)\n",
    "\n",
    "# Параметры обучения\n",
    "lr = 1e-3\n",
    "epochs = 2000\n",
    "\n",
    "model.train(x=X, y=y, lr=lr, max_epochs=epochs, verbosity=verbosity)\n",
    "\n",
    "print('TEST')\n",
    "y_pred, _, _ = model.forward(X)\n",
    "print(\"Предсказания на тестовой выборке:\\n\", y_pred[-1][-1])\n",
    "print(\"Истинное значение на тестовой выборке:\\n\", y[-1][-1])\n",
    "print(f\"MAPE: {mape(y[-1][-1], y_pred[-1][-1]) * 100:.4f}%\")"
   ]
  },
  {
   "cell_type": "code",
   "execution_count": 21,
   "metadata": {},
   "outputs": [
    {
     "name": "stdout",
     "output_type": "stream",
     "text": [
      "Epoch 2000/2000, Loss: 0.081951\n",
      "MAPE: 0.199536\n",
      "TRAINING FINISHED\n",
      "Epoch 2000/2000, Loss: 0.081933\n",
      "MAPE: 0.199518\n",
      "TEST\n",
      "Предсказания на тестовой выборке:\n",
      " [-0.26292435  0.18949469 -0.21762125]\n",
      "Истинное значение на тестовой выборке:\n",
      " [-1  1 -1]\n",
      "MAPE: 77.6653%\n"
     ]
    }
   ],
   "source": [
    "# 1, -1, 1, -1, ...\n",
    "seq_length = 20\n",
    "window_size = 5\n",
    "batch_size = 2\n",
    "hidden_size = 10\n",
    "output_size = 3\n",
    "\n",
    "sequence = list(plus_one_minus_one_generator(seq_length))\n",
    "X, y = create_sliding_window_batches(sequence, window_size, batch_size, output_size)\n",
    "\n",
    "verbosity = 2000\n",
    "model = GRUModel(window_size, hidden_size, output_size)\n",
    "\n",
    "# Параметры обучения\n",
    "lr = 1e-3\n",
    "epochs = 2000\n",
    "\n",
    "model.train(x=X, y=y, lr=lr, max_epochs=epochs, verbosity=verbosity)\n",
    "\n",
    "print('TEST')\n",
    "y_pred, _, _ = model.forward(X)\n",
    "print(\"Предсказания на тестовой выборке:\\n\", y_pred[-1][-1])\n",
    "print(\"Истинное значение на тестовой выборке:\\n\", y[-1][-1])\n",
    "print(f\"MAPE: {mape(y[-1][-1], y_pred[-1][-1]) * 100:.4f}%\") "
   ]
  },
  {
   "cell_type": "code",
   "execution_count": 22,
   "metadata": {},
   "outputs": [
    {
     "name": "stdout",
     "output_type": "stream",
     "text": [
      "TRAINING FINISHED\n",
      "Epoch 2000/2000, Loss: 0.275702\n",
      "MAPE: 0.010133\n",
      "TEST\n",
      "Предсказания на тестовой выборке:\n",
      " [ 64.46419645  81.50586423 100.43683612]\n",
      "Истинное значение на тестовой выборке:\n",
      " [ 64  81 100]\n",
      "MAPE: 0.5956%\n"
     ]
    }
   ],
   "source": [
    "# n ** 2\n",
    "seq_length = 10\n",
    "window_size = 3\n",
    "batch_size = 2\n",
    "hidden_size = 10\n",
    "output_size = 3\n",
    "\n",
    "sequence = list(squared_generator(seq_length))\n",
    "X, y = create_sliding_window_batches(sequence, window_size, batch_size, output_size)\n",
    "\n",
    "verbosity = 5000\n",
    "model = GRUModel(window_size, hidden_size, output_size)\n",
    "\n",
    "# Параметры обучения\n",
    "lr = 1e-3\n",
    "epochs = 2000\n",
    "\n",
    "model.train(x=X, y=y, lr=lr, max_epochs=epochs, verbosity=verbosity)\n",
    "\n",
    "print('TEST')\n",
    "y_pred, _, _ = model.forward(X)\n",
    "print(\"Предсказания на тестовой выборке:\\n\", y_pred[-1][-1])\n",
    "print(\"Истинное значение на тестовой выборке:\\n\", y[-1][-1])\n",
    "print(f\"MAPE: {mape(y[-1][-1], y_pred[-1][-1]) * 100:.4f}%\") "
   ]
  }
 ],
 "metadata": {
  "kernelspec": {
   "display_name": ".venv",
   "language": "python",
   "name": "python3"
  },
  "language_info": {
   "codemirror_mode": {
    "name": "ipython",
    "version": 3
   },
   "file_extension": ".py",
   "mimetype": "text/x-python",
   "name": "python",
   "nbconvert_exporter": "python",
   "pygments_lexer": "ipython3",
   "version": "3.11.9"
  }
 },
 "nbformat": 4,
 "nbformat_minor": 2
}
