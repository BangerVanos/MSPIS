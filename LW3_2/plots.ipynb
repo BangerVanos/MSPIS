{
 "cells": [
  {
   "cell_type": "code",
   "execution_count": 6,
   "metadata": {},
   "outputs": [],
   "source": [
    "import numpy as np\n",
    "from gru import (\n",
    "    # GRUModel,\n",
    "    fibonacci_generator,\n",
    "    one_by_n_generator,\n",
    "    plus_one_minus_one_generator,\n",
    "    squared_generator,\n",
    "    half_generator,\n",
    "    arithmetic_progression,\n",
    "    create_sliding_window_batches,\n",
    "    mape\n",
    ")\n",
    "from gru2 import GRUModel\n",
    "import plotly.graph_objects as go"
   ]
  },
  {
   "cell_type": "code",
   "execution_count": 7,
   "metadata": {},
   "outputs": [],
   "source": [
    "# seq_length = 10\n",
    "# window_size = 5\n",
    "# batch_size = 2\n",
    "# hidden_size = 4\n",
    "# output_size = 3\n",
    "\n",
    "# sequence = list(fibonacci_generator(seq_length))\n",
    "# X, y = create_sliding_window_batches(sequence, window_size, batch_size, output_size)\n",
    "# X_train, y_train = X[0:int(len(X) * 0.8)], y[0:int(len(X) * 0.8)][-1]\n",
    "# X_test, y_test = X[int(len(X) * 0.8):], y[int(len(X) * 0.8):][-1]\n",
    "\n",
    "# verbosity = 1000\n",
    "\n",
    "# max_mape = 1e-3\n",
    "# learn_until_meet_mape = True\n",
    "\n",
    "# model = GRUModel(window_size, hidden_size, output_size)\n",
    "\n",
    "# # Параметры обучения\n",
    "# lr = 1e-4\n",
    "# epochs = 5000\n",
    "\n",
    "# model.train(X_train, y_train, lr, epochs,\n",
    "#             True, max_mape, verbosity)\n",
    "# Проверим результат после обучения\n",
    "# y_pred, _, _ = model.forward(X_train)\n",
    "# print(\"Предсказание после обучения:\\n\", y_pred)\n",
    "# print(\"Истинное значение:\\n\", y_train)\n",
    "# print(f\"MAPE: {mape(y_train, y_pred) * 100:.4f}%\")\n",
    "\n",
    "# print('TEST')\n",
    "# y_pred, _, _ = model.forward(X_test)\n",
    "# print(\"Предсказания на тестовой выборке:\\n\", y_pred)\n",
    "# print(\"Истинное значение на тестовой выборке:\\n\", y_test)\n",
    "# print(f\"MAPE: {mape(y_test, y_pred) * 100:.4f}%\")  "
   ]
  },
  {
   "cell_type": "code",
   "execution_count": 8,
   "metadata": {},
   "outputs": [
    {
     "name": "stdout",
     "output_type": "stream",
     "text": [
      "TRAINING FINISHED\n",
      "Epoch 100/100, Loss: 109.353590\n",
      "MAPE: 0.740424\n",
      "TRAINING FINISHED\n",
      "Epoch 100/100, Loss: 105.008567\n",
      "MAPE: 0.716828\n",
      "TRAINING FINISHED\n",
      "Epoch 100/100, Loss: 99.109856\n",
      "MAPE: 0.694986\n",
      "TRAINING FINISHED\n",
      "Epoch 100/100, Loss: 90.074095\n",
      "MAPE: 0.665925\n",
      "TRAINING FINISHED\n",
      "Epoch 100/100, Loss: 120.463195\n",
      "MAPE: 0.774339\n",
      "TRAINING FINISHED\n",
      "Epoch 200/200, Loss: 32.480090\n",
      "MAPE: 0.385493\n",
      "TRAINING FINISHED\n",
      "Epoch 200/200, Loss: 51.051703\n",
      "MAPE: 0.484764\n",
      "TRAINING FINISHED\n",
      "Epoch 200/200, Loss: 58.530814\n",
      "MAPE: 0.525577\n",
      "TRAINING FINISHED\n",
      "Epoch 200/200, Loss: 42.158746\n",
      "MAPE: 0.431681\n",
      "TRAINING FINISHED\n",
      "Epoch 200/200, Loss: 57.349810\n",
      "MAPE: 0.514594\n",
      "TRAINING FINISHED\n",
      "Epoch 300/300, Loss: 13.919602\n",
      "MAPE: 0.222992\n",
      "TRAINING FINISHED\n",
      "Epoch 300/300, Loss: 21.071886\n",
      "MAPE: 0.277742\n",
      "TRAINING FINISHED\n",
      "Epoch 300/300, Loss: 12.594759\n",
      "MAPE: 0.202323\n",
      "TRAINING FINISHED\n",
      "Epoch 300/300, Loss: 19.153414\n",
      "MAPE: 0.268649\n",
      "TRAINING FINISHED\n",
      "Epoch 300/300, Loss: 18.198392\n",
      "MAPE: 0.251069\n",
      "TRAINING FINISHED\n",
      "Epoch 400/400, Loss: 13.743204\n",
      "MAPE: 0.199213\n",
      "TRAINING FINISHED\n",
      "Epoch 400/400, Loss: 6.689568\n",
      "MAPE: 0.122257\n",
      "TRAINING FINISHED\n",
      "Epoch 400/400, Loss: 7.031203\n",
      "MAPE: 0.127459\n",
      "TRAINING FINISHED\n",
      "Epoch 400/400, Loss: 5.656675\n",
      "MAPE: 0.115022\n",
      "TRAINING FINISHED\n",
      "Epoch 400/400, Loss: 6.463641\n",
      "MAPE: 0.124172\n",
      "TRAINING FINISHED\n",
      "Epoch 500/500, Loss: 3.532934\n",
      "MAPE: 0.101684\n",
      "TRAINING FINISHED\n",
      "Epoch 500/500, Loss: 3.632569\n",
      "MAPE: 0.102788\n",
      "TRAINING FINISHED\n",
      "Epoch 500/500, Loss: 6.187227\n",
      "MAPE: 0.116384\n",
      "TRAINING FINISHED\n",
      "Epoch 500/500, Loss: 4.320271\n",
      "MAPE: 0.107244\n",
      "TRAINING FINISHED\n",
      "Epoch 500/500, Loss: 3.618146\n",
      "MAPE: 0.099975\n",
      "TRAINING FINISHED\n",
      "Epoch 600/600, Loss: 3.086862\n",
      "MAPE: 0.106806\n",
      "TRAINING FINISHED\n",
      "Epoch 600/600, Loss: 3.552196\n",
      "MAPE: 0.111296\n",
      "TRAINING FINISHED\n",
      "Epoch 600/600, Loss: 4.246065\n",
      "MAPE: 0.115143\n",
      "TRAINING FINISHED\n",
      "Epoch 600/600, Loss: 3.483050\n",
      "MAPE: 0.102607\n",
      "TRAINING FINISHED\n",
      "Epoch 600/600, Loss: 2.727713\n",
      "MAPE: 0.099774\n",
      "TRAINING FINISHED\n",
      "Epoch 700/700, Loss: 3.057907\n",
      "MAPE: 0.111602\n",
      "TRAINING FINISHED\n",
      "Epoch 700/700, Loss: 2.399332\n",
      "MAPE: 0.099958\n",
      "TRAINING FINISHED\n",
      "Epoch 700/700, Loss: 3.318460\n",
      "MAPE: 0.116572\n",
      "TRAINING FINISHED\n",
      "Epoch 700/700, Loss: 2.519902\n",
      "MAPE: 0.101038\n",
      "TRAINING FINISHED\n",
      "Epoch 700/700, Loss: 2.767997\n",
      "MAPE: 0.105388\n",
      "TRAINING FINISHED\n",
      "Epoch 800/800, Loss: 3.146939\n",
      "MAPE: 0.114719\n",
      "TRAINING FINISHED\n",
      "Epoch 800/800, Loss: 2.573335\n",
      "MAPE: 0.108213\n",
      "TRAINING FINISHED\n",
      "Epoch 800/800, Loss: 2.275932\n",
      "MAPE: 0.100653\n",
      "TRAINING FINISHED\n",
      "Epoch 800/800, Loss: 2.821256\n",
      "MAPE: 0.112648\n",
      "TRAINING FINISHED\n",
      "Epoch 800/800, Loss: 2.099438\n",
      "MAPE: 0.095179\n",
      "TRAINING FINISHED\n",
      "Epoch 900/900, Loss: 2.199633\n",
      "MAPE: 0.095855\n",
      "TRAINING FINISHED\n",
      "Epoch 900/900, Loss: 2.075037\n",
      "MAPE: 0.095537\n",
      "TRAINING FINISHED\n",
      "Epoch 900/900, Loss: 2.530255\n",
      "MAPE: 0.107070\n",
      "TRAINING FINISHED\n",
      "Epoch 900/900, Loss: 2.011712\n",
      "MAPE: 0.092543\n",
      "TRAINING FINISHED\n",
      "Epoch 900/900, Loss: 2.279044\n",
      "MAPE: 0.101589\n",
      "TRAINING FINISHED\n",
      "Epoch 1000/1000, Loss: 2.232413\n",
      "MAPE: 0.095083\n",
      "TRAINING FINISHED\n",
      "Epoch 1000/1000, Loss: 2.233878\n",
      "MAPE: 0.096232\n",
      "TRAINING FINISHED\n",
      "Epoch 1000/1000, Loss: 1.821619\n",
      "MAPE: 0.090981\n",
      "TRAINING FINISHED\n",
      "Epoch 1000/1000, Loss: 2.021933\n",
      "MAPE: 0.092537\n",
      "TRAINING FINISHED\n",
      "Epoch 1000/1000, Loss: 2.396571\n",
      "MAPE: 0.101982\n",
      "TRAINING FINISHED\n",
      "Epoch 1100/1100, Loss: 2.338640\n",
      "MAPE: 0.104716\n",
      "TRAINING FINISHED\n",
      "Epoch 1100/1100, Loss: 1.824308\n",
      "MAPE: 0.092078\n",
      "TRAINING FINISHED\n",
      "Epoch 1100/1100, Loss: 1.862892\n",
      "MAPE: 0.090244\n",
      "TRAINING FINISHED\n",
      "Epoch 1100/1100, Loss: 1.938346\n",
      "MAPE: 0.090193\n",
      "TRAINING FINISHED\n",
      "Epoch 1100/1100, Loss: 2.514211\n",
      "MAPE: 0.104230\n",
      "TRAINING FINISHED\n",
      "Epoch 1200/1200, Loss: 3.063801\n",
      "MAPE: 0.111478\n",
      "TRAINING FINISHED\n",
      "Epoch 1200/1200, Loss: 2.135388\n",
      "MAPE: 0.098312\n",
      "TRAINING FINISHED\n",
      "Epoch 1200/1200, Loss: 1.965412\n",
      "MAPE: 0.097101\n",
      "TRAINING FINISHED\n",
      "Epoch 1200/1200, Loss: 2.145337\n",
      "MAPE: 0.092312\n",
      "TRAINING FINISHED\n",
      "Epoch 1200/1200, Loss: 2.029903\n",
      "MAPE: 0.090017\n",
      "TRAINING FINISHED\n",
      "Epoch 1300/1300, Loss: 1.535514\n",
      "MAPE: 0.078149\n",
      "TRAINING FINISHED\n",
      "Epoch 1300/1300, Loss: 1.615839\n",
      "MAPE: 0.085381\n",
      "TRAINING FINISHED\n",
      "Epoch 1300/1300, Loss: 1.616266\n",
      "MAPE: 0.082287\n",
      "TRAINING FINISHED\n",
      "Epoch 1300/1300, Loss: 2.363031\n",
      "MAPE: 0.098005\n",
      "TRAINING FINISHED\n",
      "Epoch 1300/1300, Loss: 1.882709\n",
      "MAPE: 0.089388\n",
      "TRAINING FINISHED\n",
      "Epoch 1400/1400, Loss: 1.792300\n",
      "MAPE: 0.084894\n",
      "TRAINING FINISHED\n",
      "Epoch 1400/1400, Loss: 1.636221\n",
      "MAPE: 0.085209\n",
      "TRAINING FINISHED\n",
      "Epoch 1400/1400, Loss: 1.810803\n",
      "MAPE: 0.084669\n",
      "TRAINING FINISHED\n",
      "Epoch 1400/1400, Loss: 1.832762\n",
      "MAPE: 0.090060\n",
      "TRAINING FINISHED\n",
      "Epoch 1400/1400, Loss: 1.596305\n",
      "MAPE: 0.081832\n",
      "TRAINING FINISHED\n",
      "Epoch 1500/1500, Loss: 0.967935\n",
      "MAPE: 0.061880\n",
      "TRAINING FINISHED\n",
      "Epoch 1500/1500, Loss: 1.741528\n",
      "MAPE: 0.085545\n",
      "TRAINING FINISHED\n",
      "Epoch 1500/1500, Loss: 1.457391\n",
      "MAPE: 0.080841\n",
      "TRAINING FINISHED\n",
      "Epoch 1500/1500, Loss: 1.441852\n",
      "MAPE: 0.079312\n",
      "TRAINING FINISHED\n",
      "Epoch 1500/1500, Loss: 1.746627\n",
      "MAPE: 0.087396\n",
      "TRAINING FINISHED\n",
      "Epoch 1600/1600, Loss: 1.706408\n",
      "MAPE: 0.088984\n",
      "TRAINING FINISHED\n",
      "Epoch 1600/1600, Loss: 1.460875\n",
      "MAPE: 0.077375\n",
      "TRAINING FINISHED\n",
      "Epoch 1600/1600, Loss: 2.484775\n",
      "MAPE: 0.103630\n",
      "TRAINING FINISHED\n",
      "Epoch 1600/1600, Loss: 1.653129\n",
      "MAPE: 0.085926\n",
      "TRAINING FINISHED\n",
      "Epoch 1600/1600, Loss: 1.546302\n",
      "MAPE: 0.083244\n",
      "TRAINING FINISHED\n",
      "Epoch 1700/1700, Loss: 1.577363\n",
      "MAPE: 0.088411\n",
      "TRAINING FINISHED\n",
      "Epoch 1700/1700, Loss: 1.355641\n",
      "MAPE: 0.074639\n",
      "TRAINING FINISHED\n",
      "Epoch 1700/1700, Loss: 1.691900\n",
      "MAPE: 0.090282\n",
      "TRAINING FINISHED\n",
      "Epoch 1700/1700, Loss: 1.337067\n",
      "MAPE: 0.075913\n",
      "TRAINING FINISHED\n",
      "Epoch 1700/1700, Loss: 1.260443\n",
      "MAPE: 0.079386\n",
      "TRAINING FINISHED\n",
      "Epoch 1800/1800, Loss: 0.861361\n",
      "MAPE: 0.063290\n",
      "TRAINING FINISHED\n",
      "Epoch 1800/1800, Loss: 1.220712\n",
      "MAPE: 0.074553\n",
      "TRAINING FINISHED\n",
      "Epoch 1800/1800, Loss: 1.054601\n",
      "MAPE: 0.071331\n",
      "TRAINING FINISHED\n",
      "Epoch 1800/1800, Loss: 1.125028\n",
      "MAPE: 0.069955\n",
      "TRAINING FINISHED\n",
      "Epoch 1800/1800, Loss: 0.948591\n",
      "MAPE: 0.066508\n",
      "TRAINING FINISHED\n",
      "Epoch 1900/1900, Loss: 1.065947\n",
      "MAPE: 0.070825\n",
      "TRAINING FINISHED\n",
      "Epoch 1900/1900, Loss: 0.865255\n",
      "MAPE: 0.061692\n",
      "TRAINING FINISHED\n",
      "Epoch 1900/1900, Loss: 1.363359\n",
      "MAPE: 0.080198\n",
      "TRAINING FINISHED\n",
      "Epoch 1900/1900, Loss: 0.877462\n",
      "MAPE: 0.063902\n",
      "TRAINING FINISHED\n",
      "Epoch 1900/1900, Loss: 1.171536\n",
      "MAPE: 0.074171\n",
      "TRAINING FINISHED\n",
      "Epoch 2000/2000, Loss: 1.501257\n",
      "MAPE: 0.084717\n",
      "TRAINING FINISHED\n",
      "Epoch 2000/2000, Loss: 1.506463\n",
      "MAPE: 0.087539\n",
      "TRAINING FINISHED\n",
      "Epoch 2000/2000, Loss: 1.024406\n",
      "MAPE: 0.069082\n",
      "TRAINING FINISHED\n",
      "Epoch 2000/2000, Loss: 1.081278\n",
      "MAPE: 0.068082\n",
      "TRAINING FINISHED\n",
      "Epoch 2000/2000, Loss: 0.883322\n",
      "MAPE: 0.066467\n"
     ]
    }
   ],
   "source": [
    "experiments_amount = 5\n",
    "# epochs = np.linspace(1000, 35000, endpoint=True, num=10).astype(np.int32).tolist()\n",
    "epochs = list(range(100, 2100, 100))\n",
    "\n",
    "# np.random.seed(12345)\n",
    "\n",
    "all_mapes = []\n",
    "mapes_mean = []\n",
    "\n",
    "all_epochs: list[int] = []\n",
    "\n",
    "seq_length = 20\n",
    "window_size = 5\n",
    "batch_size = 2\n",
    "hidden_size = 10\n",
    "output_size = 3\n",
    "\n",
    "verbosity = 100000\n",
    "lr = 1e-4\n",
    "\n",
    "sequence = list(arithmetic_progression(seq_length, a0=1, d=1))\n",
    "X, y = create_sliding_window_batches(sequence, window_size, batch_size, output_size)\n",
    "\n",
    "for max_epochs in epochs:    \n",
    "\n",
    "    # Training network for five times\n",
    "    mapes_sum = 0    \n",
    "    for _ in range(experiments_amount):              \n",
    "        \n",
    "        network = GRUModel(input_size=window_size, hidden_size=hidden_size,\n",
    "                           output_size=output_size)\n",
    "        _, _mape = network.train(x=X, y=y, lr=lr, max_epochs=max_epochs, verbosity=verbosity)\n",
    "        all_epochs.append(max_epochs)\n",
    "        mapes_sum += _mape        \n",
    "        all_mapes.append(_mape)    \n",
    "\n",
    "    # Average mape for epochs amount\n",
    "    mapes_mean.append(mapes_sum / experiments_amount)"
   ]
  },
  {
   "cell_type": "code",
   "execution_count": 9,
   "metadata": {},
   "outputs": [
    {
     "data": {
      "application/vnd.plotly.v1+json": {
       "config": {
        "plotlyServerURL": "https://plot.ly"
       },
       "data": [
        {
         "mode": "markers",
         "name": "Все наблюдения",
         "type": "scatter",
         "x": [
          100,
          100,
          100,
          100,
          100,
          200,
          200,
          200,
          200,
          200,
          300,
          300,
          300,
          300,
          300,
          400,
          400,
          400,
          400,
          400,
          500,
          500,
          500,
          500,
          500,
          600,
          600,
          600,
          600,
          600,
          700,
          700,
          700,
          700,
          700,
          800,
          800,
          800,
          800,
          800,
          900,
          900,
          900,
          900,
          900,
          1000,
          1000,
          1000,
          1000,
          1000,
          1100,
          1100,
          1100,
          1100,
          1100,
          1200,
          1200,
          1200,
          1200,
          1200,
          1300,
          1300,
          1300,
          1300,
          1300,
          1400,
          1400,
          1400,
          1400,
          1400,
          1500,
          1500,
          1500,
          1500,
          1500,
          1600,
          1600,
          1600,
          1600,
          1600,
          1700,
          1700,
          1700,
          1700,
          1700,
          1800,
          1800,
          1800,
          1800,
          1800,
          1900,
          1900,
          1900,
          1900,
          1900,
          2000,
          2000,
          2000,
          2000,
          2000
         ],
         "y": [
          0.7404240367156038,
          0.7168275760737179,
          0.6949856287869656,
          0.6659248969760185,
          0.7743386988427845,
          0.3854927574235574,
          0.4847639164782094,
          0.5255771422867839,
          0.4316809147266368,
          0.5145941201687404,
          0.22299169891860812,
          0.2777418339287486,
          0.20232270250281323,
          0.2686492116683537,
          0.25106918537496004,
          0.19921316036019895,
          0.122257223072648,
          0.12745883089635762,
          0.1150223628195118,
          0.1241715434134774,
          0.10168371117480561,
          0.10278776853816247,
          0.11638376917762844,
          0.10724448404798621,
          0.09997517740838405,
          0.10680597552113506,
          0.11129566475094166,
          0.11514250878121166,
          0.1026067781395297,
          0.09977351534814949,
          0.11160215582393386,
          0.09995843529177603,
          0.11657184217485263,
          0.10103839158993559,
          0.10538808084443188,
          0.11471853848391976,
          0.10821270231851604,
          0.1006527789588733,
          0.11264763453757987,
          0.09517871410396568,
          0.09585451861843938,
          0.09553728747150886,
          0.10706976339677222,
          0.09254293002666247,
          0.10158922010631384,
          0.09508279857360882,
          0.09623179642938481,
          0.0909809400184556,
          0.09253676456252763,
          0.10198182979395944,
          0.10471630924783777,
          0.09207755082049045,
          0.09024437069895513,
          0.09019306307249723,
          0.10422983022874013,
          0.11147820756325214,
          0.09831151327918741,
          0.09710059490823426,
          0.09231237280104816,
          0.09001733960724542,
          0.07814896067564582,
          0.0853814583204463,
          0.08228723260785074,
          0.09800486602253067,
          0.08938764098221108,
          0.08489432094727521,
          0.08520949314032657,
          0.0846688177425983,
          0.0900595734908004,
          0.0818316243315769,
          0.061879760726856824,
          0.08554485139180985,
          0.08084137250714485,
          0.07931212873851816,
          0.08739625133803319,
          0.08898389307136546,
          0.07737543265231674,
          0.10363034495825263,
          0.08592551056606462,
          0.08324394960270629,
          0.08841059954027522,
          0.07463856695834067,
          0.0902822287454516,
          0.07591308904536404,
          0.07938620052416598,
          0.06329040160849278,
          0.07455296011055056,
          0.07133058644646875,
          0.0699553315848932,
          0.06650847575367089,
          0.07082490320533621,
          0.061692269255605725,
          0.08019762275563805,
          0.06390169884734222,
          0.07417090758620383,
          0.08471666486345462,
          0.08753923530438577,
          0.06908169977872576,
          0.06808153975968544,
          0.06646676146880932
         ]
        },
        {
         "mode": "lines+markers",
         "name": "Средние значения",
         "type": "scatter",
         "x": [
          100,
          200,
          300,
          400,
          500,
          600,
          700,
          800,
          900,
          1000,
          1100,
          1200,
          1300,
          1400,
          1500,
          1600,
          1700,
          1800,
          1900,
          2000
         ],
         "y": [
          0.7185001674790181,
          0.46842177021678555,
          0.24455492647869675,
          0.13762462411243875,
          0.10561498206939335,
          0.1071248885081935,
          0.106911781144986,
          0.10628207368057094,
          0.09851874392393936,
          0.09536282587558725,
          0.09629222481370414,
          0.09784400563179348,
          0.08664203172173693,
          0.08533276593051546,
          0.07899487294047257,
          0.08783182617014114,
          0.0817261369627195,
          0.06912755110081523,
          0.0701574803300252,
          0.07517718023501219
         ]
        }
       ],
       "layout": {
        "font": {
         "size": 20
        },
        "height": 720,
        "template": {
         "data": {
          "bar": [
           {
            "error_x": {
             "color": "#2a3f5f"
            },
            "error_y": {
             "color": "#2a3f5f"
            },
            "marker": {
             "line": {
              "color": "#E5ECF6",
              "width": 0.5
             },
             "pattern": {
              "fillmode": "overlay",
              "size": 10,
              "solidity": 0.2
             }
            },
            "type": "bar"
           }
          ],
          "barpolar": [
           {
            "marker": {
             "line": {
              "color": "#E5ECF6",
              "width": 0.5
             },
             "pattern": {
              "fillmode": "overlay",
              "size": 10,
              "solidity": 0.2
             }
            },
            "type": "barpolar"
           }
          ],
          "carpet": [
           {
            "aaxis": {
             "endlinecolor": "#2a3f5f",
             "gridcolor": "white",
             "linecolor": "white",
             "minorgridcolor": "white",
             "startlinecolor": "#2a3f5f"
            },
            "baxis": {
             "endlinecolor": "#2a3f5f",
             "gridcolor": "white",
             "linecolor": "white",
             "minorgridcolor": "white",
             "startlinecolor": "#2a3f5f"
            },
            "type": "carpet"
           }
          ],
          "choropleth": [
           {
            "colorbar": {
             "outlinewidth": 0,
             "ticks": ""
            },
            "type": "choropleth"
           }
          ],
          "contour": [
           {
            "colorbar": {
             "outlinewidth": 0,
             "ticks": ""
            },
            "colorscale": [
             [
              0,
              "#0d0887"
             ],
             [
              0.1111111111111111,
              "#46039f"
             ],
             [
              0.2222222222222222,
              "#7201a8"
             ],
             [
              0.3333333333333333,
              "#9c179e"
             ],
             [
              0.4444444444444444,
              "#bd3786"
             ],
             [
              0.5555555555555556,
              "#d8576b"
             ],
             [
              0.6666666666666666,
              "#ed7953"
             ],
             [
              0.7777777777777778,
              "#fb9f3a"
             ],
             [
              0.8888888888888888,
              "#fdca26"
             ],
             [
              1,
              "#f0f921"
             ]
            ],
            "type": "contour"
           }
          ],
          "contourcarpet": [
           {
            "colorbar": {
             "outlinewidth": 0,
             "ticks": ""
            },
            "type": "contourcarpet"
           }
          ],
          "heatmap": [
           {
            "colorbar": {
             "outlinewidth": 0,
             "ticks": ""
            },
            "colorscale": [
             [
              0,
              "#0d0887"
             ],
             [
              0.1111111111111111,
              "#46039f"
             ],
             [
              0.2222222222222222,
              "#7201a8"
             ],
             [
              0.3333333333333333,
              "#9c179e"
             ],
             [
              0.4444444444444444,
              "#bd3786"
             ],
             [
              0.5555555555555556,
              "#d8576b"
             ],
             [
              0.6666666666666666,
              "#ed7953"
             ],
             [
              0.7777777777777778,
              "#fb9f3a"
             ],
             [
              0.8888888888888888,
              "#fdca26"
             ],
             [
              1,
              "#f0f921"
             ]
            ],
            "type": "heatmap"
           }
          ],
          "heatmapgl": [
           {
            "colorbar": {
             "outlinewidth": 0,
             "ticks": ""
            },
            "colorscale": [
             [
              0,
              "#0d0887"
             ],
             [
              0.1111111111111111,
              "#46039f"
             ],
             [
              0.2222222222222222,
              "#7201a8"
             ],
             [
              0.3333333333333333,
              "#9c179e"
             ],
             [
              0.4444444444444444,
              "#bd3786"
             ],
             [
              0.5555555555555556,
              "#d8576b"
             ],
             [
              0.6666666666666666,
              "#ed7953"
             ],
             [
              0.7777777777777778,
              "#fb9f3a"
             ],
             [
              0.8888888888888888,
              "#fdca26"
             ],
             [
              1,
              "#f0f921"
             ]
            ],
            "type": "heatmapgl"
           }
          ],
          "histogram": [
           {
            "marker": {
             "pattern": {
              "fillmode": "overlay",
              "size": 10,
              "solidity": 0.2
             }
            },
            "type": "histogram"
           }
          ],
          "histogram2d": [
           {
            "colorbar": {
             "outlinewidth": 0,
             "ticks": ""
            },
            "colorscale": [
             [
              0,
              "#0d0887"
             ],
             [
              0.1111111111111111,
              "#46039f"
             ],
             [
              0.2222222222222222,
              "#7201a8"
             ],
             [
              0.3333333333333333,
              "#9c179e"
             ],
             [
              0.4444444444444444,
              "#bd3786"
             ],
             [
              0.5555555555555556,
              "#d8576b"
             ],
             [
              0.6666666666666666,
              "#ed7953"
             ],
             [
              0.7777777777777778,
              "#fb9f3a"
             ],
             [
              0.8888888888888888,
              "#fdca26"
             ],
             [
              1,
              "#f0f921"
             ]
            ],
            "type": "histogram2d"
           }
          ],
          "histogram2dcontour": [
           {
            "colorbar": {
             "outlinewidth": 0,
             "ticks": ""
            },
            "colorscale": [
             [
              0,
              "#0d0887"
             ],
             [
              0.1111111111111111,
              "#46039f"
             ],
             [
              0.2222222222222222,
              "#7201a8"
             ],
             [
              0.3333333333333333,
              "#9c179e"
             ],
             [
              0.4444444444444444,
              "#bd3786"
             ],
             [
              0.5555555555555556,
              "#d8576b"
             ],
             [
              0.6666666666666666,
              "#ed7953"
             ],
             [
              0.7777777777777778,
              "#fb9f3a"
             ],
             [
              0.8888888888888888,
              "#fdca26"
             ],
             [
              1,
              "#f0f921"
             ]
            ],
            "type": "histogram2dcontour"
           }
          ],
          "mesh3d": [
           {
            "colorbar": {
             "outlinewidth": 0,
             "ticks": ""
            },
            "type": "mesh3d"
           }
          ],
          "parcoords": [
           {
            "line": {
             "colorbar": {
              "outlinewidth": 0,
              "ticks": ""
             }
            },
            "type": "parcoords"
           }
          ],
          "pie": [
           {
            "automargin": true,
            "type": "pie"
           }
          ],
          "scatter": [
           {
            "fillpattern": {
             "fillmode": "overlay",
             "size": 10,
             "solidity": 0.2
            },
            "type": "scatter"
           }
          ],
          "scatter3d": [
           {
            "line": {
             "colorbar": {
              "outlinewidth": 0,
              "ticks": ""
             }
            },
            "marker": {
             "colorbar": {
              "outlinewidth": 0,
              "ticks": ""
             }
            },
            "type": "scatter3d"
           }
          ],
          "scattercarpet": [
           {
            "marker": {
             "colorbar": {
              "outlinewidth": 0,
              "ticks": ""
             }
            },
            "type": "scattercarpet"
           }
          ],
          "scattergeo": [
           {
            "marker": {
             "colorbar": {
              "outlinewidth": 0,
              "ticks": ""
             }
            },
            "type": "scattergeo"
           }
          ],
          "scattergl": [
           {
            "marker": {
             "colorbar": {
              "outlinewidth": 0,
              "ticks": ""
             }
            },
            "type": "scattergl"
           }
          ],
          "scattermapbox": [
           {
            "marker": {
             "colorbar": {
              "outlinewidth": 0,
              "ticks": ""
             }
            },
            "type": "scattermapbox"
           }
          ],
          "scatterpolar": [
           {
            "marker": {
             "colorbar": {
              "outlinewidth": 0,
              "ticks": ""
             }
            },
            "type": "scatterpolar"
           }
          ],
          "scatterpolargl": [
           {
            "marker": {
             "colorbar": {
              "outlinewidth": 0,
              "ticks": ""
             }
            },
            "type": "scatterpolargl"
           }
          ],
          "scatterternary": [
           {
            "marker": {
             "colorbar": {
              "outlinewidth": 0,
              "ticks": ""
             }
            },
            "type": "scatterternary"
           }
          ],
          "surface": [
           {
            "colorbar": {
             "outlinewidth": 0,
             "ticks": ""
            },
            "colorscale": [
             [
              0,
              "#0d0887"
             ],
             [
              0.1111111111111111,
              "#46039f"
             ],
             [
              0.2222222222222222,
              "#7201a8"
             ],
             [
              0.3333333333333333,
              "#9c179e"
             ],
             [
              0.4444444444444444,
              "#bd3786"
             ],
             [
              0.5555555555555556,
              "#d8576b"
             ],
             [
              0.6666666666666666,
              "#ed7953"
             ],
             [
              0.7777777777777778,
              "#fb9f3a"
             ],
             [
              0.8888888888888888,
              "#fdca26"
             ],
             [
              1,
              "#f0f921"
             ]
            ],
            "type": "surface"
           }
          ],
          "table": [
           {
            "cells": {
             "fill": {
              "color": "#EBF0F8"
             },
             "line": {
              "color": "white"
             }
            },
            "header": {
             "fill": {
              "color": "#C8D4E3"
             },
             "line": {
              "color": "white"
             }
            },
            "type": "table"
           }
          ]
         },
         "layout": {
          "annotationdefaults": {
           "arrowcolor": "#2a3f5f",
           "arrowhead": 0,
           "arrowwidth": 1
          },
          "autotypenumbers": "strict",
          "coloraxis": {
           "colorbar": {
            "outlinewidth": 0,
            "ticks": ""
           }
          },
          "colorscale": {
           "diverging": [
            [
             0,
             "#8e0152"
            ],
            [
             0.1,
             "#c51b7d"
            ],
            [
             0.2,
             "#de77ae"
            ],
            [
             0.3,
             "#f1b6da"
            ],
            [
             0.4,
             "#fde0ef"
            ],
            [
             0.5,
             "#f7f7f7"
            ],
            [
             0.6,
             "#e6f5d0"
            ],
            [
             0.7,
             "#b8e186"
            ],
            [
             0.8,
             "#7fbc41"
            ],
            [
             0.9,
             "#4d9221"
            ],
            [
             1,
             "#276419"
            ]
           ],
           "sequential": [
            [
             0,
             "#0d0887"
            ],
            [
             0.1111111111111111,
             "#46039f"
            ],
            [
             0.2222222222222222,
             "#7201a8"
            ],
            [
             0.3333333333333333,
             "#9c179e"
            ],
            [
             0.4444444444444444,
             "#bd3786"
            ],
            [
             0.5555555555555556,
             "#d8576b"
            ],
            [
             0.6666666666666666,
             "#ed7953"
            ],
            [
             0.7777777777777778,
             "#fb9f3a"
            ],
            [
             0.8888888888888888,
             "#fdca26"
            ],
            [
             1,
             "#f0f921"
            ]
           ],
           "sequentialminus": [
            [
             0,
             "#0d0887"
            ],
            [
             0.1111111111111111,
             "#46039f"
            ],
            [
             0.2222222222222222,
             "#7201a8"
            ],
            [
             0.3333333333333333,
             "#9c179e"
            ],
            [
             0.4444444444444444,
             "#bd3786"
            ],
            [
             0.5555555555555556,
             "#d8576b"
            ],
            [
             0.6666666666666666,
             "#ed7953"
            ],
            [
             0.7777777777777778,
             "#fb9f3a"
            ],
            [
             0.8888888888888888,
             "#fdca26"
            ],
            [
             1,
             "#f0f921"
            ]
           ]
          },
          "colorway": [
           "#636efa",
           "#EF553B",
           "#00cc96",
           "#ab63fa",
           "#FFA15A",
           "#19d3f3",
           "#FF6692",
           "#B6E880",
           "#FF97FF",
           "#FECB52"
          ],
          "font": {
           "color": "#2a3f5f"
          },
          "geo": {
           "bgcolor": "white",
           "lakecolor": "white",
           "landcolor": "#E5ECF6",
           "showlakes": true,
           "showland": true,
           "subunitcolor": "white"
          },
          "hoverlabel": {
           "align": "left"
          },
          "hovermode": "closest",
          "mapbox": {
           "style": "light"
          },
          "paper_bgcolor": "white",
          "plot_bgcolor": "#E5ECF6",
          "polar": {
           "angularaxis": {
            "gridcolor": "white",
            "linecolor": "white",
            "ticks": ""
           },
           "bgcolor": "#E5ECF6",
           "radialaxis": {
            "gridcolor": "white",
            "linecolor": "white",
            "ticks": ""
           }
          },
          "scene": {
           "xaxis": {
            "backgroundcolor": "#E5ECF6",
            "gridcolor": "white",
            "gridwidth": 2,
            "linecolor": "white",
            "showbackground": true,
            "ticks": "",
            "zerolinecolor": "white"
           },
           "yaxis": {
            "backgroundcolor": "#E5ECF6",
            "gridcolor": "white",
            "gridwidth": 2,
            "linecolor": "white",
            "showbackground": true,
            "ticks": "",
            "zerolinecolor": "white"
           },
           "zaxis": {
            "backgroundcolor": "#E5ECF6",
            "gridcolor": "white",
            "gridwidth": 2,
            "linecolor": "white",
            "showbackground": true,
            "ticks": "",
            "zerolinecolor": "white"
           }
          },
          "shapedefaults": {
           "line": {
            "color": "#2a3f5f"
           }
          },
          "ternary": {
           "aaxis": {
            "gridcolor": "white",
            "linecolor": "white",
            "ticks": ""
           },
           "baxis": {
            "gridcolor": "white",
            "linecolor": "white",
            "ticks": ""
           },
           "bgcolor": "#E5ECF6",
           "caxis": {
            "gridcolor": "white",
            "linecolor": "white",
            "ticks": ""
           }
          },
          "title": {
           "x": 0.05
          },
          "xaxis": {
           "automargin": true,
           "gridcolor": "white",
           "linecolor": "white",
           "ticks": "",
           "title": {
            "standoff": 15
           },
           "zerolinecolor": "white",
           "zerolinewidth": 2
          },
          "yaxis": {
           "automargin": true,
           "gridcolor": "white",
           "linecolor": "white",
           "ticks": "",
           "title": {
            "standoff": 15
           },
           "zerolinecolor": "white",
           "zerolinewidth": 2
          }
         }
        },
        "title": {
         "text": "Зависимость средней абсолютной ошибки от количества итераций обучения"
        },
        "width": 1280,
        "xaxis": {
         "title": {
          "text": "Количество итераций обучения"
         }
        },
        "yaxis": {
         "title": {
          "text": "Средняя абсолютная ошибка"
         }
        }
       }
      }
     },
     "metadata": {},
     "output_type": "display_data"
    }
   ],
   "source": [
    "# Plotting results for training epochs amount\n",
    "fig = go.Figure()\n",
    "fig.add_trace(\n",
    "    go.Scatter(x=all_epochs, y=all_mapes,\n",
    "               name='Все наблюдения', mode='markers')\n",
    ")\n",
    "fig.add_trace(\n",
    "    go.Scatter(x=epochs, y=mapes_mean,\n",
    "               name='Средние значения', mode='lines+markers')\n",
    ")\n",
    "fig.update_layout(\n",
    "    title='Зависимость средней абсолютной ошибки от количества итераций обучения',\n",
    "    font=dict(size=20),\n",
    "    xaxis=dict(title='Количество итераций обучения'),\n",
    "    yaxis=dict(title='Средняя абсолютная ошибка'),\n",
    "    width=1280,\n",
    "    height=720\n",
    ")\n",
    "fig.show()"
   ]
  },
  {
   "cell_type": "code",
   "execution_count": 10,
   "metadata": {},
   "outputs": [
    {
     "name": "stdout",
     "output_type": "stream",
     "text": [
      "TRAINING FINISHED\n",
      "Epoch 250/250, Loss: 190.641724\n",
      "MAPE: 0.982305\n",
      "TRAINING FINISHED\n",
      "Epoch 250/250, Loss: 94.860290\n",
      "MAPE: 0.671234\n",
      "TRAINING FINISHED\n",
      "Epoch 250/250, Loss: 116.757317\n",
      "MAPE: 0.751608\n",
      "TRAINING FINISHED\n",
      "Epoch 250/250, Loss: 68.173592\n",
      "MAPE: 0.542227\n",
      "TRAINING FINISHED\n",
      "Epoch 250/250, Loss: 167.770677\n",
      "MAPE: 0.921551\n",
      "TRAINING FINISHED\n",
      "Epoch 250/250, Loss: 65.963469\n",
      "MAPE: 0.537713\n",
      "TRAINING FINISHED\n",
      "Epoch 250/250, Loss: 102.345486\n",
      "MAPE: 0.688813\n",
      "TRAINING FINISHED\n",
      "Epoch 250/250, Loss: 112.906397\n",
      "MAPE: 0.742418\n",
      "TRAINING FINISHED\n",
      "Epoch 250/250, Loss: 62.663889\n",
      "MAPE: 0.537882\n",
      "TRAINING FINISHED\n",
      "Epoch 250/250, Loss: 124.408515\n",
      "MAPE: 0.769038\n",
      "TRAINING FINISHED\n",
      "Epoch 250/250, Loss: 65.132919\n",
      "MAPE: 0.546919\n",
      "TRAINING FINISHED\n",
      "Epoch 250/250, Loss: 86.164594\n",
      "MAPE: 0.641830\n",
      "TRAINING FINISHED\n",
      "Epoch 250/250, Loss: 51.116893\n",
      "MAPE: 0.474815\n",
      "TRAINING FINISHED\n",
      "Epoch 250/250, Loss: 46.139171\n",
      "MAPE: 0.443278\n",
      "TRAINING FINISHED\n",
      "Epoch 250/250, Loss: 71.078085\n",
      "MAPE: 0.570272\n",
      "TRAINING FINISHED\n",
      "Epoch 250/250, Loss: 31.697983\n",
      "MAPE: 0.352942\n",
      "TRAINING FINISHED\n",
      "Epoch 250/250, Loss: 35.400029\n",
      "MAPE: 0.379868\n",
      "TRAINING FINISHED\n",
      "Epoch 250/250, Loss: 65.203807\n",
      "MAPE: 0.541816\n",
      "TRAINING FINISHED\n",
      "Epoch 250/250, Loss: 19.947309\n",
      "MAPE: 0.265235\n",
      "TRAINING FINISHED\n",
      "Epoch 250/250, Loss: 26.947766\n",
      "MAPE: 0.328704\n",
      "TRAINING FINISHED\n",
      "Epoch 250/250, Loss: 30.259992\n",
      "MAPE: 0.358135\n",
      "TRAINING FINISHED\n",
      "Epoch 250/250, Loss: 18.831982\n",
      "MAPE: 0.256993\n",
      "TRAINING FINISHED\n",
      "Epoch 250/250, Loss: 27.086869\n",
      "MAPE: 0.328958\n",
      "TRAINING FINISHED\n",
      "Epoch 250/250, Loss: 23.691066\n",
      "MAPE: 0.303676\n",
      "TRAINING FINISHED\n",
      "Epoch 250/250, Loss: 32.171885\n",
      "MAPE: 0.374217\n",
      "TRAINING FINISHED\n",
      "Epoch 250/250, Loss: 16.740918\n",
      "MAPE: 0.240978\n",
      "TRAINING FINISHED\n",
      "Epoch 250/250, Loss: 40.299907\n",
      "MAPE: 0.426507\n",
      "TRAINING FINISHED\n",
      "Epoch 250/250, Loss: 28.556299\n",
      "MAPE: 0.350457\n",
      "TRAINING FINISHED\n",
      "Epoch 250/250, Loss: 19.000801\n",
      "MAPE: 0.261745\n",
      "TRAINING FINISHED\n",
      "Epoch 250/250, Loss: 24.211558\n",
      "MAPE: 0.315822\n",
      "TRAINING FINISHED\n",
      "Epoch 250/250, Loss: 29.564469\n",
      "MAPE: 0.349008\n",
      "TRAINING FINISHED\n",
      "Epoch 250/250, Loss: 18.777171\n",
      "MAPE: 0.270362\n",
      "TRAINING FINISHED\n",
      "Epoch 250/250, Loss: 20.714024\n",
      "MAPE: 0.279192\n",
      "TRAINING FINISHED\n",
      "Epoch 250/250, Loss: 19.304983\n",
      "MAPE: 0.274225\n",
      "TRAINING FINISHED\n",
      "Epoch 250/250, Loss: 17.652528\n",
      "MAPE: 0.259838\n",
      "TRAINING FINISHED\n",
      "Epoch 250/250, Loss: 18.343369\n",
      "MAPE: 0.267182\n",
      "TRAINING FINISHED\n",
      "Epoch 250/250, Loss: 24.444082\n",
      "MAPE: 0.315407\n",
      "TRAINING FINISHED\n",
      "Epoch 250/250, Loss: 27.040942\n",
      "MAPE: 0.335069\n",
      "TRAINING FINISHED\n",
      "Epoch 250/250, Loss: 13.402720\n",
      "MAPE: 0.222287\n",
      "TRAINING FINISHED\n",
      "Epoch 250/250, Loss: 31.723937\n",
      "MAPE: 0.371719\n",
      "TRAINING FINISHED\n",
      "Epoch 250/250, Loss: 8.683399\n",
      "MAPE: 0.171572\n",
      "TRAINING FINISHED\n",
      "Epoch 250/250, Loss: 17.502619\n",
      "MAPE: 0.271706\n",
      "TRAINING FINISHED\n",
      "Epoch 250/250, Loss: 18.173483\n",
      "MAPE: 0.256576\n",
      "TRAINING FINISHED\n",
      "Epoch 250/250, Loss: 8.576310\n",
      "MAPE: 0.165438\n",
      "TRAINING FINISHED\n",
      "Epoch 250/250, Loss: 11.039829\n",
      "MAPE: 0.190669\n",
      "TRAINING FINISHED\n",
      "Epoch 250/250, Loss: 12.225032\n",
      "MAPE: 0.204995\n",
      "TRAINING FINISHED\n",
      "Epoch 250/250, Loss: 10.090497\n",
      "MAPE: 0.194812\n",
      "TRAINING FINISHED\n",
      "Epoch 250/250, Loss: 6.275562\n",
      "MAPE: 0.145691\n",
      "TRAINING FINISHED\n",
      "Epoch 250/250, Loss: 12.159605\n",
      "MAPE: 0.220938\n",
      "TRAINING FINISHED\n",
      "Epoch 250/250, Loss: 11.175084\n",
      "MAPE: 0.200737\n"
     ]
    }
   ],
   "source": [
    "experiments_amount = 5\n",
    "# epochs = np.linspace(1000, 35000, endpoint=True, num=10).astype(np.int32).tolist()\n",
    "hidden_sizes = list(range(2, 22, 2))\n",
    "\n",
    "# np.random.seed(12345)\n",
    "\n",
    "all_mapes = []\n",
    "mapes_mean = []\n",
    "\n",
    "all_sizes: list[int] = []\n",
    "\n",
    "seq_length = 20\n",
    "window_size = 5\n",
    "batch_size = 2\n",
    "output_size = 3\n",
    "\n",
    "verbosity = 100000\n",
    "max_mape = 1e-3\n",
    "learn_until_meet_mape = True\n",
    "lr = 1e-4\n",
    "max_epochs = 250\n",
    "\n",
    "sequence = list(arithmetic_progression(seq_length, a0=1, d=1))\n",
    "X, y = create_sliding_window_batches(sequence, window_size, batch_size, output_size)\n",
    "y = y\n",
    "\n",
    "for size in hidden_sizes:    \n",
    "\n",
    "    # Training network for five times\n",
    "    mapes_sum = 0    \n",
    "    for _ in range(experiments_amount):              \n",
    "        \n",
    "        network = GRUModel(input_size=window_size, hidden_size=size,\n",
    "                           output_size=output_size)\n",
    "        _, _mape = network.train(x=X, y=y, lr=lr, max_epochs=max_epochs, verbosity=verbosity)\n",
    "        all_sizes.append(size)\n",
    "        mapes_sum += _mape        \n",
    "        all_mapes.append(_mape)    \n",
    "\n",
    "    # Average mape for epochs amount\n",
    "    mapes_mean.append(mapes_sum / experiments_amount)"
   ]
  },
  {
   "cell_type": "code",
   "execution_count": 11,
   "metadata": {},
   "outputs": [
    {
     "data": {
      "application/vnd.plotly.v1+json": {
       "config": {
        "plotlyServerURL": "https://plot.ly"
       },
       "data": [
        {
         "mode": "markers",
         "name": "Все наблюдения",
         "type": "scatter",
         "x": [
          2,
          2,
          2,
          2,
          2,
          4,
          4,
          4,
          4,
          4,
          6,
          6,
          6,
          6,
          6,
          8,
          8,
          8,
          8,
          8,
          10,
          10,
          10,
          10,
          10,
          12,
          12,
          12,
          12,
          12,
          14,
          14,
          14,
          14,
          14,
          16,
          16,
          16,
          16,
          16,
          18,
          18,
          18,
          18,
          18,
          20,
          20,
          20,
          20,
          20
         ],
         "y": [
          0.9823053838337612,
          0.6712340652069317,
          0.7516075178154243,
          0.5422270119289307,
          0.9215512665312233,
          0.5377126873797191,
          0.6888127266181066,
          0.7424178751801136,
          0.5378816897155358,
          0.7690375994935802,
          0.5469187070179774,
          0.6418295020313244,
          0.4748146589572453,
          0.4432775825654176,
          0.5702724016462164,
          0.35294249189699983,
          0.3798678162151974,
          0.541815894998968,
          0.2652354680467516,
          0.32870416810383085,
          0.3581348293355462,
          0.25699267224812655,
          0.32895800238056033,
          0.30367594535225867,
          0.37421692976721505,
          0.24097827534250563,
          0.42650737914529335,
          0.350456658852528,
          0.2617450355646789,
          0.31582180336607457,
          0.34900813790235996,
          0.2703622730680724,
          0.2791915299360468,
          0.2742248281256134,
          0.25983825082622924,
          0.2671816790076173,
          0.3154071329468957,
          0.33506914804448573,
          0.22228749296187086,
          0.3717186948988897,
          0.17157184754829236,
          0.2717062467250817,
          0.2565757878250749,
          0.16543771741902696,
          0.19066926784918403,
          0.20499510640572974,
          0.19481235624001722,
          0.14569053605513616,
          0.22093769695740437,
          0.20073728175195932
         ]
        },
        {
         "mode": "lines+markers",
         "name": "Средние значения",
         "type": "scatter",
         "x": [
          2,
          4,
          6,
          8,
          10,
          12,
          14,
          16,
          18,
          20
         ],
         "y": [
          0.7737850490632543,
          0.6551725156774111,
          0.5354225704436362,
          0.3737131678523496,
          0.32439567581674134,
          0.3191018304542161,
          0.28652500397166436,
          0.3023328295719519,
          0.21119217347333202,
          0.1934345954820494
         ]
        }
       ],
       "layout": {
        "font": {
         "size": 20
        },
        "height": 720,
        "template": {
         "data": {
          "bar": [
           {
            "error_x": {
             "color": "#2a3f5f"
            },
            "error_y": {
             "color": "#2a3f5f"
            },
            "marker": {
             "line": {
              "color": "#E5ECF6",
              "width": 0.5
             },
             "pattern": {
              "fillmode": "overlay",
              "size": 10,
              "solidity": 0.2
             }
            },
            "type": "bar"
           }
          ],
          "barpolar": [
           {
            "marker": {
             "line": {
              "color": "#E5ECF6",
              "width": 0.5
             },
             "pattern": {
              "fillmode": "overlay",
              "size": 10,
              "solidity": 0.2
             }
            },
            "type": "barpolar"
           }
          ],
          "carpet": [
           {
            "aaxis": {
             "endlinecolor": "#2a3f5f",
             "gridcolor": "white",
             "linecolor": "white",
             "minorgridcolor": "white",
             "startlinecolor": "#2a3f5f"
            },
            "baxis": {
             "endlinecolor": "#2a3f5f",
             "gridcolor": "white",
             "linecolor": "white",
             "minorgridcolor": "white",
             "startlinecolor": "#2a3f5f"
            },
            "type": "carpet"
           }
          ],
          "choropleth": [
           {
            "colorbar": {
             "outlinewidth": 0,
             "ticks": ""
            },
            "type": "choropleth"
           }
          ],
          "contour": [
           {
            "colorbar": {
             "outlinewidth": 0,
             "ticks": ""
            },
            "colorscale": [
             [
              0,
              "#0d0887"
             ],
             [
              0.1111111111111111,
              "#46039f"
             ],
             [
              0.2222222222222222,
              "#7201a8"
             ],
             [
              0.3333333333333333,
              "#9c179e"
             ],
             [
              0.4444444444444444,
              "#bd3786"
             ],
             [
              0.5555555555555556,
              "#d8576b"
             ],
             [
              0.6666666666666666,
              "#ed7953"
             ],
             [
              0.7777777777777778,
              "#fb9f3a"
             ],
             [
              0.8888888888888888,
              "#fdca26"
             ],
             [
              1,
              "#f0f921"
             ]
            ],
            "type": "contour"
           }
          ],
          "contourcarpet": [
           {
            "colorbar": {
             "outlinewidth": 0,
             "ticks": ""
            },
            "type": "contourcarpet"
           }
          ],
          "heatmap": [
           {
            "colorbar": {
             "outlinewidth": 0,
             "ticks": ""
            },
            "colorscale": [
             [
              0,
              "#0d0887"
             ],
             [
              0.1111111111111111,
              "#46039f"
             ],
             [
              0.2222222222222222,
              "#7201a8"
             ],
             [
              0.3333333333333333,
              "#9c179e"
             ],
             [
              0.4444444444444444,
              "#bd3786"
             ],
             [
              0.5555555555555556,
              "#d8576b"
             ],
             [
              0.6666666666666666,
              "#ed7953"
             ],
             [
              0.7777777777777778,
              "#fb9f3a"
             ],
             [
              0.8888888888888888,
              "#fdca26"
             ],
             [
              1,
              "#f0f921"
             ]
            ],
            "type": "heatmap"
           }
          ],
          "heatmapgl": [
           {
            "colorbar": {
             "outlinewidth": 0,
             "ticks": ""
            },
            "colorscale": [
             [
              0,
              "#0d0887"
             ],
             [
              0.1111111111111111,
              "#46039f"
             ],
             [
              0.2222222222222222,
              "#7201a8"
             ],
             [
              0.3333333333333333,
              "#9c179e"
             ],
             [
              0.4444444444444444,
              "#bd3786"
             ],
             [
              0.5555555555555556,
              "#d8576b"
             ],
             [
              0.6666666666666666,
              "#ed7953"
             ],
             [
              0.7777777777777778,
              "#fb9f3a"
             ],
             [
              0.8888888888888888,
              "#fdca26"
             ],
             [
              1,
              "#f0f921"
             ]
            ],
            "type": "heatmapgl"
           }
          ],
          "histogram": [
           {
            "marker": {
             "pattern": {
              "fillmode": "overlay",
              "size": 10,
              "solidity": 0.2
             }
            },
            "type": "histogram"
           }
          ],
          "histogram2d": [
           {
            "colorbar": {
             "outlinewidth": 0,
             "ticks": ""
            },
            "colorscale": [
             [
              0,
              "#0d0887"
             ],
             [
              0.1111111111111111,
              "#46039f"
             ],
             [
              0.2222222222222222,
              "#7201a8"
             ],
             [
              0.3333333333333333,
              "#9c179e"
             ],
             [
              0.4444444444444444,
              "#bd3786"
             ],
             [
              0.5555555555555556,
              "#d8576b"
             ],
             [
              0.6666666666666666,
              "#ed7953"
             ],
             [
              0.7777777777777778,
              "#fb9f3a"
             ],
             [
              0.8888888888888888,
              "#fdca26"
             ],
             [
              1,
              "#f0f921"
             ]
            ],
            "type": "histogram2d"
           }
          ],
          "histogram2dcontour": [
           {
            "colorbar": {
             "outlinewidth": 0,
             "ticks": ""
            },
            "colorscale": [
             [
              0,
              "#0d0887"
             ],
             [
              0.1111111111111111,
              "#46039f"
             ],
             [
              0.2222222222222222,
              "#7201a8"
             ],
             [
              0.3333333333333333,
              "#9c179e"
             ],
             [
              0.4444444444444444,
              "#bd3786"
             ],
             [
              0.5555555555555556,
              "#d8576b"
             ],
             [
              0.6666666666666666,
              "#ed7953"
             ],
             [
              0.7777777777777778,
              "#fb9f3a"
             ],
             [
              0.8888888888888888,
              "#fdca26"
             ],
             [
              1,
              "#f0f921"
             ]
            ],
            "type": "histogram2dcontour"
           }
          ],
          "mesh3d": [
           {
            "colorbar": {
             "outlinewidth": 0,
             "ticks": ""
            },
            "type": "mesh3d"
           }
          ],
          "parcoords": [
           {
            "line": {
             "colorbar": {
              "outlinewidth": 0,
              "ticks": ""
             }
            },
            "type": "parcoords"
           }
          ],
          "pie": [
           {
            "automargin": true,
            "type": "pie"
           }
          ],
          "scatter": [
           {
            "fillpattern": {
             "fillmode": "overlay",
             "size": 10,
             "solidity": 0.2
            },
            "type": "scatter"
           }
          ],
          "scatter3d": [
           {
            "line": {
             "colorbar": {
              "outlinewidth": 0,
              "ticks": ""
             }
            },
            "marker": {
             "colorbar": {
              "outlinewidth": 0,
              "ticks": ""
             }
            },
            "type": "scatter3d"
           }
          ],
          "scattercarpet": [
           {
            "marker": {
             "colorbar": {
              "outlinewidth": 0,
              "ticks": ""
             }
            },
            "type": "scattercarpet"
           }
          ],
          "scattergeo": [
           {
            "marker": {
             "colorbar": {
              "outlinewidth": 0,
              "ticks": ""
             }
            },
            "type": "scattergeo"
           }
          ],
          "scattergl": [
           {
            "marker": {
             "colorbar": {
              "outlinewidth": 0,
              "ticks": ""
             }
            },
            "type": "scattergl"
           }
          ],
          "scattermapbox": [
           {
            "marker": {
             "colorbar": {
              "outlinewidth": 0,
              "ticks": ""
             }
            },
            "type": "scattermapbox"
           }
          ],
          "scatterpolar": [
           {
            "marker": {
             "colorbar": {
              "outlinewidth": 0,
              "ticks": ""
             }
            },
            "type": "scatterpolar"
           }
          ],
          "scatterpolargl": [
           {
            "marker": {
             "colorbar": {
              "outlinewidth": 0,
              "ticks": ""
             }
            },
            "type": "scatterpolargl"
           }
          ],
          "scatterternary": [
           {
            "marker": {
             "colorbar": {
              "outlinewidth": 0,
              "ticks": ""
             }
            },
            "type": "scatterternary"
           }
          ],
          "surface": [
           {
            "colorbar": {
             "outlinewidth": 0,
             "ticks": ""
            },
            "colorscale": [
             [
              0,
              "#0d0887"
             ],
             [
              0.1111111111111111,
              "#46039f"
             ],
             [
              0.2222222222222222,
              "#7201a8"
             ],
             [
              0.3333333333333333,
              "#9c179e"
             ],
             [
              0.4444444444444444,
              "#bd3786"
             ],
             [
              0.5555555555555556,
              "#d8576b"
             ],
             [
              0.6666666666666666,
              "#ed7953"
             ],
             [
              0.7777777777777778,
              "#fb9f3a"
             ],
             [
              0.8888888888888888,
              "#fdca26"
             ],
             [
              1,
              "#f0f921"
             ]
            ],
            "type": "surface"
           }
          ],
          "table": [
           {
            "cells": {
             "fill": {
              "color": "#EBF0F8"
             },
             "line": {
              "color": "white"
             }
            },
            "header": {
             "fill": {
              "color": "#C8D4E3"
             },
             "line": {
              "color": "white"
             }
            },
            "type": "table"
           }
          ]
         },
         "layout": {
          "annotationdefaults": {
           "arrowcolor": "#2a3f5f",
           "arrowhead": 0,
           "arrowwidth": 1
          },
          "autotypenumbers": "strict",
          "coloraxis": {
           "colorbar": {
            "outlinewidth": 0,
            "ticks": ""
           }
          },
          "colorscale": {
           "diverging": [
            [
             0,
             "#8e0152"
            ],
            [
             0.1,
             "#c51b7d"
            ],
            [
             0.2,
             "#de77ae"
            ],
            [
             0.3,
             "#f1b6da"
            ],
            [
             0.4,
             "#fde0ef"
            ],
            [
             0.5,
             "#f7f7f7"
            ],
            [
             0.6,
             "#e6f5d0"
            ],
            [
             0.7,
             "#b8e186"
            ],
            [
             0.8,
             "#7fbc41"
            ],
            [
             0.9,
             "#4d9221"
            ],
            [
             1,
             "#276419"
            ]
           ],
           "sequential": [
            [
             0,
             "#0d0887"
            ],
            [
             0.1111111111111111,
             "#46039f"
            ],
            [
             0.2222222222222222,
             "#7201a8"
            ],
            [
             0.3333333333333333,
             "#9c179e"
            ],
            [
             0.4444444444444444,
             "#bd3786"
            ],
            [
             0.5555555555555556,
             "#d8576b"
            ],
            [
             0.6666666666666666,
             "#ed7953"
            ],
            [
             0.7777777777777778,
             "#fb9f3a"
            ],
            [
             0.8888888888888888,
             "#fdca26"
            ],
            [
             1,
             "#f0f921"
            ]
           ],
           "sequentialminus": [
            [
             0,
             "#0d0887"
            ],
            [
             0.1111111111111111,
             "#46039f"
            ],
            [
             0.2222222222222222,
             "#7201a8"
            ],
            [
             0.3333333333333333,
             "#9c179e"
            ],
            [
             0.4444444444444444,
             "#bd3786"
            ],
            [
             0.5555555555555556,
             "#d8576b"
            ],
            [
             0.6666666666666666,
             "#ed7953"
            ],
            [
             0.7777777777777778,
             "#fb9f3a"
            ],
            [
             0.8888888888888888,
             "#fdca26"
            ],
            [
             1,
             "#f0f921"
            ]
           ]
          },
          "colorway": [
           "#636efa",
           "#EF553B",
           "#00cc96",
           "#ab63fa",
           "#FFA15A",
           "#19d3f3",
           "#FF6692",
           "#B6E880",
           "#FF97FF",
           "#FECB52"
          ],
          "font": {
           "color": "#2a3f5f"
          },
          "geo": {
           "bgcolor": "white",
           "lakecolor": "white",
           "landcolor": "#E5ECF6",
           "showlakes": true,
           "showland": true,
           "subunitcolor": "white"
          },
          "hoverlabel": {
           "align": "left"
          },
          "hovermode": "closest",
          "mapbox": {
           "style": "light"
          },
          "paper_bgcolor": "white",
          "plot_bgcolor": "#E5ECF6",
          "polar": {
           "angularaxis": {
            "gridcolor": "white",
            "linecolor": "white",
            "ticks": ""
           },
           "bgcolor": "#E5ECF6",
           "radialaxis": {
            "gridcolor": "white",
            "linecolor": "white",
            "ticks": ""
           }
          },
          "scene": {
           "xaxis": {
            "backgroundcolor": "#E5ECF6",
            "gridcolor": "white",
            "gridwidth": 2,
            "linecolor": "white",
            "showbackground": true,
            "ticks": "",
            "zerolinecolor": "white"
           },
           "yaxis": {
            "backgroundcolor": "#E5ECF6",
            "gridcolor": "white",
            "gridwidth": 2,
            "linecolor": "white",
            "showbackground": true,
            "ticks": "",
            "zerolinecolor": "white"
           },
           "zaxis": {
            "backgroundcolor": "#E5ECF6",
            "gridcolor": "white",
            "gridwidth": 2,
            "linecolor": "white",
            "showbackground": true,
            "ticks": "",
            "zerolinecolor": "white"
           }
          },
          "shapedefaults": {
           "line": {
            "color": "#2a3f5f"
           }
          },
          "ternary": {
           "aaxis": {
            "gridcolor": "white",
            "linecolor": "white",
            "ticks": ""
           },
           "baxis": {
            "gridcolor": "white",
            "linecolor": "white",
            "ticks": ""
           },
           "bgcolor": "#E5ECF6",
           "caxis": {
            "gridcolor": "white",
            "linecolor": "white",
            "ticks": ""
           }
          },
          "title": {
           "x": 0.05
          },
          "xaxis": {
           "automargin": true,
           "gridcolor": "white",
           "linecolor": "white",
           "ticks": "",
           "title": {
            "standoff": 15
           },
           "zerolinecolor": "white",
           "zerolinewidth": 2
          },
          "yaxis": {
           "automargin": true,
           "gridcolor": "white",
           "linecolor": "white",
           "ticks": "",
           "title": {
            "standoff": 15
           },
           "zerolinecolor": "white",
           "zerolinewidth": 2
          }
         }
        },
        "title": {
         "text": "Зависимость средней абсолютной ошибки от<br>количества нейронов на скрытом слое"
        },
        "width": 1280,
        "xaxis": {
         "title": {
          "text": "Количество нейронов на скрытом слое"
         }
        },
        "yaxis": {
         "title": {
          "text": "Средняя абсолютная ошибка"
         }
        }
       }
      }
     },
     "metadata": {},
     "output_type": "display_data"
    }
   ],
   "source": [
    "# Plotting results for training epochs amount\n",
    "fig = go.Figure()\n",
    "fig.add_trace(\n",
    "    go.Scatter(x=all_sizes, y=all_mapes,\n",
    "               name='Все наблюдения', mode='markers')\n",
    ")\n",
    "fig.add_trace(\n",
    "    go.Scatter(x=hidden_sizes, y=mapes_mean,\n",
    "               name='Средние значения', mode='lines+markers')\n",
    ")\n",
    "fig.update_layout(\n",
    "    title='Зависимость средней абсолютной ошибки от<br>количества нейронов на скрытом слое',\n",
    "    font=dict(size=20),\n",
    "    xaxis=dict(title='Количество нейронов на скрытом слое'),\n",
    "    yaxis=dict(title='Средняя абсолютная ошибка'),\n",
    "    width=1280,\n",
    "    height=720\n",
    ")\n",
    "fig.show()"
   ]
  },
  {
   "cell_type": "code",
   "execution_count": 12,
   "metadata": {},
   "outputs": [
    {
     "name": "stdout",
     "output_type": "stream",
     "text": [
      "TRAINING FINISHED\n",
      "Epoch 1000/1000, Loss: 25.007611\n",
      "MAPE: 0.274241\n",
      "TRAINING FINISHED\n",
      "Epoch 1000/1000, Loss: 32.668452\n",
      "MAPE: 0.288787\n",
      "TRAINING FINISHED\n",
      "Epoch 1000/1000, Loss: 30.091497\n",
      "MAPE: 0.281959\n",
      "TRAINING FINISHED\n",
      "Epoch 1000/1000, Loss: 32.787266\n",
      "MAPE: 0.292049\n",
      "TRAINING FINISHED\n",
      "Epoch 1000/1000, Loss: 31.674165\n",
      "MAPE: 0.298834\n",
      "TRAINING FINISHED\n",
      "Epoch 1000/1000, Loss: 28.908725\n",
      "MAPE: 0.278214\n",
      "TRAINING FINISHED\n",
      "Epoch 1000/1000, Loss: 23.092873\n",
      "MAPE: 0.243748\n",
      "TRAINING FINISHED\n",
      "Epoch 1000/1000, Loss: 26.283899\n",
      "MAPE: 0.258263\n",
      "TRAINING FINISHED\n",
      "Epoch 1000/1000, Loss: 27.001250\n",
      "MAPE: 0.261172\n",
      "TRAINING FINISHED\n",
      "Epoch 1000/1000, Loss: 24.416334\n",
      "MAPE: 0.248995\n",
      "TRAINING FINISHED\n",
      "Epoch 1000/1000, Loss: 17.967296\n",
      "MAPE: 0.208247\n",
      "TRAINING FINISHED\n",
      "Epoch 1000/1000, Loss: 18.436734\n",
      "MAPE: 0.206682\n",
      "TRAINING FINISHED\n",
      "Epoch 1000/1000, Loss: 21.818226\n",
      "MAPE: 0.222598\n",
      "TRAINING FINISHED\n",
      "Epoch 1000/1000, Loss: 20.450953\n",
      "MAPE: 0.224416\n",
      "TRAINING FINISHED\n",
      "Epoch 1000/1000, Loss: 25.657194\n",
      "MAPE: 0.245042\n",
      "TRAINING FINISHED\n",
      "Epoch 1000/1000, Loss: 6.959678\n",
      "MAPE: 0.115162\n",
      "TRAINING FINISHED\n",
      "Epoch 1000/1000, Loss: 11.743637\n",
      "MAPE: 0.157348\n",
      "TRAINING FINISHED\n",
      "Epoch 1000/1000, Loss: 7.531943\n",
      "MAPE: 0.115933\n",
      "TRAINING FINISHED\n",
      "Epoch 1000/1000, Loss: 11.313689\n",
      "MAPE: 0.152663\n",
      "TRAINING FINISHED\n",
      "Epoch 1000/1000, Loss: 11.074402\n",
      "MAPE: 0.146357\n",
      "TRAINING FINISHED\n",
      "Epoch 1000/1000, Loss: 6.032889\n",
      "MAPE: 0.099806\n",
      "TRAINING FINISHED\n",
      "Epoch 1000/1000, Loss: 10.546752\n",
      "MAPE: 0.134277\n",
      "TRAINING FINISHED\n",
      "Epoch 1000/1000, Loss: 7.416658\n",
      "MAPE: 0.104557\n",
      "TRAINING FINISHED\n",
      "Epoch 1000/1000, Loss: 5.498958\n",
      "MAPE: 0.084892\n",
      "TRAINING FINISHED\n",
      "Epoch 1000/1000, Loss: 5.111150\n",
      "MAPE: 0.077836\n",
      "TRAINING FINISHED\n",
      "Epoch 1000/1000, Loss: 4.749716\n",
      "MAPE: 0.076229\n",
      "TRAINING FINISHED\n",
      "Epoch 1000/1000, Loss: 5.903512\n",
      "MAPE: 0.078438\n",
      "TRAINING FINISHED\n",
      "Epoch 1000/1000, Loss: 4.069070\n",
      "MAPE: 0.071569\n",
      "TRAINING FINISHED\n",
      "Epoch 1000/1000, Loss: 7.057969\n",
      "MAPE: 0.091654\n",
      "TRAINING FINISHED\n",
      "Epoch 1000/1000, Loss: 5.066338\n",
      "MAPE: 0.084087\n",
      "TRAINING FINISHED\n",
      "Epoch 1000/1000, Loss: 4.339121\n",
      "MAPE: 0.068278\n",
      "TRAINING FINISHED\n",
      "Epoch 1000/1000, Loss: 4.872269\n",
      "MAPE: 0.064019\n",
      "TRAINING FINISHED\n",
      "Epoch 1000/1000, Loss: 4.593036\n",
      "MAPE: 0.060181\n",
      "TRAINING FINISHED\n",
      "Epoch 1000/1000, Loss: 3.557052\n",
      "MAPE: 0.048934\n",
      "TRAINING FINISHED\n",
      "Epoch 1000/1000, Loss: 6.626405\n",
      "MAPE: 0.093240\n",
      "TRAINING FINISHED\n",
      "Epoch 1000/1000, Loss: 7.493808\n",
      "MAPE: 0.075084\n",
      "TRAINING FINISHED\n",
      "Epoch 1000/1000, Loss: 3.999842\n",
      "MAPE: 0.050524\n",
      "TRAINING FINISHED\n",
      "Epoch 1000/1000, Loss: 3.458578\n",
      "MAPE: 0.045837\n",
      "TRAINING FINISHED\n",
      "Epoch 1000/1000, Loss: 6.561735\n",
      "MAPE: 0.073108\n",
      "TRAINING FINISHED\n",
      "Epoch 1000/1000, Loss: 3.723752\n",
      "MAPE: 0.044347\n",
      "TRAINING FINISHED\n",
      "Epoch 1000/1000, Loss: 4.897647\n",
      "MAPE: 0.061841\n",
      "TRAINING FINISHED\n",
      "Epoch 1000/1000, Loss: 6.633873\n",
      "MAPE: 0.072812\n",
      "TRAINING FINISHED\n",
      "Epoch 1000/1000, Loss: 4.551930\n",
      "MAPE: 0.064234\n",
      "TRAINING FINISHED\n",
      "Epoch 1000/1000, Loss: 4.864474\n",
      "MAPE: 0.056874\n",
      "TRAINING FINISHED\n",
      "Epoch 1000/1000, Loss: 4.866060\n",
      "MAPE: 0.073089\n",
      "TRAINING FINISHED\n",
      "Epoch 1000/1000, Loss: 10.042067\n",
      "MAPE: 0.087069\n",
      "TRAINING FINISHED\n",
      "Epoch 1000/1000, Loss: 5.640978\n",
      "MAPE: 0.068891\n",
      "TRAINING FINISHED\n",
      "Epoch 1000/1000, Loss: 4.124817\n",
      "MAPE: 0.054160\n",
      "TRAINING FINISHED\n",
      "Epoch 1000/1000, Loss: 6.308623\n",
      "MAPE: 0.068982\n",
      "TRAINING FINISHED\n",
      "Epoch 1000/1000, Loss: 5.601726\n",
      "MAPE: 0.078737\n",
      "TRAINING FINISHED\n",
      "Epoch 1000/1000, Loss: 7.094261\n",
      "MAPE: 0.069790\n",
      "TRAINING FINISHED\n",
      "Epoch 1000/1000, Loss: 10.365904\n",
      "MAPE: 0.086294\n",
      "TRAINING FINISHED\n",
      "Epoch 1000/1000, Loss: 6.735661\n",
      "MAPE: 0.069201\n",
      "TRAINING FINISHED\n",
      "Epoch 1000/1000, Loss: 3.994494\n",
      "MAPE: 0.051669\n",
      "TRAINING FINISHED\n",
      "Epoch 1000/1000, Loss: 3.475404\n",
      "MAPE: 0.049280\n"
     ]
    }
   ],
   "source": [
    "# MAPE relation with sliding window\n",
    "experiments_amount = 5\n",
    "# epochs = np.linspace(1000, 35000, endpoint=True, num=10).astype(np.int32).tolist()\n",
    "\n",
    "\n",
    "all_mapes = []\n",
    "mapes_mean = []\n",
    "\n",
    "all_sizes: list[int] = []\n",
    "\n",
    "seq_length = 50\n",
    "window_sizes = list(range(1, seq_length // 4))\n",
    "hidden_size = 10\n",
    "batch_size = 2\n",
    "output_size = 3\n",
    "\n",
    "verbosity = 100000\n",
    "max_mape = 1e-3\n",
    "learn_until_meet_mape = True\n",
    "lr = 1e-4\n",
    "max_epochs = 1000\n",
    "\n",
    "sequence = list(arithmetic_progression(seq_length, a0=1, d=1))\n",
    "\n",
    "for size in window_sizes:\n",
    "    X, y = create_sliding_window_batches(sequence, size, batch_size, output_size)    \n",
    "\n",
    "    # Training network for five times\n",
    "    mapes_sum = 0    \n",
    "    for _ in range(experiments_amount):              \n",
    "        \n",
    "        network = GRUModel(input_size=size, hidden_size=hidden_size,\n",
    "                           output_size=output_size)\n",
    "        _, _mape = network.train(x=X, y=y, lr=lr, max_epochs=max_epochs, verbosity=verbosity)\n",
    "        all_sizes.append(size)\n",
    "        mapes_sum += _mape        \n",
    "        all_mapes.append(_mape)    \n",
    "\n",
    "    # Average mape for epochs amount\n",
    "    mapes_mean.append(mapes_sum / experiments_amount)"
   ]
  },
  {
   "cell_type": "code",
   "execution_count": 13,
   "metadata": {},
   "outputs": [
    {
     "data": {
      "application/vnd.plotly.v1+json": {
       "config": {
        "plotlyServerURL": "https://plot.ly"
       },
       "data": [
        {
         "mode": "markers",
         "name": "Все наблюдения",
         "type": "scatter",
         "x": [
          1,
          1,
          1,
          1,
          1,
          2,
          2,
          2,
          2,
          2,
          3,
          3,
          3,
          3,
          3,
          4,
          4,
          4,
          4,
          4,
          5,
          5,
          5,
          5,
          5,
          6,
          6,
          6,
          6,
          6,
          7,
          7,
          7,
          7,
          7,
          8,
          8,
          8,
          8,
          8,
          9,
          9,
          9,
          9,
          9,
          10,
          10,
          10,
          10,
          10,
          11,
          11,
          11,
          11,
          11
         ],
         "y": [
          0.2742414861061111,
          0.2887872602382967,
          0.2819594203045269,
          0.29204945624880424,
          0.2988336729863572,
          0.27821399468744246,
          0.24374828581264882,
          0.25826263159408697,
          0.26117213656030447,
          0.24899472518103194,
          0.20824720067253555,
          0.20668215942278595,
          0.22259848816426275,
          0.22441578076951357,
          0.2450421721872636,
          0.11516246044404685,
          0.1573475215527371,
          0.11593252973612433,
          0.15266318376356458,
          0.146357465736079,
          0.09980581478476143,
          0.1342771968930196,
          0.1045568437174261,
          0.08489199273916248,
          0.07783644956339374,
          0.07622903920412902,
          0.07843797013749707,
          0.07156931783083889,
          0.09165428302456806,
          0.08408672474651652,
          0.06827835586692893,
          0.0640189881605278,
          0.060180935431395875,
          0.04893357300725923,
          0.0932399604348668,
          0.07508383266820265,
          0.050524460816482604,
          0.04583688166662936,
          0.07310849483585839,
          0.04434725639701867,
          0.06184071339685493,
          0.07281156672977504,
          0.06423365492714558,
          0.05687425337432113,
          0.0730891186636349,
          0.08706892762724328,
          0.06889134159534879,
          0.05415963314149372,
          0.06898246725069662,
          0.0787372746798518,
          0.0697902278574169,
          0.08629353494933102,
          0.06920063777858113,
          0.051668598215998236,
          0.049279772315362326
         ]
        },
        {
         "mode": "lines+markers",
         "name": "Средние значения",
         "type": "scatter",
         "x": [
          1,
          2,
          3,
          4,
          5,
          6,
          7,
          8,
          9,
          10,
          11
         ],
         "y": [
          0.28717425917681927,
          0.2580783547671029,
          0.22139716024327227,
          0.13749263224651037,
          0.10027365953955267,
          0.0803954669887099,
          0.06693036258019573,
          0.05778018527683833,
          0.06576986141834631,
          0.07156792885892685,
          0.06524655422333793
         ]
        }
       ],
       "layout": {
        "font": {
         "size": 20
        },
        "height": 720,
        "template": {
         "data": {
          "bar": [
           {
            "error_x": {
             "color": "#2a3f5f"
            },
            "error_y": {
             "color": "#2a3f5f"
            },
            "marker": {
             "line": {
              "color": "#E5ECF6",
              "width": 0.5
             },
             "pattern": {
              "fillmode": "overlay",
              "size": 10,
              "solidity": 0.2
             }
            },
            "type": "bar"
           }
          ],
          "barpolar": [
           {
            "marker": {
             "line": {
              "color": "#E5ECF6",
              "width": 0.5
             },
             "pattern": {
              "fillmode": "overlay",
              "size": 10,
              "solidity": 0.2
             }
            },
            "type": "barpolar"
           }
          ],
          "carpet": [
           {
            "aaxis": {
             "endlinecolor": "#2a3f5f",
             "gridcolor": "white",
             "linecolor": "white",
             "minorgridcolor": "white",
             "startlinecolor": "#2a3f5f"
            },
            "baxis": {
             "endlinecolor": "#2a3f5f",
             "gridcolor": "white",
             "linecolor": "white",
             "minorgridcolor": "white",
             "startlinecolor": "#2a3f5f"
            },
            "type": "carpet"
           }
          ],
          "choropleth": [
           {
            "colorbar": {
             "outlinewidth": 0,
             "ticks": ""
            },
            "type": "choropleth"
           }
          ],
          "contour": [
           {
            "colorbar": {
             "outlinewidth": 0,
             "ticks": ""
            },
            "colorscale": [
             [
              0,
              "#0d0887"
             ],
             [
              0.1111111111111111,
              "#46039f"
             ],
             [
              0.2222222222222222,
              "#7201a8"
             ],
             [
              0.3333333333333333,
              "#9c179e"
             ],
             [
              0.4444444444444444,
              "#bd3786"
             ],
             [
              0.5555555555555556,
              "#d8576b"
             ],
             [
              0.6666666666666666,
              "#ed7953"
             ],
             [
              0.7777777777777778,
              "#fb9f3a"
             ],
             [
              0.8888888888888888,
              "#fdca26"
             ],
             [
              1,
              "#f0f921"
             ]
            ],
            "type": "contour"
           }
          ],
          "contourcarpet": [
           {
            "colorbar": {
             "outlinewidth": 0,
             "ticks": ""
            },
            "type": "contourcarpet"
           }
          ],
          "heatmap": [
           {
            "colorbar": {
             "outlinewidth": 0,
             "ticks": ""
            },
            "colorscale": [
             [
              0,
              "#0d0887"
             ],
             [
              0.1111111111111111,
              "#46039f"
             ],
             [
              0.2222222222222222,
              "#7201a8"
             ],
             [
              0.3333333333333333,
              "#9c179e"
             ],
             [
              0.4444444444444444,
              "#bd3786"
             ],
             [
              0.5555555555555556,
              "#d8576b"
             ],
             [
              0.6666666666666666,
              "#ed7953"
             ],
             [
              0.7777777777777778,
              "#fb9f3a"
             ],
             [
              0.8888888888888888,
              "#fdca26"
             ],
             [
              1,
              "#f0f921"
             ]
            ],
            "type": "heatmap"
           }
          ],
          "heatmapgl": [
           {
            "colorbar": {
             "outlinewidth": 0,
             "ticks": ""
            },
            "colorscale": [
             [
              0,
              "#0d0887"
             ],
             [
              0.1111111111111111,
              "#46039f"
             ],
             [
              0.2222222222222222,
              "#7201a8"
             ],
             [
              0.3333333333333333,
              "#9c179e"
             ],
             [
              0.4444444444444444,
              "#bd3786"
             ],
             [
              0.5555555555555556,
              "#d8576b"
             ],
             [
              0.6666666666666666,
              "#ed7953"
             ],
             [
              0.7777777777777778,
              "#fb9f3a"
             ],
             [
              0.8888888888888888,
              "#fdca26"
             ],
             [
              1,
              "#f0f921"
             ]
            ],
            "type": "heatmapgl"
           }
          ],
          "histogram": [
           {
            "marker": {
             "pattern": {
              "fillmode": "overlay",
              "size": 10,
              "solidity": 0.2
             }
            },
            "type": "histogram"
           }
          ],
          "histogram2d": [
           {
            "colorbar": {
             "outlinewidth": 0,
             "ticks": ""
            },
            "colorscale": [
             [
              0,
              "#0d0887"
             ],
             [
              0.1111111111111111,
              "#46039f"
             ],
             [
              0.2222222222222222,
              "#7201a8"
             ],
             [
              0.3333333333333333,
              "#9c179e"
             ],
             [
              0.4444444444444444,
              "#bd3786"
             ],
             [
              0.5555555555555556,
              "#d8576b"
             ],
             [
              0.6666666666666666,
              "#ed7953"
             ],
             [
              0.7777777777777778,
              "#fb9f3a"
             ],
             [
              0.8888888888888888,
              "#fdca26"
             ],
             [
              1,
              "#f0f921"
             ]
            ],
            "type": "histogram2d"
           }
          ],
          "histogram2dcontour": [
           {
            "colorbar": {
             "outlinewidth": 0,
             "ticks": ""
            },
            "colorscale": [
             [
              0,
              "#0d0887"
             ],
             [
              0.1111111111111111,
              "#46039f"
             ],
             [
              0.2222222222222222,
              "#7201a8"
             ],
             [
              0.3333333333333333,
              "#9c179e"
             ],
             [
              0.4444444444444444,
              "#bd3786"
             ],
             [
              0.5555555555555556,
              "#d8576b"
             ],
             [
              0.6666666666666666,
              "#ed7953"
             ],
             [
              0.7777777777777778,
              "#fb9f3a"
             ],
             [
              0.8888888888888888,
              "#fdca26"
             ],
             [
              1,
              "#f0f921"
             ]
            ],
            "type": "histogram2dcontour"
           }
          ],
          "mesh3d": [
           {
            "colorbar": {
             "outlinewidth": 0,
             "ticks": ""
            },
            "type": "mesh3d"
           }
          ],
          "parcoords": [
           {
            "line": {
             "colorbar": {
              "outlinewidth": 0,
              "ticks": ""
             }
            },
            "type": "parcoords"
           }
          ],
          "pie": [
           {
            "automargin": true,
            "type": "pie"
           }
          ],
          "scatter": [
           {
            "fillpattern": {
             "fillmode": "overlay",
             "size": 10,
             "solidity": 0.2
            },
            "type": "scatter"
           }
          ],
          "scatter3d": [
           {
            "line": {
             "colorbar": {
              "outlinewidth": 0,
              "ticks": ""
             }
            },
            "marker": {
             "colorbar": {
              "outlinewidth": 0,
              "ticks": ""
             }
            },
            "type": "scatter3d"
           }
          ],
          "scattercarpet": [
           {
            "marker": {
             "colorbar": {
              "outlinewidth": 0,
              "ticks": ""
             }
            },
            "type": "scattercarpet"
           }
          ],
          "scattergeo": [
           {
            "marker": {
             "colorbar": {
              "outlinewidth": 0,
              "ticks": ""
             }
            },
            "type": "scattergeo"
           }
          ],
          "scattergl": [
           {
            "marker": {
             "colorbar": {
              "outlinewidth": 0,
              "ticks": ""
             }
            },
            "type": "scattergl"
           }
          ],
          "scattermapbox": [
           {
            "marker": {
             "colorbar": {
              "outlinewidth": 0,
              "ticks": ""
             }
            },
            "type": "scattermapbox"
           }
          ],
          "scatterpolar": [
           {
            "marker": {
             "colorbar": {
              "outlinewidth": 0,
              "ticks": ""
             }
            },
            "type": "scatterpolar"
           }
          ],
          "scatterpolargl": [
           {
            "marker": {
             "colorbar": {
              "outlinewidth": 0,
              "ticks": ""
             }
            },
            "type": "scatterpolargl"
           }
          ],
          "scatterternary": [
           {
            "marker": {
             "colorbar": {
              "outlinewidth": 0,
              "ticks": ""
             }
            },
            "type": "scatterternary"
           }
          ],
          "surface": [
           {
            "colorbar": {
             "outlinewidth": 0,
             "ticks": ""
            },
            "colorscale": [
             [
              0,
              "#0d0887"
             ],
             [
              0.1111111111111111,
              "#46039f"
             ],
             [
              0.2222222222222222,
              "#7201a8"
             ],
             [
              0.3333333333333333,
              "#9c179e"
             ],
             [
              0.4444444444444444,
              "#bd3786"
             ],
             [
              0.5555555555555556,
              "#d8576b"
             ],
             [
              0.6666666666666666,
              "#ed7953"
             ],
             [
              0.7777777777777778,
              "#fb9f3a"
             ],
             [
              0.8888888888888888,
              "#fdca26"
             ],
             [
              1,
              "#f0f921"
             ]
            ],
            "type": "surface"
           }
          ],
          "table": [
           {
            "cells": {
             "fill": {
              "color": "#EBF0F8"
             },
             "line": {
              "color": "white"
             }
            },
            "header": {
             "fill": {
              "color": "#C8D4E3"
             },
             "line": {
              "color": "white"
             }
            },
            "type": "table"
           }
          ]
         },
         "layout": {
          "annotationdefaults": {
           "arrowcolor": "#2a3f5f",
           "arrowhead": 0,
           "arrowwidth": 1
          },
          "autotypenumbers": "strict",
          "coloraxis": {
           "colorbar": {
            "outlinewidth": 0,
            "ticks": ""
           }
          },
          "colorscale": {
           "diverging": [
            [
             0,
             "#8e0152"
            ],
            [
             0.1,
             "#c51b7d"
            ],
            [
             0.2,
             "#de77ae"
            ],
            [
             0.3,
             "#f1b6da"
            ],
            [
             0.4,
             "#fde0ef"
            ],
            [
             0.5,
             "#f7f7f7"
            ],
            [
             0.6,
             "#e6f5d0"
            ],
            [
             0.7,
             "#b8e186"
            ],
            [
             0.8,
             "#7fbc41"
            ],
            [
             0.9,
             "#4d9221"
            ],
            [
             1,
             "#276419"
            ]
           ],
           "sequential": [
            [
             0,
             "#0d0887"
            ],
            [
             0.1111111111111111,
             "#46039f"
            ],
            [
             0.2222222222222222,
             "#7201a8"
            ],
            [
             0.3333333333333333,
             "#9c179e"
            ],
            [
             0.4444444444444444,
             "#bd3786"
            ],
            [
             0.5555555555555556,
             "#d8576b"
            ],
            [
             0.6666666666666666,
             "#ed7953"
            ],
            [
             0.7777777777777778,
             "#fb9f3a"
            ],
            [
             0.8888888888888888,
             "#fdca26"
            ],
            [
             1,
             "#f0f921"
            ]
           ],
           "sequentialminus": [
            [
             0,
             "#0d0887"
            ],
            [
             0.1111111111111111,
             "#46039f"
            ],
            [
             0.2222222222222222,
             "#7201a8"
            ],
            [
             0.3333333333333333,
             "#9c179e"
            ],
            [
             0.4444444444444444,
             "#bd3786"
            ],
            [
             0.5555555555555556,
             "#d8576b"
            ],
            [
             0.6666666666666666,
             "#ed7953"
            ],
            [
             0.7777777777777778,
             "#fb9f3a"
            ],
            [
             0.8888888888888888,
             "#fdca26"
            ],
            [
             1,
             "#f0f921"
            ]
           ]
          },
          "colorway": [
           "#636efa",
           "#EF553B",
           "#00cc96",
           "#ab63fa",
           "#FFA15A",
           "#19d3f3",
           "#FF6692",
           "#B6E880",
           "#FF97FF",
           "#FECB52"
          ],
          "font": {
           "color": "#2a3f5f"
          },
          "geo": {
           "bgcolor": "white",
           "lakecolor": "white",
           "landcolor": "#E5ECF6",
           "showlakes": true,
           "showland": true,
           "subunitcolor": "white"
          },
          "hoverlabel": {
           "align": "left"
          },
          "hovermode": "closest",
          "mapbox": {
           "style": "light"
          },
          "paper_bgcolor": "white",
          "plot_bgcolor": "#E5ECF6",
          "polar": {
           "angularaxis": {
            "gridcolor": "white",
            "linecolor": "white",
            "ticks": ""
           },
           "bgcolor": "#E5ECF6",
           "radialaxis": {
            "gridcolor": "white",
            "linecolor": "white",
            "ticks": ""
           }
          },
          "scene": {
           "xaxis": {
            "backgroundcolor": "#E5ECF6",
            "gridcolor": "white",
            "gridwidth": 2,
            "linecolor": "white",
            "showbackground": true,
            "ticks": "",
            "zerolinecolor": "white"
           },
           "yaxis": {
            "backgroundcolor": "#E5ECF6",
            "gridcolor": "white",
            "gridwidth": 2,
            "linecolor": "white",
            "showbackground": true,
            "ticks": "",
            "zerolinecolor": "white"
           },
           "zaxis": {
            "backgroundcolor": "#E5ECF6",
            "gridcolor": "white",
            "gridwidth": 2,
            "linecolor": "white",
            "showbackground": true,
            "ticks": "",
            "zerolinecolor": "white"
           }
          },
          "shapedefaults": {
           "line": {
            "color": "#2a3f5f"
           }
          },
          "ternary": {
           "aaxis": {
            "gridcolor": "white",
            "linecolor": "white",
            "ticks": ""
           },
           "baxis": {
            "gridcolor": "white",
            "linecolor": "white",
            "ticks": ""
           },
           "bgcolor": "#E5ECF6",
           "caxis": {
            "gridcolor": "white",
            "linecolor": "white",
            "ticks": ""
           }
          },
          "title": {
           "x": 0.05
          },
          "xaxis": {
           "automargin": true,
           "gridcolor": "white",
           "linecolor": "white",
           "ticks": "",
           "title": {
            "standoff": 15
           },
           "zerolinecolor": "white",
           "zerolinewidth": 2
          },
          "yaxis": {
           "automargin": true,
           "gridcolor": "white",
           "linecolor": "white",
           "ticks": "",
           "title": {
            "standoff": 15
           },
           "zerolinecolor": "white",
           "zerolinewidth": 2
          }
         }
        },
        "title": {
         "text": "Зависимость средней абсолютной ошибки от<br>размера скользящего окна"
        },
        "width": 1280,
        "xaxis": {
         "title": {
          "text": "Размер скользящего окна"
         }
        },
        "yaxis": {
         "title": {
          "text": "Средняя абсолютная ошибка"
         }
        }
       }
      }
     },
     "metadata": {},
     "output_type": "display_data"
    }
   ],
   "source": [
    "# Plotting results\n",
    "fig = go.Figure()\n",
    "fig.add_trace(\n",
    "    go.Scatter(x=all_sizes, y=all_mapes,\n",
    "               name='Все наблюдения', mode='markers')\n",
    ")\n",
    "fig.add_trace(\n",
    "    go.Scatter(x=window_sizes, y=mapes_mean,\n",
    "               name='Средние значения', mode='lines+markers')\n",
    ")\n",
    "fig.update_layout(\n",
    "    title='Зависимость средней абсолютной ошибки от<br>размера скользящего окна',\n",
    "    font=dict(size=20),\n",
    "    xaxis=dict(title='Размер скользящего окна'),\n",
    "    yaxis=dict(title='Средняя абсолютная ошибка'),\n",
    "    width=1280,\n",
    "    height=720\n",
    ")\n",
    "fig.show()"
   ]
  },
  {
   "cell_type": "code",
   "execution_count": 39,
   "metadata": {},
   "outputs": [
    {
     "name": "stdout",
     "output_type": "stream",
     "text": [
      "TRAINING FINISHED\n",
      "Epoch 2000/2000, Loss: 0.032208\n",
      "MAPE: 0.012176\n",
      "TEST\n",
      "Предсказания на тестовой выборке:\n",
      " [18.21112006 19.15522951 19.99779925]\n",
      "Истинное значение на тестовой выборке:\n",
      " [18 19 20]\n",
      "MAPE: 0.6670%\n"
     ]
    }
   ],
   "source": [
    "# Arithmetic\n",
    "seq_length = 20\n",
    "window_size = 5\n",
    "batch_size = 2\n",
    "hidden_size = 10\n",
    "output_size = 3\n",
    "\n",
    "sequence = list(arithmetic_progression(seq_length, 1, 1))\n",
    "X, y = create_sliding_window_batches(sequence, window_size, batch_size, output_size)\n",
    "\n",
    "verbosity = 5000\n",
    "model = GRUModel(window_size, hidden_size, output_size)\n",
    "\n",
    "# Параметры обучения\n",
    "lr = 1e-3\n",
    "epochs = 2000\n",
    "\n",
    "model.train(x=X, y=y, lr=lr, max_epochs=epochs, verbosity=verbosity)\n",
    "\n",
    "print('TEST')\n",
    "y_pred, _, _ = model.forward(X)\n",
    "print(\"Предсказания на тестовой выборке:\\n\", y_pred[-1][-1])\n",
    "print(\"Истинное значение на тестовой выборке:\\n\", y[-1][-1])\n",
    "print(f\"MAPE: {mape(y[-1][-1], y_pred[-1][-1]) * 100:.4f}%\")  "
   ]
  },
  {
   "cell_type": "code",
   "execution_count": 43,
   "metadata": {},
   "outputs": [
    {
     "name": "stdout",
     "output_type": "stream",
     "text": [
      "TRAINING FINISHED\n",
      "Epoch 2000/2000, Loss: 705.390526\n",
      "MAPE: 0.538357\n",
      "TEST\n",
      "Предсказания на тестовой выборке:\n",
      " [111.92968859 181.08958216 293.08412494]\n",
      "Истинное значение на тестовой выборке:\n",
      " [144 233 377]\n",
      "MAPE: 22.2697%\n"
     ]
    }
   ],
   "source": [
    "# Fibonacci\n",
    "seq_length = 15\n",
    "window_size = 5\n",
    "batch_size = 2\n",
    "hidden_size = 10\n",
    "output_size = 3\n",
    "\n",
    "sequence = list(fibonacci_generator(seq_length))\n",
    "X, y = create_sliding_window_batches(sequence, window_size, batch_size, output_size)\n",
    "\n",
    "verbosity = 5000\n",
    "model = GRUModel(window_size, hidden_size, output_size)\n",
    "\n",
    "# Параметры обучения\n",
    "lr = 1e-3\n",
    "epochs = 2000\n",
    "\n",
    "model.train(x=X, y=y, lr=lr, max_epochs=epochs, verbosity=verbosity)\n",
    "\n",
    "print('TEST')\n",
    "y_pred, _, _ = model.forward(X)\n",
    "print(\"Предсказания на тестовой выборке:\\n\", y_pred[-1][-1])\n",
    "print(\"Истинное значение на тестовой выборке:\\n\", y[-1][-1])\n",
    "print(f\"MAPE: {mape(y[-1][-1], y_pred[-1][-1]) * 100:.4f}%\")"
   ]
  },
  {
   "cell_type": "code",
   "execution_count": 37,
   "metadata": {},
   "outputs": [
    {
     "name": "stdout",
     "output_type": "stream",
     "text": [
      "TRAINING FINISHED\n",
      "Epoch 2000/2000, Loss: 0.001617\n",
      "MAPE: 0.307867\n",
      "TEST\n",
      "[0.07692308 0.07142857 0.06666667 0.0625     0.05882353]\n",
      "Предсказания на тестовой выборке:\n",
      " [0.07368016 0.06275571 0.0771424 ]\n",
      "Истинное значение на тестовой выборке:\n",
      " [0.05555556 0.05263158 0.05      ]\n",
      "MAPE: 35.3816%\n"
     ]
    }
   ],
   "source": [
    "# 1 / n\n",
    "seq_length = 20\n",
    "window_size = 5\n",
    "batch_size = 2\n",
    "hidden_size = 10\n",
    "output_size = 3\n",
    "\n",
    "sequence = list(one_by_n_generator(seq_length))\n",
    "X, y = create_sliding_window_batches(sequence, window_size, batch_size, output_size)\n",
    "\n",
    "verbosity = 5000\n",
    "model = GRUModel(window_size, hidden_size, output_size)\n",
    "\n",
    "# Параметры обучения\n",
    "lr = 1e-3\n",
    "epochs = 2000\n",
    "\n",
    "model.train(x=X, y=y, lr=lr, max_epochs=epochs, verbosity=verbosity)\n",
    "\n",
    "print('TEST')\n",
    "y_pred, _, _ = model.forward(X)\n",
    "print(\"Предсказания на тестовой выборке:\\n\", y_pred[-1][-1])\n",
    "print(\"Истинное значение на тестовой выборке:\\n\", y[-1][-1])\n",
    "print(f\"MAPE: {mape(y[-1][-1], y_pred[-1][-1]) * 100:.4f}%\")"
   ]
  },
  {
   "cell_type": "code",
   "execution_count": 44,
   "metadata": {},
   "outputs": [
    {
     "name": "stdout",
     "output_type": "stream",
     "text": [
      "TRAINING FINISHED\n",
      "Epoch 2000/2000, Loss: 0.079403\n",
      "MAPE: 0.191956\n",
      "TEST\n",
      "Предсказания на тестовой выборке:\n",
      " [-0.39585527  0.15670909 -0.18489909]\n",
      "Истинное значение на тестовой выборке:\n",
      " [-1  1 -1]\n",
      "MAPE: 75.4179%\n"
     ]
    }
   ],
   "source": [
    "# 1, -1, 1, -1, ...\n",
    "seq_length = 20\n",
    "window_size = 5\n",
    "batch_size = 2\n",
    "hidden_size = 10\n",
    "output_size = 3\n",
    "\n",
    "sequence = list(plus_one_minus_one_generator(seq_length))\n",
    "X, y = create_sliding_window_batches(sequence, window_size, batch_size, output_size)\n",
    "\n",
    "verbosity = 5000\n",
    "model = GRUModel(window_size, hidden_size, output_size)\n",
    "\n",
    "# Параметры обучения\n",
    "lr = 1e-3\n",
    "epochs = 2000\n",
    "\n",
    "model.train(x=X, y=y, lr=lr, max_epochs=epochs, verbosity=verbosity)\n",
    "\n",
    "print('TEST')\n",
    "y_pred, _, _ = model.forward(X)\n",
    "print(\"Предсказания на тестовой выборке:\\n\", y_pred[-1][-1])\n",
    "print(\"Истинное значение на тестовой выборке:\\n\", y[-1][-1])\n",
    "print(f\"MAPE: {mape(y[-1][-1], y_pred[-1][-1]) * 100:.4f}%\") "
   ]
  },
  {
   "cell_type": "code",
   "execution_count": null,
   "metadata": {},
   "outputs": [
    {
     "name": "stdout",
     "output_type": "stream",
     "text": [
      "TRAINING FINISHED\n",
      "Epoch 2000/2000, Loss: 0.282809\n",
      "MAPE: 0.009512\n",
      "TEST\n",
      "Предсказания на тестовой выборке:\n",
      " [ 64.34795357  81.2383435  100.33545482]\n",
      "Истинное значение на тестовой выборке:\n",
      " [ 64  81 100]\n",
      "MAPE: 0.3911%\n"
     ]
    }
   ],
   "source": [
    "# n ** 2\n",
    "seq_length = 10\n",
    "window_size = 3\n",
    "batch_size = 2\n",
    "hidden_size = 10\n",
    "output_size = 3\n",
    "\n",
    "sequence = list(squared_generator(seq_length))\n",
    "X, y = create_sliding_window_batches(sequence, window_size, batch_size, output_size)\n",
    "\n",
    "verbosity = 5000\n",
    "model = GRUModel(window_size, hidden_size, output_size)\n",
    "\n",
    "# Параметры обучения\n",
    "lr = 1e-3\n",
    "epochs = 2000\n",
    "\n",
    "model.train(x=X, y=y, lr=lr, max_epochs=epochs, verbosity=verbosity)\n",
    "\n",
    "print('TEST')\n",
    "y_pred, _, _ = model.forward(X)\n",
    "print(\"Предсказания на тестовой выборке:\\n\", y_pred[-1][-1])\n",
    "print(\"Истинное значение на тестовой выборке:\\n\", y[-1][-1])\n",
    "print(f\"MAPE: {mape(y[-1][-1], y_pred[-1][-1]) * 100:.4f}%\") "
   ]
  }
 ],
 "metadata": {
  "kernelspec": {
   "display_name": ".venv",
   "language": "python",
   "name": "python3"
  },
  "language_info": {
   "codemirror_mode": {
    "name": "ipython",
    "version": 3
   },
   "file_extension": ".py",
   "mimetype": "text/x-python",
   "name": "python",
   "nbconvert_exporter": "python",
   "pygments_lexer": "ipython3",
   "version": "3.11.9"
  }
 },
 "nbformat": 4,
 "nbformat_minor": 2
}
