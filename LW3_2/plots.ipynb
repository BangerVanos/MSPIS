{
 "cells": [
  {
   "cell_type": "code",
   "execution_count": 53,
   "metadata": {},
   "outputs": [],
   "source": [
    "# Лабораторная работа 3 по дисциплине МРЗвИС\n",
    "# Выполнена студентом группы 121702\n",
    "# БГУИР Заломов Роман Андреевич\n",
    "#\n",
    "# Вариант 15: Реализовать модель рекуррентной сети с цепью нейросетевых моделей управляемых рекуррентных блоков \n",
    "# с логарифмической функцией активации (гиперболический арксинус) выходного сигнала на скрытом слое\n",
    "#\n",
    "# 24.12.24\n",
    "# Данный файл содержит код построения графиков различных зависимостей"
   ]
  },
  {
   "cell_type": "code",
   "execution_count": 2,
   "metadata": {},
   "outputs": [],
   "source": [
    "import numpy as np\n",
    "from gru import (\n",
    "    GRUModel,\n",
    "    fibonacci_generator,\n",
    "    one_by_n_generator,\n",
    "    plus_one_minus_one_generator,\n",
    "    squared_generator,\n",
    "    half_generator,\n",
    "    arithmetic_progression,\n",
    "    create_sliding_window_batches,\n",
    "    one_half_generator,\n",
    "    sin_generator,    \n",
    "    mape\n",
    ")\n",
    "from gru_with_adam import GRUAdam\n",
    "import plotly.graph_objects as go\n",
    "from math import pi"
   ]
  },
  {
   "cell_type": "code",
   "execution_count": 3,
   "metadata": {},
   "outputs": [],
   "source": [
    "def scale_sequence(sequence):\n",
    "    mean = np.mean(sequence)\n",
    "    deviation = np.std(sequence)    \n",
    "    scaled = (np.array(sequence) - mean) / deviation    \n",
    "    return scaled, mean, deviation\n",
    "\n",
    "def descale_sequence(scaled, mean, deviation):\n",
    "    descaled = scaled * deviation + mean\n",
    "    return descaled\n",
    "\n",
    "def predict_next_n_elements(sequence, window_size, batch_size, hidden_size, n,\n",
    "                            max_epochs, verbosity, lr, use_adam: bool = False):\n",
    "    scaled, mean, deviation = scale_sequence(sequence)        \n",
    "    # scaled = sequence  \n",
    "    X, y = create_sliding_window_batches(scaled, window_size, batch_size, n)\n",
    "    if not use_adam:\n",
    "        model = GRUModel(window_size, hidden_size, n)\n",
    "    else:\n",
    "        model = GRUAdam(window_size, hidden_size, n)\n",
    "    model.train(X, y, lr, max_epochs, verbosity=verbosity)\n",
    "    train_pred, _, _ = model.forward(X)\n",
    "    training_mape = mape(y, train_pred)           \n",
    "    x_last = np.vstack(tuple(scaled[-window_size:] for _ in range(batch_size)))\n",
    "    x_last = np.expand_dims(x_last, axis=0)    \n",
    "    pred, _, _ = model.forward(x_last)\n",
    "    descaled_pred = descale_sequence(pred[-1][-1], mean, deviation)\n",
    "    # descaled_pred = pred[-1][-1]\n",
    "    return training_mape, model, descaled_pred, mean, deviation"
   ]
  },
  {
   "cell_type": "code",
   "execution_count": 7,
   "metadata": {},
   "outputs": [
    {
     "name": "stdout",
     "output_type": "stream",
     "text": [
      "TRAINING FINISHED\n",
      "Epoch 100/100, Loss: 0.351050\n",
      "MAPE: 122.321234%\n",
      "TRAINING FINISHED\n",
      "Epoch 100/100, Loss: 0.263369\n",
      "MAPE: 88.158012%\n",
      "TRAINING FINISHED\n",
      "Epoch 100/100, Loss: 0.297085\n",
      "MAPE: 90.820335%\n",
      "TRAINING FINISHED\n",
      "Epoch 100/100, Loss: 0.277504\n",
      "MAPE: 93.985166%\n",
      "TRAINING FINISHED\n",
      "Epoch 100/100, Loss: 0.318692\n",
      "MAPE: 106.926804%\n",
      "TRAINING FINISHED\n",
      "Epoch 200/200, Loss: 0.218659\n",
      "MAPE: 103.293494%\n",
      "TRAINING FINISHED\n",
      "Epoch 200/200, Loss: 0.236790\n",
      "MAPE: 107.856342%\n",
      "TRAINING FINISHED\n",
      "Epoch 200/200, Loss: 0.173403\n",
      "MAPE: 93.947970%\n",
      "TRAINING FINISHED\n",
      "Epoch 200/200, Loss: 0.214083\n",
      "MAPE: 100.624506%\n",
      "TRAINING FINISHED\n",
      "Epoch 200/200, Loss: 0.183945\n",
      "MAPE: 83.682312%\n",
      "TRAINING FINISHED\n",
      "Epoch 300/300, Loss: 0.166420\n",
      "MAPE: 94.343167%\n",
      "TRAINING FINISHED\n",
      "Epoch 300/300, Loss: 0.158610\n",
      "MAPE: 98.189489%\n",
      "TRAINING FINISHED\n",
      "Epoch 300/300, Loss: 0.170759\n",
      "MAPE: 97.693217%\n",
      "TRAINING FINISHED\n",
      "Epoch 300/300, Loss: 0.097527\n",
      "MAPE: 72.995486%\n",
      "TRAINING FINISHED\n",
      "Epoch 300/300, Loss: 0.191360\n",
      "MAPE: 113.367783%\n",
      "TRAINING FINISHED\n",
      "Epoch 400/400, Loss: 0.196548\n",
      "MAPE: 122.798567%\n",
      "TRAINING FINISHED\n",
      "Epoch 400/400, Loss: 0.137305\n",
      "MAPE: 108.465600%\n",
      "TRAINING FINISHED\n",
      "Epoch 400/400, Loss: 0.201273\n",
      "MAPE: 127.687929%\n",
      "TRAINING FINISHED\n",
      "Epoch 400/400, Loss: 0.071258\n",
      "MAPE: 75.527642%\n",
      "TRAINING FINISHED\n",
      "Epoch 400/400, Loss: 0.192804\n",
      "MAPE: 125.881702%\n",
      "TRAINING FINISHED\n",
      "Epoch 500/500, Loss: 0.054277\n",
      "MAPE: 66.859188%\n",
      "TRAINING FINISHED\n",
      "Epoch 500/500, Loss: 0.055282\n",
      "MAPE: 72.772950%\n",
      "TRAINING FINISHED\n",
      "Epoch 500/500, Loss: 0.046587\n",
      "MAPE: 70.878762%\n",
      "TRAINING FINISHED\n",
      "Epoch 500/500, Loss: 0.078231\n",
      "MAPE: 85.276306%\n",
      "TRAINING FINISHED\n",
      "Epoch 500/500, Loss: 0.055736\n",
      "MAPE: 78.360450%\n",
      "TRAINING FINISHED\n",
      "Epoch 600/600, Loss: 0.061714\n",
      "MAPE: 77.751405%\n",
      "TRAINING FINISHED\n",
      "Epoch 600/600, Loss: 0.036924\n",
      "MAPE: 56.530245%\n",
      "TRAINING FINISHED\n",
      "Epoch 600/600, Loss: 0.097521\n",
      "MAPE: 99.749511%\n",
      "TRAINING FINISHED\n",
      "Epoch 600/600, Loss: 0.067142\n",
      "MAPE: 80.311351%\n",
      "TRAINING FINISHED\n",
      "Epoch 600/600, Loss: 0.052144\n",
      "MAPE: 73.088165%\n",
      "TRAINING FINISHED\n",
      "Epoch 700/700, Loss: 0.047177\n",
      "MAPE: 74.765836%\n",
      "TRAINING FINISHED\n",
      "Epoch 700/700, Loss: 0.026812\n",
      "MAPE: 46.447350%\n",
      "TRAINING FINISHED\n",
      "Epoch 700/700, Loss: 0.017458\n",
      "MAPE: 38.788170%\n",
      "TRAINING FINISHED\n",
      "Epoch 700/700, Loss: 0.027061\n",
      "MAPE: 49.280304%\n",
      "TRAINING FINISHED\n",
      "Epoch 700/700, Loss: 0.048438\n",
      "MAPE: 69.246680%\n",
      "TRAINING FINISHED\n",
      "Epoch 800/800, Loss: 0.019847\n",
      "MAPE: 44.196812%\n",
      "TRAINING FINISHED\n",
      "Epoch 800/800, Loss: 0.044917\n",
      "MAPE: 57.010201%\n",
      "TRAINING FINISHED\n",
      "Epoch 800/800, Loss: 0.020370\n",
      "MAPE: 39.214721%\n",
      "TRAINING FINISHED\n",
      "Epoch 800/800, Loss: 0.041860\n",
      "MAPE: 62.625836%\n",
      "TRAINING FINISHED\n",
      "Epoch 800/800, Loss: 0.019868\n",
      "MAPE: 42.060810%\n",
      "TRAINING FINISHED\n",
      "Epoch 900/900, Loss: 0.033731\n",
      "MAPE: 60.523275%\n",
      "TRAINING FINISHED\n",
      "Epoch 900/900, Loss: 0.009354\n",
      "MAPE: 20.293837%\n",
      "TRAINING FINISHED\n",
      "Epoch 900/900, Loss: 0.005876\n",
      "MAPE: 20.105377%\n",
      "TRAINING FINISHED\n",
      "Epoch 900/900, Loss: 0.018560\n",
      "MAPE: 44.117611%\n",
      "TRAINING FINISHED\n",
      "Epoch 900/900, Loss: 0.019398\n",
      "MAPE: 34.631955%\n",
      "TRAINING FINISHED\n",
      "Epoch 1000/1000, Loss: 0.004859\n",
      "MAPE: 19.529832%\n",
      "TRAINING FINISHED\n",
      "Epoch 1000/1000, Loss: 0.008779\n",
      "MAPE: 20.593060%\n",
      "TRAINING FINISHED\n",
      "Epoch 1000/1000, Loss: 0.011996\n",
      "MAPE: 30.947063%\n",
      "TRAINING FINISHED\n",
      "Epoch 1000/1000, Loss: 0.003173\n",
      "MAPE: 11.846464%\n",
      "TRAINING FINISHED\n",
      "Epoch 1000/1000, Loss: 0.003819\n",
      "MAPE: 13.127706%\n",
      "TRAINING FINISHED\n",
      "Epoch 1100/1100, Loss: 0.009615\n",
      "MAPE: 20.298626%\n",
      "TRAINING FINISHED\n",
      "Epoch 1100/1100, Loss: 0.004595\n",
      "MAPE: 15.852590%\n",
      "TRAINING FINISHED\n",
      "Epoch 1100/1100, Loss: 0.009356\n",
      "MAPE: 26.642217%\n",
      "TRAINING FINISHED\n",
      "Epoch 1100/1100, Loss: 0.002959\n",
      "MAPE: 13.666399%\n",
      "TRAINING FINISHED\n",
      "Epoch 1100/1100, Loss: 0.014218\n",
      "MAPE: 32.502959%\n",
      "TRAINING FINISHED\n",
      "Epoch 1200/1200, Loss: 0.007580\n",
      "MAPE: 16.060492%\n",
      "TRAINING FINISHED\n",
      "Epoch 1200/1200, Loss: 0.006008\n",
      "MAPE: 14.985290%\n",
      "TRAINING FINISHED\n",
      "Epoch 1200/1200, Loss: 0.001914\n",
      "MAPE: 12.514964%\n",
      "TRAINING FINISHED\n",
      "Epoch 1200/1200, Loss: 0.007328\n",
      "MAPE: 20.759679%\n",
      "TRAINING FINISHED\n",
      "Epoch 1200/1200, Loss: 0.006282\n",
      "MAPE: 19.300900%\n",
      "TRAINING FINISHED\n",
      "Epoch 1300/1300, Loss: 0.010084\n",
      "MAPE: 21.435851%\n",
      "TRAINING FINISHED\n",
      "Epoch 1300/1300, Loss: 0.001763\n",
      "MAPE: 10.476079%\n",
      "TRAINING FINISHED\n",
      "Epoch 1300/1300, Loss: 0.006584\n",
      "MAPE: 20.363464%\n",
      "TRAINING FINISHED\n",
      "Epoch 1300/1300, Loss: 0.002740\n",
      "MAPE: 10.251177%\n",
      "TRAINING FINISHED\n",
      "Epoch 1300/1300, Loss: 0.008432\n",
      "MAPE: 20.920690%\n",
      "TRAINING FINISHED\n",
      "Epoch 1400/1400, Loss: 0.003706\n",
      "MAPE: 19.605313%\n",
      "TRAINING FINISHED\n",
      "Epoch 1400/1400, Loss: 0.004867\n",
      "MAPE: 15.755719%\n",
      "TRAINING FINISHED\n",
      "Epoch 1400/1400, Loss: 0.006640\n",
      "MAPE: 16.308396%\n",
      "TRAINING FINISHED\n",
      "Epoch 1400/1400, Loss: 0.004900\n",
      "MAPE: 15.741445%\n",
      "TRAINING FINISHED\n",
      "Epoch 1400/1400, Loss: 0.003878\n",
      "MAPE: 14.410991%\n",
      "TRAINING FINISHED\n",
      "Epoch 1500/1500, Loss: 0.003312\n",
      "MAPE: 12.089682%\n",
      "TRAINING FINISHED\n",
      "Epoch 1500/1500, Loss: 0.006890\n",
      "MAPE: 16.984737%\n",
      "TRAINING FINISHED\n",
      "Epoch 1500/1500, Loss: 0.006614\n",
      "MAPE: 21.155944%\n",
      "TRAINING FINISHED\n",
      "Epoch 1500/1500, Loss: 0.005785\n",
      "MAPE: 18.779298%\n",
      "TRAINING FINISHED\n",
      "Epoch 1500/1500, Loss: 0.011833\n",
      "MAPE: 21.877473%\n",
      "TRAINING FINISHED\n",
      "Epoch 1600/1600, Loss: 0.008709\n",
      "MAPE: 22.645741%\n",
      "TRAINING FINISHED\n",
      "Epoch 1600/1600, Loss: 0.004091\n",
      "MAPE: 12.022602%\n",
      "TRAINING FINISHED\n",
      "Epoch 1600/1600, Loss: 0.002650\n",
      "MAPE: 8.875928%\n",
      "TRAINING FINISHED\n",
      "Epoch 1600/1600, Loss: 0.005043\n",
      "MAPE: 14.866835%\n",
      "TRAINING FINISHED\n",
      "Epoch 1600/1600, Loss: 0.001973\n",
      "MAPE: 11.298625%\n",
      "TRAINING FINISHED\n",
      "Epoch 1700/1700, Loss: 0.001362\n",
      "MAPE: 8.350381%\n",
      "TRAINING FINISHED\n",
      "Epoch 1700/1700, Loss: 0.005934\n",
      "MAPE: 16.311029%\n",
      "TRAINING FINISHED\n",
      "Epoch 1700/1700, Loss: 0.005841\n",
      "MAPE: 15.885721%\n",
      "TRAINING FINISHED\n",
      "Epoch 1700/1700, Loss: 0.004996\n",
      "MAPE: 14.498099%\n",
      "TRAINING FINISHED\n",
      "Epoch 1700/1700, Loss: 0.002118\n",
      "MAPE: 10.932389%\n",
      "TRAINING FINISHED\n",
      "Epoch 1800/1800, Loss: 0.002225\n",
      "MAPE: 11.155840%\n",
      "TRAINING FINISHED\n",
      "Epoch 1800/1800, Loss: 0.004435\n",
      "MAPE: 11.669383%\n",
      "TRAINING FINISHED\n",
      "Epoch 1800/1800, Loss: 0.008758\n",
      "MAPE: 19.844436%\n",
      "TRAINING FINISHED\n",
      "Epoch 1800/1800, Loss: 0.010237\n",
      "MAPE: 16.334721%\n",
      "TRAINING FINISHED\n",
      "Epoch 1800/1800, Loss: 0.003136\n",
      "MAPE: 14.292693%\n",
      "TRAINING FINISHED\n",
      "Epoch 1900/1900, Loss: 0.001528\n",
      "MAPE: 11.566041%\n",
      "TRAINING FINISHED\n",
      "Epoch 1900/1900, Loss: 0.004168\n",
      "MAPE: 12.108135%\n",
      "TRAINING FINISHED\n",
      "Epoch 1900/1900, Loss: 0.007557\n",
      "MAPE: 16.436494%\n",
      "TRAINING FINISHED\n",
      "Epoch 1900/1900, Loss: 0.001530\n",
      "MAPE: 9.646410%\n",
      "TRAINING FINISHED\n",
      "Epoch 1900/1900, Loss: 0.005296\n",
      "MAPE: 14.540729%\n",
      "TRAINING FINISHED\n",
      "Epoch 2000/2000, Loss: 0.004544\n",
      "MAPE: 20.467612%\n",
      "TRAINING FINISHED\n",
      "Epoch 2000/2000, Loss: 0.002254\n",
      "MAPE: 13.119634%\n",
      "TRAINING FINISHED\n",
      "Epoch 2000/2000, Loss: 0.005001\n",
      "MAPE: 19.812889%\n",
      "TRAINING FINISHED\n",
      "Epoch 2000/2000, Loss: 0.001479\n",
      "MAPE: 11.993861%\n",
      "TRAINING FINISHED\n",
      "Epoch 2000/2000, Loss: 0.003184\n",
      "MAPE: 9.790485%\n"
     ]
    }
   ],
   "source": [
    "experiments_amount = 5\n",
    "# epochs = np.linspace(1000, 35000, endpoint=True, num=10).astype(np.int32).tolist()\n",
    "epochs = list(range(100, 2100, 100))\n",
    "\n",
    "# np.random.seed(12345)\n",
    "\n",
    "all_mapes = []\n",
    "mapes_mean = []\n",
    "\n",
    "all_epochs: list[int] = []\n",
    "\n",
    "seq_length = 20\n",
    "window_size = 5\n",
    "batch_size = 8\n",
    "hidden_size = 6\n",
    "output_size = 3\n",
    "\n",
    "verbosity = 100000\n",
    "lr = 1e-2\n",
    "use_adam = False\n",
    "\n",
    "sequence = list(arithmetic_progression(seq_length + output_size, 1, 1))\n",
    "\n",
    "for max_epochs in epochs:    \n",
    "\n",
    "    # Training network for five times\n",
    "    mapes_sum = 0    \n",
    "    for _ in range(experiments_amount):        \n",
    "        train_sequence = sequence[:seq_length]\n",
    "        test_sequence = sequence[-output_size:]\n",
    "        training_mape, model, next_n_pred, mean, deviation = predict_next_n_elements(\n",
    "            train_sequence, window_size, batch_size,\n",
    "            hidden_size, output_size, max_epochs,\n",
    "            verbosity, lr, use_adam=use_adam\n",
    "        )\n",
    "        all_epochs.append(max_epochs)\n",
    "\n",
    "        # Test sequence mape\n",
    "        test_sequence = sequence[-output_size:]\n",
    "        test_mape = mape(test_sequence, next_n_pred)\n",
    "        mapes_sum += test_mape    \n",
    "        all_mapes.append(test_mape)\n",
    "            \n",
    "\n",
    "    # Average mape for epochs amount\n",
    "    mapes_mean.append(mapes_sum / experiments_amount)"
   ]
  },
  {
   "cell_type": "code",
   "execution_count": 8,
   "metadata": {},
   "outputs": [
    {
     "data": {
      "application/vnd.plotly.v1+json": {
       "config": {
        "plotlyServerURL": "https://plot.ly"
       },
       "data": [
        {
         "mode": "markers",
         "name": "Все наблюдения",
         "type": "scatter",
         "x": [
          100,
          100,
          100,
          100,
          100,
          200,
          200,
          200,
          200,
          200,
          300,
          300,
          300,
          300,
          300,
          400,
          400,
          400,
          400,
          400,
          500,
          500,
          500,
          500,
          500,
          600,
          600,
          600,
          600,
          600,
          700,
          700,
          700,
          700,
          700,
          800,
          800,
          800,
          800,
          800,
          900,
          900,
          900,
          900,
          900,
          1000,
          1000,
          1000,
          1000,
          1000,
          1100,
          1100,
          1100,
          1100,
          1100,
          1200,
          1200,
          1200,
          1200,
          1200,
          1300,
          1300,
          1300,
          1300,
          1300,
          1400,
          1400,
          1400,
          1400,
          1400,
          1500,
          1500,
          1500,
          1500,
          1500,
          1600,
          1600,
          1600,
          1600,
          1600,
          1700,
          1700,
          1700,
          1700,
          1700,
          1800,
          1800,
          1800,
          1800,
          1800,
          1900,
          1900,
          1900,
          1900,
          1900,
          2000,
          2000,
          2000,
          2000,
          2000
         ],
         "y": [
          0.49417973566388745,
          0.4139592273999333,
          0.4344868728403557,
          0.4165648315227795,
          0.44814937027537205,
          0.39328040489440425,
          0.3905123959770329,
          0.3209097608707618,
          0.38287088733959423,
          0.33957733080908786,
          0.31108920731204326,
          0.29671272338157006,
          0.3173832230078785,
          0.19789639750852217,
          0.33050016773269375,
          0.3210622861540833,
          0.2968822671632555,
          0.3473496775682463,
          0.21794233258222254,
          0.3243448411271944,
          0.21863228107353228,
          0.18647976010860348,
          0.16273087167405628,
          0.20969569925563772,
          0.1729305537704983,
          0.15541278274736572,
          0.09247032673630151,
          0.2105741140035551,
          0.13763161097156074,
          0.16498953087698515,
          0.1245104396178981,
          0.10590047254876798,
          0.05761985678067157,
          0.12838937577858958,
          0.14500565439543414,
          0.15728087596814755,
          0.13031577987494636,
          0.08117657196544846,
          0.16290871587976377,
          0.09170171669264365,
          0.10348170136930977,
          0.05489468040701453,
          0.047084042812214455,
          0.08832847810271878,
          0.011930108338759743,
          0.05602209108082155,
          0.03476973518843698,
          0.052587253972352956,
          0.0445752508969788,
          0.06330295847701993,
          0.010940750183772939,
          0.04096875965534685,
          0.044965069241658655,
          0.050320221611345105,
          0.027033563433679367,
          0.00325573598598961,
          0.022603458327628823,
          0.08403163499322902,
          0.04910628509321243,
          0.006231578310240571,
          0.02208756952872214,
          0.039942747331179716,
          0.051144036799219805,
          0.0437660846882466,
          0.024990758912413546,
          0.042577835583581684,
          0.03594652487316996,
          0.02295225243795383,
          0.018267092244482513,
          0.018630150183875076,
          0.025774921721267538,
          0.01240349997630169,
          0.011778474762397009,
          0.09327982968552939,
          0.011671803801883507,
          0.028835876153535986,
          0.021442214886799916,
          0.07734002894759175,
          0.0020128484728947817,
          0.04037910007507615,
          0.07387432361685335,
          0.013810745845229039,
          0.02116461236918493,
          0.012735555406236351,
          0.06920548289170599,
          0.023115062855176,
          0.027930583619472368,
          0.026876383767454343,
          0.018611612746708625,
          0.07150142317056452,
          0.03464613393762802,
          0.04272701084072953,
          0.013996919119010099,
          0.04963468630119953,
          0.0017570920013319415,
          0.025621351907896536,
          0.028322443557491264,
          0.017343010148698688,
          0.06398351502290865,
          0.040374345584312195
         ]
        },
        {
         "mode": "lines+markers",
         "name": "Средние значения",
         "type": "scatter",
         "x": [
          100,
          200,
          300,
          400,
          500,
          600,
          700,
          800,
          900,
          1000,
          1100,
          1200,
          1300,
          1400,
          1500,
          1600,
          1700,
          1800,
          1900,
          2000
         ],
         "y": [
          0.44146800754046556,
          0.36543015597817624,
          0.29071634378854155,
          0.3015162809190004,
          0.1900938331764656,
          0.15221567306715364,
          0.11228515982427227,
          0.12467673207618994,
          0.06114380220600345,
          0.05025145792312204,
          0.03484567282516058,
          0.033045738542060096,
          0.03638623945195636,
          0.027674771064612615,
          0.030981705989475826,
          0.034002013707179715,
          0.03815814402584193,
          0.03360701323187517,
          0.028552368439979825,
          0.03512893324426146
         ]
        }
       ],
       "layout": {
        "font": {
         "size": 20
        },
        "height": 720,
        "template": {
         "data": {
          "bar": [
           {
            "error_x": {
             "color": "#2a3f5f"
            },
            "error_y": {
             "color": "#2a3f5f"
            },
            "marker": {
             "line": {
              "color": "#E5ECF6",
              "width": 0.5
             },
             "pattern": {
              "fillmode": "overlay",
              "size": 10,
              "solidity": 0.2
             }
            },
            "type": "bar"
           }
          ],
          "barpolar": [
           {
            "marker": {
             "line": {
              "color": "#E5ECF6",
              "width": 0.5
             },
             "pattern": {
              "fillmode": "overlay",
              "size": 10,
              "solidity": 0.2
             }
            },
            "type": "barpolar"
           }
          ],
          "carpet": [
           {
            "aaxis": {
             "endlinecolor": "#2a3f5f",
             "gridcolor": "white",
             "linecolor": "white",
             "minorgridcolor": "white",
             "startlinecolor": "#2a3f5f"
            },
            "baxis": {
             "endlinecolor": "#2a3f5f",
             "gridcolor": "white",
             "linecolor": "white",
             "minorgridcolor": "white",
             "startlinecolor": "#2a3f5f"
            },
            "type": "carpet"
           }
          ],
          "choropleth": [
           {
            "colorbar": {
             "outlinewidth": 0,
             "ticks": ""
            },
            "type": "choropleth"
           }
          ],
          "contour": [
           {
            "colorbar": {
             "outlinewidth": 0,
             "ticks": ""
            },
            "colorscale": [
             [
              0,
              "#0d0887"
             ],
             [
              0.1111111111111111,
              "#46039f"
             ],
             [
              0.2222222222222222,
              "#7201a8"
             ],
             [
              0.3333333333333333,
              "#9c179e"
             ],
             [
              0.4444444444444444,
              "#bd3786"
             ],
             [
              0.5555555555555556,
              "#d8576b"
             ],
             [
              0.6666666666666666,
              "#ed7953"
             ],
             [
              0.7777777777777778,
              "#fb9f3a"
             ],
             [
              0.8888888888888888,
              "#fdca26"
             ],
             [
              1,
              "#f0f921"
             ]
            ],
            "type": "contour"
           }
          ],
          "contourcarpet": [
           {
            "colorbar": {
             "outlinewidth": 0,
             "ticks": ""
            },
            "type": "contourcarpet"
           }
          ],
          "heatmap": [
           {
            "colorbar": {
             "outlinewidth": 0,
             "ticks": ""
            },
            "colorscale": [
             [
              0,
              "#0d0887"
             ],
             [
              0.1111111111111111,
              "#46039f"
             ],
             [
              0.2222222222222222,
              "#7201a8"
             ],
             [
              0.3333333333333333,
              "#9c179e"
             ],
             [
              0.4444444444444444,
              "#bd3786"
             ],
             [
              0.5555555555555556,
              "#d8576b"
             ],
             [
              0.6666666666666666,
              "#ed7953"
             ],
             [
              0.7777777777777778,
              "#fb9f3a"
             ],
             [
              0.8888888888888888,
              "#fdca26"
             ],
             [
              1,
              "#f0f921"
             ]
            ],
            "type": "heatmap"
           }
          ],
          "heatmapgl": [
           {
            "colorbar": {
             "outlinewidth": 0,
             "ticks": ""
            },
            "colorscale": [
             [
              0,
              "#0d0887"
             ],
             [
              0.1111111111111111,
              "#46039f"
             ],
             [
              0.2222222222222222,
              "#7201a8"
             ],
             [
              0.3333333333333333,
              "#9c179e"
             ],
             [
              0.4444444444444444,
              "#bd3786"
             ],
             [
              0.5555555555555556,
              "#d8576b"
             ],
             [
              0.6666666666666666,
              "#ed7953"
             ],
             [
              0.7777777777777778,
              "#fb9f3a"
             ],
             [
              0.8888888888888888,
              "#fdca26"
             ],
             [
              1,
              "#f0f921"
             ]
            ],
            "type": "heatmapgl"
           }
          ],
          "histogram": [
           {
            "marker": {
             "pattern": {
              "fillmode": "overlay",
              "size": 10,
              "solidity": 0.2
             }
            },
            "type": "histogram"
           }
          ],
          "histogram2d": [
           {
            "colorbar": {
             "outlinewidth": 0,
             "ticks": ""
            },
            "colorscale": [
             [
              0,
              "#0d0887"
             ],
             [
              0.1111111111111111,
              "#46039f"
             ],
             [
              0.2222222222222222,
              "#7201a8"
             ],
             [
              0.3333333333333333,
              "#9c179e"
             ],
             [
              0.4444444444444444,
              "#bd3786"
             ],
             [
              0.5555555555555556,
              "#d8576b"
             ],
             [
              0.6666666666666666,
              "#ed7953"
             ],
             [
              0.7777777777777778,
              "#fb9f3a"
             ],
             [
              0.8888888888888888,
              "#fdca26"
             ],
             [
              1,
              "#f0f921"
             ]
            ],
            "type": "histogram2d"
           }
          ],
          "histogram2dcontour": [
           {
            "colorbar": {
             "outlinewidth": 0,
             "ticks": ""
            },
            "colorscale": [
             [
              0,
              "#0d0887"
             ],
             [
              0.1111111111111111,
              "#46039f"
             ],
             [
              0.2222222222222222,
              "#7201a8"
             ],
             [
              0.3333333333333333,
              "#9c179e"
             ],
             [
              0.4444444444444444,
              "#bd3786"
             ],
             [
              0.5555555555555556,
              "#d8576b"
             ],
             [
              0.6666666666666666,
              "#ed7953"
             ],
             [
              0.7777777777777778,
              "#fb9f3a"
             ],
             [
              0.8888888888888888,
              "#fdca26"
             ],
             [
              1,
              "#f0f921"
             ]
            ],
            "type": "histogram2dcontour"
           }
          ],
          "mesh3d": [
           {
            "colorbar": {
             "outlinewidth": 0,
             "ticks": ""
            },
            "type": "mesh3d"
           }
          ],
          "parcoords": [
           {
            "line": {
             "colorbar": {
              "outlinewidth": 0,
              "ticks": ""
             }
            },
            "type": "parcoords"
           }
          ],
          "pie": [
           {
            "automargin": true,
            "type": "pie"
           }
          ],
          "scatter": [
           {
            "fillpattern": {
             "fillmode": "overlay",
             "size": 10,
             "solidity": 0.2
            },
            "type": "scatter"
           }
          ],
          "scatter3d": [
           {
            "line": {
             "colorbar": {
              "outlinewidth": 0,
              "ticks": ""
             }
            },
            "marker": {
             "colorbar": {
              "outlinewidth": 0,
              "ticks": ""
             }
            },
            "type": "scatter3d"
           }
          ],
          "scattercarpet": [
           {
            "marker": {
             "colorbar": {
              "outlinewidth": 0,
              "ticks": ""
             }
            },
            "type": "scattercarpet"
           }
          ],
          "scattergeo": [
           {
            "marker": {
             "colorbar": {
              "outlinewidth": 0,
              "ticks": ""
             }
            },
            "type": "scattergeo"
           }
          ],
          "scattergl": [
           {
            "marker": {
             "colorbar": {
              "outlinewidth": 0,
              "ticks": ""
             }
            },
            "type": "scattergl"
           }
          ],
          "scattermapbox": [
           {
            "marker": {
             "colorbar": {
              "outlinewidth": 0,
              "ticks": ""
             }
            },
            "type": "scattermapbox"
           }
          ],
          "scatterpolar": [
           {
            "marker": {
             "colorbar": {
              "outlinewidth": 0,
              "ticks": ""
             }
            },
            "type": "scatterpolar"
           }
          ],
          "scatterpolargl": [
           {
            "marker": {
             "colorbar": {
              "outlinewidth": 0,
              "ticks": ""
             }
            },
            "type": "scatterpolargl"
           }
          ],
          "scatterternary": [
           {
            "marker": {
             "colorbar": {
              "outlinewidth": 0,
              "ticks": ""
             }
            },
            "type": "scatterternary"
           }
          ],
          "surface": [
           {
            "colorbar": {
             "outlinewidth": 0,
             "ticks": ""
            },
            "colorscale": [
             [
              0,
              "#0d0887"
             ],
             [
              0.1111111111111111,
              "#46039f"
             ],
             [
              0.2222222222222222,
              "#7201a8"
             ],
             [
              0.3333333333333333,
              "#9c179e"
             ],
             [
              0.4444444444444444,
              "#bd3786"
             ],
             [
              0.5555555555555556,
              "#d8576b"
             ],
             [
              0.6666666666666666,
              "#ed7953"
             ],
             [
              0.7777777777777778,
              "#fb9f3a"
             ],
             [
              0.8888888888888888,
              "#fdca26"
             ],
             [
              1,
              "#f0f921"
             ]
            ],
            "type": "surface"
           }
          ],
          "table": [
           {
            "cells": {
             "fill": {
              "color": "#EBF0F8"
             },
             "line": {
              "color": "white"
             }
            },
            "header": {
             "fill": {
              "color": "#C8D4E3"
             },
             "line": {
              "color": "white"
             }
            },
            "type": "table"
           }
          ]
         },
         "layout": {
          "annotationdefaults": {
           "arrowcolor": "#2a3f5f",
           "arrowhead": 0,
           "arrowwidth": 1
          },
          "autotypenumbers": "strict",
          "coloraxis": {
           "colorbar": {
            "outlinewidth": 0,
            "ticks": ""
           }
          },
          "colorscale": {
           "diverging": [
            [
             0,
             "#8e0152"
            ],
            [
             0.1,
             "#c51b7d"
            ],
            [
             0.2,
             "#de77ae"
            ],
            [
             0.3,
             "#f1b6da"
            ],
            [
             0.4,
             "#fde0ef"
            ],
            [
             0.5,
             "#f7f7f7"
            ],
            [
             0.6,
             "#e6f5d0"
            ],
            [
             0.7,
             "#b8e186"
            ],
            [
             0.8,
             "#7fbc41"
            ],
            [
             0.9,
             "#4d9221"
            ],
            [
             1,
             "#276419"
            ]
           ],
           "sequential": [
            [
             0,
             "#0d0887"
            ],
            [
             0.1111111111111111,
             "#46039f"
            ],
            [
             0.2222222222222222,
             "#7201a8"
            ],
            [
             0.3333333333333333,
             "#9c179e"
            ],
            [
             0.4444444444444444,
             "#bd3786"
            ],
            [
             0.5555555555555556,
             "#d8576b"
            ],
            [
             0.6666666666666666,
             "#ed7953"
            ],
            [
             0.7777777777777778,
             "#fb9f3a"
            ],
            [
             0.8888888888888888,
             "#fdca26"
            ],
            [
             1,
             "#f0f921"
            ]
           ],
           "sequentialminus": [
            [
             0,
             "#0d0887"
            ],
            [
             0.1111111111111111,
             "#46039f"
            ],
            [
             0.2222222222222222,
             "#7201a8"
            ],
            [
             0.3333333333333333,
             "#9c179e"
            ],
            [
             0.4444444444444444,
             "#bd3786"
            ],
            [
             0.5555555555555556,
             "#d8576b"
            ],
            [
             0.6666666666666666,
             "#ed7953"
            ],
            [
             0.7777777777777778,
             "#fb9f3a"
            ],
            [
             0.8888888888888888,
             "#fdca26"
            ],
            [
             1,
             "#f0f921"
            ]
           ]
          },
          "colorway": [
           "#636efa",
           "#EF553B",
           "#00cc96",
           "#ab63fa",
           "#FFA15A",
           "#19d3f3",
           "#FF6692",
           "#B6E880",
           "#FF97FF",
           "#FECB52"
          ],
          "font": {
           "color": "#2a3f5f"
          },
          "geo": {
           "bgcolor": "white",
           "lakecolor": "white",
           "landcolor": "#E5ECF6",
           "showlakes": true,
           "showland": true,
           "subunitcolor": "white"
          },
          "hoverlabel": {
           "align": "left"
          },
          "hovermode": "closest",
          "mapbox": {
           "style": "light"
          },
          "paper_bgcolor": "white",
          "plot_bgcolor": "#E5ECF6",
          "polar": {
           "angularaxis": {
            "gridcolor": "white",
            "linecolor": "white",
            "ticks": ""
           },
           "bgcolor": "#E5ECF6",
           "radialaxis": {
            "gridcolor": "white",
            "linecolor": "white",
            "ticks": ""
           }
          },
          "scene": {
           "xaxis": {
            "backgroundcolor": "#E5ECF6",
            "gridcolor": "white",
            "gridwidth": 2,
            "linecolor": "white",
            "showbackground": true,
            "ticks": "",
            "zerolinecolor": "white"
           },
           "yaxis": {
            "backgroundcolor": "#E5ECF6",
            "gridcolor": "white",
            "gridwidth": 2,
            "linecolor": "white",
            "showbackground": true,
            "ticks": "",
            "zerolinecolor": "white"
           },
           "zaxis": {
            "backgroundcolor": "#E5ECF6",
            "gridcolor": "white",
            "gridwidth": 2,
            "linecolor": "white",
            "showbackground": true,
            "ticks": "",
            "zerolinecolor": "white"
           }
          },
          "shapedefaults": {
           "line": {
            "color": "#2a3f5f"
           }
          },
          "ternary": {
           "aaxis": {
            "gridcolor": "white",
            "linecolor": "white",
            "ticks": ""
           },
           "baxis": {
            "gridcolor": "white",
            "linecolor": "white",
            "ticks": ""
           },
           "bgcolor": "#E5ECF6",
           "caxis": {
            "gridcolor": "white",
            "linecolor": "white",
            "ticks": ""
           }
          },
          "title": {
           "x": 0.05
          },
          "xaxis": {
           "automargin": true,
           "gridcolor": "white",
           "linecolor": "white",
           "ticks": "",
           "title": {
            "standoff": 15
           },
           "zerolinecolor": "white",
           "zerolinewidth": 2
          },
          "yaxis": {
           "automargin": true,
           "gridcolor": "white",
           "linecolor": "white",
           "ticks": "",
           "title": {
            "standoff": 15
           },
           "zerolinecolor": "white",
           "zerolinewidth": 2
          }
         }
        },
        "title": {
         "text": "Зависимость средней абсолютной ошибки от количества итераций обучения"
        },
        "width": 1280,
        "xaxis": {
         "title": {
          "text": "Количество итераций обучения"
         }
        },
        "yaxis": {
         "title": {
          "text": "Средняя абсолютная ошибка"
         }
        }
       }
      }
     },
     "metadata": {},
     "output_type": "display_data"
    }
   ],
   "source": [
    "# Plotting results for training epochs amount\n",
    "fig = go.Figure()\n",
    "fig.add_trace(\n",
    "    go.Scatter(x=all_epochs, y=all_mapes,\n",
    "               name='Все наблюдения', mode='markers')\n",
    ")\n",
    "fig.add_trace(\n",
    "    go.Scatter(x=epochs, y=mapes_mean,\n",
    "               name='Средние значения', mode='lines+markers')\n",
    ")\n",
    "fig.update_layout(\n",
    "    title='Зависимость средней абсолютной ошибки от количества итераций обучения',\n",
    "    font=dict(size=20),\n",
    "    xaxis=dict(title='Количество итераций обучения'),\n",
    "    yaxis=dict(title='Средняя абсолютная ошибка'),\n",
    "    width=1280,\n",
    "    height=720\n",
    ")\n",
    "fig.show()"
   ]
  },
  {
   "cell_type": "code",
   "execution_count": 28,
   "metadata": {},
   "outputs": [
    {
     "name": "stdout",
     "output_type": "stream",
     "text": [
      "TRAINING FINISHED\n",
      "Epoch 2000/2000, Loss: 0.042815\n",
      "MAPE: 44.284933%\n",
      "TRAINING FINISHED\n",
      "Epoch 2000/2000, Loss: 0.044593\n",
      "MAPE: 49.558001%\n",
      "TRAINING FINISHED\n",
      "Epoch 2000/2000, Loss: 0.177777\n",
      "MAPE: 106.446637%\n",
      "TRAINING FINISHED\n",
      "Epoch 2000/2000, Loss: 0.009234\n",
      "MAPE: 23.521857%\n",
      "TRAINING FINISHED\n",
      "Epoch 2000/2000, Loss: 0.034403\n",
      "MAPE: 48.483827%\n",
      "TRAINING FINISHED\n",
      "Epoch 2000/2000, Loss: 0.044773\n",
      "MAPE: 58.087223%\n",
      "TRAINING FINISHED\n",
      "Epoch 2000/2000, Loss: 0.060476\n",
      "MAPE: 67.998126%\n",
      "TRAINING FINISHED\n",
      "Epoch 2000/2000, Loss: 0.048140\n",
      "MAPE: 50.757371%\n",
      "TRAINING FINISHED\n",
      "Epoch 2000/2000, Loss: 0.007824\n",
      "MAPE: 15.056716%\n",
      "TRAINING FINISHED\n",
      "Epoch 2000/2000, Loss: 0.012100\n",
      "MAPE: 30.573573%\n",
      "TRAINING FINISHED\n",
      "Epoch 2000/2000, Loss: 0.035981\n",
      "MAPE: 55.978345%\n",
      "TRAINING FINISHED\n",
      "Epoch 2000/2000, Loss: 0.041252\n",
      "MAPE: 60.490237%\n",
      "TRAINING FINISHED\n",
      "Epoch 2000/2000, Loss: 0.041887\n",
      "MAPE: 50.451606%\n",
      "TRAINING FINISHED\n",
      "Epoch 2000/2000, Loss: 0.010883\n",
      "MAPE: 25.161759%\n",
      "TRAINING FINISHED\n",
      "Epoch 2000/2000, Loss: 0.043730\n",
      "MAPE: 55.850394%\n",
      "TRAINING FINISHED\n",
      "Epoch 2000/2000, Loss: 0.012877\n",
      "MAPE: 38.680396%\n",
      "TRAINING FINISHED\n",
      "Epoch 2000/2000, Loss: 0.016114\n",
      "MAPE: 25.278551%\n",
      "TRAINING FINISHED\n",
      "Epoch 2000/2000, Loss: 0.031473\n",
      "MAPE: 49.302488%\n",
      "TRAINING FINISHED\n",
      "Epoch 2000/2000, Loss: 0.010045\n",
      "MAPE: 37.431076%\n",
      "TRAINING FINISHED\n",
      "Epoch 2000/2000, Loss: 0.024285\n",
      "MAPE: 51.041964%\n",
      "TRAINING FINISHED\n",
      "Epoch 2000/2000, Loss: 0.017485\n",
      "MAPE: 31.331824%\n",
      "TRAINING FINISHED\n",
      "Epoch 2000/2000, Loss: 0.016562\n",
      "MAPE: 38.096800%\n",
      "TRAINING FINISHED\n",
      "Epoch 2000/2000, Loss: 0.020213\n",
      "MAPE: 45.443224%\n",
      "TRAINING FINISHED\n",
      "Epoch 2000/2000, Loss: 0.015193\n",
      "MAPE: 32.313059%\n",
      "TRAINING FINISHED\n",
      "Epoch 2000/2000, Loss: 0.008528\n",
      "MAPE: 28.489281%\n",
      "TRAINING FINISHED\n",
      "Epoch 2000/2000, Loss: 0.018815\n",
      "MAPE: 45.352193%\n",
      "TRAINING FINISHED\n",
      "Epoch 2000/2000, Loss: 0.011868\n",
      "MAPE: 31.374699%\n",
      "TRAINING FINISHED\n",
      "Epoch 2000/2000, Loss: 0.024125\n",
      "MAPE: 44.813163%\n",
      "TRAINING FINISHED\n",
      "Epoch 2000/2000, Loss: 0.008918\n",
      "MAPE: 29.476962%\n",
      "TRAINING FINISHED\n",
      "Epoch 2000/2000, Loss: 0.008724\n",
      "MAPE: 23.312267%\n",
      "TRAINING FINISHED\n",
      "Epoch 2000/2000, Loss: 0.011313\n",
      "MAPE: 31.682251%\n",
      "TRAINING FINISHED\n",
      "Epoch 2000/2000, Loss: 0.013527\n",
      "MAPE: 31.755980%\n",
      "TRAINING FINISHED\n",
      "Epoch 2000/2000, Loss: 0.012560\n",
      "MAPE: 35.149611%\n",
      "TRAINING FINISHED\n",
      "Epoch 2000/2000, Loss: 0.021502\n",
      "MAPE: 41.709955%\n",
      "TRAINING FINISHED\n",
      "Epoch 2000/2000, Loss: 0.011805\n",
      "MAPE: 27.456050%\n",
      "TRAINING FINISHED\n",
      "Epoch 2000/2000, Loss: 0.014008\n",
      "MAPE: 35.314053%\n",
      "TRAINING FINISHED\n",
      "Epoch 2000/2000, Loss: 0.010632\n",
      "MAPE: 30.716787%\n",
      "TRAINING FINISHED\n",
      "Epoch 2000/2000, Loss: 0.010313\n",
      "MAPE: 31.451931%\n",
      "TRAINING FINISHED\n",
      "Epoch 2000/2000, Loss: 0.012109\n",
      "MAPE: 37.947395%\n",
      "TRAINING FINISHED\n",
      "Epoch 2000/2000, Loss: 0.032045\n",
      "MAPE: 55.046477%\n",
      "TRAINING FINISHED\n",
      "Epoch 2000/2000, Loss: 0.015911\n",
      "MAPE: 39.794274%\n",
      "TRAINING FINISHED\n",
      "Epoch 2000/2000, Loss: 0.015366\n",
      "MAPE: 34.609616%\n",
      "TRAINING FINISHED\n",
      "Epoch 2000/2000, Loss: 0.020078\n",
      "MAPE: 43.794038%\n",
      "TRAINING FINISHED\n",
      "Epoch 2000/2000, Loss: 0.010475\n",
      "MAPE: 25.005502%\n",
      "TRAINING FINISHED\n",
      "Epoch 2000/2000, Loss: 0.014886\n",
      "MAPE: 35.287418%\n",
      "TRAINING FINISHED\n",
      "Epoch 2000/2000, Loss: 0.014359\n",
      "MAPE: 35.380723%\n",
      "TRAINING FINISHED\n",
      "Epoch 2000/2000, Loss: 0.022439\n",
      "MAPE: 42.834213%\n",
      "TRAINING FINISHED\n",
      "Epoch 2000/2000, Loss: 0.016786\n",
      "MAPE: 40.556240%\n",
      "TRAINING FINISHED\n",
      "Epoch 2000/2000, Loss: 0.015492\n",
      "MAPE: 41.623784%\n",
      "TRAINING FINISHED\n",
      "Epoch 2000/2000, Loss: 0.018340\n",
      "MAPE: 38.153024%\n"
     ]
    }
   ],
   "source": [
    "experiments_amount = 5\n",
    "# epochs = np.linspace(1000, 35000, endpoint=True, num=10).astype(np.int32).tolist()\n",
    "hidden_sizes = list(range(2, 22, 2))\n",
    "\n",
    "# np.random.seed(12345)\n",
    "\n",
    "all_mapes = []\n",
    "mapes_mean = []\n",
    "\n",
    "all_sizes: list[int] = []\n",
    "\n",
    "seq_length = 20\n",
    "window_size = 3\n",
    "batch_size = 8\n",
    "output_size = 3\n",
    "\n",
    "verbosity = 100000\n",
    "lr = 5e-3\n",
    "max_epochs = 2000\n",
    "use_adam = False\n",
    "\n",
    "sequence = list(arithmetic_progression(seq_length + output_size, 1, 1))\n",
    "\n",
    "for size in hidden_sizes:    \n",
    "\n",
    "    # Training network for five times\n",
    "    mapes_sum = 0    \n",
    "    for _ in range(experiments_amount):\n",
    "        all_sizes.append(size)        \n",
    "        \n",
    "        train_sequence = sequence[:seq_length]\n",
    "        test_sequence = sequence[-output_size:]\n",
    "        training_mape, model, next_n_pred, mean, deviation = predict_next_n_elements(\n",
    "            train_sequence, window_size, batch_size,\n",
    "            size, output_size, max_epochs,\n",
    "            verbosity, lr, use_adam=use_adam\n",
    "        )\n",
    "        all_epochs.append(max_epochs)\n",
    "\n",
    "        # Test sequence mape\n",
    "        test_sequence = sequence[-output_size:]\n",
    "        test_mape = mape(test_sequence, next_n_pred)\n",
    "        mapes_sum += test_mape    \n",
    "        all_mapes.append(test_mape)    \n",
    "\n",
    "    # Average mape for epochs amount\n",
    "    mapes_mean.append(mapes_sum / experiments_amount)"
   ]
  },
  {
   "cell_type": "code",
   "execution_count": 29,
   "metadata": {},
   "outputs": [
    {
     "data": {
      "application/vnd.plotly.v1+json": {
       "config": {
        "plotlyServerURL": "https://plot.ly"
       },
       "data": [
        {
         "mode": "markers",
         "name": "Все наблюдения",
         "type": "scatter",
         "x": [
          2,
          2,
          2,
          2,
          2,
          4,
          4,
          4,
          4,
          4,
          6,
          6,
          6,
          6,
          6,
          8,
          8,
          8,
          8,
          8,
          10,
          10,
          10,
          10,
          10,
          12,
          12,
          12,
          12,
          12,
          14,
          14,
          14,
          14,
          14,
          16,
          16,
          16,
          16,
          16,
          18,
          18,
          18,
          18,
          18,
          20,
          20,
          20,
          20,
          20
         ],
         "y": [
          0.15144497815226785,
          0.13140844407874233,
          0.3173238068382758,
          0.07543684050911202,
          0.1467013382495569,
          0.16974029302629015,
          0.18795505083343914,
          0.1292020673379364,
          0.08918438644599114,
          0.14319935666948683,
          0.10020756426740747,
          0.17640602661799107,
          0.151340033229569,
          0.04616005677857809,
          0.19181409158915366,
          0.08412396964378603,
          0.0710987572954445,
          0.1552876558473297,
          0.10086977387277984,
          0.08442544677541051,
          0.04450894288410397,
          0.08604388940461938,
          0.07617241939253988,
          0.06656406260834719,
          0.06765825194606141,
          0.13383414115003747,
          0.04774301305112058,
          0.055055655301136125,
          0.05378959426725175,
          0.03375372080953596,
          0.03976050928009143,
          0.05378072609498444,
          0.07557243633512283,
          0.0335195737131371,
          0.01778628731520188,
          0.04772773126863128,
          0.05338919088791871,
          0.04110505813448009,
          0.08894340654870858,
          0.10433236175009426,
          0.05144459492876616,
          0.03146747887479548,
          0.039944667240177006,
          0.012968207981045726,
          0.0648888583619871,
          0.035947385157374424,
          0.01734531189604426,
          0.08129942244012611,
          0.04090098450289214,
          0.05109215983403709
         ]
        },
        {
         "mode": "lines+markers",
         "name": "Средние значения",
         "type": "scatter",
         "x": [
          2,
          4,
          6,
          8,
          10,
          12,
          14,
          16,
          18,
          20
         ],
         "y": [
          0.16446308156559097,
          0.14385623086262872,
          0.13318555449653985,
          0.09916112068695013,
          0.06818951324713438,
          0.06483522491581638,
          0.04408390654770754,
          0.06709954971796658,
          0.040142761477354294,
          0.04531705276609481
         ]
        }
       ],
       "layout": {
        "font": {
         "size": 20
        },
        "height": 720,
        "template": {
         "data": {
          "bar": [
           {
            "error_x": {
             "color": "#2a3f5f"
            },
            "error_y": {
             "color": "#2a3f5f"
            },
            "marker": {
             "line": {
              "color": "#E5ECF6",
              "width": 0.5
             },
             "pattern": {
              "fillmode": "overlay",
              "size": 10,
              "solidity": 0.2
             }
            },
            "type": "bar"
           }
          ],
          "barpolar": [
           {
            "marker": {
             "line": {
              "color": "#E5ECF6",
              "width": 0.5
             },
             "pattern": {
              "fillmode": "overlay",
              "size": 10,
              "solidity": 0.2
             }
            },
            "type": "barpolar"
           }
          ],
          "carpet": [
           {
            "aaxis": {
             "endlinecolor": "#2a3f5f",
             "gridcolor": "white",
             "linecolor": "white",
             "minorgridcolor": "white",
             "startlinecolor": "#2a3f5f"
            },
            "baxis": {
             "endlinecolor": "#2a3f5f",
             "gridcolor": "white",
             "linecolor": "white",
             "minorgridcolor": "white",
             "startlinecolor": "#2a3f5f"
            },
            "type": "carpet"
           }
          ],
          "choropleth": [
           {
            "colorbar": {
             "outlinewidth": 0,
             "ticks": ""
            },
            "type": "choropleth"
           }
          ],
          "contour": [
           {
            "colorbar": {
             "outlinewidth": 0,
             "ticks": ""
            },
            "colorscale": [
             [
              0,
              "#0d0887"
             ],
             [
              0.1111111111111111,
              "#46039f"
             ],
             [
              0.2222222222222222,
              "#7201a8"
             ],
             [
              0.3333333333333333,
              "#9c179e"
             ],
             [
              0.4444444444444444,
              "#bd3786"
             ],
             [
              0.5555555555555556,
              "#d8576b"
             ],
             [
              0.6666666666666666,
              "#ed7953"
             ],
             [
              0.7777777777777778,
              "#fb9f3a"
             ],
             [
              0.8888888888888888,
              "#fdca26"
             ],
             [
              1,
              "#f0f921"
             ]
            ],
            "type": "contour"
           }
          ],
          "contourcarpet": [
           {
            "colorbar": {
             "outlinewidth": 0,
             "ticks": ""
            },
            "type": "contourcarpet"
           }
          ],
          "heatmap": [
           {
            "colorbar": {
             "outlinewidth": 0,
             "ticks": ""
            },
            "colorscale": [
             [
              0,
              "#0d0887"
             ],
             [
              0.1111111111111111,
              "#46039f"
             ],
             [
              0.2222222222222222,
              "#7201a8"
             ],
             [
              0.3333333333333333,
              "#9c179e"
             ],
             [
              0.4444444444444444,
              "#bd3786"
             ],
             [
              0.5555555555555556,
              "#d8576b"
             ],
             [
              0.6666666666666666,
              "#ed7953"
             ],
             [
              0.7777777777777778,
              "#fb9f3a"
             ],
             [
              0.8888888888888888,
              "#fdca26"
             ],
             [
              1,
              "#f0f921"
             ]
            ],
            "type": "heatmap"
           }
          ],
          "heatmapgl": [
           {
            "colorbar": {
             "outlinewidth": 0,
             "ticks": ""
            },
            "colorscale": [
             [
              0,
              "#0d0887"
             ],
             [
              0.1111111111111111,
              "#46039f"
             ],
             [
              0.2222222222222222,
              "#7201a8"
             ],
             [
              0.3333333333333333,
              "#9c179e"
             ],
             [
              0.4444444444444444,
              "#bd3786"
             ],
             [
              0.5555555555555556,
              "#d8576b"
             ],
             [
              0.6666666666666666,
              "#ed7953"
             ],
             [
              0.7777777777777778,
              "#fb9f3a"
             ],
             [
              0.8888888888888888,
              "#fdca26"
             ],
             [
              1,
              "#f0f921"
             ]
            ],
            "type": "heatmapgl"
           }
          ],
          "histogram": [
           {
            "marker": {
             "pattern": {
              "fillmode": "overlay",
              "size": 10,
              "solidity": 0.2
             }
            },
            "type": "histogram"
           }
          ],
          "histogram2d": [
           {
            "colorbar": {
             "outlinewidth": 0,
             "ticks": ""
            },
            "colorscale": [
             [
              0,
              "#0d0887"
             ],
             [
              0.1111111111111111,
              "#46039f"
             ],
             [
              0.2222222222222222,
              "#7201a8"
             ],
             [
              0.3333333333333333,
              "#9c179e"
             ],
             [
              0.4444444444444444,
              "#bd3786"
             ],
             [
              0.5555555555555556,
              "#d8576b"
             ],
             [
              0.6666666666666666,
              "#ed7953"
             ],
             [
              0.7777777777777778,
              "#fb9f3a"
             ],
             [
              0.8888888888888888,
              "#fdca26"
             ],
             [
              1,
              "#f0f921"
             ]
            ],
            "type": "histogram2d"
           }
          ],
          "histogram2dcontour": [
           {
            "colorbar": {
             "outlinewidth": 0,
             "ticks": ""
            },
            "colorscale": [
             [
              0,
              "#0d0887"
             ],
             [
              0.1111111111111111,
              "#46039f"
             ],
             [
              0.2222222222222222,
              "#7201a8"
             ],
             [
              0.3333333333333333,
              "#9c179e"
             ],
             [
              0.4444444444444444,
              "#bd3786"
             ],
             [
              0.5555555555555556,
              "#d8576b"
             ],
             [
              0.6666666666666666,
              "#ed7953"
             ],
             [
              0.7777777777777778,
              "#fb9f3a"
             ],
             [
              0.8888888888888888,
              "#fdca26"
             ],
             [
              1,
              "#f0f921"
             ]
            ],
            "type": "histogram2dcontour"
           }
          ],
          "mesh3d": [
           {
            "colorbar": {
             "outlinewidth": 0,
             "ticks": ""
            },
            "type": "mesh3d"
           }
          ],
          "parcoords": [
           {
            "line": {
             "colorbar": {
              "outlinewidth": 0,
              "ticks": ""
             }
            },
            "type": "parcoords"
           }
          ],
          "pie": [
           {
            "automargin": true,
            "type": "pie"
           }
          ],
          "scatter": [
           {
            "fillpattern": {
             "fillmode": "overlay",
             "size": 10,
             "solidity": 0.2
            },
            "type": "scatter"
           }
          ],
          "scatter3d": [
           {
            "line": {
             "colorbar": {
              "outlinewidth": 0,
              "ticks": ""
             }
            },
            "marker": {
             "colorbar": {
              "outlinewidth": 0,
              "ticks": ""
             }
            },
            "type": "scatter3d"
           }
          ],
          "scattercarpet": [
           {
            "marker": {
             "colorbar": {
              "outlinewidth": 0,
              "ticks": ""
             }
            },
            "type": "scattercarpet"
           }
          ],
          "scattergeo": [
           {
            "marker": {
             "colorbar": {
              "outlinewidth": 0,
              "ticks": ""
             }
            },
            "type": "scattergeo"
           }
          ],
          "scattergl": [
           {
            "marker": {
             "colorbar": {
              "outlinewidth": 0,
              "ticks": ""
             }
            },
            "type": "scattergl"
           }
          ],
          "scattermapbox": [
           {
            "marker": {
             "colorbar": {
              "outlinewidth": 0,
              "ticks": ""
             }
            },
            "type": "scattermapbox"
           }
          ],
          "scatterpolar": [
           {
            "marker": {
             "colorbar": {
              "outlinewidth": 0,
              "ticks": ""
             }
            },
            "type": "scatterpolar"
           }
          ],
          "scatterpolargl": [
           {
            "marker": {
             "colorbar": {
              "outlinewidth": 0,
              "ticks": ""
             }
            },
            "type": "scatterpolargl"
           }
          ],
          "scatterternary": [
           {
            "marker": {
             "colorbar": {
              "outlinewidth": 0,
              "ticks": ""
             }
            },
            "type": "scatterternary"
           }
          ],
          "surface": [
           {
            "colorbar": {
             "outlinewidth": 0,
             "ticks": ""
            },
            "colorscale": [
             [
              0,
              "#0d0887"
             ],
             [
              0.1111111111111111,
              "#46039f"
             ],
             [
              0.2222222222222222,
              "#7201a8"
             ],
             [
              0.3333333333333333,
              "#9c179e"
             ],
             [
              0.4444444444444444,
              "#bd3786"
             ],
             [
              0.5555555555555556,
              "#d8576b"
             ],
             [
              0.6666666666666666,
              "#ed7953"
             ],
             [
              0.7777777777777778,
              "#fb9f3a"
             ],
             [
              0.8888888888888888,
              "#fdca26"
             ],
             [
              1,
              "#f0f921"
             ]
            ],
            "type": "surface"
           }
          ],
          "table": [
           {
            "cells": {
             "fill": {
              "color": "#EBF0F8"
             },
             "line": {
              "color": "white"
             }
            },
            "header": {
             "fill": {
              "color": "#C8D4E3"
             },
             "line": {
              "color": "white"
             }
            },
            "type": "table"
           }
          ]
         },
         "layout": {
          "annotationdefaults": {
           "arrowcolor": "#2a3f5f",
           "arrowhead": 0,
           "arrowwidth": 1
          },
          "autotypenumbers": "strict",
          "coloraxis": {
           "colorbar": {
            "outlinewidth": 0,
            "ticks": ""
           }
          },
          "colorscale": {
           "diverging": [
            [
             0,
             "#8e0152"
            ],
            [
             0.1,
             "#c51b7d"
            ],
            [
             0.2,
             "#de77ae"
            ],
            [
             0.3,
             "#f1b6da"
            ],
            [
             0.4,
             "#fde0ef"
            ],
            [
             0.5,
             "#f7f7f7"
            ],
            [
             0.6,
             "#e6f5d0"
            ],
            [
             0.7,
             "#b8e186"
            ],
            [
             0.8,
             "#7fbc41"
            ],
            [
             0.9,
             "#4d9221"
            ],
            [
             1,
             "#276419"
            ]
           ],
           "sequential": [
            [
             0,
             "#0d0887"
            ],
            [
             0.1111111111111111,
             "#46039f"
            ],
            [
             0.2222222222222222,
             "#7201a8"
            ],
            [
             0.3333333333333333,
             "#9c179e"
            ],
            [
             0.4444444444444444,
             "#bd3786"
            ],
            [
             0.5555555555555556,
             "#d8576b"
            ],
            [
             0.6666666666666666,
             "#ed7953"
            ],
            [
             0.7777777777777778,
             "#fb9f3a"
            ],
            [
             0.8888888888888888,
             "#fdca26"
            ],
            [
             1,
             "#f0f921"
            ]
           ],
           "sequentialminus": [
            [
             0,
             "#0d0887"
            ],
            [
             0.1111111111111111,
             "#46039f"
            ],
            [
             0.2222222222222222,
             "#7201a8"
            ],
            [
             0.3333333333333333,
             "#9c179e"
            ],
            [
             0.4444444444444444,
             "#bd3786"
            ],
            [
             0.5555555555555556,
             "#d8576b"
            ],
            [
             0.6666666666666666,
             "#ed7953"
            ],
            [
             0.7777777777777778,
             "#fb9f3a"
            ],
            [
             0.8888888888888888,
             "#fdca26"
            ],
            [
             1,
             "#f0f921"
            ]
           ]
          },
          "colorway": [
           "#636efa",
           "#EF553B",
           "#00cc96",
           "#ab63fa",
           "#FFA15A",
           "#19d3f3",
           "#FF6692",
           "#B6E880",
           "#FF97FF",
           "#FECB52"
          ],
          "font": {
           "color": "#2a3f5f"
          },
          "geo": {
           "bgcolor": "white",
           "lakecolor": "white",
           "landcolor": "#E5ECF6",
           "showlakes": true,
           "showland": true,
           "subunitcolor": "white"
          },
          "hoverlabel": {
           "align": "left"
          },
          "hovermode": "closest",
          "mapbox": {
           "style": "light"
          },
          "paper_bgcolor": "white",
          "plot_bgcolor": "#E5ECF6",
          "polar": {
           "angularaxis": {
            "gridcolor": "white",
            "linecolor": "white",
            "ticks": ""
           },
           "bgcolor": "#E5ECF6",
           "radialaxis": {
            "gridcolor": "white",
            "linecolor": "white",
            "ticks": ""
           }
          },
          "scene": {
           "xaxis": {
            "backgroundcolor": "#E5ECF6",
            "gridcolor": "white",
            "gridwidth": 2,
            "linecolor": "white",
            "showbackground": true,
            "ticks": "",
            "zerolinecolor": "white"
           },
           "yaxis": {
            "backgroundcolor": "#E5ECF6",
            "gridcolor": "white",
            "gridwidth": 2,
            "linecolor": "white",
            "showbackground": true,
            "ticks": "",
            "zerolinecolor": "white"
           },
           "zaxis": {
            "backgroundcolor": "#E5ECF6",
            "gridcolor": "white",
            "gridwidth": 2,
            "linecolor": "white",
            "showbackground": true,
            "ticks": "",
            "zerolinecolor": "white"
           }
          },
          "shapedefaults": {
           "line": {
            "color": "#2a3f5f"
           }
          },
          "ternary": {
           "aaxis": {
            "gridcolor": "white",
            "linecolor": "white",
            "ticks": ""
           },
           "baxis": {
            "gridcolor": "white",
            "linecolor": "white",
            "ticks": ""
           },
           "bgcolor": "#E5ECF6",
           "caxis": {
            "gridcolor": "white",
            "linecolor": "white",
            "ticks": ""
           }
          },
          "title": {
           "x": 0.05
          },
          "xaxis": {
           "automargin": true,
           "gridcolor": "white",
           "linecolor": "white",
           "ticks": "",
           "title": {
            "standoff": 15
           },
           "zerolinecolor": "white",
           "zerolinewidth": 2
          },
          "yaxis": {
           "automargin": true,
           "gridcolor": "white",
           "linecolor": "white",
           "ticks": "",
           "title": {
            "standoff": 15
           },
           "zerolinecolor": "white",
           "zerolinewidth": 2
          }
         }
        },
        "title": {
         "text": "Зависимость средней абсолютной ошибки от<br>количества нейронов на скрытом слое"
        },
        "width": 1280,
        "xaxis": {
         "title": {
          "text": "Количество нейронов на скрытом слое"
         }
        },
        "yaxis": {
         "title": {
          "text": "Средняя абсолютная ошибка"
         }
        }
       }
      }
     },
     "metadata": {},
     "output_type": "display_data"
    }
   ],
   "source": [
    "# Plotting results for training epochs amount\n",
    "fig = go.Figure()\n",
    "fig.add_trace(\n",
    "    go.Scatter(x=all_sizes, y=all_mapes,\n",
    "               name='Все наблюдения', mode='markers')\n",
    ")\n",
    "fig.add_trace(\n",
    "    go.Scatter(x=hidden_sizes, y=mapes_mean,\n",
    "               name='Средние значения', mode='lines+markers')\n",
    ")\n",
    "fig.update_layout(\n",
    "    title='Зависимость средней абсолютной ошибки от<br>количества нейронов на скрытом слое',\n",
    "    font=dict(size=20),\n",
    "    xaxis=dict(title='Количество нейронов на скрытом слое'),\n",
    "    yaxis=dict(title='Средняя абсолютная ошибка'),\n",
    "    width=1280,\n",
    "    height=720\n",
    ")\n",
    "fig.show()"
   ]
  },
  {
   "cell_type": "code",
   "execution_count": 60,
   "metadata": {},
   "outputs": [
    {
     "name": "stdout",
     "output_type": "stream",
     "text": [
      "TRAINING FINISHED\n",
      "Epoch 250/250, Loss: 0.048720\n",
      "MAPE: 48.719204%\n",
      "TRAINING FINISHED\n",
      "Epoch 250/250, Loss: 0.035868\n",
      "MAPE: 49.571113%\n",
      "TRAINING FINISHED\n",
      "Epoch 250/250, Loss: 0.091457\n",
      "MAPE: 48.266458%\n",
      "TRAINING FINISHED\n",
      "Epoch 250/250, Loss: 0.048372\n",
      "MAPE: 41.541267%\n",
      "TRAINING FINISHED\n",
      "Epoch 250/250, Loss: 0.111439\n",
      "MAPE: 53.291036%\n",
      "TRAINING FINISHED\n",
      "Epoch 250/250, Loss: 0.022475\n",
      "MAPE: 48.231422%\n",
      "TRAINING FINISHED\n",
      "Epoch 250/250, Loss: 0.036679\n",
      "MAPE: 58.509946%\n",
      "TRAINING FINISHED\n",
      "Epoch 250/250, Loss: 0.052383\n",
      "MAPE: 58.493765%\n",
      "TRAINING FINISHED\n",
      "Epoch 250/250, Loss: 0.037505\n",
      "MAPE: 63.483636%\n",
      "TRAINING FINISHED\n",
      "Epoch 250/250, Loss: 0.058443\n",
      "MAPE: 48.309907%\n",
      "TRAINING FINISHED\n",
      "Epoch 250/250, Loss: 0.029365\n",
      "MAPE: 62.204312%\n",
      "TRAINING FINISHED\n",
      "Epoch 250/250, Loss: 0.023148\n",
      "MAPE: 65.377842%\n",
      "TRAINING FINISHED\n",
      "Epoch 250/250, Loss: 0.035619\n",
      "MAPE: 76.174040%\n",
      "TRAINING FINISHED\n",
      "Epoch 250/250, Loss: 0.030799\n",
      "MAPE: 72.565365%\n",
      "TRAINING FINISHED\n",
      "Epoch 250/250, Loss: 0.040866\n",
      "MAPE: 78.310398%\n",
      "TRAINING FINISHED\n",
      "Epoch 250/250, Loss: 0.029360\n",
      "MAPE: 66.188306%\n",
      "TRAINING FINISHED\n",
      "Epoch 250/250, Loss: 0.041394\n",
      "MAPE: 77.820556%\n",
      "TRAINING FINISHED\n",
      "Epoch 250/250, Loss: 0.018073\n",
      "MAPE: 57.589959%\n",
      "TRAINING FINISHED\n",
      "Epoch 250/250, Loss: 0.047509\n",
      "MAPE: 64.135660%\n",
      "TRAINING FINISHED\n",
      "Epoch 250/250, Loss: 0.024551\n",
      "MAPE: 58.386785%\n",
      "TRAINING FINISHED\n",
      "Epoch 250/250, Loss: 0.024298\n",
      "MAPE: 40.824250%\n",
      "TRAINING FINISHED\n",
      "Epoch 250/250, Loss: 0.016646\n",
      "MAPE: 49.313031%\n",
      "TRAINING FINISHED\n",
      "Epoch 250/250, Loss: 0.030922\n",
      "MAPE: 60.297842%\n",
      "TRAINING FINISHED\n",
      "Epoch 250/250, Loss: 0.012886\n",
      "MAPE: 47.001322%\n",
      "TRAINING FINISHED\n",
      "Epoch 250/250, Loss: 0.036210\n",
      "MAPE: 56.131216%\n",
      "TRAINING FINISHED\n",
      "Epoch 250/250, Loss: 0.029581\n",
      "MAPE: 52.915111%\n",
      "TRAINING FINISHED\n",
      "Epoch 250/250, Loss: 0.010904\n",
      "MAPE: 37.239805%\n",
      "TRAINING FINISHED\n",
      "Epoch 250/250, Loss: 0.018260\n",
      "MAPE: 37.183588%\n",
      "TRAINING FINISHED\n",
      "Epoch 250/250, Loss: 0.017585\n",
      "MAPE: 37.939970%\n",
      "TRAINING FINISHED\n",
      "Epoch 250/250, Loss: 0.027596\n",
      "MAPE: 46.492136%\n",
      "TRAINING FINISHED\n",
      "Epoch 250/250, Loss: 0.036154\n",
      "MAPE: 39.129477%\n",
      "TRAINING FINISHED\n",
      "Epoch 250/250, Loss: 0.006493\n",
      "MAPE: 33.126805%\n",
      "TRAINING FINISHED\n",
      "Epoch 250/250, Loss: 0.020536\n",
      "MAPE: 38.804813%\n",
      "TRAINING FINISHED\n",
      "Epoch 250/250, Loss: 0.012977\n",
      "MAPE: 35.210399%\n",
      "TRAINING FINISHED\n",
      "Epoch 250/250, Loss: 0.012103\n",
      "MAPE: 36.452168%\n",
      "TRAINING FINISHED\n",
      "Epoch 250/250, Loss: 0.017234\n",
      "MAPE: 36.098993%\n",
      "TRAINING FINISHED\n",
      "Epoch 250/250, Loss: 0.024273\n",
      "MAPE: 80.603261%\n",
      "TRAINING FINISHED\n",
      "Epoch 250/250, Loss: 0.028712\n",
      "MAPE: 84.244226%\n",
      "TRAINING FINISHED\n",
      "Epoch 250/250, Loss: 0.010925\n",
      "MAPE: 57.242419%\n",
      "TRAINING FINISHED\n",
      "Epoch 250/250, Loss: 0.010154\n",
      "MAPE: 40.823829%\n",
      "TRAINING FINISHED\n",
      "Epoch 250/250, Loss: 0.007607\n",
      "MAPE: 37.389016%\n",
      "TRAINING FINISHED\n",
      "Epoch 250/250, Loss: 0.032763\n",
      "MAPE: 104.138779%\n",
      "TRAINING FINISHED\n",
      "Epoch 250/250, Loss: 0.011336\n",
      "MAPE: 52.487938%\n",
      "TRAINING FINISHED\n",
      "Epoch 250/250, Loss: 0.009425\n",
      "MAPE: 38.263311%\n",
      "TRAINING FINISHED\n",
      "Epoch 250/250, Loss: 0.010794\n",
      "MAPE: 58.396194%\n"
     ]
    }
   ],
   "source": [
    "# MAPE relation with sliding window\n",
    "experiments_amount = 5\n",
    "# epochs = np.linspace(1000, 35000, endpoint=True, num=10).astype(np.int32).tolist()\n",
    "\n",
    "\n",
    "all_mapes = []\n",
    "mapes_mean = []\n",
    "\n",
    "all_sizes: list[int] = []\n",
    "\n",
    "seq_length = 40\n",
    "window_sizes = list(range(2, seq_length // 2, 2))\n",
    "hidden_size = 8\n",
    "batch_size = 1\n",
    "output_size = 3\n",
    "\n",
    "verbosity = 100000\n",
    "lr = 1e-2\n",
    "max_epochs = 250\n",
    "use_adam = False\n",
    "\n",
    "sequence = list(arithmetic_progression(seq_length + output_size, 1, 1))\n",
    "\n",
    "for size in window_sizes:        \n",
    "\n",
    "    # Training network for five times\n",
    "    mapes_sum = 0    \n",
    "    for _ in range(experiments_amount):\n",
    "        all_sizes.append(size)              \n",
    "        \n",
    "        train_sequence = sequence[:seq_length]\n",
    "        test_sequence = sequence[-output_size:]\n",
    "        training_mape, model, next_n_pred, mean, deviation = predict_next_n_elements(\n",
    "            train_sequence, size, batch_size,\n",
    "            hidden_size, output_size, max_epochs,\n",
    "            verbosity, lr, use_adam=use_adam\n",
    "        )\n",
    "        all_epochs.append(max_epochs)\n",
    "        \n",
    "        # Test sequence mape\n",
    "        test_sequence = sequence[-output_size:]\n",
    "        test_mape = mape(test_sequence, next_n_pred)\n",
    "        mapes_sum += test_mape    \n",
    "        all_mapes.append(test_mape)    \n",
    "\n",
    "    # Average mape for epochs amount\n",
    "    mapes_mean.append(mapes_sum / experiments_amount)"
   ]
  },
  {
   "cell_type": "code",
   "execution_count": 61,
   "metadata": {},
   "outputs": [
    {
     "data": {
      "application/vnd.plotly.v1+json": {
       "config": {
        "plotlyServerURL": "https://plot.ly"
       },
       "data": [
        {
         "mode": "markers",
         "name": "Все наблюдения",
         "type": "scatter",
         "x": [
          2,
          2,
          2,
          2,
          2,
          4,
          4,
          4,
          4,
          4,
          6,
          6,
          6,
          6,
          6,
          8,
          8,
          8,
          8,
          8,
          10,
          10,
          10,
          10,
          10,
          12,
          12,
          12,
          12,
          12,
          14,
          14,
          14,
          14,
          14,
          16,
          16,
          16,
          16,
          16,
          18,
          18,
          18,
          18,
          18
         ],
         "y": [
          0.3378196832574383,
          0.3518021384118746,
          0.3543155036555441,
          0.32470321547497427,
          0.3474852471421181,
          0.30259408322968434,
          0.28814137124029066,
          0.3371279639355798,
          0.27410765246570135,
          0.3332986721562415,
          0.3123602797199096,
          0.28662380146145594,
          0.26802913293403896,
          0.31667560946957596,
          0.3058392906975264,
          0.252644904026063,
          0.27688868289485674,
          0.30635364308418184,
          0.30581998367026125,
          0.26660908082110873,
          0.3121317553095901,
          0.2963104904481939,
          0.33759482564608345,
          0.28142692484311294,
          0.2991424915782402,
          0.3016160116456437,
          0.3252631287062508,
          0.29779931955405653,
          0.3123323738685206,
          0.284612536789272,
          0.3156179554260676,
          0.25907566500751483,
          0.2974310156402251,
          0.2923152071679595,
          0.3328009296186935,
          0.33788754536413507,
          0.2998826244536072,
          0.3085946863435987,
          0.2544779681941381,
          0.27538450660604785,
          0.2749200105751242,
          0.30132709348172154,
          0.30366123186786204,
          0.3135015343464253,
          0.27116488428534263
         ]
        },
        {
         "mode": "lines+markers",
         "name": "Средние значения",
         "type": "scatter",
         "x": [
          2,
          4,
          6,
          8,
          10,
          12,
          14,
          16,
          18
         ],
         "y": [
          0.3432251575883899,
          0.3070539486054995,
          0.2979056228565014,
          0.28166325889929433,
          0.3053212975650441,
          0.3043246741127487,
          0.2994481545720921,
          0.29524546619230535,
          0.29291495091129516
         ]
        }
       ],
       "layout": {
        "font": {
         "size": 20
        },
        "height": 720,
        "template": {
         "data": {
          "bar": [
           {
            "error_x": {
             "color": "#2a3f5f"
            },
            "error_y": {
             "color": "#2a3f5f"
            },
            "marker": {
             "line": {
              "color": "#E5ECF6",
              "width": 0.5
             },
             "pattern": {
              "fillmode": "overlay",
              "size": 10,
              "solidity": 0.2
             }
            },
            "type": "bar"
           }
          ],
          "barpolar": [
           {
            "marker": {
             "line": {
              "color": "#E5ECF6",
              "width": 0.5
             },
             "pattern": {
              "fillmode": "overlay",
              "size": 10,
              "solidity": 0.2
             }
            },
            "type": "barpolar"
           }
          ],
          "carpet": [
           {
            "aaxis": {
             "endlinecolor": "#2a3f5f",
             "gridcolor": "white",
             "linecolor": "white",
             "minorgridcolor": "white",
             "startlinecolor": "#2a3f5f"
            },
            "baxis": {
             "endlinecolor": "#2a3f5f",
             "gridcolor": "white",
             "linecolor": "white",
             "minorgridcolor": "white",
             "startlinecolor": "#2a3f5f"
            },
            "type": "carpet"
           }
          ],
          "choropleth": [
           {
            "colorbar": {
             "outlinewidth": 0,
             "ticks": ""
            },
            "type": "choropleth"
           }
          ],
          "contour": [
           {
            "colorbar": {
             "outlinewidth": 0,
             "ticks": ""
            },
            "colorscale": [
             [
              0,
              "#0d0887"
             ],
             [
              0.1111111111111111,
              "#46039f"
             ],
             [
              0.2222222222222222,
              "#7201a8"
             ],
             [
              0.3333333333333333,
              "#9c179e"
             ],
             [
              0.4444444444444444,
              "#bd3786"
             ],
             [
              0.5555555555555556,
              "#d8576b"
             ],
             [
              0.6666666666666666,
              "#ed7953"
             ],
             [
              0.7777777777777778,
              "#fb9f3a"
             ],
             [
              0.8888888888888888,
              "#fdca26"
             ],
             [
              1,
              "#f0f921"
             ]
            ],
            "type": "contour"
           }
          ],
          "contourcarpet": [
           {
            "colorbar": {
             "outlinewidth": 0,
             "ticks": ""
            },
            "type": "contourcarpet"
           }
          ],
          "heatmap": [
           {
            "colorbar": {
             "outlinewidth": 0,
             "ticks": ""
            },
            "colorscale": [
             [
              0,
              "#0d0887"
             ],
             [
              0.1111111111111111,
              "#46039f"
             ],
             [
              0.2222222222222222,
              "#7201a8"
             ],
             [
              0.3333333333333333,
              "#9c179e"
             ],
             [
              0.4444444444444444,
              "#bd3786"
             ],
             [
              0.5555555555555556,
              "#d8576b"
             ],
             [
              0.6666666666666666,
              "#ed7953"
             ],
             [
              0.7777777777777778,
              "#fb9f3a"
             ],
             [
              0.8888888888888888,
              "#fdca26"
             ],
             [
              1,
              "#f0f921"
             ]
            ],
            "type": "heatmap"
           }
          ],
          "heatmapgl": [
           {
            "colorbar": {
             "outlinewidth": 0,
             "ticks": ""
            },
            "colorscale": [
             [
              0,
              "#0d0887"
             ],
             [
              0.1111111111111111,
              "#46039f"
             ],
             [
              0.2222222222222222,
              "#7201a8"
             ],
             [
              0.3333333333333333,
              "#9c179e"
             ],
             [
              0.4444444444444444,
              "#bd3786"
             ],
             [
              0.5555555555555556,
              "#d8576b"
             ],
             [
              0.6666666666666666,
              "#ed7953"
             ],
             [
              0.7777777777777778,
              "#fb9f3a"
             ],
             [
              0.8888888888888888,
              "#fdca26"
             ],
             [
              1,
              "#f0f921"
             ]
            ],
            "type": "heatmapgl"
           }
          ],
          "histogram": [
           {
            "marker": {
             "pattern": {
              "fillmode": "overlay",
              "size": 10,
              "solidity": 0.2
             }
            },
            "type": "histogram"
           }
          ],
          "histogram2d": [
           {
            "colorbar": {
             "outlinewidth": 0,
             "ticks": ""
            },
            "colorscale": [
             [
              0,
              "#0d0887"
             ],
             [
              0.1111111111111111,
              "#46039f"
             ],
             [
              0.2222222222222222,
              "#7201a8"
             ],
             [
              0.3333333333333333,
              "#9c179e"
             ],
             [
              0.4444444444444444,
              "#bd3786"
             ],
             [
              0.5555555555555556,
              "#d8576b"
             ],
             [
              0.6666666666666666,
              "#ed7953"
             ],
             [
              0.7777777777777778,
              "#fb9f3a"
             ],
             [
              0.8888888888888888,
              "#fdca26"
             ],
             [
              1,
              "#f0f921"
             ]
            ],
            "type": "histogram2d"
           }
          ],
          "histogram2dcontour": [
           {
            "colorbar": {
             "outlinewidth": 0,
             "ticks": ""
            },
            "colorscale": [
             [
              0,
              "#0d0887"
             ],
             [
              0.1111111111111111,
              "#46039f"
             ],
             [
              0.2222222222222222,
              "#7201a8"
             ],
             [
              0.3333333333333333,
              "#9c179e"
             ],
             [
              0.4444444444444444,
              "#bd3786"
             ],
             [
              0.5555555555555556,
              "#d8576b"
             ],
             [
              0.6666666666666666,
              "#ed7953"
             ],
             [
              0.7777777777777778,
              "#fb9f3a"
             ],
             [
              0.8888888888888888,
              "#fdca26"
             ],
             [
              1,
              "#f0f921"
             ]
            ],
            "type": "histogram2dcontour"
           }
          ],
          "mesh3d": [
           {
            "colorbar": {
             "outlinewidth": 0,
             "ticks": ""
            },
            "type": "mesh3d"
           }
          ],
          "parcoords": [
           {
            "line": {
             "colorbar": {
              "outlinewidth": 0,
              "ticks": ""
             }
            },
            "type": "parcoords"
           }
          ],
          "pie": [
           {
            "automargin": true,
            "type": "pie"
           }
          ],
          "scatter": [
           {
            "fillpattern": {
             "fillmode": "overlay",
             "size": 10,
             "solidity": 0.2
            },
            "type": "scatter"
           }
          ],
          "scatter3d": [
           {
            "line": {
             "colorbar": {
              "outlinewidth": 0,
              "ticks": ""
             }
            },
            "marker": {
             "colorbar": {
              "outlinewidth": 0,
              "ticks": ""
             }
            },
            "type": "scatter3d"
           }
          ],
          "scattercarpet": [
           {
            "marker": {
             "colorbar": {
              "outlinewidth": 0,
              "ticks": ""
             }
            },
            "type": "scattercarpet"
           }
          ],
          "scattergeo": [
           {
            "marker": {
             "colorbar": {
              "outlinewidth": 0,
              "ticks": ""
             }
            },
            "type": "scattergeo"
           }
          ],
          "scattergl": [
           {
            "marker": {
             "colorbar": {
              "outlinewidth": 0,
              "ticks": ""
             }
            },
            "type": "scattergl"
           }
          ],
          "scattermapbox": [
           {
            "marker": {
             "colorbar": {
              "outlinewidth": 0,
              "ticks": ""
             }
            },
            "type": "scattermapbox"
           }
          ],
          "scatterpolar": [
           {
            "marker": {
             "colorbar": {
              "outlinewidth": 0,
              "ticks": ""
             }
            },
            "type": "scatterpolar"
           }
          ],
          "scatterpolargl": [
           {
            "marker": {
             "colorbar": {
              "outlinewidth": 0,
              "ticks": ""
             }
            },
            "type": "scatterpolargl"
           }
          ],
          "scatterternary": [
           {
            "marker": {
             "colorbar": {
              "outlinewidth": 0,
              "ticks": ""
             }
            },
            "type": "scatterternary"
           }
          ],
          "surface": [
           {
            "colorbar": {
             "outlinewidth": 0,
             "ticks": ""
            },
            "colorscale": [
             [
              0,
              "#0d0887"
             ],
             [
              0.1111111111111111,
              "#46039f"
             ],
             [
              0.2222222222222222,
              "#7201a8"
             ],
             [
              0.3333333333333333,
              "#9c179e"
             ],
             [
              0.4444444444444444,
              "#bd3786"
             ],
             [
              0.5555555555555556,
              "#d8576b"
             ],
             [
              0.6666666666666666,
              "#ed7953"
             ],
             [
              0.7777777777777778,
              "#fb9f3a"
             ],
             [
              0.8888888888888888,
              "#fdca26"
             ],
             [
              1,
              "#f0f921"
             ]
            ],
            "type": "surface"
           }
          ],
          "table": [
           {
            "cells": {
             "fill": {
              "color": "#EBF0F8"
             },
             "line": {
              "color": "white"
             }
            },
            "header": {
             "fill": {
              "color": "#C8D4E3"
             },
             "line": {
              "color": "white"
             }
            },
            "type": "table"
           }
          ]
         },
         "layout": {
          "annotationdefaults": {
           "arrowcolor": "#2a3f5f",
           "arrowhead": 0,
           "arrowwidth": 1
          },
          "autotypenumbers": "strict",
          "coloraxis": {
           "colorbar": {
            "outlinewidth": 0,
            "ticks": ""
           }
          },
          "colorscale": {
           "diverging": [
            [
             0,
             "#8e0152"
            ],
            [
             0.1,
             "#c51b7d"
            ],
            [
             0.2,
             "#de77ae"
            ],
            [
             0.3,
             "#f1b6da"
            ],
            [
             0.4,
             "#fde0ef"
            ],
            [
             0.5,
             "#f7f7f7"
            ],
            [
             0.6,
             "#e6f5d0"
            ],
            [
             0.7,
             "#b8e186"
            ],
            [
             0.8,
             "#7fbc41"
            ],
            [
             0.9,
             "#4d9221"
            ],
            [
             1,
             "#276419"
            ]
           ],
           "sequential": [
            [
             0,
             "#0d0887"
            ],
            [
             0.1111111111111111,
             "#46039f"
            ],
            [
             0.2222222222222222,
             "#7201a8"
            ],
            [
             0.3333333333333333,
             "#9c179e"
            ],
            [
             0.4444444444444444,
             "#bd3786"
            ],
            [
             0.5555555555555556,
             "#d8576b"
            ],
            [
             0.6666666666666666,
             "#ed7953"
            ],
            [
             0.7777777777777778,
             "#fb9f3a"
            ],
            [
             0.8888888888888888,
             "#fdca26"
            ],
            [
             1,
             "#f0f921"
            ]
           ],
           "sequentialminus": [
            [
             0,
             "#0d0887"
            ],
            [
             0.1111111111111111,
             "#46039f"
            ],
            [
             0.2222222222222222,
             "#7201a8"
            ],
            [
             0.3333333333333333,
             "#9c179e"
            ],
            [
             0.4444444444444444,
             "#bd3786"
            ],
            [
             0.5555555555555556,
             "#d8576b"
            ],
            [
             0.6666666666666666,
             "#ed7953"
            ],
            [
             0.7777777777777778,
             "#fb9f3a"
            ],
            [
             0.8888888888888888,
             "#fdca26"
            ],
            [
             1,
             "#f0f921"
            ]
           ]
          },
          "colorway": [
           "#636efa",
           "#EF553B",
           "#00cc96",
           "#ab63fa",
           "#FFA15A",
           "#19d3f3",
           "#FF6692",
           "#B6E880",
           "#FF97FF",
           "#FECB52"
          ],
          "font": {
           "color": "#2a3f5f"
          },
          "geo": {
           "bgcolor": "white",
           "lakecolor": "white",
           "landcolor": "#E5ECF6",
           "showlakes": true,
           "showland": true,
           "subunitcolor": "white"
          },
          "hoverlabel": {
           "align": "left"
          },
          "hovermode": "closest",
          "mapbox": {
           "style": "light"
          },
          "paper_bgcolor": "white",
          "plot_bgcolor": "#E5ECF6",
          "polar": {
           "angularaxis": {
            "gridcolor": "white",
            "linecolor": "white",
            "ticks": ""
           },
           "bgcolor": "#E5ECF6",
           "radialaxis": {
            "gridcolor": "white",
            "linecolor": "white",
            "ticks": ""
           }
          },
          "scene": {
           "xaxis": {
            "backgroundcolor": "#E5ECF6",
            "gridcolor": "white",
            "gridwidth": 2,
            "linecolor": "white",
            "showbackground": true,
            "ticks": "",
            "zerolinecolor": "white"
           },
           "yaxis": {
            "backgroundcolor": "#E5ECF6",
            "gridcolor": "white",
            "gridwidth": 2,
            "linecolor": "white",
            "showbackground": true,
            "ticks": "",
            "zerolinecolor": "white"
           },
           "zaxis": {
            "backgroundcolor": "#E5ECF6",
            "gridcolor": "white",
            "gridwidth": 2,
            "linecolor": "white",
            "showbackground": true,
            "ticks": "",
            "zerolinecolor": "white"
           }
          },
          "shapedefaults": {
           "line": {
            "color": "#2a3f5f"
           }
          },
          "ternary": {
           "aaxis": {
            "gridcolor": "white",
            "linecolor": "white",
            "ticks": ""
           },
           "baxis": {
            "gridcolor": "white",
            "linecolor": "white",
            "ticks": ""
           },
           "bgcolor": "#E5ECF6",
           "caxis": {
            "gridcolor": "white",
            "linecolor": "white",
            "ticks": ""
           }
          },
          "title": {
           "x": 0.05
          },
          "xaxis": {
           "automargin": true,
           "gridcolor": "white",
           "linecolor": "white",
           "ticks": "",
           "title": {
            "standoff": 15
           },
           "zerolinecolor": "white",
           "zerolinewidth": 2
          },
          "yaxis": {
           "automargin": true,
           "gridcolor": "white",
           "linecolor": "white",
           "ticks": "",
           "title": {
            "standoff": 15
           },
           "zerolinecolor": "white",
           "zerolinewidth": 2
          }
         }
        },
        "title": {
         "text": "Зависимость средней абсолютной ошибки от<br>размера скользящего окна"
        },
        "width": 1280,
        "xaxis": {
         "title": {
          "text": "Размер скользящего окна"
         }
        },
        "yaxis": {
         "title": {
          "text": "Средняя абсолютная ошибка"
         }
        }
       }
      }
     },
     "metadata": {},
     "output_type": "display_data"
    }
   ],
   "source": [
    "# Plotting results\n",
    "fig = go.Figure()\n",
    "fig.add_trace(\n",
    "    go.Scatter(x=all_sizes, y=all_mapes,\n",
    "               name='Все наблюдения', mode='markers')\n",
    ")\n",
    "fig.add_trace(\n",
    "    go.Scatter(x=window_sizes, y=mapes_mean,\n",
    "               name='Средние значения', mode='lines+markers')\n",
    ")\n",
    "fig.update_layout(\n",
    "    title='Зависимость средней абсолютной ошибки от<br>размера скользящего окна',\n",
    "    font=dict(size=20),\n",
    "    xaxis=dict(title='Размер скользящего окна'),\n",
    "    yaxis=dict(title='Средняя абсолютная ошибка'),\n",
    "    width=1280,\n",
    "    height=720\n",
    ")\n",
    "fig.show()"
   ]
  },
  {
   "cell_type": "code",
   "execution_count": 30,
   "metadata": {},
   "outputs": [
    {
     "name": "stdout",
     "output_type": "stream",
     "text": [
      "[0, 1, 1, 2, 3, 5, 8, 13, 21, 34, 55, 89, 144, 233, 377, 610, 987, 1597, 2584, 4181, 6765, 10946, 17711]\n",
      "TRAINING FINISHED\n",
      "Epoch 2000/2000, Loss: 0.149528\n",
      "MAPE: 67.347948%\n",
      "TRAINING FINISHED\n",
      "Epoch 2000/2000, Loss: 0.109643\n",
      "MAPE: 58.627691%\n",
      "TRAINING FINISHED\n",
      "Epoch 2000/2000, Loss: 0.144671\n",
      "MAPE: 73.123521%\n",
      "TRAINING FINISHED\n",
      "Epoch 2000/2000, Loss: 0.163122\n",
      "MAPE: 75.305979%\n",
      "TRAINING FINISHED\n",
      "Epoch 2000/2000, Loss: 0.140970\n",
      "MAPE: 64.067471%\n",
      "[1, 4, 9, 16, 25, 36, 49, 64, 81, 100, 121, 144, 169, 196, 225, 256, 289, 324, 361, 400, 441, 484, 529]\n",
      "TRAINING FINISHED\n",
      "Epoch 2000/2000, Loss: 0.004528\n",
      "MAPE: 140.956898%\n",
      "TRAINING FINISHED\n",
      "Epoch 2000/2000, Loss: 0.007529\n",
      "MAPE: 127.546965%\n",
      "TRAINING FINISHED\n",
      "Epoch 2000/2000, Loss: 0.003928\n",
      "MAPE: 168.069053%\n",
      "TRAINING FINISHED\n",
      "Epoch 2000/2000, Loss: 0.002112\n",
      "MAPE: 134.817255%\n",
      "TRAINING FINISHED\n",
      "Epoch 2000/2000, Loss: 0.005674\n",
      "MAPE: 139.169527%\n",
      "[1, 2, 3, 4, 5, 6, 7, 8, 9, 10, 11, 12, 13, 14, 15, 16, 17, 18, 19, 20, 21, 22, 23]\n",
      "TRAINING FINISHED\n",
      "Epoch 2000/2000, Loss: 0.004392\n",
      "MAPE: 15.649975%\n",
      "TRAINING FINISHED\n",
      "Epoch 2000/2000, Loss: 0.003295\n",
      "MAPE: 17.820586%\n",
      "TRAINING FINISHED\n",
      "Epoch 2000/2000, Loss: 0.005342\n",
      "MAPE: 20.994001%\n",
      "TRAINING FINISHED\n",
      "Epoch 2000/2000, Loss: 0.004108\n",
      "MAPE: 15.627041%\n",
      "TRAINING FINISHED\n",
      "Epoch 2000/2000, Loss: 0.000720\n",
      "MAPE: 6.699672%\n",
      "[1.0, 0.5, 0.3333333333333333, 0.25, 0.2, 0.16666666666666666, 0.14285714285714285, 0.125, 0.1111111111111111, 0.1, 0.09090909090909091, 0.08333333333333333, 0.07692307692307693, 0.07142857142857142, 0.06666666666666667, 0.0625, 0.058823529411764705, 0.05555555555555555, 0.05263157894736842, 0.05, 0.047619047619047616, 0.045454545454545456, 0.043478260869565216]\n",
      "TRAINING FINISHED\n",
      "Epoch 2000/2000, Loss: 0.006738\n",
      "MAPE: 46.309484%\n",
      "TRAINING FINISHED\n",
      "Epoch 2000/2000, Loss: 0.004172\n",
      "MAPE: 38.092641%\n",
      "TRAINING FINISHED\n",
      "Epoch 2000/2000, Loss: 0.004796\n",
      "MAPE: 40.972474%\n",
      "TRAINING FINISHED\n",
      "Epoch 2000/2000, Loss: 0.003113\n",
      "MAPE: 29.953941%\n",
      "TRAINING FINISHED\n",
      "Epoch 2000/2000, Loss: 0.005338\n",
      "MAPE: 39.918524%\n",
      "[1, -1, 1, -1, 1, -1, 1, -1, 1, -1, 1, -1, 1, -1, 1, -1, 1, -1, 1, -1, 1, -1, 1]\n",
      "TRAINING FINISHED\n",
      "Epoch 2000/2000, Loss: 0.014471\n",
      "MAPE: 15.886375%\n",
      "TRAINING FINISHED\n",
      "Epoch 2000/2000, Loss: 0.015660\n",
      "MAPE: 16.900500%\n",
      "TRAINING FINISHED\n",
      "Epoch 2000/2000, Loss: 0.016508\n",
      "MAPE: 17.197226%\n",
      "TRAINING FINISHED\n",
      "Epoch 2000/2000, Loss: 0.015073\n",
      "MAPE: 16.291921%\n",
      "TRAINING FINISHED\n",
      "Epoch 2000/2000, Loss: 0.013407\n",
      "MAPE: 15.703606%\n",
      "[1, 0.5, 1, 0.5, 0.5, 1, 0.5, 0.5, 0.5, 1, 0.5, 0.5, 0.5, 0.5, 1, 0.5, 0.5, 0.5, 0.5, 0.5, 1, 0.5, 0.5]\n",
      "TRAINING FINISHED\n",
      "Epoch 2000/2000, Loss: 0.339793\n",
      "MAPE: 71.323412%\n",
      "TRAINING FINISHED\n",
      "Epoch 2000/2000, Loss: 0.321531\n",
      "MAPE: 69.357521%\n",
      "TRAINING FINISHED\n",
      "Epoch 2000/2000, Loss: 0.317223\n",
      "MAPE: 70.210200%\n",
      "TRAINING FINISHED\n",
      "Epoch 2000/2000, Loss: 0.326065\n",
      "MAPE: 69.240542%\n",
      "TRAINING FINISHED\n",
      "Epoch 2000/2000, Loss: 0.316343\n",
      "MAPE: 70.670904%\n"
     ]
    }
   ],
   "source": [
    "# Настройки эксперимента\n",
    "experiments_amount = 5\n",
    "seq_length = 20\n",
    "window_size = 3\n",
    "batch_size = 8\n",
    "hidden_size = 10\n",
    "output_size = 3\n",
    "max_epochs = 2_000\n",
    "verbosity = 100000\n",
    "lr = 1e-2\n",
    "\n",
    "# Словарь с генераторами\n",
    "sequence_generators = {\n",
    "    \"1, 1, 2, 3, 5, 8,...\": lambda n: list(fibonacci_generator(n)),\n",
    "    \"1, 4, 9, 16,...\": lambda n: list(squared_generator(n)),\n",
    "    \"1, 2, 3, 4, 5,...\": lambda n: list(arithmetic_progression(n, a0=1, d=1)),    \n",
    "    \"1, 0.5 ,0.(3), 0.25, 0.2,...\": lambda n: list(one_by_n_generator(n)),\n",
    "    \"1, -1, 1, -1,...\": lambda n: list(plus_one_minus_one_generator(n)),\n",
    "    \"1, 0.5, 1, 0.5, 0.5, 1,...\": lambda n: list(one_half_generator(n)),\n",
    "}\n",
    "\n",
    "all_mapes = []\n",
    "mapes_mean = []\n",
    "all_sequences = []\n",
    "\n",
    "# Тренировка для каждой последовательности\n",
    "for seq_name, seq_generator in sequence_generators.items():\n",
    "    sequence = seq_generator(seq_length + output_size)\n",
    "    print(sequence)   \n",
    "\n",
    "    mapes_sum = 0\n",
    "    for _ in range(experiments_amount):\n",
    "        all_sequences.append(seq_name)\n",
    "        \n",
    "        train_sequence = sequence[:seq_length]\n",
    "        test_sequence = sequence[-output_size:]\n",
    "        training_mape, model, next_n_pred, mean, deviation = predict_next_n_elements(\n",
    "            train_sequence, window_size, batch_size,\n",
    "            hidden_size, output_size, max_epochs,\n",
    "            verbosity, lr, use_adam=use_adam\n",
    "        )\n",
    "        all_epochs.append(max_epochs)\n",
    "        \n",
    "        # Test sequence mape\n",
    "        test_sequence = sequence[-output_size:]\n",
    "        test_mape = mape(test_sequence, next_n_pred)\n",
    "        mapes_sum += test_mape    \n",
    "        all_mapes.append(test_mape)\n",
    "\n",
    "    mapes_mean.append(mapes_sum / experiments_amount)"
   ]
  },
  {
   "cell_type": "code",
   "execution_count": 31,
   "metadata": {},
   "outputs": [
    {
     "data": {
      "application/vnd.plotly.v1+json": {
       "config": {
        "plotlyServerURL": "https://plot.ly"
       },
       "data": [
        {
         "mode": "markers",
         "name": "Все наблюдения",
         "type": "scatter",
         "x": [
          "1, 1, 2, 3, 5, 8,...",
          "1, 1, 2, 3, 5, 8,...",
          "1, 1, 2, 3, 5, 8,...",
          "1, 1, 2, 3, 5, 8,...",
          "1, 1, 2, 3, 5, 8,...",
          "1, 4, 9, 16,...",
          "1, 4, 9, 16,...",
          "1, 4, 9, 16,...",
          "1, 4, 9, 16,...",
          "1, 4, 9, 16,...",
          "1, 2, 3, 4, 5,...",
          "1, 2, 3, 4, 5,...",
          "1, 2, 3, 4, 5,...",
          "1, 2, 3, 4, 5,...",
          "1, 2, 3, 4, 5,...",
          "1, 0.5 ,0.(3), 0.25, 0.2,...",
          "1, 0.5 ,0.(3), 0.25, 0.2,...",
          "1, 0.5 ,0.(3), 0.25, 0.2,...",
          "1, 0.5 ,0.(3), 0.25, 0.2,...",
          "1, 0.5 ,0.(3), 0.25, 0.2,...",
          "1, -1, 1, -1,...",
          "1, -1, 1, -1,...",
          "1, -1, 1, -1,...",
          "1, -1, 1, -1,...",
          "1, -1, 1, -1,...",
          "1, 0.5, 1, 0.5, 0.5, 1,...",
          "1, 0.5, 1, 0.5, 0.5, 1,...",
          "1, 0.5, 1, 0.5, 0.5, 1,...",
          "1, 0.5, 1, 0.5, 0.5, 1,...",
          "1, 0.5, 1, 0.5, 0.5, 1,..."
         ],
         "y": [
          0.7090853409140795,
          0.6345516094670194,
          0.6693102572408941,
          0.6925095499345127,
          0.7107202677192941,
          0.039166006597916254,
          0.01616525685677485,
          0.0759783088490326,
          0.08738718575054048,
          0.046092011506862714,
          0.011846983772525882,
          0.01835911052473825,
          0.018900333389447018,
          0.013032203361952504,
          0.029249920875765594,
          0.6955310132165752,
          0.6294273268946432,
          0.5976133840841156,
          0.5405778606344364,
          0.5745041339762621,
          0.18219259686206976,
          0.19593253270387032,
          0.18750207882507344,
          0.18487404603930116,
          0.17077105910710158,
          0.19760648418921603,
          0.2081480860158873,
          0.17826778925280803,
          0.2058697490477465,
          0.19305233499830354
         ]
        },
        {
         "mode": "markers",
         "name": "Средние значения",
         "type": "scatter",
         "x": [
          "1, 1, 2, 3, 5, 8,...",
          "1, 4, 9, 16,...",
          "1, 2, 3, 4, 5,...",
          "1, 0.5 ,0.(3), 0.25, 0.2,...",
          "1, -1, 1, -1,...",
          "1, 0.5, 1, 0.5, 0.5, 1,..."
         ],
         "y": [
          0.68323540505516,
          0.05295775391222538,
          0.01827771038488585,
          0.6075307437612065,
          0.18425446270748325,
          0.19658888870079227
         ]
        }
       ],
       "layout": {
        "font": {
         "size": 20
        },
        "height": 720,
        "template": {
         "data": {
          "bar": [
           {
            "error_x": {
             "color": "#2a3f5f"
            },
            "error_y": {
             "color": "#2a3f5f"
            },
            "marker": {
             "line": {
              "color": "#E5ECF6",
              "width": 0.5
             },
             "pattern": {
              "fillmode": "overlay",
              "size": 10,
              "solidity": 0.2
             }
            },
            "type": "bar"
           }
          ],
          "barpolar": [
           {
            "marker": {
             "line": {
              "color": "#E5ECF6",
              "width": 0.5
             },
             "pattern": {
              "fillmode": "overlay",
              "size": 10,
              "solidity": 0.2
             }
            },
            "type": "barpolar"
           }
          ],
          "carpet": [
           {
            "aaxis": {
             "endlinecolor": "#2a3f5f",
             "gridcolor": "white",
             "linecolor": "white",
             "minorgridcolor": "white",
             "startlinecolor": "#2a3f5f"
            },
            "baxis": {
             "endlinecolor": "#2a3f5f",
             "gridcolor": "white",
             "linecolor": "white",
             "minorgridcolor": "white",
             "startlinecolor": "#2a3f5f"
            },
            "type": "carpet"
           }
          ],
          "choropleth": [
           {
            "colorbar": {
             "outlinewidth": 0,
             "ticks": ""
            },
            "type": "choropleth"
           }
          ],
          "contour": [
           {
            "colorbar": {
             "outlinewidth": 0,
             "ticks": ""
            },
            "colorscale": [
             [
              0,
              "#0d0887"
             ],
             [
              0.1111111111111111,
              "#46039f"
             ],
             [
              0.2222222222222222,
              "#7201a8"
             ],
             [
              0.3333333333333333,
              "#9c179e"
             ],
             [
              0.4444444444444444,
              "#bd3786"
             ],
             [
              0.5555555555555556,
              "#d8576b"
             ],
             [
              0.6666666666666666,
              "#ed7953"
             ],
             [
              0.7777777777777778,
              "#fb9f3a"
             ],
             [
              0.8888888888888888,
              "#fdca26"
             ],
             [
              1,
              "#f0f921"
             ]
            ],
            "type": "contour"
           }
          ],
          "contourcarpet": [
           {
            "colorbar": {
             "outlinewidth": 0,
             "ticks": ""
            },
            "type": "contourcarpet"
           }
          ],
          "heatmap": [
           {
            "colorbar": {
             "outlinewidth": 0,
             "ticks": ""
            },
            "colorscale": [
             [
              0,
              "#0d0887"
             ],
             [
              0.1111111111111111,
              "#46039f"
             ],
             [
              0.2222222222222222,
              "#7201a8"
             ],
             [
              0.3333333333333333,
              "#9c179e"
             ],
             [
              0.4444444444444444,
              "#bd3786"
             ],
             [
              0.5555555555555556,
              "#d8576b"
             ],
             [
              0.6666666666666666,
              "#ed7953"
             ],
             [
              0.7777777777777778,
              "#fb9f3a"
             ],
             [
              0.8888888888888888,
              "#fdca26"
             ],
             [
              1,
              "#f0f921"
             ]
            ],
            "type": "heatmap"
           }
          ],
          "heatmapgl": [
           {
            "colorbar": {
             "outlinewidth": 0,
             "ticks": ""
            },
            "colorscale": [
             [
              0,
              "#0d0887"
             ],
             [
              0.1111111111111111,
              "#46039f"
             ],
             [
              0.2222222222222222,
              "#7201a8"
             ],
             [
              0.3333333333333333,
              "#9c179e"
             ],
             [
              0.4444444444444444,
              "#bd3786"
             ],
             [
              0.5555555555555556,
              "#d8576b"
             ],
             [
              0.6666666666666666,
              "#ed7953"
             ],
             [
              0.7777777777777778,
              "#fb9f3a"
             ],
             [
              0.8888888888888888,
              "#fdca26"
             ],
             [
              1,
              "#f0f921"
             ]
            ],
            "type": "heatmapgl"
           }
          ],
          "histogram": [
           {
            "marker": {
             "pattern": {
              "fillmode": "overlay",
              "size": 10,
              "solidity": 0.2
             }
            },
            "type": "histogram"
           }
          ],
          "histogram2d": [
           {
            "colorbar": {
             "outlinewidth": 0,
             "ticks": ""
            },
            "colorscale": [
             [
              0,
              "#0d0887"
             ],
             [
              0.1111111111111111,
              "#46039f"
             ],
             [
              0.2222222222222222,
              "#7201a8"
             ],
             [
              0.3333333333333333,
              "#9c179e"
             ],
             [
              0.4444444444444444,
              "#bd3786"
             ],
             [
              0.5555555555555556,
              "#d8576b"
             ],
             [
              0.6666666666666666,
              "#ed7953"
             ],
             [
              0.7777777777777778,
              "#fb9f3a"
             ],
             [
              0.8888888888888888,
              "#fdca26"
             ],
             [
              1,
              "#f0f921"
             ]
            ],
            "type": "histogram2d"
           }
          ],
          "histogram2dcontour": [
           {
            "colorbar": {
             "outlinewidth": 0,
             "ticks": ""
            },
            "colorscale": [
             [
              0,
              "#0d0887"
             ],
             [
              0.1111111111111111,
              "#46039f"
             ],
             [
              0.2222222222222222,
              "#7201a8"
             ],
             [
              0.3333333333333333,
              "#9c179e"
             ],
             [
              0.4444444444444444,
              "#bd3786"
             ],
             [
              0.5555555555555556,
              "#d8576b"
             ],
             [
              0.6666666666666666,
              "#ed7953"
             ],
             [
              0.7777777777777778,
              "#fb9f3a"
             ],
             [
              0.8888888888888888,
              "#fdca26"
             ],
             [
              1,
              "#f0f921"
             ]
            ],
            "type": "histogram2dcontour"
           }
          ],
          "mesh3d": [
           {
            "colorbar": {
             "outlinewidth": 0,
             "ticks": ""
            },
            "type": "mesh3d"
           }
          ],
          "parcoords": [
           {
            "line": {
             "colorbar": {
              "outlinewidth": 0,
              "ticks": ""
             }
            },
            "type": "parcoords"
           }
          ],
          "pie": [
           {
            "automargin": true,
            "type": "pie"
           }
          ],
          "scatter": [
           {
            "fillpattern": {
             "fillmode": "overlay",
             "size": 10,
             "solidity": 0.2
            },
            "type": "scatter"
           }
          ],
          "scatter3d": [
           {
            "line": {
             "colorbar": {
              "outlinewidth": 0,
              "ticks": ""
             }
            },
            "marker": {
             "colorbar": {
              "outlinewidth": 0,
              "ticks": ""
             }
            },
            "type": "scatter3d"
           }
          ],
          "scattercarpet": [
           {
            "marker": {
             "colorbar": {
              "outlinewidth": 0,
              "ticks": ""
             }
            },
            "type": "scattercarpet"
           }
          ],
          "scattergeo": [
           {
            "marker": {
             "colorbar": {
              "outlinewidth": 0,
              "ticks": ""
             }
            },
            "type": "scattergeo"
           }
          ],
          "scattergl": [
           {
            "marker": {
             "colorbar": {
              "outlinewidth": 0,
              "ticks": ""
             }
            },
            "type": "scattergl"
           }
          ],
          "scattermapbox": [
           {
            "marker": {
             "colorbar": {
              "outlinewidth": 0,
              "ticks": ""
             }
            },
            "type": "scattermapbox"
           }
          ],
          "scatterpolar": [
           {
            "marker": {
             "colorbar": {
              "outlinewidth": 0,
              "ticks": ""
             }
            },
            "type": "scatterpolar"
           }
          ],
          "scatterpolargl": [
           {
            "marker": {
             "colorbar": {
              "outlinewidth": 0,
              "ticks": ""
             }
            },
            "type": "scatterpolargl"
           }
          ],
          "scatterternary": [
           {
            "marker": {
             "colorbar": {
              "outlinewidth": 0,
              "ticks": ""
             }
            },
            "type": "scatterternary"
           }
          ],
          "surface": [
           {
            "colorbar": {
             "outlinewidth": 0,
             "ticks": ""
            },
            "colorscale": [
             [
              0,
              "#0d0887"
             ],
             [
              0.1111111111111111,
              "#46039f"
             ],
             [
              0.2222222222222222,
              "#7201a8"
             ],
             [
              0.3333333333333333,
              "#9c179e"
             ],
             [
              0.4444444444444444,
              "#bd3786"
             ],
             [
              0.5555555555555556,
              "#d8576b"
             ],
             [
              0.6666666666666666,
              "#ed7953"
             ],
             [
              0.7777777777777778,
              "#fb9f3a"
             ],
             [
              0.8888888888888888,
              "#fdca26"
             ],
             [
              1,
              "#f0f921"
             ]
            ],
            "type": "surface"
           }
          ],
          "table": [
           {
            "cells": {
             "fill": {
              "color": "#EBF0F8"
             },
             "line": {
              "color": "white"
             }
            },
            "header": {
             "fill": {
              "color": "#C8D4E3"
             },
             "line": {
              "color": "white"
             }
            },
            "type": "table"
           }
          ]
         },
         "layout": {
          "annotationdefaults": {
           "arrowcolor": "#2a3f5f",
           "arrowhead": 0,
           "arrowwidth": 1
          },
          "autotypenumbers": "strict",
          "coloraxis": {
           "colorbar": {
            "outlinewidth": 0,
            "ticks": ""
           }
          },
          "colorscale": {
           "diverging": [
            [
             0,
             "#8e0152"
            ],
            [
             0.1,
             "#c51b7d"
            ],
            [
             0.2,
             "#de77ae"
            ],
            [
             0.3,
             "#f1b6da"
            ],
            [
             0.4,
             "#fde0ef"
            ],
            [
             0.5,
             "#f7f7f7"
            ],
            [
             0.6,
             "#e6f5d0"
            ],
            [
             0.7,
             "#b8e186"
            ],
            [
             0.8,
             "#7fbc41"
            ],
            [
             0.9,
             "#4d9221"
            ],
            [
             1,
             "#276419"
            ]
           ],
           "sequential": [
            [
             0,
             "#0d0887"
            ],
            [
             0.1111111111111111,
             "#46039f"
            ],
            [
             0.2222222222222222,
             "#7201a8"
            ],
            [
             0.3333333333333333,
             "#9c179e"
            ],
            [
             0.4444444444444444,
             "#bd3786"
            ],
            [
             0.5555555555555556,
             "#d8576b"
            ],
            [
             0.6666666666666666,
             "#ed7953"
            ],
            [
             0.7777777777777778,
             "#fb9f3a"
            ],
            [
             0.8888888888888888,
             "#fdca26"
            ],
            [
             1,
             "#f0f921"
            ]
           ],
           "sequentialminus": [
            [
             0,
             "#0d0887"
            ],
            [
             0.1111111111111111,
             "#46039f"
            ],
            [
             0.2222222222222222,
             "#7201a8"
            ],
            [
             0.3333333333333333,
             "#9c179e"
            ],
            [
             0.4444444444444444,
             "#bd3786"
            ],
            [
             0.5555555555555556,
             "#d8576b"
            ],
            [
             0.6666666666666666,
             "#ed7953"
            ],
            [
             0.7777777777777778,
             "#fb9f3a"
            ],
            [
             0.8888888888888888,
             "#fdca26"
            ],
            [
             1,
             "#f0f921"
            ]
           ]
          },
          "colorway": [
           "#636efa",
           "#EF553B",
           "#00cc96",
           "#ab63fa",
           "#FFA15A",
           "#19d3f3",
           "#FF6692",
           "#B6E880",
           "#FF97FF",
           "#FECB52"
          ],
          "font": {
           "color": "#2a3f5f"
          },
          "geo": {
           "bgcolor": "white",
           "lakecolor": "white",
           "landcolor": "#E5ECF6",
           "showlakes": true,
           "showland": true,
           "subunitcolor": "white"
          },
          "hoverlabel": {
           "align": "left"
          },
          "hovermode": "closest",
          "mapbox": {
           "style": "light"
          },
          "paper_bgcolor": "white",
          "plot_bgcolor": "#E5ECF6",
          "polar": {
           "angularaxis": {
            "gridcolor": "white",
            "linecolor": "white",
            "ticks": ""
           },
           "bgcolor": "#E5ECF6",
           "radialaxis": {
            "gridcolor": "white",
            "linecolor": "white",
            "ticks": ""
           }
          },
          "scene": {
           "xaxis": {
            "backgroundcolor": "#E5ECF6",
            "gridcolor": "white",
            "gridwidth": 2,
            "linecolor": "white",
            "showbackground": true,
            "ticks": "",
            "zerolinecolor": "white"
           },
           "yaxis": {
            "backgroundcolor": "#E5ECF6",
            "gridcolor": "white",
            "gridwidth": 2,
            "linecolor": "white",
            "showbackground": true,
            "ticks": "",
            "zerolinecolor": "white"
           },
           "zaxis": {
            "backgroundcolor": "#E5ECF6",
            "gridcolor": "white",
            "gridwidth": 2,
            "linecolor": "white",
            "showbackground": true,
            "ticks": "",
            "zerolinecolor": "white"
           }
          },
          "shapedefaults": {
           "line": {
            "color": "#2a3f5f"
           }
          },
          "ternary": {
           "aaxis": {
            "gridcolor": "white",
            "linecolor": "white",
            "ticks": ""
           },
           "baxis": {
            "gridcolor": "white",
            "linecolor": "white",
            "ticks": ""
           },
           "bgcolor": "#E5ECF6",
           "caxis": {
            "gridcolor": "white",
            "linecolor": "white",
            "ticks": ""
           }
          },
          "title": {
           "x": 0.05
          },
          "xaxis": {
           "automargin": true,
           "gridcolor": "white",
           "linecolor": "white",
           "ticks": "",
           "title": {
            "standoff": 15
           },
           "zerolinecolor": "white",
           "zerolinewidth": 2
          },
          "yaxis": {
           "automargin": true,
           "gridcolor": "white",
           "linecolor": "white",
           "ticks": "",
           "title": {
            "standoff": 15
           },
           "zerolinecolor": "white",
           "zerolinewidth": 2
          }
         }
        },
        "title": {
         "text": "Зависимость средней абсолютной ошибки<br>от вида последовательности"
        },
        "width": 1280,
        "xaxis": {
         "title": {
          "text": "Вид последовательности"
         }
        },
        "yaxis": {
         "title": {
          "text": "Средняя абсолютная ошибка"
         }
        }
       }
      }
     },
     "metadata": {},
     "output_type": "display_data"
    }
   ],
   "source": [
    "# Построение графика\n",
    "fig = go.Figure()\n",
    "fig.add_trace(\n",
    "    go.Scatter(x=all_sequences, y=all_mapes, name=\"Все наблюдения\", mode=\"markers\")\n",
    ")\n",
    "fig.add_trace(\n",
    "    go.Scatter(x=list(sequence_generators.keys()), y=mapes_mean, name=\"Средние значения\", mode=\"markers\")\n",
    ")\n",
    "fig.update_layout(\n",
    "    title=\"Зависимость средней абсолютной ошибки<br>от вида последовательности\",\n",
    "    font=dict(size=20),\n",
    "    xaxis=dict(title=\"Вид последовательности\"),\n",
    "    yaxis=dict(title=\"Средняя абсолютная ошибка\"),\n",
    "    width=1280,\n",
    "    height=720\n",
    ")\n",
    "fig.show()"
   ]
  }
 ],
 "metadata": {
  "kernelspec": {
   "display_name": ".venv",
   "language": "python",
   "name": "python3"
  },
  "language_info": {
   "codemirror_mode": {
    "name": "ipython",
    "version": 3
   },
   "file_extension": ".py",
   "mimetype": "text/x-python",
   "name": "python",
   "nbconvert_exporter": "python",
   "pygments_lexer": "ipython3",
   "version": "3.11.9"
  }
 },
 "nbformat": 4,
 "nbformat_minor": 2
}
