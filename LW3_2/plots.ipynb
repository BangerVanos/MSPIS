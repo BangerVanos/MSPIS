{
 "cells": [
  {
   "cell_type": "code",
   "execution_count": 26,
   "metadata": {},
   "outputs": [],
   "source": [
    "import numpy as np\n",
    "from gru import (\n",
    "    # GRUModel,\n",
    "    fibonacci_generator,\n",
    "    one_by_n_generator,\n",
    "    plus_one_minus_one_generator,\n",
    "    squared_generator,\n",
    "    half_generator,\n",
    "    arithmetic_progression,\n",
    "    create_sliding_window_batches,\n",
    "    mape\n",
    ")\n",
    "from gru2 import GRUModel\n",
    "import plotly.graph_objects as go"
   ]
  },
  {
   "cell_type": "code",
   "execution_count": 27,
   "metadata": {},
   "outputs": [],
   "source": [
    "# seq_length = 10\n",
    "# window_size = 5\n",
    "# batch_size = 2\n",
    "# hidden_size = 4\n",
    "# output_size = 3\n",
    "\n",
    "# sequence = list(fibonacci_generator(seq_length))\n",
    "# X, y = create_sliding_window_batches(sequence, window_size, batch_size, output_size)\n",
    "# X_train, y_train = X[0:int(len(X) * 0.8)], y[0:int(len(X) * 0.8)][-1]\n",
    "# X_test, y_test = X[int(len(X) * 0.8):], y[int(len(X) * 0.8):][-1]\n",
    "\n",
    "# verbosity = 1000\n",
    "\n",
    "# max_mape = 1e-3\n",
    "# learn_until_meet_mape = True\n",
    "\n",
    "# model = GRUModel(window_size, hidden_size, output_size)\n",
    "\n",
    "# # Параметры обучения\n",
    "# lr = 1e-4\n",
    "# epochs = 5000\n",
    "\n",
    "# model.train(X_train, y_train, lr, epochs,\n",
    "#             True, max_mape, verbosity)\n",
    "# Проверим результат после обучения\n",
    "# y_pred, _, _ = model.forward(X_train)\n",
    "# print(\"Предсказание после обучения:\\n\", y_pred)\n",
    "# print(\"Истинное значение:\\n\", y_train)\n",
    "# print(f\"MAPE: {mape(y_train, y_pred) * 100:.4f}%\")\n",
    "\n",
    "# print('TEST')\n",
    "# y_pred, _, _ = model.forward(X_test)\n",
    "# print(\"Предсказания на тестовой выборке:\\n\", y_pred)\n",
    "# print(\"Истинное значение на тестовой выборке:\\n\", y_test)\n",
    "# print(f\"MAPE: {mape(y_test, y_pred) * 100:.4f}%\")  "
   ]
  },
  {
   "cell_type": "code",
   "execution_count": 28,
   "metadata": {},
   "outputs": [
    {
     "name": "stdout",
     "output_type": "stream",
     "text": [
      "TRAINING FINISHED\n",
      "Epoch 100/100, Loss: 148.895041\n",
      "MAPE: 0.871168\n",
      "TRAINING FINISHED\n",
      "Epoch 100/100, Loss: 142.125019\n",
      "MAPE: 0.850335\n",
      "TRAINING FINISHED\n",
      "Epoch 100/100, Loss: 131.224154\n",
      "MAPE: 0.810648\n",
      "TRAINING FINISHED\n",
      "Epoch 200/200, Loss: 54.595967\n",
      "MAPE: 0.506671\n",
      "TRAINING FINISHED\n",
      "Epoch 200/200, Loss: 69.291897\n",
      "MAPE: 0.566152\n",
      "TRAINING FINISHED\n",
      "Epoch 200/200, Loss: 77.818894\n",
      "MAPE: 0.613255\n",
      "TRAINING FINISHED\n",
      "Epoch 300/300, Loss: 33.451721\n",
      "MAPE: 0.378677\n",
      "TRAINING FINISHED\n",
      "Epoch 300/300, Loss: 21.021788\n",
      "MAPE: 0.279702\n",
      "TRAINING FINISHED\n",
      "Epoch 300/300, Loss: 23.894597\n",
      "MAPE: 0.305045\n",
      "TRAINING FINISHED\n",
      "Epoch 400/400, Loss: 8.048923\n",
      "MAPE: 0.134468\n",
      "TRAINING FINISHED\n",
      "Epoch 400/400, Loss: 6.627333\n",
      "MAPE: 0.127175\n",
      "TRAINING FINISHED\n",
      "Epoch 400/400, Loss: 11.334433\n",
      "MAPE: 0.168753\n",
      "TRAINING FINISHED\n",
      "Epoch 500/500, Loss: 3.281322\n",
      "MAPE: 0.100885\n",
      "TRAINING FINISHED\n",
      "Epoch 500/500, Loss: 3.483411\n",
      "MAPE: 0.103565\n",
      "TRAINING FINISHED\n",
      "Epoch 500/500, Loss: 5.693667\n",
      "MAPE: 0.117858\n",
      "TRAINING FINISHED\n",
      "Epoch 600/600, Loss: 2.540817\n",
      "MAPE: 0.097513\n",
      "TRAINING FINISHED\n",
      "Epoch 600/600, Loss: 2.826813\n",
      "MAPE: 0.104439\n",
      "TRAINING FINISHED\n",
      "Epoch 600/600, Loss: 5.824398\n",
      "MAPE: 0.115134\n",
      "TRAINING FINISHED\n",
      "Epoch 700/700, Loss: 3.395471\n",
      "MAPE: 0.112719\n",
      "TRAINING FINISHED\n",
      "Epoch 700/700, Loss: 2.442666\n",
      "MAPE: 0.099925\n",
      "TRAINING FINISHED\n",
      "Epoch 700/700, Loss: 2.942496\n",
      "MAPE: 0.108987\n",
      "TRAINING FINISHED\n",
      "Epoch 800/800, Loss: 2.405938\n",
      "MAPE: 0.099753\n",
      "TRAINING FINISHED\n",
      "Epoch 800/800, Loss: 2.783581\n",
      "MAPE: 0.109448\n",
      "TRAINING FINISHED\n",
      "Epoch 800/800, Loss: 2.963838\n",
      "MAPE: 0.109733\n",
      "TRAINING FINISHED\n",
      "Epoch 900/900, Loss: 2.168547\n",
      "MAPE: 0.095622\n",
      "TRAINING FINISHED\n",
      "Epoch 900/900, Loss: 3.698085\n",
      "MAPE: 0.120820\n",
      "TRAINING FINISHED\n",
      "Epoch 900/900, Loss: 2.337665\n",
      "MAPE: 0.100830\n",
      "TRAINING FINISHED\n",
      "Epoch 1000/1000, Loss: 2.470204\n",
      "MAPE: 0.102378\n",
      "TRAINING FINISHED\n",
      "Epoch 1000/1000, Loss: 2.374969\n",
      "MAPE: 0.099303\n",
      "TRAINING FINISHED\n",
      "Epoch 1000/1000, Loss: 1.662029\n",
      "MAPE: 0.082434\n",
      "TRAINING FINISHED\n",
      "Epoch 1100/1100, Loss: 1.348904\n",
      "MAPE: 0.073049\n",
      "TRAINING FINISHED\n",
      "Epoch 1100/1100, Loss: 1.946253\n",
      "MAPE: 0.090041\n",
      "TRAINING FINISHED\n",
      "Epoch 1100/1100, Loss: 1.909228\n",
      "MAPE: 0.094185\n",
      "TRAINING FINISHED\n",
      "Epoch 1200/1200, Loss: 2.052566\n",
      "MAPE: 0.093488\n",
      "TRAINING FINISHED\n",
      "Epoch 1200/1200, Loss: 1.908515\n",
      "MAPE: 0.087295\n",
      "TRAINING FINISHED\n",
      "Epoch 1200/1200, Loss: 2.093272\n",
      "MAPE: 0.097248\n",
      "TRAINING FINISHED\n",
      "Epoch 1300/1300, Loss: 1.480759\n",
      "MAPE: 0.078387\n",
      "TRAINING FINISHED\n",
      "Epoch 1300/1300, Loss: 2.432225\n",
      "MAPE: 0.104388\n",
      "TRAINING FINISHED\n",
      "Epoch 1300/1300, Loss: 1.801543\n",
      "MAPE: 0.087522\n",
      "TRAINING FINISHED\n",
      "Epoch 1400/1400, Loss: 2.183185\n",
      "MAPE: 0.099915\n",
      "TRAINING FINISHED\n",
      "Epoch 1400/1400, Loss: 1.302082\n",
      "MAPE: 0.076623\n",
      "TRAINING FINISHED\n",
      "Epoch 1400/1400, Loss: 1.259291\n",
      "MAPE: 0.071548\n",
      "TRAINING FINISHED\n",
      "Epoch 1500/1500, Loss: 2.149905\n",
      "MAPE: 0.101427\n",
      "TRAINING FINISHED\n",
      "Epoch 1500/1500, Loss: 1.788845\n",
      "MAPE: 0.087252\n",
      "TRAINING FINISHED\n",
      "Epoch 1500/1500, Loss: 1.381107\n",
      "MAPE: 0.078089\n",
      "TRAINING FINISHED\n",
      "Epoch 1600/1600, Loss: 1.740601\n",
      "MAPE: 0.085151\n",
      "TRAINING FINISHED\n",
      "Epoch 1600/1600, Loss: 1.694134\n",
      "MAPE: 0.085431\n",
      "TRAINING FINISHED\n",
      "Epoch 1600/1600, Loss: 0.925293\n",
      "MAPE: 0.065300\n",
      "TRAINING FINISHED\n",
      "Epoch 1700/1700, Loss: 1.736289\n",
      "MAPE: 0.091585\n",
      "TRAINING FINISHED\n",
      "Epoch 1700/1700, Loss: 1.455184\n",
      "MAPE: 0.079981\n",
      "TRAINING FINISHED\n",
      "Epoch 1700/1700, Loss: 1.473814\n",
      "MAPE: 0.081531\n",
      "TRAINING FINISHED\n",
      "Epoch 1800/1800, Loss: 1.313125\n",
      "MAPE: 0.080147\n",
      "TRAINING FINISHED\n",
      "Epoch 1800/1800, Loss: 1.208878\n",
      "MAPE: 0.073128\n",
      "TRAINING FINISHED\n",
      "Epoch 1800/1800, Loss: 1.260940\n",
      "MAPE: 0.073203\n",
      "TRAINING FINISHED\n",
      "Epoch 1900/1900, Loss: 0.880785\n",
      "MAPE: 0.063380\n",
      "TRAINING FINISHED\n",
      "Epoch 1900/1900, Loss: 1.407789\n",
      "MAPE: 0.080501\n",
      "TRAINING FINISHED\n",
      "Epoch 1900/1900, Loss: 1.256066\n",
      "MAPE: 0.073924\n",
      "TRAINING FINISHED\n",
      "Epoch 2000/2000, Loss: 1.192623\n",
      "MAPE: 0.076573\n",
      "TRAINING FINISHED\n",
      "Epoch 2000/2000, Loss: 1.055570\n",
      "MAPE: 0.069331\n",
      "TRAINING FINISHED\n",
      "Epoch 2000/2000, Loss: 1.054403\n",
      "MAPE: 0.071487\n"
     ]
    }
   ],
   "source": [
    "experiments_amount = 3\n",
    "# epochs = np.linspace(1000, 35000, endpoint=True, num=10).astype(np.int32).tolist()\n",
    "epochs = list(range(100, 2100, 100))\n",
    "\n",
    "# np.random.seed(12345)\n",
    "\n",
    "all_mapes = []\n",
    "mapes_mean = []\n",
    "\n",
    "all_epochs: list[int] = []\n",
    "\n",
    "seq_length = 20\n",
    "window_size = 5\n",
    "batch_size = 2\n",
    "hidden_size = 10\n",
    "output_size = 3\n",
    "\n",
    "verbosity = 100000\n",
    "lr = 1e-4\n",
    "\n",
    "sequence = list(arithmetic_progression(seq_length, a0=1, d=1))\n",
    "X, y = create_sliding_window_batches(sequence, window_size, batch_size, output_size)\n",
    "\n",
    "for max_epochs in epochs:    \n",
    "\n",
    "    # Training network for five times\n",
    "    mapes_sum = 0    \n",
    "    for _ in range(experiments_amount):              \n",
    "        \n",
    "        network = GRUModel(input_size=window_size, hidden_size=hidden_size,\n",
    "                           output_size=output_size)\n",
    "        _, _mape = network.train(x=X, y=y, lr=lr, max_epochs=max_epochs, verbosity=verbosity)\n",
    "        all_epochs.append(max_epochs)\n",
    "        mapes_sum += _mape        \n",
    "        all_mapes.append(_mape)    \n",
    "\n",
    "    # Average mape for epochs amount\n",
    "    mapes_mean.append(mapes_sum / experiments_amount)"
   ]
  },
  {
   "cell_type": "code",
   "execution_count": 29,
   "metadata": {},
   "outputs": [
    {
     "data": {
      "application/vnd.plotly.v1+json": {
       "config": {
        "plotlyServerURL": "https://plot.ly"
       },
       "data": [
        {
         "mode": "markers",
         "name": "Все наблюдения",
         "type": "scatter",
         "x": [
          100,
          100,
          100,
          200,
          200,
          200,
          300,
          300,
          300,
          400,
          400,
          400,
          500,
          500,
          500,
          600,
          600,
          600,
          700,
          700,
          700,
          800,
          800,
          800,
          900,
          900,
          900,
          1000,
          1000,
          1000,
          1100,
          1100,
          1100,
          1200,
          1200,
          1200,
          1300,
          1300,
          1300,
          1400,
          1400,
          1400,
          1500,
          1500,
          1500,
          1600,
          1600,
          1600,
          1700,
          1700,
          1700,
          1800,
          1800,
          1800,
          1900,
          1900,
          1900,
          2000,
          2000,
          2000
         ],
         "y": [
          0.8711679250490378,
          0.8503349521412082,
          0.8106484059915913,
          0.5066713784240386,
          0.5661521468865255,
          0.6132552484265508,
          0.3786773306118053,
          0.2797020247094437,
          0.30504523723223853,
          0.1344678877236341,
          0.12717484399035836,
          0.16875271663684518,
          0.10088505156332953,
          0.10356535636232908,
          0.11785802170193796,
          0.0975129883469162,
          0.10443893157296713,
          0.1151335388735317,
          0.11271935676031897,
          0.09992485806306828,
          0.10898664124420449,
          0.09975335950016476,
          0.10944800771238647,
          0.10973322357108442,
          0.09562248707783719,
          0.12081999867211984,
          0.1008297271071426,
          0.10237804326413275,
          0.09930303016882583,
          0.08243448332132138,
          0.07304926953075017,
          0.0900413376862845,
          0.09418524073668824,
          0.0934875802401038,
          0.08729490133129351,
          0.09724793815065566,
          0.07838657656501125,
          0.10438820491060696,
          0.08752165920145154,
          0.09991546114702118,
          0.07662330358361848,
          0.07154756529075706,
          0.1014270732013108,
          0.08725165586629484,
          0.07808857725695224,
          0.08515071645709438,
          0.08543085620444665,
          0.06530003292907524,
          0.09158503761696372,
          0.07998089802706512,
          0.08153139179272148,
          0.08014660711387842,
          0.07312818107268397,
          0.07320342181493841,
          0.06337952307776241,
          0.08050142688250037,
          0.07392410038461814,
          0.07657309770748898,
          0.0693305264445576,
          0.07148682106100489
         ]
        },
        {
         "mode": "lines+markers",
         "name": "Средние значения",
         "type": "scatter",
         "x": [
          100,
          200,
          300,
          400,
          500,
          600,
          700,
          800,
          900,
          1000,
          1100,
          1200,
          1300,
          1400,
          1500,
          1600,
          1700,
          1800,
          1900,
          2000
         ],
         "y": [
          0.8440504277272791,
          0.5620262579123716,
          0.32114153085116254,
          0.14346514945027922,
          0.10743614320919885,
          0.10569515293113833,
          0.10721028535586391,
          0.10631153026121187,
          0.10575740428569987,
          0.09470518558475999,
          0.08575861598457431,
          0.09267680657401767,
          0.09009881355902326,
          0.08269544334046558,
          0.08892243544151929,
          0.07862720186353876,
          0.08436577581225009,
          0.07549273666716692,
          0.07260168344829364,
          0.07246348173768381
         ]
        }
       ],
       "layout": {
        "font": {
         "size": 20
        },
        "height": 720,
        "template": {
         "data": {
          "bar": [
           {
            "error_x": {
             "color": "#2a3f5f"
            },
            "error_y": {
             "color": "#2a3f5f"
            },
            "marker": {
             "line": {
              "color": "#E5ECF6",
              "width": 0.5
             },
             "pattern": {
              "fillmode": "overlay",
              "size": 10,
              "solidity": 0.2
             }
            },
            "type": "bar"
           }
          ],
          "barpolar": [
           {
            "marker": {
             "line": {
              "color": "#E5ECF6",
              "width": 0.5
             },
             "pattern": {
              "fillmode": "overlay",
              "size": 10,
              "solidity": 0.2
             }
            },
            "type": "barpolar"
           }
          ],
          "carpet": [
           {
            "aaxis": {
             "endlinecolor": "#2a3f5f",
             "gridcolor": "white",
             "linecolor": "white",
             "minorgridcolor": "white",
             "startlinecolor": "#2a3f5f"
            },
            "baxis": {
             "endlinecolor": "#2a3f5f",
             "gridcolor": "white",
             "linecolor": "white",
             "minorgridcolor": "white",
             "startlinecolor": "#2a3f5f"
            },
            "type": "carpet"
           }
          ],
          "choropleth": [
           {
            "colorbar": {
             "outlinewidth": 0,
             "ticks": ""
            },
            "type": "choropleth"
           }
          ],
          "contour": [
           {
            "colorbar": {
             "outlinewidth": 0,
             "ticks": ""
            },
            "colorscale": [
             [
              0,
              "#0d0887"
             ],
             [
              0.1111111111111111,
              "#46039f"
             ],
             [
              0.2222222222222222,
              "#7201a8"
             ],
             [
              0.3333333333333333,
              "#9c179e"
             ],
             [
              0.4444444444444444,
              "#bd3786"
             ],
             [
              0.5555555555555556,
              "#d8576b"
             ],
             [
              0.6666666666666666,
              "#ed7953"
             ],
             [
              0.7777777777777778,
              "#fb9f3a"
             ],
             [
              0.8888888888888888,
              "#fdca26"
             ],
             [
              1,
              "#f0f921"
             ]
            ],
            "type": "contour"
           }
          ],
          "contourcarpet": [
           {
            "colorbar": {
             "outlinewidth": 0,
             "ticks": ""
            },
            "type": "contourcarpet"
           }
          ],
          "heatmap": [
           {
            "colorbar": {
             "outlinewidth": 0,
             "ticks": ""
            },
            "colorscale": [
             [
              0,
              "#0d0887"
             ],
             [
              0.1111111111111111,
              "#46039f"
             ],
             [
              0.2222222222222222,
              "#7201a8"
             ],
             [
              0.3333333333333333,
              "#9c179e"
             ],
             [
              0.4444444444444444,
              "#bd3786"
             ],
             [
              0.5555555555555556,
              "#d8576b"
             ],
             [
              0.6666666666666666,
              "#ed7953"
             ],
             [
              0.7777777777777778,
              "#fb9f3a"
             ],
             [
              0.8888888888888888,
              "#fdca26"
             ],
             [
              1,
              "#f0f921"
             ]
            ],
            "type": "heatmap"
           }
          ],
          "heatmapgl": [
           {
            "colorbar": {
             "outlinewidth": 0,
             "ticks": ""
            },
            "colorscale": [
             [
              0,
              "#0d0887"
             ],
             [
              0.1111111111111111,
              "#46039f"
             ],
             [
              0.2222222222222222,
              "#7201a8"
             ],
             [
              0.3333333333333333,
              "#9c179e"
             ],
             [
              0.4444444444444444,
              "#bd3786"
             ],
             [
              0.5555555555555556,
              "#d8576b"
             ],
             [
              0.6666666666666666,
              "#ed7953"
             ],
             [
              0.7777777777777778,
              "#fb9f3a"
             ],
             [
              0.8888888888888888,
              "#fdca26"
             ],
             [
              1,
              "#f0f921"
             ]
            ],
            "type": "heatmapgl"
           }
          ],
          "histogram": [
           {
            "marker": {
             "pattern": {
              "fillmode": "overlay",
              "size": 10,
              "solidity": 0.2
             }
            },
            "type": "histogram"
           }
          ],
          "histogram2d": [
           {
            "colorbar": {
             "outlinewidth": 0,
             "ticks": ""
            },
            "colorscale": [
             [
              0,
              "#0d0887"
             ],
             [
              0.1111111111111111,
              "#46039f"
             ],
             [
              0.2222222222222222,
              "#7201a8"
             ],
             [
              0.3333333333333333,
              "#9c179e"
             ],
             [
              0.4444444444444444,
              "#bd3786"
             ],
             [
              0.5555555555555556,
              "#d8576b"
             ],
             [
              0.6666666666666666,
              "#ed7953"
             ],
             [
              0.7777777777777778,
              "#fb9f3a"
             ],
             [
              0.8888888888888888,
              "#fdca26"
             ],
             [
              1,
              "#f0f921"
             ]
            ],
            "type": "histogram2d"
           }
          ],
          "histogram2dcontour": [
           {
            "colorbar": {
             "outlinewidth": 0,
             "ticks": ""
            },
            "colorscale": [
             [
              0,
              "#0d0887"
             ],
             [
              0.1111111111111111,
              "#46039f"
             ],
             [
              0.2222222222222222,
              "#7201a8"
             ],
             [
              0.3333333333333333,
              "#9c179e"
             ],
             [
              0.4444444444444444,
              "#bd3786"
             ],
             [
              0.5555555555555556,
              "#d8576b"
             ],
             [
              0.6666666666666666,
              "#ed7953"
             ],
             [
              0.7777777777777778,
              "#fb9f3a"
             ],
             [
              0.8888888888888888,
              "#fdca26"
             ],
             [
              1,
              "#f0f921"
             ]
            ],
            "type": "histogram2dcontour"
           }
          ],
          "mesh3d": [
           {
            "colorbar": {
             "outlinewidth": 0,
             "ticks": ""
            },
            "type": "mesh3d"
           }
          ],
          "parcoords": [
           {
            "line": {
             "colorbar": {
              "outlinewidth": 0,
              "ticks": ""
             }
            },
            "type": "parcoords"
           }
          ],
          "pie": [
           {
            "automargin": true,
            "type": "pie"
           }
          ],
          "scatter": [
           {
            "fillpattern": {
             "fillmode": "overlay",
             "size": 10,
             "solidity": 0.2
            },
            "type": "scatter"
           }
          ],
          "scatter3d": [
           {
            "line": {
             "colorbar": {
              "outlinewidth": 0,
              "ticks": ""
             }
            },
            "marker": {
             "colorbar": {
              "outlinewidth": 0,
              "ticks": ""
             }
            },
            "type": "scatter3d"
           }
          ],
          "scattercarpet": [
           {
            "marker": {
             "colorbar": {
              "outlinewidth": 0,
              "ticks": ""
             }
            },
            "type": "scattercarpet"
           }
          ],
          "scattergeo": [
           {
            "marker": {
             "colorbar": {
              "outlinewidth": 0,
              "ticks": ""
             }
            },
            "type": "scattergeo"
           }
          ],
          "scattergl": [
           {
            "marker": {
             "colorbar": {
              "outlinewidth": 0,
              "ticks": ""
             }
            },
            "type": "scattergl"
           }
          ],
          "scattermapbox": [
           {
            "marker": {
             "colorbar": {
              "outlinewidth": 0,
              "ticks": ""
             }
            },
            "type": "scattermapbox"
           }
          ],
          "scatterpolar": [
           {
            "marker": {
             "colorbar": {
              "outlinewidth": 0,
              "ticks": ""
             }
            },
            "type": "scatterpolar"
           }
          ],
          "scatterpolargl": [
           {
            "marker": {
             "colorbar": {
              "outlinewidth": 0,
              "ticks": ""
             }
            },
            "type": "scatterpolargl"
           }
          ],
          "scatterternary": [
           {
            "marker": {
             "colorbar": {
              "outlinewidth": 0,
              "ticks": ""
             }
            },
            "type": "scatterternary"
           }
          ],
          "surface": [
           {
            "colorbar": {
             "outlinewidth": 0,
             "ticks": ""
            },
            "colorscale": [
             [
              0,
              "#0d0887"
             ],
             [
              0.1111111111111111,
              "#46039f"
             ],
             [
              0.2222222222222222,
              "#7201a8"
             ],
             [
              0.3333333333333333,
              "#9c179e"
             ],
             [
              0.4444444444444444,
              "#bd3786"
             ],
             [
              0.5555555555555556,
              "#d8576b"
             ],
             [
              0.6666666666666666,
              "#ed7953"
             ],
             [
              0.7777777777777778,
              "#fb9f3a"
             ],
             [
              0.8888888888888888,
              "#fdca26"
             ],
             [
              1,
              "#f0f921"
             ]
            ],
            "type": "surface"
           }
          ],
          "table": [
           {
            "cells": {
             "fill": {
              "color": "#EBF0F8"
             },
             "line": {
              "color": "white"
             }
            },
            "header": {
             "fill": {
              "color": "#C8D4E3"
             },
             "line": {
              "color": "white"
             }
            },
            "type": "table"
           }
          ]
         },
         "layout": {
          "annotationdefaults": {
           "arrowcolor": "#2a3f5f",
           "arrowhead": 0,
           "arrowwidth": 1
          },
          "autotypenumbers": "strict",
          "coloraxis": {
           "colorbar": {
            "outlinewidth": 0,
            "ticks": ""
           }
          },
          "colorscale": {
           "diverging": [
            [
             0,
             "#8e0152"
            ],
            [
             0.1,
             "#c51b7d"
            ],
            [
             0.2,
             "#de77ae"
            ],
            [
             0.3,
             "#f1b6da"
            ],
            [
             0.4,
             "#fde0ef"
            ],
            [
             0.5,
             "#f7f7f7"
            ],
            [
             0.6,
             "#e6f5d0"
            ],
            [
             0.7,
             "#b8e186"
            ],
            [
             0.8,
             "#7fbc41"
            ],
            [
             0.9,
             "#4d9221"
            ],
            [
             1,
             "#276419"
            ]
           ],
           "sequential": [
            [
             0,
             "#0d0887"
            ],
            [
             0.1111111111111111,
             "#46039f"
            ],
            [
             0.2222222222222222,
             "#7201a8"
            ],
            [
             0.3333333333333333,
             "#9c179e"
            ],
            [
             0.4444444444444444,
             "#bd3786"
            ],
            [
             0.5555555555555556,
             "#d8576b"
            ],
            [
             0.6666666666666666,
             "#ed7953"
            ],
            [
             0.7777777777777778,
             "#fb9f3a"
            ],
            [
             0.8888888888888888,
             "#fdca26"
            ],
            [
             1,
             "#f0f921"
            ]
           ],
           "sequentialminus": [
            [
             0,
             "#0d0887"
            ],
            [
             0.1111111111111111,
             "#46039f"
            ],
            [
             0.2222222222222222,
             "#7201a8"
            ],
            [
             0.3333333333333333,
             "#9c179e"
            ],
            [
             0.4444444444444444,
             "#bd3786"
            ],
            [
             0.5555555555555556,
             "#d8576b"
            ],
            [
             0.6666666666666666,
             "#ed7953"
            ],
            [
             0.7777777777777778,
             "#fb9f3a"
            ],
            [
             0.8888888888888888,
             "#fdca26"
            ],
            [
             1,
             "#f0f921"
            ]
           ]
          },
          "colorway": [
           "#636efa",
           "#EF553B",
           "#00cc96",
           "#ab63fa",
           "#FFA15A",
           "#19d3f3",
           "#FF6692",
           "#B6E880",
           "#FF97FF",
           "#FECB52"
          ],
          "font": {
           "color": "#2a3f5f"
          },
          "geo": {
           "bgcolor": "white",
           "lakecolor": "white",
           "landcolor": "#E5ECF6",
           "showlakes": true,
           "showland": true,
           "subunitcolor": "white"
          },
          "hoverlabel": {
           "align": "left"
          },
          "hovermode": "closest",
          "mapbox": {
           "style": "light"
          },
          "paper_bgcolor": "white",
          "plot_bgcolor": "#E5ECF6",
          "polar": {
           "angularaxis": {
            "gridcolor": "white",
            "linecolor": "white",
            "ticks": ""
           },
           "bgcolor": "#E5ECF6",
           "radialaxis": {
            "gridcolor": "white",
            "linecolor": "white",
            "ticks": ""
           }
          },
          "scene": {
           "xaxis": {
            "backgroundcolor": "#E5ECF6",
            "gridcolor": "white",
            "gridwidth": 2,
            "linecolor": "white",
            "showbackground": true,
            "ticks": "",
            "zerolinecolor": "white"
           },
           "yaxis": {
            "backgroundcolor": "#E5ECF6",
            "gridcolor": "white",
            "gridwidth": 2,
            "linecolor": "white",
            "showbackground": true,
            "ticks": "",
            "zerolinecolor": "white"
           },
           "zaxis": {
            "backgroundcolor": "#E5ECF6",
            "gridcolor": "white",
            "gridwidth": 2,
            "linecolor": "white",
            "showbackground": true,
            "ticks": "",
            "zerolinecolor": "white"
           }
          },
          "shapedefaults": {
           "line": {
            "color": "#2a3f5f"
           }
          },
          "ternary": {
           "aaxis": {
            "gridcolor": "white",
            "linecolor": "white",
            "ticks": ""
           },
           "baxis": {
            "gridcolor": "white",
            "linecolor": "white",
            "ticks": ""
           },
           "bgcolor": "#E5ECF6",
           "caxis": {
            "gridcolor": "white",
            "linecolor": "white",
            "ticks": ""
           }
          },
          "title": {
           "x": 0.05
          },
          "xaxis": {
           "automargin": true,
           "gridcolor": "white",
           "linecolor": "white",
           "ticks": "",
           "title": {
            "standoff": 15
           },
           "zerolinecolor": "white",
           "zerolinewidth": 2
          },
          "yaxis": {
           "automargin": true,
           "gridcolor": "white",
           "linecolor": "white",
           "ticks": "",
           "title": {
            "standoff": 15
           },
           "zerolinecolor": "white",
           "zerolinewidth": 2
          }
         }
        },
        "title": {
         "text": "Зависимость средней абсолютной ошибки от количества итераций обучения"
        },
        "width": 1280,
        "xaxis": {
         "title": {
          "text": "Количество итераций обучения"
         }
        },
        "yaxis": {
         "title": {
          "text": "Средняя абсолютная ошибка"
         }
        }
       }
      }
     },
     "metadata": {},
     "output_type": "display_data"
    }
   ],
   "source": [
    "# Plotting results for training epochs amount\n",
    "fig = go.Figure()\n",
    "fig.add_trace(\n",
    "    go.Scatter(x=all_epochs, y=all_mapes,\n",
    "               name='Все наблюдения', mode='markers')\n",
    ")\n",
    "fig.add_trace(\n",
    "    go.Scatter(x=epochs, y=mapes_mean,\n",
    "               name='Средние значения', mode='lines+markers')\n",
    ")\n",
    "fig.update_layout(\n",
    "    title='Зависимость средней абсолютной ошибки от количества итераций обучения',\n",
    "    font=dict(size=20),\n",
    "    xaxis=dict(title='Количество итераций обучения'),\n",
    "    yaxis=dict(title='Средняя абсолютная ошибка'),\n",
    "    width=1280,\n",
    "    height=720\n",
    ")\n",
    "fig.show()"
   ]
  },
  {
   "cell_type": "code",
   "execution_count": 30,
   "metadata": {},
   "outputs": [
    {
     "name": "stdout",
     "output_type": "stream",
     "text": [
      "TRAINING FINISHED\n",
      "Epoch 250/250, Loss: 106.382437\n",
      "MAPE: 0.709291\n",
      "TRAINING FINISHED\n",
      "Epoch 250/250, Loss: 95.534242\n",
      "MAPE: 0.646926\n",
      "TRAINING FINISHED\n",
      "Epoch 250/250, Loss: 80.560949\n",
      "MAPE: 0.610104\n",
      "TRAINING FINISHED\n",
      "Epoch 250/250, Loss: 119.020594\n",
      "MAPE: 0.766286\n",
      "TRAINING FINISHED\n",
      "Epoch 250/250, Loss: 105.477072\n",
      "MAPE: 0.717128\n",
      "TRAINING FINISHED\n",
      "Epoch 250/250, Loss: 101.270561\n",
      "MAPE: 0.694258\n",
      "TRAINING FINISHED\n",
      "Epoch 250/250, Loss: 57.656446\n",
      "MAPE: 0.514017\n",
      "TRAINING FINISHED\n",
      "Epoch 250/250, Loss: 47.441481\n",
      "MAPE: 0.455294\n",
      "TRAINING FINISHED\n",
      "Epoch 250/250, Loss: 53.108265\n",
      "MAPE: 0.484520\n",
      "TRAINING FINISHED\n",
      "Epoch 250/250, Loss: 33.103056\n",
      "MAPE: 0.364990\n",
      "TRAINING FINISHED\n",
      "Epoch 250/250, Loss: 58.125573\n",
      "MAPE: 0.512995\n",
      "TRAINING FINISHED\n",
      "Epoch 250/250, Loss: 37.486561\n",
      "MAPE: 0.409033\n",
      "TRAINING FINISHED\n",
      "Epoch 250/250, Loss: 22.442345\n",
      "MAPE: 0.303588\n",
      "TRAINING FINISHED\n",
      "Epoch 250/250, Loss: 25.160862\n",
      "MAPE: 0.312959\n",
      "TRAINING FINISHED\n",
      "Epoch 250/250, Loss: 55.684188\n",
      "MAPE: 0.497407\n",
      "TRAINING FINISHED\n",
      "Epoch 250/250, Loss: 29.445497\n",
      "MAPE: 0.348653\n",
      "TRAINING FINISHED\n",
      "Epoch 250/250, Loss: 30.529387\n",
      "MAPE: 0.355893\n",
      "TRAINING FINISHED\n",
      "Epoch 250/250, Loss: 29.365131\n",
      "MAPE: 0.350397\n",
      "TRAINING FINISHED\n",
      "Epoch 250/250, Loss: 19.073073\n",
      "MAPE: 0.277111\n",
      "TRAINING FINISHED\n",
      "Epoch 250/250, Loss: 16.987085\n",
      "MAPE: 0.251361\n",
      "TRAINING FINISHED\n",
      "Epoch 250/250, Loss: 24.457335\n",
      "MAPE: 0.307412\n",
      "TRAINING FINISHED\n",
      "Epoch 250/250, Loss: 28.437840\n",
      "MAPE: 0.340698\n",
      "TRAINING FINISHED\n",
      "Epoch 250/250, Loss: 11.510895\n",
      "MAPE: 0.203362\n",
      "TRAINING FINISHED\n",
      "Epoch 250/250, Loss: 19.228614\n",
      "MAPE: 0.276446\n",
      "TRAINING FINISHED\n",
      "Epoch 250/250, Loss: 9.741205\n",
      "MAPE: 0.182055\n",
      "TRAINING FINISHED\n",
      "Epoch 250/250, Loss: 9.165752\n",
      "MAPE: 0.176183\n",
      "TRAINING FINISHED\n",
      "Epoch 250/250, Loss: 7.704827\n",
      "MAPE: 0.154857\n",
      "TRAINING FINISHED\n",
      "Epoch 250/250, Loss: 10.712867\n",
      "MAPE: 0.195736\n",
      "TRAINING FINISHED\n",
      "Epoch 250/250, Loss: 8.530043\n",
      "MAPE: 0.171399\n",
      "TRAINING FINISHED\n",
      "Epoch 250/250, Loss: 6.154798\n",
      "MAPE: 0.134408\n"
     ]
    }
   ],
   "source": [
    "experiments_amount = 3\n",
    "# epochs = np.linspace(1000, 35000, endpoint=True, num=10).astype(np.int32).tolist()\n",
    "hidden_sizes = list(range(2, 22, 2))\n",
    "\n",
    "# np.random.seed(12345)\n",
    "\n",
    "all_mapes = []\n",
    "mapes_mean = []\n",
    "\n",
    "all_sizes: list[int] = []\n",
    "\n",
    "seq_length = 20\n",
    "window_size = 5\n",
    "batch_size = 2\n",
    "output_size = 3\n",
    "\n",
    "verbosity = 100000\n",
    "max_mape = 1e-3\n",
    "learn_until_meet_mape = True\n",
    "lr = 1e-4\n",
    "max_epochs = 250\n",
    "\n",
    "sequence = list(arithmetic_progression(seq_length, a0=1, d=1))\n",
    "X, y = create_sliding_window_batches(sequence, window_size, batch_size, output_size)\n",
    "y = y\n",
    "\n",
    "for size in hidden_sizes:    \n",
    "\n",
    "    # Training network for five times\n",
    "    mapes_sum = 0    \n",
    "    for _ in range(experiments_amount):              \n",
    "        \n",
    "        network = GRUModel(input_size=window_size, hidden_size=size,\n",
    "                           output_size=output_size)\n",
    "        _, _mape = network.train(x=X, y=y, lr=lr, max_epochs=max_epochs, verbosity=verbosity)\n",
    "        all_sizes.append(size)\n",
    "        mapes_sum += _mape        \n",
    "        all_mapes.append(_mape)    \n",
    "\n",
    "    # Average mape for epochs amount\n",
    "    mapes_mean.append(mapes_sum / experiments_amount)"
   ]
  },
  {
   "cell_type": "code",
   "execution_count": 31,
   "metadata": {},
   "outputs": [
    {
     "data": {
      "application/vnd.plotly.v1+json": {
       "config": {
        "plotlyServerURL": "https://plot.ly"
       },
       "data": [
        {
         "mode": "markers",
         "name": "Все наблюдения",
         "type": "scatter",
         "x": [
          2,
          2,
          2,
          4,
          4,
          4,
          6,
          6,
          6,
          8,
          8,
          8,
          10,
          10,
          10,
          12,
          12,
          12,
          14,
          14,
          14,
          16,
          16,
          16,
          18,
          18,
          18,
          20,
          20,
          20
         ],
         "y": [
          0.709290626904318,
          0.6469256642948233,
          0.6101038988084927,
          0.7662857834831327,
          0.7171284064832157,
          0.6942579499680855,
          0.5140174992479962,
          0.45529422817320475,
          0.48452018864100055,
          0.36499029828686524,
          0.5129947064238187,
          0.4090325670417843,
          0.3035878763301644,
          0.3129587657376874,
          0.4974072521695428,
          0.3486527833919754,
          0.3558929174451656,
          0.3503967228675574,
          0.2771107765338147,
          0.2513612264387129,
          0.30741248640566343,
          0.34069754952236597,
          0.20336213029876615,
          0.276446408323707,
          0.18205492206858245,
          0.17618277717331784,
          0.1548567963150044,
          0.19573557564079275,
          0.17139879711952682,
          0.13440827308074338
         ]
        },
        {
         "mode": "lines+markers",
         "name": "Средние значения",
         "type": "scatter",
         "x": [
          2,
          4,
          6,
          8,
          10,
          12,
          14,
          16,
          18,
          20
         ],
         "y": [
          0.655440063335878,
          0.725890713311478,
          0.4846106386874005,
          0.4290058572508228,
          0.3713179647457982,
          0.3516474745682328,
          0.2786281631260637,
          0.27350202938161305,
          0.17103149851896823,
          0.167180881947021
         ]
        }
       ],
       "layout": {
        "font": {
         "size": 20
        },
        "height": 720,
        "template": {
         "data": {
          "bar": [
           {
            "error_x": {
             "color": "#2a3f5f"
            },
            "error_y": {
             "color": "#2a3f5f"
            },
            "marker": {
             "line": {
              "color": "#E5ECF6",
              "width": 0.5
             },
             "pattern": {
              "fillmode": "overlay",
              "size": 10,
              "solidity": 0.2
             }
            },
            "type": "bar"
           }
          ],
          "barpolar": [
           {
            "marker": {
             "line": {
              "color": "#E5ECF6",
              "width": 0.5
             },
             "pattern": {
              "fillmode": "overlay",
              "size": 10,
              "solidity": 0.2
             }
            },
            "type": "barpolar"
           }
          ],
          "carpet": [
           {
            "aaxis": {
             "endlinecolor": "#2a3f5f",
             "gridcolor": "white",
             "linecolor": "white",
             "minorgridcolor": "white",
             "startlinecolor": "#2a3f5f"
            },
            "baxis": {
             "endlinecolor": "#2a3f5f",
             "gridcolor": "white",
             "linecolor": "white",
             "minorgridcolor": "white",
             "startlinecolor": "#2a3f5f"
            },
            "type": "carpet"
           }
          ],
          "choropleth": [
           {
            "colorbar": {
             "outlinewidth": 0,
             "ticks": ""
            },
            "type": "choropleth"
           }
          ],
          "contour": [
           {
            "colorbar": {
             "outlinewidth": 0,
             "ticks": ""
            },
            "colorscale": [
             [
              0,
              "#0d0887"
             ],
             [
              0.1111111111111111,
              "#46039f"
             ],
             [
              0.2222222222222222,
              "#7201a8"
             ],
             [
              0.3333333333333333,
              "#9c179e"
             ],
             [
              0.4444444444444444,
              "#bd3786"
             ],
             [
              0.5555555555555556,
              "#d8576b"
             ],
             [
              0.6666666666666666,
              "#ed7953"
             ],
             [
              0.7777777777777778,
              "#fb9f3a"
             ],
             [
              0.8888888888888888,
              "#fdca26"
             ],
             [
              1,
              "#f0f921"
             ]
            ],
            "type": "contour"
           }
          ],
          "contourcarpet": [
           {
            "colorbar": {
             "outlinewidth": 0,
             "ticks": ""
            },
            "type": "contourcarpet"
           }
          ],
          "heatmap": [
           {
            "colorbar": {
             "outlinewidth": 0,
             "ticks": ""
            },
            "colorscale": [
             [
              0,
              "#0d0887"
             ],
             [
              0.1111111111111111,
              "#46039f"
             ],
             [
              0.2222222222222222,
              "#7201a8"
             ],
             [
              0.3333333333333333,
              "#9c179e"
             ],
             [
              0.4444444444444444,
              "#bd3786"
             ],
             [
              0.5555555555555556,
              "#d8576b"
             ],
             [
              0.6666666666666666,
              "#ed7953"
             ],
             [
              0.7777777777777778,
              "#fb9f3a"
             ],
             [
              0.8888888888888888,
              "#fdca26"
             ],
             [
              1,
              "#f0f921"
             ]
            ],
            "type": "heatmap"
           }
          ],
          "heatmapgl": [
           {
            "colorbar": {
             "outlinewidth": 0,
             "ticks": ""
            },
            "colorscale": [
             [
              0,
              "#0d0887"
             ],
             [
              0.1111111111111111,
              "#46039f"
             ],
             [
              0.2222222222222222,
              "#7201a8"
             ],
             [
              0.3333333333333333,
              "#9c179e"
             ],
             [
              0.4444444444444444,
              "#bd3786"
             ],
             [
              0.5555555555555556,
              "#d8576b"
             ],
             [
              0.6666666666666666,
              "#ed7953"
             ],
             [
              0.7777777777777778,
              "#fb9f3a"
             ],
             [
              0.8888888888888888,
              "#fdca26"
             ],
             [
              1,
              "#f0f921"
             ]
            ],
            "type": "heatmapgl"
           }
          ],
          "histogram": [
           {
            "marker": {
             "pattern": {
              "fillmode": "overlay",
              "size": 10,
              "solidity": 0.2
             }
            },
            "type": "histogram"
           }
          ],
          "histogram2d": [
           {
            "colorbar": {
             "outlinewidth": 0,
             "ticks": ""
            },
            "colorscale": [
             [
              0,
              "#0d0887"
             ],
             [
              0.1111111111111111,
              "#46039f"
             ],
             [
              0.2222222222222222,
              "#7201a8"
             ],
             [
              0.3333333333333333,
              "#9c179e"
             ],
             [
              0.4444444444444444,
              "#bd3786"
             ],
             [
              0.5555555555555556,
              "#d8576b"
             ],
             [
              0.6666666666666666,
              "#ed7953"
             ],
             [
              0.7777777777777778,
              "#fb9f3a"
             ],
             [
              0.8888888888888888,
              "#fdca26"
             ],
             [
              1,
              "#f0f921"
             ]
            ],
            "type": "histogram2d"
           }
          ],
          "histogram2dcontour": [
           {
            "colorbar": {
             "outlinewidth": 0,
             "ticks": ""
            },
            "colorscale": [
             [
              0,
              "#0d0887"
             ],
             [
              0.1111111111111111,
              "#46039f"
             ],
             [
              0.2222222222222222,
              "#7201a8"
             ],
             [
              0.3333333333333333,
              "#9c179e"
             ],
             [
              0.4444444444444444,
              "#bd3786"
             ],
             [
              0.5555555555555556,
              "#d8576b"
             ],
             [
              0.6666666666666666,
              "#ed7953"
             ],
             [
              0.7777777777777778,
              "#fb9f3a"
             ],
             [
              0.8888888888888888,
              "#fdca26"
             ],
             [
              1,
              "#f0f921"
             ]
            ],
            "type": "histogram2dcontour"
           }
          ],
          "mesh3d": [
           {
            "colorbar": {
             "outlinewidth": 0,
             "ticks": ""
            },
            "type": "mesh3d"
           }
          ],
          "parcoords": [
           {
            "line": {
             "colorbar": {
              "outlinewidth": 0,
              "ticks": ""
             }
            },
            "type": "parcoords"
           }
          ],
          "pie": [
           {
            "automargin": true,
            "type": "pie"
           }
          ],
          "scatter": [
           {
            "fillpattern": {
             "fillmode": "overlay",
             "size": 10,
             "solidity": 0.2
            },
            "type": "scatter"
           }
          ],
          "scatter3d": [
           {
            "line": {
             "colorbar": {
              "outlinewidth": 0,
              "ticks": ""
             }
            },
            "marker": {
             "colorbar": {
              "outlinewidth": 0,
              "ticks": ""
             }
            },
            "type": "scatter3d"
           }
          ],
          "scattercarpet": [
           {
            "marker": {
             "colorbar": {
              "outlinewidth": 0,
              "ticks": ""
             }
            },
            "type": "scattercarpet"
           }
          ],
          "scattergeo": [
           {
            "marker": {
             "colorbar": {
              "outlinewidth": 0,
              "ticks": ""
             }
            },
            "type": "scattergeo"
           }
          ],
          "scattergl": [
           {
            "marker": {
             "colorbar": {
              "outlinewidth": 0,
              "ticks": ""
             }
            },
            "type": "scattergl"
           }
          ],
          "scattermapbox": [
           {
            "marker": {
             "colorbar": {
              "outlinewidth": 0,
              "ticks": ""
             }
            },
            "type": "scattermapbox"
           }
          ],
          "scatterpolar": [
           {
            "marker": {
             "colorbar": {
              "outlinewidth": 0,
              "ticks": ""
             }
            },
            "type": "scatterpolar"
           }
          ],
          "scatterpolargl": [
           {
            "marker": {
             "colorbar": {
              "outlinewidth": 0,
              "ticks": ""
             }
            },
            "type": "scatterpolargl"
           }
          ],
          "scatterternary": [
           {
            "marker": {
             "colorbar": {
              "outlinewidth": 0,
              "ticks": ""
             }
            },
            "type": "scatterternary"
           }
          ],
          "surface": [
           {
            "colorbar": {
             "outlinewidth": 0,
             "ticks": ""
            },
            "colorscale": [
             [
              0,
              "#0d0887"
             ],
             [
              0.1111111111111111,
              "#46039f"
             ],
             [
              0.2222222222222222,
              "#7201a8"
             ],
             [
              0.3333333333333333,
              "#9c179e"
             ],
             [
              0.4444444444444444,
              "#bd3786"
             ],
             [
              0.5555555555555556,
              "#d8576b"
             ],
             [
              0.6666666666666666,
              "#ed7953"
             ],
             [
              0.7777777777777778,
              "#fb9f3a"
             ],
             [
              0.8888888888888888,
              "#fdca26"
             ],
             [
              1,
              "#f0f921"
             ]
            ],
            "type": "surface"
           }
          ],
          "table": [
           {
            "cells": {
             "fill": {
              "color": "#EBF0F8"
             },
             "line": {
              "color": "white"
             }
            },
            "header": {
             "fill": {
              "color": "#C8D4E3"
             },
             "line": {
              "color": "white"
             }
            },
            "type": "table"
           }
          ]
         },
         "layout": {
          "annotationdefaults": {
           "arrowcolor": "#2a3f5f",
           "arrowhead": 0,
           "arrowwidth": 1
          },
          "autotypenumbers": "strict",
          "coloraxis": {
           "colorbar": {
            "outlinewidth": 0,
            "ticks": ""
           }
          },
          "colorscale": {
           "diverging": [
            [
             0,
             "#8e0152"
            ],
            [
             0.1,
             "#c51b7d"
            ],
            [
             0.2,
             "#de77ae"
            ],
            [
             0.3,
             "#f1b6da"
            ],
            [
             0.4,
             "#fde0ef"
            ],
            [
             0.5,
             "#f7f7f7"
            ],
            [
             0.6,
             "#e6f5d0"
            ],
            [
             0.7,
             "#b8e186"
            ],
            [
             0.8,
             "#7fbc41"
            ],
            [
             0.9,
             "#4d9221"
            ],
            [
             1,
             "#276419"
            ]
           ],
           "sequential": [
            [
             0,
             "#0d0887"
            ],
            [
             0.1111111111111111,
             "#46039f"
            ],
            [
             0.2222222222222222,
             "#7201a8"
            ],
            [
             0.3333333333333333,
             "#9c179e"
            ],
            [
             0.4444444444444444,
             "#bd3786"
            ],
            [
             0.5555555555555556,
             "#d8576b"
            ],
            [
             0.6666666666666666,
             "#ed7953"
            ],
            [
             0.7777777777777778,
             "#fb9f3a"
            ],
            [
             0.8888888888888888,
             "#fdca26"
            ],
            [
             1,
             "#f0f921"
            ]
           ],
           "sequentialminus": [
            [
             0,
             "#0d0887"
            ],
            [
             0.1111111111111111,
             "#46039f"
            ],
            [
             0.2222222222222222,
             "#7201a8"
            ],
            [
             0.3333333333333333,
             "#9c179e"
            ],
            [
             0.4444444444444444,
             "#bd3786"
            ],
            [
             0.5555555555555556,
             "#d8576b"
            ],
            [
             0.6666666666666666,
             "#ed7953"
            ],
            [
             0.7777777777777778,
             "#fb9f3a"
            ],
            [
             0.8888888888888888,
             "#fdca26"
            ],
            [
             1,
             "#f0f921"
            ]
           ]
          },
          "colorway": [
           "#636efa",
           "#EF553B",
           "#00cc96",
           "#ab63fa",
           "#FFA15A",
           "#19d3f3",
           "#FF6692",
           "#B6E880",
           "#FF97FF",
           "#FECB52"
          ],
          "font": {
           "color": "#2a3f5f"
          },
          "geo": {
           "bgcolor": "white",
           "lakecolor": "white",
           "landcolor": "#E5ECF6",
           "showlakes": true,
           "showland": true,
           "subunitcolor": "white"
          },
          "hoverlabel": {
           "align": "left"
          },
          "hovermode": "closest",
          "mapbox": {
           "style": "light"
          },
          "paper_bgcolor": "white",
          "plot_bgcolor": "#E5ECF6",
          "polar": {
           "angularaxis": {
            "gridcolor": "white",
            "linecolor": "white",
            "ticks": ""
           },
           "bgcolor": "#E5ECF6",
           "radialaxis": {
            "gridcolor": "white",
            "linecolor": "white",
            "ticks": ""
           }
          },
          "scene": {
           "xaxis": {
            "backgroundcolor": "#E5ECF6",
            "gridcolor": "white",
            "gridwidth": 2,
            "linecolor": "white",
            "showbackground": true,
            "ticks": "",
            "zerolinecolor": "white"
           },
           "yaxis": {
            "backgroundcolor": "#E5ECF6",
            "gridcolor": "white",
            "gridwidth": 2,
            "linecolor": "white",
            "showbackground": true,
            "ticks": "",
            "zerolinecolor": "white"
           },
           "zaxis": {
            "backgroundcolor": "#E5ECF6",
            "gridcolor": "white",
            "gridwidth": 2,
            "linecolor": "white",
            "showbackground": true,
            "ticks": "",
            "zerolinecolor": "white"
           }
          },
          "shapedefaults": {
           "line": {
            "color": "#2a3f5f"
           }
          },
          "ternary": {
           "aaxis": {
            "gridcolor": "white",
            "linecolor": "white",
            "ticks": ""
           },
           "baxis": {
            "gridcolor": "white",
            "linecolor": "white",
            "ticks": ""
           },
           "bgcolor": "#E5ECF6",
           "caxis": {
            "gridcolor": "white",
            "linecolor": "white",
            "ticks": ""
           }
          },
          "title": {
           "x": 0.05
          },
          "xaxis": {
           "automargin": true,
           "gridcolor": "white",
           "linecolor": "white",
           "ticks": "",
           "title": {
            "standoff": 15
           },
           "zerolinecolor": "white",
           "zerolinewidth": 2
          },
          "yaxis": {
           "automargin": true,
           "gridcolor": "white",
           "linecolor": "white",
           "ticks": "",
           "title": {
            "standoff": 15
           },
           "zerolinecolor": "white",
           "zerolinewidth": 2
          }
         }
        },
        "title": {
         "text": "Зависимость средней абсолютной ошибки от<br>количества нейронов на скрытом слое"
        },
        "width": 1280,
        "xaxis": {
         "title": {
          "text": "Количество нейронов на скрытом слое"
         }
        },
        "yaxis": {
         "title": {
          "text": "Средняя абсолютная ошибка"
         }
        }
       }
      }
     },
     "metadata": {},
     "output_type": "display_data"
    }
   ],
   "source": [
    "# Plotting results for training epochs amount\n",
    "fig = go.Figure()\n",
    "fig.add_trace(\n",
    "    go.Scatter(x=all_sizes, y=all_mapes,\n",
    "               name='Все наблюдения', mode='markers')\n",
    ")\n",
    "fig.add_trace(\n",
    "    go.Scatter(x=hidden_sizes, y=mapes_mean,\n",
    "               name='Средние значения', mode='lines+markers')\n",
    ")\n",
    "fig.update_layout(\n",
    "    title='Зависимость средней абсолютной ошибки от<br>количества нейронов на скрытом слое',\n",
    "    font=dict(size=20),\n",
    "    xaxis=dict(title='Количество нейронов на скрытом слое'),\n",
    "    yaxis=dict(title='Средняя абсолютная ошибка'),\n",
    "    width=1280,\n",
    "    height=720\n",
    ")\n",
    "fig.show()"
   ]
  },
  {
   "cell_type": "code",
   "execution_count": 35,
   "metadata": {},
   "outputs": [
    {
     "name": "stdout",
     "output_type": "stream",
     "text": [
      "TRAINING FINISHED\n",
      "Epoch 1000/1000, Loss: 29.387974\n",
      "MAPE: 0.287007\n",
      "TRAINING FINISHED\n",
      "Epoch 1000/1000, Loss: 29.469851\n",
      "MAPE: 0.279693\n",
      "TRAINING FINISHED\n",
      "Epoch 1000/1000, Loss: 30.767441\n",
      "MAPE: 0.280070\n",
      "TRAINING FINISHED\n",
      "Epoch 1000/1000, Loss: 21.877116\n",
      "MAPE: 0.249659\n",
      "TRAINING FINISHED\n",
      "Epoch 1000/1000, Loss: 19.543882\n",
      "MAPE: 0.242394\n",
      "TRAINING FINISHED\n",
      "Epoch 1000/1000, Loss: 27.083069\n",
      "MAPE: 0.262604\n",
      "TRAINING FINISHED\n",
      "Epoch 1000/1000, Loss: 22.499265\n",
      "MAPE: 0.230813\n",
      "TRAINING FINISHED\n",
      "Epoch 1000/1000, Loss: 24.643477\n",
      "MAPE: 0.251527\n",
      "TRAINING FINISHED\n",
      "Epoch 1000/1000, Loss: 21.068834\n",
      "MAPE: 0.225093\n",
      "TRAINING FINISHED\n",
      "Epoch 1000/1000, Loss: 7.646764\n",
      "MAPE: 0.120330\n",
      "TRAINING FINISHED\n",
      "Epoch 1000/1000, Loss: 16.548425\n",
      "MAPE: 0.181038\n",
      "TRAINING FINISHED\n",
      "Epoch 1000/1000, Loss: 14.014796\n",
      "MAPE: 0.166609\n",
      "TRAINING FINISHED\n",
      "Epoch 1000/1000, Loss: 5.821947\n",
      "MAPE: 0.094204\n",
      "TRAINING FINISHED\n",
      "Epoch 1000/1000, Loss: 6.225460\n",
      "MAPE: 0.088274\n",
      "TRAINING FINISHED\n",
      "Epoch 1000/1000, Loss: 6.605380\n",
      "MAPE: 0.100362\n",
      "TRAINING FINISHED\n",
      "Epoch 1000/1000, Loss: 6.985485\n",
      "MAPE: 0.075068\n",
      "TRAINING FINISHED\n",
      "Epoch 1000/1000, Loss: 7.310488\n",
      "MAPE: 0.102746\n",
      "TRAINING FINISHED\n",
      "Epoch 1000/1000, Loss: 4.398780\n",
      "MAPE: 0.081722\n",
      "TRAINING FINISHED\n",
      "Epoch 1000/1000, Loss: 3.887609\n",
      "MAPE: 0.054257\n",
      "TRAINING FINISHED\n",
      "Epoch 1000/1000, Loss: 4.605956\n",
      "MAPE: 0.067073\n",
      "TRAINING FINISHED\n",
      "Epoch 1000/1000, Loss: 6.045203\n",
      "MAPE: 0.079707\n",
      "TRAINING FINISHED\n",
      "Epoch 1000/1000, Loss: 3.518905\n",
      "MAPE: 0.046695\n",
      "TRAINING FINISHED\n",
      "Epoch 1000/1000, Loss: 4.286654\n",
      "MAPE: 0.062604\n",
      "TRAINING FINISHED\n",
      "Epoch 1000/1000, Loss: 3.717736\n",
      "MAPE: 0.063331\n",
      "TRAINING FINISHED\n",
      "Epoch 1000/1000, Loss: 6.806915\n",
      "MAPE: 0.070029\n",
      "TRAINING FINISHED\n",
      "Epoch 1000/1000, Loss: 6.425999\n",
      "MAPE: 0.069133\n",
      "TRAINING FINISHED\n",
      "Epoch 1000/1000, Loss: 6.167428\n",
      "MAPE: 0.071452\n",
      "TRAINING FINISHED\n",
      "Epoch 1000/1000, Loss: 6.058517\n",
      "MAPE: 0.072631\n",
      "TRAINING FINISHED\n",
      "Epoch 1000/1000, Loss: 7.026923\n",
      "MAPE: 0.087905\n",
      "TRAINING FINISHED\n",
      "Epoch 1000/1000, Loss: 5.248516\n",
      "MAPE: 0.068047\n",
      "TRAINING FINISHED\n",
      "Epoch 1000/1000, Loss: 4.226244\n",
      "MAPE: 0.055311\n",
      "TRAINING FINISHED\n",
      "Epoch 1000/1000, Loss: 3.021335\n",
      "MAPE: 0.046025\n",
      "TRAINING FINISHED\n",
      "Epoch 1000/1000, Loss: 4.555426\n",
      "MAPE: 0.050818\n"
     ]
    }
   ],
   "source": [
    "# MAPE relation with sliding window\n",
    "experiments_amount = 3\n",
    "# epochs = np.linspace(1000, 35000, endpoint=True, num=10).astype(np.int32).tolist()\n",
    "\n",
    "\n",
    "all_mapes = []\n",
    "mapes_mean = []\n",
    "\n",
    "all_sizes: list[int] = []\n",
    "\n",
    "seq_length = 50\n",
    "window_sizes = list(range(1, seq_length // 4))\n",
    "hidden_size = 10\n",
    "batch_size = 2\n",
    "output_size = 3\n",
    "\n",
    "verbosity = 100000\n",
    "max_mape = 1e-3\n",
    "learn_until_meet_mape = True\n",
    "lr = 1e-4\n",
    "max_epochs = 1000\n",
    "\n",
    "sequence = list(arithmetic_progression(seq_length, a0=1, d=1))\n",
    "\n",
    "for size in window_sizes:\n",
    "    X, y = create_sliding_window_batches(sequence, size, batch_size, output_size)    \n",
    "\n",
    "    # Training network for five times\n",
    "    mapes_sum = 0    \n",
    "    for _ in range(experiments_amount):              \n",
    "        \n",
    "        network = GRUModel(input_size=size, hidden_size=hidden_size,\n",
    "                           output_size=output_size)\n",
    "        _, _mape = network.train(x=X, y=y, lr=lr, max_epochs=max_epochs, verbosity=verbosity)\n",
    "        all_sizes.append(size)\n",
    "        mapes_sum += _mape        \n",
    "        all_mapes.append(_mape)    \n",
    "\n",
    "    # Average mape for epochs amount\n",
    "    mapes_mean.append(mapes_sum / experiments_amount)"
   ]
  },
  {
   "cell_type": "code",
   "execution_count": 36,
   "metadata": {},
   "outputs": [
    {
     "data": {
      "application/vnd.plotly.v1+json": {
       "config": {
        "plotlyServerURL": "https://plot.ly"
       },
       "data": [
        {
         "mode": "markers",
         "name": "Все наблюдения",
         "type": "scatter",
         "x": [
          1,
          1,
          1,
          2,
          2,
          2,
          3,
          3,
          3,
          4,
          4,
          4,
          5,
          5,
          5,
          6,
          6,
          6,
          7,
          7,
          7,
          8,
          8,
          8,
          9,
          9,
          9,
          10,
          10,
          10,
          11,
          11,
          11
         ],
         "y": [
          0.28700709844896,
          0.27969328631211204,
          0.2800697532275876,
          0.2496590296503088,
          0.24239366277289492,
          0.26260374621937466,
          0.23081255754732838,
          0.25152726286635285,
          0.22509320918422304,
          0.12033031781412888,
          0.18103836706506388,
          0.1666085885662237,
          0.09420413146673995,
          0.08827362257985764,
          0.10036173593289997,
          0.07506805127574229,
          0.10274550025333123,
          0.08172223759944929,
          0.054256910567110885,
          0.06707318348969822,
          0.07970689242684169,
          0.04669481245082063,
          0.062603678390634,
          0.06333057010201364,
          0.070029046848989,
          0.06913327806600465,
          0.07145186382319083,
          0.07263141108155154,
          0.08790521064753018,
          0.06804733470324052,
          0.055311187730478106,
          0.046025112096969835,
          0.05081758594970261
         ]
        },
        {
         "mode": "lines+markers",
         "name": "Средние значения",
         "type": "scatter",
         "x": [
          1,
          2,
          3,
          4,
          5,
          6,
          7,
          8,
          9,
          10,
          11
         ],
         "y": [
          0.28225671266288654,
          0.2515521462141928,
          0.23581100986596812,
          0.1559924244818055,
          0.09427982999316586,
          0.0865119297095076,
          0.0670123288278836,
          0.057543020314489414,
          0.07020472957939482,
          0.07619465214410742,
          0.05071796192571685
         ]
        }
       ],
       "layout": {
        "font": {
         "size": 20
        },
        "height": 720,
        "template": {
         "data": {
          "bar": [
           {
            "error_x": {
             "color": "#2a3f5f"
            },
            "error_y": {
             "color": "#2a3f5f"
            },
            "marker": {
             "line": {
              "color": "#E5ECF6",
              "width": 0.5
             },
             "pattern": {
              "fillmode": "overlay",
              "size": 10,
              "solidity": 0.2
             }
            },
            "type": "bar"
           }
          ],
          "barpolar": [
           {
            "marker": {
             "line": {
              "color": "#E5ECF6",
              "width": 0.5
             },
             "pattern": {
              "fillmode": "overlay",
              "size": 10,
              "solidity": 0.2
             }
            },
            "type": "barpolar"
           }
          ],
          "carpet": [
           {
            "aaxis": {
             "endlinecolor": "#2a3f5f",
             "gridcolor": "white",
             "linecolor": "white",
             "minorgridcolor": "white",
             "startlinecolor": "#2a3f5f"
            },
            "baxis": {
             "endlinecolor": "#2a3f5f",
             "gridcolor": "white",
             "linecolor": "white",
             "minorgridcolor": "white",
             "startlinecolor": "#2a3f5f"
            },
            "type": "carpet"
           }
          ],
          "choropleth": [
           {
            "colorbar": {
             "outlinewidth": 0,
             "ticks": ""
            },
            "type": "choropleth"
           }
          ],
          "contour": [
           {
            "colorbar": {
             "outlinewidth": 0,
             "ticks": ""
            },
            "colorscale": [
             [
              0,
              "#0d0887"
             ],
             [
              0.1111111111111111,
              "#46039f"
             ],
             [
              0.2222222222222222,
              "#7201a8"
             ],
             [
              0.3333333333333333,
              "#9c179e"
             ],
             [
              0.4444444444444444,
              "#bd3786"
             ],
             [
              0.5555555555555556,
              "#d8576b"
             ],
             [
              0.6666666666666666,
              "#ed7953"
             ],
             [
              0.7777777777777778,
              "#fb9f3a"
             ],
             [
              0.8888888888888888,
              "#fdca26"
             ],
             [
              1,
              "#f0f921"
             ]
            ],
            "type": "contour"
           }
          ],
          "contourcarpet": [
           {
            "colorbar": {
             "outlinewidth": 0,
             "ticks": ""
            },
            "type": "contourcarpet"
           }
          ],
          "heatmap": [
           {
            "colorbar": {
             "outlinewidth": 0,
             "ticks": ""
            },
            "colorscale": [
             [
              0,
              "#0d0887"
             ],
             [
              0.1111111111111111,
              "#46039f"
             ],
             [
              0.2222222222222222,
              "#7201a8"
             ],
             [
              0.3333333333333333,
              "#9c179e"
             ],
             [
              0.4444444444444444,
              "#bd3786"
             ],
             [
              0.5555555555555556,
              "#d8576b"
             ],
             [
              0.6666666666666666,
              "#ed7953"
             ],
             [
              0.7777777777777778,
              "#fb9f3a"
             ],
             [
              0.8888888888888888,
              "#fdca26"
             ],
             [
              1,
              "#f0f921"
             ]
            ],
            "type": "heatmap"
           }
          ],
          "heatmapgl": [
           {
            "colorbar": {
             "outlinewidth": 0,
             "ticks": ""
            },
            "colorscale": [
             [
              0,
              "#0d0887"
             ],
             [
              0.1111111111111111,
              "#46039f"
             ],
             [
              0.2222222222222222,
              "#7201a8"
             ],
             [
              0.3333333333333333,
              "#9c179e"
             ],
             [
              0.4444444444444444,
              "#bd3786"
             ],
             [
              0.5555555555555556,
              "#d8576b"
             ],
             [
              0.6666666666666666,
              "#ed7953"
             ],
             [
              0.7777777777777778,
              "#fb9f3a"
             ],
             [
              0.8888888888888888,
              "#fdca26"
             ],
             [
              1,
              "#f0f921"
             ]
            ],
            "type": "heatmapgl"
           }
          ],
          "histogram": [
           {
            "marker": {
             "pattern": {
              "fillmode": "overlay",
              "size": 10,
              "solidity": 0.2
             }
            },
            "type": "histogram"
           }
          ],
          "histogram2d": [
           {
            "colorbar": {
             "outlinewidth": 0,
             "ticks": ""
            },
            "colorscale": [
             [
              0,
              "#0d0887"
             ],
             [
              0.1111111111111111,
              "#46039f"
             ],
             [
              0.2222222222222222,
              "#7201a8"
             ],
             [
              0.3333333333333333,
              "#9c179e"
             ],
             [
              0.4444444444444444,
              "#bd3786"
             ],
             [
              0.5555555555555556,
              "#d8576b"
             ],
             [
              0.6666666666666666,
              "#ed7953"
             ],
             [
              0.7777777777777778,
              "#fb9f3a"
             ],
             [
              0.8888888888888888,
              "#fdca26"
             ],
             [
              1,
              "#f0f921"
             ]
            ],
            "type": "histogram2d"
           }
          ],
          "histogram2dcontour": [
           {
            "colorbar": {
             "outlinewidth": 0,
             "ticks": ""
            },
            "colorscale": [
             [
              0,
              "#0d0887"
             ],
             [
              0.1111111111111111,
              "#46039f"
             ],
             [
              0.2222222222222222,
              "#7201a8"
             ],
             [
              0.3333333333333333,
              "#9c179e"
             ],
             [
              0.4444444444444444,
              "#bd3786"
             ],
             [
              0.5555555555555556,
              "#d8576b"
             ],
             [
              0.6666666666666666,
              "#ed7953"
             ],
             [
              0.7777777777777778,
              "#fb9f3a"
             ],
             [
              0.8888888888888888,
              "#fdca26"
             ],
             [
              1,
              "#f0f921"
             ]
            ],
            "type": "histogram2dcontour"
           }
          ],
          "mesh3d": [
           {
            "colorbar": {
             "outlinewidth": 0,
             "ticks": ""
            },
            "type": "mesh3d"
           }
          ],
          "parcoords": [
           {
            "line": {
             "colorbar": {
              "outlinewidth": 0,
              "ticks": ""
             }
            },
            "type": "parcoords"
           }
          ],
          "pie": [
           {
            "automargin": true,
            "type": "pie"
           }
          ],
          "scatter": [
           {
            "fillpattern": {
             "fillmode": "overlay",
             "size": 10,
             "solidity": 0.2
            },
            "type": "scatter"
           }
          ],
          "scatter3d": [
           {
            "line": {
             "colorbar": {
              "outlinewidth": 0,
              "ticks": ""
             }
            },
            "marker": {
             "colorbar": {
              "outlinewidth": 0,
              "ticks": ""
             }
            },
            "type": "scatter3d"
           }
          ],
          "scattercarpet": [
           {
            "marker": {
             "colorbar": {
              "outlinewidth": 0,
              "ticks": ""
             }
            },
            "type": "scattercarpet"
           }
          ],
          "scattergeo": [
           {
            "marker": {
             "colorbar": {
              "outlinewidth": 0,
              "ticks": ""
             }
            },
            "type": "scattergeo"
           }
          ],
          "scattergl": [
           {
            "marker": {
             "colorbar": {
              "outlinewidth": 0,
              "ticks": ""
             }
            },
            "type": "scattergl"
           }
          ],
          "scattermapbox": [
           {
            "marker": {
             "colorbar": {
              "outlinewidth": 0,
              "ticks": ""
             }
            },
            "type": "scattermapbox"
           }
          ],
          "scatterpolar": [
           {
            "marker": {
             "colorbar": {
              "outlinewidth": 0,
              "ticks": ""
             }
            },
            "type": "scatterpolar"
           }
          ],
          "scatterpolargl": [
           {
            "marker": {
             "colorbar": {
              "outlinewidth": 0,
              "ticks": ""
             }
            },
            "type": "scatterpolargl"
           }
          ],
          "scatterternary": [
           {
            "marker": {
             "colorbar": {
              "outlinewidth": 0,
              "ticks": ""
             }
            },
            "type": "scatterternary"
           }
          ],
          "surface": [
           {
            "colorbar": {
             "outlinewidth": 0,
             "ticks": ""
            },
            "colorscale": [
             [
              0,
              "#0d0887"
             ],
             [
              0.1111111111111111,
              "#46039f"
             ],
             [
              0.2222222222222222,
              "#7201a8"
             ],
             [
              0.3333333333333333,
              "#9c179e"
             ],
             [
              0.4444444444444444,
              "#bd3786"
             ],
             [
              0.5555555555555556,
              "#d8576b"
             ],
             [
              0.6666666666666666,
              "#ed7953"
             ],
             [
              0.7777777777777778,
              "#fb9f3a"
             ],
             [
              0.8888888888888888,
              "#fdca26"
             ],
             [
              1,
              "#f0f921"
             ]
            ],
            "type": "surface"
           }
          ],
          "table": [
           {
            "cells": {
             "fill": {
              "color": "#EBF0F8"
             },
             "line": {
              "color": "white"
             }
            },
            "header": {
             "fill": {
              "color": "#C8D4E3"
             },
             "line": {
              "color": "white"
             }
            },
            "type": "table"
           }
          ]
         },
         "layout": {
          "annotationdefaults": {
           "arrowcolor": "#2a3f5f",
           "arrowhead": 0,
           "arrowwidth": 1
          },
          "autotypenumbers": "strict",
          "coloraxis": {
           "colorbar": {
            "outlinewidth": 0,
            "ticks": ""
           }
          },
          "colorscale": {
           "diverging": [
            [
             0,
             "#8e0152"
            ],
            [
             0.1,
             "#c51b7d"
            ],
            [
             0.2,
             "#de77ae"
            ],
            [
             0.3,
             "#f1b6da"
            ],
            [
             0.4,
             "#fde0ef"
            ],
            [
             0.5,
             "#f7f7f7"
            ],
            [
             0.6,
             "#e6f5d0"
            ],
            [
             0.7,
             "#b8e186"
            ],
            [
             0.8,
             "#7fbc41"
            ],
            [
             0.9,
             "#4d9221"
            ],
            [
             1,
             "#276419"
            ]
           ],
           "sequential": [
            [
             0,
             "#0d0887"
            ],
            [
             0.1111111111111111,
             "#46039f"
            ],
            [
             0.2222222222222222,
             "#7201a8"
            ],
            [
             0.3333333333333333,
             "#9c179e"
            ],
            [
             0.4444444444444444,
             "#bd3786"
            ],
            [
             0.5555555555555556,
             "#d8576b"
            ],
            [
             0.6666666666666666,
             "#ed7953"
            ],
            [
             0.7777777777777778,
             "#fb9f3a"
            ],
            [
             0.8888888888888888,
             "#fdca26"
            ],
            [
             1,
             "#f0f921"
            ]
           ],
           "sequentialminus": [
            [
             0,
             "#0d0887"
            ],
            [
             0.1111111111111111,
             "#46039f"
            ],
            [
             0.2222222222222222,
             "#7201a8"
            ],
            [
             0.3333333333333333,
             "#9c179e"
            ],
            [
             0.4444444444444444,
             "#bd3786"
            ],
            [
             0.5555555555555556,
             "#d8576b"
            ],
            [
             0.6666666666666666,
             "#ed7953"
            ],
            [
             0.7777777777777778,
             "#fb9f3a"
            ],
            [
             0.8888888888888888,
             "#fdca26"
            ],
            [
             1,
             "#f0f921"
            ]
           ]
          },
          "colorway": [
           "#636efa",
           "#EF553B",
           "#00cc96",
           "#ab63fa",
           "#FFA15A",
           "#19d3f3",
           "#FF6692",
           "#B6E880",
           "#FF97FF",
           "#FECB52"
          ],
          "font": {
           "color": "#2a3f5f"
          },
          "geo": {
           "bgcolor": "white",
           "lakecolor": "white",
           "landcolor": "#E5ECF6",
           "showlakes": true,
           "showland": true,
           "subunitcolor": "white"
          },
          "hoverlabel": {
           "align": "left"
          },
          "hovermode": "closest",
          "mapbox": {
           "style": "light"
          },
          "paper_bgcolor": "white",
          "plot_bgcolor": "#E5ECF6",
          "polar": {
           "angularaxis": {
            "gridcolor": "white",
            "linecolor": "white",
            "ticks": ""
           },
           "bgcolor": "#E5ECF6",
           "radialaxis": {
            "gridcolor": "white",
            "linecolor": "white",
            "ticks": ""
           }
          },
          "scene": {
           "xaxis": {
            "backgroundcolor": "#E5ECF6",
            "gridcolor": "white",
            "gridwidth": 2,
            "linecolor": "white",
            "showbackground": true,
            "ticks": "",
            "zerolinecolor": "white"
           },
           "yaxis": {
            "backgroundcolor": "#E5ECF6",
            "gridcolor": "white",
            "gridwidth": 2,
            "linecolor": "white",
            "showbackground": true,
            "ticks": "",
            "zerolinecolor": "white"
           },
           "zaxis": {
            "backgroundcolor": "#E5ECF6",
            "gridcolor": "white",
            "gridwidth": 2,
            "linecolor": "white",
            "showbackground": true,
            "ticks": "",
            "zerolinecolor": "white"
           }
          },
          "shapedefaults": {
           "line": {
            "color": "#2a3f5f"
           }
          },
          "ternary": {
           "aaxis": {
            "gridcolor": "white",
            "linecolor": "white",
            "ticks": ""
           },
           "baxis": {
            "gridcolor": "white",
            "linecolor": "white",
            "ticks": ""
           },
           "bgcolor": "#E5ECF6",
           "caxis": {
            "gridcolor": "white",
            "linecolor": "white",
            "ticks": ""
           }
          },
          "title": {
           "x": 0.05
          },
          "xaxis": {
           "automargin": true,
           "gridcolor": "white",
           "linecolor": "white",
           "ticks": "",
           "title": {
            "standoff": 15
           },
           "zerolinecolor": "white",
           "zerolinewidth": 2
          },
          "yaxis": {
           "automargin": true,
           "gridcolor": "white",
           "linecolor": "white",
           "ticks": "",
           "title": {
            "standoff": 15
           },
           "zerolinecolor": "white",
           "zerolinewidth": 2
          }
         }
        },
        "title": {
         "text": "Зависимость средней абсолютной ошибки от<br>размера скользящего окна"
        },
        "width": 1280,
        "xaxis": {
         "title": {
          "text": "Размер скользящего окна"
         }
        },
        "yaxis": {
         "title": {
          "text": "Средняя абсолютная ошибка"
         }
        }
       }
      }
     },
     "metadata": {},
     "output_type": "display_data"
    }
   ],
   "source": [
    "# Plotting results\n",
    "fig = go.Figure()\n",
    "fig.add_trace(\n",
    "    go.Scatter(x=all_sizes, y=all_mapes,\n",
    "               name='Все наблюдения', mode='markers')\n",
    ")\n",
    "fig.add_trace(\n",
    "    go.Scatter(x=window_sizes, y=mapes_mean,\n",
    "               name='Средние значения', mode='lines+markers')\n",
    ")\n",
    "fig.update_layout(\n",
    "    title='Зависимость средней абсолютной ошибки от<br>размера скользящего окна',\n",
    "    font=dict(size=20),\n",
    "    xaxis=dict(title='Размер скользящего окна'),\n",
    "    yaxis=dict(title='Средняя абсолютная ошибка'),\n",
    "    width=1280,\n",
    "    height=720\n",
    ")\n",
    "fig.show()"
   ]
  },
  {
   "cell_type": "code",
   "execution_count": 40,
   "metadata": {},
   "outputs": [
    {
     "name": "stdout",
     "output_type": "stream",
     "text": [
      "Epoch 5000/5000, Loss: 0.559535\n",
      "MAPE: 0.033087\n",
      "TRAINING FINISHED\n",
      "Epoch 5000/5000, Loss: 0.559535\n",
      "MAPE: 0.033087\n",
      "TEST\n",
      "Предсказания на тестовой выборке:\n",
      " [[42.04275696 43.0435765  44.08151996]]\n",
      "Истинное значение на тестовой выборке:\n",
      " [[44 45 46]]\n",
      "MAPE: 4.3222%\n"
     ]
    }
   ],
   "source": [
    "seq_length = 50\n",
    "window_size = 5\n",
    "batch_size = 1\n",
    "hidden_size = 10\n",
    "output_size = 3\n",
    "\n",
    "sequence = list(arithmetic_progression(seq_length, 1, 1))\n",
    "X, y = create_sliding_window_batches(sequence, window_size, batch_size, output_size)\n",
    "X_train, y_train = X[0:int(len(X) * 0.8)], y[0:int(len(X) * 0.8)]\n",
    "X_test, y_test = X[int(len(X) * 0.8):], y[int(len(X) * 0.8):][0:window_size]\n",
    "\n",
    "verbosity = 5000\n",
    "model = GRUModel(window_size, hidden_size, output_size)\n",
    "\n",
    "# Параметры обучения\n",
    "lr = 1e-2\n",
    "epochs = 5000\n",
    "\n",
    "model.train(x=X_train, y=y_train, lr=lr, max_epochs=epochs, verbosity=verbosity)\n",
    "\n",
    "# y_pred, _, _ = model.forward(X_train)\n",
    "# print(X_train.shape == y_pred.shape)\n",
    "# print(\"Предсказание после обучения:\\n\", y_pred)\n",
    "# print(\"Истинное значение:\\n\", y_train)\n",
    "# print(f\"MAPE: {mape(y_train, y_pred) * 100:.4f}%\")\n",
    "\n",
    "print('TEST')\n",
    "y_pred, _, _ = model.forward(X_test)\n",
    "print(\"Предсказания на тестовой выборке:\\n\", y_pred[-1])\n",
    "print(\"Истинное значение на тестовой выборке:\\n\", y_test[-1])\n",
    "print(f\"MAPE: {mape(y_test[-1], y_pred[-1]) * 100:.4f}%\")  "
   ]
  }
 ],
 "metadata": {
  "kernelspec": {
   "display_name": ".venv",
   "language": "python",
   "name": "python3"
  },
  "language_info": {
   "codemirror_mode": {
    "name": "ipython",
    "version": 3
   },
   "file_extension": ".py",
   "mimetype": "text/x-python",
   "name": "python",
   "nbconvert_exporter": "python",
   "pygments_lexer": "ipython3",
   "version": "3.11.9"
  }
 },
 "nbformat": 4,
 "nbformat_minor": 2
}
