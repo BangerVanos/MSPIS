{
 "cells": [
  {
   "cell_type": "code",
   "execution_count": 4,
   "metadata": {},
   "outputs": [],
   "source": [
    "import numpy as np\n",
    "from lstm2 import (\n",
    "    LSTMModel,\n",
    "    fibonacci_generator,\n",
    "    one_by_n_generator,\n",
    "    plus_one_minus_one_generator,\n",
    "    squared_generator,\n",
    "    half_generator,\n",
    "    arithmetic_progression,\n",
    "    create_sliding_window_batches,\n",
    "    one_half_generator,    \n",
    "    mape\n",
    ")\n",
    "import plotly.graph_objects as go"
   ]
  },
  {
   "cell_type": "code",
   "execution_count": 5,
   "metadata": {},
   "outputs": [],
   "source": [
    "# seq_length = 10\n",
    "# window_size = 5\n",
    "# batch_size = 2\n",
    "# hidden_size = 4\n",
    "# output_size = 3\n",
    "\n",
    "# sequence = list(fibonacci_generator(seq_length))\n",
    "# X, y = create_sliding_window_batches(sequence, window_size, batch_size, output_size)\n",
    "# X_train, y_train = X[0:int(len(X) * 0.8)], y[0:int(len(X) * 0.8)][-1]\n",
    "# X_test, y_test = X[int(len(X) * 0.8):], y[int(len(X) * 0.8):][-1]\n",
    "\n",
    "# verbosity = 1000\n",
    "\n",
    "# max_mape = 1e-3\n",
    "# learn_until_meet_mape = True\n",
    "\n",
    "# model = GRUModel(window_size, hidden_size, output_size)\n",
    "\n",
    "# # Параметры обучения\n",
    "# lr = 1e-4\n",
    "# epochs = 5000\n",
    "\n",
    "# model.train(X_train, y_train, lr, epochs,\n",
    "#             True, max_mape, verbosity)\n",
    "# Проверим результат после обучения\n",
    "# y_pred, _, _ = model.forward(X_train)\n",
    "# print(\"Предсказание после обучения:\\n\", y_pred)\n",
    "# print(\"Истинное значение:\\n\", y_train)\n",
    "# print(f\"MAPE: {mape(y_train, y_pred) * 100:.4f}%\")\n",
    "\n",
    "# print('TEST')\n",
    "# y_pred, _, _ = model.forward(X_test)\n",
    "# print(\"Предсказания на тестовой выборке:\\n\", y_pred)\n",
    "# print(\"Истинное значение на тестовой выборке:\\n\", y_test)\n",
    "# print(f\"MAPE: {mape(y_test, y_pred) * 100:.4f}%\")  "
   ]
  },
  {
   "cell_type": "code",
   "execution_count": 17,
   "metadata": {},
   "outputs": [
    {
     "name": "stdout",
     "output_type": "stream",
     "text": [
      "TRAINING FINISHED\n",
      "Epoch 100/100, Loss: 130.652030\n",
      "MAPE: 0.820560\n",
      "TRAINING FINISHED\n",
      "Epoch 100/100, Loss: 167.648488\n",
      "MAPE: 0.925938\n",
      "TRAINING FINISHED\n",
      "Epoch 100/100, Loss: 96.537978\n",
      "MAPE: 0.704059\n",
      "TRAINING FINISHED\n",
      "Epoch 100/100, Loss: 130.026692\n",
      "MAPE: 0.824388\n",
      "TRAINING FINISHED\n",
      "Epoch 100/100, Loss: 152.437521\n",
      "MAPE: 0.887367\n",
      "TRAINING FINISHED\n",
      "Epoch 200/200, Loss: 69.868951\n",
      "MAPE: 0.594927\n",
      "TRAINING FINISHED\n",
      "Epoch 200/200, Loss: 119.207397\n",
      "MAPE: 0.781790\n",
      "TRAINING FINISHED\n",
      "Epoch 200/200, Loss: 91.764338\n",
      "MAPE: 0.688739\n",
      "TRAINING FINISHED\n",
      "Epoch 200/200, Loss: 140.589988\n",
      "MAPE: 0.841248\n",
      "TRAINING FINISHED\n",
      "Epoch 200/200, Loss: 105.769011\n",
      "MAPE: 0.741651\n",
      "TRAINING FINISHED\n",
      "Epoch 300/300, Loss: 51.415716\n",
      "MAPE: 0.512712\n",
      "TRAINING FINISHED\n",
      "Epoch 300/300, Loss: 58.008942\n",
      "MAPE: 0.540236\n",
      "TRAINING FINISHED\n",
      "Epoch 300/300, Loss: 25.979546\n",
      "MAPE: 0.368854\n",
      "TRAINING FINISHED\n",
      "Epoch 300/300, Loss: 101.968916\n",
      "MAPE: 0.710995\n",
      "TRAINING FINISHED\n",
      "Epoch 300/300, Loss: 56.419472\n",
      "MAPE: 0.534478\n",
      "TRAINING FINISHED\n",
      "Epoch 400/400, Loss: 17.074447\n",
      "MAPE: 0.288790\n",
      "TRAINING FINISHED\n",
      "Epoch 400/400, Loss: 30.646359\n",
      "MAPE: 0.394735\n",
      "TRAINING FINISHED\n",
      "Epoch 400/400, Loss: 26.884724\n",
      "MAPE: 0.358967\n",
      "TRAINING FINISHED\n",
      "Epoch 400/400, Loss: 45.375839\n",
      "MAPE: 0.476798\n",
      "TRAINING FINISHED\n",
      "Epoch 400/400, Loss: 59.900823\n",
      "MAPE: 0.555360\n",
      "TRAINING FINISHED\n",
      "Epoch 500/500, Loss: 35.241167\n",
      "MAPE: 0.405464\n",
      "TRAINING FINISHED\n",
      "Epoch 500/500, Loss: 15.995673\n",
      "MAPE: 0.276768\n",
      "TRAINING FINISHED\n",
      "Epoch 500/500, Loss: 20.166052\n",
      "MAPE: 0.298694\n",
      "TRAINING FINISHED\n",
      "Epoch 500/500, Loss: 34.411787\n",
      "MAPE: 0.410869\n",
      "TRAINING FINISHED\n",
      "Epoch 500/500, Loss: 24.358414\n",
      "MAPE: 0.340774\n",
      "TRAINING FINISHED\n",
      "Epoch 600/600, Loss: 5.329410\n",
      "MAPE: 0.145261\n",
      "TRAINING FINISHED\n",
      "Epoch 600/600, Loss: 5.472867\n",
      "MAPE: 0.138582\n",
      "TRAINING FINISHED\n",
      "Epoch 600/600, Loss: 15.818990\n",
      "MAPE: 0.260435\n",
      "TRAINING FINISHED\n",
      "Epoch 600/600, Loss: 15.395856\n",
      "MAPE: 0.265020\n",
      "TRAINING FINISHED\n",
      "Epoch 600/600, Loss: 6.368870\n",
      "MAPE: 0.156261\n",
      "TRAINING FINISHED\n",
      "Epoch 700/700, Loss: 5.766646\n",
      "MAPE: 0.144141\n",
      "TRAINING FINISHED\n",
      "Epoch 700/700, Loss: 12.852403\n",
      "MAPE: 0.235559\n",
      "TRAINING FINISHED\n",
      "Epoch 700/700, Loss: 6.750252\n",
      "MAPE: 0.162233\n",
      "TRAINING FINISHED\n",
      "Epoch 700/700, Loss: 11.044436\n",
      "MAPE: 0.218297\n",
      "TRAINING FINISHED\n",
      "Epoch 700/700, Loss: 12.922284\n",
      "MAPE: 0.235332\n",
      "TRAINING FINISHED\n",
      "Epoch 800/800, Loss: 4.074253\n",
      "MAPE: 0.105381\n",
      "TRAINING FINISHED\n",
      "Epoch 800/800, Loss: 11.283248\n",
      "MAPE: 0.211390\n",
      "TRAINING FINISHED\n",
      "Epoch 800/800, Loss: 2.847747\n",
      "MAPE: 0.094189\n",
      "TRAINING FINISHED\n",
      "Epoch 800/800, Loss: 2.168623\n",
      "MAPE: 0.088308\n",
      "TRAINING FINISHED\n",
      "Epoch 800/800, Loss: 2.472025\n",
      "MAPE: 0.087110\n",
      "TRAINING FINISHED\n",
      "Epoch 900/900, Loss: 7.279671\n",
      "MAPE: 0.149429\n",
      "TRAINING FINISHED\n",
      "Epoch 900/900, Loss: 3.076973\n",
      "MAPE: 0.094195\n",
      "TRAINING FINISHED\n",
      "Epoch 900/900, Loss: 8.902192\n",
      "MAPE: 0.179859\n",
      "TRAINING FINISHED\n",
      "Epoch 900/900, Loss: 2.968706\n",
      "MAPE: 0.090891\n",
      "TRAINING FINISHED\n",
      "Epoch 900/900, Loss: 1.731477\n",
      "MAPE: 0.082287\n",
      "TRAINING FINISHED\n",
      "Epoch 1000/1000, Loss: 1.416656\n",
      "MAPE: 0.075748\n",
      "TRAINING FINISHED\n",
      "Epoch 1000/1000, Loss: 22.321880\n",
      "MAPE: 0.296676\n",
      "TRAINING FINISHED\n",
      "Epoch 1000/1000, Loss: 2.207893\n",
      "MAPE: 0.084150\n",
      "TRAINING FINISHED\n",
      "Epoch 1000/1000, Loss: 17.423073\n",
      "MAPE: 0.265549\n",
      "TRAINING FINISHED\n",
      "Epoch 1000/1000, Loss: 5.235830\n",
      "MAPE: 0.122946\n",
      "TRAINING FINISHED\n",
      "Epoch 1100/1100, Loss: 5.081360\n",
      "MAPE: 0.112198\n",
      "TRAINING FINISHED\n",
      "Epoch 1100/1100, Loss: 1.198729\n",
      "MAPE: 0.073982\n",
      "TRAINING FINISHED\n",
      "Epoch 1100/1100, Loss: 2.100134\n",
      "MAPE: 0.079406\n",
      "TRAINING FINISHED\n",
      "Epoch 1100/1100, Loss: 1.007280\n",
      "MAPE: 0.075401\n",
      "TRAINING FINISHED\n",
      "Epoch 1100/1100, Loss: 2.526440\n",
      "MAPE: 0.084458\n",
      "TRAINING FINISHED\n",
      "Epoch 1200/1200, Loss: 1.030183\n",
      "MAPE: 0.074751\n",
      "TRAINING FINISHED\n",
      "Epoch 1200/1200, Loss: 1.271353\n",
      "MAPE: 0.073256\n",
      "TRAINING FINISHED\n",
      "Epoch 1200/1200, Loss: 3.025407\n",
      "MAPE: 0.088749\n",
      "TRAINING FINISHED\n",
      "Epoch 1200/1200, Loss: 1.077689\n",
      "MAPE: 0.076749\n",
      "TRAINING FINISHED\n",
      "Epoch 1200/1200, Loss: 1.084794\n",
      "MAPE: 0.077184\n",
      "TRAINING FINISHED\n",
      "Epoch 1300/1300, Loss: 1.133909\n",
      "MAPE: 0.073909\n",
      "TRAINING FINISHED\n",
      "Epoch 1300/1300, Loss: 1.440119\n",
      "MAPE: 0.075686\n",
      "TRAINING FINISHED\n",
      "Epoch 1300/1300, Loss: 1.264756\n",
      "MAPE: 0.077953\n",
      "TRAINING FINISHED\n",
      "Epoch 1300/1300, Loss: 1.501977\n",
      "MAPE: 0.075225\n",
      "TRAINING FINISHED\n",
      "Epoch 1300/1300, Loss: 4.840783\n",
      "MAPE: 0.113216\n",
      "TRAINING FINISHED\n",
      "Epoch 1400/1400, Loss: 1.995377\n",
      "MAPE: 0.080878\n",
      "TRAINING FINISHED\n",
      "Epoch 1400/1400, Loss: 1.686138\n",
      "MAPE: 0.079448\n",
      "TRAINING FINISHED\n",
      "Epoch 1400/1400, Loss: 1.198824\n",
      "MAPE: 0.077485\n",
      "TRAINING FINISHED\n",
      "Epoch 1400/1400, Loss: 2.162339\n",
      "MAPE: 0.082208\n",
      "TRAINING FINISHED\n",
      "Epoch 1400/1400, Loss: 1.998890\n",
      "MAPE: 0.078544\n",
      "TRAINING FINISHED\n",
      "Epoch 1500/1500, Loss: 1.239898\n",
      "MAPE: 0.081046\n",
      "TRAINING FINISHED\n",
      "Epoch 1500/1500, Loss: 1.124992\n",
      "MAPE: 0.077177\n",
      "TRAINING FINISHED\n",
      "Epoch 1500/1500, Loss: 1.043487\n",
      "MAPE: 0.076087\n",
      "TRAINING FINISHED\n",
      "Epoch 1500/1500, Loss: 1.337315\n",
      "MAPE: 0.074982\n",
      "TRAINING FINISHED\n",
      "Epoch 1500/1500, Loss: 1.091838\n",
      "MAPE: 0.074468\n",
      "TRAINING FINISHED\n",
      "Epoch 1600/1600, Loss: 1.044796\n",
      "MAPE: 0.075182\n",
      "TRAINING FINISHED\n",
      "Epoch 1600/1600, Loss: 0.921236\n",
      "MAPE: 0.073319\n",
      "TRAINING FINISHED\n",
      "Epoch 1600/1600, Loss: 1.857446\n",
      "MAPE: 0.078975\n",
      "TRAINING FINISHED\n",
      "Epoch 1600/1600, Loss: 1.362257\n",
      "MAPE: 0.074915\n",
      "TRAINING FINISHED\n",
      "Epoch 1600/1600, Loss: 1.252825\n",
      "MAPE: 0.074244\n",
      "TRAINING FINISHED\n",
      "Epoch 1700/1700, Loss: 1.118383\n",
      "MAPE: 0.079047\n",
      "TRAINING FINISHED\n",
      "Epoch 1700/1700, Loss: 1.125081\n",
      "MAPE: 0.077225\n",
      "TRAINING FINISHED\n",
      "Epoch 1700/1700, Loss: 1.006943\n",
      "MAPE: 0.071772\n",
      "TRAINING FINISHED\n",
      "Epoch 1700/1700, Loss: 1.252503\n",
      "MAPE: 0.076654\n",
      "TRAINING FINISHED\n",
      "Epoch 1700/1700, Loss: 1.123997\n",
      "MAPE: 0.077084\n",
      "TRAINING FINISHED\n",
      "Epoch 1800/1800, Loss: 1.189957\n",
      "MAPE: 0.074878\n",
      "TRAINING FINISHED\n",
      "Epoch 1800/1800, Loss: 1.005774\n",
      "MAPE: 0.077958\n",
      "TRAINING FINISHED\n",
      "Epoch 1800/1800, Loss: 1.299101\n",
      "MAPE: 0.077229\n",
      "TRAINING FINISHED\n",
      "Epoch 1800/1800, Loss: 0.902431\n",
      "MAPE: 0.071976\n",
      "TRAINING FINISHED\n",
      "Epoch 1800/1800, Loss: 1.557565\n",
      "MAPE: 0.077348\n",
      "TRAINING FINISHED\n",
      "Epoch 1900/1900, Loss: 0.928974\n",
      "MAPE: 0.072829\n",
      "TRAINING FINISHED\n",
      "Epoch 1900/1900, Loss: 1.003826\n",
      "MAPE: 0.074822\n",
      "TRAINING FINISHED\n",
      "Epoch 1900/1900, Loss: 1.345073\n",
      "MAPE: 0.073109\n",
      "TRAINING FINISHED\n",
      "Epoch 1900/1900, Loss: 1.228025\n",
      "MAPE: 0.075129\n",
      "TRAINING FINISHED\n",
      "Epoch 1900/1900, Loss: 1.094063\n",
      "MAPE: 0.077729\n",
      "TRAINING FINISHED\n",
      "Epoch 2000/2000, Loss: 0.984320\n",
      "MAPE: 0.074255\n",
      "TRAINING FINISHED\n",
      "Epoch 2000/2000, Loss: 1.170404\n",
      "MAPE: 0.075543\n",
      "TRAINING FINISHED\n",
      "Epoch 2000/2000, Loss: 1.271893\n",
      "MAPE: 0.078645\n",
      "TRAINING FINISHED\n",
      "Epoch 2000/2000, Loss: 1.091539\n",
      "MAPE: 0.077926\n",
      "TRAINING FINISHED\n",
      "Epoch 2000/2000, Loss: 1.315154\n",
      "MAPE: 0.076010\n"
     ]
    }
   ],
   "source": [
    "experiments_amount = 5\n",
    "# epochs = np.linspace(1000, 35000, endpoint=True, num=10).astype(np.int32).tolist()\n",
    "epochs = list(range(100, 2100, 100))\n",
    "\n",
    "# np.random.seed(12345)\n",
    "\n",
    "all_mapes = []\n",
    "mapes_mean = []\n",
    "\n",
    "all_epochs: list[int] = []\n",
    "\n",
    "seq_length = 20\n",
    "window_size = 5\n",
    "batch_size = 2\n",
    "hidden_size = 10\n",
    "output_size = 3\n",
    "\n",
    "verbosity = 100000\n",
    "lr = 1e-4\n",
    "\n",
    "sequence = list(arithmetic_progression(seq_length, a0=1, d=1))\n",
    "X, y = create_sliding_window_batches(sequence, window_size, batch_size, output_size)\n",
    "\n",
    "for max_epochs in epochs:    \n",
    "\n",
    "    # Training network for five times\n",
    "    mapes_sum = 0    \n",
    "    for _ in range(experiments_amount):              \n",
    "        \n",
    "        network = LSTMModel(input_size=window_size, hidden_size=hidden_size,\n",
    "                           output_size=output_size)\n",
    "        _, _mape = network.train(x=X, y=y, lr=lr, max_epochs=max_epochs, verbosity=verbosity)\n",
    "        all_epochs.append(max_epochs)\n",
    "        mapes_sum += _mape        \n",
    "        all_mapes.append(_mape)    \n",
    "\n",
    "    # Average mape for epochs amount\n",
    "    mapes_mean.append(mapes_sum / experiments_amount)"
   ]
  },
  {
   "cell_type": "code",
   "execution_count": 18,
   "metadata": {},
   "outputs": [
    {
     "data": {
      "application/vnd.plotly.v1+json": {
       "config": {
        "plotlyServerURL": "https://plot.ly"
       },
       "data": [
        {
         "mode": "markers",
         "name": "Все наблюдения",
         "type": "scatter",
         "x": [
          100,
          100,
          100,
          100,
          100,
          200,
          200,
          200,
          200,
          200,
          300,
          300,
          300,
          300,
          300,
          400,
          400,
          400,
          400,
          400,
          500,
          500,
          500,
          500,
          500,
          600,
          600,
          600,
          600,
          600,
          700,
          700,
          700,
          700,
          700,
          800,
          800,
          800,
          800,
          800,
          900,
          900,
          900,
          900,
          900,
          1000,
          1000,
          1000,
          1000,
          1000,
          1100,
          1100,
          1100,
          1100,
          1100,
          1200,
          1200,
          1200,
          1200,
          1200,
          1300,
          1300,
          1300,
          1300,
          1300,
          1400,
          1400,
          1400,
          1400,
          1400,
          1500,
          1500,
          1500,
          1500,
          1500,
          1600,
          1600,
          1600,
          1600,
          1600,
          1700,
          1700,
          1700,
          1700,
          1700,
          1800,
          1800,
          1800,
          1800,
          1800,
          1900,
          1900,
          1900,
          1900,
          1900,
          2000,
          2000,
          2000,
          2000,
          2000
         ],
         "y": [
          0.82056042858507,
          0.9259379919138715,
          0.7040587377383144,
          0.8243883555844242,
          0.8873674490809174,
          0.5949266385874081,
          0.7817898044912399,
          0.6887391778118689,
          0.8412480036038322,
          0.7416514492118205,
          0.5127115596757057,
          0.5402363695913369,
          0.36885358345475894,
          0.7109951046895157,
          0.5344776702630543,
          0.2887895468261205,
          0.3947350169429459,
          0.3589667138856985,
          0.4767981879349404,
          0.5553597955385843,
          0.4054637173989005,
          0.27676768972964877,
          0.2986939402675008,
          0.410869293865119,
          0.3407741027603161,
          0.14526051823472985,
          0.13858163189234737,
          0.2604353752973263,
          0.265019808785389,
          0.15626097614754375,
          0.14414137956047557,
          0.23555908958358707,
          0.16223347847282357,
          0.2182965362748368,
          0.2353317945765664,
          0.10538117610391878,
          0.21139037564090704,
          0.0941894992870114,
          0.08830811065654676,
          0.08710980440090721,
          0.14942934839703217,
          0.09419488143000126,
          0.17985913496332784,
          0.09089120588917804,
          0.08228670295177085,
          0.07574786987534088,
          0.29667630604128187,
          0.08414999032699096,
          0.26554940745421973,
          0.12294606106895412,
          0.11219757290180883,
          0.07398221182600523,
          0.07940613307612993,
          0.07540137937330138,
          0.08445769908056422,
          0.07475105402468202,
          0.07325553064847402,
          0.08874887423317517,
          0.07674900029921575,
          0.07718353615751136,
          0.07390851541062021,
          0.07568625793309804,
          0.07795281043808297,
          0.07522538482217536,
          0.11321609297945785,
          0.08087840791336035,
          0.07944803377491645,
          0.07748480004449584,
          0.08220759026844282,
          0.07854403503103506,
          0.08104571839969522,
          0.07717687581102028,
          0.07608650243245411,
          0.07498238401971002,
          0.07446755441482374,
          0.0751818986165188,
          0.0733187239267596,
          0.07897493371600796,
          0.07491458593147671,
          0.0742440303750489,
          0.07904682919285078,
          0.07722510647502095,
          0.0717722397676186,
          0.07665370418796222,
          0.07708414957869267,
          0.07487846425315234,
          0.07795759874624636,
          0.07722861138192395,
          0.0719763049813532,
          0.07734845428600137,
          0.07282867706459376,
          0.07482218162343968,
          0.07310853117403773,
          0.07512884522467247,
          0.07772897079060959,
          0.07425535159358383,
          0.0755427282550835,
          0.07864459153967182,
          0.07792565536734476,
          0.07600994434203642
         ]
        },
        {
         "mode": "lines+markers",
         "name": "Средние значения",
         "type": "scatter",
         "x": [
          100,
          200,
          300,
          400,
          500,
          600,
          700,
          800,
          900,
          1000,
          1100,
          1200,
          1300,
          1400,
          1500,
          1600,
          1700,
          1800,
          1900,
          2000
         ],
         "y": [
          0.8324625925805196,
          0.729671014741234,
          0.5334548575348743,
          0.4149298522256579,
          0.3465137488042971,
          0.19311166207146727,
          0.19911245569365787,
          0.11727579321785823,
          0.11933225472626204,
          0.1690139269533575,
          0.08508899925156191,
          0.07813759907261167,
          0.08319781231668688,
          0.07971257340645012,
          0.07675180701554067,
          0.07532683451316238,
          0.07635640584042905,
          0.07587788672973546,
          0.07472344117547065,
          0.07647565421954408
         ]
        }
       ],
       "layout": {
        "font": {
         "size": 20
        },
        "height": 720,
        "template": {
         "data": {
          "bar": [
           {
            "error_x": {
             "color": "#2a3f5f"
            },
            "error_y": {
             "color": "#2a3f5f"
            },
            "marker": {
             "line": {
              "color": "#E5ECF6",
              "width": 0.5
             },
             "pattern": {
              "fillmode": "overlay",
              "size": 10,
              "solidity": 0.2
             }
            },
            "type": "bar"
           }
          ],
          "barpolar": [
           {
            "marker": {
             "line": {
              "color": "#E5ECF6",
              "width": 0.5
             },
             "pattern": {
              "fillmode": "overlay",
              "size": 10,
              "solidity": 0.2
             }
            },
            "type": "barpolar"
           }
          ],
          "carpet": [
           {
            "aaxis": {
             "endlinecolor": "#2a3f5f",
             "gridcolor": "white",
             "linecolor": "white",
             "minorgridcolor": "white",
             "startlinecolor": "#2a3f5f"
            },
            "baxis": {
             "endlinecolor": "#2a3f5f",
             "gridcolor": "white",
             "linecolor": "white",
             "minorgridcolor": "white",
             "startlinecolor": "#2a3f5f"
            },
            "type": "carpet"
           }
          ],
          "choropleth": [
           {
            "colorbar": {
             "outlinewidth": 0,
             "ticks": ""
            },
            "type": "choropleth"
           }
          ],
          "contour": [
           {
            "colorbar": {
             "outlinewidth": 0,
             "ticks": ""
            },
            "colorscale": [
             [
              0,
              "#0d0887"
             ],
             [
              0.1111111111111111,
              "#46039f"
             ],
             [
              0.2222222222222222,
              "#7201a8"
             ],
             [
              0.3333333333333333,
              "#9c179e"
             ],
             [
              0.4444444444444444,
              "#bd3786"
             ],
             [
              0.5555555555555556,
              "#d8576b"
             ],
             [
              0.6666666666666666,
              "#ed7953"
             ],
             [
              0.7777777777777778,
              "#fb9f3a"
             ],
             [
              0.8888888888888888,
              "#fdca26"
             ],
             [
              1,
              "#f0f921"
             ]
            ],
            "type": "contour"
           }
          ],
          "contourcarpet": [
           {
            "colorbar": {
             "outlinewidth": 0,
             "ticks": ""
            },
            "type": "contourcarpet"
           }
          ],
          "heatmap": [
           {
            "colorbar": {
             "outlinewidth": 0,
             "ticks": ""
            },
            "colorscale": [
             [
              0,
              "#0d0887"
             ],
             [
              0.1111111111111111,
              "#46039f"
             ],
             [
              0.2222222222222222,
              "#7201a8"
             ],
             [
              0.3333333333333333,
              "#9c179e"
             ],
             [
              0.4444444444444444,
              "#bd3786"
             ],
             [
              0.5555555555555556,
              "#d8576b"
             ],
             [
              0.6666666666666666,
              "#ed7953"
             ],
             [
              0.7777777777777778,
              "#fb9f3a"
             ],
             [
              0.8888888888888888,
              "#fdca26"
             ],
             [
              1,
              "#f0f921"
             ]
            ],
            "type": "heatmap"
           }
          ],
          "heatmapgl": [
           {
            "colorbar": {
             "outlinewidth": 0,
             "ticks": ""
            },
            "colorscale": [
             [
              0,
              "#0d0887"
             ],
             [
              0.1111111111111111,
              "#46039f"
             ],
             [
              0.2222222222222222,
              "#7201a8"
             ],
             [
              0.3333333333333333,
              "#9c179e"
             ],
             [
              0.4444444444444444,
              "#bd3786"
             ],
             [
              0.5555555555555556,
              "#d8576b"
             ],
             [
              0.6666666666666666,
              "#ed7953"
             ],
             [
              0.7777777777777778,
              "#fb9f3a"
             ],
             [
              0.8888888888888888,
              "#fdca26"
             ],
             [
              1,
              "#f0f921"
             ]
            ],
            "type": "heatmapgl"
           }
          ],
          "histogram": [
           {
            "marker": {
             "pattern": {
              "fillmode": "overlay",
              "size": 10,
              "solidity": 0.2
             }
            },
            "type": "histogram"
           }
          ],
          "histogram2d": [
           {
            "colorbar": {
             "outlinewidth": 0,
             "ticks": ""
            },
            "colorscale": [
             [
              0,
              "#0d0887"
             ],
             [
              0.1111111111111111,
              "#46039f"
             ],
             [
              0.2222222222222222,
              "#7201a8"
             ],
             [
              0.3333333333333333,
              "#9c179e"
             ],
             [
              0.4444444444444444,
              "#bd3786"
             ],
             [
              0.5555555555555556,
              "#d8576b"
             ],
             [
              0.6666666666666666,
              "#ed7953"
             ],
             [
              0.7777777777777778,
              "#fb9f3a"
             ],
             [
              0.8888888888888888,
              "#fdca26"
             ],
             [
              1,
              "#f0f921"
             ]
            ],
            "type": "histogram2d"
           }
          ],
          "histogram2dcontour": [
           {
            "colorbar": {
             "outlinewidth": 0,
             "ticks": ""
            },
            "colorscale": [
             [
              0,
              "#0d0887"
             ],
             [
              0.1111111111111111,
              "#46039f"
             ],
             [
              0.2222222222222222,
              "#7201a8"
             ],
             [
              0.3333333333333333,
              "#9c179e"
             ],
             [
              0.4444444444444444,
              "#bd3786"
             ],
             [
              0.5555555555555556,
              "#d8576b"
             ],
             [
              0.6666666666666666,
              "#ed7953"
             ],
             [
              0.7777777777777778,
              "#fb9f3a"
             ],
             [
              0.8888888888888888,
              "#fdca26"
             ],
             [
              1,
              "#f0f921"
             ]
            ],
            "type": "histogram2dcontour"
           }
          ],
          "mesh3d": [
           {
            "colorbar": {
             "outlinewidth": 0,
             "ticks": ""
            },
            "type": "mesh3d"
           }
          ],
          "parcoords": [
           {
            "line": {
             "colorbar": {
              "outlinewidth": 0,
              "ticks": ""
             }
            },
            "type": "parcoords"
           }
          ],
          "pie": [
           {
            "automargin": true,
            "type": "pie"
           }
          ],
          "scatter": [
           {
            "fillpattern": {
             "fillmode": "overlay",
             "size": 10,
             "solidity": 0.2
            },
            "type": "scatter"
           }
          ],
          "scatter3d": [
           {
            "line": {
             "colorbar": {
              "outlinewidth": 0,
              "ticks": ""
             }
            },
            "marker": {
             "colorbar": {
              "outlinewidth": 0,
              "ticks": ""
             }
            },
            "type": "scatter3d"
           }
          ],
          "scattercarpet": [
           {
            "marker": {
             "colorbar": {
              "outlinewidth": 0,
              "ticks": ""
             }
            },
            "type": "scattercarpet"
           }
          ],
          "scattergeo": [
           {
            "marker": {
             "colorbar": {
              "outlinewidth": 0,
              "ticks": ""
             }
            },
            "type": "scattergeo"
           }
          ],
          "scattergl": [
           {
            "marker": {
             "colorbar": {
              "outlinewidth": 0,
              "ticks": ""
             }
            },
            "type": "scattergl"
           }
          ],
          "scattermapbox": [
           {
            "marker": {
             "colorbar": {
              "outlinewidth": 0,
              "ticks": ""
             }
            },
            "type": "scattermapbox"
           }
          ],
          "scatterpolar": [
           {
            "marker": {
             "colorbar": {
              "outlinewidth": 0,
              "ticks": ""
             }
            },
            "type": "scatterpolar"
           }
          ],
          "scatterpolargl": [
           {
            "marker": {
             "colorbar": {
              "outlinewidth": 0,
              "ticks": ""
             }
            },
            "type": "scatterpolargl"
           }
          ],
          "scatterternary": [
           {
            "marker": {
             "colorbar": {
              "outlinewidth": 0,
              "ticks": ""
             }
            },
            "type": "scatterternary"
           }
          ],
          "surface": [
           {
            "colorbar": {
             "outlinewidth": 0,
             "ticks": ""
            },
            "colorscale": [
             [
              0,
              "#0d0887"
             ],
             [
              0.1111111111111111,
              "#46039f"
             ],
             [
              0.2222222222222222,
              "#7201a8"
             ],
             [
              0.3333333333333333,
              "#9c179e"
             ],
             [
              0.4444444444444444,
              "#bd3786"
             ],
             [
              0.5555555555555556,
              "#d8576b"
             ],
             [
              0.6666666666666666,
              "#ed7953"
             ],
             [
              0.7777777777777778,
              "#fb9f3a"
             ],
             [
              0.8888888888888888,
              "#fdca26"
             ],
             [
              1,
              "#f0f921"
             ]
            ],
            "type": "surface"
           }
          ],
          "table": [
           {
            "cells": {
             "fill": {
              "color": "#EBF0F8"
             },
             "line": {
              "color": "white"
             }
            },
            "header": {
             "fill": {
              "color": "#C8D4E3"
             },
             "line": {
              "color": "white"
             }
            },
            "type": "table"
           }
          ]
         },
         "layout": {
          "annotationdefaults": {
           "arrowcolor": "#2a3f5f",
           "arrowhead": 0,
           "arrowwidth": 1
          },
          "autotypenumbers": "strict",
          "coloraxis": {
           "colorbar": {
            "outlinewidth": 0,
            "ticks": ""
           }
          },
          "colorscale": {
           "diverging": [
            [
             0,
             "#8e0152"
            ],
            [
             0.1,
             "#c51b7d"
            ],
            [
             0.2,
             "#de77ae"
            ],
            [
             0.3,
             "#f1b6da"
            ],
            [
             0.4,
             "#fde0ef"
            ],
            [
             0.5,
             "#f7f7f7"
            ],
            [
             0.6,
             "#e6f5d0"
            ],
            [
             0.7,
             "#b8e186"
            ],
            [
             0.8,
             "#7fbc41"
            ],
            [
             0.9,
             "#4d9221"
            ],
            [
             1,
             "#276419"
            ]
           ],
           "sequential": [
            [
             0,
             "#0d0887"
            ],
            [
             0.1111111111111111,
             "#46039f"
            ],
            [
             0.2222222222222222,
             "#7201a8"
            ],
            [
             0.3333333333333333,
             "#9c179e"
            ],
            [
             0.4444444444444444,
             "#bd3786"
            ],
            [
             0.5555555555555556,
             "#d8576b"
            ],
            [
             0.6666666666666666,
             "#ed7953"
            ],
            [
             0.7777777777777778,
             "#fb9f3a"
            ],
            [
             0.8888888888888888,
             "#fdca26"
            ],
            [
             1,
             "#f0f921"
            ]
           ],
           "sequentialminus": [
            [
             0,
             "#0d0887"
            ],
            [
             0.1111111111111111,
             "#46039f"
            ],
            [
             0.2222222222222222,
             "#7201a8"
            ],
            [
             0.3333333333333333,
             "#9c179e"
            ],
            [
             0.4444444444444444,
             "#bd3786"
            ],
            [
             0.5555555555555556,
             "#d8576b"
            ],
            [
             0.6666666666666666,
             "#ed7953"
            ],
            [
             0.7777777777777778,
             "#fb9f3a"
            ],
            [
             0.8888888888888888,
             "#fdca26"
            ],
            [
             1,
             "#f0f921"
            ]
           ]
          },
          "colorway": [
           "#636efa",
           "#EF553B",
           "#00cc96",
           "#ab63fa",
           "#FFA15A",
           "#19d3f3",
           "#FF6692",
           "#B6E880",
           "#FF97FF",
           "#FECB52"
          ],
          "font": {
           "color": "#2a3f5f"
          },
          "geo": {
           "bgcolor": "white",
           "lakecolor": "white",
           "landcolor": "#E5ECF6",
           "showlakes": true,
           "showland": true,
           "subunitcolor": "white"
          },
          "hoverlabel": {
           "align": "left"
          },
          "hovermode": "closest",
          "mapbox": {
           "style": "light"
          },
          "paper_bgcolor": "white",
          "plot_bgcolor": "#E5ECF6",
          "polar": {
           "angularaxis": {
            "gridcolor": "white",
            "linecolor": "white",
            "ticks": ""
           },
           "bgcolor": "#E5ECF6",
           "radialaxis": {
            "gridcolor": "white",
            "linecolor": "white",
            "ticks": ""
           }
          },
          "scene": {
           "xaxis": {
            "backgroundcolor": "#E5ECF6",
            "gridcolor": "white",
            "gridwidth": 2,
            "linecolor": "white",
            "showbackground": true,
            "ticks": "",
            "zerolinecolor": "white"
           },
           "yaxis": {
            "backgroundcolor": "#E5ECF6",
            "gridcolor": "white",
            "gridwidth": 2,
            "linecolor": "white",
            "showbackground": true,
            "ticks": "",
            "zerolinecolor": "white"
           },
           "zaxis": {
            "backgroundcolor": "#E5ECF6",
            "gridcolor": "white",
            "gridwidth": 2,
            "linecolor": "white",
            "showbackground": true,
            "ticks": "",
            "zerolinecolor": "white"
           }
          },
          "shapedefaults": {
           "line": {
            "color": "#2a3f5f"
           }
          },
          "ternary": {
           "aaxis": {
            "gridcolor": "white",
            "linecolor": "white",
            "ticks": ""
           },
           "baxis": {
            "gridcolor": "white",
            "linecolor": "white",
            "ticks": ""
           },
           "bgcolor": "#E5ECF6",
           "caxis": {
            "gridcolor": "white",
            "linecolor": "white",
            "ticks": ""
           }
          },
          "title": {
           "x": 0.05
          },
          "xaxis": {
           "automargin": true,
           "gridcolor": "white",
           "linecolor": "white",
           "ticks": "",
           "title": {
            "standoff": 15
           },
           "zerolinecolor": "white",
           "zerolinewidth": 2
          },
          "yaxis": {
           "automargin": true,
           "gridcolor": "white",
           "linecolor": "white",
           "ticks": "",
           "title": {
            "standoff": 15
           },
           "zerolinecolor": "white",
           "zerolinewidth": 2
          }
         }
        },
        "title": {
         "text": "Зависимость средней абсолютной ошибки от количества итераций обучения"
        },
        "width": 1280,
        "xaxis": {
         "title": {
          "text": "Количество итераций обучения"
         }
        },
        "yaxis": {
         "title": {
          "text": "Средняя абсолютная ошибка"
         }
        }
       }
      }
     },
     "metadata": {},
     "output_type": "display_data"
    }
   ],
   "source": [
    "# Plotting results for training epochs amount\n",
    "fig = go.Figure()\n",
    "fig.add_trace(\n",
    "    go.Scatter(x=all_epochs, y=all_mapes,\n",
    "               name='Все наблюдения', mode='markers')\n",
    ")\n",
    "fig.add_trace(\n",
    "    go.Scatter(x=epochs, y=mapes_mean,\n",
    "               name='Средние значения', mode='lines+markers')\n",
    ")\n",
    "fig.update_layout(\n",
    "    title='Зависимость средней абсолютной ошибки от количества итераций обучения',\n",
    "    font=dict(size=20),\n",
    "    xaxis=dict(title='Количество итераций обучения'),\n",
    "    yaxis=dict(title='Средняя абсолютная ошибка'),\n",
    "    width=1280,\n",
    "    height=720\n",
    ")\n",
    "fig.show()"
   ]
  },
  {
   "cell_type": "code",
   "execution_count": 21,
   "metadata": {},
   "outputs": [
    {
     "name": "stdout",
     "output_type": "stream",
     "text": [
      "TRAINING FINISHED\n",
      "Epoch 250/250, Loss: 182.598996\n",
      "MAPE: 0.952731\n",
      "TRAINING FINISHED\n",
      "Epoch 250/250, Loss: 148.287347\n",
      "MAPE: 0.871074\n",
      "TRAINING FINISHED\n",
      "Epoch 250/250, Loss: 148.999925\n",
      "MAPE: 0.858446\n",
      "TRAINING FINISHED\n",
      "Epoch 250/250, Loss: 190.615791\n",
      "MAPE: 0.982777\n",
      "TRAINING FINISHED\n",
      "Epoch 250/250, Loss: 142.939457\n",
      "MAPE: 0.832868\n",
      "TRAINING FINISHED\n",
      "Epoch 250/250, Loss: 140.302389\n",
      "MAPE: 0.843254\n",
      "TRAINING FINISHED\n",
      "Epoch 250/250, Loss: 100.971211\n",
      "MAPE: 0.711467\n",
      "TRAINING FINISHED\n",
      "Epoch 250/250, Loss: 124.490938\n",
      "MAPE: 0.793609\n",
      "TRAINING FINISHED\n",
      "Epoch 250/250, Loss: 99.946511\n",
      "MAPE: 0.700935\n",
      "TRAINING FINISHED\n",
      "Epoch 250/250, Loss: 149.848308\n",
      "MAPE: 0.869503\n",
      "TRAINING FINISHED\n",
      "Epoch 250/250, Loss: 68.130129\n",
      "MAPE: 0.582356\n",
      "TRAINING FINISHED\n",
      "Epoch 250/250, Loss: 139.484267\n",
      "MAPE: 0.836633\n",
      "TRAINING FINISHED\n",
      "Epoch 250/250, Loss: 137.191504\n",
      "MAPE: 0.831613\n",
      "TRAINING FINISHED\n",
      "Epoch 250/250, Loss: 183.145547\n",
      "MAPE: 0.963793\n",
      "TRAINING FINISHED\n",
      "Epoch 250/250, Loss: 151.621912\n",
      "MAPE: 0.876404\n",
      "TRAINING FINISHED\n",
      "Epoch 250/250, Loss: 75.797946\n",
      "MAPE: 0.616088\n",
      "TRAINING FINISHED\n",
      "Epoch 250/250, Loss: 86.201537\n",
      "MAPE: 0.664654\n",
      "TRAINING FINISHED\n",
      "Epoch 250/250, Loss: 135.512481\n",
      "MAPE: 0.837003\n",
      "TRAINING FINISHED\n",
      "Epoch 250/250, Loss: 120.981182\n",
      "MAPE: 0.783144\n",
      "TRAINING FINISHED\n",
      "Epoch 250/250, Loss: 85.507996\n",
      "MAPE: 0.657363\n",
      "TRAINING FINISHED\n",
      "Epoch 250/250, Loss: 77.969724\n",
      "MAPE: 0.636833\n",
      "TRAINING FINISHED\n",
      "Epoch 250/250, Loss: 132.262407\n",
      "MAPE: 0.818287\n",
      "TRAINING FINISHED\n",
      "Epoch 250/250, Loss: 122.211113\n",
      "MAPE: 0.792751\n",
      "TRAINING FINISHED\n",
      "Epoch 250/250, Loss: 53.887871\n",
      "MAPE: 0.523402\n",
      "TRAINING FINISHED\n",
      "Epoch 250/250, Loss: 70.648203\n",
      "MAPE: 0.591859\n",
      "TRAINING FINISHED\n",
      "Epoch 250/250, Loss: 39.490702\n",
      "MAPE: 0.457251\n",
      "TRAINING FINISHED\n",
      "Epoch 250/250, Loss: 82.000688\n",
      "MAPE: 0.651124\n",
      "TRAINING FINISHED\n",
      "Epoch 250/250, Loss: 72.422860\n",
      "MAPE: 0.611433\n",
      "TRAINING FINISHED\n",
      "Epoch 250/250, Loss: 54.777300\n",
      "MAPE: 0.530715\n",
      "TRAINING FINISHED\n",
      "Epoch 250/250, Loss: 56.095883\n",
      "MAPE: 0.543710\n",
      "TRAINING FINISHED\n",
      "Epoch 250/250, Loss: 46.522666\n",
      "MAPE: 0.487181\n",
      "TRAINING FINISHED\n",
      "Epoch 250/250, Loss: 63.084320\n",
      "MAPE: 0.576186\n",
      "TRAINING FINISHED\n",
      "Epoch 250/250, Loss: 73.051138\n",
      "MAPE: 0.601743\n",
      "TRAINING FINISHED\n",
      "Epoch 250/250, Loss: 100.167164\n",
      "MAPE: 0.711692\n",
      "TRAINING FINISHED\n",
      "Epoch 250/250, Loss: 55.949678\n",
      "MAPE: 0.538161\n",
      "TRAINING FINISHED\n",
      "Epoch 250/250, Loss: 61.574984\n",
      "MAPE: 0.553363\n",
      "TRAINING FINISHED\n",
      "Epoch 250/250, Loss: 57.044795\n",
      "MAPE: 0.551742\n",
      "TRAINING FINISHED\n",
      "Epoch 250/250, Loss: 44.443860\n",
      "MAPE: 0.486186\n",
      "TRAINING FINISHED\n",
      "Epoch 250/250, Loss: 61.393646\n",
      "MAPE: 0.562821\n",
      "TRAINING FINISHED\n",
      "Epoch 250/250, Loss: 34.996257\n",
      "MAPE: 0.435343\n",
      "TRAINING FINISHED\n",
      "Epoch 250/250, Loss: 57.178250\n",
      "MAPE: 0.545546\n",
      "TRAINING FINISHED\n",
      "Epoch 250/250, Loss: 21.675427\n",
      "MAPE: 0.348185\n",
      "TRAINING FINISHED\n",
      "Epoch 250/250, Loss: 39.767525\n",
      "MAPE: 0.463996\n",
      "TRAINING FINISHED\n",
      "Epoch 250/250, Loss: 31.754313\n",
      "MAPE: 0.408829\n",
      "TRAINING FINISHED\n",
      "Epoch 250/250, Loss: 68.909438\n",
      "MAPE: 0.598185\n",
      "TRAINING FINISHED\n",
      "Epoch 250/250, Loss: 38.858049\n",
      "MAPE: 0.459318\n",
      "TRAINING FINISHED\n",
      "Epoch 250/250, Loss: 38.463916\n",
      "MAPE: 0.450952\n",
      "TRAINING FINISHED\n",
      "Epoch 250/250, Loss: 43.898820\n",
      "MAPE: 0.482665\n",
      "TRAINING FINISHED\n",
      "Epoch 250/250, Loss: 49.614049\n",
      "MAPE: 0.509242\n",
      "TRAINING FINISHED\n",
      "Epoch 250/250, Loss: 52.769283\n",
      "MAPE: 0.525491\n"
     ]
    }
   ],
   "source": [
    "experiments_amount = 5\n",
    "# epochs = np.linspace(1000, 35000, endpoint=True, num=10).astype(np.int32).tolist()\n",
    "hidden_sizes = list(range(2, 22, 2))\n",
    "\n",
    "# np.random.seed(12345)\n",
    "\n",
    "all_mapes = []\n",
    "mapes_mean = []\n",
    "\n",
    "all_sizes: list[int] = []\n",
    "\n",
    "seq_length = 20\n",
    "window_size = 5\n",
    "batch_size = 2\n",
    "output_size = 3\n",
    "\n",
    "verbosity = 100000\n",
    "lr = 1e-4\n",
    "max_epochs = 250\n",
    "\n",
    "sequence = list(arithmetic_progression(seq_length, a0=1, d=1))\n",
    "X, y = create_sliding_window_batches(sequence, window_size, batch_size, output_size)\n",
    "y = y\n",
    "\n",
    "for size in hidden_sizes:    \n",
    "\n",
    "    # Training network for five times\n",
    "    mapes_sum = 0    \n",
    "    for _ in range(experiments_amount):              \n",
    "        \n",
    "        network = LSTMModel(input_size=window_size, hidden_size=size,\n",
    "                           output_size=output_size)\n",
    "        _, _mape = network.train(x=X, y=y, lr=lr, max_epochs=max_epochs, verbosity=verbosity)\n",
    "        all_sizes.append(size)\n",
    "        mapes_sum += _mape        \n",
    "        all_mapes.append(_mape)    \n",
    "\n",
    "    # Average mape for epochs amount\n",
    "    mapes_mean.append(mapes_sum / experiments_amount)"
   ]
  },
  {
   "cell_type": "code",
   "execution_count": 22,
   "metadata": {},
   "outputs": [
    {
     "data": {
      "application/vnd.plotly.v1+json": {
       "config": {
        "plotlyServerURL": "https://plot.ly"
       },
       "data": [
        {
         "mode": "markers",
         "name": "Все наблюдения",
         "type": "scatter",
         "x": [
          2,
          2,
          2,
          2,
          2,
          4,
          4,
          4,
          4,
          4,
          6,
          6,
          6,
          6,
          6,
          8,
          8,
          8,
          8,
          8,
          10,
          10,
          10,
          10,
          10,
          12,
          12,
          12,
          12,
          12,
          14,
          14,
          14,
          14,
          14,
          16,
          16,
          16,
          16,
          16,
          18,
          18,
          18,
          18,
          18,
          20,
          20,
          20,
          20,
          20
         ],
         "y": [
          0.9527311359889007,
          0.8710740931383212,
          0.8584460071300943,
          0.9827766430475607,
          0.8328684940118045,
          0.8432540847280704,
          0.7114673672915672,
          0.7936086518082939,
          0.7009354399422939,
          0.8695026010118564,
          0.5823562042193322,
          0.8366327714147032,
          0.8316131911196282,
          0.9637931757268803,
          0.8764043211866418,
          0.6160881992931679,
          0.66465365706276,
          0.8370033460020193,
          0.7831439203411314,
          0.6573625849240184,
          0.6368332577962433,
          0.8182869889280733,
          0.7927508644527064,
          0.5234017065584196,
          0.5918593747265781,
          0.45725115776148784,
          0.6511243679440395,
          0.6114331294742695,
          0.5307145806738509,
          0.5437100764303643,
          0.48718068797798914,
          0.5761863093735674,
          0.6017427055813771,
          0.7116921641808426,
          0.538160656882078,
          0.5533631801313093,
          0.551742473611408,
          0.4861862205994991,
          0.5628211859213078,
          0.43534333899943656,
          0.5455461589663638,
          0.34818451183402893,
          0.46399571481610496,
          0.40882861205750104,
          0.5981852065918811,
          0.45931763969547185,
          0.45095172459186295,
          0.48266513093397956,
          0.5092422865035667,
          0.5254907563748977
         ]
        },
        {
         "mode": "lines+markers",
         "name": "Средние значения",
         "type": "scatter",
         "x": [
          2,
          4,
          6,
          8,
          10,
          12,
          14,
          16,
          18,
          20
         ],
         "y": [
          0.8995792746633363,
          0.7837536289564164,
          0.8181599327334371,
          0.7116503415246195,
          0.6726264384924041,
          0.5588466624568024,
          0.5829925047991709,
          0.5178912798525921,
          0.472948040853176,
          0.4855335076199558
         ]
        }
       ],
       "layout": {
        "font": {
         "size": 20
        },
        "height": 720,
        "template": {
         "data": {
          "bar": [
           {
            "error_x": {
             "color": "#2a3f5f"
            },
            "error_y": {
             "color": "#2a3f5f"
            },
            "marker": {
             "line": {
              "color": "#E5ECF6",
              "width": 0.5
             },
             "pattern": {
              "fillmode": "overlay",
              "size": 10,
              "solidity": 0.2
             }
            },
            "type": "bar"
           }
          ],
          "barpolar": [
           {
            "marker": {
             "line": {
              "color": "#E5ECF6",
              "width": 0.5
             },
             "pattern": {
              "fillmode": "overlay",
              "size": 10,
              "solidity": 0.2
             }
            },
            "type": "barpolar"
           }
          ],
          "carpet": [
           {
            "aaxis": {
             "endlinecolor": "#2a3f5f",
             "gridcolor": "white",
             "linecolor": "white",
             "minorgridcolor": "white",
             "startlinecolor": "#2a3f5f"
            },
            "baxis": {
             "endlinecolor": "#2a3f5f",
             "gridcolor": "white",
             "linecolor": "white",
             "minorgridcolor": "white",
             "startlinecolor": "#2a3f5f"
            },
            "type": "carpet"
           }
          ],
          "choropleth": [
           {
            "colorbar": {
             "outlinewidth": 0,
             "ticks": ""
            },
            "type": "choropleth"
           }
          ],
          "contour": [
           {
            "colorbar": {
             "outlinewidth": 0,
             "ticks": ""
            },
            "colorscale": [
             [
              0,
              "#0d0887"
             ],
             [
              0.1111111111111111,
              "#46039f"
             ],
             [
              0.2222222222222222,
              "#7201a8"
             ],
             [
              0.3333333333333333,
              "#9c179e"
             ],
             [
              0.4444444444444444,
              "#bd3786"
             ],
             [
              0.5555555555555556,
              "#d8576b"
             ],
             [
              0.6666666666666666,
              "#ed7953"
             ],
             [
              0.7777777777777778,
              "#fb9f3a"
             ],
             [
              0.8888888888888888,
              "#fdca26"
             ],
             [
              1,
              "#f0f921"
             ]
            ],
            "type": "contour"
           }
          ],
          "contourcarpet": [
           {
            "colorbar": {
             "outlinewidth": 0,
             "ticks": ""
            },
            "type": "contourcarpet"
           }
          ],
          "heatmap": [
           {
            "colorbar": {
             "outlinewidth": 0,
             "ticks": ""
            },
            "colorscale": [
             [
              0,
              "#0d0887"
             ],
             [
              0.1111111111111111,
              "#46039f"
             ],
             [
              0.2222222222222222,
              "#7201a8"
             ],
             [
              0.3333333333333333,
              "#9c179e"
             ],
             [
              0.4444444444444444,
              "#bd3786"
             ],
             [
              0.5555555555555556,
              "#d8576b"
             ],
             [
              0.6666666666666666,
              "#ed7953"
             ],
             [
              0.7777777777777778,
              "#fb9f3a"
             ],
             [
              0.8888888888888888,
              "#fdca26"
             ],
             [
              1,
              "#f0f921"
             ]
            ],
            "type": "heatmap"
           }
          ],
          "heatmapgl": [
           {
            "colorbar": {
             "outlinewidth": 0,
             "ticks": ""
            },
            "colorscale": [
             [
              0,
              "#0d0887"
             ],
             [
              0.1111111111111111,
              "#46039f"
             ],
             [
              0.2222222222222222,
              "#7201a8"
             ],
             [
              0.3333333333333333,
              "#9c179e"
             ],
             [
              0.4444444444444444,
              "#bd3786"
             ],
             [
              0.5555555555555556,
              "#d8576b"
             ],
             [
              0.6666666666666666,
              "#ed7953"
             ],
             [
              0.7777777777777778,
              "#fb9f3a"
             ],
             [
              0.8888888888888888,
              "#fdca26"
             ],
             [
              1,
              "#f0f921"
             ]
            ],
            "type": "heatmapgl"
           }
          ],
          "histogram": [
           {
            "marker": {
             "pattern": {
              "fillmode": "overlay",
              "size": 10,
              "solidity": 0.2
             }
            },
            "type": "histogram"
           }
          ],
          "histogram2d": [
           {
            "colorbar": {
             "outlinewidth": 0,
             "ticks": ""
            },
            "colorscale": [
             [
              0,
              "#0d0887"
             ],
             [
              0.1111111111111111,
              "#46039f"
             ],
             [
              0.2222222222222222,
              "#7201a8"
             ],
             [
              0.3333333333333333,
              "#9c179e"
             ],
             [
              0.4444444444444444,
              "#bd3786"
             ],
             [
              0.5555555555555556,
              "#d8576b"
             ],
             [
              0.6666666666666666,
              "#ed7953"
             ],
             [
              0.7777777777777778,
              "#fb9f3a"
             ],
             [
              0.8888888888888888,
              "#fdca26"
             ],
             [
              1,
              "#f0f921"
             ]
            ],
            "type": "histogram2d"
           }
          ],
          "histogram2dcontour": [
           {
            "colorbar": {
             "outlinewidth": 0,
             "ticks": ""
            },
            "colorscale": [
             [
              0,
              "#0d0887"
             ],
             [
              0.1111111111111111,
              "#46039f"
             ],
             [
              0.2222222222222222,
              "#7201a8"
             ],
             [
              0.3333333333333333,
              "#9c179e"
             ],
             [
              0.4444444444444444,
              "#bd3786"
             ],
             [
              0.5555555555555556,
              "#d8576b"
             ],
             [
              0.6666666666666666,
              "#ed7953"
             ],
             [
              0.7777777777777778,
              "#fb9f3a"
             ],
             [
              0.8888888888888888,
              "#fdca26"
             ],
             [
              1,
              "#f0f921"
             ]
            ],
            "type": "histogram2dcontour"
           }
          ],
          "mesh3d": [
           {
            "colorbar": {
             "outlinewidth": 0,
             "ticks": ""
            },
            "type": "mesh3d"
           }
          ],
          "parcoords": [
           {
            "line": {
             "colorbar": {
              "outlinewidth": 0,
              "ticks": ""
             }
            },
            "type": "parcoords"
           }
          ],
          "pie": [
           {
            "automargin": true,
            "type": "pie"
           }
          ],
          "scatter": [
           {
            "fillpattern": {
             "fillmode": "overlay",
             "size": 10,
             "solidity": 0.2
            },
            "type": "scatter"
           }
          ],
          "scatter3d": [
           {
            "line": {
             "colorbar": {
              "outlinewidth": 0,
              "ticks": ""
             }
            },
            "marker": {
             "colorbar": {
              "outlinewidth": 0,
              "ticks": ""
             }
            },
            "type": "scatter3d"
           }
          ],
          "scattercarpet": [
           {
            "marker": {
             "colorbar": {
              "outlinewidth": 0,
              "ticks": ""
             }
            },
            "type": "scattercarpet"
           }
          ],
          "scattergeo": [
           {
            "marker": {
             "colorbar": {
              "outlinewidth": 0,
              "ticks": ""
             }
            },
            "type": "scattergeo"
           }
          ],
          "scattergl": [
           {
            "marker": {
             "colorbar": {
              "outlinewidth": 0,
              "ticks": ""
             }
            },
            "type": "scattergl"
           }
          ],
          "scattermapbox": [
           {
            "marker": {
             "colorbar": {
              "outlinewidth": 0,
              "ticks": ""
             }
            },
            "type": "scattermapbox"
           }
          ],
          "scatterpolar": [
           {
            "marker": {
             "colorbar": {
              "outlinewidth": 0,
              "ticks": ""
             }
            },
            "type": "scatterpolar"
           }
          ],
          "scatterpolargl": [
           {
            "marker": {
             "colorbar": {
              "outlinewidth": 0,
              "ticks": ""
             }
            },
            "type": "scatterpolargl"
           }
          ],
          "scatterternary": [
           {
            "marker": {
             "colorbar": {
              "outlinewidth": 0,
              "ticks": ""
             }
            },
            "type": "scatterternary"
           }
          ],
          "surface": [
           {
            "colorbar": {
             "outlinewidth": 0,
             "ticks": ""
            },
            "colorscale": [
             [
              0,
              "#0d0887"
             ],
             [
              0.1111111111111111,
              "#46039f"
             ],
             [
              0.2222222222222222,
              "#7201a8"
             ],
             [
              0.3333333333333333,
              "#9c179e"
             ],
             [
              0.4444444444444444,
              "#bd3786"
             ],
             [
              0.5555555555555556,
              "#d8576b"
             ],
             [
              0.6666666666666666,
              "#ed7953"
             ],
             [
              0.7777777777777778,
              "#fb9f3a"
             ],
             [
              0.8888888888888888,
              "#fdca26"
             ],
             [
              1,
              "#f0f921"
             ]
            ],
            "type": "surface"
           }
          ],
          "table": [
           {
            "cells": {
             "fill": {
              "color": "#EBF0F8"
             },
             "line": {
              "color": "white"
             }
            },
            "header": {
             "fill": {
              "color": "#C8D4E3"
             },
             "line": {
              "color": "white"
             }
            },
            "type": "table"
           }
          ]
         },
         "layout": {
          "annotationdefaults": {
           "arrowcolor": "#2a3f5f",
           "arrowhead": 0,
           "arrowwidth": 1
          },
          "autotypenumbers": "strict",
          "coloraxis": {
           "colorbar": {
            "outlinewidth": 0,
            "ticks": ""
           }
          },
          "colorscale": {
           "diverging": [
            [
             0,
             "#8e0152"
            ],
            [
             0.1,
             "#c51b7d"
            ],
            [
             0.2,
             "#de77ae"
            ],
            [
             0.3,
             "#f1b6da"
            ],
            [
             0.4,
             "#fde0ef"
            ],
            [
             0.5,
             "#f7f7f7"
            ],
            [
             0.6,
             "#e6f5d0"
            ],
            [
             0.7,
             "#b8e186"
            ],
            [
             0.8,
             "#7fbc41"
            ],
            [
             0.9,
             "#4d9221"
            ],
            [
             1,
             "#276419"
            ]
           ],
           "sequential": [
            [
             0,
             "#0d0887"
            ],
            [
             0.1111111111111111,
             "#46039f"
            ],
            [
             0.2222222222222222,
             "#7201a8"
            ],
            [
             0.3333333333333333,
             "#9c179e"
            ],
            [
             0.4444444444444444,
             "#bd3786"
            ],
            [
             0.5555555555555556,
             "#d8576b"
            ],
            [
             0.6666666666666666,
             "#ed7953"
            ],
            [
             0.7777777777777778,
             "#fb9f3a"
            ],
            [
             0.8888888888888888,
             "#fdca26"
            ],
            [
             1,
             "#f0f921"
            ]
           ],
           "sequentialminus": [
            [
             0,
             "#0d0887"
            ],
            [
             0.1111111111111111,
             "#46039f"
            ],
            [
             0.2222222222222222,
             "#7201a8"
            ],
            [
             0.3333333333333333,
             "#9c179e"
            ],
            [
             0.4444444444444444,
             "#bd3786"
            ],
            [
             0.5555555555555556,
             "#d8576b"
            ],
            [
             0.6666666666666666,
             "#ed7953"
            ],
            [
             0.7777777777777778,
             "#fb9f3a"
            ],
            [
             0.8888888888888888,
             "#fdca26"
            ],
            [
             1,
             "#f0f921"
            ]
           ]
          },
          "colorway": [
           "#636efa",
           "#EF553B",
           "#00cc96",
           "#ab63fa",
           "#FFA15A",
           "#19d3f3",
           "#FF6692",
           "#B6E880",
           "#FF97FF",
           "#FECB52"
          ],
          "font": {
           "color": "#2a3f5f"
          },
          "geo": {
           "bgcolor": "white",
           "lakecolor": "white",
           "landcolor": "#E5ECF6",
           "showlakes": true,
           "showland": true,
           "subunitcolor": "white"
          },
          "hoverlabel": {
           "align": "left"
          },
          "hovermode": "closest",
          "mapbox": {
           "style": "light"
          },
          "paper_bgcolor": "white",
          "plot_bgcolor": "#E5ECF6",
          "polar": {
           "angularaxis": {
            "gridcolor": "white",
            "linecolor": "white",
            "ticks": ""
           },
           "bgcolor": "#E5ECF6",
           "radialaxis": {
            "gridcolor": "white",
            "linecolor": "white",
            "ticks": ""
           }
          },
          "scene": {
           "xaxis": {
            "backgroundcolor": "#E5ECF6",
            "gridcolor": "white",
            "gridwidth": 2,
            "linecolor": "white",
            "showbackground": true,
            "ticks": "",
            "zerolinecolor": "white"
           },
           "yaxis": {
            "backgroundcolor": "#E5ECF6",
            "gridcolor": "white",
            "gridwidth": 2,
            "linecolor": "white",
            "showbackground": true,
            "ticks": "",
            "zerolinecolor": "white"
           },
           "zaxis": {
            "backgroundcolor": "#E5ECF6",
            "gridcolor": "white",
            "gridwidth": 2,
            "linecolor": "white",
            "showbackground": true,
            "ticks": "",
            "zerolinecolor": "white"
           }
          },
          "shapedefaults": {
           "line": {
            "color": "#2a3f5f"
           }
          },
          "ternary": {
           "aaxis": {
            "gridcolor": "white",
            "linecolor": "white",
            "ticks": ""
           },
           "baxis": {
            "gridcolor": "white",
            "linecolor": "white",
            "ticks": ""
           },
           "bgcolor": "#E5ECF6",
           "caxis": {
            "gridcolor": "white",
            "linecolor": "white",
            "ticks": ""
           }
          },
          "title": {
           "x": 0.05
          },
          "xaxis": {
           "automargin": true,
           "gridcolor": "white",
           "linecolor": "white",
           "ticks": "",
           "title": {
            "standoff": 15
           },
           "zerolinecolor": "white",
           "zerolinewidth": 2
          },
          "yaxis": {
           "automargin": true,
           "gridcolor": "white",
           "linecolor": "white",
           "ticks": "",
           "title": {
            "standoff": 15
           },
           "zerolinecolor": "white",
           "zerolinewidth": 2
          }
         }
        },
        "title": {
         "text": "Зависимость средней абсолютной ошибки от<br>количества нейронов на скрытом слое"
        },
        "width": 1280,
        "xaxis": {
         "title": {
          "text": "Количество нейронов на скрытом слое"
         }
        },
        "yaxis": {
         "title": {
          "text": "Средняя абсолютная ошибка"
         }
        }
       }
      }
     },
     "metadata": {},
     "output_type": "display_data"
    }
   ],
   "source": [
    "# Plotting results for training epochs amount\n",
    "fig = go.Figure()\n",
    "fig.add_trace(\n",
    "    go.Scatter(x=all_sizes, y=all_mapes,\n",
    "               name='Все наблюдения', mode='markers')\n",
    ")\n",
    "fig.add_trace(\n",
    "    go.Scatter(x=hidden_sizes, y=mapes_mean,\n",
    "               name='Средние значения', mode='lines+markers')\n",
    ")\n",
    "fig.update_layout(\n",
    "    title='Зависимость средней абсолютной ошибки от<br>количества нейронов на скрытом слое',\n",
    "    font=dict(size=20),\n",
    "    xaxis=dict(title='Количество нейронов на скрытом слое'),\n",
    "    yaxis=dict(title='Средняя абсолютная ошибка'),\n",
    "    width=1280,\n",
    "    height=720\n",
    ")\n",
    "fig.show()"
   ]
  },
  {
   "cell_type": "code",
   "execution_count": null,
   "metadata": {},
   "outputs": [
    {
     "name": "stdout",
     "output_type": "stream",
     "text": [
      "TRAINING FINISHED\n",
      "Epoch 1000/1000, Loss: 26.459103\n",
      "MAPE: 0.277024\n",
      "TRAINING FINISHED\n",
      "Epoch 1000/1000, Loss: 27.434781\n",
      "MAPE: 0.267282\n",
      "TRAINING FINISHED\n",
      "Epoch 1000/1000, Loss: 31.542667\n",
      "MAPE: 0.291978\n",
      "TRAINING FINISHED\n",
      "Epoch 1000/1000, Loss: 29.980128\n",
      "MAPE: 0.277767\n",
      "TRAINING FINISHED\n",
      "Epoch 1000/1000, Loss: 27.642514\n",
      "MAPE: 0.285426\n",
      "TRAINING FINISHED\n",
      "Epoch 1000/1000, Loss: 23.198698\n",
      "MAPE: 0.249281\n",
      "TRAINING FINISHED\n",
      "Epoch 1000/1000, Loss: 26.955759\n",
      "MAPE: 0.253368\n",
      "TRAINING FINISHED\n",
      "Epoch 1000/1000, Loss: 25.680835\n",
      "MAPE: 0.262120\n",
      "TRAINING FINISHED\n",
      "Epoch 1000/1000, Loss: 29.290951\n",
      "MAPE: 0.268917\n",
      "TRAINING FINISHED\n",
      "Epoch 1000/1000, Loss: 21.375383\n",
      "MAPE: 0.242705\n",
      "TRAINING FINISHED\n",
      "Epoch 1000/1000, Loss: 21.018603\n",
      "MAPE: 0.225124\n",
      "TRAINING FINISHED\n",
      "Epoch 1000/1000, Loss: 19.101579\n",
      "MAPE: 0.225380\n",
      "TRAINING FINISHED\n",
      "Epoch 1000/1000, Loss: 14.426221\n",
      "MAPE: 0.180234\n",
      "TRAINING FINISHED\n",
      "Epoch 1000/1000, Loss: 17.166780\n",
      "MAPE: 0.211155\n",
      "TRAINING FINISHED\n",
      "Epoch 1000/1000, Loss: 13.617660\n",
      "MAPE: 0.179000\n",
      "TRAINING FINISHED\n",
      "Epoch 1000/1000, Loss: 12.821562\n",
      "MAPE: 0.155649\n",
      "TRAINING FINISHED\n",
      "Epoch 1000/1000, Loss: 9.045764\n",
      "MAPE: 0.133650\n",
      "TRAINING FINISHED\n",
      "Epoch 1000/1000, Loss: 12.255914\n",
      "MAPE: 0.160323\n",
      "TRAINING FINISHED\n",
      "Epoch 1000/1000, Loss: 11.828704\n",
      "MAPE: 0.152052\n",
      "TRAINING FINISHED\n",
      "Epoch 1000/1000, Loss: 12.835575\n",
      "MAPE: 0.155328\n",
      "TRAINING FINISHED\n",
      "Epoch 1000/1000, Loss: 8.498730\n",
      "MAPE: 0.122508\n",
      "TRAINING FINISHED\n",
      "Epoch 1000/1000, Loss: 7.613863\n",
      "MAPE: 0.099500\n",
      "TRAINING FINISHED\n",
      "Epoch 1000/1000, Loss: 6.522777\n",
      "MAPE: 0.071703\n",
      "TRAINING FINISHED\n",
      "Epoch 1000/1000, Loss: 5.445911\n",
      "MAPE: 0.088662\n",
      "TRAINING FINISHED\n",
      "Epoch 1000/1000, Loss: 8.900650\n",
      "MAPE: 0.122549\n",
      "TRAINING FINISHED\n",
      "Epoch 1000/1000, Loss: 7.793489\n",
      "MAPE: 0.116082\n",
      "TRAINING FINISHED\n",
      "Epoch 1000/1000, Loss: 11.584835\n",
      "MAPE: 0.125957\n",
      "TRAINING FINISHED\n",
      "Epoch 1000/1000, Loss: 4.473844\n",
      "MAPE: 0.063491\n",
      "TRAINING FINISHED\n",
      "Epoch 1000/1000, Loss: 6.167615\n",
      "MAPE: 0.089689\n",
      "TRAINING FINISHED\n",
      "Epoch 1000/1000, Loss: 3.415662\n",
      "MAPE: 0.056406\n",
      "TRAINING FINISHED\n",
      "Epoch 1000/1000, Loss: 7.686484\n",
      "MAPE: 0.101383\n",
      "TRAINING FINISHED\n",
      "Epoch 1000/1000, Loss: 6.355543\n",
      "MAPE: 0.091961\n",
      "TRAINING FINISHED\n",
      "Epoch 1000/1000, Loss: 4.500687\n",
      "MAPE: 0.053685\n",
      "TRAINING FINISHED\n",
      "Epoch 1000/1000, Loss: 4.581074\n",
      "MAPE: 0.070663\n",
      "TRAINING FINISHED\n",
      "Epoch 1000/1000, Loss: 6.101929\n",
      "MAPE: 0.078726\n",
      "TRAINING FINISHED\n",
      "Epoch 1000/1000, Loss: 4.722527\n",
      "MAPE: 0.067963\n",
      "TRAINING FINISHED\n",
      "Epoch 1000/1000, Loss: 4.918481\n",
      "MAPE: 0.055449\n",
      "TRAINING FINISHED\n",
      "Epoch 1000/1000, Loss: 4.701404\n",
      "MAPE: 0.068245\n",
      "TRAINING FINISHED\n",
      "Epoch 1000/1000, Loss: 5.698596\n",
      "MAPE: 0.080238\n",
      "TRAINING FINISHED\n",
      "Epoch 1000/1000, Loss: 4.702897\n",
      "MAPE: 0.056816\n",
      "TRAINING FINISHED\n",
      "Epoch 1000/1000, Loss: 16.766672\n",
      "MAPE: 0.118543\n",
      "TRAINING FINISHED\n",
      "Epoch 1000/1000, Loss: 3.495628\n",
      "MAPE: 0.048068\n",
      "TRAINING FINISHED\n",
      "Epoch 1000/1000, Loss: 5.649418\n",
      "MAPE: 0.071268\n",
      "TRAINING FINISHED\n",
      "Epoch 1000/1000, Loss: 3.399057\n",
      "MAPE: 0.056992\n",
      "TRAINING FINISHED\n",
      "Epoch 1000/1000, Loss: 2.960906\n",
      "MAPE: 0.043221\n",
      "TRAINING FINISHED\n",
      "Epoch 1000/1000, Loss: 3.718008\n",
      "MAPE: 0.051143\n",
      "TRAINING FINISHED\n",
      "Epoch 1000/1000, Loss: 3.328443\n",
      "MAPE: 0.043908\n",
      "TRAINING FINISHED\n",
      "Epoch 1000/1000, Loss: 3.263847\n",
      "MAPE: 0.050557\n",
      "TRAINING FINISHED\n",
      "Epoch 1000/1000, Loss: 5.106356\n",
      "MAPE: 0.062732\n",
      "TRAINING FINISHED\n",
      "Epoch 1000/1000, Loss: 3.438775\n",
      "MAPE: 0.047125\n",
      "TRAINING FINISHED\n",
      "Epoch 1000/1000, Loss: 3.438047\n",
      "MAPE: 0.043149\n",
      "TRAINING FINISHED\n",
      "Epoch 1000/1000, Loss: 3.360310\n",
      "MAPE: 0.038703\n",
      "TRAINING FINISHED\n",
      "Epoch 1000/1000, Loss: 4.799541\n",
      "MAPE: 0.054091\n",
      "TRAINING FINISHED\n",
      "Epoch 1000/1000, Loss: 7.145199\n",
      "MAPE: 0.066769\n",
      "TRAINING FINISHED\n",
      "Epoch 1000/1000, Loss: 3.388901\n",
      "MAPE: 0.044569\n",
      "TRAINING FINISHED\n",
      "Epoch 1000/1000, Loss: 6.341978\n",
      "MAPE: 0.074795\n",
      "TRAINING FINISHED\n",
      "Epoch 1000/1000, Loss: 4.983752\n",
      "MAPE: 0.062599\n",
      "TRAINING FINISHED\n",
      "Epoch 1000/1000, Loss: 4.000158\n",
      "MAPE: 0.055264\n",
      "TRAINING FINISHED\n",
      "Epoch 1000/1000, Loss: 3.945051\n",
      "MAPE: 0.049661\n",
      "TRAINING FINISHED\n",
      "Epoch 1000/1000, Loss: 6.916201\n",
      "MAPE: 0.063434\n",
      "TRAINING FINISHED\n",
      "Epoch 1000/1000, Loss: 3.755034\n",
      "MAPE: 0.054267\n",
      "TRAINING FINISHED\n",
      "Epoch 1000/1000, Loss: 4.369457\n",
      "MAPE: 0.059015\n",
      "TRAINING FINISHED\n",
      "Epoch 1000/1000, Loss: 2.842864\n",
      "MAPE: 0.038877\n",
      "TRAINING FINISHED\n",
      "Epoch 1000/1000, Loss: 5.618810\n",
      "MAPE: 0.061792\n",
      "TRAINING FINISHED\n",
      "Epoch 1000/1000, Loss: 2.922591\n",
      "MAPE: 0.040179\n",
      "TRAINING FINISHED\n",
      "Epoch 1000/1000, Loss: 4.139598\n",
      "MAPE: 0.055824\n",
      "TRAINING FINISHED\n",
      "Epoch 1000/1000, Loss: 2.675058\n",
      "MAPE: 0.045817\n",
      "TRAINING FINISHED\n",
      "Epoch 1000/1000, Loss: 6.823635\n",
      "MAPE: 0.066077\n",
      "TRAINING FINISHED\n",
      "Epoch 1000/1000, Loss: 2.852894\n",
      "MAPE: 0.037717\n",
      "TRAINING FINISHED\n",
      "Epoch 1000/1000, Loss: 2.105079\n",
      "MAPE: 0.031298\n",
      "TRAINING FINISHED\n",
      "Epoch 1000/1000, Loss: 4.735313\n",
      "MAPE: 0.060063\n",
      "TRAINING FINISHED\n",
      "Epoch 1000/1000, Loss: 4.675577\n",
      "MAPE: 0.049926\n",
      "TRAINING FINISHED\n",
      "Epoch 1000/1000, Loss: 2.478970\n",
      "MAPE: 0.035987\n",
      "TRAINING FINISHED\n",
      "Epoch 1000/1000, Loss: 3.360876\n",
      "MAPE: 0.043430\n",
      "TRAINING FINISHED\n",
      "Epoch 1000/1000, Loss: 2.405694\n",
      "MAPE: 0.036286\n",
      "TRAINING FINISHED\n",
      "Epoch 1000/1000, Loss: 4.020257\n",
      "MAPE: 0.047958\n",
      "TRAINING FINISHED\n",
      "Epoch 1000/1000, Loss: 5.360020\n",
      "MAPE: 0.050471\n",
      "TRAINING FINISHED\n",
      "Epoch 1000/1000, Loss: 2.300401\n",
      "MAPE: 0.037550\n",
      "TRAINING FINISHED\n",
      "Epoch 1000/1000, Loss: 4.832117\n",
      "MAPE: 0.053871\n",
      "TRAINING FINISHED\n",
      "Epoch 1000/1000, Loss: 4.209992\n",
      "MAPE: 0.053946\n",
      "TRAINING FINISHED\n",
      "Epoch 1000/1000, Loss: 3.693994\n",
      "MAPE: 0.046473\n",
      "TRAINING FINISHED\n",
      "Epoch 1000/1000, Loss: 8.916009\n",
      "MAPE: 0.079661\n",
      "TRAINING FINISHED\n",
      "Epoch 1000/1000, Loss: 3.972770\n",
      "MAPE: 0.051933\n",
      "TRAINING FINISHED\n",
      "Epoch 1000/1000, Loss: 3.667376\n",
      "MAPE: 0.041933\n",
      "TRAINING FINISHED\n",
      "Epoch 1000/1000, Loss: 3.405997\n",
      "MAPE: 0.040329\n",
      "TRAINING FINISHED\n",
      "Epoch 1000/1000, Loss: 2.458710\n",
      "MAPE: 0.038646\n",
      "TRAINING FINISHED\n",
      "Epoch 1000/1000, Loss: 3.642255\n",
      "MAPE: 0.046325\n",
      "TRAINING FINISHED\n",
      "Epoch 1000/1000, Loss: 3.960928\n",
      "MAPE: 0.049956\n",
      "TRAINING FINISHED\n",
      "Epoch 1000/1000, Loss: 3.709982\n",
      "MAPE: 0.042050\n",
      "TRAINING FINISHED\n",
      "Epoch 1000/1000, Loss: 2.137374\n",
      "MAPE: 0.036699\n",
      "TRAINING FINISHED\n",
      "Epoch 1000/1000, Loss: 2.060371\n",
      "MAPE: 0.032032\n",
      "TRAINING FINISHED\n",
      "Epoch 1000/1000, Loss: 3.340482\n",
      "MAPE: 0.045201\n",
      "TRAINING FINISHED\n",
      "Epoch 1000/1000, Loss: 1.966979\n",
      "MAPE: 0.032167\n",
      "TRAINING FINISHED\n",
      "Epoch 1000/1000, Loss: 3.196031\n",
      "MAPE: 0.040954\n",
      "TRAINING FINISHED\n",
      "Epoch 1000/1000, Loss: 3.471776\n",
      "MAPE: 0.041178\n",
      "TRAINING FINISHED\n",
      "Epoch 1000/1000, Loss: 1.994799\n",
      "MAPE: 0.032822\n",
      "TRAINING FINISHED\n",
      "Epoch 1000/1000, Loss: 2.544410\n",
      "MAPE: 0.037704\n",
      "TRAINING FINISHED\n",
      "Epoch 1000/1000, Loss: 2.716779\n",
      "MAPE: 0.036333\n",
      "TRAINING FINISHED\n",
      "Epoch 1000/1000, Loss: 32.977531\n",
      "MAPE: 0.153676\n",
      "TRAINING FINISHED\n",
      "Epoch 1000/1000, Loss: 1.469083\n",
      "MAPE: 0.026053\n",
      "TRAINING FINISHED\n",
      "Epoch 1000/1000, Loss: 1.170578\n",
      "MAPE: 0.024133\n",
      "TRAINING FINISHED\n",
      "Epoch 1000/1000, Loss: 3.313346\n",
      "MAPE: 0.035511\n",
      "TRAINING FINISHED\n",
      "Epoch 1000/1000, Loss: 1.513681\n",
      "MAPE: 0.028221\n",
      "TRAINING FINISHED\n",
      "Epoch 1000/1000, Loss: 3.598128\n",
      "MAPE: 0.041296\n",
      "TRAINING FINISHED\n",
      "Epoch 1000/1000, Loss: 2.397797\n",
      "MAPE: 0.032725\n",
      "TRAINING FINISHED\n",
      "Epoch 1000/1000, Loss: 2.863002\n",
      "MAPE: 0.036860\n",
      "TRAINING FINISHED\n",
      "Epoch 1000/1000, Loss: 2.692748\n",
      "MAPE: 0.031758\n",
      "TRAINING FINISHED\n",
      "Epoch 1000/1000, Loss: 2.552146\n",
      "MAPE: 0.037845\n",
      "TRAINING FINISHED\n",
      "Epoch 1000/1000, Loss: 2.479920\n",
      "MAPE: 0.032866\n",
      "TRAINING FINISHED\n",
      "Epoch 1000/1000, Loss: 1.983781\n",
      "MAPE: 0.028815\n",
      "TRAINING FINISHED\n",
      "Epoch 1000/1000, Loss: 2.186825\n",
      "MAPE: 0.032935\n",
      "TRAINING FINISHED\n",
      "Epoch 1000/1000, Loss: 1.145894\n",
      "MAPE: 0.021897\n",
      "TRAINING FINISHED\n",
      "Epoch 1000/1000, Loss: 27.802900\n",
      "MAPE: 0.131365\n",
      "TRAINING FINISHED\n",
      "Epoch 1000/1000, Loss: 27.503602\n",
      "MAPE: 0.130713\n",
      "TRAINING FINISHED\n",
      "Epoch 1000/1000, Loss: 0.687768\n",
      "MAPE: 0.018828\n",
      "TRAINING FINISHED\n",
      "Epoch 1000/1000, Loss: 1.134058\n",
      "MAPE: 0.023352\n",
      "TRAINING FINISHED\n",
      "Epoch 1000/1000, Loss: 1.148852\n",
      "MAPE: 0.020953\n",
      "TRAINING FINISHED\n",
      "Epoch 1000/1000, Loss: 4.326413\n",
      "MAPE: 0.047773\n",
      "TRAINING FINISHED\n",
      "Epoch 1000/1000, Loss: 24.086954\n",
      "MAPE: 0.120644\n",
      "TRAINING FINISHED\n",
      "Epoch 1000/1000, Loss: 24.874256\n",
      "MAPE: 0.122293\n"
     ]
    }
   ],
   "source": [
    "# MAPE relation with sliding window\n",
    "experiments_amount = 5\n",
    "# epochs = np.linspace(1000, 35000, endpoint=True, num=10).astype(np.int32).tolist()\n",
    "\n",
    "\n",
    "all_mapes = []\n",
    "mapes_mean = []\n",
    "\n",
    "all_sizes: list[int] = []\n",
    "\n",
    "seq_length = 50\n",
    "window_sizes = list(range(1, seq_length // 2))\n",
    "hidden_size = 10\n",
    "batch_size = 2\n",
    "output_size = 3\n",
    "\n",
    "verbosity = 100000\n",
    "max_mape = 1e-3\n",
    "learn_until_meet_mape = True\n",
    "lr = 1e-4\n",
    "max_epochs = 1000\n",
    "\n",
    "sequence = list(arithmetic_progression(seq_length, a0=1, d=1))\n",
    "\n",
    "for size in window_sizes:\n",
    "    X, y = create_sliding_window_batches(sequence, size, batch_size, output_size)    \n",
    "\n",
    "    # Training network for five times\n",
    "    mapes_sum = 0    \n",
    "    for _ in range(experiments_amount):              \n",
    "        \n",
    "        network = LSTMModel(input_size=size, hidden_size=hidden_size,\n",
    "                           output_size=output_size)\n",
    "        _, _mape = network.train(x=X, y=y, lr=lr, max_epochs=max_epochs, verbosity=verbosity)\n",
    "        all_sizes.append(size)\n",
    "        mapes_sum += _mape        \n",
    "        all_mapes.append(_mape)    \n",
    "\n",
    "    # Average mape for epochs amount\n",
    "    mapes_mean.append(mapes_sum / experiments_amount)"
   ]
  },
  {
   "cell_type": "code",
   "execution_count": 29,
   "metadata": {},
   "outputs": [
    {
     "data": {
      "application/vnd.plotly.v1+json": {
       "config": {
        "plotlyServerURL": "https://plot.ly"
       },
       "data": [
        {
         "mode": "markers",
         "name": "Все наблюдения",
         "type": "scatter",
         "x": [
          1,
          1,
          1,
          1,
          1,
          2,
          2,
          2,
          2,
          2,
          3,
          3,
          3,
          3,
          3,
          4,
          4,
          4,
          4,
          4,
          5,
          5,
          5,
          5,
          5,
          6,
          6,
          6,
          6,
          6,
          7,
          7,
          7,
          7,
          7,
          8,
          8,
          8,
          8,
          8,
          9,
          9,
          9,
          9,
          9,
          10,
          10,
          10,
          10,
          10,
          11,
          11,
          11,
          11,
          11,
          12,
          12,
          12,
          12,
          12,
          13,
          13,
          13,
          13,
          13,
          14,
          14,
          14,
          14,
          14,
          15,
          15,
          15,
          15,
          15,
          16,
          16,
          16,
          16,
          16,
          17,
          17,
          17,
          17,
          17,
          18,
          18,
          18,
          18,
          18,
          19,
          19,
          19,
          19,
          19,
          20,
          20,
          20,
          20,
          20,
          21,
          21,
          21,
          21,
          21,
          22,
          22,
          22,
          22,
          22,
          23,
          23,
          23,
          23,
          23,
          24,
          24,
          24,
          24,
          24
         ],
         "y": [
          0.27702430952827595,
          0.26728224846395654,
          0.2919779612917264,
          0.2777666050791257,
          0.2854255767690967,
          0.24928095338193776,
          0.2533681431636269,
          0.2621196169939478,
          0.26891706735836896,
          0.24270522898960534,
          0.22512378722303297,
          0.22538011794174184,
          0.18023381189156132,
          0.21115478957383568,
          0.17900026784980144,
          0.15564889650255476,
          0.13364998054692065,
          0.16032288441805775,
          0.15205247050377033,
          0.15532752887573048,
          0.12250818823001619,
          0.0994998066286669,
          0.07170309153082038,
          0.08866174109941179,
          0.12254912769386181,
          0.11608230851108584,
          0.12595706013917826,
          0.06349063340690284,
          0.08968853034055586,
          0.056406498610845915,
          0.1013830459159352,
          0.09196067167849839,
          0.05368453034270314,
          0.07066282416445172,
          0.07872610038491058,
          0.06796285967242044,
          0.0554490992650856,
          0.06824485140176213,
          0.08023835341524714,
          0.056816190852410374,
          0.11854294834023366,
          0.04806811078653696,
          0.0712684084765089,
          0.05699215027111061,
          0.04322065972293858,
          0.05114348292515099,
          0.043908383704569676,
          0.05055724015597154,
          0.06273169714206825,
          0.04712485441490963,
          0.04314889725978818,
          0.03870349480546708,
          0.05409076782662172,
          0.06676925420303116,
          0.04456914230346152,
          0.07479451858471314,
          0.06259881026266749,
          0.05526449947079305,
          0.049660681842486544,
          0.06343408164458166,
          0.054266566733586395,
          0.05901502905747619,
          0.038877157597637386,
          0.06179226596850138,
          0.04017853743429064,
          0.05582432275453227,
          0.04581710960000154,
          0.0660767561538382,
          0.03771735797670604,
          0.031298497143225606,
          0.06006279094653013,
          0.049926017870727576,
          0.03598670657181538,
          0.04342970396621218,
          0.03628604804599777,
          0.04795820714907856,
          0.05047113978981929,
          0.03754955298976647,
          0.05387056965843326,
          0.05394587260656004,
          0.04647323010387134,
          0.07966054582877871,
          0.05193347457560723,
          0.04193310388563982,
          0.040328833888273845,
          0.03864636340430176,
          0.046325478586820595,
          0.049956252435356834,
          0.04205034706673271,
          0.036698942795079036,
          0.03203222130108964,
          0.045200511423534234,
          0.03216664511358689,
          0.0409544496010661,
          0.04117793129270221,
          0.03282220713830086,
          0.03770438195798906,
          0.036332517271517636,
          0.15367614029361998,
          0.02605267290909586,
          0.024133193712540073,
          0.035511124879460086,
          0.028221451547788174,
          0.04129611118006636,
          0.032725218803118176,
          0.03686002947155152,
          0.03175770343638362,
          0.03784522710610723,
          0.03286550044310886,
          0.028814988139112076,
          0.032934782356084435,
          0.021897289370863153,
          0.13136467421304135,
          0.13071327973217137,
          0.01882799314857969,
          0.02335241790016422,
          0.020953193902289932,
          0.04777343196942088,
          0.12064380436661626,
          0.12229266777477821
         ]
        },
        {
         "mode": "lines+markers",
         "name": "Средние значения",
         "type": "scatter",
         "x": [
          1,
          2,
          3,
          4,
          5,
          6,
          7,
          8,
          9,
          10,
          11,
          12,
          13,
          14,
          15,
          16,
          17,
          18,
          19,
          20,
          21,
          22,
          23,
          24
         ],
         "y": [
          0.27989534022643625,
          0.25527820197749734,
          0.20417855489599462,
          0.1514003521694068,
          0.1009843910365554,
          0.09032500620171374,
          0.0792834344972998,
          0.06574227092138514,
          0.06761845551946574,
          0.05109313166853402,
          0.04945631127967393,
          0.06115051836104838,
          0.05082591135829839,
          0.04734680872566073,
          0.04513825348025661,
          0.048759068438731526,
          0.05206583765643419,
          0.04273547685765819,
          0.038306351746395816,
          0.05731758391410467,
          0.03237742002459457,
          0.03362868971925266,
          0.067147603764148,
          0.0670031031826539
         ]
        }
       ],
       "layout": {
        "font": {
         "size": 20
        },
        "height": 720,
        "template": {
         "data": {
          "bar": [
           {
            "error_x": {
             "color": "#2a3f5f"
            },
            "error_y": {
             "color": "#2a3f5f"
            },
            "marker": {
             "line": {
              "color": "#E5ECF6",
              "width": 0.5
             },
             "pattern": {
              "fillmode": "overlay",
              "size": 10,
              "solidity": 0.2
             }
            },
            "type": "bar"
           }
          ],
          "barpolar": [
           {
            "marker": {
             "line": {
              "color": "#E5ECF6",
              "width": 0.5
             },
             "pattern": {
              "fillmode": "overlay",
              "size": 10,
              "solidity": 0.2
             }
            },
            "type": "barpolar"
           }
          ],
          "carpet": [
           {
            "aaxis": {
             "endlinecolor": "#2a3f5f",
             "gridcolor": "white",
             "linecolor": "white",
             "minorgridcolor": "white",
             "startlinecolor": "#2a3f5f"
            },
            "baxis": {
             "endlinecolor": "#2a3f5f",
             "gridcolor": "white",
             "linecolor": "white",
             "minorgridcolor": "white",
             "startlinecolor": "#2a3f5f"
            },
            "type": "carpet"
           }
          ],
          "choropleth": [
           {
            "colorbar": {
             "outlinewidth": 0,
             "ticks": ""
            },
            "type": "choropleth"
           }
          ],
          "contour": [
           {
            "colorbar": {
             "outlinewidth": 0,
             "ticks": ""
            },
            "colorscale": [
             [
              0,
              "#0d0887"
             ],
             [
              0.1111111111111111,
              "#46039f"
             ],
             [
              0.2222222222222222,
              "#7201a8"
             ],
             [
              0.3333333333333333,
              "#9c179e"
             ],
             [
              0.4444444444444444,
              "#bd3786"
             ],
             [
              0.5555555555555556,
              "#d8576b"
             ],
             [
              0.6666666666666666,
              "#ed7953"
             ],
             [
              0.7777777777777778,
              "#fb9f3a"
             ],
             [
              0.8888888888888888,
              "#fdca26"
             ],
             [
              1,
              "#f0f921"
             ]
            ],
            "type": "contour"
           }
          ],
          "contourcarpet": [
           {
            "colorbar": {
             "outlinewidth": 0,
             "ticks": ""
            },
            "type": "contourcarpet"
           }
          ],
          "heatmap": [
           {
            "colorbar": {
             "outlinewidth": 0,
             "ticks": ""
            },
            "colorscale": [
             [
              0,
              "#0d0887"
             ],
             [
              0.1111111111111111,
              "#46039f"
             ],
             [
              0.2222222222222222,
              "#7201a8"
             ],
             [
              0.3333333333333333,
              "#9c179e"
             ],
             [
              0.4444444444444444,
              "#bd3786"
             ],
             [
              0.5555555555555556,
              "#d8576b"
             ],
             [
              0.6666666666666666,
              "#ed7953"
             ],
             [
              0.7777777777777778,
              "#fb9f3a"
             ],
             [
              0.8888888888888888,
              "#fdca26"
             ],
             [
              1,
              "#f0f921"
             ]
            ],
            "type": "heatmap"
           }
          ],
          "heatmapgl": [
           {
            "colorbar": {
             "outlinewidth": 0,
             "ticks": ""
            },
            "colorscale": [
             [
              0,
              "#0d0887"
             ],
             [
              0.1111111111111111,
              "#46039f"
             ],
             [
              0.2222222222222222,
              "#7201a8"
             ],
             [
              0.3333333333333333,
              "#9c179e"
             ],
             [
              0.4444444444444444,
              "#bd3786"
             ],
             [
              0.5555555555555556,
              "#d8576b"
             ],
             [
              0.6666666666666666,
              "#ed7953"
             ],
             [
              0.7777777777777778,
              "#fb9f3a"
             ],
             [
              0.8888888888888888,
              "#fdca26"
             ],
             [
              1,
              "#f0f921"
             ]
            ],
            "type": "heatmapgl"
           }
          ],
          "histogram": [
           {
            "marker": {
             "pattern": {
              "fillmode": "overlay",
              "size": 10,
              "solidity": 0.2
             }
            },
            "type": "histogram"
           }
          ],
          "histogram2d": [
           {
            "colorbar": {
             "outlinewidth": 0,
             "ticks": ""
            },
            "colorscale": [
             [
              0,
              "#0d0887"
             ],
             [
              0.1111111111111111,
              "#46039f"
             ],
             [
              0.2222222222222222,
              "#7201a8"
             ],
             [
              0.3333333333333333,
              "#9c179e"
             ],
             [
              0.4444444444444444,
              "#bd3786"
             ],
             [
              0.5555555555555556,
              "#d8576b"
             ],
             [
              0.6666666666666666,
              "#ed7953"
             ],
             [
              0.7777777777777778,
              "#fb9f3a"
             ],
             [
              0.8888888888888888,
              "#fdca26"
             ],
             [
              1,
              "#f0f921"
             ]
            ],
            "type": "histogram2d"
           }
          ],
          "histogram2dcontour": [
           {
            "colorbar": {
             "outlinewidth": 0,
             "ticks": ""
            },
            "colorscale": [
             [
              0,
              "#0d0887"
             ],
             [
              0.1111111111111111,
              "#46039f"
             ],
             [
              0.2222222222222222,
              "#7201a8"
             ],
             [
              0.3333333333333333,
              "#9c179e"
             ],
             [
              0.4444444444444444,
              "#bd3786"
             ],
             [
              0.5555555555555556,
              "#d8576b"
             ],
             [
              0.6666666666666666,
              "#ed7953"
             ],
             [
              0.7777777777777778,
              "#fb9f3a"
             ],
             [
              0.8888888888888888,
              "#fdca26"
             ],
             [
              1,
              "#f0f921"
             ]
            ],
            "type": "histogram2dcontour"
           }
          ],
          "mesh3d": [
           {
            "colorbar": {
             "outlinewidth": 0,
             "ticks": ""
            },
            "type": "mesh3d"
           }
          ],
          "parcoords": [
           {
            "line": {
             "colorbar": {
              "outlinewidth": 0,
              "ticks": ""
             }
            },
            "type": "parcoords"
           }
          ],
          "pie": [
           {
            "automargin": true,
            "type": "pie"
           }
          ],
          "scatter": [
           {
            "fillpattern": {
             "fillmode": "overlay",
             "size": 10,
             "solidity": 0.2
            },
            "type": "scatter"
           }
          ],
          "scatter3d": [
           {
            "line": {
             "colorbar": {
              "outlinewidth": 0,
              "ticks": ""
             }
            },
            "marker": {
             "colorbar": {
              "outlinewidth": 0,
              "ticks": ""
             }
            },
            "type": "scatter3d"
           }
          ],
          "scattercarpet": [
           {
            "marker": {
             "colorbar": {
              "outlinewidth": 0,
              "ticks": ""
             }
            },
            "type": "scattercarpet"
           }
          ],
          "scattergeo": [
           {
            "marker": {
             "colorbar": {
              "outlinewidth": 0,
              "ticks": ""
             }
            },
            "type": "scattergeo"
           }
          ],
          "scattergl": [
           {
            "marker": {
             "colorbar": {
              "outlinewidth": 0,
              "ticks": ""
             }
            },
            "type": "scattergl"
           }
          ],
          "scattermapbox": [
           {
            "marker": {
             "colorbar": {
              "outlinewidth": 0,
              "ticks": ""
             }
            },
            "type": "scattermapbox"
           }
          ],
          "scatterpolar": [
           {
            "marker": {
             "colorbar": {
              "outlinewidth": 0,
              "ticks": ""
             }
            },
            "type": "scatterpolar"
           }
          ],
          "scatterpolargl": [
           {
            "marker": {
             "colorbar": {
              "outlinewidth": 0,
              "ticks": ""
             }
            },
            "type": "scatterpolargl"
           }
          ],
          "scatterternary": [
           {
            "marker": {
             "colorbar": {
              "outlinewidth": 0,
              "ticks": ""
             }
            },
            "type": "scatterternary"
           }
          ],
          "surface": [
           {
            "colorbar": {
             "outlinewidth": 0,
             "ticks": ""
            },
            "colorscale": [
             [
              0,
              "#0d0887"
             ],
             [
              0.1111111111111111,
              "#46039f"
             ],
             [
              0.2222222222222222,
              "#7201a8"
             ],
             [
              0.3333333333333333,
              "#9c179e"
             ],
             [
              0.4444444444444444,
              "#bd3786"
             ],
             [
              0.5555555555555556,
              "#d8576b"
             ],
             [
              0.6666666666666666,
              "#ed7953"
             ],
             [
              0.7777777777777778,
              "#fb9f3a"
             ],
             [
              0.8888888888888888,
              "#fdca26"
             ],
             [
              1,
              "#f0f921"
             ]
            ],
            "type": "surface"
           }
          ],
          "table": [
           {
            "cells": {
             "fill": {
              "color": "#EBF0F8"
             },
             "line": {
              "color": "white"
             }
            },
            "header": {
             "fill": {
              "color": "#C8D4E3"
             },
             "line": {
              "color": "white"
             }
            },
            "type": "table"
           }
          ]
         },
         "layout": {
          "annotationdefaults": {
           "arrowcolor": "#2a3f5f",
           "arrowhead": 0,
           "arrowwidth": 1
          },
          "autotypenumbers": "strict",
          "coloraxis": {
           "colorbar": {
            "outlinewidth": 0,
            "ticks": ""
           }
          },
          "colorscale": {
           "diverging": [
            [
             0,
             "#8e0152"
            ],
            [
             0.1,
             "#c51b7d"
            ],
            [
             0.2,
             "#de77ae"
            ],
            [
             0.3,
             "#f1b6da"
            ],
            [
             0.4,
             "#fde0ef"
            ],
            [
             0.5,
             "#f7f7f7"
            ],
            [
             0.6,
             "#e6f5d0"
            ],
            [
             0.7,
             "#b8e186"
            ],
            [
             0.8,
             "#7fbc41"
            ],
            [
             0.9,
             "#4d9221"
            ],
            [
             1,
             "#276419"
            ]
           ],
           "sequential": [
            [
             0,
             "#0d0887"
            ],
            [
             0.1111111111111111,
             "#46039f"
            ],
            [
             0.2222222222222222,
             "#7201a8"
            ],
            [
             0.3333333333333333,
             "#9c179e"
            ],
            [
             0.4444444444444444,
             "#bd3786"
            ],
            [
             0.5555555555555556,
             "#d8576b"
            ],
            [
             0.6666666666666666,
             "#ed7953"
            ],
            [
             0.7777777777777778,
             "#fb9f3a"
            ],
            [
             0.8888888888888888,
             "#fdca26"
            ],
            [
             1,
             "#f0f921"
            ]
           ],
           "sequentialminus": [
            [
             0,
             "#0d0887"
            ],
            [
             0.1111111111111111,
             "#46039f"
            ],
            [
             0.2222222222222222,
             "#7201a8"
            ],
            [
             0.3333333333333333,
             "#9c179e"
            ],
            [
             0.4444444444444444,
             "#bd3786"
            ],
            [
             0.5555555555555556,
             "#d8576b"
            ],
            [
             0.6666666666666666,
             "#ed7953"
            ],
            [
             0.7777777777777778,
             "#fb9f3a"
            ],
            [
             0.8888888888888888,
             "#fdca26"
            ],
            [
             1,
             "#f0f921"
            ]
           ]
          },
          "colorway": [
           "#636efa",
           "#EF553B",
           "#00cc96",
           "#ab63fa",
           "#FFA15A",
           "#19d3f3",
           "#FF6692",
           "#B6E880",
           "#FF97FF",
           "#FECB52"
          ],
          "font": {
           "color": "#2a3f5f"
          },
          "geo": {
           "bgcolor": "white",
           "lakecolor": "white",
           "landcolor": "#E5ECF6",
           "showlakes": true,
           "showland": true,
           "subunitcolor": "white"
          },
          "hoverlabel": {
           "align": "left"
          },
          "hovermode": "closest",
          "mapbox": {
           "style": "light"
          },
          "paper_bgcolor": "white",
          "plot_bgcolor": "#E5ECF6",
          "polar": {
           "angularaxis": {
            "gridcolor": "white",
            "linecolor": "white",
            "ticks": ""
           },
           "bgcolor": "#E5ECF6",
           "radialaxis": {
            "gridcolor": "white",
            "linecolor": "white",
            "ticks": ""
           }
          },
          "scene": {
           "xaxis": {
            "backgroundcolor": "#E5ECF6",
            "gridcolor": "white",
            "gridwidth": 2,
            "linecolor": "white",
            "showbackground": true,
            "ticks": "",
            "zerolinecolor": "white"
           },
           "yaxis": {
            "backgroundcolor": "#E5ECF6",
            "gridcolor": "white",
            "gridwidth": 2,
            "linecolor": "white",
            "showbackground": true,
            "ticks": "",
            "zerolinecolor": "white"
           },
           "zaxis": {
            "backgroundcolor": "#E5ECF6",
            "gridcolor": "white",
            "gridwidth": 2,
            "linecolor": "white",
            "showbackground": true,
            "ticks": "",
            "zerolinecolor": "white"
           }
          },
          "shapedefaults": {
           "line": {
            "color": "#2a3f5f"
           }
          },
          "ternary": {
           "aaxis": {
            "gridcolor": "white",
            "linecolor": "white",
            "ticks": ""
           },
           "baxis": {
            "gridcolor": "white",
            "linecolor": "white",
            "ticks": ""
           },
           "bgcolor": "#E5ECF6",
           "caxis": {
            "gridcolor": "white",
            "linecolor": "white",
            "ticks": ""
           }
          },
          "title": {
           "x": 0.05
          },
          "xaxis": {
           "automargin": true,
           "gridcolor": "white",
           "linecolor": "white",
           "ticks": "",
           "title": {
            "standoff": 15
           },
           "zerolinecolor": "white",
           "zerolinewidth": 2
          },
          "yaxis": {
           "automargin": true,
           "gridcolor": "white",
           "linecolor": "white",
           "ticks": "",
           "title": {
            "standoff": 15
           },
           "zerolinecolor": "white",
           "zerolinewidth": 2
          }
         }
        },
        "title": {
         "text": "Зависимость средней абсолютной ошибки от<br>размера скользящего окна"
        },
        "width": 1280,
        "xaxis": {
         "title": {
          "text": "Размер скользящего окна"
         }
        },
        "yaxis": {
         "title": {
          "text": "Средняя абсолютная ошибка"
         }
        }
       }
      }
     },
     "metadata": {},
     "output_type": "display_data"
    }
   ],
   "source": [
    "# Plotting results\n",
    "fig = go.Figure()\n",
    "fig.add_trace(\n",
    "    go.Scatter(x=all_sizes, y=all_mapes,\n",
    "               name='Все наблюдения', mode='markers')\n",
    ")\n",
    "fig.add_trace(\n",
    "    go.Scatter(x=window_sizes, y=mapes_mean,\n",
    "               name='Средние значения', mode='lines+markers')\n",
    ")\n",
    "fig.update_layout(\n",
    "    title='Зависимость средней абсолютной ошибки от<br>размера скользящего окна',\n",
    "    font=dict(size=20),\n",
    "    xaxis=dict(title='Размер скользящего окна'),\n",
    "    yaxis=dict(title='Средняя абсолютная ошибка'),\n",
    "    width=1280,\n",
    "    height=720\n",
    ")\n",
    "fig.show()"
   ]
  },
  {
   "cell_type": "code",
   "execution_count": 12,
   "metadata": {},
   "outputs": [
    {
     "name": "stdout",
     "output_type": "stream",
     "text": [
      "[0, 1, 1, 2, 3, 5, 8, 13, 21, 34]\n",
      "TRAINING FINISHED\n",
      "Epoch 2000/2000, Loss: 10.364070\n",
      "MAPE: 0.232588\n",
      "TRAINING FINISHED\n",
      "Epoch 2000/2000, Loss: 9.432886\n",
      "MAPE: 0.227119\n",
      "TRAINING FINISHED\n",
      "Epoch 2000/2000, Loss: 6.726360\n",
      "MAPE: 0.200316\n",
      "TRAINING FINISHED\n",
      "Epoch 2000/2000, Loss: 12.465468\n",
      "MAPE: 0.228770\n",
      "TRAINING FINISHED\n",
      "Epoch 2000/2000, Loss: 13.807684\n",
      "MAPE: 0.231440\n",
      "[1, 4, 9, 16, 25, 36, 49, 64, 81, 100]\n",
      "TRAINING FINISHED\n",
      "Epoch 2000/2000, Loss: 8.203199\n",
      "MAPE: 0.057872\n",
      "TRAINING FINISHED\n",
      "Epoch 2000/2000, Loss: 12.226541\n",
      "MAPE: 0.058663\n",
      "TRAINING FINISHED\n",
      "Epoch 2000/2000, Loss: 9.054044\n",
      "MAPE: 0.056231\n",
      "TRAINING FINISHED\n",
      "Epoch 2000/2000, Loss: 12.315123\n",
      "MAPE: 0.065812\n",
      "TRAINING FINISHED\n",
      "Epoch 2000/2000, Loss: 52.697611\n",
      "MAPE: 0.107278\n",
      "[1, 2, 3, 4, 5, 6, 7, 8, 9, 10]\n",
      "TRAINING FINISHED\n",
      "Epoch 2000/2000, Loss: 1.386314\n",
      "MAPE: 0.155626\n",
      "TRAINING FINISHED\n",
      "Epoch 2000/2000, Loss: 1.207720\n",
      "MAPE: 0.143091\n",
      "TRAINING FINISHED\n",
      "Epoch 2000/2000, Loss: 1.395904\n",
      "MAPE: 0.166395\n",
      "TRAINING FINISHED\n",
      "Epoch 2000/2000, Loss: 1.014297\n",
      "MAPE: 0.130697\n",
      "TRAINING FINISHED\n",
      "Epoch 2000/2000, Loss: 2.101253\n",
      "MAPE: 0.201509\n",
      "[1.0, 0.5, 0.3333333333333333, 0.25, 0.2, 0.16666666666666666, 0.14285714285714285, 0.125, 0.1111111111111111, 0.1]\n",
      "TRAINING FINISHED\n",
      "Epoch 2000/2000, Loss: 0.020605\n",
      "MAPE: 0.967046\n",
      "TRAINING FINISHED\n",
      "Epoch 2000/2000, Loss: 0.016358\n",
      "MAPE: 0.852969\n",
      "TRAINING FINISHED\n",
      "Epoch 2000/2000, Loss: 0.019486\n",
      "MAPE: 0.924054\n",
      "TRAINING FINISHED\n",
      "Epoch 2000/2000, Loss: 0.014360\n",
      "MAPE: 0.729250\n",
      "TRAINING FINISHED\n",
      "Epoch 2000/2000, Loss: 0.016483\n",
      "MAPE: 0.825355\n",
      "[1, -1, 1, -1, 1, -1, 1, -1, 1, -1]\n",
      "TRAINING FINISHED\n",
      "Epoch 2000/2000, Loss: 1.084100\n",
      "MAPE: 1.038959\n",
      "TRAINING FINISHED\n",
      "Epoch 2000/2000, Loss: 0.988653\n",
      "MAPE: 0.992993\n",
      "TRAINING FINISHED\n",
      "Epoch 2000/2000, Loss: 0.911875\n",
      "MAPE: 0.953116\n",
      "TRAINING FINISHED\n",
      "Epoch 2000/2000, Loss: 0.923348\n",
      "MAPE: 0.960028\n",
      "TRAINING FINISHED\n",
      "Epoch 2000/2000, Loss: 0.825404\n",
      "MAPE: 0.907100\n",
      "[1, 0.5, 1, 0.5, 0.5, 1, 0.5, 0.5, 0.5, 1]\n",
      "TRAINING FINISHED\n",
      "Epoch 2000/2000, Loss: 0.304178\n",
      "MAPE: 0.776296\n",
      "TRAINING FINISHED\n",
      "Epoch 2000/2000, Loss: 0.411712\n",
      "MAPE: 0.893056\n",
      "TRAINING FINISHED\n",
      "Epoch 2000/2000, Loss: 0.303851\n",
      "MAPE: 0.787541\n",
      "TRAINING FINISHED\n",
      "Epoch 2000/2000, Loss: 0.318860\n",
      "MAPE: 0.783191\n",
      "TRAINING FINISHED\n",
      "Epoch 2000/2000, Loss: 0.327818\n",
      "MAPE: 0.783629\n"
     ]
    }
   ],
   "source": [
    "# Настройки эксперимента\n",
    "experiments_amount = 5\n",
    "seq_length = 10\n",
    "window_size = 3\n",
    "batch_size = 2\n",
    "hidden_size = 10\n",
    "output_size = 3\n",
    "max_epochs = 2000\n",
    "verbosity = 100000\n",
    "lr = 1e-4\n",
    "\n",
    "# Словарь с генераторами\n",
    "sequence_generators = {\n",
    "    \"1, 1, 2, 3, 5, 8,...\": lambda n: list(fibonacci_generator(n)),\n",
    "    \"1, 4, 9, 16,...\": lambda n: list(squared_generator(n)),\n",
    "    \"1, 2, 3, 4, 5,...\": lambda n: list(arithmetic_progression(n, a0=1, d=1)),    \n",
    "    \"1, 0.5 ,0.(3), 0.25, 0.2,...\": lambda n: list(one_by_n_generator(n)),\n",
    "    \"1, -1, 1, -1,...\": lambda n: list(plus_one_minus_one_generator(n)),\n",
    "    \"1, 0.5, 1, 0.5, 0.5, 1,...\": lambda n: list(one_half_generator(n)),\n",
    "}\n",
    "\n",
    "all_mapes = []\n",
    "mapes_mean = []\n",
    "all_sequences = []\n",
    "\n",
    "# Тренировка для каждой последовательности\n",
    "for seq_name, seq_generator in sequence_generators.items():\n",
    "    sequence = seq_generator(seq_length)\n",
    "    print(sequence)\n",
    "    X, y = create_sliding_window_batches(sequence, window_size, batch_size, output_size)\n",
    "\n",
    "    mapes_sum = 0\n",
    "    for _ in range(experiments_amount):\n",
    "        network = LSTMModel(input_size=window_size, hidden_size=hidden_size, output_size=output_size)\n",
    "        _, _mape = network.train(x=X, y=y, lr=lr, max_epochs=max_epochs, verbosity=verbosity)\n",
    "        all_sequences.append(seq_name)\n",
    "        all_mapes.append(_mape)\n",
    "        mapes_sum += _mape\n",
    "\n",
    "    mapes_mean.append(mapes_sum / experiments_amount)"
   ]
  },
  {
   "cell_type": "code",
   "execution_count": 13,
   "metadata": {},
   "outputs": [
    {
     "data": {
      "application/vnd.plotly.v1+json": {
       "config": {
        "plotlyServerURL": "https://plot.ly"
       },
       "data": [
        {
         "mode": "markers",
         "name": "Все наблюдения",
         "type": "scatter",
         "x": [
          "1, 1, 2, 3, 5, 8,...",
          "1, 1, 2, 3, 5, 8,...",
          "1, 1, 2, 3, 5, 8,...",
          "1, 1, 2, 3, 5, 8,...",
          "1, 1, 2, 3, 5, 8,...",
          "1, 4, 9, 16,...",
          "1, 4, 9, 16,...",
          "1, 4, 9, 16,...",
          "1, 4, 9, 16,...",
          "1, 4, 9, 16,...",
          "1, 2, 3, 4, 5,...",
          "1, 2, 3, 4, 5,...",
          "1, 2, 3, 4, 5,...",
          "1, 2, 3, 4, 5,...",
          "1, 2, 3, 4, 5,...",
          "1, 0.5 ,0.(3), 0.25, 0.2,...",
          "1, 0.5 ,0.(3), 0.25, 0.2,...",
          "1, 0.5 ,0.(3), 0.25, 0.2,...",
          "1, 0.5 ,0.(3), 0.25, 0.2,...",
          "1, 0.5 ,0.(3), 0.25, 0.2,...",
          "1, -1, 1, -1,...",
          "1, -1, 1, -1,...",
          "1, -1, 1, -1,...",
          "1, -1, 1, -1,...",
          "1, -1, 1, -1,...",
          "1, 0.5, 1, 0.5, 0.5, 1,...",
          "1, 0.5, 1, 0.5, 0.5, 1,...",
          "1, 0.5, 1, 0.5, 0.5, 1,...",
          "1, 0.5, 1, 0.5, 0.5, 1,...",
          "1, 0.5, 1, 0.5, 0.5, 1,..."
         ],
         "y": [
          0.2325876953556489,
          0.22711873913853914,
          0.2003160102878638,
          0.2287702490244406,
          0.23143976534848137,
          0.05787206871354438,
          0.05866297580664967,
          0.05623131452437824,
          0.06581244866573127,
          0.10727822529312149,
          0.155626301943923,
          0.1430912265606817,
          0.16639461903362618,
          0.13069673156441505,
          0.2015085774356185,
          0.9670458677559307,
          0.852968667479867,
          0.9240535856117109,
          0.7292496107563003,
          0.8253549005701994,
          1.038958674953931,
          0.992993218457618,
          0.9531161376808454,
          0.9600283346395848,
          0.9070998125432558,
          0.7762959005990256,
          0.89305639500913,
          0.7875407934822936,
          0.7831914745510821,
          0.7836286791285781
         ]
        },
        {
         "mode": "markers",
         "name": "Средние значения",
         "type": "scatter",
         "x": [
          "1, 1, 2, 3, 5, 8,...",
          "1, 4, 9, 16,...",
          "1, 2, 3, 4, 5,...",
          "1, 0.5 ,0.(3), 0.25, 0.2,...",
          "1, -1, 1, -1,...",
          "1, 0.5, 1, 0.5, 0.5, 1,..."
         ],
         "y": [
          0.2240464918309948,
          0.06917140660068502,
          0.15946349130765286,
          0.8597345264348016,
          0.970439235655047,
          0.8047426485540219
         ]
        }
       ],
       "layout": {
        "font": {
         "size": 20
        },
        "height": 720,
        "template": {
         "data": {
          "bar": [
           {
            "error_x": {
             "color": "#2a3f5f"
            },
            "error_y": {
             "color": "#2a3f5f"
            },
            "marker": {
             "line": {
              "color": "#E5ECF6",
              "width": 0.5
             },
             "pattern": {
              "fillmode": "overlay",
              "size": 10,
              "solidity": 0.2
             }
            },
            "type": "bar"
           }
          ],
          "barpolar": [
           {
            "marker": {
             "line": {
              "color": "#E5ECF6",
              "width": 0.5
             },
             "pattern": {
              "fillmode": "overlay",
              "size": 10,
              "solidity": 0.2
             }
            },
            "type": "barpolar"
           }
          ],
          "carpet": [
           {
            "aaxis": {
             "endlinecolor": "#2a3f5f",
             "gridcolor": "white",
             "linecolor": "white",
             "minorgridcolor": "white",
             "startlinecolor": "#2a3f5f"
            },
            "baxis": {
             "endlinecolor": "#2a3f5f",
             "gridcolor": "white",
             "linecolor": "white",
             "minorgridcolor": "white",
             "startlinecolor": "#2a3f5f"
            },
            "type": "carpet"
           }
          ],
          "choropleth": [
           {
            "colorbar": {
             "outlinewidth": 0,
             "ticks": ""
            },
            "type": "choropleth"
           }
          ],
          "contour": [
           {
            "colorbar": {
             "outlinewidth": 0,
             "ticks": ""
            },
            "colorscale": [
             [
              0,
              "#0d0887"
             ],
             [
              0.1111111111111111,
              "#46039f"
             ],
             [
              0.2222222222222222,
              "#7201a8"
             ],
             [
              0.3333333333333333,
              "#9c179e"
             ],
             [
              0.4444444444444444,
              "#bd3786"
             ],
             [
              0.5555555555555556,
              "#d8576b"
             ],
             [
              0.6666666666666666,
              "#ed7953"
             ],
             [
              0.7777777777777778,
              "#fb9f3a"
             ],
             [
              0.8888888888888888,
              "#fdca26"
             ],
             [
              1,
              "#f0f921"
             ]
            ],
            "type": "contour"
           }
          ],
          "contourcarpet": [
           {
            "colorbar": {
             "outlinewidth": 0,
             "ticks": ""
            },
            "type": "contourcarpet"
           }
          ],
          "heatmap": [
           {
            "colorbar": {
             "outlinewidth": 0,
             "ticks": ""
            },
            "colorscale": [
             [
              0,
              "#0d0887"
             ],
             [
              0.1111111111111111,
              "#46039f"
             ],
             [
              0.2222222222222222,
              "#7201a8"
             ],
             [
              0.3333333333333333,
              "#9c179e"
             ],
             [
              0.4444444444444444,
              "#bd3786"
             ],
             [
              0.5555555555555556,
              "#d8576b"
             ],
             [
              0.6666666666666666,
              "#ed7953"
             ],
             [
              0.7777777777777778,
              "#fb9f3a"
             ],
             [
              0.8888888888888888,
              "#fdca26"
             ],
             [
              1,
              "#f0f921"
             ]
            ],
            "type": "heatmap"
           }
          ],
          "heatmapgl": [
           {
            "colorbar": {
             "outlinewidth": 0,
             "ticks": ""
            },
            "colorscale": [
             [
              0,
              "#0d0887"
             ],
             [
              0.1111111111111111,
              "#46039f"
             ],
             [
              0.2222222222222222,
              "#7201a8"
             ],
             [
              0.3333333333333333,
              "#9c179e"
             ],
             [
              0.4444444444444444,
              "#bd3786"
             ],
             [
              0.5555555555555556,
              "#d8576b"
             ],
             [
              0.6666666666666666,
              "#ed7953"
             ],
             [
              0.7777777777777778,
              "#fb9f3a"
             ],
             [
              0.8888888888888888,
              "#fdca26"
             ],
             [
              1,
              "#f0f921"
             ]
            ],
            "type": "heatmapgl"
           }
          ],
          "histogram": [
           {
            "marker": {
             "pattern": {
              "fillmode": "overlay",
              "size": 10,
              "solidity": 0.2
             }
            },
            "type": "histogram"
           }
          ],
          "histogram2d": [
           {
            "colorbar": {
             "outlinewidth": 0,
             "ticks": ""
            },
            "colorscale": [
             [
              0,
              "#0d0887"
             ],
             [
              0.1111111111111111,
              "#46039f"
             ],
             [
              0.2222222222222222,
              "#7201a8"
             ],
             [
              0.3333333333333333,
              "#9c179e"
             ],
             [
              0.4444444444444444,
              "#bd3786"
             ],
             [
              0.5555555555555556,
              "#d8576b"
             ],
             [
              0.6666666666666666,
              "#ed7953"
             ],
             [
              0.7777777777777778,
              "#fb9f3a"
             ],
             [
              0.8888888888888888,
              "#fdca26"
             ],
             [
              1,
              "#f0f921"
             ]
            ],
            "type": "histogram2d"
           }
          ],
          "histogram2dcontour": [
           {
            "colorbar": {
             "outlinewidth": 0,
             "ticks": ""
            },
            "colorscale": [
             [
              0,
              "#0d0887"
             ],
             [
              0.1111111111111111,
              "#46039f"
             ],
             [
              0.2222222222222222,
              "#7201a8"
             ],
             [
              0.3333333333333333,
              "#9c179e"
             ],
             [
              0.4444444444444444,
              "#bd3786"
             ],
             [
              0.5555555555555556,
              "#d8576b"
             ],
             [
              0.6666666666666666,
              "#ed7953"
             ],
             [
              0.7777777777777778,
              "#fb9f3a"
             ],
             [
              0.8888888888888888,
              "#fdca26"
             ],
             [
              1,
              "#f0f921"
             ]
            ],
            "type": "histogram2dcontour"
           }
          ],
          "mesh3d": [
           {
            "colorbar": {
             "outlinewidth": 0,
             "ticks": ""
            },
            "type": "mesh3d"
           }
          ],
          "parcoords": [
           {
            "line": {
             "colorbar": {
              "outlinewidth": 0,
              "ticks": ""
             }
            },
            "type": "parcoords"
           }
          ],
          "pie": [
           {
            "automargin": true,
            "type": "pie"
           }
          ],
          "scatter": [
           {
            "fillpattern": {
             "fillmode": "overlay",
             "size": 10,
             "solidity": 0.2
            },
            "type": "scatter"
           }
          ],
          "scatter3d": [
           {
            "line": {
             "colorbar": {
              "outlinewidth": 0,
              "ticks": ""
             }
            },
            "marker": {
             "colorbar": {
              "outlinewidth": 0,
              "ticks": ""
             }
            },
            "type": "scatter3d"
           }
          ],
          "scattercarpet": [
           {
            "marker": {
             "colorbar": {
              "outlinewidth": 0,
              "ticks": ""
             }
            },
            "type": "scattercarpet"
           }
          ],
          "scattergeo": [
           {
            "marker": {
             "colorbar": {
              "outlinewidth": 0,
              "ticks": ""
             }
            },
            "type": "scattergeo"
           }
          ],
          "scattergl": [
           {
            "marker": {
             "colorbar": {
              "outlinewidth": 0,
              "ticks": ""
             }
            },
            "type": "scattergl"
           }
          ],
          "scattermapbox": [
           {
            "marker": {
             "colorbar": {
              "outlinewidth": 0,
              "ticks": ""
             }
            },
            "type": "scattermapbox"
           }
          ],
          "scatterpolar": [
           {
            "marker": {
             "colorbar": {
              "outlinewidth": 0,
              "ticks": ""
             }
            },
            "type": "scatterpolar"
           }
          ],
          "scatterpolargl": [
           {
            "marker": {
             "colorbar": {
              "outlinewidth": 0,
              "ticks": ""
             }
            },
            "type": "scatterpolargl"
           }
          ],
          "scatterternary": [
           {
            "marker": {
             "colorbar": {
              "outlinewidth": 0,
              "ticks": ""
             }
            },
            "type": "scatterternary"
           }
          ],
          "surface": [
           {
            "colorbar": {
             "outlinewidth": 0,
             "ticks": ""
            },
            "colorscale": [
             [
              0,
              "#0d0887"
             ],
             [
              0.1111111111111111,
              "#46039f"
             ],
             [
              0.2222222222222222,
              "#7201a8"
             ],
             [
              0.3333333333333333,
              "#9c179e"
             ],
             [
              0.4444444444444444,
              "#bd3786"
             ],
             [
              0.5555555555555556,
              "#d8576b"
             ],
             [
              0.6666666666666666,
              "#ed7953"
             ],
             [
              0.7777777777777778,
              "#fb9f3a"
             ],
             [
              0.8888888888888888,
              "#fdca26"
             ],
             [
              1,
              "#f0f921"
             ]
            ],
            "type": "surface"
           }
          ],
          "table": [
           {
            "cells": {
             "fill": {
              "color": "#EBF0F8"
             },
             "line": {
              "color": "white"
             }
            },
            "header": {
             "fill": {
              "color": "#C8D4E3"
             },
             "line": {
              "color": "white"
             }
            },
            "type": "table"
           }
          ]
         },
         "layout": {
          "annotationdefaults": {
           "arrowcolor": "#2a3f5f",
           "arrowhead": 0,
           "arrowwidth": 1
          },
          "autotypenumbers": "strict",
          "coloraxis": {
           "colorbar": {
            "outlinewidth": 0,
            "ticks": ""
           }
          },
          "colorscale": {
           "diverging": [
            [
             0,
             "#8e0152"
            ],
            [
             0.1,
             "#c51b7d"
            ],
            [
             0.2,
             "#de77ae"
            ],
            [
             0.3,
             "#f1b6da"
            ],
            [
             0.4,
             "#fde0ef"
            ],
            [
             0.5,
             "#f7f7f7"
            ],
            [
             0.6,
             "#e6f5d0"
            ],
            [
             0.7,
             "#b8e186"
            ],
            [
             0.8,
             "#7fbc41"
            ],
            [
             0.9,
             "#4d9221"
            ],
            [
             1,
             "#276419"
            ]
           ],
           "sequential": [
            [
             0,
             "#0d0887"
            ],
            [
             0.1111111111111111,
             "#46039f"
            ],
            [
             0.2222222222222222,
             "#7201a8"
            ],
            [
             0.3333333333333333,
             "#9c179e"
            ],
            [
             0.4444444444444444,
             "#bd3786"
            ],
            [
             0.5555555555555556,
             "#d8576b"
            ],
            [
             0.6666666666666666,
             "#ed7953"
            ],
            [
             0.7777777777777778,
             "#fb9f3a"
            ],
            [
             0.8888888888888888,
             "#fdca26"
            ],
            [
             1,
             "#f0f921"
            ]
           ],
           "sequentialminus": [
            [
             0,
             "#0d0887"
            ],
            [
             0.1111111111111111,
             "#46039f"
            ],
            [
             0.2222222222222222,
             "#7201a8"
            ],
            [
             0.3333333333333333,
             "#9c179e"
            ],
            [
             0.4444444444444444,
             "#bd3786"
            ],
            [
             0.5555555555555556,
             "#d8576b"
            ],
            [
             0.6666666666666666,
             "#ed7953"
            ],
            [
             0.7777777777777778,
             "#fb9f3a"
            ],
            [
             0.8888888888888888,
             "#fdca26"
            ],
            [
             1,
             "#f0f921"
            ]
           ]
          },
          "colorway": [
           "#636efa",
           "#EF553B",
           "#00cc96",
           "#ab63fa",
           "#FFA15A",
           "#19d3f3",
           "#FF6692",
           "#B6E880",
           "#FF97FF",
           "#FECB52"
          ],
          "font": {
           "color": "#2a3f5f"
          },
          "geo": {
           "bgcolor": "white",
           "lakecolor": "white",
           "landcolor": "#E5ECF6",
           "showlakes": true,
           "showland": true,
           "subunitcolor": "white"
          },
          "hoverlabel": {
           "align": "left"
          },
          "hovermode": "closest",
          "mapbox": {
           "style": "light"
          },
          "paper_bgcolor": "white",
          "plot_bgcolor": "#E5ECF6",
          "polar": {
           "angularaxis": {
            "gridcolor": "white",
            "linecolor": "white",
            "ticks": ""
           },
           "bgcolor": "#E5ECF6",
           "radialaxis": {
            "gridcolor": "white",
            "linecolor": "white",
            "ticks": ""
           }
          },
          "scene": {
           "xaxis": {
            "backgroundcolor": "#E5ECF6",
            "gridcolor": "white",
            "gridwidth": 2,
            "linecolor": "white",
            "showbackground": true,
            "ticks": "",
            "zerolinecolor": "white"
           },
           "yaxis": {
            "backgroundcolor": "#E5ECF6",
            "gridcolor": "white",
            "gridwidth": 2,
            "linecolor": "white",
            "showbackground": true,
            "ticks": "",
            "zerolinecolor": "white"
           },
           "zaxis": {
            "backgroundcolor": "#E5ECF6",
            "gridcolor": "white",
            "gridwidth": 2,
            "linecolor": "white",
            "showbackground": true,
            "ticks": "",
            "zerolinecolor": "white"
           }
          },
          "shapedefaults": {
           "line": {
            "color": "#2a3f5f"
           }
          },
          "ternary": {
           "aaxis": {
            "gridcolor": "white",
            "linecolor": "white",
            "ticks": ""
           },
           "baxis": {
            "gridcolor": "white",
            "linecolor": "white",
            "ticks": ""
           },
           "bgcolor": "#E5ECF6",
           "caxis": {
            "gridcolor": "white",
            "linecolor": "white",
            "ticks": ""
           }
          },
          "title": {
           "x": 0.05
          },
          "xaxis": {
           "automargin": true,
           "gridcolor": "white",
           "linecolor": "white",
           "ticks": "",
           "title": {
            "standoff": 15
           },
           "zerolinecolor": "white",
           "zerolinewidth": 2
          },
          "yaxis": {
           "automargin": true,
           "gridcolor": "white",
           "linecolor": "white",
           "ticks": "",
           "title": {
            "standoff": 15
           },
           "zerolinecolor": "white",
           "zerolinewidth": 2
          }
         }
        },
        "title": {
         "text": "Зависимость средней абсолютной ошибки<br>от вида последовательности"
        },
        "width": 1280,
        "xaxis": {
         "title": {
          "text": "Вид последовательности"
         }
        },
        "yaxis": {
         "title": {
          "text": "Средняя абсолютная ошибка"
         }
        }
       }
      }
     },
     "metadata": {},
     "output_type": "display_data"
    }
   ],
   "source": [
    "# Построение графика\n",
    "fig = go.Figure()\n",
    "fig.add_trace(\n",
    "    go.Scatter(x=all_sequences, y=all_mapes, name=\"Все наблюдения\", mode=\"markers\")\n",
    ")\n",
    "fig.add_trace(\n",
    "    go.Scatter(x=list(sequence_generators.keys()), y=mapes_mean, name=\"Средние значения\", mode=\"markers\")\n",
    ")\n",
    "fig.update_layout(\n",
    "    title=\"Зависимость средней абсолютной ошибки<br>от вида последовательности\",\n",
    "    font=dict(size=20),\n",
    "    xaxis=dict(title=\"Вид последовательности\"),\n",
    "    yaxis=dict(title=\"Средняя абсолютная ошибка\"),\n",
    "    width=1280,\n",
    "    height=720\n",
    ")\n",
    "fig.show()"
   ]
  },
  {
   "cell_type": "code",
   "execution_count": 14,
   "metadata": {},
   "outputs": [
    {
     "name": "stdout",
     "output_type": "stream",
     "text": [
      "TRAINING FINISHED\n",
      "Epoch 2000/2000, Loss: 0.083103\n",
      "MAPE: 0.020253\n",
      "TEST\n"
     ]
    },
    {
     "ename": "ValueError",
     "evalue": "too many values to unpack (expected 3)",
     "output_type": "error",
     "traceback": [
      "\u001b[1;31m---------------------------------------------------------------------------\u001b[0m",
      "\u001b[1;31mValueError\u001b[0m                                Traceback (most recent call last)",
      "Cell \u001b[1;32mIn[14], line 21\u001b[0m\n\u001b[0;32m     18\u001b[0m model\u001b[38;5;241m.\u001b[39mtrain(x\u001b[38;5;241m=\u001b[39mX, y\u001b[38;5;241m=\u001b[39my, lr\u001b[38;5;241m=\u001b[39mlr, max_epochs\u001b[38;5;241m=\u001b[39mepochs, verbosity\u001b[38;5;241m=\u001b[39mverbosity)\n\u001b[0;32m     20\u001b[0m \u001b[38;5;28mprint\u001b[39m(\u001b[38;5;124m'\u001b[39m\u001b[38;5;124mTEST\u001b[39m\u001b[38;5;124m'\u001b[39m)\n\u001b[1;32m---> 21\u001b[0m y_pred, _, _ \u001b[38;5;241m=\u001b[39m model\u001b[38;5;241m.\u001b[39mforward(X)\n\u001b[0;32m     22\u001b[0m \u001b[38;5;28mprint\u001b[39m(\u001b[38;5;124m\"\u001b[39m\u001b[38;5;124mПредсказания на тестовой выборке:\u001b[39m\u001b[38;5;130;01m\\n\u001b[39;00m\u001b[38;5;124m\"\u001b[39m, y_pred[\u001b[38;5;241m-\u001b[39m\u001b[38;5;241m1\u001b[39m][\u001b[38;5;241m-\u001b[39m\u001b[38;5;241m1\u001b[39m])\n\u001b[0;32m     23\u001b[0m \u001b[38;5;28mprint\u001b[39m(\u001b[38;5;124m\"\u001b[39m\u001b[38;5;124mИстинное значение на тестовой выборке:\u001b[39m\u001b[38;5;130;01m\\n\u001b[39;00m\u001b[38;5;124m\"\u001b[39m, y[\u001b[38;5;241m-\u001b[39m\u001b[38;5;241m1\u001b[39m][\u001b[38;5;241m-\u001b[39m\u001b[38;5;241m1\u001b[39m])\n",
      "\u001b[1;31mValueError\u001b[0m: too many values to unpack (expected 3)"
     ]
    }
   ],
   "source": [
    "# Arithmetic\n",
    "seq_length = 20\n",
    "window_size = 5\n",
    "batch_size = 2\n",
    "hidden_size = 10\n",
    "output_size = 3\n",
    "\n",
    "sequence = list(arithmetic_progression(seq_length, 1, 1))\n",
    "X, y = create_sliding_window_batches(sequence, window_size, batch_size, output_size)\n",
    "\n",
    "verbosity = 5000\n",
    "model = LSTMModel(window_size, hidden_size, output_size)\n",
    "\n",
    "# Параметры обучения\n",
    "lr = 1e-3\n",
    "epochs = 2000\n",
    "\n",
    "model.train(x=X, y=y, lr=lr, max_epochs=epochs, verbosity=verbosity)\n",
    "\n",
    "print('TEST')\n",
    "y_pred, _, _ = model.forward(X)\n",
    "print(\"Предсказания на тестовой выборке:\\n\", y_pred[-1][-1])\n",
    "print(\"Истинное значение на тестовой выборке:\\n\", y[-1][-1])\n",
    "print(f\"MAPE: {mape(y[-1][-1], y_pred[-1][-1]) * 100:.4f}%\")  "
   ]
  },
  {
   "cell_type": "code",
   "execution_count": 10,
   "metadata": {},
   "outputs": [
    {
     "name": "stdout",
     "output_type": "stream",
     "text": [
      "TRAINING FINISHED\n",
      "Epoch 2000/2000, Loss: 401.406563\n",
      "MAPE: 0.249506\n",
      "TEST\n",
      "Предсказания на тестовой выборке:\n",
      " [124.3206073  201.14490545 325.4805035 ]\n",
      "Истинное значение на тестовой выборке:\n",
      " [144 233 377]\n",
      "MAPE: 13.6679%\n"
     ]
    }
   ],
   "source": [
    "# Fibonacci\n",
    "seq_length = 15\n",
    "window_size = 5\n",
    "batch_size = 2\n",
    "hidden_size = 10\n",
    "output_size = 3\n",
    "\n",
    "sequence = list(fibonacci_generator(seq_length))\n",
    "X, y = create_sliding_window_batches(sequence, window_size, batch_size, output_size)\n",
    "\n",
    "verbosity = 5000\n",
    "model = LSTMModel(window_size, hidden_size, output_size)\n",
    "\n",
    "# Параметры обучения\n",
    "lr = 1e-3\n",
    "epochs = 2000\n",
    "\n",
    "model.train(x=X, y=y, lr=lr, max_epochs=epochs, verbosity=verbosity)\n",
    "\n",
    "print('TEST')\n",
    "y_pred, _, _ = model.forward(X)\n",
    "print(\"Предсказания на тестовой выборке:\\n\", y_pred[-1][-1])\n",
    "print(\"Истинное значение на тестовой выборке:\\n\", y[-1][-1])\n",
    "print(f\"MAPE: {mape(y[-1][-1], y_pred[-1][-1]) * 100:.4f}%\")"
   ]
  },
  {
   "cell_type": "code",
   "execution_count": 11,
   "metadata": {},
   "outputs": [
    {
     "name": "stdout",
     "output_type": "stream",
     "text": [
      "TRAINING FINISHED\n",
      "Epoch 2000/2000, Loss: 0.001185\n",
      "MAPE: 0.249061\n",
      "TEST\n",
      "Предсказания на тестовой выборке:\n",
      " [0.06865588 0.0529477  0.07845942]\n",
      "Истинное значение на тестовой выборке:\n",
      " [0.05555556 0.05263158 0.05      ]\n",
      "MAPE: 27.0334%\n"
     ]
    }
   ],
   "source": [
    "# 1 / n\n",
    "seq_length = 20\n",
    "window_size = 5\n",
    "batch_size = 2\n",
    "hidden_size = 10\n",
    "output_size = 3\n",
    "\n",
    "sequence = list(one_by_n_generator(seq_length))\n",
    "X, y = create_sliding_window_batches(sequence, window_size, batch_size, output_size)\n",
    "\n",
    "verbosity = 5000\n",
    "model = LSTMModel(window_size, hidden_size, output_size)\n",
    "\n",
    "# Параметры обучения\n",
    "lr = 1e-3\n",
    "epochs = 2000\n",
    "\n",
    "model.train(x=X, y=y, lr=lr, max_epochs=epochs, verbosity=verbosity)\n",
    "\n",
    "print('TEST')\n",
    "y_pred, _, _ = model.forward(X)\n",
    "print(\"Предсказания на тестовой выборке:\\n\", y_pred[-1][-1])\n",
    "print(\"Истинное значение на тестовой выборке:\\n\", y[-1][-1])\n",
    "print(f\"MAPE: {mape(y[-1][-1], y_pred[-1][-1]) * 100:.4f}%\")"
   ]
  },
  {
   "cell_type": "code",
   "execution_count": 12,
   "metadata": {},
   "outputs": [
    {
     "name": "stdout",
     "output_type": "stream",
     "text": [
      "Epoch 2000/2000, Loss: 0.083253\n",
      "MAPE: 0.198552\n",
      "TRAINING FINISHED\n",
      "Epoch 2000/2000, Loss: 0.083253\n",
      "MAPE: 0.198552\n",
      "TEST\n",
      "Предсказания на тестовой выборке:\n",
      " [-0.29187779  0.14308726 -0.24763119]\n",
      "Истинное значение на тестовой выборке:\n",
      " [-1  1 -1]\n",
      "MAPE: 77.2468%\n"
     ]
    }
   ],
   "source": [
    "# 1, -1, 1, -1, ...\n",
    "seq_length = 20\n",
    "window_size = 5\n",
    "batch_size = 2\n",
    "hidden_size = 10\n",
    "output_size = 3\n",
    "\n",
    "sequence = list(plus_one_minus_one_generator(seq_length))\n",
    "X, y = create_sliding_window_batches(sequence, window_size, batch_size, output_size)\n",
    "\n",
    "verbosity = 2000\n",
    "model = LSTMModel(window_size, hidden_size, output_size)\n",
    "\n",
    "# Параметры обучения\n",
    "lr = 1e-3\n",
    "epochs = 2000\n",
    "\n",
    "model.train(x=X, y=y, lr=lr, max_epochs=epochs, verbosity=verbosity)\n",
    "\n",
    "print('TEST')\n",
    "y_pred, _, _ = model.forward(X)\n",
    "print(\"Предсказания на тестовой выборке:\\n\", y_pred[-1][-1])\n",
    "print(\"Истинное значение на тестовой выборке:\\n\", y[-1][-1])\n",
    "print(f\"MAPE: {mape(y[-1][-1], y_pred[-1][-1]) * 100:.4f}%\") "
   ]
  },
  {
   "cell_type": "code",
   "execution_count": 13,
   "metadata": {},
   "outputs": [
    {
     "name": "stdout",
     "output_type": "stream",
     "text": [
      "TRAINING FINISHED\n",
      "Epoch 2000/2000, Loss: 0.303113\n",
      "MAPE: 0.010584\n",
      "TEST\n",
      "Предсказания на тестовой выборке:\n",
      " [ 64.65079107  81.64464169 100.35348175]\n",
      "Истинное значение на тестовой выборке:\n",
      " [ 64  81 100]\n",
      "MAPE: 0.7221%\n"
     ]
    }
   ],
   "source": [
    "# n ** 2\n",
    "seq_length = 10\n",
    "window_size = 3\n",
    "batch_size = 2\n",
    "hidden_size = 10\n",
    "output_size = 3\n",
    "\n",
    "sequence = list(squared_generator(seq_length))\n",
    "X, y = create_sliding_window_batches(sequence, window_size, batch_size, output_size)\n",
    "\n",
    "verbosity = 5000\n",
    "model = LSTMModel(window_size, hidden_size, output_size)\n",
    "\n",
    "# Параметры обучения\n",
    "lr = 1e-3\n",
    "epochs = 2000\n",
    "\n",
    "model.train(x=X, y=y, lr=lr, max_epochs=epochs, verbosity=verbosity)\n",
    "\n",
    "print('TEST')\n",
    "y_pred, _, _ = model.forward(X)\n",
    "print(\"Предсказания на тестовой выборке:\\n\", y_pred[-1][-1])\n",
    "print(\"Истинное значение на тестовой выборке:\\n\", y[-1][-1])\n",
    "print(f\"MAPE: {mape(y[-1][-1], y_pred[-1][-1]) * 100:.4f}%\") "
   ]
  }
 ],
 "metadata": {
  "kernelspec": {
   "display_name": ".venv",
   "language": "python",
   "name": "python3"
  },
  "language_info": {
   "codemirror_mode": {
    "name": "ipython",
    "version": 3
   },
   "file_extension": ".py",
   "mimetype": "text/x-python",
   "name": "python",
   "nbconvert_exporter": "python",
   "pygments_lexer": "ipython3",
   "version": "3.11.9"
  }
 },
 "nbformat": 4,
 "nbformat_minor": 2
}
