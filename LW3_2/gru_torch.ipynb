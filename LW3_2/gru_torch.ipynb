{
 "cells": [
  {
   "cell_type": "code",
   "execution_count": 49,
   "metadata": {},
   "outputs": [],
   "source": [
    "import torch\n",
    "import torch.nn as nn\n",
    "import torch.optim as optim\n",
    "import numpy as np\n",
    "from torch.utils.data import Dataset, DataLoader"
   ]
  },
  {
   "cell_type": "code",
   "execution_count": 50,
   "metadata": {},
   "outputs": [],
   "source": [
    "class GRU(nn.Module):\n",
    "    def __init__(self, input_size, hidden_size, output_size, num_layers, dropout=0.0, learning_rate=0.001, num_epochs=20):\n",
    "        super(GRU, self).__init__()\n",
    "        \n",
    "        self.hidden_size = hidden_size\n",
    "        self.num_layers = num_layers\n",
    "        self.num_epochs = num_epochs\n",
    "        self.learning_rate = learning_rate\n",
    "        \n",
    "        # GRU слой\n",
    "        self.gru = nn.GRU(input_size, hidden_size, num_layers, batch_first=True, dropout=dropout)\n",
    "        \n",
    "        # Полносвязный слой для предсказания выхода\n",
    "        self.fc = nn.Linear(hidden_size, output_size)\n",
    "\n",
    "        # Функция потерь и оптимизатор\n",
    "        self.criterion = nn.MSELoss()\n",
    "        self.optimizer = None\n",
    "\n",
    "    def forward(self, x):\n",
    "        # Ожидаем входной размер (batch_size, input_size)\n",
    "        x = x.unsqueeze(1)  # Добавляем фиктивный размер для sequence_length        \n",
    "\n",
    "        # Инициализация скрытых состояний (h0)\n",
    "        h0 = torch.zeros(self.num_layers, x.size(0), self.hidden_size).to(x.device)\n",
    "        \n",
    "        # Прямой проход через GRU        \n",
    "        out, _ = self.gru(x, h0)\n",
    "        \n",
    "        # Используем только последнее скрытое состояние\n",
    "        out = out[:, -1, :]\n",
    "        \n",
    "        # Прогон через полносвязный слой\n",
    "        out = self.fc(out)        \n",
    "        \n",
    "        return out\n",
    "\n",
    "    def train_model(self, dataloader, device, verbosity: int = 1):\n",
    "        self.to(device)\n",
    "\n",
    "        # Инициализация оптимизатора\n",
    "        self.optimizer = optim.Adam(self.parameters(), lr=self.learning_rate)\n",
    "\n",
    "        for epoch in range(self.num_epochs):\n",
    "            self.train()\n",
    "\n",
    "            for x_batch, y_batch in dataloader:                \n",
    "                x_batch, y_batch = x_batch.to(device), y_batch.to(device)\n",
    "\n",
    "                # Прямой проход\n",
    "                outputs = self(x_batch)\n",
    "                loss = self.criterion(outputs, y_batch)\n",
    "\n",
    "                # Обратное распространение и обновление весов\n",
    "                self.optimizer.zero_grad()\n",
    "                loss.backward()\n",
    "                self.optimizer.step()\n",
    "\n",
    "            # Печать информации об обучении\n",
    "            if (epoch + 1) % verbosity == 0:\n",
    "                print(f'Epoch [{epoch + 1}/{self.num_epochs}], Loss: {loss.item():.4f}')\n",
    "\n",
    "        print(\"Обучение завершено!\")\n",
    "\n",
    "    def predict(self, dataloader, device):\n",
    "        self.eval()\n",
    "        predictions = []\n",
    "        with torch.inference_mode():\n",
    "            for x_batch, _ in dataloader:\n",
    "                x_batch = x_batch.to(device)\n",
    "                outputs = self(x_batch)\n",
    "                predictions.append(outputs.cpu())\n",
    "        return torch.cat(predictions, dim=0)"
   ]
  },
  {
   "cell_type": "code",
   "execution_count": 51,
   "metadata": {},
   "outputs": [],
   "source": [
    "# 1/n sequence generator\n",
    "def one_by_n_generator(n):    \n",
    "    for i in range(n):\n",
    "        yield 1 / (i + 1)"
   ]
  },
  {
   "cell_type": "code",
   "execution_count": 52,
   "metadata": {},
   "outputs": [],
   "source": [
    "# Arithmetic progression\n",
    "def arithmetic_progression(n, a0, d):\n",
    "    for i in range(n):\n",
    "        yield a0 + i * d"
   ]
  },
  {
   "cell_type": "code",
   "execution_count": 53,
   "metadata": {},
   "outputs": [],
   "source": [
    "# 1, 0, 1, 0, 0, 1, 0, 0, 0, 1,... sequence generator\n",
    "def one_zero_generator(n):\n",
    "    count = 1\n",
    "    generated = 0\n",
    "    while generated < n:\n",
    "        generated += 1\n",
    "        yield 1\n",
    "        for _ in range(count):\n",
    "            if generated >= n:\n",
    "                break\n",
    "            generated += 1\n",
    "            yield 0            \n",
    "        count += 1"
   ]
  },
  {
   "cell_type": "code",
   "execution_count": 54,
   "metadata": {},
   "outputs": [],
   "source": [
    "# Prepare data using sliding window\n",
    "def create_sliding_window_data(sequence, window_size, output_size):\n",
    "    X, y = [], []\n",
    "    \n",
    "    # Формирование данных скользящего окна\n",
    "    for i in range(len(sequence) - window_size - output_size + 1):\n",
    "        X.append(sequence[i:i + window_size])\n",
    "        y.append(sequence[i + window_size:i + window_size + output_size])\n",
    "    \n",
    "    # Преобразование в массивы numpy\n",
    "    X, y = np.array(X), np.array(y)\n",
    "\n",
    "    return X, y"
   ]
  },
  {
   "cell_type": "code",
   "execution_count": 55,
   "metadata": {},
   "outputs": [],
   "source": [
    "class SequenceDataset(Dataset):\n",
    "\n",
    "    def __init__(self, x, y):\n",
    "        super(SequenceDataset, self).__init__()\n",
    "\n",
    "        self.x = torch.as_tensor(x, dtype=torch.float32)\n",
    "        self.y = torch.as_tensor(y, dtype=torch.float32)\n",
    "\n",
    "        self.n_samples = self.x.shape[0]\n",
    "    \n",
    "    def __getitem__(self, index):\n",
    "        return self.x[index], self.y[index]\n",
    "    \n",
    "    def __len__(self):\n",
    "        return self.n_samples"
   ]
  },
  {
   "cell_type": "code",
   "execution_count": 56,
   "metadata": {},
   "outputs": [
    {
     "name": "stdout",
     "output_type": "stream",
     "text": [
      "Epoch [1000/10000], Loss: 3.9037\n",
      "Epoch [2000/10000], Loss: 1.4004\n",
      "Epoch [3000/10000], Loss: 0.2754\n",
      "Epoch [4000/10000], Loss: 0.0720\n",
      "Epoch [5000/10000], Loss: 0.0363\n",
      "Epoch [6000/10000], Loss: 0.3102\n",
      "Epoch [7000/10000], Loss: 0.0151\n",
      "Epoch [8000/10000], Loss: 0.0384\n",
      "Epoch [9000/10000], Loss: 0.0994\n",
      "Epoch [10000/10000], Loss: 0.0307\n",
      "Обучение завершено!\n"
     ]
    }
   ],
   "source": [
    "# Гиперпараметры\n",
    "sequence_length = 10\n",
    "window_size = 3\n",
    "hidden_size = 4     # Размер скрытого состояния\n",
    "output_size = 2      # Размер выхода (например, регрессия)\n",
    "num_layers = 2       # Количество слоёв GRU\n",
    "learning_rate = 0.001\n",
    "num_epochs = 10000\n",
    "dropout = 0.2  # Dropout для регуляризации\n",
    "\n",
    "# Создание модели\n",
    "model = GRU(window_size, hidden_size, output_size, num_layers, dropout, learning_rate, num_epochs)\n",
    "\n",
    "# Пример генерации данных вида 1 / n (для обучения)\n",
    "batch_size = 16\n",
    "sequence = list(arithmetic_progression(sequence_length, 1, 1))\n",
    "x, y = create_sliding_window_data(sequence, window_size, output_size)\n",
    "x_train, y_train = x[0:int(len(x) * 0.8)], y[0:int(len(x) * 0.8)]\n",
    "x_test, y_test = x[int(len(x) * 0.8):], y[int(len(x) * 0.8):]\n",
    "\n",
    "train_dataloader = DataLoader(dataset=SequenceDataset(x_train, y_train),\n",
    "                              batch_size=batch_size,\n",
    "                              shuffle=False)\n",
    "\n",
    "# Перенос на устройство (GPU, если доступно)\n",
    "device = torch.device(\"cuda\" if torch.cuda.is_available() else \"cpu\")\n",
    "\n",
    "# Тренировка модели\n",
    "model.train_model(train_dataloader, device, 1000)"
   ]
  },
  {
   "cell_type": "code",
   "execution_count": 57,
   "metadata": {},
   "outputs": [
    {
     "name": "stdout",
     "output_type": "stream",
     "text": [
      "Test data MAE: 1.2456%\n",
      "Test data MAPE: 13.6507%\n"
     ]
    }
   ],
   "source": [
    "# Пример данных для предсказания\n",
    "test_dataloader = DataLoader(dataset=SequenceDataset(x_test, y_test),\n",
    "                             batch_size=batch_size,\n",
    "                             shuffle=False)\n",
    "predictions = model.predict(test_dataloader, device)\n",
    "mae = np.mean(np.absolute(y_test - predictions.numpy()))\n",
    "print(f'Test data MAE: {mae:.4f}%')\n",
    "# Mean absolute percentage error\n",
    "mape = np.mean(np.absolute((y_test - predictions.numpy()) / y_test)) * 100\n",
    "print(f'Test data MAPE: {mape:.4f}%')"
   ]
  },
  {
   "cell_type": "code",
   "execution_count": 58,
   "metadata": {},
   "outputs": [
    {
     "data": {
      "text/plain": [
       "tensor([[7.1976, 8.2066],\n",
       "        [7.2993, 8.3140]])"
      ]
     },
     "execution_count": 58,
     "metadata": {},
     "output_type": "execute_result"
    }
   ],
   "source": [
    "predictions"
   ]
  },
  {
   "cell_type": "code",
   "execution_count": 59,
   "metadata": {},
   "outputs": [
    {
     "data": {
      "text/plain": [
       "array([[ 8,  9],\n",
       "       [ 9, 10]])"
      ]
     },
     "execution_count": 59,
     "metadata": {},
     "output_type": "execute_result"
    }
   ],
   "source": [
    "y_test"
   ]
  }
 ],
 "metadata": {
  "kernelspec": {
   "display_name": ".venv",
   "language": "python",
   "name": "python3"
  },
  "language_info": {
   "codemirror_mode": {
    "name": "ipython",
    "version": 3
   },
   "file_extension": ".py",
   "mimetype": "text/x-python",
   "name": "python",
   "nbconvert_exporter": "python",
   "pygments_lexer": "ipython3",
   "version": "3.11.9"
  }
 },
 "nbformat": 4,
 "nbformat_minor": 2
}
