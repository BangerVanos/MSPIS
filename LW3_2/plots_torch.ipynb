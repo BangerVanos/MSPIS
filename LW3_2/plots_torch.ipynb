{
 "cells": [
  {
   "cell_type": "code",
   "execution_count": 1,
   "metadata": {},
   "outputs": [],
   "source": [
    "from gru_torch import (\n",
    "    GRU,\n",
    "    SequenceDataset,\n",
    "    create_sliding_window,\n",
    "    arithmetic_progression,\n",
    "    mape,\n",
    "    DataLoader,\n",
    "    torch\n",
    ")\n",
    "import plotly.graph_objects as go\n",
    "import numpy as np"
   ]
  },
  {
   "cell_type": "code",
   "execution_count": 8,
   "metadata": {},
   "outputs": [],
   "source": [
    "def scale_sequence(sequence):\n",
    "    mean = np.mean(sequence)\n",
    "    deviation = np.std(sequence)    \n",
    "    scaled = (np.array(sequence) - mean) / deviation    \n",
    "    return scaled, mean, deviation\n",
    "\n",
    "def descale_sequence(scaled, mean, deviation):\n",
    "    descaled = scaled * deviation + mean\n",
    "    return descaled\n",
    "\n",
    "def predict_next_n_elements(sequence, window_size, batch_size, hidden_size, n,\n",
    "                            max_epochs, verbosity, lr, use_adam: bool = False):\n",
    "    scaled, mean, deviation = scale_sequence(sequence[:-n])        \n",
    "    # scaled = sequence[:-n]  \n",
    "    X, y = create_sliding_window(scaled, window_size, n)\n",
    "    model = GRU(window_size, hidden_size, n, num_layers=1,\n",
    "                dropout=0, learning_rate=lr, num_epochs=max_epochs)\n",
    "    train_loader = DataLoader(dataset=SequenceDataset(X, y),\n",
    "                              batch_size=batch_size,\n",
    "                              shuffle=False)\n",
    "    device = torch.device(\"cuda\" if torch.cuda.is_available() else \"cpu\")\n",
    "    model.train_model(train_loader, device, verbosity, use_adam)\n",
    "    train_pred = model.predict(train_loader, device).numpy()\n",
    "    training_mape = mape(y, train_pred)           \n",
    "    x_last = np.expand_dims(scaled[-window_size:], axis=0)\n",
    "    train_loader = DataLoader(dataset=SequenceDataset(x_last, np.expand_dims(sequence[-n:], axis=0)),\n",
    "                              batch_size=batch_size,\n",
    "                              shuffle=False)     \n",
    "    pred = model.predict(train_loader, device).numpy()\n",
    "    descaled_pred = descale_sequence(pred[-1], mean, deviation)\n",
    "    # descaled_pred = pred[-1]\n",
    "    return training_mape, model, descaled_pred, mean, deviation"
   ]
  },
  {
   "cell_type": "code",
   "execution_count": 10,
   "metadata": {},
   "outputs": [
    {
     "name": "stdout",
     "output_type": "stream",
     "text": [
      "Обучение завершено!\n",
      "Обучение завершено!\n",
      "Обучение завершено!\n",
      "Обучение завершено!\n",
      "Обучение завершено!\n",
      "Обучение завершено!\n",
      "Обучение завершено!\n",
      "Обучение завершено!\n",
      "Обучение завершено!\n",
      "Обучение завершено!\n",
      "Обучение завершено!\n",
      "Обучение завершено!\n",
      "Обучение завершено!\n",
      "Обучение завершено!\n",
      "Обучение завершено!\n",
      "Обучение завершено!\n",
      "Обучение завершено!\n",
      "Обучение завершено!\n",
      "Обучение завершено!\n",
      "Обучение завершено!\n",
      "Обучение завершено!\n",
      "Обучение завершено!\n",
      "Обучение завершено!\n",
      "Обучение завершено!\n",
      "Обучение завершено!\n",
      "Обучение завершено!\n",
      "Обучение завершено!\n",
      "Обучение завершено!\n",
      "Обучение завершено!\n",
      "Обучение завершено!\n",
      "Обучение завершено!\n",
      "Обучение завершено!\n",
      "Обучение завершено!\n",
      "Обучение завершено!\n",
      "Обучение завершено!\n",
      "Обучение завершено!\n",
      "Обучение завершено!\n",
      "Обучение завершено!\n",
      "Обучение завершено!\n",
      "Обучение завершено!\n",
      "Обучение завершено!\n",
      "Обучение завершено!\n",
      "Обучение завершено!\n",
      "Обучение завершено!\n",
      "Обучение завершено!\n",
      "Обучение завершено!\n",
      "Обучение завершено!\n",
      "Обучение завершено!\n",
      "Обучение завершено!\n",
      "Обучение завершено!\n",
      "Обучение завершено!\n",
      "Обучение завершено!\n",
      "Обучение завершено!\n",
      "Обучение завершено!\n",
      "Обучение завершено!\n",
      "Обучение завершено!\n",
      "Обучение завершено!\n",
      "Обучение завершено!\n",
      "Обучение завершено!\n",
      "Обучение завершено!\n",
      "Обучение завершено!\n",
      "Обучение завершено!\n",
      "Обучение завершено!\n",
      "Обучение завершено!\n",
      "Обучение завершено!\n",
      "Обучение завершено!\n",
      "Обучение завершено!\n",
      "Обучение завершено!\n",
      "Обучение завершено!\n",
      "Обучение завершено!\n",
      "Обучение завершено!\n",
      "Обучение завершено!\n",
      "Обучение завершено!\n",
      "Обучение завершено!\n",
      "Обучение завершено!\n",
      "Обучение завершено!\n",
      "Обучение завершено!\n",
      "Обучение завершено!\n",
      "Обучение завершено!\n",
      "Обучение завершено!\n"
     ]
    }
   ],
   "source": [
    "experiments_amount = 4\n",
    "# epochs = np.linspace(1000, 35000, endpoint=True, num=10).astype(np.int32).tolist()\n",
    "epochs = list(range(100, 2100, 100))\n",
    "\n",
    "# np.random.seed(12345)\n",
    "\n",
    "all_mapes = []\n",
    "mapes_mean = []\n",
    "\n",
    "all_epochs: list[int] = []\n",
    "\n",
    "seq_length = 20\n",
    "window_size = 5\n",
    "batch_size = 8\n",
    "hidden_size = 6\n",
    "output_size = 3\n",
    "\n",
    "verbosity = 100000\n",
    "lr = 1e-2\n",
    "use_adam = False\n",
    "\n",
    "sequence = list(arithmetic_progression(seq_length + output_size, 1, 1))\n",
    "\n",
    "for max_epochs in epochs:    \n",
    "\n",
    "    # Training network for five times\n",
    "    mapes_sum = 0    \n",
    "    for _ in range(experiments_amount):        \n",
    "        test_sequence = sequence[-output_size:]\n",
    "        training_mape, model, next_n_pred, mean, deviation = predict_next_n_elements(\n",
    "            sequence, window_size, batch_size,\n",
    "            hidden_size, output_size, max_epochs,\n",
    "            verbosity, lr, use_adam=use_adam\n",
    "        )\n",
    "        all_epochs.append(max_epochs)\n",
    "\n",
    "        # Test sequence mape\n",
    "        test_sequence = sequence[-output_size:]\n",
    "        test_mape = mape(test_sequence, next_n_pred)\n",
    "        mapes_sum += test_mape    \n",
    "        all_mapes.append(test_mape)\n",
    "            \n",
    "\n",
    "    # Average mape for epochs amount\n",
    "    mapes_mean.append(mapes_sum / experiments_amount)"
   ]
  },
  {
   "cell_type": "code",
   "execution_count": 11,
   "metadata": {},
   "outputs": [
    {
     "data": {
      "application/vnd.plotly.v1+json": {
       "config": {
        "plotlyServerURL": "https://plot.ly"
       },
       "data": [
        {
         "mode": "markers",
         "name": "Все наблюдения",
         "type": "scatter",
         "x": [
          100,
          100,
          100,
          100,
          200,
          200,
          200,
          200,
          300,
          300,
          300,
          300,
          400,
          400,
          400,
          400,
          500,
          500,
          500,
          500,
          600,
          600,
          600,
          600,
          700,
          700,
          700,
          700,
          800,
          800,
          800,
          800,
          900,
          900,
          900,
          900,
          1000,
          1000,
          1000,
          1000,
          1100,
          1100,
          1100,
          1100,
          1200,
          1200,
          1200,
          1200,
          1300,
          1300,
          1300,
          1300,
          1400,
          1400,
          1400,
          1400,
          1500,
          1500,
          1500,
          1500,
          1600,
          1600,
          1600,
          1600,
          1700,
          1700,
          1700,
          1700,
          1800,
          1800,
          1800,
          1800,
          1900,
          1900,
          1900,
          1900,
          2000,
          2000,
          2000,
          2000
         ],
         "y": [
          0.29231556360780225,
          0.29224865091153845,
          0.31124113754312305,
          0.3488338465920678,
          0.2603196113331712,
          0.24484496127397767,
          0.19420349776033133,
          0.19751306151575543,
          0.181666827658678,
          0.15601387441935166,
          0.12536616556217325,
          0.14711395348350928,
          0.17862862866171159,
          0.14785564436105028,
          0.1767545501704846,
          0.12492497283839743,
          0.16950756915526066,
          0.11691225189184769,
          0.13498489034546413,
          0.14838198427437765,
          0.1631581932106331,
          0.12305715203310826,
          0.1435213057356786,
          0.13120121937105864,
          0.12335522867345534,
          0.17105551083693085,
          0.12496742572192181,
          0.1363471067479515,
          0.12271573936346802,
          0.11210939747115183,
          0.13022083467299772,
          0.1543466770077586,
          0.10786490359626905,
          0.15476927107754393,
          0.14839003934610565,
          0.10373873656981969,
          0.1213563427266501,
          0.12454348504675213,
          0.13042653956186318,
          0.13755984889617906,
          0.12366773071805226,
          0.12983932967385362,
          0.13948633573624558,
          0.12224329217217171,
          0.12283704097444026,
          0.13033158685805812,
          0.1276382731031942,
          0.1172043527646029,
          0.13165796183015996,
          0.11787339858461306,
          0.13531585952959593,
          0.1130177778861633,
          0.10332341579498115,
          0.10664227179386238,
          0.1395822566098397,
          0.12901116643527866,
          0.12433717746416069,
          0.12685120495141608,
          0.12591932036518727,
          0.12549297014422087,
          0.13096659275205957,
          0.11207129842985307,
          0.11528714027046977,
          0.11405858149817805,
          0.12205344929807849,
          0.12427468623257402,
          0.10880157906931871,
          0.1222404133878,
          0.12277141631768729,
          0.10485360108444741,
          0.10640055516781181,
          0.10689084996399394,
          0.1307837220632462,
          0.14529621547024546,
          0.0981656092493906,
          0.11450796788089379,
          0.13302111998741611,
          0.10991945946766384,
          0.1149888722991234,
          0.11689279135348414
         ]
        },
        {
         "mode": "lines+markers",
         "name": "Средние значения",
         "type": "scatter",
         "x": [
          100,
          200,
          300,
          400,
          500,
          600,
          700,
          800,
          900,
          1000,
          1100,
          1200,
          1300,
          1400,
          1500,
          1600,
          1700,
          1800,
          1900,
          2000
         ],
         "y": [
          0.3111597996636329,
          0.2242202829708089,
          0.15254020528092807,
          0.15704094900791096,
          0.14244667391673754,
          0.14023446758761965,
          0.1389313179950649,
          0.12984816212884404,
          0.12869073764743458,
          0.1284715540578611,
          0.12880917207508077,
          0.12450281342507387,
          0.12446624945763307,
          0.11963977765849047,
          0.12565016823124622,
          0.11809590323764012,
          0.11934253199694281,
          0.11022910563348512,
          0.12218837866594402,
          0.11870556077692188
         ]
        }
       ],
       "layout": {
        "font": {
         "size": 20
        },
        "height": 720,
        "template": {
         "data": {
          "bar": [
           {
            "error_x": {
             "color": "#2a3f5f"
            },
            "error_y": {
             "color": "#2a3f5f"
            },
            "marker": {
             "line": {
              "color": "#E5ECF6",
              "width": 0.5
             },
             "pattern": {
              "fillmode": "overlay",
              "size": 10,
              "solidity": 0.2
             }
            },
            "type": "bar"
           }
          ],
          "barpolar": [
           {
            "marker": {
             "line": {
              "color": "#E5ECF6",
              "width": 0.5
             },
             "pattern": {
              "fillmode": "overlay",
              "size": 10,
              "solidity": 0.2
             }
            },
            "type": "barpolar"
           }
          ],
          "carpet": [
           {
            "aaxis": {
             "endlinecolor": "#2a3f5f",
             "gridcolor": "white",
             "linecolor": "white",
             "minorgridcolor": "white",
             "startlinecolor": "#2a3f5f"
            },
            "baxis": {
             "endlinecolor": "#2a3f5f",
             "gridcolor": "white",
             "linecolor": "white",
             "minorgridcolor": "white",
             "startlinecolor": "#2a3f5f"
            },
            "type": "carpet"
           }
          ],
          "choropleth": [
           {
            "colorbar": {
             "outlinewidth": 0,
             "ticks": ""
            },
            "type": "choropleth"
           }
          ],
          "contour": [
           {
            "colorbar": {
             "outlinewidth": 0,
             "ticks": ""
            },
            "colorscale": [
             [
              0,
              "#0d0887"
             ],
             [
              0.1111111111111111,
              "#46039f"
             ],
             [
              0.2222222222222222,
              "#7201a8"
             ],
             [
              0.3333333333333333,
              "#9c179e"
             ],
             [
              0.4444444444444444,
              "#bd3786"
             ],
             [
              0.5555555555555556,
              "#d8576b"
             ],
             [
              0.6666666666666666,
              "#ed7953"
             ],
             [
              0.7777777777777778,
              "#fb9f3a"
             ],
             [
              0.8888888888888888,
              "#fdca26"
             ],
             [
              1,
              "#f0f921"
             ]
            ],
            "type": "contour"
           }
          ],
          "contourcarpet": [
           {
            "colorbar": {
             "outlinewidth": 0,
             "ticks": ""
            },
            "type": "contourcarpet"
           }
          ],
          "heatmap": [
           {
            "colorbar": {
             "outlinewidth": 0,
             "ticks": ""
            },
            "colorscale": [
             [
              0,
              "#0d0887"
             ],
             [
              0.1111111111111111,
              "#46039f"
             ],
             [
              0.2222222222222222,
              "#7201a8"
             ],
             [
              0.3333333333333333,
              "#9c179e"
             ],
             [
              0.4444444444444444,
              "#bd3786"
             ],
             [
              0.5555555555555556,
              "#d8576b"
             ],
             [
              0.6666666666666666,
              "#ed7953"
             ],
             [
              0.7777777777777778,
              "#fb9f3a"
             ],
             [
              0.8888888888888888,
              "#fdca26"
             ],
             [
              1,
              "#f0f921"
             ]
            ],
            "type": "heatmap"
           }
          ],
          "heatmapgl": [
           {
            "colorbar": {
             "outlinewidth": 0,
             "ticks": ""
            },
            "colorscale": [
             [
              0,
              "#0d0887"
             ],
             [
              0.1111111111111111,
              "#46039f"
             ],
             [
              0.2222222222222222,
              "#7201a8"
             ],
             [
              0.3333333333333333,
              "#9c179e"
             ],
             [
              0.4444444444444444,
              "#bd3786"
             ],
             [
              0.5555555555555556,
              "#d8576b"
             ],
             [
              0.6666666666666666,
              "#ed7953"
             ],
             [
              0.7777777777777778,
              "#fb9f3a"
             ],
             [
              0.8888888888888888,
              "#fdca26"
             ],
             [
              1,
              "#f0f921"
             ]
            ],
            "type": "heatmapgl"
           }
          ],
          "histogram": [
           {
            "marker": {
             "pattern": {
              "fillmode": "overlay",
              "size": 10,
              "solidity": 0.2
             }
            },
            "type": "histogram"
           }
          ],
          "histogram2d": [
           {
            "colorbar": {
             "outlinewidth": 0,
             "ticks": ""
            },
            "colorscale": [
             [
              0,
              "#0d0887"
             ],
             [
              0.1111111111111111,
              "#46039f"
             ],
             [
              0.2222222222222222,
              "#7201a8"
             ],
             [
              0.3333333333333333,
              "#9c179e"
             ],
             [
              0.4444444444444444,
              "#bd3786"
             ],
             [
              0.5555555555555556,
              "#d8576b"
             ],
             [
              0.6666666666666666,
              "#ed7953"
             ],
             [
              0.7777777777777778,
              "#fb9f3a"
             ],
             [
              0.8888888888888888,
              "#fdca26"
             ],
             [
              1,
              "#f0f921"
             ]
            ],
            "type": "histogram2d"
           }
          ],
          "histogram2dcontour": [
           {
            "colorbar": {
             "outlinewidth": 0,
             "ticks": ""
            },
            "colorscale": [
             [
              0,
              "#0d0887"
             ],
             [
              0.1111111111111111,
              "#46039f"
             ],
             [
              0.2222222222222222,
              "#7201a8"
             ],
             [
              0.3333333333333333,
              "#9c179e"
             ],
             [
              0.4444444444444444,
              "#bd3786"
             ],
             [
              0.5555555555555556,
              "#d8576b"
             ],
             [
              0.6666666666666666,
              "#ed7953"
             ],
             [
              0.7777777777777778,
              "#fb9f3a"
             ],
             [
              0.8888888888888888,
              "#fdca26"
             ],
             [
              1,
              "#f0f921"
             ]
            ],
            "type": "histogram2dcontour"
           }
          ],
          "mesh3d": [
           {
            "colorbar": {
             "outlinewidth": 0,
             "ticks": ""
            },
            "type": "mesh3d"
           }
          ],
          "parcoords": [
           {
            "line": {
             "colorbar": {
              "outlinewidth": 0,
              "ticks": ""
             }
            },
            "type": "parcoords"
           }
          ],
          "pie": [
           {
            "automargin": true,
            "type": "pie"
           }
          ],
          "scatter": [
           {
            "fillpattern": {
             "fillmode": "overlay",
             "size": 10,
             "solidity": 0.2
            },
            "type": "scatter"
           }
          ],
          "scatter3d": [
           {
            "line": {
             "colorbar": {
              "outlinewidth": 0,
              "ticks": ""
             }
            },
            "marker": {
             "colorbar": {
              "outlinewidth": 0,
              "ticks": ""
             }
            },
            "type": "scatter3d"
           }
          ],
          "scattercarpet": [
           {
            "marker": {
             "colorbar": {
              "outlinewidth": 0,
              "ticks": ""
             }
            },
            "type": "scattercarpet"
           }
          ],
          "scattergeo": [
           {
            "marker": {
             "colorbar": {
              "outlinewidth": 0,
              "ticks": ""
             }
            },
            "type": "scattergeo"
           }
          ],
          "scattergl": [
           {
            "marker": {
             "colorbar": {
              "outlinewidth": 0,
              "ticks": ""
             }
            },
            "type": "scattergl"
           }
          ],
          "scattermapbox": [
           {
            "marker": {
             "colorbar": {
              "outlinewidth": 0,
              "ticks": ""
             }
            },
            "type": "scattermapbox"
           }
          ],
          "scatterpolar": [
           {
            "marker": {
             "colorbar": {
              "outlinewidth": 0,
              "ticks": ""
             }
            },
            "type": "scatterpolar"
           }
          ],
          "scatterpolargl": [
           {
            "marker": {
             "colorbar": {
              "outlinewidth": 0,
              "ticks": ""
             }
            },
            "type": "scatterpolargl"
           }
          ],
          "scatterternary": [
           {
            "marker": {
             "colorbar": {
              "outlinewidth": 0,
              "ticks": ""
             }
            },
            "type": "scatterternary"
           }
          ],
          "surface": [
           {
            "colorbar": {
             "outlinewidth": 0,
             "ticks": ""
            },
            "colorscale": [
             [
              0,
              "#0d0887"
             ],
             [
              0.1111111111111111,
              "#46039f"
             ],
             [
              0.2222222222222222,
              "#7201a8"
             ],
             [
              0.3333333333333333,
              "#9c179e"
             ],
             [
              0.4444444444444444,
              "#bd3786"
             ],
             [
              0.5555555555555556,
              "#d8576b"
             ],
             [
              0.6666666666666666,
              "#ed7953"
             ],
             [
              0.7777777777777778,
              "#fb9f3a"
             ],
             [
              0.8888888888888888,
              "#fdca26"
             ],
             [
              1,
              "#f0f921"
             ]
            ],
            "type": "surface"
           }
          ],
          "table": [
           {
            "cells": {
             "fill": {
              "color": "#EBF0F8"
             },
             "line": {
              "color": "white"
             }
            },
            "header": {
             "fill": {
              "color": "#C8D4E3"
             },
             "line": {
              "color": "white"
             }
            },
            "type": "table"
           }
          ]
         },
         "layout": {
          "annotationdefaults": {
           "arrowcolor": "#2a3f5f",
           "arrowhead": 0,
           "arrowwidth": 1
          },
          "autotypenumbers": "strict",
          "coloraxis": {
           "colorbar": {
            "outlinewidth": 0,
            "ticks": ""
           }
          },
          "colorscale": {
           "diverging": [
            [
             0,
             "#8e0152"
            ],
            [
             0.1,
             "#c51b7d"
            ],
            [
             0.2,
             "#de77ae"
            ],
            [
             0.3,
             "#f1b6da"
            ],
            [
             0.4,
             "#fde0ef"
            ],
            [
             0.5,
             "#f7f7f7"
            ],
            [
             0.6,
             "#e6f5d0"
            ],
            [
             0.7,
             "#b8e186"
            ],
            [
             0.8,
             "#7fbc41"
            ],
            [
             0.9,
             "#4d9221"
            ],
            [
             1,
             "#276419"
            ]
           ],
           "sequential": [
            [
             0,
             "#0d0887"
            ],
            [
             0.1111111111111111,
             "#46039f"
            ],
            [
             0.2222222222222222,
             "#7201a8"
            ],
            [
             0.3333333333333333,
             "#9c179e"
            ],
            [
             0.4444444444444444,
             "#bd3786"
            ],
            [
             0.5555555555555556,
             "#d8576b"
            ],
            [
             0.6666666666666666,
             "#ed7953"
            ],
            [
             0.7777777777777778,
             "#fb9f3a"
            ],
            [
             0.8888888888888888,
             "#fdca26"
            ],
            [
             1,
             "#f0f921"
            ]
           ],
           "sequentialminus": [
            [
             0,
             "#0d0887"
            ],
            [
             0.1111111111111111,
             "#46039f"
            ],
            [
             0.2222222222222222,
             "#7201a8"
            ],
            [
             0.3333333333333333,
             "#9c179e"
            ],
            [
             0.4444444444444444,
             "#bd3786"
            ],
            [
             0.5555555555555556,
             "#d8576b"
            ],
            [
             0.6666666666666666,
             "#ed7953"
            ],
            [
             0.7777777777777778,
             "#fb9f3a"
            ],
            [
             0.8888888888888888,
             "#fdca26"
            ],
            [
             1,
             "#f0f921"
            ]
           ]
          },
          "colorway": [
           "#636efa",
           "#EF553B",
           "#00cc96",
           "#ab63fa",
           "#FFA15A",
           "#19d3f3",
           "#FF6692",
           "#B6E880",
           "#FF97FF",
           "#FECB52"
          ],
          "font": {
           "color": "#2a3f5f"
          },
          "geo": {
           "bgcolor": "white",
           "lakecolor": "white",
           "landcolor": "#E5ECF6",
           "showlakes": true,
           "showland": true,
           "subunitcolor": "white"
          },
          "hoverlabel": {
           "align": "left"
          },
          "hovermode": "closest",
          "mapbox": {
           "style": "light"
          },
          "paper_bgcolor": "white",
          "plot_bgcolor": "#E5ECF6",
          "polar": {
           "angularaxis": {
            "gridcolor": "white",
            "linecolor": "white",
            "ticks": ""
           },
           "bgcolor": "#E5ECF6",
           "radialaxis": {
            "gridcolor": "white",
            "linecolor": "white",
            "ticks": ""
           }
          },
          "scene": {
           "xaxis": {
            "backgroundcolor": "#E5ECF6",
            "gridcolor": "white",
            "gridwidth": 2,
            "linecolor": "white",
            "showbackground": true,
            "ticks": "",
            "zerolinecolor": "white"
           },
           "yaxis": {
            "backgroundcolor": "#E5ECF6",
            "gridcolor": "white",
            "gridwidth": 2,
            "linecolor": "white",
            "showbackground": true,
            "ticks": "",
            "zerolinecolor": "white"
           },
           "zaxis": {
            "backgroundcolor": "#E5ECF6",
            "gridcolor": "white",
            "gridwidth": 2,
            "linecolor": "white",
            "showbackground": true,
            "ticks": "",
            "zerolinecolor": "white"
           }
          },
          "shapedefaults": {
           "line": {
            "color": "#2a3f5f"
           }
          },
          "ternary": {
           "aaxis": {
            "gridcolor": "white",
            "linecolor": "white",
            "ticks": ""
           },
           "baxis": {
            "gridcolor": "white",
            "linecolor": "white",
            "ticks": ""
           },
           "bgcolor": "#E5ECF6",
           "caxis": {
            "gridcolor": "white",
            "linecolor": "white",
            "ticks": ""
           }
          },
          "title": {
           "x": 0.05
          },
          "xaxis": {
           "automargin": true,
           "gridcolor": "white",
           "linecolor": "white",
           "ticks": "",
           "title": {
            "standoff": 15
           },
           "zerolinecolor": "white",
           "zerolinewidth": 2
          },
          "yaxis": {
           "automargin": true,
           "gridcolor": "white",
           "linecolor": "white",
           "ticks": "",
           "title": {
            "standoff": 15
           },
           "zerolinecolor": "white",
           "zerolinewidth": 2
          }
         }
        },
        "title": {
         "text": "Зависимость средней абсолютной ошибки от количества итераций обучения"
        },
        "width": 1280,
        "xaxis": {
         "title": {
          "text": "Количество итераций обучения"
         }
        },
        "yaxis": {
         "title": {
          "text": "Средняя абсолютная ошибка"
         }
        }
       }
      }
     },
     "metadata": {},
     "output_type": "display_data"
    }
   ],
   "source": [
    "# Plotting results for training epochs amount\n",
    "fig = go.Figure()\n",
    "fig.add_trace(\n",
    "    go.Scatter(x=all_epochs, y=all_mapes,\n",
    "               name='Все наблюдения', mode='markers')\n",
    ")\n",
    "fig.add_trace(\n",
    "    go.Scatter(x=epochs, y=mapes_mean,\n",
    "               name='Средние значения', mode='lines+markers')\n",
    ")\n",
    "fig.update_layout(\n",
    "    title='Зависимость средней абсолютной ошибки от количества итераций обучения',\n",
    "    font=dict(size=20),\n",
    "    xaxis=dict(title='Количество итераций обучения'),\n",
    "    yaxis=dict(title='Средняя абсолютная ошибка'),\n",
    "    width=1280,\n",
    "    height=720\n",
    ")\n",
    "fig.show()"
   ]
  }
 ],
 "metadata": {
  "kernelspec": {
   "display_name": ".venv",
   "language": "python",
   "name": "python3"
  },
  "language_info": {
   "codemirror_mode": {
    "name": "ipython",
    "version": 3
   },
   "file_extension": ".py",
   "mimetype": "text/x-python",
   "name": "python",
   "nbconvert_exporter": "python",
   "pygments_lexer": "ipython3",
   "version": "3.11.9"
  }
 },
 "nbformat": 4,
 "nbformat_minor": 2
}
