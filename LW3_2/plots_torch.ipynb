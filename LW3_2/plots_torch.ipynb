{
 "cells": [
  {
   "cell_type": "code",
   "execution_count": 1,
   "metadata": {},
   "outputs": [],
   "source": [
    "from gru_torch import (\n",
    "    GRU,\n",
    "    SequenceDataset,\n",
    "    create_sliding_window,\n",
    "    arithmetic_progression,\n",
    "    mape,\n",
    "    DataLoader,\n",
    "    torch\n",
    ")\n",
    "import plotly.graph_objects as go\n",
    "import numpy as np"
   ]
  },
  {
   "cell_type": "code",
   "execution_count": 8,
   "metadata": {},
   "outputs": [],
   "source": [
    "def scale_sequence(sequence):\n",
    "    mean = np.mean(sequence)\n",
    "    deviation = np.std(sequence)    \n",
    "    scaled = (np.array(sequence) - mean) / deviation    \n",
    "    return scaled, mean, deviation\n",
    "\n",
    "def descale_sequence(scaled, mean, deviation):\n",
    "    descaled = scaled * deviation + mean\n",
    "    return descaled\n",
    "\n",
    "def predict_next_n_elements(sequence, window_size, batch_size, hidden_size, n,\n",
    "                            max_epochs, verbosity, lr, use_adam: bool = False):\n",
    "    scaled, mean, deviation = scale_sequence(sequence[:-n])        \n",
    "    # scaled = sequence[:-n]  \n",
    "    X, y = create_sliding_window(scaled, window_size, n)\n",
    "    model = GRU(window_size, hidden_size, n, num_layers=1,\n",
    "                dropout=0, learning_rate=lr, num_epochs=max_epochs)\n",
    "    train_loader = DataLoader(dataset=SequenceDataset(X, y),\n",
    "                              batch_size=batch_size,\n",
    "                              shuffle=False)\n",
    "    device = torch.device(\"cuda\" if torch.cuda.is_available() else \"cpu\")\n",
    "    model.train_model(train_loader, device, verbosity, use_adam)\n",
    "    train_pred = model.predict(train_loader, device).numpy()\n",
    "    training_mape = mape(y, train_pred)           \n",
    "    x_last = np.expand_dims(scaled[-window_size:], axis=0)\n",
    "    train_loader = DataLoader(dataset=SequenceDataset(x_last, np.expand_dims(sequence[-n:], axis=0)),\n",
    "                              batch_size=batch_size,\n",
    "                              shuffle=False)     \n",
    "    pred = model.predict(train_loader, device).numpy()\n",
    "    descaled_pred = descale_sequence(pred[-1], mean, deviation)\n",
    "    # descaled_pred = pred[-1]\n",
    "    return training_mape, model, descaled_pred, mean, deviation"
   ]
  },
  {
   "cell_type": "code",
   "execution_count": 14,
   "metadata": {},
   "outputs": [],
   "source": [
    "# Fibonacci sequence generator\n",
    "def fibonacci_generator(n):\n",
    "    a, b = 0, 1\n",
    "    for _ in range(n):\n",
    "        yield a\n",
    "        a, b = b, a + b\n",
    "\n",
    "\n",
    "# Squared num sequence generator\n",
    "def squared_generator(n):        \n",
    "    for i in range(1, n + 1):\n",
    "        yield i**2\n",
    "\n",
    "\n",
    "# Arithmetic progression\n",
    "def arithmetic_progression(n, a0, d):\n",
    "    for i in range(n):\n",
    "        yield a0 + i * d\n",
    "\n",
    "\n",
    "# x = x0 / 2**i sequence generator\n",
    "def half_generator(n, fst: float):\n",
    "    num = fst\n",
    "    for _ in range(n):\n",
    "        yield num\n",
    "        num /= 2\n",
    "\n",
    "\n",
    "# 1/n sequence generator\n",
    "def one_by_n_generator(n):    \n",
    "    for i in range(n):\n",
    "        yield 1 / (i + 1)\n",
    "\n",
    "\n",
    "# 1, -1, 1, -1, 1,... sequence generator\n",
    "def plus_one_minus_one_generator(n):    \n",
    "    for i in range(n):        \n",
    "        yield 1 if i % 2 == 0 else -1\n",
    "\n",
    "\n",
    "# 1, 0, 1, 0, 0, 1, 0, 0, 0, 1,... sequence generator\n",
    "def one_half_generator(n):\n",
    "    count = 1\n",
    "    generated = 0\n",
    "    while generated < n:\n",
    "        generated += 1\n",
    "        yield 1\n",
    "        for _ in range(count):\n",
    "            if generated >= n:\n",
    "                break\n",
    "            generated += 1\n",
    "            yield 0.5            \n",
    "        count += 1\n"
   ]
  },
  {
   "cell_type": "code",
   "execution_count": 10,
   "metadata": {},
   "outputs": [
    {
     "name": "stdout",
     "output_type": "stream",
     "text": [
      "Обучение завершено!\n",
      "Обучение завершено!\n",
      "Обучение завершено!\n",
      "Обучение завершено!\n",
      "Обучение завершено!\n",
      "Обучение завершено!\n",
      "Обучение завершено!\n",
      "Обучение завершено!\n",
      "Обучение завершено!\n",
      "Обучение завершено!\n",
      "Обучение завершено!\n",
      "Обучение завершено!\n",
      "Обучение завершено!\n",
      "Обучение завершено!\n",
      "Обучение завершено!\n",
      "Обучение завершено!\n",
      "Обучение завершено!\n",
      "Обучение завершено!\n",
      "Обучение завершено!\n",
      "Обучение завершено!\n",
      "Обучение завершено!\n",
      "Обучение завершено!\n",
      "Обучение завершено!\n",
      "Обучение завершено!\n",
      "Обучение завершено!\n",
      "Обучение завершено!\n",
      "Обучение завершено!\n",
      "Обучение завершено!\n",
      "Обучение завершено!\n",
      "Обучение завершено!\n",
      "Обучение завершено!\n",
      "Обучение завершено!\n",
      "Обучение завершено!\n",
      "Обучение завершено!\n",
      "Обучение завершено!\n",
      "Обучение завершено!\n",
      "Обучение завершено!\n",
      "Обучение завершено!\n",
      "Обучение завершено!\n",
      "Обучение завершено!\n",
      "Обучение завершено!\n",
      "Обучение завершено!\n",
      "Обучение завершено!\n",
      "Обучение завершено!\n",
      "Обучение завершено!\n",
      "Обучение завершено!\n",
      "Обучение завершено!\n",
      "Обучение завершено!\n",
      "Обучение завершено!\n",
      "Обучение завершено!\n",
      "Обучение завершено!\n",
      "Обучение завершено!\n",
      "Обучение завершено!\n",
      "Обучение завершено!\n",
      "Обучение завершено!\n",
      "Обучение завершено!\n",
      "Обучение завершено!\n",
      "Обучение завершено!\n",
      "Обучение завершено!\n",
      "Обучение завершено!\n",
      "Обучение завершено!\n",
      "Обучение завершено!\n",
      "Обучение завершено!\n",
      "Обучение завершено!\n",
      "Обучение завершено!\n",
      "Обучение завершено!\n",
      "Обучение завершено!\n",
      "Обучение завершено!\n",
      "Обучение завершено!\n",
      "Обучение завершено!\n",
      "Обучение завершено!\n",
      "Обучение завершено!\n",
      "Обучение завершено!\n",
      "Обучение завершено!\n",
      "Обучение завершено!\n",
      "Обучение завершено!\n",
      "Обучение завершено!\n",
      "Обучение завершено!\n",
      "Обучение завершено!\n",
      "Обучение завершено!\n"
     ]
    }
   ],
   "source": [
    "experiments_amount = 4\n",
    "# epochs = np.linspace(1000, 35000, endpoint=True, num=10).astype(np.int32).tolist()\n",
    "epochs = list(range(100, 2100, 100))\n",
    "\n",
    "# np.random.seed(12345)\n",
    "\n",
    "all_mapes = []\n",
    "mapes_mean = []\n",
    "\n",
    "all_epochs: list[int] = []\n",
    "\n",
    "seq_length = 20\n",
    "window_size = 5\n",
    "batch_size = 8\n",
    "hidden_size = 6\n",
    "output_size = 3\n",
    "\n",
    "verbosity = 100000\n",
    "lr = 1e-2\n",
    "use_adam = False\n",
    "\n",
    "sequence = list(arithmetic_progression(seq_length + output_size, 1, 1))\n",
    "\n",
    "for max_epochs in epochs:    \n",
    "\n",
    "    # Training network for five times\n",
    "    mapes_sum = 0    \n",
    "    for _ in range(experiments_amount):        \n",
    "        test_sequence = sequence[-output_size:]\n",
    "        training_mape, model, next_n_pred, mean, deviation = predict_next_n_elements(\n",
    "            sequence, window_size, batch_size,\n",
    "            hidden_size, output_size, max_epochs,\n",
    "            verbosity, lr, use_adam=use_adam\n",
    "        )\n",
    "        all_epochs.append(max_epochs)\n",
    "\n",
    "        # Test sequence mape\n",
    "        test_sequence = sequence[-output_size:]\n",
    "        test_mape = mape(test_sequence, next_n_pred)\n",
    "        mapes_sum += test_mape    \n",
    "        all_mapes.append(test_mape)\n",
    "            \n",
    "\n",
    "    # Average mape for epochs amount\n",
    "    mapes_mean.append(mapes_sum / experiments_amount)"
   ]
  },
  {
   "cell_type": "code",
   "execution_count": 11,
   "metadata": {},
   "outputs": [
    {
     "data": {
      "application/vnd.plotly.v1+json": {
       "config": {
        "plotlyServerURL": "https://plot.ly"
       },
       "data": [
        {
         "mode": "markers",
         "name": "Все наблюдения",
         "type": "scatter",
         "x": [
          100,
          100,
          100,
          100,
          200,
          200,
          200,
          200,
          300,
          300,
          300,
          300,
          400,
          400,
          400,
          400,
          500,
          500,
          500,
          500,
          600,
          600,
          600,
          600,
          700,
          700,
          700,
          700,
          800,
          800,
          800,
          800,
          900,
          900,
          900,
          900,
          1000,
          1000,
          1000,
          1000,
          1100,
          1100,
          1100,
          1100,
          1200,
          1200,
          1200,
          1200,
          1300,
          1300,
          1300,
          1300,
          1400,
          1400,
          1400,
          1400,
          1500,
          1500,
          1500,
          1500,
          1600,
          1600,
          1600,
          1600,
          1700,
          1700,
          1700,
          1700,
          1800,
          1800,
          1800,
          1800,
          1900,
          1900,
          1900,
          1900,
          2000,
          2000,
          2000,
          2000
         ],
         "y": [
          0.29231556360780225,
          0.29224865091153845,
          0.31124113754312305,
          0.3488338465920678,
          0.2603196113331712,
          0.24484496127397767,
          0.19420349776033133,
          0.19751306151575543,
          0.181666827658678,
          0.15601387441935166,
          0.12536616556217325,
          0.14711395348350928,
          0.17862862866171159,
          0.14785564436105028,
          0.1767545501704846,
          0.12492497283839743,
          0.16950756915526066,
          0.11691225189184769,
          0.13498489034546413,
          0.14838198427437765,
          0.1631581932106331,
          0.12305715203310826,
          0.1435213057356786,
          0.13120121937105864,
          0.12335522867345534,
          0.17105551083693085,
          0.12496742572192181,
          0.1363471067479515,
          0.12271573936346802,
          0.11210939747115183,
          0.13022083467299772,
          0.1543466770077586,
          0.10786490359626905,
          0.15476927107754393,
          0.14839003934610565,
          0.10373873656981969,
          0.1213563427266501,
          0.12454348504675213,
          0.13042653956186318,
          0.13755984889617906,
          0.12366773071805226,
          0.12983932967385362,
          0.13948633573624558,
          0.12224329217217171,
          0.12283704097444026,
          0.13033158685805812,
          0.1276382731031942,
          0.1172043527646029,
          0.13165796183015996,
          0.11787339858461306,
          0.13531585952959593,
          0.1130177778861633,
          0.10332341579498115,
          0.10664227179386238,
          0.1395822566098397,
          0.12901116643527866,
          0.12433717746416069,
          0.12685120495141608,
          0.12591932036518727,
          0.12549297014422087,
          0.13096659275205957,
          0.11207129842985307,
          0.11528714027046977,
          0.11405858149817805,
          0.12205344929807849,
          0.12427468623257402,
          0.10880157906931871,
          0.1222404133878,
          0.12277141631768729,
          0.10485360108444741,
          0.10640055516781181,
          0.10689084996399394,
          0.1307837220632462,
          0.14529621547024546,
          0.0981656092493906,
          0.11450796788089379,
          0.13302111998741611,
          0.10991945946766384,
          0.1149888722991234,
          0.11689279135348414
         ]
        },
        {
         "mode": "lines+markers",
         "name": "Средние значения",
         "type": "scatter",
         "x": [
          100,
          200,
          300,
          400,
          500,
          600,
          700,
          800,
          900,
          1000,
          1100,
          1200,
          1300,
          1400,
          1500,
          1600,
          1700,
          1800,
          1900,
          2000
         ],
         "y": [
          0.3111597996636329,
          0.2242202829708089,
          0.15254020528092807,
          0.15704094900791096,
          0.14244667391673754,
          0.14023446758761965,
          0.1389313179950649,
          0.12984816212884404,
          0.12869073764743458,
          0.1284715540578611,
          0.12880917207508077,
          0.12450281342507387,
          0.12446624945763307,
          0.11963977765849047,
          0.12565016823124622,
          0.11809590323764012,
          0.11934253199694281,
          0.11022910563348512,
          0.12218837866594402,
          0.11870556077692188
         ]
        }
       ],
       "layout": {
        "font": {
         "size": 20
        },
        "height": 720,
        "template": {
         "data": {
          "bar": [
           {
            "error_x": {
             "color": "#2a3f5f"
            },
            "error_y": {
             "color": "#2a3f5f"
            },
            "marker": {
             "line": {
              "color": "#E5ECF6",
              "width": 0.5
             },
             "pattern": {
              "fillmode": "overlay",
              "size": 10,
              "solidity": 0.2
             }
            },
            "type": "bar"
           }
          ],
          "barpolar": [
           {
            "marker": {
             "line": {
              "color": "#E5ECF6",
              "width": 0.5
             },
             "pattern": {
              "fillmode": "overlay",
              "size": 10,
              "solidity": 0.2
             }
            },
            "type": "barpolar"
           }
          ],
          "carpet": [
           {
            "aaxis": {
             "endlinecolor": "#2a3f5f",
             "gridcolor": "white",
             "linecolor": "white",
             "minorgridcolor": "white",
             "startlinecolor": "#2a3f5f"
            },
            "baxis": {
             "endlinecolor": "#2a3f5f",
             "gridcolor": "white",
             "linecolor": "white",
             "minorgridcolor": "white",
             "startlinecolor": "#2a3f5f"
            },
            "type": "carpet"
           }
          ],
          "choropleth": [
           {
            "colorbar": {
             "outlinewidth": 0,
             "ticks": ""
            },
            "type": "choropleth"
           }
          ],
          "contour": [
           {
            "colorbar": {
             "outlinewidth": 0,
             "ticks": ""
            },
            "colorscale": [
             [
              0,
              "#0d0887"
             ],
             [
              0.1111111111111111,
              "#46039f"
             ],
             [
              0.2222222222222222,
              "#7201a8"
             ],
             [
              0.3333333333333333,
              "#9c179e"
             ],
             [
              0.4444444444444444,
              "#bd3786"
             ],
             [
              0.5555555555555556,
              "#d8576b"
             ],
             [
              0.6666666666666666,
              "#ed7953"
             ],
             [
              0.7777777777777778,
              "#fb9f3a"
             ],
             [
              0.8888888888888888,
              "#fdca26"
             ],
             [
              1,
              "#f0f921"
             ]
            ],
            "type": "contour"
           }
          ],
          "contourcarpet": [
           {
            "colorbar": {
             "outlinewidth": 0,
             "ticks": ""
            },
            "type": "contourcarpet"
           }
          ],
          "heatmap": [
           {
            "colorbar": {
             "outlinewidth": 0,
             "ticks": ""
            },
            "colorscale": [
             [
              0,
              "#0d0887"
             ],
             [
              0.1111111111111111,
              "#46039f"
             ],
             [
              0.2222222222222222,
              "#7201a8"
             ],
             [
              0.3333333333333333,
              "#9c179e"
             ],
             [
              0.4444444444444444,
              "#bd3786"
             ],
             [
              0.5555555555555556,
              "#d8576b"
             ],
             [
              0.6666666666666666,
              "#ed7953"
             ],
             [
              0.7777777777777778,
              "#fb9f3a"
             ],
             [
              0.8888888888888888,
              "#fdca26"
             ],
             [
              1,
              "#f0f921"
             ]
            ],
            "type": "heatmap"
           }
          ],
          "heatmapgl": [
           {
            "colorbar": {
             "outlinewidth": 0,
             "ticks": ""
            },
            "colorscale": [
             [
              0,
              "#0d0887"
             ],
             [
              0.1111111111111111,
              "#46039f"
             ],
             [
              0.2222222222222222,
              "#7201a8"
             ],
             [
              0.3333333333333333,
              "#9c179e"
             ],
             [
              0.4444444444444444,
              "#bd3786"
             ],
             [
              0.5555555555555556,
              "#d8576b"
             ],
             [
              0.6666666666666666,
              "#ed7953"
             ],
             [
              0.7777777777777778,
              "#fb9f3a"
             ],
             [
              0.8888888888888888,
              "#fdca26"
             ],
             [
              1,
              "#f0f921"
             ]
            ],
            "type": "heatmapgl"
           }
          ],
          "histogram": [
           {
            "marker": {
             "pattern": {
              "fillmode": "overlay",
              "size": 10,
              "solidity": 0.2
             }
            },
            "type": "histogram"
           }
          ],
          "histogram2d": [
           {
            "colorbar": {
             "outlinewidth": 0,
             "ticks": ""
            },
            "colorscale": [
             [
              0,
              "#0d0887"
             ],
             [
              0.1111111111111111,
              "#46039f"
             ],
             [
              0.2222222222222222,
              "#7201a8"
             ],
             [
              0.3333333333333333,
              "#9c179e"
             ],
             [
              0.4444444444444444,
              "#bd3786"
             ],
             [
              0.5555555555555556,
              "#d8576b"
             ],
             [
              0.6666666666666666,
              "#ed7953"
             ],
             [
              0.7777777777777778,
              "#fb9f3a"
             ],
             [
              0.8888888888888888,
              "#fdca26"
             ],
             [
              1,
              "#f0f921"
             ]
            ],
            "type": "histogram2d"
           }
          ],
          "histogram2dcontour": [
           {
            "colorbar": {
             "outlinewidth": 0,
             "ticks": ""
            },
            "colorscale": [
             [
              0,
              "#0d0887"
             ],
             [
              0.1111111111111111,
              "#46039f"
             ],
             [
              0.2222222222222222,
              "#7201a8"
             ],
             [
              0.3333333333333333,
              "#9c179e"
             ],
             [
              0.4444444444444444,
              "#bd3786"
             ],
             [
              0.5555555555555556,
              "#d8576b"
             ],
             [
              0.6666666666666666,
              "#ed7953"
             ],
             [
              0.7777777777777778,
              "#fb9f3a"
             ],
             [
              0.8888888888888888,
              "#fdca26"
             ],
             [
              1,
              "#f0f921"
             ]
            ],
            "type": "histogram2dcontour"
           }
          ],
          "mesh3d": [
           {
            "colorbar": {
             "outlinewidth": 0,
             "ticks": ""
            },
            "type": "mesh3d"
           }
          ],
          "parcoords": [
           {
            "line": {
             "colorbar": {
              "outlinewidth": 0,
              "ticks": ""
             }
            },
            "type": "parcoords"
           }
          ],
          "pie": [
           {
            "automargin": true,
            "type": "pie"
           }
          ],
          "scatter": [
           {
            "fillpattern": {
             "fillmode": "overlay",
             "size": 10,
             "solidity": 0.2
            },
            "type": "scatter"
           }
          ],
          "scatter3d": [
           {
            "line": {
             "colorbar": {
              "outlinewidth": 0,
              "ticks": ""
             }
            },
            "marker": {
             "colorbar": {
              "outlinewidth": 0,
              "ticks": ""
             }
            },
            "type": "scatter3d"
           }
          ],
          "scattercarpet": [
           {
            "marker": {
             "colorbar": {
              "outlinewidth": 0,
              "ticks": ""
             }
            },
            "type": "scattercarpet"
           }
          ],
          "scattergeo": [
           {
            "marker": {
             "colorbar": {
              "outlinewidth": 0,
              "ticks": ""
             }
            },
            "type": "scattergeo"
           }
          ],
          "scattergl": [
           {
            "marker": {
             "colorbar": {
              "outlinewidth": 0,
              "ticks": ""
             }
            },
            "type": "scattergl"
           }
          ],
          "scattermapbox": [
           {
            "marker": {
             "colorbar": {
              "outlinewidth": 0,
              "ticks": ""
             }
            },
            "type": "scattermapbox"
           }
          ],
          "scatterpolar": [
           {
            "marker": {
             "colorbar": {
              "outlinewidth": 0,
              "ticks": ""
             }
            },
            "type": "scatterpolar"
           }
          ],
          "scatterpolargl": [
           {
            "marker": {
             "colorbar": {
              "outlinewidth": 0,
              "ticks": ""
             }
            },
            "type": "scatterpolargl"
           }
          ],
          "scatterternary": [
           {
            "marker": {
             "colorbar": {
              "outlinewidth": 0,
              "ticks": ""
             }
            },
            "type": "scatterternary"
           }
          ],
          "surface": [
           {
            "colorbar": {
             "outlinewidth": 0,
             "ticks": ""
            },
            "colorscale": [
             [
              0,
              "#0d0887"
             ],
             [
              0.1111111111111111,
              "#46039f"
             ],
             [
              0.2222222222222222,
              "#7201a8"
             ],
             [
              0.3333333333333333,
              "#9c179e"
             ],
             [
              0.4444444444444444,
              "#bd3786"
             ],
             [
              0.5555555555555556,
              "#d8576b"
             ],
             [
              0.6666666666666666,
              "#ed7953"
             ],
             [
              0.7777777777777778,
              "#fb9f3a"
             ],
             [
              0.8888888888888888,
              "#fdca26"
             ],
             [
              1,
              "#f0f921"
             ]
            ],
            "type": "surface"
           }
          ],
          "table": [
           {
            "cells": {
             "fill": {
              "color": "#EBF0F8"
             },
             "line": {
              "color": "white"
             }
            },
            "header": {
             "fill": {
              "color": "#C8D4E3"
             },
             "line": {
              "color": "white"
             }
            },
            "type": "table"
           }
          ]
         },
         "layout": {
          "annotationdefaults": {
           "arrowcolor": "#2a3f5f",
           "arrowhead": 0,
           "arrowwidth": 1
          },
          "autotypenumbers": "strict",
          "coloraxis": {
           "colorbar": {
            "outlinewidth": 0,
            "ticks": ""
           }
          },
          "colorscale": {
           "diverging": [
            [
             0,
             "#8e0152"
            ],
            [
             0.1,
             "#c51b7d"
            ],
            [
             0.2,
             "#de77ae"
            ],
            [
             0.3,
             "#f1b6da"
            ],
            [
             0.4,
             "#fde0ef"
            ],
            [
             0.5,
             "#f7f7f7"
            ],
            [
             0.6,
             "#e6f5d0"
            ],
            [
             0.7,
             "#b8e186"
            ],
            [
             0.8,
             "#7fbc41"
            ],
            [
             0.9,
             "#4d9221"
            ],
            [
             1,
             "#276419"
            ]
           ],
           "sequential": [
            [
             0,
             "#0d0887"
            ],
            [
             0.1111111111111111,
             "#46039f"
            ],
            [
             0.2222222222222222,
             "#7201a8"
            ],
            [
             0.3333333333333333,
             "#9c179e"
            ],
            [
             0.4444444444444444,
             "#bd3786"
            ],
            [
             0.5555555555555556,
             "#d8576b"
            ],
            [
             0.6666666666666666,
             "#ed7953"
            ],
            [
             0.7777777777777778,
             "#fb9f3a"
            ],
            [
             0.8888888888888888,
             "#fdca26"
            ],
            [
             1,
             "#f0f921"
            ]
           ],
           "sequentialminus": [
            [
             0,
             "#0d0887"
            ],
            [
             0.1111111111111111,
             "#46039f"
            ],
            [
             0.2222222222222222,
             "#7201a8"
            ],
            [
             0.3333333333333333,
             "#9c179e"
            ],
            [
             0.4444444444444444,
             "#bd3786"
            ],
            [
             0.5555555555555556,
             "#d8576b"
            ],
            [
             0.6666666666666666,
             "#ed7953"
            ],
            [
             0.7777777777777778,
             "#fb9f3a"
            ],
            [
             0.8888888888888888,
             "#fdca26"
            ],
            [
             1,
             "#f0f921"
            ]
           ]
          },
          "colorway": [
           "#636efa",
           "#EF553B",
           "#00cc96",
           "#ab63fa",
           "#FFA15A",
           "#19d3f3",
           "#FF6692",
           "#B6E880",
           "#FF97FF",
           "#FECB52"
          ],
          "font": {
           "color": "#2a3f5f"
          },
          "geo": {
           "bgcolor": "white",
           "lakecolor": "white",
           "landcolor": "#E5ECF6",
           "showlakes": true,
           "showland": true,
           "subunitcolor": "white"
          },
          "hoverlabel": {
           "align": "left"
          },
          "hovermode": "closest",
          "mapbox": {
           "style": "light"
          },
          "paper_bgcolor": "white",
          "plot_bgcolor": "#E5ECF6",
          "polar": {
           "angularaxis": {
            "gridcolor": "white",
            "linecolor": "white",
            "ticks": ""
           },
           "bgcolor": "#E5ECF6",
           "radialaxis": {
            "gridcolor": "white",
            "linecolor": "white",
            "ticks": ""
           }
          },
          "scene": {
           "xaxis": {
            "backgroundcolor": "#E5ECF6",
            "gridcolor": "white",
            "gridwidth": 2,
            "linecolor": "white",
            "showbackground": true,
            "ticks": "",
            "zerolinecolor": "white"
           },
           "yaxis": {
            "backgroundcolor": "#E5ECF6",
            "gridcolor": "white",
            "gridwidth": 2,
            "linecolor": "white",
            "showbackground": true,
            "ticks": "",
            "zerolinecolor": "white"
           },
           "zaxis": {
            "backgroundcolor": "#E5ECF6",
            "gridcolor": "white",
            "gridwidth": 2,
            "linecolor": "white",
            "showbackground": true,
            "ticks": "",
            "zerolinecolor": "white"
           }
          },
          "shapedefaults": {
           "line": {
            "color": "#2a3f5f"
           }
          },
          "ternary": {
           "aaxis": {
            "gridcolor": "white",
            "linecolor": "white",
            "ticks": ""
           },
           "baxis": {
            "gridcolor": "white",
            "linecolor": "white",
            "ticks": ""
           },
           "bgcolor": "#E5ECF6",
           "caxis": {
            "gridcolor": "white",
            "linecolor": "white",
            "ticks": ""
           }
          },
          "title": {
           "x": 0.05
          },
          "xaxis": {
           "automargin": true,
           "gridcolor": "white",
           "linecolor": "white",
           "ticks": "",
           "title": {
            "standoff": 15
           },
           "zerolinecolor": "white",
           "zerolinewidth": 2
          },
          "yaxis": {
           "automargin": true,
           "gridcolor": "white",
           "linecolor": "white",
           "ticks": "",
           "title": {
            "standoff": 15
           },
           "zerolinecolor": "white",
           "zerolinewidth": 2
          }
         }
        },
        "title": {
         "text": "Зависимость средней абсолютной ошибки от количества итераций обучения"
        },
        "width": 1280,
        "xaxis": {
         "title": {
          "text": "Количество итераций обучения"
         }
        },
        "yaxis": {
         "title": {
          "text": "Средняя абсолютная ошибка"
         }
        }
       }
      }
     },
     "metadata": {},
     "output_type": "display_data"
    }
   ],
   "source": [
    "# Plotting results for training epochs amount\n",
    "fig = go.Figure()\n",
    "fig.add_trace(\n",
    "    go.Scatter(x=all_epochs, y=all_mapes,\n",
    "               name='Все наблюдения', mode='markers')\n",
    ")\n",
    "fig.add_trace(\n",
    "    go.Scatter(x=epochs, y=mapes_mean,\n",
    "               name='Средние значения', mode='lines+markers')\n",
    ")\n",
    "fig.update_layout(\n",
    "    title='Зависимость средней абсолютной ошибки от количества итераций обучения',\n",
    "    font=dict(size=20),\n",
    "    xaxis=dict(title='Количество итераций обучения'),\n",
    "    yaxis=dict(title='Средняя абсолютная ошибка'),\n",
    "    width=1280,\n",
    "    height=720\n",
    ")\n",
    "fig.show()"
   ]
  },
  {
   "cell_type": "code",
   "execution_count": 30,
   "metadata": {},
   "outputs": [
    {
     "name": "stdout",
     "output_type": "stream",
     "text": [
      "Обучение завершено!\n",
      "Обучение завершено!\n",
      "Обучение завершено!\n",
      "Обучение завершено!\n",
      "Обучение завершено!\n",
      "Обучение завершено!\n",
      "Обучение завершено!\n",
      "Обучение завершено!\n",
      "Обучение завершено!\n",
      "Обучение завершено!\n",
      "Обучение завершено!\n",
      "Обучение завершено!\n",
      "Обучение завершено!\n",
      "Обучение завершено!\n",
      "Обучение завершено!\n",
      "Обучение завершено!\n",
      "Обучение завершено!\n",
      "Обучение завершено!\n",
      "Обучение завершено!\n",
      "Обучение завершено!\n",
      "Обучение завершено!\n",
      "Обучение завершено!\n",
      "Обучение завершено!\n",
      "Обучение завершено!\n",
      "Обучение завершено!\n",
      "Обучение завершено!\n",
      "Обучение завершено!\n",
      "Обучение завершено!\n",
      "Обучение завершено!\n",
      "Обучение завершено!\n",
      "Обучение завершено!\n",
      "Обучение завершено!\n",
      "Обучение завершено!\n",
      "Обучение завершено!\n",
      "Обучение завершено!\n",
      "Обучение завершено!\n",
      "Обучение завершено!\n",
      "Обучение завершено!\n",
      "Обучение завершено!\n",
      "Обучение завершено!\n",
      "Обучение завершено!\n",
      "Обучение завершено!\n",
      "Обучение завершено!\n",
      "Обучение завершено!\n",
      "Обучение завершено!\n",
      "Обучение завершено!\n",
      "Обучение завершено!\n",
      "Обучение завершено!\n",
      "Обучение завершено!\n",
      "Обучение завершено!\n"
     ]
    }
   ],
   "source": [
    "experiments_amount = 5\n",
    "# epochs = np.linspace(1000, 35000, endpoint=True, num=10).astype(np.int32).tolist()\n",
    "hidden_sizes = list(range(2, 22, 2))\n",
    "\n",
    "# np.random.seed(12345)\n",
    "\n",
    "all_mapes = []\n",
    "mapes_mean = []\n",
    "\n",
    "all_sizes: list[int] = []\n",
    "\n",
    "seq_length = 20\n",
    "window_size = 3\n",
    "batch_size = 8\n",
    "output_size = 3\n",
    "\n",
    "verbosity = 100000\n",
    "lr = 5e-3\n",
    "max_epochs = 500\n",
    "use_adam = False\n",
    "\n",
    "sequence = list(arithmetic_progression(seq_length + output_size, 1, 1))\n",
    "\n",
    "for size in hidden_sizes:    \n",
    "\n",
    "    # Training network for five times\n",
    "    mapes_sum = 0    \n",
    "    for _ in range(experiments_amount):\n",
    "        all_sizes.append(size)        \n",
    "        \n",
    "        test_sequence = sequence[-output_size:]\n",
    "        training_mape, model, next_n_pred, mean, deviation = predict_next_n_elements(\n",
    "            sequence, window_size, batch_size,\n",
    "            size, output_size, max_epochs,\n",
    "            verbosity, lr, use_adam=use_adam\n",
    "        )\n",
    "        all_epochs.append(max_epochs)\n",
    "\n",
    "        # Test sequence mape\n",
    "        test_sequence = sequence[-output_size:]\n",
    "        test_mape = mape(test_sequence, next_n_pred)\n",
    "        mapes_sum += test_mape    \n",
    "        all_mapes.append(test_mape)    \n",
    "\n",
    "    # Average mape for epochs amount\n",
    "    mapes_mean.append(mapes_sum / experiments_amount)"
   ]
  },
  {
   "cell_type": "code",
   "execution_count": 31,
   "metadata": {},
   "outputs": [
    {
     "data": {
      "application/vnd.plotly.v1+json": {
       "config": {
        "plotlyServerURL": "https://plot.ly"
       },
       "data": [
        {
         "mode": "markers",
         "name": "Все наблюдения",
         "type": "scatter",
         "x": [
          2,
          2,
          2,
          2,
          2,
          4,
          4,
          4,
          4,
          4,
          6,
          6,
          6,
          6,
          6,
          8,
          8,
          8,
          8,
          8,
          10,
          10,
          10,
          10,
          10,
          12,
          12,
          12,
          12,
          12,
          14,
          14,
          14,
          14,
          14,
          16,
          16,
          16,
          16,
          16,
          18,
          18,
          18,
          18,
          18,
          20,
          20,
          20,
          20,
          20
         ],
         "y": [
          0.33534607825461693,
          0.28388437463918403,
          0.31760399690003566,
          0.35850660049592875,
          0.2978193085893045,
          0.2962025922112064,
          0.2701791696614337,
          0.39954471864402846,
          0.24383266677869955,
          0.22024237291362678,
          0.26470514451025057,
          0.23412743608190825,
          0.26140419827241484,
          0.21132728348128074,
          0.172525466193045,
          0.19666841109974262,
          0.21491167548948312,
          0.22702752266462725,
          0.13195623439448534,
          0.1424125896889665,
          0.21284437705547574,
          0.2077939996854058,
          0.16549866040881564,
          0.19078907648793583,
          0.19661078795152567,
          0.15272749912713626,
          0.20654415303756202,
          0.15510286162358933,
          0.2225498592448224,
          0.15538779559463028,
          0.16851614323752015,
          0.15718260804421694,
          0.15734211836733913,
          0.13151541161037175,
          0.12743730047058635,
          0.13158884618590205,
          0.13749654188251595,
          0.17501114003482562,
          0.1761145019833598,
          0.11200461730167215,
          0.14570736530261444,
          0.14510134500918714,
          0.14855789539243094,
          0.12493546152054456,
          0.1242511061586048,
          0.1393205118135958,
          0.09134516180771808,
          0.1003947113046648,
          0.12078397592365847,
          0.15553744839286324
         ]
        },
        {
         "mode": "lines+markers",
         "name": "Средние значения",
         "type": "scatter",
         "x": [
          2,
          4,
          6,
          8,
          10,
          12,
          14,
          16,
          18,
          20
         ],
         "y": [
          0.31863207177581393,
          0.286000304041799,
          0.22881790570777988,
          0.18259528666746097,
          0.19470738031783175,
          0.17846243372554804,
          0.14839871634600685,
          0.1464431294776551,
          0.13771063467667638,
          0.12147636184850008
         ]
        }
       ],
       "layout": {
        "font": {
         "size": 20
        },
        "height": 720,
        "template": {
         "data": {
          "bar": [
           {
            "error_x": {
             "color": "#2a3f5f"
            },
            "error_y": {
             "color": "#2a3f5f"
            },
            "marker": {
             "line": {
              "color": "#E5ECF6",
              "width": 0.5
             },
             "pattern": {
              "fillmode": "overlay",
              "size": 10,
              "solidity": 0.2
             }
            },
            "type": "bar"
           }
          ],
          "barpolar": [
           {
            "marker": {
             "line": {
              "color": "#E5ECF6",
              "width": 0.5
             },
             "pattern": {
              "fillmode": "overlay",
              "size": 10,
              "solidity": 0.2
             }
            },
            "type": "barpolar"
           }
          ],
          "carpet": [
           {
            "aaxis": {
             "endlinecolor": "#2a3f5f",
             "gridcolor": "white",
             "linecolor": "white",
             "minorgridcolor": "white",
             "startlinecolor": "#2a3f5f"
            },
            "baxis": {
             "endlinecolor": "#2a3f5f",
             "gridcolor": "white",
             "linecolor": "white",
             "minorgridcolor": "white",
             "startlinecolor": "#2a3f5f"
            },
            "type": "carpet"
           }
          ],
          "choropleth": [
           {
            "colorbar": {
             "outlinewidth": 0,
             "ticks": ""
            },
            "type": "choropleth"
           }
          ],
          "contour": [
           {
            "colorbar": {
             "outlinewidth": 0,
             "ticks": ""
            },
            "colorscale": [
             [
              0,
              "#0d0887"
             ],
             [
              0.1111111111111111,
              "#46039f"
             ],
             [
              0.2222222222222222,
              "#7201a8"
             ],
             [
              0.3333333333333333,
              "#9c179e"
             ],
             [
              0.4444444444444444,
              "#bd3786"
             ],
             [
              0.5555555555555556,
              "#d8576b"
             ],
             [
              0.6666666666666666,
              "#ed7953"
             ],
             [
              0.7777777777777778,
              "#fb9f3a"
             ],
             [
              0.8888888888888888,
              "#fdca26"
             ],
             [
              1,
              "#f0f921"
             ]
            ],
            "type": "contour"
           }
          ],
          "contourcarpet": [
           {
            "colorbar": {
             "outlinewidth": 0,
             "ticks": ""
            },
            "type": "contourcarpet"
           }
          ],
          "heatmap": [
           {
            "colorbar": {
             "outlinewidth": 0,
             "ticks": ""
            },
            "colorscale": [
             [
              0,
              "#0d0887"
             ],
             [
              0.1111111111111111,
              "#46039f"
             ],
             [
              0.2222222222222222,
              "#7201a8"
             ],
             [
              0.3333333333333333,
              "#9c179e"
             ],
             [
              0.4444444444444444,
              "#bd3786"
             ],
             [
              0.5555555555555556,
              "#d8576b"
             ],
             [
              0.6666666666666666,
              "#ed7953"
             ],
             [
              0.7777777777777778,
              "#fb9f3a"
             ],
             [
              0.8888888888888888,
              "#fdca26"
             ],
             [
              1,
              "#f0f921"
             ]
            ],
            "type": "heatmap"
           }
          ],
          "heatmapgl": [
           {
            "colorbar": {
             "outlinewidth": 0,
             "ticks": ""
            },
            "colorscale": [
             [
              0,
              "#0d0887"
             ],
             [
              0.1111111111111111,
              "#46039f"
             ],
             [
              0.2222222222222222,
              "#7201a8"
             ],
             [
              0.3333333333333333,
              "#9c179e"
             ],
             [
              0.4444444444444444,
              "#bd3786"
             ],
             [
              0.5555555555555556,
              "#d8576b"
             ],
             [
              0.6666666666666666,
              "#ed7953"
             ],
             [
              0.7777777777777778,
              "#fb9f3a"
             ],
             [
              0.8888888888888888,
              "#fdca26"
             ],
             [
              1,
              "#f0f921"
             ]
            ],
            "type": "heatmapgl"
           }
          ],
          "histogram": [
           {
            "marker": {
             "pattern": {
              "fillmode": "overlay",
              "size": 10,
              "solidity": 0.2
             }
            },
            "type": "histogram"
           }
          ],
          "histogram2d": [
           {
            "colorbar": {
             "outlinewidth": 0,
             "ticks": ""
            },
            "colorscale": [
             [
              0,
              "#0d0887"
             ],
             [
              0.1111111111111111,
              "#46039f"
             ],
             [
              0.2222222222222222,
              "#7201a8"
             ],
             [
              0.3333333333333333,
              "#9c179e"
             ],
             [
              0.4444444444444444,
              "#bd3786"
             ],
             [
              0.5555555555555556,
              "#d8576b"
             ],
             [
              0.6666666666666666,
              "#ed7953"
             ],
             [
              0.7777777777777778,
              "#fb9f3a"
             ],
             [
              0.8888888888888888,
              "#fdca26"
             ],
             [
              1,
              "#f0f921"
             ]
            ],
            "type": "histogram2d"
           }
          ],
          "histogram2dcontour": [
           {
            "colorbar": {
             "outlinewidth": 0,
             "ticks": ""
            },
            "colorscale": [
             [
              0,
              "#0d0887"
             ],
             [
              0.1111111111111111,
              "#46039f"
             ],
             [
              0.2222222222222222,
              "#7201a8"
             ],
             [
              0.3333333333333333,
              "#9c179e"
             ],
             [
              0.4444444444444444,
              "#bd3786"
             ],
             [
              0.5555555555555556,
              "#d8576b"
             ],
             [
              0.6666666666666666,
              "#ed7953"
             ],
             [
              0.7777777777777778,
              "#fb9f3a"
             ],
             [
              0.8888888888888888,
              "#fdca26"
             ],
             [
              1,
              "#f0f921"
             ]
            ],
            "type": "histogram2dcontour"
           }
          ],
          "mesh3d": [
           {
            "colorbar": {
             "outlinewidth": 0,
             "ticks": ""
            },
            "type": "mesh3d"
           }
          ],
          "parcoords": [
           {
            "line": {
             "colorbar": {
              "outlinewidth": 0,
              "ticks": ""
             }
            },
            "type": "parcoords"
           }
          ],
          "pie": [
           {
            "automargin": true,
            "type": "pie"
           }
          ],
          "scatter": [
           {
            "fillpattern": {
             "fillmode": "overlay",
             "size": 10,
             "solidity": 0.2
            },
            "type": "scatter"
           }
          ],
          "scatter3d": [
           {
            "line": {
             "colorbar": {
              "outlinewidth": 0,
              "ticks": ""
             }
            },
            "marker": {
             "colorbar": {
              "outlinewidth": 0,
              "ticks": ""
             }
            },
            "type": "scatter3d"
           }
          ],
          "scattercarpet": [
           {
            "marker": {
             "colorbar": {
              "outlinewidth": 0,
              "ticks": ""
             }
            },
            "type": "scattercarpet"
           }
          ],
          "scattergeo": [
           {
            "marker": {
             "colorbar": {
              "outlinewidth": 0,
              "ticks": ""
             }
            },
            "type": "scattergeo"
           }
          ],
          "scattergl": [
           {
            "marker": {
             "colorbar": {
              "outlinewidth": 0,
              "ticks": ""
             }
            },
            "type": "scattergl"
           }
          ],
          "scattermapbox": [
           {
            "marker": {
             "colorbar": {
              "outlinewidth": 0,
              "ticks": ""
             }
            },
            "type": "scattermapbox"
           }
          ],
          "scatterpolar": [
           {
            "marker": {
             "colorbar": {
              "outlinewidth": 0,
              "ticks": ""
             }
            },
            "type": "scatterpolar"
           }
          ],
          "scatterpolargl": [
           {
            "marker": {
             "colorbar": {
              "outlinewidth": 0,
              "ticks": ""
             }
            },
            "type": "scatterpolargl"
           }
          ],
          "scatterternary": [
           {
            "marker": {
             "colorbar": {
              "outlinewidth": 0,
              "ticks": ""
             }
            },
            "type": "scatterternary"
           }
          ],
          "surface": [
           {
            "colorbar": {
             "outlinewidth": 0,
             "ticks": ""
            },
            "colorscale": [
             [
              0,
              "#0d0887"
             ],
             [
              0.1111111111111111,
              "#46039f"
             ],
             [
              0.2222222222222222,
              "#7201a8"
             ],
             [
              0.3333333333333333,
              "#9c179e"
             ],
             [
              0.4444444444444444,
              "#bd3786"
             ],
             [
              0.5555555555555556,
              "#d8576b"
             ],
             [
              0.6666666666666666,
              "#ed7953"
             ],
             [
              0.7777777777777778,
              "#fb9f3a"
             ],
             [
              0.8888888888888888,
              "#fdca26"
             ],
             [
              1,
              "#f0f921"
             ]
            ],
            "type": "surface"
           }
          ],
          "table": [
           {
            "cells": {
             "fill": {
              "color": "#EBF0F8"
             },
             "line": {
              "color": "white"
             }
            },
            "header": {
             "fill": {
              "color": "#C8D4E3"
             },
             "line": {
              "color": "white"
             }
            },
            "type": "table"
           }
          ]
         },
         "layout": {
          "annotationdefaults": {
           "arrowcolor": "#2a3f5f",
           "arrowhead": 0,
           "arrowwidth": 1
          },
          "autotypenumbers": "strict",
          "coloraxis": {
           "colorbar": {
            "outlinewidth": 0,
            "ticks": ""
           }
          },
          "colorscale": {
           "diverging": [
            [
             0,
             "#8e0152"
            ],
            [
             0.1,
             "#c51b7d"
            ],
            [
             0.2,
             "#de77ae"
            ],
            [
             0.3,
             "#f1b6da"
            ],
            [
             0.4,
             "#fde0ef"
            ],
            [
             0.5,
             "#f7f7f7"
            ],
            [
             0.6,
             "#e6f5d0"
            ],
            [
             0.7,
             "#b8e186"
            ],
            [
             0.8,
             "#7fbc41"
            ],
            [
             0.9,
             "#4d9221"
            ],
            [
             1,
             "#276419"
            ]
           ],
           "sequential": [
            [
             0,
             "#0d0887"
            ],
            [
             0.1111111111111111,
             "#46039f"
            ],
            [
             0.2222222222222222,
             "#7201a8"
            ],
            [
             0.3333333333333333,
             "#9c179e"
            ],
            [
             0.4444444444444444,
             "#bd3786"
            ],
            [
             0.5555555555555556,
             "#d8576b"
            ],
            [
             0.6666666666666666,
             "#ed7953"
            ],
            [
             0.7777777777777778,
             "#fb9f3a"
            ],
            [
             0.8888888888888888,
             "#fdca26"
            ],
            [
             1,
             "#f0f921"
            ]
           ],
           "sequentialminus": [
            [
             0,
             "#0d0887"
            ],
            [
             0.1111111111111111,
             "#46039f"
            ],
            [
             0.2222222222222222,
             "#7201a8"
            ],
            [
             0.3333333333333333,
             "#9c179e"
            ],
            [
             0.4444444444444444,
             "#bd3786"
            ],
            [
             0.5555555555555556,
             "#d8576b"
            ],
            [
             0.6666666666666666,
             "#ed7953"
            ],
            [
             0.7777777777777778,
             "#fb9f3a"
            ],
            [
             0.8888888888888888,
             "#fdca26"
            ],
            [
             1,
             "#f0f921"
            ]
           ]
          },
          "colorway": [
           "#636efa",
           "#EF553B",
           "#00cc96",
           "#ab63fa",
           "#FFA15A",
           "#19d3f3",
           "#FF6692",
           "#B6E880",
           "#FF97FF",
           "#FECB52"
          ],
          "font": {
           "color": "#2a3f5f"
          },
          "geo": {
           "bgcolor": "white",
           "lakecolor": "white",
           "landcolor": "#E5ECF6",
           "showlakes": true,
           "showland": true,
           "subunitcolor": "white"
          },
          "hoverlabel": {
           "align": "left"
          },
          "hovermode": "closest",
          "mapbox": {
           "style": "light"
          },
          "paper_bgcolor": "white",
          "plot_bgcolor": "#E5ECF6",
          "polar": {
           "angularaxis": {
            "gridcolor": "white",
            "linecolor": "white",
            "ticks": ""
           },
           "bgcolor": "#E5ECF6",
           "radialaxis": {
            "gridcolor": "white",
            "linecolor": "white",
            "ticks": ""
           }
          },
          "scene": {
           "xaxis": {
            "backgroundcolor": "#E5ECF6",
            "gridcolor": "white",
            "gridwidth": 2,
            "linecolor": "white",
            "showbackground": true,
            "ticks": "",
            "zerolinecolor": "white"
           },
           "yaxis": {
            "backgroundcolor": "#E5ECF6",
            "gridcolor": "white",
            "gridwidth": 2,
            "linecolor": "white",
            "showbackground": true,
            "ticks": "",
            "zerolinecolor": "white"
           },
           "zaxis": {
            "backgroundcolor": "#E5ECF6",
            "gridcolor": "white",
            "gridwidth": 2,
            "linecolor": "white",
            "showbackground": true,
            "ticks": "",
            "zerolinecolor": "white"
           }
          },
          "shapedefaults": {
           "line": {
            "color": "#2a3f5f"
           }
          },
          "ternary": {
           "aaxis": {
            "gridcolor": "white",
            "linecolor": "white",
            "ticks": ""
           },
           "baxis": {
            "gridcolor": "white",
            "linecolor": "white",
            "ticks": ""
           },
           "bgcolor": "#E5ECF6",
           "caxis": {
            "gridcolor": "white",
            "linecolor": "white",
            "ticks": ""
           }
          },
          "title": {
           "x": 0.05
          },
          "xaxis": {
           "automargin": true,
           "gridcolor": "white",
           "linecolor": "white",
           "ticks": "",
           "title": {
            "standoff": 15
           },
           "zerolinecolor": "white",
           "zerolinewidth": 2
          },
          "yaxis": {
           "automargin": true,
           "gridcolor": "white",
           "linecolor": "white",
           "ticks": "",
           "title": {
            "standoff": 15
           },
           "zerolinecolor": "white",
           "zerolinewidth": 2
          }
         }
        },
        "title": {
         "text": "Зависимость средней абсолютной ошибки от<br>количества нейронов на скрытом слое"
        },
        "width": 1280,
        "xaxis": {
         "title": {
          "text": "Количество нейронов на скрытом слое"
         }
        },
        "yaxis": {
         "title": {
          "text": "Средняя абсолютная ошибка"
         }
        }
       }
      }
     },
     "metadata": {},
     "output_type": "display_data"
    }
   ],
   "source": [
    "# Plotting results for training epochs amount\n",
    "fig = go.Figure()\n",
    "fig.add_trace(\n",
    "    go.Scatter(x=all_sizes, y=all_mapes,\n",
    "               name='Все наблюдения', mode='markers')\n",
    ")\n",
    "fig.add_trace(\n",
    "    go.Scatter(x=hidden_sizes, y=mapes_mean,\n",
    "               name='Средние значения', mode='lines+markers')\n",
    ")\n",
    "fig.update_layout(\n",
    "    title='Зависимость средней абсолютной ошибки от<br>количества нейронов на скрытом слое',\n",
    "    font=dict(size=20),\n",
    "    xaxis=dict(title='Количество нейронов на скрытом слое'),\n",
    "    yaxis=dict(title='Средняя абсолютная ошибка'),\n",
    "    width=1280,\n",
    "    height=720\n",
    ")\n",
    "fig.show()"
   ]
  },
  {
   "cell_type": "code",
   "execution_count": 32,
   "metadata": {},
   "outputs": [
    {
     "name": "stdout",
     "output_type": "stream",
     "text": [
      "[0, 1, 1, 2, 3, 5, 8, 13, 21, 34, 55, 89, 144, 233, 377, 610, 987, 1597, 2584, 4181, 6765, 10946, 17711]\n",
      "Обучение завершено!\n",
      "Обучение завершено!\n",
      "Обучение завершено!\n",
      "Обучение завершено!\n",
      "Обучение завершено!\n",
      "[1, 4, 9, 16, 25, 36, 49, 64, 81, 100, 121, 144, 169, 196, 225, 256, 289, 324, 361, 400, 441, 484, 529]\n",
      "Обучение завершено!\n",
      "Обучение завершено!\n",
      "Обучение завершено!\n",
      "Обучение завершено!\n",
      "Обучение завершено!\n",
      "[1, 2, 3, 4, 5, 6, 7, 8, 9, 10, 11, 12, 13, 14, 15, 16, 17, 18, 19, 20, 21, 22, 23]\n",
      "Обучение завершено!\n",
      "Обучение завершено!\n",
      "Обучение завершено!\n",
      "Обучение завершено!\n",
      "Обучение завершено!\n",
      "[1.0, 0.5, 0.3333333333333333, 0.25, 0.2, 0.16666666666666666, 0.14285714285714285, 0.125, 0.1111111111111111, 0.1, 0.09090909090909091, 0.08333333333333333, 0.07692307692307693, 0.07142857142857142, 0.06666666666666667, 0.0625, 0.058823529411764705, 0.05555555555555555, 0.05263157894736842, 0.05, 0.047619047619047616, 0.045454545454545456, 0.043478260869565216]\n",
      "Обучение завершено!\n",
      "Обучение завершено!\n",
      "Обучение завершено!\n",
      "Обучение завершено!\n",
      "Обучение завершено!\n",
      "[1, -1, 1, -1, 1, -1, 1, -1, 1, -1, 1, -1, 1, -1, 1, -1, 1, -1, 1, -1, 1, -1, 1]\n",
      "Обучение завершено!\n",
      "Обучение завершено!\n",
      "Обучение завершено!\n",
      "Обучение завершено!\n",
      "Обучение завершено!\n",
      "[1, 0.5, 1, 0.5, 0.5, 1, 0.5, 0.5, 0.5, 1, 0.5, 0.5, 0.5, 0.5, 1, 0.5, 0.5, 0.5, 0.5, 0.5, 1, 0.5, 0.5]\n",
      "Обучение завершено!\n",
      "Обучение завершено!\n",
      "Обучение завершено!\n",
      "Обучение завершено!\n",
      "Обучение завершено!\n"
     ]
    }
   ],
   "source": [
    "# Настройки эксперимента\n",
    "experiments_amount = 5\n",
    "seq_length = 20\n",
    "window_size = 3\n",
    "batch_size = 8\n",
    "hidden_size = 10\n",
    "output_size = 3\n",
    "max_epochs = 2000\n",
    "verbosity = 100000\n",
    "lr = 1e-2\n",
    "\n",
    "# Словарь с генераторами\n",
    "sequence_generators = {\n",
    "    \"1, 1, 2, 3, 5, 8,...\": lambda n: list(fibonacci_generator(n)),\n",
    "    \"1, 4, 9, 16,...\": lambda n: list(squared_generator(n)),\n",
    "    \"1, 2, 3, 4, 5,...\": lambda n: list(arithmetic_progression(n, a0=1, d=1)),    \n",
    "    \"1, 0.5 ,0.(3), 0.25, 0.2,...\": lambda n: list(one_by_n_generator(n)),\n",
    "    \"1, -1, 1, -1,...\": lambda n: list(plus_one_minus_one_generator(n)),\n",
    "    \"1, 0.5, 1, 0.5, 0.5, 1,...\": lambda n: list(one_half_generator(n)),\n",
    "}\n",
    "\n",
    "all_mapes = []\n",
    "mapes_mean = []\n",
    "all_sequences = []\n",
    "\n",
    "# Тренировка для каждой последовательности\n",
    "for seq_name, seq_generator in sequence_generators.items():\n",
    "    sequence = seq_generator(seq_length + output_size)\n",
    "    print(sequence)   \n",
    "\n",
    "    mapes_sum = 0\n",
    "    for _ in range(experiments_amount):\n",
    "        all_sequences.append(seq_name)        \n",
    "        \n",
    "        test_sequence = sequence[-output_size:]\n",
    "        training_mape, model, next_n_pred, mean, deviation = predict_next_n_elements(\n",
    "            sequence, window_size, batch_size,\n",
    "            hidden_size, output_size, max_epochs,\n",
    "            verbosity, lr, use_adam=use_adam\n",
    "        )\n",
    "        all_epochs.append(max_epochs)\n",
    "        \n",
    "        # Test sequence mape\n",
    "        test_sequence = sequence[-output_size:]\n",
    "        test_mape = mape(test_sequence, next_n_pred)\n",
    "        mapes_sum += test_mape    \n",
    "        all_mapes.append(test_mape)\n",
    "\n",
    "    mapes_mean.append(mapes_sum / experiments_amount)"
   ]
  },
  {
   "cell_type": "code",
   "execution_count": 33,
   "metadata": {},
   "outputs": [
    {
     "data": {
      "application/vnd.plotly.v1+json": {
       "config": {
        "plotlyServerURL": "https://plot.ly"
       },
       "data": [
        {
         "mode": "markers",
         "name": "Все наблюдения",
         "type": "scatter",
         "x": [
          "1, 1, 2, 3, 5, 8,...",
          "1, 1, 2, 3, 5, 8,...",
          "1, 1, 2, 3, 5, 8,...",
          "1, 1, 2, 3, 5, 8,...",
          "1, 1, 2, 3, 5, 8,...",
          "1, 4, 9, 16,...",
          "1, 4, 9, 16,...",
          "1, 4, 9, 16,...",
          "1, 4, 9, 16,...",
          "1, 4, 9, 16,...",
          "1, 2, 3, 4, 5,...",
          "1, 2, 3, 4, 5,...",
          "1, 2, 3, 4, 5,...",
          "1, 2, 3, 4, 5,...",
          "1, 2, 3, 4, 5,...",
          "1, 0.5 ,0.(3), 0.25, 0.2,...",
          "1, 0.5 ,0.(3), 0.25, 0.2,...",
          "1, 0.5 ,0.(3), 0.25, 0.2,...",
          "1, 0.5 ,0.(3), 0.25, 0.2,...",
          "1, 0.5 ,0.(3), 0.25, 0.2,...",
          "1, -1, 1, -1,...",
          "1, -1, 1, -1,...",
          "1, -1, 1, -1,...",
          "1, -1, 1, -1,...",
          "1, -1, 1, -1,...",
          "1, 0.5, 1, 0.5, 0.5, 1,...",
          "1, 0.5, 1, 0.5, 0.5, 1,...",
          "1, 0.5, 1, 0.5, 0.5, 1,...",
          "1, 0.5, 1, 0.5, 0.5, 1,...",
          "1, 0.5, 1, 0.5, 0.5, 1,..."
         ],
         "y": [
          0.7174056773682037,
          0.6640647260390325,
          0.7352381459967501,
          0.6877104969640225,
          0.7124132718611057,
          0.2388081381820333,
          0.20200757743685357,
          0.22157424736987427,
          0.2097234909551707,
          0.2176292329486168,
          0.11521566978646113,
          0.12579250485055582,
          0.10706896126994114,
          0.10524075212704155,
          0.10582206816636697,
          0.291823934432317,
          0.32355591828091407,
          0.3248028264882839,
          0.3509961347307707,
          0.3606850831937856,
          0.0000013311703999837239,
          0.000002165635426839193,
          0.000001629193623860677,
          4.172325134277344e-7,
          0.0000010927518208821614,
          0.19118560953014538,
          0.18968014171399586,
          0.21423787710644168,
          0.21655527307551506,
          0.19953906987557338
         ]
        },
        {
         "mode": "markers",
         "name": "Средние значения",
         "type": "scatter",
         "x": [
          "1, 1, 2, 3, 5, 8,...",
          "1, 4, 9, 16,...",
          "1, 2, 3, 4, 5,...",
          "1, 0.5 ,0.(3), 0.25, 0.2,...",
          "1, -1, 1, -1,...",
          "1, 0.5, 1, 0.5, 0.5, 1,..."
         ],
         "y": [
          0.7033664636458229,
          0.21794853737850978,
          0.11182799124007332,
          0.3303727794252142,
          0.0000013271967569986979,
          0.20223959426033428
         ]
        }
       ],
       "layout": {
        "font": {
         "size": 20
        },
        "height": 720,
        "template": {
         "data": {
          "bar": [
           {
            "error_x": {
             "color": "#2a3f5f"
            },
            "error_y": {
             "color": "#2a3f5f"
            },
            "marker": {
             "line": {
              "color": "#E5ECF6",
              "width": 0.5
             },
             "pattern": {
              "fillmode": "overlay",
              "size": 10,
              "solidity": 0.2
             }
            },
            "type": "bar"
           }
          ],
          "barpolar": [
           {
            "marker": {
             "line": {
              "color": "#E5ECF6",
              "width": 0.5
             },
             "pattern": {
              "fillmode": "overlay",
              "size": 10,
              "solidity": 0.2
             }
            },
            "type": "barpolar"
           }
          ],
          "carpet": [
           {
            "aaxis": {
             "endlinecolor": "#2a3f5f",
             "gridcolor": "white",
             "linecolor": "white",
             "minorgridcolor": "white",
             "startlinecolor": "#2a3f5f"
            },
            "baxis": {
             "endlinecolor": "#2a3f5f",
             "gridcolor": "white",
             "linecolor": "white",
             "minorgridcolor": "white",
             "startlinecolor": "#2a3f5f"
            },
            "type": "carpet"
           }
          ],
          "choropleth": [
           {
            "colorbar": {
             "outlinewidth": 0,
             "ticks": ""
            },
            "type": "choropleth"
           }
          ],
          "contour": [
           {
            "colorbar": {
             "outlinewidth": 0,
             "ticks": ""
            },
            "colorscale": [
             [
              0,
              "#0d0887"
             ],
             [
              0.1111111111111111,
              "#46039f"
             ],
             [
              0.2222222222222222,
              "#7201a8"
             ],
             [
              0.3333333333333333,
              "#9c179e"
             ],
             [
              0.4444444444444444,
              "#bd3786"
             ],
             [
              0.5555555555555556,
              "#d8576b"
             ],
             [
              0.6666666666666666,
              "#ed7953"
             ],
             [
              0.7777777777777778,
              "#fb9f3a"
             ],
             [
              0.8888888888888888,
              "#fdca26"
             ],
             [
              1,
              "#f0f921"
             ]
            ],
            "type": "contour"
           }
          ],
          "contourcarpet": [
           {
            "colorbar": {
             "outlinewidth": 0,
             "ticks": ""
            },
            "type": "contourcarpet"
           }
          ],
          "heatmap": [
           {
            "colorbar": {
             "outlinewidth": 0,
             "ticks": ""
            },
            "colorscale": [
             [
              0,
              "#0d0887"
             ],
             [
              0.1111111111111111,
              "#46039f"
             ],
             [
              0.2222222222222222,
              "#7201a8"
             ],
             [
              0.3333333333333333,
              "#9c179e"
             ],
             [
              0.4444444444444444,
              "#bd3786"
             ],
             [
              0.5555555555555556,
              "#d8576b"
             ],
             [
              0.6666666666666666,
              "#ed7953"
             ],
             [
              0.7777777777777778,
              "#fb9f3a"
             ],
             [
              0.8888888888888888,
              "#fdca26"
             ],
             [
              1,
              "#f0f921"
             ]
            ],
            "type": "heatmap"
           }
          ],
          "heatmapgl": [
           {
            "colorbar": {
             "outlinewidth": 0,
             "ticks": ""
            },
            "colorscale": [
             [
              0,
              "#0d0887"
             ],
             [
              0.1111111111111111,
              "#46039f"
             ],
             [
              0.2222222222222222,
              "#7201a8"
             ],
             [
              0.3333333333333333,
              "#9c179e"
             ],
             [
              0.4444444444444444,
              "#bd3786"
             ],
             [
              0.5555555555555556,
              "#d8576b"
             ],
             [
              0.6666666666666666,
              "#ed7953"
             ],
             [
              0.7777777777777778,
              "#fb9f3a"
             ],
             [
              0.8888888888888888,
              "#fdca26"
             ],
             [
              1,
              "#f0f921"
             ]
            ],
            "type": "heatmapgl"
           }
          ],
          "histogram": [
           {
            "marker": {
             "pattern": {
              "fillmode": "overlay",
              "size": 10,
              "solidity": 0.2
             }
            },
            "type": "histogram"
           }
          ],
          "histogram2d": [
           {
            "colorbar": {
             "outlinewidth": 0,
             "ticks": ""
            },
            "colorscale": [
             [
              0,
              "#0d0887"
             ],
             [
              0.1111111111111111,
              "#46039f"
             ],
             [
              0.2222222222222222,
              "#7201a8"
             ],
             [
              0.3333333333333333,
              "#9c179e"
             ],
             [
              0.4444444444444444,
              "#bd3786"
             ],
             [
              0.5555555555555556,
              "#d8576b"
             ],
             [
              0.6666666666666666,
              "#ed7953"
             ],
             [
              0.7777777777777778,
              "#fb9f3a"
             ],
             [
              0.8888888888888888,
              "#fdca26"
             ],
             [
              1,
              "#f0f921"
             ]
            ],
            "type": "histogram2d"
           }
          ],
          "histogram2dcontour": [
           {
            "colorbar": {
             "outlinewidth": 0,
             "ticks": ""
            },
            "colorscale": [
             [
              0,
              "#0d0887"
             ],
             [
              0.1111111111111111,
              "#46039f"
             ],
             [
              0.2222222222222222,
              "#7201a8"
             ],
             [
              0.3333333333333333,
              "#9c179e"
             ],
             [
              0.4444444444444444,
              "#bd3786"
             ],
             [
              0.5555555555555556,
              "#d8576b"
             ],
             [
              0.6666666666666666,
              "#ed7953"
             ],
             [
              0.7777777777777778,
              "#fb9f3a"
             ],
             [
              0.8888888888888888,
              "#fdca26"
             ],
             [
              1,
              "#f0f921"
             ]
            ],
            "type": "histogram2dcontour"
           }
          ],
          "mesh3d": [
           {
            "colorbar": {
             "outlinewidth": 0,
             "ticks": ""
            },
            "type": "mesh3d"
           }
          ],
          "parcoords": [
           {
            "line": {
             "colorbar": {
              "outlinewidth": 0,
              "ticks": ""
             }
            },
            "type": "parcoords"
           }
          ],
          "pie": [
           {
            "automargin": true,
            "type": "pie"
           }
          ],
          "scatter": [
           {
            "fillpattern": {
             "fillmode": "overlay",
             "size": 10,
             "solidity": 0.2
            },
            "type": "scatter"
           }
          ],
          "scatter3d": [
           {
            "line": {
             "colorbar": {
              "outlinewidth": 0,
              "ticks": ""
             }
            },
            "marker": {
             "colorbar": {
              "outlinewidth": 0,
              "ticks": ""
             }
            },
            "type": "scatter3d"
           }
          ],
          "scattercarpet": [
           {
            "marker": {
             "colorbar": {
              "outlinewidth": 0,
              "ticks": ""
             }
            },
            "type": "scattercarpet"
           }
          ],
          "scattergeo": [
           {
            "marker": {
             "colorbar": {
              "outlinewidth": 0,
              "ticks": ""
             }
            },
            "type": "scattergeo"
           }
          ],
          "scattergl": [
           {
            "marker": {
             "colorbar": {
              "outlinewidth": 0,
              "ticks": ""
             }
            },
            "type": "scattergl"
           }
          ],
          "scattermapbox": [
           {
            "marker": {
             "colorbar": {
              "outlinewidth": 0,
              "ticks": ""
             }
            },
            "type": "scattermapbox"
           }
          ],
          "scatterpolar": [
           {
            "marker": {
             "colorbar": {
              "outlinewidth": 0,
              "ticks": ""
             }
            },
            "type": "scatterpolar"
           }
          ],
          "scatterpolargl": [
           {
            "marker": {
             "colorbar": {
              "outlinewidth": 0,
              "ticks": ""
             }
            },
            "type": "scatterpolargl"
           }
          ],
          "scatterternary": [
           {
            "marker": {
             "colorbar": {
              "outlinewidth": 0,
              "ticks": ""
             }
            },
            "type": "scatterternary"
           }
          ],
          "surface": [
           {
            "colorbar": {
             "outlinewidth": 0,
             "ticks": ""
            },
            "colorscale": [
             [
              0,
              "#0d0887"
             ],
             [
              0.1111111111111111,
              "#46039f"
             ],
             [
              0.2222222222222222,
              "#7201a8"
             ],
             [
              0.3333333333333333,
              "#9c179e"
             ],
             [
              0.4444444444444444,
              "#bd3786"
             ],
             [
              0.5555555555555556,
              "#d8576b"
             ],
             [
              0.6666666666666666,
              "#ed7953"
             ],
             [
              0.7777777777777778,
              "#fb9f3a"
             ],
             [
              0.8888888888888888,
              "#fdca26"
             ],
             [
              1,
              "#f0f921"
             ]
            ],
            "type": "surface"
           }
          ],
          "table": [
           {
            "cells": {
             "fill": {
              "color": "#EBF0F8"
             },
             "line": {
              "color": "white"
             }
            },
            "header": {
             "fill": {
              "color": "#C8D4E3"
             },
             "line": {
              "color": "white"
             }
            },
            "type": "table"
           }
          ]
         },
         "layout": {
          "annotationdefaults": {
           "arrowcolor": "#2a3f5f",
           "arrowhead": 0,
           "arrowwidth": 1
          },
          "autotypenumbers": "strict",
          "coloraxis": {
           "colorbar": {
            "outlinewidth": 0,
            "ticks": ""
           }
          },
          "colorscale": {
           "diverging": [
            [
             0,
             "#8e0152"
            ],
            [
             0.1,
             "#c51b7d"
            ],
            [
             0.2,
             "#de77ae"
            ],
            [
             0.3,
             "#f1b6da"
            ],
            [
             0.4,
             "#fde0ef"
            ],
            [
             0.5,
             "#f7f7f7"
            ],
            [
             0.6,
             "#e6f5d0"
            ],
            [
             0.7,
             "#b8e186"
            ],
            [
             0.8,
             "#7fbc41"
            ],
            [
             0.9,
             "#4d9221"
            ],
            [
             1,
             "#276419"
            ]
           ],
           "sequential": [
            [
             0,
             "#0d0887"
            ],
            [
             0.1111111111111111,
             "#46039f"
            ],
            [
             0.2222222222222222,
             "#7201a8"
            ],
            [
             0.3333333333333333,
             "#9c179e"
            ],
            [
             0.4444444444444444,
             "#bd3786"
            ],
            [
             0.5555555555555556,
             "#d8576b"
            ],
            [
             0.6666666666666666,
             "#ed7953"
            ],
            [
             0.7777777777777778,
             "#fb9f3a"
            ],
            [
             0.8888888888888888,
             "#fdca26"
            ],
            [
             1,
             "#f0f921"
            ]
           ],
           "sequentialminus": [
            [
             0,
             "#0d0887"
            ],
            [
             0.1111111111111111,
             "#46039f"
            ],
            [
             0.2222222222222222,
             "#7201a8"
            ],
            [
             0.3333333333333333,
             "#9c179e"
            ],
            [
             0.4444444444444444,
             "#bd3786"
            ],
            [
             0.5555555555555556,
             "#d8576b"
            ],
            [
             0.6666666666666666,
             "#ed7953"
            ],
            [
             0.7777777777777778,
             "#fb9f3a"
            ],
            [
             0.8888888888888888,
             "#fdca26"
            ],
            [
             1,
             "#f0f921"
            ]
           ]
          },
          "colorway": [
           "#636efa",
           "#EF553B",
           "#00cc96",
           "#ab63fa",
           "#FFA15A",
           "#19d3f3",
           "#FF6692",
           "#B6E880",
           "#FF97FF",
           "#FECB52"
          ],
          "font": {
           "color": "#2a3f5f"
          },
          "geo": {
           "bgcolor": "white",
           "lakecolor": "white",
           "landcolor": "#E5ECF6",
           "showlakes": true,
           "showland": true,
           "subunitcolor": "white"
          },
          "hoverlabel": {
           "align": "left"
          },
          "hovermode": "closest",
          "mapbox": {
           "style": "light"
          },
          "paper_bgcolor": "white",
          "plot_bgcolor": "#E5ECF6",
          "polar": {
           "angularaxis": {
            "gridcolor": "white",
            "linecolor": "white",
            "ticks": ""
           },
           "bgcolor": "#E5ECF6",
           "radialaxis": {
            "gridcolor": "white",
            "linecolor": "white",
            "ticks": ""
           }
          },
          "scene": {
           "xaxis": {
            "backgroundcolor": "#E5ECF6",
            "gridcolor": "white",
            "gridwidth": 2,
            "linecolor": "white",
            "showbackground": true,
            "ticks": "",
            "zerolinecolor": "white"
           },
           "yaxis": {
            "backgroundcolor": "#E5ECF6",
            "gridcolor": "white",
            "gridwidth": 2,
            "linecolor": "white",
            "showbackground": true,
            "ticks": "",
            "zerolinecolor": "white"
           },
           "zaxis": {
            "backgroundcolor": "#E5ECF6",
            "gridcolor": "white",
            "gridwidth": 2,
            "linecolor": "white",
            "showbackground": true,
            "ticks": "",
            "zerolinecolor": "white"
           }
          },
          "shapedefaults": {
           "line": {
            "color": "#2a3f5f"
           }
          },
          "ternary": {
           "aaxis": {
            "gridcolor": "white",
            "linecolor": "white",
            "ticks": ""
           },
           "baxis": {
            "gridcolor": "white",
            "linecolor": "white",
            "ticks": ""
           },
           "bgcolor": "#E5ECF6",
           "caxis": {
            "gridcolor": "white",
            "linecolor": "white",
            "ticks": ""
           }
          },
          "title": {
           "x": 0.05
          },
          "xaxis": {
           "automargin": true,
           "gridcolor": "white",
           "linecolor": "white",
           "ticks": "",
           "title": {
            "standoff": 15
           },
           "zerolinecolor": "white",
           "zerolinewidth": 2
          },
          "yaxis": {
           "automargin": true,
           "gridcolor": "white",
           "linecolor": "white",
           "ticks": "",
           "title": {
            "standoff": 15
           },
           "zerolinecolor": "white",
           "zerolinewidth": 2
          }
         }
        },
        "title": {
         "text": "Зависимость средней абсолютной ошибки<br>от вида последовательности"
        },
        "width": 1280,
        "xaxis": {
         "title": {
          "text": "Вид последовательности"
         }
        },
        "yaxis": {
         "title": {
          "text": "Средняя абсолютная ошибка"
         }
        }
       }
      }
     },
     "metadata": {},
     "output_type": "display_data"
    }
   ],
   "source": [
    "# Построение графика\n",
    "fig = go.Figure()\n",
    "fig.add_trace(\n",
    "    go.Scatter(x=all_sequences, y=all_mapes, name=\"Все наблюдения\", mode=\"markers\")\n",
    ")\n",
    "fig.add_trace(\n",
    "    go.Scatter(x=list(sequence_generators.keys()), y=mapes_mean, name=\"Средние значения\", mode=\"markers\")\n",
    ")\n",
    "fig.update_layout(\n",
    "    title=\"Зависимость средней абсолютной ошибки<br>от вида последовательности\",\n",
    "    font=dict(size=20),\n",
    "    xaxis=dict(title=\"Вид последовательности\"),\n",
    "    yaxis=dict(title=\"Средняя абсолютная ошибка\"),\n",
    "    width=1280,\n",
    "    height=720\n",
    ")\n",
    "fig.show()"
   ]
  }
 ],
 "metadata": {
  "kernelspec": {
   "display_name": ".venv",
   "language": "python",
   "name": "python3"
  },
  "language_info": {
   "codemirror_mode": {
    "name": "ipython",
    "version": 3
   },
   "file_extension": ".py",
   "mimetype": "text/x-python",
   "name": "python",
   "nbconvert_exporter": "python",
   "pygments_lexer": "ipython3",
   "version": "3.11.9"
  }
 },
 "nbformat": 4,
 "nbformat_minor": 2
}
