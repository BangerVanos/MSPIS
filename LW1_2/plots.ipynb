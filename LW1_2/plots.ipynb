{
 "cells": [
  {
   "cell_type": "code",
   "execution_count": 1,
   "metadata": {},
   "outputs": [],
   "source": [
    "# Лабораторная работа 1 по дисциплине МРЗвИС\n",
    "# Выполнена студентом группы 121702\n",
    "# БГУИР Заломов Роман Андреевич\n",
    "#\n",
    "# Вариант 15: Реализовать модель линейной рециркуляционной сети \n",
    "# с постоянным коэффициентом обучения и нормированными весовыми коэффициентами.\n",
    "#\n",
    "# Данный файл содержит алгоритмы построения графиков различных зависимостей"
   ]
  },
  {
   "cell_type": "code",
   "execution_count": 2,
   "metadata": {},
   "outputs": [],
   "source": [
    "from lrnn import (\n",
    "    LRNN,\n",
    "    image_to_blocks,\n",
    "    compress_image,\n",
    "    decompress_image\n",
    ")\n",
    "import numpy as np\n",
    "from PIL import Image\n",
    "import plotly.graph_objects as go"
   ]
  },
  {
   "cell_type": "code",
   "execution_count": 3,
   "metadata": {},
   "outputs": [],
   "source": [
    "MAX_RGB_VALUE = 255\n",
    "COLOR_CHANNELS_AMOUNT = 3"
   ]
  },
  {
   "cell_type": "code",
   "execution_count": 4,
   "metadata": {},
   "outputs": [
    {
     "name": "stdout",
     "output_type": "stream",
     "text": [
      "Z = 4.807507403561401\n",
      "Epoch 1/15000, Loss: 2711.3618453305535\n",
      "Epoch 2/15000, Loss: 2557.6621925644235\n",
      "Epoch 3/15000, Loss: 2475.258679943778\n",
      "Epoch 4/15000, Loss: 2417.632783555434\n",
      "Epoch 5/15000, Loss: 2380.231238426982\n",
      "Epoch 6/15000, Loss: 2342.1620264472685\n",
      "Epoch 7/15000, Loss: 2309.1111813099096\n",
      "Epoch 8/15000, Loss: 2274.9756073815247\n",
      "Epoch 9/15000, Loss: 2244.163642700621\n",
      "Epoch 10/15000, Loss: 2209.9174866011754\n",
      "Epoch 11/15000, Loss: 2176.762726331918\n",
      "Epoch 12/15000, Loss: 2151.076245328437\n",
      "Epoch 13/15000, Loss: 2119.096409560967\n",
      "Epoch 14/15000, Loss: 2088.551515837818\n",
      "Epoch 15/15000, Loss: 2066.859954950907\n",
      "Epoch 16/15000, Loss: 2037.9519749876042\n",
      "Epoch 17/15000, Loss: 2007.214169138903\n",
      "Epoch 18/15000, Loss: 1984.5278874534074\n",
      "Compression coefficient: 2.466780686751743\n",
      "Z = 4.807507403561401\n"
     ]
    }
   ],
   "source": [
    "# Collecting everything\n",
    "\n",
    "block_width = 10\n",
    "block_height = 10\n",
    "\n",
    "n = block_height * block_width\n",
    "# Hidden layer neuron amount\n",
    "p = 20 \n",
    "\n",
    "img = Image.open('car.jpg')\n",
    "img_array = np.asarray(img)\n",
    "shape = img_array.shape\n",
    "blocks = image_to_blocks(img_array, block_height, block_width, overlap=0)\n",
    "\n",
    "l = len(blocks)\n",
    "# Compression coeff\n",
    "print('Z =', (n*l) / ((n+l) * p+2))\n",
    "\n",
    "color_df = ((2 * blocks / MAX_RGB_VALUE) - 1).reshape(len(blocks), -1, 3).transpose(0, 2, 1).reshape(-1, block_height * block_width)\n",
    "train = np.matrix(color_df[np.random.choice(color_df.shape[0], int(color_df.shape[0] * 0.1))])\n",
    "\n",
    "\n",
    "network = LRNN(n, p, 0.001)\n",
    "network.train(train, 15000, learn_by_loss=True, max_loss=2000)\n",
    "\n",
    "compressed = compress_image(network.W_enc, img_array, COLOR_CHANNELS_AMOUNT, block_height, block_width, 0)\n",
    "\n",
    "compression_info_size = (\n",
    "    compressed.size * compressed.itemsize +\n",
    "    network.W_dec.size * network.W_dec.itemsize +\n",
    "    np.array(shape).size * np.array(shape).itemsize +\n",
    "    np.array((block_height, block_width)).size * np.array((block_height, block_width)).itemsize \n",
    ") * 8\n",
    "print(f'Compression coefficient: {(img_array.size * img_array.itemsize * 8) / compression_info_size}')\n",
    "print('Z =', (n*l) / ((n+l) * p + 2))\n",
    "\n",
    "dimg = decompress_image(network.W_dec, compressed, shape, COLOR_CHANNELS_AMOUNT, block_height, block_width, 0)\n",
    "dimg_array = np.asarray(dimg)\n",
    "dimg.save('compression-decompression_test.jpg')"
   ]
  },
  {
   "cell_type": "markdown",
   "metadata": {},
   "source": [
    "## Relation between learning rate and epochs "
   ]
  },
  {
   "cell_type": "code",
   "execution_count": 5,
   "metadata": {},
   "outputs": [
    {
     "name": "stdout",
     "output_type": "stream",
     "text": [
      "Epoch 1/15000, Loss: 4236.938222751431\n",
      "Epoch 2/15000, Loss: 3484.180371045542\n",
      "Epoch 3/15000, Loss: 3189.260318768548\n",
      "Epoch 4/15000, Loss: 3011.669497272544\n",
      "Epoch 5/15000, Loss: 2881.276869820687\n",
      "Epoch 6/15000, Loss: 2778.5271020314094\n",
      "Epoch 7/15000, Loss: 2692.2216902817945\n",
      "Epoch 8/15000, Loss: 2618.0774328619927\n",
      "Epoch 9/15000, Loss: 2550.909404671559\n",
      "Epoch 10/15000, Loss: 2492.9485554345274\n",
      "Epoch 1/15000, Loss: 2839.8414865006275\n",
      "Epoch 2/15000, Loss: 2693.1360041431985\n",
      "Epoch 3/15000, Loss: 2607.2513448790714\n",
      "Epoch 4/15000, Loss: 2552.687511943762\n",
      "Epoch 5/15000, Loss: 2507.298483254257\n",
      "Epoch 6/15000, Loss: 2468.925192076157\n",
      "Epoch 1/15000, Loss: 2583.6308901486123\n",
      "Epoch 2/15000, Loss: 2473.2919244338796\n",
      "Epoch 1/15000, Loss: 2711.3618453305535\n",
      "Epoch 2/15000, Loss: 2557.6621925644235\n",
      "Epoch 3/15000, Loss: 2475.258679943778\n",
      "Epoch 1/15000, Loss: 3936.829769485873\n",
      "Epoch 2/15000, Loss: 3111.737865979727\n",
      "Epoch 3/15000, Loss: 2782.4748866175037\n",
      "Epoch 4/15000, Loss: 2574.4154123589738\n",
      "Epoch 5/15000, Loss: 2420.9148412993895\n",
      "Epoch 1/15000, Loss: 2339.741305358079\n",
      "Epoch 1/15000, Loss: 2097.1676869315793\n",
      "Epoch 1/15000, Loss: 2337.9347334994673\n",
      "Epoch 1/15000, Loss: 2668.074573365873\n",
      "Epoch 2/15000, Loss: 2297.399344067499\n",
      "Epoch 1/15000, Loss: 3203.013471801451\n",
      "Epoch 2/15000, Loss: 2587.0490401987454\n",
      "Epoch 3/15000, Loss: 2301.774157249633\n"
     ]
    },
    {
     "data": {
      "application/vnd.plotly.v1+json": {
       "config": {
        "plotlyServerURL": "https://plot.ly"
       },
       "data": [
        {
         "mode": "lines+markers",
         "type": "scatter",
         "x": [
          0.0005,
          0.0006666666666666666,
          0.0008333333333333333,
          0.001,
          0.0011666666666666665,
          0.0013333333333333333,
          0.0015,
          0.0016666666666666666,
          0.0018333333333333333,
          0.002
         ],
         "y": [
          10,
          6,
          2,
          3,
          5,
          1,
          1,
          1,
          2,
          3
         ]
        }
       ],
       "layout": {
        "font": {
         "size": 20
        },
        "height": 720,
        "template": {
         "data": {
          "bar": [
           {
            "error_x": {
             "color": "#2a3f5f"
            },
            "error_y": {
             "color": "#2a3f5f"
            },
            "marker": {
             "line": {
              "color": "#E5ECF6",
              "width": 0.5
             },
             "pattern": {
              "fillmode": "overlay",
              "size": 10,
              "solidity": 0.2
             }
            },
            "type": "bar"
           }
          ],
          "barpolar": [
           {
            "marker": {
             "line": {
              "color": "#E5ECF6",
              "width": 0.5
             },
             "pattern": {
              "fillmode": "overlay",
              "size": 10,
              "solidity": 0.2
             }
            },
            "type": "barpolar"
           }
          ],
          "carpet": [
           {
            "aaxis": {
             "endlinecolor": "#2a3f5f",
             "gridcolor": "white",
             "linecolor": "white",
             "minorgridcolor": "white",
             "startlinecolor": "#2a3f5f"
            },
            "baxis": {
             "endlinecolor": "#2a3f5f",
             "gridcolor": "white",
             "linecolor": "white",
             "minorgridcolor": "white",
             "startlinecolor": "#2a3f5f"
            },
            "type": "carpet"
           }
          ],
          "choropleth": [
           {
            "colorbar": {
             "outlinewidth": 0,
             "ticks": ""
            },
            "type": "choropleth"
           }
          ],
          "contour": [
           {
            "colorbar": {
             "outlinewidth": 0,
             "ticks": ""
            },
            "colorscale": [
             [
              0,
              "#0d0887"
             ],
             [
              0.1111111111111111,
              "#46039f"
             ],
             [
              0.2222222222222222,
              "#7201a8"
             ],
             [
              0.3333333333333333,
              "#9c179e"
             ],
             [
              0.4444444444444444,
              "#bd3786"
             ],
             [
              0.5555555555555556,
              "#d8576b"
             ],
             [
              0.6666666666666666,
              "#ed7953"
             ],
             [
              0.7777777777777778,
              "#fb9f3a"
             ],
             [
              0.8888888888888888,
              "#fdca26"
             ],
             [
              1,
              "#f0f921"
             ]
            ],
            "type": "contour"
           }
          ],
          "contourcarpet": [
           {
            "colorbar": {
             "outlinewidth": 0,
             "ticks": ""
            },
            "type": "contourcarpet"
           }
          ],
          "heatmap": [
           {
            "colorbar": {
             "outlinewidth": 0,
             "ticks": ""
            },
            "colorscale": [
             [
              0,
              "#0d0887"
             ],
             [
              0.1111111111111111,
              "#46039f"
             ],
             [
              0.2222222222222222,
              "#7201a8"
             ],
             [
              0.3333333333333333,
              "#9c179e"
             ],
             [
              0.4444444444444444,
              "#bd3786"
             ],
             [
              0.5555555555555556,
              "#d8576b"
             ],
             [
              0.6666666666666666,
              "#ed7953"
             ],
             [
              0.7777777777777778,
              "#fb9f3a"
             ],
             [
              0.8888888888888888,
              "#fdca26"
             ],
             [
              1,
              "#f0f921"
             ]
            ],
            "type": "heatmap"
           }
          ],
          "heatmapgl": [
           {
            "colorbar": {
             "outlinewidth": 0,
             "ticks": ""
            },
            "colorscale": [
             [
              0,
              "#0d0887"
             ],
             [
              0.1111111111111111,
              "#46039f"
             ],
             [
              0.2222222222222222,
              "#7201a8"
             ],
             [
              0.3333333333333333,
              "#9c179e"
             ],
             [
              0.4444444444444444,
              "#bd3786"
             ],
             [
              0.5555555555555556,
              "#d8576b"
             ],
             [
              0.6666666666666666,
              "#ed7953"
             ],
             [
              0.7777777777777778,
              "#fb9f3a"
             ],
             [
              0.8888888888888888,
              "#fdca26"
             ],
             [
              1,
              "#f0f921"
             ]
            ],
            "type": "heatmapgl"
           }
          ],
          "histogram": [
           {
            "marker": {
             "pattern": {
              "fillmode": "overlay",
              "size": 10,
              "solidity": 0.2
             }
            },
            "type": "histogram"
           }
          ],
          "histogram2d": [
           {
            "colorbar": {
             "outlinewidth": 0,
             "ticks": ""
            },
            "colorscale": [
             [
              0,
              "#0d0887"
             ],
             [
              0.1111111111111111,
              "#46039f"
             ],
             [
              0.2222222222222222,
              "#7201a8"
             ],
             [
              0.3333333333333333,
              "#9c179e"
             ],
             [
              0.4444444444444444,
              "#bd3786"
             ],
             [
              0.5555555555555556,
              "#d8576b"
             ],
             [
              0.6666666666666666,
              "#ed7953"
             ],
             [
              0.7777777777777778,
              "#fb9f3a"
             ],
             [
              0.8888888888888888,
              "#fdca26"
             ],
             [
              1,
              "#f0f921"
             ]
            ],
            "type": "histogram2d"
           }
          ],
          "histogram2dcontour": [
           {
            "colorbar": {
             "outlinewidth": 0,
             "ticks": ""
            },
            "colorscale": [
             [
              0,
              "#0d0887"
             ],
             [
              0.1111111111111111,
              "#46039f"
             ],
             [
              0.2222222222222222,
              "#7201a8"
             ],
             [
              0.3333333333333333,
              "#9c179e"
             ],
             [
              0.4444444444444444,
              "#bd3786"
             ],
             [
              0.5555555555555556,
              "#d8576b"
             ],
             [
              0.6666666666666666,
              "#ed7953"
             ],
             [
              0.7777777777777778,
              "#fb9f3a"
             ],
             [
              0.8888888888888888,
              "#fdca26"
             ],
             [
              1,
              "#f0f921"
             ]
            ],
            "type": "histogram2dcontour"
           }
          ],
          "mesh3d": [
           {
            "colorbar": {
             "outlinewidth": 0,
             "ticks": ""
            },
            "type": "mesh3d"
           }
          ],
          "parcoords": [
           {
            "line": {
             "colorbar": {
              "outlinewidth": 0,
              "ticks": ""
             }
            },
            "type": "parcoords"
           }
          ],
          "pie": [
           {
            "automargin": true,
            "type": "pie"
           }
          ],
          "scatter": [
           {
            "fillpattern": {
             "fillmode": "overlay",
             "size": 10,
             "solidity": 0.2
            },
            "type": "scatter"
           }
          ],
          "scatter3d": [
           {
            "line": {
             "colorbar": {
              "outlinewidth": 0,
              "ticks": ""
             }
            },
            "marker": {
             "colorbar": {
              "outlinewidth": 0,
              "ticks": ""
             }
            },
            "type": "scatter3d"
           }
          ],
          "scattercarpet": [
           {
            "marker": {
             "colorbar": {
              "outlinewidth": 0,
              "ticks": ""
             }
            },
            "type": "scattercarpet"
           }
          ],
          "scattergeo": [
           {
            "marker": {
             "colorbar": {
              "outlinewidth": 0,
              "ticks": ""
             }
            },
            "type": "scattergeo"
           }
          ],
          "scattergl": [
           {
            "marker": {
             "colorbar": {
              "outlinewidth": 0,
              "ticks": ""
             }
            },
            "type": "scattergl"
           }
          ],
          "scattermapbox": [
           {
            "marker": {
             "colorbar": {
              "outlinewidth": 0,
              "ticks": ""
             }
            },
            "type": "scattermapbox"
           }
          ],
          "scatterpolar": [
           {
            "marker": {
             "colorbar": {
              "outlinewidth": 0,
              "ticks": ""
             }
            },
            "type": "scatterpolar"
           }
          ],
          "scatterpolargl": [
           {
            "marker": {
             "colorbar": {
              "outlinewidth": 0,
              "ticks": ""
             }
            },
            "type": "scatterpolargl"
           }
          ],
          "scatterternary": [
           {
            "marker": {
             "colorbar": {
              "outlinewidth": 0,
              "ticks": ""
             }
            },
            "type": "scatterternary"
           }
          ],
          "surface": [
           {
            "colorbar": {
             "outlinewidth": 0,
             "ticks": ""
            },
            "colorscale": [
             [
              0,
              "#0d0887"
             ],
             [
              0.1111111111111111,
              "#46039f"
             ],
             [
              0.2222222222222222,
              "#7201a8"
             ],
             [
              0.3333333333333333,
              "#9c179e"
             ],
             [
              0.4444444444444444,
              "#bd3786"
             ],
             [
              0.5555555555555556,
              "#d8576b"
             ],
             [
              0.6666666666666666,
              "#ed7953"
             ],
             [
              0.7777777777777778,
              "#fb9f3a"
             ],
             [
              0.8888888888888888,
              "#fdca26"
             ],
             [
              1,
              "#f0f921"
             ]
            ],
            "type": "surface"
           }
          ],
          "table": [
           {
            "cells": {
             "fill": {
              "color": "#EBF0F8"
             },
             "line": {
              "color": "white"
             }
            },
            "header": {
             "fill": {
              "color": "#C8D4E3"
             },
             "line": {
              "color": "white"
             }
            },
            "type": "table"
           }
          ]
         },
         "layout": {
          "annotationdefaults": {
           "arrowcolor": "#2a3f5f",
           "arrowhead": 0,
           "arrowwidth": 1
          },
          "autotypenumbers": "strict",
          "coloraxis": {
           "colorbar": {
            "outlinewidth": 0,
            "ticks": ""
           }
          },
          "colorscale": {
           "diverging": [
            [
             0,
             "#8e0152"
            ],
            [
             0.1,
             "#c51b7d"
            ],
            [
             0.2,
             "#de77ae"
            ],
            [
             0.3,
             "#f1b6da"
            ],
            [
             0.4,
             "#fde0ef"
            ],
            [
             0.5,
             "#f7f7f7"
            ],
            [
             0.6,
             "#e6f5d0"
            ],
            [
             0.7,
             "#b8e186"
            ],
            [
             0.8,
             "#7fbc41"
            ],
            [
             0.9,
             "#4d9221"
            ],
            [
             1,
             "#276419"
            ]
           ],
           "sequential": [
            [
             0,
             "#0d0887"
            ],
            [
             0.1111111111111111,
             "#46039f"
            ],
            [
             0.2222222222222222,
             "#7201a8"
            ],
            [
             0.3333333333333333,
             "#9c179e"
            ],
            [
             0.4444444444444444,
             "#bd3786"
            ],
            [
             0.5555555555555556,
             "#d8576b"
            ],
            [
             0.6666666666666666,
             "#ed7953"
            ],
            [
             0.7777777777777778,
             "#fb9f3a"
            ],
            [
             0.8888888888888888,
             "#fdca26"
            ],
            [
             1,
             "#f0f921"
            ]
           ],
           "sequentialminus": [
            [
             0,
             "#0d0887"
            ],
            [
             0.1111111111111111,
             "#46039f"
            ],
            [
             0.2222222222222222,
             "#7201a8"
            ],
            [
             0.3333333333333333,
             "#9c179e"
            ],
            [
             0.4444444444444444,
             "#bd3786"
            ],
            [
             0.5555555555555556,
             "#d8576b"
            ],
            [
             0.6666666666666666,
             "#ed7953"
            ],
            [
             0.7777777777777778,
             "#fb9f3a"
            ],
            [
             0.8888888888888888,
             "#fdca26"
            ],
            [
             1,
             "#f0f921"
            ]
           ]
          },
          "colorway": [
           "#636efa",
           "#EF553B",
           "#00cc96",
           "#ab63fa",
           "#FFA15A",
           "#19d3f3",
           "#FF6692",
           "#B6E880",
           "#FF97FF",
           "#FECB52"
          ],
          "font": {
           "color": "#2a3f5f"
          },
          "geo": {
           "bgcolor": "white",
           "lakecolor": "white",
           "landcolor": "#E5ECF6",
           "showlakes": true,
           "showland": true,
           "subunitcolor": "white"
          },
          "hoverlabel": {
           "align": "left"
          },
          "hovermode": "closest",
          "mapbox": {
           "style": "light"
          },
          "paper_bgcolor": "white",
          "plot_bgcolor": "#E5ECF6",
          "polar": {
           "angularaxis": {
            "gridcolor": "white",
            "linecolor": "white",
            "ticks": ""
           },
           "bgcolor": "#E5ECF6",
           "radialaxis": {
            "gridcolor": "white",
            "linecolor": "white",
            "ticks": ""
           }
          },
          "scene": {
           "xaxis": {
            "backgroundcolor": "#E5ECF6",
            "gridcolor": "white",
            "gridwidth": 2,
            "linecolor": "white",
            "showbackground": true,
            "ticks": "",
            "zerolinecolor": "white"
           },
           "yaxis": {
            "backgroundcolor": "#E5ECF6",
            "gridcolor": "white",
            "gridwidth": 2,
            "linecolor": "white",
            "showbackground": true,
            "ticks": "",
            "zerolinecolor": "white"
           },
           "zaxis": {
            "backgroundcolor": "#E5ECF6",
            "gridcolor": "white",
            "gridwidth": 2,
            "linecolor": "white",
            "showbackground": true,
            "ticks": "",
            "zerolinecolor": "white"
           }
          },
          "shapedefaults": {
           "line": {
            "color": "#2a3f5f"
           }
          },
          "ternary": {
           "aaxis": {
            "gridcolor": "white",
            "linecolor": "white",
            "ticks": ""
           },
           "baxis": {
            "gridcolor": "white",
            "linecolor": "white",
            "ticks": ""
           },
           "bgcolor": "#E5ECF6",
           "caxis": {
            "gridcolor": "white",
            "linecolor": "white",
            "ticks": ""
           }
          },
          "title": {
           "x": 0.05
          },
          "xaxis": {
           "automargin": true,
           "gridcolor": "white",
           "linecolor": "white",
           "ticks": "",
           "title": {
            "standoff": 15
           },
           "zerolinecolor": "white",
           "zerolinewidth": 2
          },
          "yaxis": {
           "automargin": true,
           "gridcolor": "white",
           "linecolor": "white",
           "ticks": "",
           "title": {
            "standoff": 15
           },
           "zerolinecolor": "white",
           "zerolinewidth": 2
          }
         }
        },
        "title": {
         "text": "Зависимость количества итераций обучения от коэффициента обучения"
        },
        "width": 1280,
        "xaxis": {
         "title": {
          "text": "Коэффициент обучения"
         }
        },
        "yaxis": {
         "title": {
          "text": "Количество итераций обучения"
         }
        }
       }
      }
     },
     "metadata": {},
     "output_type": "display_data"
    }
   ],
   "source": [
    "alphas = np.linspace(0.0005, 0.002, endpoint=True, num=10)\n",
    "epochs_amount: list[int] = []\n",
    "for alpha in alphas:\n",
    "    dl = LRNN(n, p, alpha)\n",
    "    dl.train(train, 15000, learn_by_loss=True, max_loss=2500)\n",
    "    epochs_amount.append(dl.epoch)\n",
    "fig = go.Figure()\n",
    "fig.add_trace(go.Scatter(x=alphas, y=epochs_amount, mode='lines+markers'))\n",
    "fig.update_layout(title='Зависимость количества итераций обучения от коэффициента обучения',\n",
    "                  xaxis_title='Коэффициент обучения',\n",
    "                  yaxis_title='Количество итераций обучения',\n",
    "                  height=720, width=1280,\n",
    "                  font=dict(size=20))\n",
    "fig.show()"
   ]
  },
  {
   "cell_type": "markdown",
   "metadata": {},
   "source": [
    "## Relationship between hidden layer dimension and epochs"
   ]
  },
  {
   "cell_type": "code",
   "execution_count": 6,
   "metadata": {},
   "outputs": [
    {
     "name": "stdout",
     "output_type": "stream",
     "text": [
      "Epoch 1/15000, Loss: 2711.530340151997\n",
      "Epoch 2/15000, Loss: 2627.4342824417113\n",
      "Epoch 3/15000, Loss: 2584.4433081814545\n",
      "Epoch 4/15000, Loss: 2554.9317094896987\n",
      "Epoch 5/15000, Loss: 2534.9026828390165\n",
      "Epoch 6/15000, Loss: 2513.169374394399\n",
      "Epoch 7/15000, Loss: 2502.1969062652906\n",
      "Epoch 8/15000, Loss: 2488.498212420498\n",
      "Epoch 9/15000, Loss: 2473.9177579122024\n",
      "Epoch 10/15000, Loss: 2462.192764063666\n",
      "Epoch 11/15000, Loss: 2446.2233861397904\n",
      "Epoch 12/15000, Loss: 2434.3266106226665\n",
      "Epoch 13/15000, Loss: 2422.2842801275906\n",
      "Epoch 14/15000, Loss: 2411.6003404359703\n",
      "Epoch 15/15000, Loss: 2400.394580388398\n",
      "Epoch 16/15000, Loss: 2389.2188299392237\n",
      "Epoch 17/15000, Loss: 2377.8587283887287\n",
      "Epoch 18/15000, Loss: 2370.415189159642\n",
      "Epoch 19/15000, Loss: 2355.5866828640064\n",
      "Epoch 20/15000, Loss: 2349.037073715172\n",
      "Epoch 21/15000, Loss: 2336.4108758520233\n",
      "Epoch 22/15000, Loss: 2326.0241551134122\n",
      "Epoch 23/15000, Loss: 2320.0434526088934\n",
      "Epoch 24/15000, Loss: 2312.9298107797795\n",
      "Epoch 25/15000, Loss: 2301.7626071049544\n",
      "Epoch 26/15000, Loss: 2291.659179981679\n",
      "Epoch 27/15000, Loss: 2283.4905113193804\n",
      "Epoch 28/15000, Loss: 2274.6724027955865\n",
      "Epoch 29/15000, Loss: 2267.665061308464\n",
      "Epoch 30/15000, Loss: 2257.1747609196154\n",
      "Epoch 31/15000, Loss: 2247.168414112294\n",
      "Epoch 32/15000, Loss: 2239.9840033657783\n",
      "Epoch 33/15000, Loss: 2229.2903841590737\n",
      "Epoch 34/15000, Loss: 2223.239392523875\n",
      "Epoch 35/15000, Loss: 2214.441866056093\n",
      "Epoch 36/15000, Loss: 2205.6017360752185\n",
      "Epoch 37/15000, Loss: 2199.7512263399008\n",
      "Epoch 38/15000, Loss: 2192.752637995208\n",
      "Epoch 39/15000, Loss: 2185.7239225812173\n",
      "Epoch 40/15000, Loss: 2175.2233487591893\n",
      "Epoch 41/15000, Loss: 2167.938665129309\n",
      "Epoch 42/15000, Loss: 2160.1721011643217\n",
      "Epoch 43/15000, Loss: 2154.968562606159\n",
      "Epoch 44/15000, Loss: 2146.6745870808595\n",
      "Epoch 45/15000, Loss: 2140.3386677686435\n",
      "Epoch 46/15000, Loss: 2132.1227454552254\n",
      "Epoch 47/15000, Loss: 2126.1593064873496\n",
      "Epoch 48/15000, Loss: 2119.9770120901285\n",
      "Epoch 49/15000, Loss: 2110.8815170588596\n",
      "Epoch 50/15000, Loss: 2103.7048750278577\n",
      "Epoch 51/15000, Loss: 2095.245616711776\n",
      "Epoch 52/15000, Loss: 2089.2411563067853\n",
      "Epoch 53/15000, Loss: 2079.8587558993627\n",
      "Epoch 54/15000, Loss: 2072.7784115972763\n",
      "Epoch 55/15000, Loss: 2062.4126630381325\n",
      "Epoch 56/15000, Loss: 2055.8437029385236\n",
      "Epoch 57/15000, Loss: 2050.4987513882907\n",
      "Epoch 58/15000, Loss: 2042.7611525160553\n",
      "Epoch 59/15000, Loss: 2034.933021961729\n",
      "Epoch 60/15000, Loss: 2028.2936192167315\n",
      "Epoch 61/15000, Loss: 2019.095658885544\n",
      "Epoch 62/15000, Loss: 2011.1374096522957\n",
      "Epoch 63/15000, Loss: 2003.0604194007421\n",
      "Epoch 64/15000, Loss: 1995.2273129440105\n",
      "Epoch 1/15000, Loss: 2567.1507837709073\n",
      "Epoch 2/15000, Loss: 2503.670781368511\n",
      "Epoch 3/15000, Loss: 2466.3827062804335\n",
      "Epoch 4/15000, Loss: 2438.893444915719\n",
      "Epoch 5/15000, Loss: 2410.033959361274\n",
      "Epoch 6/15000, Loss: 2401.0643370864404\n",
      "Epoch 7/15000, Loss: 2380.6075569979007\n",
      "Epoch 8/15000, Loss: 2359.8249206438254\n",
      "Epoch 9/15000, Loss: 2349.0554526425017\n",
      "Epoch 10/15000, Loss: 2329.8355398685844\n",
      "Epoch 11/15000, Loss: 2313.0962043217123\n",
      "Epoch 12/15000, Loss: 2298.566574809733\n",
      "Epoch 13/15000, Loss: 2284.436029050301\n",
      "Epoch 14/15000, Loss: 2273.541243060022\n",
      "Epoch 15/15000, Loss: 2251.3811624786126\n",
      "Epoch 16/15000, Loss: 2237.5977013504503\n",
      "Epoch 17/15000, Loss: 2223.694051749873\n",
      "Epoch 18/15000, Loss: 2209.9624256356788\n",
      "Epoch 19/15000, Loss: 2190.2258642166707\n",
      "Epoch 20/15000, Loss: 2176.939580125533\n",
      "Epoch 21/15000, Loss: 2161.9484432422078\n",
      "Epoch 22/15000, Loss: 2150.906814665419\n",
      "Epoch 23/15000, Loss: 2137.51349340231\n",
      "Epoch 24/15000, Loss: 2118.3848948238156\n",
      "Epoch 25/15000, Loss: 2105.297835908019\n",
      "Epoch 26/15000, Loss: 2084.904979859616\n",
      "Epoch 27/15000, Loss: 2075.8329768803196\n",
      "Epoch 28/15000, Loss: 2066.242867169793\n",
      "Epoch 29/15000, Loss: 2048.053503691641\n",
      "Epoch 30/15000, Loss: 2037.003972428385\n",
      "Epoch 31/15000, Loss: 2030.6141703047313\n",
      "Epoch 32/15000, Loss: 2015.6413092383798\n",
      "Epoch 33/15000, Loss: 2008.932764491614\n",
      "Epoch 34/15000, Loss: 1997.989682845148\n",
      "Epoch 1/15000, Loss: 2711.3618453305535\n",
      "Epoch 2/15000, Loss: 2557.6621925644235\n",
      "Epoch 3/15000, Loss: 2475.258679943778\n",
      "Epoch 4/15000, Loss: 2417.632783555434\n",
      "Epoch 5/15000, Loss: 2380.231238426982\n",
      "Epoch 6/15000, Loss: 2342.1620264472685\n",
      "Epoch 7/15000, Loss: 2309.1111813099096\n",
      "Epoch 8/15000, Loss: 2274.9756073815247\n",
      "Epoch 9/15000, Loss: 2244.163642700621\n",
      "Epoch 10/15000, Loss: 2209.9174866011754\n",
      "Epoch 11/15000, Loss: 2176.762726331918\n",
      "Epoch 12/15000, Loss: 2151.076245328437\n",
      "Epoch 13/15000, Loss: 2119.096409560967\n",
      "Epoch 14/15000, Loss: 2088.551515837818\n",
      "Epoch 15/15000, Loss: 2066.859954950907\n",
      "Epoch 16/15000, Loss: 2037.9519749876042\n",
      "Epoch 17/15000, Loss: 2007.214169138903\n",
      "Epoch 18/15000, Loss: 1984.5278874534074\n",
      "Epoch 1/15000, Loss: 3311.4182525822134\n",
      "Epoch 2/15000, Loss: 2859.4600119092056\n",
      "Epoch 3/15000, Loss: 2630.4498585249776\n",
      "Epoch 4/15000, Loss: 2476.40083511574\n",
      "Epoch 5/15000, Loss: 2363.673772007601\n",
      "Epoch 6/15000, Loss: 2262.9134861031057\n",
      "Epoch 7/15000, Loss: 2168.957511645667\n",
      "Epoch 8/15000, Loss: 2085.537002696988\n",
      "Epoch 9/15000, Loss: 2008.8890667964115\n",
      "Epoch 10/15000, Loss: 1944.39813007113\n",
      "Epoch 1/15000, Loss: 2106.4878138529807\n",
      "Epoch 2/15000, Loss: 1960.9731462436557\n",
      "Epoch 1/15000, Loss: 3302.7002388390256\n",
      "Epoch 2/15000, Loss: 2819.4125776349397\n",
      "Epoch 3/15000, Loss: 2544.5365963937047\n",
      "Epoch 4/15000, Loss: 2356.048933622412\n",
      "Epoch 5/15000, Loss: 2222.0610525927464\n",
      "Epoch 6/15000, Loss: 2115.180936827769\n",
      "Epoch 7/15000, Loss: 2025.5456335385393\n",
      "Epoch 8/15000, Loss: 1955.6085432367324\n",
      "Epoch 1/15000, Loss: 2646.8031508275108\n",
      "Epoch 2/15000, Loss: 2356.779958171718\n",
      "Epoch 3/15000, Loss: 2179.126454146859\n",
      "Epoch 4/15000, Loss: 2046.7957306380265\n",
      "Epoch 5/15000, Loss: 1947.8187041037468\n"
     ]
    },
    {
     "data": {
      "application/vnd.plotly.v1+json": {
       "config": {
        "plotlyServerURL": "https://plot.ly"
       },
       "data": [
        {
         "mode": "lines+markers",
         "type": "scatter",
         "x": [
          4.868865229810439,
          3.2745371987425775,
          2.466780686751743,
          1.978682988602786,
          1.6518368425689367,
          1.4176621805534553,
          1.2416396265148004
         ],
         "y": [
          64,
          34,
          18,
          10,
          2,
          8,
          5
         ]
        }
       ],
       "layout": {
        "font": {
         "size": 20
        },
        "height": 720,
        "template": {
         "data": {
          "bar": [
           {
            "error_x": {
             "color": "#2a3f5f"
            },
            "error_y": {
             "color": "#2a3f5f"
            },
            "marker": {
             "line": {
              "color": "#E5ECF6",
              "width": 0.5
             },
             "pattern": {
              "fillmode": "overlay",
              "size": 10,
              "solidity": 0.2
             }
            },
            "type": "bar"
           }
          ],
          "barpolar": [
           {
            "marker": {
             "line": {
              "color": "#E5ECF6",
              "width": 0.5
             },
             "pattern": {
              "fillmode": "overlay",
              "size": 10,
              "solidity": 0.2
             }
            },
            "type": "barpolar"
           }
          ],
          "carpet": [
           {
            "aaxis": {
             "endlinecolor": "#2a3f5f",
             "gridcolor": "white",
             "linecolor": "white",
             "minorgridcolor": "white",
             "startlinecolor": "#2a3f5f"
            },
            "baxis": {
             "endlinecolor": "#2a3f5f",
             "gridcolor": "white",
             "linecolor": "white",
             "minorgridcolor": "white",
             "startlinecolor": "#2a3f5f"
            },
            "type": "carpet"
           }
          ],
          "choropleth": [
           {
            "colorbar": {
             "outlinewidth": 0,
             "ticks": ""
            },
            "type": "choropleth"
           }
          ],
          "contour": [
           {
            "colorbar": {
             "outlinewidth": 0,
             "ticks": ""
            },
            "colorscale": [
             [
              0,
              "#0d0887"
             ],
             [
              0.1111111111111111,
              "#46039f"
             ],
             [
              0.2222222222222222,
              "#7201a8"
             ],
             [
              0.3333333333333333,
              "#9c179e"
             ],
             [
              0.4444444444444444,
              "#bd3786"
             ],
             [
              0.5555555555555556,
              "#d8576b"
             ],
             [
              0.6666666666666666,
              "#ed7953"
             ],
             [
              0.7777777777777778,
              "#fb9f3a"
             ],
             [
              0.8888888888888888,
              "#fdca26"
             ],
             [
              1,
              "#f0f921"
             ]
            ],
            "type": "contour"
           }
          ],
          "contourcarpet": [
           {
            "colorbar": {
             "outlinewidth": 0,
             "ticks": ""
            },
            "type": "contourcarpet"
           }
          ],
          "heatmap": [
           {
            "colorbar": {
             "outlinewidth": 0,
             "ticks": ""
            },
            "colorscale": [
             [
              0,
              "#0d0887"
             ],
             [
              0.1111111111111111,
              "#46039f"
             ],
             [
              0.2222222222222222,
              "#7201a8"
             ],
             [
              0.3333333333333333,
              "#9c179e"
             ],
             [
              0.4444444444444444,
              "#bd3786"
             ],
             [
              0.5555555555555556,
              "#d8576b"
             ],
             [
              0.6666666666666666,
              "#ed7953"
             ],
             [
              0.7777777777777778,
              "#fb9f3a"
             ],
             [
              0.8888888888888888,
              "#fdca26"
             ],
             [
              1,
              "#f0f921"
             ]
            ],
            "type": "heatmap"
           }
          ],
          "heatmapgl": [
           {
            "colorbar": {
             "outlinewidth": 0,
             "ticks": ""
            },
            "colorscale": [
             [
              0,
              "#0d0887"
             ],
             [
              0.1111111111111111,
              "#46039f"
             ],
             [
              0.2222222222222222,
              "#7201a8"
             ],
             [
              0.3333333333333333,
              "#9c179e"
             ],
             [
              0.4444444444444444,
              "#bd3786"
             ],
             [
              0.5555555555555556,
              "#d8576b"
             ],
             [
              0.6666666666666666,
              "#ed7953"
             ],
             [
              0.7777777777777778,
              "#fb9f3a"
             ],
             [
              0.8888888888888888,
              "#fdca26"
             ],
             [
              1,
              "#f0f921"
             ]
            ],
            "type": "heatmapgl"
           }
          ],
          "histogram": [
           {
            "marker": {
             "pattern": {
              "fillmode": "overlay",
              "size": 10,
              "solidity": 0.2
             }
            },
            "type": "histogram"
           }
          ],
          "histogram2d": [
           {
            "colorbar": {
             "outlinewidth": 0,
             "ticks": ""
            },
            "colorscale": [
             [
              0,
              "#0d0887"
             ],
             [
              0.1111111111111111,
              "#46039f"
             ],
             [
              0.2222222222222222,
              "#7201a8"
             ],
             [
              0.3333333333333333,
              "#9c179e"
             ],
             [
              0.4444444444444444,
              "#bd3786"
             ],
             [
              0.5555555555555556,
              "#d8576b"
             ],
             [
              0.6666666666666666,
              "#ed7953"
             ],
             [
              0.7777777777777778,
              "#fb9f3a"
             ],
             [
              0.8888888888888888,
              "#fdca26"
             ],
             [
              1,
              "#f0f921"
             ]
            ],
            "type": "histogram2d"
           }
          ],
          "histogram2dcontour": [
           {
            "colorbar": {
             "outlinewidth": 0,
             "ticks": ""
            },
            "colorscale": [
             [
              0,
              "#0d0887"
             ],
             [
              0.1111111111111111,
              "#46039f"
             ],
             [
              0.2222222222222222,
              "#7201a8"
             ],
             [
              0.3333333333333333,
              "#9c179e"
             ],
             [
              0.4444444444444444,
              "#bd3786"
             ],
             [
              0.5555555555555556,
              "#d8576b"
             ],
             [
              0.6666666666666666,
              "#ed7953"
             ],
             [
              0.7777777777777778,
              "#fb9f3a"
             ],
             [
              0.8888888888888888,
              "#fdca26"
             ],
             [
              1,
              "#f0f921"
             ]
            ],
            "type": "histogram2dcontour"
           }
          ],
          "mesh3d": [
           {
            "colorbar": {
             "outlinewidth": 0,
             "ticks": ""
            },
            "type": "mesh3d"
           }
          ],
          "parcoords": [
           {
            "line": {
             "colorbar": {
              "outlinewidth": 0,
              "ticks": ""
             }
            },
            "type": "parcoords"
           }
          ],
          "pie": [
           {
            "automargin": true,
            "type": "pie"
           }
          ],
          "scatter": [
           {
            "fillpattern": {
             "fillmode": "overlay",
             "size": 10,
             "solidity": 0.2
            },
            "type": "scatter"
           }
          ],
          "scatter3d": [
           {
            "line": {
             "colorbar": {
              "outlinewidth": 0,
              "ticks": ""
             }
            },
            "marker": {
             "colorbar": {
              "outlinewidth": 0,
              "ticks": ""
             }
            },
            "type": "scatter3d"
           }
          ],
          "scattercarpet": [
           {
            "marker": {
             "colorbar": {
              "outlinewidth": 0,
              "ticks": ""
             }
            },
            "type": "scattercarpet"
           }
          ],
          "scattergeo": [
           {
            "marker": {
             "colorbar": {
              "outlinewidth": 0,
              "ticks": ""
             }
            },
            "type": "scattergeo"
           }
          ],
          "scattergl": [
           {
            "marker": {
             "colorbar": {
              "outlinewidth": 0,
              "ticks": ""
             }
            },
            "type": "scattergl"
           }
          ],
          "scattermapbox": [
           {
            "marker": {
             "colorbar": {
              "outlinewidth": 0,
              "ticks": ""
             }
            },
            "type": "scattermapbox"
           }
          ],
          "scatterpolar": [
           {
            "marker": {
             "colorbar": {
              "outlinewidth": 0,
              "ticks": ""
             }
            },
            "type": "scatterpolar"
           }
          ],
          "scatterpolargl": [
           {
            "marker": {
             "colorbar": {
              "outlinewidth": 0,
              "ticks": ""
             }
            },
            "type": "scatterpolargl"
           }
          ],
          "scatterternary": [
           {
            "marker": {
             "colorbar": {
              "outlinewidth": 0,
              "ticks": ""
             }
            },
            "type": "scatterternary"
           }
          ],
          "surface": [
           {
            "colorbar": {
             "outlinewidth": 0,
             "ticks": ""
            },
            "colorscale": [
             [
              0,
              "#0d0887"
             ],
             [
              0.1111111111111111,
              "#46039f"
             ],
             [
              0.2222222222222222,
              "#7201a8"
             ],
             [
              0.3333333333333333,
              "#9c179e"
             ],
             [
              0.4444444444444444,
              "#bd3786"
             ],
             [
              0.5555555555555556,
              "#d8576b"
             ],
             [
              0.6666666666666666,
              "#ed7953"
             ],
             [
              0.7777777777777778,
              "#fb9f3a"
             ],
             [
              0.8888888888888888,
              "#fdca26"
             ],
             [
              1,
              "#f0f921"
             ]
            ],
            "type": "surface"
           }
          ],
          "table": [
           {
            "cells": {
             "fill": {
              "color": "#EBF0F8"
             },
             "line": {
              "color": "white"
             }
            },
            "header": {
             "fill": {
              "color": "#C8D4E3"
             },
             "line": {
              "color": "white"
             }
            },
            "type": "table"
           }
          ]
         },
         "layout": {
          "annotationdefaults": {
           "arrowcolor": "#2a3f5f",
           "arrowhead": 0,
           "arrowwidth": 1
          },
          "autotypenumbers": "strict",
          "coloraxis": {
           "colorbar": {
            "outlinewidth": 0,
            "ticks": ""
           }
          },
          "colorscale": {
           "diverging": [
            [
             0,
             "#8e0152"
            ],
            [
             0.1,
             "#c51b7d"
            ],
            [
             0.2,
             "#de77ae"
            ],
            [
             0.3,
             "#f1b6da"
            ],
            [
             0.4,
             "#fde0ef"
            ],
            [
             0.5,
             "#f7f7f7"
            ],
            [
             0.6,
             "#e6f5d0"
            ],
            [
             0.7,
             "#b8e186"
            ],
            [
             0.8,
             "#7fbc41"
            ],
            [
             0.9,
             "#4d9221"
            ],
            [
             1,
             "#276419"
            ]
           ],
           "sequential": [
            [
             0,
             "#0d0887"
            ],
            [
             0.1111111111111111,
             "#46039f"
            ],
            [
             0.2222222222222222,
             "#7201a8"
            ],
            [
             0.3333333333333333,
             "#9c179e"
            ],
            [
             0.4444444444444444,
             "#bd3786"
            ],
            [
             0.5555555555555556,
             "#d8576b"
            ],
            [
             0.6666666666666666,
             "#ed7953"
            ],
            [
             0.7777777777777778,
             "#fb9f3a"
            ],
            [
             0.8888888888888888,
             "#fdca26"
            ],
            [
             1,
             "#f0f921"
            ]
           ],
           "sequentialminus": [
            [
             0,
             "#0d0887"
            ],
            [
             0.1111111111111111,
             "#46039f"
            ],
            [
             0.2222222222222222,
             "#7201a8"
            ],
            [
             0.3333333333333333,
             "#9c179e"
            ],
            [
             0.4444444444444444,
             "#bd3786"
            ],
            [
             0.5555555555555556,
             "#d8576b"
            ],
            [
             0.6666666666666666,
             "#ed7953"
            ],
            [
             0.7777777777777778,
             "#fb9f3a"
            ],
            [
             0.8888888888888888,
             "#fdca26"
            ],
            [
             1,
             "#f0f921"
            ]
           ]
          },
          "colorway": [
           "#636efa",
           "#EF553B",
           "#00cc96",
           "#ab63fa",
           "#FFA15A",
           "#19d3f3",
           "#FF6692",
           "#B6E880",
           "#FF97FF",
           "#FECB52"
          ],
          "font": {
           "color": "#2a3f5f"
          },
          "geo": {
           "bgcolor": "white",
           "lakecolor": "white",
           "landcolor": "#E5ECF6",
           "showlakes": true,
           "showland": true,
           "subunitcolor": "white"
          },
          "hoverlabel": {
           "align": "left"
          },
          "hovermode": "closest",
          "mapbox": {
           "style": "light"
          },
          "paper_bgcolor": "white",
          "plot_bgcolor": "#E5ECF6",
          "polar": {
           "angularaxis": {
            "gridcolor": "white",
            "linecolor": "white",
            "ticks": ""
           },
           "bgcolor": "#E5ECF6",
           "radialaxis": {
            "gridcolor": "white",
            "linecolor": "white",
            "ticks": ""
           }
          },
          "scene": {
           "xaxis": {
            "backgroundcolor": "#E5ECF6",
            "gridcolor": "white",
            "gridwidth": 2,
            "linecolor": "white",
            "showbackground": true,
            "ticks": "",
            "zerolinecolor": "white"
           },
           "yaxis": {
            "backgroundcolor": "#E5ECF6",
            "gridcolor": "white",
            "gridwidth": 2,
            "linecolor": "white",
            "showbackground": true,
            "ticks": "",
            "zerolinecolor": "white"
           },
           "zaxis": {
            "backgroundcolor": "#E5ECF6",
            "gridcolor": "white",
            "gridwidth": 2,
            "linecolor": "white",
            "showbackground": true,
            "ticks": "",
            "zerolinecolor": "white"
           }
          },
          "shapedefaults": {
           "line": {
            "color": "#2a3f5f"
           }
          },
          "ternary": {
           "aaxis": {
            "gridcolor": "white",
            "linecolor": "white",
            "ticks": ""
           },
           "baxis": {
            "gridcolor": "white",
            "linecolor": "white",
            "ticks": ""
           },
           "bgcolor": "#E5ECF6",
           "caxis": {
            "gridcolor": "white",
            "linecolor": "white",
            "ticks": ""
           }
          },
          "title": {
           "x": 0.05
          },
          "xaxis": {
           "automargin": true,
           "gridcolor": "white",
           "linecolor": "white",
           "ticks": "",
           "title": {
            "standoff": 15
           },
           "zerolinecolor": "white",
           "zerolinewidth": 2
          },
          "yaxis": {
           "automargin": true,
           "gridcolor": "white",
           "linecolor": "white",
           "ticks": "",
           "title": {
            "standoff": 15
           },
           "zerolinecolor": "white",
           "zerolinewidth": 2
          }
         }
        },
        "title": {
         "text": "Зависимость количества итераций обучения от коэффициента сжатия"
        },
        "width": 1280,
        "xaxis": {
         "title": {
          "text": "Коэффициент сжатия"
         }
        },
        "yaxis": {
         "title": {
          "text": "Количество итераций обучения"
         }
        }
       }
      }
     },
     "metadata": {},
     "output_type": "display_data"
    }
   ],
   "source": [
    "p_s = (10, 15, 20, 25, 30, 35, 40)\n",
    "epochs_amount: list[int] = []\n",
    "compression_rates: list[float] = []\n",
    "for p in p_s:    \n",
    "    dl = LRNN(n, p, 0.001)\n",
    "    dl.train(train, 15000, learn_by_loss=True, max_loss=2000)\n",
    "    epochs_amount.append(dl.epoch)\n",
    "\n",
    "    compressed = compress_image(dl.W_enc, img_array, COLOR_CHANNELS_AMOUNT, block_height, block_width, 0)\n",
    "    compression_info_size = (\n",
    "        compressed.size * compressed.itemsize +\n",
    "        network.W_dec.size * network.W_dec.itemsize +\n",
    "        np.array(shape).size * np.array(shape).itemsize +\n",
    "        np.array((block_height, block_width)).size * np.array((block_height, block_width)).itemsize \n",
    "    ) * 8\n",
    "    compression_rates.append((img_array.size * img_array.itemsize * 8) / compression_info_size)\n",
    "\n",
    "fig = go.Figure()\n",
    "fig.add_trace(go.Scatter(x=compression_rates, y=epochs_amount, mode='lines+markers'))\n",
    "fig.update_layout(title='Зависимость количества итераций обучения от коэффициента сжатия',\n",
    "                  xaxis_title='Коэффициент сжатия',\n",
    "                  yaxis_title='Количество итераций обучения',\n",
    "                  height=720, width=1280,\n",
    "                  font=dict(size=20))\n",
    "fig.show()"
   ]
  },
  {
   "cell_type": "markdown",
   "metadata": {},
   "source": [
    "## Relationship between max error and epochs"
   ]
  },
  {
   "cell_type": "code",
   "execution_count": 7,
   "metadata": {},
   "outputs": [
    {
     "name": "stdout",
     "output_type": "stream",
     "text": [
      "Epoch 1/15000, Loss: 4665.672604264205\n",
      "Epoch 2/15000, Loss: 3167.233233628509\n",
      "Epoch 3/15000, Loss: 2634.8403086877834\n",
      "Epoch 4/15000, Loss: 2326.529201195101\n",
      "Epoch 5/15000, Loss: 2117.6977322785\n",
      "Epoch 6/15000, Loss: 1966.0699706354687\n",
      "Epoch 7/15000, Loss: 1850.7562318353914\n",
      "Epoch 8/15000, Loss: 1752.8642179101196\n",
      "Epoch 9/15000, Loss: 1675.6166612566767\n",
      "Epoch 10/15000, Loss: 1605.2086052563445\n",
      "Epoch 11/15000, Loss: 1545.2871284315154\n",
      "Epoch 12/15000, Loss: 1502.1897451315572\n",
      "Epoch 13/15000, Loss: 1457.8382660826855\n",
      "Epoch 14/15000, Loss: 1418.4960833015307\n",
      "Epoch 15/15000, Loss: 1381.4662302854656\n",
      "Epoch 16/15000, Loss: 1351.3975139782337\n",
      "Epoch 17/15000, Loss: 1321.3222042233278\n",
      "Epoch 18/15000, Loss: 1295.1961469698322\n",
      "Epoch 19/15000, Loss: 1271.9741931978847\n",
      "Epoch 20/15000, Loss: 1252.9975071214956\n",
      "Epoch 21/15000, Loss: 1231.401643556246\n",
      "Epoch 22/15000, Loss: 1211.4050165965873\n",
      "Epoch 23/15000, Loss: 1194.2166375827117\n",
      "Epoch 24/15000, Loss: 1179.7361139187815\n",
      "Epoch 25/15000, Loss: 1165.0830461620308\n",
      "Epoch 26/15000, Loss: 1150.062066307625\n",
      "Epoch 27/15000, Loss: 1136.5486090396287\n",
      "Epoch 28/15000, Loss: 1124.500241133143\n",
      "Epoch 29/15000, Loss: 1113.7538505133598\n",
      "Epoch 30/15000, Loss: 1102.9745974132152\n",
      "Epoch 31/15000, Loss: 1095.883219336244\n",
      "Epoch 32/15000, Loss: 1084.1224372476881\n",
      "Epoch 33/15000, Loss: 1073.2070182644827\n",
      "Epoch 34/15000, Loss: 1065.1308097358865\n",
      "Epoch 35/15000, Loss: 1053.216851305376\n",
      "Epoch 36/15000, Loss: 1046.7678385120032\n",
      "Epoch 37/15000, Loss: 1038.2399431236818\n",
      "Epoch 38/15000, Loss: 1031.0844893586723\n",
      "Epoch 39/15000, Loss: 1023.384171137966\n",
      "Epoch 40/15000, Loss: 1014.739251799879\n",
      "Epoch 41/15000, Loss: 1009.2505128208647\n",
      "Epoch 42/15000, Loss: 1002.9924630161449\n",
      "Epoch 43/15000, Loss: 996.0990825035421\n",
      "Epoch 1/15000, Loss: 4665.672604264205\n",
      "Epoch 2/15000, Loss: 3167.233233628509\n",
      "Epoch 3/15000, Loss: 2634.8403086877834\n",
      "Epoch 4/15000, Loss: 2326.529201195101\n",
      "Epoch 5/15000, Loss: 2117.6977322785\n",
      "Epoch 6/15000, Loss: 1966.0699706354687\n",
      "Epoch 7/15000, Loss: 1850.7562318353914\n",
      "Epoch 8/15000, Loss: 1752.8642179101196\n",
      "Epoch 9/15000, Loss: 1675.6166612566767\n",
      "Epoch 10/15000, Loss: 1605.2086052563445\n",
      "Epoch 11/15000, Loss: 1545.2871284315154\n",
      "Epoch 12/15000, Loss: 1502.1897451315572\n",
      "Epoch 13/15000, Loss: 1457.8382660826855\n",
      "Epoch 14/15000, Loss: 1418.4960833015307\n",
      "Epoch 15/15000, Loss: 1381.4662302854656\n",
      "Epoch 16/15000, Loss: 1351.3975139782337\n",
      "Epoch 17/15000, Loss: 1321.3222042233278\n",
      "Epoch 18/15000, Loss: 1295.1961469698322\n",
      "Epoch 19/15000, Loss: 1271.9741931978847\n",
      "Epoch 20/15000, Loss: 1252.9975071214956\n",
      "Epoch 21/15000, Loss: 1231.401643556246\n",
      "Epoch 22/15000, Loss: 1211.4050165965873\n",
      "Epoch 23/15000, Loss: 1194.2166375827117\n",
      "Epoch 24/15000, Loss: 1179.7361139187815\n",
      "Epoch 25/15000, Loss: 1165.0830461620308\n",
      "Epoch 26/15000, Loss: 1150.062066307625\n",
      "Epoch 27/15000, Loss: 1136.5486090396287\n",
      "Epoch 28/15000, Loss: 1124.500241133143\n",
      "Epoch 29/15000, Loss: 1113.7538505133598\n",
      "Epoch 30/15000, Loss: 1102.9745974132152\n",
      "Epoch 31/15000, Loss: 1095.883219336244\n",
      "Epoch 1/15000, Loss: 4665.672604264205\n",
      "Epoch 2/15000, Loss: 3167.233233628509\n",
      "Epoch 3/15000, Loss: 2634.8403086877834\n",
      "Epoch 4/15000, Loss: 2326.529201195101\n",
      "Epoch 5/15000, Loss: 2117.6977322785\n",
      "Epoch 6/15000, Loss: 1966.0699706354687\n",
      "Epoch 7/15000, Loss: 1850.7562318353914\n",
      "Epoch 8/15000, Loss: 1752.8642179101196\n",
      "Epoch 9/15000, Loss: 1675.6166612566767\n",
      "Epoch 10/15000, Loss: 1605.2086052563445\n",
      "Epoch 11/15000, Loss: 1545.2871284315154\n",
      "Epoch 12/15000, Loss: 1502.1897451315572\n",
      "Epoch 13/15000, Loss: 1457.8382660826855\n",
      "Epoch 14/15000, Loss: 1418.4960833015307\n",
      "Epoch 15/15000, Loss: 1381.4662302854656\n",
      "Epoch 16/15000, Loss: 1351.3975139782337\n",
      "Epoch 17/15000, Loss: 1321.3222042233278\n",
      "Epoch 18/15000, Loss: 1295.1961469698322\n",
      "Epoch 19/15000, Loss: 1271.9741931978847\n",
      "Epoch 20/15000, Loss: 1252.9975071214956\n",
      "Epoch 21/15000, Loss: 1231.401643556246\n",
      "Epoch 22/15000, Loss: 1211.4050165965873\n",
      "Epoch 23/15000, Loss: 1194.2166375827117\n",
      "Epoch 1/15000, Loss: 4665.672604264205\n",
      "Epoch 2/15000, Loss: 3167.233233628509\n",
      "Epoch 3/15000, Loss: 2634.8403086877834\n",
      "Epoch 4/15000, Loss: 2326.529201195101\n",
      "Epoch 5/15000, Loss: 2117.6977322785\n",
      "Epoch 6/15000, Loss: 1966.0699706354687\n",
      "Epoch 7/15000, Loss: 1850.7562318353914\n",
      "Epoch 8/15000, Loss: 1752.8642179101196\n",
      "Epoch 9/15000, Loss: 1675.6166612566767\n",
      "Epoch 10/15000, Loss: 1605.2086052563445\n",
      "Epoch 11/15000, Loss: 1545.2871284315154\n",
      "Epoch 12/15000, Loss: 1502.1897451315572\n",
      "Epoch 13/15000, Loss: 1457.8382660826855\n",
      "Epoch 14/15000, Loss: 1418.4960833015307\n",
      "Epoch 15/15000, Loss: 1381.4662302854656\n",
      "Epoch 16/15000, Loss: 1351.3975139782337\n",
      "Epoch 17/15000, Loss: 1321.3222042233278\n",
      "Epoch 18/15000, Loss: 1295.1961469698322\n",
      "Epoch 1/15000, Loss: 4665.672604264205\n",
      "Epoch 2/15000, Loss: 3167.233233628509\n",
      "Epoch 3/15000, Loss: 2634.8403086877834\n",
      "Epoch 4/15000, Loss: 2326.529201195101\n",
      "Epoch 5/15000, Loss: 2117.6977322785\n",
      "Epoch 6/15000, Loss: 1966.0699706354687\n",
      "Epoch 7/15000, Loss: 1850.7562318353914\n",
      "Epoch 8/15000, Loss: 1752.8642179101196\n",
      "Epoch 9/15000, Loss: 1675.6166612566767\n",
      "Epoch 10/15000, Loss: 1605.2086052563445\n",
      "Epoch 11/15000, Loss: 1545.2871284315154\n",
      "Epoch 12/15000, Loss: 1502.1897451315572\n",
      "Epoch 13/15000, Loss: 1457.8382660826855\n",
      "Epoch 14/15000, Loss: 1418.4960833015307\n",
      "Epoch 15/15000, Loss: 1381.4662302854656\n",
      "Epoch 1/15000, Loss: 4665.672604264205\n",
      "Epoch 2/15000, Loss: 3167.233233628509\n",
      "Epoch 3/15000, Loss: 2634.8403086877834\n",
      "Epoch 4/15000, Loss: 2326.529201195101\n",
      "Epoch 5/15000, Loss: 2117.6977322785\n",
      "Epoch 6/15000, Loss: 1966.0699706354687\n",
      "Epoch 7/15000, Loss: 1850.7562318353914\n",
      "Epoch 8/15000, Loss: 1752.8642179101196\n",
      "Epoch 9/15000, Loss: 1675.6166612566767\n",
      "Epoch 10/15000, Loss: 1605.2086052563445\n",
      "Epoch 11/15000, Loss: 1545.2871284315154\n",
      "Epoch 12/15000, Loss: 1502.1897451315572\n",
      "Epoch 13/15000, Loss: 1457.8382660826855\n",
      "Epoch 1/15000, Loss: 4665.672604264205\n",
      "Epoch 2/15000, Loss: 3167.233233628509\n",
      "Epoch 3/15000, Loss: 2634.8403086877834\n",
      "Epoch 4/15000, Loss: 2326.529201195101\n",
      "Epoch 5/15000, Loss: 2117.6977322785\n",
      "Epoch 6/15000, Loss: 1966.0699706354687\n",
      "Epoch 7/15000, Loss: 1850.7562318353914\n",
      "Epoch 8/15000, Loss: 1752.8642179101196\n",
      "Epoch 9/15000, Loss: 1675.6166612566767\n",
      "Epoch 10/15000, Loss: 1605.2086052563445\n",
      "Epoch 11/15000, Loss: 1545.2871284315154\n",
      "Epoch 1/15000, Loss: 4665.672604264205\n",
      "Epoch 2/15000, Loss: 3167.233233628509\n",
      "Epoch 3/15000, Loss: 2634.8403086877834\n",
      "Epoch 4/15000, Loss: 2326.529201195101\n",
      "Epoch 5/15000, Loss: 2117.6977322785\n",
      "Epoch 6/15000, Loss: 1966.0699706354687\n",
      "Epoch 7/15000, Loss: 1850.7562318353914\n",
      "Epoch 8/15000, Loss: 1752.8642179101196\n",
      "Epoch 9/15000, Loss: 1675.6166612566767\n",
      "Epoch 1/15000, Loss: 4665.672604264205\n",
      "Epoch 2/15000, Loss: 3167.233233628509\n",
      "Epoch 3/15000, Loss: 2634.8403086877834\n",
      "Epoch 4/15000, Loss: 2326.529201195101\n",
      "Epoch 5/15000, Loss: 2117.6977322785\n",
      "Epoch 6/15000, Loss: 1966.0699706354687\n",
      "Epoch 7/15000, Loss: 1850.7562318353914\n",
      "Epoch 8/15000, Loss: 1752.8642179101196\n",
      "Epoch 1/15000, Loss: 4665.672604264205\n",
      "Epoch 2/15000, Loss: 3167.233233628509\n",
      "Epoch 3/15000, Loss: 2634.8403086877834\n",
      "Epoch 4/15000, Loss: 2326.529201195101\n",
      "Epoch 5/15000, Loss: 2117.6977322785\n",
      "Epoch 6/15000, Loss: 1966.0699706354687\n",
      "Epoch 7/15000, Loss: 1850.7562318353914\n",
      "Epoch 1/15000, Loss: 4665.672604264205\n",
      "Epoch 2/15000, Loss: 3167.233233628509\n",
      "Epoch 3/15000, Loss: 2634.8403086877834\n",
      "Epoch 4/15000, Loss: 2326.529201195101\n",
      "Epoch 5/15000, Loss: 2117.6977322785\n",
      "Epoch 6/15000, Loss: 1966.0699706354687\n",
      "Epoch 1/15000, Loss: 4665.672604264205\n",
      "Epoch 2/15000, Loss: 3167.233233628509\n",
      "Epoch 3/15000, Loss: 2634.8403086877834\n",
      "Epoch 4/15000, Loss: 2326.529201195101\n",
      "Epoch 5/15000, Loss: 2117.6977322785\n",
      "Epoch 6/15000, Loss: 1966.0699706354687\n",
      "Epoch 1/15000, Loss: 4665.672604264205\n",
      "Epoch 2/15000, Loss: 3167.233233628509\n",
      "Epoch 3/15000, Loss: 2634.8403086877834\n",
      "Epoch 4/15000, Loss: 2326.529201195101\n",
      "Epoch 5/15000, Loss: 2117.6977322785\n",
      "Epoch 1/15000, Loss: 4665.672604264205\n",
      "Epoch 2/15000, Loss: 3167.233233628509\n",
      "Epoch 3/15000, Loss: 2634.8403086877834\n",
      "Epoch 4/15000, Loss: 2326.529201195101\n",
      "Epoch 5/15000, Loss: 2117.6977322785\n",
      "Epoch 1/15000, Loss: 4665.672604264205\n",
      "Epoch 2/15000, Loss: 3167.233233628509\n",
      "Epoch 3/15000, Loss: 2634.8403086877834\n",
      "Epoch 4/15000, Loss: 2326.529201195101\n",
      "Epoch 1/15000, Loss: 4665.672604264205\n",
      "Epoch 2/15000, Loss: 3167.233233628509\n",
      "Epoch 3/15000, Loss: 2634.8403086877834\n",
      "Epoch 4/15000, Loss: 2326.529201195101\n",
      "Epoch 1/15000, Loss: 4665.672604264205\n",
      "Epoch 2/15000, Loss: 3167.233233628509\n",
      "Epoch 3/15000, Loss: 2634.8403086877834\n",
      "Epoch 4/15000, Loss: 2326.529201195101\n",
      "Epoch 1/15000, Loss: 4665.672604264205\n",
      "Epoch 2/15000, Loss: 3167.233233628509\n",
      "Epoch 3/15000, Loss: 2634.8403086877834\n",
      "Epoch 1/15000, Loss: 4665.672604264205\n",
      "Epoch 2/15000, Loss: 3167.233233628509\n",
      "Epoch 3/15000, Loss: 2634.8403086877834\n",
      "Epoch 1/15000, Loss: 4665.672604264205\n",
      "Epoch 2/15000, Loss: 3167.233233628509\n",
      "Epoch 3/15000, Loss: 2634.8403086877834\n"
     ]
    },
    {
     "data": {
      "application/vnd.plotly.v1+json": {
       "config": {
        "plotlyServerURL": "https://plot.ly"
       },
       "data": [
        {
         "mode": "lines+markers",
         "type": "scatter",
         "x": [
          1000,
          1100,
          1200,
          1300,
          1400,
          1500,
          1600,
          1700,
          1800,
          1900,
          2000,
          2100,
          2200,
          2300,
          2400,
          2500,
          2600,
          2700,
          2800,
          2900
         ],
         "y": [
          43,
          31,
          23,
          18,
          15,
          13,
          11,
          9,
          8,
          7,
          6,
          6,
          5,
          5,
          4,
          4,
          4,
          3,
          3,
          3
         ]
        }
       ],
       "layout": {
        "font": {
         "size": 20
        },
        "height": 720,
        "template": {
         "data": {
          "bar": [
           {
            "error_x": {
             "color": "#2a3f5f"
            },
            "error_y": {
             "color": "#2a3f5f"
            },
            "marker": {
             "line": {
              "color": "#E5ECF6",
              "width": 0.5
             },
             "pattern": {
              "fillmode": "overlay",
              "size": 10,
              "solidity": 0.2
             }
            },
            "type": "bar"
           }
          ],
          "barpolar": [
           {
            "marker": {
             "line": {
              "color": "#E5ECF6",
              "width": 0.5
             },
             "pattern": {
              "fillmode": "overlay",
              "size": 10,
              "solidity": 0.2
             }
            },
            "type": "barpolar"
           }
          ],
          "carpet": [
           {
            "aaxis": {
             "endlinecolor": "#2a3f5f",
             "gridcolor": "white",
             "linecolor": "white",
             "minorgridcolor": "white",
             "startlinecolor": "#2a3f5f"
            },
            "baxis": {
             "endlinecolor": "#2a3f5f",
             "gridcolor": "white",
             "linecolor": "white",
             "minorgridcolor": "white",
             "startlinecolor": "#2a3f5f"
            },
            "type": "carpet"
           }
          ],
          "choropleth": [
           {
            "colorbar": {
             "outlinewidth": 0,
             "ticks": ""
            },
            "type": "choropleth"
           }
          ],
          "contour": [
           {
            "colorbar": {
             "outlinewidth": 0,
             "ticks": ""
            },
            "colorscale": [
             [
              0,
              "#0d0887"
             ],
             [
              0.1111111111111111,
              "#46039f"
             ],
             [
              0.2222222222222222,
              "#7201a8"
             ],
             [
              0.3333333333333333,
              "#9c179e"
             ],
             [
              0.4444444444444444,
              "#bd3786"
             ],
             [
              0.5555555555555556,
              "#d8576b"
             ],
             [
              0.6666666666666666,
              "#ed7953"
             ],
             [
              0.7777777777777778,
              "#fb9f3a"
             ],
             [
              0.8888888888888888,
              "#fdca26"
             ],
             [
              1,
              "#f0f921"
             ]
            ],
            "type": "contour"
           }
          ],
          "contourcarpet": [
           {
            "colorbar": {
             "outlinewidth": 0,
             "ticks": ""
            },
            "type": "contourcarpet"
           }
          ],
          "heatmap": [
           {
            "colorbar": {
             "outlinewidth": 0,
             "ticks": ""
            },
            "colorscale": [
             [
              0,
              "#0d0887"
             ],
             [
              0.1111111111111111,
              "#46039f"
             ],
             [
              0.2222222222222222,
              "#7201a8"
             ],
             [
              0.3333333333333333,
              "#9c179e"
             ],
             [
              0.4444444444444444,
              "#bd3786"
             ],
             [
              0.5555555555555556,
              "#d8576b"
             ],
             [
              0.6666666666666666,
              "#ed7953"
             ],
             [
              0.7777777777777778,
              "#fb9f3a"
             ],
             [
              0.8888888888888888,
              "#fdca26"
             ],
             [
              1,
              "#f0f921"
             ]
            ],
            "type": "heatmap"
           }
          ],
          "heatmapgl": [
           {
            "colorbar": {
             "outlinewidth": 0,
             "ticks": ""
            },
            "colorscale": [
             [
              0,
              "#0d0887"
             ],
             [
              0.1111111111111111,
              "#46039f"
             ],
             [
              0.2222222222222222,
              "#7201a8"
             ],
             [
              0.3333333333333333,
              "#9c179e"
             ],
             [
              0.4444444444444444,
              "#bd3786"
             ],
             [
              0.5555555555555556,
              "#d8576b"
             ],
             [
              0.6666666666666666,
              "#ed7953"
             ],
             [
              0.7777777777777778,
              "#fb9f3a"
             ],
             [
              0.8888888888888888,
              "#fdca26"
             ],
             [
              1,
              "#f0f921"
             ]
            ],
            "type": "heatmapgl"
           }
          ],
          "histogram": [
           {
            "marker": {
             "pattern": {
              "fillmode": "overlay",
              "size": 10,
              "solidity": 0.2
             }
            },
            "type": "histogram"
           }
          ],
          "histogram2d": [
           {
            "colorbar": {
             "outlinewidth": 0,
             "ticks": ""
            },
            "colorscale": [
             [
              0,
              "#0d0887"
             ],
             [
              0.1111111111111111,
              "#46039f"
             ],
             [
              0.2222222222222222,
              "#7201a8"
             ],
             [
              0.3333333333333333,
              "#9c179e"
             ],
             [
              0.4444444444444444,
              "#bd3786"
             ],
             [
              0.5555555555555556,
              "#d8576b"
             ],
             [
              0.6666666666666666,
              "#ed7953"
             ],
             [
              0.7777777777777778,
              "#fb9f3a"
             ],
             [
              0.8888888888888888,
              "#fdca26"
             ],
             [
              1,
              "#f0f921"
             ]
            ],
            "type": "histogram2d"
           }
          ],
          "histogram2dcontour": [
           {
            "colorbar": {
             "outlinewidth": 0,
             "ticks": ""
            },
            "colorscale": [
             [
              0,
              "#0d0887"
             ],
             [
              0.1111111111111111,
              "#46039f"
             ],
             [
              0.2222222222222222,
              "#7201a8"
             ],
             [
              0.3333333333333333,
              "#9c179e"
             ],
             [
              0.4444444444444444,
              "#bd3786"
             ],
             [
              0.5555555555555556,
              "#d8576b"
             ],
             [
              0.6666666666666666,
              "#ed7953"
             ],
             [
              0.7777777777777778,
              "#fb9f3a"
             ],
             [
              0.8888888888888888,
              "#fdca26"
             ],
             [
              1,
              "#f0f921"
             ]
            ],
            "type": "histogram2dcontour"
           }
          ],
          "mesh3d": [
           {
            "colorbar": {
             "outlinewidth": 0,
             "ticks": ""
            },
            "type": "mesh3d"
           }
          ],
          "parcoords": [
           {
            "line": {
             "colorbar": {
              "outlinewidth": 0,
              "ticks": ""
             }
            },
            "type": "parcoords"
           }
          ],
          "pie": [
           {
            "automargin": true,
            "type": "pie"
           }
          ],
          "scatter": [
           {
            "fillpattern": {
             "fillmode": "overlay",
             "size": 10,
             "solidity": 0.2
            },
            "type": "scatter"
           }
          ],
          "scatter3d": [
           {
            "line": {
             "colorbar": {
              "outlinewidth": 0,
              "ticks": ""
             }
            },
            "marker": {
             "colorbar": {
              "outlinewidth": 0,
              "ticks": ""
             }
            },
            "type": "scatter3d"
           }
          ],
          "scattercarpet": [
           {
            "marker": {
             "colorbar": {
              "outlinewidth": 0,
              "ticks": ""
             }
            },
            "type": "scattercarpet"
           }
          ],
          "scattergeo": [
           {
            "marker": {
             "colorbar": {
              "outlinewidth": 0,
              "ticks": ""
             }
            },
            "type": "scattergeo"
           }
          ],
          "scattergl": [
           {
            "marker": {
             "colorbar": {
              "outlinewidth": 0,
              "ticks": ""
             }
            },
            "type": "scattergl"
           }
          ],
          "scattermapbox": [
           {
            "marker": {
             "colorbar": {
              "outlinewidth": 0,
              "ticks": ""
             }
            },
            "type": "scattermapbox"
           }
          ],
          "scatterpolar": [
           {
            "marker": {
             "colorbar": {
              "outlinewidth": 0,
              "ticks": ""
             }
            },
            "type": "scatterpolar"
           }
          ],
          "scatterpolargl": [
           {
            "marker": {
             "colorbar": {
              "outlinewidth": 0,
              "ticks": ""
             }
            },
            "type": "scatterpolargl"
           }
          ],
          "scatterternary": [
           {
            "marker": {
             "colorbar": {
              "outlinewidth": 0,
              "ticks": ""
             }
            },
            "type": "scatterternary"
           }
          ],
          "surface": [
           {
            "colorbar": {
             "outlinewidth": 0,
             "ticks": ""
            },
            "colorscale": [
             [
              0,
              "#0d0887"
             ],
             [
              0.1111111111111111,
              "#46039f"
             ],
             [
              0.2222222222222222,
              "#7201a8"
             ],
             [
              0.3333333333333333,
              "#9c179e"
             ],
             [
              0.4444444444444444,
              "#bd3786"
             ],
             [
              0.5555555555555556,
              "#d8576b"
             ],
             [
              0.6666666666666666,
              "#ed7953"
             ],
             [
              0.7777777777777778,
              "#fb9f3a"
             ],
             [
              0.8888888888888888,
              "#fdca26"
             ],
             [
              1,
              "#f0f921"
             ]
            ],
            "type": "surface"
           }
          ],
          "table": [
           {
            "cells": {
             "fill": {
              "color": "#EBF0F8"
             },
             "line": {
              "color": "white"
             }
            },
            "header": {
             "fill": {
              "color": "#C8D4E3"
             },
             "line": {
              "color": "white"
             }
            },
            "type": "table"
           }
          ]
         },
         "layout": {
          "annotationdefaults": {
           "arrowcolor": "#2a3f5f",
           "arrowhead": 0,
           "arrowwidth": 1
          },
          "autotypenumbers": "strict",
          "coloraxis": {
           "colorbar": {
            "outlinewidth": 0,
            "ticks": ""
           }
          },
          "colorscale": {
           "diverging": [
            [
             0,
             "#8e0152"
            ],
            [
             0.1,
             "#c51b7d"
            ],
            [
             0.2,
             "#de77ae"
            ],
            [
             0.3,
             "#f1b6da"
            ],
            [
             0.4,
             "#fde0ef"
            ],
            [
             0.5,
             "#f7f7f7"
            ],
            [
             0.6,
             "#e6f5d0"
            ],
            [
             0.7,
             "#b8e186"
            ],
            [
             0.8,
             "#7fbc41"
            ],
            [
             0.9,
             "#4d9221"
            ],
            [
             1,
             "#276419"
            ]
           ],
           "sequential": [
            [
             0,
             "#0d0887"
            ],
            [
             0.1111111111111111,
             "#46039f"
            ],
            [
             0.2222222222222222,
             "#7201a8"
            ],
            [
             0.3333333333333333,
             "#9c179e"
            ],
            [
             0.4444444444444444,
             "#bd3786"
            ],
            [
             0.5555555555555556,
             "#d8576b"
            ],
            [
             0.6666666666666666,
             "#ed7953"
            ],
            [
             0.7777777777777778,
             "#fb9f3a"
            ],
            [
             0.8888888888888888,
             "#fdca26"
            ],
            [
             1,
             "#f0f921"
            ]
           ],
           "sequentialminus": [
            [
             0,
             "#0d0887"
            ],
            [
             0.1111111111111111,
             "#46039f"
            ],
            [
             0.2222222222222222,
             "#7201a8"
            ],
            [
             0.3333333333333333,
             "#9c179e"
            ],
            [
             0.4444444444444444,
             "#bd3786"
            ],
            [
             0.5555555555555556,
             "#d8576b"
            ],
            [
             0.6666666666666666,
             "#ed7953"
            ],
            [
             0.7777777777777778,
             "#fb9f3a"
            ],
            [
             0.8888888888888888,
             "#fdca26"
            ],
            [
             1,
             "#f0f921"
            ]
           ]
          },
          "colorway": [
           "#636efa",
           "#EF553B",
           "#00cc96",
           "#ab63fa",
           "#FFA15A",
           "#19d3f3",
           "#FF6692",
           "#B6E880",
           "#FF97FF",
           "#FECB52"
          ],
          "font": {
           "color": "#2a3f5f"
          },
          "geo": {
           "bgcolor": "white",
           "lakecolor": "white",
           "landcolor": "#E5ECF6",
           "showlakes": true,
           "showland": true,
           "subunitcolor": "white"
          },
          "hoverlabel": {
           "align": "left"
          },
          "hovermode": "closest",
          "mapbox": {
           "style": "light"
          },
          "paper_bgcolor": "white",
          "plot_bgcolor": "#E5ECF6",
          "polar": {
           "angularaxis": {
            "gridcolor": "white",
            "linecolor": "white",
            "ticks": ""
           },
           "bgcolor": "#E5ECF6",
           "radialaxis": {
            "gridcolor": "white",
            "linecolor": "white",
            "ticks": ""
           }
          },
          "scene": {
           "xaxis": {
            "backgroundcolor": "#E5ECF6",
            "gridcolor": "white",
            "gridwidth": 2,
            "linecolor": "white",
            "showbackground": true,
            "ticks": "",
            "zerolinecolor": "white"
           },
           "yaxis": {
            "backgroundcolor": "#E5ECF6",
            "gridcolor": "white",
            "gridwidth": 2,
            "linecolor": "white",
            "showbackground": true,
            "ticks": "",
            "zerolinecolor": "white"
           },
           "zaxis": {
            "backgroundcolor": "#E5ECF6",
            "gridcolor": "white",
            "gridwidth": 2,
            "linecolor": "white",
            "showbackground": true,
            "ticks": "",
            "zerolinecolor": "white"
           }
          },
          "shapedefaults": {
           "line": {
            "color": "#2a3f5f"
           }
          },
          "ternary": {
           "aaxis": {
            "gridcolor": "white",
            "linecolor": "white",
            "ticks": ""
           },
           "baxis": {
            "gridcolor": "white",
            "linecolor": "white",
            "ticks": ""
           },
           "bgcolor": "#E5ECF6",
           "caxis": {
            "gridcolor": "white",
            "linecolor": "white",
            "ticks": ""
           }
          },
          "title": {
           "x": 0.05
          },
          "xaxis": {
           "automargin": true,
           "gridcolor": "white",
           "linecolor": "white",
           "ticks": "",
           "title": {
            "standoff": 15
           },
           "zerolinecolor": "white",
           "zerolinewidth": 2
          },
          "yaxis": {
           "automargin": true,
           "gridcolor": "white",
           "linecolor": "white",
           "ticks": "",
           "title": {
            "standoff": 15
           },
           "zerolinecolor": "white",
           "zerolinewidth": 2
          }
         }
        },
        "title": {
         "text": "Зависимость количества итераций обучения от значения максимальной ошибки"
        },
        "width": 1280,
        "xaxis": {
         "title": {
          "text": "Значение максимальной ошибки"
         }
        },
        "yaxis": {
         "title": {
          "text": "Количество итераций обучения"
         }
        }
       }
      }
     },
     "metadata": {},
     "output_type": "display_data"
    }
   ],
   "source": [
    "max_errors = list(range(1000, 3000, 100))\n",
    "epochs_amount: list[int] = []\n",
    "for err in max_errors:    \n",
    "    dl = LRNN(n, 50, 0.001)\n",
    "    dl.train(train, 15000, learn_by_loss=True, max_loss=err)\n",
    "    epochs_amount.append(dl.epoch)\n",
    "fig = go.Figure()\n",
    "fig.add_trace(go.Scatter(x=max_errors, y=epochs_amount, mode='lines+markers'))\n",
    "fig.update_layout(title='Зависимость количества итераций обучения от значения максимальной ошибки',\n",
    "                  xaxis_title='Значение максимальной ошибки',\n",
    "                  yaxis_title='Количество итераций обучения',\n",
    "                  height=720, width=1280,\n",
    "                  font=dict(size=20))\n",
    "fig.show()"
   ]
  },
  {
   "cell_type": "markdown",
   "metadata": {},
   "source": [
    "## Relationship between image and epochs"
   ]
  },
  {
   "cell_type": "code",
   "execution_count": 8,
   "metadata": {},
   "outputs": [
    {
     "name": "stdout",
     "output_type": "stream",
     "text": [
      "Z = 1.9230473377332657\n",
      "Epoch 1/15000, Loss: 5209.6318296366\n",
      "Epoch 2/15000, Loss: 3162.699429785375\n",
      "Epoch 3/15000, Loss: 2710.4352869350473\n",
      "Epoch 4/15000, Loss: 2450.4228952694975\n",
      "Epoch 5/15000, Loss: 2269.9157952415144\n",
      "Epoch 6/15000, Loss: 2136.711794596953\n",
      "Epoch 7/15000, Loss: 2032.7831097109295\n",
      "Epoch 8/15000, Loss: 1947.5842874855157\n",
      "Epoch 9/15000, Loss: 1876.4486331339565\n",
      "Epoch 10/15000, Loss: 1814.9423286750928\n",
      "Epoch 11/15000, Loss: 1761.5728006060206\n",
      "Epoch 12/15000, Loss: 1713.8186292179817\n",
      "Epoch 13/15000, Loss: 1670.877801951604\n",
      "Epoch 14/15000, Loss: 1631.9953954299272\n",
      "Epoch 15/15000, Loss: 1596.7104192915301\n",
      "Epoch 16/15000, Loss: 1564.6706844158416\n",
      "Epoch 17/15000, Loss: 1534.7862598245742\n",
      "Epoch 18/15000, Loss: 1506.9203029658981\n",
      "Epoch 19/15000, Loss: 1481.1870920688068\n",
      "19\n"
     ]
    }
   ],
   "source": [
    "# Collecting everything\n",
    "\n",
    "block_width = 10\n",
    "block_height = 10\n",
    "\n",
    "n = block_height * block_width\n",
    "# Hidden layer neuron amount\n",
    "p = 50 \n",
    "\n",
    "img = Image.open('images/winter.jpg')\n",
    "img_array = np.asarray(img)\n",
    "shape = img_array.shape\n",
    "blocks = image_to_blocks(img_array, block_height, block_width, overlap=0)\n",
    "\n",
    "l = len(blocks)\n",
    "# Compression coeff\n",
    "print('Z =', (n*l) / ((n+l) * p+2))\n",
    "\n",
    "color_df = ((2 * blocks / MAX_RGB_VALUE) - 1).reshape(len(blocks), -1, 3).transpose(0, 2, 1).reshape(-1, block_height * block_width)\n",
    "train = np.matrix(color_df[np.random.choice(color_df.shape[0], int(color_df.shape[0] * 0.05))])\n",
    "\n",
    "network = LRNN(n, p, 0.001)\n",
    "network.train(train, 15000, learn_by_loss=True, max_loss=1500)\n",
    "\n",
    "print(network.epoch)\n",
    "\n",
    "# compressed = compress_image(network.W_enc, img_array, COLOR_CHANNELS_AMOUNT, block_height, block_width, 0)\n",
    "# dimg = decompress_image(network.W_dec, compressed, shape, COLOR_CHANNELS_AMOUNT, block_height, block_width, 0)\n",
    "# dimg_array = np.asarray(dimg)\n",
    "# dimg.save('compression-decompression_test.jpg')"
   ]
  }
 ],
 "metadata": {
  "kernelspec": {
   "display_name": ".venv",
   "language": "python",
   "name": "python3"
  },
  "language_info": {
   "codemirror_mode": {
    "name": "ipython",
    "version": 3
   },
   "file_extension": ".py",
   "mimetype": "text/x-python",
   "name": "python",
   "nbconvert_exporter": "python",
   "pygments_lexer": "ipython3",
   "version": "3.11.9"
  }
 },
 "nbformat": 4,
 "nbformat_minor": 2
}
