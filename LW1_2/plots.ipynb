{
 "cells": [
  {
   "cell_type": "code",
   "execution_count": 46,
   "metadata": {},
   "outputs": [],
   "source": [
    "from lrnn import (\n",
    "    LRNN,\n",
    "    image_to_blocks,\n",
    "    compress_image,\n",
    "    decompress_image\n",
    ")\n",
    "import numpy as np\n",
    "from PIL import Image\n",
    "import plotly.graph_objects as go"
   ]
  },
  {
   "cell_type": "code",
   "execution_count": 47,
   "metadata": {},
   "outputs": [],
   "source": [
    "MAX_RGB_VALUE = 255\n",
    "COLOR_CHANNELS_AMOUNT = 3"
   ]
  },
  {
   "cell_type": "code",
   "execution_count": 48,
   "metadata": {},
   "outputs": [
    {
     "name": "stdout",
     "output_type": "stream",
     "text": [
      "Z = 4.807507403561401\n",
      "Epoch 1/15000, Loss: 2135.4664268937513\n",
      "Epoch 2/15000, Loss: 2048.9950315448295\n",
      "Epoch 3/15000, Loss: 1990.1272805698484\n",
      "Epoch 4/15000, Loss: 1941.82298741633\n",
      "Epoch 5/15000, Loss: 1898.4457752025794\n",
      "Epoch 6/15000, Loss: 1857.4806243921678\n",
      "Epoch 7/15000, Loss: 1817.705133271795\n",
      "Epoch 8/15000, Loss: 1778.5974938211973\n",
      "Epoch 9/15000, Loss: 1740.0798242345206\n",
      "Epoch 10/15000, Loss: 1702.3633736999263\n",
      "Epoch 11/15000, Loss: 1665.8242011851314\n",
      "Epoch 12/15000, Loss: 1630.8923195248428\n",
      "Epoch 13/15000, Loss: 1597.9589398501737\n",
      "Epoch 14/15000, Loss: 1567.3119075054617\n",
      "Epoch 15/15000, Loss: 1539.1049309090677\n",
      "Epoch 16/15000, Loss: 1513.3578762813083\n",
      "Epoch 17/15000, Loss: 1489.9788273657525\n",
      "Epoch 18/15000, Loss: 1468.7965128464557\n",
      "Epoch 19/15000, Loss: 1449.593555005261\n",
      "Epoch 20/15000, Loss: 1432.1346476569265\n",
      "Epoch 21/15000, Loss: 1416.1872855603553\n",
      "Epoch 22/15000, Loss: 1401.5350884685367\n",
      "Epoch 23/15000, Loss: 1387.9849976881603\n",
      "Epoch 24/15000, Loss: 1375.369991216058\n",
      "Epoch 25/15000, Loss: 1363.548847471006\n",
      "Epoch 26/15000, Loss: 1352.4041747390986\n",
      "Epoch 27/15000, Loss: 1341.8395810822044\n",
      "Epoch 28/15000, Loss: 1331.7765641450621\n",
      "Epoch 29/15000, Loss: 1322.1514747489261\n",
      "Epoch 30/15000, Loss: 1312.9127490681988\n",
      "Epoch 31/15000, Loss: 1304.0184987231144\n",
      "Epoch 32/15000, Loss: 1295.4344821582067\n",
      "Epoch 33/15000, Loss: 1287.1324421051324\n",
      "Epoch 34/15000, Loss: 1279.0887735022825\n",
      "Epoch 35/15000, Loss: 1271.2834773620416\n",
      "Epoch 36/15000, Loss: 1263.6993542322436\n",
      "Epoch 37/15000, Loss: 1256.3213931115213\n",
      "Epoch 38/15000, Loss: 1249.1363160290387\n",
      "Epoch 39/15000, Loss: 1242.1322437805695\n",
      "Epoch 40/15000, Loss: 1235.2984537871089\n",
      "Epoch 41/15000, Loss: 1228.625206276235\n",
      "Epoch 42/15000, Loss: 1222.1036197439125\n",
      "Epoch 43/15000, Loss: 1215.7255808239177\n",
      "Epoch 44/15000, Loss: 1209.4836772416118\n",
      "Epoch 45/15000, Loss: 1203.3711454752624\n",
      "Epoch 46/15000, Loss: 1197.381827136405\n",
      "Epoch 47/15000, Loss: 1191.5101299715968\n",
      "Epoch 48/15000, Loss: 1185.7509908479853\n",
      "Epoch 49/15000, Loss: 1180.0998391810547\n",
      "Epoch 50/15000, Loss: 1174.5525600587493\n",
      "Epoch 51/15000, Loss: 1169.105456869348\n",
      "Epoch 52/15000, Loss: 1163.7552136025813\n",
      "Epoch 53/15000, Loss: 1158.4988572082684\n",
      "Epoch 54/15000, Loss: 1153.3337205016403\n",
      "Epoch 55/15000, Loss: 1148.2574061298028\n",
      "Epoch 56/15000, Loss: 1143.2677520847824\n",
      "Epoch 57/15000, Loss: 1138.3627991841106\n",
      "Epoch 58/15000, Loss: 1133.540760856085\n",
      "Epoch 59/15000, Loss: 1128.7999954743743\n",
      "Epoch 60/15000, Loss: 1124.1389813942355\n",
      "Epoch 61/15000, Loss: 1119.556294756132\n",
      "Epoch 62/15000, Loss: 1115.0505900455191\n",
      "Epoch 63/15000, Loss: 1110.6205833322595\n",
      "Epoch 64/15000, Loss: 1106.2650380606192\n",
      "Epoch 65/15000, Loss: 1101.9827532206134\n",
      "Epoch 66/15000, Loss: 1097.7725537034532\n",
      "Epoch 67/15000, Loss: 1093.6332826264954\n",
      "Epoch 68/15000, Loss: 1089.563795405067\n",
      "Epoch 69/15000, Loss: 1085.5629553485182\n",
      "Epoch 70/15000, Loss: 1081.6296305639905\n",
      "Epoch 71/15000, Loss: 1077.762691962539\n",
      "Epoch 72/15000, Loss: 1073.9610121766464\n",
      "Epoch 73/15000, Loss: 1070.2234652151922\n",
      "Epoch 74/15000, Loss: 1066.5489266999157\n",
      "Epoch 75/15000, Loss: 1062.9362745459991\n",
      "Epoch 76/15000, Loss: 1059.384389967766\n",
      "Epoch 77/15000, Loss: 1055.892158707917\n",
      "Epoch 78/15000, Loss: 1052.458472405282\n",
      "Epoch 79/15000, Loss: 1049.082230031072\n",
      "Epoch 80/15000, Loss: 1045.7623393371998\n",
      "Epoch 81/15000, Loss: 1042.4977182722314\n",
      "Epoch 82/15000, Loss: 1039.2872963310547\n",
      "Epoch 83/15000, Loss: 1036.1300158132556\n",
      "Epoch 84/15000, Loss: 1033.0248329728279\n",
      "Epoch 85/15000, Loss: 1029.9707190480874\n",
      "Epoch 86/15000, Loss: 1026.9666611658783\n",
      "Epoch 87/15000, Loss: 1024.0116631182134\n",
      "Epoch 88/15000, Loss: 1021.1047460127553\n",
      "Epoch 89/15000, Loss: 1018.2449488010569\n",
      "Epoch 90/15000, Loss: 1015.4313286901946\n",
      "Epoch 91/15000, Loss: 1012.6629614448693\n",
      "Epoch 92/15000, Loss: 1009.938941587727\n",
      "Epoch 93/15000, Loss: 1007.2583825062993\n",
      "Epoch 94/15000, Loss: 1004.6204164750166\n",
      "Epoch 95/15000, Loss: 1002.0241946008493\n",
      "Epoch 96/15000, Loss: 999.4688867008651\n",
      "Real compression coefficient: 5.0000\n"
     ]
    }
   ],
   "source": [
    "# Collecting everything\n",
    "\n",
    "block_width = 10\n",
    "block_height = 10\n",
    "\n",
    "n = block_height * block_width\n",
    "# Hidden layer neuron amount\n",
    "p = 20 \n",
    "\n",
    "img = Image.open('car.jpg')\n",
    "img_array = np.asarray(img)\n",
    "shape = img_array.shape\n",
    "blocks = image_to_blocks(img_array, block_height, block_width, overlap=0)\n",
    "\n",
    "l = len(blocks)\n",
    "# Compression coeff\n",
    "print('Z =', (n*l) / ((n+l) * p+2))\n",
    "\n",
    "color_df = ((2 * blocks / MAX_RGB_VALUE) - 1).reshape(len(blocks), -1, 3).transpose(0, 2, 1).reshape(-1, block_height * block_width)\n",
    "train = np.matrix(color_df[np.random.choice(color_df.shape[0], int(color_df.shape[0] * 0.1))])\n",
    "\n",
    "\n",
    "network = LRNN(n, p, 0.001)\n",
    "network.train(train, 15000, learn_by_loss=True, max_loss=1000)\n",
    "\n",
    "compressed = compress_image(network.W_enc, img_array, COLOR_CHANNELS_AMOUNT, block_height, block_width, 0)\n",
    "\n",
    "print(f'Real compression coefficient: {img_array.size / compressed.size:.4f}')\n",
    "\n",
    "dimg = decompress_image(network.W_dec, compressed, shape, COLOR_CHANNELS_AMOUNT, block_height, block_width, 0)\n",
    "dimg_array = np.asarray(dimg)\n",
    "dimg.save('compression-decompression_test.jpg')"
   ]
  },
  {
   "cell_type": "code",
   "execution_count": 49,
   "metadata": {},
   "outputs": [
    {
     "name": "stdout",
     "output_type": "stream",
     "text": [
      "Epoch 1/15000, Loss: 4347.638862855444\n",
      "Epoch 2/15000, Loss: 3407.662816485769\n",
      "Epoch 3/15000, Loss: 3023.378783178208\n",
      "Epoch 4/15000, Loss: 2800.7839629234904\n",
      "Epoch 5/15000, Loss: 2649.2364440864444\n",
      "Epoch 6/15000, Loss: 2533.0300522991547\n",
      "Epoch 7/15000, Loss: 2436.0137238662783\n",
      "Epoch 1/15000, Loss: 4681.167962795438\n",
      "Epoch 2/15000, Loss: 3609.8719991264743\n",
      "Epoch 3/15000, Loss: 3161.6061795147575\n",
      "Epoch 4/15000, Loss: 2899.805776379254\n",
      "Epoch 5/15000, Loss: 2719.2237465313274\n",
      "Epoch 6/15000, Loss: 2581.3789250978552\n",
      "Epoch 7/15000, Loss: 2468.9845499029802\n",
      "Epoch 1/15000, Loss: 4092.011652292573\n",
      "Epoch 2/15000, Loss: 3320.8905886217776\n",
      "Epoch 3/15000, Loss: 2977.430132959484\n",
      "Epoch 4/15000, Loss: 2762.481617161517\n",
      "Epoch 5/15000, Loss: 2608.281411028165\n",
      "Epoch 6/15000, Loss: 2488.4673276921303\n",
      "Epoch 1/15000, Loss: 3408.5258957691785\n",
      "Epoch 2/15000, Loss: 2872.3878109108473\n",
      "Epoch 3/15000, Loss: 2624.8820241963526\n",
      "Epoch 4/15000, Loss: 2465.4495433762086\n",
      "Epoch 1/15000, Loss: 2258.512209494069\n",
      "Epoch 1/15000, Loss: 2125.7390204282833\n"
     ]
    },
    {
     "data": {
      "application/vnd.plotly.v1+json": {
       "config": {
        "plotlyServerURL": "https://plot.ly"
       },
       "data": [
        {
         "mode": "lines+markers",
         "type": "scatter",
         "x": [
          0.0005,
          0.0006,
          0.0007,
          0.0008,
          0.0009,
          0.001
         ],
         "y": [
          7,
          7,
          6,
          4,
          1,
          1
         ]
        }
       ],
       "layout": {
        "font": {
         "size": 20
        },
        "height": 720,
        "template": {
         "data": {
          "bar": [
           {
            "error_x": {
             "color": "#2a3f5f"
            },
            "error_y": {
             "color": "#2a3f5f"
            },
            "marker": {
             "line": {
              "color": "#E5ECF6",
              "width": 0.5
             },
             "pattern": {
              "fillmode": "overlay",
              "size": 10,
              "solidity": 0.2
             }
            },
            "type": "bar"
           }
          ],
          "barpolar": [
           {
            "marker": {
             "line": {
              "color": "#E5ECF6",
              "width": 0.5
             },
             "pattern": {
              "fillmode": "overlay",
              "size": 10,
              "solidity": 0.2
             }
            },
            "type": "barpolar"
           }
          ],
          "carpet": [
           {
            "aaxis": {
             "endlinecolor": "#2a3f5f",
             "gridcolor": "white",
             "linecolor": "white",
             "minorgridcolor": "white",
             "startlinecolor": "#2a3f5f"
            },
            "baxis": {
             "endlinecolor": "#2a3f5f",
             "gridcolor": "white",
             "linecolor": "white",
             "minorgridcolor": "white",
             "startlinecolor": "#2a3f5f"
            },
            "type": "carpet"
           }
          ],
          "choropleth": [
           {
            "colorbar": {
             "outlinewidth": 0,
             "ticks": ""
            },
            "type": "choropleth"
           }
          ],
          "contour": [
           {
            "colorbar": {
             "outlinewidth": 0,
             "ticks": ""
            },
            "colorscale": [
             [
              0,
              "#0d0887"
             ],
             [
              0.1111111111111111,
              "#46039f"
             ],
             [
              0.2222222222222222,
              "#7201a8"
             ],
             [
              0.3333333333333333,
              "#9c179e"
             ],
             [
              0.4444444444444444,
              "#bd3786"
             ],
             [
              0.5555555555555556,
              "#d8576b"
             ],
             [
              0.6666666666666666,
              "#ed7953"
             ],
             [
              0.7777777777777778,
              "#fb9f3a"
             ],
             [
              0.8888888888888888,
              "#fdca26"
             ],
             [
              1,
              "#f0f921"
             ]
            ],
            "type": "contour"
           }
          ],
          "contourcarpet": [
           {
            "colorbar": {
             "outlinewidth": 0,
             "ticks": ""
            },
            "type": "contourcarpet"
           }
          ],
          "heatmap": [
           {
            "colorbar": {
             "outlinewidth": 0,
             "ticks": ""
            },
            "colorscale": [
             [
              0,
              "#0d0887"
             ],
             [
              0.1111111111111111,
              "#46039f"
             ],
             [
              0.2222222222222222,
              "#7201a8"
             ],
             [
              0.3333333333333333,
              "#9c179e"
             ],
             [
              0.4444444444444444,
              "#bd3786"
             ],
             [
              0.5555555555555556,
              "#d8576b"
             ],
             [
              0.6666666666666666,
              "#ed7953"
             ],
             [
              0.7777777777777778,
              "#fb9f3a"
             ],
             [
              0.8888888888888888,
              "#fdca26"
             ],
             [
              1,
              "#f0f921"
             ]
            ],
            "type": "heatmap"
           }
          ],
          "heatmapgl": [
           {
            "colorbar": {
             "outlinewidth": 0,
             "ticks": ""
            },
            "colorscale": [
             [
              0,
              "#0d0887"
             ],
             [
              0.1111111111111111,
              "#46039f"
             ],
             [
              0.2222222222222222,
              "#7201a8"
             ],
             [
              0.3333333333333333,
              "#9c179e"
             ],
             [
              0.4444444444444444,
              "#bd3786"
             ],
             [
              0.5555555555555556,
              "#d8576b"
             ],
             [
              0.6666666666666666,
              "#ed7953"
             ],
             [
              0.7777777777777778,
              "#fb9f3a"
             ],
             [
              0.8888888888888888,
              "#fdca26"
             ],
             [
              1,
              "#f0f921"
             ]
            ],
            "type": "heatmapgl"
           }
          ],
          "histogram": [
           {
            "marker": {
             "pattern": {
              "fillmode": "overlay",
              "size": 10,
              "solidity": 0.2
             }
            },
            "type": "histogram"
           }
          ],
          "histogram2d": [
           {
            "colorbar": {
             "outlinewidth": 0,
             "ticks": ""
            },
            "colorscale": [
             [
              0,
              "#0d0887"
             ],
             [
              0.1111111111111111,
              "#46039f"
             ],
             [
              0.2222222222222222,
              "#7201a8"
             ],
             [
              0.3333333333333333,
              "#9c179e"
             ],
             [
              0.4444444444444444,
              "#bd3786"
             ],
             [
              0.5555555555555556,
              "#d8576b"
             ],
             [
              0.6666666666666666,
              "#ed7953"
             ],
             [
              0.7777777777777778,
              "#fb9f3a"
             ],
             [
              0.8888888888888888,
              "#fdca26"
             ],
             [
              1,
              "#f0f921"
             ]
            ],
            "type": "histogram2d"
           }
          ],
          "histogram2dcontour": [
           {
            "colorbar": {
             "outlinewidth": 0,
             "ticks": ""
            },
            "colorscale": [
             [
              0,
              "#0d0887"
             ],
             [
              0.1111111111111111,
              "#46039f"
             ],
             [
              0.2222222222222222,
              "#7201a8"
             ],
             [
              0.3333333333333333,
              "#9c179e"
             ],
             [
              0.4444444444444444,
              "#bd3786"
             ],
             [
              0.5555555555555556,
              "#d8576b"
             ],
             [
              0.6666666666666666,
              "#ed7953"
             ],
             [
              0.7777777777777778,
              "#fb9f3a"
             ],
             [
              0.8888888888888888,
              "#fdca26"
             ],
             [
              1,
              "#f0f921"
             ]
            ],
            "type": "histogram2dcontour"
           }
          ],
          "mesh3d": [
           {
            "colorbar": {
             "outlinewidth": 0,
             "ticks": ""
            },
            "type": "mesh3d"
           }
          ],
          "parcoords": [
           {
            "line": {
             "colorbar": {
              "outlinewidth": 0,
              "ticks": ""
             }
            },
            "type": "parcoords"
           }
          ],
          "pie": [
           {
            "automargin": true,
            "type": "pie"
           }
          ],
          "scatter": [
           {
            "fillpattern": {
             "fillmode": "overlay",
             "size": 10,
             "solidity": 0.2
            },
            "type": "scatter"
           }
          ],
          "scatter3d": [
           {
            "line": {
             "colorbar": {
              "outlinewidth": 0,
              "ticks": ""
             }
            },
            "marker": {
             "colorbar": {
              "outlinewidth": 0,
              "ticks": ""
             }
            },
            "type": "scatter3d"
           }
          ],
          "scattercarpet": [
           {
            "marker": {
             "colorbar": {
              "outlinewidth": 0,
              "ticks": ""
             }
            },
            "type": "scattercarpet"
           }
          ],
          "scattergeo": [
           {
            "marker": {
             "colorbar": {
              "outlinewidth": 0,
              "ticks": ""
             }
            },
            "type": "scattergeo"
           }
          ],
          "scattergl": [
           {
            "marker": {
             "colorbar": {
              "outlinewidth": 0,
              "ticks": ""
             }
            },
            "type": "scattergl"
           }
          ],
          "scattermapbox": [
           {
            "marker": {
             "colorbar": {
              "outlinewidth": 0,
              "ticks": ""
             }
            },
            "type": "scattermapbox"
           }
          ],
          "scatterpolar": [
           {
            "marker": {
             "colorbar": {
              "outlinewidth": 0,
              "ticks": ""
             }
            },
            "type": "scatterpolar"
           }
          ],
          "scatterpolargl": [
           {
            "marker": {
             "colorbar": {
              "outlinewidth": 0,
              "ticks": ""
             }
            },
            "type": "scatterpolargl"
           }
          ],
          "scatterternary": [
           {
            "marker": {
             "colorbar": {
              "outlinewidth": 0,
              "ticks": ""
             }
            },
            "type": "scatterternary"
           }
          ],
          "surface": [
           {
            "colorbar": {
             "outlinewidth": 0,
             "ticks": ""
            },
            "colorscale": [
             [
              0,
              "#0d0887"
             ],
             [
              0.1111111111111111,
              "#46039f"
             ],
             [
              0.2222222222222222,
              "#7201a8"
             ],
             [
              0.3333333333333333,
              "#9c179e"
             ],
             [
              0.4444444444444444,
              "#bd3786"
             ],
             [
              0.5555555555555556,
              "#d8576b"
             ],
             [
              0.6666666666666666,
              "#ed7953"
             ],
             [
              0.7777777777777778,
              "#fb9f3a"
             ],
             [
              0.8888888888888888,
              "#fdca26"
             ],
             [
              1,
              "#f0f921"
             ]
            ],
            "type": "surface"
           }
          ],
          "table": [
           {
            "cells": {
             "fill": {
              "color": "#EBF0F8"
             },
             "line": {
              "color": "white"
             }
            },
            "header": {
             "fill": {
              "color": "#C8D4E3"
             },
             "line": {
              "color": "white"
             }
            },
            "type": "table"
           }
          ]
         },
         "layout": {
          "annotationdefaults": {
           "arrowcolor": "#2a3f5f",
           "arrowhead": 0,
           "arrowwidth": 1
          },
          "autotypenumbers": "strict",
          "coloraxis": {
           "colorbar": {
            "outlinewidth": 0,
            "ticks": ""
           }
          },
          "colorscale": {
           "diverging": [
            [
             0,
             "#8e0152"
            ],
            [
             0.1,
             "#c51b7d"
            ],
            [
             0.2,
             "#de77ae"
            ],
            [
             0.3,
             "#f1b6da"
            ],
            [
             0.4,
             "#fde0ef"
            ],
            [
             0.5,
             "#f7f7f7"
            ],
            [
             0.6,
             "#e6f5d0"
            ],
            [
             0.7,
             "#b8e186"
            ],
            [
             0.8,
             "#7fbc41"
            ],
            [
             0.9,
             "#4d9221"
            ],
            [
             1,
             "#276419"
            ]
           ],
           "sequential": [
            [
             0,
             "#0d0887"
            ],
            [
             0.1111111111111111,
             "#46039f"
            ],
            [
             0.2222222222222222,
             "#7201a8"
            ],
            [
             0.3333333333333333,
             "#9c179e"
            ],
            [
             0.4444444444444444,
             "#bd3786"
            ],
            [
             0.5555555555555556,
             "#d8576b"
            ],
            [
             0.6666666666666666,
             "#ed7953"
            ],
            [
             0.7777777777777778,
             "#fb9f3a"
            ],
            [
             0.8888888888888888,
             "#fdca26"
            ],
            [
             1,
             "#f0f921"
            ]
           ],
           "sequentialminus": [
            [
             0,
             "#0d0887"
            ],
            [
             0.1111111111111111,
             "#46039f"
            ],
            [
             0.2222222222222222,
             "#7201a8"
            ],
            [
             0.3333333333333333,
             "#9c179e"
            ],
            [
             0.4444444444444444,
             "#bd3786"
            ],
            [
             0.5555555555555556,
             "#d8576b"
            ],
            [
             0.6666666666666666,
             "#ed7953"
            ],
            [
             0.7777777777777778,
             "#fb9f3a"
            ],
            [
             0.8888888888888888,
             "#fdca26"
            ],
            [
             1,
             "#f0f921"
            ]
           ]
          },
          "colorway": [
           "#636efa",
           "#EF553B",
           "#00cc96",
           "#ab63fa",
           "#FFA15A",
           "#19d3f3",
           "#FF6692",
           "#B6E880",
           "#FF97FF",
           "#FECB52"
          ],
          "font": {
           "color": "#2a3f5f"
          },
          "geo": {
           "bgcolor": "white",
           "lakecolor": "white",
           "landcolor": "#E5ECF6",
           "showlakes": true,
           "showland": true,
           "subunitcolor": "white"
          },
          "hoverlabel": {
           "align": "left"
          },
          "hovermode": "closest",
          "mapbox": {
           "style": "light"
          },
          "paper_bgcolor": "white",
          "plot_bgcolor": "#E5ECF6",
          "polar": {
           "angularaxis": {
            "gridcolor": "white",
            "linecolor": "white",
            "ticks": ""
           },
           "bgcolor": "#E5ECF6",
           "radialaxis": {
            "gridcolor": "white",
            "linecolor": "white",
            "ticks": ""
           }
          },
          "scene": {
           "xaxis": {
            "backgroundcolor": "#E5ECF6",
            "gridcolor": "white",
            "gridwidth": 2,
            "linecolor": "white",
            "showbackground": true,
            "ticks": "",
            "zerolinecolor": "white"
           },
           "yaxis": {
            "backgroundcolor": "#E5ECF6",
            "gridcolor": "white",
            "gridwidth": 2,
            "linecolor": "white",
            "showbackground": true,
            "ticks": "",
            "zerolinecolor": "white"
           },
           "zaxis": {
            "backgroundcolor": "#E5ECF6",
            "gridcolor": "white",
            "gridwidth": 2,
            "linecolor": "white",
            "showbackground": true,
            "ticks": "",
            "zerolinecolor": "white"
           }
          },
          "shapedefaults": {
           "line": {
            "color": "#2a3f5f"
           }
          },
          "ternary": {
           "aaxis": {
            "gridcolor": "white",
            "linecolor": "white",
            "ticks": ""
           },
           "baxis": {
            "gridcolor": "white",
            "linecolor": "white",
            "ticks": ""
           },
           "bgcolor": "#E5ECF6",
           "caxis": {
            "gridcolor": "white",
            "linecolor": "white",
            "ticks": ""
           }
          },
          "title": {
           "x": 0.05
          },
          "xaxis": {
           "automargin": true,
           "gridcolor": "white",
           "linecolor": "white",
           "ticks": "",
           "title": {
            "standoff": 15
           },
           "zerolinecolor": "white",
           "zerolinewidth": 2
          },
          "yaxis": {
           "automargin": true,
           "gridcolor": "white",
           "linecolor": "white",
           "ticks": "",
           "title": {
            "standoff": 15
           },
           "zerolinecolor": "white",
           "zerolinewidth": 2
          }
         }
        },
        "title": {
         "text": "Зависимость количества итераций обучения от коэффициента обучения"
        },
        "width": 1280,
        "xaxis": {
         "title": {
          "text": "Коэффициент обучения"
         }
        },
        "yaxis": {
         "title": {
          "text": "Количество итераций обучения"
         }
        }
       }
      }
     },
     "metadata": {},
     "output_type": "display_data"
    }
   ],
   "source": [
    "alphas = (0.0005, 0.0006, 0.0007, 0.0008, 0.0009, 0.001)\n",
    "epochs_amount: list[int] = []\n",
    "for alpha in alphas:\n",
    "    dl = LRNN(n, p, alpha)\n",
    "    dl.train(train, 15000, learn_by_loss=True, max_loss=2500)\n",
    "    epochs_amount.append(dl.epoch)\n",
    "fig = go.Figure()\n",
    "fig.add_trace(go.Scatter(x=alphas, y=epochs_amount, mode='lines+markers'))\n",
    "fig.update_layout(title='Зависимость количества итераций обучения от коэффициента обучения',\n",
    "                  xaxis_title='Коэффициент обучения',\n",
    "                  yaxis_title='Количество итераций обучения',\n",
    "                  height=720, width=1280,\n",
    "                  font=dict(size=20))\n",
    "fig.show()"
   ]
  },
  {
   "cell_type": "markdown",
   "metadata": {},
   "source": [
    "## Relation between learning rate and epochs "
   ]
  },
  {
   "cell_type": "code",
   "execution_count": 50,
   "metadata": {},
   "outputs": [
    {
     "name": "stdout",
     "output_type": "stream",
     "text": [
      "Epoch 1/15000, Loss: 4295.084488284464\n",
      "Epoch 2/15000, Loss: 3420.416711606802\n",
      "Epoch 3/15000, Loss: 3042.478598714472\n",
      "Epoch 4/15000, Loss: 2815.3964183839767\n",
      "Epoch 5/15000, Loss: 2658.424366800543\n",
      "Epoch 6/15000, Loss: 2539.103975877765\n",
      "Epoch 7/15000, Loss: 2441.804924015354\n",
      "Epoch 1/15000, Loss: 4437.038282119846\n",
      "Epoch 2/15000, Loss: 3486.858530770136\n",
      "Epoch 3/15000, Loss: 3102.368760339463\n",
      "Epoch 4/15000, Loss: 2873.8035005719075\n",
      "Epoch 5/15000, Loss: 2713.1425152799798\n",
      "Epoch 6/15000, Loss: 2589.1194671387902\n",
      "Epoch 7/15000, Loss: 2487.3162372041324\n",
      "Epoch 1/15000, Loss: 3860.2223350814106\n",
      "Epoch 2/15000, Loss: 3130.0990104557077\n",
      "Epoch 3/15000, Loss: 2823.345432391267\n",
      "Epoch 4/15000, Loss: 2631.6708323410576\n",
      "Epoch 5/15000, Loss: 2490.505467267694\n",
      "Epoch 1/15000, Loss: 3450.838367035299\n",
      "Epoch 2/15000, Loss: 2926.4645576090284\n",
      "Epoch 3/15000, Loss: 2677.8744060115587\n",
      "Epoch 4/15000, Loss: 2518.4008667929456\n",
      "Epoch 5/15000, Loss: 2400.2362149922174\n",
      "Epoch 1/15000, Loss: 2228.417861955956\n",
      "Epoch 1/15000, Loss: 2054.209413928162\n"
     ]
    },
    {
     "data": {
      "application/vnd.plotly.v1+json": {
       "config": {
        "plotlyServerURL": "https://plot.ly"
       },
       "data": [
        {
         "mode": "lines+markers",
         "type": "scatter",
         "x": [
          0.0005,
          0.0006,
          0.0007,
          0.0008,
          0.0009,
          0.001
         ],
         "y": [
          7,
          7,
          5,
          5,
          1,
          1
         ]
        }
       ],
       "layout": {
        "font": {
         "size": 20
        },
        "height": 720,
        "template": {
         "data": {
          "bar": [
           {
            "error_x": {
             "color": "#2a3f5f"
            },
            "error_y": {
             "color": "#2a3f5f"
            },
            "marker": {
             "line": {
              "color": "#E5ECF6",
              "width": 0.5
             },
             "pattern": {
              "fillmode": "overlay",
              "size": 10,
              "solidity": 0.2
             }
            },
            "type": "bar"
           }
          ],
          "barpolar": [
           {
            "marker": {
             "line": {
              "color": "#E5ECF6",
              "width": 0.5
             },
             "pattern": {
              "fillmode": "overlay",
              "size": 10,
              "solidity": 0.2
             }
            },
            "type": "barpolar"
           }
          ],
          "carpet": [
           {
            "aaxis": {
             "endlinecolor": "#2a3f5f",
             "gridcolor": "white",
             "linecolor": "white",
             "minorgridcolor": "white",
             "startlinecolor": "#2a3f5f"
            },
            "baxis": {
             "endlinecolor": "#2a3f5f",
             "gridcolor": "white",
             "linecolor": "white",
             "minorgridcolor": "white",
             "startlinecolor": "#2a3f5f"
            },
            "type": "carpet"
           }
          ],
          "choropleth": [
           {
            "colorbar": {
             "outlinewidth": 0,
             "ticks": ""
            },
            "type": "choropleth"
           }
          ],
          "contour": [
           {
            "colorbar": {
             "outlinewidth": 0,
             "ticks": ""
            },
            "colorscale": [
             [
              0,
              "#0d0887"
             ],
             [
              0.1111111111111111,
              "#46039f"
             ],
             [
              0.2222222222222222,
              "#7201a8"
             ],
             [
              0.3333333333333333,
              "#9c179e"
             ],
             [
              0.4444444444444444,
              "#bd3786"
             ],
             [
              0.5555555555555556,
              "#d8576b"
             ],
             [
              0.6666666666666666,
              "#ed7953"
             ],
             [
              0.7777777777777778,
              "#fb9f3a"
             ],
             [
              0.8888888888888888,
              "#fdca26"
             ],
             [
              1,
              "#f0f921"
             ]
            ],
            "type": "contour"
           }
          ],
          "contourcarpet": [
           {
            "colorbar": {
             "outlinewidth": 0,
             "ticks": ""
            },
            "type": "contourcarpet"
           }
          ],
          "heatmap": [
           {
            "colorbar": {
             "outlinewidth": 0,
             "ticks": ""
            },
            "colorscale": [
             [
              0,
              "#0d0887"
             ],
             [
              0.1111111111111111,
              "#46039f"
             ],
             [
              0.2222222222222222,
              "#7201a8"
             ],
             [
              0.3333333333333333,
              "#9c179e"
             ],
             [
              0.4444444444444444,
              "#bd3786"
             ],
             [
              0.5555555555555556,
              "#d8576b"
             ],
             [
              0.6666666666666666,
              "#ed7953"
             ],
             [
              0.7777777777777778,
              "#fb9f3a"
             ],
             [
              0.8888888888888888,
              "#fdca26"
             ],
             [
              1,
              "#f0f921"
             ]
            ],
            "type": "heatmap"
           }
          ],
          "heatmapgl": [
           {
            "colorbar": {
             "outlinewidth": 0,
             "ticks": ""
            },
            "colorscale": [
             [
              0,
              "#0d0887"
             ],
             [
              0.1111111111111111,
              "#46039f"
             ],
             [
              0.2222222222222222,
              "#7201a8"
             ],
             [
              0.3333333333333333,
              "#9c179e"
             ],
             [
              0.4444444444444444,
              "#bd3786"
             ],
             [
              0.5555555555555556,
              "#d8576b"
             ],
             [
              0.6666666666666666,
              "#ed7953"
             ],
             [
              0.7777777777777778,
              "#fb9f3a"
             ],
             [
              0.8888888888888888,
              "#fdca26"
             ],
             [
              1,
              "#f0f921"
             ]
            ],
            "type": "heatmapgl"
           }
          ],
          "histogram": [
           {
            "marker": {
             "pattern": {
              "fillmode": "overlay",
              "size": 10,
              "solidity": 0.2
             }
            },
            "type": "histogram"
           }
          ],
          "histogram2d": [
           {
            "colorbar": {
             "outlinewidth": 0,
             "ticks": ""
            },
            "colorscale": [
             [
              0,
              "#0d0887"
             ],
             [
              0.1111111111111111,
              "#46039f"
             ],
             [
              0.2222222222222222,
              "#7201a8"
             ],
             [
              0.3333333333333333,
              "#9c179e"
             ],
             [
              0.4444444444444444,
              "#bd3786"
             ],
             [
              0.5555555555555556,
              "#d8576b"
             ],
             [
              0.6666666666666666,
              "#ed7953"
             ],
             [
              0.7777777777777778,
              "#fb9f3a"
             ],
             [
              0.8888888888888888,
              "#fdca26"
             ],
             [
              1,
              "#f0f921"
             ]
            ],
            "type": "histogram2d"
           }
          ],
          "histogram2dcontour": [
           {
            "colorbar": {
             "outlinewidth": 0,
             "ticks": ""
            },
            "colorscale": [
             [
              0,
              "#0d0887"
             ],
             [
              0.1111111111111111,
              "#46039f"
             ],
             [
              0.2222222222222222,
              "#7201a8"
             ],
             [
              0.3333333333333333,
              "#9c179e"
             ],
             [
              0.4444444444444444,
              "#bd3786"
             ],
             [
              0.5555555555555556,
              "#d8576b"
             ],
             [
              0.6666666666666666,
              "#ed7953"
             ],
             [
              0.7777777777777778,
              "#fb9f3a"
             ],
             [
              0.8888888888888888,
              "#fdca26"
             ],
             [
              1,
              "#f0f921"
             ]
            ],
            "type": "histogram2dcontour"
           }
          ],
          "mesh3d": [
           {
            "colorbar": {
             "outlinewidth": 0,
             "ticks": ""
            },
            "type": "mesh3d"
           }
          ],
          "parcoords": [
           {
            "line": {
             "colorbar": {
              "outlinewidth": 0,
              "ticks": ""
             }
            },
            "type": "parcoords"
           }
          ],
          "pie": [
           {
            "automargin": true,
            "type": "pie"
           }
          ],
          "scatter": [
           {
            "fillpattern": {
             "fillmode": "overlay",
             "size": 10,
             "solidity": 0.2
            },
            "type": "scatter"
           }
          ],
          "scatter3d": [
           {
            "line": {
             "colorbar": {
              "outlinewidth": 0,
              "ticks": ""
             }
            },
            "marker": {
             "colorbar": {
              "outlinewidth": 0,
              "ticks": ""
             }
            },
            "type": "scatter3d"
           }
          ],
          "scattercarpet": [
           {
            "marker": {
             "colorbar": {
              "outlinewidth": 0,
              "ticks": ""
             }
            },
            "type": "scattercarpet"
           }
          ],
          "scattergeo": [
           {
            "marker": {
             "colorbar": {
              "outlinewidth": 0,
              "ticks": ""
             }
            },
            "type": "scattergeo"
           }
          ],
          "scattergl": [
           {
            "marker": {
             "colorbar": {
              "outlinewidth": 0,
              "ticks": ""
             }
            },
            "type": "scattergl"
           }
          ],
          "scattermapbox": [
           {
            "marker": {
             "colorbar": {
              "outlinewidth": 0,
              "ticks": ""
             }
            },
            "type": "scattermapbox"
           }
          ],
          "scatterpolar": [
           {
            "marker": {
             "colorbar": {
              "outlinewidth": 0,
              "ticks": ""
             }
            },
            "type": "scatterpolar"
           }
          ],
          "scatterpolargl": [
           {
            "marker": {
             "colorbar": {
              "outlinewidth": 0,
              "ticks": ""
             }
            },
            "type": "scatterpolargl"
           }
          ],
          "scatterternary": [
           {
            "marker": {
             "colorbar": {
              "outlinewidth": 0,
              "ticks": ""
             }
            },
            "type": "scatterternary"
           }
          ],
          "surface": [
           {
            "colorbar": {
             "outlinewidth": 0,
             "ticks": ""
            },
            "colorscale": [
             [
              0,
              "#0d0887"
             ],
             [
              0.1111111111111111,
              "#46039f"
             ],
             [
              0.2222222222222222,
              "#7201a8"
             ],
             [
              0.3333333333333333,
              "#9c179e"
             ],
             [
              0.4444444444444444,
              "#bd3786"
             ],
             [
              0.5555555555555556,
              "#d8576b"
             ],
             [
              0.6666666666666666,
              "#ed7953"
             ],
             [
              0.7777777777777778,
              "#fb9f3a"
             ],
             [
              0.8888888888888888,
              "#fdca26"
             ],
             [
              1,
              "#f0f921"
             ]
            ],
            "type": "surface"
           }
          ],
          "table": [
           {
            "cells": {
             "fill": {
              "color": "#EBF0F8"
             },
             "line": {
              "color": "white"
             }
            },
            "header": {
             "fill": {
              "color": "#C8D4E3"
             },
             "line": {
              "color": "white"
             }
            },
            "type": "table"
           }
          ]
         },
         "layout": {
          "annotationdefaults": {
           "arrowcolor": "#2a3f5f",
           "arrowhead": 0,
           "arrowwidth": 1
          },
          "autotypenumbers": "strict",
          "coloraxis": {
           "colorbar": {
            "outlinewidth": 0,
            "ticks": ""
           }
          },
          "colorscale": {
           "diverging": [
            [
             0,
             "#8e0152"
            ],
            [
             0.1,
             "#c51b7d"
            ],
            [
             0.2,
             "#de77ae"
            ],
            [
             0.3,
             "#f1b6da"
            ],
            [
             0.4,
             "#fde0ef"
            ],
            [
             0.5,
             "#f7f7f7"
            ],
            [
             0.6,
             "#e6f5d0"
            ],
            [
             0.7,
             "#b8e186"
            ],
            [
             0.8,
             "#7fbc41"
            ],
            [
             0.9,
             "#4d9221"
            ],
            [
             1,
             "#276419"
            ]
           ],
           "sequential": [
            [
             0,
             "#0d0887"
            ],
            [
             0.1111111111111111,
             "#46039f"
            ],
            [
             0.2222222222222222,
             "#7201a8"
            ],
            [
             0.3333333333333333,
             "#9c179e"
            ],
            [
             0.4444444444444444,
             "#bd3786"
            ],
            [
             0.5555555555555556,
             "#d8576b"
            ],
            [
             0.6666666666666666,
             "#ed7953"
            ],
            [
             0.7777777777777778,
             "#fb9f3a"
            ],
            [
             0.8888888888888888,
             "#fdca26"
            ],
            [
             1,
             "#f0f921"
            ]
           ],
           "sequentialminus": [
            [
             0,
             "#0d0887"
            ],
            [
             0.1111111111111111,
             "#46039f"
            ],
            [
             0.2222222222222222,
             "#7201a8"
            ],
            [
             0.3333333333333333,
             "#9c179e"
            ],
            [
             0.4444444444444444,
             "#bd3786"
            ],
            [
             0.5555555555555556,
             "#d8576b"
            ],
            [
             0.6666666666666666,
             "#ed7953"
            ],
            [
             0.7777777777777778,
             "#fb9f3a"
            ],
            [
             0.8888888888888888,
             "#fdca26"
            ],
            [
             1,
             "#f0f921"
            ]
           ]
          },
          "colorway": [
           "#636efa",
           "#EF553B",
           "#00cc96",
           "#ab63fa",
           "#FFA15A",
           "#19d3f3",
           "#FF6692",
           "#B6E880",
           "#FF97FF",
           "#FECB52"
          ],
          "font": {
           "color": "#2a3f5f"
          },
          "geo": {
           "bgcolor": "white",
           "lakecolor": "white",
           "landcolor": "#E5ECF6",
           "showlakes": true,
           "showland": true,
           "subunitcolor": "white"
          },
          "hoverlabel": {
           "align": "left"
          },
          "hovermode": "closest",
          "mapbox": {
           "style": "light"
          },
          "paper_bgcolor": "white",
          "plot_bgcolor": "#E5ECF6",
          "polar": {
           "angularaxis": {
            "gridcolor": "white",
            "linecolor": "white",
            "ticks": ""
           },
           "bgcolor": "#E5ECF6",
           "radialaxis": {
            "gridcolor": "white",
            "linecolor": "white",
            "ticks": ""
           }
          },
          "scene": {
           "xaxis": {
            "backgroundcolor": "#E5ECF6",
            "gridcolor": "white",
            "gridwidth": 2,
            "linecolor": "white",
            "showbackground": true,
            "ticks": "",
            "zerolinecolor": "white"
           },
           "yaxis": {
            "backgroundcolor": "#E5ECF6",
            "gridcolor": "white",
            "gridwidth": 2,
            "linecolor": "white",
            "showbackground": true,
            "ticks": "",
            "zerolinecolor": "white"
           },
           "zaxis": {
            "backgroundcolor": "#E5ECF6",
            "gridcolor": "white",
            "gridwidth": 2,
            "linecolor": "white",
            "showbackground": true,
            "ticks": "",
            "zerolinecolor": "white"
           }
          },
          "shapedefaults": {
           "line": {
            "color": "#2a3f5f"
           }
          },
          "ternary": {
           "aaxis": {
            "gridcolor": "white",
            "linecolor": "white",
            "ticks": ""
           },
           "baxis": {
            "gridcolor": "white",
            "linecolor": "white",
            "ticks": ""
           },
           "bgcolor": "#E5ECF6",
           "caxis": {
            "gridcolor": "white",
            "linecolor": "white",
            "ticks": ""
           }
          },
          "title": {
           "x": 0.05
          },
          "xaxis": {
           "automargin": true,
           "gridcolor": "white",
           "linecolor": "white",
           "ticks": "",
           "title": {
            "standoff": 15
           },
           "zerolinecolor": "white",
           "zerolinewidth": 2
          },
          "yaxis": {
           "automargin": true,
           "gridcolor": "white",
           "linecolor": "white",
           "ticks": "",
           "title": {
            "standoff": 15
           },
           "zerolinecolor": "white",
           "zerolinewidth": 2
          }
         }
        },
        "title": {
         "text": "Зависимость количества итераций обучения от коэффициента обучения"
        },
        "width": 1280,
        "xaxis": {
         "title": {
          "text": "Коэффициент обучения"
         }
        },
        "yaxis": {
         "title": {
          "text": "Количество итераций обучения"
         }
        }
       }
      }
     },
     "metadata": {},
     "output_type": "display_data"
    }
   ],
   "source": [
    "alphas = (0.0005, 0.0006, 0.0007, 0.0008, 0.0009, 0.001)\n",
    "epochs_amount: list[int] = []\n",
    "for alpha in alphas:\n",
    "    dl = LRNN(n, p, alpha)\n",
    "    dl.train(train, 15000, learn_by_loss=True, max_loss=2500)\n",
    "    epochs_amount.append(dl.epoch)\n",
    "fig = go.Figure()\n",
    "fig.add_trace(go.Scatter(x=alphas, y=epochs_amount, mode='lines+markers'))\n",
    "fig.update_layout(title='Зависимость количества итераций обучения от коэффициента обучения',\n",
    "                  xaxis_title='Коэффициент обучения',\n",
    "                  yaxis_title='Количество итераций обучения',\n",
    "                  height=720, width=1280,\n",
    "                  font=dict(size=20))\n",
    "fig.show()"
   ]
  },
  {
   "cell_type": "markdown",
   "metadata": {},
   "source": [
    "## Relationship between hidden layer dimension and epochs"
   ]
  },
  {
   "cell_type": "code",
   "execution_count": 51,
   "metadata": {},
   "outputs": [
    {
     "name": "stdout",
     "output_type": "stream",
     "text": [
      "Epoch 1/15000, Loss: 2104.968990713599\n",
      "Epoch 2/15000, Loss: 2019.2550776131714\n",
      "Epoch 3/15000, Loss: 1958.3129392005683\n",
      "Epoch 4/15000, Loss: 1907.9435974908552\n",
      "Epoch 5/15000, Loss: 1863.4194950637127\n",
      "Epoch 6/15000, Loss: 1822.6280545138698\n",
      "Epoch 7/15000, Loss: 1784.5881270229706\n",
      "Epoch 8/15000, Loss: 1748.8782690122873\n",
      "Epoch 9/15000, Loss: 1715.3552934458487\n",
      "Epoch 10/15000, Loss: 1683.9967934441636\n",
      "Epoch 11/15000, Loss: 1654.8097282059598\n",
      "Epoch 12/15000, Loss: 1627.780571621641\n",
      "Epoch 13/15000, Loss: 1602.8534185542771\n",
      "Epoch 14/15000, Loss: 1579.926319966997\n",
      "Epoch 15/15000, Loss: 1558.8582249746596\n",
      "Epoch 16/15000, Loss: 1539.4807953410495\n",
      "Epoch 17/15000, Loss: 1521.6111994123742\n",
      "Epoch 18/15000, Loss: 1505.0635987406615\n",
      "Epoch 19/15000, Loss: 1489.658261338539\n",
      "Epoch 20/15000, Loss: 1475.2280458209002\n",
      "Epoch 21/15000, Loss: 1461.6224642388675\n",
      "Epoch 22/15000, Loss: 1448.7097443552204\n",
      "Epoch 23/15000, Loss: 1436.3773661227453\n",
      "Epoch 24/15000, Loss: 1424.5315136244799\n",
      "Epoch 25/15000, Loss: 1413.0958114379237\n",
      "Epoch 26/15000, Loss: 1402.0096328803693\n",
      "Epoch 27/15000, Loss: 1391.2261925362527\n",
      "Epoch 28/15000, Loss: 1380.7105734157938\n",
      "Epoch 29/15000, Loss: 1370.4377912600942\n",
      "Epoch 30/15000, Loss: 1360.3909633787564\n",
      "Epoch 31/15000, Loss: 1350.5596244110623\n",
      "Epoch 32/15000, Loss: 1340.9382138697413\n",
      "Epoch 33/15000, Loss: 1331.5247479678496\n",
      "Epoch 34/15000, Loss: 1322.3196793104842\n",
      "Epoch 35/15000, Loss: 1313.324941376849\n",
      "Epoch 36/15000, Loss: 1304.5431696109529\n",
      "Epoch 37/15000, Loss: 1295.9770870024465\n",
      "Epoch 38/15000, Loss: 1287.62903910415\n",
      "Epoch 39/15000, Loss: 1279.5006614326974\n",
      "Epoch 40/15000, Loss: 1271.5926610928225\n",
      "Epoch 41/15000, Loss: 1263.904694195877\n",
      "Epoch 42/15000, Loss: 1256.4353211138668\n",
      "Epoch 43/15000, Loss: 1249.18202269205\n",
      "Epoch 44/15000, Loss: 1242.1412620830972\n",
      "Epoch 45/15000, Loss: 1235.3085787051853\n",
      "Epoch 46/15000, Loss: 1228.6787028154931\n",
      "Epoch 47/15000, Loss: 1222.2456811991008\n",
      "Epoch 48/15000, Loss: 1216.003006399386\n",
      "Epoch 49/15000, Loss: 1209.9437436848384\n",
      "Epoch 50/15000, Loss: 1204.060651512827\n",
      "Epoch 51/15000, Loss: 1198.3462925900023\n",
      "Epoch 52/15000, Loss: 1192.7931337377256\n",
      "Epoch 53/15000, Loss: 1187.3936336589907\n",
      "Epoch 54/15000, Loss: 1182.1403183897469\n",
      "Epoch 55/15000, Loss: 1177.0258447269102\n",
      "Epoch 56/15000, Loss: 1172.0430522839604\n",
      "Epoch 57/15000, Loss: 1167.1850050599123\n",
      "Epoch 58/15000, Loss: 1162.4450235431914\n",
      "Epoch 59/15000, Loss: 1157.8167084315057\n",
      "Epoch 60/15000, Loss: 1153.2939570511749\n",
      "Epoch 61/15000, Loss: 1148.8709735213877\n",
      "Epoch 62/15000, Loss: 1144.5422736434564\n",
      "Epoch 63/15000, Loss: 1140.302685413096\n",
      "Epoch 64/15000, Loss: 1136.1473459629415\n",
      "Epoch 65/15000, Loss: 1132.0716956492788\n",
      "Epoch 66/15000, Loss: 1128.0714699051641\n",
      "Epoch 67/15000, Loss: 1124.1426893949824\n",
      "Epoch 68/15000, Loss: 1120.281648924825\n",
      "Epoch 69/15000, Loss: 1116.4849054897654\n",
      "Epoch 70/15000, Loss: 1112.749265773584\n",
      "Epoch 71/15000, Loss: 1109.07177335909\n",
      "Epoch 72/15000, Loss: 1105.449695856922\n",
      "Epoch 73/15000, Loss: 1101.8805121178466\n",
      "Epoch 74/15000, Loss: 1098.3618996569248\n",
      "Epoch 75/15000, Loss: 1094.891722387225\n",
      "Epoch 76/15000, Loss: 1091.4680187350555\n",
      "Epoch 77/15000, Loss: 1088.0889901877003\n",
      "Epoch 78/15000, Loss: 1084.7529903073525\n",
      "Epoch 79/15000, Loss: 1081.4585142311942\n",
      "Epoch 80/15000, Loss: 1078.2041886665381\n",
      "Epoch 81/15000, Loss: 1074.9887623815073\n",
      "Epoch 82/15000, Loss: 1071.8110971850683\n",
      "Epoch 83/15000, Loss: 1068.6701593855453\n",
      "Epoch 84/15000, Loss: 1065.5650117131975\n",
      "Epoch 85/15000, Loss: 1062.4948056901128\n",
      "Epoch 86/15000, Loss: 1059.4587744293176\n",
      "Epoch 87/15000, Loss: 1056.4562258441692\n",
      "Epoch 88/15000, Loss: 1053.4865362490855\n",
      "Epoch 89/15000, Loss: 1050.549144332807\n",
      "Epoch 90/15000, Loss: 1047.6435454860289\n",
      "Epoch 91/15000, Loss: 1044.7692864660066\n",
      "Epoch 92/15000, Loss: 1041.925960381711\n",
      "Epoch 93/15000, Loss: 1039.1132019840236\n",
      "Epoch 94/15000, Loss: 1036.3306832466249\n",
      "Epoch 95/15000, Loss: 1033.5781092241116\n",
      "Epoch 96/15000, Loss: 1030.855214174985\n",
      "Epoch 97/15000, Loss: 1028.161757937966\n",
      "Epoch 98/15000, Loss: 1025.4975225509586\n",
      "Epoch 99/15000, Loss: 1022.8623091027622\n",
      "Epoch 100/15000, Loss: 1020.255934808164\n",
      "Epoch 101/15000, Loss: 1017.678230297737\n",
      "Epoch 102/15000, Loss: 1015.1290371139834\n",
      "Epoch 103/15000, Loss: 1012.6082054058965\n",
      "Epoch 104/15000, Loss: 1010.1155918142616\n",
      "Epoch 105/15000, Loss: 1007.6510575402486\n",
      "Epoch 106/15000, Loss: 1005.2144665899596\n",
      "Epoch 107/15000, Loss: 1002.8056841876562\n",
      "Epoch 108/15000, Loss: 1000.4245753505268\n",
      "Epoch 109/15000, Loss: 998.0710036177621\n",
      "Epoch 1/15000, Loss: 2086.9142134145836\n",
      "Epoch 2/15000, Loss: 1955.2390030584618\n",
      "Epoch 3/15000, Loss: 1864.0181163069603\n",
      "Epoch 4/15000, Loss: 1788.3446925975338\n",
      "Epoch 5/15000, Loss: 1720.8444442219102\n",
      "Epoch 6/15000, Loss: 1659.2939188154487\n",
      "Epoch 7/15000, Loss: 1603.3340427153355\n",
      "Epoch 8/15000, Loss: 1553.123735812661\n",
      "Epoch 9/15000, Loss: 1508.711237541545\n",
      "Epoch 10/15000, Loss: 1469.8213801009078\n",
      "Epoch 11/15000, Loss: 1435.8891953453465\n",
      "Epoch 12/15000, Loss: 1406.1921150436224\n",
      "Epoch 13/15000, Loss: 1379.981109020924\n",
      "Epoch 14/15000, Loss: 1356.5690851007892\n",
      "Epoch 15/15000, Loss: 1335.3737619798294\n",
      "Epoch 16/15000, Loss: 1315.9277997883905\n",
      "Epoch 17/15000, Loss: 1297.8704217240042\n",
      "Epoch 18/15000, Loss: 1280.9310158492535\n",
      "Epoch 19/15000, Loss: 1264.910985799353\n",
      "Epoch 20/15000, Loss: 1249.6669943573404\n",
      "Epoch 21/15000, Loss: 1235.0968328754225\n",
      "Epoch 22/15000, Loss: 1221.128131274206\n",
      "Epoch 23/15000, Loss: 1207.7096555071212\n",
      "Epoch 24/15000, Loss: 1194.8047734883946\n",
      "Epoch 25/15000, Loss: 1182.386653305279\n",
      "Epoch 26/15000, Loss: 1170.4348037581772\n",
      "Epoch 27/15000, Loss: 1158.9326333335976\n",
      "Epoch 28/15000, Loss: 1147.865769463598\n",
      "Epoch 29/15000, Loss: 1137.2209374156366\n",
      "Epoch 30/15000, Loss: 1126.9852453462208\n",
      "Epoch 31/15000, Loss: 1117.1457594674887\n",
      "Epoch 32/15000, Loss: 1107.6892823624805\n",
      "Epoch 33/15000, Loss: 1098.602269838505\n",
      "Epoch 34/15000, Loss: 1089.870838769432\n",
      "Epoch 35/15000, Loss: 1081.4808313388996\n",
      "Epoch 36/15000, Loss: 1073.4179109008164\n",
      "Epoch 37/15000, Loss: 1065.6676720540995\n",
      "Epoch 38/15000, Loss: 1058.2157530484758\n",
      "Epoch 39/15000, Loss: 1051.0479427307544\n",
      "Epoch 40/15000, Loss: 1044.1502772401223\n",
      "Epoch 41/15000, Loss: 1037.5091238251891\n",
      "Epoch 42/15000, Loss: 1031.1112506853106\n",
      "Epoch 43/15000, Loss: 1024.9438827899617\n",
      "Epoch 44/15000, Loss: 1018.994744323745\n",
      "Epoch 45/15000, Loss: 1013.2520888346136\n",
      "Epoch 46/15000, Loss: 1007.704718401096\n",
      "Epoch 47/15000, Loss: 1002.3419932360068\n",
      "Epoch 48/15000, Loss: 997.1538331511343\n",
      "Epoch 1/15000, Loss: 2328.5487374693766\n",
      "Epoch 2/15000, Loss: 2103.5261552796323\n",
      "Epoch 3/15000, Loss: 1949.6852230262764\n",
      "Epoch 4/15000, Loss: 1827.2348939456367\n",
      "Epoch 5/15000, Loss: 1726.2308716045497\n",
      "Epoch 6/15000, Loss: 1642.728457467129\n",
      "Epoch 7/15000, Loss: 1573.8630929828794\n",
      "Epoch 8/15000, Loss: 1516.8189665506939\n",
      "Epoch 9/15000, Loss: 1468.930735309515\n",
      "Epoch 10/15000, Loss: 1427.9284462826924\n",
      "Epoch 11/15000, Loss: 1392.0423077026348\n",
      "Epoch 12/15000, Loss: 1359.9756939985969\n",
      "Epoch 13/15000, Loss: 1330.8167316482993\n",
      "Epoch 14/15000, Loss: 1303.9396603920388\n",
      "Epoch 15/15000, Loss: 1278.9195649619762\n",
      "Epoch 16/15000, Loss: 1255.466907220338\n",
      "Epoch 17/15000, Loss: 1233.380594897396\n",
      "Epoch 18/15000, Loss: 1212.5158835847758\n",
      "Epoch 19/15000, Loss: 1192.7632504797239\n",
      "Epoch 20/15000, Loss: 1174.0349922295034\n",
      "Epoch 21/15000, Loss: 1156.257051985821\n",
      "Epoch 22/15000, Loss: 1139.364253378395\n",
      "Epoch 23/15000, Loss: 1123.297659244858\n",
      "Epoch 24/15000, Loss: 1108.0031851911185\n",
      "Epoch 25/15000, Loss: 1093.4309018956262\n",
      "Epoch 26/15000, Loss: 1079.5346764856306\n",
      "Epoch 27/15000, Loss: 1066.2719514326059\n",
      "Epoch 28/15000, Loss: 1053.6035559686181\n",
      "Epoch 29/15000, Loss: 1041.4935042300438\n",
      "Epoch 30/15000, Loss: 1029.9087677923776\n",
      "Epoch 31/15000, Loss: 1018.8190269667459\n",
      "Epoch 32/15000, Loss: 1008.1964117696983\n",
      "Epoch 33/15000, Loss: 998.0152443822716\n",
      "Epoch 1/15000, Loss: 2866.4031815639364\n",
      "Epoch 2/15000, Loss: 2349.298809021214\n",
      "Epoch 3/15000, Loss: 2092.5217217277695\n",
      "Epoch 4/15000, Loss: 1924.9440057715494\n",
      "Epoch 5/15000, Loss: 1805.4417774753686\n",
      "Epoch 6/15000, Loss: 1714.5055933109775\n",
      "Epoch 7/15000, Loss: 1640.8317870410538\n",
      "Epoch 8/15000, Loss: 1578.0853073432725\n",
      "Epoch 9/15000, Loss: 1522.8371648828745\n",
      "Epoch 10/15000, Loss: 1473.18297398281\n",
      "Epoch 11/15000, Loss: 1427.9879191134087\n",
      "Epoch 12/15000, Loss: 1386.5182529010924\n",
      "Epoch 13/15000, Loss: 1348.2630427962981\n",
      "Epoch 14/15000, Loss: 1312.8428680085133\n",
      "Epoch 15/15000, Loss: 1279.9597212139333\n",
      "Epoch 16/15000, Loss: 1249.3682822386904\n",
      "Epoch 17/15000, Loss: 1220.859191193214\n",
      "Epoch 18/15000, Loss: 1194.2492991149838\n",
      "Epoch 19/15000, Loss: 1169.3759462383055\n",
      "Epoch 20/15000, Loss: 1146.0934784985257\n",
      "Epoch 21/15000, Loss: 1124.2709365555772\n",
      "Epoch 22/15000, Loss: 1103.7903187150532\n",
      "Epoch 23/15000, Loss: 1084.5451144670383\n",
      "Epoch 24/15000, Loss: 1066.43898084159\n",
      "Epoch 25/15000, Loss: 1049.3845271801083\n",
      "Epoch 26/15000, Loss: 1033.3022143351084\n",
      "Epoch 27/15000, Loss: 1018.1193837189511\n",
      "Epoch 28/15000, Loss: 1003.7694256957175\n",
      "Epoch 29/15000, Loss: 990.1910857822692\n",
      "Epoch 1/15000, Loss: 2676.3131659806704\n",
      "Epoch 2/15000, Loss: 2242.615895112084\n",
      "Epoch 3/15000, Loss: 1950.083651402092\n",
      "Epoch 4/15000, Loss: 1759.8391356497496\n",
      "Epoch 5/15000, Loss: 1635.6433723109456\n",
      "Epoch 6/15000, Loss: 1546.9715272073474\n",
      "Epoch 7/15000, Loss: 1476.847549498854\n",
      "Epoch 8/15000, Loss: 1417.3372029990983\n",
      "Epoch 9/15000, Loss: 1364.8320320315188\n",
      "Epoch 10/15000, Loss: 1317.5966175899193\n",
      "Epoch 11/15000, Loss: 1274.6910315591247\n",
      "Epoch 12/15000, Loss: 1235.5184989429042\n",
      "Epoch 13/15000, Loss: 1199.638531603509\n",
      "Epoch 14/15000, Loss: 1166.6907388688744\n",
      "Epoch 15/15000, Loss: 1136.3641232861467\n",
      "Epoch 16/15000, Loss: 1108.3845317689431\n",
      "Epoch 17/15000, Loss: 1082.5089233431877\n",
      "Epoch 18/15000, Loss: 1058.5219107005175\n",
      "Epoch 19/15000, Loss: 1036.2329135830184\n",
      "Epoch 20/15000, Loss: 1015.4734436631296\n",
      "Epoch 21/15000, Loss: 996.09447839598\n",
      "Epoch 1/15000, Loss: 2280.275230814112\n",
      "Epoch 2/15000, Loss: 2051.9514449371854\n",
      "Epoch 3/15000, Loss: 1885.8820525605172\n",
      "Epoch 4/15000, Loss: 1747.3768602157975\n",
      "Epoch 5/15000, Loss: 1630.1617383463029\n",
      "Epoch 6/15000, Loss: 1532.4005297268798\n",
      "Epoch 7/15000, Loss: 1451.4515663893326\n",
      "Epoch 8/15000, Loss: 1383.7886340051703\n",
      "Epoch 9/15000, Loss: 1326.0604444168418\n",
      "Epoch 10/15000, Loss: 1275.6867818634692\n",
      "Epoch 11/15000, Loss: 1230.897844807072\n",
      "Epoch 12/15000, Loss: 1190.5381805322409\n",
      "Epoch 13/15000, Loss: 1153.8516800795164\n",
      "Epoch 14/15000, Loss: 1120.3209194208332\n",
      "Epoch 15/15000, Loss: 1089.5651561467716\n",
      "Epoch 16/15000, Loss: 1061.2816246968496\n",
      "Epoch 17/15000, Loss: 1035.2142016691123\n",
      "Epoch 18/15000, Loss: 1011.1377560315913\n",
      "Epoch 19/15000, Loss: 988.8507484096496\n",
      "Epoch 1/15000, Loss: 2310.8429305009317\n",
      "Epoch 2/15000, Loss: 2052.744347059268\n",
      "Epoch 3/15000, Loss: 1860.4704420530675\n",
      "Epoch 4/15000, Loss: 1704.757318591808\n",
      "Epoch 5/15000, Loss: 1582.506230446668\n",
      "Epoch 6/15000, Loss: 1488.378064465749\n",
      "Epoch 7/15000, Loss: 1414.1207264272073\n",
      "Epoch 8/15000, Loss: 1352.6031538193029\n",
      "Epoch 9/15000, Loss: 1299.2221871144825\n",
      "Epoch 10/15000, Loss: 1251.3666117900445\n",
      "Epoch 11/15000, Loss: 1207.6110712118214\n",
      "Epoch 12/15000, Loss: 1167.1692142058512\n",
      "Epoch 13/15000, Loss: 1129.588600403975\n",
      "Epoch 14/15000, Loss: 1094.589042900268\n",
      "Epoch 15/15000, Loss: 1061.9769207546017\n",
      "Epoch 16/15000, Loss: 1031.5992594728204\n",
      "Epoch 17/15000, Loss: 1003.3193207490606\n",
      "Epoch 18/15000, Loss: 977.0044062247641\n"
     ]
    },
    {
     "data": {
      "application/vnd.plotly.v1+json": {
       "config": {
        "plotlyServerURL": "https://plot.ly"
       },
       "data": [
        {
         "mode": "lines+markers",
         "type": "scatter",
         "x": [
          4.807507403561401,
          3.846035506599797,
          3.2050460244609114,
          2.7471923693984746,
          2.4037999269244823,
          2.1367156116989454,
          1.9230473377332657
         ],
         "y": [
          109,
          48,
          33,
          29,
          21,
          19,
          18
         ]
        }
       ],
       "layout": {
        "font": {
         "size": 20
        },
        "height": 720,
        "template": {
         "data": {
          "bar": [
           {
            "error_x": {
             "color": "#2a3f5f"
            },
            "error_y": {
             "color": "#2a3f5f"
            },
            "marker": {
             "line": {
              "color": "#E5ECF6",
              "width": 0.5
             },
             "pattern": {
              "fillmode": "overlay",
              "size": 10,
              "solidity": 0.2
             }
            },
            "type": "bar"
           }
          ],
          "barpolar": [
           {
            "marker": {
             "line": {
              "color": "#E5ECF6",
              "width": 0.5
             },
             "pattern": {
              "fillmode": "overlay",
              "size": 10,
              "solidity": 0.2
             }
            },
            "type": "barpolar"
           }
          ],
          "carpet": [
           {
            "aaxis": {
             "endlinecolor": "#2a3f5f",
             "gridcolor": "white",
             "linecolor": "white",
             "minorgridcolor": "white",
             "startlinecolor": "#2a3f5f"
            },
            "baxis": {
             "endlinecolor": "#2a3f5f",
             "gridcolor": "white",
             "linecolor": "white",
             "minorgridcolor": "white",
             "startlinecolor": "#2a3f5f"
            },
            "type": "carpet"
           }
          ],
          "choropleth": [
           {
            "colorbar": {
             "outlinewidth": 0,
             "ticks": ""
            },
            "type": "choropleth"
           }
          ],
          "contour": [
           {
            "colorbar": {
             "outlinewidth": 0,
             "ticks": ""
            },
            "colorscale": [
             [
              0,
              "#0d0887"
             ],
             [
              0.1111111111111111,
              "#46039f"
             ],
             [
              0.2222222222222222,
              "#7201a8"
             ],
             [
              0.3333333333333333,
              "#9c179e"
             ],
             [
              0.4444444444444444,
              "#bd3786"
             ],
             [
              0.5555555555555556,
              "#d8576b"
             ],
             [
              0.6666666666666666,
              "#ed7953"
             ],
             [
              0.7777777777777778,
              "#fb9f3a"
             ],
             [
              0.8888888888888888,
              "#fdca26"
             ],
             [
              1,
              "#f0f921"
             ]
            ],
            "type": "contour"
           }
          ],
          "contourcarpet": [
           {
            "colorbar": {
             "outlinewidth": 0,
             "ticks": ""
            },
            "type": "contourcarpet"
           }
          ],
          "heatmap": [
           {
            "colorbar": {
             "outlinewidth": 0,
             "ticks": ""
            },
            "colorscale": [
             [
              0,
              "#0d0887"
             ],
             [
              0.1111111111111111,
              "#46039f"
             ],
             [
              0.2222222222222222,
              "#7201a8"
             ],
             [
              0.3333333333333333,
              "#9c179e"
             ],
             [
              0.4444444444444444,
              "#bd3786"
             ],
             [
              0.5555555555555556,
              "#d8576b"
             ],
             [
              0.6666666666666666,
              "#ed7953"
             ],
             [
              0.7777777777777778,
              "#fb9f3a"
             ],
             [
              0.8888888888888888,
              "#fdca26"
             ],
             [
              1,
              "#f0f921"
             ]
            ],
            "type": "heatmap"
           }
          ],
          "heatmapgl": [
           {
            "colorbar": {
             "outlinewidth": 0,
             "ticks": ""
            },
            "colorscale": [
             [
              0,
              "#0d0887"
             ],
             [
              0.1111111111111111,
              "#46039f"
             ],
             [
              0.2222222222222222,
              "#7201a8"
             ],
             [
              0.3333333333333333,
              "#9c179e"
             ],
             [
              0.4444444444444444,
              "#bd3786"
             ],
             [
              0.5555555555555556,
              "#d8576b"
             ],
             [
              0.6666666666666666,
              "#ed7953"
             ],
             [
              0.7777777777777778,
              "#fb9f3a"
             ],
             [
              0.8888888888888888,
              "#fdca26"
             ],
             [
              1,
              "#f0f921"
             ]
            ],
            "type": "heatmapgl"
           }
          ],
          "histogram": [
           {
            "marker": {
             "pattern": {
              "fillmode": "overlay",
              "size": 10,
              "solidity": 0.2
             }
            },
            "type": "histogram"
           }
          ],
          "histogram2d": [
           {
            "colorbar": {
             "outlinewidth": 0,
             "ticks": ""
            },
            "colorscale": [
             [
              0,
              "#0d0887"
             ],
             [
              0.1111111111111111,
              "#46039f"
             ],
             [
              0.2222222222222222,
              "#7201a8"
             ],
             [
              0.3333333333333333,
              "#9c179e"
             ],
             [
              0.4444444444444444,
              "#bd3786"
             ],
             [
              0.5555555555555556,
              "#d8576b"
             ],
             [
              0.6666666666666666,
              "#ed7953"
             ],
             [
              0.7777777777777778,
              "#fb9f3a"
             ],
             [
              0.8888888888888888,
              "#fdca26"
             ],
             [
              1,
              "#f0f921"
             ]
            ],
            "type": "histogram2d"
           }
          ],
          "histogram2dcontour": [
           {
            "colorbar": {
             "outlinewidth": 0,
             "ticks": ""
            },
            "colorscale": [
             [
              0,
              "#0d0887"
             ],
             [
              0.1111111111111111,
              "#46039f"
             ],
             [
              0.2222222222222222,
              "#7201a8"
             ],
             [
              0.3333333333333333,
              "#9c179e"
             ],
             [
              0.4444444444444444,
              "#bd3786"
             ],
             [
              0.5555555555555556,
              "#d8576b"
             ],
             [
              0.6666666666666666,
              "#ed7953"
             ],
             [
              0.7777777777777778,
              "#fb9f3a"
             ],
             [
              0.8888888888888888,
              "#fdca26"
             ],
             [
              1,
              "#f0f921"
             ]
            ],
            "type": "histogram2dcontour"
           }
          ],
          "mesh3d": [
           {
            "colorbar": {
             "outlinewidth": 0,
             "ticks": ""
            },
            "type": "mesh3d"
           }
          ],
          "parcoords": [
           {
            "line": {
             "colorbar": {
              "outlinewidth": 0,
              "ticks": ""
             }
            },
            "type": "parcoords"
           }
          ],
          "pie": [
           {
            "automargin": true,
            "type": "pie"
           }
          ],
          "scatter": [
           {
            "fillpattern": {
             "fillmode": "overlay",
             "size": 10,
             "solidity": 0.2
            },
            "type": "scatter"
           }
          ],
          "scatter3d": [
           {
            "line": {
             "colorbar": {
              "outlinewidth": 0,
              "ticks": ""
             }
            },
            "marker": {
             "colorbar": {
              "outlinewidth": 0,
              "ticks": ""
             }
            },
            "type": "scatter3d"
           }
          ],
          "scattercarpet": [
           {
            "marker": {
             "colorbar": {
              "outlinewidth": 0,
              "ticks": ""
             }
            },
            "type": "scattercarpet"
           }
          ],
          "scattergeo": [
           {
            "marker": {
             "colorbar": {
              "outlinewidth": 0,
              "ticks": ""
             }
            },
            "type": "scattergeo"
           }
          ],
          "scattergl": [
           {
            "marker": {
             "colorbar": {
              "outlinewidth": 0,
              "ticks": ""
             }
            },
            "type": "scattergl"
           }
          ],
          "scattermapbox": [
           {
            "marker": {
             "colorbar": {
              "outlinewidth": 0,
              "ticks": ""
             }
            },
            "type": "scattermapbox"
           }
          ],
          "scatterpolar": [
           {
            "marker": {
             "colorbar": {
              "outlinewidth": 0,
              "ticks": ""
             }
            },
            "type": "scatterpolar"
           }
          ],
          "scatterpolargl": [
           {
            "marker": {
             "colorbar": {
              "outlinewidth": 0,
              "ticks": ""
             }
            },
            "type": "scatterpolargl"
           }
          ],
          "scatterternary": [
           {
            "marker": {
             "colorbar": {
              "outlinewidth": 0,
              "ticks": ""
             }
            },
            "type": "scatterternary"
           }
          ],
          "surface": [
           {
            "colorbar": {
             "outlinewidth": 0,
             "ticks": ""
            },
            "colorscale": [
             [
              0,
              "#0d0887"
             ],
             [
              0.1111111111111111,
              "#46039f"
             ],
             [
              0.2222222222222222,
              "#7201a8"
             ],
             [
              0.3333333333333333,
              "#9c179e"
             ],
             [
              0.4444444444444444,
              "#bd3786"
             ],
             [
              0.5555555555555556,
              "#d8576b"
             ],
             [
              0.6666666666666666,
              "#ed7953"
             ],
             [
              0.7777777777777778,
              "#fb9f3a"
             ],
             [
              0.8888888888888888,
              "#fdca26"
             ],
             [
              1,
              "#f0f921"
             ]
            ],
            "type": "surface"
           }
          ],
          "table": [
           {
            "cells": {
             "fill": {
              "color": "#EBF0F8"
             },
             "line": {
              "color": "white"
             }
            },
            "header": {
             "fill": {
              "color": "#C8D4E3"
             },
             "line": {
              "color": "white"
             }
            },
            "type": "table"
           }
          ]
         },
         "layout": {
          "annotationdefaults": {
           "arrowcolor": "#2a3f5f",
           "arrowhead": 0,
           "arrowwidth": 1
          },
          "autotypenumbers": "strict",
          "coloraxis": {
           "colorbar": {
            "outlinewidth": 0,
            "ticks": ""
           }
          },
          "colorscale": {
           "diverging": [
            [
             0,
             "#8e0152"
            ],
            [
             0.1,
             "#c51b7d"
            ],
            [
             0.2,
             "#de77ae"
            ],
            [
             0.3,
             "#f1b6da"
            ],
            [
             0.4,
             "#fde0ef"
            ],
            [
             0.5,
             "#f7f7f7"
            ],
            [
             0.6,
             "#e6f5d0"
            ],
            [
             0.7,
             "#b8e186"
            ],
            [
             0.8,
             "#7fbc41"
            ],
            [
             0.9,
             "#4d9221"
            ],
            [
             1,
             "#276419"
            ]
           ],
           "sequential": [
            [
             0,
             "#0d0887"
            ],
            [
             0.1111111111111111,
             "#46039f"
            ],
            [
             0.2222222222222222,
             "#7201a8"
            ],
            [
             0.3333333333333333,
             "#9c179e"
            ],
            [
             0.4444444444444444,
             "#bd3786"
            ],
            [
             0.5555555555555556,
             "#d8576b"
            ],
            [
             0.6666666666666666,
             "#ed7953"
            ],
            [
             0.7777777777777778,
             "#fb9f3a"
            ],
            [
             0.8888888888888888,
             "#fdca26"
            ],
            [
             1,
             "#f0f921"
            ]
           ],
           "sequentialminus": [
            [
             0,
             "#0d0887"
            ],
            [
             0.1111111111111111,
             "#46039f"
            ],
            [
             0.2222222222222222,
             "#7201a8"
            ],
            [
             0.3333333333333333,
             "#9c179e"
            ],
            [
             0.4444444444444444,
             "#bd3786"
            ],
            [
             0.5555555555555556,
             "#d8576b"
            ],
            [
             0.6666666666666666,
             "#ed7953"
            ],
            [
             0.7777777777777778,
             "#fb9f3a"
            ],
            [
             0.8888888888888888,
             "#fdca26"
            ],
            [
             1,
             "#f0f921"
            ]
           ]
          },
          "colorway": [
           "#636efa",
           "#EF553B",
           "#00cc96",
           "#ab63fa",
           "#FFA15A",
           "#19d3f3",
           "#FF6692",
           "#B6E880",
           "#FF97FF",
           "#FECB52"
          ],
          "font": {
           "color": "#2a3f5f"
          },
          "geo": {
           "bgcolor": "white",
           "lakecolor": "white",
           "landcolor": "#E5ECF6",
           "showlakes": true,
           "showland": true,
           "subunitcolor": "white"
          },
          "hoverlabel": {
           "align": "left"
          },
          "hovermode": "closest",
          "mapbox": {
           "style": "light"
          },
          "paper_bgcolor": "white",
          "plot_bgcolor": "#E5ECF6",
          "polar": {
           "angularaxis": {
            "gridcolor": "white",
            "linecolor": "white",
            "ticks": ""
           },
           "bgcolor": "#E5ECF6",
           "radialaxis": {
            "gridcolor": "white",
            "linecolor": "white",
            "ticks": ""
           }
          },
          "scene": {
           "xaxis": {
            "backgroundcolor": "#E5ECF6",
            "gridcolor": "white",
            "gridwidth": 2,
            "linecolor": "white",
            "showbackground": true,
            "ticks": "",
            "zerolinecolor": "white"
           },
           "yaxis": {
            "backgroundcolor": "#E5ECF6",
            "gridcolor": "white",
            "gridwidth": 2,
            "linecolor": "white",
            "showbackground": true,
            "ticks": "",
            "zerolinecolor": "white"
           },
           "zaxis": {
            "backgroundcolor": "#E5ECF6",
            "gridcolor": "white",
            "gridwidth": 2,
            "linecolor": "white",
            "showbackground": true,
            "ticks": "",
            "zerolinecolor": "white"
           }
          },
          "shapedefaults": {
           "line": {
            "color": "#2a3f5f"
           }
          },
          "ternary": {
           "aaxis": {
            "gridcolor": "white",
            "linecolor": "white",
            "ticks": ""
           },
           "baxis": {
            "gridcolor": "white",
            "linecolor": "white",
            "ticks": ""
           },
           "bgcolor": "#E5ECF6",
           "caxis": {
            "gridcolor": "white",
            "linecolor": "white",
            "ticks": ""
           }
          },
          "title": {
           "x": 0.05
          },
          "xaxis": {
           "automargin": true,
           "gridcolor": "white",
           "linecolor": "white",
           "ticks": "",
           "title": {
            "standoff": 15
           },
           "zerolinecolor": "white",
           "zerolinewidth": 2
          },
          "yaxis": {
           "automargin": true,
           "gridcolor": "white",
           "linecolor": "white",
           "ticks": "",
           "title": {
            "standoff": 15
           },
           "zerolinecolor": "white",
           "zerolinewidth": 2
          }
         }
        },
        "title": {
         "text": "Зависимость количества итераций обучения от коэффициента сжатия"
        },
        "width": 1280,
        "xaxis": {
         "title": {
          "text": "Коэффициент сжатия"
         }
        },
        "yaxis": {
         "title": {
          "text": "Количество итераций обучения"
         }
        }
       }
      }
     },
     "metadata": {},
     "output_type": "display_data"
    }
   ],
   "source": [
    "p_s = (20, 25, 30, 35, 40, 45, 50)\n",
    "epochs_amount: list[int] = []\n",
    "compression_rates: list[float] = []\n",
    "for p in p_s:\n",
    "    compression_rates.append((n*l) / ((n+l) * p + 2))\n",
    "    dl = LRNN(n, p, 0.001)\n",
    "    dl.train(train, 15000, learn_by_loss=True, max_loss=1000)\n",
    "    epochs_amount.append(dl.epoch)\n",
    "fig = go.Figure()\n",
    "fig.add_trace(go.Scatter(x=compression_rates, y=epochs_amount, mode='lines+markers'))\n",
    "fig.update_layout(title='Зависимость количества итераций обучения от коэффициента сжатия',\n",
    "                  xaxis_title='Коэффициент сжатия',\n",
    "                  yaxis_title='Количество итераций обучения',\n",
    "                  height=720, width=1280,\n",
    "                  font=dict(size=20))\n",
    "fig.show()"
   ]
  },
  {
   "cell_type": "markdown",
   "metadata": {},
   "source": [
    "## Relationship between max error and epochs"
   ]
  },
  {
   "cell_type": "code",
   "execution_count": 52,
   "metadata": {},
   "outputs": [
    {
     "name": "stdout",
     "output_type": "stream",
     "text": [
      "Epoch 1/15000, Loss: 2343.768156664494\n",
      "Epoch 2/15000, Loss: 2087.4381523296274\n",
      "Epoch 3/15000, Loss: 1894.415905677721\n",
      "Epoch 4/15000, Loss: 1732.0224563201148\n",
      "Epoch 5/15000, Loss: 1598.2393507501451\n",
      "Epoch 6/15000, Loss: 1491.7070989976003\n",
      "Epoch 7/15000, Loss: 1406.8306179635788\n",
      "Epoch 8/15000, Loss: 1337.0834495141123\n",
      "Epoch 9/15000, Loss: 1277.5696199989231\n",
      "Epoch 10/15000, Loss: 1225.2814703773493\n",
      "Epoch 11/15000, Loss: 1178.4998924153813\n",
      "Epoch 12/15000, Loss: 1136.2284534812889\n",
      "Epoch 13/15000, Loss: 1097.8390116884418\n",
      "Epoch 14/15000, Loss: 1062.8803939160525\n",
      "Epoch 15/15000, Loss: 1030.9840335605347\n",
      "Epoch 16/15000, Loss: 1001.8222367315383\n",
      "Epoch 17/15000, Loss: 975.0932020199671\n",
      "Epoch 18/15000, Loss: 950.5182246951895\n",
      "Epoch 19/15000, Loss: 927.8431756556537\n",
      "Epoch 20/15000, Loss: 906.840343148047\n",
      "Epoch 21/15000, Loss: 887.3090914226813\n",
      "Epoch 22/15000, Loss: 869.0750751479826\n",
      "Epoch 23/15000, Loss: 851.9883239480858\n",
      "Epoch 24/15000, Loss: 835.9206668292952\n",
      "Epoch 25/15000, Loss: 820.7629144935164\n",
      "Epoch 26/15000, Loss: 806.4220946153687\n",
      "Epoch 27/15000, Loss: 792.8189127320605\n",
      "Epoch 1/15000, Loss: 2358.4210238966107\n",
      "Epoch 2/15000, Loss: 2117.9822857656845\n",
      "Epoch 3/15000, Loss: 1929.2783293115137\n",
      "Epoch 4/15000, Loss: 1764.1679404165668\n",
      "Epoch 5/15000, Loss: 1622.9035864689638\n",
      "Epoch 6/15000, Loss: 1507.7766961737345\n",
      "Epoch 7/15000, Loss: 1415.9475270125308\n",
      "Epoch 8/15000, Loss: 1341.6366884404179\n",
      "Epoch 9/15000, Loss: 1279.521629931749\n",
      "Epoch 10/15000, Loss: 1225.9356404118325\n",
      "Epoch 11/15000, Loss: 1178.6443026499473\n",
      "Epoch 12/15000, Loss: 1136.3192270971783\n",
      "Epoch 13/15000, Loss: 1098.130075060493\n",
      "Epoch 14/15000, Loss: 1063.5014028132246\n",
      "Epoch 15/15000, Loss: 1031.9863075009503\n",
      "Epoch 16/15000, Loss: 1003.2078255409883\n",
      "Epoch 17/15000, Loss: 976.8350211666403\n",
      "Epoch 1/15000, Loss: 2325.991349293518\n",
      "Epoch 2/15000, Loss: 2058.89771517413\n",
      "Epoch 3/15000, Loss: 1870.332393013018\n",
      "Epoch 4/15000, Loss: 1723.2899949907553\n",
      "Epoch 5/15000, Loss: 1606.3228665666513\n",
      "Epoch 6/15000, Loss: 1511.637914294652\n",
      "Epoch 7/15000, Loss: 1432.7869978823564\n",
      "Epoch 8/15000, Loss: 1365.0046918103242\n",
      "Epoch 9/15000, Loss: 1305.1610479293104\n",
      "Epoch 10/15000, Loss: 1251.3420775841296\n",
      "Epoch 11/15000, Loss: 1202.4082921080067\n",
      "Epoch 12/15000, Loss: 1157.6684559599148\n",
      "Epoch 1/15000, Loss: 2315.610266005497\n",
      "Epoch 2/15000, Loss: 2061.865450836928\n",
      "Epoch 3/15000, Loss: 1868.1566809113326\n",
      "Epoch 4/15000, Loss: 1704.897358422325\n",
      "Epoch 5/15000, Loss: 1572.0442380742722\n",
      "Epoch 6/15000, Loss: 1468.2825902274283\n",
      "Epoch 7/15000, Loss: 1387.179437112091\n",
      "Epoch 1/15000, Loss: 2286.945028840731\n",
      "Epoch 2/15000, Loss: 2014.7170248342752\n",
      "Epoch 3/15000, Loss: 1828.0290103182365\n",
      "Epoch 4/15000, Loss: 1686.1224773183844\n",
      "Epoch 5/15000, Loss: 1575.4261742380377\n",
      "Epoch 1/15000, Loss: 2320.247147140856\n",
      "Epoch 2/15000, Loss: 2067.9264738296165\n",
      "Epoch 3/15000, Loss: 1882.7357291394146\n",
      "Epoch 4/15000, Loss: 1731.617912002986\n",
      "Epoch 1/15000, Loss: 2271.8338717323\n",
      "Epoch 2/15000, Loss: 1999.9718935895924\n",
      "Epoch 1/15000, Loss: 2300.9199894242497\n",
      "Epoch 2/15000, Loss: 2036.758998953644\n",
      "Epoch 1/15000, Loss: 2242.5240472775695\n",
      "Epoch 1/15000, Loss: 2281.0772000916954\n",
      "Epoch 1/15000, Loss: 2379.717834669625\n",
      "Epoch 1/15000, Loss: 2300.7525557912363\n",
      "Epoch 1/15000, Loss: 2283.702715493995\n",
      "Epoch 1/15000, Loss: 2257.28346170614\n",
      "Epoch 1/15000, Loss: 2284.6194891846626\n",
      "Epoch 1/15000, Loss: 2369.989856148866\n"
     ]
    },
    {
     "data": {
      "application/vnd.plotly.v1+json": {
       "config": {
        "plotlyServerURL": "https://plot.ly"
       },
       "data": [
        {
         "mode": "lines+markers",
         "type": "scatter",
         "x": [
          800,
          1000,
          1200,
          1400,
          1600,
          1800,
          2000,
          2200,
          2400,
          2600,
          2800,
          3000,
          3200,
          3400,
          3600,
          3800
         ],
         "y": [
          27,
          17,
          12,
          7,
          5,
          4,
          2,
          2,
          1,
          1,
          1,
          1,
          1,
          1,
          1,
          1
         ]
        }
       ],
       "layout": {
        "font": {
         "size": 20
        },
        "height": 720,
        "template": {
         "data": {
          "bar": [
           {
            "error_x": {
             "color": "#2a3f5f"
            },
            "error_y": {
             "color": "#2a3f5f"
            },
            "marker": {
             "line": {
              "color": "#E5ECF6",
              "width": 0.5
             },
             "pattern": {
              "fillmode": "overlay",
              "size": 10,
              "solidity": 0.2
             }
            },
            "type": "bar"
           }
          ],
          "barpolar": [
           {
            "marker": {
             "line": {
              "color": "#E5ECF6",
              "width": 0.5
             },
             "pattern": {
              "fillmode": "overlay",
              "size": 10,
              "solidity": 0.2
             }
            },
            "type": "barpolar"
           }
          ],
          "carpet": [
           {
            "aaxis": {
             "endlinecolor": "#2a3f5f",
             "gridcolor": "white",
             "linecolor": "white",
             "minorgridcolor": "white",
             "startlinecolor": "#2a3f5f"
            },
            "baxis": {
             "endlinecolor": "#2a3f5f",
             "gridcolor": "white",
             "linecolor": "white",
             "minorgridcolor": "white",
             "startlinecolor": "#2a3f5f"
            },
            "type": "carpet"
           }
          ],
          "choropleth": [
           {
            "colorbar": {
             "outlinewidth": 0,
             "ticks": ""
            },
            "type": "choropleth"
           }
          ],
          "contour": [
           {
            "colorbar": {
             "outlinewidth": 0,
             "ticks": ""
            },
            "colorscale": [
             [
              0,
              "#0d0887"
             ],
             [
              0.1111111111111111,
              "#46039f"
             ],
             [
              0.2222222222222222,
              "#7201a8"
             ],
             [
              0.3333333333333333,
              "#9c179e"
             ],
             [
              0.4444444444444444,
              "#bd3786"
             ],
             [
              0.5555555555555556,
              "#d8576b"
             ],
             [
              0.6666666666666666,
              "#ed7953"
             ],
             [
              0.7777777777777778,
              "#fb9f3a"
             ],
             [
              0.8888888888888888,
              "#fdca26"
             ],
             [
              1,
              "#f0f921"
             ]
            ],
            "type": "contour"
           }
          ],
          "contourcarpet": [
           {
            "colorbar": {
             "outlinewidth": 0,
             "ticks": ""
            },
            "type": "contourcarpet"
           }
          ],
          "heatmap": [
           {
            "colorbar": {
             "outlinewidth": 0,
             "ticks": ""
            },
            "colorscale": [
             [
              0,
              "#0d0887"
             ],
             [
              0.1111111111111111,
              "#46039f"
             ],
             [
              0.2222222222222222,
              "#7201a8"
             ],
             [
              0.3333333333333333,
              "#9c179e"
             ],
             [
              0.4444444444444444,
              "#bd3786"
             ],
             [
              0.5555555555555556,
              "#d8576b"
             ],
             [
              0.6666666666666666,
              "#ed7953"
             ],
             [
              0.7777777777777778,
              "#fb9f3a"
             ],
             [
              0.8888888888888888,
              "#fdca26"
             ],
             [
              1,
              "#f0f921"
             ]
            ],
            "type": "heatmap"
           }
          ],
          "heatmapgl": [
           {
            "colorbar": {
             "outlinewidth": 0,
             "ticks": ""
            },
            "colorscale": [
             [
              0,
              "#0d0887"
             ],
             [
              0.1111111111111111,
              "#46039f"
             ],
             [
              0.2222222222222222,
              "#7201a8"
             ],
             [
              0.3333333333333333,
              "#9c179e"
             ],
             [
              0.4444444444444444,
              "#bd3786"
             ],
             [
              0.5555555555555556,
              "#d8576b"
             ],
             [
              0.6666666666666666,
              "#ed7953"
             ],
             [
              0.7777777777777778,
              "#fb9f3a"
             ],
             [
              0.8888888888888888,
              "#fdca26"
             ],
             [
              1,
              "#f0f921"
             ]
            ],
            "type": "heatmapgl"
           }
          ],
          "histogram": [
           {
            "marker": {
             "pattern": {
              "fillmode": "overlay",
              "size": 10,
              "solidity": 0.2
             }
            },
            "type": "histogram"
           }
          ],
          "histogram2d": [
           {
            "colorbar": {
             "outlinewidth": 0,
             "ticks": ""
            },
            "colorscale": [
             [
              0,
              "#0d0887"
             ],
             [
              0.1111111111111111,
              "#46039f"
             ],
             [
              0.2222222222222222,
              "#7201a8"
             ],
             [
              0.3333333333333333,
              "#9c179e"
             ],
             [
              0.4444444444444444,
              "#bd3786"
             ],
             [
              0.5555555555555556,
              "#d8576b"
             ],
             [
              0.6666666666666666,
              "#ed7953"
             ],
             [
              0.7777777777777778,
              "#fb9f3a"
             ],
             [
              0.8888888888888888,
              "#fdca26"
             ],
             [
              1,
              "#f0f921"
             ]
            ],
            "type": "histogram2d"
           }
          ],
          "histogram2dcontour": [
           {
            "colorbar": {
             "outlinewidth": 0,
             "ticks": ""
            },
            "colorscale": [
             [
              0,
              "#0d0887"
             ],
             [
              0.1111111111111111,
              "#46039f"
             ],
             [
              0.2222222222222222,
              "#7201a8"
             ],
             [
              0.3333333333333333,
              "#9c179e"
             ],
             [
              0.4444444444444444,
              "#bd3786"
             ],
             [
              0.5555555555555556,
              "#d8576b"
             ],
             [
              0.6666666666666666,
              "#ed7953"
             ],
             [
              0.7777777777777778,
              "#fb9f3a"
             ],
             [
              0.8888888888888888,
              "#fdca26"
             ],
             [
              1,
              "#f0f921"
             ]
            ],
            "type": "histogram2dcontour"
           }
          ],
          "mesh3d": [
           {
            "colorbar": {
             "outlinewidth": 0,
             "ticks": ""
            },
            "type": "mesh3d"
           }
          ],
          "parcoords": [
           {
            "line": {
             "colorbar": {
              "outlinewidth": 0,
              "ticks": ""
             }
            },
            "type": "parcoords"
           }
          ],
          "pie": [
           {
            "automargin": true,
            "type": "pie"
           }
          ],
          "scatter": [
           {
            "fillpattern": {
             "fillmode": "overlay",
             "size": 10,
             "solidity": 0.2
            },
            "type": "scatter"
           }
          ],
          "scatter3d": [
           {
            "line": {
             "colorbar": {
              "outlinewidth": 0,
              "ticks": ""
             }
            },
            "marker": {
             "colorbar": {
              "outlinewidth": 0,
              "ticks": ""
             }
            },
            "type": "scatter3d"
           }
          ],
          "scattercarpet": [
           {
            "marker": {
             "colorbar": {
              "outlinewidth": 0,
              "ticks": ""
             }
            },
            "type": "scattercarpet"
           }
          ],
          "scattergeo": [
           {
            "marker": {
             "colorbar": {
              "outlinewidth": 0,
              "ticks": ""
             }
            },
            "type": "scattergeo"
           }
          ],
          "scattergl": [
           {
            "marker": {
             "colorbar": {
              "outlinewidth": 0,
              "ticks": ""
             }
            },
            "type": "scattergl"
           }
          ],
          "scattermapbox": [
           {
            "marker": {
             "colorbar": {
              "outlinewidth": 0,
              "ticks": ""
             }
            },
            "type": "scattermapbox"
           }
          ],
          "scatterpolar": [
           {
            "marker": {
             "colorbar": {
              "outlinewidth": 0,
              "ticks": ""
             }
            },
            "type": "scatterpolar"
           }
          ],
          "scatterpolargl": [
           {
            "marker": {
             "colorbar": {
              "outlinewidth": 0,
              "ticks": ""
             }
            },
            "type": "scatterpolargl"
           }
          ],
          "scatterternary": [
           {
            "marker": {
             "colorbar": {
              "outlinewidth": 0,
              "ticks": ""
             }
            },
            "type": "scatterternary"
           }
          ],
          "surface": [
           {
            "colorbar": {
             "outlinewidth": 0,
             "ticks": ""
            },
            "colorscale": [
             [
              0,
              "#0d0887"
             ],
             [
              0.1111111111111111,
              "#46039f"
             ],
             [
              0.2222222222222222,
              "#7201a8"
             ],
             [
              0.3333333333333333,
              "#9c179e"
             ],
             [
              0.4444444444444444,
              "#bd3786"
             ],
             [
              0.5555555555555556,
              "#d8576b"
             ],
             [
              0.6666666666666666,
              "#ed7953"
             ],
             [
              0.7777777777777778,
              "#fb9f3a"
             ],
             [
              0.8888888888888888,
              "#fdca26"
             ],
             [
              1,
              "#f0f921"
             ]
            ],
            "type": "surface"
           }
          ],
          "table": [
           {
            "cells": {
             "fill": {
              "color": "#EBF0F8"
             },
             "line": {
              "color": "white"
             }
            },
            "header": {
             "fill": {
              "color": "#C8D4E3"
             },
             "line": {
              "color": "white"
             }
            },
            "type": "table"
           }
          ]
         },
         "layout": {
          "annotationdefaults": {
           "arrowcolor": "#2a3f5f",
           "arrowhead": 0,
           "arrowwidth": 1
          },
          "autotypenumbers": "strict",
          "coloraxis": {
           "colorbar": {
            "outlinewidth": 0,
            "ticks": ""
           }
          },
          "colorscale": {
           "diverging": [
            [
             0,
             "#8e0152"
            ],
            [
             0.1,
             "#c51b7d"
            ],
            [
             0.2,
             "#de77ae"
            ],
            [
             0.3,
             "#f1b6da"
            ],
            [
             0.4,
             "#fde0ef"
            ],
            [
             0.5,
             "#f7f7f7"
            ],
            [
             0.6,
             "#e6f5d0"
            ],
            [
             0.7,
             "#b8e186"
            ],
            [
             0.8,
             "#7fbc41"
            ],
            [
             0.9,
             "#4d9221"
            ],
            [
             1,
             "#276419"
            ]
           ],
           "sequential": [
            [
             0,
             "#0d0887"
            ],
            [
             0.1111111111111111,
             "#46039f"
            ],
            [
             0.2222222222222222,
             "#7201a8"
            ],
            [
             0.3333333333333333,
             "#9c179e"
            ],
            [
             0.4444444444444444,
             "#bd3786"
            ],
            [
             0.5555555555555556,
             "#d8576b"
            ],
            [
             0.6666666666666666,
             "#ed7953"
            ],
            [
             0.7777777777777778,
             "#fb9f3a"
            ],
            [
             0.8888888888888888,
             "#fdca26"
            ],
            [
             1,
             "#f0f921"
            ]
           ],
           "sequentialminus": [
            [
             0,
             "#0d0887"
            ],
            [
             0.1111111111111111,
             "#46039f"
            ],
            [
             0.2222222222222222,
             "#7201a8"
            ],
            [
             0.3333333333333333,
             "#9c179e"
            ],
            [
             0.4444444444444444,
             "#bd3786"
            ],
            [
             0.5555555555555556,
             "#d8576b"
            ],
            [
             0.6666666666666666,
             "#ed7953"
            ],
            [
             0.7777777777777778,
             "#fb9f3a"
            ],
            [
             0.8888888888888888,
             "#fdca26"
            ],
            [
             1,
             "#f0f921"
            ]
           ]
          },
          "colorway": [
           "#636efa",
           "#EF553B",
           "#00cc96",
           "#ab63fa",
           "#FFA15A",
           "#19d3f3",
           "#FF6692",
           "#B6E880",
           "#FF97FF",
           "#FECB52"
          ],
          "font": {
           "color": "#2a3f5f"
          },
          "geo": {
           "bgcolor": "white",
           "lakecolor": "white",
           "landcolor": "#E5ECF6",
           "showlakes": true,
           "showland": true,
           "subunitcolor": "white"
          },
          "hoverlabel": {
           "align": "left"
          },
          "hovermode": "closest",
          "mapbox": {
           "style": "light"
          },
          "paper_bgcolor": "white",
          "plot_bgcolor": "#E5ECF6",
          "polar": {
           "angularaxis": {
            "gridcolor": "white",
            "linecolor": "white",
            "ticks": ""
           },
           "bgcolor": "#E5ECF6",
           "radialaxis": {
            "gridcolor": "white",
            "linecolor": "white",
            "ticks": ""
           }
          },
          "scene": {
           "xaxis": {
            "backgroundcolor": "#E5ECF6",
            "gridcolor": "white",
            "gridwidth": 2,
            "linecolor": "white",
            "showbackground": true,
            "ticks": "",
            "zerolinecolor": "white"
           },
           "yaxis": {
            "backgroundcolor": "#E5ECF6",
            "gridcolor": "white",
            "gridwidth": 2,
            "linecolor": "white",
            "showbackground": true,
            "ticks": "",
            "zerolinecolor": "white"
           },
           "zaxis": {
            "backgroundcolor": "#E5ECF6",
            "gridcolor": "white",
            "gridwidth": 2,
            "linecolor": "white",
            "showbackground": true,
            "ticks": "",
            "zerolinecolor": "white"
           }
          },
          "shapedefaults": {
           "line": {
            "color": "#2a3f5f"
           }
          },
          "ternary": {
           "aaxis": {
            "gridcolor": "white",
            "linecolor": "white",
            "ticks": ""
           },
           "baxis": {
            "gridcolor": "white",
            "linecolor": "white",
            "ticks": ""
           },
           "bgcolor": "#E5ECF6",
           "caxis": {
            "gridcolor": "white",
            "linecolor": "white",
            "ticks": ""
           }
          },
          "title": {
           "x": 0.05
          },
          "xaxis": {
           "automargin": true,
           "gridcolor": "white",
           "linecolor": "white",
           "ticks": "",
           "title": {
            "standoff": 15
           },
           "zerolinecolor": "white",
           "zerolinewidth": 2
          },
          "yaxis": {
           "automargin": true,
           "gridcolor": "white",
           "linecolor": "white",
           "ticks": "",
           "title": {
            "standoff": 15
           },
           "zerolinecolor": "white",
           "zerolinewidth": 2
          }
         }
        },
        "title": {
         "text": "Зависимость количества итераций обучения от значения максимальной ошибки"
        },
        "width": 1280,
        "xaxis": {
         "title": {
          "text": "Значение максимальной ошибки"
         }
        },
        "yaxis": {
         "title": {
          "text": "Количество итераций обучения"
         }
        }
       }
      }
     },
     "metadata": {},
     "output_type": "display_data"
    }
   ],
   "source": [
    "max_errors = list(range(800, 4000, 200))\n",
    "epochs_amount: list[int] = []\n",
    "for err in max_errors:    \n",
    "    dl = LRNN(n, 50, 0.001)\n",
    "    dl.train(train, 15000, learn_by_loss=True, max_loss=err)\n",
    "    epochs_amount.append(dl.epoch)\n",
    "fig = go.Figure()\n",
    "fig.add_trace(go.Scatter(x=max_errors, y=epochs_amount, mode='lines+markers'))\n",
    "fig.update_layout(title='Зависимость количества итераций обучения от значения максимальной ошибки',\n",
    "                  xaxis_title='Значение максимальной ошибки',\n",
    "                  yaxis_title='Количество итераций обучения',\n",
    "                  height=720, width=1280,\n",
    "                  font=dict(size=20))\n",
    "fig.show()"
   ]
  },
  {
   "cell_type": "markdown",
   "metadata": {},
   "source": [
    "## Relationship between image and epochs"
   ]
  },
  {
   "cell_type": "code",
   "execution_count": 53,
   "metadata": {},
   "outputs": [
    {
     "name": "stdout",
     "output_type": "stream",
     "text": [
      "Z = 1.9230473377332657\n",
      "Epoch 1/15000, Loss: 3337.0755195626098\n",
      "Epoch 2/15000, Loss: 2532.5845050204443\n",
      "Epoch 3/15000, Loss: 2332.579580573342\n",
      "Epoch 4/15000, Loss: 2194.885959086009\n",
      "Epoch 5/15000, Loss: 2083.672785893297\n",
      "Epoch 6/15000, Loss: 1990.5844544356453\n",
      "Epoch 7/15000, Loss: 1910.9726414773525\n",
      "Epoch 8/15000, Loss: 1841.7124101632885\n",
      "Epoch 9/15000, Loss: 1780.5946524085707\n",
      "Epoch 10/15000, Loss: 1726.0120937720865\n",
      "Epoch 11/15000, Loss: 1676.7686975459649\n",
      "Epoch 12/15000, Loss: 1631.9572344482472\n",
      "Epoch 13/15000, Loss: 1590.877859386332\n",
      "Epoch 14/15000, Loss: 1552.9824646748514\n",
      "Epoch 15/15000, Loss: 1517.8357662980065\n",
      "Epoch 16/15000, Loss: 1485.0875507089875\n",
      "16\n"
     ]
    }
   ],
   "source": [
    "# Collecting everything\n",
    "\n",
    "block_width = 10\n",
    "block_height = 10\n",
    "\n",
    "n = block_height * block_width\n",
    "# Hidden layer neuron amount\n",
    "p = 50 \n",
    "\n",
    "img = Image.open('images/winter.jpg')\n",
    "img_array = np.asarray(img)\n",
    "shape = img_array.shape\n",
    "blocks = image_to_blocks(img_array, block_height, block_width, overlap=0)\n",
    "\n",
    "l = len(blocks)\n",
    "# Compression coeff\n",
    "print('Z =', (n*l) / ((n+l) * p+2))\n",
    "\n",
    "color_df = ((2 * blocks / MAX_RGB_VALUE) - 1).reshape(len(blocks), -1, 3).transpose(0, 2, 1).reshape(-1, block_height * block_width)\n",
    "train = np.matrix(color_df[np.random.choice(color_df.shape[0], int(color_df.shape[0] * 0.05))])\n",
    "\n",
    "network = LRNN(n, p, 0.001)\n",
    "network.train(train, 15000, learn_by_loss=True, max_loss=1500)\n",
    "\n",
    "print(network.epoch)\n",
    "\n",
    "# compressed = compress_image(network.W_enc, img_array, COLOR_CHANNELS_AMOUNT, block_height, block_width, 0)\n",
    "# dimg = decompress_image(network.W_dec, compressed, shape, COLOR_CHANNELS_AMOUNT, block_height, block_width, 0)\n",
    "# dimg_array = np.asarray(dimg)\n",
    "# dimg.save('compression-decompression_test.jpg')"
   ]
  }
 ],
 "metadata": {
  "kernelspec": {
   "display_name": ".venv",
   "language": "python",
   "name": "python3"
  },
  "language_info": {
   "codemirror_mode": {
    "name": "ipython",
    "version": 3
   },
   "file_extension": ".py",
   "mimetype": "text/x-python",
   "name": "python",
   "nbconvert_exporter": "python",
   "pygments_lexer": "ipython3",
   "version": "3.11.9"
  }
 },
 "nbformat": 4,
 "nbformat_minor": 2
}
