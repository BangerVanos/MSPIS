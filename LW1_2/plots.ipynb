{
 "cells": [
  {
   "cell_type": "code",
   "execution_count": 8,
   "metadata": {},
   "outputs": [],
   "source": [
    "# Лабораторная работа 1 по дисциплине МРЗвИС\n",
    "# Выполнена студентом группы 121702\n",
    "# БГУИР Заломов Роман Андреевич\n",
    "#\n",
    "# Вариант 15: Реализовать модель линейной рециркуляционной сети \n",
    "# с постоянным коэффициентом обучения и нормированными весовыми коэффициентами.\n",
    "#\n",
    "# Данный файл содержит алгоритмы построения графиков различных зависимостей"
   ]
  },
  {
   "cell_type": "code",
   "execution_count": 9,
   "metadata": {},
   "outputs": [],
   "source": [
    "from lrnn import (\n",
    "    LRNN,\n",
    "    image_to_blocks,\n",
    "    compress_image,\n",
    "    decompress_image\n",
    ")\n",
    "import numpy as np\n",
    "from PIL import Image\n",
    "import plotly.graph_objects as go"
   ]
  },
  {
   "cell_type": "code",
   "execution_count": 10,
   "metadata": {},
   "outputs": [],
   "source": [
    "MAX_RGB_VALUE = 255\n",
    "COLOR_CHANNELS_AMOUNT = 3"
   ]
  },
  {
   "cell_type": "code",
   "execution_count": 11,
   "metadata": {},
   "outputs": [
    {
     "name": "stdout",
     "output_type": "stream",
     "text": [
      "Z = 4.807507403561401\n",
      "Epoch 1/15000, Loss: 2346.1969900596027\n",
      "Epoch 2/15000, Loss: 2279.9013389756874\n",
      "Epoch 3/15000, Loss: 2238.364867841011\n",
      "Epoch 4/15000, Loss: 2208.69137833023\n",
      "Epoch 5/15000, Loss: 2185.8639293934466\n",
      "Epoch 6/15000, Loss: 2165.3937603791132\n",
      "Epoch 7/15000, Loss: 2148.2767331560294\n",
      "Epoch 8/15000, Loss: 2133.485170379791\n",
      "Epoch 9/15000, Loss: 2113.87567578737\n",
      "Epoch 10/15000, Loss: 2091.2840988332787\n",
      "Epoch 11/15000, Loss: 2075.168784916295\n",
      "Epoch 12/15000, Loss: 2052.504444737696\n",
      "Epoch 13/15000, Loss: 2033.450200826287\n",
      "Epoch 14/15000, Loss: 2012.043607933841\n",
      "Epoch 15/15000, Loss: 1992.5246395773556\n",
      "Compression coefficient: 2.466780686751743\n",
      "Z = 4.807507403561401\n"
     ]
    }
   ],
   "source": [
    "# Collecting everything\n",
    "\n",
    "block_width = 10\n",
    "block_height = 10\n",
    "\n",
    "n = block_height * block_width\n",
    "# Hidden layer neuron amount\n",
    "p = 20 \n",
    "\n",
    "img = Image.open('car.jpg')\n",
    "img_array = np.asarray(img)\n",
    "shape = img_array.shape\n",
    "blocks = image_to_blocks(img_array, block_height, block_width, overlap=0)\n",
    "\n",
    "l = len(blocks)\n",
    "# Compression coeff\n",
    "print('Z =', (n*l) / ((n+l) * p+2))\n",
    "\n",
    "color_df = ((2 * blocks / MAX_RGB_VALUE) - 1).reshape(len(blocks), -1, 3).transpose(0, 2, 1).reshape(-1, block_height * block_width)\n",
    "train = np.matrix(color_df[np.random.choice(color_df.shape[0], int(color_df.shape[0] * 0.1))])\n",
    "\n",
    "\n",
    "network = LRNN(n, p, 0.001)\n",
    "network.train(train, 15000, learn_by_loss=True, max_loss=2000)\n",
    "\n",
    "compressed = compress_image(network.W_enc, img_array, COLOR_CHANNELS_AMOUNT, block_height, block_width, 0)\n",
    "\n",
    "compression_info_size = (\n",
    "    compressed.size * compressed.itemsize +\n",
    "    network.W_dec.size * network.W_dec.itemsize +\n",
    "    np.array(shape).size * np.array(shape).itemsize +\n",
    "    np.array((block_height, block_width)).size * np.array((block_height, block_width)).itemsize \n",
    ") * 8\n",
    "print(f'Compression coefficient: {(img_array.size * img_array.itemsize * 8) / compression_info_size}')\n",
    "print('Z =', (n*l) / ((n+l) * p + 2))\n",
    "\n",
    "dimg = decompress_image(network.W_dec, compressed, shape, COLOR_CHANNELS_AMOUNT, block_height, block_width, 0)\n",
    "dimg_array = np.asarray(dimg)\n",
    "dimg.save('compression-decompression_test.jpg')"
   ]
  },
  {
   "cell_type": "markdown",
   "metadata": {},
   "source": [
    "## Relation between learning rate and epochs "
   ]
  },
  {
   "cell_type": "code",
   "execution_count": 12,
   "metadata": {},
   "outputs": [
    {
     "name": "stdout",
     "output_type": "stream",
     "text": [
      "Epoch 1/15000, Loss: 7676.470724395473\n",
      "Epoch 2/15000, Loss: 5393.370306840883\n",
      "Epoch 3/15000, Loss: 4408.508344592167\n",
      "Epoch 4/15000, Loss: 3838.1538306442776\n",
      "Epoch 5/15000, Loss: 3482.82505157057\n",
      "Epoch 6/15000, Loss: 3231.4485157334257\n",
      "Epoch 7/15000, Loss: 3054.4094224293594\n",
      "Epoch 8/15000, Loss: 2923.7475761500423\n",
      "Epoch 9/15000, Loss: 2822.9232899994468\n",
      "Epoch 10/15000, Loss: 2740.4085204027983\n",
      "Epoch 11/15000, Loss: 2671.4887780832814\n",
      "Epoch 12/15000, Loss: 2613.7277274697785\n",
      "Epoch 13/15000, Loss: 2562.6383709037013\n",
      "Epoch 14/15000, Loss: 2517.6657453578723\n",
      "Epoch 15/15000, Loss: 2477.1223872145965\n",
      "Epoch 1/15000, Loss: 7881.673972124617\n",
      "Epoch 2/15000, Loss: 5442.669498266883\n",
      "Epoch 3/15000, Loss: 4359.490447690583\n",
      "Epoch 4/15000, Loss: 3753.181958989009\n",
      "Epoch 5/15000, Loss: 3378.2374500960723\n",
      "Epoch 6/15000, Loss: 3131.3702116238655\n",
      "Epoch 7/15000, Loss: 2962.167027978666\n",
      "Epoch 8/15000, Loss: 2834.455997655034\n",
      "Epoch 9/15000, Loss: 2734.696564212712\n",
      "Epoch 10/15000, Loss: 2651.9352302643492\n",
      "Epoch 11/15000, Loss: 2582.4378610575145\n",
      "Epoch 12/15000, Loss: 2523.8913437140823\n",
      "Epoch 13/15000, Loss: 2470.1042096384303\n",
      "Epoch 1/15000, Loss: 4422.966635843829\n",
      "Epoch 2/15000, Loss: 3582.014570526903\n",
      "Epoch 3/15000, Loss: 3191.576225644856\n",
      "Epoch 4/15000, Loss: 2950.844164758221\n",
      "Epoch 5/15000, Loss: 2786.7450752957143\n",
      "Epoch 6/15000, Loss: 2668.869962246231\n",
      "Epoch 7/15000, Loss: 2578.7234863157123\n",
      "Epoch 8/15000, Loss: 2508.74084275575\n",
      "Epoch 9/15000, Loss: 2451.4036330524614\n",
      "Epoch 1/15000, Loss: 6390.217253384465\n",
      "Epoch 2/15000, Loss: 4339.230169858279\n",
      "Epoch 3/15000, Loss: 3609.8046624068315\n",
      "Epoch 4/15000, Loss: 3211.044155094461\n",
      "Epoch 5/15000, Loss: 2959.7833785758303\n",
      "Epoch 6/15000, Loss: 2780.6583400040927\n",
      "Epoch 7/15000, Loss: 2648.4132747481226\n",
      "Epoch 8/15000, Loss: 2547.1924706873947\n",
      "Epoch 9/15000, Loss: 2465.426887862972\n",
      "Epoch 1/15000, Loss: 2423.9974987738137\n",
      "Epoch 1/15000, Loss: 2346.1969900596027\n"
     ]
    },
    {
     "data": {
      "application/vnd.plotly.v1+json": {
       "config": {
        "plotlyServerURL": "https://plot.ly"
       },
       "data": [
        {
         "mode": "lines+markers",
         "type": "scatter",
         "x": [
          0.0005,
          0.0006,
          0.0007,
          0.0008,
          0.0009,
          0.001
         ],
         "y": [
          15,
          13,
          9,
          9,
          1,
          1
         ]
        }
       ],
       "layout": {
        "font": {
         "size": 20
        },
        "height": 720,
        "template": {
         "data": {
          "bar": [
           {
            "error_x": {
             "color": "#2a3f5f"
            },
            "error_y": {
             "color": "#2a3f5f"
            },
            "marker": {
             "line": {
              "color": "#E5ECF6",
              "width": 0.5
             },
             "pattern": {
              "fillmode": "overlay",
              "size": 10,
              "solidity": 0.2
             }
            },
            "type": "bar"
           }
          ],
          "barpolar": [
           {
            "marker": {
             "line": {
              "color": "#E5ECF6",
              "width": 0.5
             },
             "pattern": {
              "fillmode": "overlay",
              "size": 10,
              "solidity": 0.2
             }
            },
            "type": "barpolar"
           }
          ],
          "carpet": [
           {
            "aaxis": {
             "endlinecolor": "#2a3f5f",
             "gridcolor": "white",
             "linecolor": "white",
             "minorgridcolor": "white",
             "startlinecolor": "#2a3f5f"
            },
            "baxis": {
             "endlinecolor": "#2a3f5f",
             "gridcolor": "white",
             "linecolor": "white",
             "minorgridcolor": "white",
             "startlinecolor": "#2a3f5f"
            },
            "type": "carpet"
           }
          ],
          "choropleth": [
           {
            "colorbar": {
             "outlinewidth": 0,
             "ticks": ""
            },
            "type": "choropleth"
           }
          ],
          "contour": [
           {
            "colorbar": {
             "outlinewidth": 0,
             "ticks": ""
            },
            "colorscale": [
             [
              0,
              "#0d0887"
             ],
             [
              0.1111111111111111,
              "#46039f"
             ],
             [
              0.2222222222222222,
              "#7201a8"
             ],
             [
              0.3333333333333333,
              "#9c179e"
             ],
             [
              0.4444444444444444,
              "#bd3786"
             ],
             [
              0.5555555555555556,
              "#d8576b"
             ],
             [
              0.6666666666666666,
              "#ed7953"
             ],
             [
              0.7777777777777778,
              "#fb9f3a"
             ],
             [
              0.8888888888888888,
              "#fdca26"
             ],
             [
              1,
              "#f0f921"
             ]
            ],
            "type": "contour"
           }
          ],
          "contourcarpet": [
           {
            "colorbar": {
             "outlinewidth": 0,
             "ticks": ""
            },
            "type": "contourcarpet"
           }
          ],
          "heatmap": [
           {
            "colorbar": {
             "outlinewidth": 0,
             "ticks": ""
            },
            "colorscale": [
             [
              0,
              "#0d0887"
             ],
             [
              0.1111111111111111,
              "#46039f"
             ],
             [
              0.2222222222222222,
              "#7201a8"
             ],
             [
              0.3333333333333333,
              "#9c179e"
             ],
             [
              0.4444444444444444,
              "#bd3786"
             ],
             [
              0.5555555555555556,
              "#d8576b"
             ],
             [
              0.6666666666666666,
              "#ed7953"
             ],
             [
              0.7777777777777778,
              "#fb9f3a"
             ],
             [
              0.8888888888888888,
              "#fdca26"
             ],
             [
              1,
              "#f0f921"
             ]
            ],
            "type": "heatmap"
           }
          ],
          "heatmapgl": [
           {
            "colorbar": {
             "outlinewidth": 0,
             "ticks": ""
            },
            "colorscale": [
             [
              0,
              "#0d0887"
             ],
             [
              0.1111111111111111,
              "#46039f"
             ],
             [
              0.2222222222222222,
              "#7201a8"
             ],
             [
              0.3333333333333333,
              "#9c179e"
             ],
             [
              0.4444444444444444,
              "#bd3786"
             ],
             [
              0.5555555555555556,
              "#d8576b"
             ],
             [
              0.6666666666666666,
              "#ed7953"
             ],
             [
              0.7777777777777778,
              "#fb9f3a"
             ],
             [
              0.8888888888888888,
              "#fdca26"
             ],
             [
              1,
              "#f0f921"
             ]
            ],
            "type": "heatmapgl"
           }
          ],
          "histogram": [
           {
            "marker": {
             "pattern": {
              "fillmode": "overlay",
              "size": 10,
              "solidity": 0.2
             }
            },
            "type": "histogram"
           }
          ],
          "histogram2d": [
           {
            "colorbar": {
             "outlinewidth": 0,
             "ticks": ""
            },
            "colorscale": [
             [
              0,
              "#0d0887"
             ],
             [
              0.1111111111111111,
              "#46039f"
             ],
             [
              0.2222222222222222,
              "#7201a8"
             ],
             [
              0.3333333333333333,
              "#9c179e"
             ],
             [
              0.4444444444444444,
              "#bd3786"
             ],
             [
              0.5555555555555556,
              "#d8576b"
             ],
             [
              0.6666666666666666,
              "#ed7953"
             ],
             [
              0.7777777777777778,
              "#fb9f3a"
             ],
             [
              0.8888888888888888,
              "#fdca26"
             ],
             [
              1,
              "#f0f921"
             ]
            ],
            "type": "histogram2d"
           }
          ],
          "histogram2dcontour": [
           {
            "colorbar": {
             "outlinewidth": 0,
             "ticks": ""
            },
            "colorscale": [
             [
              0,
              "#0d0887"
             ],
             [
              0.1111111111111111,
              "#46039f"
             ],
             [
              0.2222222222222222,
              "#7201a8"
             ],
             [
              0.3333333333333333,
              "#9c179e"
             ],
             [
              0.4444444444444444,
              "#bd3786"
             ],
             [
              0.5555555555555556,
              "#d8576b"
             ],
             [
              0.6666666666666666,
              "#ed7953"
             ],
             [
              0.7777777777777778,
              "#fb9f3a"
             ],
             [
              0.8888888888888888,
              "#fdca26"
             ],
             [
              1,
              "#f0f921"
             ]
            ],
            "type": "histogram2dcontour"
           }
          ],
          "mesh3d": [
           {
            "colorbar": {
             "outlinewidth": 0,
             "ticks": ""
            },
            "type": "mesh3d"
           }
          ],
          "parcoords": [
           {
            "line": {
             "colorbar": {
              "outlinewidth": 0,
              "ticks": ""
             }
            },
            "type": "parcoords"
           }
          ],
          "pie": [
           {
            "automargin": true,
            "type": "pie"
           }
          ],
          "scatter": [
           {
            "fillpattern": {
             "fillmode": "overlay",
             "size": 10,
             "solidity": 0.2
            },
            "type": "scatter"
           }
          ],
          "scatter3d": [
           {
            "line": {
             "colorbar": {
              "outlinewidth": 0,
              "ticks": ""
             }
            },
            "marker": {
             "colorbar": {
              "outlinewidth": 0,
              "ticks": ""
             }
            },
            "type": "scatter3d"
           }
          ],
          "scattercarpet": [
           {
            "marker": {
             "colorbar": {
              "outlinewidth": 0,
              "ticks": ""
             }
            },
            "type": "scattercarpet"
           }
          ],
          "scattergeo": [
           {
            "marker": {
             "colorbar": {
              "outlinewidth": 0,
              "ticks": ""
             }
            },
            "type": "scattergeo"
           }
          ],
          "scattergl": [
           {
            "marker": {
             "colorbar": {
              "outlinewidth": 0,
              "ticks": ""
             }
            },
            "type": "scattergl"
           }
          ],
          "scattermapbox": [
           {
            "marker": {
             "colorbar": {
              "outlinewidth": 0,
              "ticks": ""
             }
            },
            "type": "scattermapbox"
           }
          ],
          "scatterpolar": [
           {
            "marker": {
             "colorbar": {
              "outlinewidth": 0,
              "ticks": ""
             }
            },
            "type": "scatterpolar"
           }
          ],
          "scatterpolargl": [
           {
            "marker": {
             "colorbar": {
              "outlinewidth": 0,
              "ticks": ""
             }
            },
            "type": "scatterpolargl"
           }
          ],
          "scatterternary": [
           {
            "marker": {
             "colorbar": {
              "outlinewidth": 0,
              "ticks": ""
             }
            },
            "type": "scatterternary"
           }
          ],
          "surface": [
           {
            "colorbar": {
             "outlinewidth": 0,
             "ticks": ""
            },
            "colorscale": [
             [
              0,
              "#0d0887"
             ],
             [
              0.1111111111111111,
              "#46039f"
             ],
             [
              0.2222222222222222,
              "#7201a8"
             ],
             [
              0.3333333333333333,
              "#9c179e"
             ],
             [
              0.4444444444444444,
              "#bd3786"
             ],
             [
              0.5555555555555556,
              "#d8576b"
             ],
             [
              0.6666666666666666,
              "#ed7953"
             ],
             [
              0.7777777777777778,
              "#fb9f3a"
             ],
             [
              0.8888888888888888,
              "#fdca26"
             ],
             [
              1,
              "#f0f921"
             ]
            ],
            "type": "surface"
           }
          ],
          "table": [
           {
            "cells": {
             "fill": {
              "color": "#EBF0F8"
             },
             "line": {
              "color": "white"
             }
            },
            "header": {
             "fill": {
              "color": "#C8D4E3"
             },
             "line": {
              "color": "white"
             }
            },
            "type": "table"
           }
          ]
         },
         "layout": {
          "annotationdefaults": {
           "arrowcolor": "#2a3f5f",
           "arrowhead": 0,
           "arrowwidth": 1
          },
          "autotypenumbers": "strict",
          "coloraxis": {
           "colorbar": {
            "outlinewidth": 0,
            "ticks": ""
           }
          },
          "colorscale": {
           "diverging": [
            [
             0,
             "#8e0152"
            ],
            [
             0.1,
             "#c51b7d"
            ],
            [
             0.2,
             "#de77ae"
            ],
            [
             0.3,
             "#f1b6da"
            ],
            [
             0.4,
             "#fde0ef"
            ],
            [
             0.5,
             "#f7f7f7"
            ],
            [
             0.6,
             "#e6f5d0"
            ],
            [
             0.7,
             "#b8e186"
            ],
            [
             0.8,
             "#7fbc41"
            ],
            [
             0.9,
             "#4d9221"
            ],
            [
             1,
             "#276419"
            ]
           ],
           "sequential": [
            [
             0,
             "#0d0887"
            ],
            [
             0.1111111111111111,
             "#46039f"
            ],
            [
             0.2222222222222222,
             "#7201a8"
            ],
            [
             0.3333333333333333,
             "#9c179e"
            ],
            [
             0.4444444444444444,
             "#bd3786"
            ],
            [
             0.5555555555555556,
             "#d8576b"
            ],
            [
             0.6666666666666666,
             "#ed7953"
            ],
            [
             0.7777777777777778,
             "#fb9f3a"
            ],
            [
             0.8888888888888888,
             "#fdca26"
            ],
            [
             1,
             "#f0f921"
            ]
           ],
           "sequentialminus": [
            [
             0,
             "#0d0887"
            ],
            [
             0.1111111111111111,
             "#46039f"
            ],
            [
             0.2222222222222222,
             "#7201a8"
            ],
            [
             0.3333333333333333,
             "#9c179e"
            ],
            [
             0.4444444444444444,
             "#bd3786"
            ],
            [
             0.5555555555555556,
             "#d8576b"
            ],
            [
             0.6666666666666666,
             "#ed7953"
            ],
            [
             0.7777777777777778,
             "#fb9f3a"
            ],
            [
             0.8888888888888888,
             "#fdca26"
            ],
            [
             1,
             "#f0f921"
            ]
           ]
          },
          "colorway": [
           "#636efa",
           "#EF553B",
           "#00cc96",
           "#ab63fa",
           "#FFA15A",
           "#19d3f3",
           "#FF6692",
           "#B6E880",
           "#FF97FF",
           "#FECB52"
          ],
          "font": {
           "color": "#2a3f5f"
          },
          "geo": {
           "bgcolor": "white",
           "lakecolor": "white",
           "landcolor": "#E5ECF6",
           "showlakes": true,
           "showland": true,
           "subunitcolor": "white"
          },
          "hoverlabel": {
           "align": "left"
          },
          "hovermode": "closest",
          "mapbox": {
           "style": "light"
          },
          "paper_bgcolor": "white",
          "plot_bgcolor": "#E5ECF6",
          "polar": {
           "angularaxis": {
            "gridcolor": "white",
            "linecolor": "white",
            "ticks": ""
           },
           "bgcolor": "#E5ECF6",
           "radialaxis": {
            "gridcolor": "white",
            "linecolor": "white",
            "ticks": ""
           }
          },
          "scene": {
           "xaxis": {
            "backgroundcolor": "#E5ECF6",
            "gridcolor": "white",
            "gridwidth": 2,
            "linecolor": "white",
            "showbackground": true,
            "ticks": "",
            "zerolinecolor": "white"
           },
           "yaxis": {
            "backgroundcolor": "#E5ECF6",
            "gridcolor": "white",
            "gridwidth": 2,
            "linecolor": "white",
            "showbackground": true,
            "ticks": "",
            "zerolinecolor": "white"
           },
           "zaxis": {
            "backgroundcolor": "#E5ECF6",
            "gridcolor": "white",
            "gridwidth": 2,
            "linecolor": "white",
            "showbackground": true,
            "ticks": "",
            "zerolinecolor": "white"
           }
          },
          "shapedefaults": {
           "line": {
            "color": "#2a3f5f"
           }
          },
          "ternary": {
           "aaxis": {
            "gridcolor": "white",
            "linecolor": "white",
            "ticks": ""
           },
           "baxis": {
            "gridcolor": "white",
            "linecolor": "white",
            "ticks": ""
           },
           "bgcolor": "#E5ECF6",
           "caxis": {
            "gridcolor": "white",
            "linecolor": "white",
            "ticks": ""
           }
          },
          "title": {
           "x": 0.05
          },
          "xaxis": {
           "automargin": true,
           "gridcolor": "white",
           "linecolor": "white",
           "ticks": "",
           "title": {
            "standoff": 15
           },
           "zerolinecolor": "white",
           "zerolinewidth": 2
          },
          "yaxis": {
           "automargin": true,
           "gridcolor": "white",
           "linecolor": "white",
           "ticks": "",
           "title": {
            "standoff": 15
           },
           "zerolinecolor": "white",
           "zerolinewidth": 2
          }
         }
        },
        "title": {
         "text": "Зависимость количества итераций обучения от коэффициента обучения"
        },
        "width": 1280,
        "xaxis": {
         "title": {
          "text": "Коэффициент обучения"
         }
        },
        "yaxis": {
         "title": {
          "text": "Количество итераций обучения"
         }
        }
       }
      }
     },
     "metadata": {},
     "output_type": "display_data"
    }
   ],
   "source": [
    "alphas = (0.0005, 0.0006, 0.0007, 0.0008, 0.0009, 0.001)\n",
    "epochs_amount: list[int] = []\n",
    "for alpha in alphas:\n",
    "    dl = LRNN(n, p, alpha)\n",
    "    dl.train(train, 15000, learn_by_loss=True, max_loss=2500)\n",
    "    epochs_amount.append(dl.epoch)\n",
    "fig = go.Figure()\n",
    "fig.add_trace(go.Scatter(x=alphas, y=epochs_amount, mode='lines+markers'))\n",
    "fig.update_layout(title='Зависимость количества итераций обучения от коэффициента обучения',\n",
    "                  xaxis_title='Коэффициент обучения',\n",
    "                  yaxis_title='Количество итераций обучения',\n",
    "                  height=720, width=1280,\n",
    "                  font=dict(size=20))\n",
    "fig.show()"
   ]
  },
  {
   "cell_type": "markdown",
   "metadata": {},
   "source": [
    "## Relationship between hidden layer dimension and epochs"
   ]
  },
  {
   "cell_type": "code",
   "execution_count": 13,
   "metadata": {},
   "outputs": [
    {
     "name": "stdout",
     "output_type": "stream",
     "text": [
      "Epoch 1/15000, Loss: 4491.526254909077\n",
      "Epoch 2/15000, Loss: 3302.794441415094\n",
      "Epoch 3/15000, Loss: 2904.613654337254\n",
      "Epoch 4/15000, Loss: 2678.149683038423\n",
      "Epoch 5/15000, Loss: 2532.8816365525604\n",
      "Epoch 6/15000, Loss: 2429.1547492046852\n",
      "Epoch 7/15000, Loss: 2356.3151619541895\n",
      "Epoch 8/15000, Loss: 2302.392259882621\n",
      "Epoch 9/15000, Loss: 2262.3727133344028\n",
      "Epoch 10/15000, Loss: 2229.807518955636\n",
      "Epoch 11/15000, Loss: 2204.5316837035907\n",
      "Epoch 12/15000, Loss: 2182.935393667307\n",
      "Epoch 13/15000, Loss: 2164.044198089747\n",
      "Epoch 14/15000, Loss: 2146.177941995376\n",
      "Epoch 15/15000, Loss: 2131.1608565225465\n",
      "Epoch 16/15000, Loss: 2117.6129978526465\n",
      "Epoch 17/15000, Loss: 2104.40426030155\n",
      "Epoch 18/15000, Loss: 2091.484072575025\n",
      "Epoch 19/15000, Loss: 2080.684839506644\n",
      "Epoch 20/15000, Loss: 2068.9405954077383\n",
      "Epoch 21/15000, Loss: 2058.323200633382\n",
      "Epoch 22/15000, Loss: 2048.2835072079447\n",
      "Epoch 23/15000, Loss: 2037.8947610905761\n",
      "Epoch 24/15000, Loss: 2028.147291928682\n",
      "Epoch 25/15000, Loss: 2018.31598200863\n",
      "Epoch 26/15000, Loss: 2009.1727352986402\n",
      "Epoch 27/15000, Loss: 1999.6488632954065\n",
      "Epoch 1/15000, Loss: 2320.753334338988\n",
      "Epoch 2/15000, Loss: 2261.5810716065193\n",
      "Epoch 3/15000, Loss: 2226.0982693917776\n",
      "Epoch 4/15000, Loss: 2200.9628837948703\n",
      "Epoch 5/15000, Loss: 2175.7522135018835\n",
      "Epoch 6/15000, Loss: 2158.8951563036126\n",
      "Epoch 7/15000, Loss: 2138.408303445904\n",
      "Epoch 8/15000, Loss: 2124.0957542465694\n",
      "Epoch 9/15000, Loss: 2110.6744013219277\n",
      "Epoch 10/15000, Loss: 2094.147384780855\n",
      "Epoch 11/15000, Loss: 2079.862246496548\n",
      "Epoch 12/15000, Loss: 2065.363751429211\n",
      "Epoch 13/15000, Loss: 2047.2277856372928\n",
      "Epoch 14/15000, Loss: 2031.7424685546491\n",
      "Epoch 15/15000, Loss: 2016.5296582223523\n",
      "Epoch 16/15000, Loss: 1997.5484042811336\n",
      "Epoch 1/15000, Loss: 2346.1969900596027\n",
      "Epoch 2/15000, Loss: 2279.9013389756874\n",
      "Epoch 3/15000, Loss: 2238.364867841011\n",
      "Epoch 4/15000, Loss: 2208.69137833023\n",
      "Epoch 5/15000, Loss: 2185.8639293934466\n",
      "Epoch 6/15000, Loss: 2165.3937603791132\n",
      "Epoch 7/15000, Loss: 2148.2767331560294\n",
      "Epoch 8/15000, Loss: 2133.485170379791\n",
      "Epoch 9/15000, Loss: 2113.87567578737\n",
      "Epoch 10/15000, Loss: 2091.2840988332787\n",
      "Epoch 11/15000, Loss: 2075.168784916295\n",
      "Epoch 12/15000, Loss: 2052.504444737696\n",
      "Epoch 13/15000, Loss: 2033.450200826287\n",
      "Epoch 14/15000, Loss: 2012.043607933841\n",
      "Epoch 15/15000, Loss: 1992.5246395773556\n",
      "Epoch 1/15000, Loss: 2328.8538056369925\n",
      "Epoch 2/15000, Loss: 2224.6929183504253\n",
      "Epoch 3/15000, Loss: 2155.3667279184133\n",
      "Epoch 4/15000, Loss: 2110.1468845646473\n",
      "Epoch 5/15000, Loss: 2068.378572989859\n",
      "Epoch 6/15000, Loss: 2025.5755474919363\n",
      "Epoch 7/15000, Loss: 1992.9546173386511\n",
      "Epoch 1/15000, Loss: 2427.2050853461587\n",
      "Epoch 2/15000, Loss: 2245.340912193836\n",
      "Epoch 3/15000, Loss: 2129.4805746033917\n",
      "Epoch 4/15000, Loss: 2041.7102938260323\n",
      "Epoch 5/15000, Loss: 1968.4228509030454\n",
      "Epoch 1/15000, Loss: 2680.4636234045183\n",
      "Epoch 2/15000, Loss: 2369.4954925260236\n",
      "Epoch 3/15000, Loss: 2191.0720408470397\n",
      "Epoch 4/15000, Loss: 2066.389618602569\n",
      "Epoch 5/15000, Loss: 1970.6257550776118\n",
      "Epoch 1/15000, Loss: 3026.290109996345\n",
      "Epoch 2/15000, Loss: 2539.414330201047\n",
      "Epoch 3/15000, Loss: 2286.6749088117976\n",
      "Epoch 4/15000, Loss: 2119.015409860339\n",
      "Epoch 5/15000, Loss: 1993.07930491474\n"
     ]
    },
    {
     "data": {
      "application/vnd.plotly.v1+json": {
       "config": {
        "plotlyServerURL": "https://plot.ly"
       },
       "data": [
        {
         "mode": "lines+markers",
         "type": "scatter",
         "x": [
          4.868865229810439,
          3.2745371987425775,
          2.466780686751743,
          1.978682988602786,
          1.6518368425689367,
          1.4176621805534553,
          1.2416396265148004
         ],
         "y": [
          27,
          16,
          15,
          7,
          5,
          5,
          5
         ]
        }
       ],
       "layout": {
        "font": {
         "size": 20
        },
        "height": 720,
        "template": {
         "data": {
          "bar": [
           {
            "error_x": {
             "color": "#2a3f5f"
            },
            "error_y": {
             "color": "#2a3f5f"
            },
            "marker": {
             "line": {
              "color": "#E5ECF6",
              "width": 0.5
             },
             "pattern": {
              "fillmode": "overlay",
              "size": 10,
              "solidity": 0.2
             }
            },
            "type": "bar"
           }
          ],
          "barpolar": [
           {
            "marker": {
             "line": {
              "color": "#E5ECF6",
              "width": 0.5
             },
             "pattern": {
              "fillmode": "overlay",
              "size": 10,
              "solidity": 0.2
             }
            },
            "type": "barpolar"
           }
          ],
          "carpet": [
           {
            "aaxis": {
             "endlinecolor": "#2a3f5f",
             "gridcolor": "white",
             "linecolor": "white",
             "minorgridcolor": "white",
             "startlinecolor": "#2a3f5f"
            },
            "baxis": {
             "endlinecolor": "#2a3f5f",
             "gridcolor": "white",
             "linecolor": "white",
             "minorgridcolor": "white",
             "startlinecolor": "#2a3f5f"
            },
            "type": "carpet"
           }
          ],
          "choropleth": [
           {
            "colorbar": {
             "outlinewidth": 0,
             "ticks": ""
            },
            "type": "choropleth"
           }
          ],
          "contour": [
           {
            "colorbar": {
             "outlinewidth": 0,
             "ticks": ""
            },
            "colorscale": [
             [
              0,
              "#0d0887"
             ],
             [
              0.1111111111111111,
              "#46039f"
             ],
             [
              0.2222222222222222,
              "#7201a8"
             ],
             [
              0.3333333333333333,
              "#9c179e"
             ],
             [
              0.4444444444444444,
              "#bd3786"
             ],
             [
              0.5555555555555556,
              "#d8576b"
             ],
             [
              0.6666666666666666,
              "#ed7953"
             ],
             [
              0.7777777777777778,
              "#fb9f3a"
             ],
             [
              0.8888888888888888,
              "#fdca26"
             ],
             [
              1,
              "#f0f921"
             ]
            ],
            "type": "contour"
           }
          ],
          "contourcarpet": [
           {
            "colorbar": {
             "outlinewidth": 0,
             "ticks": ""
            },
            "type": "contourcarpet"
           }
          ],
          "heatmap": [
           {
            "colorbar": {
             "outlinewidth": 0,
             "ticks": ""
            },
            "colorscale": [
             [
              0,
              "#0d0887"
             ],
             [
              0.1111111111111111,
              "#46039f"
             ],
             [
              0.2222222222222222,
              "#7201a8"
             ],
             [
              0.3333333333333333,
              "#9c179e"
             ],
             [
              0.4444444444444444,
              "#bd3786"
             ],
             [
              0.5555555555555556,
              "#d8576b"
             ],
             [
              0.6666666666666666,
              "#ed7953"
             ],
             [
              0.7777777777777778,
              "#fb9f3a"
             ],
             [
              0.8888888888888888,
              "#fdca26"
             ],
             [
              1,
              "#f0f921"
             ]
            ],
            "type": "heatmap"
           }
          ],
          "heatmapgl": [
           {
            "colorbar": {
             "outlinewidth": 0,
             "ticks": ""
            },
            "colorscale": [
             [
              0,
              "#0d0887"
             ],
             [
              0.1111111111111111,
              "#46039f"
             ],
             [
              0.2222222222222222,
              "#7201a8"
             ],
             [
              0.3333333333333333,
              "#9c179e"
             ],
             [
              0.4444444444444444,
              "#bd3786"
             ],
             [
              0.5555555555555556,
              "#d8576b"
             ],
             [
              0.6666666666666666,
              "#ed7953"
             ],
             [
              0.7777777777777778,
              "#fb9f3a"
             ],
             [
              0.8888888888888888,
              "#fdca26"
             ],
             [
              1,
              "#f0f921"
             ]
            ],
            "type": "heatmapgl"
           }
          ],
          "histogram": [
           {
            "marker": {
             "pattern": {
              "fillmode": "overlay",
              "size": 10,
              "solidity": 0.2
             }
            },
            "type": "histogram"
           }
          ],
          "histogram2d": [
           {
            "colorbar": {
             "outlinewidth": 0,
             "ticks": ""
            },
            "colorscale": [
             [
              0,
              "#0d0887"
             ],
             [
              0.1111111111111111,
              "#46039f"
             ],
             [
              0.2222222222222222,
              "#7201a8"
             ],
             [
              0.3333333333333333,
              "#9c179e"
             ],
             [
              0.4444444444444444,
              "#bd3786"
             ],
             [
              0.5555555555555556,
              "#d8576b"
             ],
             [
              0.6666666666666666,
              "#ed7953"
             ],
             [
              0.7777777777777778,
              "#fb9f3a"
             ],
             [
              0.8888888888888888,
              "#fdca26"
             ],
             [
              1,
              "#f0f921"
             ]
            ],
            "type": "histogram2d"
           }
          ],
          "histogram2dcontour": [
           {
            "colorbar": {
             "outlinewidth": 0,
             "ticks": ""
            },
            "colorscale": [
             [
              0,
              "#0d0887"
             ],
             [
              0.1111111111111111,
              "#46039f"
             ],
             [
              0.2222222222222222,
              "#7201a8"
             ],
             [
              0.3333333333333333,
              "#9c179e"
             ],
             [
              0.4444444444444444,
              "#bd3786"
             ],
             [
              0.5555555555555556,
              "#d8576b"
             ],
             [
              0.6666666666666666,
              "#ed7953"
             ],
             [
              0.7777777777777778,
              "#fb9f3a"
             ],
             [
              0.8888888888888888,
              "#fdca26"
             ],
             [
              1,
              "#f0f921"
             ]
            ],
            "type": "histogram2dcontour"
           }
          ],
          "mesh3d": [
           {
            "colorbar": {
             "outlinewidth": 0,
             "ticks": ""
            },
            "type": "mesh3d"
           }
          ],
          "parcoords": [
           {
            "line": {
             "colorbar": {
              "outlinewidth": 0,
              "ticks": ""
             }
            },
            "type": "parcoords"
           }
          ],
          "pie": [
           {
            "automargin": true,
            "type": "pie"
           }
          ],
          "scatter": [
           {
            "fillpattern": {
             "fillmode": "overlay",
             "size": 10,
             "solidity": 0.2
            },
            "type": "scatter"
           }
          ],
          "scatter3d": [
           {
            "line": {
             "colorbar": {
              "outlinewidth": 0,
              "ticks": ""
             }
            },
            "marker": {
             "colorbar": {
              "outlinewidth": 0,
              "ticks": ""
             }
            },
            "type": "scatter3d"
           }
          ],
          "scattercarpet": [
           {
            "marker": {
             "colorbar": {
              "outlinewidth": 0,
              "ticks": ""
             }
            },
            "type": "scattercarpet"
           }
          ],
          "scattergeo": [
           {
            "marker": {
             "colorbar": {
              "outlinewidth": 0,
              "ticks": ""
             }
            },
            "type": "scattergeo"
           }
          ],
          "scattergl": [
           {
            "marker": {
             "colorbar": {
              "outlinewidth": 0,
              "ticks": ""
             }
            },
            "type": "scattergl"
           }
          ],
          "scattermapbox": [
           {
            "marker": {
             "colorbar": {
              "outlinewidth": 0,
              "ticks": ""
             }
            },
            "type": "scattermapbox"
           }
          ],
          "scatterpolar": [
           {
            "marker": {
             "colorbar": {
              "outlinewidth": 0,
              "ticks": ""
             }
            },
            "type": "scatterpolar"
           }
          ],
          "scatterpolargl": [
           {
            "marker": {
             "colorbar": {
              "outlinewidth": 0,
              "ticks": ""
             }
            },
            "type": "scatterpolargl"
           }
          ],
          "scatterternary": [
           {
            "marker": {
             "colorbar": {
              "outlinewidth": 0,
              "ticks": ""
             }
            },
            "type": "scatterternary"
           }
          ],
          "surface": [
           {
            "colorbar": {
             "outlinewidth": 0,
             "ticks": ""
            },
            "colorscale": [
             [
              0,
              "#0d0887"
             ],
             [
              0.1111111111111111,
              "#46039f"
             ],
             [
              0.2222222222222222,
              "#7201a8"
             ],
             [
              0.3333333333333333,
              "#9c179e"
             ],
             [
              0.4444444444444444,
              "#bd3786"
             ],
             [
              0.5555555555555556,
              "#d8576b"
             ],
             [
              0.6666666666666666,
              "#ed7953"
             ],
             [
              0.7777777777777778,
              "#fb9f3a"
             ],
             [
              0.8888888888888888,
              "#fdca26"
             ],
             [
              1,
              "#f0f921"
             ]
            ],
            "type": "surface"
           }
          ],
          "table": [
           {
            "cells": {
             "fill": {
              "color": "#EBF0F8"
             },
             "line": {
              "color": "white"
             }
            },
            "header": {
             "fill": {
              "color": "#C8D4E3"
             },
             "line": {
              "color": "white"
             }
            },
            "type": "table"
           }
          ]
         },
         "layout": {
          "annotationdefaults": {
           "arrowcolor": "#2a3f5f",
           "arrowhead": 0,
           "arrowwidth": 1
          },
          "autotypenumbers": "strict",
          "coloraxis": {
           "colorbar": {
            "outlinewidth": 0,
            "ticks": ""
           }
          },
          "colorscale": {
           "diverging": [
            [
             0,
             "#8e0152"
            ],
            [
             0.1,
             "#c51b7d"
            ],
            [
             0.2,
             "#de77ae"
            ],
            [
             0.3,
             "#f1b6da"
            ],
            [
             0.4,
             "#fde0ef"
            ],
            [
             0.5,
             "#f7f7f7"
            ],
            [
             0.6,
             "#e6f5d0"
            ],
            [
             0.7,
             "#b8e186"
            ],
            [
             0.8,
             "#7fbc41"
            ],
            [
             0.9,
             "#4d9221"
            ],
            [
             1,
             "#276419"
            ]
           ],
           "sequential": [
            [
             0,
             "#0d0887"
            ],
            [
             0.1111111111111111,
             "#46039f"
            ],
            [
             0.2222222222222222,
             "#7201a8"
            ],
            [
             0.3333333333333333,
             "#9c179e"
            ],
            [
             0.4444444444444444,
             "#bd3786"
            ],
            [
             0.5555555555555556,
             "#d8576b"
            ],
            [
             0.6666666666666666,
             "#ed7953"
            ],
            [
             0.7777777777777778,
             "#fb9f3a"
            ],
            [
             0.8888888888888888,
             "#fdca26"
            ],
            [
             1,
             "#f0f921"
            ]
           ],
           "sequentialminus": [
            [
             0,
             "#0d0887"
            ],
            [
             0.1111111111111111,
             "#46039f"
            ],
            [
             0.2222222222222222,
             "#7201a8"
            ],
            [
             0.3333333333333333,
             "#9c179e"
            ],
            [
             0.4444444444444444,
             "#bd3786"
            ],
            [
             0.5555555555555556,
             "#d8576b"
            ],
            [
             0.6666666666666666,
             "#ed7953"
            ],
            [
             0.7777777777777778,
             "#fb9f3a"
            ],
            [
             0.8888888888888888,
             "#fdca26"
            ],
            [
             1,
             "#f0f921"
            ]
           ]
          },
          "colorway": [
           "#636efa",
           "#EF553B",
           "#00cc96",
           "#ab63fa",
           "#FFA15A",
           "#19d3f3",
           "#FF6692",
           "#B6E880",
           "#FF97FF",
           "#FECB52"
          ],
          "font": {
           "color": "#2a3f5f"
          },
          "geo": {
           "bgcolor": "white",
           "lakecolor": "white",
           "landcolor": "#E5ECF6",
           "showlakes": true,
           "showland": true,
           "subunitcolor": "white"
          },
          "hoverlabel": {
           "align": "left"
          },
          "hovermode": "closest",
          "mapbox": {
           "style": "light"
          },
          "paper_bgcolor": "white",
          "plot_bgcolor": "#E5ECF6",
          "polar": {
           "angularaxis": {
            "gridcolor": "white",
            "linecolor": "white",
            "ticks": ""
           },
           "bgcolor": "#E5ECF6",
           "radialaxis": {
            "gridcolor": "white",
            "linecolor": "white",
            "ticks": ""
           }
          },
          "scene": {
           "xaxis": {
            "backgroundcolor": "#E5ECF6",
            "gridcolor": "white",
            "gridwidth": 2,
            "linecolor": "white",
            "showbackground": true,
            "ticks": "",
            "zerolinecolor": "white"
           },
           "yaxis": {
            "backgroundcolor": "#E5ECF6",
            "gridcolor": "white",
            "gridwidth": 2,
            "linecolor": "white",
            "showbackground": true,
            "ticks": "",
            "zerolinecolor": "white"
           },
           "zaxis": {
            "backgroundcolor": "#E5ECF6",
            "gridcolor": "white",
            "gridwidth": 2,
            "linecolor": "white",
            "showbackground": true,
            "ticks": "",
            "zerolinecolor": "white"
           }
          },
          "shapedefaults": {
           "line": {
            "color": "#2a3f5f"
           }
          },
          "ternary": {
           "aaxis": {
            "gridcolor": "white",
            "linecolor": "white",
            "ticks": ""
           },
           "baxis": {
            "gridcolor": "white",
            "linecolor": "white",
            "ticks": ""
           },
           "bgcolor": "#E5ECF6",
           "caxis": {
            "gridcolor": "white",
            "linecolor": "white",
            "ticks": ""
           }
          },
          "title": {
           "x": 0.05
          },
          "xaxis": {
           "automargin": true,
           "gridcolor": "white",
           "linecolor": "white",
           "ticks": "",
           "title": {
            "standoff": 15
           },
           "zerolinecolor": "white",
           "zerolinewidth": 2
          },
          "yaxis": {
           "automargin": true,
           "gridcolor": "white",
           "linecolor": "white",
           "ticks": "",
           "title": {
            "standoff": 15
           },
           "zerolinecolor": "white",
           "zerolinewidth": 2
          }
         }
        },
        "title": {
         "text": "Зависимость количества итераций обучения от коэффициента сжатия"
        },
        "width": 1280,
        "xaxis": {
         "title": {
          "text": "Коэффициент сжатия"
         }
        },
        "yaxis": {
         "title": {
          "text": "Количество итераций обучения"
         }
        }
       }
      }
     },
     "metadata": {},
     "output_type": "display_data"
    }
   ],
   "source": [
    "p_s = (10, 15, 20, 25, 30, 35, 40)\n",
    "epochs_amount: list[int] = []\n",
    "compression_rates: list[float] = []\n",
    "for p in p_s:    \n",
    "    dl = LRNN(n, p, 0.001)\n",
    "    dl.train(train, 15000, learn_by_loss=True, max_loss=2000)\n",
    "    epochs_amount.append(dl.epoch)\n",
    "\n",
    "    compressed = compress_image(dl.W_enc, img_array, COLOR_CHANNELS_AMOUNT, block_height, block_width, 0)\n",
    "    compression_info_size = (\n",
    "        compressed.size * compressed.itemsize +\n",
    "        network.W_dec.size * network.W_dec.itemsize +\n",
    "        np.array(shape).size * np.array(shape).itemsize +\n",
    "        np.array((block_height, block_width)).size * np.array((block_height, block_width)).itemsize \n",
    "    ) * 8\n",
    "    compression_rates.append((img_array.size * img_array.itemsize * 8) / compression_info_size)\n",
    "\n",
    "fig = go.Figure()\n",
    "fig.add_trace(go.Scatter(x=compression_rates, y=epochs_amount, mode='lines+markers'))\n",
    "fig.update_layout(title='Зависимость количества итераций обучения от коэффициента сжатия',\n",
    "                  xaxis_title='Коэффициент сжатия',\n",
    "                  yaxis_title='Количество итераций обучения',\n",
    "                  height=720, width=1280,\n",
    "                  font=dict(size=20))\n",
    "fig.show()"
   ]
  },
  {
   "cell_type": "markdown",
   "metadata": {},
   "source": [
    "## Relationship between max error and epochs"
   ]
  },
  {
   "cell_type": "code",
   "execution_count": 14,
   "metadata": {},
   "outputs": [
    {
     "name": "stdout",
     "output_type": "stream",
     "text": [
      "Epoch 1/15000, Loss: 2867.8380828076415\n",
      "Epoch 2/15000, Loss: 2289.502263030319\n",
      "Epoch 3/15000, Loss: 1975.5891173042714\n",
      "Epoch 4/15000, Loss: 1804.1068999608096\n",
      "Epoch 5/15000, Loss: 1699.0479739448203\n",
      "Epoch 6/15000, Loss: 1623.9196498321126\n",
      "Epoch 7/15000, Loss: 1564.0939516573742\n",
      "Epoch 8/15000, Loss: 1514.2802400844494\n",
      "Epoch 9/15000, Loss: 1471.7240788851313\n",
      "Epoch 10/15000, Loss: 1433.8118070031958\n",
      "Epoch 11/15000, Loss: 1397.508254715833\n",
      "Epoch 12/15000, Loss: 1367.461497015521\n",
      "Epoch 13/15000, Loss: 1338.8185551481256\n",
      "Epoch 14/15000, Loss: 1312.1719795382905\n",
      "Epoch 15/15000, Loss: 1286.9899783491173\n",
      "Epoch 16/15000, Loss: 1263.837373836849\n",
      "Epoch 17/15000, Loss: 1242.6653576417036\n",
      "Epoch 18/15000, Loss: 1222.4731744745889\n",
      "Epoch 19/15000, Loss: 1203.4122310957914\n",
      "Epoch 20/15000, Loss: 1184.63517259464\n",
      "Epoch 21/15000, Loss: 1166.8133878000526\n",
      "Epoch 22/15000, Loss: 1149.7586516504089\n",
      "Epoch 23/15000, Loss: 1134.588437014518\n",
      "Epoch 24/15000, Loss: 1119.2928409768238\n",
      "Epoch 25/15000, Loss: 1105.172927391478\n",
      "Epoch 26/15000, Loss: 1091.6070482529835\n",
      "Epoch 27/15000, Loss: 1078.3488598117742\n",
      "Epoch 28/15000, Loss: 1066.1168055065173\n",
      "Epoch 29/15000, Loss: 1054.4789007064112\n",
      "Epoch 30/15000, Loss: 1043.1222224045882\n",
      "Epoch 31/15000, Loss: 1032.3543225870785\n",
      "Epoch 32/15000, Loss: 1021.179073213266\n",
      "Epoch 33/15000, Loss: 1011.6569753175097\n",
      "Epoch 34/15000, Loss: 1001.5728942720755\n",
      "Epoch 35/15000, Loss: 992.7745254691382\n",
      "Epoch 1/15000, Loss: 2867.8380828076415\n",
      "Epoch 2/15000, Loss: 2289.502263030319\n",
      "Epoch 3/15000, Loss: 1975.5891173042714\n",
      "Epoch 4/15000, Loss: 1804.1068999608096\n",
      "Epoch 5/15000, Loss: 1699.0479739448203\n",
      "Epoch 6/15000, Loss: 1623.9196498321126\n",
      "Epoch 7/15000, Loss: 1564.0939516573742\n",
      "Epoch 8/15000, Loss: 1514.2802400844494\n",
      "Epoch 9/15000, Loss: 1471.7240788851313\n",
      "Epoch 10/15000, Loss: 1433.8118070031958\n",
      "Epoch 11/15000, Loss: 1397.508254715833\n",
      "Epoch 12/15000, Loss: 1367.461497015521\n",
      "Epoch 13/15000, Loss: 1338.8185551481256\n",
      "Epoch 14/15000, Loss: 1312.1719795382905\n",
      "Epoch 15/15000, Loss: 1286.9899783491173\n",
      "Epoch 16/15000, Loss: 1263.837373836849\n",
      "Epoch 17/15000, Loss: 1242.6653576417036\n",
      "Epoch 18/15000, Loss: 1222.4731744745889\n",
      "Epoch 19/15000, Loss: 1203.4122310957914\n",
      "Epoch 20/15000, Loss: 1184.63517259464\n",
      "Epoch 21/15000, Loss: 1166.8133878000526\n",
      "Epoch 22/15000, Loss: 1149.7586516504089\n",
      "Epoch 23/15000, Loss: 1134.588437014518\n",
      "Epoch 24/15000, Loss: 1119.2928409768238\n",
      "Epoch 25/15000, Loss: 1105.172927391478\n",
      "Epoch 26/15000, Loss: 1091.6070482529835\n",
      "Epoch 1/15000, Loss: 2867.8380828076415\n",
      "Epoch 2/15000, Loss: 2289.502263030319\n",
      "Epoch 3/15000, Loss: 1975.5891173042714\n",
      "Epoch 4/15000, Loss: 1804.1068999608096\n",
      "Epoch 5/15000, Loss: 1699.0479739448203\n",
      "Epoch 6/15000, Loss: 1623.9196498321126\n",
      "Epoch 7/15000, Loss: 1564.0939516573742\n",
      "Epoch 8/15000, Loss: 1514.2802400844494\n",
      "Epoch 9/15000, Loss: 1471.7240788851313\n",
      "Epoch 10/15000, Loss: 1433.8118070031958\n",
      "Epoch 11/15000, Loss: 1397.508254715833\n",
      "Epoch 12/15000, Loss: 1367.461497015521\n",
      "Epoch 13/15000, Loss: 1338.8185551481256\n",
      "Epoch 14/15000, Loss: 1312.1719795382905\n",
      "Epoch 15/15000, Loss: 1286.9899783491173\n",
      "Epoch 16/15000, Loss: 1263.837373836849\n",
      "Epoch 17/15000, Loss: 1242.6653576417036\n",
      "Epoch 18/15000, Loss: 1222.4731744745889\n",
      "Epoch 19/15000, Loss: 1203.4122310957914\n",
      "Epoch 20/15000, Loss: 1184.63517259464\n",
      "Epoch 1/15000, Loss: 2867.8380828076415\n",
      "Epoch 2/15000, Loss: 2289.502263030319\n",
      "Epoch 3/15000, Loss: 1975.5891173042714\n",
      "Epoch 4/15000, Loss: 1804.1068999608096\n",
      "Epoch 5/15000, Loss: 1699.0479739448203\n",
      "Epoch 6/15000, Loss: 1623.9196498321126\n",
      "Epoch 7/15000, Loss: 1564.0939516573742\n",
      "Epoch 8/15000, Loss: 1514.2802400844494\n",
      "Epoch 9/15000, Loss: 1471.7240788851313\n",
      "Epoch 10/15000, Loss: 1433.8118070031958\n",
      "Epoch 11/15000, Loss: 1397.508254715833\n",
      "Epoch 12/15000, Loss: 1367.461497015521\n",
      "Epoch 13/15000, Loss: 1338.8185551481256\n",
      "Epoch 14/15000, Loss: 1312.1719795382905\n",
      "Epoch 15/15000, Loss: 1286.9899783491173\n",
      "Epoch 1/15000, Loss: 2867.8380828076415\n",
      "Epoch 2/15000, Loss: 2289.502263030319\n",
      "Epoch 3/15000, Loss: 1975.5891173042714\n",
      "Epoch 4/15000, Loss: 1804.1068999608096\n",
      "Epoch 5/15000, Loss: 1699.0479739448203\n",
      "Epoch 6/15000, Loss: 1623.9196498321126\n",
      "Epoch 7/15000, Loss: 1564.0939516573742\n",
      "Epoch 8/15000, Loss: 1514.2802400844494\n",
      "Epoch 9/15000, Loss: 1471.7240788851313\n",
      "Epoch 10/15000, Loss: 1433.8118070031958\n",
      "Epoch 11/15000, Loss: 1397.508254715833\n",
      "Epoch 1/15000, Loss: 2867.8380828076415\n",
      "Epoch 2/15000, Loss: 2289.502263030319\n",
      "Epoch 3/15000, Loss: 1975.5891173042714\n",
      "Epoch 4/15000, Loss: 1804.1068999608096\n",
      "Epoch 5/15000, Loss: 1699.0479739448203\n",
      "Epoch 6/15000, Loss: 1623.9196498321126\n",
      "Epoch 7/15000, Loss: 1564.0939516573742\n",
      "Epoch 8/15000, Loss: 1514.2802400844494\n",
      "Epoch 9/15000, Loss: 1471.7240788851313\n",
      "Epoch 1/15000, Loss: 2867.8380828076415\n",
      "Epoch 2/15000, Loss: 2289.502263030319\n",
      "Epoch 3/15000, Loss: 1975.5891173042714\n",
      "Epoch 4/15000, Loss: 1804.1068999608096\n",
      "Epoch 5/15000, Loss: 1699.0479739448203\n",
      "Epoch 6/15000, Loss: 1623.9196498321126\n",
      "Epoch 7/15000, Loss: 1564.0939516573742\n",
      "Epoch 1/15000, Loss: 2867.8380828076415\n",
      "Epoch 2/15000, Loss: 2289.502263030319\n",
      "Epoch 3/15000, Loss: 1975.5891173042714\n",
      "Epoch 4/15000, Loss: 1804.1068999608096\n",
      "Epoch 5/15000, Loss: 1699.0479739448203\n",
      "Epoch 1/15000, Loss: 2867.8380828076415\n",
      "Epoch 2/15000, Loss: 2289.502263030319\n",
      "Epoch 3/15000, Loss: 1975.5891173042714\n",
      "Epoch 4/15000, Loss: 1804.1068999608096\n",
      "Epoch 5/15000, Loss: 1699.0479739448203\n",
      "Epoch 1/15000, Loss: 2867.8380828076415\n",
      "Epoch 2/15000, Loss: 2289.502263030319\n",
      "Epoch 3/15000, Loss: 1975.5891173042714\n",
      "Epoch 4/15000, Loss: 1804.1068999608096\n",
      "Epoch 1/15000, Loss: 2867.8380828076415\n",
      "Epoch 2/15000, Loss: 2289.502263030319\n",
      "Epoch 3/15000, Loss: 1975.5891173042714\n",
      "Epoch 1/15000, Loss: 2867.8380828076415\n",
      "Epoch 2/15000, Loss: 2289.502263030319\n",
      "Epoch 3/15000, Loss: 1975.5891173042714\n",
      "Epoch 1/15000, Loss: 2867.8380828076415\n",
      "Epoch 2/15000, Loss: 2289.502263030319\n",
      "Epoch 3/15000, Loss: 1975.5891173042714\n",
      "Epoch 1/15000, Loss: 2867.8380828076415\n",
      "Epoch 2/15000, Loss: 2289.502263030319\n",
      "Epoch 1/15000, Loss: 2867.8380828076415\n",
      "Epoch 2/15000, Loss: 2289.502263030319\n",
      "Epoch 1/15000, Loss: 2867.8380828076415\n",
      "Epoch 2/15000, Loss: 2289.502263030319\n",
      "Epoch 1/15000, Loss: 2867.8380828076415\n",
      "Epoch 2/15000, Loss: 2289.502263030319\n",
      "Epoch 1/15000, Loss: 2867.8380828076415\n",
      "Epoch 2/15000, Loss: 2289.502263030319\n",
      "Epoch 1/15000, Loss: 2867.8380828076415\n",
      "Epoch 2/15000, Loss: 2289.502263030319\n",
      "Epoch 1/15000, Loss: 2867.8380828076415\n"
     ]
    },
    {
     "data": {
      "application/vnd.plotly.v1+json": {
       "config": {
        "plotlyServerURL": "https://plot.ly"
       },
       "data": [
        {
         "mode": "lines+markers",
         "type": "scatter",
         "x": [
          1000,
          1100,
          1200,
          1300,
          1400,
          1500,
          1600,
          1700,
          1800,
          1900,
          2000,
          2100,
          2200,
          2300,
          2400,
          2500,
          2600,
          2700,
          2800,
          2900
         ],
         "y": [
          35,
          26,
          20,
          15,
          11,
          9,
          7,
          5,
          5,
          4,
          3,
          3,
          3,
          2,
          2,
          2,
          2,
          2,
          2,
          1
         ]
        }
       ],
       "layout": {
        "font": {
         "size": 20
        },
        "height": 720,
        "template": {
         "data": {
          "bar": [
           {
            "error_x": {
             "color": "#2a3f5f"
            },
            "error_y": {
             "color": "#2a3f5f"
            },
            "marker": {
             "line": {
              "color": "#E5ECF6",
              "width": 0.5
             },
             "pattern": {
              "fillmode": "overlay",
              "size": 10,
              "solidity": 0.2
             }
            },
            "type": "bar"
           }
          ],
          "barpolar": [
           {
            "marker": {
             "line": {
              "color": "#E5ECF6",
              "width": 0.5
             },
             "pattern": {
              "fillmode": "overlay",
              "size": 10,
              "solidity": 0.2
             }
            },
            "type": "barpolar"
           }
          ],
          "carpet": [
           {
            "aaxis": {
             "endlinecolor": "#2a3f5f",
             "gridcolor": "white",
             "linecolor": "white",
             "minorgridcolor": "white",
             "startlinecolor": "#2a3f5f"
            },
            "baxis": {
             "endlinecolor": "#2a3f5f",
             "gridcolor": "white",
             "linecolor": "white",
             "minorgridcolor": "white",
             "startlinecolor": "#2a3f5f"
            },
            "type": "carpet"
           }
          ],
          "choropleth": [
           {
            "colorbar": {
             "outlinewidth": 0,
             "ticks": ""
            },
            "type": "choropleth"
           }
          ],
          "contour": [
           {
            "colorbar": {
             "outlinewidth": 0,
             "ticks": ""
            },
            "colorscale": [
             [
              0,
              "#0d0887"
             ],
             [
              0.1111111111111111,
              "#46039f"
             ],
             [
              0.2222222222222222,
              "#7201a8"
             ],
             [
              0.3333333333333333,
              "#9c179e"
             ],
             [
              0.4444444444444444,
              "#bd3786"
             ],
             [
              0.5555555555555556,
              "#d8576b"
             ],
             [
              0.6666666666666666,
              "#ed7953"
             ],
             [
              0.7777777777777778,
              "#fb9f3a"
             ],
             [
              0.8888888888888888,
              "#fdca26"
             ],
             [
              1,
              "#f0f921"
             ]
            ],
            "type": "contour"
           }
          ],
          "contourcarpet": [
           {
            "colorbar": {
             "outlinewidth": 0,
             "ticks": ""
            },
            "type": "contourcarpet"
           }
          ],
          "heatmap": [
           {
            "colorbar": {
             "outlinewidth": 0,
             "ticks": ""
            },
            "colorscale": [
             [
              0,
              "#0d0887"
             ],
             [
              0.1111111111111111,
              "#46039f"
             ],
             [
              0.2222222222222222,
              "#7201a8"
             ],
             [
              0.3333333333333333,
              "#9c179e"
             ],
             [
              0.4444444444444444,
              "#bd3786"
             ],
             [
              0.5555555555555556,
              "#d8576b"
             ],
             [
              0.6666666666666666,
              "#ed7953"
             ],
             [
              0.7777777777777778,
              "#fb9f3a"
             ],
             [
              0.8888888888888888,
              "#fdca26"
             ],
             [
              1,
              "#f0f921"
             ]
            ],
            "type": "heatmap"
           }
          ],
          "heatmapgl": [
           {
            "colorbar": {
             "outlinewidth": 0,
             "ticks": ""
            },
            "colorscale": [
             [
              0,
              "#0d0887"
             ],
             [
              0.1111111111111111,
              "#46039f"
             ],
             [
              0.2222222222222222,
              "#7201a8"
             ],
             [
              0.3333333333333333,
              "#9c179e"
             ],
             [
              0.4444444444444444,
              "#bd3786"
             ],
             [
              0.5555555555555556,
              "#d8576b"
             ],
             [
              0.6666666666666666,
              "#ed7953"
             ],
             [
              0.7777777777777778,
              "#fb9f3a"
             ],
             [
              0.8888888888888888,
              "#fdca26"
             ],
             [
              1,
              "#f0f921"
             ]
            ],
            "type": "heatmapgl"
           }
          ],
          "histogram": [
           {
            "marker": {
             "pattern": {
              "fillmode": "overlay",
              "size": 10,
              "solidity": 0.2
             }
            },
            "type": "histogram"
           }
          ],
          "histogram2d": [
           {
            "colorbar": {
             "outlinewidth": 0,
             "ticks": ""
            },
            "colorscale": [
             [
              0,
              "#0d0887"
             ],
             [
              0.1111111111111111,
              "#46039f"
             ],
             [
              0.2222222222222222,
              "#7201a8"
             ],
             [
              0.3333333333333333,
              "#9c179e"
             ],
             [
              0.4444444444444444,
              "#bd3786"
             ],
             [
              0.5555555555555556,
              "#d8576b"
             ],
             [
              0.6666666666666666,
              "#ed7953"
             ],
             [
              0.7777777777777778,
              "#fb9f3a"
             ],
             [
              0.8888888888888888,
              "#fdca26"
             ],
             [
              1,
              "#f0f921"
             ]
            ],
            "type": "histogram2d"
           }
          ],
          "histogram2dcontour": [
           {
            "colorbar": {
             "outlinewidth": 0,
             "ticks": ""
            },
            "colorscale": [
             [
              0,
              "#0d0887"
             ],
             [
              0.1111111111111111,
              "#46039f"
             ],
             [
              0.2222222222222222,
              "#7201a8"
             ],
             [
              0.3333333333333333,
              "#9c179e"
             ],
             [
              0.4444444444444444,
              "#bd3786"
             ],
             [
              0.5555555555555556,
              "#d8576b"
             ],
             [
              0.6666666666666666,
              "#ed7953"
             ],
             [
              0.7777777777777778,
              "#fb9f3a"
             ],
             [
              0.8888888888888888,
              "#fdca26"
             ],
             [
              1,
              "#f0f921"
             ]
            ],
            "type": "histogram2dcontour"
           }
          ],
          "mesh3d": [
           {
            "colorbar": {
             "outlinewidth": 0,
             "ticks": ""
            },
            "type": "mesh3d"
           }
          ],
          "parcoords": [
           {
            "line": {
             "colorbar": {
              "outlinewidth": 0,
              "ticks": ""
             }
            },
            "type": "parcoords"
           }
          ],
          "pie": [
           {
            "automargin": true,
            "type": "pie"
           }
          ],
          "scatter": [
           {
            "fillpattern": {
             "fillmode": "overlay",
             "size": 10,
             "solidity": 0.2
            },
            "type": "scatter"
           }
          ],
          "scatter3d": [
           {
            "line": {
             "colorbar": {
              "outlinewidth": 0,
              "ticks": ""
             }
            },
            "marker": {
             "colorbar": {
              "outlinewidth": 0,
              "ticks": ""
             }
            },
            "type": "scatter3d"
           }
          ],
          "scattercarpet": [
           {
            "marker": {
             "colorbar": {
              "outlinewidth": 0,
              "ticks": ""
             }
            },
            "type": "scattercarpet"
           }
          ],
          "scattergeo": [
           {
            "marker": {
             "colorbar": {
              "outlinewidth": 0,
              "ticks": ""
             }
            },
            "type": "scattergeo"
           }
          ],
          "scattergl": [
           {
            "marker": {
             "colorbar": {
              "outlinewidth": 0,
              "ticks": ""
             }
            },
            "type": "scattergl"
           }
          ],
          "scattermapbox": [
           {
            "marker": {
             "colorbar": {
              "outlinewidth": 0,
              "ticks": ""
             }
            },
            "type": "scattermapbox"
           }
          ],
          "scatterpolar": [
           {
            "marker": {
             "colorbar": {
              "outlinewidth": 0,
              "ticks": ""
             }
            },
            "type": "scatterpolar"
           }
          ],
          "scatterpolargl": [
           {
            "marker": {
             "colorbar": {
              "outlinewidth": 0,
              "ticks": ""
             }
            },
            "type": "scatterpolargl"
           }
          ],
          "scatterternary": [
           {
            "marker": {
             "colorbar": {
              "outlinewidth": 0,
              "ticks": ""
             }
            },
            "type": "scatterternary"
           }
          ],
          "surface": [
           {
            "colorbar": {
             "outlinewidth": 0,
             "ticks": ""
            },
            "colorscale": [
             [
              0,
              "#0d0887"
             ],
             [
              0.1111111111111111,
              "#46039f"
             ],
             [
              0.2222222222222222,
              "#7201a8"
             ],
             [
              0.3333333333333333,
              "#9c179e"
             ],
             [
              0.4444444444444444,
              "#bd3786"
             ],
             [
              0.5555555555555556,
              "#d8576b"
             ],
             [
              0.6666666666666666,
              "#ed7953"
             ],
             [
              0.7777777777777778,
              "#fb9f3a"
             ],
             [
              0.8888888888888888,
              "#fdca26"
             ],
             [
              1,
              "#f0f921"
             ]
            ],
            "type": "surface"
           }
          ],
          "table": [
           {
            "cells": {
             "fill": {
              "color": "#EBF0F8"
             },
             "line": {
              "color": "white"
             }
            },
            "header": {
             "fill": {
              "color": "#C8D4E3"
             },
             "line": {
              "color": "white"
             }
            },
            "type": "table"
           }
          ]
         },
         "layout": {
          "annotationdefaults": {
           "arrowcolor": "#2a3f5f",
           "arrowhead": 0,
           "arrowwidth": 1
          },
          "autotypenumbers": "strict",
          "coloraxis": {
           "colorbar": {
            "outlinewidth": 0,
            "ticks": ""
           }
          },
          "colorscale": {
           "diverging": [
            [
             0,
             "#8e0152"
            ],
            [
             0.1,
             "#c51b7d"
            ],
            [
             0.2,
             "#de77ae"
            ],
            [
             0.3,
             "#f1b6da"
            ],
            [
             0.4,
             "#fde0ef"
            ],
            [
             0.5,
             "#f7f7f7"
            ],
            [
             0.6,
             "#e6f5d0"
            ],
            [
             0.7,
             "#b8e186"
            ],
            [
             0.8,
             "#7fbc41"
            ],
            [
             0.9,
             "#4d9221"
            ],
            [
             1,
             "#276419"
            ]
           ],
           "sequential": [
            [
             0,
             "#0d0887"
            ],
            [
             0.1111111111111111,
             "#46039f"
            ],
            [
             0.2222222222222222,
             "#7201a8"
            ],
            [
             0.3333333333333333,
             "#9c179e"
            ],
            [
             0.4444444444444444,
             "#bd3786"
            ],
            [
             0.5555555555555556,
             "#d8576b"
            ],
            [
             0.6666666666666666,
             "#ed7953"
            ],
            [
             0.7777777777777778,
             "#fb9f3a"
            ],
            [
             0.8888888888888888,
             "#fdca26"
            ],
            [
             1,
             "#f0f921"
            ]
           ],
           "sequentialminus": [
            [
             0,
             "#0d0887"
            ],
            [
             0.1111111111111111,
             "#46039f"
            ],
            [
             0.2222222222222222,
             "#7201a8"
            ],
            [
             0.3333333333333333,
             "#9c179e"
            ],
            [
             0.4444444444444444,
             "#bd3786"
            ],
            [
             0.5555555555555556,
             "#d8576b"
            ],
            [
             0.6666666666666666,
             "#ed7953"
            ],
            [
             0.7777777777777778,
             "#fb9f3a"
            ],
            [
             0.8888888888888888,
             "#fdca26"
            ],
            [
             1,
             "#f0f921"
            ]
           ]
          },
          "colorway": [
           "#636efa",
           "#EF553B",
           "#00cc96",
           "#ab63fa",
           "#FFA15A",
           "#19d3f3",
           "#FF6692",
           "#B6E880",
           "#FF97FF",
           "#FECB52"
          ],
          "font": {
           "color": "#2a3f5f"
          },
          "geo": {
           "bgcolor": "white",
           "lakecolor": "white",
           "landcolor": "#E5ECF6",
           "showlakes": true,
           "showland": true,
           "subunitcolor": "white"
          },
          "hoverlabel": {
           "align": "left"
          },
          "hovermode": "closest",
          "mapbox": {
           "style": "light"
          },
          "paper_bgcolor": "white",
          "plot_bgcolor": "#E5ECF6",
          "polar": {
           "angularaxis": {
            "gridcolor": "white",
            "linecolor": "white",
            "ticks": ""
           },
           "bgcolor": "#E5ECF6",
           "radialaxis": {
            "gridcolor": "white",
            "linecolor": "white",
            "ticks": ""
           }
          },
          "scene": {
           "xaxis": {
            "backgroundcolor": "#E5ECF6",
            "gridcolor": "white",
            "gridwidth": 2,
            "linecolor": "white",
            "showbackground": true,
            "ticks": "",
            "zerolinecolor": "white"
           },
           "yaxis": {
            "backgroundcolor": "#E5ECF6",
            "gridcolor": "white",
            "gridwidth": 2,
            "linecolor": "white",
            "showbackground": true,
            "ticks": "",
            "zerolinecolor": "white"
           },
           "zaxis": {
            "backgroundcolor": "#E5ECF6",
            "gridcolor": "white",
            "gridwidth": 2,
            "linecolor": "white",
            "showbackground": true,
            "ticks": "",
            "zerolinecolor": "white"
           }
          },
          "shapedefaults": {
           "line": {
            "color": "#2a3f5f"
           }
          },
          "ternary": {
           "aaxis": {
            "gridcolor": "white",
            "linecolor": "white",
            "ticks": ""
           },
           "baxis": {
            "gridcolor": "white",
            "linecolor": "white",
            "ticks": ""
           },
           "bgcolor": "#E5ECF6",
           "caxis": {
            "gridcolor": "white",
            "linecolor": "white",
            "ticks": ""
           }
          },
          "title": {
           "x": 0.05
          },
          "xaxis": {
           "automargin": true,
           "gridcolor": "white",
           "linecolor": "white",
           "ticks": "",
           "title": {
            "standoff": 15
           },
           "zerolinecolor": "white",
           "zerolinewidth": 2
          },
          "yaxis": {
           "automargin": true,
           "gridcolor": "white",
           "linecolor": "white",
           "ticks": "",
           "title": {
            "standoff": 15
           },
           "zerolinecolor": "white",
           "zerolinewidth": 2
          }
         }
        },
        "title": {
         "text": "Зависимость количества итераций обучения от значения максимальной ошибки"
        },
        "width": 1280,
        "xaxis": {
         "title": {
          "text": "Значение максимальной ошибки"
         }
        },
        "yaxis": {
         "title": {
          "text": "Количество итераций обучения"
         }
        }
       }
      }
     },
     "metadata": {},
     "output_type": "display_data"
    }
   ],
   "source": [
    "max_errors = list(range(1000, 3000, 100))\n",
    "epochs_amount: list[int] = []\n",
    "for err in max_errors:    \n",
    "    dl = LRNN(n, 50, 0.001)\n",
    "    dl.train(train, 15000, learn_by_loss=True, max_loss=err)\n",
    "    epochs_amount.append(dl.epoch)\n",
    "fig = go.Figure()\n",
    "fig.add_trace(go.Scatter(x=max_errors, y=epochs_amount, mode='lines+markers'))\n",
    "fig.update_layout(title='Зависимость количества итераций обучения от значения максимальной ошибки',\n",
    "                  xaxis_title='Значение максимальной ошибки',\n",
    "                  yaxis_title='Количество итераций обучения',\n",
    "                  height=720, width=1280,\n",
    "                  font=dict(size=20))\n",
    "fig.show()"
   ]
  },
  {
   "cell_type": "markdown",
   "metadata": {},
   "source": [
    "## Relationship between image and epochs"
   ]
  },
  {
   "cell_type": "code",
   "execution_count": 15,
   "metadata": {},
   "outputs": [
    {
     "name": "stdout",
     "output_type": "stream",
     "text": [
      "Z = 1.9230473377332657\n",
      "Epoch 1/15000, Loss: 7516.0534758628855\n",
      "Epoch 2/15000, Loss: 4447.567689083428\n",
      "Epoch 3/15000, Loss: 3527.883201262848\n",
      "Epoch 4/15000, Loss: 3057.702406077855\n",
      "Epoch 5/15000, Loss: 2762.2270547929083\n",
      "Epoch 6/15000, Loss: 2553.2287967491984\n",
      "Epoch 7/15000, Loss: 2391.7273205824504\n",
      "Epoch 8/15000, Loss: 2261.8527300554156\n",
      "Epoch 9/15000, Loss: 2152.3316969925568\n",
      "Epoch 10/15000, Loss: 2058.9453200917433\n",
      "Epoch 11/15000, Loss: 1978.7882829499738\n",
      "Epoch 12/15000, Loss: 1907.6307963106685\n",
      "Epoch 13/15000, Loss: 1843.8665703742442\n",
      "Epoch 14/15000, Loss: 1787.0528248755738\n",
      "Epoch 15/15000, Loss: 1736.190013422143\n",
      "Epoch 16/15000, Loss: 1688.9232111100512\n",
      "Epoch 17/15000, Loss: 1645.4353120509074\n",
      "Epoch 18/15000, Loss: 1605.9185154393401\n",
      "Epoch 19/15000, Loss: 1569.5819992500262\n",
      "Epoch 20/15000, Loss: 1536.062310195727\n",
      "Epoch 21/15000, Loss: 1505.0931899921154\n",
      "Epoch 22/15000, Loss: 1475.699896237704\n",
      "22\n"
     ]
    }
   ],
   "source": [
    "# Collecting everything\n",
    "\n",
    "block_width = 10\n",
    "block_height = 10\n",
    "\n",
    "n = block_height * block_width\n",
    "# Hidden layer neuron amount\n",
    "p = 50 \n",
    "\n",
    "img = Image.open('images/winter.jpg')\n",
    "img_array = np.asarray(img)\n",
    "shape = img_array.shape\n",
    "blocks = image_to_blocks(img_array, block_height, block_width, overlap=0)\n",
    "\n",
    "l = len(blocks)\n",
    "# Compression coeff\n",
    "print('Z =', (n*l) / ((n+l) * p+2))\n",
    "\n",
    "color_df = ((2 * blocks / MAX_RGB_VALUE) - 1).reshape(len(blocks), -1, 3).transpose(0, 2, 1).reshape(-1, block_height * block_width)\n",
    "train = np.matrix(color_df[np.random.choice(color_df.shape[0], int(color_df.shape[0] * 0.05))])\n",
    "\n",
    "network = LRNN(n, p, 0.001)\n",
    "network.train(train, 15000, learn_by_loss=True, max_loss=1500)\n",
    "\n",
    "print(network.epoch)\n",
    "\n",
    "# compressed = compress_image(network.W_enc, img_array, COLOR_CHANNELS_AMOUNT, block_height, block_width, 0)\n",
    "# dimg = decompress_image(network.W_dec, compressed, shape, COLOR_CHANNELS_AMOUNT, block_height, block_width, 0)\n",
    "# dimg_array = np.asarray(dimg)\n",
    "# dimg.save('compression-decompression_test.jpg')"
   ]
  }
 ],
 "metadata": {
  "kernelspec": {
   "display_name": ".venv",
   "language": "python",
   "name": "python3"
  },
  "language_info": {
   "codemirror_mode": {
    "name": "ipython",
    "version": 3
   },
   "file_extension": ".py",
   "mimetype": "text/x-python",
   "name": "python",
   "nbconvert_exporter": "python",
   "pygments_lexer": "ipython3",
   "version": "3.11.9"
  }
 },
 "nbformat": 4,
 "nbformat_minor": 2
}
