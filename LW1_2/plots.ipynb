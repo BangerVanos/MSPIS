{
 "cells": [
  {
   "cell_type": "code",
   "execution_count": 10,
   "metadata": {},
   "outputs": [],
   "source": [
    "# Лабораторная работа 1 по дисциплине МРЗвИС\n",
    "# Выполнена студентом группы 121702\n",
    "# БГУИР Заломов Роман Андреевич\n",
    "#\n",
    "# Вариант 15: Реализовать модель линейной рециркуляционной сети \n",
    "# с постоянным коэффициентом обучения и нормированными весовыми коэффициентами.\n",
    "#\n",
    "# Данный файл содержит алгоритмы построения графиков различных зависимостей"
   ]
  },
  {
   "cell_type": "code",
   "execution_count": 11,
   "metadata": {},
   "outputs": [],
   "source": [
    "from lrnn import (\n",
    "    LRNN,\n",
    "    image_to_blocks,\n",
    "    compress_image,\n",
    "    decompress_image\n",
    ")\n",
    "import numpy as np\n",
    "from PIL import Image\n",
    "import plotly.graph_objects as go"
   ]
  },
  {
   "cell_type": "code",
   "execution_count": 12,
   "metadata": {},
   "outputs": [],
   "source": [
    "MAX_RGB_VALUE = 255\n",
    "COLOR_CHANNELS_AMOUNT = 3"
   ]
  },
  {
   "cell_type": "code",
   "execution_count": 13,
   "metadata": {},
   "outputs": [
    {
     "name": "stdout",
     "output_type": "stream",
     "text": [
      "Z = 4.807507403561401\n",
      "Epoch 1/15000, Loss: 2066.774966156342\n",
      "Epoch 2/15000, Loss: 1923.2415613971286\n",
      "Compression coefficient: 1.2334714821393329\n",
      "Z = 4.807507403561401\n"
     ]
    }
   ],
   "source": [
    "# Collecting everything\n",
    "\n",
    "block_width = 10\n",
    "block_height = 10\n",
    "\n",
    "n = block_height * block_width\n",
    "# Hidden layer neuron amount\n",
    "p = 20 \n",
    "\n",
    "img = Image.open('car.jpg')\n",
    "img_array = np.asarray(img)\n",
    "shape = img_array.shape\n",
    "blocks = image_to_blocks(img_array, block_height, block_width, overlap=0)\n",
    "\n",
    "l = len(blocks)\n",
    "# Compression coeff\n",
    "print('Z =', (n*l) / ((n+l) * p+2))\n",
    "\n",
    "color_df = ((2 * blocks / MAX_RGB_VALUE) - 1).reshape(len(blocks), -1, 3).transpose(0, 2, 1).reshape(-1, block_height * block_width)\n",
    "train = np.matrix(color_df[np.random.choice(color_df.shape[0], int(color_df.shape[0] * 0.1))])\n",
    "\n",
    "\n",
    "network = LRNN(n, p, 0.0015)\n",
    "network.train(train, 15000, learn_by_loss=True, max_loss=2000)\n",
    "\n",
    "compressed = compress_image(network.W_enc, img_array, COLOR_CHANNELS_AMOUNT, block_height, block_width, 0)\n",
    "\n",
    "compression_info_size = (\n",
    "    compressed.size * compressed.itemsize +\n",
    "    network.W_dec.size * network.W_dec.itemsize +\n",
    "    np.array(shape).size * np.array(shape).itemsize +\n",
    "    np.array((block_height, block_width)).size * np.array((block_height, block_width)).itemsize \n",
    ") * 8\n",
    "print(f'Compression coefficient: {(img_array.size * img_array.itemsize * 8) / compression_info_size}')\n",
    "print('Z =', (n*l) / ((n+l) * p + 2))\n",
    "\n",
    "dimg = decompress_image(network.W_dec, compressed, shape, COLOR_CHANNELS_AMOUNT, block_height, block_width, 0)\n",
    "dimg_array = np.asarray(dimg)\n",
    "dimg.save('compression-decompression_test.jpg')"
   ]
  },
  {
   "cell_type": "markdown",
   "metadata": {},
   "source": [
    "## Relation between learning rate and epochs "
   ]
  },
  {
   "cell_type": "code",
   "execution_count": 14,
   "metadata": {},
   "outputs": [
    {
     "name": "stdout",
     "output_type": "stream",
     "text": [
      "0.0001\n",
      "Epoch 1/15000, Loss: 3214.4550968476847\n",
      "Epoch 2/15000, Loss: 2952.4839402198195\n",
      "Epoch 3/15000, Loss: 2822.8659193335498\n",
      "Epoch 4/15000, Loss: 2727.752846070586\n",
      "Epoch 5/15000, Loss: 2652.326527628158\n",
      "Epoch 6/15000, Loss: 2590.0545222116257\n",
      "Epoch 7/15000, Loss: 2537.1971383545324\n",
      "Epoch 8/15000, Loss: 2491.385067505622\n",
      "Epoch 9/15000, Loss: 2451.0177507361927\n",
      "Epoch 10/15000, Loss: 2414.962753664626\n",
      "Epoch 11/15000, Loss: 2382.39010079216\n",
      "Epoch 12/15000, Loss: 2352.672912052774\n",
      "Epoch 13/15000, Loss: 2325.326835082033\n",
      "Epoch 14/15000, Loss: 2299.971289225926\n",
      "Epoch 15/15000, Loss: 2276.3016922955794\n",
      "Epoch 16/15000, Loss: 2254.0716511034657\n",
      "Epoch 17/15000, Loss: 2233.080515130357\n",
      "Epoch 18/15000, Loss: 2213.161800939352\n",
      "Epoch 19/15000, Loss: 2194.1778749954856\n",
      "Epoch 20/15000, Loss: 2176.0133500955208\n",
      "Epoch 21/15000, Loss: 2158.5714447627142\n",
      "Epoch 22/15000, Loss: 2141.770401938724\n",
      "Epoch 23/15000, Loss: 2125.540423044027\n",
      "Epoch 24/15000, Loss: 2109.822834941112\n",
      "Epoch 25/15000, Loss: 2094.5671072232335\n",
      "Epoch 26/15000, Loss: 2079.7293039827937\n",
      "Epoch 27/15000, Loss: 2065.2723600925156\n",
      "Epoch 28/15000, Loss: 2051.1640053101714\n",
      "Epoch 29/15000, Loss: 2037.3762339309708\n",
      "Epoch 30/15000, Loss: 2023.8847269563412\n",
      "Epoch 31/15000, Loss: 2010.6688006436602\n",
      "Epoch 32/15000, Loss: 1997.7097957889432\n",
      "Epoch 33/15000, Loss: 1984.9920257324438\n",
      "Epoch 34/15000, Loss: 1972.5015876958666\n",
      "Epoch 35/15000, Loss: 1960.226136906059\n",
      "Epoch 36/15000, Loss: 1948.15556334894\n",
      "Epoch 37/15000, Loss: 1936.280649646194\n",
      "Epoch 38/15000, Loss: 1924.5932105343875\n",
      "Epoch 39/15000, Loss: 1913.0865813702942\n",
      "Epoch 40/15000, Loss: 1901.754912365265\n",
      "Epoch 41/15000, Loss: 1890.593212313044\n",
      "Epoch 42/15000, Loss: 1879.596586446492\n",
      "Epoch 43/15000, Loss: 1868.761407546448\n",
      "Epoch 44/15000, Loss: 1858.084066598776\n",
      "Epoch 45/15000, Loss: 1847.561984788241\n",
      "Epoch 46/15000, Loss: 1837.1924943634601\n",
      "Epoch 47/15000, Loss: 1826.9733814531176\n",
      "Epoch 48/15000, Loss: 1816.9031222198043\n",
      "Epoch 49/15000, Loss: 1806.9796433967672\n",
      "Epoch 50/15000, Loss: 1797.2015406806624\n",
      "Epoch 51/15000, Loss: 1787.5676661745015\n",
      "Epoch 52/15000, Loss: 1778.0764874455217\n",
      "Epoch 53/15000, Loss: 1768.7272688637142\n",
      "Epoch 54/15000, Loss: 1759.5189230948743\n",
      "Epoch 55/15000, Loss: 1750.450243093411\n",
      "Epoch 56/15000, Loss: 1741.5201936938226\n",
      "Epoch 57/15000, Loss: 1732.7277799202723\n",
      "Epoch 58/15000, Loss: 1724.0719095474806\n",
      "Epoch 59/15000, Loss: 1715.5514739966948\n",
      "Epoch 60/15000, Loss: 1707.1653036530533\n",
      "Epoch 61/15000, Loss: 1698.9122474572168\n",
      "Epoch 62/15000, Loss: 1690.7909415771467\n",
      "Epoch 63/15000, Loss: 1682.8003912949207\n",
      "Epoch 64/15000, Loss: 1674.938723875104\n",
      "Epoch 65/15000, Loss: 1667.204672100769\n",
      "Epoch 66/15000, Loss: 1659.5965216973484\n",
      "Epoch 67/15000, Loss: 1652.112905529711\n",
      "Epoch 68/15000, Loss: 1644.7518878076849\n",
      "Epoch 69/15000, Loss: 1637.5118898048627\n",
      "Epoch 70/15000, Loss: 1630.3907597138348\n",
      "Epoch 71/15000, Loss: 1623.3868688971695\n",
      "Epoch 72/15000, Loss: 1616.498146072504\n",
      "Epoch 73/15000, Loss: 1609.7227370507744\n",
      "Epoch 74/15000, Loss: 1603.05855874732\n",
      "Epoch 75/15000, Loss: 1596.5036577447343\n",
      "Epoch 76/15000, Loss: 1590.0558094118096\n",
      "Epoch 77/15000, Loss: 1583.7126584624866\n",
      "Epoch 78/15000, Loss: 1577.4722444329736\n",
      "Epoch 79/15000, Loss: 1571.3322295308574\n",
      "Epoch 80/15000, Loss: 1565.290654660085\n",
      "Epoch 81/15000, Loss: 1559.34515019698\n",
      "Epoch 82/15000, Loss: 1553.493668208532\n",
      "Epoch 83/15000, Loss: 1547.7339439790414\n",
      "Epoch 84/15000, Loss: 1542.0637060109796\n",
      "Epoch 85/15000, Loss: 1536.4807966811406\n",
      "Epoch 86/15000, Loss: 1530.9831130275804\n",
      "Epoch 87/15000, Loss: 1525.5685501545959\n",
      "Epoch 88/15000, Loss: 1520.2350944445668\n",
      "Epoch 89/15000, Loss: 1514.9805824700197\n",
      "Epoch 90/15000, Loss: 1509.8030950550412\n",
      "Epoch 91/15000, Loss: 1504.7003743974356\n",
      "Epoch 92/15000, Loss: 1499.6706403562946\n",
      "Epoch 93/15000, Loss: 1494.7118673790885\n",
      "Epoch 94/15000, Loss: 1489.8222629680217\n",
      "Epoch 95/15000, Loss: 1485.0000036930842\n",
      "Epoch 96/15000, Loss: 1480.2433353129136\n",
      "Epoch 97/15000, Loss: 1475.550351350148\n",
      "Epoch 98/15000, Loss: 1470.9195290769405\n",
      "Epoch 99/15000, Loss: 1466.3491438194883\n",
      "Epoch 100/15000, Loss: 1461.8375274399907\n",
      "Epoch 101/15000, Loss: 1457.383066060538\n",
      "Epoch 102/15000, Loss: 1452.9841725994106\n",
      "Epoch 103/15000, Loss: 1448.6395074260079\n",
      "Epoch 104/15000, Loss: 1444.3477231116738\n",
      "Epoch 105/15000, Loss: 1440.1071900866484\n",
      "Epoch 106/15000, Loss: 1435.9166712049803\n",
      "Epoch 107/15000, Loss: 1431.7748265068678\n",
      "Epoch 108/15000, Loss: 1427.6803577595858\n",
      "Epoch 109/15000, Loss: 1423.6320540874153\n",
      "Epoch 110/15000, Loss: 1419.6287808070374\n",
      "Epoch 111/15000, Loss: 1415.6693705049329\n",
      "Epoch 112/15000, Loss: 1411.7527005999502\n",
      "Epoch 113/15000, Loss: 1407.8777193052233\n",
      "Epoch 114/15000, Loss: 1404.0432709461072\n",
      "Epoch 115/15000, Loss: 1400.2485366612018\n",
      "Epoch 116/15000, Loss: 1396.4923734225092\n",
      "Epoch 117/15000, Loss: 1392.7739017068513\n",
      "Epoch 118/15000, Loss: 1389.0922712710367\n",
      "Epoch 119/15000, Loss: 1385.4464991908396\n",
      "Epoch 120/15000, Loss: 1381.8357639084095\n",
      "Epoch 121/15000, Loss: 1378.2592548832272\n",
      "Epoch 122/15000, Loss: 1374.7161109056824\n",
      "Epoch 123/15000, Loss: 1371.2057783740793\n",
      "Epoch 124/15000, Loss: 1367.7273747792717\n",
      "Epoch 125/15000, Loss: 1364.2803389749592\n",
      "Epoch 126/15000, Loss: 1360.8638586733548\n",
      "Epoch 127/15000, Loss: 1357.4772896422908\n",
      "Epoch 128/15000, Loss: 1354.1200435009125\n",
      "Epoch 129/15000, Loss: 1350.7914649161812\n",
      "Epoch 130/15000, Loss: 1347.4909758617587\n",
      "Epoch 131/15000, Loss: 1344.2180214639154\n",
      "Epoch 132/15000, Loss: 1340.9718741489141\n",
      "Epoch 133/15000, Loss: 1337.7519981262715\n",
      "Epoch 134/15000, Loss: 1334.558000792935\n",
      "Epoch 135/15000, Loss: 1331.3893972570004\n",
      "Epoch 136/15000, Loss: 1328.2456125276722\n",
      "Epoch 137/15000, Loss: 1325.1261703563778\n",
      "Epoch 138/15000, Loss: 1322.0307529688268\n",
      "Epoch 139/15000, Loss: 1318.9587213036025\n",
      "Epoch 140/15000, Loss: 1315.9096699185109\n",
      "Epoch 141/15000, Loss: 1312.8833115810633\n",
      "Epoch 142/15000, Loss: 1309.879255324452\n",
      "Epoch 143/15000, Loss: 1306.8969420729582\n",
      "Epoch 144/15000, Loss: 1303.9360364299155\n",
      "Epoch 145/15000, Loss: 1300.996190200147\n",
      "Epoch 146/15000, Loss: 1298.0769920548348\n",
      "Epoch 147/15000, Loss: 1295.178286520196\n",
      "Epoch 148/15000, Loss: 1292.2996740279339\n",
      "Epoch 149/15000, Loss: 1289.440673174342\n",
      "Epoch 150/15000, Loss: 1286.6010507164967\n",
      "Epoch 151/15000, Loss: 1283.7806803148148\n",
      "Epoch 152/15000, Loss: 1280.9790793828518\n",
      "Epoch 153/15000, Loss: 1278.1960070110201\n",
      "Epoch 154/15000, Loss: 1275.431035010375\n",
      "Epoch 155/15000, Loss: 1272.6840355925358\n",
      "Epoch 156/15000, Loss: 1269.9547975648545\n",
      "Epoch 157/15000, Loss: 1267.2431313451493\n",
      "Epoch 158/15000, Loss: 1264.5487180625535\n",
      "Epoch 159/15000, Loss: 1261.8713146756215\n",
      "Epoch 160/15000, Loss: 1259.2107028615467\n",
      "Epoch 161/15000, Loss: 1256.5665914289896\n",
      "Epoch 162/15000, Loss: 1253.938852926107\n",
      "Epoch 163/15000, Loss: 1251.3272486256583\n",
      "Epoch 164/15000, Loss: 1248.7315376175843\n",
      "Epoch 165/15000, Loss: 1246.1515854617383\n",
      "Epoch 166/15000, Loss: 1243.5871792517178\n",
      "Epoch 167/15000, Loss: 1241.0381214058455\n",
      "Epoch 168/15000, Loss: 1238.5042522716105\n",
      "Epoch 169/15000, Loss: 1235.9853596535288\n",
      "Epoch 170/15000, Loss: 1233.481421342299\n",
      "Epoch 171/15000, Loss: 1230.9921671919192\n",
      "Epoch 172/15000, Loss: 1228.5174486556664\n",
      "Epoch 173/15000, Loss: 1226.0570688670127\n",
      "Epoch 174/15000, Loss: 1223.6109462227464\n",
      "Epoch 175/15000, Loss: 1221.1789501531453\n",
      "Epoch 176/15000, Loss: 1218.7610191304816\n",
      "Epoch 177/15000, Loss: 1216.3568854944995\n",
      "Epoch 178/15000, Loss: 1213.9665160225536\n",
      "Epoch 179/15000, Loss: 1211.5898050357146\n",
      "Epoch 180/15000, Loss: 1209.226495490839\n",
      "Epoch 181/15000, Loss: 1206.8765053995223\n",
      "Epoch 182/15000, Loss: 1204.5398330629605\n",
      "Epoch 183/15000, Loss: 1202.2163045969262\n",
      "Epoch 184/15000, Loss: 1199.9058564139243\n",
      "0.0004222222222222222\n",
      "Epoch 1/15000, Loss: 3169.510901564822\n",
      "Epoch 2/15000, Loss: 2804.6863317422467\n",
      "Epoch 3/15000, Loss: 2615.800980449693\n",
      "Epoch 4/15000, Loss: 2491.902082311751\n",
      "Epoch 5/15000, Loss: 2400.943568794192\n",
      "Epoch 6/15000, Loss: 2329.302558195306\n",
      "Epoch 7/15000, Loss: 2269.941300885096\n",
      "Epoch 8/15000, Loss: 2218.798756732943\n",
      "Epoch 9/15000, Loss: 2173.36138316799\n",
      "Epoch 10/15000, Loss: 2131.9984355936235\n",
      "Epoch 11/15000, Loss: 2093.617347904674\n",
      "Epoch 12/15000, Loss: 2057.4726836236678\n",
      "Epoch 13/15000, Loss: 2023.052893574735\n",
      "Epoch 14/15000, Loss: 1990.0104404089814\n",
      "Epoch 15/15000, Loss: 1958.1155613531948\n",
      "Epoch 16/15000, Loss: 1927.2247475669967\n",
      "Epoch 17/15000, Loss: 1897.2572914750929\n",
      "Epoch 18/15000, Loss: 1868.1779312149276\n",
      "Epoch 19/15000, Loss: 1839.9815974472076\n",
      "Epoch 20/15000, Loss: 1812.6825441649194\n",
      "Epoch 21/15000, Loss: 1786.303885761498\n",
      "Epoch 22/15000, Loss: 1760.870062190897\n",
      "Epoch 23/15000, Loss: 1736.4010190951385\n",
      "Epoch 24/15000, Loss: 1712.9074892107838\n",
      "Epoch 25/15000, Loss: 1690.3888200095591\n",
      "Epoch 26/15000, Loss: 1668.8322249799523\n",
      "Epoch 27/15000, Loss: 1648.2126556851338\n",
      "Epoch 28/15000, Loss: 1628.4949774526408\n",
      "Epoch 29/15000, Loss: 1609.6348125387033\n",
      "Epoch 30/15000, Loss: 1591.5816947888586\n",
      "Epoch 31/15000, Loss: 1574.280901747392\n",
      "Epoch 32/15000, Loss: 1557.6755419109504\n",
      "Epoch 33/15000, Loss: 1541.708847826311\n",
      "Epoch 34/15000, Loss: 1526.3250555491095\n",
      "Epoch 35/15000, Loss: 1511.4712951541014\n",
      "Epoch 36/15000, Loss: 1497.098033640896\n",
      "Epoch 37/15000, Loss: 1483.1600147419613\n",
      "Epoch 38/15000, Loss: 1469.6160914952186\n",
      "Epoch 39/15000, Loss: 1456.4297632108298\n",
      "Epoch 40/15000, Loss: 1443.5690719651823\n",
      "Epoch 41/15000, Loss: 1431.0062281607443\n",
      "Epoch 42/15000, Loss: 1418.7177504267165\n",
      "Epoch 43/15000, Loss: 1406.6837844602867\n",
      "Epoch 44/15000, Loss: 1394.8882386724983\n",
      "Epoch 45/15000, Loss: 1383.3178145715174\n",
      "Epoch 46/15000, Loss: 1371.9623109271524\n",
      "Epoch 47/15000, Loss: 1360.813825287774\n",
      "Epoch 48/15000, Loss: 1349.866577338996\n",
      "Epoch 49/15000, Loss: 1339.1166407399655\n",
      "Epoch 50/15000, Loss: 1328.5614495696918\n",
      "Epoch 51/15000, Loss: 1318.1995351812027\n",
      "Epoch 52/15000, Loss: 1308.030314989599\n",
      "Epoch 53/15000, Loss: 1298.0539976504124\n",
      "Epoch 54/15000, Loss: 1288.2710612173817\n",
      "Epoch 55/15000, Loss: 1278.6822757655352\n",
      "Epoch 56/15000, Loss: 1269.2881916029485\n",
      "Epoch 57/15000, Loss: 1260.0896531190983\n",
      "Epoch 58/15000, Loss: 1251.087119981894\n",
      "Epoch 59/15000, Loss: 1242.2805777771935\n",
      "Epoch 60/15000, Loss: 1233.6698050996706\n",
      "Epoch 61/15000, Loss: 1225.2541767122768\n",
      "Epoch 62/15000, Loss: 1217.0325431744698\n",
      "Epoch 63/15000, Loss: 1209.003423214039\n",
      "Epoch 64/15000, Loss: 1201.164691500808\n",
      "Epoch 65/15000, Loss: 1193.5140092742713\n",
      "0.0007444444444444445\n",
      "Epoch 1/15000, Loss: 1946.1347706778702\n",
      "Epoch 2/15000, Loss: 1882.3549925939121\n",
      "Epoch 3/15000, Loss: 1839.295126856665\n",
      "Epoch 4/15000, Loss: 1804.95882957556\n",
      "Epoch 5/15000, Loss: 1775.246873206673\n",
      "Epoch 6/15000, Loss: 1748.2600279878015\n",
      "Epoch 7/15000, Loss: 1722.9570298998742\n",
      "Epoch 8/15000, Loss: 1698.7128047676463\n",
      "Epoch 9/15000, Loss: 1675.140096615351\n",
      "Epoch 10/15000, Loss: 1652.001854797096\n",
      "Epoch 11/15000, Loss: 1629.1662216255754\n",
      "Epoch 12/15000, Loss: 1606.5743827871745\n",
      "Epoch 13/15000, Loss: 1584.2222503293092\n",
      "Epoch 14/15000, Loss: 1562.1443009476964\n",
      "Epoch 15/15000, Loss: 1540.399228634447\n",
      "Epoch 16/15000, Loss: 1519.060970110045\n",
      "Epoch 17/15000, Loss: 1498.2064939996606\n",
      "Epoch 18/15000, Loss: 1477.9097478513136\n",
      "Epoch 19/15000, Loss: 1458.2350295241656\n",
      "Epoch 20/15000, Loss: 1439.233483244577\n",
      "Epoch 21/15000, Loss: 1420.9410075837577\n",
      "Epoch 22/15000, Loss: 1403.3777073199417\n",
      "Epoch 23/15000, Loss: 1386.5493401665979\n",
      "Epoch 24/15000, Loss: 1370.4492974258358\n",
      "Epoch 25/15000, Loss: 1355.0597711602393\n",
      "Epoch 26/15000, Loss: 1340.3556426813623\n",
      "Epoch 27/15000, Loss: 1326.3058347845313\n",
      "Epoch 28/15000, Loss: 1312.8762311925875\n",
      "Epoch 29/15000, Loss: 1300.0307206631774\n",
      "Epoch 30/15000, Loss: 1287.7331649227528\n",
      "Epoch 31/15000, Loss: 1275.948606072604\n",
      "Epoch 32/15000, Loss: 1264.64328818802\n",
      "Epoch 33/15000, Loss: 1253.785713231553\n",
      "Epoch 34/15000, Loss: 1243.3468034302857\n",
      "Epoch 35/15000, Loss: 1233.299948405993\n",
      "Epoch 36/15000, Loss: 1223.6209172095732\n",
      "Epoch 37/15000, Loss: 1214.2875217415758\n",
      "Epoch 38/15000, Loss: 1205.2801681659826\n",
      "Epoch 39/15000, Loss: 1196.5809084533848\n",
      "0.0010666666666666667\n",
      "Epoch 1/15000, Loss: 2161.377512286385\n",
      "Epoch 2/15000, Loss: 2008.9624080578822\n",
      "Epoch 3/15000, Loss: 1935.3904390008668\n",
      "Epoch 4/15000, Loss: 1879.3773466212483\n",
      "Epoch 5/15000, Loss: 1829.9092872292642\n",
      "Epoch 6/15000, Loss: 1783.2096297680996\n",
      "Epoch 7/15000, Loss: 1737.6668192049492\n",
      "Epoch 8/15000, Loss: 1692.7090603619345\n",
      "Epoch 9/15000, Loss: 1648.3826804463404\n",
      "Epoch 10/15000, Loss: 1605.098909966651\n",
      "Epoch 11/15000, Loss: 1563.4321149294335\n",
      "Epoch 12/15000, Loss: 1523.949965825575\n",
      "Epoch 13/15000, Loss: 1487.093503634581\n",
      "Epoch 14/15000, Loss: 1453.1143792625971\n",
      "Epoch 15/15000, Loss: 1422.067992026381\n",
      "Epoch 16/15000, Loss: 1393.8478765883629\n",
      "Epoch 17/15000, Loss: 1368.2385944503626\n",
      "Epoch 18/15000, Loss: 1344.9676916081025\n",
      "Epoch 19/15000, Loss: 1323.7492683660419\n",
      "Epoch 20/15000, Loss: 1304.3123255627204\n",
      "Epoch 21/15000, Loss: 1286.4143749823463\n",
      "Epoch 22/15000, Loss: 1269.8494855790946\n",
      "Epoch 23/15000, Loss: 1254.4451084695409\n",
      "Epoch 24/15000, Loss: 1240.059757922222\n",
      "Epoch 25/15000, Loss: 1226.5764137334704\n",
      "Epoch 26/15000, Loss: 1213.8974529131299\n",
      "Epoch 27/15000, Loss: 1201.9407436402453\n",
      "Epoch 28/15000, Loss: 1190.635046268799\n",
      "0.001388888888888889\n",
      "Epoch 1/15000, Loss: 1970.06932291673\n",
      "Epoch 2/15000, Loss: 1867.3676614723029\n",
      "Epoch 3/15000, Loss: 1797.35783977397\n",
      "Epoch 4/15000, Loss: 1740.9151473926715\n",
      "Epoch 5/15000, Loss: 1691.6140327747003\n",
      "Epoch 6/15000, Loss: 1646.4938592411213\n",
      "Epoch 7/15000, Loss: 1604.240078379105\n",
      "Epoch 8/15000, Loss: 1564.4310399912983\n",
      "Epoch 9/15000, Loss: 1527.077566211976\n",
      "Epoch 10/15000, Loss: 1492.3120067171178\n",
      "Epoch 11/15000, Loss: 1460.2200725346233\n",
      "Epoch 12/15000, Loss: 1430.7714755765612\n",
      "Epoch 13/15000, Loss: 1403.8217929219975\n",
      "Epoch 14/15000, Loss: 1379.1466910806496\n",
      "Epoch 15/15000, Loss: 1356.4826577422168\n",
      "Epoch 16/15000, Loss: 1335.5609229627778\n",
      "Epoch 17/15000, Loss: 1316.1345760312115\n",
      "Epoch 18/15000, Loss: 1297.9901426764923\n",
      "Epoch 19/15000, Loss: 1280.9522546748694\n",
      "Epoch 20/15000, Loss: 1264.8817252437073\n",
      "Epoch 21/15000, Loss: 1249.6695815151286\n",
      "Epoch 22/15000, Loss: 1235.2310316427204\n",
      "Epoch 23/15000, Loss: 1221.49833814084\n",
      "Epoch 24/15000, Loss: 1208.4148752717783\n",
      "Epoch 25/15000, Loss: 1195.932699075604\n",
      "0.0017111111111111112\n",
      "Epoch 1/15000, Loss: 2195.6857993828476\n",
      "Epoch 2/15000, Loss: 1863.8643448700257\n",
      "Epoch 3/15000, Loss: 1722.1024340047177\n",
      "Epoch 4/15000, Loss: 1643.272108050306\n",
      "Epoch 5/15000, Loss: 1584.9635144559852\n",
      "Epoch 6/15000, Loss: 1535.6052325909336\n",
      "Epoch 7/15000, Loss: 1491.7087155044633\n",
      "Epoch 8/15000, Loss: 1451.7681310587477\n",
      "Epoch 9/15000, Loss: 1414.9805334719108\n",
      "Epoch 10/15000, Loss: 1380.9019160178746\n",
      "Epoch 11/15000, Loss: 1349.2853312561804\n",
      "Epoch 12/15000, Loss: 1319.9822763390957\n",
      "Epoch 13/15000, Loss: 1292.8803792292629\n",
      "Epoch 14/15000, Loss: 1267.8689923933766\n",
      "Epoch 15/15000, Loss: 1244.822284792043\n",
      "Epoch 16/15000, Loss: 1223.5974054573694\n",
      "Epoch 17/15000, Loss: 1204.0378003419494\n",
      "Epoch 18/15000, Loss: 1185.9811549810963\n",
      "0.002033333333333333\n",
      "Epoch 1/15000, Loss: 1959.79970404622\n",
      "Epoch 2/15000, Loss: 1604.2596052861616\n",
      "Epoch 3/15000, Loss: 1477.5868139057075\n",
      "Epoch 4/15000, Loss: 1424.1074676275698\n",
      "Epoch 5/15000, Loss: 1389.3121372192197\n",
      "Epoch 6/15000, Loss: 1359.4894155214556\n",
      "Epoch 7/15000, Loss: 1331.8076536048804\n",
      "Epoch 8/15000, Loss: 1305.5690896024519\n",
      "Epoch 9/15000, Loss: 1280.5375879493406\n",
      "Epoch 10/15000, Loss: 1256.6263218430677\n",
      "Epoch 11/15000, Loss: 1233.8074975611248\n",
      "Epoch 12/15000, Loss: 1212.0708822276526\n",
      "Epoch 13/15000, Loss: 1191.4043028229262\n",
      "0.0023555555555555556\n",
      "Epoch 1/15000, Loss: 2060.6049908504533\n",
      "Epoch 2/15000, Loss: 1672.9003170729347\n",
      "Epoch 3/15000, Loss: 1491.900329654774\n",
      "Epoch 4/15000, Loss: 1413.3114722779658\n",
      "Epoch 5/15000, Loss: 1366.9266742761072\n",
      "Epoch 6/15000, Loss: 1329.025450428063\n",
      "Epoch 7/15000, Loss: 1294.4378490903584\n",
      "Epoch 8/15000, Loss: 1262.243843607339\n",
      "Epoch 9/15000, Loss: 1232.3118027840367\n",
      "Epoch 10/15000, Loss: 1204.6434029318543\n",
      "Epoch 11/15000, Loss: 1179.2259141267073\n",
      "0.0026777777777777776\n",
      "Epoch 1/15000, Loss: 2017.0750364822727\n",
      "Epoch 2/15000, Loss: 1882.2246548473533\n",
      "Epoch 3/15000, Loss: 1707.8061035417222\n",
      "Epoch 4/15000, Loss: 1542.5914773219654\n",
      "Epoch 5/15000, Loss: 1419.5364590443946\n",
      "Epoch 6/15000, Loss: 1329.7984068748722\n",
      "Epoch 7/15000, Loss: 1261.764042681488\n",
      "Epoch 8/15000, Loss: 1209.0513600177069\n",
      "Epoch 9/15000, Loss: 1167.6669807825533\n",
      "0.003\n",
      "Epoch 1/15000, Loss: 60458294.25788727\n",
      "Epoch 2/15000, Loss: 59995433.72670133\n",
      "Epoch 3/15000, Loss: 59380525.598225534\n",
      "Epoch 4/15000, Loss: 60564630.32115979\n",
      "Epoch 5/15000, Loss: 60465105.2454646\n",
      "Epoch 6/15000, Loss: 60278400.24683736\n",
      "Epoch 7/15000, Loss: 61042972.7993924\n",
      "Epoch 8/15000, Loss: 60263738.78909462\n",
      "Epoch 9/15000, Loss: 60825383.324136704\n",
      "Epoch 10/15000, Loss: 60198551.59581006\n",
      "Epoch 11/15000, Loss: 60647159.5579895\n",
      "Epoch 12/15000, Loss: 58496429.21753434\n",
      "Epoch 13/15000, Loss: 58012443.13428248\n",
      "Epoch 14/15000, Loss: 60178142.37645835\n",
      "Epoch 15/15000, Loss: 60760764.93977155\n",
      "Epoch 16/15000, Loss: 60439842.607107975\n",
      "Epoch 17/15000, Loss: 60674514.84428265\n",
      "Epoch 18/15000, Loss: 60944820.95965482\n",
      "Epoch 19/15000, Loss: 58772401.43474743\n",
      "Epoch 20/15000, Loss: 60516444.94377152\n",
      "Epoch 21/15000, Loss: 60817302.133334525\n",
      "Epoch 22/15000, Loss: 60445714.41926428\n",
      "Epoch 23/15000, Loss: 60624631.26379266\n",
      "Epoch 24/15000, Loss: 56883393.8698593\n",
      "Epoch 25/15000, Loss: 60968371.922530495\n",
      "Epoch 26/15000, Loss: 60880690.68821226\n",
      "Epoch 27/15000, Loss: 60415380.24087067\n",
      "Epoch 28/15000, Loss: 60529916.54306633\n",
      "Epoch 29/15000, Loss: 60151312.34728614\n",
      "Epoch 30/15000, Loss: 60279906.53896518\n",
      "Epoch 31/15000, Loss: 60503392.553890884\n",
      "Epoch 32/15000, Loss: 59854816.09227033\n",
      "Epoch 33/15000, Loss: 62936182.78538046\n",
      "Epoch 34/15000, Loss: 41832169.413843796\n",
      "Epoch 35/15000, Loss: 60945617.61925458\n",
      "Epoch 36/15000, Loss: 61054531.099863395\n",
      "Epoch 37/15000, Loss: 61614835.665239595\n",
      "Epoch 38/15000, Loss: 58789320.94125019\n",
      "Epoch 39/15000, Loss: 60530163.93235464\n",
      "Epoch 40/15000, Loss: 60695805.85055288\n",
      "Epoch 41/15000, Loss: 8758703.581290405\n",
      "Epoch 42/15000, Loss: 60828612.9162631\n",
      "Epoch 43/15000, Loss: 31294719.635721304\n",
      "Epoch 44/15000, Loss: 55597.061382546075\n",
      "Epoch 45/15000, Loss: 2518.7675780924915\n",
      "Epoch 46/15000, Loss: 1761.321219847182\n",
      "Epoch 47/15000, Loss: 1506.4786899071873\n",
      "Epoch 48/15000, Loss: 1370.3890200293217\n",
      "Epoch 49/15000, Loss: 1284.4148210790645\n",
      "Epoch 50/15000, Loss: 1221.8503863104065\n",
      "Epoch 51/15000, Loss: 1172.0608810103479\n"
     ]
    },
    {
     "data": {
      "application/vnd.plotly.v1+json": {
       "config": {
        "plotlyServerURL": "https://plot.ly"
       },
       "data": [
        {
         "mode": "lines+markers",
         "name": "Среднее значение",
         "type": "scatter",
         "x": [
          0.0001,
          0.0004222222222222222,
          0.0007444444444444445,
          0.0010666666666666667,
          0.001388888888888889,
          0.0017111111111111112,
          0.002033333333333333,
          0.0023555555555555556,
          0.0026777777777777776,
          0.003
         ],
         "y": [
          184,
          65,
          39,
          28,
          25,
          18,
          13,
          11,
          9,
          51
         ]
        }
       ],
       "layout": {
        "font": {
         "size": 20
        },
        "height": 720,
        "template": {
         "data": {
          "bar": [
           {
            "error_x": {
             "color": "#2a3f5f"
            },
            "error_y": {
             "color": "#2a3f5f"
            },
            "marker": {
             "line": {
              "color": "#E5ECF6",
              "width": 0.5
             },
             "pattern": {
              "fillmode": "overlay",
              "size": 10,
              "solidity": 0.2
             }
            },
            "type": "bar"
           }
          ],
          "barpolar": [
           {
            "marker": {
             "line": {
              "color": "#E5ECF6",
              "width": 0.5
             },
             "pattern": {
              "fillmode": "overlay",
              "size": 10,
              "solidity": 0.2
             }
            },
            "type": "barpolar"
           }
          ],
          "carpet": [
           {
            "aaxis": {
             "endlinecolor": "#2a3f5f",
             "gridcolor": "white",
             "linecolor": "white",
             "minorgridcolor": "white",
             "startlinecolor": "#2a3f5f"
            },
            "baxis": {
             "endlinecolor": "#2a3f5f",
             "gridcolor": "white",
             "linecolor": "white",
             "minorgridcolor": "white",
             "startlinecolor": "#2a3f5f"
            },
            "type": "carpet"
           }
          ],
          "choropleth": [
           {
            "colorbar": {
             "outlinewidth": 0,
             "ticks": ""
            },
            "type": "choropleth"
           }
          ],
          "contour": [
           {
            "colorbar": {
             "outlinewidth": 0,
             "ticks": ""
            },
            "colorscale": [
             [
              0,
              "#0d0887"
             ],
             [
              0.1111111111111111,
              "#46039f"
             ],
             [
              0.2222222222222222,
              "#7201a8"
             ],
             [
              0.3333333333333333,
              "#9c179e"
             ],
             [
              0.4444444444444444,
              "#bd3786"
             ],
             [
              0.5555555555555556,
              "#d8576b"
             ],
             [
              0.6666666666666666,
              "#ed7953"
             ],
             [
              0.7777777777777778,
              "#fb9f3a"
             ],
             [
              0.8888888888888888,
              "#fdca26"
             ],
             [
              1,
              "#f0f921"
             ]
            ],
            "type": "contour"
           }
          ],
          "contourcarpet": [
           {
            "colorbar": {
             "outlinewidth": 0,
             "ticks": ""
            },
            "type": "contourcarpet"
           }
          ],
          "heatmap": [
           {
            "colorbar": {
             "outlinewidth": 0,
             "ticks": ""
            },
            "colorscale": [
             [
              0,
              "#0d0887"
             ],
             [
              0.1111111111111111,
              "#46039f"
             ],
             [
              0.2222222222222222,
              "#7201a8"
             ],
             [
              0.3333333333333333,
              "#9c179e"
             ],
             [
              0.4444444444444444,
              "#bd3786"
             ],
             [
              0.5555555555555556,
              "#d8576b"
             ],
             [
              0.6666666666666666,
              "#ed7953"
             ],
             [
              0.7777777777777778,
              "#fb9f3a"
             ],
             [
              0.8888888888888888,
              "#fdca26"
             ],
             [
              1,
              "#f0f921"
             ]
            ],
            "type": "heatmap"
           }
          ],
          "heatmapgl": [
           {
            "colorbar": {
             "outlinewidth": 0,
             "ticks": ""
            },
            "colorscale": [
             [
              0,
              "#0d0887"
             ],
             [
              0.1111111111111111,
              "#46039f"
             ],
             [
              0.2222222222222222,
              "#7201a8"
             ],
             [
              0.3333333333333333,
              "#9c179e"
             ],
             [
              0.4444444444444444,
              "#bd3786"
             ],
             [
              0.5555555555555556,
              "#d8576b"
             ],
             [
              0.6666666666666666,
              "#ed7953"
             ],
             [
              0.7777777777777778,
              "#fb9f3a"
             ],
             [
              0.8888888888888888,
              "#fdca26"
             ],
             [
              1,
              "#f0f921"
             ]
            ],
            "type": "heatmapgl"
           }
          ],
          "histogram": [
           {
            "marker": {
             "pattern": {
              "fillmode": "overlay",
              "size": 10,
              "solidity": 0.2
             }
            },
            "type": "histogram"
           }
          ],
          "histogram2d": [
           {
            "colorbar": {
             "outlinewidth": 0,
             "ticks": ""
            },
            "colorscale": [
             [
              0,
              "#0d0887"
             ],
             [
              0.1111111111111111,
              "#46039f"
             ],
             [
              0.2222222222222222,
              "#7201a8"
             ],
             [
              0.3333333333333333,
              "#9c179e"
             ],
             [
              0.4444444444444444,
              "#bd3786"
             ],
             [
              0.5555555555555556,
              "#d8576b"
             ],
             [
              0.6666666666666666,
              "#ed7953"
             ],
             [
              0.7777777777777778,
              "#fb9f3a"
             ],
             [
              0.8888888888888888,
              "#fdca26"
             ],
             [
              1,
              "#f0f921"
             ]
            ],
            "type": "histogram2d"
           }
          ],
          "histogram2dcontour": [
           {
            "colorbar": {
             "outlinewidth": 0,
             "ticks": ""
            },
            "colorscale": [
             [
              0,
              "#0d0887"
             ],
             [
              0.1111111111111111,
              "#46039f"
             ],
             [
              0.2222222222222222,
              "#7201a8"
             ],
             [
              0.3333333333333333,
              "#9c179e"
             ],
             [
              0.4444444444444444,
              "#bd3786"
             ],
             [
              0.5555555555555556,
              "#d8576b"
             ],
             [
              0.6666666666666666,
              "#ed7953"
             ],
             [
              0.7777777777777778,
              "#fb9f3a"
             ],
             [
              0.8888888888888888,
              "#fdca26"
             ],
             [
              1,
              "#f0f921"
             ]
            ],
            "type": "histogram2dcontour"
           }
          ],
          "mesh3d": [
           {
            "colorbar": {
             "outlinewidth": 0,
             "ticks": ""
            },
            "type": "mesh3d"
           }
          ],
          "parcoords": [
           {
            "line": {
             "colorbar": {
              "outlinewidth": 0,
              "ticks": ""
             }
            },
            "type": "parcoords"
           }
          ],
          "pie": [
           {
            "automargin": true,
            "type": "pie"
           }
          ],
          "scatter": [
           {
            "fillpattern": {
             "fillmode": "overlay",
             "size": 10,
             "solidity": 0.2
            },
            "type": "scatter"
           }
          ],
          "scatter3d": [
           {
            "line": {
             "colorbar": {
              "outlinewidth": 0,
              "ticks": ""
             }
            },
            "marker": {
             "colorbar": {
              "outlinewidth": 0,
              "ticks": ""
             }
            },
            "type": "scatter3d"
           }
          ],
          "scattercarpet": [
           {
            "marker": {
             "colorbar": {
              "outlinewidth": 0,
              "ticks": ""
             }
            },
            "type": "scattercarpet"
           }
          ],
          "scattergeo": [
           {
            "marker": {
             "colorbar": {
              "outlinewidth": 0,
              "ticks": ""
             }
            },
            "type": "scattergeo"
           }
          ],
          "scattergl": [
           {
            "marker": {
             "colorbar": {
              "outlinewidth": 0,
              "ticks": ""
             }
            },
            "type": "scattergl"
           }
          ],
          "scattermapbox": [
           {
            "marker": {
             "colorbar": {
              "outlinewidth": 0,
              "ticks": ""
             }
            },
            "type": "scattermapbox"
           }
          ],
          "scatterpolar": [
           {
            "marker": {
             "colorbar": {
              "outlinewidth": 0,
              "ticks": ""
             }
            },
            "type": "scatterpolar"
           }
          ],
          "scatterpolargl": [
           {
            "marker": {
             "colorbar": {
              "outlinewidth": 0,
              "ticks": ""
             }
            },
            "type": "scatterpolargl"
           }
          ],
          "scatterternary": [
           {
            "marker": {
             "colorbar": {
              "outlinewidth": 0,
              "ticks": ""
             }
            },
            "type": "scatterternary"
           }
          ],
          "surface": [
           {
            "colorbar": {
             "outlinewidth": 0,
             "ticks": ""
            },
            "colorscale": [
             [
              0,
              "#0d0887"
             ],
             [
              0.1111111111111111,
              "#46039f"
             ],
             [
              0.2222222222222222,
              "#7201a8"
             ],
             [
              0.3333333333333333,
              "#9c179e"
             ],
             [
              0.4444444444444444,
              "#bd3786"
             ],
             [
              0.5555555555555556,
              "#d8576b"
             ],
             [
              0.6666666666666666,
              "#ed7953"
             ],
             [
              0.7777777777777778,
              "#fb9f3a"
             ],
             [
              0.8888888888888888,
              "#fdca26"
             ],
             [
              1,
              "#f0f921"
             ]
            ],
            "type": "surface"
           }
          ],
          "table": [
           {
            "cells": {
             "fill": {
              "color": "#EBF0F8"
             },
             "line": {
              "color": "white"
             }
            },
            "header": {
             "fill": {
              "color": "#C8D4E3"
             },
             "line": {
              "color": "white"
             }
            },
            "type": "table"
           }
          ]
         },
         "layout": {
          "annotationdefaults": {
           "arrowcolor": "#2a3f5f",
           "arrowhead": 0,
           "arrowwidth": 1
          },
          "autotypenumbers": "strict",
          "coloraxis": {
           "colorbar": {
            "outlinewidth": 0,
            "ticks": ""
           }
          },
          "colorscale": {
           "diverging": [
            [
             0,
             "#8e0152"
            ],
            [
             0.1,
             "#c51b7d"
            ],
            [
             0.2,
             "#de77ae"
            ],
            [
             0.3,
             "#f1b6da"
            ],
            [
             0.4,
             "#fde0ef"
            ],
            [
             0.5,
             "#f7f7f7"
            ],
            [
             0.6,
             "#e6f5d0"
            ],
            [
             0.7,
             "#b8e186"
            ],
            [
             0.8,
             "#7fbc41"
            ],
            [
             0.9,
             "#4d9221"
            ],
            [
             1,
             "#276419"
            ]
           ],
           "sequential": [
            [
             0,
             "#0d0887"
            ],
            [
             0.1111111111111111,
             "#46039f"
            ],
            [
             0.2222222222222222,
             "#7201a8"
            ],
            [
             0.3333333333333333,
             "#9c179e"
            ],
            [
             0.4444444444444444,
             "#bd3786"
            ],
            [
             0.5555555555555556,
             "#d8576b"
            ],
            [
             0.6666666666666666,
             "#ed7953"
            ],
            [
             0.7777777777777778,
             "#fb9f3a"
            ],
            [
             0.8888888888888888,
             "#fdca26"
            ],
            [
             1,
             "#f0f921"
            ]
           ],
           "sequentialminus": [
            [
             0,
             "#0d0887"
            ],
            [
             0.1111111111111111,
             "#46039f"
            ],
            [
             0.2222222222222222,
             "#7201a8"
            ],
            [
             0.3333333333333333,
             "#9c179e"
            ],
            [
             0.4444444444444444,
             "#bd3786"
            ],
            [
             0.5555555555555556,
             "#d8576b"
            ],
            [
             0.6666666666666666,
             "#ed7953"
            ],
            [
             0.7777777777777778,
             "#fb9f3a"
            ],
            [
             0.8888888888888888,
             "#fdca26"
            ],
            [
             1,
             "#f0f921"
            ]
           ]
          },
          "colorway": [
           "#636efa",
           "#EF553B",
           "#00cc96",
           "#ab63fa",
           "#FFA15A",
           "#19d3f3",
           "#FF6692",
           "#B6E880",
           "#FF97FF",
           "#FECB52"
          ],
          "font": {
           "color": "#2a3f5f"
          },
          "geo": {
           "bgcolor": "white",
           "lakecolor": "white",
           "landcolor": "#E5ECF6",
           "showlakes": true,
           "showland": true,
           "subunitcolor": "white"
          },
          "hoverlabel": {
           "align": "left"
          },
          "hovermode": "closest",
          "mapbox": {
           "style": "light"
          },
          "paper_bgcolor": "white",
          "plot_bgcolor": "#E5ECF6",
          "polar": {
           "angularaxis": {
            "gridcolor": "white",
            "linecolor": "white",
            "ticks": ""
           },
           "bgcolor": "#E5ECF6",
           "radialaxis": {
            "gridcolor": "white",
            "linecolor": "white",
            "ticks": ""
           }
          },
          "scene": {
           "xaxis": {
            "backgroundcolor": "#E5ECF6",
            "gridcolor": "white",
            "gridwidth": 2,
            "linecolor": "white",
            "showbackground": true,
            "ticks": "",
            "zerolinecolor": "white"
           },
           "yaxis": {
            "backgroundcolor": "#E5ECF6",
            "gridcolor": "white",
            "gridwidth": 2,
            "linecolor": "white",
            "showbackground": true,
            "ticks": "",
            "zerolinecolor": "white"
           },
           "zaxis": {
            "backgroundcolor": "#E5ECF6",
            "gridcolor": "white",
            "gridwidth": 2,
            "linecolor": "white",
            "showbackground": true,
            "ticks": "",
            "zerolinecolor": "white"
           }
          },
          "shapedefaults": {
           "line": {
            "color": "#2a3f5f"
           }
          },
          "ternary": {
           "aaxis": {
            "gridcolor": "white",
            "linecolor": "white",
            "ticks": ""
           },
           "baxis": {
            "gridcolor": "white",
            "linecolor": "white",
            "ticks": ""
           },
           "bgcolor": "#E5ECF6",
           "caxis": {
            "gridcolor": "white",
            "linecolor": "white",
            "ticks": ""
           }
          },
          "title": {
           "x": 0.05
          },
          "xaxis": {
           "automargin": true,
           "gridcolor": "white",
           "linecolor": "white",
           "ticks": "",
           "title": {
            "standoff": 15
           },
           "zerolinecolor": "white",
           "zerolinewidth": 2
          },
          "yaxis": {
           "automargin": true,
           "gridcolor": "white",
           "linecolor": "white",
           "ticks": "",
           "title": {
            "standoff": 15
           },
           "zerolinecolor": "white",
           "zerolinewidth": 2
          }
         }
        },
        "title": {
         "text": "Зависимость количества итераций обучения от коэффициента обучения"
        },
        "width": 1280,
        "xaxis": {
         "title": {
          "text": "Коэффициент обучения"
         }
        },
        "yaxis": {
         "title": {
          "text": "Количество итераций обучения"
         }
        }
       }
      }
     },
     "metadata": {},
     "output_type": "display_data"
    }
   ],
   "source": [
    "alphas = np.linspace(0.0001, 0.003, endpoint=True, num=10)\n",
    "epochs_amount_mean: list[int] = []\n",
    "fig = go.Figure()\n",
    "for alpha in alphas:\n",
    "    print(alpha)\n",
    "    dl = LRNN(n, 20, alpha)\n",
    "    dl.train(train, 15000, learn_by_loss=True, max_loss=1200)\n",
    "    epochs_amount_mean.append(dl.epoch)\n",
    "fig.add_trace(go.Scatter(x=alphas, y=epochs_amount_mean, mode='lines+markers',\n",
    "                         name='Среднее значение'))\n",
    "fig.update_layout(title='Зависимость количества итераций обучения от коэффициента обучения',\n",
    "                  xaxis_title='Коэффициент обучения',\n",
    "                  yaxis_title='Количество итераций обучения',\n",
    "                  height=720, width=1280,\n",
    "                  font=dict(size=20))\n",
    "fig.show()"
   ]
  },
  {
   "cell_type": "code",
   "execution_count": 15,
   "metadata": {},
   "outputs": [
    {
     "name": "stdout",
     "output_type": "stream",
     "text": [
      "Epoch 1/15000, Loss: 3465.192465131964\n",
      "Epoch 2/15000, Loss: 3098.831602509935\n",
      "Epoch 3/15000, Loss: 2983.3277410557266\n",
      "Epoch 4/15000, Loss: 2895.482097234072\n",
      "Epoch 5/15000, Loss: 2820.179894751557\n",
      "Epoch 6/15000, Loss: 2754.245318252815\n",
      "Epoch 7/15000, Loss: 2695.7721060426165\n",
      "Epoch 8/15000, Loss: 2643.373205096692\n",
      "Epoch 9/15000, Loss: 2596.008508224201\n",
      "Epoch 10/15000, Loss: 2552.8818552909506\n",
      "Epoch 11/15000, Loss: 2513.3662594740454\n",
      "Epoch 12/15000, Loss: 2476.9591415519467\n",
      "Epoch 13/15000, Loss: 2443.2523048852436\n",
      "Epoch 14/15000, Loss: 2411.904683864096\n",
      "Epoch 15/15000, Loss: 2382.6320760870544\n",
      "Epoch 16/15000, Loss: 2355.193511768252\n",
      "Epoch 17/15000, Loss: 2329.383045466342\n",
      "Epoch 18/15000, Loss: 2305.023921968711\n",
      "Epoch 19/15000, Loss: 2281.962635733262\n",
      "Epoch 20/15000, Loss: 2260.0671269557747\n",
      "Epoch 21/15000, Loss: 2239.2212140197403\n",
      "Epoch 22/15000, Loss: 2219.3224172064315\n",
      "Epoch 23/15000, Loss: 2200.282192079696\n",
      "Epoch 24/15000, Loss: 2182.0211313161794\n",
      "Epoch 25/15000, Loss: 2164.469376527493\n",
      "Epoch 26/15000, Loss: 2147.564773916464\n",
      "Epoch 27/15000, Loss: 2131.2521077428205\n",
      "Epoch 28/15000, Loss: 2115.4817929876785\n",
      "Epoch 29/15000, Loss: 2100.2096008936255\n",
      "Epoch 30/15000, Loss: 2085.395867249468\n",
      "Epoch 31/15000, Loss: 2071.004306376985\n",
      "Epoch 32/15000, Loss: 2057.0036004743865\n",
      "Epoch 33/15000, Loss: 2043.3644833398757\n",
      "Epoch 34/15000, Loss: 2030.0606606300544\n",
      "Epoch 35/15000, Loss: 2017.0686590317096\n",
      "Epoch 36/15000, Loss: 2004.366494222359\n",
      "Epoch 37/15000, Loss: 1991.9351465756408\n",
      "Epoch 38/15000, Loss: 1979.7565318130487\n",
      "Epoch 39/15000, Loss: 1967.814958962282\n",
      "Epoch 40/15000, Loss: 1956.0961579629848\n",
      "Epoch 41/15000, Loss: 1944.5865783740564\n",
      "Epoch 42/15000, Loss: 1933.2742532221394\n",
      "Epoch 43/15000, Loss: 1922.1479918545128\n",
      "Epoch 44/15000, Loss: 1911.198315657791\n",
      "Epoch 45/15000, Loss: 1900.4160856848644\n",
      "Epoch 46/15000, Loss: 1889.793097776449\n",
      "Epoch 47/15000, Loss: 1879.3216182255912\n",
      "Epoch 48/15000, Loss: 1868.9954816641534\n",
      "Epoch 49/15000, Loss: 1858.808193496705\n",
      "Epoch 50/15000, Loss: 1848.754642532113\n",
      "Epoch 51/15000, Loss: 1838.8297183543561\n",
      "Epoch 52/15000, Loss: 1829.0290707175357\n",
      "Epoch 53/15000, Loss: 1819.3485546909394\n",
      "Epoch 54/15000, Loss: 1809.7846138416144\n",
      "Epoch 55/15000, Loss: 1800.3341817782346\n",
      "Epoch 56/15000, Loss: 1790.9941418083033\n",
      "Epoch 57/15000, Loss: 1781.7620356251048\n",
      "Epoch 58/15000, Loss: 1772.6358238019782\n",
      "Epoch 59/15000, Loss: 1763.6134980221768\n",
      "Epoch 60/15000, Loss: 1754.6933849662357\n",
      "Epoch 61/15000, Loss: 1745.8737921369268\n",
      "Epoch 62/15000, Loss: 1737.1533474342377\n",
      "Epoch 63/15000, Loss: 1728.530829231029\n",
      "Epoch 64/15000, Loss: 1720.005333862374\n",
      "Epoch 65/15000, Loss: 1711.5757426059383\n",
      "Epoch 66/15000, Loss: 1703.2413709639447\n",
      "Epoch 67/15000, Loss: 1695.0018878302621\n",
      "Epoch 68/15000, Loss: 1686.8563423212327\n",
      "Epoch 69/15000, Loss: 1678.8042804220056\n",
      "Epoch 70/15000, Loss: 1670.84518884098\n",
      "Epoch 71/15000, Loss: 1662.978762674448\n",
      "Epoch 72/15000, Loss: 1655.204184149929\n",
      "Epoch 73/15000, Loss: 1647.5215515326458\n",
      "Epoch 74/15000, Loss: 1639.9302836939362\n",
      "Epoch 75/15000, Loss: 1632.4301279589179\n",
      "Epoch 76/15000, Loss: 1625.0209061851317\n",
      "Epoch 77/15000, Loss: 1617.7021402924968\n",
      "Epoch 78/15000, Loss: 1610.473474751584\n",
      "Epoch 79/15000, Loss: 1603.3344107700884\n",
      "Epoch 80/15000, Loss: 1596.2848784672556\n",
      "Epoch 81/15000, Loss: 1589.3240283908349\n",
      "Epoch 82/15000, Loss: 1582.4515957777426\n",
      "Epoch 83/15000, Loss: 1575.6671559587087\n",
      "Epoch 84/15000, Loss: 1568.9700305979052\n",
      "Epoch 85/15000, Loss: 1562.3599935658399\n",
      "Epoch 86/15000, Loss: 1555.836156245303\n",
      "Epoch 87/15000, Loss: 1549.3980612836283\n",
      "Epoch 88/15000, Loss: 1543.045130481111\n",
      "Epoch 89/15000, Loss: 1536.7766516141553\n",
      "Epoch 90/15000, Loss: 1530.5917392737651\n",
      "Epoch 91/15000, Loss: 1524.4897326698726\n",
      "Epoch 92/15000, Loss: 1518.4700224145502\n",
      "Epoch 93/15000, Loss: 1512.5317604245372\n",
      "Epoch 94/15000, Loss: 1506.6739535518386\n",
      "Epoch 95/15000, Loss: 1500.895846824617\n",
      "Epoch 96/15000, Loss: 1495.1964409001876\n",
      "Epoch 1/15000, Loss: 3450.435302237253\n",
      "Epoch 2/15000, Loss: 3060.0515829314904\n",
      "Epoch 3/15000, Loss: 2902.1181039961098\n",
      "Epoch 4/15000, Loss: 2795.9675754325613\n",
      "Epoch 5/15000, Loss: 2713.234465957496\n",
      "Epoch 6/15000, Loss: 2644.656158912576\n",
      "Epoch 7/15000, Loss: 2585.9809004395906\n",
      "Epoch 8/15000, Loss: 2534.775008344503\n",
      "Epoch 9/15000, Loss: 2489.438132169866\n",
      "Epoch 10/15000, Loss: 2448.8279249134653\n",
      "Epoch 11/15000, Loss: 2412.088696458641\n",
      "Epoch 12/15000, Loss: 2378.5597321872556\n",
      "Epoch 13/15000, Loss: 2347.7204998650286\n",
      "Epoch 14/15000, Loss: 2319.1548652013835\n",
      "Epoch 15/15000, Loss: 2292.5265012509394\n",
      "Epoch 16/15000, Loss: 2267.5607945903475\n",
      "Epoch 17/15000, Loss: 2244.03196235136\n",
      "Epoch 18/15000, Loss: 2221.7530044660234\n",
      "Epoch 19/15000, Loss: 2200.568047354051\n",
      "Epoch 20/15000, Loss: 2180.3469744826216\n",
      "Epoch 21/15000, Loss: 2160.979844365424\n",
      "Epoch 22/15000, Loss: 2142.3733940012135\n",
      "Epoch 23/15000, Loss: 2124.449190560822\n",
      "Epoch 24/15000, Loss: 2107.139487441879\n",
      "Epoch 25/15000, Loss: 2090.3864086833523\n",
      "Epoch 26/15000, Loss: 2074.140691295333\n",
      "Epoch 27/15000, Loss: 2058.3593400184086\n",
      "Epoch 28/15000, Loss: 2043.0054926015046\n",
      "Epoch 29/15000, Loss: 2028.0472487601737\n",
      "Epoch 30/15000, Loss: 2013.456181424984\n",
      "Epoch 31/15000, Loss: 1999.2084306480663\n",
      "Epoch 32/15000, Loss: 1985.2824986789922\n",
      "Epoch 33/15000, Loss: 1971.6602523243196\n",
      "Epoch 34/15000, Loss: 1958.325349200367\n",
      "Epoch 35/15000, Loss: 1945.2638196380656\n",
      "Epoch 36/15000, Loss: 1932.4633428536142\n",
      "Epoch 37/15000, Loss: 1919.9128869901347\n",
      "Epoch 38/15000, Loss: 1907.6033299677156\n",
      "Epoch 39/15000, Loss: 1895.5259664827836\n",
      "Epoch 40/15000, Loss: 1883.6735118769673\n",
      "Epoch 41/15000, Loss: 1872.0395030453183\n",
      "Epoch 42/15000, Loss: 1860.6180230451387\n",
      "Epoch 43/15000, Loss: 1849.4041778458618\n",
      "Epoch 44/15000, Loss: 1838.3932774936293\n",
      "Epoch 45/15000, Loss: 1827.5812974923697\n",
      "Epoch 46/15000, Loss: 1816.96453958613\n",
      "Epoch 47/15000, Loss: 1806.5396598131097\n",
      "Epoch 48/15000, Loss: 1796.3033318105786\n",
      "Epoch 49/15000, Loss: 1786.2524556517424\n",
      "Epoch 50/15000, Loss: 1776.3844443126554\n",
      "Epoch 51/15000, Loss: 1766.6967301846635\n",
      "Epoch 52/15000, Loss: 1757.1866636616348\n",
      "Epoch 53/15000, Loss: 1747.8517174730184\n",
      "Epoch 54/15000, Loss: 1738.689120351054\n",
      "Epoch 55/15000, Loss: 1729.6965086770542\n",
      "Epoch 56/15000, Loss: 1720.8714908214788\n",
      "Epoch 57/15000, Loss: 1712.2112264279497\n",
      "Epoch 58/15000, Loss: 1703.713170034324\n",
      "Epoch 59/15000, Loss: 1695.374817303108\n",
      "Epoch 60/15000, Loss: 1687.193358440906\n",
      "Epoch 61/15000, Loss: 1679.1658574035193\n",
      "Epoch 62/15000, Loss: 1671.2895651893593\n",
      "Epoch 63/15000, Loss: 1663.5617090135743\n",
      "Epoch 64/15000, Loss: 1655.9791975103833\n",
      "Epoch 65/15000, Loss: 1648.5391483915005\n",
      "Epoch 66/15000, Loss: 1641.238610930111\n",
      "Epoch 67/15000, Loss: 1634.0742144705246\n",
      "Epoch 68/15000, Loss: 1627.0430797239753\n",
      "Epoch 69/15000, Loss: 1620.1420866388128\n",
      "Epoch 70/15000, Loss: 1613.367955792093\n",
      "Epoch 71/15000, Loss: 1606.7176996302387\n",
      "Epoch 72/15000, Loss: 1600.1880599617416\n",
      "Epoch 73/15000, Loss: 1593.7759943092262\n",
      "Epoch 74/15000, Loss: 1587.4782570702603\n",
      "Epoch 75/15000, Loss: 1581.291639472442\n",
      "Epoch 76/15000, Loss: 1575.2133117307555\n",
      "Epoch 77/15000, Loss: 1569.2399505017238\n",
      "Epoch 78/15000, Loss: 1563.368611434373\n",
      "Epoch 79/15000, Loss: 1557.5965681124462\n",
      "Epoch 80/15000, Loss: 1551.920788028435\n",
      "Epoch 81/15000, Loss: 1546.338309687312\n",
      "Epoch 82/15000, Loss: 1540.8463545184838\n",
      "Epoch 83/15000, Loss: 1535.4423023282402\n",
      "Epoch 84/15000, Loss: 1530.1233363321867\n",
      "Epoch 85/15000, Loss: 1524.8867684367806\n",
      "Epoch 86/15000, Loss: 1519.7301655768476\n",
      "Epoch 87/15000, Loss: 1514.6510084399101\n",
      "Epoch 88/15000, Loss: 1509.646884404312\n",
      "Epoch 89/15000, Loss: 1504.7154608514654\n",
      "Epoch 90/15000, Loss: 1499.8545838900156\n",
      "Epoch 1/15000, Loss: 3326.649475802716\n",
      "Epoch 2/15000, Loss: 3051.167304936565\n",
      "Epoch 3/15000, Loss: 2907.1427160396925\n",
      "Epoch 4/15000, Loss: 2806.3960320238684\n",
      "Epoch 5/15000, Loss: 2730.183295977236\n",
      "Epoch 6/15000, Loss: 2669.1623616409947\n",
      "Epoch 7/15000, Loss: 2618.234173676582\n",
      "Epoch 8/15000, Loss: 2574.428353733382\n",
      "Epoch 9/15000, Loss: 2535.9094095686496\n",
      "Epoch 10/15000, Loss: 2501.480288543574\n",
      "Epoch 11/15000, Loss: 2470.3188499716366\n",
      "Epoch 12/15000, Loss: 2441.8345287555144\n",
      "Epoch 13/15000, Loss: 2415.586456782228\n",
      "Epoch 14/15000, Loss: 2391.2346437894166\n",
      "Epoch 15/15000, Loss: 2368.5099479392734\n",
      "Epoch 16/15000, Loss: 2347.1948963727477\n",
      "Epoch 17/15000, Loss: 2327.110537111997\n",
      "Epoch 18/15000, Loss: 2308.1078051344607\n",
      "Epoch 19/15000, Loss: 2290.0613576128435\n",
      "Epoch 20/15000, Loss: 2272.8645299401273\n",
      "Epoch 21/15000, Loss: 2256.4253573511096\n",
      "Epoch 22/15000, Loss: 2240.6647818710658\n",
      "Epoch 23/15000, Loss: 2225.513908241509\n",
      "Epoch 24/15000, Loss: 2210.912462236754\n",
      "Epoch 25/15000, Loss: 2196.8077237567845\n",
      "Epoch 26/15000, Loss: 2183.152727400689\n",
      "Epoch 27/15000, Loss: 2169.9057211502613\n",
      "Epoch 28/15000, Loss: 2157.0296359742756\n",
      "Epoch 29/15000, Loss: 2144.4913091381186\n",
      "Epoch 30/15000, Loss: 2132.2606662803432\n",
      "Epoch 31/15000, Loss: 2120.310984684684\n",
      "Epoch 32/15000, Loss: 2108.6175869510557\n",
      "Epoch 33/15000, Loss: 2097.158296889916\n",
      "Epoch 34/15000, Loss: 2085.913030023384\n",
      "Epoch 35/15000, Loss: 2074.8633967338983\n",
      "Epoch 36/15000, Loss: 2063.992372764626\n",
      "Epoch 37/15000, Loss: 2053.2846785159763\n",
      "Epoch 38/15000, Loss: 2042.7262468410415\n",
      "Epoch 39/15000, Loss: 2032.3041752089293\n",
      "Epoch 40/15000, Loss: 2022.006493277096\n",
      "Epoch 41/15000, Loss: 2011.8223466754716\n",
      "Epoch 42/15000, Loss: 2001.741708534811\n",
      "Epoch 43/15000, Loss: 1991.7555468196067\n",
      "Epoch 44/15000, Loss: 1981.8551253035798\n",
      "Epoch 45/15000, Loss: 1972.0330780171307\n",
      "Epoch 46/15000, Loss: 1962.2821602646493\n",
      "Epoch 47/15000, Loss: 1952.596340967217\n",
      "Epoch 48/15000, Loss: 1942.9693760392825\n",
      "Epoch 49/15000, Loss: 1933.3962882415758\n",
      "Epoch 50/15000, Loss: 1923.8724613741192\n",
      "Epoch 51/15000, Loss: 1914.393702964359\n",
      "Epoch 52/15000, Loss: 1904.9563998498463\n",
      "Epoch 53/15000, Loss: 1895.5572874799373\n",
      "Epoch 54/15000, Loss: 1886.193530210148\n",
      "Epoch 55/15000, Loss: 1876.8631818633244\n",
      "Epoch 56/15000, Loss: 1867.5641161604894\n",
      "Epoch 57/15000, Loss: 1858.2949305169154\n",
      "Epoch 58/15000, Loss: 1849.0545271585263\n",
      "Epoch 59/15000, Loss: 1839.8421611259225\n",
      "Epoch 60/15000, Loss: 1830.657651480608\n",
      "Epoch 61/15000, Loss: 1821.5007805956243\n",
      "Epoch 62/15000, Loss: 1812.3719402988236\n",
      "Epoch 63/15000, Loss: 1803.2718000346658\n",
      "Epoch 64/15000, Loss: 1794.2012638521323\n",
      "Epoch 65/15000, Loss: 1785.161423527359\n",
      "Epoch 66/15000, Loss: 1776.1536926276942\n",
      "Epoch 67/15000, Loss: 1767.1800224643662\n",
      "Epoch 68/15000, Loss: 1758.2420582921409\n",
      "Epoch 69/15000, Loss: 1749.3421196880895\n",
      "Epoch 70/15000, Loss: 1740.4823570844744\n",
      "Epoch 71/15000, Loss: 1731.6651586457237\n",
      "Epoch 72/15000, Loss: 1722.8931686836836\n",
      "Epoch 73/15000, Loss: 1714.1689027607383\n",
      "Epoch 74/15000, Loss: 1705.4955385131504\n",
      "Epoch 75/15000, Loss: 1696.8757806315848\n",
      "Epoch 76/15000, Loss: 1688.312387397262\n",
      "Epoch 77/15000, Loss: 1679.8085536722858\n",
      "Epoch 78/15000, Loss: 1671.366988384364\n",
      "Epoch 79/15000, Loss: 1662.990711846505\n",
      "Epoch 80/15000, Loss: 1654.6827101687911\n",
      "Epoch 81/15000, Loss: 1646.4458879914928\n",
      "Epoch 82/15000, Loss: 1638.2830972988666\n",
      "Epoch 83/15000, Loss: 1630.197097153811\n",
      "Epoch 84/15000, Loss: 1622.190491700533\n",
      "Epoch 85/15000, Loss: 1614.265854546955\n",
      "Epoch 86/15000, Loss: 1606.4256678132851\n",
      "Epoch 87/15000, Loss: 1598.6719140813018\n",
      "Epoch 88/15000, Loss: 1591.0069074835706\n",
      "Epoch 89/15000, Loss: 1583.4324930781509\n",
      "Epoch 90/15000, Loss: 1575.9505449148835\n",
      "Epoch 91/15000, Loss: 1568.562656633477\n",
      "Epoch 92/15000, Loss: 1561.2702285098096\n",
      "Epoch 93/15000, Loss: 1554.0742673910809\n",
      "Epoch 94/15000, Loss: 1546.9762400263796\n",
      "Epoch 95/15000, Loss: 1539.9766514356081\n",
      "Epoch 96/15000, Loss: 1533.0766954792973\n",
      "Epoch 97/15000, Loss: 1526.2767092120355\n",
      "Epoch 98/15000, Loss: 1519.576776657362\n",
      "Epoch 99/15000, Loss: 1512.9773241434357\n",
      "Epoch 100/15000, Loss: 1506.478284281065\n",
      "Epoch 101/15000, Loss: 1500.0792474007637\n",
      "Epoch 102/15000, Loss: 1493.7801000134857\n",
      "Epoch 1/15000, Loss: 3575.8119369962255\n",
      "Epoch 2/15000, Loss: 3249.966508860335\n",
      "Epoch 3/15000, Loss: 3082.3657623936656\n",
      "Epoch 4/15000, Loss: 2963.856690399361\n",
      "Epoch 5/15000, Loss: 2871.8642815742583\n",
      "Epoch 6/15000, Loss: 2796.854933558972\n",
      "Epoch 7/15000, Loss: 2733.7019692097288\n",
      "Epoch 8/15000, Loss: 2679.31583655183\n",
      "Epoch 9/15000, Loss: 2631.6917793656075\n",
      "Epoch 10/15000, Loss: 2589.447430597211\n",
      "Epoch 11/15000, Loss: 2551.585296454102\n",
      "Epoch 12/15000, Loss: 2517.35460308189\n",
      "Epoch 13/15000, Loss: 2486.1736605026763\n",
      "Epoch 14/15000, Loss: 2457.582401695047\n",
      "Epoch 15/15000, Loss: 2431.2085360405968\n",
      "Epoch 16/15000, Loss: 2406.746283364322\n",
      "Epoch 17/15000, Loss: 2383.9431832222526\n",
      "Epoch 18/15000, Loss: 2362.587972782336\n",
      "Epoch 19/15000, Loss: 2342.50191572198\n",
      "Epoch 20/15000, Loss: 2323.534231140067\n",
      "Epoch 21/15000, Loss: 2305.554339882392\n",
      "Epoch 22/15000, Loss: 2288.4521810058977\n",
      "Epoch 23/15000, Loss: 2272.1311426731454\n",
      "Epoch 24/15000, Loss: 2256.508384583512\n",
      "Epoch 25/15000, Loss: 2241.5118510725347\n",
      "Epoch 26/15000, Loss: 2227.077865141756\n",
      "Epoch 27/15000, Loss: 2213.1508140944584\n",
      "Epoch 28/15000, Loss: 2199.6817460866173\n",
      "Epoch 29/15000, Loss: 2186.627712058648\n",
      "Epoch 30/15000, Loss: 2173.9497833716096\n",
      "Epoch 31/15000, Loss: 2161.614116589694\n",
      "Epoch 32/15000, Loss: 2149.5905174748937\n",
      "Epoch 33/15000, Loss: 2137.85074942753\n",
      "Epoch 34/15000, Loss: 2126.3713592968934\n",
      "Epoch 35/15000, Loss: 2115.1298944449195\n",
      "Epoch 36/15000, Loss: 2104.1067291293452\n",
      "Epoch 37/15000, Loss: 2093.283347484404\n",
      "Epoch 38/15000, Loss: 2082.64408516828\n",
      "Epoch 39/15000, Loss: 2072.173611319589\n",
      "Epoch 40/15000, Loss: 2061.858930482077\n",
      "Epoch 41/15000, Loss: 2051.687784518449\n",
      "Epoch 42/15000, Loss: 2041.64913008125\n",
      "Epoch 43/15000, Loss: 2031.7326038661267\n",
      "Epoch 44/15000, Loss: 2021.9291746501206\n",
      "Epoch 45/15000, Loss: 2012.2303869237192\n",
      "Epoch 46/15000, Loss: 2002.6281449886062\n",
      "Epoch 47/15000, Loss: 1993.1156393345602\n",
      "Epoch 48/15000, Loss: 1983.686534987328\n",
      "Epoch 49/15000, Loss: 1974.3349295422302\n",
      "Epoch 50/15000, Loss: 1965.0555028232536\n",
      "Epoch 51/15000, Loss: 1955.8430173640236\n",
      "Epoch 52/15000, Loss: 1946.6934344167257\n",
      "Epoch 53/15000, Loss: 1937.6025520491928\n",
      "Epoch 54/15000, Loss: 1928.5670235033922\n",
      "Epoch 55/15000, Loss: 1919.5835416987802\n",
      "Epoch 56/15000, Loss: 1910.6494366015168\n",
      "Epoch 57/15000, Loss: 1901.7617255870002\n",
      "Epoch 58/15000, Loss: 1892.9184265236777\n",
      "Epoch 59/15000, Loss: 1884.1178587713105\n",
      "Epoch 60/15000, Loss: 1875.3582049784745\n",
      "Epoch 61/15000, Loss: 1866.6379138451514\n",
      "Epoch 62/15000, Loss: 1857.956171228056\n",
      "Epoch 63/15000, Loss: 1849.3118857279628\n",
      "Epoch 64/15000, Loss: 1840.7043798431957\n",
      "Epoch 65/15000, Loss: 1832.1332006256466\n",
      "Epoch 66/15000, Loss: 1823.598147000794\n",
      "Epoch 67/15000, Loss: 1815.098991968942\n",
      "Epoch 68/15000, Loss: 1806.6361014254678\n",
      "Epoch 69/15000, Loss: 1798.209945391303\n",
      "Epoch 70/15000, Loss: 1789.820560562475\n",
      "Epoch 71/15000, Loss: 1781.4684003661914\n",
      "Epoch 72/15000, Loss: 1773.1545413941744\n",
      "Epoch 73/15000, Loss: 1764.8796088168694\n",
      "Epoch 74/15000, Loss: 1756.6445870437087\n",
      "Epoch 75/15000, Loss: 1748.450400548036\n",
      "Epoch 76/15000, Loss: 1740.2983370107345\n",
      "Epoch 77/15000, Loss: 1732.1895604738772\n",
      "Epoch 78/15000, Loss: 1724.1254081298716\n",
      "Epoch 79/15000, Loss: 1716.1071299763676\n",
      "Epoch 80/15000, Loss: 1708.136034683092\n",
      "Epoch 81/15000, Loss: 1700.2132801875443\n",
      "Epoch 82/15000, Loss: 1692.3406517352862\n",
      "Epoch 83/15000, Loss: 1684.5193784501428\n",
      "Epoch 84/15000, Loss: 1676.7511652744781\n",
      "Epoch 85/15000, Loss: 1669.0370769338715\n",
      "Epoch 86/15000, Loss: 1661.3789922948488\n",
      "Epoch 87/15000, Loss: 1653.7779457438053\n",
      "Epoch 88/15000, Loss: 1646.235498663404\n",
      "Epoch 89/15000, Loss: 1638.75288106226\n",
      "Epoch 90/15000, Loss: 1631.331521153806\n",
      "Epoch 91/15000, Loss: 1623.9724789292059\n",
      "Epoch 92/15000, Loss: 1616.677219161795\n",
      "Epoch 93/15000, Loss: 1609.4467259375033\n",
      "Epoch 94/15000, Loss: 1602.2820216461803\n",
      "Epoch 95/15000, Loss: 1595.1844168391365\n",
      "Epoch 96/15000, Loss: 1588.1547084894908\n",
      "Epoch 97/15000, Loss: 1581.1936887731315\n",
      "Epoch 98/15000, Loss: 1574.3021876460898\n",
      "Epoch 99/15000, Loss: 1567.4807957335208\n",
      "Epoch 100/15000, Loss: 1560.7301918351202\n",
      "Epoch 101/15000, Loss: 1554.0510373230536\n",
      "Epoch 102/15000, Loss: 1547.4437341896894\n",
      "Epoch 103/15000, Loss: 1540.9087285390535\n",
      "Epoch 104/15000, Loss: 1534.4465043241098\n",
      "Epoch 105/15000, Loss: 1528.0571105279125\n",
      "Epoch 106/15000, Loss: 1521.7404955800055\n",
      "Epoch 107/15000, Loss: 1515.4970267491099\n",
      "Epoch 108/15000, Loss: 1509.326531366549\n",
      "Epoch 109/15000, Loss: 1503.2290161060537\n",
      "Epoch 110/15000, Loss: 1497.204505821243\n",
      "Epoch 1/15000, Loss: 3390.4400490158755\n",
      "Epoch 2/15000, Loss: 3017.019510673694\n",
      "Epoch 3/15000, Loss: 2878.086747315978\n",
      "Epoch 4/15000, Loss: 2788.643569182464\n",
      "Epoch 5/15000, Loss: 2719.081710517243\n",
      "Epoch 6/15000, Loss: 2660.8207570122267\n",
      "Epoch 7/15000, Loss: 2610.273104634301\n",
      "Epoch 8/15000, Loss: 2565.4935371380852\n",
      "Epoch 9/15000, Loss: 2525.243968875332\n",
      "Epoch 10/15000, Loss: 2488.659065955734\n",
      "Epoch 11/15000, Loss: 2455.1002589105715\n",
      "Epoch 12/15000, Loss: 2424.0782371648725\n",
      "Epoch 13/15000, Loss: 2395.208622731948\n",
      "Epoch 14/15000, Loss: 2368.1831120611623\n",
      "Epoch 15/15000, Loss: 2342.7503312049876\n",
      "Epoch 16/15000, Loss: 2318.702903127155\n",
      "Epoch 17/15000, Loss: 2295.867754876362\n",
      "Epoch 18/15000, Loss: 2274.0993160182625\n",
      "Epoch 19/15000, Loss: 2253.2741852804443\n",
      "Epoch 20/15000, Loss: 2233.286973406782\n",
      "Epoch 21/15000, Loss: 2214.047131768855\n",
      "Epoch 22/15000, Loss: 2195.476838538108\n",
      "Epoch 23/15000, Loss: 2177.508083501004\n",
      "Epoch 24/15000, Loss: 2160.0821017275593\n",
      "Epoch 25/15000, Loss: 2143.1475645655346\n",
      "Epoch 26/15000, Loss: 2126.65926598703\n",
      "Epoch 27/15000, Loss: 2110.5781015969487\n",
      "Epoch 28/15000, Loss: 2094.869214153216\n",
      "Epoch 29/15000, Loss: 2079.502319483113\n",
      "Epoch 30/15000, Loss: 2064.450698360408\n",
      "Epoch 31/15000, Loss: 2049.6909035146327\n",
      "Epoch 32/15000, Loss: 2035.2024177629562\n",
      "Epoch 33/15000, Loss: 2020.9674220610898\n",
      "Epoch 34/15000, Loss: 2006.9698383749912\n",
      "Epoch 35/15000, Loss: 1993.1962739123546\n",
      "Epoch 36/15000, Loss: 1979.634923480256\n",
      "Epoch 37/15000, Loss: 1966.2758202040466\n",
      "Epoch 38/15000, Loss: 1953.109856421925\n",
      "Epoch 39/15000, Loss: 1940.1299413462698\n",
      "Epoch 40/15000, Loss: 1927.329910626044\n",
      "Epoch 41/15000, Loss: 1914.704957716824\n",
      "Epoch 42/15000, Loss: 1902.2510700654013\n",
      "Epoch 43/15000, Loss: 1889.965045591045\n",
      "Epoch 44/15000, Loss: 1877.8442670195232\n",
      "Epoch 45/15000, Loss: 1865.8870984418966\n",
      "Epoch 46/15000, Loss: 1854.0927990846476\n",
      "Epoch 47/15000, Loss: 1842.4603339812968\n",
      "Epoch 48/15000, Loss: 1830.9893866400487\n",
      "Epoch 49/15000, Loss: 1819.680080338799\n",
      "Epoch 50/15000, Loss: 1808.53291584806\n",
      "Epoch 51/15000, Loss: 1797.5483007270818\n",
      "Epoch 52/15000, Loss: 1786.7268441537306\n",
      "Epoch 53/15000, Loss: 1776.0693503836594\n",
      "Epoch 54/15000, Loss: 1765.5764506161981\n",
      "Epoch 55/15000, Loss: 1755.2491814897687\n",
      "Epoch 56/15000, Loss: 1745.0881129671939\n",
      "Epoch 57/15000, Loss: 1735.0937233078364\n",
      "Epoch 58/15000, Loss: 1725.2665032352138\n",
      "Epoch 59/15000, Loss: 1715.6068646508647\n",
      "Epoch 60/15000, Loss: 1706.1145505499342\n",
      "Epoch 61/15000, Loss: 1696.7894180898586\n",
      "Epoch 62/15000, Loss: 1687.631221603461\n",
      "Epoch 63/15000, Loss: 1678.6393153436488\n",
      "Epoch 64/15000, Loss: 1669.8126619341663\n",
      "Epoch 65/15000, Loss: 1661.1502460230759\n",
      "Epoch 66/15000, Loss: 1652.6506546091948\n",
      "Epoch 67/15000, Loss: 1644.3121799658263\n",
      "Epoch 68/15000, Loss: 1636.1330130418055\n",
      "Epoch 69/15000, Loss: 1628.110893738771\n",
      "Epoch 70/15000, Loss: 1620.243634582222\n",
      "Epoch 71/15000, Loss: 1612.5287925334267\n",
      "Epoch 72/15000, Loss: 1604.9635878176316\n",
      "Epoch 73/15000, Loss: 1597.5450854904898\n",
      "Epoch 74/15000, Loss: 1590.2703640677146\n",
      "Epoch 75/15000, Loss: 1583.1363790673927\n",
      "Epoch 76/15000, Loss: 1576.140028243036\n",
      "Epoch 77/15000, Loss: 1569.2777468069487\n",
      "Epoch 78/15000, Loss: 1562.5460553511914\n",
      "Epoch 79/15000, Loss: 1555.9416016352059\n",
      "Epoch 80/15000, Loss: 1549.46084853989\n",
      "Epoch 81/15000, Loss: 1543.10024249789\n",
      "Epoch 82/15000, Loss: 1536.8563786623638\n",
      "Epoch 83/15000, Loss: 1530.7257362418316\n",
      "Epoch 84/15000, Loss: 1524.704595518761\n",
      "Epoch 85/15000, Loss: 1518.7897900767307\n",
      "Epoch 86/15000, Loss: 1512.9778594450463\n",
      "Epoch 87/15000, Loss: 1507.2654654687933\n",
      "Epoch 88/15000, Loss: 1501.649397105235\n",
      "Epoch 89/15000, Loss: 1496.1263119824296\n",
      "Epoch 1/15000, Loss: 3275.5939556492335\n",
      "Epoch 2/15000, Loss: 2872.5976293883286\n",
      "Epoch 3/15000, Loss: 2650.7903700826064\n",
      "Epoch 4/15000, Loss: 2504.7029117863117\n",
      "Epoch 5/15000, Loss: 2398.6531529529448\n",
      "Epoch 6/15000, Loss: 2316.42606453228\n",
      "Epoch 7/15000, Loss: 2249.4469470108734\n",
      "Epoch 8/15000, Loss: 2192.7496852964823\n",
      "Epoch 9/15000, Loss: 2143.2695015215086\n",
      "Epoch 10/15000, Loss: 2099.022463041807\n",
      "Epoch 11/15000, Loss: 2058.6746228147244\n",
      "Epoch 12/15000, Loss: 2021.302156098087\n",
      "Epoch 13/15000, Loss: 1986.2496115850975\n",
      "Epoch 14/15000, Loss: 1953.041632849807\n",
      "Epoch 15/15000, Loss: 1921.329697240843\n",
      "Epoch 16/15000, Loss: 1890.854135401293\n",
      "Epoch 17/15000, Loss: 1861.421222455671\n",
      "Epoch 18/15000, Loss: 1832.8861970627927\n",
      "Epoch 19/15000, Loss: 1805.141710372864\n",
      "Epoch 20/15000, Loss: 1778.109361489086\n",
      "Epoch 21/15000, Loss: 1751.7339088043968\n",
      "Epoch 22/15000, Loss: 1725.9779198764195\n",
      "Epoch 23/15000, Loss: 1700.8185298885626\n",
      "Epoch 24/15000, Loss: 1676.2440365164907\n",
      "Epoch 25/15000, Loss: 1652.2509068128406\n",
      "Epoch 26/15000, Loss: 1628.8423415003676\n",
      "Epoch 27/15000, Loss: 1606.0254982121571\n",
      "Epoch 28/15000, Loss: 1583.8099382659811\n",
      "Epoch 29/15000, Loss: 1562.2066307693176\n",
      "Epoch 30/15000, Loss: 1541.2257799331528\n",
      "Epoch 31/15000, Loss: 1520.8761394708135\n",
      "Epoch 32/15000, Loss: 1501.1644698134485\n",
      "Epoch 33/15000, Loss: 1482.09486984424\n",
      "Epoch 1/15000, Loss: 3319.913588175874\n",
      "Epoch 2/15000, Loss: 2908.036782803272\n",
      "Epoch 3/15000, Loss: 2678.5213411872064\n",
      "Epoch 4/15000, Loss: 2524.6610111118457\n",
      "Epoch 5/15000, Loss: 2412.6385260597367\n",
      "Epoch 6/15000, Loss: 2326.2006205963203\n",
      "Epoch 7/15000, Loss: 2256.2681959097645\n",
      "Epoch 8/15000, Loss: 2197.405761502428\n",
      "Epoch 9/15000, Loss: 2146.2090708482424\n",
      "Epoch 10/15000, Loss: 2100.4739757535003\n",
      "Epoch 11/15000, Loss: 2058.734528736727\n",
      "Epoch 12/15000, Loss: 2019.996727864987\n",
      "Epoch 13/15000, Loss: 1983.5772764123508\n",
      "Epoch 14/15000, Loss: 1949.0037524807765\n",
      "Epoch 15/15000, Loss: 1915.949139025116\n",
      "Epoch 16/15000, Loss: 1884.1889061555341\n",
      "Epoch 17/15000, Loss: 1853.5712978303598\n",
      "Epoch 18/15000, Loss: 1823.9960552579653\n",
      "Epoch 19/15000, Loss: 1795.399229115692\n",
      "Epoch 20/15000, Loss: 1767.741273966902\n",
      "Epoch 21/15000, Loss: 1740.9991004267258\n",
      "Epoch 22/15000, Loss: 1715.1585787745976\n",
      "Epoch 23/15000, Loss: 1690.2098335872374\n",
      "Epoch 24/15000, Loss: 1666.144094739994\n",
      "Epoch 25/15000, Loss: 1642.9504984142122\n",
      "Epoch 26/15000, Loss: 1620.6148693353523\n",
      "Epoch 27/15000, Loss: 1599.1193232979224\n",
      "Epoch 28/15000, Loss: 1578.4416677398237\n",
      "Epoch 29/15000, Loss: 1558.555889643025\n",
      "Epoch 30/15000, Loss: 1539.4322921386083\n",
      "Epoch 31/15000, Loss: 1521.039107546556\n",
      "Epoch 32/15000, Loss: 1503.3422931983787\n",
      "Epoch 33/15000, Loss: 1486.3071396276587\n",
      "Epoch 1/15000, Loss: 3320.2275685798786\n",
      "Epoch 2/15000, Loss: 2966.4095367245473\n",
      "Epoch 3/15000, Loss: 2762.577967335424\n",
      "Epoch 4/15000, Loss: 2621.5386928746307\n",
      "Epoch 5/15000, Loss: 2514.9813375846315\n",
      "Epoch 6/15000, Loss: 2429.8153966170953\n",
      "Epoch 7/15000, Loss: 2358.7741362249812\n",
      "Epoch 8/15000, Loss: 2297.4173805545906\n",
      "Epoch 9/15000, Loss: 2242.8836674149347\n",
      "Epoch 10/15000, Loss: 2193.2650178073154\n",
      "Epoch 11/15000, Loss: 2147.2592515034084\n",
      "Epoch 12/15000, Loss: 2103.9637768550906\n",
      "Epoch 13/15000, Loss: 2062.752512752381\n",
      "Epoch 14/15000, Loss: 2023.195298487332\n",
      "Epoch 15/15000, Loss: 1985.0060137173436\n",
      "Epoch 16/15000, Loss: 1948.0075266827612\n",
      "Epoch 17/15000, Loss: 1912.1040608544527\n",
      "Epoch 18/15000, Loss: 1877.2603013477142\n",
      "Epoch 19/15000, Loss: 1843.4826907773686\n",
      "Epoch 20/15000, Loss: 1810.8046195524164\n",
      "Epoch 21/15000, Loss: 1779.2725697723301\n",
      "Epoch 22/15000, Loss: 1748.9347952065727\n",
      "Epoch 23/15000, Loss: 1719.832191744059\n",
      "Epoch 24/15000, Loss: 1691.9927070293834\n",
      "Epoch 25/15000, Loss: 1665.4268409596766\n",
      "Epoch 26/15000, Loss: 1640.126698537935\n",
      "Epoch 27/15000, Loss: 1616.0666818361492\n",
      "Epoch 28/15000, Loss: 1593.2056836757595\n",
      "Epoch 29/15000, Loss: 1571.4897462757656\n",
      "Epoch 30/15000, Loss: 1550.8562013761575\n",
      "Epoch 31/15000, Loss: 1531.2365836937604\n",
      "Epoch 32/15000, Loss: 1512.559659737197\n",
      "Epoch 33/15000, Loss: 1494.754332475483\n",
      "Epoch 1/15000, Loss: 3309.484902084931\n",
      "Epoch 2/15000, Loss: 2950.1214900562745\n",
      "Epoch 3/15000, Loss: 2749.9170071498706\n",
      "Epoch 4/15000, Loss: 2612.880758435454\n",
      "Epoch 5/15000, Loss: 2509.690288411553\n",
      "Epoch 6/15000, Loss: 2427.295786081245\n",
      "Epoch 7/15000, Loss: 2358.6686715381707\n",
      "Epoch 8/15000, Loss: 2299.5882999654177\n",
      "Epoch 9/15000, Loss: 2247.3397144875917\n",
      "Epoch 10/15000, Loss: 2200.0948357781804\n",
      "Epoch 11/15000, Loss: 2156.581540098067\n",
      "Epoch 12/15000, Loss: 2115.895502796123\n",
      "Epoch 13/15000, Loss: 2077.382951297019\n",
      "Epoch 14/15000, Loss: 2040.5688542337148\n",
      "Epoch 15/15000, Loss: 2005.1079861963128\n",
      "Epoch 16/15000, Loss: 1970.7539433141928\n",
      "Epoch 17/15000, Loss: 1937.335790225794\n",
      "Epoch 18/15000, Loss: 1904.7421615868138\n",
      "Epoch 19/15000, Loss: 1872.9086918419857\n",
      "Epoch 20/15000, Loss: 1841.8073711692261\n",
      "Epoch 21/15000, Loss: 1811.4381384701642\n",
      "Epoch 22/15000, Loss: 1781.8206793751453\n",
      "Epoch 23/15000, Loss: 1752.9871421252742\n",
      "Epoch 24/15000, Loss: 1724.9761718690368\n",
      "Epoch 25/15000, Loss: 1697.826703132696\n",
      "Epoch 26/15000, Loss: 1671.5737991006188\n",
      "Epoch 27/15000, Loss: 1646.2449553402573\n",
      "Epoch 28/15000, Loss: 1621.858146978777\n",
      "Epoch 29/15000, Loss: 1598.4201021030872\n",
      "Epoch 30/15000, Loss: 1575.9271874307306\n",
      "Epoch 31/15000, Loss: 1554.3649955128355\n",
      "Epoch 32/15000, Loss: 1533.710118027932\n",
      "Epoch 33/15000, Loss: 1513.9317242121288\n",
      "Epoch 34/15000, Loss: 1494.9933211019631\n",
      "Epoch 1/15000, Loss: 3226.745514683571\n",
      "Epoch 2/15000, Loss: 2906.1281495139556\n",
      "Epoch 3/15000, Loss: 2709.351052955093\n",
      "Epoch 4/15000, Loss: 2569.207319983997\n",
      "Epoch 5/15000, Loss: 2462.1358912573346\n",
      "Epoch 6/15000, Loss: 2376.337768201987\n",
      "Epoch 7/15000, Loss: 2304.957391121238\n",
      "Epoch 8/15000, Loss: 2243.691251825404\n",
      "Epoch 9/15000, Loss: 2189.7055009251517\n",
      "Epoch 10/15000, Loss: 2141.072032220355\n",
      "Epoch 11/15000, Loss: 2096.448511059025\n",
      "Epoch 12/15000, Loss: 2054.885885769122\n",
      "Epoch 13/15000, Loss: 2015.7051613728795\n",
      "Epoch 14/15000, Loss: 1978.4194136082242\n",
      "Epoch 15/15000, Loss: 1942.6799111402008\n",
      "Epoch 16/15000, Loss: 1908.2403785116096\n",
      "Epoch 17/15000, Loss: 1874.9311502355756\n",
      "Epoch 18/15000, Loss: 1842.6403942811075\n",
      "Epoch 19/15000, Loss: 1811.3003177668365\n",
      "Epoch 20/15000, Loss: 1780.8748882434033\n",
      "Epoch 21/15000, Loss: 1751.3513305253296\n",
      "Epoch 22/15000, Loss: 1722.7323121375637\n",
      "Epoch 23/15000, Loss: 1695.029303113367\n",
      "Epoch 24/15000, Loss: 1668.2569867598093\n",
      "Epoch 25/15000, Loss: 1642.4294664240467\n",
      "Epoch 26/15000, Loss: 1617.556626838671\n",
      "Epoch 27/15000, Loss: 1593.6434222340629\n",
      "Epoch 28/15000, Loss: 1570.6867617371965\n",
      "Epoch 29/15000, Loss: 1548.6766203535574\n",
      "Epoch 30/15000, Loss: 1527.5954974402403\n",
      "Epoch 31/15000, Loss: 1507.419363954547\n",
      "Epoch 32/15000, Loss: 1488.1191799614776\n",
      "Epoch 1/15000, Loss: 1953.7078811024417\n",
      "Epoch 2/15000, Loss: 1872.3746895846732\n",
      "Epoch 3/15000, Loss: 1822.167046808657\n",
      "Epoch 4/15000, Loss: 1782.9641263004542\n",
      "Epoch 5/15000, Loss: 1749.07446098031\n",
      "Epoch 6/15000, Loss: 1718.1726556992103\n",
      "Epoch 7/15000, Loss: 1689.0900171062904\n",
      "Epoch 8/15000, Loss: 1661.1578199750072\n",
      "Epoch 9/15000, Loss: 1633.966335909587\n",
      "Epoch 10/15000, Loss: 1607.2623629297295\n",
      "Epoch 11/15000, Loss: 1580.9007954350975\n",
      "Epoch 12/15000, Loss: 1554.8149330748022\n",
      "Epoch 13/15000, Loss: 1529.0003041547445\n",
      "Epoch 14/15000, Loss: 1503.498622752759\n",
      "Epoch 15/15000, Loss: 1478.386997498485\n",
      "Epoch 1/15000, Loss: 1962.9284553740383\n",
      "Epoch 2/15000, Loss: 1888.9336426308728\n",
      "Epoch 3/15000, Loss: 1842.3200865558151\n",
      "Epoch 4/15000, Loss: 1806.3036536368143\n",
      "Epoch 5/15000, Loss: 1775.9811218259933\n",
      "Epoch 6/15000, Loss: 1749.1521840842631\n",
      "Epoch 7/15000, Loss: 1724.584610803021\n",
      "Epoch 8/15000, Loss: 1701.5131580589332\n",
      "Epoch 9/15000, Loss: 1679.4419149262335\n",
      "Epoch 10/15000, Loss: 1658.0426150830808\n",
      "Epoch 11/15000, Loss: 1637.1026197763872\n",
      "Epoch 12/15000, Loss: 1616.491167263923\n",
      "Epoch 13/15000, Loss: 1596.136469571848\n",
      "Epoch 14/15000, Loss: 1576.0130992221864\n",
      "Epoch 15/15000, Loss: 1556.1274770077907\n",
      "Epoch 16/15000, Loss: 1536.5110814677025\n",
      "Epoch 17/15000, Loss: 1517.2097025761236\n",
      "Epoch 18/15000, Loss: 1498.2796269994026\n",
      "Epoch 1/15000, Loss: 1963.822037771614\n",
      "Epoch 2/15000, Loss: 1888.1708203091646\n",
      "Epoch 3/15000, Loss: 1841.7648649835423\n",
      "Epoch 4/15000, Loss: 1807.1037149300594\n",
      "Epoch 5/15000, Loss: 1778.6652202890925\n",
      "Epoch 6/15000, Loss: 1753.9684294953054\n",
      "Epoch 7/15000, Loss: 1731.6505517221979\n",
      "Epoch 8/15000, Loss: 1710.8685572148463\n",
      "Epoch 9/15000, Loss: 1691.0636903662974\n",
      "Epoch 10/15000, Loss: 1671.8439143784708\n",
      "Epoch 11/15000, Loss: 1652.9261024151974\n",
      "Epoch 12/15000, Loss: 1634.0999098629281\n",
      "Epoch 13/15000, Loss: 1615.2074061293306\n",
      "Epoch 14/15000, Loss: 1596.1328152399656\n",
      "Epoch 15/15000, Loss: 1576.7938672463767\n",
      "Epoch 16/15000, Loss: 1557.137967746094\n",
      "Epoch 17/15000, Loss: 1537.1401833983014\n",
      "Epoch 18/15000, Loss: 1516.8029686640186\n",
      "Epoch 19/15000, Loss: 1496.154127525003\n",
      "Epoch 1/15000, Loss: 1933.87502078873\n",
      "Epoch 2/15000, Loss: 1845.8038768726074\n",
      "Epoch 3/15000, Loss: 1794.6437490400895\n",
      "Epoch 4/15000, Loss: 1756.60969643481\n",
      "Epoch 5/15000, Loss: 1724.6080313397176\n",
      "Epoch 6/15000, Loss: 1695.854839886877\n",
      "Epoch 7/15000, Loss: 1669.0445183704878\n",
      "Epoch 8/15000, Loss: 1643.4860258676395\n",
      "Epoch 9/15000, Loss: 1618.7904132758056\n",
      "Epoch 10/15000, Loss: 1594.738592575651\n",
      "Epoch 11/15000, Loss: 1571.2164470050961\n",
      "Epoch 12/15000, Loss: 1548.1800230738277\n",
      "Epoch 13/15000, Loss: 1525.6316778632058\n",
      "Epoch 14/15000, Loss: 1503.6029364894184\n",
      "Epoch 15/15000, Loss: 1482.1418012969966\n",
      "Epoch 1/15000, Loss: 1997.6280463180708\n",
      "Epoch 2/15000, Loss: 1921.7633184800834\n",
      "Epoch 3/15000, Loss: 1873.428367260124\n",
      "Epoch 4/15000, Loss: 1836.6020070388386\n",
      "Epoch 5/15000, Loss: 1805.8567031374193\n",
      "Epoch 6/15000, Loss: 1778.6953282506581\n",
      "Epoch 7/15000, Loss: 1753.7563458267082\n",
      "Epoch 8/15000, Loss: 1730.2099304948324\n",
      "Epoch 9/15000, Loss: 1707.5145166369202\n",
      "Epoch 10/15000, Loss: 1685.3075150804164\n",
      "Epoch 11/15000, Loss: 1663.3436645792058\n",
      "Epoch 12/15000, Loss: 1641.4630500505484\n",
      "Epoch 13/15000, Loss: 1619.5720745484282\n",
      "Epoch 14/15000, Loss: 1597.6294904780761\n",
      "Epoch 15/15000, Loss: 1575.637408171733\n",
      "Epoch 16/15000, Loss: 1553.6317815926272\n",
      "Epoch 17/15000, Loss: 1531.6765982339716\n",
      "Epoch 18/15000, Loss: 1509.8558687517082\n",
      "Epoch 19/15000, Loss: 1488.26557719351\n",
      "Epoch 1/15000, Loss: 2184.0705996980532\n",
      "Epoch 2/15000, Loss: 1991.3803817554349\n",
      "Epoch 3/15000, Loss: 1897.6168568665937\n",
      "Epoch 4/15000, Loss: 1828.0532644926159\n",
      "Epoch 5/15000, Loss: 1769.6027603664202\n",
      "Epoch 6/15000, Loss: 1717.8601251788357\n",
      "Epoch 7/15000, Loss: 1670.9014026324908\n",
      "Epoch 8/15000, Loss: 1627.7763874101752\n",
      "Epoch 9/15000, Loss: 1587.9754621654895\n",
      "Epoch 10/15000, Loss: 1551.1857133111478\n",
      "Epoch 11/15000, Loss: 1517.1701405746044\n",
      "Epoch 12/15000, Loss: 1485.711145085722\n",
      "Epoch 1/15000, Loss: 2162.951692882245\n",
      "Epoch 2/15000, Loss: 1990.7971853471392\n",
      "Epoch 3/15000, Loss: 1909.9538906310654\n",
      "Epoch 4/15000, Loss: 1850.7619125439799\n",
      "Epoch 5/15000, Loss: 1800.6447240493249\n",
      "Epoch 6/15000, Loss: 1755.476761976322\n",
      "Epoch 7/15000, Loss: 1713.4063946569004\n",
      "Epoch 8/15000, Loss: 1673.5055761355832\n",
      "Epoch 9/15000, Loss: 1635.3310385035377\n",
      "Epoch 10/15000, Loss: 1598.7217463355337\n",
      "Epoch 11/15000, Loss: 1563.676463229359\n",
      "Epoch 12/15000, Loss: 1530.2719030298622\n",
      "Epoch 13/15000, Loss: 1498.6056809456597\n",
      "Epoch 1/15000, Loss: 2147.99262920302\n",
      "Epoch 2/15000, Loss: 2012.6015026596633\n",
      "Epoch 3/15000, Loss: 1938.2262712783863\n",
      "Epoch 4/15000, Loss: 1877.9675204260243\n",
      "Epoch 5/15000, Loss: 1822.7611236893392\n",
      "Epoch 6/15000, Loss: 1769.5114244299207\n",
      "Epoch 7/15000, Loss: 1717.1838050463946\n",
      "Epoch 8/15000, Loss: 1665.8341938098447\n",
      "Epoch 9/15000, Loss: 1616.1113872303024\n",
      "Epoch 10/15000, Loss: 1568.8715918854266\n",
      "Epoch 11/15000, Loss: 1524.8799548608054\n",
      "Epoch 12/15000, Loss: 1484.6287124471019\n",
      "Epoch 1/15000, Loss: 2093.8017290841203\n",
      "Epoch 2/15000, Loss: 1914.5821148215946\n",
      "Epoch 3/15000, Loss: 1819.0133101347833\n",
      "Epoch 4/15000, Loss: 1744.2865452249966\n",
      "Epoch 5/15000, Loss: 1680.0571331367062\n",
      "Epoch 6/15000, Loss: 1623.2812679443123\n",
      "Epoch 7/15000, Loss: 1572.7803639068902\n",
      "Epoch 8/15000, Loss: 1527.9292108944046\n",
      "Epoch 9/15000, Loss: 1488.2200246056902\n",
      "Epoch 1/15000, Loss: 2157.57081254409\n",
      "Epoch 2/15000, Loss: 2033.5214546017703\n",
      "Epoch 3/15000, Loss: 1968.5447298388076\n",
      "Epoch 4/15000, Loss: 1916.8956077939654\n",
      "Epoch 5/15000, Loss: 1870.1546753059147\n",
      "Epoch 6/15000, Loss: 1825.1767864649303\n",
      "Epoch 7/15000, Loss: 1780.4859762710435\n",
      "Epoch 8/15000, Loss: 1735.4494565857874\n",
      "Epoch 9/15000, Loss: 1689.9761096217874\n",
      "Epoch 10/15000, Loss: 1644.3480928351275\n",
      "Epoch 11/15000, Loss: 1599.0864465830234\n",
      "Epoch 12/15000, Loss: 1554.825018825561\n",
      "Epoch 13/15000, Loss: 1512.1996653776334\n",
      "Epoch 14/15000, Loss: 1471.7616209785574\n",
      "Epoch 1/15000, Loss: 1975.5120343723704\n",
      "Epoch 2/15000, Loss: 1881.959478543172\n",
      "Epoch 3/15000, Loss: 1817.8524592634872\n",
      "Epoch 4/15000, Loss: 1765.8574654265258\n",
      "Epoch 5/15000, Loss: 1719.7885906835686\n",
      "Epoch 6/15000, Loss: 1676.5096563598886\n",
      "Epoch 7/15000, Loss: 1634.4606063340495\n",
      "Epoch 8/15000, Loss: 1593.114873630189\n",
      "Epoch 9/15000, Loss: 1552.6002642800267\n",
      "Epoch 10/15000, Loss: 1513.37608613687\n",
      "Epoch 11/15000, Loss: 1475.9946392285312\n",
      "Epoch 1/15000, Loss: 1974.99571588812\n",
      "Epoch 2/15000, Loss: 1877.9879876309806\n",
      "Epoch 3/15000, Loss: 1814.2684827019193\n",
      "Epoch 4/15000, Loss: 1762.2646009618913\n",
      "Epoch 5/15000, Loss: 1715.0869264378543\n",
      "Epoch 6/15000, Loss: 1669.5892803873646\n",
      "Epoch 7/15000, Loss: 1624.206236597799\n",
      "Epoch 8/15000, Loss: 1578.3624146247798\n",
      "Epoch 9/15000, Loss: 1532.2080764630334\n",
      "Epoch 10/15000, Loss: 1486.4020812633141\n",
      "Epoch 1/15000, Loss: 1910.986350155266\n",
      "Epoch 2/15000, Loss: 1815.2804202608168\n",
      "Epoch 3/15000, Loss: 1748.767831680441\n",
      "Epoch 4/15000, Loss: 1693.8561514931366\n",
      "Epoch 5/15000, Loss: 1645.1071038110822\n",
      "Epoch 6/15000, Loss: 1599.8009219332228\n",
      "Epoch 7/15000, Loss: 1556.582430407249\n",
      "Epoch 8/15000, Loss: 1515.0185057215626\n",
      "Epoch 9/15000, Loss: 1475.2385520756222\n",
      "Epoch 1/15000, Loss: 1934.181286498394\n",
      "Epoch 2/15000, Loss: 1837.9560456445472\n",
      "Epoch 3/15000, Loss: 1774.2479085792522\n",
      "Epoch 4/15000, Loss: 1722.6166135073802\n",
      "Epoch 5/15000, Loss: 1677.5806282403257\n",
      "Epoch 6/15000, Loss: 1636.3405957129908\n",
      "Epoch 7/15000, Loss: 1597.2758133533634\n",
      "Epoch 8/15000, Loss: 1559.5964386281912\n",
      "Epoch 9/15000, Loss: 1523.101106366852\n",
      "Epoch 10/15000, Loss: 1487.940003103286\n",
      "Epoch 1/15000, Loss: 1943.920204897667\n",
      "Epoch 2/15000, Loss: 1858.1566576511705\n",
      "Epoch 3/15000, Loss: 1797.115690502979\n",
      "Epoch 4/15000, Loss: 1745.8085833429695\n",
      "Epoch 5/15000, Loss: 1699.7532961229476\n",
      "Epoch 6/15000, Loss: 1656.561459330397\n",
      "Epoch 7/15000, Loss: 1614.9805145030916\n",
      "Epoch 8/15000, Loss: 1574.5711144443933\n",
      "Epoch 9/15000, Loss: 1535.4161703297405\n",
      "Epoch 10/15000, Loss: 1497.8675123518312\n",
      "Epoch 1/15000, Loss: 2011.9907561462508\n",
      "Epoch 2/15000, Loss: 1774.9112184142782\n",
      "Epoch 3/15000, Loss: 1671.5787862328775\n",
      "Epoch 4/15000, Loss: 1599.1408290084062\n",
      "Epoch 5/15000, Loss: 1541.2028561846003\n",
      "Epoch 6/15000, Loss: 1492.1375798439483\n",
      "Epoch 1/15000, Loss: 2292.614523588558\n",
      "Epoch 2/15000, Loss: 2025.6737756744217\n",
      "Epoch 3/15000, Loss: 1839.460500625873\n",
      "Epoch 4/15000, Loss: 1708.5807300023944\n",
      "Epoch 5/15000, Loss: 1622.3174034319502\n",
      "Epoch 6/15000, Loss: 1561.9517860909057\n",
      "Epoch 7/15000, Loss: 1513.823075506027\n",
      "Epoch 8/15000, Loss: 1471.1523767945007\n",
      "Epoch 1/15000, Loss: 2329.632677546722\n",
      "Epoch 2/15000, Loss: 1959.2329809633347\n",
      "Epoch 3/15000, Loss: 1751.0822266603573\n",
      "Epoch 4/15000, Loss: 1640.4689610776302\n",
      "Epoch 5/15000, Loss: 1570.6315024085873\n",
      "Epoch 6/15000, Loss: 1514.7315136778914\n",
      "Epoch 7/15000, Loss: 1464.6244837677277\n",
      "Epoch 1/15000, Loss: 2142.3436396805937\n",
      "Epoch 2/15000, Loss: 1856.0173715554051\n",
      "Epoch 3/15000, Loss: 1734.2840881320503\n",
      "Epoch 4/15000, Loss: 1650.9662437721406\n",
      "Epoch 5/15000, Loss: 1582.616733279182\n",
      "Epoch 6/15000, Loss: 1522.333455775631\n",
      "Epoch 7/15000, Loss: 1467.258456508904\n",
      "Epoch 1/15000, Loss: 2300.1525241448417\n",
      "Epoch 2/15000, Loss: 2155.551105851016\n",
      "Epoch 3/15000, Loss: 2041.6725024994446\n",
      "Epoch 4/15000, Loss: 1926.7775957795948\n",
      "Epoch 5/15000, Loss: 1813.2047224402943\n",
      "Epoch 6/15000, Loss: 1709.4746006324447\n",
      "Epoch 7/15000, Loss: 1622.0358517740026\n",
      "Epoch 8/15000, Loss: 1551.93950276584\n",
      "Epoch 9/15000, Loss: 1496.2949962531131\n",
      "Epoch 1/15000, Loss: 2292.6074873187563\n",
      "Epoch 2/15000, Loss: 1975.1079197892059\n",
      "Epoch 3/15000, Loss: 1775.528872255286\n",
      "Epoch 4/15000, Loss: 1628.311232055272\n",
      "Epoch 5/15000, Loss: 1525.4994966714935\n",
      "Epoch 6/15000, Loss: 1457.384303256796\n",
      "Epoch 1/15000, Loss: 2298.8661559453767\n",
      "Epoch 2/15000, Loss: 2035.7907973710383\n",
      "Epoch 3/15000, Loss: 1864.1458956203394\n",
      "Epoch 4/15000, Loss: 1731.4049220257164\n",
      "Epoch 5/15000, Loss: 1627.4564232755913\n",
      "Epoch 6/15000, Loss: 1548.1580853459031\n",
      "Epoch 7/15000, Loss: 1488.3589070811158\n",
      "Epoch 1/15000, Loss: 2251.5369642896267\n",
      "Epoch 2/15000, Loss: 1901.0390885161328\n",
      "Epoch 3/15000, Loss: 1696.795569070336\n",
      "Epoch 4/15000, Loss: 1569.282433698138\n",
      "Epoch 5/15000, Loss: 1491.9619008313325\n",
      "Epoch 1/15000, Loss: 2355.7607239998283\n",
      "Epoch 2/15000, Loss: 2040.0615389740296\n",
      "Epoch 3/15000, Loss: 1855.8279893774213\n",
      "Epoch 4/15000, Loss: 1712.502412167706\n",
      "Epoch 5/15000, Loss: 1594.4116212243907\n",
      "Epoch 6/15000, Loss: 1499.7336125221063\n",
      "Epoch 1/15000, Loss: 2294.2382455725187\n",
      "Epoch 2/15000, Loss: 1955.5983134255464\n",
      "Epoch 3/15000, Loss: 1724.624653103319\n",
      "Epoch 4/15000, Loss: 1559.915739370666\n",
      "Epoch 5/15000, Loss: 1458.141550259903\n",
      "Epoch 1/15000, Loss: 2056.3145468601583\n",
      "Epoch 2/15000, Loss: 1613.6393321730093\n",
      "Epoch 3/15000, Loss: 1509.786420142902\n",
      "Epoch 4/15000, Loss: 1467.7339068337524\n",
      "Epoch 1/15000, Loss: 2090.811395552183\n",
      "Epoch 2/15000, Loss: 1633.2993619326585\n",
      "Epoch 3/15000, Loss: 1491.3750413375635\n",
      "Epoch 1/15000, Loss: 2036.7877265290178\n",
      "Epoch 2/15000, Loss: 1721.9043145295032\n",
      "Epoch 3/15000, Loss: 1547.4568535130663\n",
      "Epoch 4/15000, Loss: 1458.345609735019\n",
      "Epoch 1/15000, Loss: 2115.578940555674\n",
      "Epoch 2/15000, Loss: 1727.1051504019908\n",
      "Epoch 3/15000, Loss: 1540.3009755137202\n",
      "Epoch 4/15000, Loss: 1462.4148846069918\n",
      "Epoch 1/15000, Loss: 2047.7947507052831\n",
      "Epoch 2/15000, Loss: 1634.7795917522644\n",
      "Epoch 3/15000, Loss: 1502.967748618748\n",
      "Epoch 4/15000, Loss: 1453.0835447169225\n",
      "Epoch 1/15000, Loss: 2095.352796389561\n",
      "Epoch 2/15000, Loss: 1982.435172872738\n",
      "Epoch 3/15000, Loss: 1801.639206279529\n",
      "Epoch 4/15000, Loss: 1596.3040451924355\n",
      "Epoch 5/15000, Loss: 1439.7267035816503\n",
      "Epoch 1/15000, Loss: 2062.0434523981335\n",
      "Epoch 2/15000, Loss: 1935.188970791789\n",
      "Epoch 3/15000, Loss: 1760.0018055511262\n",
      "Epoch 4/15000, Loss: 1581.1779899882324\n",
      "Epoch 5/15000, Loss: 1441.5793068235523\n",
      "Epoch 1/15000, Loss: 2084.0303430265076\n",
      "Epoch 2/15000, Loss: 2026.141593881397\n",
      "Epoch 3/15000, Loss: 1888.7227926417106\n",
      "Epoch 4/15000, Loss: 1714.23904061622\n",
      "Epoch 5/15000, Loss: 1553.438763565858\n",
      "Epoch 6/15000, Loss: 1426.123855180435\n",
      "Epoch 1/15000, Loss: 2097.8498237979175\n",
      "Epoch 2/15000, Loss: 1984.8984065204997\n",
      "Epoch 3/15000, Loss: 1808.7719703133496\n",
      "Epoch 4/15000, Loss: 1608.0981124784557\n",
      "Epoch 5/15000, Loss: 1443.083867949843\n",
      "Epoch 1/15000, Loss: 1985.0702326539101\n",
      "Epoch 2/15000, Loss: 1889.3827643081827\n",
      "Epoch 3/15000, Loss: 1753.404477202801\n",
      "Epoch 4/15000, Loss: 1596.4241700990904\n",
      "Epoch 5/15000, Loss: 1457.281343287892\n",
      "Epoch 1/15000, Loss: 60914466.38164611\n",
      "Epoch 2/15000, Loss: 60648482.11776684\n",
      "Epoch 3/15000, Loss: 60968300.41704927\n",
      "Epoch 4/15000, Loss: 60249546.40597229\n",
      "Epoch 5/15000, Loss: 60226315.78265228\n",
      "Epoch 6/15000, Loss: 60434823.1211263\n",
      "Epoch 7/15000, Loss: 60116030.58034177\n",
      "Epoch 8/15000, Loss: 60411635.48507729\n",
      "Epoch 9/15000, Loss: 17389160.325373013\n",
      "Epoch 10/15000, Loss: 1881.9631550589922\n",
      "Epoch 11/15000, Loss: 1390.0951940584912\n",
      "Epoch 1/15000, Loss: 61110629.99753051\n",
      "Epoch 2/15000, Loss: 60633505.37812622\n",
      "Epoch 3/15000, Loss: 60783726.72555799\n",
      "Epoch 4/15000, Loss: 60813612.945760034\n",
      "Epoch 5/15000, Loss: 59418160.65666808\n",
      "Epoch 6/15000, Loss: 60380958.65779545\n",
      "Epoch 7/15000, Loss: 54233018.73013456\n",
      "Epoch 8/15000, Loss: 60763965.779634096\n",
      "Epoch 9/15000, Loss: 14836727.32012667\n",
      "Epoch 10/15000, Loss: 1869.0345451519615\n",
      "Epoch 11/15000, Loss: 1368.700567458923\n",
      "Epoch 1/15000, Loss: 21979617.158842962\n",
      "Epoch 2/15000, Loss: 60170907.96844509\n",
      "Epoch 3/15000, Loss: 59557181.270869955\n",
      "Epoch 4/15000, Loss: 61385557.83414034\n",
      "Epoch 5/15000, Loss: 60019882.79190307\n",
      "Epoch 6/15000, Loss: 4390.4146972299295\n",
      "Epoch 7/15000, Loss: 1696.466262336423\n",
      "Epoch 8/15000, Loss: 1348.7707409356235\n",
      "Epoch 1/15000, Loss: 60252519.724604696\n",
      "Epoch 2/15000, Loss: 61166706.45484746\n",
      "Epoch 3/15000, Loss: 61047180.352713756\n",
      "Epoch 4/15000, Loss: 60342000.646785855\n",
      "Epoch 5/15000, Loss: 60392169.4801937\n",
      "Epoch 6/15000, Loss: 60756833.49329335\n",
      "Epoch 7/15000, Loss: 60261354.27642908\n",
      "Epoch 8/15000, Loss: 60812602.329411454\n",
      "Epoch 9/15000, Loss: 60845568.55406617\n",
      "Epoch 10/15000, Loss: 61138633.7461477\n",
      "Epoch 11/15000, Loss: 61098894.27072591\n",
      "Epoch 12/15000, Loss: 60586089.04105662\n",
      "Epoch 13/15000, Loss: 58827018.10227982\n",
      "Epoch 14/15000, Loss: 59941478.19061413\n",
      "Epoch 15/15000, Loss: 28372577.87857149\n",
      "Epoch 16/15000, Loss: 1719.159588608959\n",
      "Epoch 17/15000, Loss: 1430.281006663603\n",
      "Epoch 1/15000, Loss: 60183294.557104245\n",
      "Epoch 2/15000, Loss: 60717874.08302037\n",
      "Epoch 3/15000, Loss: 60292658.69982864\n",
      "Epoch 4/15000, Loss: 60630150.31205744\n",
      "Epoch 5/15000, Loss: 61305936.431950845\n",
      "Epoch 6/15000, Loss: 59722770.0555004\n",
      "Epoch 7/15000, Loss: 60025170.203912534\n",
      "Epoch 8/15000, Loss: 55478531.36800455\n",
      "Epoch 9/15000, Loss: 32816250.700716276\n",
      "Epoch 10/15000, Loss: 2460.4708219365752\n",
      "Epoch 11/15000, Loss: 1593.1638094573298\n",
      "Epoch 12/15000, Loss: 1344.0696773725904\n"
     ]
    },
    {
     "data": {
      "application/vnd.plotly.v1+json": {
       "config": {
        "plotlyServerURL": "https://plot.ly"
       },
       "data": [
        {
         "mode": "markers",
         "name": "Все наблюдения",
         "type": "scatter",
         "x": [
          0.0001,
          0.0001,
          0.0001,
          0.0001,
          0.0001,
          0.0004222222222222222,
          0.0004222222222222222,
          0.0004222222222222222,
          0.0004222222222222222,
          0.0004222222222222222,
          0.0007444444444444445,
          0.0007444444444444445,
          0.0007444444444444445,
          0.0007444444444444445,
          0.0007444444444444445,
          0.0010666666666666667,
          0.0010666666666666667,
          0.0010666666666666667,
          0.0010666666666666667,
          0.0010666666666666667,
          0.001388888888888889,
          0.001388888888888889,
          0.001388888888888889,
          0.001388888888888889,
          0.001388888888888889,
          0.0017111111111111112,
          0.0017111111111111112,
          0.0017111111111111112,
          0.0017111111111111112,
          0.0017111111111111112,
          0.002033333333333333,
          0.002033333333333333,
          0.002033333333333333,
          0.002033333333333333,
          0.002033333333333333,
          0.0023555555555555556,
          0.0023555555555555556,
          0.0023555555555555556,
          0.0023555555555555556,
          0.0023555555555555556,
          0.0026777777777777776,
          0.0026777777777777776,
          0.0026777777777777776,
          0.0026777777777777776,
          0.0026777777777777776,
          0.003,
          0.003,
          0.003,
          0.003,
          0.003
         ],
         "y": [
          96,
          90,
          102,
          110,
          89,
          33,
          33,
          33,
          34,
          32,
          15,
          18,
          19,
          15,
          19,
          12,
          13,
          12,
          9,
          14,
          11,
          10,
          9,
          10,
          10,
          6,
          8,
          7,
          7,
          9,
          6,
          7,
          5,
          6,
          5,
          4,
          3,
          4,
          4,
          4,
          5,
          5,
          6,
          5,
          5,
          11,
          11,
          8,
          17,
          12
         ]
        },
        {
         "mode": "lines+markers",
         "name": "Средние значения",
         "type": "scatter",
         "x": [
          0.0001,
          0.0004222222222222222,
          0.0007444444444444445,
          0.0010666666666666667,
          0.001388888888888889,
          0.0017111111111111112,
          0.002033333333333333,
          0.0023555555555555556,
          0.0026777777777777776,
          0.003
         ],
         "y": [
          97.4,
          33,
          17.2,
          12,
          10,
          7.4,
          5.8,
          3.8,
          5.2,
          11.8
         ]
        }
       ],
       "layout": {
        "font": {
         "size": 20
        },
        "height": 720,
        "template": {
         "data": {
          "bar": [
           {
            "error_x": {
             "color": "#2a3f5f"
            },
            "error_y": {
             "color": "#2a3f5f"
            },
            "marker": {
             "line": {
              "color": "#E5ECF6",
              "width": 0.5
             },
             "pattern": {
              "fillmode": "overlay",
              "size": 10,
              "solidity": 0.2
             }
            },
            "type": "bar"
           }
          ],
          "barpolar": [
           {
            "marker": {
             "line": {
              "color": "#E5ECF6",
              "width": 0.5
             },
             "pattern": {
              "fillmode": "overlay",
              "size": 10,
              "solidity": 0.2
             }
            },
            "type": "barpolar"
           }
          ],
          "carpet": [
           {
            "aaxis": {
             "endlinecolor": "#2a3f5f",
             "gridcolor": "white",
             "linecolor": "white",
             "minorgridcolor": "white",
             "startlinecolor": "#2a3f5f"
            },
            "baxis": {
             "endlinecolor": "#2a3f5f",
             "gridcolor": "white",
             "linecolor": "white",
             "minorgridcolor": "white",
             "startlinecolor": "#2a3f5f"
            },
            "type": "carpet"
           }
          ],
          "choropleth": [
           {
            "colorbar": {
             "outlinewidth": 0,
             "ticks": ""
            },
            "type": "choropleth"
           }
          ],
          "contour": [
           {
            "colorbar": {
             "outlinewidth": 0,
             "ticks": ""
            },
            "colorscale": [
             [
              0,
              "#0d0887"
             ],
             [
              0.1111111111111111,
              "#46039f"
             ],
             [
              0.2222222222222222,
              "#7201a8"
             ],
             [
              0.3333333333333333,
              "#9c179e"
             ],
             [
              0.4444444444444444,
              "#bd3786"
             ],
             [
              0.5555555555555556,
              "#d8576b"
             ],
             [
              0.6666666666666666,
              "#ed7953"
             ],
             [
              0.7777777777777778,
              "#fb9f3a"
             ],
             [
              0.8888888888888888,
              "#fdca26"
             ],
             [
              1,
              "#f0f921"
             ]
            ],
            "type": "contour"
           }
          ],
          "contourcarpet": [
           {
            "colorbar": {
             "outlinewidth": 0,
             "ticks": ""
            },
            "type": "contourcarpet"
           }
          ],
          "heatmap": [
           {
            "colorbar": {
             "outlinewidth": 0,
             "ticks": ""
            },
            "colorscale": [
             [
              0,
              "#0d0887"
             ],
             [
              0.1111111111111111,
              "#46039f"
             ],
             [
              0.2222222222222222,
              "#7201a8"
             ],
             [
              0.3333333333333333,
              "#9c179e"
             ],
             [
              0.4444444444444444,
              "#bd3786"
             ],
             [
              0.5555555555555556,
              "#d8576b"
             ],
             [
              0.6666666666666666,
              "#ed7953"
             ],
             [
              0.7777777777777778,
              "#fb9f3a"
             ],
             [
              0.8888888888888888,
              "#fdca26"
             ],
             [
              1,
              "#f0f921"
             ]
            ],
            "type": "heatmap"
           }
          ],
          "heatmapgl": [
           {
            "colorbar": {
             "outlinewidth": 0,
             "ticks": ""
            },
            "colorscale": [
             [
              0,
              "#0d0887"
             ],
             [
              0.1111111111111111,
              "#46039f"
             ],
             [
              0.2222222222222222,
              "#7201a8"
             ],
             [
              0.3333333333333333,
              "#9c179e"
             ],
             [
              0.4444444444444444,
              "#bd3786"
             ],
             [
              0.5555555555555556,
              "#d8576b"
             ],
             [
              0.6666666666666666,
              "#ed7953"
             ],
             [
              0.7777777777777778,
              "#fb9f3a"
             ],
             [
              0.8888888888888888,
              "#fdca26"
             ],
             [
              1,
              "#f0f921"
             ]
            ],
            "type": "heatmapgl"
           }
          ],
          "histogram": [
           {
            "marker": {
             "pattern": {
              "fillmode": "overlay",
              "size": 10,
              "solidity": 0.2
             }
            },
            "type": "histogram"
           }
          ],
          "histogram2d": [
           {
            "colorbar": {
             "outlinewidth": 0,
             "ticks": ""
            },
            "colorscale": [
             [
              0,
              "#0d0887"
             ],
             [
              0.1111111111111111,
              "#46039f"
             ],
             [
              0.2222222222222222,
              "#7201a8"
             ],
             [
              0.3333333333333333,
              "#9c179e"
             ],
             [
              0.4444444444444444,
              "#bd3786"
             ],
             [
              0.5555555555555556,
              "#d8576b"
             ],
             [
              0.6666666666666666,
              "#ed7953"
             ],
             [
              0.7777777777777778,
              "#fb9f3a"
             ],
             [
              0.8888888888888888,
              "#fdca26"
             ],
             [
              1,
              "#f0f921"
             ]
            ],
            "type": "histogram2d"
           }
          ],
          "histogram2dcontour": [
           {
            "colorbar": {
             "outlinewidth": 0,
             "ticks": ""
            },
            "colorscale": [
             [
              0,
              "#0d0887"
             ],
             [
              0.1111111111111111,
              "#46039f"
             ],
             [
              0.2222222222222222,
              "#7201a8"
             ],
             [
              0.3333333333333333,
              "#9c179e"
             ],
             [
              0.4444444444444444,
              "#bd3786"
             ],
             [
              0.5555555555555556,
              "#d8576b"
             ],
             [
              0.6666666666666666,
              "#ed7953"
             ],
             [
              0.7777777777777778,
              "#fb9f3a"
             ],
             [
              0.8888888888888888,
              "#fdca26"
             ],
             [
              1,
              "#f0f921"
             ]
            ],
            "type": "histogram2dcontour"
           }
          ],
          "mesh3d": [
           {
            "colorbar": {
             "outlinewidth": 0,
             "ticks": ""
            },
            "type": "mesh3d"
           }
          ],
          "parcoords": [
           {
            "line": {
             "colorbar": {
              "outlinewidth": 0,
              "ticks": ""
             }
            },
            "type": "parcoords"
           }
          ],
          "pie": [
           {
            "automargin": true,
            "type": "pie"
           }
          ],
          "scatter": [
           {
            "fillpattern": {
             "fillmode": "overlay",
             "size": 10,
             "solidity": 0.2
            },
            "type": "scatter"
           }
          ],
          "scatter3d": [
           {
            "line": {
             "colorbar": {
              "outlinewidth": 0,
              "ticks": ""
             }
            },
            "marker": {
             "colorbar": {
              "outlinewidth": 0,
              "ticks": ""
             }
            },
            "type": "scatter3d"
           }
          ],
          "scattercarpet": [
           {
            "marker": {
             "colorbar": {
              "outlinewidth": 0,
              "ticks": ""
             }
            },
            "type": "scattercarpet"
           }
          ],
          "scattergeo": [
           {
            "marker": {
             "colorbar": {
              "outlinewidth": 0,
              "ticks": ""
             }
            },
            "type": "scattergeo"
           }
          ],
          "scattergl": [
           {
            "marker": {
             "colorbar": {
              "outlinewidth": 0,
              "ticks": ""
             }
            },
            "type": "scattergl"
           }
          ],
          "scattermapbox": [
           {
            "marker": {
             "colorbar": {
              "outlinewidth": 0,
              "ticks": ""
             }
            },
            "type": "scattermapbox"
           }
          ],
          "scatterpolar": [
           {
            "marker": {
             "colorbar": {
              "outlinewidth": 0,
              "ticks": ""
             }
            },
            "type": "scatterpolar"
           }
          ],
          "scatterpolargl": [
           {
            "marker": {
             "colorbar": {
              "outlinewidth": 0,
              "ticks": ""
             }
            },
            "type": "scatterpolargl"
           }
          ],
          "scatterternary": [
           {
            "marker": {
             "colorbar": {
              "outlinewidth": 0,
              "ticks": ""
             }
            },
            "type": "scatterternary"
           }
          ],
          "surface": [
           {
            "colorbar": {
             "outlinewidth": 0,
             "ticks": ""
            },
            "colorscale": [
             [
              0,
              "#0d0887"
             ],
             [
              0.1111111111111111,
              "#46039f"
             ],
             [
              0.2222222222222222,
              "#7201a8"
             ],
             [
              0.3333333333333333,
              "#9c179e"
             ],
             [
              0.4444444444444444,
              "#bd3786"
             ],
             [
              0.5555555555555556,
              "#d8576b"
             ],
             [
              0.6666666666666666,
              "#ed7953"
             ],
             [
              0.7777777777777778,
              "#fb9f3a"
             ],
             [
              0.8888888888888888,
              "#fdca26"
             ],
             [
              1,
              "#f0f921"
             ]
            ],
            "type": "surface"
           }
          ],
          "table": [
           {
            "cells": {
             "fill": {
              "color": "#EBF0F8"
             },
             "line": {
              "color": "white"
             }
            },
            "header": {
             "fill": {
              "color": "#C8D4E3"
             },
             "line": {
              "color": "white"
             }
            },
            "type": "table"
           }
          ]
         },
         "layout": {
          "annotationdefaults": {
           "arrowcolor": "#2a3f5f",
           "arrowhead": 0,
           "arrowwidth": 1
          },
          "autotypenumbers": "strict",
          "coloraxis": {
           "colorbar": {
            "outlinewidth": 0,
            "ticks": ""
           }
          },
          "colorscale": {
           "diverging": [
            [
             0,
             "#8e0152"
            ],
            [
             0.1,
             "#c51b7d"
            ],
            [
             0.2,
             "#de77ae"
            ],
            [
             0.3,
             "#f1b6da"
            ],
            [
             0.4,
             "#fde0ef"
            ],
            [
             0.5,
             "#f7f7f7"
            ],
            [
             0.6,
             "#e6f5d0"
            ],
            [
             0.7,
             "#b8e186"
            ],
            [
             0.8,
             "#7fbc41"
            ],
            [
             0.9,
             "#4d9221"
            ],
            [
             1,
             "#276419"
            ]
           ],
           "sequential": [
            [
             0,
             "#0d0887"
            ],
            [
             0.1111111111111111,
             "#46039f"
            ],
            [
             0.2222222222222222,
             "#7201a8"
            ],
            [
             0.3333333333333333,
             "#9c179e"
            ],
            [
             0.4444444444444444,
             "#bd3786"
            ],
            [
             0.5555555555555556,
             "#d8576b"
            ],
            [
             0.6666666666666666,
             "#ed7953"
            ],
            [
             0.7777777777777778,
             "#fb9f3a"
            ],
            [
             0.8888888888888888,
             "#fdca26"
            ],
            [
             1,
             "#f0f921"
            ]
           ],
           "sequentialminus": [
            [
             0,
             "#0d0887"
            ],
            [
             0.1111111111111111,
             "#46039f"
            ],
            [
             0.2222222222222222,
             "#7201a8"
            ],
            [
             0.3333333333333333,
             "#9c179e"
            ],
            [
             0.4444444444444444,
             "#bd3786"
            ],
            [
             0.5555555555555556,
             "#d8576b"
            ],
            [
             0.6666666666666666,
             "#ed7953"
            ],
            [
             0.7777777777777778,
             "#fb9f3a"
            ],
            [
             0.8888888888888888,
             "#fdca26"
            ],
            [
             1,
             "#f0f921"
            ]
           ]
          },
          "colorway": [
           "#636efa",
           "#EF553B",
           "#00cc96",
           "#ab63fa",
           "#FFA15A",
           "#19d3f3",
           "#FF6692",
           "#B6E880",
           "#FF97FF",
           "#FECB52"
          ],
          "font": {
           "color": "#2a3f5f"
          },
          "geo": {
           "bgcolor": "white",
           "lakecolor": "white",
           "landcolor": "#E5ECF6",
           "showlakes": true,
           "showland": true,
           "subunitcolor": "white"
          },
          "hoverlabel": {
           "align": "left"
          },
          "hovermode": "closest",
          "mapbox": {
           "style": "light"
          },
          "paper_bgcolor": "white",
          "plot_bgcolor": "#E5ECF6",
          "polar": {
           "angularaxis": {
            "gridcolor": "white",
            "linecolor": "white",
            "ticks": ""
           },
           "bgcolor": "#E5ECF6",
           "radialaxis": {
            "gridcolor": "white",
            "linecolor": "white",
            "ticks": ""
           }
          },
          "scene": {
           "xaxis": {
            "backgroundcolor": "#E5ECF6",
            "gridcolor": "white",
            "gridwidth": 2,
            "linecolor": "white",
            "showbackground": true,
            "ticks": "",
            "zerolinecolor": "white"
           },
           "yaxis": {
            "backgroundcolor": "#E5ECF6",
            "gridcolor": "white",
            "gridwidth": 2,
            "linecolor": "white",
            "showbackground": true,
            "ticks": "",
            "zerolinecolor": "white"
           },
           "zaxis": {
            "backgroundcolor": "#E5ECF6",
            "gridcolor": "white",
            "gridwidth": 2,
            "linecolor": "white",
            "showbackground": true,
            "ticks": "",
            "zerolinecolor": "white"
           }
          },
          "shapedefaults": {
           "line": {
            "color": "#2a3f5f"
           }
          },
          "ternary": {
           "aaxis": {
            "gridcolor": "white",
            "linecolor": "white",
            "ticks": ""
           },
           "baxis": {
            "gridcolor": "white",
            "linecolor": "white",
            "ticks": ""
           },
           "bgcolor": "#E5ECF6",
           "caxis": {
            "gridcolor": "white",
            "linecolor": "white",
            "ticks": ""
           }
          },
          "title": {
           "x": 0.05
          },
          "xaxis": {
           "automargin": true,
           "gridcolor": "white",
           "linecolor": "white",
           "ticks": "",
           "title": {
            "standoff": 15
           },
           "zerolinecolor": "white",
           "zerolinewidth": 2
          },
          "yaxis": {
           "automargin": true,
           "gridcolor": "white",
           "linecolor": "white",
           "ticks": "",
           "title": {
            "standoff": 15
           },
           "zerolinecolor": "white",
           "zerolinewidth": 2
          }
         }
        },
        "title": {
         "text": "Зависимость количества итераций обучения от коэффициента обучения"
        },
        "width": 1280,
        "xaxis": {
         "title": {
          "text": "Значение коэффициента обучения"
         }
        },
        "yaxis": {
         "title": {
          "text": "Количество итераций обучения"
         }
        }
       }
      }
     },
     "metadata": {},
     "output_type": "display_data"
    }
   ],
   "source": [
    "alphas = np.linspace(0.0001, 0.003, endpoint=True, num=10)\n",
    "all_alphas: list[float] = []\n",
    "epochs_amount_mean: list[int] = []\n",
    "epochs_amount: list[int] = []\n",
    "fig = go.Figure()\n",
    "experiments_amount = 5\n",
    "for alpha in alphas:\n",
    "    epoch_sum = 0\n",
    "    for i in range(experiments_amount):\n",
    "        all_alphas.append(alpha)        \n",
    "        dl = LRNN(n, 20, alpha)\n",
    "        dl.train(train, 15000, learn_by_loss=True, max_loss=1500)\n",
    "        epoch_sum += dl.epoch\n",
    "        epochs_amount.append(dl.epoch)\n",
    "    epochs_amount_mean.append(epoch_sum / experiments_amount)\n",
    "fig.add_trace(go.Scatter(x=all_alphas, y=epochs_amount, mode='markers',\n",
    "                         name='Все наблюдения'))\n",
    "fig.add_trace(go.Scatter(x=alphas, y=epochs_amount_mean, mode='lines+markers',\n",
    "                         name='Средние значения'))\n",
    "fig.update_layout(title='Зависимость количества итераций обучения от коэффициента обучения',\n",
    "                  xaxis_title='Значение коэффициента обучения',\n",
    "                  yaxis_title='Количество итераций обучения',\n",
    "                  height=720, width=1280,\n",
    "                  font=dict(size=20))\n",
    "fig.show()"
   ]
  },
  {
   "cell_type": "markdown",
   "metadata": {},
   "source": [
    "## Relationship between hidden layer dimension and epochs"
   ]
  },
  {
   "cell_type": "code",
   "execution_count": 16,
   "metadata": {},
   "outputs": [
    {
     "name": "stdout",
     "output_type": "stream",
     "text": [
      "Epoch 1/15000, Loss: 2905.336631708075\n",
      "Epoch 2/15000, Loss: 2447.1332908461727\n",
      "Epoch 3/15000, Loss: 2284.25349906017\n",
      "Epoch 4/15000, Loss: 2190.9310194517234\n",
      "Epoch 5/15000, Loss: 2129.7326431857314\n",
      "Epoch 6/15000, Loss: 2086.9878167441925\n",
      "Epoch 7/15000, Loss: 2055.825687123712\n",
      "Epoch 8/15000, Loss: 2032.3437950244195\n",
      "Epoch 9/15000, Loss: 2014.1686277967362\n",
      "Epoch 10/15000, Loss: 1999.7816995110911\n",
      "Epoch 11/15000, Loss: 1988.168523058829\n",
      "Epoch 12/15000, Loss: 1978.6290092480344\n",
      "Epoch 13/15000, Loss: 1970.6648622646069\n",
      "Epoch 14/15000, Loss: 1963.9152391139148\n",
      "Epoch 15/15000, Loss: 1958.112702775272\n",
      "Epoch 16/15000, Loss: 1953.0560447023947\n",
      "Epoch 17/15000, Loss: 1948.5924615437903\n",
      "Epoch 18/15000, Loss: 1944.604160679691\n",
      "Epoch 19/15000, Loss: 1940.998816441792\n",
      "Epoch 20/15000, Loss: 1937.7047570030998\n",
      "Epoch 21/15000, Loss: 1934.6646076669717\n",
      "Epoch 22/15000, Loss: 1931.8319539695385\n",
      "Epoch 23/15000, Loss: 1929.1700005471669\n",
      "Epoch 24/15000, Loss: 1926.6481109458834\n",
      "Epoch 25/15000, Loss: 1924.2418810510087\n",
      "Epoch 26/15000, Loss: 1921.930340884208\n",
      "Epoch 27/15000, Loss: 1919.69606773501\n",
      "Epoch 28/15000, Loss: 1917.5251579052601\n",
      "Epoch 29/15000, Loss: 1915.4051277134915\n",
      "Epoch 30/15000, Loss: 1913.3257670322837\n",
      "Epoch 31/15000, Loss: 1911.2781329544505\n",
      "Epoch 32/15000, Loss: 1909.2545787275265\n",
      "Epoch 33/15000, Loss: 1907.2483084617393\n",
      "Epoch 34/15000, Loss: 1905.2538567942765\n",
      "Epoch 35/15000, Loss: 1903.2662152433513\n",
      "Epoch 36/15000, Loss: 1901.2804658837147\n",
      "Epoch 37/15000, Loss: 1899.2931535432344\n",
      "Epoch 1/15000, Loss: 3127.350144976552\n",
      "Epoch 2/15000, Loss: 2409.324949514895\n",
      "Epoch 3/15000, Loss: 2206.022467784765\n",
      "Epoch 4/15000, Loss: 2112.419020558577\n",
      "Epoch 5/15000, Loss: 2058.4003593648076\n",
      "Epoch 6/15000, Loss: 2022.9153405717068\n",
      "Epoch 7/15000, Loss: 1997.5293473156523\n",
      "Epoch 8/15000, Loss: 1978.2229540770268\n",
      "Epoch 9/15000, Loss: 1962.8447472465946\n",
      "Epoch 10/15000, Loss: 1950.141005609763\n",
      "Epoch 11/15000, Loss: 1939.331384876396\n",
      "Epoch 12/15000, Loss: 1929.9050972893165\n",
      "Epoch 13/15000, Loss: 1921.5132275585738\n",
      "Epoch 14/15000, Loss: 1913.9080795802477\n",
      "Epoch 15/15000, Loss: 1906.9092455245645\n",
      "Epoch 16/15000, Loss: 1900.381968394405\n",
      "Epoch 17/15000, Loss: 1894.2232191427174\n",
      "Epoch 1/15000, Loss: 2398.0575506948617\n",
      "Epoch 2/15000, Loss: 2210.8476714566245\n",
      "Epoch 3/15000, Loss: 2127.8905453637976\n",
      "Epoch 4/15000, Loss: 2074.8417765692666\n",
      "Epoch 5/15000, Loss: 2035.9820051637985\n",
      "Epoch 6/15000, Loss: 2005.2140045703418\n",
      "Epoch 7/15000, Loss: 1979.5699140294832\n",
      "Epoch 8/15000, Loss: 1957.3975473140347\n",
      "Epoch 9/15000, Loss: 1937.6850317852482\n",
      "Epoch 10/15000, Loss: 1919.7720894194572\n",
      "Epoch 11/15000, Loss: 1903.2059870874023\n",
      "Epoch 12/15000, Loss: 1887.6632802337244\n",
      "Epoch 1/15000, Loss: 1875.1745580824759\n",
      "Epoch 1/15000, Loss: 1885.1551268378885\n",
      "Epoch 1/15000, Loss: 1856.2747357186956\n",
      "Epoch 1/15000, Loss: 1922.859513426343\n",
      "Epoch 2/15000, Loss: 1852.2508421907635\n",
      "Epoch 1/15000, Loss: 1995.8628508982547\n",
      "Epoch 2/15000, Loss: 1883.3999853582282\n"
     ]
    },
    {
     "data": {
      "application/vnd.plotly.v1+json": {
       "config": {
        "plotlyServerURL": "https://plot.ly"
       },
       "data": [
        {
         "mode": "lines+markers",
         "type": "scatter",
         "x": [
          3.98851308232291,
          3.023705853894533,
          2.4347487339306584,
          2.0378219758721876,
          1.7521726941407345,
          1.5367592820260634,
          1.368513247208233,
          1.2334714821393329
         ],
         "y": [
          37,
          17,
          12,
          1,
          1,
          1,
          2,
          2
         ]
        }
       ],
       "layout": {
        "font": {
         "size": 20
        },
        "height": 720,
        "template": {
         "data": {
          "bar": [
           {
            "error_x": {
             "color": "#2a3f5f"
            },
            "error_y": {
             "color": "#2a3f5f"
            },
            "marker": {
             "line": {
              "color": "#E5ECF6",
              "width": 0.5
             },
             "pattern": {
              "fillmode": "overlay",
              "size": 10,
              "solidity": 0.2
             }
            },
            "type": "bar"
           }
          ],
          "barpolar": [
           {
            "marker": {
             "line": {
              "color": "#E5ECF6",
              "width": 0.5
             },
             "pattern": {
              "fillmode": "overlay",
              "size": 10,
              "solidity": 0.2
             }
            },
            "type": "barpolar"
           }
          ],
          "carpet": [
           {
            "aaxis": {
             "endlinecolor": "#2a3f5f",
             "gridcolor": "white",
             "linecolor": "white",
             "minorgridcolor": "white",
             "startlinecolor": "#2a3f5f"
            },
            "baxis": {
             "endlinecolor": "#2a3f5f",
             "gridcolor": "white",
             "linecolor": "white",
             "minorgridcolor": "white",
             "startlinecolor": "#2a3f5f"
            },
            "type": "carpet"
           }
          ],
          "choropleth": [
           {
            "colorbar": {
             "outlinewidth": 0,
             "ticks": ""
            },
            "type": "choropleth"
           }
          ],
          "contour": [
           {
            "colorbar": {
             "outlinewidth": 0,
             "ticks": ""
            },
            "colorscale": [
             [
              0,
              "#0d0887"
             ],
             [
              0.1111111111111111,
              "#46039f"
             ],
             [
              0.2222222222222222,
              "#7201a8"
             ],
             [
              0.3333333333333333,
              "#9c179e"
             ],
             [
              0.4444444444444444,
              "#bd3786"
             ],
             [
              0.5555555555555556,
              "#d8576b"
             ],
             [
              0.6666666666666666,
              "#ed7953"
             ],
             [
              0.7777777777777778,
              "#fb9f3a"
             ],
             [
              0.8888888888888888,
              "#fdca26"
             ],
             [
              1,
              "#f0f921"
             ]
            ],
            "type": "contour"
           }
          ],
          "contourcarpet": [
           {
            "colorbar": {
             "outlinewidth": 0,
             "ticks": ""
            },
            "type": "contourcarpet"
           }
          ],
          "heatmap": [
           {
            "colorbar": {
             "outlinewidth": 0,
             "ticks": ""
            },
            "colorscale": [
             [
              0,
              "#0d0887"
             ],
             [
              0.1111111111111111,
              "#46039f"
             ],
             [
              0.2222222222222222,
              "#7201a8"
             ],
             [
              0.3333333333333333,
              "#9c179e"
             ],
             [
              0.4444444444444444,
              "#bd3786"
             ],
             [
              0.5555555555555556,
              "#d8576b"
             ],
             [
              0.6666666666666666,
              "#ed7953"
             ],
             [
              0.7777777777777778,
              "#fb9f3a"
             ],
             [
              0.8888888888888888,
              "#fdca26"
             ],
             [
              1,
              "#f0f921"
             ]
            ],
            "type": "heatmap"
           }
          ],
          "heatmapgl": [
           {
            "colorbar": {
             "outlinewidth": 0,
             "ticks": ""
            },
            "colorscale": [
             [
              0,
              "#0d0887"
             ],
             [
              0.1111111111111111,
              "#46039f"
             ],
             [
              0.2222222222222222,
              "#7201a8"
             ],
             [
              0.3333333333333333,
              "#9c179e"
             ],
             [
              0.4444444444444444,
              "#bd3786"
             ],
             [
              0.5555555555555556,
              "#d8576b"
             ],
             [
              0.6666666666666666,
              "#ed7953"
             ],
             [
              0.7777777777777778,
              "#fb9f3a"
             ],
             [
              0.8888888888888888,
              "#fdca26"
             ],
             [
              1,
              "#f0f921"
             ]
            ],
            "type": "heatmapgl"
           }
          ],
          "histogram": [
           {
            "marker": {
             "pattern": {
              "fillmode": "overlay",
              "size": 10,
              "solidity": 0.2
             }
            },
            "type": "histogram"
           }
          ],
          "histogram2d": [
           {
            "colorbar": {
             "outlinewidth": 0,
             "ticks": ""
            },
            "colorscale": [
             [
              0,
              "#0d0887"
             ],
             [
              0.1111111111111111,
              "#46039f"
             ],
             [
              0.2222222222222222,
              "#7201a8"
             ],
             [
              0.3333333333333333,
              "#9c179e"
             ],
             [
              0.4444444444444444,
              "#bd3786"
             ],
             [
              0.5555555555555556,
              "#d8576b"
             ],
             [
              0.6666666666666666,
              "#ed7953"
             ],
             [
              0.7777777777777778,
              "#fb9f3a"
             ],
             [
              0.8888888888888888,
              "#fdca26"
             ],
             [
              1,
              "#f0f921"
             ]
            ],
            "type": "histogram2d"
           }
          ],
          "histogram2dcontour": [
           {
            "colorbar": {
             "outlinewidth": 0,
             "ticks": ""
            },
            "colorscale": [
             [
              0,
              "#0d0887"
             ],
             [
              0.1111111111111111,
              "#46039f"
             ],
             [
              0.2222222222222222,
              "#7201a8"
             ],
             [
              0.3333333333333333,
              "#9c179e"
             ],
             [
              0.4444444444444444,
              "#bd3786"
             ],
             [
              0.5555555555555556,
              "#d8576b"
             ],
             [
              0.6666666666666666,
              "#ed7953"
             ],
             [
              0.7777777777777778,
              "#fb9f3a"
             ],
             [
              0.8888888888888888,
              "#fdca26"
             ],
             [
              1,
              "#f0f921"
             ]
            ],
            "type": "histogram2dcontour"
           }
          ],
          "mesh3d": [
           {
            "colorbar": {
             "outlinewidth": 0,
             "ticks": ""
            },
            "type": "mesh3d"
           }
          ],
          "parcoords": [
           {
            "line": {
             "colorbar": {
              "outlinewidth": 0,
              "ticks": ""
             }
            },
            "type": "parcoords"
           }
          ],
          "pie": [
           {
            "automargin": true,
            "type": "pie"
           }
          ],
          "scatter": [
           {
            "fillpattern": {
             "fillmode": "overlay",
             "size": 10,
             "solidity": 0.2
            },
            "type": "scatter"
           }
          ],
          "scatter3d": [
           {
            "line": {
             "colorbar": {
              "outlinewidth": 0,
              "ticks": ""
             }
            },
            "marker": {
             "colorbar": {
              "outlinewidth": 0,
              "ticks": ""
             }
            },
            "type": "scatter3d"
           }
          ],
          "scattercarpet": [
           {
            "marker": {
             "colorbar": {
              "outlinewidth": 0,
              "ticks": ""
             }
            },
            "type": "scattercarpet"
           }
          ],
          "scattergeo": [
           {
            "marker": {
             "colorbar": {
              "outlinewidth": 0,
              "ticks": ""
             }
            },
            "type": "scattergeo"
           }
          ],
          "scattergl": [
           {
            "marker": {
             "colorbar": {
              "outlinewidth": 0,
              "ticks": ""
             }
            },
            "type": "scattergl"
           }
          ],
          "scattermapbox": [
           {
            "marker": {
             "colorbar": {
              "outlinewidth": 0,
              "ticks": ""
             }
            },
            "type": "scattermapbox"
           }
          ],
          "scatterpolar": [
           {
            "marker": {
             "colorbar": {
              "outlinewidth": 0,
              "ticks": ""
             }
            },
            "type": "scatterpolar"
           }
          ],
          "scatterpolargl": [
           {
            "marker": {
             "colorbar": {
              "outlinewidth": 0,
              "ticks": ""
             }
            },
            "type": "scatterpolargl"
           }
          ],
          "scatterternary": [
           {
            "marker": {
             "colorbar": {
              "outlinewidth": 0,
              "ticks": ""
             }
            },
            "type": "scatterternary"
           }
          ],
          "surface": [
           {
            "colorbar": {
             "outlinewidth": 0,
             "ticks": ""
            },
            "colorscale": [
             [
              0,
              "#0d0887"
             ],
             [
              0.1111111111111111,
              "#46039f"
             ],
             [
              0.2222222222222222,
              "#7201a8"
             ],
             [
              0.3333333333333333,
              "#9c179e"
             ],
             [
              0.4444444444444444,
              "#bd3786"
             ],
             [
              0.5555555555555556,
              "#d8576b"
             ],
             [
              0.6666666666666666,
              "#ed7953"
             ],
             [
              0.7777777777777778,
              "#fb9f3a"
             ],
             [
              0.8888888888888888,
              "#fdca26"
             ],
             [
              1,
              "#f0f921"
             ]
            ],
            "type": "surface"
           }
          ],
          "table": [
           {
            "cells": {
             "fill": {
              "color": "#EBF0F8"
             },
             "line": {
              "color": "white"
             }
            },
            "header": {
             "fill": {
              "color": "#C8D4E3"
             },
             "line": {
              "color": "white"
             }
            },
            "type": "table"
           }
          ]
         },
         "layout": {
          "annotationdefaults": {
           "arrowcolor": "#2a3f5f",
           "arrowhead": 0,
           "arrowwidth": 1
          },
          "autotypenumbers": "strict",
          "coloraxis": {
           "colorbar": {
            "outlinewidth": 0,
            "ticks": ""
           }
          },
          "colorscale": {
           "diverging": [
            [
             0,
             "#8e0152"
            ],
            [
             0.1,
             "#c51b7d"
            ],
            [
             0.2,
             "#de77ae"
            ],
            [
             0.3,
             "#f1b6da"
            ],
            [
             0.4,
             "#fde0ef"
            ],
            [
             0.5,
             "#f7f7f7"
            ],
            [
             0.6,
             "#e6f5d0"
            ],
            [
             0.7,
             "#b8e186"
            ],
            [
             0.8,
             "#7fbc41"
            ],
            [
             0.9,
             "#4d9221"
            ],
            [
             1,
             "#276419"
            ]
           ],
           "sequential": [
            [
             0,
             "#0d0887"
            ],
            [
             0.1111111111111111,
             "#46039f"
            ],
            [
             0.2222222222222222,
             "#7201a8"
            ],
            [
             0.3333333333333333,
             "#9c179e"
            ],
            [
             0.4444444444444444,
             "#bd3786"
            ],
            [
             0.5555555555555556,
             "#d8576b"
            ],
            [
             0.6666666666666666,
             "#ed7953"
            ],
            [
             0.7777777777777778,
             "#fb9f3a"
            ],
            [
             0.8888888888888888,
             "#fdca26"
            ],
            [
             1,
             "#f0f921"
            ]
           ],
           "sequentialminus": [
            [
             0,
             "#0d0887"
            ],
            [
             0.1111111111111111,
             "#46039f"
            ],
            [
             0.2222222222222222,
             "#7201a8"
            ],
            [
             0.3333333333333333,
             "#9c179e"
            ],
            [
             0.4444444444444444,
             "#bd3786"
            ],
            [
             0.5555555555555556,
             "#d8576b"
            ],
            [
             0.6666666666666666,
             "#ed7953"
            ],
            [
             0.7777777777777778,
             "#fb9f3a"
            ],
            [
             0.8888888888888888,
             "#fdca26"
            ],
            [
             1,
             "#f0f921"
            ]
           ]
          },
          "colorway": [
           "#636efa",
           "#EF553B",
           "#00cc96",
           "#ab63fa",
           "#FFA15A",
           "#19d3f3",
           "#FF6692",
           "#B6E880",
           "#FF97FF",
           "#FECB52"
          ],
          "font": {
           "color": "#2a3f5f"
          },
          "geo": {
           "bgcolor": "white",
           "lakecolor": "white",
           "landcolor": "#E5ECF6",
           "showlakes": true,
           "showland": true,
           "subunitcolor": "white"
          },
          "hoverlabel": {
           "align": "left"
          },
          "hovermode": "closest",
          "mapbox": {
           "style": "light"
          },
          "paper_bgcolor": "white",
          "plot_bgcolor": "#E5ECF6",
          "polar": {
           "angularaxis": {
            "gridcolor": "white",
            "linecolor": "white",
            "ticks": ""
           },
           "bgcolor": "#E5ECF6",
           "radialaxis": {
            "gridcolor": "white",
            "linecolor": "white",
            "ticks": ""
           }
          },
          "scene": {
           "xaxis": {
            "backgroundcolor": "#E5ECF6",
            "gridcolor": "white",
            "gridwidth": 2,
            "linecolor": "white",
            "showbackground": true,
            "ticks": "",
            "zerolinecolor": "white"
           },
           "yaxis": {
            "backgroundcolor": "#E5ECF6",
            "gridcolor": "white",
            "gridwidth": 2,
            "linecolor": "white",
            "showbackground": true,
            "ticks": "",
            "zerolinecolor": "white"
           },
           "zaxis": {
            "backgroundcolor": "#E5ECF6",
            "gridcolor": "white",
            "gridwidth": 2,
            "linecolor": "white",
            "showbackground": true,
            "ticks": "",
            "zerolinecolor": "white"
           }
          },
          "shapedefaults": {
           "line": {
            "color": "#2a3f5f"
           }
          },
          "ternary": {
           "aaxis": {
            "gridcolor": "white",
            "linecolor": "white",
            "ticks": ""
           },
           "baxis": {
            "gridcolor": "white",
            "linecolor": "white",
            "ticks": ""
           },
           "bgcolor": "#E5ECF6",
           "caxis": {
            "gridcolor": "white",
            "linecolor": "white",
            "ticks": ""
           }
          },
          "title": {
           "x": 0.05
          },
          "xaxis": {
           "automargin": true,
           "gridcolor": "white",
           "linecolor": "white",
           "ticks": "",
           "title": {
            "standoff": 15
           },
           "zerolinecolor": "white",
           "zerolinewidth": 2
          },
          "yaxis": {
           "automargin": true,
           "gridcolor": "white",
           "linecolor": "white",
           "ticks": "",
           "title": {
            "standoff": 15
           },
           "zerolinecolor": "white",
           "zerolinewidth": 2
          }
         }
        },
        "title": {
         "text": "Зависимость количества итераций обучения от коэффициента сжатия"
        },
        "width": 1280,
        "xaxis": {
         "title": {
          "text": "Коэффициент сжатия"
         }
        },
        "yaxis": {
         "title": {
          "text": "Количество итераций обучения"
         }
        }
       }
      }
     },
     "metadata": {},
     "output_type": "display_data"
    }
   ],
   "source": [
    "p_s = (6, 8, 10, 12, 14, 16, 18, 20)\n",
    "epochs_amount: list[int] = []\n",
    "compression_rates: list[float] = []\n",
    "for p in p_s:    \n",
    "    dl = LRNN(n, p, 0.001)\n",
    "    dl.train(train, 15000, learn_by_loss=True, max_loss=1900)\n",
    "    epochs_amount.append(dl.epoch)\n",
    "\n",
    "    compressed = compress_image(dl.W_enc, img_array, COLOR_CHANNELS_AMOUNT, block_height, block_width, 0)\n",
    "    compression_info_size = (\n",
    "        compressed.size * compressed.itemsize +\n",
    "        network.W_dec.size * network.W_dec.itemsize +\n",
    "        np.array(shape).size * np.array(shape).itemsize +\n",
    "        np.array((block_height, block_width)).size * np.array((block_height, block_width)).itemsize \n",
    "    ) * 8\n",
    "    compression_rates.append((img_array.size * img_array.itemsize * 8) / compression_info_size)\n",
    "\n",
    "fig = go.Figure()\n",
    "fig.add_trace(go.Scatter(x=compression_rates, y=epochs_amount, mode='lines+markers'))\n",
    "fig.update_layout(title='Зависимость количества итераций обучения от коэффициента сжатия',\n",
    "                  xaxis_title='Коэффициент сжатия',\n",
    "                  yaxis_title='Количество итераций обучения',\n",
    "                  height=720, width=1280,\n",
    "                  font=dict(size=20))\n",
    "fig.show()"
   ]
  },
  {
   "cell_type": "code",
   "execution_count": 17,
   "metadata": {},
   "outputs": [
    {
     "name": "stdout",
     "output_type": "stream",
     "text": [
      "Epoch 1/15000, Loss: 2887.751656245122\n",
      "Epoch 2/15000, Loss: 2412.364638168766\n",
      "Epoch 3/15000, Loss: 2256.873892526733\n",
      "Epoch 4/15000, Loss: 2171.6807095244603\n",
      "Epoch 5/15000, Loss: 2115.900977961093\n",
      "Epoch 6/15000, Loss: 2076.452038274721\n",
      "Epoch 7/15000, Loss: 2047.2822523657453\n",
      "Epoch 8/15000, Loss: 2025.0335775253814\n",
      "Epoch 9/15000, Loss: 2007.6488667218982\n",
      "Epoch 10/15000, Loss: 1993.7869058139029\n",
      "Epoch 11/15000, Loss: 1982.5343943117173\n",
      "Epoch 12/15000, Loss: 1973.2493550669528\n",
      "Epoch 13/15000, Loss: 1965.4681687628872\n",
      "Epoch 14/15000, Loss: 1958.85196898779\n",
      "Epoch 15/15000, Loss: 1953.1471601789353\n",
      "Epoch 16/15000, Loss: 1948.1618637062963\n",
      "Epoch 17/15000, Loss: 1943.749956781282\n",
      "Epoch 18/15000, Loss: 1939.798019147388\n",
      "Epoch 19/15000, Loss: 1936.2175609027222\n",
      "Epoch 20/15000, Loss: 1932.9385973325534\n",
      "Epoch 21/15000, Loss: 1929.9053491155773\n",
      "Epoch 22/15000, Loss: 1927.073519704118\n",
      "Epoch 23/15000, Loss: 1924.4069876351446\n",
      "Epoch 24/15000, Loss: 1921.8764969204442\n",
      "Epoch 25/15000, Loss: 1919.4574660720677\n",
      "Epoch 26/15000, Loss: 1917.1299159027167\n",
      "Epoch 27/15000, Loss: 1914.8768976495405\n",
      "Epoch 28/15000, Loss: 1912.6843990590548\n",
      "Epoch 29/15000, Loss: 1910.5404801207278\n",
      "Epoch 30/15000, Loss: 1908.4351230342152\n",
      "Epoch 31/15000, Loss: 1906.3585456873127\n",
      "Epoch 32/15000, Loss: 1904.3041940726584\n",
      "Epoch 33/15000, Loss: 1902.2648566694106\n",
      "Epoch 34/15000, Loss: 1900.23463108126\n",
      "Epoch 35/15000, Loss: 1898.2085176483508\n",
      "Epoch 36/15000, Loss: 1896.1820147935296\n",
      "Epoch 37/15000, Loss: 1894.1509390286242\n",
      "Epoch 38/15000, Loss: 1892.1114002601337\n",
      "Epoch 39/15000, Loss: 1890.0599051648778\n",
      "Epoch 40/15000, Loss: 1887.9937657969283\n",
      "Epoch 41/15000, Loss: 1885.9100180652629\n",
      "Epoch 42/15000, Loss: 1883.8059248202837\n",
      "Epoch 43/15000, Loss: 1881.6793352145633\n",
      "Epoch 44/15000, Loss: 1879.5278481124637\n",
      "Epoch 45/15000, Loss: 1877.3493352950707\n",
      "Epoch 46/15000, Loss: 1875.1422743070364\n",
      "Epoch 47/15000, Loss: 1872.9043430590377\n",
      "Epoch 48/15000, Loss: 1870.6338945088405\n",
      "Epoch 49/15000, Loss: 1868.3296041934027\n",
      "Epoch 50/15000, Loss: 1865.9898896063662\n",
      "Epoch 51/15000, Loss: 1863.6131487624657\n",
      "Epoch 52/15000, Loss: 1861.1981790871403\n",
      "Epoch 53/15000, Loss: 1858.7435055158421\n",
      "Epoch 54/15000, Loss: 1856.2483208415028\n",
      "Epoch 55/15000, Loss: 1853.7111567056681\n",
      "Epoch 56/15000, Loss: 1851.1309188389553\n",
      "Epoch 57/15000, Loss: 1848.5068361475096\n",
      "Epoch 58/15000, Loss: 1845.8378349442442\n",
      "Epoch 59/15000, Loss: 1843.1232968123206\n",
      "Epoch 60/15000, Loss: 1840.3622940087216\n",
      "Epoch 61/15000, Loss: 1837.5537269568456\n",
      "Epoch 62/15000, Loss: 1834.6976310261125\n",
      "Epoch 63/15000, Loss: 1831.7931345325935\n",
      "Epoch 64/15000, Loss: 1828.839696458426\n",
      "Epoch 65/15000, Loss: 1825.837082282578\n",
      "Epoch 66/15000, Loss: 1822.784642572709\n",
      "Epoch 67/15000, Loss: 1819.6824124718646\n",
      "Epoch 68/15000, Loss: 1816.5303138371103\n",
      "Epoch 69/15000, Loss: 1813.3280940676318\n",
      "Epoch 70/15000, Loss: 1810.0759188318\n",
      "Epoch 71/15000, Loss: 1806.7736551578093\n",
      "Epoch 72/15000, Loss: 1803.4220523479673\n",
      "Epoch 73/15000, Loss: 1800.021053423026\n",
      "Epoch 74/15000, Loss: 1796.5710302007267\n",
      "Epoch 75/15000, Loss: 1793.072498823547\n",
      "Epoch 76/15000, Loss: 1789.5263964176052\n",
      "Epoch 77/15000, Loss: 1785.933304497395\n",
      "Epoch 78/15000, Loss: 1782.2942968441641\n",
      "Epoch 79/15000, Loss: 1778.6099411179089\n",
      "Epoch 80/15000, Loss: 1774.8816979089365\n",
      "Epoch 81/15000, Loss: 1771.1104499305427\n",
      "Epoch 82/15000, Loss: 1767.2976444668984\n",
      "Epoch 83/15000, Loss: 1763.4450020621248\n",
      "Epoch 84/15000, Loss: 1759.5538474111192\n",
      "Epoch 85/15000, Loss: 1755.6255886318477\n",
      "Epoch 86/15000, Loss: 1751.662209282903\n",
      "Epoch 87/15000, Loss: 1747.6655205184777\n",
      "Epoch 88/15000, Loss: 1743.6374345250563\n",
      "Epoch 89/15000, Loss: 1739.5802706261325\n",
      "Epoch 90/15000, Loss: 1735.4955987425933\n",
      "Epoch 91/15000, Loss: 1731.3860750366416\n",
      "Epoch 92/15000, Loss: 1727.2539829771722\n",
      "Epoch 93/15000, Loss: 1723.101406755138\n",
      "Epoch 94/15000, Loss: 1718.930875580757\n",
      "Epoch 95/15000, Loss: 1714.7449956675168\n",
      "Epoch 96/15000, Loss: 1710.5462659688428\n",
      "Epoch 97/15000, Loss: 1706.336756969657\n",
      "Epoch 98/15000, Loss: 1702.1196035738026\n",
      "Epoch 99/15000, Loss: 1697.8973011208109\n",
      "Epoch 100/15000, Loss: 1693.6722504322834\n",
      "Epoch 101/15000, Loss: 1689.4471296678116\n",
      "Epoch 102/15000, Loss: 1685.224674374424\n",
      "Epoch 103/15000, Loss: 1681.007214865107\n",
      "Epoch 104/15000, Loss: 1676.7973539908241\n",
      "Epoch 105/15000, Loss: 1672.5976222269155\n",
      "Epoch 106/15000, Loss: 1668.4107733868764\n",
      "Epoch 107/15000, Loss: 1664.2388518516454\n",
      "Epoch 108/15000, Loss: 1660.0839058620559\n",
      "Epoch 109/15000, Loss: 1655.948831596354\n",
      "Epoch 110/15000, Loss: 1651.8354555641242\n",
      "Epoch 111/15000, Loss: 1647.745993533475\n",
      "Epoch 112/15000, Loss: 1643.6823109889287\n",
      "Epoch 113/15000, Loss: 1639.6461634249124\n",
      "Epoch 114/15000, Loss: 1635.6396202616534\n",
      "Epoch 115/15000, Loss: 1631.664697095706\n",
      "Epoch 116/15000, Loss: 1627.7222790109695\n",
      "Epoch 117/15000, Loss: 1623.814381792147\n",
      "Epoch 118/15000, Loss: 1619.9420390848388\n",
      "Epoch 119/15000, Loss: 1616.1066743892334\n",
      "Epoch 120/15000, Loss: 1612.3095504349512\n",
      "Epoch 121/15000, Loss: 1608.5517050219987\n",
      "Epoch 122/15000, Loss: 1604.8336648584109\n",
      "Epoch 123/15000, Loss: 1601.1566387760545\n",
      "Epoch 124/15000, Loss: 1597.5210088640695\n",
      "Epoch 125/15000, Loss: 1593.9279463924981\n",
      "Epoch 126/15000, Loss: 1590.3775072612925\n",
      "Epoch 127/15000, Loss: 1586.8703030717465\n",
      "Epoch 128/15000, Loss: 1583.4066319946783\n",
      "Epoch 129/15000, Loss: 1579.986578562273\n",
      "Epoch 130/15000, Loss: 1576.6103997151217\n",
      "Epoch 131/15000, Loss: 1573.2783883487455\n",
      "Epoch 132/15000, Loss: 1569.9902201970583\n",
      "Epoch 133/15000, Loss: 1566.745833334611\n",
      "Epoch 134/15000, Loss: 1563.5453794631162\n",
      "Epoch 135/15000, Loss: 1560.3882981846061\n",
      "Epoch 136/15000, Loss: 1557.2747027561115\n",
      "Epoch 137/15000, Loss: 1554.2041633690783\n",
      "Epoch 138/15000, Loss: 1551.1761144587529\n",
      "Epoch 139/15000, Loss: 1548.190192303162\n",
      "Epoch 140/15000, Loss: 1545.2463493621403\n",
      "Epoch 141/15000, Loss: 1542.3438449016908\n",
      "Epoch 142/15000, Loss: 1539.481969381626\n",
      "Epoch 143/15000, Loss: 1536.660557818641\n",
      "Epoch 144/15000, Loss: 1533.8787859995423\n",
      "Epoch 145/15000, Loss: 1531.1364051093678\n",
      "Epoch 146/15000, Loss: 1528.4324346116443\n",
      "Epoch 147/15000, Loss: 1525.7666715743298\n",
      "Epoch 148/15000, Loss: 1523.138009527802\n",
      "Epoch 149/15000, Loss: 1520.5463072236848\n",
      "Epoch 150/15000, Loss: 1517.9906640649256\n",
      "Epoch 151/15000, Loss: 1515.4705371284308\n",
      "Epoch 152/15000, Loss: 1512.9854645667135\n",
      "Epoch 153/15000, Loss: 1510.5345339722921\n",
      "Epoch 154/15000, Loss: 1508.1172063637223\n",
      "Epoch 155/15000, Loss: 1505.7328430735706\n",
      "Epoch 156/15000, Loss: 1503.3810758296406\n",
      "Epoch 157/15000, Loss: 1501.0607954441919\n",
      "Epoch 158/15000, Loss: 1498.7717543885\n",
      "Epoch 1/15000, Loss: 2885.6585207740627\n",
      "Epoch 2/15000, Loss: 2441.523280666627\n",
      "Epoch 3/15000, Loss: 2280.0966077353773\n",
      "Epoch 4/15000, Loss: 2185.218869812309\n",
      "Epoch 5/15000, Loss: 2121.974470487089\n",
      "Epoch 6/15000, Loss: 2077.1143434240075\n",
      "Epoch 7/15000, Loss: 2043.8618997240085\n",
      "Epoch 8/15000, Loss: 2018.35139318604\n",
      "Epoch 9/15000, Loss: 1998.2343070448244\n",
      "Epoch 10/15000, Loss: 1982.0101846497555\n",
      "Epoch 11/15000, Loss: 1968.6760141828688\n",
      "Epoch 12/15000, Loss: 1957.5354250280707\n",
      "Epoch 13/15000, Loss: 1948.0877102119368\n",
      "Epoch 14/15000, Loss: 1939.9644899692125\n",
      "Epoch 15/15000, Loss: 1932.8877793039974\n",
      "Epoch 16/15000, Loss: 1926.6449512192894\n",
      "Epoch 17/15000, Loss: 1921.0713398526802\n",
      "Epoch 18/15000, Loss: 1916.0371993583483\n",
      "Epoch 19/15000, Loss: 1911.4407730780674\n",
      "Epoch 20/15000, Loss: 1907.1997809594973\n",
      "Epoch 21/15000, Loss: 1903.2493189586985\n",
      "Epoch 22/15000, Loss: 1899.5358492505252\n",
      "Epoch 23/15000, Loss: 1896.0162844371487\n",
      "Epoch 24/15000, Loss: 1892.6552632824357\n",
      "Epoch 25/15000, Loss: 1889.4231944892422\n",
      "Epoch 26/15000, Loss: 1886.2958424537721\n",
      "Epoch 27/15000, Loss: 1883.253139570528\n",
      "Epoch 28/15000, Loss: 1880.2775444265535\n",
      "Epoch 29/15000, Loss: 1877.3547427180301\n",
      "Epoch 30/15000, Loss: 1874.4727695741194\n",
      "Epoch 31/15000, Loss: 1871.620685510833\n",
      "Epoch 32/15000, Loss: 1868.789716725985\n",
      "Epoch 33/15000, Loss: 1865.9719742236312\n",
      "Epoch 34/15000, Loss: 1863.161090670887\n",
      "Epoch 35/15000, Loss: 1860.3505016564507\n",
      "Epoch 36/15000, Loss: 1857.53585195135\n",
      "Epoch 37/15000, Loss: 1854.7121706998298\n",
      "Epoch 38/15000, Loss: 1851.8754654273641\n",
      "Epoch 39/15000, Loss: 1849.0226954436457\n",
      "Epoch 40/15000, Loss: 1846.1503092273501\n",
      "Epoch 41/15000, Loss: 1843.2558955130953\n",
      "Epoch 42/15000, Loss: 1840.3367283049051\n",
      "Epoch 43/15000, Loss: 1837.3911094329874\n",
      "Epoch 44/15000, Loss: 1834.4167858637513\n",
      "Epoch 45/15000, Loss: 1831.412459939966\n",
      "Epoch 46/15000, Loss: 1828.376247073306\n",
      "Epoch 47/15000, Loss: 1825.3072605326079\n",
      "Epoch 48/15000, Loss: 1822.2038898463538\n",
      "Epoch 49/15000, Loss: 1819.0655958989953\n",
      "Epoch 50/15000, Loss: 1815.8915710858446\n",
      "Epoch 51/15000, Loss: 1812.6812616167106\n",
      "Epoch 52/15000, Loss: 1809.43370590449\n",
      "Epoch 53/15000, Loss: 1806.1487862751794\n",
      "Epoch 54/15000, Loss: 1802.8263102646229\n",
      "Epoch 55/15000, Loss: 1799.465646694427\n",
      "Epoch 56/15000, Loss: 1796.067495634771\n",
      "Epoch 57/15000, Loss: 1792.6314445067715\n",
      "Epoch 58/15000, Loss: 1789.1579095290558\n",
      "Epoch 59/15000, Loss: 1785.6468333984792\n",
      "Epoch 60/15000, Loss: 1782.0989541990139\n",
      "Epoch 61/15000, Loss: 1778.5145852241649\n",
      "Epoch 62/15000, Loss: 1774.8944950514228\n",
      "Epoch 63/15000, Loss: 1771.2391565870364\n",
      "Epoch 64/15000, Loss: 1767.549673991163\n",
      "Epoch 65/15000, Loss: 1763.8269001230724\n",
      "Epoch 66/15000, Loss: 1760.0718300928565\n",
      "Epoch 67/15000, Loss: 1756.2854990703734\n",
      "Epoch 68/15000, Loss: 1752.4691434153349\n",
      "Epoch 69/15000, Loss: 1748.62412128186\n",
      "Epoch 70/15000, Loss: 1744.7521043649856\n",
      "Epoch 71/15000, Loss: 1740.8539634553938\n",
      "Epoch 72/15000, Loss: 1736.9316581785877\n",
      "Epoch 73/15000, Loss: 1732.9872801748759\n",
      "Epoch 74/15000, Loss: 1729.0219517632963\n",
      "Epoch 75/15000, Loss: 1725.0376041994716\n",
      "Epoch 76/15000, Loss: 1721.0364172279928\n",
      "Epoch 77/15000, Loss: 1717.0203046574588\n",
      "Epoch 78/15000, Loss: 1712.991058228864\n",
      "Epoch 79/15000, Loss: 1708.9512055760695\n",
      "Epoch 80/15000, Loss: 1704.9022249608727\n",
      "Epoch 81/15000, Loss: 1700.846978539625\n",
      "Epoch 82/15000, Loss: 1696.7873297629594\n",
      "Epoch 83/15000, Loss: 1692.7258029678976\n",
      "Epoch 84/15000, Loss: 1688.66449411303\n",
      "Epoch 85/15000, Loss: 1684.6058216166562\n",
      "Epoch 86/15000, Loss: 1680.5518442413456\n",
      "Epoch 87/15000, Loss: 1676.5053237453312\n",
      "Epoch 88/15000, Loss: 1672.4678932354002\n",
      "Epoch 89/15000, Loss: 1668.442499839006\n",
      "Epoch 90/15000, Loss: 1664.430882979966\n",
      "Epoch 91/15000, Loss: 1660.4356025601624\n",
      "Epoch 92/15000, Loss: 1656.4586293697876\n",
      "Epoch 93/15000, Loss: 1652.5022232820793\n",
      "Epoch 94/15000, Loss: 1648.568449067052\n",
      "Epoch 95/15000, Loss: 1644.6591251856682\n",
      "Epoch 96/15000, Loss: 1640.7764847461067\n",
      "Epoch 97/15000, Loss: 1636.9223507454612\n",
      "Epoch 98/15000, Loss: 1633.0980542350405\n",
      "Epoch 99/15000, Loss: 1629.3059546183333\n",
      "Epoch 100/15000, Loss: 1625.5471627337029\n",
      "Epoch 101/15000, Loss: 1621.8231430360931\n",
      "Epoch 102/15000, Loss: 1618.1357402913434\n",
      "Epoch 103/15000, Loss: 1614.4859555137125\n",
      "Epoch 104/15000, Loss: 1610.8749444149125\n",
      "Epoch 105/15000, Loss: 1607.304326482201\n",
      "Epoch 106/15000, Loss: 1603.774355548051\n",
      "Epoch 107/15000, Loss: 1600.286536608397\n",
      "Epoch 108/15000, Loss: 1596.8412506708435\n",
      "Epoch 109/15000, Loss: 1593.4394667925512\n",
      "Epoch 110/15000, Loss: 1590.081712934059\n",
      "Epoch 111/15000, Loss: 1586.7682335723637\n",
      "Epoch 112/15000, Loss: 1583.4998546472802\n",
      "Epoch 113/15000, Loss: 1580.2764854133472\n",
      "Epoch 114/15000, Loss: 1577.0987462510077\n",
      "Epoch 115/15000, Loss: 1573.9664317340546\n",
      "Epoch 116/15000, Loss: 1570.8799899132987\n",
      "Epoch 117/15000, Loss: 1567.838920381958\n",
      "Epoch 118/15000, Loss: 1564.8436027477348\n",
      "Epoch 119/15000, Loss: 1561.893407304937\n",
      "Epoch 120/15000, Loss: 1558.988374231424\n",
      "Epoch 121/15000, Loss: 1556.1281390646468\n",
      "Epoch 122/15000, Loss: 1553.3123164574415\n",
      "Epoch 123/15000, Loss: 1550.5409771978295\n",
      "Epoch 124/15000, Loss: 1547.8129178522056\n",
      "Epoch 125/15000, Loss: 1545.1281741211574\n",
      "Epoch 126/15000, Loss: 1542.4861942785342\n",
      "Epoch 127/15000, Loss: 1539.8862496269549\n",
      "Epoch 128/15000, Loss: 1537.327898002114\n",
      "Epoch 129/15000, Loss: 1534.810147690877\n",
      "Epoch 130/15000, Loss: 1532.3328076995292\n",
      "Epoch 131/15000, Loss: 1529.8951197190509\n",
      "Epoch 132/15000, Loss: 1527.4962860156147\n",
      "Epoch 133/15000, Loss: 1525.135791814426\n",
      "Epoch 134/15000, Loss: 1522.8128596305803\n",
      "Epoch 135/15000, Loss: 1520.5265484262964\n",
      "Epoch 136/15000, Loss: 1518.2764835037658\n",
      "Epoch 137/15000, Loss: 1516.061808394715\n",
      "Epoch 138/15000, Loss: 1513.8816239534694\n",
      "Epoch 139/15000, Loss: 1511.7356300871588\n",
      "Epoch 140/15000, Loss: 1509.6225818491935\n",
      "Epoch 141/15000, Loss: 1507.5421957276042\n",
      "Epoch 142/15000, Loss: 1505.493727087984\n",
      "Epoch 143/15000, Loss: 1503.4759951821572\n",
      "Epoch 144/15000, Loss: 1501.4889745741943\n",
      "Epoch 145/15000, Loss: 1499.5314067322129\n",
      "Epoch 1/15000, Loss: 3008.451196647625\n",
      "Epoch 2/15000, Loss: 2521.4824119872246\n",
      "Epoch 3/15000, Loss: 2346.331792889441\n",
      "Epoch 4/15000, Loss: 2243.7693398687943\n",
      "Epoch 5/15000, Loss: 2175.5180700602773\n",
      "Epoch 6/15000, Loss: 2127.0044172409353\n",
      "Epoch 7/15000, Loss: 2090.871817706955\n",
      "Epoch 8/15000, Loss: 2062.9508508532267\n",
      "Epoch 9/15000, Loss: 2040.7194329596905\n",
      "Epoch 10/15000, Loss: 2022.5794865006244\n",
      "Epoch 11/15000, Loss: 2007.4783548614562\n",
      "Epoch 12/15000, Loss: 1994.6979980088765\n",
      "Epoch 13/15000, Loss: 1983.732314791586\n",
      "Epoch 14/15000, Loss: 1974.2140765637655\n",
      "Epoch 15/15000, Loss: 1965.868499375847\n",
      "Epoch 16/15000, Loss: 1958.4845461963307\n",
      "Epoch 17/15000, Loss: 1951.8975271809506\n",
      "Epoch 18/15000, Loss: 1945.9748904648498\n",
      "Epoch 19/15000, Loss: 1940.6100282586433\n",
      "Epoch 20/15000, Loss: 1935.714339287058\n",
      "Epoch 21/15000, Loss: 1931.2147231809224\n",
      "Epoch 22/15000, Loss: 1927.0498375506127\n",
      "Epoch 23/15000, Loss: 1923.168463009723\n",
      "Epoch 24/15000, Loss: 1919.5264766673595\n",
      "Epoch 25/15000, Loss: 1916.0865537099987\n",
      "Epoch 26/15000, Loss: 1912.817058957065\n",
      "Epoch 27/15000, Loss: 1909.6907407238116\n",
      "Epoch 28/15000, Loss: 1906.6839624628587\n",
      "Epoch 29/15000, Loss: 1903.7767022194128\n",
      "Epoch 30/15000, Loss: 1900.9512351657609\n",
      "Epoch 31/15000, Loss: 1898.192123836892\n",
      "Epoch 32/15000, Loss: 1895.4863236125911\n",
      "Epoch 33/15000, Loss: 1892.821700666652\n",
      "Epoch 34/15000, Loss: 1890.1885058501246\n",
      "Epoch 35/15000, Loss: 1887.577257460545\n",
      "Epoch 36/15000, Loss: 1884.9801840153928\n",
      "Epoch 37/15000, Loss: 1882.390202596236\n",
      "Epoch 38/15000, Loss: 1879.800852162947\n",
      "Epoch 39/15000, Loss: 1877.2065621623647\n",
      "Epoch 40/15000, Loss: 1874.6023143061482\n",
      "Epoch 41/15000, Loss: 1871.9834129281212\n",
      "Epoch 42/15000, Loss: 1869.3458984259391\n",
      "Epoch 43/15000, Loss: 1866.686102968716\n",
      "Epoch 44/15000, Loss: 1864.0006389580265\n",
      "Epoch 45/15000, Loss: 1861.2863873473148\n",
      "Epoch 46/15000, Loss: 1858.5408375343627\n",
      "Epoch 47/15000, Loss: 1855.7612247050363\n",
      "Epoch 48/15000, Loss: 1852.9458711358188\n",
      "Epoch 49/15000, Loss: 1850.092395756588\n",
      "Epoch 50/15000, Loss: 1847.1990595442699\n",
      "Epoch 51/15000, Loss: 1844.2643418084797\n",
      "Epoch 52/15000, Loss: 1841.2868227463644\n",
      "Epoch 53/15000, Loss: 1838.2651326913258\n",
      "Epoch 54/15000, Loss: 1835.1983954308696\n",
      "Epoch 55/15000, Loss: 1832.0855118484508\n",
      "Epoch 56/15000, Loss: 1828.9260828515148\n",
      "Epoch 57/15000, Loss: 1825.719087297781\n",
      "Epoch 58/15000, Loss: 1822.4645035731762\n",
      "Epoch 59/15000, Loss: 1819.1616367076645\n",
      "Epoch 60/15000, Loss: 1815.8106809296935\n",
      "Epoch 61/15000, Loss: 1812.4115641123967\n",
      "Epoch 62/15000, Loss: 1808.964145815529\n",
      "Epoch 63/15000, Loss: 1805.4694385736188\n",
      "Epoch 64/15000, Loss: 1801.9273222882375\n",
      "Epoch 65/15000, Loss: 1798.3385743014128\n",
      "Epoch 66/15000, Loss: 1794.7039250254381\n",
      "Epoch 67/15000, Loss: 1791.0246166353252\n",
      "Epoch 68/15000, Loss: 1787.3015495729085\n",
      "Epoch 69/15000, Loss: 1783.5357486881337\n",
      "Epoch 70/15000, Loss: 1779.7287999709279\n",
      "Epoch 71/15000, Loss: 1775.882339701556\n",
      "Epoch 72/15000, Loss: 1771.9982424195666\n",
      "Epoch 73/15000, Loss: 1768.0779173228957\n",
      "Epoch 74/15000, Loss: 1764.123699624112\n",
      "Epoch 75/15000, Loss: 1760.1376892052147\n",
      "Epoch 76/15000, Loss: 1756.121916843806\n",
      "Epoch 77/15000, Loss: 1752.0792184139516\n",
      "Epoch 78/15000, Loss: 1748.0118574087649\n",
      "Epoch 79/15000, Loss: 1743.9225737956644\n",
      "Epoch 80/15000, Loss: 1739.8140812928696\n",
      "Epoch 81/15000, Loss: 1735.6894202524468\n",
      "Epoch 82/15000, Loss: 1731.5515696212306\n",
      "Epoch 83/15000, Loss: 1727.4031815934688\n",
      "Epoch 84/15000, Loss: 1723.2479049629628\n",
      "Epoch 85/15000, Loss: 1719.08845159299\n",
      "Epoch 86/15000, Loss: 1714.928231803216\n",
      "Epoch 87/15000, Loss: 1710.77061639483\n",
      "Epoch 88/15000, Loss: 1706.6184560583274\n",
      "Epoch 89/15000, Loss: 1702.4752392438122\n",
      "Epoch 90/15000, Loss: 1698.3440324559945\n",
      "Epoch 91/15000, Loss: 1694.2281463690642\n",
      "Epoch 92/15000, Loss: 1690.1306945115052\n",
      "Epoch 93/15000, Loss: 1686.0544808467728\n",
      "Epoch 94/15000, Loss: 1682.0028823344603\n",
      "Epoch 95/15000, Loss: 1677.9783962439303\n",
      "Epoch 96/15000, Loss: 1673.983763382102\n",
      "Epoch 97/15000, Loss: 1670.0219008013082\n",
      "Epoch 98/15000, Loss: 1666.0951735262202\n",
      "Epoch 99/15000, Loss: 1662.205801659601\n",
      "Epoch 100/15000, Loss: 1658.3563593759518\n",
      "Epoch 101/15000, Loss: 1654.548676126393\n",
      "Epoch 102/15000, Loss: 1650.7847723174089\n",
      "Epoch 103/15000, Loss: 1647.0662569802062\n",
      "Epoch 104/15000, Loss: 1643.3946340703162\n",
      "Epoch 105/15000, Loss: 1639.7716685898913\n",
      "Epoch 106/15000, Loss: 1636.1983380619813\n",
      "Epoch 107/15000, Loss: 1632.6756554214935\n",
      "Epoch 108/15000, Loss: 1629.204732944316\n",
      "Epoch 109/15000, Loss: 1625.786461087724\n",
      "Epoch 110/15000, Loss: 1622.4209458457092\n",
      "Epoch 111/15000, Loss: 1619.108860130701\n",
      "Epoch 112/15000, Loss: 1615.8504282866536\n",
      "Epoch 113/15000, Loss: 1612.6460217201015\n",
      "Epoch 114/15000, Loss: 1609.4953320268005\n",
      "Epoch 115/15000, Loss: 1606.3984070413985\n",
      "Epoch 116/15000, Loss: 1603.355256789942\n",
      "Epoch 117/15000, Loss: 1600.3653815820282\n",
      "Epoch 118/15000, Loss: 1597.4279599848287\n",
      "Epoch 119/15000, Loss: 1594.542806009294\n",
      "Epoch 120/15000, Loss: 1591.709470778565\n",
      "Epoch 121/15000, Loss: 1588.9270197281332\n",
      "Epoch 122/15000, Loss: 1586.1948443116466\n",
      "Epoch 123/15000, Loss: 1583.5118724446845\n",
      "Epoch 124/15000, Loss: 1580.877423340946\n",
      "Epoch 125/15000, Loss: 1578.2907657300016\n",
      "Epoch 126/15000, Loss: 1575.7501563768412\n",
      "Epoch 127/15000, Loss: 1573.2555128564522\n",
      "Epoch 128/15000, Loss: 1570.8053896755057\n",
      "Epoch 129/15000, Loss: 1568.398760617771\n",
      "Epoch 130/15000, Loss: 1566.0346851049549\n",
      "Epoch 131/15000, Loss: 1563.7119000269965\n",
      "Epoch 132/15000, Loss: 1561.429406675182\n",
      "Epoch 133/15000, Loss: 1559.1860082905932\n",
      "Epoch 134/15000, Loss: 1556.9807480345276\n",
      "Epoch 135/15000, Loss: 1554.812432763727\n",
      "Epoch 136/15000, Loss: 1552.680042775045\n",
      "Epoch 137/15000, Loss: 1550.582395324857\n",
      "Epoch 138/15000, Loss: 1548.5185895211616\n",
      "Epoch 139/15000, Loss: 1546.4876228311514\n",
      "Epoch 140/15000, Loss: 1544.488165097983\n",
      "Epoch 141/15000, Loss: 1542.519287505632\n",
      "Epoch 142/15000, Loss: 1540.580220655502\n",
      "Epoch 143/15000, Loss: 1538.669701925857\n",
      "Epoch 144/15000, Loss: 1536.7869005488312\n",
      "Epoch 145/15000, Loss: 1534.9309025352334\n",
      "Epoch 146/15000, Loss: 1533.1006002900706\n",
      "Epoch 147/15000, Loss: 1531.2953252891034\n",
      "Epoch 148/15000, Loss: 1529.514207985515\n",
      "Epoch 149/15000, Loss: 1527.7563375268562\n",
      "Epoch 150/15000, Loss: 1526.020595350558\n",
      "Epoch 151/15000, Loss: 1524.3065914658291\n",
      "Epoch 152/15000, Loss: 1522.6132882776847\n",
      "Epoch 153/15000, Loss: 1520.9400967515508\n",
      "Epoch 154/15000, Loss: 1519.28632531643\n",
      "Epoch 155/15000, Loss: 1517.6509272798676\n",
      "Epoch 156/15000, Loss: 1516.0335354440185\n",
      "Epoch 157/15000, Loss: 1514.4334587323951\n",
      "Epoch 158/15000, Loss: 1512.8499326004512\n",
      "Epoch 159/15000, Loss: 1511.2824996247707\n",
      "Epoch 160/15000, Loss: 1509.7300659166751\n",
      "Epoch 161/15000, Loss: 1508.19269774512\n",
      "Epoch 162/15000, Loss: 1506.6695962959066\n",
      "Epoch 163/15000, Loss: 1505.1600089000754\n",
      "Epoch 164/15000, Loss: 1503.6636186794537\n",
      "Epoch 165/15000, Loss: 1502.1800883726078\n",
      "Epoch 166/15000, Loss: 1500.7084988090858\n",
      "Epoch 167/15000, Loss: 1499.2487309117057\n",
      "Epoch 1/15000, Loss: 2907.139502659866\n",
      "Epoch 2/15000, Loss: 2442.075261325926\n",
      "Epoch 3/15000, Loss: 2285.4016314834607\n",
      "Epoch 4/15000, Loss: 2196.8222956116897\n",
      "Epoch 5/15000, Loss: 2138.2584436200464\n",
      "Epoch 6/15000, Loss: 2096.7707640140834\n",
      "Epoch 7/15000, Loss: 2066.066487807665\n",
      "Epoch 8/15000, Loss: 2042.5926303228498\n",
      "Epoch 9/15000, Loss: 2024.1748722720615\n",
      "Epoch 10/15000, Loss: 2009.4083299706413\n",
      "Epoch 11/15000, Loss: 1997.3447562724011\n",
      "Epoch 12/15000, Loss: 1987.321135445423\n",
      "Epoch 13/15000, Loss: 1978.861864955542\n",
      "Epoch 14/15000, Loss: 1971.6179056982567\n",
      "Epoch 15/15000, Loss: 1965.3286882783402\n",
      "Epoch 16/15000, Loss: 1959.7960984154345\n",
      "Epoch 17/15000, Loss: 1954.8689181496204\n",
      "Epoch 18/15000, Loss: 1950.4289033031782\n",
      "Epoch 19/15000, Loss: 1946.3837345784993\n",
      "Epoch 20/15000, Loss: 1942.6600524018932\n",
      "Epoch 21/15000, Loss: 1939.1990930665718\n",
      "Epoch 22/15000, Loss: 1935.953980712727\n",
      "Epoch 23/15000, Loss: 1932.885649513262\n",
      "Epoch 24/15000, Loss: 1929.962843550518\n",
      "Epoch 25/15000, Loss: 1927.1595652924798\n",
      "Epoch 26/15000, Loss: 1924.4538431102642\n",
      "Epoch 27/15000, Loss: 1921.8275395153444\n",
      "Epoch 28/15000, Loss: 1919.2652324155172\n",
      "Epoch 29/15000, Loss: 1916.7539623799075\n",
      "Epoch 30/15000, Loss: 1914.282653397418\n",
      "Epoch 31/15000, Loss: 1911.8418895292068\n",
      "Epoch 32/15000, Loss: 1909.423144380542\n",
      "Epoch 33/15000, Loss: 1907.0192220467322\n",
      "Epoch 34/15000, Loss: 1904.6243494588034\n",
      "Epoch 35/15000, Loss: 1902.232927444762\n",
      "Epoch 36/15000, Loss: 1899.8401409703079\n",
      "Epoch 37/15000, Loss: 1897.4418450994008\n",
      "Epoch 38/15000, Loss: 1895.0345705390155\n",
      "Epoch 39/15000, Loss: 1892.6147758179989\n",
      "Epoch 40/15000, Loss: 1890.1798250671704\n",
      "Epoch 41/15000, Loss: 1887.7270704585671\n",
      "Epoch 42/15000, Loss: 1885.254269901292\n",
      "Epoch 43/15000, Loss: 1882.759984557858\n",
      "Epoch 44/15000, Loss: 1880.2417766796962\n",
      "Epoch 45/15000, Loss: 1877.6984863594428\n",
      "Epoch 46/15000, Loss: 1875.1288366278136\n",
      "Epoch 47/15000, Loss: 1872.531508342036\n",
      "Epoch 48/15000, Loss: 1869.9057958766793\n",
      "Epoch 49/15000, Loss: 1867.250515466469\n",
      "Epoch 50/15000, Loss: 1864.56531033988\n",
      "Epoch 51/15000, Loss: 1861.8494869750082\n",
      "Epoch 52/15000, Loss: 1859.102877962168\n",
      "Epoch 53/15000, Loss: 1856.3245841347996\n",
      "Epoch 54/15000, Loss: 1853.5149030169005\n",
      "Epoch 55/15000, Loss: 1850.673816166396\n",
      "Epoch 56/15000, Loss: 1847.8007722389207\n",
      "Epoch 57/15000, Loss: 1844.8963996860841\n",
      "Epoch 58/15000, Loss: 1841.9605738499374\n",
      "Epoch 59/15000, Loss: 1838.9937315577629\n",
      "Epoch 60/15000, Loss: 1835.995833892117\n",
      "Epoch 61/15000, Loss: 1832.9678450363797\n",
      "Epoch 62/15000, Loss: 1829.9099546267728\n",
      "Epoch 63/15000, Loss: 1826.8229596949723\n",
      "Epoch 64/15000, Loss: 1823.7071468544918\n",
      "Epoch 65/15000, Loss: 1820.5634908318962\n",
      "Epoch 66/15000, Loss: 1817.3926152346535\n",
      "Epoch 67/15000, Loss: 1814.1956135678488\n",
      "Epoch 68/15000, Loss: 1810.9730233264434\n",
      "Epoch 69/15000, Loss: 1807.726182152069\n",
      "Epoch 70/15000, Loss: 1804.4558654033417\n",
      "Epoch 71/15000, Loss: 1801.1627630803346\n",
      "Epoch 72/15000, Loss: 1797.8482990700152\n",
      "Epoch 73/15000, Loss: 1794.5137072450682\n",
      "Epoch 74/15000, Loss: 1791.159844802556\n",
      "Epoch 75/15000, Loss: 1787.7883254000783\n",
      "Epoch 76/15000, Loss: 1784.4000422751194\n",
      "Epoch 77/15000, Loss: 1780.9964185733045\n",
      "Epoch 78/15000, Loss: 1777.578595456005\n",
      "Epoch 79/15000, Loss: 1774.148086605411\n",
      "Epoch 80/15000, Loss: 1770.7059225868877\n",
      "Epoch 81/15000, Loss: 1767.253519052376\n",
      "Epoch 82/15000, Loss: 1763.7923292408502\n",
      "Epoch 83/15000, Loss: 1760.3237611467869\n",
      "Epoch 84/15000, Loss: 1756.8492068794465\n",
      "Epoch 85/15000, Loss: 1753.3698714667835\n",
      "Epoch 86/15000, Loss: 1749.8872723989878\n",
      "Epoch 87/15000, Loss: 1746.402549786629\n",
      "Epoch 88/15000, Loss: 1742.91710386614\n",
      "Epoch 89/15000, Loss: 1739.43261236101\n",
      "Epoch 90/15000, Loss: 1735.9500733775385\n",
      "Epoch 91/15000, Loss: 1732.4708388482084\n",
      "Epoch 92/15000, Loss: 1728.9962417507604\n",
      "Epoch 93/15000, Loss: 1725.5276092811969\n",
      "Epoch 94/15000, Loss: 1722.0658683407846\n",
      "Epoch 95/15000, Loss: 1718.6127045075661\n",
      "Epoch 96/15000, Loss: 1715.1690776638375\n",
      "Epoch 97/15000, Loss: 1711.7363053439067\n",
      "Epoch 98/15000, Loss: 1708.3150540002234\n",
      "Epoch 99/15000, Loss: 1704.9068919203742\n",
      "Epoch 100/15000, Loss: 1701.5126620394274\n",
      "Epoch 101/15000, Loss: 1698.1331851968318\n",
      "Epoch 102/15000, Loss: 1694.769619654002\n",
      "Epoch 103/15000, Loss: 1691.4229954819134\n",
      "Epoch 104/15000, Loss: 1688.0940675080906\n",
      "Epoch 105/15000, Loss: 1684.7835077500745\n",
      "Epoch 106/15000, Loss: 1681.4922500017453\n",
      "Epoch 107/15000, Loss: 1678.2207552488965\n",
      "Epoch 108/15000, Loss: 1674.9703838103892\n",
      "Epoch 109/15000, Loss: 1671.7413086876622\n",
      "Epoch 110/15000, Loss: 1668.5338879147287\n",
      "Epoch 111/15000, Loss: 1665.3489783424982\n",
      "Epoch 112/15000, Loss: 1662.1869512542232\n",
      "Epoch 113/15000, Loss: 1659.0484936044684\n",
      "Epoch 114/15000, Loss: 1655.9339291640777\n",
      "Epoch 115/15000, Loss: 1652.8433854490272\n",
      "Epoch 116/15000, Loss: 1649.7775822306323\n",
      "Epoch 117/15000, Loss: 1646.7364409519473\n",
      "Epoch 118/15000, Loss: 1643.7203958524929\n",
      "Epoch 119/15000, Loss: 1640.729461605048\n",
      "Epoch 120/15000, Loss: 1637.7641945489681\n",
      "Epoch 121/15000, Loss: 1634.8243127884873\n",
      "Epoch 122/15000, Loss: 1631.910429224458\n",
      "Epoch 123/15000, Loss: 1629.0219164913922\n",
      "Epoch 124/15000, Loss: 1626.1595506542653\n",
      "Epoch 125/15000, Loss: 1623.3229748898125\n",
      "Epoch 126/15000, Loss: 1620.5122213947948\n",
      "Epoch 127/15000, Loss: 1617.727078566276\n",
      "Epoch 128/15000, Loss: 1614.9676048056278\n",
      "Epoch 129/15000, Loss: 1612.234175569427\n",
      "Epoch 130/15000, Loss: 1609.5262002096993\n",
      "Epoch 131/15000, Loss: 1606.84347115319\n",
      "Epoch 132/15000, Loss: 1604.1863720921097\n",
      "Epoch 133/15000, Loss: 1601.5543876046904\n",
      "Epoch 134/15000, Loss: 1598.9474176470449\n",
      "Epoch 135/15000, Loss: 1596.3654140127048\n",
      "Epoch 136/15000, Loss: 1593.8080077795084\n",
      "Epoch 137/15000, Loss: 1591.2751000301264\n",
      "Epoch 138/15000, Loss: 1588.7668621966595\n",
      "Epoch 139/15000, Loss: 1586.282399549526\n",
      "Epoch 140/15000, Loss: 1583.8218052779796\n",
      "Epoch 141/15000, Loss: 1581.3852071387143\n",
      "Epoch 142/15000, Loss: 1578.9718648284636\n",
      "Epoch 143/15000, Loss: 1576.5818581451185\n",
      "Epoch 144/15000, Loss: 1574.2149116868998\n",
      "Epoch 145/15000, Loss: 1571.8705891866023\n",
      "Epoch 146/15000, Loss: 1569.5487403764284\n",
      "Epoch 147/15000, Loss: 1567.2495134545325\n",
      "Epoch 148/15000, Loss: 1564.9720454582887\n",
      "Epoch 149/15000, Loss: 1562.7166225374333\n",
      "Epoch 150/15000, Loss: 1560.4823923338017\n",
      "Epoch 151/15000, Loss: 1558.2696488371544\n",
      "Epoch 152/15000, Loss: 1556.0776290710999\n",
      "Epoch 153/15000, Loss: 1553.9065880845378\n",
      "Epoch 154/15000, Loss: 1551.7559832195145\n",
      "Epoch 155/15000, Loss: 1549.6254545598804\n",
      "Epoch 156/15000, Loss: 1547.5150101228942\n",
      "Epoch 157/15000, Loss: 1545.4241696382571\n",
      "Epoch 158/15000, Loss: 1543.3528800673894\n",
      "Epoch 159/15000, Loss: 1541.300486935964\n",
      "Epoch 160/15000, Loss: 1539.2670705450885\n",
      "Epoch 161/15000, Loss: 1537.2524445126635\n",
      "Epoch 162/15000, Loss: 1535.2559222676764\n",
      "Epoch 163/15000, Loss: 1533.277484682082\n",
      "Epoch 164/15000, Loss: 1531.3168545178305\n",
      "Epoch 165/15000, Loss: 1529.3736728053689\n",
      "Epoch 166/15000, Loss: 1527.4477648173731\n",
      "Epoch 167/15000, Loss: 1525.5390697618202\n",
      "Epoch 168/15000, Loss: 1523.6467799854397\n",
      "Epoch 169/15000, Loss: 1521.7710515759181\n",
      "Epoch 170/15000, Loss: 1519.9115902328112\n",
      "Epoch 171/15000, Loss: 1518.0681673000995\n",
      "Epoch 172/15000, Loss: 1516.2400744852052\n",
      "Epoch 173/15000, Loss: 1514.4277712107064\n",
      "Epoch 174/15000, Loss: 1512.6304879584088\n",
      "Epoch 175/15000, Loss: 1510.8481334427681\n",
      "Epoch 176/15000, Loss: 1509.080702602166\n",
      "Epoch 177/15000, Loss: 1507.3275969474657\n",
      "Epoch 178/15000, Loss: 1505.588859917542\n",
      "Epoch 179/15000, Loss: 1503.8638323125683\n",
      "Epoch 180/15000, Loss: 1502.1526590666344\n",
      "Epoch 181/15000, Loss: 1500.455293656791\n",
      "Epoch 182/15000, Loss: 1498.771159435442\n",
      "Epoch 1/15000, Loss: 3004.6832921783243\n",
      "Epoch 2/15000, Loss: 2520.416601260568\n",
      "Epoch 3/15000, Loss: 2345.835947941897\n",
      "Epoch 4/15000, Loss: 2242.9815517522825\n",
      "Epoch 5/15000, Loss: 2174.7861173297197\n",
      "Epoch 6/15000, Loss: 2126.612806456995\n",
      "Epoch 7/15000, Loss: 2090.9712059965027\n",
      "Epoch 8/15000, Loss: 2063.6189826384475\n",
      "Epoch 9/15000, Loss: 2042.0021474006135\n",
      "Epoch 10/15000, Loss: 2024.5086732099492\n",
      "Epoch 11/15000, Loss: 2010.0790248156723\n",
      "Epoch 12/15000, Loss: 1997.9902010983508\n",
      "Epoch 13/15000, Loss: 1987.7305071828252\n",
      "Epoch 14/15000, Loss: 1978.9260709264197\n",
      "Epoch 15/15000, Loss: 1971.2964561655363\n",
      "Epoch 16/15000, Loss: 1964.6252964832868\n",
      "Epoch 17/15000, Loss: 1958.7423805284725\n",
      "Epoch 18/15000, Loss: 1953.5125140516527\n",
      "Epoch 19/15000, Loss: 1948.8264175896966\n",
      "Epoch 20/15000, Loss: 1944.595136596541\n",
      "Epoch 21/15000, Loss: 1940.7454077011425\n",
      "Epoch 22/15000, Loss: 1937.2172496176843\n",
      "Epoch 23/15000, Loss: 1933.9598243899893\n",
      "Epoch 24/15000, Loss: 1930.9313743378225\n",
      "Epoch 25/15000, Loss: 1928.0973051109577\n",
      "Epoch 26/15000, Loss: 1925.4274919885565\n",
      "Epoch 27/15000, Loss: 1922.8972906854701\n",
      "Epoch 28/15000, Loss: 1920.4852081815852\n",
      "Epoch 29/15000, Loss: 1918.1732758819946\n",
      "Epoch 30/15000, Loss: 1915.9461235961874\n",
      "Epoch 31/15000, Loss: 1913.7902010147566\n",
      "Epoch 32/15000, Loss: 1911.6940311146764\n",
      "Epoch 33/15000, Loss: 1909.6476131364752\n",
      "Epoch 34/15000, Loss: 1907.6424444713884\n",
      "Epoch 35/15000, Loss: 1905.6708651534368\n",
      "Epoch 36/15000, Loss: 1903.7259966770978\n",
      "Epoch 37/15000, Loss: 1901.8024302300894\n",
      "Epoch 38/15000, Loss: 1899.8944691559036\n",
      "Epoch 39/15000, Loss: 1897.997954841792\n",
      "Epoch 40/15000, Loss: 1896.1084275967953\n",
      "Epoch 41/15000, Loss: 1894.22246037769\n",
      "Epoch 42/15000, Loss: 1892.3364074425658\n",
      "Epoch 43/15000, Loss: 1890.4476818628348\n",
      "Epoch 44/15000, Loss: 1888.553307401609\n",
      "Epoch 45/15000, Loss: 1886.6510390028586\n",
      "Epoch 46/15000, Loss: 1884.7382227173575\n",
      "Epoch 47/15000, Loss: 1882.8132125956774\n",
      "Epoch 48/15000, Loss: 1880.8739360050897\n",
      "Epoch 49/15000, Loss: 1878.9188167908403\n",
      "Epoch 50/15000, Loss: 1876.9460000797042\n",
      "Epoch 51/15000, Loss: 1874.9539560961628\n",
      "Epoch 52/15000, Loss: 1872.9416583946213\n",
      "Epoch 53/15000, Loss: 1870.9075631733704\n",
      "Epoch 54/15000, Loss: 1868.8504796874472\n",
      "Epoch 55/15000, Loss: 1866.7694532998526\n",
      "Epoch 56/15000, Loss: 1864.6631389416252\n",
      "Epoch 57/15000, Loss: 1862.5307573992525\n",
      "Epoch 58/15000, Loss: 1860.3714002329407\n",
      "Epoch 59/15000, Loss: 1858.184284922244\n",
      "Epoch 60/15000, Loss: 1855.9681012152028\n",
      "Epoch 61/15000, Loss: 1853.7226396702576\n",
      "Epoch 62/15000, Loss: 1851.4471163678968\n",
      "Epoch 63/15000, Loss: 1849.1407430191275\n",
      "Epoch 64/15000, Loss: 1846.8029679124854\n",
      "Epoch 65/15000, Loss: 1844.4333280644707\n",
      "Epoch 66/15000, Loss: 1842.0308525044584\n",
      "Epoch 67/15000, Loss: 1839.5956741435728\n",
      "Epoch 68/15000, Loss: 1837.1270143340166\n",
      "Epoch 69/15000, Loss: 1834.6247521002608\n",
      "Epoch 70/15000, Loss: 1832.0880600948417\n",
      "Epoch 71/15000, Loss: 1829.5173878934906\n",
      "Epoch 72/15000, Loss: 1826.9116004973007\n",
      "Epoch 73/15000, Loss: 1824.2710193832334\n",
      "Epoch 74/15000, Loss: 1821.5954823866184\n",
      "Epoch 75/15000, Loss: 1818.8846851158357\n",
      "Epoch 76/15000, Loss: 1816.1385824176302\n",
      "Epoch 77/15000, Loss: 1813.3573845146273\n",
      "Epoch 78/15000, Loss: 1810.5406477242962\n",
      "Epoch 79/15000, Loss: 1807.6888302788548\n",
      "Epoch 80/15000, Loss: 1804.8016751652247\n",
      "Epoch 81/15000, Loss: 1801.8795553619566\n",
      "Epoch 82/15000, Loss: 1798.9229148034206\n",
      "Epoch 83/15000, Loss: 1795.9316633407884\n",
      "Epoch 84/15000, Loss: 1792.9064070327906\n",
      "Epoch 85/15000, Loss: 1789.847069100432\n",
      "Epoch 86/15000, Loss: 1786.7544966529179\n",
      "Epoch 87/15000, Loss: 1783.6286598675697\n",
      "Epoch 88/15000, Loss: 1780.4708169379767\n",
      "Epoch 89/15000, Loss: 1777.2808051854715\n",
      "Epoch 90/15000, Loss: 1774.0597205708934\n",
      "Epoch 91/15000, Loss: 1770.8081396984064\n",
      "Epoch 92/15000, Loss: 1767.5264124055557\n",
      "Epoch 93/15000, Loss: 1764.2157728599032\n",
      "Epoch 94/15000, Loss: 1760.876808401602\n",
      "Epoch 95/15000, Loss: 1757.5109126166192\n",
      "Epoch 96/15000, Loss: 1754.118402644908\n",
      "Epoch 97/15000, Loss: 1750.700529236522\n",
      "Epoch 98/15000, Loss: 1747.2583537925675\n",
      "Epoch 99/15000, Loss: 1743.7929578805256\n",
      "Epoch 100/15000, Loss: 1740.3054561396555\n",
      "Epoch 101/15000, Loss: 1736.7971148811705\n",
      "Epoch 102/15000, Loss: 1733.2689142162938\n",
      "Epoch 103/15000, Loss: 1729.7222215769361\n",
      "Epoch 104/15000, Loss: 1726.1585750488503\n",
      "Epoch 105/15000, Loss: 1722.5793149206922\n",
      "Epoch 106/15000, Loss: 1718.9853809456572\n",
      "Epoch 107/15000, Loss: 1715.378640861434\n",
      "Epoch 108/15000, Loss: 1711.7603707243193\n",
      "Epoch 109/15000, Loss: 1708.1319508207296\n",
      "Epoch 110/15000, Loss: 1704.4950447603103\n",
      "Epoch 111/15000, Loss: 1700.851048618267\n",
      "Epoch 112/15000, Loss: 1697.2014847111877\n",
      "Epoch 113/15000, Loss: 1693.5479974787243\n",
      "Epoch 114/15000, Loss: 1689.8920667827585\n",
      "Epoch 115/15000, Loss: 1686.2351079121747\n",
      "Epoch 116/15000, Loss: 1682.5788725391037\n",
      "Epoch 117/15000, Loss: 1678.9246188280454\n",
      "Epoch 118/15000, Loss: 1675.273916256774\n",
      "Epoch 119/15000, Loss: 1671.62844004211\n",
      "Epoch 120/15000, Loss: 1667.9898272861437\n",
      "Epoch 121/15000, Loss: 1664.3592352222272\n",
      "Epoch 122/15000, Loss: 1660.7382029209948\n",
      "Epoch 123/15000, Loss: 1657.128122014099\n",
      "Epoch 124/15000, Loss: 1653.5300880395723\n",
      "Epoch 125/15000, Loss: 1649.946115640022\n",
      "Epoch 126/15000, Loss: 1646.376999922784\n",
      "Epoch 127/15000, Loss: 1642.8241560856327\n",
      "Epoch 128/15000, Loss: 1639.2887796986183\n",
      "Epoch 129/15000, Loss: 1635.7718752543542\n",
      "Epoch 130/15000, Loss: 1632.2748979435623\n",
      "Epoch 131/15000, Loss: 1628.7985047572827\n",
      "Epoch 132/15000, Loss: 1625.3440556306919\n",
      "Epoch 133/15000, Loss: 1621.9124328511718\n",
      "Epoch 134/15000, Loss: 1618.5043125897048\n",
      "Epoch 135/15000, Loss: 1615.1207954197741\n",
      "Epoch 136/15000, Loss: 1611.7623315000496\n",
      "Epoch 137/15000, Loss: 1608.429839440987\n",
      "Epoch 138/15000, Loss: 1605.1242186687527\n",
      "Epoch 139/15000, Loss: 1601.8457399474505\n",
      "Epoch 140/15000, Loss: 1598.594863229459\n",
      "Epoch 141/15000, Loss: 1595.3721295992714\n",
      "Epoch 142/15000, Loss: 1592.1782406933014\n",
      "Epoch 143/15000, Loss: 1589.0134124394658\n",
      "Epoch 144/15000, Loss: 1585.877806292629\n",
      "Epoch 145/15000, Loss: 1582.7719712092792\n",
      "Epoch 146/15000, Loss: 1579.695891907848\n",
      "Epoch 147/15000, Loss: 1576.649678362135\n",
      "Epoch 148/15000, Loss: 1573.6335403226878\n",
      "Epoch 149/15000, Loss: 1570.647454574156\n",
      "Epoch 150/15000, Loss: 1567.6917492217592\n",
      "Epoch 151/15000, Loss: 1564.7659603282032\n",
      "Epoch 152/15000, Loss: 1561.8702406553898\n",
      "Epoch 153/15000, Loss: 1559.0045924391286\n",
      "Epoch 154/15000, Loss: 1556.1687305028474\n",
      "Epoch 155/15000, Loss: 1553.3624838412454\n",
      "Epoch 156/15000, Loss: 1550.5856236909267\n",
      "Epoch 157/15000, Loss: 1547.8381053662163\n",
      "Epoch 158/15000, Loss: 1545.1193701870077\n",
      "Epoch 159/15000, Loss: 1542.42933633661\n",
      "Epoch 160/15000, Loss: 1539.7678907726665\n",
      "Epoch 161/15000, Loss: 1537.1345506721998\n",
      "Epoch 162/15000, Loss: 1534.5284843421891\n",
      "Epoch 163/15000, Loss: 1531.9501619098658\n",
      "Epoch 164/15000, Loss: 1529.3986564734046\n",
      "Epoch 165/15000, Loss: 1526.8739256890221\n",
      "Epoch 166/15000, Loss: 1524.375257989708\n",
      "Epoch 167/15000, Loss: 1521.9024511855264\n",
      "Epoch 168/15000, Loss: 1519.4551652463326\n",
      "Epoch 169/15000, Loss: 1517.0327190186852\n",
      "Epoch 170/15000, Loss: 1514.6347838457464\n",
      "Epoch 171/15000, Loss: 1512.2610401751215\n",
      "Epoch 172/15000, Loss: 1509.9111371043148\n",
      "Epoch 173/15000, Loss: 1507.58431585153\n",
      "Epoch 174/15000, Loss: 1505.2805634129163\n",
      "Epoch 175/15000, Loss: 1502.9991076312085\n",
      "Epoch 176/15000, Loss: 1500.739786706571\n",
      "Epoch 177/15000, Loss: 1498.501810773318\n",
      "Epoch 1/15000, Loss: 2996.1255442678817\n",
      "Epoch 2/15000, Loss: 2328.5411525328177\n",
      "Epoch 3/15000, Loss: 2147.2794930761347\n",
      "Epoch 4/15000, Loss: 2064.5354634676805\n",
      "Epoch 5/15000, Loss: 2016.4527116826546\n",
      "Epoch 6/15000, Loss: 1984.4295745789643\n",
      "Epoch 7/15000, Loss: 1961.1335621574974\n",
      "Epoch 8/15000, Loss: 1943.0950432013574\n",
      "Epoch 9/15000, Loss: 1928.4583175898679\n",
      "Epoch 10/15000, Loss: 1916.1393453716848\n",
      "Epoch 11/15000, Loss: 1905.4613131456886\n",
      "Epoch 12/15000, Loss: 1895.9791938648618\n",
      "Epoch 13/15000, Loss: 1887.3880183026076\n",
      "Epoch 14/15000, Loss: 1879.4717237107056\n",
      "Epoch 15/15000, Loss: 1872.0721882324\n",
      "Epoch 16/15000, Loss: 1865.0723029750604\n",
      "Epoch 17/15000, Loss: 1858.3816774548643\n",
      "Epoch 18/15000, Loss: 1851.931820223739\n",
      "Epoch 19/15000, Loss: 1845.6678530801034\n",
      "Epoch 20/15000, Loss: 1839.5458860740246\n",
      "Epoch 21/15000, Loss: 1833.532563191025\n",
      "Epoch 22/15000, Loss: 1827.5986491420203\n",
      "Epoch 23/15000, Loss: 1821.7217350769292\n",
      "Epoch 24/15000, Loss: 1815.8837308857464\n",
      "Epoch 25/15000, Loss: 1810.0692762806123\n",
      "Epoch 26/15000, Loss: 1804.2659110797558\n",
      "Epoch 27/15000, Loss: 1798.4638519642558\n",
      "Epoch 28/15000, Loss: 1792.6552931021336\n",
      "Epoch 29/15000, Loss: 1786.8337958239952\n",
      "Epoch 30/15000, Loss: 1780.9945008545074\n",
      "Epoch 31/15000, Loss: 1775.134071229547\n",
      "Epoch 32/15000, Loss: 1769.2503009191353\n",
      "Epoch 33/15000, Loss: 1763.3412079764182\n",
      "Epoch 34/15000, Loss: 1757.406729748202\n",
      "Epoch 35/15000, Loss: 1751.4464750090244\n",
      "Epoch 36/15000, Loss: 1745.4614991513795\n",
      "Epoch 37/15000, Loss: 1739.4534532969496\n",
      "Epoch 38/15000, Loss: 1733.4236721105906\n",
      "Epoch 39/15000, Loss: 1727.3752138533414\n",
      "Epoch 40/15000, Loss: 1721.310644574209\n",
      "Epoch 41/15000, Loss: 1715.2330704735896\n",
      "Epoch 42/15000, Loss: 1709.1463285312896\n",
      "Epoch 43/15000, Loss: 1703.0541175583369\n",
      "Epoch 44/15000, Loss: 1696.9603322460803\n",
      "Epoch 45/15000, Loss: 1690.8690793033445\n",
      "Epoch 46/15000, Loss: 1684.7850140418084\n",
      "Epoch 47/15000, Loss: 1678.7130123136858\n",
      "Epoch 48/15000, Loss: 1672.657185081008\n",
      "Epoch 49/15000, Loss: 1666.6220773635728\n",
      "Epoch 50/15000, Loss: 1660.6125049964146\n",
      "Epoch 51/15000, Loss: 1654.6333868369838\n",
      "Epoch 52/15000, Loss: 1648.689173169942\n",
      "Epoch 53/15000, Loss: 1642.7841177281061\n",
      "Epoch 54/15000, Loss: 1636.923120541529\n",
      "Epoch 55/15000, Loss: 1631.1099625141355\n",
      "Epoch 56/15000, Loss: 1625.3493535578132\n",
      "Epoch 57/15000, Loss: 1619.6451503600274\n",
      "Epoch 58/15000, Loss: 1614.0006177681903\n",
      "Epoch 59/15000, Loss: 1608.4198376479712\n",
      "Epoch 60/15000, Loss: 1602.9059801884255\n",
      "Epoch 61/15000, Loss: 1597.4624760347704\n",
      "Epoch 62/15000, Loss: 1592.091115935435\n",
      "Epoch 63/15000, Loss: 1586.7957095637769\n",
      "Epoch 64/15000, Loss: 1581.578095872862\n",
      "Epoch 65/15000, Loss: 1576.4395226506913\n",
      "Epoch 66/15000, Loss: 1571.382574257912\n",
      "Epoch 67/15000, Loss: 1566.4083296234774\n",
      "Epoch 68/15000, Loss: 1561.5180383752522\n",
      "Epoch 69/15000, Loss: 1556.7126382673732\n",
      "Epoch 70/15000, Loss: 1551.992310161461\n",
      "Epoch 71/15000, Loss: 1547.3578514566973\n",
      "Epoch 72/15000, Loss: 1542.8090390630623\n",
      "Epoch 73/15000, Loss: 1538.345640010021\n",
      "Epoch 74/15000, Loss: 1533.9675230341875\n",
      "Epoch 75/15000, Loss: 1529.6742800937477\n",
      "Epoch 76/15000, Loss: 1525.4645641966113\n",
      "Epoch 77/15000, Loss: 1521.33786753106\n",
      "Epoch 78/15000, Loss: 1517.2925708179653\n",
      "Epoch 79/15000, Loss: 1513.32789380523\n",
      "Epoch 80/15000, Loss: 1509.4421038136009\n",
      "Epoch 81/15000, Loss: 1505.6338772348993\n",
      "Epoch 82/15000, Loss: 1501.9014431984842\n",
      "Epoch 83/15000, Loss: 1498.2431586567761\n",
      "Epoch 1/15000, Loss: 3114.269651048729\n",
      "Epoch 2/15000, Loss: 2416.286096559841\n",
      "Epoch 3/15000, Loss: 2216.9296515627425\n",
      "Epoch 4/15000, Loss: 2125.10384712368\n",
      "Epoch 5/15000, Loss: 2072.0256353235004\n",
      "Epoch 6/15000, Loss: 2037.104516462368\n",
      "Epoch 7/15000, Loss: 2012.141474157647\n",
      "Epoch 8/15000, Loss: 1993.2258971661026\n",
      "Epoch 9/15000, Loss: 1978.2501019372298\n",
      "Epoch 10/15000, Loss: 1965.975477215709\n",
      "Epoch 11/15000, Loss: 1955.6240105369368\n",
      "Epoch 12/15000, Loss: 1946.6837145964603\n",
      "Epoch 13/15000, Loss: 1938.8012402794284\n",
      "Epoch 14/15000, Loss: 1931.7278557567279\n",
      "Epoch 15/15000, Loss: 1925.2811674224713\n",
      "Epoch 16/15000, Loss: 1919.3256376176066\n",
      "Epoch 17/15000, Loss: 1913.7580920521968\n",
      "Epoch 18/15000, Loss: 1908.4990050188744\n",
      "Epoch 19/15000, Loss: 1903.4855752973535\n",
      "Epoch 20/15000, Loss: 1898.667780171152\n",
      "Epoch 21/15000, Loss: 1894.0059652000803\n",
      "Epoch 22/15000, Loss: 1889.4671082213783\n",
      "Epoch 23/15000, Loss: 1885.0243776924492\n",
      "Epoch 24/15000, Loss: 1880.6556209342218\n",
      "Epoch 25/15000, Loss: 1876.3424384203743\n",
      "Epoch 26/15000, Loss: 1872.0688109249902\n",
      "Epoch 27/15000, Loss: 1867.8218846528196\n",
      "Epoch 28/15000, Loss: 1863.590087356644\n",
      "Epoch 29/15000, Loss: 1859.36397329034\n",
      "Epoch 30/15000, Loss: 1855.1356754341257\n",
      "Epoch 31/15000, Loss: 1850.8977176068622\n",
      "Epoch 32/15000, Loss: 1846.6441677023317\n",
      "Epoch 33/15000, Loss: 1842.3695446468557\n",
      "Epoch 34/15000, Loss: 1838.0697399695698\n",
      "Epoch 35/15000, Loss: 1833.7408347487808\n",
      "Epoch 36/15000, Loss: 1829.3786614454818\n",
      "Epoch 37/15000, Loss: 1824.981352650456\n",
      "Epoch 38/15000, Loss: 1820.5462627086165\n",
      "Epoch 39/15000, Loss: 1816.071159966842\n",
      "Epoch 40/15000, Loss: 1811.5545611293135\n",
      "Epoch 41/15000, Loss: 1806.995190412361\n",
      "Epoch 42/15000, Loss: 1802.3917124845389\n",
      "Epoch 43/15000, Loss: 1797.74327725494\n",
      "Epoch 44/15000, Loss: 1793.0496113348222\n",
      "Epoch 45/15000, Loss: 1788.310519535122\n",
      "Epoch 46/15000, Loss: 1783.5254834440716\n",
      "Epoch 47/15000, Loss: 1778.6950798435546\n",
      "Epoch 48/15000, Loss: 1773.8196116156203\n",
      "Epoch 49/15000, Loss: 1768.899208119865\n",
      "Epoch 50/15000, Loss: 1763.9346013387478\n",
      "Epoch 51/15000, Loss: 1758.926893925005\n",
      "Epoch 52/15000, Loss: 1753.877438631414\n",
      "Epoch 53/15000, Loss: 1748.7866971651524\n",
      "Epoch 54/15000, Loss: 1743.6564575789957\n",
      "Epoch 55/15000, Loss: 1738.4881053031756\n",
      "Epoch 56/15000, Loss: 1733.2833335812657\n",
      "Epoch 57/15000, Loss: 1728.0438761119576\n",
      "Epoch 58/15000, Loss: 1722.7714552879418\n",
      "Epoch 59/15000, Loss: 1717.468494897223\n",
      "Epoch 60/15000, Loss: 1712.1367417843771\n",
      "Epoch 61/15000, Loss: 1706.779022924961\n",
      "Epoch 62/15000, Loss: 1701.3972602215067\n",
      "Epoch 63/15000, Loss: 1695.9939919333092\n",
      "Epoch 64/15000, Loss: 1690.5722175643439\n",
      "Epoch 65/15000, Loss: 1685.134173642214\n",
      "Epoch 66/15000, Loss: 1679.6831155704647\n",
      "Epoch 67/15000, Loss: 1674.2217148015307\n",
      "Epoch 68/15000, Loss: 1668.752826804211\n",
      "Epoch 69/15000, Loss: 1663.2796771466153\n",
      "Epoch 70/15000, Loss: 1657.8053803284151\n",
      "Epoch 71/15000, Loss: 1652.3327569008602\n",
      "Epoch 72/15000, Loss: 1646.8653195331244\n",
      "Epoch 73/15000, Loss: 1641.4058804630063\n",
      "Epoch 74/15000, Loss: 1635.9580299593645\n",
      "Epoch 75/15000, Loss: 1630.5247831246656\n",
      "Epoch 76/15000, Loss: 1625.1092767904217\n",
      "Epoch 77/15000, Loss: 1619.7146782755772\n",
      "Epoch 78/15000, Loss: 1614.3443082909016\n",
      "Epoch 79/15000, Loss: 1609.0011706612088\n",
      "Epoch 80/15000, Loss: 1603.6878847199348\n",
      "Epoch 81/15000, Loss: 1598.4076379163675\n",
      "Epoch 82/15000, Loss: 1593.163296661049\n",
      "Epoch 83/15000, Loss: 1587.9571836768891\n",
      "Epoch 84/15000, Loss: 1582.7923960128205\n",
      "Epoch 85/15000, Loss: 1577.6711891804543\n",
      "Epoch 86/15000, Loss: 1572.5955661019116\n",
      "Epoch 87/15000, Loss: 1567.5681498199135\n",
      "Epoch 88/15000, Loss: 1562.5908847519195\n",
      "Epoch 89/15000, Loss: 1557.6653432608011\n",
      "Epoch 90/15000, Loss: 1552.7936912819466\n",
      "Epoch 91/15000, Loss: 1547.977207457753\n",
      "Epoch 92/15000, Loss: 1543.21701090034\n",
      "Epoch 93/15000, Loss: 1538.5149377585046\n",
      "Epoch 94/15000, Loss: 1533.8715832451996\n",
      "Epoch 95/15000, Loss: 1529.2878580423237\n",
      "Epoch 96/15000, Loss: 1524.7649860087606\n",
      "Epoch 97/15000, Loss: 1520.303020475667\n",
      "Epoch 98/15000, Loss: 1515.9025684032842\n",
      "Epoch 99/15000, Loss: 1511.5643928336617\n",
      "Epoch 100/15000, Loss: 1507.2880153066594\n",
      "Epoch 101/15000, Loss: 1503.0737637504355\n",
      "Epoch 102/15000, Loss: 1498.921950678456\n",
      "Epoch 1/15000, Loss: 3206.7555759924753\n",
      "Epoch 2/15000, Loss: 2457.011975124374\n",
      "Epoch 3/15000, Loss: 2246.284933874428\n",
      "Epoch 4/15000, Loss: 2150.168439414022\n",
      "Epoch 5/15000, Loss: 2094.9820196354667\n",
      "Epoch 6/15000, Loss: 2058.9531704449078\n",
      "Epoch 7/15000, Loss: 2033.4663938402398\n",
      "Epoch 8/15000, Loss: 2014.416408563784\n",
      "Epoch 9/15000, Loss: 1999.5851025571592\n",
      "Epoch 10/15000, Loss: 1987.6632034764898\n",
      "Epoch 11/15000, Loss: 1977.8239010413579\n",
      "Epoch 12/15000, Loss: 1969.520380653473\n",
      "Epoch 13/15000, Loss: 1962.3754762947287\n",
      "Epoch 14/15000, Loss: 1956.121339328486\n",
      "Epoch 15/15000, Loss: 1950.5627503741232\n",
      "Epoch 16/15000, Loss: 1945.5549486586306\n",
      "Epoch 17/15000, Loss: 1940.9868323479068\n",
      "Epoch 18/15000, Loss: 1936.7742900921917\n",
      "Epoch 19/15000, Loss: 1932.8502737406475\n",
      "Epoch 20/15000, Loss: 1929.1625584900166\n",
      "Epoch 21/15000, Loss: 1925.6682646366355\n",
      "Epoch 22/15000, Loss: 1922.3340396750941\n",
      "Epoch 23/15000, Loss: 1919.131284985885\n",
      "Epoch 24/15000, Loss: 1916.03695324686\n",
      "Epoch 25/15000, Loss: 1913.0316348016922\n",
      "Epoch 26/15000, Loss: 1910.0992463713396\n",
      "Epoch 27/15000, Loss: 1907.2253189000778\n",
      "Epoch 28/15000, Loss: 1904.398381752375\n",
      "Epoch 29/15000, Loss: 1901.6086121645887\n",
      "Epoch 30/15000, Loss: 1898.846016937012\n",
      "Epoch 31/15000, Loss: 1896.1031828124994\n",
      "Epoch 32/15000, Loss: 1893.3733339634844\n",
      "Epoch 33/15000, Loss: 1890.650014676497\n",
      "Epoch 34/15000, Loss: 1887.927286543551\n",
      "Epoch 35/15000, Loss: 1885.200255746646\n",
      "Epoch 36/15000, Loss: 1882.4641092088339\n",
      "Epoch 37/15000, Loss: 1879.7142382045374\n",
      "Epoch 38/15000, Loss: 1876.9465686133315\n",
      "Epoch 39/15000, Loss: 1874.1570798756463\n",
      "Epoch 40/15000, Loss: 1871.3417765236154\n",
      "Epoch 41/15000, Loss: 1868.4972060028817\n",
      "Epoch 42/15000, Loss: 1865.6196406006509\n",
      "Epoch 43/15000, Loss: 1862.7055724060738\n",
      "Epoch 44/15000, Loss: 1859.751541794735\n",
      "Epoch 45/15000, Loss: 1856.7539998318305\n",
      "Epoch 46/15000, Loss: 1853.7091061166634\n",
      "Epoch 47/15000, Loss: 1850.613793008603\n",
      "Epoch 48/15000, Loss: 1847.4646188264862\n",
      "Epoch 49/15000, Loss: 1844.2575549639082\n",
      "Epoch 50/15000, Loss: 1840.9888880703843\n",
      "Epoch 51/15000, Loss: 1837.6551597118062\n",
      "Epoch 52/15000, Loss: 1834.2522513315357\n",
      "Epoch 53/15000, Loss: 1830.7767275364552\n",
      "Epoch 54/15000, Loss: 1827.2242426818862\n",
      "Epoch 55/15000, Loss: 1823.5905139121041\n",
      "Epoch 56/15000, Loss: 1819.8717751395634\n",
      "Epoch 57/15000, Loss: 1816.0636038787693\n",
      "Epoch 58/15000, Loss: 1812.1614593089466\n",
      "Epoch 59/15000, Loss: 1808.1614695106837\n",
      "Epoch 60/15000, Loss: 1804.058781126747\n",
      "Epoch 61/15000, Loss: 1799.8489342456082\n",
      "Epoch 62/15000, Loss: 1795.5277727291168\n",
      "Epoch 63/15000, Loss: 1791.090508861705\n",
      "Epoch 64/15000, Loss: 1786.532799994217\n",
      "Epoch 65/15000, Loss: 1781.850009834803\n",
      "Epoch 66/15000, Loss: 1777.038191136865\n",
      "Epoch 67/15000, Loss: 1772.0927185422154\n",
      "Epoch 68/15000, Loss: 1767.0103014146841\n",
      "Epoch 69/15000, Loss: 1761.786787926297\n",
      "Epoch 70/15000, Loss: 1756.4187692329492\n",
      "Epoch 71/15000, Loss: 1750.9030282035524\n",
      "Epoch 72/15000, Loss: 1745.2371533266335\n",
      "Epoch 73/15000, Loss: 1739.4187683513007\n",
      "Epoch 74/15000, Loss: 1733.4464228755096\n",
      "Epoch 75/15000, Loss: 1727.318925910028\n",
      "Epoch 76/15000, Loss: 1721.0359582575445\n",
      "Epoch 77/15000, Loss: 1714.598225311891\n",
      "Epoch 78/15000, Loss: 1708.0068559007773\n",
      "Epoch 79/15000, Loss: 1701.2642248473526\n",
      "Epoch 80/15000, Loss: 1694.3733286354186\n",
      "Epoch 81/15000, Loss: 1687.3386865495722\n",
      "Epoch 82/15000, Loss: 1680.1658144469545\n",
      "Epoch 83/15000, Loss: 1672.8607868892007\n",
      "Epoch 84/15000, Loss: 1665.4313697238101\n",
      "Epoch 85/15000, Loss: 1657.886059669972\n",
      "Epoch 86/15000, Loss: 1650.2349560798186\n",
      "Epoch 87/15000, Loss: 1642.4887316295456\n",
      "Epoch 88/15000, Loss: 1634.6592750314899\n",
      "Epoch 89/15000, Loss: 1626.7590733138138\n",
      "Epoch 90/15000, Loss: 1618.8018724958988\n",
      "Epoch 91/15000, Loss: 1610.8017702600039\n",
      "Epoch 92/15000, Loss: 1602.7734261022313\n",
      "Epoch 93/15000, Loss: 1594.7318455148031\n",
      "Epoch 94/15000, Loss: 1586.6922199123896\n",
      "Epoch 95/15000, Loss: 1578.6700871306755\n",
      "Epoch 96/15000, Loss: 1570.6800708928404\n",
      "Epoch 97/15000, Loss: 1562.737404339676\n",
      "Epoch 98/15000, Loss: 1554.8559737659411\n",
      "Epoch 99/15000, Loss: 1547.0496614895917\n",
      "Epoch 100/15000, Loss: 1539.331063444628\n",
      "Epoch 101/15000, Loss: 1531.7124367729411\n",
      "Epoch 102/15000, Loss: 1524.2045924217612\n",
      "Epoch 103/15000, Loss: 1516.8171633257518\n",
      "Epoch 104/15000, Loss: 1509.5597401739935\n",
      "Epoch 105/15000, Loss: 1502.4397255220672\n",
      "Epoch 106/15000, Loss: 1495.4632422357415\n",
      "Epoch 1/15000, Loss: 3152.9077549582303\n",
      "Epoch 2/15000, Loss: 2419.2595694090355\n",
      "Epoch 3/15000, Loss: 2212.8927293206916\n",
      "Epoch 4/15000, Loss: 2118.0616570261427\n",
      "Epoch 5/15000, Loss: 2063.141061151614\n",
      "Epoch 6/15000, Loss: 2026.901054898474\n",
      "Epoch 7/15000, Loss: 2000.9015329874658\n",
      "Epoch 8/15000, Loss: 1981.1217339675734\n",
      "Epoch 9/15000, Loss: 1965.3983379100196\n",
      "Epoch 10/15000, Loss: 1952.4582413988744\n",
      "Epoch 11/15000, Loss: 1941.5026983689875\n",
      "Epoch 12/15000, Loss: 1932.0017496687553\n",
      "Epoch 13/15000, Loss: 1923.5905263673612\n",
      "Epoch 14/15000, Loss: 1916.0089691457742\n",
      "Epoch 15/15000, Loss: 1909.0658358476512\n",
      "Epoch 16/15000, Loss: 1902.6188200210092\n",
      "Epoch 17/15000, Loss: 1896.557754954523\n",
      "Epoch 18/15000, Loss: 1890.7974351102428\n",
      "Epoch 19/15000, Loss: 1885.271250396052\n",
      "Epoch 20/15000, Loss: 1879.9252535010967\n",
      "Epoch 21/15000, Loss: 1874.7153789380886\n",
      "Epoch 22/15000, Loss: 1869.6067416650485\n",
      "Epoch 23/15000, Loss: 1864.5689661665353\n",
      "Epoch 24/15000, Loss: 1859.5784256096401\n",
      "Epoch 25/15000, Loss: 1854.6139350940978\n",
      "Epoch 26/15000, Loss: 1849.6583217316104\n",
      "Epoch 27/15000, Loss: 1844.6966607432873\n",
      "Epoch 28/15000, Loss: 1839.716600259383\n",
      "Epoch 29/15000, Loss: 1834.707478420092\n",
      "Epoch 30/15000, Loss: 1829.659707173664\n",
      "Epoch 31/15000, Loss: 1824.5661546819981\n",
      "Epoch 32/15000, Loss: 1819.4196921375324\n",
      "Epoch 33/15000, Loss: 1814.2150338509005\n",
      "Epoch 34/15000, Loss: 1808.9477118147074\n",
      "Epoch 35/15000, Loss: 1803.6138784069956\n",
      "Epoch 36/15000, Loss: 1798.2100018134358\n",
      "Epoch 37/15000, Loss: 1792.7342939026053\n",
      "Epoch 38/15000, Loss: 1787.1854374772736\n",
      "Epoch 39/15000, Loss: 1781.56207289282\n",
      "Epoch 40/15000, Loss: 1775.863531437741\n",
      "Epoch 41/15000, Loss: 1770.0904002923742\n",
      "Epoch 42/15000, Loss: 1764.2428927575304\n",
      "Epoch 43/15000, Loss: 1758.3227751167315\n",
      "Epoch 44/15000, Loss: 1752.33130450952\n",
      "Epoch 45/15000, Loss: 1746.270410846289\n",
      "Epoch 46/15000, Loss: 1740.143165412776\n",
      "Epoch 47/15000, Loss: 1733.952344771384\n",
      "Epoch 48/15000, Loss: 1727.7011234190268\n",
      "Epoch 49/15000, Loss: 1721.3938563070476\n",
      "Epoch 50/15000, Loss: 1715.0341877952453\n",
      "Epoch 51/15000, Loss: 1708.626866088344\n",
      "Epoch 52/15000, Loss: 1702.1765799221948\n",
      "Epoch 53/15000, Loss: 1695.688472768922\n",
      "Epoch 54/15000, Loss: 1689.167703305086\n",
      "Epoch 55/15000, Loss: 1682.6197248310605\n",
      "Epoch 56/15000, Loss: 1676.0506617749713\n",
      "Epoch 57/15000, Loss: 1669.4658044910636\n",
      "Epoch 58/15000, Loss: 1662.871550340786\n",
      "Epoch 59/15000, Loss: 1656.2738753478807\n",
      "Epoch 60/15000, Loss: 1649.6785256527914\n",
      "Epoch 61/15000, Loss: 1643.0918158248844\n",
      "Epoch 62/15000, Loss: 1636.5196262156169\n",
      "Epoch 63/15000, Loss: 1629.9680875844608\n",
      "Epoch 64/15000, Loss: 1623.44288658579\n",
      "Epoch 65/15000, Loss: 1616.9494865554207\n",
      "Epoch 66/15000, Loss: 1610.4935717554065\n",
      "Epoch 67/15000, Loss: 1604.080680627963\n",
      "Epoch 68/15000, Loss: 1597.7156887457909\n",
      "Epoch 69/15000, Loss: 1591.4031681862318\n",
      "Epoch 70/15000, Loss: 1585.147962752383\n",
      "Epoch 71/15000, Loss: 1578.9540512925107\n",
      "Epoch 72/15000, Loss: 1572.8253514092644\n",
      "Epoch 73/15000, Loss: 1566.765379296455\n",
      "Epoch 74/15000, Loss: 1560.7778112089643\n",
      "Epoch 75/15000, Loss: 1554.8651286406625\n",
      "Epoch 76/15000, Loss: 1549.030271527107\n",
      "Epoch 77/15000, Loss: 1543.275127544469\n",
      "Epoch 78/15000, Loss: 1537.6019982902494\n",
      "Epoch 79/15000, Loss: 1532.0119402295638\n",
      "Epoch 80/15000, Loss: 1526.5066666571654\n",
      "Epoch 81/15000, Loss: 1521.0873161872394\n",
      "Epoch 82/15000, Loss: 1515.7537981209343\n",
      "Epoch 83/15000, Loss: 1510.5074124930761\n",
      "Epoch 84/15000, Loss: 1505.3479016819413\n",
      "Epoch 85/15000, Loss: 1500.2748878608743\n",
      "Epoch 86/15000, Loss: 1495.2883582716643\n",
      "Epoch 1/15000, Loss: 3165.400992649553\n",
      "Epoch 2/15000, Loss: 2414.806804277281\n",
      "Epoch 3/15000, Loss: 2193.5310132094764\n",
      "Epoch 4/15000, Loss: 2091.5137804202236\n",
      "Epoch 5/15000, Loss: 2033.1416577303305\n",
      "Epoch 6/15000, Loss: 1995.1333654491016\n",
      "Epoch 7/15000, Loss: 1968.1345979838368\n",
      "Epoch 8/15000, Loss: 1947.7019141886735\n",
      "Epoch 9/15000, Loss: 1931.4656340799854\n",
      "Epoch 10/15000, Loss: 1918.048420255843\n",
      "Epoch 11/15000, Loss: 1906.599002910667\n",
      "Epoch 12/15000, Loss: 1896.562719279832\n",
      "Epoch 13/15000, Loss: 1887.564254177723\n",
      "Epoch 14/15000, Loss: 1879.3414378529828\n",
      "Epoch 15/15000, Loss: 1871.7061186158796\n",
      "Epoch 16/15000, Loss: 1864.5202656375507\n",
      "Epoch 17/15000, Loss: 1857.680604168546\n",
      "Epoch 18/15000, Loss: 1851.1091221382776\n",
      "Epoch 19/15000, Loss: 1844.7452976985307\n",
      "Epoch 20/15000, Loss: 1838.5420299701339\n",
      "Epoch 21/15000, Loss: 1832.4623291659861\n",
      "Epoch 22/15000, Loss: 1826.4771556509784\n",
      "Epoch 23/15000, Loss: 1820.5629665742863\n",
      "Epoch 24/15000, Loss: 1814.700871112768\n",
      "Epoch 25/15000, Loss: 1808.8759367856915\n",
      "Epoch 26/15000, Loss: 1803.076435663075\n",
      "Epoch 27/15000, Loss: 1797.2926329914912\n",
      "Epoch 28/15000, Loss: 1791.5168076002094\n",
      "Epoch 29/15000, Loss: 1785.7434428558493\n",
      "Epoch 30/15000, Loss: 1779.9682625969342\n",
      "Epoch 31/15000, Loss: 1774.1876873899212\n",
      "Epoch 32/15000, Loss: 1768.4000627879147\n",
      "Epoch 33/15000, Loss: 1762.6038113367908\n",
      "Epoch 34/15000, Loss: 1756.7990362368264\n",
      "Epoch 35/15000, Loss: 1750.9859690559563\n",
      "Epoch 36/15000, Loss: 1745.1648380357174\n",
      "Epoch 37/15000, Loss: 1739.3379574179928\n",
      "Epoch 38/15000, Loss: 1733.5067896671237\n",
      "Epoch 39/15000, Loss: 1727.674015566013\n",
      "Epoch 40/15000, Loss: 1721.8424872180274\n",
      "Epoch 41/15000, Loss: 1716.0147472466265\n",
      "Epoch 42/15000, Loss: 1710.194614752421\n",
      "Epoch 43/15000, Loss: 1704.385398018775\n",
      "Epoch 44/15000, Loss: 1698.5909562785139\n",
      "Epoch 45/15000, Loss: 1692.8148022196376\n",
      "Epoch 46/15000, Loss: 1687.0612843544814\n",
      "Epoch 47/15000, Loss: 1681.334134114531\n",
      "Epoch 48/15000, Loss: 1675.6373283924952\n",
      "Epoch 49/15000, Loss: 1669.974938160455\n",
      "Epoch 50/15000, Loss: 1664.3508066178094\n",
      "Epoch 51/15000, Loss: 1658.7686463610046\n",
      "Epoch 52/15000, Loss: 1653.2324594455615\n",
      "Epoch 53/15000, Loss: 1647.7451877453946\n",
      "Epoch 54/15000, Loss: 1642.3107303038842\n",
      "Epoch 55/15000, Loss: 1636.9319129731762\n",
      "Epoch 56/15000, Loss: 1631.611977641682\n",
      "Epoch 57/15000, Loss: 1626.3531329483753\n",
      "Epoch 58/15000, Loss: 1621.1582494475806\n",
      "Epoch 59/15000, Loss: 1616.029473915417\n",
      "Epoch 60/15000, Loss: 1610.9684022497138\n",
      "Epoch 61/15000, Loss: 1605.9768466581754\n",
      "Epoch 62/15000, Loss: 1601.0563655163392\n",
      "Epoch 63/15000, Loss: 1596.207711850336\n",
      "Epoch 64/15000, Loss: 1591.4322824893259\n",
      "Epoch 65/15000, Loss: 1586.7301491444393\n",
      "Epoch 66/15000, Loss: 1582.1023845610205\n",
      "Epoch 67/15000, Loss: 1577.5483683648772\n",
      "Epoch 68/15000, Loss: 1573.068396035338\n",
      "Epoch 69/15000, Loss: 1568.6622871081242\n",
      "Epoch 70/15000, Loss: 1564.32945632001\n",
      "Epoch 71/15000, Loss: 1560.068750310511\n",
      "Epoch 72/15000, Loss: 1555.8801387096232\n",
      "Epoch 73/15000, Loss: 1551.7622333307738\n",
      "Epoch 74/15000, Loss: 1547.7142315007702\n",
      "Epoch 75/15000, Loss: 1543.7345299211813\n",
      "Epoch 76/15000, Loss: 1539.8220409478397\n",
      "Epoch 77/15000, Loss: 1535.9753444037603\n",
      "Epoch 78/15000, Loss: 1532.1928464159575\n",
      "Epoch 79/15000, Loss: 1528.4731687323233\n",
      "Epoch 80/15000, Loss: 1524.8148205543243\n",
      "Epoch 81/15000, Loss: 1521.2158293267883\n",
      "Epoch 82/15000, Loss: 1517.6750199441706\n",
      "Epoch 83/15000, Loss: 1514.1904003070072\n",
      "Epoch 84/15000, Loss: 1510.7602553583106\n",
      "Epoch 85/15000, Loss: 1507.383151044747\n",
      "Epoch 86/15000, Loss: 1504.0572241376783\n",
      "Epoch 87/15000, Loss: 1500.7808689733884\n",
      "Epoch 88/15000, Loss: 1497.552553288319\n",
      "Epoch 1/15000, Loss: 2341.0428951205427\n",
      "Epoch 2/15000, Loss: 2191.2996941129563\n",
      "Epoch 3/15000, Loss: 2126.900417972556\n",
      "Epoch 4/15000, Loss: 2084.293317200093\n",
      "Epoch 5/15000, Loss: 2051.909573089259\n",
      "Epoch 6/15000, Loss: 2025.4374914413697\n",
      "Epoch 7/15000, Loss: 2002.7635842125608\n",
      "Epoch 8/15000, Loss: 1982.6898870204363\n",
      "Epoch 9/15000, Loss: 1964.465969205987\n",
      "Epoch 10/15000, Loss: 1947.5895572371792\n",
      "Epoch 11/15000, Loss: 1931.7069198333768\n",
      "Epoch 12/15000, Loss: 1916.5593180488029\n",
      "Epoch 13/15000, Loss: 1901.954459443403\n",
      "Epoch 14/15000, Loss: 1887.7453312150926\n",
      "Epoch 15/15000, Loss: 1873.820436142315\n",
      "Epoch 16/15000, Loss: 1860.0937710358537\n",
      "Epoch 17/15000, Loss: 1846.5013414624552\n",
      "Epoch 18/15000, Loss: 1832.995227467559\n",
      "Epoch 19/15000, Loss: 1819.5422074764426\n",
      "Epoch 20/15000, Loss: 1806.1204901100662\n",
      "Epoch 21/15000, Loss: 1792.7186414629869\n",
      "Epoch 22/15000, Loss: 1779.3347593933238\n",
      "Epoch 23/15000, Loss: 1765.9739378130284\n",
      "Epoch 24/15000, Loss: 1752.6485093678189\n",
      "Epoch 25/15000, Loss: 1739.3758583884955\n",
      "Epoch 26/15000, Loss: 1726.17926710395\n",
      "Epoch 27/15000, Loss: 1713.084130969186\n",
      "Epoch 28/15000, Loss: 1700.1202905199625\n",
      "Epoch 29/15000, Loss: 1687.3184786383054\n",
      "Epoch 30/15000, Loss: 1674.7105291431023\n",
      "Epoch 31/15000, Loss: 1662.327857438358\n",
      "Epoch 32/15000, Loss: 1650.2013668689785\n",
      "Epoch 33/15000, Loss: 1638.3593340499906\n",
      "Epoch 34/15000, Loss: 1626.8285489070443\n",
      "Epoch 35/15000, Loss: 1615.6311478554499\n",
      "Epoch 36/15000, Loss: 1604.786652753276\n",
      "Epoch 37/15000, Loss: 1594.309917258129\n",
      "Epoch 38/15000, Loss: 1584.2119472286377\n",
      "Epoch 39/15000, Loss: 1574.4983210465032\n",
      "Epoch 40/15000, Loss: 1565.1723984702753\n",
      "Epoch 41/15000, Loss: 1556.2320259103158\n",
      "Epoch 42/15000, Loss: 1547.672406866601\n",
      "Epoch 43/15000, Loss: 1539.4849741874302\n",
      "Epoch 44/15000, Loss: 1531.658731659622\n",
      "Epoch 45/15000, Loss: 1524.1807257330563\n",
      "Epoch 46/15000, Loss: 1517.0358321199767\n",
      "Epoch 47/15000, Loss: 1510.207658251147\n",
      "Epoch 48/15000, Loss: 1503.6791824842528\n",
      "Epoch 49/15000, Loss: 1497.4331597594194\n",
      "Epoch 1/15000, Loss: 2247.42981396822\n",
      "Epoch 2/15000, Loss: 2129.978753510097\n",
      "Epoch 3/15000, Loss: 2074.4222674517\n",
      "Epoch 4/15000, Loss: 2035.6251618576562\n",
      "Epoch 5/15000, Loss: 2004.867013208296\n",
      "Epoch 6/15000, Loss: 1978.846228804905\n",
      "Epoch 7/15000, Loss: 1955.9231645389095\n",
      "Epoch 8/15000, Loss: 1935.151030464404\n",
      "Epoch 9/15000, Loss: 1915.9290213735508\n",
      "Epoch 10/15000, Loss: 1897.8531536931944\n",
      "Epoch 11/15000, Loss: 1880.6396456339435\n",
      "Epoch 12/15000, Loss: 1864.0857687795951\n",
      "Epoch 13/15000, Loss: 1848.0447626275563\n",
      "Epoch 14/15000, Loss: 1832.4109021646511\n",
      "Epoch 15/15000, Loss: 1817.1090727618293\n",
      "Epoch 16/15000, Loss: 1802.0880888875517\n",
      "Epoch 17/15000, Loss: 1787.3148945705968\n",
      "Epoch 18/15000, Loss: 1772.7715137122486\n",
      "Epoch 19/15000, Loss: 1758.4513313809582\n",
      "Epoch 20/15000, Loss: 1744.3562762916924\n",
      "Epoch 21/15000, Loss: 1730.4952111504874\n",
      "Epoch 22/15000, Loss: 1716.8819492820517\n",
      "Epoch 23/15000, Loss: 1703.532159006874\n",
      "Epoch 24/15000, Loss: 1690.464155310053\n",
      "Epoch 25/15000, Loss: 1677.6964502876922\n",
      "Epoch 26/15000, Loss: 1665.2458465557133\n",
      "Epoch 27/15000, Loss: 1653.128528282524\n",
      "Epoch 28/15000, Loss: 1641.3582341982817\n",
      "Epoch 29/15000, Loss: 1629.9452514275085\n",
      "Epoch 30/15000, Loss: 1618.8980020939682\n",
      "Epoch 31/15000, Loss: 1608.2209219647116\n",
      "Epoch 32/15000, Loss: 1597.9163912421755\n",
      "Epoch 33/15000, Loss: 1587.9822364284767\n",
      "Epoch 34/15000, Loss: 1578.4154511640875\n",
      "Epoch 35/15000, Loss: 1569.2092218833939\n",
      "Epoch 36/15000, Loss: 1560.3556107286606\n",
      "Epoch 37/15000, Loss: 1551.843792587662\n",
      "Epoch 38/15000, Loss: 1543.6620363303439\n",
      "Epoch 39/15000, Loss: 1535.7978520979018\n",
      "Epoch 40/15000, Loss: 1528.237689255723\n",
      "Epoch 41/15000, Loss: 1520.9671227463718\n",
      "Epoch 42/15000, Loss: 1513.9712548044151\n",
      "Epoch 43/15000, Loss: 1507.23576454247\n",
      "Epoch 44/15000, Loss: 1500.7459162188113\n",
      "Epoch 45/15000, Loss: 1494.4872093465824\n",
      "Epoch 1/15000, Loss: 2387.9985300997764\n",
      "Epoch 2/15000, Loss: 2217.0018506296556\n",
      "Epoch 3/15000, Loss: 2135.9009689381437\n",
      "Epoch 4/15000, Loss: 2082.6035711318727\n",
      "Epoch 5/15000, Loss: 2042.9981991268526\n",
      "Epoch 6/15000, Loss: 2011.4801148047563\n",
      "Epoch 7/15000, Loss: 1985.2211342545675\n",
      "Epoch 8/15000, Loss: 1962.5862920126697\n",
      "Epoch 9/15000, Loss: 1942.5488560076033\n",
      "Epoch 10/15000, Loss: 1924.4244329310745\n",
      "Epoch 11/15000, Loss: 1907.7394549714709\n",
      "Epoch 12/15000, Loss: 1892.1527383869936\n",
      "Epoch 13/15000, Loss: 1877.4159282763328\n",
      "Epoch 14/15000, Loss: 1863.3427987809782\n",
      "Epoch 15/15000, Loss: 1849.7920943714432\n",
      "Epoch 16/15000, Loss: 1836.654967907674\n",
      "Epoch 17/15000, Loss: 1823.8483211685286\n",
      "Epoch 18/15000, Loss: 1811.307852816121\n",
      "Epoch 19/15000, Loss: 1798.984511497525\n",
      "Epoch 20/15000, Loss: 1786.841396294696\n",
      "Epoch 21/15000, Loss: 1774.8506246444445\n",
      "Epoch 22/15000, Loss: 1762.9923840455633\n",
      "Epoch 23/15000, Loss: 1751.2543933351908\n",
      "Epoch 24/15000, Loss: 1739.6283314799991\n",
      "Epoch 25/15000, Loss: 1728.1110161813062\n",
      "Epoch 26/15000, Loss: 1716.7029714699643\n",
      "Epoch 27/15000, Loss: 1705.4076015719374\n",
      "Epoch 28/15000, Loss: 1694.2307216374409\n",
      "Epoch 29/15000, Loss: 1683.1791570932628\n",
      "Epoch 30/15000, Loss: 1672.2617148014476\n",
      "Epoch 31/15000, Loss: 1661.4885370759666\n",
      "Epoch 32/15000, Loss: 1650.8691825653957\n",
      "Epoch 33/15000, Loss: 1640.4136068355763\n",
      "Epoch 34/15000, Loss: 1630.131333989226\n",
      "Epoch 35/15000, Loss: 1620.0322945904754\n",
      "Epoch 36/15000, Loss: 1610.124947190477\n",
      "Epoch 37/15000, Loss: 1600.4170612279308\n",
      "Epoch 38/15000, Loss: 1590.915203351501\n",
      "Epoch 39/15000, Loss: 1581.6252584487975\n",
      "Epoch 40/15000, Loss: 1572.5516058620658\n",
      "Epoch 41/15000, Loss: 1563.6981609830034\n",
      "Epoch 42/15000, Loss: 1555.0668791712521\n",
      "Epoch 43/15000, Loss: 1546.6594405447584\n",
      "Epoch 44/15000, Loss: 1538.4755297986555\n",
      "Epoch 45/15000, Loss: 1530.5148371014393\n",
      "Epoch 46/15000, Loss: 1522.7755303199224\n",
      "Epoch 47/15000, Loss: 1515.2554468241487\n",
      "Epoch 48/15000, Loss: 1507.9515791755575\n",
      "Epoch 49/15000, Loss: 1500.8598318837849\n",
      "Epoch 50/15000, Loss: 1493.9768113714795\n",
      "Epoch 1/15000, Loss: 2305.6829347791486\n",
      "Epoch 2/15000, Loss: 2159.93965251815\n",
      "Epoch 3/15000, Loss: 2096.9495664161163\n",
      "Epoch 4/15000, Loss: 2056.474050867678\n",
      "Epoch 5/15000, Loss: 2026.1183493137441\n",
      "Epoch 6/15000, Loss: 2001.4450737975742\n",
      "Epoch 7/15000, Loss: 1980.413370364046\n",
      "Epoch 8/15000, Loss: 1961.9054699709434\n",
      "Epoch 9/15000, Loss: 1945.2288663600084\n",
      "Epoch 10/15000, Loss: 1929.9164534813901\n",
      "Epoch 11/15000, Loss: 1915.6360095037253\n",
      "Epoch 12/15000, Loss: 1902.1426394976047\n",
      "Epoch 13/15000, Loss: 1889.2490892241767\n",
      "Epoch 14/15000, Loss: 1876.8125084725766\n",
      "Epoch 15/15000, Loss: 1864.719433734877\n",
      "Epoch 16/15000, Loss: 1852.8809375391538\n",
      "Epoch 17/15000, Loss: 1841.2273665135028\n",
      "Epoch 18/15000, Loss: 1829.7029262298838\n",
      "Epoch 19/15000, Loss: 1818.2645299341775\n",
      "Epoch 20/15000, Loss: 1806.8787939896738\n",
      "Epoch 21/15000, Loss: 1795.521164576415\n",
      "Epoch 22/15000, Loss: 1784.174820030004\n",
      "Epoch 23/15000, Loss: 1772.828130801985\n",
      "Epoch 24/15000, Loss: 1761.476131985578\n",
      "Epoch 25/15000, Loss: 1750.1179764527558\n",
      "Epoch 26/15000, Loss: 1738.758084968258\n",
      "Epoch 27/15000, Loss: 1727.403531462505\n",
      "Epoch 28/15000, Loss: 1716.0650870961413\n",
      "Epoch 29/15000, Loss: 1704.7570043366961\n",
      "Epoch 30/15000, Loss: 1693.4948133776363\n",
      "Epoch 31/15000, Loss: 1682.2961762096654\n",
      "Epoch 32/15000, Loss: 1671.1797013387418\n",
      "Epoch 33/15000, Loss: 1660.1654340671482\n",
      "Epoch 34/15000, Loss: 1649.2732917991661\n",
      "Epoch 35/15000, Loss: 1638.5229529270005\n",
      "Epoch 36/15000, Loss: 1627.9341531345417\n",
      "Epoch 37/15000, Loss: 1617.5250892975425\n",
      "Epoch 38/15000, Loss: 1607.3125225242065\n",
      "Epoch 39/15000, Loss: 1597.3121658618854\n",
      "Epoch 40/15000, Loss: 1587.5374989687693\n",
      "Epoch 41/15000, Loss: 1578.0007808339842\n",
      "Epoch 42/15000, Loss: 1568.7115462063255\n",
      "Epoch 43/15000, Loss: 1559.6772172242336\n",
      "Epoch 44/15000, Loss: 1550.9032253641349\n",
      "Epoch 45/15000, Loss: 1542.3933428698867\n",
      "Epoch 46/15000, Loss: 1534.1487056713227\n",
      "Epoch 47/15000, Loss: 1526.1688166781964\n",
      "Epoch 48/15000, Loss: 1518.4520710273675\n",
      "Epoch 49/15000, Loss: 1510.9946955598919\n",
      "Epoch 50/15000, Loss: 1503.791913994592\n",
      "Epoch 51/15000, Loss: 1496.8375638192506\n",
      "Epoch 1/15000, Loss: 2323.0687024905033\n",
      "Epoch 2/15000, Loss: 2221.992705288293\n",
      "Epoch 3/15000, Loss: 2165.774368664725\n",
      "Epoch 4/15000, Loss: 2126.644740344428\n",
      "Epoch 5/15000, Loss: 2096.9645349859734\n",
      "Epoch 6/15000, Loss: 2073.1804170832365\n",
      "Epoch 7/15000, Loss: 2053.339379703258\n",
      "Epoch 8/15000, Loss: 2036.2646692933374\n",
      "Epoch 9/15000, Loss: 2021.1996450331176\n",
      "Epoch 10/15000, Loss: 2007.6336883691895\n",
      "Epoch 11/15000, Loss: 1995.2048492163658\n",
      "Epoch 12/15000, Loss: 1983.6480537348666\n",
      "Epoch 13/15000, Loss: 1972.763374830824\n",
      "Epoch 14/15000, Loss: 1962.3960691185955\n",
      "Epoch 15/15000, Loss: 1952.423795695928\n",
      "Epoch 16/15000, Loss: 1942.7474729499752\n",
      "Epoch 17/15000, Loss: 1933.286649758143\n",
      "Epoch 18/15000, Loss: 1923.9740259827033\n",
      "Epoch 19/15000, Loss: 1914.7541912931385\n",
      "Epoch 20/15000, Loss: 1905.5803895848321\n",
      "Epoch 21/15000, Loss: 1896.4129068470536\n",
      "Epoch 22/15000, Loss: 1887.2188360689793\n",
      "Epoch 23/15000, Loss: 1877.9702955676132\n",
      "Epoch 24/15000, Loss: 1868.6444347484594\n",
      "Epoch 25/15000, Loss: 1859.2229766470796\n",
      "Epoch 26/15000, Loss: 1849.691174905185\n",
      "Epoch 27/15000, Loss: 1840.038305328157\n",
      "Epoch 28/15000, Loss: 1830.2573926716348\n",
      "Epoch 29/15000, Loss: 1820.3446786321713\n",
      "Epoch 30/15000, Loss: 1810.2996528495314\n",
      "Epoch 31/15000, Loss: 1800.125315687855\n",
      "Epoch 32/15000, Loss: 1789.82650825276\n",
      "Epoch 33/15000, Loss: 1779.4124676956353\n",
      "Epoch 34/15000, Loss: 1768.8932475540964\n",
      "Epoch 35/15000, Loss: 1758.2833090338477\n",
      "Epoch 36/15000, Loss: 1747.5970138960954\n",
      "Epoch 37/15000, Loss: 1736.8527099551304\n",
      "Epoch 38/15000, Loss: 1726.0684420051157\n",
      "Epoch 39/15000, Loss: 1715.2650747240073\n",
      "Epoch 40/15000, Loss: 1704.4629699557481\n",
      "Epoch 41/15000, Loss: 1693.6838504683296\n",
      "Epoch 42/15000, Loss: 1682.9495300283777\n",
      "Epoch 43/15000, Loss: 1672.2815013888571\n",
      "Epoch 44/15000, Loss: 1661.7008205427371\n",
      "Epoch 45/15000, Loss: 1651.2275230101009\n",
      "Epoch 46/15000, Loss: 1640.8808381902518\n",
      "Epoch 47/15000, Loss: 1630.6788869292482\n",
      "Epoch 48/15000, Loss: 1620.6377523741953\n",
      "Epoch 49/15000, Loss: 1610.7727355632596\n",
      "Epoch 50/15000, Loss: 1601.0967518225127\n",
      "Epoch 51/15000, Loss: 1591.6212956591105\n",
      "Epoch 52/15000, Loss: 1582.355488792559\n",
      "Epoch 53/15000, Loss: 1573.307500427155\n",
      "Epoch 54/15000, Loss: 1564.48333715666\n",
      "Epoch 55/15000, Loss: 1555.8871447698286\n",
      "Epoch 56/15000, Loss: 1547.521604723993\n",
      "Epoch 57/15000, Loss: 1539.388351491009\n",
      "Epoch 58/15000, Loss: 1531.4868459198062\n",
      "Epoch 59/15000, Loss: 1523.8163687373674\n",
      "Epoch 60/15000, Loss: 1516.3745222308762\n",
      "Epoch 61/15000, Loss: 1509.157607491728\n",
      "Epoch 62/15000, Loss: 1502.161711503259\n",
      "Epoch 63/15000, Loss: 1495.3818983330268\n",
      "Epoch 1/15000, Loss: 1939.672860085136\n",
      "Epoch 2/15000, Loss: 1907.4870909783942\n",
      "Epoch 3/15000, Loss: 1888.9048500992517\n",
      "Epoch 4/15000, Loss: 1875.4721520496764\n",
      "Epoch 5/15000, Loss: 1864.715554501029\n",
      "Epoch 6/15000, Loss: 1855.5200292934899\n",
      "Epoch 7/15000, Loss: 1847.2699133598362\n",
      "Epoch 8/15000, Loss: 1839.5827592754456\n",
      "Epoch 9/15000, Loss: 1832.201936734418\n",
      "Epoch 10/15000, Loss: 1824.9458714960613\n",
      "Epoch 11/15000, Loss: 1817.6790761746677\n",
      "Epoch 12/15000, Loss: 1810.2982872699984\n",
      "Epoch 13/15000, Loss: 1802.7209267615133\n",
      "Epoch 14/15000, Loss: 1794.8812044156834\n",
      "Epoch 15/15000, Loss: 1786.7262746058018\n",
      "Epoch 16/15000, Loss: 1778.212627393719\n",
      "Epoch 17/15000, Loss: 1769.3074224013674\n",
      "Epoch 18/15000, Loss: 1759.98535823392\n",
      "Epoch 19/15000, Loss: 1750.2301265714984\n",
      "Epoch 20/15000, Loss: 1740.0331331226826\n",
      "Epoch 21/15000, Loss: 1729.395181964962\n",
      "Epoch 22/15000, Loss: 1718.3246504139954\n",
      "Epoch 23/15000, Loss: 1706.839796351145\n",
      "Epoch 24/15000, Loss: 1694.9664188938461\n",
      "Epoch 25/15000, Loss: 1682.7389679526864\n",
      "Epoch 26/15000, Loss: 1670.199922780589\n",
      "Epoch 27/15000, Loss: 1657.3978606330797\n",
      "Epoch 28/15000, Loss: 1644.3873109829335\n",
      "Epoch 29/15000, Loss: 1631.2276737607797\n",
      "Epoch 30/15000, Loss: 1617.980086898892\n",
      "Epoch 31/15000, Loss: 1604.7068376342727\n",
      "Epoch 32/15000, Loss: 1591.4696825337712\n",
      "Epoch 33/15000, Loss: 1578.328199255201\n",
      "Epoch 34/15000, Loss: 1565.336130420677\n",
      "Epoch 35/15000, Loss: 1552.5451819167238\n",
      "Epoch 36/15000, Loss: 1539.9985278221495\n",
      "Epoch 37/15000, Loss: 1527.732638530131\n",
      "Epoch 38/15000, Loss: 1515.7778696522544\n",
      "Epoch 39/15000, Loss: 1504.1563567859655\n",
      "Epoch 40/15000, Loss: 1492.883935236686\n",
      "Epoch 1/15000, Loss: 1927.0792599927815\n",
      "Epoch 2/15000, Loss: 1888.396530884076\n",
      "Epoch 3/15000, Loss: 1866.0657016391078\n",
      "Epoch 4/15000, Loss: 1849.7197399878335\n",
      "Epoch 5/15000, Loss: 1836.3416289264085\n",
      "Epoch 6/15000, Loss: 1824.594431203786\n",
      "Epoch 7/15000, Loss: 1813.7682801583355\n",
      "Epoch 8/15000, Loss: 1803.4453017308895\n",
      "Epoch 9/15000, Loss: 1793.3639595408677\n",
      "Epoch 10/15000, Loss: 1783.3517671944992\n",
      "Epoch 11/15000, Loss: 1773.2934901973015\n",
      "Epoch 12/15000, Loss: 1763.1122343780771\n",
      "Epoch 13/15000, Loss: 1752.7584461209417\n",
      "Epoch 14/15000, Loss: 1742.20309130023\n",
      "Epoch 15/15000, Loss: 1731.433815534321\n",
      "Epoch 16/15000, Loss: 1720.4508644761345\n",
      "Epoch 17/15000, Loss: 1709.2652060857936\n",
      "Epoch 18/15000, Loss: 1697.8965889078895\n",
      "Epoch 19/15000, Loss: 1686.3712180295133\n",
      "Epoch 20/15000, Loss: 1674.7204740672614\n",
      "Epoch 21/15000, Loss: 1662.9790953499853\n",
      "Epoch 22/15000, Loss: 1651.1840607677916\n",
      "Epoch 23/15000, Loss: 1639.373061518128\n",
      "Epoch 24/15000, Loss: 1627.5827971220185\n",
      "Epoch 25/15000, Loss: 1615.848503522273\n",
      "Epoch 26/15000, Loss: 1604.2032140858264\n",
      "Epoch 27/15000, Loss: 1592.6760490979673\n",
      "Epoch 28/15000, Loss: 1581.2938068726276\n",
      "Epoch 29/15000, Loss: 1570.0784573786088\n",
      "Epoch 30/15000, Loss: 1559.0477466072819\n",
      "Epoch 31/15000, Loss: 1548.2170973961977\n",
      "Epoch 32/15000, Loss: 1537.596936753057\n",
      "Epoch 33/15000, Loss: 1527.1952774928018\n",
      "Epoch 34/15000, Loss: 1517.0170980610303\n",
      "Epoch 35/15000, Loss: 1507.0647358232409\n",
      "Epoch 36/15000, Loss: 1497.338945601675\n",
      "Epoch 1/15000, Loss: 1920.4119026667806\n",
      "Epoch 2/15000, Loss: 1879.251639083527\n",
      "Epoch 3/15000, Loss: 1856.5200990814112\n",
      "Epoch 4/15000, Loss: 1839.9300508295582\n",
      "Epoch 5/15000, Loss: 1826.11610646259\n",
      "Epoch 6/15000, Loss: 1813.691499897632\n",
      "Epoch 7/15000, Loss: 1801.9556714560565\n",
      "Epoch 8/15000, Loss: 1790.5082240739985\n",
      "Epoch 9/15000, Loss: 1779.1033400620047\n",
      "Epoch 10/15000, Loss: 1767.5827499581987\n",
      "Epoch 11/15000, Loss: 1755.8440457496179\n",
      "Epoch 12/15000, Loss: 1743.8247624249382\n",
      "Epoch 13/15000, Loss: 1731.4922378279848\n",
      "Epoch 14/15000, Loss: 1718.8372751054235\n",
      "Epoch 15/15000, Loss: 1705.8713565941146\n",
      "Epoch 16/15000, Loss: 1692.6233078229434\n",
      "Epoch 17/15000, Loss: 1679.1371839544247\n",
      "Epoch 18/15000, Loss: 1665.4687308799832\n",
      "Epoch 19/15000, Loss: 1651.6828173297586\n",
      "Epoch 20/15000, Loss: 1637.8511988671487\n",
      "Epoch 21/15000, Loss: 1624.0478424387757\n",
      "Epoch 22/15000, Loss: 1610.346654943309\n",
      "Epoch 23/15000, Loss: 1596.8194058887493\n",
      "Epoch 24/15000, Loss: 1583.5308442336009\n",
      "Epoch 25/15000, Loss: 1570.5388184791955\n",
      "Epoch 26/15000, Loss: 1557.8914769413298\n",
      "Epoch 27/15000, Loss: 1545.6268994118145\n",
      "Epoch 28/15000, Loss: 1533.7731441458275\n",
      "Epoch 29/15000, Loss: 1522.3480971589452\n",
      "Epoch 30/15000, Loss: 1511.3606739334393\n",
      "Epoch 31/15000, Loss: 1500.8110120248245\n",
      "Epoch 32/15000, Loss: 1490.6931816781498\n",
      "Epoch 1/15000, Loss: 1948.6639325353563\n",
      "Epoch 2/15000, Loss: 1915.11115828281\n",
      "Epoch 3/15000, Loss: 1894.9024697594175\n",
      "Epoch 4/15000, Loss: 1879.8988640701273\n",
      "Epoch 5/15000, Loss: 1867.486056142483\n",
      "Epoch 6/15000, Loss: 1856.444814598416\n",
      "Epoch 7/15000, Loss: 1846.104600251285\n",
      "Epoch 8/15000, Loss: 1836.0575579500949\n",
      "Epoch 9/15000, Loss: 1826.0369733944929\n",
      "Epoch 10/15000, Loss: 1815.8632445333621\n",
      "Epoch 11/15000, Loss: 1805.4093804936717\n",
      "Epoch 12/15000, Loss: 1794.590298105611\n",
      "Epoch 13/15000, Loss: 1783.3507820636503\n",
      "Epoch 14/15000, Loss: 1771.6604035571636\n",
      "Epoch 15/15000, Loss: 1759.5113664620083\n",
      "Epoch 16/15000, Loss: 1746.915149660363\n",
      "Epoch 17/15000, Loss: 1733.9022960565426\n",
      "Epoch 18/15000, Loss: 1720.5184971294257\n",
      "Epoch 19/15000, Loss: 1706.8254372835938\n",
      "Epoch 20/15000, Loss: 1692.8957126189534\n",
      "Epoch 21/15000, Loss: 1678.8121351583632\n",
      "Epoch 22/15000, Loss: 1664.6628007540733\n",
      "Epoch 23/15000, Loss: 1650.539793614724\n",
      "Epoch 24/15000, Loss: 1636.5330764002824\n",
      "Epoch 25/15000, Loss: 1622.7288439576175\n",
      "Epoch 26/15000, Loss: 1609.2067213220141\n",
      "Epoch 27/15000, Loss: 1596.0354768905665\n",
      "Epoch 28/15000, Loss: 1583.2728328828512\n",
      "Epoch 29/15000, Loss: 1570.964190123638\n",
      "Epoch 30/15000, Loss: 1559.1410089738024\n",
      "Epoch 31/15000, Loss: 1547.8229858817028\n",
      "Epoch 32/15000, Loss: 1537.018045119923\n",
      "Epoch 33/15000, Loss: 1526.722804129903\n",
      "Epoch 34/15000, Loss: 1516.9258765694515\n",
      "Epoch 35/15000, Loss: 1507.6086150612948\n",
      "Epoch 36/15000, Loss: 1498.7465599869736\n",
      "Epoch 1/15000, Loss: 1907.7260215990325\n",
      "Epoch 2/15000, Loss: 1872.8040291054724\n",
      "Epoch 3/15000, Loss: 1852.1944485226204\n",
      "Epoch 4/15000, Loss: 1836.48564342773\n",
      "Epoch 5/15000, Loss: 1823.1797036864948\n",
      "Epoch 6/15000, Loss: 1811.2227299555418\n",
      "Epoch 7/15000, Loss: 1800.0573961125056\n",
      "Epoch 8/15000, Loss: 1789.3488027200228\n",
      "Epoch 9/15000, Loss: 1778.880712336737\n",
      "Epoch 10/15000, Loss: 1768.5077398429435\n",
      "Epoch 11/15000, Loss: 1758.1309125372054\n",
      "Epoch 12/15000, Loss: 1747.6859721613646\n",
      "Epoch 13/15000, Loss: 1737.1333266495446\n",
      "Epoch 14/15000, Loss: 1726.4538883033465\n",
      "Epoch 15/15000, Loss: 1715.6432497451635\n",
      "Epoch 16/15000, Loss: 1704.7104430944867\n",
      "Epoch 17/15000, Loss: 1693.6741422516309\n",
      "Epoch 18/15000, Loss: 1682.5609661865271\n",
      "Epoch 19/15000, Loss: 1671.403369954325\n",
      "Epoch 20/15000, Loss: 1660.2373146920092\n",
      "Epoch 21/15000, Loss: 1649.101023848112\n",
      "Epoch 22/15000, Loss: 1638.0325248989673\n",
      "Epoch 23/15000, Loss: 1627.06915893529\n",
      "Epoch 24/15000, Loss: 1616.2461972994586\n",
      "Epoch 25/15000, Loss: 1605.5947646680308\n",
      "Epoch 26/15000, Loss: 1595.14368046911\n",
      "Epoch 27/15000, Loss: 1584.9152806020004\n",
      "Epoch 28/15000, Loss: 1574.928470057703\n",
      "Epoch 29/15000, Loss: 1565.1974235950017\n",
      "Epoch 30/15000, Loss: 1555.730599374378\n",
      "Epoch 31/15000, Loss: 1546.5334531818025\n",
      "Epoch 32/15000, Loss: 1537.6071380224053\n",
      "Epoch 33/15000, Loss: 1528.9483750000386\n",
      "Epoch 34/15000, Loss: 1520.5523167214405\n",
      "Epoch 35/15000, Loss: 1512.4105269978188\n",
      "Epoch 36/15000, Loss: 1504.5129441617378\n",
      "Epoch 37/15000, Loss: 1496.8481079352962\n",
      "Epoch 1/15000, Loss: 1867.3748045708535\n",
      "Epoch 2/15000, Loss: 1825.5047578236065\n",
      "Epoch 3/15000, Loss: 1797.7835479603466\n",
      "Epoch 4/15000, Loss: 1775.2728483447927\n",
      "Epoch 5/15000, Loss: 1755.5164438222591\n",
      "Epoch 6/15000, Loss: 1737.407047918308\n",
      "Epoch 7/15000, Loss: 1720.3415980275681\n",
      "Epoch 8/15000, Loss: 1703.9635826042834\n",
      "Epoch 9/15000, Loss: 1688.0575455652283\n",
      "Epoch 10/15000, Loss: 1672.4964293270252\n",
      "Epoch 11/15000, Loss: 1657.2119659883722\n",
      "Epoch 12/15000, Loss: 1642.1759673184645\n",
      "Epoch 13/15000, Loss: 1627.3867042799984\n",
      "Epoch 14/15000, Loss: 1612.8607200945323\n",
      "Epoch 15/15000, Loss: 1598.623093765871\n",
      "Epoch 16/15000, Loss: 1584.7054465073968\n",
      "Epoch 17/15000, Loss: 1571.1380245478063\n",
      "Epoch 18/15000, Loss: 1557.9480965516232\n",
      "Epoch 19/15000, Loss: 1545.158159846616\n",
      "Epoch 20/15000, Loss: 1532.7836606243773\n",
      "Epoch 21/15000, Loss: 1520.833086673066\n",
      "Epoch 22/15000, Loss: 1509.3076427586745\n",
      "Epoch 23/15000, Loss: 1498.2018676358184\n",
      "Epoch 1/15000, Loss: 1893.184302708944\n",
      "Epoch 2/15000, Loss: 1854.2931942317443\n",
      "Epoch 3/15000, Loss: 1830.1146705687656\n",
      "Epoch 4/15000, Loss: 1811.5254769725716\n",
      "Epoch 5/15000, Loss: 1795.7112519102348\n",
      "Epoch 6/15000, Loss: 1781.393131639662\n",
      "Epoch 7/15000, Loss: 1767.857832794319\n",
      "Epoch 8/15000, Loss: 1754.6576993945378\n",
      "Epoch 9/15000, Loss: 1741.4896645836075\n",
      "Epoch 10/15000, Loss: 1728.1404420659696\n",
      "Epoch 11/15000, Loss: 1714.4613254291085\n",
      "Epoch 12/15000, Loss: 1700.3515287914663\n",
      "Epoch 13/15000, Loss: 1685.751565242399\n",
      "Epoch 14/15000, Loss: 1670.6401389224557\n",
      "Epoch 15/15000, Loss: 1655.0308258445489\n",
      "Epoch 16/15000, Loss: 1638.9690623077238\n",
      "Epoch 17/15000, Loss: 1622.531704690289\n",
      "Epoch 18/15000, Loss: 1605.819826218077\n",
      "Epoch 19/15000, Loss: 1588.954558996674\n",
      "Epoch 20/15000, Loss: 1572.071155699791\n",
      "Epoch 21/15000, Loss: 1555.3093161981462\n",
      "Epoch 22/15000, Loss: 1538.8059907878933\n",
      "Epoch 23/15000, Loss: 1522.688869354296\n",
      "Epoch 24/15000, Loss: 1507.0686392629032\n",
      "Epoch 25/15000, Loss: 1492.0353172904388\n",
      "Epoch 1/15000, Loss: 1892.1288824854157\n",
      "Epoch 2/15000, Loss: 1852.215661371038\n",
      "Epoch 3/15000, Loss: 1827.6832352547651\n",
      "Epoch 4/15000, Loss: 1809.076977508658\n",
      "Epoch 5/15000, Loss: 1793.430632901091\n",
      "Epoch 6/15000, Loss: 1779.4052634084744\n",
      "Epoch 7/15000, Loss: 1766.2655357765802\n",
      "Epoch 8/15000, Loss: 1753.5565268623388\n",
      "Epoch 9/15000, Loss: 1740.9737203638751\n",
      "Epoch 10/15000, Loss: 1728.3047599997522\n",
      "Epoch 11/15000, Loss: 1715.3977711257037\n",
      "Epoch 12/15000, Loss: 1702.144283685659\n",
      "Epoch 13/15000, Loss: 1688.4720734765506\n",
      "Epoch 14/15000, Loss: 1674.3379808729305\n",
      "Epoch 15/15000, Loss: 1659.7265523866715\n",
      "Epoch 16/15000, Loss: 1644.6480796844357\n",
      "Epoch 17/15000, Loss: 1629.1377628013963\n",
      "Epoch 18/15000, Loss: 1613.2522559177282\n",
      "Epoch 19/15000, Loss: 1597.0691652437868\n",
      "Epoch 20/15000, Loss: 1580.6815737659044\n",
      "Epoch 21/15000, Loss: 1564.196000150419\n",
      "Epoch 22/15000, Loss: 1547.7248245038052\n",
      "Epoch 23/15000, Loss: 1531.382778674013\n",
      "Epoch 24/15000, Loss: 1515.280261802889\n",
      "Epoch 25/15000, Loss: 1499.519202406694\n",
      "Epoch 1/15000, Loss: 1895.4077408101928\n",
      "Epoch 2/15000, Loss: 1853.586460066909\n",
      "Epoch 3/15000, Loss: 1827.0801980313452\n",
      "Epoch 4/15000, Loss: 1806.995513639583\n",
      "Epoch 5/15000, Loss: 1790.242542092712\n",
      "Epoch 6/15000, Loss: 1775.3425955228872\n",
      "Epoch 7/15000, Loss: 1761.4790916210084\n",
      "Epoch 8/15000, Loss: 1748.1559210742905\n",
      "Epoch 9/15000, Loss: 1735.0532892021463\n",
      "Epoch 10/15000, Loss: 1721.9559755211133\n",
      "Epoch 11/15000, Loss: 1708.7197224750698\n",
      "Epoch 12/15000, Loss: 1695.2494987450293\n",
      "Epoch 13/15000, Loss: 1681.4924979961172\n",
      "Epoch 14/15000, Loss: 1667.4278623263926\n",
      "Epoch 15/15000, Loss: 1653.0641498026446\n",
      "Epoch 16/15000, Loss: 1638.4348406250554\n",
      "Epoch 17/15000, Loss: 1623.5933292967013\n",
      "Epoch 18/15000, Loss: 1608.6095917622026\n",
      "Epoch 19/15000, Loss: 1593.5655199618923\n",
      "Epoch 20/15000, Loss: 1578.5487567326593\n",
      "Epoch 21/15000, Loss: 1563.649037697644\n",
      "Epoch 22/15000, Loss: 1548.9527119061052\n",
      "Epoch 23/15000, Loss: 1534.5390167877958\n",
      "Epoch 24/15000, Loss: 1520.476901029221\n",
      "Epoch 25/15000, Loss: 1506.8231220406603\n",
      "Epoch 26/15000, Loss: 1493.6204585397627\n",
      "Epoch 1/15000, Loss: 1871.140244441953\n",
      "Epoch 2/15000, Loss: 1829.1817433332799\n",
      "Epoch 3/15000, Loss: 1802.811670550318\n",
      "Epoch 4/15000, Loss: 1782.342928191564\n",
      "Epoch 5/15000, Loss: 1764.9003873626186\n",
      "Epoch 6/15000, Loss: 1749.1900287490002\n",
      "Epoch 7/15000, Loss: 1734.5072532861095\n",
      "Epoch 8/15000, Loss: 1720.425895999692\n",
      "Epoch 9/15000, Loss: 1706.6707988457003\n",
      "Epoch 10/15000, Loss: 1693.061097059362\n",
      "Epoch 11/15000, Loss: 1679.4783991161232\n",
      "Epoch 12/15000, Loss: 1665.849453312662\n",
      "Epoch 13/15000, Loss: 1652.1348933133274\n",
      "Epoch 14/15000, Loss: 1638.3216645867276\n",
      "Epoch 15/15000, Loss: 1624.4171679478416\n",
      "Epoch 16/15000, Loss: 1610.4450329344916\n",
      "Epoch 17/15000, Loss: 1596.441399085745\n",
      "Epoch 18/15000, Loss: 1582.4504768367383\n",
      "Epoch 19/15000, Loss: 1568.5227713088439\n",
      "Epoch 20/15000, Loss: 1554.7106181977074\n",
      "Epoch 21/15000, Loss: 1541.0667411472914\n",
      "Epoch 22/15000, Loss: 1527.6409704237697\n",
      "Epoch 23/15000, Loss: 1514.4793037567597\n",
      "Epoch 24/15000, Loss: 1501.6219550665967\n",
      "Epoch 25/15000, Loss: 1489.1025451199282\n",
      "Epoch 1/15000, Loss: 1856.0102442936432\n",
      "Epoch 2/15000, Loss: 1804.3458739287175\n",
      "Epoch 3/15000, Loss: 1771.6954104070928\n",
      "Epoch 4/15000, Loss: 1746.5406058314338\n",
      "Epoch 5/15000, Loss: 1725.397290508729\n",
      "Epoch 6/15000, Loss: 1706.6385171615589\n",
      "Epoch 7/15000, Loss: 1689.3419680448546\n",
      "Epoch 8/15000, Loss: 1672.9353023554045\n",
      "Epoch 9/15000, Loss: 1657.0483750968774\n",
      "Epoch 10/15000, Loss: 1641.4390823149229\n",
      "Epoch 11/15000, Loss: 1625.9515467801068\n",
      "Epoch 12/15000, Loss: 1610.4903910545333\n",
      "Epoch 13/15000, Loss: 1595.0060653647\n",
      "Epoch 14/15000, Loss: 1579.4815929839308\n",
      "Epoch 15/15000, Loss: 1563.9263610569476\n",
      "Epoch 16/15000, Loss: 1548.3686482565643\n",
      "Epoch 17/15000, Loss: 1532.8497477399796\n",
      "Epoch 18/15000, Loss: 1517.419356499238\n",
      "Epoch 19/15000, Loss: 1502.131795617168\n",
      "Epoch 20/15000, Loss: 1487.0419518768838\n",
      "Epoch 1/15000, Loss: 1898.5178232733624\n",
      "Epoch 2/15000, Loss: 1849.6448510659948\n",
      "Epoch 3/15000, Loss: 1818.919443767581\n",
      "Epoch 4/15000, Loss: 1794.8110944121247\n",
      "Epoch 5/15000, Loss: 1773.843800477177\n",
      "Epoch 6/15000, Loss: 1754.497151040555\n",
      "Epoch 7/15000, Loss: 1735.951218688361\n",
      "Epoch 8/15000, Loss: 1717.7129840754887\n",
      "Epoch 9/15000, Loss: 1699.478331608609\n",
      "Epoch 10/15000, Loss: 1681.0691252368574\n",
      "Epoch 11/15000, Loss: 1662.4032407217828\n",
      "Epoch 12/15000, Loss: 1643.4730169183101\n",
      "Epoch 13/15000, Loss: 1624.3328226129522\n",
      "Epoch 14/15000, Loss: 1605.0855993417076\n",
      "Epoch 15/15000, Loss: 1585.868493057845\n",
      "Epoch 16/15000, Loss: 1566.8402443377215\n",
      "Epoch 17/15000, Loss: 1548.1656298080065\n",
      "Epoch 18/15000, Loss: 1530.0024949603123\n",
      "Epoch 19/15000, Loss: 1512.4906236418833\n",
      "Epoch 20/15000, Loss: 1495.7419363375857\n",
      "Epoch 1/15000, Loss: 1908.9196864399614\n",
      "Epoch 2/15000, Loss: 1863.5182658880028\n",
      "Epoch 3/15000, Loss: 1835.958058378101\n",
      "Epoch 4/15000, Loss: 1814.72921884\n",
      "Epoch 5/15000, Loss: 1796.617440547586\n",
      "Epoch 6/15000, Loss: 1780.2120730930699\n",
      "Epoch 7/15000, Loss: 1764.7428777682853\n",
      "Epoch 8/15000, Loss: 1749.734846356948\n",
      "Epoch 9/15000, Loss: 1734.8732444998418\n",
      "Epoch 10/15000, Loss: 1719.9428495212724\n",
      "Epoch 11/15000, Loss: 1704.796691020877\n",
      "Epoch 12/15000, Loss: 1689.340119838427\n",
      "Epoch 13/15000, Loss: 1673.521276149653\n",
      "Epoch 14/15000, Loss: 1657.3246647021754\n",
      "Epoch 15/15000, Loss: 1640.766550768982\n",
      "Epoch 16/15000, Loss: 1623.890907832896\n",
      "Epoch 17/15000, Loss: 1606.764497674899\n",
      "Epoch 18/15000, Loss: 1589.470469986385\n",
      "Epoch 19/15000, Loss: 1572.104119142737\n",
      "Epoch 20/15000, Loss: 1554.7652555063833\n",
      "Epoch 21/15000, Loss: 1537.5543900426887\n",
      "Epoch 22/15000, Loss: 1520.565351889059\n",
      "Epoch 23/15000, Loss: 1503.88347276071\n",
      "Epoch 24/15000, Loss: 1487.5803693998414\n",
      "Epoch 1/15000, Loss: 1891.7538292237498\n",
      "Epoch 2/15000, Loss: 1844.3644060897318\n",
      "Epoch 3/15000, Loss: 1814.0742855775118\n",
      "Epoch 4/15000, Loss: 1790.0250461290275\n",
      "Epoch 5/15000, Loss: 1769.125155566656\n",
      "Epoch 6/15000, Loss: 1749.9635393033345\n",
      "Epoch 7/15000, Loss: 1731.7549683842644\n",
      "Epoch 8/15000, Loss: 1714.016434496012\n",
      "Epoch 9/15000, Loss: 1696.4406544175647\n",
      "Epoch 10/15000, Loss: 1678.8311821888192\n",
      "Epoch 11/15000, Loss: 1661.0737198694158\n",
      "Epoch 12/15000, Loss: 1643.11553659918\n",
      "Epoch 13/15000, Loss: 1624.9534186338005\n",
      "Epoch 14/15000, Loss: 1606.6236399490754\n",
      "Epoch 15/15000, Loss: 1588.1928063058351\n",
      "Epoch 16/15000, Loss: 1569.7501525075027\n",
      "Epoch 17/15000, Loss: 1551.3974271453853\n",
      "Epoch 18/15000, Loss: 1533.2408949734058\n",
      "Epoch 19/15000, Loss: 1515.3854612051819\n",
      "Epoch 20/15000, Loss: 1497.926394793884\n",
      "Epoch 1/15000, Loss: 1828.9635495318391\n",
      "Epoch 2/15000, Loss: 1771.3977614627665\n",
      "Epoch 3/15000, Loss: 1733.568823427207\n",
      "Epoch 4/15000, Loss: 1702.7156250064954\n",
      "Epoch 5/15000, Loss: 1675.3470774746477\n",
      "Epoch 6/15000, Loss: 1649.9528981003234\n",
      "Epoch 7/15000, Loss: 1625.772193011959\n",
      "Epoch 8/15000, Loss: 1602.4163515137616\n",
      "Epoch 9/15000, Loss: 1579.7107230549848\n",
      "Epoch 10/15000, Loss: 1557.6075495617863\n",
      "Epoch 11/15000, Loss: 1536.1366527559792\n",
      "Epoch 12/15000, Loss: 1515.3681903245285\n",
      "Epoch 13/15000, Loss: 1495.3890150037614\n",
      "Epoch 1/15000, Loss: 1901.7961804009526\n",
      "Epoch 2/15000, Loss: 1849.8511638376565\n",
      "Epoch 3/15000, Loss: 1814.7694130664306\n",
      "Epoch 4/15000, Loss: 1786.1047401299195\n",
      "Epoch 5/15000, Loss: 1760.8254249990027\n",
      "Epoch 6/15000, Loss: 1737.517357173987\n",
      "Epoch 7/15000, Loss: 1715.3867187717565\n",
      "Epoch 8/15000, Loss: 1693.9485196132732\n",
      "Epoch 9/15000, Loss: 1672.899411707905\n",
      "Epoch 10/15000, Loss: 1652.0539696842611\n",
      "Epoch 11/15000, Loss: 1631.3099152698612\n",
      "Epoch 12/15000, Loss: 1610.6264951315045\n",
      "Epoch 13/15000, Loss: 1590.00988283177\n",
      "Epoch 14/15000, Loss: 1569.499087466268\n",
      "Epoch 15/15000, Loss: 1549.1575850382462\n",
      "Epoch 16/15000, Loss: 1529.0606558922482\n",
      "Epoch 17/15000, Loss: 1509.289165956188\n",
      "Epoch 18/15000, Loss: 1489.9200231465743\n",
      "Epoch 1/15000, Loss: 1933.6047242682012\n",
      "Epoch 2/15000, Loss: 1866.6084380154286\n",
      "Epoch 3/15000, Loss: 1824.570180884834\n",
      "Epoch 4/15000, Loss: 1791.4928241535881\n",
      "Epoch 5/15000, Loss: 1762.7869273679748\n",
      "Epoch 6/15000, Loss: 1736.4217523058253\n",
      "Epoch 7/15000, Loss: 1711.3254304304505\n",
      "Epoch 8/15000, Loss: 1686.8848312343687\n",
      "Epoch 9/15000, Loss: 1662.7455584609143\n",
      "Epoch 10/15000, Loss: 1638.7241696434767\n",
      "Epoch 11/15000, Loss: 1614.7589519883138\n",
      "Epoch 12/15000, Loss: 1590.8779756125878\n",
      "Epoch 13/15000, Loss: 1567.1739840790012\n",
      "Epoch 14/15000, Loss: 1543.7815910491038\n",
      "Epoch 15/15000, Loss: 1520.8547591221122\n",
      "Epoch 16/15000, Loss: 1498.5489720842406\n",
      "Epoch 1/15000, Loss: 1943.5531156671727\n",
      "Epoch 2/15000, Loss: 1878.8628405521963\n",
      "Epoch 3/15000, Loss: 1837.8418685434426\n",
      "Epoch 4/15000, Loss: 1805.9277811063787\n",
      "Epoch 5/15000, Loss: 1778.6498862631775\n",
      "Epoch 6/15000, Loss: 1753.8104493818353\n",
      "Epoch 7/15000, Loss: 1730.122905856354\n",
      "Epoch 8/15000, Loss: 1706.7724517538443\n",
      "Epoch 9/15000, Loss: 1683.2307999020459\n",
      "Epoch 10/15000, Loss: 1659.169973541742\n",
      "Epoch 11/15000, Loss: 1634.4200238712697\n",
      "Epoch 12/15000, Loss: 1608.9454731329477\n",
      "Epoch 13/15000, Loss: 1582.8294172783008\n",
      "Epoch 14/15000, Loss: 1556.251732487157\n",
      "Epoch 15/15000, Loss: 1529.4665425816474\n",
      "Epoch 16/15000, Loss: 1502.7692456853356\n",
      "Epoch 17/15000, Loss: 1476.465271901482\n",
      "Epoch 1/15000, Loss: 1892.6895427617942\n",
      "Epoch 2/15000, Loss: 1828.544975979219\n",
      "Epoch 3/15000, Loss: 1787.896704857774\n",
      "Epoch 4/15000, Loss: 1755.3664093914058\n",
      "Epoch 5/15000, Loss: 1726.792742257174\n",
      "Epoch 6/15000, Loss: 1700.3585552614645\n",
      "Epoch 7/15000, Loss: 1675.0718410298039\n",
      "Epoch 8/15000, Loss: 1650.3457911906762\n",
      "Epoch 9/15000, Loss: 1625.8364797113863\n",
      "Epoch 10/15000, Loss: 1601.3714094947009\n",
      "Epoch 11/15000, Loss: 1576.9030741643564\n",
      "Epoch 12/15000, Loss: 1552.479472838464\n",
      "Epoch 13/15000, Loss: 1528.215398842676\n",
      "Epoch 14/15000, Loss: 1504.2647161920256\n",
      "Epoch 15/15000, Loss: 1480.7968409958123\n",
      "Epoch 1/15000, Loss: 1873.243297483939\n",
      "Epoch 2/15000, Loss: 1799.432640356251\n",
      "Epoch 3/15000, Loss: 1751.9846607277786\n",
      "Epoch 4/15000, Loss: 1714.2970666923188\n",
      "Epoch 5/15000, Loss: 1681.5729360126759\n",
      "Epoch 6/15000, Loss: 1651.6329994962225\n",
      "Epoch 7/15000, Loss: 1623.3337015028364\n",
      "Epoch 8/15000, Loss: 1596.0508032742903\n",
      "Epoch 9/15000, Loss: 1569.4586641225403\n",
      "Epoch 10/15000, Loss: 1543.4176646208593\n",
      "Epoch 11/15000, Loss: 1517.9076626358838\n",
      "Epoch 12/15000, Loss: 1492.9850115144363\n",
      "Epoch 1/15000, Loss: 1988.4002523065794\n",
      "Epoch 2/15000, Loss: 1883.8856876372565\n",
      "Epoch 3/15000, Loss: 1820.7501957819422\n",
      "Epoch 4/15000, Loss: 1770.5674521008311\n",
      "Epoch 5/15000, Loss: 1726.7110105760974\n",
      "Epoch 6/15000, Loss: 1686.5057511531327\n",
      "Epoch 7/15000, Loss: 1648.6081722635872\n",
      "Epoch 8/15000, Loss: 1612.3258576996857\n",
      "Epoch 9/15000, Loss: 1577.3443583937565\n",
      "Epoch 10/15000, Loss: 1543.582430598649\n",
      "Epoch 11/15000, Loss: 1511.0964320584678\n",
      "Epoch 12/15000, Loss: 1480.0098733089458\n",
      "Epoch 1/15000, Loss: 2050.851731883256\n",
      "Epoch 2/15000, Loss: 1945.5691284118827\n",
      "Epoch 3/15000, Loss: 1889.7526247071178\n",
      "Epoch 4/15000, Loss: 1847.7288541767505\n",
      "Epoch 5/15000, Loss: 1811.5512829718089\n",
      "Epoch 6/15000, Loss: 1778.1670923912043\n",
      "Epoch 7/15000, Loss: 1745.9832415864162\n",
      "Epoch 8/15000, Loss: 1714.0699215191378\n",
      "Epoch 9/15000, Loss: 1681.894407934772\n",
      "Epoch 10/15000, Loss: 1649.2072509408792\n",
      "Epoch 11/15000, Loss: 1615.978624501808\n",
      "Epoch 12/15000, Loss: 1582.3521716297796\n",
      "Epoch 13/15000, Loss: 1548.601319065544\n",
      "Epoch 14/15000, Loss: 1515.083844116506\n",
      "Epoch 15/15000, Loss: 1482.1942868913918\n",
      "Epoch 1/15000, Loss: 1952.4070164026905\n",
      "Epoch 2/15000, Loss: 1833.7064906689593\n",
      "Epoch 3/15000, Loss: 1762.918562465313\n",
      "Epoch 4/15000, Loss: 1707.4000876532964\n",
      "Epoch 5/15000, Loss: 1659.8065671923675\n",
      "Epoch 6/15000, Loss: 1617.3118291811684\n",
      "Epoch 7/15000, Loss: 1578.5911209086585\n",
      "Epoch 8/15000, Loss: 1542.974765970944\n",
      "Epoch 9/15000, Loss: 1510.0985568813576\n",
      "Epoch 10/15000, Loss: 1479.7309621613365\n",
      "Epoch 1/15000, Loss: 2065.6293898219774\n",
      "Epoch 2/15000, Loss: 1924.574861651723\n",
      "Epoch 3/15000, Loss: 1849.7016257195355\n",
      "Epoch 4/15000, Loss: 1794.1947476083478\n",
      "Epoch 5/15000, Loss: 1746.7851774377032\n",
      "Epoch 6/15000, Loss: 1703.0404335599965\n",
      "Epoch 7/15000, Loss: 1660.7991741241426\n",
      "Epoch 8/15000, Loss: 1618.9680893587833\n",
      "Epoch 9/15000, Loss: 1577.117836142333\n",
      "Epoch 10/15000, Loss: 1535.3036168140784\n",
      "Epoch 11/15000, Loss: 1493.941272659939\n",
      "Epoch 1/15000, Loss: 2049.5442680205133\n",
      "Epoch 2/15000, Loss: 1952.932616124341\n",
      "Epoch 3/15000, Loss: 1897.4698618321345\n",
      "Epoch 4/15000, Loss: 1853.8884664083962\n",
      "Epoch 5/15000, Loss: 1815.606451068913\n",
      "Epoch 6/15000, Loss: 1779.9837011283755\n",
      "Epoch 7/15000, Loss: 1745.67551903909\n",
      "Epoch 8/15000, Loss: 1711.9756903415378\n",
      "Epoch 9/15000, Loss: 1678.575200322192\n",
      "Epoch 10/15000, Loss: 1645.4334323223786\n",
      "Epoch 11/15000, Loss: 1612.6913747255928\n",
      "Epoch 12/15000, Loss: 1580.594835597334\n",
      "Epoch 13/15000, Loss: 1549.4287634593127\n",
      "Epoch 14/15000, Loss: 1519.4618119545808\n",
      "Epoch 15/15000, Loss: 1490.907597938105\n"
     ]
    },
    {
     "data": {
      "application/vnd.plotly.v1+json": {
       "config": {
        "plotlyServerURL": "https://plot.ly"
       },
       "data": [
        {
         "mode": "markers",
         "name": "Все наблюдения",
         "type": "scatter",
         "x": [
          3.98851308232291,
          3.98851308232291,
          3.98851308232291,
          3.98851308232291,
          3.98851308232291,
          3.023705853894533,
          3.023705853894533,
          3.023705853894533,
          3.023705853894533,
          3.023705853894533,
          2.4347487339306584,
          2.4347487339306584,
          2.4347487339306584,
          2.4347487339306584,
          2.4347487339306584,
          2.0378219758721876,
          2.0378219758721876,
          2.0378219758721876,
          2.0378219758721876,
          2.0378219758721876,
          1.7521726941407345,
          1.7521726941407345,
          1.7521726941407345,
          1.7521726941407345,
          1.7521726941407345,
          1.5367592820260634,
          1.5367592820260634,
          1.5367592820260634,
          1.5367592820260634,
          1.5367592820260634,
          1.368513247208233,
          1.368513247208233,
          1.368513247208233,
          1.368513247208233,
          1.368513247208233,
          1.2334714821393329,
          1.2334714821393329,
          1.2334714821393329,
          1.2334714821393329,
          1.2334714821393329
         ],
         "y": [
          158,
          145,
          167,
          182,
          177,
          83,
          102,
          106,
          86,
          88,
          49,
          45,
          50,
          51,
          63,
          40,
          36,
          32,
          36,
          37,
          23,
          25,
          25,
          26,
          25,
          20,
          20,
          24,
          20,
          13,
          18,
          16,
          17,
          15,
          12,
          12,
          15,
          10,
          11,
          15
         ]
        },
        {
         "mode": "lines+markers",
         "name": "Средние значения",
         "type": "scatter",
         "x": [
          3.98851308232291,
          3.023705853894533,
          2.4347487339306584,
          2.0378219758721876,
          1.7521726941407345,
          1.5367592820260634,
          1.368513247208233,
          1.2334714821393329
         ],
         "y": [
          165.8,
          93,
          51.6,
          36.2,
          24.8,
          19.4,
          15.6,
          12.6
         ]
        }
       ],
       "layout": {
        "font": {
         "size": 20
        },
        "height": 720,
        "template": {
         "data": {
          "bar": [
           {
            "error_x": {
             "color": "#2a3f5f"
            },
            "error_y": {
             "color": "#2a3f5f"
            },
            "marker": {
             "line": {
              "color": "#E5ECF6",
              "width": 0.5
             },
             "pattern": {
              "fillmode": "overlay",
              "size": 10,
              "solidity": 0.2
             }
            },
            "type": "bar"
           }
          ],
          "barpolar": [
           {
            "marker": {
             "line": {
              "color": "#E5ECF6",
              "width": 0.5
             },
             "pattern": {
              "fillmode": "overlay",
              "size": 10,
              "solidity": 0.2
             }
            },
            "type": "barpolar"
           }
          ],
          "carpet": [
           {
            "aaxis": {
             "endlinecolor": "#2a3f5f",
             "gridcolor": "white",
             "linecolor": "white",
             "minorgridcolor": "white",
             "startlinecolor": "#2a3f5f"
            },
            "baxis": {
             "endlinecolor": "#2a3f5f",
             "gridcolor": "white",
             "linecolor": "white",
             "minorgridcolor": "white",
             "startlinecolor": "#2a3f5f"
            },
            "type": "carpet"
           }
          ],
          "choropleth": [
           {
            "colorbar": {
             "outlinewidth": 0,
             "ticks": ""
            },
            "type": "choropleth"
           }
          ],
          "contour": [
           {
            "colorbar": {
             "outlinewidth": 0,
             "ticks": ""
            },
            "colorscale": [
             [
              0,
              "#0d0887"
             ],
             [
              0.1111111111111111,
              "#46039f"
             ],
             [
              0.2222222222222222,
              "#7201a8"
             ],
             [
              0.3333333333333333,
              "#9c179e"
             ],
             [
              0.4444444444444444,
              "#bd3786"
             ],
             [
              0.5555555555555556,
              "#d8576b"
             ],
             [
              0.6666666666666666,
              "#ed7953"
             ],
             [
              0.7777777777777778,
              "#fb9f3a"
             ],
             [
              0.8888888888888888,
              "#fdca26"
             ],
             [
              1,
              "#f0f921"
             ]
            ],
            "type": "contour"
           }
          ],
          "contourcarpet": [
           {
            "colorbar": {
             "outlinewidth": 0,
             "ticks": ""
            },
            "type": "contourcarpet"
           }
          ],
          "heatmap": [
           {
            "colorbar": {
             "outlinewidth": 0,
             "ticks": ""
            },
            "colorscale": [
             [
              0,
              "#0d0887"
             ],
             [
              0.1111111111111111,
              "#46039f"
             ],
             [
              0.2222222222222222,
              "#7201a8"
             ],
             [
              0.3333333333333333,
              "#9c179e"
             ],
             [
              0.4444444444444444,
              "#bd3786"
             ],
             [
              0.5555555555555556,
              "#d8576b"
             ],
             [
              0.6666666666666666,
              "#ed7953"
             ],
             [
              0.7777777777777778,
              "#fb9f3a"
             ],
             [
              0.8888888888888888,
              "#fdca26"
             ],
             [
              1,
              "#f0f921"
             ]
            ],
            "type": "heatmap"
           }
          ],
          "heatmapgl": [
           {
            "colorbar": {
             "outlinewidth": 0,
             "ticks": ""
            },
            "colorscale": [
             [
              0,
              "#0d0887"
             ],
             [
              0.1111111111111111,
              "#46039f"
             ],
             [
              0.2222222222222222,
              "#7201a8"
             ],
             [
              0.3333333333333333,
              "#9c179e"
             ],
             [
              0.4444444444444444,
              "#bd3786"
             ],
             [
              0.5555555555555556,
              "#d8576b"
             ],
             [
              0.6666666666666666,
              "#ed7953"
             ],
             [
              0.7777777777777778,
              "#fb9f3a"
             ],
             [
              0.8888888888888888,
              "#fdca26"
             ],
             [
              1,
              "#f0f921"
             ]
            ],
            "type": "heatmapgl"
           }
          ],
          "histogram": [
           {
            "marker": {
             "pattern": {
              "fillmode": "overlay",
              "size": 10,
              "solidity": 0.2
             }
            },
            "type": "histogram"
           }
          ],
          "histogram2d": [
           {
            "colorbar": {
             "outlinewidth": 0,
             "ticks": ""
            },
            "colorscale": [
             [
              0,
              "#0d0887"
             ],
             [
              0.1111111111111111,
              "#46039f"
             ],
             [
              0.2222222222222222,
              "#7201a8"
             ],
             [
              0.3333333333333333,
              "#9c179e"
             ],
             [
              0.4444444444444444,
              "#bd3786"
             ],
             [
              0.5555555555555556,
              "#d8576b"
             ],
             [
              0.6666666666666666,
              "#ed7953"
             ],
             [
              0.7777777777777778,
              "#fb9f3a"
             ],
             [
              0.8888888888888888,
              "#fdca26"
             ],
             [
              1,
              "#f0f921"
             ]
            ],
            "type": "histogram2d"
           }
          ],
          "histogram2dcontour": [
           {
            "colorbar": {
             "outlinewidth": 0,
             "ticks": ""
            },
            "colorscale": [
             [
              0,
              "#0d0887"
             ],
             [
              0.1111111111111111,
              "#46039f"
             ],
             [
              0.2222222222222222,
              "#7201a8"
             ],
             [
              0.3333333333333333,
              "#9c179e"
             ],
             [
              0.4444444444444444,
              "#bd3786"
             ],
             [
              0.5555555555555556,
              "#d8576b"
             ],
             [
              0.6666666666666666,
              "#ed7953"
             ],
             [
              0.7777777777777778,
              "#fb9f3a"
             ],
             [
              0.8888888888888888,
              "#fdca26"
             ],
             [
              1,
              "#f0f921"
             ]
            ],
            "type": "histogram2dcontour"
           }
          ],
          "mesh3d": [
           {
            "colorbar": {
             "outlinewidth": 0,
             "ticks": ""
            },
            "type": "mesh3d"
           }
          ],
          "parcoords": [
           {
            "line": {
             "colorbar": {
              "outlinewidth": 0,
              "ticks": ""
             }
            },
            "type": "parcoords"
           }
          ],
          "pie": [
           {
            "automargin": true,
            "type": "pie"
           }
          ],
          "scatter": [
           {
            "fillpattern": {
             "fillmode": "overlay",
             "size": 10,
             "solidity": 0.2
            },
            "type": "scatter"
           }
          ],
          "scatter3d": [
           {
            "line": {
             "colorbar": {
              "outlinewidth": 0,
              "ticks": ""
             }
            },
            "marker": {
             "colorbar": {
              "outlinewidth": 0,
              "ticks": ""
             }
            },
            "type": "scatter3d"
           }
          ],
          "scattercarpet": [
           {
            "marker": {
             "colorbar": {
              "outlinewidth": 0,
              "ticks": ""
             }
            },
            "type": "scattercarpet"
           }
          ],
          "scattergeo": [
           {
            "marker": {
             "colorbar": {
              "outlinewidth": 0,
              "ticks": ""
             }
            },
            "type": "scattergeo"
           }
          ],
          "scattergl": [
           {
            "marker": {
             "colorbar": {
              "outlinewidth": 0,
              "ticks": ""
             }
            },
            "type": "scattergl"
           }
          ],
          "scattermapbox": [
           {
            "marker": {
             "colorbar": {
              "outlinewidth": 0,
              "ticks": ""
             }
            },
            "type": "scattermapbox"
           }
          ],
          "scatterpolar": [
           {
            "marker": {
             "colorbar": {
              "outlinewidth": 0,
              "ticks": ""
             }
            },
            "type": "scatterpolar"
           }
          ],
          "scatterpolargl": [
           {
            "marker": {
             "colorbar": {
              "outlinewidth": 0,
              "ticks": ""
             }
            },
            "type": "scatterpolargl"
           }
          ],
          "scatterternary": [
           {
            "marker": {
             "colorbar": {
              "outlinewidth": 0,
              "ticks": ""
             }
            },
            "type": "scatterternary"
           }
          ],
          "surface": [
           {
            "colorbar": {
             "outlinewidth": 0,
             "ticks": ""
            },
            "colorscale": [
             [
              0,
              "#0d0887"
             ],
             [
              0.1111111111111111,
              "#46039f"
             ],
             [
              0.2222222222222222,
              "#7201a8"
             ],
             [
              0.3333333333333333,
              "#9c179e"
             ],
             [
              0.4444444444444444,
              "#bd3786"
             ],
             [
              0.5555555555555556,
              "#d8576b"
             ],
             [
              0.6666666666666666,
              "#ed7953"
             ],
             [
              0.7777777777777778,
              "#fb9f3a"
             ],
             [
              0.8888888888888888,
              "#fdca26"
             ],
             [
              1,
              "#f0f921"
             ]
            ],
            "type": "surface"
           }
          ],
          "table": [
           {
            "cells": {
             "fill": {
              "color": "#EBF0F8"
             },
             "line": {
              "color": "white"
             }
            },
            "header": {
             "fill": {
              "color": "#C8D4E3"
             },
             "line": {
              "color": "white"
             }
            },
            "type": "table"
           }
          ]
         },
         "layout": {
          "annotationdefaults": {
           "arrowcolor": "#2a3f5f",
           "arrowhead": 0,
           "arrowwidth": 1
          },
          "autotypenumbers": "strict",
          "coloraxis": {
           "colorbar": {
            "outlinewidth": 0,
            "ticks": ""
           }
          },
          "colorscale": {
           "diverging": [
            [
             0,
             "#8e0152"
            ],
            [
             0.1,
             "#c51b7d"
            ],
            [
             0.2,
             "#de77ae"
            ],
            [
             0.3,
             "#f1b6da"
            ],
            [
             0.4,
             "#fde0ef"
            ],
            [
             0.5,
             "#f7f7f7"
            ],
            [
             0.6,
             "#e6f5d0"
            ],
            [
             0.7,
             "#b8e186"
            ],
            [
             0.8,
             "#7fbc41"
            ],
            [
             0.9,
             "#4d9221"
            ],
            [
             1,
             "#276419"
            ]
           ],
           "sequential": [
            [
             0,
             "#0d0887"
            ],
            [
             0.1111111111111111,
             "#46039f"
            ],
            [
             0.2222222222222222,
             "#7201a8"
            ],
            [
             0.3333333333333333,
             "#9c179e"
            ],
            [
             0.4444444444444444,
             "#bd3786"
            ],
            [
             0.5555555555555556,
             "#d8576b"
            ],
            [
             0.6666666666666666,
             "#ed7953"
            ],
            [
             0.7777777777777778,
             "#fb9f3a"
            ],
            [
             0.8888888888888888,
             "#fdca26"
            ],
            [
             1,
             "#f0f921"
            ]
           ],
           "sequentialminus": [
            [
             0,
             "#0d0887"
            ],
            [
             0.1111111111111111,
             "#46039f"
            ],
            [
             0.2222222222222222,
             "#7201a8"
            ],
            [
             0.3333333333333333,
             "#9c179e"
            ],
            [
             0.4444444444444444,
             "#bd3786"
            ],
            [
             0.5555555555555556,
             "#d8576b"
            ],
            [
             0.6666666666666666,
             "#ed7953"
            ],
            [
             0.7777777777777778,
             "#fb9f3a"
            ],
            [
             0.8888888888888888,
             "#fdca26"
            ],
            [
             1,
             "#f0f921"
            ]
           ]
          },
          "colorway": [
           "#636efa",
           "#EF553B",
           "#00cc96",
           "#ab63fa",
           "#FFA15A",
           "#19d3f3",
           "#FF6692",
           "#B6E880",
           "#FF97FF",
           "#FECB52"
          ],
          "font": {
           "color": "#2a3f5f"
          },
          "geo": {
           "bgcolor": "white",
           "lakecolor": "white",
           "landcolor": "#E5ECF6",
           "showlakes": true,
           "showland": true,
           "subunitcolor": "white"
          },
          "hoverlabel": {
           "align": "left"
          },
          "hovermode": "closest",
          "mapbox": {
           "style": "light"
          },
          "paper_bgcolor": "white",
          "plot_bgcolor": "#E5ECF6",
          "polar": {
           "angularaxis": {
            "gridcolor": "white",
            "linecolor": "white",
            "ticks": ""
           },
           "bgcolor": "#E5ECF6",
           "radialaxis": {
            "gridcolor": "white",
            "linecolor": "white",
            "ticks": ""
           }
          },
          "scene": {
           "xaxis": {
            "backgroundcolor": "#E5ECF6",
            "gridcolor": "white",
            "gridwidth": 2,
            "linecolor": "white",
            "showbackground": true,
            "ticks": "",
            "zerolinecolor": "white"
           },
           "yaxis": {
            "backgroundcolor": "#E5ECF6",
            "gridcolor": "white",
            "gridwidth": 2,
            "linecolor": "white",
            "showbackground": true,
            "ticks": "",
            "zerolinecolor": "white"
           },
           "zaxis": {
            "backgroundcolor": "#E5ECF6",
            "gridcolor": "white",
            "gridwidth": 2,
            "linecolor": "white",
            "showbackground": true,
            "ticks": "",
            "zerolinecolor": "white"
           }
          },
          "shapedefaults": {
           "line": {
            "color": "#2a3f5f"
           }
          },
          "ternary": {
           "aaxis": {
            "gridcolor": "white",
            "linecolor": "white",
            "ticks": ""
           },
           "baxis": {
            "gridcolor": "white",
            "linecolor": "white",
            "ticks": ""
           },
           "bgcolor": "#E5ECF6",
           "caxis": {
            "gridcolor": "white",
            "linecolor": "white",
            "ticks": ""
           }
          },
          "title": {
           "x": 0.05
          },
          "xaxis": {
           "automargin": true,
           "gridcolor": "white",
           "linecolor": "white",
           "ticks": "",
           "title": {
            "standoff": 15
           },
           "zerolinecolor": "white",
           "zerolinewidth": 2
          },
          "yaxis": {
           "automargin": true,
           "gridcolor": "white",
           "linecolor": "white",
           "ticks": "",
           "title": {
            "standoff": 15
           },
           "zerolinecolor": "white",
           "zerolinewidth": 2
          }
         }
        },
        "title": {
         "text": "Зависимость количества итераций обучения от коэффициента сжатия"
        },
        "width": 1280,
        "xaxis": {
         "title": {
          "text": "Значение коэффичиента сжатия"
         }
        },
        "yaxis": {
         "title": {
          "text": "Количество итераций обучения"
         }
        }
       }
      }
     },
     "metadata": {},
     "output_type": "display_data"
    }
   ],
   "source": [
    "p_s = (6, 8, 10, 12, 14, 16, 18, 20)\n",
    "all_ps: list[int] = []\n",
    "all_compression_rates: list[float] = []\n",
    "compression_rates: list[float] = []\n",
    "epochs_amount_mean: list[int] = []\n",
    "epochs_amount: list[int] = []\n",
    "fig = go.Figure()\n",
    "experiments_amount = 5\n",
    "for p in p_s:\n",
    "    epoch_sum = 0\n",
    "    for i in range(experiments_amount):\n",
    "        all_ps.append(p)        \n",
    "        dl = LRNN(n, p, 0.001)\n",
    "        dl.train(train, 15000, learn_by_loss=True, max_loss=1500)\n",
    "        epoch_sum += dl.epoch\n",
    "        epochs_amount.append(dl.epoch)\n",
    "\n",
    "        compressed = compress_image(dl.W_enc, img_array, COLOR_CHANNELS_AMOUNT, block_height, block_width, 0)\n",
    "        compression_info_size = (\n",
    "            compressed.size * compressed.itemsize +\n",
    "            network.W_dec.size * network.W_dec.itemsize +\n",
    "            np.array(shape).size * np.array(shape).itemsize +\n",
    "            np.array((block_height, block_width)).size * np.array((block_height, block_width)).itemsize \n",
    "        ) * 8\n",
    "        all_compression_rates.append((img_array.size * img_array.itemsize * 8) / compression_info_size)\n",
    "    compression_rates.append(all_compression_rates[-1])\n",
    "\n",
    "    epochs_amount_mean.append(epoch_sum / experiments_amount)\n",
    "fig.add_trace(go.Scatter(x=all_compression_rates, y=epochs_amount, mode='markers',\n",
    "                         name='Все наблюдения'))\n",
    "fig.add_trace(go.Scatter(x=compression_rates, y=epochs_amount_mean, mode='lines+markers',\n",
    "                         name='Средние значения'))\n",
    "fig.update_layout(title='Зависимость количества итераций обучения от коэффициента сжатия',\n",
    "                  xaxis_title='Значение коэффичиента сжатия',\n",
    "                  yaxis_title='Количество итераций обучения',\n",
    "                  height=720, width=1280,\n",
    "                  font=dict(size=20))\n",
    "fig.show()"
   ]
  },
  {
   "cell_type": "markdown",
   "metadata": {},
   "source": [
    "## Relationship between max error and epochs"
   ]
  },
  {
   "cell_type": "code",
   "execution_count": 21,
   "metadata": {},
   "outputs": [
    {
     "name": "stdout",
     "output_type": "stream",
     "text": [
      "Epoch 1/15000, Loss: 3258.0285555975\n",
      "Epoch 2/15000, Loss: 2648.3577342916533\n",
      "Epoch 3/15000, Loss: 2409.583635100408\n",
      "Epoch 4/15000, Loss: 2248.2745616282\n",
      "Epoch 5/15000, Loss: 2122.697562180633\n",
      "Epoch 6/15000, Loss: 2020.3316150338603\n",
      "Epoch 7/15000, Loss: 1934.8626048627657\n",
      "Epoch 8/15000, Loss: 1862.1101399363977\n",
      "Epoch 9/15000, Loss: 1799.0389821320127\n",
      "Epoch 10/15000, Loss: 1743.410807826286\n",
      "Epoch 11/15000, Loss: 1693.5836961396762\n",
      "Epoch 12/15000, Loss: 1648.3610493337428\n",
      "Epoch 13/15000, Loss: 1606.8739035203046\n",
      "Epoch 14/15000, Loss: 1568.4878993518987\n",
      "Epoch 15/15000, Loss: 1532.7352427141025\n",
      "Epoch 16/15000, Loss: 1499.2661801410347\n",
      "Epoch 17/15000, Loss: 1467.812532045019\n",
      "Epoch 18/15000, Loss: 1438.1643689708544\n",
      "Epoch 19/15000, Loss: 1410.152040018905\n",
      "Epoch 20/15000, Loss: 1383.6352298697502\n",
      "Epoch 21/15000, Loss: 1358.4937347711007\n",
      "Epoch 22/15000, Loss: 1334.6234260158944\n",
      "Epoch 23/15000, Loss: 1311.9315975862964\n",
      "Epoch 24/15000, Loss: 1290.334807805732\n",
      "Epoch 25/15000, Loss: 1269.7571672602992\n",
      "Epoch 26/15000, Loss: 1250.1296291626177\n",
      "Epoch 27/15000, Loss: 1231.3889166272504\n",
      "Epoch 28/15000, Loss: 1213.4764226622874\n",
      "Epoch 29/15000, Loss: 1196.3387901253107\n",
      "Epoch 30/15000, Loss: 1179.9268427822035\n",
      "Epoch 31/15000, Loss: 1164.1952818337047\n",
      "Epoch 32/15000, Loss: 1149.1025608580148\n",
      "Epoch 33/15000, Loss: 1134.6104917566802\n",
      "Epoch 34/15000, Loss: 1120.6836923162878\n",
      "Epoch 35/15000, Loss: 1107.289960909901\n",
      "Epoch 36/15000, Loss: 1094.3991327207955\n",
      "Epoch 37/15000, Loss: 1081.9838463639219\n",
      "Epoch 38/15000, Loss: 1070.0182480595317\n",
      "Epoch 39/15000, Loss: 1058.4786510543881\n",
      "Epoch 40/15000, Loss: 1047.3431085620064\n",
      "Epoch 41/15000, Loss: 1036.590920577531\n",
      "Epoch 42/15000, Loss: 1026.2028921605624\n",
      "Epoch 43/15000, Loss: 1016.1611416289173\n",
      "Epoch 44/15000, Loss: 1006.4488099241555\n",
      "Epoch 45/15000, Loss: 997.050138552126\n",
      "Epoch 46/15000, Loss: 987.9503324044173\n",
      "Epoch 47/15000, Loss: 979.135451668413\n",
      "Epoch 48/15000, Loss: 970.5924124785745\n",
      "Epoch 49/15000, Loss: 962.3088537071626\n",
      "Epoch 50/15000, Loss: 954.2729559828904\n",
      "Epoch 51/15000, Loss: 946.4739694374551\n",
      "Epoch 52/15000, Loss: 938.9013363907063\n",
      "Epoch 53/15000, Loss: 931.5453824289476\n",
      "Epoch 54/15000, Loss: 924.3967336500126\n",
      "Epoch 55/15000, Loss: 917.4466017577862\n",
      "Epoch 56/15000, Loss: 910.6867552094518\n",
      "Epoch 57/15000, Loss: 904.1093841773102\n",
      "Epoch 58/15000, Loss: 897.706963034619\n",
      "Epoch 59/15000, Loss: 891.4725935239471\n",
      "Epoch 60/15000, Loss: 885.3994991633275\n",
      "Epoch 61/15000, Loss: 879.4813997932558\n",
      "Epoch 62/15000, Loss: 873.7124489330876\n",
      "Epoch 63/15000, Loss: 868.0867497794341\n",
      "Epoch 64/15000, Loss: 862.5990813002517\n",
      "Epoch 65/15000, Loss: 857.2442360709915\n",
      "Epoch 66/15000, Loss: 852.0174835416497\n",
      "Epoch 67/15000, Loss: 846.9140948740194\n",
      "Epoch 68/15000, Loss: 841.9297614990832\n",
      "Epoch 69/15000, Loss: 837.0602584850872\n",
      "Epoch 70/15000, Loss: 832.3016914582307\n",
      "Epoch 71/15000, Loss: 827.6502575219345\n",
      "Epoch 72/15000, Loss: 823.1023083732806\n",
      "Epoch 73/15000, Loss: 818.6545299735221\n",
      "Epoch 74/15000, Loss: 814.3034325907972\n",
      "Epoch 75/15000, Loss: 810.0461242455783\n",
      "Epoch 76/15000, Loss: 805.8794918921359\n",
      "Epoch 77/15000, Loss: 801.8007294759556\n",
      "Epoch 78/15000, Loss: 797.8070729955894\n",
      "Epoch 1/15000, Loss: 3342.922394748542\n",
      "Epoch 2/15000, Loss: 2770.059355407951\n",
      "Epoch 3/15000, Loss: 2506.299157476578\n",
      "Epoch 4/15000, Loss: 2311.578168690318\n",
      "Epoch 5/15000, Loss: 2159.3699248516923\n",
      "Epoch 6/15000, Loss: 2040.5879000910124\n",
      "Epoch 7/15000, Loss: 1947.5344887969736\n",
      "Epoch 8/15000, Loss: 1872.94900121447\n",
      "Epoch 9/15000, Loss: 1811.0243223249008\n",
      "Epoch 10/15000, Loss: 1757.7351920107978\n",
      "Epoch 11/15000, Loss: 1710.5075435476733\n",
      "Epoch 12/15000, Loss: 1667.7406429673642\n",
      "Epoch 13/15000, Loss: 1628.4275223534144\n",
      "Epoch 14/15000, Loss: 1591.9128391882584\n",
      "Epoch 15/15000, Loss: 1557.750394610878\n",
      "Epoch 16/15000, Loss: 1525.6208334003788\n",
      "Epoch 17/15000, Loss: 1495.2847538029303\n",
      "Epoch 18/15000, Loss: 1466.5554338415018\n",
      "Epoch 19/15000, Loss: 1439.2810215009433\n",
      "Epoch 20/15000, Loss: 1413.3357921725462\n",
      "Epoch 21/15000, Loss: 1388.611714988423\n",
      "Epoch 22/15000, Loss: 1365.0148667417154\n",
      "Epoch 23/15000, Loss: 1342.4622742375282\n",
      "Epoch 24/15000, Loss: 1320.8796917310042\n",
      "Epoch 25/15000, Loss: 1300.200563169459\n",
      "Epoch 26/15000, Loss: 1280.36441192943\n",
      "Epoch 27/15000, Loss: 1261.3163733056933\n",
      "Epoch 28/15000, Loss: 1243.0067592749656\n",
      "Epoch 29/15000, Loss: 1225.390211369139\n",
      "Epoch 30/15000, Loss: 1208.4256066112996\n",
      "Epoch 31/15000, Loss: 1192.0752377517615\n",
      "Epoch 32/15000, Loss: 1176.305058062351\n",
      "Epoch 33/15000, Loss: 1161.0841232342852\n",
      "Epoch 34/15000, Loss: 1146.3838365809022\n",
      "Epoch 35/15000, Loss: 1132.1785246680352\n",
      "Epoch 36/15000, Loss: 1118.44436158438\n",
      "Epoch 37/15000, Loss: 1105.159472725333\n",
      "Epoch 38/15000, Loss: 1092.3038415290098\n",
      "Epoch 39/15000, Loss: 1079.85872931392\n",
      "Epoch 40/15000, Loss: 1067.8068995522099\n",
      "Epoch 41/15000, Loss: 1056.132251897555\n",
      "Epoch 42/15000, Loss: 1044.8195379236936\n",
      "Epoch 43/15000, Loss: 1033.854539055138\n",
      "Epoch 44/15000, Loss: 1023.2238447976921\n",
      "Epoch 45/15000, Loss: 1012.9144691889785\n",
      "Epoch 46/15000, Loss: 1002.9143524495681\n",
      "Epoch 47/15000, Loss: 993.2120418339878\n",
      "Epoch 48/15000, Loss: 983.7962653915949\n",
      "Epoch 49/15000, Loss: 974.6564755065883\n",
      "Epoch 50/15000, Loss: 965.7824961477027\n",
      "Epoch 51/15000, Loss: 957.1645205898648\n",
      "Epoch 52/15000, Loss: 948.7931329344933\n",
      "Epoch 53/15000, Loss: 940.6593523478587\n",
      "Epoch 54/15000, Loss: 932.7544311179798\n",
      "Epoch 55/15000, Loss: 925.0699685410816\n",
      "Epoch 56/15000, Loss: 917.5979677882791\n",
      "Epoch 57/15000, Loss: 910.3306147848684\n",
      "Epoch 58/15000, Loss: 903.2605776013246\n",
      "Epoch 59/15000, Loss: 896.380544866335\n",
      "Epoch 60/15000, Loss: 889.6837289689079\n",
      "Epoch 61/15000, Loss: 883.1634107110012\n",
      "Epoch 62/15000, Loss: 876.8134270160091\n",
      "Epoch 63/15000, Loss: 870.6274778102994\n",
      "Epoch 64/15000, Loss: 864.5998859011441\n",
      "Epoch 65/15000, Loss: 858.7249143272606\n",
      "Epoch 66/15000, Loss: 852.9973114240162\n",
      "Epoch 67/15000, Loss: 847.4118055737171\n",
      "Epoch 68/15000, Loss: 841.9635763197988\n",
      "Epoch 69/15000, Loss: 836.6477277268638\n",
      "Epoch 70/15000, Loss: 831.4598383341768\n",
      "Epoch 71/15000, Loss: 826.3955637198809\n",
      "Epoch 72/15000, Loss: 821.4507652878881\n",
      "Epoch 73/15000, Loss: 816.6213869560494\n",
      "Epoch 74/15000, Loss: 811.9036812924828\n",
      "Epoch 75/15000, Loss: 807.2939508307282\n",
      "Epoch 76/15000, Loss: 802.7887342630377\n",
      "Epoch 77/15000, Loss: 798.3846712055356\n",
      "Epoch 1/15000, Loss: 3476.891952621246\n",
      "Epoch 2/15000, Loss: 2700.5262365387816\n",
      "Epoch 3/15000, Loss: 2424.6792396668507\n",
      "Epoch 4/15000, Loss: 2245.5056819531405\n",
      "Epoch 5/15000, Loss: 2110.974117903614\n",
      "Epoch 6/15000, Loss: 2005.0124157818702\n",
      "Epoch 7/15000, Loss: 1918.976815884527\n",
      "Epoch 8/15000, Loss: 1847.1245192531874\n",
      "Epoch 9/15000, Loss: 1785.5042590496546\n",
      "Epoch 10/15000, Loss: 1731.4177889292282\n",
      "Epoch 11/15000, Loss: 1683.0356680145956\n",
      "Epoch 12/15000, Loss: 1639.1110999337438\n",
      "Epoch 13/15000, Loss: 1598.781731493783\n",
      "Epoch 14/15000, Loss: 1561.436992011515\n",
      "Epoch 15/15000, Loss: 1526.632216465724\n",
      "Epoch 16/15000, Loss: 1494.0340658180721\n",
      "Epoch 17/15000, Loss: 1463.3842946464215\n",
      "Epoch 18/15000, Loss: 1434.478008347792\n",
      "Epoch 19/15000, Loss: 1407.147396199794\n",
      "Epoch 20/15000, Loss: 1381.2530525244479\n",
      "Epoch 21/15000, Loss: 1356.676035004935\n",
      "Epoch 22/15000, Loss: 1333.3139397561085\n",
      "Epoch 23/15000, Loss: 1311.076945406476\n",
      "Epoch 24/15000, Loss: 1289.8851371112346\n",
      "Epoch 25/15000, Loss: 1269.6674787988459\n",
      "Epoch 26/15000, Loss: 1250.3594510890607\n",
      "Epoch 27/15000, Loss: 1231.9024442718555\n",
      "Epoch 28/15000, Loss: 1214.242906854888\n",
      "Epoch 29/15000, Loss: 1197.331352678801\n",
      "Epoch 30/15000, Loss: 1181.1223396983355\n",
      "Epoch 31/15000, Loss: 1165.573612391963\n",
      "Epoch 32/15000, Loss: 1150.6461268938028\n",
      "Epoch 33/15000, Loss: 1136.3035403785216\n",
      "Epoch 34/15000, Loss: 1122.5119554392054\n",
      "Epoch 35/15000, Loss: 1109.24002889163\n",
      "Epoch 36/15000, Loss: 1096.4583010311026\n",
      "Epoch 37/15000, Loss: 1084.1398629812154\n",
      "Epoch 38/15000, Loss: 1072.2590203194577\n",
      "Epoch 39/15000, Loss: 1060.792276445152\n",
      "Epoch 40/15000, Loss: 1049.717767242453\n",
      "Epoch 41/15000, Loss: 1039.0147662450872\n",
      "Epoch 42/15000, Loss: 1028.6644056873142\n",
      "Epoch 43/15000, Loss: 1018.6487536358813\n",
      "Epoch 44/15000, Loss: 1008.9512579600126\n",
      "Epoch 45/15000, Loss: 999.5564267427943\n",
      "Epoch 46/15000, Loss: 990.4498463054994\n",
      "Epoch 47/15000, Loss: 981.6178984513832\n",
      "Epoch 48/15000, Loss: 973.0480488366394\n",
      "Epoch 49/15000, Loss: 964.7283871440039\n",
      "Epoch 50/15000, Loss: 956.6477359330809\n",
      "Epoch 51/15000, Loss: 948.7957839605454\n",
      "Epoch 52/15000, Loss: 941.1626662460842\n",
      "Epoch 53/15000, Loss: 933.7391889563133\n",
      "Epoch 54/15000, Loss: 926.5166913189896\n",
      "Epoch 55/15000, Loss: 919.4869503241566\n",
      "Epoch 56/15000, Loss: 912.6422366533255\n",
      "Epoch 57/15000, Loss: 905.9752663869559\n",
      "Epoch 58/15000, Loss: 899.4791053097422\n",
      "Epoch 59/15000, Loss: 893.1473419199237\n",
      "Epoch 60/15000, Loss: 886.9736422294261\n",
      "Epoch 61/15000, Loss: 880.9522264512068\n",
      "Epoch 62/15000, Loss: 875.0774045641791\n",
      "Epoch 63/15000, Loss: 869.3440251427936\n",
      "Epoch 64/15000, Loss: 863.746955487256\n",
      "Epoch 65/15000, Loss: 858.2814576984708\n",
      "Epoch 66/15000, Loss: 852.9429537444486\n",
      "Epoch 67/15000, Loss: 847.7271361096352\n",
      "Epoch 68/15000, Loss: 842.6297983894623\n",
      "Epoch 69/15000, Loss: 837.64713683988\n",
      "Epoch 70/15000, Loss: 832.7752127318647\n",
      "Epoch 71/15000, Loss: 828.0105364451092\n",
      "Epoch 72/15000, Loss: 823.3496550004108\n",
      "Epoch 73/15000, Loss: 818.7892573503663\n",
      "Epoch 74/15000, Loss: 814.3262574794128\n",
      "Epoch 75/15000, Loss: 809.9576360454515\n",
      "Epoch 76/15000, Loss: 805.6805001960109\n",
      "Epoch 77/15000, Loss: 801.4921493388874\n",
      "Epoch 78/15000, Loss: 797.3899386615324\n",
      "Epoch 1/15000, Loss: 3402.6794726801218\n",
      "Epoch 2/15000, Loss: 2715.2492369662846\n",
      "Epoch 3/15000, Loss: 2414.2024398510143\n",
      "Epoch 4/15000, Loss: 2212.7342668052133\n",
      "Epoch 5/15000, Loss: 2068.4214464650013\n",
      "Epoch 6/15000, Loss: 1960.8441166817843\n",
      "Epoch 7/15000, Loss: 1876.8068470218557\n",
      "Epoch 8/15000, Loss: 1807.9161730573323\n",
      "Epoch 9/15000, Loss: 1749.0643684344657\n",
      "Epoch 10/15000, Loss: 1697.2002150120372\n",
      "Epoch 11/15000, Loss: 1650.4836165995318\n",
      "Epoch 12/15000, Loss: 1607.7698815259212\n",
      "Epoch 13/15000, Loss: 1568.315172655446\n",
      "Epoch 14/15000, Loss: 1531.6108717151055\n",
      "Epoch 15/15000, Loss: 1497.2905697651067\n",
      "Epoch 16/15000, Loss: 1465.0774720407792\n",
      "Epoch 17/15000, Loss: 1434.7533806882911\n",
      "Epoch 18/15000, Loss: 1406.139618411814\n",
      "Epoch 19/15000, Loss: 1379.0862614158077\n",
      "Epoch 20/15000, Loss: 1353.4638543860085\n",
      "Epoch 21/15000, Loss: 1329.1586940619509\n",
      "Epoch 22/15000, Loss: 1306.0697036040112\n",
      "Epoch 23/15000, Loss: 1284.1060733871775\n",
      "Epoch 24/15000, Loss: 1263.1853370968968\n",
      "Epoch 25/15000, Loss: 1243.2327860044436\n",
      "Epoch 26/15000, Loss: 1224.180093379282\n",
      "Epoch 27/15000, Loss: 1205.9650872655823\n",
      "Epoch 28/15000, Loss: 1188.53085240044\n",
      "Epoch 29/15000, Loss: 1171.8255189120982\n",
      "Epoch 30/15000, Loss: 1155.80161084314\n",
      "Epoch 31/15000, Loss: 1140.4159760795103\n",
      "Epoch 32/15000, Loss: 1125.629024459265\n",
      "Epoch 33/15000, Loss: 1111.404502940101\n",
      "Epoch 34/15000, Loss: 1097.7094248118692\n",
      "Epoch 35/15000, Loss: 1084.5133790096736\n",
      "Epoch 36/15000, Loss: 1071.7885329953704\n",
      "Epoch 37/15000, Loss: 1059.5094170339028\n",
      "Epoch 38/15000, Loss: 1047.6522225929107\n",
      "Epoch 39/15000, Loss: 1036.195544338685\n",
      "Epoch 40/15000, Loss: 1025.118875013243\n",
      "Epoch 41/15000, Loss: 1014.4039622733\n",
      "Epoch 42/15000, Loss: 1004.0332154988868\n",
      "Epoch 43/15000, Loss: 993.9906003397896\n",
      "Epoch 44/15000, Loss: 984.2610143856118\n",
      "Epoch 45/15000, Loss: 974.830456841183\n",
      "Epoch 46/15000, Loss: 965.6857680324882\n",
      "Epoch 47/15000, Loss: 956.8146434350049\n",
      "Epoch 48/15000, Loss: 948.205449839178\n",
      "Epoch 49/15000, Loss: 939.8472670712667\n",
      "Epoch 50/15000, Loss: 931.7299128458203\n",
      "Epoch 51/15000, Loss: 923.8436392779337\n",
      "Epoch 52/15000, Loss: 916.1792811739692\n",
      "Epoch 53/15000, Loss: 908.7281693406425\n",
      "Epoch 54/15000, Loss: 901.4820934535535\n",
      "Epoch 55/15000, Loss: 894.433389887397\n",
      "Epoch 56/15000, Loss: 887.5745038098712\n",
      "Epoch 57/15000, Loss: 880.8985289710836\n",
      "Epoch 58/15000, Loss: 874.3988288489427\n",
      "Epoch 59/15000, Loss: 868.0690228894991\n",
      "Epoch 60/15000, Loss: 861.9030106821131\n",
      "Epoch 61/15000, Loss: 855.8950780366378\n",
      "Epoch 62/15000, Loss: 850.0397472238029\n",
      "Epoch 63/15000, Loss: 844.3318325450751\n",
      "Epoch 64/15000, Loss: 838.7661831082925\n",
      "Epoch 65/15000, Loss: 833.3380594698453\n",
      "Epoch 66/15000, Loss: 828.0429382530283\n",
      "Epoch 67/15000, Loss: 822.8763802192369\n",
      "Epoch 68/15000, Loss: 817.8342142799771\n",
      "Epoch 69/15000, Loss: 812.9123900295608\n",
      "Epoch 70/15000, Loss: 808.1070683269083\n",
      "Epoch 71/15000, Loss: 803.4145421139875\n",
      "Epoch 72/15000, Loss: 798.8311832726823\n",
      "Epoch 1/15000, Loss: 3384.0643614779287\n",
      "Epoch 2/15000, Loss: 2719.739536827861\n",
      "Epoch 3/15000, Loss: 2456.384652963709\n",
      "Epoch 4/15000, Loss: 2270.91343535511\n",
      "Epoch 5/15000, Loss: 2127.1918491019815\n",
      "Epoch 6/15000, Loss: 2013.7542320282766\n",
      "Epoch 7/15000, Loss: 1922.9083544588204\n",
      "Epoch 8/15000, Loss: 1848.4295796767913\n",
      "Epoch 9/15000, Loss: 1785.5648217794167\n",
      "Epoch 10/15000, Loss: 1730.9684179681208\n",
      "Epoch 11/15000, Loss: 1682.4046902479001\n",
      "Epoch 12/15000, Loss: 1638.4096743083967\n",
      "Epoch 13/15000, Loss: 1598.0199163404448\n",
      "Epoch 14/15000, Loss: 1560.5862049920615\n",
      "Epoch 15/15000, Loss: 1525.65520941816\n",
      "Epoch 16/15000, Loss: 1492.8965755392157\n",
      "Epoch 17/15000, Loss: 1462.0592372598858\n",
      "Epoch 18/15000, Loss: 1432.9441328998382\n",
      "Epoch 19/15000, Loss: 1405.3878015611551\n",
      "Epoch 20/15000, Loss: 1379.252635651929\n",
      "Epoch 21/15000, Loss: 1354.4196028620338\n",
      "Epoch 22/15000, Loss: 1330.7850774360977\n",
      "Epoch 23/15000, Loss: 1308.256873646472\n",
      "Epoch 24/15000, Loss: 1286.7533571729973\n",
      "Epoch 25/15000, Loss: 1266.2010274156885\n",
      "Epoch 26/15000, Loss: 1246.533825847083\n",
      "Epoch 27/15000, Loss: 1227.6923607720164\n",
      "Epoch 28/15000, Loss: 1209.6227985255944\n",
      "Epoch 29/15000, Loss: 1192.27658942755\n",
      "Epoch 30/15000, Loss: 1175.609360666604\n",
      "Epoch 31/15000, Loss: 1159.5810727553176\n",
      "Epoch 32/15000, Loss: 1144.155035619747\n",
      "Epoch 33/15000, Loss: 1129.2976579840738\n",
      "Epoch 34/15000, Loss: 1114.9785520801445\n",
      "Epoch 35/15000, Loss: 1101.1691954883834\n",
      "Epoch 36/15000, Loss: 1087.8439242067634\n",
      "Epoch 37/15000, Loss: 1074.97854779143\n",
      "Epoch 38/15000, Loss: 1062.5509343311257\n",
      "Epoch 39/15000, Loss: 1050.540315916143\n",
      "Epoch 40/15000, Loss: 1038.9275964490762\n",
      "Epoch 41/15000, Loss: 1027.6945776843029\n",
      "Epoch 42/15000, Loss: 1016.8245423627473\n",
      "Epoch 43/15000, Loss: 1006.3016479188709\n",
      "Epoch 44/15000, Loss: 996.1109521777555\n",
      "Epoch 45/15000, Loss: 986.2382927917346\n",
      "Epoch 46/15000, Loss: 976.6704919104081\n",
      "Epoch 47/15000, Loss: 967.395007168944\n",
      "Epoch 48/15000, Loss: 958.3998196009588\n",
      "Epoch 49/15000, Loss: 949.6738101902693\n",
      "Epoch 50/15000, Loss: 941.206217733153\n",
      "Epoch 51/15000, Loss: 932.9868124842922\n",
      "Epoch 52/15000, Loss: 925.0060373822108\n",
      "Epoch 53/15000, Loss: 917.2545242087349\n",
      "Epoch 54/15000, Loss: 909.7237216183818\n",
      "Epoch 55/15000, Loss: 902.405241824417\n",
      "Epoch 56/15000, Loss: 895.2909857431413\n",
      "Epoch 57/15000, Loss: 888.3735824873868\n",
      "Epoch 58/15000, Loss: 881.645665951779\n",
      "Epoch 59/15000, Loss: 875.1003411153428\n",
      "Epoch 60/15000, Loss: 868.7311387831069\n",
      "Epoch 61/15000, Loss: 862.5315623149388\n",
      "Epoch 62/15000, Loss: 856.4957960751414\n",
      "Epoch 63/15000, Loss: 850.6179825849626\n",
      "Epoch 64/15000, Loss: 844.8926381481756\n",
      "Epoch 65/15000, Loss: 839.3144574947808\n",
      "Epoch 66/15000, Loss: 833.8784872823394\n",
      "Epoch 67/15000, Loss: 828.5797038235568\n",
      "Epoch 68/15000, Loss: 823.4135757392493\n",
      "Epoch 69/15000, Loss: 818.3756720247504\n",
      "Epoch 70/15000, Loss: 813.46172628927\n",
      "Epoch 71/15000, Loss: 808.6675050890063\n",
      "Epoch 72/15000, Loss: 803.9891816947414\n",
      "Epoch 73/15000, Loss: 799.4229508407581\n",
      "Epoch 1/15000, Loss: 3363.169757625764\n",
      "Epoch 2/15000, Loss: 2692.240847827794\n",
      "Epoch 3/15000, Loss: 2424.9133575213827\n",
      "Epoch 4/15000, Loss: 2240.5668654030087\n",
      "Epoch 5/15000, Loss: 2100.151374502093\n",
      "Epoch 6/15000, Loss: 1989.8723911530233\n",
      "Epoch 7/15000, Loss: 1901.119631018401\n",
      "Epoch 8/15000, Loss: 1827.7400274763027\n",
      "Epoch 9/15000, Loss: 1765.3820966347862\n",
      "Epoch 10/15000, Loss: 1711.0583954075212\n",
      "Epoch 11/15000, Loss: 1662.752463324195\n",
      "Epoch 12/15000, Loss: 1619.1023536432274\n",
      "Epoch 13/15000, Loss: 1579.1729622523346\n",
      "Epoch 14/15000, Loss: 1542.3057120117921\n",
      "Epoch 15/15000, Loss: 1508.0216056396791\n",
      "Epoch 16/15000, Loss: 1475.961083231002\n",
      "Epoch 17/15000, Loss: 1445.8456772017273\n",
      "Epoch 18/15000, Loss: 1417.4538055975504\n",
      "Epoch 19/15000, Loss: 1390.6050551979324\n",
      "Epoch 20/15000, Loss: 1365.1497483461242\n",
      "Epoch 21/15000, Loss: 1340.961752519271\n",
      "Epoch 22/15000, Loss: 1317.9337513455957\n",
      "Epoch 23/15000, Loss: 1295.9732032917798\n",
      "Epoch 24/15000, Loss: 1274.9997491100517\n",
      "Epoch 25/15000, Loss: 1254.9432349967904\n",
      "Epoch 26/15000, Loss: 1235.741815750848\n",
      "Epoch 27/15000, Loss: 1217.340925791084\n",
      "Epoch 28/15000, Loss: 1199.6916319922839\n",
      "Epoch 29/15000, Loss: 1182.750140515268\n",
      "Epoch 30/15000, Loss: 1166.4767791148654\n",
      "Epoch 31/15000, Loss: 1150.8357364210153\n",
      "Epoch 32/15000, Loss: 1135.7939764252214\n",
      "Epoch 33/15000, Loss: 1121.3210299395023\n",
      "Epoch 34/15000, Loss: 1107.3888174270103\n",
      "Epoch 35/15000, Loss: 1093.971160833285\n",
      "Epoch 36/15000, Loss: 1081.043461346311\n",
      "Epoch 37/15000, Loss: 1068.5826158900961\n",
      "Epoch 38/15000, Loss: 1056.566673297571\n",
      "Epoch 39/15000, Loss: 1044.975370744708\n",
      "Epoch 40/15000, Loss: 1033.7888882498976\n",
      "Epoch 41/15000, Loss: 1022.9887195726817\n",
      "Epoch 42/15000, Loss: 1012.5573271263871\n",
      "Epoch 43/15000, Loss: 1002.4776850236372\n",
      "Epoch 44/15000, Loss: 992.7340750346785\n",
      "Epoch 45/15000, Loss: 983.3110817253122\n",
      "Epoch 46/15000, Loss: 974.1943311152138\n",
      "Epoch 47/15000, Loss: 965.3700005921397\n",
      "Epoch 48/15000, Loss: 956.8249535222513\n",
      "Epoch 49/15000, Loss: 948.5467035144662\n",
      "Epoch 50/15000, Loss: 940.5234067910251\n",
      "Epoch 51/15000, Loss: 932.7438155870542\n",
      "Epoch 52/15000, Loss: 925.1972087849907\n",
      "Epoch 53/15000, Loss: 917.8733268590564\n",
      "Epoch 54/15000, Loss: 910.762580717319\n",
      "Epoch 55/15000, Loss: 903.8558200413356\n",
      "Epoch 56/15000, Loss: 897.1441785616105\n",
      "Epoch 1/15000, Loss: 3344.3466019916395\n",
      "Epoch 2/15000, Loss: 2654.843158975499\n",
      "Epoch 3/15000, Loss: 2396.8986370620564\n",
      "Epoch 4/15000, Loss: 2222.8238083966867\n",
      "Epoch 5/15000, Loss: 2091.617009470053\n",
      "Epoch 6/15000, Loss: 1988.7184332486624\n",
      "Epoch 7/15000, Loss: 1905.474286714097\n",
      "Epoch 8/15000, Loss: 1836.0545106338118\n",
      "Epoch 9/15000, Loss: 1776.493041362392\n",
      "Epoch 10/15000, Loss: 1724.122455204886\n",
      "Epoch 11/15000, Loss: 1677.1599559057092\n",
      "Epoch 12/15000, Loss: 1634.4094989110313\n",
      "Epoch 13/15000, Loss: 1595.0566261938745\n",
      "Epoch 14/15000, Loss: 1558.5338215982517\n",
      "Epoch 15/15000, Loss: 1524.4329036107326\n",
      "Epoch 16/15000, Loss: 1492.4503702424233\n",
      "Epoch 17/15000, Loss: 1462.3520592518832\n",
      "Epoch 18/15000, Loss: 1433.9509407815856\n",
      "Epoch 19/15000, Loss: 1407.0926788246993\n",
      "Epoch 20/15000, Loss: 1381.646403260591\n",
      "Epoch 21/15000, Loss: 1357.498516244804\n",
      "Epoch 22/15000, Loss: 1334.5483254151766\n",
      "Epoch 23/15000, Loss: 1312.7062430973679\n",
      "Epoch 24/15000, Loss: 1291.890731078312\n",
      "Epoch 25/15000, Loss: 1272.027905717122\n",
      "Epoch 26/15000, Loss: 1253.0501244129416\n",
      "Epoch 27/15000, Loss: 1234.8957530465627\n",
      "Epoch 28/15000, Loss: 1217.5081567457635\n",
      "Epoch 29/15000, Loss: 1200.8356888196474\n",
      "Epoch 30/15000, Loss: 1184.8311891732483\n",
      "Epoch 31/15000, Loss: 1169.4515043871413\n",
      "Epoch 32/15000, Loss: 1154.6572832238696\n",
      "Epoch 33/15000, Loss: 1140.4127428967677\n",
      "Epoch 34/15000, Loss: 1126.6853156536533\n",
      "Epoch 35/15000, Loss: 1113.4449400565272\n",
      "Epoch 36/15000, Loss: 1100.664534854792\n",
      "Epoch 37/15000, Loss: 1088.3191744732687\n",
      "Epoch 38/15000, Loss: 1076.3858924804797\n",
      "Epoch 39/15000, Loss: 1064.843811155684\n",
      "Epoch 40/15000, Loss: 1053.6736246170508\n",
      "Epoch 41/15000, Loss: 1042.8572330774286\n",
      "Epoch 42/15000, Loss: 1032.3781249893668\n",
      "Epoch 43/15000, Loss: 1022.2210449324223\n",
      "Epoch 44/15000, Loss: 1012.3714182069624\n",
      "Epoch 45/15000, Loss: 1002.8158308139834\n",
      "Epoch 46/15000, Loss: 993.5417737946477\n",
      "Epoch 47/15000, Loss: 984.5371809386372\n",
      "Epoch 48/15000, Loss: 975.791073435615\n",
      "Epoch 49/15000, Loss: 967.2927788687281\n",
      "Epoch 50/15000, Loss: 959.0324475903183\n",
      "Epoch 51/15000, Loss: 951.0006780469868\n",
      "Epoch 52/15000, Loss: 943.1884691078409\n",
      "Epoch 53/15000, Loss: 935.5873066960777\n",
      "Epoch 54/15000, Loss: 928.1893013629875\n",
      "Epoch 55/15000, Loss: 920.98669503831\n",
      "Epoch 56/15000, Loss: 913.972308983522\n",
      "Epoch 57/15000, Loss: 907.1391381030888\n",
      "Epoch 58/15000, Loss: 900.480705621934\n",
      "Epoch 59/15000, Loss: 893.9906499134902\n",
      "Epoch 1/15000, Loss: 3468.1833386271437\n",
      "Epoch 2/15000, Loss: 2794.8687005221295\n",
      "Epoch 3/15000, Loss: 2506.220577704206\n",
      "Epoch 4/15000, Loss: 2300.1471502944228\n",
      "Epoch 5/15000, Loss: 2142.8112288527423\n",
      "Epoch 6/15000, Loss: 2021.8121852776999\n",
      "Epoch 7/15000, Loss: 1927.358095537789\n",
      "Epoch 8/15000, Loss: 1851.33490905363\n",
      "Epoch 9/15000, Loss: 1787.8279107568842\n",
      "Epoch 10/15000, Loss: 1732.9272397624013\n",
      "Epoch 11/15000, Loss: 1684.1651620108278\n",
      "Epoch 12/15000, Loss: 1639.9936742252844\n",
      "Epoch 13/15000, Loss: 1599.4223390170002\n",
      "Epoch 14/15000, Loss: 1561.7942300430548\n",
      "Epoch 15/15000, Loss: 1526.6554017273297\n",
      "Epoch 16/15000, Loss: 1493.6780624143312\n",
      "Epoch 17/15000, Loss: 1462.614879548395\n",
      "Epoch 18/15000, Loss: 1433.273019980381\n",
      "Epoch 19/15000, Loss: 1405.496262308797\n",
      "Epoch 20/15000, Loss: 1379.1544677975871\n",
      "Epoch 21/15000, Loss: 1354.1365738541438\n",
      "Epoch 22/15000, Loss: 1330.3453375666988\n",
      "Epoch 23/15000, Loss: 1307.6945223554999\n",
      "Epoch 24/15000, Loss: 1286.1062273158955\n",
      "Epoch 25/15000, Loss: 1265.5095225953294\n",
      "Epoch 26/15000, Loss: 1245.8393328318436\n",
      "Epoch 27/15000, Loss: 1227.0357804478317\n",
      "Epoch 28/15000, Loss: 1209.0436019068156\n",
      "Epoch 29/15000, Loss: 1191.8114643263716\n",
      "Epoch 30/15000, Loss: 1175.2923635145144\n",
      "Epoch 31/15000, Loss: 1159.4426194120356\n",
      "Epoch 32/15000, Loss: 1144.2219290261917\n",
      "Epoch 33/15000, Loss: 1129.59304200692\n",
      "Epoch 34/15000, Loss: 1115.521842433159\n",
      "Epoch 35/15000, Loss: 1101.9765563309743\n",
      "Epoch 36/15000, Loss: 1088.9280026550134\n",
      "Epoch 37/15000, Loss: 1076.3490523422429\n",
      "Epoch 38/15000, Loss: 1064.214842810571\n",
      "Epoch 39/15000, Loss: 1052.5022181849215\n",
      "Epoch 40/15000, Loss: 1041.189513655551\n",
      "Epoch 41/15000, Loss: 1030.2570038584274\n",
      "Epoch 42/15000, Loss: 1019.6859583378855\n",
      "Epoch 43/15000, Loss: 1009.4591275201213\n",
      "Epoch 44/15000, Loss: 999.560241744844\n",
      "Epoch 45/15000, Loss: 989.9741271519771\n",
      "Epoch 46/15000, Loss: 980.6866227407085\n",
      "Epoch 47/15000, Loss: 971.684450811017\n",
      "Epoch 48/15000, Loss: 962.9549902836021\n",
      "Epoch 49/15000, Loss: 954.486493315053\n",
      "Epoch 50/15000, Loss: 946.2677738696589\n",
      "Epoch 51/15000, Loss: 938.2884502366455\n",
      "Epoch 52/15000, Loss: 930.5384794723205\n",
      "Epoch 53/15000, Loss: 923.0086050997822\n",
      "Epoch 54/15000, Loss: 915.6898690919936\n",
      "Epoch 55/15000, Loss: 908.5740167190326\n",
      "Epoch 56/15000, Loss: 901.6529330455697\n",
      "Epoch 57/15000, Loss: 894.9191807748919\n",
      "Epoch 1/15000, Loss: 3284.913321514643\n",
      "Epoch 2/15000, Loss: 2687.3703575930845\n",
      "Epoch 3/15000, Loss: 2439.416810272064\n",
      "Epoch 4/15000, Loss: 2262.4669572560197\n",
      "Epoch 5/15000, Loss: 2124.6675418931036\n",
      "Epoch 6/15000, Loss: 2015.3055179195794\n",
      "Epoch 7/15000, Loss: 1927.059737092384\n",
      "Epoch 8/15000, Loss: 1854.1440736286625\n",
      "Epoch 9/15000, Loss: 1792.2056708207294\n",
      "Epoch 10/15000, Loss: 1738.1716943120837\n",
      "Epoch 11/15000, Loss: 1689.9598318751164\n",
      "Epoch 12/15000, Loss: 1646.1796777171774\n",
      "Epoch 13/15000, Loss: 1605.8993904513034\n",
      "Epoch 14/15000, Loss: 1568.4833278295987\n",
      "Epoch 15/15000, Loss: 1533.4867564324873\n",
      "Epoch 16/15000, Loss: 1500.5889382077717\n",
      "Epoch 17/15000, Loss: 1469.5502686800223\n",
      "Epoch 18/15000, Loss: 1440.1855338628188\n",
      "Epoch 19/15000, Loss: 1412.3461141025873\n",
      "Epoch 20/15000, Loss: 1385.9086731841546\n",
      "Epoch 21/15000, Loss: 1360.7679149701996\n",
      "Epoch 22/15000, Loss: 1336.831300800323\n",
      "Epoch 23/15000, Loss: 1314.0162647892555\n",
      "Epoch 24/15000, Loss: 1292.2476521284818\n",
      "Epoch 25/15000, Loss: 1271.4567335714682\n",
      "Epoch 26/15000, Loss: 1251.579997990765\n",
      "Epoch 27/15000, Loss: 1232.5589818968042\n",
      "Epoch 28/15000, Loss: 1214.3395098342862\n",
      "Epoch 29/15000, Loss: 1196.8714338298587\n",
      "Epoch 30/15000, Loss: 1180.1084107359575\n",
      "Epoch 31/15000, Loss: 1164.007988028911\n",
      "Epoch 32/15000, Loss: 1148.5307722457123\n",
      "Epoch 33/15000, Loss: 1133.640416744324\n",
      "Epoch 34/15000, Loss: 1119.3036840352327\n",
      "Epoch 35/15000, Loss: 1105.4898860824333\n",
      "Epoch 36/15000, Loss: 1092.1705294017372\n",
      "Epoch 37/15000, Loss: 1079.319354518171\n",
      "Epoch 38/15000, Loss: 1066.9121149238679\n",
      "Epoch 39/15000, Loss: 1054.9263941742172\n",
      "Epoch 40/15000, Loss: 1043.341183743376\n",
      "Epoch 41/15000, Loss: 1032.137082309167\n",
      "Epoch 42/15000, Loss: 1021.2959245729995\n",
      "Epoch 43/15000, Loss: 1010.8009040711919\n",
      "Epoch 44/15000, Loss: 1000.6359313320852\n",
      "Epoch 45/15000, Loss: 990.7863761177261\n",
      "Epoch 46/15000, Loss: 981.2382104733731\n",
      "Epoch 47/15000, Loss: 971.9784749308709\n",
      "Epoch 48/15000, Loss: 962.9947461684903\n",
      "Epoch 49/15000, Loss: 954.2755320451809\n",
      "Epoch 50/15000, Loss: 945.8098817890204\n",
      "Epoch 51/15000, Loss: 937.5875504632214\n",
      "Epoch 52/15000, Loss: 929.5988698262428\n",
      "Epoch 53/15000, Loss: 921.8345867140217\n",
      "Epoch 54/15000, Loss: 914.2861687908509\n",
      "Epoch 55/15000, Loss: 906.9453580802805\n",
      "Epoch 56/15000, Loss: 899.8043277868629\n",
      "Epoch 1/15000, Loss: 3431.8316988717024\n",
      "Epoch 2/15000, Loss: 2737.118201625086\n",
      "Epoch 3/15000, Loss: 2413.84732464045\n",
      "Epoch 4/15000, Loss: 2203.762220998479\n",
      "Epoch 5/15000, Loss: 2061.3976571362136\n",
      "Epoch 6/15000, Loss: 1959.6100673256633\n",
      "Epoch 7/15000, Loss: 1881.1591828093042\n",
      "Epoch 8/15000, Loss: 1816.5126958987266\n",
      "Epoch 9/15000, Loss: 1760.6902548959795\n",
      "Epoch 10/15000, Loss: 1711.0278300948833\n",
      "Epoch 11/15000, Loss: 1665.9980614281812\n",
      "Epoch 12/15000, Loss: 1624.6496632373367\n",
      "Epoch 13/15000, Loss: 1586.3410657044835\n",
      "Epoch 14/15000, Loss: 1550.6122659473392\n",
      "Epoch 15/15000, Loss: 1517.11781366759\n",
      "Epoch 16/15000, Loss: 1485.589041186752\n",
      "Epoch 17/15000, Loss: 1455.8125793475097\n",
      "Epoch 18/15000, Loss: 1427.6153727360881\n",
      "Epoch 19/15000, Loss: 1400.8547093255759\n",
      "Epoch 20/15000, Loss: 1375.4110745891119\n",
      "Epoch 21/15000, Loss: 1351.1830249570125\n",
      "Epoch 22/15000, Loss: 1328.0828470817942\n",
      "Epoch 23/15000, Loss: 1306.033803796537\n",
      "Epoch 24/15000, Loss: 1284.9673884909528\n",
      "Epoch 25/15000, Loss: 1264.8222276709985\n",
      "Epoch 26/15000, Loss: 1245.5420494201235\n",
      "Epoch 27/15000, Loss: 1227.075627824242\n",
      "Epoch 28/15000, Loss: 1209.375297071577\n",
      "Epoch 29/15000, Loss: 1192.39685932293\n",
      "Epoch 30/15000, Loss: 1176.0989721456879\n",
      "Epoch 31/15000, Loss: 1160.443060110286\n",
      "Epoch 32/15000, Loss: 1145.3930751759276\n",
      "Epoch 33/15000, Loss: 1130.9153281533513\n",
      "Epoch 34/15000, Loss: 1116.9780742083371\n",
      "Epoch 35/15000, Loss: 1103.551803789621\n",
      "Epoch 36/15000, Loss: 1090.6088217685003\n",
      "Epoch 37/15000, Loss: 1078.1232851692766\n",
      "Epoch 38/15000, Loss: 1066.0709701654393\n",
      "Epoch 39/15000, Loss: 1054.4292394427157\n",
      "Epoch 40/15000, Loss: 1043.1770154111275\n",
      "Epoch 41/15000, Loss: 1032.2944810008412\n",
      "Epoch 42/15000, Loss: 1021.763260483281\n",
      "Epoch 43/15000, Loss: 1011.566021247945\n",
      "Epoch 44/15000, Loss: 1001.6866561716791\n",
      "Epoch 45/15000, Loss: 992.1101154458302\n",
      "Epoch 46/15000, Loss: 982.8222728805217\n",
      "Epoch 47/15000, Loss: 973.8099404791683\n",
      "Epoch 48/15000, Loss: 965.0606568764132\n",
      "Epoch 49/15000, Loss: 956.5629207442358\n",
      "Epoch 50/15000, Loss: 948.3060146625335\n",
      "Epoch 51/15000, Loss: 940.2795717106148\n",
      "Epoch 52/15000, Loss: 932.4742372572421\n",
      "Epoch 53/15000, Loss: 924.8810449531877\n",
      "Epoch 54/15000, Loss: 917.4916451747301\n",
      "Epoch 55/15000, Loss: 910.2981286384924\n",
      "Epoch 56/15000, Loss: 903.2930816329026\n",
      "Epoch 57/15000, Loss: 896.4695889135113\n",
      "Epoch 1/15000, Loss: 3297.550047341143\n",
      "Epoch 2/15000, Loss: 2665.9360970698244\n",
      "Epoch 3/15000, Loss: 2397.917971008996\n",
      "Epoch 4/15000, Loss: 2213.854133329122\n",
      "Epoch 5/15000, Loss: 2077.5222019888706\n",
      "Epoch 6/15000, Loss: 1973.2571404441794\n",
      "Epoch 7/15000, Loss: 1890.6701548696738\n",
      "Epoch 8/15000, Loss: 1822.644845838993\n",
      "Epoch 9/15000, Loss: 1764.5261057174314\n",
      "Epoch 10/15000, Loss: 1713.3707177799356\n",
      "Epoch 11/15000, Loss: 1667.3330029446317\n",
      "Epoch 12/15000, Loss: 1625.2406681903356\n",
      "Epoch 13/15000, Loss: 1586.327755688162\n",
      "Epoch 14/15000, Loss: 1550.074456751761\n",
      "Epoch 15/15000, Loss: 1516.1122448300898\n",
      "Epoch 16/15000, Loss: 1484.1687560426608\n",
      "Epoch 17/15000, Loss: 1454.0327839538106\n",
      "Epoch 18/15000, Loss: 1425.5342922120356\n",
      "Epoch 19/15000, Loss: 1398.5318673273557\n",
      "Epoch 20/15000, Loss: 1372.904354024284\n",
      "Epoch 21/15000, Loss: 1348.5453835521114\n",
      "Epoch 22/15000, Loss: 1325.360696201627\n",
      "Epoch 23/15000, Loss: 1303.2652263490334\n",
      "Epoch 24/15000, Loss: 1282.1821228872584\n",
      "Epoch 25/15000, Loss: 1262.0414280570167\n",
      "Epoch 26/15000, Loss: 1242.7792898596726\n",
      "Epoch 27/15000, Loss: 1224.337703513352\n",
      "Epoch 28/15000, Loss: 1206.6633461221227\n",
      "Epoch 29/15000, Loss: 1189.7076672783128\n",
      "Epoch 30/15000, Loss: 1173.4263252688295\n",
      "Epoch 31/15000, Loss: 1157.7784007407934\n",
      "Epoch 32/15000, Loss: 1142.7264619304037\n",
      "Epoch 33/15000, Loss: 1128.236200319844\n",
      "Epoch 34/15000, Loss: 1114.2757888275664\n",
      "Epoch 35/15000, Loss: 1100.8156959397102\n",
      "Epoch 36/15000, Loss: 1087.8288339620217\n",
      "Epoch 37/15000, Loss: 1075.2899668249124\n",
      "Epoch 38/15000, Loss: 1063.1756205749798\n",
      "Epoch 39/15000, Loss: 1051.4638260444963\n",
      "Epoch 40/15000, Loss: 1040.1343575579228\n",
      "Epoch 41/15000, Loss: 1029.168146880024\n",
      "Epoch 42/15000, Loss: 1018.5474131058324\n",
      "Epoch 43/15000, Loss: 1008.2556830614906\n",
      "Epoch 44/15000, Loss: 998.2773855842399\n",
      "Epoch 1/15000, Loss: 3416.408411350815\n",
      "Epoch 2/15000, Loss: 2706.17812952093\n",
      "Epoch 3/15000, Loss: 2400.5440024253207\n",
      "Epoch 4/15000, Loss: 2199.061438790182\n",
      "Epoch 5/15000, Loss: 2058.225380371973\n",
      "Epoch 6/15000, Loss: 1955.3786913161553\n",
      "Epoch 7/15000, Loss: 1875.5279499229025\n",
      "Epoch 8/15000, Loss: 1809.7706507396933\n",
      "Epoch 9/15000, Loss: 1753.1738601181662\n",
      "Epoch 10/15000, Loss: 1702.9994106868148\n",
      "Epoch 11/15000, Loss: 1657.6549438674376\n",
      "Epoch 12/15000, Loss: 1616.1504463023691\n",
      "Epoch 13/15000, Loss: 1577.8255612687547\n",
      "Epoch 14/15000, Loss: 1542.2103558196086\n",
      "Epoch 15/15000, Loss: 1508.9519507150715\n",
      "Epoch 16/15000, Loss: 1477.774536424665\n",
      "Epoch 17/15000, Loss: 1448.455517467551\n",
      "Epoch 18/15000, Loss: 1420.8101649049465\n",
      "Epoch 19/15000, Loss: 1394.682830740628\n",
      "Epoch 20/15000, Loss: 1369.9398414254154\n",
      "Epoch 21/15000, Loss: 1346.4647889048188\n",
      "Epoch 22/15000, Loss: 1324.1556045674704\n",
      "Epoch 23/15000, Loss: 1302.921370440064\n",
      "Epoch 24/15000, Loss: 1282.681514794417\n",
      "Epoch 25/15000, Loss: 1263.3629366971434\n",
      "Epoch 26/15000, Loss: 1244.9001586503641\n",
      "Epoch 27/15000, Loss: 1227.233436307465\n",
      "Epoch 28/15000, Loss: 1210.3086217395683\n",
      "Epoch 29/15000, Loss: 1194.0760678673662\n",
      "Epoch 30/15000, Loss: 1178.4905626613383\n",
      "Epoch 31/15000, Loss: 1163.51076316568\n",
      "Epoch 32/15000, Loss: 1149.0984513279263\n",
      "Epoch 33/15000, Loss: 1135.2186428739153\n",
      "Epoch 34/15000, Loss: 1121.839279762322\n",
      "Epoch 35/15000, Loss: 1108.9307603891896\n",
      "Epoch 36/15000, Loss: 1096.4659206987728\n",
      "Epoch 37/15000, Loss: 1084.419676425935\n",
      "Epoch 38/15000, Loss: 1072.7689781570864\n",
      "Epoch 39/15000, Loss: 1061.4924971491098\n",
      "Epoch 40/15000, Loss: 1050.5705055710457\n",
      "Epoch 41/15000, Loss: 1039.9850852926395\n",
      "Epoch 42/15000, Loss: 1029.7192828937195\n",
      "Epoch 43/15000, Loss: 1019.757700988043\n",
      "Epoch 44/15000, Loss: 1010.0859592922052\n",
      "Epoch 45/15000, Loss: 1000.6907738752018\n",
      "Epoch 46/15000, Loss: 991.559755918802\n",
      "Epoch 1/15000, Loss: 3363.1506198650873\n",
      "Epoch 2/15000, Loss: 2678.7736166336026\n",
      "Epoch 3/15000, Loss: 2413.742941527059\n",
      "Epoch 4/15000, Loss: 2233.3146457230137\n",
      "Epoch 5/15000, Loss: 2097.00390001833\n",
      "Epoch 6/15000, Loss: 1990.4312425786122\n",
      "Epoch 7/15000, Loss: 1904.7209663698206\n",
      "Epoch 8/15000, Loss: 1833.6427641169078\n",
      "Epoch 9/15000, Loss: 1772.8977445945955\n",
      "Epoch 10/15000, Loss: 1719.612354736173\n",
      "Epoch 11/15000, Loss: 1671.8959261691523\n",
      "Epoch 12/15000, Loss: 1628.5003955530115\n",
      "Epoch 13/15000, Loss: 1588.5876179274694\n",
      "Epoch 14/15000, Loss: 1551.5813140403416\n",
      "Epoch 15/15000, Loss: 1517.071824844428\n",
      "Epoch 16/15000, Loss: 1484.757630534181\n",
      "Epoch 17/15000, Loss: 1454.4075643891763\n",
      "Epoch 18/15000, Loss: 1425.8368549778118\n",
      "Epoch 19/15000, Loss: 1398.892328009725\n",
      "Epoch 20/15000, Loss: 1373.4411410103028\n",
      "Epoch 21/15000, Loss: 1349.3658333624269\n",
      "Epoch 22/15000, Loss: 1326.559702773924\n",
      "Epoch 23/15000, Loss: 1304.9249595542215\n",
      "Epoch 24/15000, Loss: 1284.3711976921106\n",
      "Epoch 25/15000, Loss: 1264.8148773719684\n",
      "Epoch 26/15000, Loss: 1246.1788282971\n",
      "Epoch 27/15000, Loss: 1228.3920339171052\n",
      "Epoch 28/15000, Loss: 1211.3895351859628\n",
      "Epoch 29/15000, Loss: 1195.1121340153013\n",
      "Epoch 30/15000, Loss: 1179.5058572065686\n",
      "Epoch 31/15000, Loss: 1164.5221702490026\n",
      "Epoch 32/15000, Loss: 1150.1170748031277\n",
      "Epoch 33/15000, Loss: 1136.2510465240202\n",
      "Epoch 34/15000, Loss: 1122.8880378272838\n",
      "Epoch 35/15000, Loss: 1109.9960513094704\n",
      "Epoch 36/15000, Loss: 1097.5460145244049\n",
      "Epoch 37/15000, Loss: 1085.5115056914874\n",
      "Epoch 38/15000, Loss: 1073.868827840474\n",
      "Epoch 39/15000, Loss: 1062.5962379142538\n",
      "Epoch 40/15000, Loss: 1051.6740357114359\n",
      "Epoch 41/15000, Loss: 1041.0841790956479\n",
      "Epoch 42/15000, Loss: 1030.8100758048936\n",
      "Epoch 43/15000, Loss: 1020.8366762733417\n",
      "Epoch 44/15000, Loss: 1011.1499972506613\n",
      "Epoch 45/15000, Loss: 1001.7369292732037\n",
      "Epoch 46/15000, Loss: 992.5856922128264\n",
      "Epoch 1/15000, Loss: 3459.1950253681885\n",
      "Epoch 2/15000, Loss: 2706.5011437482704\n",
      "Epoch 3/15000, Loss: 2429.1091343159087\n",
      "Epoch 4/15000, Loss: 2249.5137508269368\n",
      "Epoch 5/15000, Loss: 2115.0652556126\n",
      "Epoch 6/15000, Loss: 2009.1903377091248\n",
      "Epoch 7/15000, Loss: 1923.1658108266013\n",
      "Epoch 8/15000, Loss: 1851.2606984080064\n",
      "Epoch 9/15000, Loss: 1789.5348900096244\n",
      "Epoch 10/15000, Loss: 1735.2932924574852\n",
      "Epoch 11/15000, Loss: 1686.7097504551457\n",
      "Epoch 12/15000, Loss: 1642.5444147156118\n",
      "Epoch 13/15000, Loss: 1601.9463557526067\n",
      "Epoch 14/15000, Loss: 1564.3172821654857\n",
      "Epoch 15/15000, Loss: 1529.2243570012402\n",
      "Epoch 16/15000, Loss: 1496.343017220048\n",
      "Epoch 17/15000, Loss: 1465.4218110311879\n",
      "Epoch 18/15000, Loss: 1436.2589171668747\n",
      "Epoch 19/15000, Loss: 1408.6883549669271\n",
      "Epoch 20/15000, Loss: 1382.5699737938633\n",
      "Epoch 21/15000, Loss: 1357.7836495471204\n",
      "Epoch 22/15000, Loss: 1334.2246580932106\n",
      "Epoch 23/15000, Loss: 1311.8010100661108\n",
      "Epoch 24/15000, Loss: 1290.4307518407911\n",
      "Epoch 25/15000, Loss: 1270.040612704956\n",
      "Epoch 26/15000, Loss: 1250.5646031527642\n",
      "Epoch 27/15000, Loss: 1231.9427425094366\n",
      "Epoch 28/15000, Loss: 1214.120653498821\n",
      "Epoch 29/15000, Loss: 1197.0485795888228\n",
      "Epoch 30/15000, Loss: 1180.6807322379482\n",
      "Epoch 31/15000, Loss: 1164.9749192926731\n",
      "Epoch 32/15000, Loss: 1149.8923990252697\n",
      "Epoch 33/15000, Loss: 1135.3969464705767\n",
      "Epoch 34/15000, Loss: 1121.4552798833006\n",
      "Epoch 35/15000, Loss: 1108.036266336312\n",
      "Epoch 36/15000, Loss: 1095.1108589579667\n",
      "Epoch 37/15000, Loss: 1082.652195776291\n",
      "Epoch 38/15000, Loss: 1070.6352603526202\n",
      "Epoch 39/15000, Loss: 1059.0363527608135\n",
      "Epoch 40/15000, Loss: 1047.8337557105694\n",
      "Epoch 41/15000, Loss: 1037.0069800451256\n",
      "Epoch 42/15000, Loss: 1026.5369715332833\n",
      "Epoch 43/15000, Loss: 1016.4057728292856\n",
      "Epoch 44/15000, Loss: 1006.5966803870776\n",
      "Epoch 45/15000, Loss: 997.0940997871342\n",
      "Epoch 1/15000, Loss: 3304.6190580593816\n",
      "Epoch 2/15000, Loss: 2638.2695153063437\n",
      "Epoch 3/15000, Loss: 2360.1543459828304\n",
      "Epoch 4/15000, Loss: 2181.293356228947\n",
      "Epoch 5/15000, Loss: 2054.6069230325393\n",
      "Epoch 6/15000, Loss: 1958.9223112107175\n",
      "Epoch 7/15000, Loss: 1882.3697671887435\n",
      "Epoch 8/15000, Loss: 1818.163535515615\n",
      "Epoch 9/15000, Loss: 1762.391352765703\n",
      "Epoch 10/15000, Loss: 1712.7359126887563\n",
      "Epoch 11/15000, Loss: 1667.7649384237488\n",
      "Epoch 12/15000, Loss: 1626.5458773964513\n",
      "Epoch 13/15000, Loss: 1588.4383100811683\n",
      "Epoch 14/15000, Loss: 1552.9794475615226\n",
      "Epoch 15/15000, Loss: 1519.820166857753\n",
      "Epoch 16/15000, Loss: 1488.687826149858\n",
      "Epoch 17/15000, Loss: 1459.3635040734346\n",
      "Epoch 18/15000, Loss: 1431.666907803873\n",
      "Epoch 19/15000, Loss: 1405.4476340190758\n",
      "Epoch 20/15000, Loss: 1380.577485664914\n",
      "Epoch 21/15000, Loss: 1356.9456136593874\n",
      "Epoch 22/15000, Loss: 1334.455330113404\n",
      "Epoch 23/15000, Loss: 1313.0211330561344\n",
      "Epoch 24/15000, Loss: 1292.5666291800437\n",
      "Epoch 25/15000, Loss: 1273.0231585478734\n",
      "Epoch 26/15000, Loss: 1254.328200807829\n",
      "Epoch 27/15000, Loss: 1236.4251876772673\n",
      "Epoch 28/15000, Loss: 1219.262109825667\n",
      "Epoch 29/15000, Loss: 1202.7911950734958\n",
      "Epoch 30/15000, Loss: 1186.968744155123\n",
      "Epoch 31/15000, Loss: 1171.754337552865\n",
      "Epoch 32/15000, Loss: 1157.1108267951768\n",
      "Epoch 33/15000, Loss: 1143.0039112086329\n",
      "Epoch 34/15000, Loss: 1129.402068729769\n",
      "Epoch 35/15000, Loss: 1116.2761181203468\n",
      "Epoch 36/15000, Loss: 1103.5992783178858\n",
      "Epoch 37/15000, Loss: 1091.346562849854\n",
      "Epoch 38/15000, Loss: 1079.4952009990534\n",
      "Epoch 39/15000, Loss: 1068.0240415703383\n",
      "Epoch 40/15000, Loss: 1056.9135182139732\n",
      "Epoch 41/15000, Loss: 1046.1456045560692\n",
      "Epoch 42/15000, Loss: 1035.7035367875471\n",
      "Epoch 43/15000, Loss: 1025.5717991338493\n",
      "Epoch 44/15000, Loss: 1015.7361069769856\n",
      "Epoch 45/15000, Loss: 1006.1830145883426\n",
      "Epoch 46/15000, Loss: 996.9001413892844\n",
      "Epoch 1/15000, Loss: 3380.3817393647146\n",
      "Epoch 2/15000, Loss: 2709.608114246444\n",
      "Epoch 3/15000, Loss: 2418.7128942276886\n",
      "Epoch 4/15000, Loss: 2221.739821956058\n",
      "Epoch 5/15000, Loss: 2079.2260071451365\n",
      "Epoch 6/15000, Loss: 1972.4148904736683\n",
      "Epoch 7/15000, Loss: 1888.7323747005676\n",
      "Epoch 8/15000, Loss: 1820.0488278031837\n",
      "Epoch 9/15000, Loss: 1761.3900562830834\n",
      "Epoch 10/15000, Loss: 1709.7673841667772\n",
      "Epoch 11/15000, Loss: 1663.3632807270512\n",
      "Epoch 12/15000, Loss: 1621.0374227876425\n",
      "Epoch 13/15000, Loss: 1582.0405542156734\n",
      "Epoch 14/15000, Loss: 1545.855460095239\n",
      "Epoch 15/15000, Loss: 1512.1047288684385\n",
      "Epoch 16/15000, Loss: 1480.4995331901825\n",
      "Epoch 17/15000, Loss: 1450.8089361846637\n",
      "Epoch 18/15000, Loss: 1422.8420117934766\n",
      "Epoch 19/15000, Loss: 1396.436358052427\n",
      "Epoch 20/15000, Loss: 1371.4509265097115\n",
      "Epoch 21/15000, Loss: 1347.7619339670741\n",
      "Epoch 22/15000, Loss: 1325.2592120014833\n",
      "Epoch 23/15000, Loss: 1303.8446065662454\n",
      "Epoch 24/15000, Loss: 1283.4300134139994\n",
      "Epoch 25/15000, Loss: 1263.9361830012238\n",
      "Epoch 26/15000, Loss: 1245.291983983881\n",
      "Epoch 27/15000, Loss: 1227.4335746239765\n",
      "Epoch 28/15000, Loss: 1210.3036046022198\n",
      "Epoch 29/15000, Loss: 1193.8504127551616\n",
      "Epoch 30/15000, Loss: 1178.0277487494382\n",
      "Epoch 31/15000, Loss: 1162.7940266060828\n",
      "Epoch 32/15000, Loss: 1148.1119970627526\n",
      "Epoch 33/15000, Loss: 1133.9478162389416\n",
      "Epoch 34/15000, Loss: 1120.2713080253072\n",
      "Epoch 35/15000, Loss: 1107.0549809760694\n",
      "Epoch 36/15000, Loss: 1094.2739320169485\n",
      "Epoch 1/15000, Loss: 3418.6136470268075\n",
      "Epoch 2/15000, Loss: 2747.51790812498\n",
      "Epoch 3/15000, Loss: 2464.581581623082\n",
      "Epoch 4/15000, Loss: 2269.035487209728\n",
      "Epoch 5/15000, Loss: 2122.228982105101\n",
      "Epoch 6/15000, Loss: 2009.5460657939625\n",
      "Epoch 7/15000, Loss: 1920.835373068949\n",
      "Epoch 8/15000, Loss: 1848.5536364417926\n",
      "Epoch 9/15000, Loss: 1787.4721904882326\n",
      "Epoch 10/15000, Loss: 1734.1706466298442\n",
      "Epoch 11/15000, Loss: 1686.4700805750963\n",
      "Epoch 12/15000, Loss: 1642.9847212154252\n",
      "Epoch 13/15000, Loss: 1602.8184407944414\n",
      "Epoch 14/15000, Loss: 1565.3764824836403\n",
      "Epoch 15/15000, Loss: 1530.2508106866017\n",
      "Epoch 16/15000, Loss: 1497.1514794844659\n",
      "Epoch 17/15000, Loss: 1465.864548913683\n",
      "Epoch 18/15000, Loss: 1436.2258107762339\n",
      "Epoch 19/15000, Loss: 1408.1044776247834\n",
      "Epoch 20/15000, Loss: 1381.392082264986\n",
      "Epoch 21/15000, Loss: 1355.9950787781347\n",
      "Epoch 22/15000, Loss: 1331.8307023838452\n",
      "Epoch 23/15000, Loss: 1308.8228770450837\n",
      "Epoch 24/15000, Loss: 1286.9009253883942\n",
      "Epoch 25/15000, Loss: 1265.9978213969341\n",
      "Epoch 26/15000, Loss: 1246.0502646634034\n",
      "Epoch 27/15000, Loss: 1226.9975282075357\n",
      "Epoch 28/15000, Loss: 1208.782355782834\n",
      "Epoch 29/15000, Loss: 1191.350288552843\n",
      "Epoch 30/15000, Loss: 1174.650315908692\n",
      "Epoch 31/15000, Loss: 1158.6345593466392\n",
      "Epoch 32/15000, Loss: 1143.2585468664897\n",
      "Epoch 33/15000, Loss: 1128.4813375444749\n",
      "Epoch 34/15000, Loss: 1114.2651339340468\n",
      "Epoch 35/15000, Loss: 1100.5751269252626\n",
      "Epoch 36/15000, Loss: 1087.3794955632814\n",
      "Epoch 1/15000, Loss: 3392.4242217839646\n",
      "Epoch 2/15000, Loss: 2763.830649729276\n",
      "Epoch 3/15000, Loss: 2488.9721701064636\n",
      "Epoch 4/15000, Loss: 2290.2675668186544\n",
      "Epoch 5/15000, Loss: 2137.061253979141\n",
      "Epoch 6/15000, Loss: 2018.446969461618\n",
      "Epoch 7/15000, Loss: 1925.6331799371674\n",
      "Epoch 8/15000, Loss: 1850.9382282941622\n",
      "Epoch 9/15000, Loss: 1788.5428428880664\n",
      "Epoch 10/15000, Loss: 1734.5279849660246\n",
      "Epoch 11/15000, Loss: 1686.4130482298929\n",
      "Epoch 12/15000, Loss: 1642.654845310966\n",
      "Epoch 13/15000, Loss: 1602.2821605831268\n",
      "Epoch 14/15000, Loss: 1564.6651764388264\n",
      "Epoch 15/15000, Loss: 1529.3793593230491\n",
      "Epoch 16/15000, Loss: 1496.1256531281658\n",
      "Epoch 17/15000, Loss: 1464.6845915282522\n",
      "Epoch 18/15000, Loss: 1434.8884681943664\n",
      "Epoch 19/15000, Loss: 1406.6040695077297\n",
      "Epoch 20/15000, Loss: 1379.722315753369\n",
      "Epoch 21/15000, Loss: 1354.1500883276703\n",
      "Epoch 22/15000, Loss: 1329.8057204861257\n",
      "Epoch 23/15000, Loss: 1306.6163073890186\n",
      "Epoch 24/15000, Loss: 1284.5142922966343\n",
      "Epoch 25/15000, Loss: 1263.4362987924544\n",
      "Epoch 26/15000, Loss: 1243.3226503844157\n",
      "Epoch 27/15000, Loss: 1224.116467332433\n",
      "Epoch 28/15000, Loss: 1205.7635003105538\n",
      "Epoch 29/15000, Loss: 1188.2119770011964\n",
      "Epoch 30/15000, Loss: 1171.412624317387\n",
      "Epoch 31/15000, Loss: 1155.319082347899\n",
      "Epoch 32/15000, Loss: 1139.8873736297953\n",
      "Epoch 33/15000, Loss: 1125.076485061735\n",
      "Epoch 34/15000, Loss: 1110.8481903548206\n",
      "Epoch 35/15000, Loss: 1097.16667813362\n",
      "Epoch 1/15000, Loss: 3368.899006089272\n",
      "Epoch 2/15000, Loss: 2713.386811007036\n",
      "Epoch 3/15000, Loss: 2447.2392740366577\n",
      "Epoch 4/15000, Loss: 2261.324965162312\n",
      "Epoch 5/15000, Loss: 2117.8588976959627\n",
      "Epoch 6/15000, Loss: 2004.9059397146182\n",
      "Epoch 7/15000, Loss: 1914.6723983630359\n",
      "Epoch 8/15000, Loss: 1840.8864935115193\n",
      "Epoch 9/15000, Loss: 1778.7606396906995\n",
      "Epoch 10/15000, Loss: 1724.9314107531097\n",
      "Epoch 11/15000, Loss: 1677.1627413235733\n",
      "Epoch 12/15000, Loss: 1633.9967208610913\n",
      "Epoch 13/15000, Loss: 1594.4761307849728\n",
      "Epoch 14/15000, Loss: 1557.9551038145378\n",
      "Epoch 15/15000, Loss: 1523.980214254851\n",
      "Epoch 16/15000, Loss: 1492.2186271752905\n",
      "Epoch 17/15000, Loss: 1462.4143519171262\n",
      "Epoch 18/15000, Loss: 1434.3632055351377\n",
      "Epoch 19/15000, Loss: 1407.8948146148666\n",
      "Epoch 20/15000, Loss: 1382.8646842344647\n",
      "Epoch 21/15000, Loss: 1359.1469175707405\n",
      "Epoch 22/15000, Loss: 1336.6302382263045\n",
      "Epoch 23/15000, Loss: 1315.2155880966036\n",
      "Epoch 24/15000, Loss: 1294.814157121628\n",
      "Epoch 25/15000, Loss: 1275.3459368304857\n",
      "Epoch 26/15000, Loss: 1256.7385074276738\n",
      "Epoch 27/15000, Loss: 1238.926879729114\n",
      "Epoch 28/15000, Loss: 1221.8520563090326\n",
      "Epoch 29/15000, Loss: 1205.4605866371082\n",
      "Epoch 30/15000, Loss: 1189.7045474108409\n",
      "Epoch 31/15000, Loss: 1174.5402597166135\n",
      "Epoch 32/15000, Loss: 1159.9285542396158\n",
      "Epoch 33/15000, Loss: 1145.8339245826755\n",
      "Epoch 34/15000, Loss: 1132.2243241478686\n",
      "Epoch 35/15000, Loss: 1119.070754543546\n",
      "Epoch 36/15000, Loss: 1106.3469626212886\n",
      "Epoch 37/15000, Loss: 1094.029281520135\n",
      "Epoch 1/15000, Loss: 3330.639220380551\n",
      "Epoch 2/15000, Loss: 2657.0405615897967\n",
      "Epoch 3/15000, Loss: 2382.073431322628\n",
      "Epoch 4/15000, Loss: 2196.980894706796\n",
      "Epoch 5/15000, Loss: 2061.4883706900114\n",
      "Epoch 6/15000, Loss: 1958.2939087690338\n",
      "Epoch 7/15000, Loss: 1876.395634957364\n",
      "Epoch 8/15000, Loss: 1808.6895418025358\n",
      "Epoch 9/15000, Loss: 1750.7331491478933\n",
      "Epoch 10/15000, Loss: 1699.770680910495\n",
      "Epoch 11/15000, Loss: 1654.063552960961\n",
      "Epoch 12/15000, Loss: 1612.4777265229395\n",
      "Epoch 13/15000, Loss: 1574.2419224159319\n",
      "Epoch 14/15000, Loss: 1538.808054376428\n",
      "Epoch 15/15000, Loss: 1505.770307313344\n",
      "Epoch 16/15000, Loss: 1474.8165109924937\n",
      "Epoch 17/15000, Loss: 1445.6990367861588\n",
      "Epoch 18/15000, Loss: 1418.216342059906\n",
      "Epoch 19/15000, Loss: 1392.2007004446796\n",
      "Epoch 20/15000, Loss: 1367.510367622031\n",
      "Epoch 21/15000, Loss: 1344.023706325705\n",
      "Epoch 22/15000, Loss: 1321.6359308173412\n",
      "Epoch 23/15000, Loss: 1300.254960632838\n",
      "Epoch 24/15000, Loss: 1279.8003732103\n",
      "Epoch 25/15000, Loss: 1260.2009044372726\n",
      "Epoch 26/15000, Loss: 1241.3933342306814\n",
      "Epoch 27/15000, Loss: 1223.3217172660582\n",
      "Epoch 28/15000, Loss: 1205.9360445740924\n",
      "Epoch 29/15000, Loss: 1189.1917727855657\n",
      "Epoch 30/15000, Loss: 1173.0491726022312\n",
      "Epoch 31/15000, Loss: 1157.4725840884842\n",
      "Epoch 32/15000, Loss: 1142.4301098256426\n",
      "Epoch 33/15000, Loss: 1127.8930653245518\n",
      "Epoch 34/15000, Loss: 1113.835734043559\n",
      "Epoch 35/15000, Loss: 1100.2347924540054\n",
      "Epoch 36/15000, Loss: 1087.0692342790394\n",
      "Epoch 1/15000, Loss: 3453.8794163006946\n",
      "Epoch 2/15000, Loss: 2723.2272552719382\n",
      "Epoch 3/15000, Loss: 2422.035406017692\n",
      "Epoch 4/15000, Loss: 2225.812271702512\n",
      "Epoch 5/15000, Loss: 2087.0521286461817\n",
      "Epoch 6/15000, Loss: 1983.9057710294069\n",
      "Epoch 7/15000, Loss: 1902.8251254295246\n",
      "Epoch 8/15000, Loss: 1835.6854811431945\n",
      "Epoch 9/15000, Loss: 1777.7989623933684\n",
      "Epoch 10/15000, Loss: 1726.4547682452824\n",
      "Epoch 11/15000, Loss: 1680.0335445838798\n",
      "Epoch 12/15000, Loss: 1637.517942317523\n",
      "Epoch 13/15000, Loss: 1598.2319971837726\n",
      "Epoch 14/15000, Loss: 1561.6982357559716\n",
      "Epoch 15/15000, Loss: 1527.5623238498924\n",
      "Epoch 16/15000, Loss: 1495.5478831723947\n",
      "Epoch 17/15000, Loss: 1465.4319959823479\n",
      "Epoch 18/15000, Loss: 1437.028383638287\n",
      "Epoch 19/15000, Loss: 1410.1785221649395\n",
      "Epoch 20/15000, Loss: 1384.7446077579066\n",
      "Epoch 21/15000, Loss: 1360.6056294656232\n",
      "Epoch 22/15000, Loss: 1337.6547482889164\n",
      "Epoch 23/15000, Loss: 1315.796367425533\n",
      "Epoch 24/15000, Loss: 1294.9452659585877\n",
      "Epoch 25/15000, Loss: 1275.0253156428716\n",
      "Epoch 26/15000, Loss: 1255.9675560622052\n",
      "Epoch 27/15000, Loss: 1237.7109063106004\n",
      "Epoch 28/15000, Loss: 1220.1995379200891\n",
      "Epoch 29/15000, Loss: 1203.3839104108\n",
      "Epoch 30/15000, Loss: 1187.218593348383\n",
      "Epoch 1/15000, Loss: 3394.503443254608\n",
      "Epoch 2/15000, Loss: 2694.2598351495144\n",
      "Epoch 3/15000, Loss: 2407.452389982192\n",
      "Epoch 4/15000, Loss: 2215.4194431191618\n",
      "Epoch 5/15000, Loss: 2074.956032796788\n",
      "Epoch 6/15000, Loss: 1968.3531349180134\n",
      "Epoch 7/15000, Loss: 1884.3185977874418\n",
      "Epoch 8/15000, Loss: 1815.3769225547414\n",
      "Epoch 9/15000, Loss: 1756.7477552793555\n",
      "Epoch 10/15000, Loss: 1705.4340221425539\n",
      "Epoch 11/15000, Loss: 1659.5480896922631\n",
      "Epoch 12/15000, Loss: 1617.8725698087626\n",
      "Epoch 13/15000, Loss: 1579.5925271164194\n",
      "Epoch 14/15000, Loss: 1544.1386477409733\n",
      "Epoch 15/15000, Loss: 1511.0940389751204\n",
      "Epoch 16/15000, Loss: 1480.1416672696369\n",
      "Epoch 17/15000, Loss: 1451.0309588595342\n",
      "Epoch 18/15000, Loss: 1423.5590423971355\n",
      "Epoch 19/15000, Loss: 1397.5575611427605\n",
      "Epoch 20/15000, Loss: 1372.8846338357089\n",
      "Epoch 21/15000, Loss: 1349.4195655743856\n",
      "Epoch 22/15000, Loss: 1327.058222130877\n",
      "Epoch 23/15000, Loss: 1305.709954982691\n",
      "Epoch 24/15000, Loss: 1285.2956785942772\n",
      "Epoch 25/15000, Loss: 1265.745490611722\n",
      "Epoch 26/15000, Loss: 1246.997464029872\n",
      "Epoch 27/15000, Loss: 1228.9960206833052\n",
      "Epoch 28/15000, Loss: 1211.6913913090716\n",
      "Epoch 29/15000, Loss: 1195.038603995818\n",
      "Epoch 1/15000, Loss: 3373.8646460903033\n",
      "Epoch 2/15000, Loss: 2726.1921784174797\n",
      "Epoch 3/15000, Loss: 2461.713345920794\n",
      "Epoch 4/15000, Loss: 2277.084896443784\n",
      "Epoch 5/15000, Loss: 2133.45102594341\n",
      "Epoch 6/15000, Loss: 2019.471437300691\n",
      "Epoch 7/15000, Loss: 1927.981197758242\n",
      "Epoch 8/15000, Loss: 1853.0515243969148\n",
      "Epoch 9/15000, Loss: 1790.0321526576026\n",
      "Epoch 10/15000, Loss: 1735.5840301556361\n",
      "Epoch 11/15000, Loss: 1687.4392066170453\n",
      "Epoch 12/15000, Loss: 1644.0875498014439\n",
      "Epoch 13/15000, Loss: 1604.5185156614361\n",
      "Epoch 14/15000, Loss: 1568.040556892164\n",
      "Epoch 15/15000, Loss: 1534.1632936930193\n",
      "Epoch 16/15000, Loss: 1502.5261679010964\n",
      "Epoch 17/15000, Loss: 1472.8524253876617\n",
      "Epoch 18/15000, Loss: 1444.9221297140377\n",
      "Epoch 19/15000, Loss: 1418.5542487442635\n",
      "Epoch 20/15000, Loss: 1393.5964510226434\n",
      "Epoch 21/15000, Loss: 1369.9179157490762\n",
      "Epoch 22/15000, Loss: 1347.4043699087508\n",
      "Epoch 23/15000, Loss: 1325.9554915924252\n",
      "Epoch 24/15000, Loss: 1305.4821257920642\n",
      "Epoch 25/15000, Loss: 1285.9051425050072\n",
      "Epoch 26/15000, Loss: 1267.1537224676845\n",
      "Epoch 27/15000, Loss: 1249.164519772936\n",
      "Epoch 28/15000, Loss: 1231.8809446347345\n",
      "Epoch 29/15000, Loss: 1215.2522333519175\n",
      "Epoch 30/15000, Loss: 1199.2327293719359\n",
      "Epoch 1/15000, Loss: 3378.575733579841\n",
      "Epoch 2/15000, Loss: 2693.95875178217\n",
      "Epoch 3/15000, Loss: 2443.688272154696\n",
      "Epoch 4/15000, Loss: 2274.1121653648715\n",
      "Epoch 5/15000, Loss: 2143.703427658513\n",
      "Epoch 6/15000, Loss: 2039.2934969725961\n",
      "Epoch 7/15000, Loss: 1953.565582431381\n",
      "Epoch 8/15000, Loss: 1881.5452241580306\n",
      "Epoch 9/15000, Loss: 1819.6703467045872\n",
      "Epoch 10/15000, Loss: 1765.3786535235913\n",
      "Epoch 11/15000, Loss: 1716.8391463148448\n",
      "Epoch 12/15000, Loss: 1672.7514435034338\n",
      "Epoch 13/15000, Loss: 1632.1942366641122\n",
      "Epoch 14/15000, Loss: 1594.5119019786764\n",
      "Epoch 15/15000, Loss: 1559.2346294584584\n",
      "Epoch 16/15000, Loss: 1526.0209433106095\n",
      "Epoch 17/15000, Loss: 1494.6178102608508\n",
      "Epoch 18/15000, Loss: 1464.8341603208687\n",
      "Epoch 19/15000, Loss: 1436.521554040039\n",
      "Epoch 20/15000, Loss: 1409.561539404487\n",
      "Epoch 21/15000, Loss: 1383.8565654610024\n",
      "Epoch 22/15000, Loss: 1359.3238917101323\n",
      "Epoch 23/15000, Loss: 1335.891742642546\n",
      "Epoch 24/15000, Loss: 1313.4956670560912\n",
      "Epoch 25/15000, Loss: 1292.0771912623272\n",
      "Epoch 26/15000, Loss: 1271.58238046902\n",
      "Epoch 27/15000, Loss: 1251.9604198353823\n",
      "Epoch 28/15000, Loss: 1233.163590501824\n",
      "Epoch 29/15000, Loss: 1215.1469956155308\n",
      "Epoch 30/15000, Loss: 1197.8677299208714\n",
      "Epoch 1/15000, Loss: 3403.1160877679636\n",
      "Epoch 2/15000, Loss: 2671.009676425067\n",
      "Epoch 3/15000, Loss: 2405.629285057676\n",
      "Epoch 4/15000, Loss: 2227.9738258214375\n",
      "Epoch 5/15000, Loss: 2094.190675786311\n",
      "Epoch 6/15000, Loss: 1989.601289888179\n",
      "Epoch 7/15000, Loss: 1905.5016891914158\n",
      "Epoch 8/15000, Loss: 1835.8700979964824\n",
      "Epoch 9/15000, Loss: 1776.52260403322\n",
      "Epoch 10/15000, Loss: 1724.6170319922383\n",
      "Epoch 11/15000, Loss: 1678.2522012740187\n",
      "Epoch 12/15000, Loss: 1636.1579602115576\n",
      "Epoch 13/15000, Loss: 1597.4752090667641\n",
      "Epoch 14/15000, Loss: 1561.60957306407\n",
      "Epoch 15/15000, Loss: 1528.1379026186223\n",
      "Epoch 16/15000, Loss: 1496.7481343485322\n",
      "Epoch 17/15000, Loss: 1467.2018959387494\n",
      "Epoch 18/15000, Loss: 1439.310815911236\n",
      "Epoch 19/15000, Loss: 1412.921383834851\n",
      "Epoch 20/15000, Loss: 1387.904380584227\n",
      "Epoch 21/15000, Loss: 1364.1486948033923\n",
      "Epoch 22/15000, Loss: 1341.556648010267\n",
      "Epoch 23/15000, Loss: 1320.041178043298\n",
      "Epoch 24/15000, Loss: 1299.5232595242342\n",
      "Epoch 25/15000, Loss: 1279.9310665430953\n",
      "Epoch 26/15000, Loss: 1261.1985932479324\n",
      "Epoch 27/15000, Loss: 1243.265280148568\n",
      "Epoch 28/15000, Loss: 1226.0750172291052\n",
      "Epoch 29/15000, Loss: 1209.5764918425423\n",
      "Epoch 30/15000, Loss: 1193.7223025248466\n",
      "Epoch 1/15000, Loss: 3430.9827248557485\n",
      "Epoch 2/15000, Loss: 2746.9380600906293\n",
      "Epoch 3/15000, Loss: 2460.8626178704726\n",
      "Epoch 4/15000, Loss: 2264.3422359051724\n",
      "Epoch 5/15000, Loss: 2117.4844878094746\n",
      "Epoch 6/15000, Loss: 2004.8439883725798\n",
      "Epoch 7/15000, Loss: 1916.1318849336478\n",
      "Epoch 8/15000, Loss: 1843.8636326525636\n",
      "Epoch 9/15000, Loss: 1782.8625412457868\n",
      "Epoch 10/15000, Loss: 1729.7354831845423\n",
      "Epoch 11/15000, Loss: 1682.3189225575084\n",
      "Epoch 12/15000, Loss: 1639.2357788697093\n",
      "Epoch 13/15000, Loss: 1599.5925677399377\n",
      "Epoch 14/15000, Loss: 1562.7898312443524\n",
      "Epoch 15/15000, Loss: 1528.4073819811215\n",
      "Epoch 16/15000, Loss: 1496.1374621728992\n",
      "Epoch 17/15000, Loss: 1465.7432627458957\n",
      "Epoch 18/15000, Loss: 1437.0355573715647\n",
      "Epoch 19/15000, Loss: 1409.8578330004036\n",
      "Epoch 20/15000, Loss: 1384.0774601438873\n",
      "Epoch 21/15000, Loss: 1359.5795057239654\n",
      "Epoch 22/15000, Loss: 1336.263366323649\n",
      "Epoch 23/15000, Loss: 1314.0393051674776\n",
      "Epoch 24/15000, Loss: 1292.8276271331204\n",
      "Epoch 1/15000, Loss: 3374.159683599771\n",
      "Epoch 2/15000, Loss: 2691.632231894516\n",
      "Epoch 3/15000, Loss: 2406.415908660296\n",
      "Epoch 4/15000, Loss: 2213.2066451749324\n",
      "Epoch 5/15000, Loss: 2071.8205753443945\n",
      "Epoch 6/15000, Loss: 1965.6047043335418\n",
      "Epoch 7/15000, Loss: 1882.945079966147\n",
      "Epoch 8/15000, Loss: 1815.7854754575692\n",
      "Epoch 9/15000, Loss: 1758.9705770406754\n",
      "Epoch 10/15000, Loss: 1709.3350538624436\n",
      "Epoch 11/15000, Loss: 1664.9367859874205\n",
      "Epoch 12/15000, Loss: 1624.5516477888177\n",
      "Epoch 13/15000, Loss: 1587.3749989580458\n",
      "Epoch 14/15000, Loss: 1552.8531885336142\n",
      "Epoch 15/15000, Loss: 1520.5863556181353\n",
      "Epoch 16/15000, Loss: 1490.2739202592904\n",
      "Epoch 17/15000, Loss: 1461.6818993277566\n",
      "Epoch 18/15000, Loss: 1434.6231660410767\n",
      "Epoch 19/15000, Loss: 1408.9439507393588\n",
      "Epoch 20/15000, Loss: 1384.5163332158183\n",
      "Epoch 21/15000, Loss: 1361.2318331877498\n",
      "Epoch 22/15000, Loss: 1338.9968750325882\n",
      "Epoch 23/15000, Loss: 1317.7306401973244\n",
      "Epoch 24/15000, Loss: 1297.3619410517622\n",
      "Epoch 1/15000, Loss: 3516.969987852375\n",
      "Epoch 2/15000, Loss: 2702.1305051559825\n",
      "Epoch 3/15000, Loss: 2395.333926266566\n",
      "Epoch 4/15000, Loss: 2204.9555351909007\n",
      "Epoch 5/15000, Loss: 2071.0961257938056\n",
      "Epoch 6/15000, Loss: 1970.2227610577863\n",
      "Epoch 7/15000, Loss: 1889.8087930553118\n",
      "Epoch 8/15000, Loss: 1822.718085581273\n",
      "Epoch 9/15000, Loss: 1764.7815186370694\n",
      "Epoch 10/15000, Loss: 1713.490693486229\n",
      "Epoch 11/15000, Loss: 1667.2769388063227\n",
      "Epoch 12/15000, Loss: 1625.113375061774\n",
      "Epoch 13/15000, Loss: 1586.2936672669375\n",
      "Epoch 14/15000, Loss: 1550.3082441163265\n",
      "Epoch 15/15000, Loss: 1516.7723504322419\n",
      "Epoch 16/15000, Loss: 1485.3856901039944\n",
      "Epoch 17/15000, Loss: 1455.9046433076144\n",
      "Epoch 18/15000, Loss: 1428.1283397514833\n",
      "Epoch 19/15000, Loss: 1401.8876258376142\n",
      "Epoch 20/15000, Loss: 1377.0376981667234\n",
      "Epoch 21/15000, Loss: 1353.4534670810654\n",
      "Epoch 22/15000, Loss: 1331.025486980297\n",
      "Epoch 23/15000, Loss: 1309.658154687665\n",
      "Epoch 24/15000, Loss: 1289.266225312445\n",
      "Epoch 1/15000, Loss: 3421.1243700910704\n",
      "Epoch 2/15000, Loss: 2748.8761195336083\n",
      "Epoch 3/15000, Loss: 2492.736699897135\n",
      "Epoch 4/15000, Loss: 2319.7495043519134\n",
      "Epoch 5/15000, Loss: 2185.8546332301344\n",
      "Epoch 6/15000, Loss: 2078.3057250661245\n",
      "Epoch 7/15000, Loss: 1990.1719730143968\n",
      "Epoch 8/15000, Loss: 1916.4024684493784\n",
      "Epoch 9/15000, Loss: 1853.1936726177862\n",
      "Epoch 10/15000, Loss: 1797.78577663874\n",
      "Epoch 11/15000, Loss: 1748.2416866874983\n",
      "Epoch 12/15000, Loss: 1703.222742019759\n",
      "Epoch 13/15000, Loss: 1661.8010785874453\n",
      "Epoch 14/15000, Loss: 1623.3244543455194\n",
      "Epoch 15/15000, Loss: 1587.3247672329926\n",
      "Epoch 16/15000, Loss: 1553.458335804235\n",
      "Epoch 17/15000, Loss: 1521.4658350074214\n",
      "Epoch 18/15000, Loss: 1491.1478120225008\n",
      "Epoch 19/15000, Loss: 1462.3453851921759\n",
      "Epoch 20/15000, Loss: 1434.9305446957683\n",
      "Epoch 21/15000, Loss: 1408.7964660791113\n",
      "Epoch 22/15000, Loss: 1383.8528924995435\n",
      "Epoch 23/15000, Loss: 1360.0214606738796\n",
      "Epoch 24/15000, Loss: 1337.232873469993\n",
      "Epoch 25/15000, Loss: 1315.4253496835668\n",
      "Epoch 26/15000, Loss: 1294.5419611899158\n",
      "Epoch 1/15000, Loss: 3488.8154018864598\n",
      "Epoch 2/15000, Loss: 2732.032874034763\n",
      "Epoch 3/15000, Loss: 2468.3691938192433\n",
      "Epoch 4/15000, Loss: 2295.555814407547\n",
      "Epoch 5/15000, Loss: 2162.056214735805\n",
      "Epoch 6/15000, Loss: 2053.860505175313\n",
      "Epoch 7/15000, Loss: 1964.231786776385\n",
      "Epoch 8/15000, Loss: 1888.66412970399\n",
      "Epoch 9/15000, Loss: 1823.7899753131867\n",
      "Epoch 10/15000, Loss: 1767.0642618411011\n",
      "Epoch 11/15000, Loss: 1716.5976314596626\n",
      "Epoch 12/15000, Loss: 1671.011721125336\n",
      "Epoch 13/15000, Loss: 1629.3090435806919\n",
      "Epoch 14/15000, Loss: 1590.7689243559944\n",
      "Epoch 15/15000, Loss: 1554.8647909279118\n",
      "Epoch 16/15000, Loss: 1521.2074032567064\n",
      "Epoch 17/15000, Loss: 1489.5029207741773\n",
      "Epoch 18/15000, Loss: 1459.524518495825\n",
      "Epoch 19/15000, Loss: 1431.0931650697103\n",
      "Epoch 20/15000, Loss: 1404.06348092028\n",
      "Epoch 21/15000, Loss: 1378.315506590194\n",
      "Epoch 22/15000, Loss: 1353.748092180093\n",
      "Epoch 23/15000, Loss: 1330.2743104615306\n",
      "Epoch 24/15000, Loss: 1307.8186776188745\n",
      "Epoch 25/15000, Loss: 1286.3146962131898\n",
      "Epoch 1/15000, Loss: 3417.5392218570146\n",
      "Epoch 2/15000, Loss: 2725.667239670371\n",
      "Epoch 3/15000, Loss: 2446.2862362110673\n",
      "Epoch 4/15000, Loss: 2260.619930355508\n",
      "Epoch 5/15000, Loss: 2124.134365012966\n",
      "Epoch 6/15000, Loss: 2019.5332465543192\n",
      "Epoch 7/15000, Loss: 1936.18053830085\n",
      "Epoch 8/15000, Loss: 1867.0787448201986\n",
      "Epoch 9/15000, Loss: 1807.731217071344\n",
      "Epoch 10/15000, Loss: 1755.2981370634243\n",
      "Epoch 11/15000, Loss: 1707.9817134385319\n",
      "Epoch 12/15000, Loss: 1664.6229684587502\n",
      "Epoch 13/15000, Loss: 1624.4510345881026\n",
      "Epoch 14/15000, Loss: 1586.9347815149617\n",
      "Epoch 15/15000, Loss: 1551.6939872390212\n",
      "Epoch 16/15000, Loss: 1518.445811471012\n",
      "Epoch 17/15000, Loss: 1486.9736533915645\n",
      "Epoch 18/15000, Loss: 1457.1054952775812\n",
      "Epoch 19/15000, Loss: 1428.702506249034\n",
      "Epoch 20/15000, Loss: 1401.6485365409387\n",
      "Epoch 21/15000, Loss: 1375.8457803592853\n",
      "Epoch 1/15000, Loss: 3295.9514100015504\n",
      "Epoch 2/15000, Loss: 2712.865061817742\n",
      "Epoch 3/15000, Loss: 2468.4722594829527\n",
      "Epoch 4/15000, Loss: 2295.872065497315\n",
      "Epoch 5/15000, Loss: 2160.9999356622766\n",
      "Epoch 6/15000, Loss: 2053.016103041406\n",
      "Epoch 7/15000, Loss: 1965.1965556051591\n",
      "Epoch 8/15000, Loss: 1892.3566233364916\n",
      "Epoch 9/15000, Loss: 1830.5070051568703\n",
      "Epoch 10/15000, Loss: 1776.708423361766\n",
      "Epoch 11/15000, Loss: 1728.8716487811412\n",
      "Epoch 12/15000, Loss: 1685.5428198263016\n",
      "Epoch 13/15000, Loss: 1645.7178828981641\n",
      "Epoch 14/15000, Loss: 1608.7024281177798\n",
      "Epoch 15/15000, Loss: 1574.011432140455\n",
      "Epoch 16/15000, Loss: 1541.3004818197678\n",
      "Epoch 17/15000, Loss: 1510.320529456203\n",
      "Epoch 18/15000, Loss: 1480.886886961211\n",
      "Epoch 19/15000, Loss: 1452.8583844245504\n",
      "Epoch 20/15000, Loss: 1426.1243099526619\n",
      "Epoch 21/15000, Loss: 1400.5941092278347\n",
      "Epoch 22/15000, Loss: 1376.1920322872932\n",
      "Epoch 1/15000, Loss: 3379.0689037425223\n",
      "Epoch 2/15000, Loss: 2716.03012728209\n",
      "Epoch 3/15000, Loss: 2424.6036117346075\n",
      "Epoch 4/15000, Loss: 2223.9926242747565\n",
      "Epoch 5/15000, Loss: 2075.710915593626\n",
      "Epoch 6/15000, Loss: 1963.1341502754367\n",
      "Epoch 7/15000, Loss: 1875.0433285366855\n",
      "Epoch 8/15000, Loss: 1803.5790392679562\n",
      "Epoch 9/15000, Loss: 1743.5121659833799\n",
      "Epoch 10/15000, Loss: 1691.489219045685\n",
      "Epoch 11/15000, Loss: 1645.3747893023926\n",
      "Epoch 12/15000, Loss: 1603.7838235636273\n",
      "Epoch 13/15000, Loss: 1565.788261133043\n",
      "Epoch 14/15000, Loss: 1530.7412023177658\n",
      "Epoch 15/15000, Loss: 1498.1731916932306\n",
      "Epoch 16/15000, Loss: 1467.7311066979862\n",
      "Epoch 17/15000, Loss: 1439.1407795488524\n",
      "Epoch 18/15000, Loss: 1412.1836652197715\n",
      "Epoch 19/15000, Loss: 1386.6817512289902\n",
      "Epoch 1/15000, Loss: 3487.205539749335\n",
      "Epoch 2/15000, Loss: 2695.8248705114484\n",
      "Epoch 3/15000, Loss: 2425.7523891696715\n",
      "Epoch 4/15000, Loss: 2253.985051620163\n",
      "Epoch 5/15000, Loss: 2122.894299143359\n",
      "Epoch 6/15000, Loss: 2016.7575429754909\n",
      "Epoch 7/15000, Loss: 1928.4255453867518\n",
      "Epoch 8/15000, Loss: 1853.4364425701124\n",
      "Epoch 9/15000, Loss: 1788.6161193801076\n",
      "Epoch 10/15000, Loss: 1731.6259512327756\n",
      "Epoch 11/15000, Loss: 1680.7431675251376\n",
      "Epoch 12/15000, Loss: 1634.7064743095802\n",
      "Epoch 13/15000, Loss: 1592.5953866408945\n",
      "Epoch 14/15000, Loss: 1553.7376686667826\n",
      "Epoch 15/15000, Loss: 1517.6360059748106\n",
      "Epoch 16/15000, Loss: 1483.9184805980174\n",
      "Epoch 17/15000, Loss: 1452.2994090993918\n",
      "Epoch 18/15000, Loss: 1422.5554935298812\n",
      "Epoch 19/15000, Loss: 1394.5051907998447\n",
      "Epoch 1/15000, Loss: 3389.736118198091\n",
      "Epoch 2/15000, Loss: 2709.984465474194\n",
      "Epoch 3/15000, Loss: 2456.7607095369785\n",
      "Epoch 4/15000, Loss: 2282.3438886520867\n",
      "Epoch 5/15000, Loss: 2145.0384326466988\n",
      "Epoch 6/15000, Loss: 2032.9644688947276\n",
      "Epoch 7/15000, Loss: 1940.0751638328477\n",
      "Epoch 8/15000, Loss: 1862.068527148131\n",
      "Epoch 9/15000, Loss: 1795.5409924190333\n",
      "Epoch 10/15000, Loss: 1737.8169406118989\n",
      "Epoch 11/15000, Loss: 1686.8618654116262\n",
      "Epoch 12/15000, Loss: 1641.171982773099\n",
      "Epoch 13/15000, Loss: 1599.6537654004383\n",
      "Epoch 14/15000, Loss: 1561.5145409501063\n",
      "Epoch 15/15000, Loss: 1526.1772340994496\n",
      "Epoch 16/15000, Loss: 1493.215097248979\n",
      "Epoch 17/15000, Loss: 1462.3073138130035\n",
      "Epoch 18/15000, Loss: 1433.2068926737957\n",
      "Epoch 19/15000, Loss: 1405.7188359296704\n",
      "Epoch 20/15000, Loss: 1379.6856355603575\n",
      "Epoch 1/15000, Loss: 3408.366118638342\n",
      "Epoch 2/15000, Loss: 2767.7351522973345\n",
      "Epoch 3/15000, Loss: 2469.017331621858\n",
      "Epoch 4/15000, Loss: 2264.51442610114\n",
      "Epoch 5/15000, Loss: 2118.0110945543047\n",
      "Epoch 6/15000, Loss: 2009.9949422421423\n",
      "Epoch 7/15000, Loss: 1926.4218765937385\n",
      "Epoch 8/15000, Loss: 1858.1991715041468\n",
      "Epoch 9/15000, Loss: 1799.9188867480946\n",
      "Epoch 10/15000, Loss: 1748.4414057990434\n",
      "Epoch 11/15000, Loss: 1701.910914465687\n",
      "Epoch 12/15000, Loss: 1659.1859583707126\n",
      "Epoch 13/15000, Loss: 1619.5280522361115\n",
      "Epoch 14/15000, Loss: 1582.4346768432395\n",
      "Epoch 15/15000, Loss: 1547.5476757712956\n",
      "Epoch 16/15000, Loss: 1514.6017101366988\n",
      "Epoch 17/15000, Loss: 1483.3939027799572\n",
      "Epoch 1/15000, Loss: 3361.010858216588\n",
      "Epoch 2/15000, Loss: 2682.9798074842283\n",
      "Epoch 3/15000, Loss: 2411.7714269345383\n",
      "Epoch 4/15000, Loss: 2229.4428828386754\n",
      "Epoch 5/15000, Loss: 2094.7158229439465\n",
      "Epoch 6/15000, Loss: 1991.7258432752374\n",
      "Epoch 7/15000, Loss: 1909.9955855539374\n",
      "Epoch 8/15000, Loss: 1842.4034768661543\n",
      "Epoch 9/15000, Loss: 1784.4082690068556\n",
      "Epoch 10/15000, Loss: 1733.2084002398815\n",
      "Epoch 11/15000, Loss: 1687.0634823827816\n",
      "Epoch 12/15000, Loss: 1644.8581323162773\n",
      "Epoch 13/15000, Loss: 1605.8460035649664\n",
      "Epoch 14/15000, Loss: 1569.5051664022935\n",
      "Epoch 15/15000, Loss: 1535.4547433358725\n",
      "Epoch 16/15000, Loss: 1503.4076008407703\n",
      "Epoch 17/15000, Loss: 1473.1400268641362\n",
      "Epoch 1/15000, Loss: 3345.066758269927\n",
      "Epoch 2/15000, Loss: 2740.5345966955792\n",
      "Epoch 3/15000, Loss: 2476.932991374426\n",
      "Epoch 4/15000, Loss: 2290.0222213648035\n",
      "Epoch 5/15000, Loss: 2146.6868664637777\n",
      "Epoch 6/15000, Loss: 2034.659847469307\n",
      "Epoch 7/15000, Loss: 1945.4343663936093\n",
      "Epoch 8/15000, Loss: 1872.422339057676\n",
      "Epoch 9/15000, Loss: 1810.8001910600274\n",
      "Epoch 10/15000, Loss: 1757.2520899016392\n",
      "Epoch 11/15000, Loss: 1709.5833635759363\n",
      "Epoch 12/15000, Loss: 1666.3599586103144\n",
      "Epoch 13/15000, Loss: 1626.6375593196365\n",
      "Epoch 14/15000, Loss: 1589.7799050648318\n",
      "Epoch 15/15000, Loss: 1555.3437015822265\n",
      "Epoch 16/15000, Loss: 1523.008265094689\n",
      "Epoch 17/15000, Loss: 1492.5313620803954\n",
      "Epoch 1/15000, Loss: 3370.372913383402\n",
      "Epoch 2/15000, Loss: 2672.671812012494\n",
      "Epoch 3/15000, Loss: 2375.789939033841\n",
      "Epoch 4/15000, Loss: 2181.5976140566727\n",
      "Epoch 5/15000, Loss: 2045.8483005097655\n",
      "Epoch 6/15000, Loss: 1946.2262991603839\n",
      "Epoch 7/15000, Loss: 1868.52905642801\n",
      "Epoch 8/15000, Loss: 1804.3433052023054\n",
      "Epoch 9/15000, Loss: 1748.958528628134\n",
      "Epoch 10/15000, Loss: 1699.7380074609246\n",
      "Epoch 11/15000, Loss: 1655.1422687727559\n",
      "Epoch 12/15000, Loss: 1614.2115774924043\n",
      "Epoch 13/15000, Loss: 1576.305553463891\n",
      "Epoch 14/15000, Loss: 1540.9690172073144\n",
      "Epoch 15/15000, Loss: 1507.8614644466224\n",
      "Epoch 16/15000, Loss: 1476.718354196473\n",
      "Epoch 1/15000, Loss: 3435.2730598559965\n",
      "Epoch 2/15000, Loss: 2722.91315122675\n",
      "Epoch 3/15000, Loss: 2452.7449377338658\n",
      "Epoch 4/15000, Loss: 2272.1759916153273\n",
      "Epoch 5/15000, Loss: 2136.334343658734\n",
      "Epoch 6/15000, Loss: 2030.3061049645728\n",
      "Epoch 7/15000, Loss: 1945.2644271405609\n",
      "Epoch 8/15000, Loss: 1875.017538842423\n",
      "Epoch 9/15000, Loss: 1815.2136853883605\n",
      "Epoch 10/15000, Loss: 1762.8740126051148\n",
      "Epoch 11/15000, Loss: 1715.996258438537\n",
      "Epoch 12/15000, Loss: 1673.2414653789926\n",
      "Epoch 13/15000, Loss: 1633.7083691350504\n",
      "Epoch 14/15000, Loss: 1596.7821218117388\n",
      "Epoch 15/15000, Loss: 1562.0347714173083\n",
      "Epoch 16/15000, Loss: 1529.1618039996763\n",
      "Epoch 17/15000, Loss: 1497.941896611388\n",
      "Epoch 1/15000, Loss: 3394.5145888230804\n",
      "Epoch 2/15000, Loss: 2748.9530447318666\n",
      "Epoch 3/15000, Loss: 2456.4501461881937\n",
      "Epoch 4/15000, Loss: 2254.929714336975\n",
      "Epoch 5/15000, Loss: 2108.3670758685003\n",
      "Epoch 6/15000, Loss: 1998.661476209268\n",
      "Epoch 7/15000, Loss: 1912.958442168058\n",
      "Epoch 8/15000, Loss: 1842.7042340911462\n",
      "Epoch 9/15000, Loss: 1782.6456936069403\n",
      "Epoch 10/15000, Loss: 1729.6613176515189\n",
      "Epoch 11/15000, Loss: 1681.881912641512\n",
      "Epoch 12/15000, Loss: 1638.1501381068304\n",
      "Epoch 13/15000, Loss: 1597.7147129384211\n",
      "Epoch 1/15000, Loss: 3337.4610017310292\n",
      "Epoch 2/15000, Loss: 2790.1064428453637\n",
      "Epoch 3/15000, Loss: 2529.687281800005\n",
      "Epoch 4/15000, Loss: 2328.608496245143\n",
      "Epoch 5/15000, Loss: 2165.973564107252\n",
      "Epoch 6/15000, Loss: 2037.2974009233287\n",
      "Epoch 7/15000, Loss: 1936.9340620664711\n",
      "Epoch 8/15000, Loss: 1857.5664397261744\n",
      "Epoch 9/15000, Loss: 1792.6207601456767\n",
      "Epoch 10/15000, Loss: 1737.4033385184246\n",
      "Epoch 11/15000, Loss: 1688.9282372500204\n",
      "Epoch 12/15000, Loss: 1645.364099507231\n",
      "Epoch 13/15000, Loss: 1605.5726921340286\n",
      "Epoch 14/15000, Loss: 1568.8170628232474\n",
      "Epoch 1/15000, Loss: 3355.584823933032\n",
      "Epoch 2/15000, Loss: 2721.8627507027645\n",
      "Epoch 3/15000, Loss: 2467.323080624764\n",
      "Epoch 4/15000, Loss: 2285.833106633905\n",
      "Epoch 5/15000, Loss: 2144.1216990600124\n",
      "Epoch 6/15000, Loss: 2030.921452903783\n",
      "Epoch 7/15000, Loss: 1939.1142877152306\n",
      "Epoch 8/15000, Loss: 1863.27036494066\n",
      "Epoch 9/15000, Loss: 1799.2321370353081\n",
      "Epoch 10/15000, Loss: 1743.9349975601262\n",
      "Epoch 11/15000, Loss: 1695.1944937718492\n",
      "Epoch 12/15000, Loss: 1651.4829279238995\n",
      "Epoch 13/15000, Loss: 1611.7346012394587\n",
      "Epoch 14/15000, Loss: 1575.1997088349085\n",
      "Epoch 1/15000, Loss: 3355.9891330107216\n",
      "Epoch 2/15000, Loss: 2711.027775477351\n",
      "Epoch 3/15000, Loss: 2449.339097822775\n",
      "Epoch 4/15000, Loss: 2268.839506760389\n",
      "Epoch 5/15000, Loss: 2129.2985781951766\n",
      "Epoch 6/15000, Loss: 2017.8361720308278\n",
      "Epoch 7/15000, Loss: 1927.0725315745115\n",
      "Epoch 8/15000, Loss: 1851.6017885906151\n",
      "Epoch 9/15000, Loss: 1787.376682256676\n",
      "Epoch 10/15000, Loss: 1731.4773876526235\n",
      "Epoch 11/15000, Loss: 1681.864552669399\n",
      "Epoch 12/15000, Loss: 1637.1305722203588\n",
      "Epoch 13/15000, Loss: 1596.3000785809909\n",
      "Epoch 1/15000, Loss: 3426.875353742357\n",
      "Epoch 2/15000, Loss: 2745.6656706451117\n",
      "Epoch 3/15000, Loss: 2443.3917868179797\n",
      "Epoch 4/15000, Loss: 2233.9178092395164\n",
      "Epoch 5/15000, Loss: 2081.25003508339\n",
      "Epoch 6/15000, Loss: 1968.506861497476\n",
      "Epoch 7/15000, Loss: 1882.309062122089\n",
      "Epoch 8/15000, Loss: 1813.1286951196464\n",
      "Epoch 9/15000, Loss: 1755.0100462812454\n",
      "Epoch 10/15000, Loss: 1704.430067056579\n",
      "Epoch 11/15000, Loss: 1659.2979611959383\n",
      "Epoch 12/15000, Loss: 1618.3268770614045\n",
      "Epoch 13/15000, Loss: 1580.6835000114409\n",
      "Epoch 1/15000, Loss: 3296.522658861333\n",
      "Epoch 2/15000, Loss: 2674.6935020077462\n",
      "Epoch 3/15000, Loss: 2430.130820798686\n",
      "Epoch 4/15000, Loss: 2259.1402240148964\n",
      "Epoch 5/15000, Loss: 2124.0626158324826\n",
      "Epoch 6/15000, Loss: 2014.1165534150534\n",
      "Epoch 7/15000, Loss: 1923.5143180162065\n",
      "Epoch 8/15000, Loss: 1847.937983591735\n",
      "Epoch 9/15000, Loss: 1783.9067384944642\n",
      "Epoch 10/15000, Loss: 1728.6732242952728\n",
      "Epoch 11/15000, Loss: 1680.152242029847\n",
      "Epoch 1/15000, Loss: 3390.3652926117466\n",
      "Epoch 2/15000, Loss: 2715.932542825599\n",
      "Epoch 3/15000, Loss: 2448.7768365472602\n",
      "Epoch 4/15000, Loss: 2270.0251347494086\n",
      "Epoch 5/15000, Loss: 2135.4205019126575\n",
      "Epoch 6/15000, Loss: 2030.1267803590706\n",
      "Epoch 7/15000, Loss: 1945.2570725799358\n",
      "Epoch 8/15000, Loss: 1874.6255620640363\n",
      "Epoch 9/15000, Loss: 1814.001480895869\n",
      "Epoch 10/15000, Loss: 1760.5813959508391\n",
      "Epoch 11/15000, Loss: 1712.530167063586\n",
      "Epoch 12/15000, Loss: 1668.6400961052987\n",
      "Epoch 1/15000, Loss: 3410.620383416347\n",
      "Epoch 2/15000, Loss: 2709.37422502506\n",
      "Epoch 3/15000, Loss: 2416.198180714317\n",
      "Epoch 4/15000, Loss: 2220.0120254339768\n",
      "Epoch 5/15000, Loss: 2077.8244417135174\n",
      "Epoch 6/15000, Loss: 1971.030997847045\n",
      "Epoch 7/15000, Loss: 1887.3564647031517\n",
      "Epoch 8/15000, Loss: 1818.705136407668\n",
      "Epoch 9/15000, Loss: 1760.0294051722515\n",
      "Epoch 10/15000, Loss: 1708.2693628628704\n",
      "Epoch 11/15000, Loss: 1661.5662916391086\n",
      "Epoch 1/15000, Loss: 3350.8010602976105\n",
      "Epoch 2/15000, Loss: 2679.389816686647\n",
      "Epoch 3/15000, Loss: 2421.9823380814114\n",
      "Epoch 4/15000, Loss: 2243.894049246647\n",
      "Epoch 5/15000, Loss: 2108.000144758639\n",
      "Epoch 6/15000, Loss: 2001.340743878279\n",
      "Epoch 7/15000, Loss: 1915.5989970629696\n",
      "Epoch 8/15000, Loss: 1844.625649311733\n",
      "Epoch 9/15000, Loss: 1784.0236312739407\n",
      "Epoch 10/15000, Loss: 1730.8167294887742\n",
      "Epoch 11/15000, Loss: 1683.0564930063172\n",
      "Epoch 1/15000, Loss: 3429.231097301171\n",
      "Epoch 2/15000, Loss: 2756.290475816985\n",
      "Epoch 3/15000, Loss: 2469.4979787653456\n",
      "Epoch 4/15000, Loss: 2273.516814365836\n",
      "Epoch 5/15000, Loss: 2127.646736094405\n",
      "Epoch 6/15000, Loss: 2015.838762813087\n",
      "Epoch 7/15000, Loss: 1927.5364195743773\n",
      "Epoch 8/15000, Loss: 1855.3008726600535\n",
      "Epoch 9/15000, Loss: 1794.1058791538544\n",
      "Epoch 10/15000, Loss: 1740.685230978571\n",
      "Epoch 11/15000, Loss: 1692.9515692470834\n",
      "Epoch 1/15000, Loss: 3398.674349056284\n",
      "Epoch 2/15000, Loss: 2683.4835814812586\n",
      "Epoch 3/15000, Loss: 2387.016489962619\n",
      "Epoch 4/15000, Loss: 2200.0550799858584\n",
      "Epoch 5/15000, Loss: 2071.133540289583\n",
      "Epoch 6/15000, Loss: 1975.877292075802\n",
      "Epoch 7/15000, Loss: 1900.5926562228785\n",
      "Epoch 8/15000, Loss: 1837.7351495058995\n",
      "Epoch 9/15000, Loss: 1783.1450289875804\n",
      "Epoch 1/15000, Loss: 3359.785214213148\n",
      "Epoch 2/15000, Loss: 2722.5714134397335\n",
      "Epoch 3/15000, Loss: 2459.0694114373637\n",
      "Epoch 4/15000, Loss: 2270.393915436228\n",
      "Epoch 5/15000, Loss: 2123.110733769267\n",
      "Epoch 6/15000, Loss: 2006.588939692571\n",
      "Epoch 7/15000, Loss: 1913.4888347232632\n",
      "Epoch 8/15000, Loss: 1837.5662090044464\n",
      "Epoch 9/15000, Loss: 1773.8675784275977\n",
      "Epoch 1/15000, Loss: 3392.5189539477083\n",
      "Epoch 2/15000, Loss: 2724.1779506789667\n",
      "Epoch 3/15000, Loss: 2463.3170715143165\n",
      "Epoch 4/15000, Loss: 2288.686139864516\n",
      "Epoch 5/15000, Loss: 2155.503646915941\n",
      "Epoch 6/15000, Loss: 2049.7620102723986\n",
      "Epoch 7/15000, Loss: 1963.4468730520093\n",
      "Epoch 8/15000, Loss: 1890.9360079670785\n",
      "Epoch 9/15000, Loss: 1828.3097032459407\n",
      "Epoch 10/15000, Loss: 1772.9292177698483\n",
      "Epoch 1/15000, Loss: 3414.2634904169995\n",
      "Epoch 2/15000, Loss: 2711.270898479405\n",
      "Epoch 3/15000, Loss: 2438.680346203921\n",
      "Epoch 4/15000, Loss: 2251.526626875285\n",
      "Epoch 5/15000, Loss: 2109.5339858968277\n",
      "Epoch 6/15000, Loss: 1998.994229644969\n",
      "Epoch 7/15000, Loss: 1910.9010248512802\n",
      "Epoch 8/15000, Loss: 1838.519054479725\n",
      "Epoch 9/15000, Loss: 1777.0639002112537\n",
      "Epoch 1/15000, Loss: 3388.818800920295\n",
      "Epoch 2/15000, Loss: 2725.335680787863\n",
      "Epoch 3/15000, Loss: 2430.121959559565\n",
      "Epoch 4/15000, Loss: 2227.5425387487026\n",
      "Epoch 5/15000, Loss: 2081.289738292462\n",
      "Epoch 6/15000, Loss: 1972.851234338459\n",
      "Epoch 7/15000, Loss: 1888.632906881697\n",
      "Epoch 8/15000, Loss: 1819.7272077958678\n",
      "Epoch 9/15000, Loss: 1760.8575565382773\n",
      "Epoch 1/15000, Loss: 3392.5868610374505\n",
      "Epoch 2/15000, Loss: 2704.2646957339753\n",
      "Epoch 3/15000, Loss: 2427.2261238278356\n",
      "Epoch 4/15000, Loss: 2237.469700323265\n",
      "Epoch 5/15000, Loss: 2095.5340798846887\n",
      "Epoch 6/15000, Loss: 1986.3615835477863\n",
      "Epoch 7/15000, Loss: 1899.852158965271\n",
      "Epoch 1/15000, Loss: 3394.06795847985\n",
      "Epoch 2/15000, Loss: 2728.975976117044\n",
      "Epoch 3/15000, Loss: 2449.6682186783414\n",
      "Epoch 4/15000, Loss: 2257.3641824121473\n",
      "Epoch 5/15000, Loss: 2113.002357593848\n",
      "Epoch 6/15000, Loss: 2001.4652099233613\n",
      "Epoch 7/15000, Loss: 1912.730304186348\n",
      "Epoch 8/15000, Loss: 1839.712400495289\n",
      "Epoch 1/15000, Loss: 3415.6180067756513\n",
      "Epoch 2/15000, Loss: 2750.2383944432845\n",
      "Epoch 3/15000, Loss: 2477.1540500767755\n",
      "Epoch 4/15000, Loss: 2289.6105788213067\n",
      "Epoch 5/15000, Loss: 2146.0614611116252\n",
      "Epoch 6/15000, Loss: 2033.0874678582704\n",
      "Epoch 7/15000, Loss: 1942.3559702242776\n",
      "Epoch 8/15000, Loss: 1867.6132111261918\n",
      "Epoch 1/15000, Loss: 3394.383242165791\n",
      "Epoch 2/15000, Loss: 2690.9182224909237\n",
      "Epoch 3/15000, Loss: 2398.868347389257\n",
      "Epoch 4/15000, Loss: 2206.807661633828\n",
      "Epoch 5/15000, Loss: 2068.4912066502143\n",
      "Epoch 6/15000, Loss: 1964.1539306628297\n",
      "Epoch 7/15000, Loss: 1881.6506959162675\n",
      "Epoch 1/15000, Loss: 3405.537883196621\n",
      "Epoch 2/15000, Loss: 2704.808326231199\n",
      "Epoch 3/15000, Loss: 2423.5376641802027\n",
      "Epoch 4/15000, Loss: 2235.2223100111487\n",
      "Epoch 5/15000, Loss: 2095.8412447696487\n",
      "Epoch 6/15000, Loss: 1988.8602015619738\n",
      "Epoch 7/15000, Loss: 1903.915326721066\n",
      "Epoch 8/15000, Loss: 1833.9640309232514\n",
      "Epoch 1/15000, Loss: 3385.771174761898\n",
      "Epoch 2/15000, Loss: 2682.9094593555087\n",
      "Epoch 3/15000, Loss: 2376.0893586952693\n",
      "Epoch 4/15000, Loss: 2180.3422100531393\n",
      "Epoch 5/15000, Loss: 2045.9037413203218\n",
      "Epoch 6/15000, Loss: 1947.142302164059\n",
      "Epoch 1/15000, Loss: 3387.868278654553\n",
      "Epoch 2/15000, Loss: 2654.455166828243\n",
      "Epoch 3/15000, Loss: 2394.755937880363\n",
      "Epoch 4/15000, Loss: 2229.744040916371\n",
      "Epoch 5/15000, Loss: 2106.699128505145\n",
      "Epoch 6/15000, Loss: 2009.2935699953068\n",
      "Epoch 7/15000, Loss: 1929.3553412725057\n",
      "Epoch 1/15000, Loss: 3378.351712165967\n",
      "Epoch 2/15000, Loss: 2722.342398411816\n",
      "Epoch 3/15000, Loss: 2449.7136560651134\n",
      "Epoch 4/15000, Loss: 2255.6959449193746\n",
      "Epoch 5/15000, Loss: 2107.1346436594204\n",
      "Epoch 6/15000, Loss: 1991.742219759855\n",
      "Epoch 1/15000, Loss: 3347.2944812728606\n",
      "Epoch 2/15000, Loss: 2683.8124551960796\n",
      "Epoch 3/15000, Loss: 2430.944573126242\n",
      "Epoch 4/15000, Loss: 2256.5691514449345\n",
      "Epoch 5/15000, Loss: 2120.6060525809708\n",
      "Epoch 6/15000, Loss: 2011.3096406177897\n",
      "Epoch 7/15000, Loss: 1922.0348969834383\n",
      "Epoch 1/15000, Loss: 3396.7225826605813\n",
      "Epoch 2/15000, Loss: 2704.710387125798\n",
      "Epoch 3/15000, Loss: 2397.343984642145\n",
      "Epoch 4/15000, Loss: 2193.859237708476\n",
      "Epoch 5/15000, Loss: 2050.626878112577\n",
      "Epoch 6/15000, Loss: 1945.2251303530547\n",
      "Epoch 1/15000, Loss: 3404.465315474049\n",
      "Epoch 2/15000, Loss: 2755.1763011541934\n",
      "Epoch 3/15000, Loss: 2471.0646472226654\n",
      "Epoch 4/15000, Loss: 2273.9474761722217\n",
      "Epoch 5/15000, Loss: 2126.6620367501328\n",
      "Epoch 6/15000, Loss: 2014.0676216494178\n",
      "Epoch 1/15000, Loss: 3429.6594892829376\n",
      "Epoch 2/15000, Loss: 2755.9543824000802\n",
      "Epoch 3/15000, Loss: 2488.0302610765257\n",
      "Epoch 4/15000, Loss: 2304.7762486357983\n",
      "Epoch 5/15000, Loss: 2162.7119220950444\n",
      "Epoch 6/15000, Loss: 2049.1794040395653\n",
      "Epoch 1/15000, Loss: 3390.046199398095\n",
      "Epoch 2/15000, Loss: 2693.417371433549\n",
      "Epoch 3/15000, Loss: 2426.91898273504\n",
      "Epoch 4/15000, Loss: 2249.708154040273\n",
      "Epoch 5/15000, Loss: 2115.072083289614\n",
      "Epoch 6/15000, Loss: 2008.911827005222\n",
      "Epoch 1/15000, Loss: 3409.9704559729566\n",
      "Epoch 2/15000, Loss: 2698.6188860521256\n",
      "Epoch 3/15000, Loss: 2417.3667536257317\n",
      "Epoch 4/15000, Loss: 2234.2507668553676\n",
      "Epoch 5/15000, Loss: 2101.1268474321337\n",
      "Epoch 6/15000, Loss: 1999.389838041442\n",
      "Epoch 1/15000, Loss: 3380.2614650686774\n",
      "Epoch 2/15000, Loss: 2743.921874312649\n",
      "Epoch 3/15000, Loss: 2454.911440503813\n",
      "Epoch 4/15000, Loss: 2249.3870157118795\n",
      "Epoch 5/15000, Loss: 2096.7591040341376\n",
      "Epoch 1/15000, Loss: 3343.2040588968766\n",
      "Epoch 2/15000, Loss: 2757.4182320869654\n",
      "Epoch 3/15000, Loss: 2515.9148149975845\n",
      "Epoch 4/15000, Loss: 2338.26673557022\n",
      "Epoch 5/15000, Loss: 2193.6436770234495\n",
      "Epoch 1/15000, Loss: 3388.4887938794186\n",
      "Epoch 2/15000, Loss: 2679.0944069303905\n",
      "Epoch 3/15000, Loss: 2400.904526460755\n",
      "Epoch 4/15000, Loss: 2216.4405244797845\n",
      "Epoch 5/15000, Loss: 2080.3969414105163\n",
      "Epoch 1/15000, Loss: 3411.543634487511\n",
      "Epoch 2/15000, Loss: 2636.6153748824004\n",
      "Epoch 3/15000, Loss: 2358.7106152760116\n",
      "Epoch 4/15000, Loss: 2183.480289678757\n",
      "Epoch 1/15000, Loss: 3346.958315073936\n",
      "Epoch 2/15000, Loss: 2677.2194565471614\n",
      "Epoch 3/15000, Loss: 2407.246852978889\n",
      "Epoch 4/15000, Loss: 2226.9894064984455\n",
      "Epoch 5/15000, Loss: 2093.984170455021\n",
      "Epoch 1/15000, Loss: 3395.4601899088843\n",
      "Epoch 2/15000, Loss: 2699.77983819582\n",
      "Epoch 3/15000, Loss: 2417.2670341983476\n",
      "Epoch 4/15000, Loss: 2227.452434775671\n",
      "Epoch 5/15000, Loss: 2087.7261622869496\n",
      "Epoch 1/15000, Loss: 3420.6481081304632\n",
      "Epoch 2/15000, Loss: 2730.105964608598\n",
      "Epoch 3/15000, Loss: 2467.7397960442636\n",
      "Epoch 4/15000, Loss: 2287.693028463149\n",
      "Epoch 1/15000, Loss: 3364.547704871045\n",
      "Epoch 2/15000, Loss: 2641.4522643826335\n",
      "Epoch 3/15000, Loss: 2355.259566380213\n",
      "Epoch 4/15000, Loss: 2170.2751373519563\n",
      "Epoch 1/15000, Loss: 3438.8148541741157\n",
      "Epoch 2/15000, Loss: 2697.1920502053254\n",
      "Epoch 3/15000, Loss: 2434.3504350866033\n",
      "Epoch 4/15000, Loss: 2261.9437756303496\n",
      "Epoch 1/15000, Loss: 3414.4679654141814\n",
      "Epoch 2/15000, Loss: 2740.8203768645844\n",
      "Epoch 3/15000, Loss: 2450.1283450473325\n",
      "Epoch 4/15000, Loss: 2250.5075313900666\n",
      "Epoch 1/15000, Loss: 3446.07992040276\n",
      "Epoch 2/15000, Loss: 2705.9548354398726\n",
      "Epoch 3/15000, Loss: 2434.0831787317397\n",
      "Epoch 4/15000, Loss: 2256.5187692013915\n",
      "Epoch 1/15000, Loss: 3386.3413150000065\n",
      "Epoch 2/15000, Loss: 2726.2278819550766\n",
      "Epoch 3/15000, Loss: 2452.2994336592246\n",
      "Epoch 4/15000, Loss: 2262.000493710626\n",
      "Epoch 1/15000, Loss: 3438.721563363808\n",
      "Epoch 2/15000, Loss: 2706.326891083536\n",
      "Epoch 3/15000, Loss: 2408.274516245982\n",
      "Epoch 4/15000, Loss: 2215.2573475488152\n",
      "Epoch 1/15000, Loss: 3387.875804456817\n",
      "Epoch 2/15000, Loss: 2725.312002323035\n",
      "Epoch 3/15000, Loss: 2446.4530586799333\n",
      "Epoch 4/15000, Loss: 2252.87287627614\n",
      "Epoch 1/15000, Loss: 3397.971299355682\n",
      "Epoch 2/15000, Loss: 2726.325520927673\n",
      "Epoch 3/15000, Loss: 2447.9564403946865\n",
      "Epoch 4/15000, Loss: 2258.7003600706585\n",
      "Epoch 1/15000, Loss: 3451.5760843505464\n",
      "Epoch 2/15000, Loss: 2725.557730577374\n",
      "Epoch 3/15000, Loss: 2420.3908853905114\n",
      "Epoch 4/15000, Loss: 2218.656210268447\n",
      "Epoch 1/15000, Loss: 3417.5849255387975\n",
      "Epoch 2/15000, Loss: 2722.2352138084802\n",
      "Epoch 3/15000, Loss: 2432.7390531758333\n",
      "Epoch 1/15000, Loss: 3423.2481638013555\n",
      "Epoch 2/15000, Loss: 2722.285255523831\n",
      "Epoch 3/15000, Loss: 2414.504209358221\n",
      "Epoch 1/15000, Loss: 3449.253554512397\n",
      "Epoch 2/15000, Loss: 2742.815069390365\n",
      "Epoch 3/15000, Loss: 2455.2155945915847\n",
      "Epoch 1/15000, Loss: 3440.489096791344\n",
      "Epoch 2/15000, Loss: 2706.7325508580643\n",
      "Epoch 3/15000, Loss: 2427.19700151915\n",
      "Epoch 1/15000, Loss: 3412.190181352065\n",
      "Epoch 2/15000, Loss: 2689.678999511933\n",
      "Epoch 3/15000, Loss: 2385.461371917654\n",
      "Epoch 1/15000, Loss: 3369.216889383669\n",
      "Epoch 2/15000, Loss: 2692.4338765791576\n",
      "Epoch 3/15000, Loss: 2437.9868475955495\n",
      "Epoch 1/15000, Loss: 3359.4679362703446\n",
      "Epoch 2/15000, Loss: 2648.8042387580995\n",
      "Epoch 3/15000, Loss: 2400.0860085178865\n",
      "Epoch 1/15000, Loss: 3381.8876079371003\n",
      "Epoch 2/15000, Loss: 2718.0722644384514\n",
      "Epoch 3/15000, Loss: 2443.859909383512\n",
      "Epoch 1/15000, Loss: 3424.4117901520885\n",
      "Epoch 2/15000, Loss: 2772.9036555319585\n",
      "Epoch 3/15000, Loss: 2495.0629004229368\n",
      "Epoch 1/15000, Loss: 3410.4317012724177\n",
      "Epoch 2/15000, Loss: 2699.8202398066674\n",
      "Epoch 3/15000, Loss: 2398.5005034262963\n",
      "Epoch 1/15000, Loss: 3458.320494279544\n",
      "Epoch 2/15000, Loss: 2768.468732678994\n",
      "Epoch 3/15000, Loss: 2490.1053775753176\n",
      "Epoch 1/15000, Loss: 3449.37333659382\n",
      "Epoch 2/15000, Loss: 2728.1668088893\n",
      "Epoch 3/15000, Loss: 2429.1887225441355\n",
      "Epoch 1/15000, Loss: 3395.2029745553987\n",
      "Epoch 2/15000, Loss: 2710.6069287210967\n",
      "Epoch 3/15000, Loss: 2406.731246027308\n",
      "Epoch 1/15000, Loss: 3380.1786611478733\n",
      "Epoch 2/15000, Loss: 2736.418123699477\n",
      "Epoch 3/15000, Loss: 2467.8228024429523\n",
      "Epoch 1/15000, Loss: 3357.9585947664423\n",
      "Epoch 2/15000, Loss: 2707.6104792068245\n",
      "Epoch 3/15000, Loss: 2430.468697550189\n",
      "Epoch 1/15000, Loss: 3360.8187579262467\n",
      "Epoch 2/15000, Loss: 2743.760021027661\n",
      "Epoch 1/15000, Loss: 3382.814228655399\n",
      "Epoch 2/15000, Loss: 2710.653510343437\n",
      "Epoch 1/15000, Loss: 3388.8700224600693\n",
      "Epoch 2/15000, Loss: 2698.1932211979356\n",
      "Epoch 1/15000, Loss: 3465.5926172740537\n",
      "Epoch 2/15000, Loss: 2813.4455202785903\n",
      "Epoch 3/15000, Loss: 2537.7422620182792\n",
      "Epoch 1/15000, Loss: 3419.187550173926\n",
      "Epoch 2/15000, Loss: 2795.5137427823383\n",
      "Epoch 1/15000, Loss: 3463.1713078803937\n",
      "Epoch 2/15000, Loss: 2697.179822983497\n",
      "Epoch 1/15000, Loss: 3426.244043046854\n",
      "Epoch 2/15000, Loss: 2725.7880874388266\n",
      "Epoch 1/15000, Loss: 3381.1103627802686\n",
      "Epoch 2/15000, Loss: 2722.2697639670832\n",
      "Epoch 1/15000, Loss: 3328.863731093671\n",
      "Epoch 2/15000, Loss: 2703.923642917091\n",
      "Epoch 1/15000, Loss: 3412.9744602696624\n",
      "Epoch 2/15000, Loss: 2753.4709537893086\n",
      "Epoch 1/15000, Loss: 3493.5629567494434\n",
      "Epoch 2/15000, Loss: 2773.936481028003\n",
      "Epoch 1/15000, Loss: 3391.944332473431\n",
      "Epoch 2/15000, Loss: 2678.9796732388445\n",
      "Epoch 1/15000, Loss: 3339.249849215269\n",
      "Epoch 2/15000, Loss: 2696.050478459922\n",
      "Epoch 1/15000, Loss: 3382.3160979383038\n",
      "Epoch 2/15000, Loss: 2669.952519655597\n",
      "Epoch 1/15000, Loss: 3449.5387635365933\n",
      "Epoch 2/15000, Loss: 2662.8009486786555\n"
     ]
    },
    {
     "data": {
      "application/vnd.plotly.v1+json": {
       "config": {
        "plotlyServerURL": "https://plot.ly"
       },
       "data": [
        {
         "mode": "markers",
         "name": "Все наблюдения",
         "type": "scatter",
         "x": [
          800,
          800,
          800,
          800,
          800,
          900,
          900,
          900,
          900,
          900,
          1000,
          1000,
          1000,
          1000,
          1000,
          1100,
          1100,
          1100,
          1100,
          1100,
          1200,
          1200,
          1200,
          1200,
          1200,
          1300,
          1300,
          1300,
          1300,
          1300,
          1400,
          1400,
          1400,
          1400,
          1400,
          1500,
          1500,
          1500,
          1500,
          1500,
          1600,
          1600,
          1600,
          1600,
          1600,
          1700,
          1700,
          1700,
          1700,
          1700,
          1800,
          1800,
          1800,
          1800,
          1800,
          1900,
          1900,
          1900,
          1900,
          1900,
          2000,
          2000,
          2000,
          2000,
          2000,
          2100,
          2100,
          2100,
          2100,
          2100,
          2200,
          2200,
          2200,
          2200,
          2200,
          2300,
          2300,
          2300,
          2300,
          2300,
          2400,
          2400,
          2400,
          2400,
          2400,
          2500,
          2500,
          2500,
          2500,
          2500,
          2600,
          2600,
          2600,
          2600,
          2600,
          2700,
          2700,
          2700,
          2700,
          2700,
          2800,
          2800,
          2800,
          2800,
          2800,
          2900,
          2900,
          2900,
          2900,
          2900,
          3000,
          3000,
          3000,
          3000,
          3000
         ],
         "y": [
          78,
          77,
          78,
          72,
          73,
          56,
          59,
          57,
          56,
          57,
          44,
          46,
          46,
          45,
          46,
          36,
          36,
          35,
          37,
          36,
          30,
          29,
          30,
          30,
          30,
          24,
          24,
          24,
          26,
          25,
          21,
          22,
          19,
          19,
          20,
          17,
          17,
          17,
          16,
          17,
          13,
          14,
          14,
          13,
          13,
          11,
          12,
          11,
          11,
          11,
          9,
          9,
          10,
          9,
          9,
          7,
          8,
          8,
          7,
          8,
          6,
          7,
          6,
          7,
          6,
          6,
          6,
          6,
          6,
          5,
          5,
          5,
          4,
          5,
          5,
          4,
          4,
          4,
          4,
          4,
          4,
          4,
          4,
          4,
          4,
          3,
          3,
          3,
          3,
          3,
          3,
          3,
          3,
          3,
          3,
          3,
          3,
          3,
          3,
          3,
          2,
          2,
          2,
          3,
          2,
          2,
          2,
          2,
          2,
          2,
          2,
          2,
          2,
          2,
          2
         ]
        },
        {
         "mode": "lines+markers",
         "name": "Средние значения",
         "type": "scatter",
         "x": [
          800,
          900,
          1000,
          1100,
          1200,
          1300,
          1400,
          1500,
          1600,
          1700,
          1800,
          1900,
          2000,
          2100,
          2200,
          2300,
          2400,
          2500,
          2600,
          2700,
          2800,
          2900,
          3000
         ],
         "y": [
          75.6,
          57,
          45.4,
          36,
          29.8,
          24.6,
          20.2,
          16.8,
          13.4,
          11.2,
          9.2,
          7.6,
          6.4,
          5.8,
          4.8,
          4,
          4,
          3,
          3,
          3,
          2.2,
          2,
          2
         ]
        }
       ],
       "layout": {
        "font": {
         "size": 20
        },
        "height": 720,
        "template": {
         "data": {
          "bar": [
           {
            "error_x": {
             "color": "#2a3f5f"
            },
            "error_y": {
             "color": "#2a3f5f"
            },
            "marker": {
             "line": {
              "color": "#E5ECF6",
              "width": 0.5
             },
             "pattern": {
              "fillmode": "overlay",
              "size": 10,
              "solidity": 0.2
             }
            },
            "type": "bar"
           }
          ],
          "barpolar": [
           {
            "marker": {
             "line": {
              "color": "#E5ECF6",
              "width": 0.5
             },
             "pattern": {
              "fillmode": "overlay",
              "size": 10,
              "solidity": 0.2
             }
            },
            "type": "barpolar"
           }
          ],
          "carpet": [
           {
            "aaxis": {
             "endlinecolor": "#2a3f5f",
             "gridcolor": "white",
             "linecolor": "white",
             "minorgridcolor": "white",
             "startlinecolor": "#2a3f5f"
            },
            "baxis": {
             "endlinecolor": "#2a3f5f",
             "gridcolor": "white",
             "linecolor": "white",
             "minorgridcolor": "white",
             "startlinecolor": "#2a3f5f"
            },
            "type": "carpet"
           }
          ],
          "choropleth": [
           {
            "colorbar": {
             "outlinewidth": 0,
             "ticks": ""
            },
            "type": "choropleth"
           }
          ],
          "contour": [
           {
            "colorbar": {
             "outlinewidth": 0,
             "ticks": ""
            },
            "colorscale": [
             [
              0,
              "#0d0887"
             ],
             [
              0.1111111111111111,
              "#46039f"
             ],
             [
              0.2222222222222222,
              "#7201a8"
             ],
             [
              0.3333333333333333,
              "#9c179e"
             ],
             [
              0.4444444444444444,
              "#bd3786"
             ],
             [
              0.5555555555555556,
              "#d8576b"
             ],
             [
              0.6666666666666666,
              "#ed7953"
             ],
             [
              0.7777777777777778,
              "#fb9f3a"
             ],
             [
              0.8888888888888888,
              "#fdca26"
             ],
             [
              1,
              "#f0f921"
             ]
            ],
            "type": "contour"
           }
          ],
          "contourcarpet": [
           {
            "colorbar": {
             "outlinewidth": 0,
             "ticks": ""
            },
            "type": "contourcarpet"
           }
          ],
          "heatmap": [
           {
            "colorbar": {
             "outlinewidth": 0,
             "ticks": ""
            },
            "colorscale": [
             [
              0,
              "#0d0887"
             ],
             [
              0.1111111111111111,
              "#46039f"
             ],
             [
              0.2222222222222222,
              "#7201a8"
             ],
             [
              0.3333333333333333,
              "#9c179e"
             ],
             [
              0.4444444444444444,
              "#bd3786"
             ],
             [
              0.5555555555555556,
              "#d8576b"
             ],
             [
              0.6666666666666666,
              "#ed7953"
             ],
             [
              0.7777777777777778,
              "#fb9f3a"
             ],
             [
              0.8888888888888888,
              "#fdca26"
             ],
             [
              1,
              "#f0f921"
             ]
            ],
            "type": "heatmap"
           }
          ],
          "heatmapgl": [
           {
            "colorbar": {
             "outlinewidth": 0,
             "ticks": ""
            },
            "colorscale": [
             [
              0,
              "#0d0887"
             ],
             [
              0.1111111111111111,
              "#46039f"
             ],
             [
              0.2222222222222222,
              "#7201a8"
             ],
             [
              0.3333333333333333,
              "#9c179e"
             ],
             [
              0.4444444444444444,
              "#bd3786"
             ],
             [
              0.5555555555555556,
              "#d8576b"
             ],
             [
              0.6666666666666666,
              "#ed7953"
             ],
             [
              0.7777777777777778,
              "#fb9f3a"
             ],
             [
              0.8888888888888888,
              "#fdca26"
             ],
             [
              1,
              "#f0f921"
             ]
            ],
            "type": "heatmapgl"
           }
          ],
          "histogram": [
           {
            "marker": {
             "pattern": {
              "fillmode": "overlay",
              "size": 10,
              "solidity": 0.2
             }
            },
            "type": "histogram"
           }
          ],
          "histogram2d": [
           {
            "colorbar": {
             "outlinewidth": 0,
             "ticks": ""
            },
            "colorscale": [
             [
              0,
              "#0d0887"
             ],
             [
              0.1111111111111111,
              "#46039f"
             ],
             [
              0.2222222222222222,
              "#7201a8"
             ],
             [
              0.3333333333333333,
              "#9c179e"
             ],
             [
              0.4444444444444444,
              "#bd3786"
             ],
             [
              0.5555555555555556,
              "#d8576b"
             ],
             [
              0.6666666666666666,
              "#ed7953"
             ],
             [
              0.7777777777777778,
              "#fb9f3a"
             ],
             [
              0.8888888888888888,
              "#fdca26"
             ],
             [
              1,
              "#f0f921"
             ]
            ],
            "type": "histogram2d"
           }
          ],
          "histogram2dcontour": [
           {
            "colorbar": {
             "outlinewidth": 0,
             "ticks": ""
            },
            "colorscale": [
             [
              0,
              "#0d0887"
             ],
             [
              0.1111111111111111,
              "#46039f"
             ],
             [
              0.2222222222222222,
              "#7201a8"
             ],
             [
              0.3333333333333333,
              "#9c179e"
             ],
             [
              0.4444444444444444,
              "#bd3786"
             ],
             [
              0.5555555555555556,
              "#d8576b"
             ],
             [
              0.6666666666666666,
              "#ed7953"
             ],
             [
              0.7777777777777778,
              "#fb9f3a"
             ],
             [
              0.8888888888888888,
              "#fdca26"
             ],
             [
              1,
              "#f0f921"
             ]
            ],
            "type": "histogram2dcontour"
           }
          ],
          "mesh3d": [
           {
            "colorbar": {
             "outlinewidth": 0,
             "ticks": ""
            },
            "type": "mesh3d"
           }
          ],
          "parcoords": [
           {
            "line": {
             "colorbar": {
              "outlinewidth": 0,
              "ticks": ""
             }
            },
            "type": "parcoords"
           }
          ],
          "pie": [
           {
            "automargin": true,
            "type": "pie"
           }
          ],
          "scatter": [
           {
            "fillpattern": {
             "fillmode": "overlay",
             "size": 10,
             "solidity": 0.2
            },
            "type": "scatter"
           }
          ],
          "scatter3d": [
           {
            "line": {
             "colorbar": {
              "outlinewidth": 0,
              "ticks": ""
             }
            },
            "marker": {
             "colorbar": {
              "outlinewidth": 0,
              "ticks": ""
             }
            },
            "type": "scatter3d"
           }
          ],
          "scattercarpet": [
           {
            "marker": {
             "colorbar": {
              "outlinewidth": 0,
              "ticks": ""
             }
            },
            "type": "scattercarpet"
           }
          ],
          "scattergeo": [
           {
            "marker": {
             "colorbar": {
              "outlinewidth": 0,
              "ticks": ""
             }
            },
            "type": "scattergeo"
           }
          ],
          "scattergl": [
           {
            "marker": {
             "colorbar": {
              "outlinewidth": 0,
              "ticks": ""
             }
            },
            "type": "scattergl"
           }
          ],
          "scattermapbox": [
           {
            "marker": {
             "colorbar": {
              "outlinewidth": 0,
              "ticks": ""
             }
            },
            "type": "scattermapbox"
           }
          ],
          "scatterpolar": [
           {
            "marker": {
             "colorbar": {
              "outlinewidth": 0,
              "ticks": ""
             }
            },
            "type": "scatterpolar"
           }
          ],
          "scatterpolargl": [
           {
            "marker": {
             "colorbar": {
              "outlinewidth": 0,
              "ticks": ""
             }
            },
            "type": "scatterpolargl"
           }
          ],
          "scatterternary": [
           {
            "marker": {
             "colorbar": {
              "outlinewidth": 0,
              "ticks": ""
             }
            },
            "type": "scatterternary"
           }
          ],
          "surface": [
           {
            "colorbar": {
             "outlinewidth": 0,
             "ticks": ""
            },
            "colorscale": [
             [
              0,
              "#0d0887"
             ],
             [
              0.1111111111111111,
              "#46039f"
             ],
             [
              0.2222222222222222,
              "#7201a8"
             ],
             [
              0.3333333333333333,
              "#9c179e"
             ],
             [
              0.4444444444444444,
              "#bd3786"
             ],
             [
              0.5555555555555556,
              "#d8576b"
             ],
             [
              0.6666666666666666,
              "#ed7953"
             ],
             [
              0.7777777777777778,
              "#fb9f3a"
             ],
             [
              0.8888888888888888,
              "#fdca26"
             ],
             [
              1,
              "#f0f921"
             ]
            ],
            "type": "surface"
           }
          ],
          "table": [
           {
            "cells": {
             "fill": {
              "color": "#EBF0F8"
             },
             "line": {
              "color": "white"
             }
            },
            "header": {
             "fill": {
              "color": "#C8D4E3"
             },
             "line": {
              "color": "white"
             }
            },
            "type": "table"
           }
          ]
         },
         "layout": {
          "annotationdefaults": {
           "arrowcolor": "#2a3f5f",
           "arrowhead": 0,
           "arrowwidth": 1
          },
          "autotypenumbers": "strict",
          "coloraxis": {
           "colorbar": {
            "outlinewidth": 0,
            "ticks": ""
           }
          },
          "colorscale": {
           "diverging": [
            [
             0,
             "#8e0152"
            ],
            [
             0.1,
             "#c51b7d"
            ],
            [
             0.2,
             "#de77ae"
            ],
            [
             0.3,
             "#f1b6da"
            ],
            [
             0.4,
             "#fde0ef"
            ],
            [
             0.5,
             "#f7f7f7"
            ],
            [
             0.6,
             "#e6f5d0"
            ],
            [
             0.7,
             "#b8e186"
            ],
            [
             0.8,
             "#7fbc41"
            ],
            [
             0.9,
             "#4d9221"
            ],
            [
             1,
             "#276419"
            ]
           ],
           "sequential": [
            [
             0,
             "#0d0887"
            ],
            [
             0.1111111111111111,
             "#46039f"
            ],
            [
             0.2222222222222222,
             "#7201a8"
            ],
            [
             0.3333333333333333,
             "#9c179e"
            ],
            [
             0.4444444444444444,
             "#bd3786"
            ],
            [
             0.5555555555555556,
             "#d8576b"
            ],
            [
             0.6666666666666666,
             "#ed7953"
            ],
            [
             0.7777777777777778,
             "#fb9f3a"
            ],
            [
             0.8888888888888888,
             "#fdca26"
            ],
            [
             1,
             "#f0f921"
            ]
           ],
           "sequentialminus": [
            [
             0,
             "#0d0887"
            ],
            [
             0.1111111111111111,
             "#46039f"
            ],
            [
             0.2222222222222222,
             "#7201a8"
            ],
            [
             0.3333333333333333,
             "#9c179e"
            ],
            [
             0.4444444444444444,
             "#bd3786"
            ],
            [
             0.5555555555555556,
             "#d8576b"
            ],
            [
             0.6666666666666666,
             "#ed7953"
            ],
            [
             0.7777777777777778,
             "#fb9f3a"
            ],
            [
             0.8888888888888888,
             "#fdca26"
            ],
            [
             1,
             "#f0f921"
            ]
           ]
          },
          "colorway": [
           "#636efa",
           "#EF553B",
           "#00cc96",
           "#ab63fa",
           "#FFA15A",
           "#19d3f3",
           "#FF6692",
           "#B6E880",
           "#FF97FF",
           "#FECB52"
          ],
          "font": {
           "color": "#2a3f5f"
          },
          "geo": {
           "bgcolor": "white",
           "lakecolor": "white",
           "landcolor": "#E5ECF6",
           "showlakes": true,
           "showland": true,
           "subunitcolor": "white"
          },
          "hoverlabel": {
           "align": "left"
          },
          "hovermode": "closest",
          "mapbox": {
           "style": "light"
          },
          "paper_bgcolor": "white",
          "plot_bgcolor": "#E5ECF6",
          "polar": {
           "angularaxis": {
            "gridcolor": "white",
            "linecolor": "white",
            "ticks": ""
           },
           "bgcolor": "#E5ECF6",
           "radialaxis": {
            "gridcolor": "white",
            "linecolor": "white",
            "ticks": ""
           }
          },
          "scene": {
           "xaxis": {
            "backgroundcolor": "#E5ECF6",
            "gridcolor": "white",
            "gridwidth": 2,
            "linecolor": "white",
            "showbackground": true,
            "ticks": "",
            "zerolinecolor": "white"
           },
           "yaxis": {
            "backgroundcolor": "#E5ECF6",
            "gridcolor": "white",
            "gridwidth": 2,
            "linecolor": "white",
            "showbackground": true,
            "ticks": "",
            "zerolinecolor": "white"
           },
           "zaxis": {
            "backgroundcolor": "#E5ECF6",
            "gridcolor": "white",
            "gridwidth": 2,
            "linecolor": "white",
            "showbackground": true,
            "ticks": "",
            "zerolinecolor": "white"
           }
          },
          "shapedefaults": {
           "line": {
            "color": "#2a3f5f"
           }
          },
          "ternary": {
           "aaxis": {
            "gridcolor": "white",
            "linecolor": "white",
            "ticks": ""
           },
           "baxis": {
            "gridcolor": "white",
            "linecolor": "white",
            "ticks": ""
           },
           "bgcolor": "#E5ECF6",
           "caxis": {
            "gridcolor": "white",
            "linecolor": "white",
            "ticks": ""
           }
          },
          "title": {
           "x": 0.05
          },
          "xaxis": {
           "automargin": true,
           "gridcolor": "white",
           "linecolor": "white",
           "ticks": "",
           "title": {
            "standoff": 15
           },
           "zerolinecolor": "white",
           "zerolinewidth": 2
          },
          "yaxis": {
           "automargin": true,
           "gridcolor": "white",
           "linecolor": "white",
           "ticks": "",
           "title": {
            "standoff": 15
           },
           "zerolinecolor": "white",
           "zerolinewidth": 2
          }
         }
        },
        "title": {
         "text": "Зависимость количества итераций обучения от значения максимальной ошибки"
        },
        "width": 1280,
        "xaxis": {
         "title": {
          "text": "Значение максимальной ошибки"
         }
        },
        "yaxis": {
         "title": {
          "text": "Количество итераций обучения"
         }
        }
       }
      }
     },
     "metadata": {},
     "output_type": "display_data"
    }
   ],
   "source": [
    "max_errors = list(range(800, 3100, 100))\n",
    "all_errors: list[float] = []\n",
    "epochs_amount_mean: list[int] = []\n",
    "epochs_amount: list[int] = []\n",
    "fig = go.Figure()\n",
    "experiments_amount = 5\n",
    "for err in max_errors:\n",
    "    epoch_sum = 0\n",
    "    for i in range(experiments_amount):\n",
    "        all_errors.append(err)        \n",
    "        dl = LRNN(n, 50, 0.001)\n",
    "        dl.train(train, 15000, learn_by_loss=True, max_loss=err)\n",
    "        epoch_sum += dl.epoch\n",
    "        epochs_amount.append(dl.epoch)\n",
    "    epochs_amount_mean.append(epoch_sum / experiments_amount)\n",
    "fig.add_trace(go.Scatter(x=all_errors, y=epochs_amount, mode='markers',\n",
    "                         name='Все наблюдения'))\n",
    "fig.add_trace(go.Scatter(x=max_errors, y=epochs_amount_mean, mode='lines+markers',\n",
    "                         name='Средние значения'))\n",
    "fig.update_layout(title='Зависимость количества итераций обучения от значения максимальной ошибки',\n",
    "                  xaxis_title='Значение максимальной ошибки',\n",
    "                  yaxis_title='Количество итераций обучения',\n",
    "                  height=720, width=1280,\n",
    "                  font=dict(size=20))\n",
    "fig.show()"
   ]
  },
  {
   "cell_type": "markdown",
   "metadata": {},
   "source": [
    "## Relationship between image and epochs"
   ]
  },
  {
   "cell_type": "code",
   "execution_count": 19,
   "metadata": {},
   "outputs": [
    {
     "name": "stdout",
     "output_type": "stream",
     "text": [
      "Z = 1.9230473377332657\n",
      "Epoch 1/15000, Loss: 3481.4024117730783\n",
      "Epoch 2/15000, Loss: 2774.7320125241795\n",
      "Epoch 3/15000, Loss: 2470.901055101439\n",
      "Epoch 4/15000, Loss: 2266.449808752876\n",
      "Epoch 5/15000, Loss: 2120.060684484284\n",
      "Epoch 6/15000, Loss: 2011.7924062138106\n",
      "Epoch 7/15000, Loss: 1927.7975495185017\n",
      "Epoch 8/15000, Loss: 1859.1340562749253\n",
      "Epoch 9/15000, Loss: 1800.4643214933894\n",
      "Epoch 10/15000, Loss: 1748.6834147447132\n",
      "Epoch 11/15000, Loss: 1701.9595116666844\n",
      "Epoch 12/15000, Loss: 1659.1689185418895\n",
      "Epoch 13/15000, Loss: 1619.584635850346\n",
      "Epoch 14/15000, Loss: 1582.707319877678\n",
      "Epoch 15/15000, Loss: 1548.1737423189174\n",
      "Epoch 16/15000, Loss: 1515.7059922597807\n",
      "Epoch 17/15000, Loss: 1485.0824910454144\n",
      "17\n"
     ]
    }
   ],
   "source": [
    "# Collecting everything\n",
    "\n",
    "block_width = 10\n",
    "block_height = 10\n",
    "\n",
    "n = block_height * block_width\n",
    "# Hidden layer neuron amount\n",
    "p = 50 \n",
    "\n",
    "img = Image.open('images/winter.jpg')\n",
    "img_array = np.asarray(img)\n",
    "shape = img_array.shape\n",
    "blocks = image_to_blocks(img_array, block_height, block_width, overlap=0)\n",
    "\n",
    "l = len(blocks)\n",
    "# Compression coeff\n",
    "print('Z =', (n*l) / ((n+l) * p+2))\n",
    "\n",
    "color_df = ((2 * blocks / MAX_RGB_VALUE) - 1).reshape(len(blocks), -1, 3).transpose(0, 2, 1).reshape(-1, block_height * block_width)\n",
    "train = np.matrix(color_df[np.random.choice(color_df.shape[0], int(color_df.shape[0] * 0.05))])\n",
    "\n",
    "network = LRNN(n, p, 0.001)\n",
    "network.train(train, 15000, learn_by_loss=True, max_loss=1500)\n",
    "\n",
    "print(network.epoch)\n",
    "\n",
    "# compressed = compress_image(network.W_enc, img_array, COLOR_CHANNELS_AMOUNT, block_height, block_width, 0)\n",
    "# dimg = decompress_image(network.W_dec, compressed, shape, COLOR_CHANNELS_AMOUNT, block_height, block_width, 0)\n",
    "# dimg_array = np.asarray(dimg)\n",
    "# dimg.save('compression-decompression_test.jpg')"
   ]
  },
  {
   "cell_type": "code",
   "execution_count": 26,
   "metadata": {},
   "outputs": [
    {
     "data": {
      "text/plain": [
       "np.int64(-3)"
      ]
     },
     "execution_count": 26,
     "metadata": {},
     "output_type": "execute_result"
    }
   ],
   "source": [
    "np.dot([-3, -2, -2, -3, -1, 2], [0, 0, 0, 0, -1, -2])"
   ]
  },
  {
   "cell_type": "code",
   "execution_count": 35,
   "metadata": {},
   "outputs": [
    {
     "data": {
      "text/plain": [
       "-0.08279999999999998"
      ]
     },
     "execution_count": 35,
     "metadata": {},
     "output_type": "execute_result"
    }
   ],
   "source": [
    "0.46 * (1 - 0.8) * -0.9"
   ]
  }
 ],
 "metadata": {
  "kernelspec": {
   "display_name": ".venv",
   "language": "python",
   "name": "python3"
  },
  "language_info": {
   "codemirror_mode": {
    "name": "ipython",
    "version": 3
   },
   "file_extension": ".py",
   "mimetype": "text/x-python",
   "name": "python",
   "nbconvert_exporter": "python",
   "pygments_lexer": "ipython3",
   "version": "3.11.9"
  }
 },
 "nbformat": 4,
 "nbformat_minor": 2
}
