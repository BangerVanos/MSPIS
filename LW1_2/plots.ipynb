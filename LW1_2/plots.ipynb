{
 "cells": [
  {
   "cell_type": "code",
   "execution_count": 1,
   "metadata": {},
   "outputs": [],
   "source": [
    "# Лабораторная работа 1 по дисциплине МРЗвИС\n",
    "# Выполнена студентом группы 121702\n",
    "# БГУИР Заломов Роман Андреевич\n",
    "#\n",
    "# Вариант 15: Реализовать модель линейной рециркуляционной сети \n",
    "# с постоянным коэффициентом обучения и нормированными весовыми коэффициентами.\n",
    "#\n",
    "# Данный файл содержит алгоритмы построения графиков различных зависимостей"
   ]
  },
  {
   "cell_type": "code",
   "execution_count": 2,
   "metadata": {},
   "outputs": [],
   "source": [
    "from lrnn import (\n",
    "    LRNN,\n",
    "    image_to_blocks,\n",
    "    compress_image,\n",
    "    decompress_image\n",
    ")\n",
    "import numpy as np\n",
    "from PIL import Image\n",
    "import plotly.graph_objects as go"
   ]
  },
  {
   "cell_type": "code",
   "execution_count": 3,
   "metadata": {},
   "outputs": [],
   "source": [
    "MAX_RGB_VALUE = 255\n",
    "COLOR_CHANNELS_AMOUNT = 3"
   ]
  },
  {
   "cell_type": "code",
   "execution_count": 4,
   "metadata": {},
   "outputs": [
    {
     "name": "stdout",
     "output_type": "stream",
     "text": [
      "Z = 4.807507403561401\n",
      "Epoch 1/15000, Loss: 2205.8565997210676\n",
      "Epoch 2/15000, Loss: 2083.57631424727\n",
      "Epoch 3/15000, Loss: 1988.3489490527409\n",
      "Compression coefficient: 1.2334714821393329\n",
      "Z = 4.807507403561401\n"
     ]
    }
   ],
   "source": [
    "# Collecting everything\n",
    "\n",
    "block_width = 10\n",
    "block_height = 10\n",
    "\n",
    "n = block_height * block_width\n",
    "# Hidden layer neuron amount\n",
    "p = 20 \n",
    "\n",
    "img = Image.open('car.jpg')\n",
    "img_array = np.asarray(img)\n",
    "shape = img_array.shape\n",
    "blocks = image_to_blocks(img_array, block_height, block_width, overlap=0)\n",
    "\n",
    "l = len(blocks)\n",
    "# Compression coeff\n",
    "print('Z =', (n*l) / ((n+l) * p+2))\n",
    "\n",
    "color_df = ((2 * blocks / MAX_RGB_VALUE) - 1).reshape(len(blocks), -1, 3).transpose(0, 2, 1).reshape(-1, block_height * block_width)\n",
    "train = np.matrix(color_df[np.random.choice(color_df.shape[0], int(color_df.shape[0] * 0.1))])\n",
    "\n",
    "\n",
    "network = LRNN(n, p, 0.0015)\n",
    "network.train(train, 15000, learn_by_loss=True, max_loss=2000)\n",
    "\n",
    "compressed = compress_image(network.W_enc, img_array, COLOR_CHANNELS_AMOUNT, block_height, block_width, 0)\n",
    "\n",
    "compression_info_size = (\n",
    "    compressed.size * compressed.itemsize +\n",
    "    network.W_dec.size * network.W_dec.itemsize +\n",
    "    np.array(shape).size * np.array(shape).itemsize +\n",
    "    np.array((block_height, block_width)).size * np.array((block_height, block_width)).itemsize \n",
    ") * 8\n",
    "print(f'Compression coefficient: {(img_array.size * img_array.itemsize * 8) / compression_info_size}')\n",
    "print('Z =', (n*l) / ((n+l) * p + 2))\n",
    "\n",
    "dimg = decompress_image(network.W_dec, compressed, shape, COLOR_CHANNELS_AMOUNT, block_height, block_width, 0)\n",
    "dimg_array = np.asarray(dimg)\n",
    "dimg.save('compression-decompression_test.jpg')"
   ]
  },
  {
   "cell_type": "markdown",
   "metadata": {},
   "source": [
    "## Relation between learning rate and epochs "
   ]
  },
  {
   "cell_type": "code",
   "execution_count": 27,
   "metadata": {},
   "outputs": [
    {
     "name": "stdout",
     "output_type": "stream",
     "text": [
      "0.0001\n",
      "Epoch 1/15000, Loss: 4623.271515342316\n",
      "Epoch 2/15000, Loss: 3387.6313422687695\n",
      "Epoch 3/15000, Loss: 3119.344802446319\n",
      "Epoch 4/15000, Loss: 2977.0820787764987\n",
      "Epoch 5/15000, Loss: 2874.8121385762947\n",
      "Epoch 6/15000, Loss: 2793.9637341718144\n",
      "Epoch 7/15000, Loss: 2727.244814478598\n",
      "Epoch 8/15000, Loss: 2670.7761893285688\n",
      "Epoch 9/15000, Loss: 2622.132377550569\n",
      "Epoch 10/15000, Loss: 2579.6480835428642\n",
      "Epoch 11/15000, Loss: 2542.10941157143\n",
      "Epoch 12/15000, Loss: 2508.6005351073327\n",
      "Epoch 13/15000, Loss: 2478.41093010318\n",
      "Epoch 14/15000, Loss: 2450.9813244434913\n",
      "Epoch 15/15000, Loss: 2425.8655584319154\n",
      "Epoch 16/15000, Loss: 2402.7034816706505\n",
      "Epoch 17/15000, Loss: 2381.202653651792\n",
      "Epoch 18/15000, Loss: 2361.1229064766976\n",
      "Epoch 19/15000, Loss: 2342.2670275557025\n",
      "Epoch 20/15000, Loss: 2324.4697899184407\n",
      "Epoch 21/15000, Loss: 2307.5932010990437\n",
      "Epoch 22/15000, Loss: 2291.5210901898577\n",
      "Epoch 23/15000, Loss: 2276.1554567053586\n",
      "Epoch 24/15000, Loss: 2261.411972738323\n",
      "Epoch 25/15000, Loss: 2247.218295070666\n",
      "Epoch 26/15000, Loss: 2233.5121871073734\n",
      "Epoch 27/15000, Loss: 2220.2398254524533\n",
      "Epoch 28/15000, Loss: 2207.353618264349\n",
      "Epoch 29/15000, Loss: 2194.812694475259\n",
      "Epoch 30/15000, Loss: 2182.5805997155867\n",
      "Epoch 31/15000, Loss: 2170.625175472686\n",
      "Epoch 32/15000, Loss: 2158.9180515157504\n",
      "Epoch 33/15000, Loss: 2147.43394149067\n",
      "Epoch 34/15000, Loss: 2136.150216017507\n",
      "Epoch 35/15000, Loss: 2125.04693874356\n",
      "Epoch 36/15000, Loss: 2114.105923708735\n",
      "Epoch 37/15000, Loss: 2103.3114166728215\n",
      "Epoch 38/15000, Loss: 2092.6487790410733\n",
      "Epoch 39/15000, Loss: 2082.1051548409437\n",
      "Epoch 40/15000, Loss: 2071.6689730136172\n",
      "Epoch 41/15000, Loss: 2061.329934914695\n",
      "Epoch 42/15000, Loss: 2051.0790088000313\n",
      "Epoch 43/15000, Loss: 2040.9077375355141\n",
      "Epoch 44/15000, Loss: 2030.8088507823702\n",
      "Epoch 45/15000, Loss: 2020.7759797251852\n",
      "Epoch 46/15000, Loss: 2010.8033710755274\n",
      "Epoch 47/15000, Loss: 2000.8864763605532\n",
      "Epoch 48/15000, Loss: 1991.0209168120155\n",
      "Epoch 49/15000, Loss: 1981.2032423190904\n",
      "Epoch 50/15000, Loss: 1971.4302852406463\n",
      "Epoch 51/15000, Loss: 1961.7001051091067\n",
      "Epoch 52/15000, Loss: 1952.0106592908335\n",
      "Epoch 53/15000, Loss: 1942.3604861157753\n",
      "Epoch 54/15000, Loss: 1932.748856211506\n",
      "Epoch 55/15000, Loss: 1923.1750507269485\n",
      "Epoch 56/15000, Loss: 1913.6393098210979\n",
      "Epoch 57/15000, Loss: 1904.1418788604853\n",
      "Epoch 58/15000, Loss: 1894.6834731801089\n",
      "Epoch 59/15000, Loss: 1885.2651259843396\n",
      "Epoch 60/15000, Loss: 1875.8881356418644\n",
      "Epoch 61/15000, Loss: 1866.5541328188874\n",
      "Epoch 62/15000, Loss: 1857.2648083056156\n",
      "Epoch 63/15000, Loss: 1848.0222609240298\n",
      "Epoch 64/15000, Loss: 1838.8285989520095\n",
      "Epoch 65/15000, Loss: 1829.6863475592747\n",
      "Epoch 66/15000, Loss: 1820.5978262396784\n",
      "Epoch 67/15000, Loss: 1811.5656964450109\n",
      "Epoch 68/15000, Loss: 1802.592480619099\n",
      "Epoch 69/15000, Loss: 1793.681400122898\n",
      "Epoch 70/15000, Loss: 1784.8348716154303\n",
      "Epoch 71/15000, Loss: 1776.0556792556417\n",
      "Epoch 72/15000, Loss: 1767.346560165275\n",
      "Epoch 73/15000, Loss: 1758.7104379738662\n",
      "Epoch 74/15000, Loss: 1750.1497984047214\n",
      "Epoch 75/15000, Loss: 1741.6673957603832\n",
      "Epoch 76/15000, Loss: 1733.2657151093158\n",
      "Epoch 77/15000, Loss: 1724.9470712318844\n",
      "Epoch 78/15000, Loss: 1716.713821305627\n",
      "Epoch 79/15000, Loss: 1708.568193758583\n",
      "Epoch 80/15000, Loss: 1700.5122207020393\n",
      "Epoch 81/15000, Loss: 1692.5475547100843\n",
      "Epoch 82/15000, Loss: 1684.6761192500371\n",
      "Epoch 83/15000, Loss: 1676.8993217146767\n",
      "Epoch 84/15000, Loss: 1669.2183552059673\n",
      "Epoch 85/15000, Loss: 1661.6346780631925\n",
      "Epoch 86/15000, Loss: 1654.1490491983834\n",
      "Epoch 87/15000, Loss: 1646.7623898026714\n",
      "Epoch 88/15000, Loss: 1639.4751428014017\n",
      "Epoch 89/15000, Loss: 1632.287982063745\n",
      "Epoch 90/15000, Loss: 1625.2009181803342\n",
      "Epoch 91/15000, Loss: 1618.2141132931522\n",
      "Epoch 92/15000, Loss: 1611.3275795149946\n",
      "Epoch 93/15000, Loss: 1604.5406694273127\n",
      "Epoch 94/15000, Loss: 1597.8534610704178\n",
      "Epoch 95/15000, Loss: 1591.2652128297536\n",
      "Epoch 96/15000, Loss: 1584.7754365482165\n",
      "Epoch 97/15000, Loss: 1578.3832685401742\n",
      "Epoch 98/15000, Loss: 1572.0876882236082\n",
      "Epoch 99/15000, Loss: 1565.887875636027\n",
      "Epoch 100/15000, Loss: 1559.782538914755\n",
      "Epoch 101/15000, Loss: 1553.7704694476124\n",
      "Epoch 102/15000, Loss: 1547.8504757130486\n",
      "Epoch 103/15000, Loss: 1542.0212058734974\n",
      "Epoch 104/15000, Loss: 1536.2810164444104\n",
      "Epoch 105/15000, Loss: 1530.6285850507595\n",
      "Epoch 106/15000, Loss: 1525.0623824084305\n",
      "Epoch 107/15000, Loss: 1519.5807949780803\n",
      "Epoch 108/15000, Loss: 1514.1822391965738\n",
      "Epoch 109/15000, Loss: 1508.8652347745704\n",
      "Epoch 110/15000, Loss: 1503.6278602058353\n",
      "Epoch 111/15000, Loss: 1498.4687187753927\n",
      "Epoch 112/15000, Loss: 1493.3859717684984\n",
      "Epoch 113/15000, Loss: 1488.3779979690332\n",
      "Epoch 114/15000, Loss: 1483.4432059907354\n",
      "Epoch 115/15000, Loss: 1478.5798191171127\n",
      "Epoch 116/15000, Loss: 1473.78641986831\n",
      "Epoch 117/15000, Loss: 1469.0613129165865\n",
      "Epoch 118/15000, Loss: 1464.402915875481\n",
      "Epoch 119/15000, Loss: 1459.8094946731817\n",
      "Epoch 120/15000, Loss: 1455.2794786437184\n",
      "Epoch 121/15000, Loss: 1450.8114587835898\n",
      "Epoch 122/15000, Loss: 1446.4041466742337\n",
      "Epoch 123/15000, Loss: 1442.0558930420864\n",
      "Epoch 124/15000, Loss: 1437.7652897028786\n",
      "Epoch 125/15000, Loss: 1433.5309311654096\n",
      "Epoch 126/15000, Loss: 1429.3514541490938\n",
      "Epoch 127/15000, Loss: 1425.225671866502\n",
      "Epoch 128/15000, Loss: 1421.1521982509048\n",
      "Epoch 129/15000, Loss: 1417.1296741859662\n",
      "Epoch 130/15000, Loss: 1413.1571207756517\n",
      "Epoch 131/15000, Loss: 1409.2330489749527\n",
      "Epoch 132/15000, Loss: 1405.3565584363826\n",
      "Epoch 133/15000, Loss: 1401.526399665127\n",
      "Epoch 134/15000, Loss: 1397.7416231164148\n",
      "Epoch 135/15000, Loss: 1394.001136969572\n",
      "Epoch 136/15000, Loss: 1390.3038951719088\n",
      "Epoch 137/15000, Loss: 1386.6488383794465\n",
      "Epoch 138/15000, Loss: 1383.0350293266845\n",
      "Epoch 139/15000, Loss: 1379.4617399833924\n",
      "Epoch 140/15000, Loss: 1375.9279182529751\n",
      "Epoch 141/15000, Loss: 1372.4327583692468\n",
      "Epoch 142/15000, Loss: 1368.9753092948629\n",
      "Epoch 143/15000, Loss: 1365.554921265706\n",
      "Epoch 144/15000, Loss: 1362.1706117286321\n",
      "Epoch 145/15000, Loss: 1358.8217614156733\n",
      "Epoch 146/15000, Loss: 1355.5076616698536\n",
      "Epoch 147/15000, Loss: 1352.2275471803086\n",
      "Epoch 148/15000, Loss: 1348.9807290861181\n",
      "Epoch 149/15000, Loss: 1345.7665506136693\n",
      "Epoch 150/15000, Loss: 1342.5843111385118\n",
      "Epoch 151/15000, Loss: 1339.4334917970036\n",
      "Epoch 152/15000, Loss: 1336.3133365753708\n",
      "Epoch 153/15000, Loss: 1333.2233546875862\n",
      "Epoch 154/15000, Loss: 1330.1629317041761\n",
      "Epoch 155/15000, Loss: 1327.1315603604671\n",
      "Epoch 156/15000, Loss: 1324.1287140354907\n",
      "Epoch 157/15000, Loss: 1321.1537261484161\n",
      "Epoch 158/15000, Loss: 1318.2060677015618\n",
      "Epoch 159/15000, Loss: 1315.2853388008673\n",
      "Epoch 160/15000, Loss: 1312.3910475089947\n",
      "Epoch 161/15000, Loss: 1309.5228195223544\n",
      "Epoch 162/15000, Loss: 1306.6802140858254\n",
      "Epoch 163/15000, Loss: 1303.8626584424328\n",
      "Epoch 164/15000, Loss: 1301.0697198370883\n",
      "Epoch 165/15000, Loss: 1298.300937334402\n",
      "Epoch 166/15000, Loss: 1295.5559868234193\n",
      "Epoch 167/15000, Loss: 1292.834434855269\n",
      "Epoch 168/15000, Loss: 1290.135960076293\n",
      "Epoch 169/15000, Loss: 1287.4599504561945\n",
      "Epoch 170/15000, Loss: 1284.8062685407092\n",
      "Epoch 171/15000, Loss: 1282.1745166463122\n",
      "Epoch 172/15000, Loss: 1279.5643028539785\n",
      "Epoch 173/15000, Loss: 1276.9754007812273\n",
      "Epoch 174/15000, Loss: 1274.4073209814428\n",
      "Epoch 175/15000, Loss: 1271.8597346785234\n",
      "Epoch 176/15000, Loss: 1269.3324735067238\n",
      "Epoch 177/15000, Loss: 1266.8252676056286\n",
      "Epoch 178/15000, Loss: 1264.3376855758388\n",
      "Epoch 179/15000, Loss: 1261.869397172379\n",
      "Epoch 180/15000, Loss: 1259.4202414521887\n",
      "Epoch 181/15000, Loss: 1256.9898521833964\n",
      "Epoch 182/15000, Loss: 1254.5779102396373\n",
      "Epoch 183/15000, Loss: 1252.1841459286627\n",
      "Epoch 184/15000, Loss: 1249.8083498020735\n",
      "Epoch 185/15000, Loss: 1247.450284553653\n",
      "Epoch 186/15000, Loss: 1245.109654687926\n",
      "Epoch 187/15000, Loss: 1242.7863135916841\n",
      "Epoch 188/15000, Loss: 1240.4799300513803\n",
      "Epoch 189/15000, Loss: 1238.1903095091654\n",
      "Epoch 190/15000, Loss: 1235.9171400994676\n",
      "Epoch 191/15000, Loss: 1233.6602204846786\n",
      "Epoch 192/15000, Loss: 1231.4193833853774\n",
      "Epoch 193/15000, Loss: 1229.1943989376157\n",
      "Epoch 194/15000, Loss: 1226.9850640803313\n",
      "Epoch 195/15000, Loss: 1224.7912373161587\n",
      "Epoch 196/15000, Loss: 1222.6126690670526\n",
      "Epoch 197/15000, Loss: 1220.4491457029042\n",
      "Epoch 198/15000, Loss: 1218.300476360362\n",
      "Epoch 199/15000, Loss: 1216.1663819392788\n",
      "Epoch 200/15000, Loss: 1214.0468148177388\n",
      "Epoch 201/15000, Loss: 1211.9415363896367\n",
      "Epoch 202/15000, Loss: 1209.8504217859174\n",
      "Epoch 203/15000, Loss: 1207.77325395788\n",
      "Epoch 204/15000, Loss: 1205.7098969547071\n",
      "Epoch 205/15000, Loss: 1203.6602186516973\n",
      "Epoch 206/15000, Loss: 1201.6240495737243\n",
      "Epoch 207/15000, Loss: 1199.6010953907153\n",
      "0.0005333333333333334\n",
      "Epoch 1/15000, Loss: 3605.4703551357034\n",
      "Epoch 2/15000, Loss: 2984.7374058056384\n",
      "Epoch 3/15000, Loss: 2698.1446142309183\n",
      "Epoch 4/15000, Loss: 2513.086295124794\n",
      "Epoch 5/15000, Loss: 2380.2709195874972\n",
      "Epoch 6/15000, Loss: 2278.4642868225746\n",
      "Epoch 7/15000, Loss: 2196.3461234905735\n",
      "Epoch 8/15000, Loss: 2127.24746828657\n",
      "Epoch 9/15000, Loss: 2067.02249013591\n",
      "Epoch 10/15000, Loss: 2013.0043776989576\n",
      "Epoch 11/15000, Loss: 1963.435515911326\n",
      "Epoch 12/15000, Loss: 1917.1411533698904\n",
      "Epoch 13/15000, Loss: 1873.335852396434\n",
      "Epoch 14/15000, Loss: 1831.50562588694\n",
      "Epoch 15/15000, Loss: 1791.3342176627584\n",
      "Epoch 16/15000, Loss: 1752.6498317921198\n",
      "Epoch 17/15000, Loss: 1715.3857407941455\n",
      "Epoch 18/15000, Loss: 1679.5468694549095\n",
      "Epoch 19/15000, Loss: 1645.1818157108862\n",
      "Epoch 20/15000, Loss: 1612.3574772103107\n",
      "Epoch 21/15000, Loss: 1581.1378336497392\n",
      "Epoch 22/15000, Loss: 1551.569436965403\n",
      "Epoch 23/15000, Loss: 1523.671853484848\n",
      "Epoch 24/15000, Loss: 1497.4339769085502\n",
      "Epoch 25/15000, Loss: 1472.8153114369447\n",
      "Epoch 26/15000, Loss: 1449.749395122153\n",
      "Epoch 27/15000, Loss: 1428.1511404041853\n",
      "Epoch 28/15000, Loss: 1407.9224861934802\n",
      "Epoch 29/15000, Loss: 1388.9589655160569\n",
      "Epoch 30/15000, Loss: 1371.1548446139495\n",
      "Epoch 31/15000, Loss: 1354.4072794056426\n",
      "Epoch 32/15000, Loss: 1338.6186790793454\n",
      "Epoch 33/15000, Loss: 1323.6988546146788\n",
      "Epoch 34/15000, Loss: 1309.5654019924057\n",
      "Epoch 35/15000, Loss: 1296.1442228906114\n",
      "Epoch 36/15000, Loss: 1283.369409556228\n",
      "Epoch 37/15000, Loss: 1271.1823074268218\n",
      "Epoch 38/15000, Loss: 1259.5313195225474\n",
      "Epoch 39/15000, Loss: 1248.3711935264546\n",
      "Epoch 40/15000, Loss: 1237.6621013440722\n",
      "Epoch 41/15000, Loss: 1227.3691241888512\n",
      "Epoch 42/15000, Loss: 1217.4615748219687\n",
      "Epoch 43/15000, Loss: 1207.9124303045885\n",
      "Epoch 44/15000, Loss: 1198.697771852638\n",
      "0.0009666666666666668\n",
      "Epoch 1/15000, Loss: 2739.1075305750996\n",
      "Epoch 2/15000, Loss: 2486.9080693459296\n",
      "Epoch 3/15000, Loss: 2343.80844198277\n",
      "Epoch 4/15000, Loss: 2239.8160341595076\n",
      "Epoch 5/15000, Loss: 2156.805960622716\n",
      "Epoch 6/15000, Loss: 2086.8840610263815\n",
      "Epoch 7/15000, Loss: 2025.7477922505059\n",
      "Epoch 8/15000, Loss: 1970.8056806016343\n",
      "Epoch 9/15000, Loss: 1920.4288315353442\n",
      "Epoch 10/15000, Loss: 1873.5724477615163\n",
      "Epoch 11/15000, Loss: 1829.5717760727453\n",
      "Epoch 12/15000, Loss: 1788.0067872542106\n",
      "Epoch 13/15000, Loss: 1748.6187652437518\n",
      "Epoch 14/15000, Loss: 1711.2487503348932\n",
      "Epoch 15/15000, Loss: 1675.7976437286536\n",
      "Epoch 16/15000, Loss: 1642.1957942093056\n",
      "Epoch 17/15000, Loss: 1610.385582665322\n",
      "Epoch 18/15000, Loss: 1580.306909115803\n",
      "Epoch 19/15000, Loss: 1551.894467620185\n",
      "Epoch 20/15000, Loss: 1525.0755357652977\n",
      "Epoch 21/15000, Loss: 1499.7698140609173\n",
      "Epoch 22/15000, Loss: 1475.891921435768\n",
      "Epoch 23/15000, Loss: 1453.3551117984582\n",
      "Epoch 24/15000, Loss: 1432.0731484512482\n",
      "Epoch 25/15000, Loss: 1411.9624392051053\n",
      "Epoch 26/15000, Loss: 1392.9436865988553\n",
      "Epoch 27/15000, Loss: 1374.9422148036194\n",
      "Epoch 28/15000, Loss: 1357.8895623880596\n",
      "Epoch 29/15000, Loss: 1341.7229650063375\n",
      "Epoch 30/15000, Loss: 1326.3837660231416\n",
      "Epoch 31/15000, Loss: 1311.819179572781\n",
      "Epoch 32/15000, Loss: 1297.9805009752815\n",
      "Epoch 33/15000, Loss: 1284.8224773440627\n",
      "Epoch 34/15000, Loss: 1272.30417298618\n",
      "Epoch 35/15000, Loss: 1260.3864947861991\n",
      "Epoch 36/15000, Loss: 1249.033525800057\n",
      "Epoch 37/15000, Loss: 1238.2115617301583\n",
      "Epoch 38/15000, Loss: 1227.888973392843\n",
      "Epoch 39/15000, Loss: 1218.035849339228\n",
      "Epoch 40/15000, Loss: 1208.6239428359042\n",
      "Epoch 41/15000, Loss: 1199.6268242753677\n",
      "0.0014000000000000002\n",
      "Epoch 1/15000, Loss: 2327.1935734614513\n",
      "Epoch 2/15000, Loss: 2159.154696006859\n",
      "Epoch 3/15000, Loss: 2053.210172231859\n",
      "Epoch 4/15000, Loss: 1972.9336453416201\n",
      "Epoch 5/15000, Loss: 1905.9874502385665\n",
      "Epoch 6/15000, Loss: 1846.8287486962677\n",
      "Epoch 7/15000, Loss: 1792.719423714695\n",
      "Epoch 8/15000, Loss: 1742.3019178165046\n",
      "Epoch 9/15000, Loss: 1694.953221758378\n",
      "Epoch 10/15000, Loss: 1650.433508008226\n",
      "Epoch 11/15000, Loss: 1608.6794389815552\n",
      "Epoch 12/15000, Loss: 1569.6739512519098\n",
      "Epoch 13/15000, Loss: 1533.3793797682713\n",
      "Epoch 14/15000, Loss: 1499.7071657055585\n",
      "Epoch 15/15000, Loss: 1468.518054029846\n",
      "Epoch 16/15000, Loss: 1439.6346159352336\n",
      "Epoch 17/15000, Loss: 1412.8576480425418\n",
      "Epoch 18/15000, Loss: 1387.9832150383409\n",
      "Epoch 19/15000, Loss: 1364.814737108387\n",
      "Epoch 20/15000, Loss: 1343.1708212928957\n",
      "Epoch 21/15000, Loss: 1322.8893394069803\n",
      "Epoch 22/15000, Loss: 1303.8275233201393\n",
      "Epoch 23/15000, Loss: 1285.8625043868826\n",
      "Epoch 24/15000, Loss: 1268.8890330914594\n",
      "Epoch 25/15000, Loss: 1252.8163532236863\n",
      "Epoch 26/15000, Loss: 1237.5672461331828\n",
      "Epoch 27/15000, Loss: 1223.0744092251207\n",
      "Epoch 28/15000, Loss: 1209.2795533580347\n",
      "Epoch 29/15000, Loss: 1196.1318912504298\n",
      "0.0018333333333333335\n",
      "Epoch 1/15000, Loss: 2554.699499750939\n",
      "Epoch 2/15000, Loss: 2195.178093540657\n",
      "Epoch 3/15000, Loss: 2016.0306559855592\n",
      "Epoch 4/15000, Loss: 1885.7805487398232\n",
      "Epoch 5/15000, Loss: 1778.3103724676564\n",
      "Epoch 6/15000, Loss: 1686.099467522106\n",
      "Epoch 7/15000, Loss: 1606.811653724886\n",
      "Epoch 8/15000, Loss: 1539.3374154668263\n",
      "Epoch 9/15000, Loss: 1482.4915017750386\n",
      "Epoch 10/15000, Loss: 1434.8017678260949\n",
      "Epoch 11/15000, Loss: 1394.6853526739415\n",
      "Epoch 12/15000, Loss: 1360.6483885547582\n",
      "Epoch 13/15000, Loss: 1331.4016088426247\n",
      "Epoch 14/15000, Loss: 1305.8920957899068\n",
      "Epoch 15/15000, Loss: 1283.289227875102\n",
      "Epoch 16/15000, Loss: 1262.9509483009406\n",
      "Epoch 17/15000, Loss: 1244.3895272860193\n",
      "Epoch 18/15000, Loss: 1227.2370203269534\n",
      "Epoch 19/15000, Loss: 1211.2214885835626\n",
      "Epoch 20/15000, Loss: 1196.1418746414815\n",
      "0.002266666666666667\n",
      "Epoch 1/15000, Loss: 2377.716750362705\n",
      "Epoch 2/15000, Loss: 2178.3637116881737\n",
      "Epoch 3/15000, Loss: 2047.8566229484156\n",
      "Epoch 4/15000, Loss: 1939.4904809589768\n",
      "Epoch 5/15000, Loss: 1840.197422442179\n",
      "Epoch 6/15000, Loss: 1746.5663562538361\n",
      "Epoch 7/15000, Loss: 1659.0212097050864\n",
      "Epoch 8/15000, Loss: 1579.0945742261508\n",
      "Epoch 9/15000, Loss: 1507.902931741972\n",
      "Epoch 10/15000, Loss: 1445.6126313589052\n",
      "Epoch 11/15000, Loss: 1391.608851051385\n",
      "Epoch 12/15000, Loss: 1344.8932781024528\n",
      "Epoch 13/15000, Loss: 1304.3938627426103\n",
      "Epoch 14/15000, Loss: 1269.1168143796808\n",
      "Epoch 15/15000, Loss: 1238.193788512271\n",
      "Epoch 16/15000, Loss: 1210.88643027664\n",
      "Epoch 17/15000, Loss: 1186.5759870182771\n",
      "0.0027\n",
      "Epoch 1/15000, Loss: 2543.7015059108703\n",
      "Epoch 2/15000, Loss: 2271.873212768771\n",
      "Epoch 3/15000, Loss: 2086.9594399170496\n",
      "Epoch 4/15000, Loss: 1917.969116396888\n",
      "Epoch 5/15000, Loss: 1763.082076034321\n",
      "Epoch 6/15000, Loss: 1630.1636025518753\n",
      "Epoch 7/15000, Loss: 1522.7765722195043\n",
      "Epoch 8/15000, Loss: 1438.9802518377107\n",
      "Epoch 9/15000, Loss: 1374.0559242599845\n",
      "Epoch 10/15000, Loss: 1322.9576970301855\n",
      "Epoch 11/15000, Loss: 1281.544197933157\n",
      "Epoch 12/15000, Loss: 1246.8473872261227\n",
      "Epoch 13/15000, Loss: 1216.890392033634\n",
      "Epoch 14/15000, Loss: 1190.4039669426136\n",
      "0.0031333333333333335\n",
      "Epoch 1/15000, Loss: 2455.73440152209\n",
      "Epoch 2/15000, Loss: 2117.970138524978\n",
      "Epoch 3/15000, Loss: 1894.841611813868\n",
      "Epoch 4/15000, Loss: 1716.913479062519\n",
      "Epoch 5/15000, Loss: 1577.4355283476334\n",
      "Epoch 6/15000, Loss: 1471.7802774123443\n",
      "Epoch 7/15000, Loss: 1392.4520032631274\n",
      "Epoch 8/15000, Loss: 1331.4773549399144\n",
      "Epoch 9/15000, Loss: 1282.7875821746677\n",
      "Epoch 10/15000, Loss: 1242.5535588749408\n",
      "Epoch 11/15000, Loss: 1208.4243743709205\n",
      "Epoch 12/15000, Loss: 1178.8441947193762\n",
      "0.0035666666666666668\n",
      "Epoch 1/15000, Loss: 2334.6730000734874\n",
      "Epoch 2/15000, Loss: 1852.390284849307\n",
      "Epoch 3/15000, Loss: 1608.9210733617535\n",
      "Epoch 4/15000, Loss: 1478.0071705317118\n",
      "Epoch 5/15000, Loss: 1382.8675410491571\n",
      "Epoch 6/15000, Loss: 1308.4939460621667\n",
      "Epoch 7/15000, Loss: 1251.8045539322368\n",
      "Epoch 8/15000, Loss: 1208.5515475389577\n",
      "Epoch 9/15000, Loss: 1174.423234516457\n",
      "0.004\n",
      "Epoch 1/15000, Loss: 1985.9319850950146\n",
      "Epoch 2/15000, Loss: 1578.1275420735815\n",
      "Epoch 3/15000, Loss: 1436.1924036226953\n",
      "Epoch 4/15000, Loss: 1345.4938919442218\n",
      "Epoch 5/15000, Loss: 1277.3482805744757\n",
      "Epoch 6/15000, Loss: 1226.4157133960755\n",
      "Epoch 7/15000, Loss: 1187.574666231503\n"
     ]
    },
    {
     "data": {
      "application/vnd.plotly.v1+json": {
       "config": {
        "plotlyServerURL": "https://plot.ly"
       },
       "data": [
        {
         "mode": "lines+markers",
         "name": "Среднее значение",
         "type": "scatter",
         "x": [
          0.0001,
          0.0005333333333333334,
          0.0009666666666666668,
          0.0014000000000000002,
          0.0018333333333333335,
          0.002266666666666667,
          0.0027,
          0.0031333333333333335,
          0.0035666666666666668,
          0.004
         ],
         "y": [
          207,
          44,
          41,
          29,
          20,
          17,
          14,
          12,
          9,
          7
         ]
        }
       ],
       "layout": {
        "font": {
         "size": 20
        },
        "height": 720,
        "template": {
         "data": {
          "bar": [
           {
            "error_x": {
             "color": "#2a3f5f"
            },
            "error_y": {
             "color": "#2a3f5f"
            },
            "marker": {
             "line": {
              "color": "#E5ECF6",
              "width": 0.5
             },
             "pattern": {
              "fillmode": "overlay",
              "size": 10,
              "solidity": 0.2
             }
            },
            "type": "bar"
           }
          ],
          "barpolar": [
           {
            "marker": {
             "line": {
              "color": "#E5ECF6",
              "width": 0.5
             },
             "pattern": {
              "fillmode": "overlay",
              "size": 10,
              "solidity": 0.2
             }
            },
            "type": "barpolar"
           }
          ],
          "carpet": [
           {
            "aaxis": {
             "endlinecolor": "#2a3f5f",
             "gridcolor": "white",
             "linecolor": "white",
             "minorgridcolor": "white",
             "startlinecolor": "#2a3f5f"
            },
            "baxis": {
             "endlinecolor": "#2a3f5f",
             "gridcolor": "white",
             "linecolor": "white",
             "minorgridcolor": "white",
             "startlinecolor": "#2a3f5f"
            },
            "type": "carpet"
           }
          ],
          "choropleth": [
           {
            "colorbar": {
             "outlinewidth": 0,
             "ticks": ""
            },
            "type": "choropleth"
           }
          ],
          "contour": [
           {
            "colorbar": {
             "outlinewidth": 0,
             "ticks": ""
            },
            "colorscale": [
             [
              0,
              "#0d0887"
             ],
             [
              0.1111111111111111,
              "#46039f"
             ],
             [
              0.2222222222222222,
              "#7201a8"
             ],
             [
              0.3333333333333333,
              "#9c179e"
             ],
             [
              0.4444444444444444,
              "#bd3786"
             ],
             [
              0.5555555555555556,
              "#d8576b"
             ],
             [
              0.6666666666666666,
              "#ed7953"
             ],
             [
              0.7777777777777778,
              "#fb9f3a"
             ],
             [
              0.8888888888888888,
              "#fdca26"
             ],
             [
              1,
              "#f0f921"
             ]
            ],
            "type": "contour"
           }
          ],
          "contourcarpet": [
           {
            "colorbar": {
             "outlinewidth": 0,
             "ticks": ""
            },
            "type": "contourcarpet"
           }
          ],
          "heatmap": [
           {
            "colorbar": {
             "outlinewidth": 0,
             "ticks": ""
            },
            "colorscale": [
             [
              0,
              "#0d0887"
             ],
             [
              0.1111111111111111,
              "#46039f"
             ],
             [
              0.2222222222222222,
              "#7201a8"
             ],
             [
              0.3333333333333333,
              "#9c179e"
             ],
             [
              0.4444444444444444,
              "#bd3786"
             ],
             [
              0.5555555555555556,
              "#d8576b"
             ],
             [
              0.6666666666666666,
              "#ed7953"
             ],
             [
              0.7777777777777778,
              "#fb9f3a"
             ],
             [
              0.8888888888888888,
              "#fdca26"
             ],
             [
              1,
              "#f0f921"
             ]
            ],
            "type": "heatmap"
           }
          ],
          "heatmapgl": [
           {
            "colorbar": {
             "outlinewidth": 0,
             "ticks": ""
            },
            "colorscale": [
             [
              0,
              "#0d0887"
             ],
             [
              0.1111111111111111,
              "#46039f"
             ],
             [
              0.2222222222222222,
              "#7201a8"
             ],
             [
              0.3333333333333333,
              "#9c179e"
             ],
             [
              0.4444444444444444,
              "#bd3786"
             ],
             [
              0.5555555555555556,
              "#d8576b"
             ],
             [
              0.6666666666666666,
              "#ed7953"
             ],
             [
              0.7777777777777778,
              "#fb9f3a"
             ],
             [
              0.8888888888888888,
              "#fdca26"
             ],
             [
              1,
              "#f0f921"
             ]
            ],
            "type": "heatmapgl"
           }
          ],
          "histogram": [
           {
            "marker": {
             "pattern": {
              "fillmode": "overlay",
              "size": 10,
              "solidity": 0.2
             }
            },
            "type": "histogram"
           }
          ],
          "histogram2d": [
           {
            "colorbar": {
             "outlinewidth": 0,
             "ticks": ""
            },
            "colorscale": [
             [
              0,
              "#0d0887"
             ],
             [
              0.1111111111111111,
              "#46039f"
             ],
             [
              0.2222222222222222,
              "#7201a8"
             ],
             [
              0.3333333333333333,
              "#9c179e"
             ],
             [
              0.4444444444444444,
              "#bd3786"
             ],
             [
              0.5555555555555556,
              "#d8576b"
             ],
             [
              0.6666666666666666,
              "#ed7953"
             ],
             [
              0.7777777777777778,
              "#fb9f3a"
             ],
             [
              0.8888888888888888,
              "#fdca26"
             ],
             [
              1,
              "#f0f921"
             ]
            ],
            "type": "histogram2d"
           }
          ],
          "histogram2dcontour": [
           {
            "colorbar": {
             "outlinewidth": 0,
             "ticks": ""
            },
            "colorscale": [
             [
              0,
              "#0d0887"
             ],
             [
              0.1111111111111111,
              "#46039f"
             ],
             [
              0.2222222222222222,
              "#7201a8"
             ],
             [
              0.3333333333333333,
              "#9c179e"
             ],
             [
              0.4444444444444444,
              "#bd3786"
             ],
             [
              0.5555555555555556,
              "#d8576b"
             ],
             [
              0.6666666666666666,
              "#ed7953"
             ],
             [
              0.7777777777777778,
              "#fb9f3a"
             ],
             [
              0.8888888888888888,
              "#fdca26"
             ],
             [
              1,
              "#f0f921"
             ]
            ],
            "type": "histogram2dcontour"
           }
          ],
          "mesh3d": [
           {
            "colorbar": {
             "outlinewidth": 0,
             "ticks": ""
            },
            "type": "mesh3d"
           }
          ],
          "parcoords": [
           {
            "line": {
             "colorbar": {
              "outlinewidth": 0,
              "ticks": ""
             }
            },
            "type": "parcoords"
           }
          ],
          "pie": [
           {
            "automargin": true,
            "type": "pie"
           }
          ],
          "scatter": [
           {
            "fillpattern": {
             "fillmode": "overlay",
             "size": 10,
             "solidity": 0.2
            },
            "type": "scatter"
           }
          ],
          "scatter3d": [
           {
            "line": {
             "colorbar": {
              "outlinewidth": 0,
              "ticks": ""
             }
            },
            "marker": {
             "colorbar": {
              "outlinewidth": 0,
              "ticks": ""
             }
            },
            "type": "scatter3d"
           }
          ],
          "scattercarpet": [
           {
            "marker": {
             "colorbar": {
              "outlinewidth": 0,
              "ticks": ""
             }
            },
            "type": "scattercarpet"
           }
          ],
          "scattergeo": [
           {
            "marker": {
             "colorbar": {
              "outlinewidth": 0,
              "ticks": ""
             }
            },
            "type": "scattergeo"
           }
          ],
          "scattergl": [
           {
            "marker": {
             "colorbar": {
              "outlinewidth": 0,
              "ticks": ""
             }
            },
            "type": "scattergl"
           }
          ],
          "scattermapbox": [
           {
            "marker": {
             "colorbar": {
              "outlinewidth": 0,
              "ticks": ""
             }
            },
            "type": "scattermapbox"
           }
          ],
          "scatterpolar": [
           {
            "marker": {
             "colorbar": {
              "outlinewidth": 0,
              "ticks": ""
             }
            },
            "type": "scatterpolar"
           }
          ],
          "scatterpolargl": [
           {
            "marker": {
             "colorbar": {
              "outlinewidth": 0,
              "ticks": ""
             }
            },
            "type": "scatterpolargl"
           }
          ],
          "scatterternary": [
           {
            "marker": {
             "colorbar": {
              "outlinewidth": 0,
              "ticks": ""
             }
            },
            "type": "scatterternary"
           }
          ],
          "surface": [
           {
            "colorbar": {
             "outlinewidth": 0,
             "ticks": ""
            },
            "colorscale": [
             [
              0,
              "#0d0887"
             ],
             [
              0.1111111111111111,
              "#46039f"
             ],
             [
              0.2222222222222222,
              "#7201a8"
             ],
             [
              0.3333333333333333,
              "#9c179e"
             ],
             [
              0.4444444444444444,
              "#bd3786"
             ],
             [
              0.5555555555555556,
              "#d8576b"
             ],
             [
              0.6666666666666666,
              "#ed7953"
             ],
             [
              0.7777777777777778,
              "#fb9f3a"
             ],
             [
              0.8888888888888888,
              "#fdca26"
             ],
             [
              1,
              "#f0f921"
             ]
            ],
            "type": "surface"
           }
          ],
          "table": [
           {
            "cells": {
             "fill": {
              "color": "#EBF0F8"
             },
             "line": {
              "color": "white"
             }
            },
            "header": {
             "fill": {
              "color": "#C8D4E3"
             },
             "line": {
              "color": "white"
             }
            },
            "type": "table"
           }
          ]
         },
         "layout": {
          "annotationdefaults": {
           "arrowcolor": "#2a3f5f",
           "arrowhead": 0,
           "arrowwidth": 1
          },
          "autotypenumbers": "strict",
          "coloraxis": {
           "colorbar": {
            "outlinewidth": 0,
            "ticks": ""
           }
          },
          "colorscale": {
           "diverging": [
            [
             0,
             "#8e0152"
            ],
            [
             0.1,
             "#c51b7d"
            ],
            [
             0.2,
             "#de77ae"
            ],
            [
             0.3,
             "#f1b6da"
            ],
            [
             0.4,
             "#fde0ef"
            ],
            [
             0.5,
             "#f7f7f7"
            ],
            [
             0.6,
             "#e6f5d0"
            ],
            [
             0.7,
             "#b8e186"
            ],
            [
             0.8,
             "#7fbc41"
            ],
            [
             0.9,
             "#4d9221"
            ],
            [
             1,
             "#276419"
            ]
           ],
           "sequential": [
            [
             0,
             "#0d0887"
            ],
            [
             0.1111111111111111,
             "#46039f"
            ],
            [
             0.2222222222222222,
             "#7201a8"
            ],
            [
             0.3333333333333333,
             "#9c179e"
            ],
            [
             0.4444444444444444,
             "#bd3786"
            ],
            [
             0.5555555555555556,
             "#d8576b"
            ],
            [
             0.6666666666666666,
             "#ed7953"
            ],
            [
             0.7777777777777778,
             "#fb9f3a"
            ],
            [
             0.8888888888888888,
             "#fdca26"
            ],
            [
             1,
             "#f0f921"
            ]
           ],
           "sequentialminus": [
            [
             0,
             "#0d0887"
            ],
            [
             0.1111111111111111,
             "#46039f"
            ],
            [
             0.2222222222222222,
             "#7201a8"
            ],
            [
             0.3333333333333333,
             "#9c179e"
            ],
            [
             0.4444444444444444,
             "#bd3786"
            ],
            [
             0.5555555555555556,
             "#d8576b"
            ],
            [
             0.6666666666666666,
             "#ed7953"
            ],
            [
             0.7777777777777778,
             "#fb9f3a"
            ],
            [
             0.8888888888888888,
             "#fdca26"
            ],
            [
             1,
             "#f0f921"
            ]
           ]
          },
          "colorway": [
           "#636efa",
           "#EF553B",
           "#00cc96",
           "#ab63fa",
           "#FFA15A",
           "#19d3f3",
           "#FF6692",
           "#B6E880",
           "#FF97FF",
           "#FECB52"
          ],
          "font": {
           "color": "#2a3f5f"
          },
          "geo": {
           "bgcolor": "white",
           "lakecolor": "white",
           "landcolor": "#E5ECF6",
           "showlakes": true,
           "showland": true,
           "subunitcolor": "white"
          },
          "hoverlabel": {
           "align": "left"
          },
          "hovermode": "closest",
          "mapbox": {
           "style": "light"
          },
          "paper_bgcolor": "white",
          "plot_bgcolor": "#E5ECF6",
          "polar": {
           "angularaxis": {
            "gridcolor": "white",
            "linecolor": "white",
            "ticks": ""
           },
           "bgcolor": "#E5ECF6",
           "radialaxis": {
            "gridcolor": "white",
            "linecolor": "white",
            "ticks": ""
           }
          },
          "scene": {
           "xaxis": {
            "backgroundcolor": "#E5ECF6",
            "gridcolor": "white",
            "gridwidth": 2,
            "linecolor": "white",
            "showbackground": true,
            "ticks": "",
            "zerolinecolor": "white"
           },
           "yaxis": {
            "backgroundcolor": "#E5ECF6",
            "gridcolor": "white",
            "gridwidth": 2,
            "linecolor": "white",
            "showbackground": true,
            "ticks": "",
            "zerolinecolor": "white"
           },
           "zaxis": {
            "backgroundcolor": "#E5ECF6",
            "gridcolor": "white",
            "gridwidth": 2,
            "linecolor": "white",
            "showbackground": true,
            "ticks": "",
            "zerolinecolor": "white"
           }
          },
          "shapedefaults": {
           "line": {
            "color": "#2a3f5f"
           }
          },
          "ternary": {
           "aaxis": {
            "gridcolor": "white",
            "linecolor": "white",
            "ticks": ""
           },
           "baxis": {
            "gridcolor": "white",
            "linecolor": "white",
            "ticks": ""
           },
           "bgcolor": "#E5ECF6",
           "caxis": {
            "gridcolor": "white",
            "linecolor": "white",
            "ticks": ""
           }
          },
          "title": {
           "x": 0.05
          },
          "xaxis": {
           "automargin": true,
           "gridcolor": "white",
           "linecolor": "white",
           "ticks": "",
           "title": {
            "standoff": 15
           },
           "zerolinecolor": "white",
           "zerolinewidth": 2
          },
          "yaxis": {
           "automargin": true,
           "gridcolor": "white",
           "linecolor": "white",
           "ticks": "",
           "title": {
            "standoff": 15
           },
           "zerolinecolor": "white",
           "zerolinewidth": 2
          }
         }
        },
        "title": {
         "text": "Зависимость количества итераций обучения от коэффициента обучения"
        },
        "width": 1280,
        "xaxis": {
         "title": {
          "text": "Коэффициент обучения"
         }
        },
        "yaxis": {
         "title": {
          "text": "Количество итераций обучения"
         }
        }
       }
      }
     },
     "metadata": {},
     "output_type": "display_data"
    }
   ],
   "source": [
    "alphas = np.linspace(0.0001, 0.004, endpoint=True, num=10)\n",
    "epochs_amount_mean: list[int] = []\n",
    "fig = go.Figure()\n",
    "for alpha in alphas:\n",
    "    print(alpha)\n",
    "    dl = LRNN(n, p, alpha)\n",
    "    dl.train(train, 15000, learn_by_loss=True, max_loss=1200)\n",
    "    epochs_amount_mean.append(dl.epoch)\n",
    "fig.add_trace(go.Scatter(x=alphas, y=epochs_amount_mean, mode='lines+markers',\n",
    "                         name='Среднее значение'))\n",
    "fig.update_layout(title='Зависимость количества итераций обучения от коэффициента обучения',\n",
    "                  xaxis_title='Коэффициент обучения',\n",
    "                  yaxis_title='Количество итераций обучения',\n",
    "                  height=720, width=1280,\n",
    "                  font=dict(size=20))\n",
    "fig.show()"
   ]
  },
  {
   "cell_type": "markdown",
   "metadata": {},
   "source": [
    "## Relationship between hidden layer dimension and epochs"
   ]
  },
  {
   "cell_type": "code",
   "execution_count": 15,
   "metadata": {},
   "outputs": [
    {
     "name": "stdout",
     "output_type": "stream",
     "text": [
      "Epoch 1/15000, Loss: 3409.6066457136185\n",
      "Epoch 2/15000, Loss: 2570.02669691301\n",
      "Epoch 3/15000, Loss: 2328.712127521082\n",
      "Epoch 4/15000, Loss: 2220.0310075069992\n",
      "Epoch 5/15000, Loss: 2159.1259253490757\n",
      "Epoch 6/15000, Loss: 2120.613921003126\n",
      "Epoch 7/15000, Loss: 2094.3845563013206\n",
      "Epoch 8/15000, Loss: 2075.5934013450487\n",
      "Epoch 9/15000, Loss: 2061.6116491527805\n",
      "Epoch 10/15000, Loss: 2050.8841531376556\n",
      "Epoch 11/15000, Loss: 2042.432351546338\n",
      "Epoch 12/15000, Loss: 2035.613677594839\n",
      "Epoch 13/15000, Loss: 2029.991151825126\n",
      "Epoch 14/15000, Loss: 2025.258933493269\n",
      "Epoch 15/15000, Loss: 2021.1992980284656\n",
      "Epoch 16/15000, Loss: 2017.653708528682\n",
      "Epoch 17/15000, Loss: 2014.5048261048448\n",
      "Epoch 18/15000, Loss: 2011.6649446469362\n",
      "Epoch 19/15000, Loss: 2009.066947795632\n",
      "Epoch 20/15000, Loss: 2006.6594431922554\n",
      "Epoch 21/15000, Loss: 2004.4026701475043\n",
      "Epoch 22/15000, Loss: 2002.2656003397267\n",
      "Epoch 23/15000, Loss: 2000.222091884245\n",
      "Epoch 24/15000, Loss: 1998.253053252326\n",
      "Epoch 25/15000, Loss: 1996.341979481913\n",
      "Epoch 26/15000, Loss: 1994.4756823206021\n",
      "Epoch 27/15000, Loss: 1992.6432636482855\n",
      "Epoch 28/15000, Loss: 1990.8358499897877\n",
      "Epoch 29/15000, Loss: 1989.0454654716173\n",
      "Epoch 30/15000, Loss: 1987.2661043784244\n",
      "Epoch 31/15000, Loss: 1985.492001099253\n",
      "Epoch 32/15000, Loss: 1983.718969109005\n",
      "Epoch 33/15000, Loss: 1981.9426257800399\n",
      "Epoch 34/15000, Loss: 1980.159555070658\n",
      "Epoch 35/15000, Loss: 1978.366396583984\n",
      "Epoch 36/15000, Loss: 1976.5609097912952\n",
      "Epoch 37/15000, Loss: 1974.7401332182985\n",
      "Epoch 38/15000, Loss: 1972.902091157352\n",
      "Epoch 39/15000, Loss: 1971.0450044818065\n",
      "Epoch 40/15000, Loss: 1969.1667703537478\n",
      "Epoch 41/15000, Loss: 1967.2657135782906\n",
      "Epoch 42/15000, Loss: 1965.3402188379891\n",
      "Epoch 43/15000, Loss: 1963.3894733770258\n",
      "Epoch 44/15000, Loss: 1961.4111239034416\n",
      "Epoch 45/15000, Loss: 1959.4047097182968\n",
      "Epoch 46/15000, Loss: 1957.3687358688367\n",
      "Epoch 47/15000, Loss: 1955.3019265783753\n",
      "Epoch 48/15000, Loss: 1953.2037071651957\n",
      "Epoch 49/15000, Loss: 1951.0726072776058\n",
      "Epoch 50/15000, Loss: 1948.907762573292\n",
      "Epoch 51/15000, Loss: 1946.7080983441663\n",
      "Epoch 52/15000, Loss: 1944.4731328181651\n",
      "Epoch 53/15000, Loss: 1942.2019009547257\n",
      "Epoch 54/15000, Loss: 1939.8934362038126\n",
      "Epoch 55/15000, Loss: 1937.5469756741513\n",
      "Epoch 56/15000, Loss: 1935.1619813780644\n",
      "Epoch 57/15000, Loss: 1932.7373835047617\n",
      "Epoch 58/15000, Loss: 1930.2728760476687\n",
      "Epoch 59/15000, Loss: 1927.767917238895\n",
      "Epoch 60/15000, Loss: 1925.2216431455288\n",
      "Epoch 61/15000, Loss: 1922.633843760864\n",
      "Epoch 62/15000, Loss: 1920.0036105257175\n",
      "Epoch 63/15000, Loss: 1917.3307124037622\n",
      "Epoch 64/15000, Loss: 1914.614689595205\n",
      "Epoch 65/15000, Loss: 1911.8554893514638\n",
      "Epoch 66/15000, Loss: 1909.0522564480884\n",
      "Epoch 67/15000, Loss: 1906.2050525814961\n",
      "Epoch 68/15000, Loss: 1903.3137728739327\n",
      "Epoch 69/15000, Loss: 1900.377818998705\n",
      "Epoch 70/15000, Loss: 1897.3976264901028\n",
      "Epoch 1/15000, Loss: 2798.1591168682226\n",
      "Epoch 2/15000, Loss: 2345.613432944926\n",
      "Epoch 3/15000, Loss: 2212.542838891276\n",
      "Epoch 4/15000, Loss: 2148.981627382588\n",
      "Epoch 5/15000, Loss: 2110.83934926112\n",
      "Epoch 6/15000, Loss: 2084.75710662674\n",
      "Epoch 7/15000, Loss: 2065.341172990227\n",
      "Epoch 8/15000, Loss: 2049.992023701677\n",
      "Epoch 9/15000, Loss: 2037.2956113333955\n",
      "Epoch 10/15000, Loss: 2026.4172397603163\n",
      "Epoch 11/15000, Loss: 2016.829131232115\n",
      "Epoch 12/15000, Loss: 2008.1815485539485\n",
      "Epoch 13/15000, Loss: 2000.2360877877272\n",
      "Epoch 14/15000, Loss: 1992.819744548797\n",
      "Epoch 15/15000, Loss: 1985.8090979667436\n",
      "Epoch 16/15000, Loss: 1979.111081331385\n",
      "Epoch 17/15000, Loss: 1972.6547960115702\n",
      "Epoch 18/15000, Loss: 1966.3861772663302\n",
      "Epoch 19/15000, Loss: 1960.2623214185614\n",
      "Epoch 20/15000, Loss: 1954.2486777203533\n",
      "Epoch 21/15000, Loss: 1948.3192071782742\n",
      "Epoch 22/15000, Loss: 1942.4510525268302\n",
      "Epoch 23/15000, Loss: 1936.6269671875407\n",
      "Epoch 24/15000, Loss: 1930.8323309564912\n",
      "Epoch 25/15000, Loss: 1925.0549689717618\n",
      "Epoch 26/15000, Loss: 1919.2858788053816\n",
      "Epoch 27/15000, Loss: 1913.5162606096708\n",
      "Epoch 28/15000, Loss: 1907.7397546543798\n",
      "Epoch 29/15000, Loss: 1901.9515734364804\n",
      "Epoch 30/15000, Loss: 1896.147876179776\n",
      "Epoch 1/15000, Loss: 4925.618275713678\n",
      "Epoch 2/15000, Loss: 3477.3400982933467\n",
      "Epoch 3/15000, Loss: 2987.4436037159003\n",
      "Epoch 4/15000, Loss: 2726.018901149502\n",
      "Epoch 5/15000, Loss: 2558.0136607020586\n",
      "Epoch 6/15000, Loss: 2438.7874984036457\n",
      "Epoch 7/15000, Loss: 2349.2150271514915\n",
      "Epoch 8/15000, Loss: 2279.3528059502532\n",
      "Epoch 9/15000, Loss: 2223.299259061487\n",
      "Epoch 10/15000, Loss: 2177.2542733478676\n",
      "Epoch 11/15000, Loss: 2138.643665920463\n",
      "Epoch 12/15000, Loss: 2105.6663392974842\n",
      "Epoch 13/15000, Loss: 2077.029283066571\n",
      "Epoch 14/15000, Loss: 2051.784558072447\n",
      "Epoch 15/15000, Loss: 2029.2226132325386\n",
      "Epoch 16/15000, Loss: 2008.8027733223928\n",
      "Epoch 17/15000, Loss: 1990.1050261864282\n",
      "Epoch 18/15000, Loss: 1972.7981078749087\n",
      "Epoch 19/15000, Loss: 1956.6169808607606\n",
      "Epoch 20/15000, Loss: 1941.3476152340336\n",
      "Epoch 21/15000, Loss: 1926.815550397431\n",
      "Epoch 22/15000, Loss: 1912.8772277776566\n",
      "Epoch 23/15000, Loss: 1899.416932263714\n",
      "Epoch 1/15000, Loss: 5019.693672016498\n",
      "Epoch 2/15000, Loss: 3494.359284444967\n",
      "Epoch 3/15000, Loss: 2997.149614976136\n",
      "Epoch 4/15000, Loss: 2734.187680176432\n",
      "Epoch 5/15000, Loss: 2563.3752708585325\n",
      "Epoch 6/15000, Loss: 2439.72497742218\n",
      "Epoch 7/15000, Loss: 2344.519811167743\n",
      "Epoch 8/15000, Loss: 2268.1960654999825\n",
      "Epoch 9/15000, Loss: 2205.11639762493\n",
      "Epoch 10/15000, Loss: 2151.6449961606118\n",
      "Epoch 11/15000, Loss: 2105.302414082799\n",
      "Epoch 12/15000, Loss: 2064.3401887044006\n",
      "Epoch 13/15000, Loss: 2027.4967516610266\n",
      "Epoch 14/15000, Loss: 1993.8482280436126\n",
      "Epoch 15/15000, Loss: 1962.7127452357922\n",
      "Epoch 16/15000, Loss: 1933.585204936917\n",
      "Epoch 17/15000, Loss: 1906.0921274361624\n",
      "Epoch 18/15000, Loss: 1879.9603826769708\n",
      "Epoch 1/15000, Loss: 4574.305773258316\n",
      "Epoch 2/15000, Loss: 3315.762038010953\n",
      "Epoch 3/15000, Loss: 2857.720351144903\n",
      "Epoch 4/15000, Loss: 2603.4294513834448\n",
      "Epoch 5/15000, Loss: 2436.454803566773\n",
      "Epoch 6/15000, Loss: 2316.6285188000293\n",
      "Epoch 7/15000, Loss: 2225.7012100189563\n",
      "Epoch 8/15000, Loss: 2153.851622071836\n",
      "Epoch 9/15000, Loss: 2095.208778390457\n",
      "Epoch 10/15000, Loss: 2046.0102306872263\n",
      "Epoch 11/15000, Loss: 2003.719969270988\n",
      "Epoch 12/15000, Loss: 1966.5631762547166\n",
      "Epoch 13/15000, Loss: 1933.2630523486546\n",
      "Epoch 14/15000, Loss: 1902.881809529898\n",
      "Epoch 15/15000, Loss: 1874.7239320933886\n",
      "Epoch 1/15000, Loss: 2490.846707028875\n",
      "Epoch 2/15000, Loss: 2311.713411992854\n",
      "Epoch 3/15000, Loss: 2204.3765230043605\n",
      "Epoch 4/15000, Loss: 2126.209875494762\n",
      "Epoch 5/15000, Loss: 2063.872501630364\n",
      "Epoch 6/15000, Loss: 2011.3008032510188\n",
      "Epoch 7/15000, Loss: 1965.210983554415\n",
      "Epoch 8/15000, Loss: 1923.6469969299405\n",
      "Epoch 9/15000, Loss: 1885.3800489517573\n",
      "Epoch 1/15000, Loss: 4750.704543944697\n",
      "Epoch 2/15000, Loss: 3363.2365067244586\n",
      "Epoch 3/15000, Loss: 2866.259242107568\n",
      "Epoch 4/15000, Loss: 2594.229889665454\n",
      "Epoch 5/15000, Loss: 2415.2843650238165\n",
      "Epoch 6/15000, Loss: 2284.7777598523035\n",
      "Epoch 7/15000, Loss: 2183.2201749486326\n",
      "Epoch 8/15000, Loss: 2100.5743456305286\n",
      "Epoch 9/15000, Loss: 2031.05598634929\n",
      "Epoch 10/15000, Loss: 1971.0613848640342\n",
      "Epoch 11/15000, Loss: 1918.21919189479\n",
      "Epoch 12/15000, Loss: 1870.9056916872757\n",
      "Epoch 1/15000, Loss: 4877.043778762478\n",
      "Epoch 2/15000, Loss: 3461.8709729816414\n",
      "Epoch 3/15000, Loss: 2960.885532374612\n",
      "Epoch 4/15000, Loss: 2679.835856180224\n",
      "Epoch 5/15000, Loss: 2490.119573491182\n",
      "Epoch 6/15000, Loss: 2348.6849881058783\n",
      "Epoch 7/15000, Loss: 2236.4118039850528\n",
      "Epoch 8/15000, Loss: 2143.2538617730643\n",
      "Epoch 9/15000, Loss: 2063.377179317084\n",
      "Epoch 10/15000, Loss: 1993.1832741010614\n",
      "Epoch 11/15000, Loss: 1930.3701511284978\n",
      "Epoch 12/15000, Loss: 1873.4265539778426\n"
     ]
    },
    {
     "data": {
      "application/vnd.plotly.v1+json": {
       "config": {
        "plotlyServerURL": "https://plot.ly"
       },
       "data": [
        {
         "mode": "lines+markers",
         "type": "scatter",
         "x": [
          3.98851308232291,
          3.023705853894533,
          2.4347487339306584,
          2.0378219758721876,
          1.7521726941407345,
          1.5367592820260634,
          1.368513247208233,
          1.2334714821393329
         ],
         "y": [
          70,
          30,
          23,
          18,
          15,
          9,
          12,
          12
         ]
        }
       ],
       "layout": {
        "font": {
         "size": 20
        },
        "height": 720,
        "template": {
         "data": {
          "bar": [
           {
            "error_x": {
             "color": "#2a3f5f"
            },
            "error_y": {
             "color": "#2a3f5f"
            },
            "marker": {
             "line": {
              "color": "#E5ECF6",
              "width": 0.5
             },
             "pattern": {
              "fillmode": "overlay",
              "size": 10,
              "solidity": 0.2
             }
            },
            "type": "bar"
           }
          ],
          "barpolar": [
           {
            "marker": {
             "line": {
              "color": "#E5ECF6",
              "width": 0.5
             },
             "pattern": {
              "fillmode": "overlay",
              "size": 10,
              "solidity": 0.2
             }
            },
            "type": "barpolar"
           }
          ],
          "carpet": [
           {
            "aaxis": {
             "endlinecolor": "#2a3f5f",
             "gridcolor": "white",
             "linecolor": "white",
             "minorgridcolor": "white",
             "startlinecolor": "#2a3f5f"
            },
            "baxis": {
             "endlinecolor": "#2a3f5f",
             "gridcolor": "white",
             "linecolor": "white",
             "minorgridcolor": "white",
             "startlinecolor": "#2a3f5f"
            },
            "type": "carpet"
           }
          ],
          "choropleth": [
           {
            "colorbar": {
             "outlinewidth": 0,
             "ticks": ""
            },
            "type": "choropleth"
           }
          ],
          "contour": [
           {
            "colorbar": {
             "outlinewidth": 0,
             "ticks": ""
            },
            "colorscale": [
             [
              0,
              "#0d0887"
             ],
             [
              0.1111111111111111,
              "#46039f"
             ],
             [
              0.2222222222222222,
              "#7201a8"
             ],
             [
              0.3333333333333333,
              "#9c179e"
             ],
             [
              0.4444444444444444,
              "#bd3786"
             ],
             [
              0.5555555555555556,
              "#d8576b"
             ],
             [
              0.6666666666666666,
              "#ed7953"
             ],
             [
              0.7777777777777778,
              "#fb9f3a"
             ],
             [
              0.8888888888888888,
              "#fdca26"
             ],
             [
              1,
              "#f0f921"
             ]
            ],
            "type": "contour"
           }
          ],
          "contourcarpet": [
           {
            "colorbar": {
             "outlinewidth": 0,
             "ticks": ""
            },
            "type": "contourcarpet"
           }
          ],
          "heatmap": [
           {
            "colorbar": {
             "outlinewidth": 0,
             "ticks": ""
            },
            "colorscale": [
             [
              0,
              "#0d0887"
             ],
             [
              0.1111111111111111,
              "#46039f"
             ],
             [
              0.2222222222222222,
              "#7201a8"
             ],
             [
              0.3333333333333333,
              "#9c179e"
             ],
             [
              0.4444444444444444,
              "#bd3786"
             ],
             [
              0.5555555555555556,
              "#d8576b"
             ],
             [
              0.6666666666666666,
              "#ed7953"
             ],
             [
              0.7777777777777778,
              "#fb9f3a"
             ],
             [
              0.8888888888888888,
              "#fdca26"
             ],
             [
              1,
              "#f0f921"
             ]
            ],
            "type": "heatmap"
           }
          ],
          "heatmapgl": [
           {
            "colorbar": {
             "outlinewidth": 0,
             "ticks": ""
            },
            "colorscale": [
             [
              0,
              "#0d0887"
             ],
             [
              0.1111111111111111,
              "#46039f"
             ],
             [
              0.2222222222222222,
              "#7201a8"
             ],
             [
              0.3333333333333333,
              "#9c179e"
             ],
             [
              0.4444444444444444,
              "#bd3786"
             ],
             [
              0.5555555555555556,
              "#d8576b"
             ],
             [
              0.6666666666666666,
              "#ed7953"
             ],
             [
              0.7777777777777778,
              "#fb9f3a"
             ],
             [
              0.8888888888888888,
              "#fdca26"
             ],
             [
              1,
              "#f0f921"
             ]
            ],
            "type": "heatmapgl"
           }
          ],
          "histogram": [
           {
            "marker": {
             "pattern": {
              "fillmode": "overlay",
              "size": 10,
              "solidity": 0.2
             }
            },
            "type": "histogram"
           }
          ],
          "histogram2d": [
           {
            "colorbar": {
             "outlinewidth": 0,
             "ticks": ""
            },
            "colorscale": [
             [
              0,
              "#0d0887"
             ],
             [
              0.1111111111111111,
              "#46039f"
             ],
             [
              0.2222222222222222,
              "#7201a8"
             ],
             [
              0.3333333333333333,
              "#9c179e"
             ],
             [
              0.4444444444444444,
              "#bd3786"
             ],
             [
              0.5555555555555556,
              "#d8576b"
             ],
             [
              0.6666666666666666,
              "#ed7953"
             ],
             [
              0.7777777777777778,
              "#fb9f3a"
             ],
             [
              0.8888888888888888,
              "#fdca26"
             ],
             [
              1,
              "#f0f921"
             ]
            ],
            "type": "histogram2d"
           }
          ],
          "histogram2dcontour": [
           {
            "colorbar": {
             "outlinewidth": 0,
             "ticks": ""
            },
            "colorscale": [
             [
              0,
              "#0d0887"
             ],
             [
              0.1111111111111111,
              "#46039f"
             ],
             [
              0.2222222222222222,
              "#7201a8"
             ],
             [
              0.3333333333333333,
              "#9c179e"
             ],
             [
              0.4444444444444444,
              "#bd3786"
             ],
             [
              0.5555555555555556,
              "#d8576b"
             ],
             [
              0.6666666666666666,
              "#ed7953"
             ],
             [
              0.7777777777777778,
              "#fb9f3a"
             ],
             [
              0.8888888888888888,
              "#fdca26"
             ],
             [
              1,
              "#f0f921"
             ]
            ],
            "type": "histogram2dcontour"
           }
          ],
          "mesh3d": [
           {
            "colorbar": {
             "outlinewidth": 0,
             "ticks": ""
            },
            "type": "mesh3d"
           }
          ],
          "parcoords": [
           {
            "line": {
             "colorbar": {
              "outlinewidth": 0,
              "ticks": ""
             }
            },
            "type": "parcoords"
           }
          ],
          "pie": [
           {
            "automargin": true,
            "type": "pie"
           }
          ],
          "scatter": [
           {
            "fillpattern": {
             "fillmode": "overlay",
             "size": 10,
             "solidity": 0.2
            },
            "type": "scatter"
           }
          ],
          "scatter3d": [
           {
            "line": {
             "colorbar": {
              "outlinewidth": 0,
              "ticks": ""
             }
            },
            "marker": {
             "colorbar": {
              "outlinewidth": 0,
              "ticks": ""
             }
            },
            "type": "scatter3d"
           }
          ],
          "scattercarpet": [
           {
            "marker": {
             "colorbar": {
              "outlinewidth": 0,
              "ticks": ""
             }
            },
            "type": "scattercarpet"
           }
          ],
          "scattergeo": [
           {
            "marker": {
             "colorbar": {
              "outlinewidth": 0,
              "ticks": ""
             }
            },
            "type": "scattergeo"
           }
          ],
          "scattergl": [
           {
            "marker": {
             "colorbar": {
              "outlinewidth": 0,
              "ticks": ""
             }
            },
            "type": "scattergl"
           }
          ],
          "scattermapbox": [
           {
            "marker": {
             "colorbar": {
              "outlinewidth": 0,
              "ticks": ""
             }
            },
            "type": "scattermapbox"
           }
          ],
          "scatterpolar": [
           {
            "marker": {
             "colorbar": {
              "outlinewidth": 0,
              "ticks": ""
             }
            },
            "type": "scatterpolar"
           }
          ],
          "scatterpolargl": [
           {
            "marker": {
             "colorbar": {
              "outlinewidth": 0,
              "ticks": ""
             }
            },
            "type": "scatterpolargl"
           }
          ],
          "scatterternary": [
           {
            "marker": {
             "colorbar": {
              "outlinewidth": 0,
              "ticks": ""
             }
            },
            "type": "scatterternary"
           }
          ],
          "surface": [
           {
            "colorbar": {
             "outlinewidth": 0,
             "ticks": ""
            },
            "colorscale": [
             [
              0,
              "#0d0887"
             ],
             [
              0.1111111111111111,
              "#46039f"
             ],
             [
              0.2222222222222222,
              "#7201a8"
             ],
             [
              0.3333333333333333,
              "#9c179e"
             ],
             [
              0.4444444444444444,
              "#bd3786"
             ],
             [
              0.5555555555555556,
              "#d8576b"
             ],
             [
              0.6666666666666666,
              "#ed7953"
             ],
             [
              0.7777777777777778,
              "#fb9f3a"
             ],
             [
              0.8888888888888888,
              "#fdca26"
             ],
             [
              1,
              "#f0f921"
             ]
            ],
            "type": "surface"
           }
          ],
          "table": [
           {
            "cells": {
             "fill": {
              "color": "#EBF0F8"
             },
             "line": {
              "color": "white"
             }
            },
            "header": {
             "fill": {
              "color": "#C8D4E3"
             },
             "line": {
              "color": "white"
             }
            },
            "type": "table"
           }
          ]
         },
         "layout": {
          "annotationdefaults": {
           "arrowcolor": "#2a3f5f",
           "arrowhead": 0,
           "arrowwidth": 1
          },
          "autotypenumbers": "strict",
          "coloraxis": {
           "colorbar": {
            "outlinewidth": 0,
            "ticks": ""
           }
          },
          "colorscale": {
           "diverging": [
            [
             0,
             "#8e0152"
            ],
            [
             0.1,
             "#c51b7d"
            ],
            [
             0.2,
             "#de77ae"
            ],
            [
             0.3,
             "#f1b6da"
            ],
            [
             0.4,
             "#fde0ef"
            ],
            [
             0.5,
             "#f7f7f7"
            ],
            [
             0.6,
             "#e6f5d0"
            ],
            [
             0.7,
             "#b8e186"
            ],
            [
             0.8,
             "#7fbc41"
            ],
            [
             0.9,
             "#4d9221"
            ],
            [
             1,
             "#276419"
            ]
           ],
           "sequential": [
            [
             0,
             "#0d0887"
            ],
            [
             0.1111111111111111,
             "#46039f"
            ],
            [
             0.2222222222222222,
             "#7201a8"
            ],
            [
             0.3333333333333333,
             "#9c179e"
            ],
            [
             0.4444444444444444,
             "#bd3786"
            ],
            [
             0.5555555555555556,
             "#d8576b"
            ],
            [
             0.6666666666666666,
             "#ed7953"
            ],
            [
             0.7777777777777778,
             "#fb9f3a"
            ],
            [
             0.8888888888888888,
             "#fdca26"
            ],
            [
             1,
             "#f0f921"
            ]
           ],
           "sequentialminus": [
            [
             0,
             "#0d0887"
            ],
            [
             0.1111111111111111,
             "#46039f"
            ],
            [
             0.2222222222222222,
             "#7201a8"
            ],
            [
             0.3333333333333333,
             "#9c179e"
            ],
            [
             0.4444444444444444,
             "#bd3786"
            ],
            [
             0.5555555555555556,
             "#d8576b"
            ],
            [
             0.6666666666666666,
             "#ed7953"
            ],
            [
             0.7777777777777778,
             "#fb9f3a"
            ],
            [
             0.8888888888888888,
             "#fdca26"
            ],
            [
             1,
             "#f0f921"
            ]
           ]
          },
          "colorway": [
           "#636efa",
           "#EF553B",
           "#00cc96",
           "#ab63fa",
           "#FFA15A",
           "#19d3f3",
           "#FF6692",
           "#B6E880",
           "#FF97FF",
           "#FECB52"
          ],
          "font": {
           "color": "#2a3f5f"
          },
          "geo": {
           "bgcolor": "white",
           "lakecolor": "white",
           "landcolor": "#E5ECF6",
           "showlakes": true,
           "showland": true,
           "subunitcolor": "white"
          },
          "hoverlabel": {
           "align": "left"
          },
          "hovermode": "closest",
          "mapbox": {
           "style": "light"
          },
          "paper_bgcolor": "white",
          "plot_bgcolor": "#E5ECF6",
          "polar": {
           "angularaxis": {
            "gridcolor": "white",
            "linecolor": "white",
            "ticks": ""
           },
           "bgcolor": "#E5ECF6",
           "radialaxis": {
            "gridcolor": "white",
            "linecolor": "white",
            "ticks": ""
           }
          },
          "scene": {
           "xaxis": {
            "backgroundcolor": "#E5ECF6",
            "gridcolor": "white",
            "gridwidth": 2,
            "linecolor": "white",
            "showbackground": true,
            "ticks": "",
            "zerolinecolor": "white"
           },
           "yaxis": {
            "backgroundcolor": "#E5ECF6",
            "gridcolor": "white",
            "gridwidth": 2,
            "linecolor": "white",
            "showbackground": true,
            "ticks": "",
            "zerolinecolor": "white"
           },
           "zaxis": {
            "backgroundcolor": "#E5ECF6",
            "gridcolor": "white",
            "gridwidth": 2,
            "linecolor": "white",
            "showbackground": true,
            "ticks": "",
            "zerolinecolor": "white"
           }
          },
          "shapedefaults": {
           "line": {
            "color": "#2a3f5f"
           }
          },
          "ternary": {
           "aaxis": {
            "gridcolor": "white",
            "linecolor": "white",
            "ticks": ""
           },
           "baxis": {
            "gridcolor": "white",
            "linecolor": "white",
            "ticks": ""
           },
           "bgcolor": "#E5ECF6",
           "caxis": {
            "gridcolor": "white",
            "linecolor": "white",
            "ticks": ""
           }
          },
          "title": {
           "x": 0.05
          },
          "xaxis": {
           "automargin": true,
           "gridcolor": "white",
           "linecolor": "white",
           "ticks": "",
           "title": {
            "standoff": 15
           },
           "zerolinecolor": "white",
           "zerolinewidth": 2
          },
          "yaxis": {
           "automargin": true,
           "gridcolor": "white",
           "linecolor": "white",
           "ticks": "",
           "title": {
            "standoff": 15
           },
           "zerolinecolor": "white",
           "zerolinewidth": 2
          }
         }
        },
        "title": {
         "text": "Зависимость количества итераций обучения от коэффициента сжатия"
        },
        "width": 1280,
        "xaxis": {
         "title": {
          "text": "Коэффициент сжатия"
         }
        },
        "yaxis": {
         "title": {
          "text": "Количество итераций обучения"
         }
        }
       }
      }
     },
     "metadata": {},
     "output_type": "display_data"
    }
   ],
   "source": [
    "p_s = (6, 8, 10, 12, 14, 16, 18, 20)\n",
    "epochs_amount: list[int] = []\n",
    "compression_rates: list[float] = []\n",
    "for p in p_s:    \n",
    "    dl = LRNN(n, p, 0.001)\n",
    "    dl.train(train, 15000, learn_by_loss=True, max_loss=1900)\n",
    "    epochs_amount.append(dl.epoch)\n",
    "\n",
    "    compressed = compress_image(dl.W_enc, img_array, COLOR_CHANNELS_AMOUNT, block_height, block_width, 0)\n",
    "    compression_info_size = (\n",
    "        compressed.size * compressed.itemsize +\n",
    "        network.W_dec.size * network.W_dec.itemsize +\n",
    "        np.array(shape).size * np.array(shape).itemsize +\n",
    "        np.array((block_height, block_width)).size * np.array((block_height, block_width)).itemsize \n",
    "    ) * 8\n",
    "    compression_rates.append((img_array.size * img_array.itemsize * 8) / compression_info_size)\n",
    "\n",
    "fig = go.Figure()\n",
    "fig.add_trace(go.Scatter(x=compression_rates, y=epochs_amount, mode='lines+markers'))\n",
    "fig.update_layout(title='Зависимость количества итераций обучения от коэффициента сжатия',\n",
    "                  xaxis_title='Коэффициент сжатия',\n",
    "                  yaxis_title='Количество итераций обучения',\n",
    "                  height=720, width=1280,\n",
    "                  font=dict(size=20))\n",
    "fig.show()"
   ]
  },
  {
   "cell_type": "markdown",
   "metadata": {},
   "source": [
    "## Relationship between max error and epochs"
   ]
  },
  {
   "cell_type": "code",
   "execution_count": 7,
   "metadata": {},
   "outputs": [
    {
     "name": "stdout",
     "output_type": "stream",
     "text": [
      "Epoch 1/15000, Loss: 3608.5295137487674\n",
      "Epoch 2/15000, Loss: 2831.393091860828\n",
      "Epoch 3/15000, Loss: 2445.6501975708384\n",
      "Epoch 4/15000, Loss: 2189.610198404653\n",
      "Epoch 5/15000, Loss: 1998.6628733036143\n",
      "Epoch 6/15000, Loss: 1848.2073201360467\n",
      "Epoch 7/15000, Loss: 1725.5423209058497\n",
      "Epoch 8/15000, Loss: 1622.932632454669\n",
      "Epoch 9/15000, Loss: 1535.3224302796764\n",
      "Epoch 10/15000, Loss: 1459.2878391907122\n",
      "Epoch 11/15000, Loss: 1392.441537270086\n",
      "Epoch 12/15000, Loss: 1333.0674984326404\n",
      "Epoch 13/15000, Loss: 1279.8916112472994\n",
      "Epoch 14/15000, Loss: 1231.9380246764856\n",
      "Epoch 15/15000, Loss: 1188.438881413529\n",
      "Epoch 16/15000, Loss: 1148.7746636150202\n",
      "Epoch 17/15000, Loss: 1112.4373567813095\n",
      "Epoch 18/15000, Loss: 1079.0040914921021\n",
      "Epoch 19/15000, Loss: 1048.119227521827\n",
      "Epoch 20/15000, Loss: 1019.4815013460297\n",
      "Epoch 21/15000, Loss: 992.8345561082967\n",
      "Epoch 1/15000, Loss: 3583.3355312164113\n",
      "Epoch 2/15000, Loss: 2867.169389640843\n",
      "Epoch 3/15000, Loss: 2487.345383609904\n",
      "Epoch 4/15000, Loss: 2226.383468627047\n",
      "Epoch 5/15000, Loss: 2027.867524615864\n",
      "Epoch 6/15000, Loss: 1870.1436867408715\n",
      "Epoch 7/15000, Loss: 1741.599021072064\n",
      "Epoch 8/15000, Loss: 1634.5203108307373\n",
      "Epoch 9/15000, Loss: 1543.4635330374704\n",
      "Epoch 10/15000, Loss: 1464.6114676120128\n",
      "Epoch 11/15000, Loss: 1395.3147213544019\n",
      "Epoch 12/15000, Loss: 1333.7196816998376\n",
      "Epoch 13/15000, Loss: 1278.4971883052424\n",
      "Epoch 14/15000, Loss: 1228.6594091651252\n",
      "Epoch 15/15000, Loss: 1183.4453089842123\n",
      "Epoch 16/15000, Loss: 1142.2472932622236\n",
      "Epoch 17/15000, Loss: 1104.5659289840373\n",
      "Epoch 18/15000, Loss: 1069.9820081845107\n",
      "Epoch 1/15000, Loss: 3598.615853639669\n",
      "Epoch 2/15000, Loss: 2761.4520173839323\n",
      "Epoch 3/15000, Loss: 2364.130677914449\n",
      "Epoch 4/15000, Loss: 2103.8049649919676\n",
      "Epoch 5/15000, Loss: 1914.3974445251874\n",
      "Epoch 6/15000, Loss: 1769.0338972573168\n",
      "Epoch 7/15000, Loss: 1652.8029300879064\n",
      "Epoch 8/15000, Loss: 1556.6147300059913\n",
      "Epoch 9/15000, Loss: 1474.813978523116\n",
      "Epoch 10/15000, Loss: 1403.808228735093\n",
      "Epoch 11/15000, Loss: 1341.2269936249002\n",
      "Epoch 12/15000, Loss: 1285.4306555979906\n",
      "Epoch 13/15000, Loss: 1235.2321328016292\n",
      "Epoch 14/15000, Loss: 1189.7383858375133\n",
      "Epoch 1/15000, Loss: 3588.1706302043135\n",
      "Epoch 2/15000, Loss: 2797.345401893106\n",
      "Epoch 3/15000, Loss: 2402.757114215831\n",
      "Epoch 4/15000, Loss: 2134.0750532593147\n",
      "Epoch 5/15000, Loss: 1932.4075457927943\n",
      "Epoch 6/15000, Loss: 1775.0000442227906\n",
      "Epoch 7/15000, Loss: 1649.1565346799537\n",
      "Epoch 8/15000, Loss: 1546.3129251731666\n",
      "Epoch 9/15000, Loss: 1460.418969305097\n",
      "Epoch 10/15000, Loss: 1387.2275190073794\n",
      "Epoch 11/15000, Loss: 1323.7729170957723\n",
      "Epoch 12/15000, Loss: 1267.9655777961136\n",
      "Epoch 1/15000, Loss: 3605.832600956421\n",
      "Epoch 2/15000, Loss: 2895.5432033150173\n",
      "Epoch 3/15000, Loss: 2517.893715247306\n",
      "Epoch 4/15000, Loss: 2259.285603222969\n",
      "Epoch 5/15000, Loss: 2063.257223281905\n",
      "Epoch 6/15000, Loss: 1907.60883469483\n",
      "Epoch 7/15000, Loss: 1780.5493622803647\n",
      "Epoch 8/15000, Loss: 1674.4526957845624\n",
      "Epoch 9/15000, Loss: 1584.0313475327407\n",
      "Epoch 10/15000, Loss: 1505.6014050492854\n",
      "Epoch 11/15000, Loss: 1436.6028305851842\n",
      "Epoch 12/15000, Loss: 1375.2344624301138\n",
      "Epoch 1/15000, Loss: 3492.5482917530753\n",
      "Epoch 2/15000, Loss: 2831.0288569650197\n",
      "Epoch 3/15000, Loss: 2470.370170313738\n",
      "Epoch 4/15000, Loss: 2218.948386894153\n",
      "Epoch 5/15000, Loss: 2027.5867917419737\n",
      "Epoch 6/15000, Loss: 1875.9634567978633\n",
      "Epoch 7/15000, Loss: 1752.6855917722826\n",
      "Epoch 8/15000, Loss: 1650.138021635168\n",
      "Epoch 9/15000, Loss: 1562.9777547229266\n",
      "Epoch 10/15000, Loss: 1487.4816565640283\n",
      "Epoch 1/15000, Loss: 3527.6903444655477\n",
      "Epoch 2/15000, Loss: 2792.2662038816025\n",
      "Epoch 3/15000, Loss: 2415.5929082758153\n",
      "Epoch 4/15000, Loss: 2165.602405898173\n",
      "Epoch 5/15000, Loss: 1978.8165085323017\n",
      "Epoch 6/15000, Loss: 1830.8156776156263\n",
      "Epoch 7/15000, Loss: 1709.5321655838238\n",
      "Epoch 8/15000, Loss: 1607.7822992646\n",
      "Epoch 9/15000, Loss: 1520.824522792828\n",
      "Epoch 1/15000, Loss: 3638.081782570329\n",
      "Epoch 2/15000, Loss: 2832.5067400515213\n",
      "Epoch 3/15000, Loss: 2433.554794240987\n",
      "Epoch 4/15000, Loss: 2166.345453649291\n",
      "Epoch 5/15000, Loss: 1967.6258774196838\n",
      "Epoch 6/15000, Loss: 1812.793437894795\n",
      "Epoch 7/15000, Loss: 1688.4965466239646\n",
      "Epoch 1/15000, Loss: 3661.321777742747\n",
      "Epoch 2/15000, Loss: 2932.318411210979\n",
      "Epoch 3/15000, Loss: 2532.0384220525916\n",
      "Epoch 4/15000, Loss: 2256.61870556923\n",
      "Epoch 5/15000, Loss: 2048.2046603903946\n",
      "Epoch 6/15000, Loss: 1883.666137872547\n",
      "Epoch 7/15000, Loss: 1750.6779738090409\n",
      "Epoch 1/15000, Loss: 3493.1690988516925\n",
      "Epoch 2/15000, Loss: 2693.262384189567\n",
      "Epoch 3/15000, Loss: 2323.6968620156695\n",
      "Epoch 4/15000, Loss: 2083.239367560022\n",
      "Epoch 5/15000, Loss: 1906.5588547388097\n",
      "Epoch 6/15000, Loss: 1768.347218586397\n",
      "Epoch 1/15000, Loss: 3550.697236095209\n",
      "Epoch 2/15000, Loss: 2811.0693180155163\n",
      "Epoch 3/15000, Loss: 2436.014454923854\n",
      "Epoch 4/15000, Loss: 2188.7113744486865\n",
      "Epoch 5/15000, Loss: 2005.5164470146253\n",
      "Epoch 6/15000, Loss: 1860.7060564440364\n",
      "Epoch 1/15000, Loss: 3626.2451380712687\n",
      "Epoch 2/15000, Loss: 2860.603014364808\n",
      "Epoch 3/15000, Loss: 2463.321964311378\n",
      "Epoch 4/15000, Loss: 2197.1187994761704\n",
      "Epoch 5/15000, Loss: 1999.1109966086908\n",
      "Epoch 1/15000, Loss: 3558.463441589324\n",
      "Epoch 2/15000, Loss: 2833.7653446859435\n",
      "Epoch 3/15000, Loss: 2440.869816146495\n",
      "Epoch 4/15000, Loss: 2174.4981334989643\n",
      "Epoch 1/15000, Loss: 3490.1056866664167\n",
      "Epoch 2/15000, Loss: 2740.5055509793606\n",
      "Epoch 3/15000, Loss: 2358.0964942747078\n",
      "Epoch 4/15000, Loss: 2106.3070698004212\n",
      "Epoch 1/15000, Loss: 3720.340107935376\n",
      "Epoch 2/15000, Loss: 2886.8028175151494\n",
      "Epoch 3/15000, Loss: 2477.9182882851164\n",
      "Epoch 4/15000, Loss: 2202.6953232361366\n",
      "Epoch 1/15000, Loss: 3669.494219057523\n",
      "Epoch 2/15000, Loss: 2843.1255014841668\n",
      "Epoch 3/15000, Loss: 2436.891976132797\n",
      "Epoch 1/15000, Loss: 3558.0123780564527\n",
      "Epoch 2/15000, Loss: 2838.636889374858\n",
      "Epoch 3/15000, Loss: 2452.138171913298\n",
      "Epoch 1/15000, Loss: 3442.949619695814\n",
      "Epoch 2/15000, Loss: 2690.4229727660463\n",
      "Epoch 1/15000, Loss: 3703.8382231190544\n",
      "Epoch 2/15000, Loss: 2780.328492152573\n",
      "Epoch 1/15000, Loss: 3699.3654338711403\n",
      "Epoch 2/15000, Loss: 2919.6627106446035\n",
      "Epoch 3/15000, Loss: 2514.726247545401\n"
     ]
    },
    {
     "data": {
      "application/vnd.plotly.v1+json": {
       "config": {
        "plotlyServerURL": "https://plot.ly"
       },
       "data": [
        {
         "mode": "lines+markers",
         "type": "scatter",
         "x": [
          1000,
          1100,
          1200,
          1300,
          1400,
          1500,
          1600,
          1700,
          1800,
          1900,
          2000,
          2100,
          2200,
          2300,
          2400,
          2500,
          2600,
          2700,
          2800,
          2900
         ],
         "y": [
          21,
          18,
          14,
          12,
          12,
          10,
          9,
          7,
          7,
          6,
          6,
          5,
          4,
          4,
          4,
          3,
          3,
          2,
          2,
          3
         ]
        }
       ],
       "layout": {
        "font": {
         "size": 20
        },
        "height": 720,
        "template": {
         "data": {
          "bar": [
           {
            "error_x": {
             "color": "#2a3f5f"
            },
            "error_y": {
             "color": "#2a3f5f"
            },
            "marker": {
             "line": {
              "color": "#E5ECF6",
              "width": 0.5
             },
             "pattern": {
              "fillmode": "overlay",
              "size": 10,
              "solidity": 0.2
             }
            },
            "type": "bar"
           }
          ],
          "barpolar": [
           {
            "marker": {
             "line": {
              "color": "#E5ECF6",
              "width": 0.5
             },
             "pattern": {
              "fillmode": "overlay",
              "size": 10,
              "solidity": 0.2
             }
            },
            "type": "barpolar"
           }
          ],
          "carpet": [
           {
            "aaxis": {
             "endlinecolor": "#2a3f5f",
             "gridcolor": "white",
             "linecolor": "white",
             "minorgridcolor": "white",
             "startlinecolor": "#2a3f5f"
            },
            "baxis": {
             "endlinecolor": "#2a3f5f",
             "gridcolor": "white",
             "linecolor": "white",
             "minorgridcolor": "white",
             "startlinecolor": "#2a3f5f"
            },
            "type": "carpet"
           }
          ],
          "choropleth": [
           {
            "colorbar": {
             "outlinewidth": 0,
             "ticks": ""
            },
            "type": "choropleth"
           }
          ],
          "contour": [
           {
            "colorbar": {
             "outlinewidth": 0,
             "ticks": ""
            },
            "colorscale": [
             [
              0,
              "#0d0887"
             ],
             [
              0.1111111111111111,
              "#46039f"
             ],
             [
              0.2222222222222222,
              "#7201a8"
             ],
             [
              0.3333333333333333,
              "#9c179e"
             ],
             [
              0.4444444444444444,
              "#bd3786"
             ],
             [
              0.5555555555555556,
              "#d8576b"
             ],
             [
              0.6666666666666666,
              "#ed7953"
             ],
             [
              0.7777777777777778,
              "#fb9f3a"
             ],
             [
              0.8888888888888888,
              "#fdca26"
             ],
             [
              1,
              "#f0f921"
             ]
            ],
            "type": "contour"
           }
          ],
          "contourcarpet": [
           {
            "colorbar": {
             "outlinewidth": 0,
             "ticks": ""
            },
            "type": "contourcarpet"
           }
          ],
          "heatmap": [
           {
            "colorbar": {
             "outlinewidth": 0,
             "ticks": ""
            },
            "colorscale": [
             [
              0,
              "#0d0887"
             ],
             [
              0.1111111111111111,
              "#46039f"
             ],
             [
              0.2222222222222222,
              "#7201a8"
             ],
             [
              0.3333333333333333,
              "#9c179e"
             ],
             [
              0.4444444444444444,
              "#bd3786"
             ],
             [
              0.5555555555555556,
              "#d8576b"
             ],
             [
              0.6666666666666666,
              "#ed7953"
             ],
             [
              0.7777777777777778,
              "#fb9f3a"
             ],
             [
              0.8888888888888888,
              "#fdca26"
             ],
             [
              1,
              "#f0f921"
             ]
            ],
            "type": "heatmap"
           }
          ],
          "heatmapgl": [
           {
            "colorbar": {
             "outlinewidth": 0,
             "ticks": ""
            },
            "colorscale": [
             [
              0,
              "#0d0887"
             ],
             [
              0.1111111111111111,
              "#46039f"
             ],
             [
              0.2222222222222222,
              "#7201a8"
             ],
             [
              0.3333333333333333,
              "#9c179e"
             ],
             [
              0.4444444444444444,
              "#bd3786"
             ],
             [
              0.5555555555555556,
              "#d8576b"
             ],
             [
              0.6666666666666666,
              "#ed7953"
             ],
             [
              0.7777777777777778,
              "#fb9f3a"
             ],
             [
              0.8888888888888888,
              "#fdca26"
             ],
             [
              1,
              "#f0f921"
             ]
            ],
            "type": "heatmapgl"
           }
          ],
          "histogram": [
           {
            "marker": {
             "pattern": {
              "fillmode": "overlay",
              "size": 10,
              "solidity": 0.2
             }
            },
            "type": "histogram"
           }
          ],
          "histogram2d": [
           {
            "colorbar": {
             "outlinewidth": 0,
             "ticks": ""
            },
            "colorscale": [
             [
              0,
              "#0d0887"
             ],
             [
              0.1111111111111111,
              "#46039f"
             ],
             [
              0.2222222222222222,
              "#7201a8"
             ],
             [
              0.3333333333333333,
              "#9c179e"
             ],
             [
              0.4444444444444444,
              "#bd3786"
             ],
             [
              0.5555555555555556,
              "#d8576b"
             ],
             [
              0.6666666666666666,
              "#ed7953"
             ],
             [
              0.7777777777777778,
              "#fb9f3a"
             ],
             [
              0.8888888888888888,
              "#fdca26"
             ],
             [
              1,
              "#f0f921"
             ]
            ],
            "type": "histogram2d"
           }
          ],
          "histogram2dcontour": [
           {
            "colorbar": {
             "outlinewidth": 0,
             "ticks": ""
            },
            "colorscale": [
             [
              0,
              "#0d0887"
             ],
             [
              0.1111111111111111,
              "#46039f"
             ],
             [
              0.2222222222222222,
              "#7201a8"
             ],
             [
              0.3333333333333333,
              "#9c179e"
             ],
             [
              0.4444444444444444,
              "#bd3786"
             ],
             [
              0.5555555555555556,
              "#d8576b"
             ],
             [
              0.6666666666666666,
              "#ed7953"
             ],
             [
              0.7777777777777778,
              "#fb9f3a"
             ],
             [
              0.8888888888888888,
              "#fdca26"
             ],
             [
              1,
              "#f0f921"
             ]
            ],
            "type": "histogram2dcontour"
           }
          ],
          "mesh3d": [
           {
            "colorbar": {
             "outlinewidth": 0,
             "ticks": ""
            },
            "type": "mesh3d"
           }
          ],
          "parcoords": [
           {
            "line": {
             "colorbar": {
              "outlinewidth": 0,
              "ticks": ""
             }
            },
            "type": "parcoords"
           }
          ],
          "pie": [
           {
            "automargin": true,
            "type": "pie"
           }
          ],
          "scatter": [
           {
            "fillpattern": {
             "fillmode": "overlay",
             "size": 10,
             "solidity": 0.2
            },
            "type": "scatter"
           }
          ],
          "scatter3d": [
           {
            "line": {
             "colorbar": {
              "outlinewidth": 0,
              "ticks": ""
             }
            },
            "marker": {
             "colorbar": {
              "outlinewidth": 0,
              "ticks": ""
             }
            },
            "type": "scatter3d"
           }
          ],
          "scattercarpet": [
           {
            "marker": {
             "colorbar": {
              "outlinewidth": 0,
              "ticks": ""
             }
            },
            "type": "scattercarpet"
           }
          ],
          "scattergeo": [
           {
            "marker": {
             "colorbar": {
              "outlinewidth": 0,
              "ticks": ""
             }
            },
            "type": "scattergeo"
           }
          ],
          "scattergl": [
           {
            "marker": {
             "colorbar": {
              "outlinewidth": 0,
              "ticks": ""
             }
            },
            "type": "scattergl"
           }
          ],
          "scattermapbox": [
           {
            "marker": {
             "colorbar": {
              "outlinewidth": 0,
              "ticks": ""
             }
            },
            "type": "scattermapbox"
           }
          ],
          "scatterpolar": [
           {
            "marker": {
             "colorbar": {
              "outlinewidth": 0,
              "ticks": ""
             }
            },
            "type": "scatterpolar"
           }
          ],
          "scatterpolargl": [
           {
            "marker": {
             "colorbar": {
              "outlinewidth": 0,
              "ticks": ""
             }
            },
            "type": "scatterpolargl"
           }
          ],
          "scatterternary": [
           {
            "marker": {
             "colorbar": {
              "outlinewidth": 0,
              "ticks": ""
             }
            },
            "type": "scatterternary"
           }
          ],
          "surface": [
           {
            "colorbar": {
             "outlinewidth": 0,
             "ticks": ""
            },
            "colorscale": [
             [
              0,
              "#0d0887"
             ],
             [
              0.1111111111111111,
              "#46039f"
             ],
             [
              0.2222222222222222,
              "#7201a8"
             ],
             [
              0.3333333333333333,
              "#9c179e"
             ],
             [
              0.4444444444444444,
              "#bd3786"
             ],
             [
              0.5555555555555556,
              "#d8576b"
             ],
             [
              0.6666666666666666,
              "#ed7953"
             ],
             [
              0.7777777777777778,
              "#fb9f3a"
             ],
             [
              0.8888888888888888,
              "#fdca26"
             ],
             [
              1,
              "#f0f921"
             ]
            ],
            "type": "surface"
           }
          ],
          "table": [
           {
            "cells": {
             "fill": {
              "color": "#EBF0F8"
             },
             "line": {
              "color": "white"
             }
            },
            "header": {
             "fill": {
              "color": "#C8D4E3"
             },
             "line": {
              "color": "white"
             }
            },
            "type": "table"
           }
          ]
         },
         "layout": {
          "annotationdefaults": {
           "arrowcolor": "#2a3f5f",
           "arrowhead": 0,
           "arrowwidth": 1
          },
          "autotypenumbers": "strict",
          "coloraxis": {
           "colorbar": {
            "outlinewidth": 0,
            "ticks": ""
           }
          },
          "colorscale": {
           "diverging": [
            [
             0,
             "#8e0152"
            ],
            [
             0.1,
             "#c51b7d"
            ],
            [
             0.2,
             "#de77ae"
            ],
            [
             0.3,
             "#f1b6da"
            ],
            [
             0.4,
             "#fde0ef"
            ],
            [
             0.5,
             "#f7f7f7"
            ],
            [
             0.6,
             "#e6f5d0"
            ],
            [
             0.7,
             "#b8e186"
            ],
            [
             0.8,
             "#7fbc41"
            ],
            [
             0.9,
             "#4d9221"
            ],
            [
             1,
             "#276419"
            ]
           ],
           "sequential": [
            [
             0,
             "#0d0887"
            ],
            [
             0.1111111111111111,
             "#46039f"
            ],
            [
             0.2222222222222222,
             "#7201a8"
            ],
            [
             0.3333333333333333,
             "#9c179e"
            ],
            [
             0.4444444444444444,
             "#bd3786"
            ],
            [
             0.5555555555555556,
             "#d8576b"
            ],
            [
             0.6666666666666666,
             "#ed7953"
            ],
            [
             0.7777777777777778,
             "#fb9f3a"
            ],
            [
             0.8888888888888888,
             "#fdca26"
            ],
            [
             1,
             "#f0f921"
            ]
           ],
           "sequentialminus": [
            [
             0,
             "#0d0887"
            ],
            [
             0.1111111111111111,
             "#46039f"
            ],
            [
             0.2222222222222222,
             "#7201a8"
            ],
            [
             0.3333333333333333,
             "#9c179e"
            ],
            [
             0.4444444444444444,
             "#bd3786"
            ],
            [
             0.5555555555555556,
             "#d8576b"
            ],
            [
             0.6666666666666666,
             "#ed7953"
            ],
            [
             0.7777777777777778,
             "#fb9f3a"
            ],
            [
             0.8888888888888888,
             "#fdca26"
            ],
            [
             1,
             "#f0f921"
            ]
           ]
          },
          "colorway": [
           "#636efa",
           "#EF553B",
           "#00cc96",
           "#ab63fa",
           "#FFA15A",
           "#19d3f3",
           "#FF6692",
           "#B6E880",
           "#FF97FF",
           "#FECB52"
          ],
          "font": {
           "color": "#2a3f5f"
          },
          "geo": {
           "bgcolor": "white",
           "lakecolor": "white",
           "landcolor": "#E5ECF6",
           "showlakes": true,
           "showland": true,
           "subunitcolor": "white"
          },
          "hoverlabel": {
           "align": "left"
          },
          "hovermode": "closest",
          "mapbox": {
           "style": "light"
          },
          "paper_bgcolor": "white",
          "plot_bgcolor": "#E5ECF6",
          "polar": {
           "angularaxis": {
            "gridcolor": "white",
            "linecolor": "white",
            "ticks": ""
           },
           "bgcolor": "#E5ECF6",
           "radialaxis": {
            "gridcolor": "white",
            "linecolor": "white",
            "ticks": ""
           }
          },
          "scene": {
           "xaxis": {
            "backgroundcolor": "#E5ECF6",
            "gridcolor": "white",
            "gridwidth": 2,
            "linecolor": "white",
            "showbackground": true,
            "ticks": "",
            "zerolinecolor": "white"
           },
           "yaxis": {
            "backgroundcolor": "#E5ECF6",
            "gridcolor": "white",
            "gridwidth": 2,
            "linecolor": "white",
            "showbackground": true,
            "ticks": "",
            "zerolinecolor": "white"
           },
           "zaxis": {
            "backgroundcolor": "#E5ECF6",
            "gridcolor": "white",
            "gridwidth": 2,
            "linecolor": "white",
            "showbackground": true,
            "ticks": "",
            "zerolinecolor": "white"
           }
          },
          "shapedefaults": {
           "line": {
            "color": "#2a3f5f"
           }
          },
          "ternary": {
           "aaxis": {
            "gridcolor": "white",
            "linecolor": "white",
            "ticks": ""
           },
           "baxis": {
            "gridcolor": "white",
            "linecolor": "white",
            "ticks": ""
           },
           "bgcolor": "#E5ECF6",
           "caxis": {
            "gridcolor": "white",
            "linecolor": "white",
            "ticks": ""
           }
          },
          "title": {
           "x": 0.05
          },
          "xaxis": {
           "automargin": true,
           "gridcolor": "white",
           "linecolor": "white",
           "ticks": "",
           "title": {
            "standoff": 15
           },
           "zerolinecolor": "white",
           "zerolinewidth": 2
          },
          "yaxis": {
           "automargin": true,
           "gridcolor": "white",
           "linecolor": "white",
           "ticks": "",
           "title": {
            "standoff": 15
           },
           "zerolinecolor": "white",
           "zerolinewidth": 2
          }
         }
        },
        "title": {
         "text": "Зависимость количества итераций обучения от значения максимальной ошибки"
        },
        "width": 1280,
        "xaxis": {
         "title": {
          "text": "Значение максимальной ошибки"
         }
        },
        "yaxis": {
         "title": {
          "text": "Количество итераций обучения"
         }
        }
       }
      }
     },
     "metadata": {},
     "output_type": "display_data"
    }
   ],
   "source": [
    "max_errors = list(range(1000, 3000, 100))\n",
    "epochs_amount: list[int] = []\n",
    "for err in max_errors:    \n",
    "    dl = LRNN(n, 50, 0.001)\n",
    "    dl.train(train, 15000, learn_by_loss=True, max_loss=err)\n",
    "    epochs_amount.append(dl.epoch)\n",
    "fig = go.Figure()\n",
    "fig.add_trace(go.Scatter(x=max_errors, y=epochs_amount, mode='lines+markers'))\n",
    "fig.update_layout(title='Зависимость количества итераций обучения от значения максимальной ошибки',\n",
    "                  xaxis_title='Значение максимальной ошибки',\n",
    "                  yaxis_title='Количество итераций обучения',\n",
    "                  height=720, width=1280,\n",
    "                  font=dict(size=20))\n",
    "fig.show()"
   ]
  },
  {
   "cell_type": "code",
   "execution_count": 11,
   "metadata": {},
   "outputs": [
    {
     "name": "stdout",
     "output_type": "stream",
     "text": [
      "Epoch 1/15000, Loss: 3493.7574395306265\n",
      "Epoch 2/15000, Loss: 2697.4865621569\n",
      "Epoch 3/15000, Loss: 2320.797913272425\n",
      "Epoch 4/15000, Loss: 2074.832106966337\n",
      "Epoch 5/15000, Loss: 1893.4521413920934\n",
      "Epoch 6/15000, Loss: 1751.3487890587812\n",
      "Epoch 7/15000, Loss: 1635.7131651595937\n",
      "Epoch 8/15000, Loss: 1539.0031460460216\n",
      "Epoch 9/15000, Loss: 1456.396673967814\n",
      "Epoch 10/15000, Loss: 1384.6570469310827\n",
      "Epoch 11/15000, Loss: 1321.5320135913532\n",
      "Epoch 12/15000, Loss: 1265.4019829669153\n",
      "Epoch 13/15000, Loss: 1215.065685194818\n",
      "Epoch 14/15000, Loss: 1169.6069757893547\n",
      "Epoch 15/15000, Loss: 1128.3098428721848\n",
      "Epoch 16/15000, Loss: 1090.6031095339965\n",
      "Epoch 17/15000, Loss: 1056.022874586804\n",
      "Epoch 18/15000, Loss: 1024.186333218181\n",
      "Epoch 19/15000, Loss: 994.7728799494018\n",
      "Epoch 1/15000, Loss: 3549.5877717970125\n",
      "Epoch 2/15000, Loss: 2788.4220366964087\n",
      "Epoch 3/15000, Loss: 2392.6310774188473\n",
      "Epoch 4/15000, Loss: 2130.6339725360276\n",
      "Epoch 5/15000, Loss: 1938.3257600739353\n",
      "Epoch 6/15000, Loss: 1789.0166596812646\n",
      "Epoch 7/15000, Loss: 1668.4653045563527\n",
      "Epoch 8/15000, Loss: 1568.1583415659177\n",
      "Epoch 9/15000, Loss: 1482.7637010931269\n",
      "Epoch 10/15000, Loss: 1408.8181347073385\n",
      "Epoch 11/15000, Loss: 1343.96954715377\n",
      "Epoch 12/15000, Loss: 1286.539665137044\n",
      "Epoch 13/15000, Loss: 1235.2737589292985\n",
      "Epoch 14/15000, Loss: 1189.1978080031704\n",
      "Epoch 15/15000, Loss: 1147.5347690458186\n",
      "Epoch 16/15000, Loss: 1109.652693120703\n",
      "Epoch 17/15000, Loss: 1075.0315661199998\n",
      "Epoch 18/15000, Loss: 1043.238995904361\n",
      "Epoch 19/15000, Loss: 1013.9137280114977\n",
      "Epoch 20/15000, Loss: 986.7515170146678\n",
      "Epoch 1/15000, Loss: 3765.2789260686686\n",
      "Epoch 2/15000, Loss: 2932.8766282052957\n",
      "Epoch 3/15000, Loss: 2530.3008185823223\n",
      "Epoch 4/15000, Loss: 2261.392519659429\n",
      "Epoch 5/15000, Loss: 2059.4311626951726\n",
      "Epoch 6/15000, Loss: 1900.0701564791805\n",
      "Epoch 7/15000, Loss: 1770.726632299817\n",
      "Epoch 8/15000, Loss: 1663.28600162277\n",
      "Epoch 9/15000, Loss: 1572.150410082051\n",
      "Epoch 10/15000, Loss: 1493.4458191183726\n",
      "Epoch 11/15000, Loss: 1424.4785251070416\n",
      "Epoch 12/15000, Loss: 1363.3368420014453\n",
      "Epoch 13/15000, Loss: 1308.6208191506596\n",
      "Epoch 14/15000, Loss: 1259.272571715106\n",
      "Epoch 15/15000, Loss: 1214.4703398538218\n",
      "Epoch 16/15000, Loss: 1173.5629251778805\n",
      "Epoch 17/15000, Loss: 1136.0248313677191\n",
      "Epoch 18/15000, Loss: 1101.426865097741\n",
      "Epoch 19/15000, Loss: 1069.4137380537918\n",
      "Epoch 20/15000, Loss: 1039.6878756009169\n",
      "Epoch 21/15000, Loss: 1011.9979612840075\n",
      "Epoch 22/15000, Loss: 986.1295616603708\n",
      "Epoch 1/15000, Loss: 3501.655032211332\n",
      "Epoch 2/15000, Loss: 2780.220583706757\n",
      "Epoch 3/15000, Loss: 2425.3819895363745\n",
      "Epoch 4/15000, Loss: 2185.4497464563665\n",
      "Epoch 5/15000, Loss: 2002.5170726146396\n",
      "Epoch 6/15000, Loss: 1855.0328491943674\n",
      "Epoch 7/15000, Loss: 1732.512330679867\n",
      "Epoch 8/15000, Loss: 1628.7854977239697\n",
      "Epoch 9/15000, Loss: 1539.6955496812136\n",
      "Epoch 10/15000, Loss: 1462.2199679726134\n",
      "Epoch 11/15000, Loss: 1394.0883416519057\n",
      "Epoch 12/15000, Loss: 1333.574821524457\n",
      "Epoch 13/15000, Loss: 1279.359333871014\n",
      "Epoch 14/15000, Loss: 1230.4237926217934\n",
      "Epoch 15/15000, Loss: 1185.973039127973\n",
      "Epoch 16/15000, Loss: 1145.376174557246\n",
      "Epoch 17/15000, Loss: 1108.1239898365266\n",
      "Epoch 18/15000, Loss: 1073.7989648216599\n",
      "Epoch 19/15000, Loss: 1042.0533431057656\n",
      "Epoch 20/15000, Loss: 1012.594481929738\n",
      "Epoch 21/15000, Loss: 985.1733157349162\n",
      "Epoch 1/15000, Loss: 3433.929355495145\n",
      "Epoch 2/15000, Loss: 2691.524154896781\n",
      "Epoch 3/15000, Loss: 2324.533626868694\n",
      "Epoch 4/15000, Loss: 2079.152482572643\n",
      "Epoch 5/15000, Loss: 1898.7305422873094\n",
      "Epoch 6/15000, Loss: 1758.998086884579\n",
      "Epoch 7/15000, Loss: 1646.3049488429745\n",
      "Epoch 8/15000, Loss: 1552.3789381111976\n",
      "Epoch 9/15000, Loss: 1472.0812869140486\n",
      "Epoch 10/15000, Loss: 1402.1236443600344\n",
      "Epoch 11/15000, Loss: 1340.311694093709\n",
      "Epoch 12/15000, Loss: 1285.1099268754026\n",
      "Epoch 13/15000, Loss: 1235.3941686736568\n",
      "Epoch 14/15000, Loss: 1190.3103225098014\n",
      "Epoch 15/15000, Loss: 1149.189616918703\n",
      "Epoch 16/15000, Loss: 1111.4961760202743\n",
      "Epoch 17/15000, Loss: 1076.7932695254724\n",
      "Epoch 18/15000, Loss: 1044.7198655111426\n",
      "Epoch 19/15000, Loss: 1014.9738807785274\n",
      "Epoch 20/15000, Loss: 987.3003448587223\n",
      "Epoch 1/15000, Loss: 3502.6509148251907\n",
      "Epoch 2/15000, Loss: 2735.656473464041\n",
      "Epoch 3/15000, Loss: 2368.9079756087267\n",
      "Epoch 4/15000, Loss: 2125.014654154083\n",
      "Epoch 5/15000, Loss: 1944.3827969089411\n",
      "Epoch 6/15000, Loss: 1802.7655339423363\n",
      "Epoch 7/15000, Loss: 1687.2299721111065\n",
      "Epoch 8/15000, Loss: 1590.1494472338752\n",
      "Epoch 9/15000, Loss: 1506.7946095969996\n",
      "Epoch 10/15000, Loss: 1434.079101475541\n",
      "Epoch 11/15000, Loss: 1369.8647088449418\n",
      "Epoch 12/15000, Loss: 1312.5843451022713\n",
      "Epoch 13/15000, Loss: 1261.0429671474021\n",
      "Epoch 14/15000, Loss: 1214.3088359558799\n",
      "Epoch 15/15000, Loss: 1171.648520824648\n",
      "Epoch 16/15000, Loss: 1132.4805376521529\n",
      "Epoch 17/15000, Loss: 1096.340825335227\n",
      "Epoch 1/15000, Loss: 3612.1990414742995\n",
      "Epoch 2/15000, Loss: 2794.045153844935\n",
      "Epoch 3/15000, Loss: 2405.8969472166136\n",
      "Epoch 4/15000, Loss: 2147.9602131624806\n",
      "Epoch 5/15000, Loss: 1955.3401395585643\n",
      "Epoch 6/15000, Loss: 1803.7364334252368\n",
      "Epoch 7/15000, Loss: 1680.5903099519403\n",
      "Epoch 8/15000, Loss: 1578.1796452595352\n",
      "Epoch 9/15000, Loss: 1491.3765962828518\n",
      "Epoch 10/15000, Loss: 1416.6488714150855\n",
      "Epoch 11/15000, Loss: 1351.485298594552\n",
      "Epoch 12/15000, Loss: 1294.0392178018437\n",
      "Epoch 13/15000, Loss: 1242.9110156924503\n",
      "Epoch 14/15000, Loss: 1197.0155168976833\n",
      "Epoch 15/15000, Loss: 1155.4993371543437\n",
      "Epoch 16/15000, Loss: 1117.6837444276914\n",
      "Epoch 17/15000, Loss: 1083.0256851265763\n",
      "Epoch 1/15000, Loss: 3588.830368231846\n",
      "Epoch 2/15000, Loss: 2821.339905803674\n",
      "Epoch 3/15000, Loss: 2437.611009120792\n",
      "Epoch 4/15000, Loss: 2176.4175479290875\n",
      "Epoch 5/15000, Loss: 1980.84858165588\n",
      "Epoch 6/15000, Loss: 1828.3219804700116\n",
      "Epoch 7/15000, Loss: 1705.703469824674\n",
      "Epoch 8/15000, Loss: 1604.207641563152\n",
      "Epoch 9/15000, Loss: 1517.9461767226364\n",
      "Epoch 10/15000, Loss: 1443.064590024912\n",
      "Epoch 11/15000, Loss: 1377.0460325331428\n",
      "Epoch 12/15000, Loss: 1318.2023865148296\n",
      "Epoch 13/15000, Loss: 1265.3425589073906\n",
      "Epoch 14/15000, Loss: 1217.5748904426393\n",
      "Epoch 15/15000, Loss: 1174.1949440157068\n",
      "Epoch 16/15000, Loss: 1134.6250048537192\n",
      "Epoch 17/15000, Loss: 1098.3799749701752\n",
      "Epoch 1/15000, Loss: 3679.3754084672655\n",
      "Epoch 2/15000, Loss: 2879.278769531742\n",
      "Epoch 3/15000, Loss: 2491.275784029327\n",
      "Epoch 4/15000, Loss: 2221.7621006313598\n",
      "Epoch 5/15000, Loss: 2014.4610775363485\n",
      "Epoch 6/15000, Loss: 1849.007942334664\n",
      "Epoch 7/15000, Loss: 1714.3318661583912\n",
      "Epoch 8/15000, Loss: 1602.8443800171099\n",
      "Epoch 9/15000, Loss: 1508.9682018055876\n",
      "Epoch 10/15000, Loss: 1428.6280493239678\n",
      "Epoch 11/15000, Loss: 1358.884337781524\n",
      "Epoch 12/15000, Loss: 1297.6090255789293\n",
      "Epoch 13/15000, Loss: 1243.2315073685725\n",
      "Epoch 14/15000, Loss: 1194.5616226507113\n",
      "Epoch 15/15000, Loss: 1150.6743446506111\n",
      "Epoch 16/15000, Loss: 1110.8365888052942\n",
      "Epoch 17/15000, Loss: 1074.459273813779\n",
      "Epoch 1/15000, Loss: 3506.904365319014\n",
      "Epoch 2/15000, Loss: 2723.660960336828\n",
      "Epoch 3/15000, Loss: 2348.156950424728\n",
      "Epoch 4/15000, Loss: 2096.1710026246215\n",
      "Epoch 5/15000, Loss: 1906.819327910001\n",
      "Epoch 6/15000, Loss: 1757.878919040894\n",
      "Epoch 7/15000, Loss: 1637.5835310340508\n",
      "Epoch 8/15000, Loss: 1538.3311554579664\n",
      "Epoch 9/15000, Loss: 1454.8439109660012\n",
      "Epoch 10/15000, Loss: 1383.3755199919362\n",
      "Epoch 11/15000, Loss: 1321.2343154835708\n",
      "Epoch 12/15000, Loss: 1266.4619451122185\n",
      "Epoch 13/15000, Loss: 1217.615076193596\n",
      "Epoch 14/15000, Loss: 1173.617476594087\n",
      "Epoch 15/15000, Loss: 1133.6562839079425\n",
      "Epoch 16/15000, Loss: 1097.109668919445\n",
      "Epoch 1/15000, Loss: 3431.883116589877\n",
      "Epoch 2/15000, Loss: 2857.451387303937\n",
      "Epoch 3/15000, Loss: 2509.1802616764844\n",
      "Epoch 4/15000, Loss: 2255.010982593639\n",
      "Epoch 5/15000, Loss: 2056.0775125579194\n",
      "Epoch 6/15000, Loss: 1895.7060015831244\n",
      "Epoch 7/15000, Loss: 1764.2000096478491\n",
      "Epoch 8/15000, Loss: 1654.7497324558724\n",
      "Epoch 9/15000, Loss: 1562.28574585662\n",
      "Epoch 10/15000, Loss: 1483.0287299081872\n",
      "Epoch 11/15000, Loss: 1414.176441313881\n",
      "Epoch 12/15000, Loss: 1353.6434492933606\n",
      "Epoch 13/15000, Loss: 1299.862222815253\n",
      "Epoch 14/15000, Loss: 1251.63879651264\n",
      "Epoch 15/15000, Loss: 1208.0518322683765\n",
      "Epoch 16/15000, Loss: 1168.3810461710925\n",
      "Epoch 1/15000, Loss: 3648.344455972025\n",
      "Epoch 2/15000, Loss: 2870.952637113422\n",
      "Epoch 3/15000, Loss: 2474.4687822527444\n",
      "Epoch 4/15000, Loss: 2199.888802585693\n",
      "Epoch 5/15000, Loss: 1989.8869473514421\n",
      "Epoch 6/15000, Loss: 1824.0792120309118\n",
      "Epoch 7/15000, Loss: 1691.2245633996722\n",
      "Epoch 8/15000, Loss: 1583.1224765570819\n",
      "Epoch 9/15000, Loss: 1493.4477069065151\n",
      "Epoch 10/15000, Loss: 1417.49901174464\n",
      "Epoch 11/15000, Loss: 1351.9181872148756\n",
      "Epoch 12/15000, Loss: 1294.348570586986\n",
      "Epoch 13/15000, Loss: 1243.1301002593511\n",
      "Epoch 14/15000, Loss: 1197.0718691913219\n",
      "Epoch 1/15000, Loss: 3429.2845882737183\n",
      "Epoch 2/15000, Loss: 2678.8277683691294\n",
      "Epoch 3/15000, Loss: 2310.6665088572863\n",
      "Epoch 4/15000, Loss: 2063.906648087653\n",
      "Epoch 5/15000, Loss: 1880.3444065070973\n",
      "Epoch 6/15000, Loss: 1737.1019718395787\n",
      "Epoch 7/15000, Loss: 1621.7994205535856\n",
      "Epoch 8/15000, Loss: 1526.6414314440856\n",
      "Epoch 9/15000, Loss: 1446.3963886007427\n",
      "Epoch 10/15000, Loss: 1377.4525573639237\n",
      "Epoch 11/15000, Loss: 1317.267032965378\n",
      "Epoch 12/15000, Loss: 1264.0148581381948\n",
      "Epoch 13/15000, Loss: 1216.359976067733\n",
      "Epoch 14/15000, Loss: 1173.3048155867584\n",
      "Epoch 1/15000, Loss: 3542.9145282856957\n",
      "Epoch 2/15000, Loss: 2732.5571430011064\n",
      "Epoch 3/15000, Loss: 2332.021522009764\n",
      "Epoch 4/15000, Loss: 2067.264570160135\n",
      "Epoch 5/15000, Loss: 1875.7314614877293\n",
      "Epoch 6/15000, Loss: 1729.9730198795883\n",
      "Epoch 7/15000, Loss: 1614.2217360162206\n",
      "Epoch 8/15000, Loss: 1519.0116481806688\n",
      "Epoch 9/15000, Loss: 1438.5944476089537\n",
      "Epoch 10/15000, Loss: 1369.3389521280853\n",
      "Epoch 11/15000, Loss: 1308.8084641738642\n",
      "Epoch 12/15000, Loss: 1255.2698118147707\n",
      "Epoch 13/15000, Loss: 1207.4363375154082\n",
      "Epoch 14/15000, Loss: 1164.324859890769\n",
      "Epoch 1/15000, Loss: 3538.981510985223\n",
      "Epoch 2/15000, Loss: 2836.029349498048\n",
      "Epoch 3/15000, Loss: 2463.0814901629765\n",
      "Epoch 4/15000, Loss: 2212.9194567665195\n",
      "Epoch 5/15000, Loss: 2026.6530346639233\n",
      "Epoch 6/15000, Loss: 1879.3270312728184\n",
      "Epoch 7/15000, Loss: 1757.9747327127557\n",
      "Epoch 8/15000, Loss: 1655.089919996134\n",
      "Epoch 9/15000, Loss: 1566.0534227957073\n",
      "Epoch 10/15000, Loss: 1487.8858722258155\n",
      "Epoch 11/15000, Loss: 1418.566358676162\n",
      "Epoch 12/15000, Loss: 1356.6425993170917\n",
      "Epoch 13/15000, Loss: 1301.0086066840884\n",
      "Epoch 14/15000, Loss: 1250.7800232312438\n",
      "Epoch 15/15000, Loss: 1205.226433812095\n",
      "Epoch 16/15000, Loss: 1163.7325101994334\n",
      "Epoch 1/15000, Loss: 3586.059147473668\n",
      "Epoch 2/15000, Loss: 2913.766662570445\n",
      "Epoch 3/15000, Loss: 2542.7404317290307\n",
      "Epoch 4/15000, Loss: 2283.4690837264066\n",
      "Epoch 5/15000, Loss: 2083.9966009816735\n",
      "Epoch 6/15000, Loss: 1923.9597927790935\n",
      "Epoch 7/15000, Loss: 1792.768768890378\n",
      "Epoch 8/15000, Loss: 1683.4610512658567\n",
      "Epoch 9/15000, Loss: 1590.9094757844514\n",
      "Epoch 10/15000, Loss: 1511.2721518920298\n",
      "Epoch 11/15000, Loss: 1441.7125702464696\n",
      "Epoch 12/15000, Loss: 1380.1629455445213\n",
      "Epoch 13/15000, Loss: 1325.1156687478287\n",
      "Epoch 14/15000, Loss: 1275.4606780875608\n",
      "Epoch 1/15000, Loss: 3526.3016322870594\n",
      "Epoch 2/15000, Loss: 2865.0101033340716\n",
      "Epoch 3/15000, Loss: 2488.1512628002974\n",
      "Epoch 4/15000, Loss: 2229.9129285522395\n",
      "Epoch 5/15000, Loss: 2035.7045102489574\n",
      "Epoch 6/15000, Loss: 1881.8564002695823\n",
      "Epoch 7/15000, Loss: 1756.013254518893\n",
      "Epoch 8/15000, Loss: 1650.7708414076014\n",
      "Epoch 9/15000, Loss: 1561.249123781772\n",
      "Epoch 10/15000, Loss: 1484.0362114449406\n",
      "Epoch 11/15000, Loss: 1416.652435619385\n",
      "Epoch 12/15000, Loss: 1357.241790914187\n",
      "Epoch 13/15000, Loss: 1304.380923950668\n",
      "Epoch 14/15000, Loss: 1256.9565700421356\n",
      "Epoch 1/15000, Loss: 3630.5704797894937\n",
      "Epoch 2/15000, Loss: 2887.6841909916893\n",
      "Epoch 3/15000, Loss: 2495.4300053932398\n",
      "Epoch 4/15000, Loss: 2226.1470758185137\n",
      "Epoch 5/15000, Loss: 2022.5126590733698\n",
      "Epoch 6/15000, Loss: 1862.4357430880627\n",
      "Epoch 7/15000, Loss: 1733.743792782643\n",
      "Epoch 8/15000, Loss: 1628.0440146101369\n",
      "Epoch 9/15000, Loss: 1539.292743039233\n",
      "Epoch 10/15000, Loss: 1463.2413192707343\n",
      "Epoch 11/15000, Loss: 1396.9477006083278\n",
      "Epoch 12/15000, Loss: 1338.3542032330006\n",
      "Epoch 13/15000, Loss: 1285.98313950939\n",
      "Epoch 1/15000, Loss: 3494.4754353415947\n",
      "Epoch 2/15000, Loss: 2844.0114279718973\n",
      "Epoch 3/15000, Loss: 2464.00249059454\n",
      "Epoch 4/15000, Loss: 2198.47086866365\n",
      "Epoch 5/15000, Loss: 2000.553145178675\n",
      "Epoch 6/15000, Loss: 1847.6760354778264\n",
      "Epoch 7/15000, Loss: 1725.4593295322002\n",
      "Epoch 8/15000, Loss: 1624.3579895518983\n",
      "Epoch 9/15000, Loss: 1538.2803409078801\n",
      "Epoch 10/15000, Loss: 1463.416497466584\n",
      "Epoch 11/15000, Loss: 1397.3331124857432\n",
      "Epoch 12/15000, Loss: 1338.393361700289\n",
      "Epoch 13/15000, Loss: 1285.421788842853\n",
      "Epoch 1/15000, Loss: 3556.6560915164537\n",
      "Epoch 2/15000, Loss: 2796.0853097100035\n",
      "Epoch 3/15000, Loss: 2419.1154570399267\n",
      "Epoch 4/15000, Loss: 2162.7303387172606\n",
      "Epoch 5/15000, Loss: 1971.354602225915\n",
      "Epoch 6/15000, Loss: 1821.7742605656108\n",
      "Epoch 7/15000, Loss: 1700.7145420420682\n",
      "Epoch 8/15000, Loss: 1599.8766543591596\n",
      "Epoch 9/15000, Loss: 1513.937358491228\n",
      "Epoch 10/15000, Loss: 1439.3945927520178\n",
      "Epoch 11/15000, Loss: 1373.8538001245024\n",
      "Epoch 12/15000, Loss: 1315.6050671727546\n",
      "Epoch 13/15000, Loss: 1263.3783662484154\n",
      "Epoch 1/15000, Loss: 3604.740141857377\n",
      "Epoch 2/15000, Loss: 2863.9021466697477\n",
      "Epoch 3/15000, Loss: 2478.715087230128\n",
      "Epoch 4/15000, Loss: 2207.916905731956\n",
      "Epoch 5/15000, Loss: 2000.1509874539945\n",
      "Epoch 6/15000, Loss: 1836.689789494881\n",
      "Epoch 7/15000, Loss: 1706.0761803720732\n",
      "Epoch 8/15000, Loss: 1599.5687832548767\n",
      "Epoch 9/15000, Loss: 1510.665170177001\n",
      "Epoch 10/15000, Loss: 1434.8263844718829\n",
      "Epoch 11/15000, Loss: 1368.9695998600082\n",
      "Epoch 1/15000, Loss: 3586.44944869489\n",
      "Epoch 2/15000, Loss: 2822.122892792911\n",
      "Epoch 3/15000, Loss: 2425.21010138906\n",
      "Epoch 4/15000, Loss: 2154.2383289336067\n",
      "Epoch 5/15000, Loss: 1950.7080429830598\n",
      "Epoch 6/15000, Loss: 1791.8527020231254\n",
      "Epoch 7/15000, Loss: 1664.8215210740793\n",
      "Epoch 8/15000, Loss: 1560.9405589226667\n",
      "Epoch 9/15000, Loss: 1474.146965519142\n",
      "Epoch 10/15000, Loss: 1400.2124763302845\n",
      "Epoch 11/15000, Loss: 1336.174853628076\n",
      "Epoch 1/15000, Loss: 3588.4699053213753\n",
      "Epoch 2/15000, Loss: 2899.754675743791\n",
      "Epoch 3/15000, Loss: 2518.102491877626\n",
      "Epoch 4/15000, Loss: 2253.9958219591276\n",
      "Epoch 5/15000, Loss: 2053.6250547702784\n",
      "Epoch 6/15000, Loss: 1894.6185669869046\n",
      "Epoch 7/15000, Loss: 1764.6911941779706\n",
      "Epoch 8/15000, Loss: 1655.9283138478795\n",
      "Epoch 9/15000, Loss: 1562.9681747476961\n",
      "Epoch 10/15000, Loss: 1482.1567280658392\n",
      "Epoch 11/15000, Loss: 1410.9881583509925\n",
      "Epoch 12/15000, Loss: 1347.702247313129\n",
      "Epoch 1/15000, Loss: 3565.857134966596\n",
      "Epoch 2/15000, Loss: 2885.194348802125\n",
      "Epoch 3/15000, Loss: 2507.3687081495373\n",
      "Epoch 4/15000, Loss: 2244.500163060576\n",
      "Epoch 5/15000, Loss: 2043.791621317635\n",
      "Epoch 6/15000, Loss: 1883.6894534028709\n",
      "Epoch 7/15000, Loss: 1752.6323309124869\n",
      "Epoch 8/15000, Loss: 1643.1986009192888\n",
      "Epoch 9/15000, Loss: 1550.2422735827147\n",
      "Epoch 10/15000, Loss: 1470.118688671353\n",
      "Epoch 11/15000, Loss: 1400.216312510643\n",
      "Epoch 12/15000, Loss: 1338.6249908063824\n",
      "Epoch 1/15000, Loss: 3745.162893563397\n",
      "Epoch 2/15000, Loss: 2898.714162739778\n",
      "Epoch 3/15000, Loss: 2485.8799160144076\n",
      "Epoch 4/15000, Loss: 2212.740247238247\n",
      "Epoch 5/15000, Loss: 2010.9609312216126\n",
      "Epoch 6/15000, Loss: 1853.6764833391144\n",
      "Epoch 7/15000, Loss: 1726.4039322620874\n",
      "Epoch 8/15000, Loss: 1620.279881868963\n",
      "Epoch 9/15000, Loss: 1529.6655784166755\n",
      "Epoch 10/15000, Loss: 1450.8806482781238\n",
      "Epoch 11/15000, Loss: 1381.4345942737395\n",
      "Epoch 1/15000, Loss: 3417.764379475144\n",
      "Epoch 2/15000, Loss: 2691.826972195921\n",
      "Epoch 3/15000, Loss: 2327.3861663506927\n",
      "Epoch 4/15000, Loss: 2078.370783978448\n",
      "Epoch 5/15000, Loss: 1894.160706995923\n",
      "Epoch 6/15000, Loss: 1752.0689519554574\n",
      "Epoch 7/15000, Loss: 1637.9829250007226\n",
      "Epoch 8/15000, Loss: 1543.0629645839533\n",
      "Epoch 9/15000, Loss: 1461.9503169055458\n",
      "Epoch 1/15000, Loss: 3502.792981646342\n",
      "Epoch 2/15000, Loss: 2739.828721386829\n",
      "Epoch 3/15000, Loss: 2377.8569873194133\n",
      "Epoch 4/15000, Loss: 2135.6990467380797\n",
      "Epoch 5/15000, Loss: 1954.0344944767867\n",
      "Epoch 6/15000, Loss: 1810.850101128043\n",
      "Epoch 7/15000, Loss: 1694.4792545896723\n",
      "Epoch 8/15000, Loss: 1597.4793765175245\n",
      "Epoch 9/15000, Loss: 1514.8020725183248\n",
      "Epoch 10/15000, Loss: 1442.9930246156525\n",
      "Epoch 1/15000, Loss: 3495.855438483445\n",
      "Epoch 2/15000, Loss: 2762.7047773174695\n",
      "Epoch 3/15000, Loss: 2390.994246959002\n",
      "Epoch 4/15000, Loss: 2140.86443449664\n",
      "Epoch 5/15000, Loss: 1955.1514208954254\n",
      "Epoch 6/15000, Loss: 1810.1741875944942\n",
      "Epoch 7/15000, Loss: 1692.722953440383\n",
      "Epoch 8/15000, Loss: 1594.5972664185451\n",
      "Epoch 9/15000, Loss: 1510.5715963033374\n",
      "Epoch 10/15000, Loss: 1437.2573762655559\n",
      "Epoch 1/15000, Loss: 3484.493164418515\n",
      "Epoch 2/15000, Loss: 2818.285562532276\n",
      "Epoch 3/15000, Loss: 2452.904027991142\n",
      "Epoch 4/15000, Loss: 2201.4442082383516\n",
      "Epoch 5/15000, Loss: 2011.6858197256572\n",
      "Epoch 6/15000, Loss: 1861.668770892449\n",
      "Epoch 7/15000, Loss: 1739.4256252462628\n",
      "Epoch 8/15000, Loss: 1637.4063395285773\n",
      "Epoch 9/15000, Loss: 1550.5267112935494\n",
      "Epoch 10/15000, Loss: 1475.2633827773961\n",
      "Epoch 1/15000, Loss: 3665.9193753434156\n",
      "Epoch 2/15000, Loss: 2887.1312947393035\n",
      "Epoch 3/15000, Loss: 2494.332990266812\n",
      "Epoch 4/15000, Loss: 2235.386578853001\n",
      "Epoch 5/15000, Loss: 2043.3172624476338\n",
      "Epoch 6/15000, Loss: 1891.7829714435052\n",
      "Epoch 7/15000, Loss: 1767.5372181601558\n",
      "Epoch 8/15000, Loss: 1662.9093902657905\n",
      "Epoch 9/15000, Loss: 1573.0813518770217\n",
      "Epoch 10/15000, Loss: 1494.8400212093493\n",
      "Epoch 1/15000, Loss: 3548.2165064575356\n",
      "Epoch 2/15000, Loss: 2863.944171277536\n",
      "Epoch 3/15000, Loss: 2476.967748216165\n",
      "Epoch 4/15000, Loss: 2209.2587691359377\n",
      "Epoch 5/15000, Loss: 2008.0060431899408\n",
      "Epoch 6/15000, Loss: 1850.225053512692\n",
      "Epoch 7/15000, Loss: 1722.888642945898\n",
      "Epoch 8/15000, Loss: 1617.552981275655\n",
      "Epoch 9/15000, Loss: 1528.5149032431186\n",
      "Epoch 1/15000, Loss: 3731.7594662186893\n",
      "Epoch 2/15000, Loss: 2807.9690407574\n",
      "Epoch 3/15000, Loss: 2382.060780215726\n",
      "Epoch 4/15000, Loss: 2108.94216250083\n",
      "Epoch 5/15000, Loss: 1911.295155399395\n",
      "Epoch 6/15000, Loss: 1759.2631049640534\n",
      "Epoch 7/15000, Loss: 1637.4669670874932\n",
      "Epoch 8/15000, Loss: 1536.9353838695802\n",
      "Epoch 1/15000, Loss: 3678.3134485820215\n",
      "Epoch 2/15000, Loss: 2930.290617460929\n",
      "Epoch 3/15000, Loss: 2539.219753189919\n",
      "Epoch 4/15000, Loss: 2273.2471553262194\n",
      "Epoch 5/15000, Loss: 2072.8844176859184\n",
      "Epoch 6/15000, Loss: 1914.5126171207712\n",
      "Epoch 7/15000, Loss: 1785.581260658337\n",
      "Epoch 8/15000, Loss: 1678.139587742408\n",
      "Epoch 9/15000, Loss: 1586.7876138987997\n",
      "Epoch 1/15000, Loss: 3652.4439445091957\n",
      "Epoch 2/15000, Loss: 2846.4191861976865\n",
      "Epoch 3/15000, Loss: 2457.487115196867\n",
      "Epoch 4/15000, Loss: 2192.813238857748\n",
      "Epoch 5/15000, Loss: 1990.5350423574503\n",
      "Epoch 6/15000, Loss: 1828.9682854526206\n",
      "Epoch 7/15000, Loss: 1697.365427833519\n",
      "Epoch 8/15000, Loss: 1588.6859875041562\n",
      "Epoch 1/15000, Loss: 3555.90818171834\n",
      "Epoch 2/15000, Loss: 2802.174010951649\n",
      "Epoch 3/15000, Loss: 2412.997140012696\n",
      "Epoch 4/15000, Loss: 2157.4636385404906\n",
      "Epoch 5/15000, Loss: 1970.0803470756925\n",
      "Epoch 6/15000, Loss: 1823.7597460662548\n",
      "Epoch 7/15000, Loss: 1704.6752588385516\n",
      "Epoch 8/15000, Loss: 1604.8448351436405\n",
      "Epoch 9/15000, Loss: 1519.3141729355725\n",
      "Epoch 1/15000, Loss: 3708.489126400429\n",
      "Epoch 2/15000, Loss: 2900.9495636740826\n",
      "Epoch 3/15000, Loss: 2489.942978206754\n",
      "Epoch 4/15000, Loss: 2224.620494115571\n",
      "Epoch 5/15000, Loss: 2032.3675139811871\n",
      "Epoch 6/15000, Loss: 1883.157318369676\n",
      "Epoch 7/15000, Loss: 1761.894721726052\n",
      "Epoch 8/15000, Loss: 1660.1081962996884\n",
      "Epoch 1/15000, Loss: 3851.946994064046\n",
      "Epoch 2/15000, Loss: 3074.7937869054845\n",
      "Epoch 3/15000, Loss: 2637.044386729563\n",
      "Epoch 4/15000, Loss: 2338.8561687490255\n",
      "Epoch 5/15000, Loss: 2117.7115730354803\n",
      "Epoch 6/15000, Loss: 1946.2396420621458\n",
      "Epoch 7/15000, Loss: 1809.0303235210886\n",
      "Epoch 8/15000, Loss: 1696.196342849843\n",
      "Epoch 1/15000, Loss: 3584.572624167369\n",
      "Epoch 2/15000, Loss: 2928.552170546136\n",
      "Epoch 3/15000, Loss: 2556.912139651869\n",
      "Epoch 4/15000, Loss: 2292.7739488251464\n",
      "Epoch 5/15000, Loss: 2087.551691984003\n",
      "Epoch 6/15000, Loss: 1922.7403403582127\n",
      "Epoch 7/15000, Loss: 1788.4752802633775\n",
      "Epoch 8/15000, Loss: 1677.604312311438\n",
      "Epoch 1/15000, Loss: 3459.5612295181304\n",
      "Epoch 2/15000, Loss: 2677.188894872331\n",
      "Epoch 3/15000, Loss: 2287.483201014284\n",
      "Epoch 4/15000, Loss: 2028.960939253857\n",
      "Epoch 5/15000, Loss: 1842.2371525761455\n",
      "Epoch 6/15000, Loss: 1700.8580115945022\n",
      "Epoch 7/15000, Loss: 1589.0487142000488\n",
      "Epoch 1/15000, Loss: 3502.908826340418\n",
      "Epoch 2/15000, Loss: 2731.6842385453006\n",
      "Epoch 3/15000, Loss: 2344.650835355815\n",
      "Epoch 4/15000, Loss: 2087.798739196221\n",
      "Epoch 5/15000, Loss: 1899.6707164661532\n",
      "Epoch 6/15000, Loss: 1753.9773325686951\n",
      "Epoch 7/15000, Loss: 1636.3530346703355\n",
      "Epoch 1/15000, Loss: 3722.830037500242\n",
      "Epoch 2/15000, Loss: 2976.631112367847\n",
      "Epoch 3/15000, Loss: 2570.365179263022\n",
      "Epoch 4/15000, Loss: 2290.71795774993\n",
      "Epoch 5/15000, Loss: 2078.0919634300385\n",
      "Epoch 6/15000, Loss: 1910.3079901030264\n",
      "Epoch 7/15000, Loss: 1775.5106073002949\n",
      "Epoch 1/15000, Loss: 3527.635334649805\n",
      "Epoch 2/15000, Loss: 2838.427118476672\n",
      "Epoch 3/15000, Loss: 2464.0368145659822\n",
      "Epoch 4/15000, Loss: 2204.4782909297437\n",
      "Epoch 5/15000, Loss: 2006.8320108256673\n",
      "Epoch 6/15000, Loss: 1849.818684327662\n",
      "Epoch 7/15000, Loss: 1721.8266490844615\n",
      "Epoch 1/15000, Loss: 3571.278983533391\n",
      "Epoch 2/15000, Loss: 2808.393042529863\n",
      "Epoch 3/15000, Loss: 2418.3624065407716\n",
      "Epoch 4/15000, Loss: 2152.9040051050374\n",
      "Epoch 5/15000, Loss: 1956.352418653865\n",
      "Epoch 6/15000, Loss: 1804.635715456146\n",
      "Epoch 7/15000, Loss: 1683.478383070032\n",
      "Epoch 1/15000, Loss: 3583.3176017555743\n",
      "Epoch 2/15000, Loss: 2802.6276736441196\n",
      "Epoch 3/15000, Loss: 2406.9377805179997\n",
      "Epoch 4/15000, Loss: 2146.2484283156764\n",
      "Epoch 5/15000, Loss: 1956.15149475167\n",
      "Epoch 6/15000, Loss: 1809.4062909125514\n",
      "Epoch 7/15000, Loss: 1691.0942070322803\n",
      "Epoch 1/15000, Loss: 3475.7018200209523\n",
      "Epoch 2/15000, Loss: 2746.044912444514\n",
      "Epoch 3/15000, Loss: 2379.6901165291542\n",
      "Epoch 4/15000, Loss: 2135.0085688377344\n",
      "Epoch 5/15000, Loss: 1950.8820737092694\n",
      "Epoch 6/15000, Loss: 1804.6673744624168\n",
      "Epoch 7/15000, Loss: 1684.9976551581944\n",
      "Epoch 1/15000, Loss: 3693.748151066617\n",
      "Epoch 2/15000, Loss: 2967.533686551489\n",
      "Epoch 3/15000, Loss: 2562.959387580027\n",
      "Epoch 4/15000, Loss: 2284.552665061716\n",
      "Epoch 5/15000, Loss: 2075.3175489028213\n",
      "Epoch 6/15000, Loss: 1911.5995060466992\n",
      "Epoch 7/15000, Loss: 1780.054068978919\n",
      "Epoch 1/15000, Loss: 3493.040586360258\n",
      "Epoch 2/15000, Loss: 2801.6388309844274\n",
      "Epoch 3/15000, Loss: 2427.8890326133637\n",
      "Epoch 4/15000, Loss: 2178.439660576965\n",
      "Epoch 5/15000, Loss: 1993.8450704376835\n",
      "Epoch 6/15000, Loss: 1848.6175931451426\n",
      "Epoch 1/15000, Loss: 3637.6034417663273\n",
      "Epoch 2/15000, Loss: 2918.7352875086167\n",
      "Epoch 3/15000, Loss: 2527.550956327123\n",
      "Epoch 4/15000, Loss: 2258.374485579781\n",
      "Epoch 5/15000, Loss: 2052.8748301119654\n",
      "Epoch 6/15000, Loss: 1888.2096791520937\n",
      "Epoch 1/15000, Loss: 3447.047874078757\n",
      "Epoch 2/15000, Loss: 2693.3968452368667\n",
      "Epoch 3/15000, Loss: 2324.673483026662\n",
      "Epoch 4/15000, Loss: 2079.4377373710995\n",
      "Epoch 5/15000, Loss: 1897.762720533076\n",
      "Epoch 1/15000, Loss: 3640.9924914528274\n",
      "Epoch 2/15000, Loss: 2846.795511469365\n",
      "Epoch 3/15000, Loss: 2457.2879447674245\n",
      "Epoch 4/15000, Loss: 2194.4408421165635\n",
      "Epoch 5/15000, Loss: 1997.9405006941581\n",
      "Epoch 6/15000, Loss: 1844.942593081616\n",
      "Epoch 1/15000, Loss: 3527.6003306520875\n",
      "Epoch 2/15000, Loss: 2803.4063167401137\n",
      "Epoch 3/15000, Loss: 2416.2770115044264\n",
      "Epoch 4/15000, Loss: 2154.398905280491\n",
      "Epoch 5/15000, Loss: 1960.9731270052532\n",
      "Epoch 1/15000, Loss: 3636.3595464312075\n",
      "Epoch 2/15000, Loss: 2931.6357833020174\n",
      "Epoch 3/15000, Loss: 2545.133243229746\n",
      "Epoch 4/15000, Loss: 2274.985421413264\n",
      "Epoch 5/15000, Loss: 2068.9816975366793\n",
      "Epoch 6/15000, Loss: 1905.9905891297278\n",
      "Epoch 1/15000, Loss: 3631.938352740181\n",
      "Epoch 2/15000, Loss: 2914.2017358797343\n",
      "Epoch 3/15000, Loss: 2528.9283776069688\n",
      "Epoch 4/15000, Loss: 2259.848554240145\n",
      "Epoch 5/15000, Loss: 2056.341508683875\n",
      "Epoch 6/15000, Loss: 1897.2092281763519\n",
      "Epoch 1/15000, Loss: 3556.360153415562\n",
      "Epoch 2/15000, Loss: 2798.0944402825285\n",
      "Epoch 3/15000, Loss: 2415.5566287125907\n",
      "Epoch 4/15000, Loss: 2150.3361549905867\n",
      "Epoch 5/15000, Loss: 1948.0991101734419\n",
      "Epoch 1/15000, Loss: 3585.4777871638375\n",
      "Epoch 2/15000, Loss: 2747.3038569554174\n",
      "Epoch 3/15000, Loss: 2351.56642066683\n",
      "Epoch 4/15000, Loss: 2092.5727821017886\n",
      "Epoch 5/15000, Loss: 1903.8841083304294\n",
      "Epoch 1/15000, Loss: 3483.73220833349\n",
      "Epoch 2/15000, Loss: 2676.056903088227\n",
      "Epoch 3/15000, Loss: 2293.1358903185\n",
      "Epoch 4/15000, Loss: 2044.030612691574\n",
      "Epoch 1/15000, Loss: 3624.14631036425\n",
      "Epoch 2/15000, Loss: 2804.610392303578\n",
      "Epoch 3/15000, Loss: 2404.91407776549\n",
      "Epoch 4/15000, Loss: 2142.4093286563893\n",
      "Epoch 5/15000, Loss: 1949.897622908278\n",
      "Epoch 1/15000, Loss: 3763.266579438771\n",
      "Epoch 2/15000, Loss: 2976.7563918158808\n",
      "Epoch 3/15000, Loss: 2565.572391773098\n",
      "Epoch 4/15000, Loss: 2287.781064559268\n",
      "Epoch 5/15000, Loss: 2079.5744746860114\n",
      "Epoch 1/15000, Loss: 3561.65344468315\n",
      "Epoch 2/15000, Loss: 2781.8233731665428\n",
      "Epoch 3/15000, Loss: 2394.125397090699\n",
      "Epoch 4/15000, Loss: 2133.5936568654547\n",
      "Epoch 5/15000, Loss: 1940.03163563322\n",
      "Epoch 1/15000, Loss: 3483.2522059488524\n",
      "Epoch 2/15000, Loss: 2704.478049080423\n",
      "Epoch 3/15000, Loss: 2339.909464367757\n",
      "Epoch 4/15000, Loss: 2093.179524683069\n",
      "Epoch 1/15000, Loss: 3621.3360427162525\n",
      "Epoch 2/15000, Loss: 2806.1684776022557\n",
      "Epoch 3/15000, Loss: 2411.3033067515025\n",
      "Epoch 4/15000, Loss: 2144.527115709063\n",
      "Epoch 1/15000, Loss: 3548.680181439572\n",
      "Epoch 2/15000, Loss: 2829.706496280591\n",
      "Epoch 3/15000, Loss: 2447.1145095405923\n",
      "Epoch 4/15000, Loss: 2189.4242051385695\n",
      "Epoch 1/15000, Loss: 3659.246348688387\n",
      "Epoch 2/15000, Loss: 2890.356535048528\n",
      "Epoch 3/15000, Loss: 2502.6330614478916\n",
      "Epoch 4/15000, Loss: 2239.8852169808774\n",
      "Epoch 5/15000, Loss: 2036.9234295053182\n",
      "Epoch 1/15000, Loss: 3540.90959476818\n",
      "Epoch 2/15000, Loss: 2828.113533377477\n",
      "Epoch 3/15000, Loss: 2440.7227701962215\n",
      "Epoch 4/15000, Loss: 2174.6591669498666\n",
      "Epoch 1/15000, Loss: 3446.037301841833\n",
      "Epoch 2/15000, Loss: 2840.8848169479224\n",
      "Epoch 3/15000, Loss: 2486.0884180582416\n",
      "Epoch 4/15000, Loss: 2232.338193954362\n",
      "Epoch 5/15000, Loss: 2036.2719841747873\n",
      "Epoch 1/15000, Loss: 3525.5242478711807\n",
      "Epoch 2/15000, Loss: 2876.1223857897894\n",
      "Epoch 3/15000, Loss: 2517.9262278498018\n",
      "Epoch 4/15000, Loss: 2267.021076745507\n",
      "Epoch 1/15000, Loss: 3552.9265088975294\n",
      "Epoch 2/15000, Loss: 2860.2917275421128\n",
      "Epoch 3/15000, Loss: 2486.08510197234\n",
      "Epoch 4/15000, Loss: 2231.179256873061\n",
      "Epoch 1/15000, Loss: 3638.54001616474\n",
      "Epoch 2/15000, Loss: 2828.8246452595463\n",
      "Epoch 3/15000, Loss: 2436.1203138106325\n",
      "Epoch 4/15000, Loss: 2170.6140899892557\n",
      "Epoch 1/15000, Loss: 3810.262400741723\n",
      "Epoch 2/15000, Loss: 3016.485690270416\n",
      "Epoch 3/15000, Loss: 2591.069946585426\n",
      "Epoch 4/15000, Loss: 2303.849135916877\n",
      "Epoch 5/15000, Loss: 2089.372674328514\n",
      "Epoch 1/15000, Loss: 3668.5818974321483\n",
      "Epoch 2/15000, Loss: 2918.347002795794\n",
      "Epoch 3/15000, Loss: 2510.348635101442\n",
      "Epoch 4/15000, Loss: 2237.3533206444854\n",
      "Epoch 1/15000, Loss: 3531.390156536983\n",
      "Epoch 2/15000, Loss: 2725.401641283897\n",
      "Epoch 3/15000, Loss: 2337.0730681087243\n",
      "Epoch 1/15000, Loss: 3530.5593665858037\n",
      "Epoch 2/15000, Loss: 2781.4958889017153\n",
      "Epoch 3/15000, Loss: 2400.9495595142344\n",
      "Epoch 4/15000, Loss: 2141.4439509475637\n",
      "Epoch 1/15000, Loss: 3556.8196229706928\n",
      "Epoch 2/15000, Loss: 2796.634696892796\n",
      "Epoch 3/15000, Loss: 2411.489744391355\n",
      "Epoch 4/15000, Loss: 2152.9593715961128\n",
      "Epoch 1/15000, Loss: 3505.208524343616\n",
      "Epoch 2/15000, Loss: 2818.4349193383127\n",
      "Epoch 3/15000, Loss: 2447.9031363160184\n",
      "Epoch 4/15000, Loss: 2189.9954388762976\n",
      "Epoch 1/15000, Loss: 3554.3286403879356\n",
      "Epoch 2/15000, Loss: 2733.666908120833\n",
      "Epoch 3/15000, Loss: 2340.3552037467525\n",
      "Epoch 1/15000, Loss: 3337.828017429502\n",
      "Epoch 2/15000, Loss: 2615.861256097774\n",
      "Epoch 3/15000, Loss: 2274.962006344965\n",
      "Epoch 1/15000, Loss: 3629.584182187944\n",
      "Epoch 2/15000, Loss: 2843.6892831544083\n",
      "Epoch 3/15000, Loss: 2447.579543675089\n",
      "Epoch 1/15000, Loss: 3594.8814476674793\n",
      "Epoch 2/15000, Loss: 2885.717227558715\n",
      "Epoch 3/15000, Loss: 2508.0294213389093\n",
      "Epoch 4/15000, Loss: 2252.277430057932\n",
      "Epoch 1/15000, Loss: 3428.3531703850417\n",
      "Epoch 2/15000, Loss: 2690.4831936885435\n",
      "Epoch 3/15000, Loss: 2316.6831978024147\n",
      "Epoch 1/15000, Loss: 3616.8087967421598\n",
      "Epoch 2/15000, Loss: 2833.5908418134873\n",
      "Epoch 3/15000, Loss: 2434.6042097876375\n",
      "Epoch 1/15000, Loss: 3560.130748204223\n",
      "Epoch 2/15000, Loss: 2804.70621074311\n",
      "Epoch 3/15000, Loss: 2416.5670809398375\n",
      "Epoch 1/15000, Loss: 3583.949462809087\n",
      "Epoch 2/15000, Loss: 2785.7953620081794\n",
      "Epoch 3/15000, Loss: 2403.8283866299867\n",
      "Epoch 1/15000, Loss: 3741.2213786705797\n",
      "Epoch 2/15000, Loss: 2893.7423025189905\n",
      "Epoch 3/15000, Loss: 2488.9071519169975\n",
      "Epoch 1/15000, Loss: 3551.295794198237\n",
      "Epoch 2/15000, Loss: 2730.9457987885976\n",
      "Epoch 3/15000, Loss: 2341.322503105668\n",
      "Epoch 1/15000, Loss: 3560.608337188301\n",
      "Epoch 2/15000, Loss: 2785.027296448312\n",
      "Epoch 3/15000, Loss: 2393.24258087324\n",
      "Epoch 1/15000, Loss: 3423.1229824472853\n",
      "Epoch 2/15000, Loss: 2673.391286519627\n",
      "Epoch 1/15000, Loss: 3563.975506949467\n",
      "Epoch 2/15000, Loss: 2814.3944850998573\n",
      "Epoch 3/15000, Loss: 2440.288714622511\n",
      "Epoch 1/15000, Loss: 3702.5728959016096\n",
      "Epoch 2/15000, Loss: 2933.643134831461\n",
      "Epoch 3/15000, Loss: 2523.7442099248046\n",
      "Epoch 1/15000, Loss: 3636.719654477183\n",
      "Epoch 2/15000, Loss: 2816.6892764512754\n",
      "Epoch 3/15000, Loss: 2412.2090155758788\n",
      "Epoch 1/15000, Loss: 3524.4140719984753\n",
      "Epoch 2/15000, Loss: 2681.0138483879527\n",
      "Epoch 1/15000, Loss: 3639.7462981408557\n",
      "Epoch 2/15000, Loss: 2805.986190034956\n",
      "Epoch 3/15000, Loss: 2408.2825731558814\n",
      "Epoch 1/15000, Loss: 3453.891872190119\n",
      "Epoch 2/15000, Loss: 2679.938869083217\n",
      "Epoch 1/15000, Loss: 3593.172224447637\n",
      "Epoch 2/15000, Loss: 2776.137080143805\n",
      "Epoch 1/15000, Loss: 3535.160484180569\n",
      "Epoch 2/15000, Loss: 2866.9067327629623\n",
      "Epoch 3/15000, Loss: 2498.294931320598\n",
      "Epoch 1/15000, Loss: 3547.497106817164\n",
      "Epoch 2/15000, Loss: 2905.7811970599732\n",
      "Epoch 3/15000, Loss: 2541.1879936989203\n",
      "Epoch 1/15000, Loss: 3606.397835144541\n",
      "Epoch 2/15000, Loss: 2836.4747698922233\n",
      "Epoch 1/15000, Loss: 3486.9948448528453\n",
      "Epoch 2/15000, Loss: 2782.415784960669\n",
      "Epoch 1/15000, Loss: 3605.7917398142504\n",
      "Epoch 2/15000, Loss: 2793.312498757911\n",
      "Epoch 1/15000, Loss: 3702.6618319111635\n",
      "Epoch 2/15000, Loss: 2940.927901625455\n",
      "Epoch 3/15000, Loss: 2537.291839470291\n",
      "Epoch 1/15000, Loss: 3578.638401595745\n",
      "Epoch 2/15000, Loss: 2789.537519185092\n"
     ]
    },
    {
     "data": {
      "application/vnd.plotly.v1+json": {
       "config": {
        "plotlyServerURL": "https://plot.ly"
       },
       "data": [
        {
         "mode": "markers",
         "name": "Все наблюдения",
         "type": "scatter",
         "x": [
          1000,
          1000,
          1000,
          1000,
          1000,
          1100,
          1100,
          1100,
          1100,
          1100,
          1200,
          1200,
          1200,
          1200,
          1200,
          1300,
          1300,
          1300,
          1300,
          1300,
          1400,
          1400,
          1400,
          1400,
          1400,
          1500,
          1500,
          1500,
          1500,
          1500,
          1600,
          1600,
          1600,
          1600,
          1600,
          1700,
          1700,
          1700,
          1700,
          1700,
          1800,
          1800,
          1800,
          1800,
          1800,
          1900,
          1900,
          1900,
          1900,
          1900,
          2000,
          2000,
          2000,
          2000,
          2000,
          2100,
          2100,
          2100,
          2100,
          2100,
          2200,
          2200,
          2200,
          2200,
          2200,
          2300,
          2300,
          2300,
          2300,
          2300,
          2400,
          2400,
          2400,
          2400,
          2400,
          2500,
          2500,
          2500,
          2500,
          2500,
          2600,
          2600,
          2600,
          2600,
          2600,
          2700,
          2700,
          2700,
          2700,
          2700,
          2800,
          2800,
          2800,
          2800,
          2800,
          2900,
          2900,
          2900,
          2900,
          2900
         ],
         "y": [
          19,
          20,
          22,
          21,
          20,
          17,
          17,
          17,
          17,
          16,
          16,
          14,
          14,
          14,
          16,
          14,
          14,
          13,
          13,
          13,
          11,
          11,
          12,
          12,
          11,
          9,
          10,
          10,
          10,
          10,
          9,
          8,
          9,
          8,
          9,
          8,
          8,
          8,
          7,
          7,
          7,
          7,
          7,
          7,
          7,
          7,
          6,
          6,
          5,
          6,
          5,
          6,
          6,
          5,
          5,
          4,
          5,
          5,
          5,
          4,
          4,
          4,
          5,
          4,
          5,
          4,
          4,
          4,
          5,
          4,
          3,
          4,
          4,
          4,
          3,
          3,
          3,
          4,
          3,
          3,
          3,
          3,
          3,
          3,
          3,
          2,
          3,
          3,
          3,
          2,
          3,
          2,
          2,
          3,
          3,
          2,
          2,
          2,
          3,
          2
         ]
        },
        {
         "mode": "lines+markers",
         "name": "Средние значения",
         "type": "scatter",
         "x": [
          1000,
          1100,
          1200,
          1300,
          1400,
          1500,
          1600,
          1700,
          1800,
          1900,
          2000,
          2100,
          2200,
          2300,
          2400,
          2500,
          2600,
          2700,
          2800,
          2900
         ],
         "y": [
          20.4,
          16.8,
          14.8,
          13.4,
          11.4,
          9.8,
          8.6,
          7.6,
          7,
          6,
          5.4,
          4.6,
          4.4,
          4.2,
          3.6,
          3.2,
          3,
          2.6,
          2.6,
          2.2
         ]
        }
       ],
       "layout": {
        "font": {
         "size": 20
        },
        "height": 720,
        "template": {
         "data": {
          "bar": [
           {
            "error_x": {
             "color": "#2a3f5f"
            },
            "error_y": {
             "color": "#2a3f5f"
            },
            "marker": {
             "line": {
              "color": "#E5ECF6",
              "width": 0.5
             },
             "pattern": {
              "fillmode": "overlay",
              "size": 10,
              "solidity": 0.2
             }
            },
            "type": "bar"
           }
          ],
          "barpolar": [
           {
            "marker": {
             "line": {
              "color": "#E5ECF6",
              "width": 0.5
             },
             "pattern": {
              "fillmode": "overlay",
              "size": 10,
              "solidity": 0.2
             }
            },
            "type": "barpolar"
           }
          ],
          "carpet": [
           {
            "aaxis": {
             "endlinecolor": "#2a3f5f",
             "gridcolor": "white",
             "linecolor": "white",
             "minorgridcolor": "white",
             "startlinecolor": "#2a3f5f"
            },
            "baxis": {
             "endlinecolor": "#2a3f5f",
             "gridcolor": "white",
             "linecolor": "white",
             "minorgridcolor": "white",
             "startlinecolor": "#2a3f5f"
            },
            "type": "carpet"
           }
          ],
          "choropleth": [
           {
            "colorbar": {
             "outlinewidth": 0,
             "ticks": ""
            },
            "type": "choropleth"
           }
          ],
          "contour": [
           {
            "colorbar": {
             "outlinewidth": 0,
             "ticks": ""
            },
            "colorscale": [
             [
              0,
              "#0d0887"
             ],
             [
              0.1111111111111111,
              "#46039f"
             ],
             [
              0.2222222222222222,
              "#7201a8"
             ],
             [
              0.3333333333333333,
              "#9c179e"
             ],
             [
              0.4444444444444444,
              "#bd3786"
             ],
             [
              0.5555555555555556,
              "#d8576b"
             ],
             [
              0.6666666666666666,
              "#ed7953"
             ],
             [
              0.7777777777777778,
              "#fb9f3a"
             ],
             [
              0.8888888888888888,
              "#fdca26"
             ],
             [
              1,
              "#f0f921"
             ]
            ],
            "type": "contour"
           }
          ],
          "contourcarpet": [
           {
            "colorbar": {
             "outlinewidth": 0,
             "ticks": ""
            },
            "type": "contourcarpet"
           }
          ],
          "heatmap": [
           {
            "colorbar": {
             "outlinewidth": 0,
             "ticks": ""
            },
            "colorscale": [
             [
              0,
              "#0d0887"
             ],
             [
              0.1111111111111111,
              "#46039f"
             ],
             [
              0.2222222222222222,
              "#7201a8"
             ],
             [
              0.3333333333333333,
              "#9c179e"
             ],
             [
              0.4444444444444444,
              "#bd3786"
             ],
             [
              0.5555555555555556,
              "#d8576b"
             ],
             [
              0.6666666666666666,
              "#ed7953"
             ],
             [
              0.7777777777777778,
              "#fb9f3a"
             ],
             [
              0.8888888888888888,
              "#fdca26"
             ],
             [
              1,
              "#f0f921"
             ]
            ],
            "type": "heatmap"
           }
          ],
          "heatmapgl": [
           {
            "colorbar": {
             "outlinewidth": 0,
             "ticks": ""
            },
            "colorscale": [
             [
              0,
              "#0d0887"
             ],
             [
              0.1111111111111111,
              "#46039f"
             ],
             [
              0.2222222222222222,
              "#7201a8"
             ],
             [
              0.3333333333333333,
              "#9c179e"
             ],
             [
              0.4444444444444444,
              "#bd3786"
             ],
             [
              0.5555555555555556,
              "#d8576b"
             ],
             [
              0.6666666666666666,
              "#ed7953"
             ],
             [
              0.7777777777777778,
              "#fb9f3a"
             ],
             [
              0.8888888888888888,
              "#fdca26"
             ],
             [
              1,
              "#f0f921"
             ]
            ],
            "type": "heatmapgl"
           }
          ],
          "histogram": [
           {
            "marker": {
             "pattern": {
              "fillmode": "overlay",
              "size": 10,
              "solidity": 0.2
             }
            },
            "type": "histogram"
           }
          ],
          "histogram2d": [
           {
            "colorbar": {
             "outlinewidth": 0,
             "ticks": ""
            },
            "colorscale": [
             [
              0,
              "#0d0887"
             ],
             [
              0.1111111111111111,
              "#46039f"
             ],
             [
              0.2222222222222222,
              "#7201a8"
             ],
             [
              0.3333333333333333,
              "#9c179e"
             ],
             [
              0.4444444444444444,
              "#bd3786"
             ],
             [
              0.5555555555555556,
              "#d8576b"
             ],
             [
              0.6666666666666666,
              "#ed7953"
             ],
             [
              0.7777777777777778,
              "#fb9f3a"
             ],
             [
              0.8888888888888888,
              "#fdca26"
             ],
             [
              1,
              "#f0f921"
             ]
            ],
            "type": "histogram2d"
           }
          ],
          "histogram2dcontour": [
           {
            "colorbar": {
             "outlinewidth": 0,
             "ticks": ""
            },
            "colorscale": [
             [
              0,
              "#0d0887"
             ],
             [
              0.1111111111111111,
              "#46039f"
             ],
             [
              0.2222222222222222,
              "#7201a8"
             ],
             [
              0.3333333333333333,
              "#9c179e"
             ],
             [
              0.4444444444444444,
              "#bd3786"
             ],
             [
              0.5555555555555556,
              "#d8576b"
             ],
             [
              0.6666666666666666,
              "#ed7953"
             ],
             [
              0.7777777777777778,
              "#fb9f3a"
             ],
             [
              0.8888888888888888,
              "#fdca26"
             ],
             [
              1,
              "#f0f921"
             ]
            ],
            "type": "histogram2dcontour"
           }
          ],
          "mesh3d": [
           {
            "colorbar": {
             "outlinewidth": 0,
             "ticks": ""
            },
            "type": "mesh3d"
           }
          ],
          "parcoords": [
           {
            "line": {
             "colorbar": {
              "outlinewidth": 0,
              "ticks": ""
             }
            },
            "type": "parcoords"
           }
          ],
          "pie": [
           {
            "automargin": true,
            "type": "pie"
           }
          ],
          "scatter": [
           {
            "fillpattern": {
             "fillmode": "overlay",
             "size": 10,
             "solidity": 0.2
            },
            "type": "scatter"
           }
          ],
          "scatter3d": [
           {
            "line": {
             "colorbar": {
              "outlinewidth": 0,
              "ticks": ""
             }
            },
            "marker": {
             "colorbar": {
              "outlinewidth": 0,
              "ticks": ""
             }
            },
            "type": "scatter3d"
           }
          ],
          "scattercarpet": [
           {
            "marker": {
             "colorbar": {
              "outlinewidth": 0,
              "ticks": ""
             }
            },
            "type": "scattercarpet"
           }
          ],
          "scattergeo": [
           {
            "marker": {
             "colorbar": {
              "outlinewidth": 0,
              "ticks": ""
             }
            },
            "type": "scattergeo"
           }
          ],
          "scattergl": [
           {
            "marker": {
             "colorbar": {
              "outlinewidth": 0,
              "ticks": ""
             }
            },
            "type": "scattergl"
           }
          ],
          "scattermapbox": [
           {
            "marker": {
             "colorbar": {
              "outlinewidth": 0,
              "ticks": ""
             }
            },
            "type": "scattermapbox"
           }
          ],
          "scatterpolar": [
           {
            "marker": {
             "colorbar": {
              "outlinewidth": 0,
              "ticks": ""
             }
            },
            "type": "scatterpolar"
           }
          ],
          "scatterpolargl": [
           {
            "marker": {
             "colorbar": {
              "outlinewidth": 0,
              "ticks": ""
             }
            },
            "type": "scatterpolargl"
           }
          ],
          "scatterternary": [
           {
            "marker": {
             "colorbar": {
              "outlinewidth": 0,
              "ticks": ""
             }
            },
            "type": "scatterternary"
           }
          ],
          "surface": [
           {
            "colorbar": {
             "outlinewidth": 0,
             "ticks": ""
            },
            "colorscale": [
             [
              0,
              "#0d0887"
             ],
             [
              0.1111111111111111,
              "#46039f"
             ],
             [
              0.2222222222222222,
              "#7201a8"
             ],
             [
              0.3333333333333333,
              "#9c179e"
             ],
             [
              0.4444444444444444,
              "#bd3786"
             ],
             [
              0.5555555555555556,
              "#d8576b"
             ],
             [
              0.6666666666666666,
              "#ed7953"
             ],
             [
              0.7777777777777778,
              "#fb9f3a"
             ],
             [
              0.8888888888888888,
              "#fdca26"
             ],
             [
              1,
              "#f0f921"
             ]
            ],
            "type": "surface"
           }
          ],
          "table": [
           {
            "cells": {
             "fill": {
              "color": "#EBF0F8"
             },
             "line": {
              "color": "white"
             }
            },
            "header": {
             "fill": {
              "color": "#C8D4E3"
             },
             "line": {
              "color": "white"
             }
            },
            "type": "table"
           }
          ]
         },
         "layout": {
          "annotationdefaults": {
           "arrowcolor": "#2a3f5f",
           "arrowhead": 0,
           "arrowwidth": 1
          },
          "autotypenumbers": "strict",
          "coloraxis": {
           "colorbar": {
            "outlinewidth": 0,
            "ticks": ""
           }
          },
          "colorscale": {
           "diverging": [
            [
             0,
             "#8e0152"
            ],
            [
             0.1,
             "#c51b7d"
            ],
            [
             0.2,
             "#de77ae"
            ],
            [
             0.3,
             "#f1b6da"
            ],
            [
             0.4,
             "#fde0ef"
            ],
            [
             0.5,
             "#f7f7f7"
            ],
            [
             0.6,
             "#e6f5d0"
            ],
            [
             0.7,
             "#b8e186"
            ],
            [
             0.8,
             "#7fbc41"
            ],
            [
             0.9,
             "#4d9221"
            ],
            [
             1,
             "#276419"
            ]
           ],
           "sequential": [
            [
             0,
             "#0d0887"
            ],
            [
             0.1111111111111111,
             "#46039f"
            ],
            [
             0.2222222222222222,
             "#7201a8"
            ],
            [
             0.3333333333333333,
             "#9c179e"
            ],
            [
             0.4444444444444444,
             "#bd3786"
            ],
            [
             0.5555555555555556,
             "#d8576b"
            ],
            [
             0.6666666666666666,
             "#ed7953"
            ],
            [
             0.7777777777777778,
             "#fb9f3a"
            ],
            [
             0.8888888888888888,
             "#fdca26"
            ],
            [
             1,
             "#f0f921"
            ]
           ],
           "sequentialminus": [
            [
             0,
             "#0d0887"
            ],
            [
             0.1111111111111111,
             "#46039f"
            ],
            [
             0.2222222222222222,
             "#7201a8"
            ],
            [
             0.3333333333333333,
             "#9c179e"
            ],
            [
             0.4444444444444444,
             "#bd3786"
            ],
            [
             0.5555555555555556,
             "#d8576b"
            ],
            [
             0.6666666666666666,
             "#ed7953"
            ],
            [
             0.7777777777777778,
             "#fb9f3a"
            ],
            [
             0.8888888888888888,
             "#fdca26"
            ],
            [
             1,
             "#f0f921"
            ]
           ]
          },
          "colorway": [
           "#636efa",
           "#EF553B",
           "#00cc96",
           "#ab63fa",
           "#FFA15A",
           "#19d3f3",
           "#FF6692",
           "#B6E880",
           "#FF97FF",
           "#FECB52"
          ],
          "font": {
           "color": "#2a3f5f"
          },
          "geo": {
           "bgcolor": "white",
           "lakecolor": "white",
           "landcolor": "#E5ECF6",
           "showlakes": true,
           "showland": true,
           "subunitcolor": "white"
          },
          "hoverlabel": {
           "align": "left"
          },
          "hovermode": "closest",
          "mapbox": {
           "style": "light"
          },
          "paper_bgcolor": "white",
          "plot_bgcolor": "#E5ECF6",
          "polar": {
           "angularaxis": {
            "gridcolor": "white",
            "linecolor": "white",
            "ticks": ""
           },
           "bgcolor": "#E5ECF6",
           "radialaxis": {
            "gridcolor": "white",
            "linecolor": "white",
            "ticks": ""
           }
          },
          "scene": {
           "xaxis": {
            "backgroundcolor": "#E5ECF6",
            "gridcolor": "white",
            "gridwidth": 2,
            "linecolor": "white",
            "showbackground": true,
            "ticks": "",
            "zerolinecolor": "white"
           },
           "yaxis": {
            "backgroundcolor": "#E5ECF6",
            "gridcolor": "white",
            "gridwidth": 2,
            "linecolor": "white",
            "showbackground": true,
            "ticks": "",
            "zerolinecolor": "white"
           },
           "zaxis": {
            "backgroundcolor": "#E5ECF6",
            "gridcolor": "white",
            "gridwidth": 2,
            "linecolor": "white",
            "showbackground": true,
            "ticks": "",
            "zerolinecolor": "white"
           }
          },
          "shapedefaults": {
           "line": {
            "color": "#2a3f5f"
           }
          },
          "ternary": {
           "aaxis": {
            "gridcolor": "white",
            "linecolor": "white",
            "ticks": ""
           },
           "baxis": {
            "gridcolor": "white",
            "linecolor": "white",
            "ticks": ""
           },
           "bgcolor": "#E5ECF6",
           "caxis": {
            "gridcolor": "white",
            "linecolor": "white",
            "ticks": ""
           }
          },
          "title": {
           "x": 0.05
          },
          "xaxis": {
           "automargin": true,
           "gridcolor": "white",
           "linecolor": "white",
           "ticks": "",
           "title": {
            "standoff": 15
           },
           "zerolinecolor": "white",
           "zerolinewidth": 2
          },
          "yaxis": {
           "automargin": true,
           "gridcolor": "white",
           "linecolor": "white",
           "ticks": "",
           "title": {
            "standoff": 15
           },
           "zerolinecolor": "white",
           "zerolinewidth": 2
          }
         }
        },
        "title": {
         "text": "Зависимость количества итераций обучения от значения максимальной ошибки"
        },
        "width": 1280,
        "xaxis": {
         "title": {
          "text": "Значение максимальной ошибки"
         }
        },
        "yaxis": {
         "title": {
          "text": "Количество итераций обучения"
         }
        }
       }
      }
     },
     "metadata": {},
     "output_type": "display_data"
    }
   ],
   "source": [
    "max_errors = list(range(1000, 3000, 100))\n",
    "all_errors: list[float] = []\n",
    "epochs_amount_mean: list[int] = []\n",
    "epochs_amount: list[int] = []\n",
    "fig = go.Figure()\n",
    "experiments_amount = 5\n",
    "for err in max_errors:\n",
    "    epoch_sum = 0\n",
    "    for i in range(experiments_amount):\n",
    "        all_errors.append(err)        \n",
    "        dl = LRNN(n, 50, 0.001)\n",
    "        dl.train(train, 15000, learn_by_loss=True, max_loss=err)\n",
    "        epoch_sum += dl.epoch\n",
    "        epochs_amount.append(dl.epoch)\n",
    "    epochs_amount_mean.append(epoch_sum / experiments_amount)\n",
    "fig.add_trace(go.Scatter(x=all_errors, y=epochs_amount, mode='markers',\n",
    "                         name='Все наблюдения'))\n",
    "fig.add_trace(go.Scatter(x=max_errors, y=epochs_amount_mean, mode='lines+markers',\n",
    "                         name='Средние значения'))\n",
    "fig.update_layout(title='Зависимость количества итераций обучения от значения максимальной ошибки',\n",
    "                  xaxis_title='Значение максимальной ошибки',\n",
    "                  yaxis_title='Количество итераций обучения',\n",
    "                  height=720, width=1280,\n",
    "                  font=dict(size=20))\n",
    "fig.show()"
   ]
  },
  {
   "cell_type": "markdown",
   "metadata": {},
   "source": [
    "## Relationship between image and epochs"
   ]
  },
  {
   "cell_type": "code",
   "execution_count": null,
   "metadata": {},
   "outputs": [
    {
     "name": "stdout",
     "output_type": "stream",
     "text": [
      "Z = 1.9230473377332657\n",
      "Epoch 1/15000, Loss: 5209.6318296366\n",
      "Epoch 2/15000, Loss: 3162.699429785375\n",
      "Epoch 3/15000, Loss: 2710.4352869350473\n",
      "Epoch 4/15000, Loss: 2450.4228952694975\n",
      "Epoch 5/15000, Loss: 2269.9157952415144\n",
      "Epoch 6/15000, Loss: 2136.711794596953\n",
      "Epoch 7/15000, Loss: 2032.7831097109295\n",
      "Epoch 8/15000, Loss: 1947.5842874855157\n",
      "Epoch 9/15000, Loss: 1876.4486331339565\n",
      "Epoch 10/15000, Loss: 1814.9423286750928\n",
      "Epoch 11/15000, Loss: 1761.5728006060206\n",
      "Epoch 12/15000, Loss: 1713.8186292179817\n",
      "Epoch 13/15000, Loss: 1670.877801951604\n",
      "Epoch 14/15000, Loss: 1631.9953954299272\n",
      "Epoch 15/15000, Loss: 1596.7104192915301\n",
      "Epoch 16/15000, Loss: 1564.6706844158416\n",
      "Epoch 17/15000, Loss: 1534.7862598245742\n",
      "Epoch 18/15000, Loss: 1506.9203029658981\n",
      "Epoch 19/15000, Loss: 1481.1870920688068\n",
      "19\n"
     ]
    }
   ],
   "source": [
    "# Collecting everything\n",
    "\n",
    "block_width = 10\n",
    "block_height = 10\n",
    "\n",
    "n = block_height * block_width\n",
    "# Hidden layer neuron amount\n",
    "p = 50 \n",
    "\n",
    "img = Image.open('images/winter.jpg')\n",
    "img_array = np.asarray(img)\n",
    "shape = img_array.shape\n",
    "blocks = image_to_blocks(img_array, block_height, block_width, overlap=0)\n",
    "\n",
    "l = len(blocks)\n",
    "# Compression coeff\n",
    "print('Z =', (n*l) / ((n+l) * p+2))\n",
    "\n",
    "color_df = ((2 * blocks / MAX_RGB_VALUE) - 1).reshape(len(blocks), -1, 3).transpose(0, 2, 1).reshape(-1, block_height * block_width)\n",
    "train = np.matrix(color_df[np.random.choice(color_df.shape[0], int(color_df.shape[0] * 0.05))])\n",
    "\n",
    "network = LRNN(n, p, 0.001)\n",
    "network.train(train, 15000, learn_by_loss=True, max_loss=1500)\n",
    "\n",
    "print(network.epoch)\n",
    "\n",
    "# compressed = compress_image(network.W_enc, img_array, COLOR_CHANNELS_AMOUNT, block_height, block_width, 0)\n",
    "# dimg = decompress_image(network.W_dec, compressed, shape, COLOR_CHANNELS_AMOUNT, block_height, block_width, 0)\n",
    "# dimg_array = np.asarray(dimg)\n",
    "# dimg.save('compression-decompression_test.jpg')"
   ]
  }
 ],
 "metadata": {
  "kernelspec": {
   "display_name": ".venv",
   "language": "python",
   "name": "python3"
  },
  "language_info": {
   "codemirror_mode": {
    "name": "ipython",
    "version": 3
   },
   "file_extension": ".py",
   "mimetype": "text/x-python",
   "name": "python",
   "nbconvert_exporter": "python",
   "pygments_lexer": "ipython3",
   "version": "3.11.9"
  }
 },
 "nbformat": 4,
 "nbformat_minor": 2
}
