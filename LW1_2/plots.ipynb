{
 "cells": [
  {
   "cell_type": "code",
   "execution_count": 7,
   "metadata": {},
   "outputs": [],
   "source": [
    "# Лабораторная работа 1 по дисциплине МРЗвИС\n",
    "# Выполнена студентом группы 121702\n",
    "# БГУИР Заломов Роман Андреевич\n",
    "#\n",
    "# Вариант 15: Реализовать модель линейной рециркуляционной сети \n",
    "# с постоянным коэффициентом обучения и нормированными весовыми коэффициентами.\n",
    "#\n",
    "# Данный файл содержит алгоритмы построения графиков различных зависимостей"
   ]
  },
  {
   "cell_type": "code",
   "execution_count": 8,
   "metadata": {},
   "outputs": [],
   "source": [
    "from lrnn import (\n",
    "    LRNN,\n",
    "    image_to_blocks,\n",
    "    compress_image,\n",
    "    decompress_image\n",
    ")\n",
    "import numpy as np\n",
    "from PIL import Image\n",
    "import plotly.graph_objects as go"
   ]
  },
  {
   "cell_type": "code",
   "execution_count": 9,
   "metadata": {},
   "outputs": [],
   "source": [
    "MAX_RGB_VALUE = 255\n",
    "COLOR_CHANNELS_AMOUNT = 3"
   ]
  },
  {
   "cell_type": "code",
   "execution_count": 10,
   "metadata": {},
   "outputs": [
    {
     "name": "stdout",
     "output_type": "stream",
     "text": [
      "Z = 4.807507403561401\n",
      "Epoch 1/15000, Loss: 2643.660627917333\n",
      "Epoch 2/15000, Loss: 2388.4832074880987\n",
      "Epoch 3/15000, Loss: 2262.88011232667\n",
      "Epoch 4/15000, Loss: 2180.2016166577155\n",
      "Epoch 5/15000, Loss: 2113.9801737655744\n",
      "Epoch 6/15000, Loss: 2062.730749948625\n",
      "Epoch 7/15000, Loss: 2016.5568945080618\n",
      "Epoch 8/15000, Loss: 1974.6083890575921\n",
      "Compression coefficient: 2.466780686751743\n",
      "Z = 4.807507403561401\n"
     ]
    }
   ],
   "source": [
    "# Collecting everything\n",
    "\n",
    "block_width = 10\n",
    "block_height = 10\n",
    "\n",
    "n = block_height * block_width\n",
    "# Hidden layer neuron amount\n",
    "p = 20 \n",
    "\n",
    "img = Image.open('car.jpg')\n",
    "img_array = np.asarray(img)\n",
    "shape = img_array.shape\n",
    "blocks = image_to_blocks(img_array, block_height, block_width, overlap=0)\n",
    "\n",
    "l = len(blocks)\n",
    "# Compression coeff\n",
    "print('Z =', (n*l) / ((n+l) * p+2))\n",
    "\n",
    "color_df = ((2 * blocks / MAX_RGB_VALUE) - 1).reshape(len(blocks), -1, 3).transpose(0, 2, 1).reshape(-1, block_height * block_width)\n",
    "train = np.matrix(color_df[np.random.choice(color_df.shape[0], int(color_df.shape[0] * 0.1))])\n",
    "\n",
    "\n",
    "network = LRNN(n, p, 0.001)\n",
    "network.train(train, 15000, learn_by_loss=True, max_loss=2000)\n",
    "\n",
    "compressed = compress_image(network.W_enc, img_array, COLOR_CHANNELS_AMOUNT, block_height, block_width, 0)\n",
    "\n",
    "compression_info_size = (\n",
    "    compressed.size * compressed.itemsize +\n",
    "    network.W_dec.size * network.W_dec.itemsize +\n",
    "    np.array(shape).size * np.array(shape).itemsize +\n",
    "    np.array((block_height, block_width)).size * np.array((block_height, block_width)).itemsize \n",
    ") * 8\n",
    "print(f'Compression coefficient: {(img_array.size * img_array.itemsize * 8) / compression_info_size}')\n",
    "print('Z =', (n*l) / ((n+l) * p + 2))\n",
    "\n",
    "dimg = decompress_image(network.W_dec, compressed, shape, COLOR_CHANNELS_AMOUNT, block_height, block_width, 0)\n",
    "dimg_array = np.asarray(dimg)\n",
    "dimg.save('compression-decompression_test.jpg')"
   ]
  },
  {
   "cell_type": "markdown",
   "metadata": {},
   "source": [
    "## Relation between learning rate and epochs "
   ]
  },
  {
   "cell_type": "code",
   "execution_count": 11,
   "metadata": {},
   "outputs": [
    {
     "name": "stdout",
     "output_type": "stream",
     "text": [
      "Epoch 1/15000, Loss: 4791.536501632571\n",
      "Epoch 2/15000, Loss: 3801.206481195449\n",
      "Epoch 3/15000, Loss: 3402.8885583780575\n",
      "Epoch 4/15000, Loss: 3169.307599432671\n",
      "Epoch 5/15000, Loss: 3010.818751850252\n",
      "Epoch 6/15000, Loss: 2892.621724158032\n",
      "Epoch 7/15000, Loss: 2800.334100442636\n",
      "Epoch 8/15000, Loss: 2726.2994060637225\n",
      "Epoch 9/15000, Loss: 2662.788763506726\n",
      "Epoch 10/15000, Loss: 2606.887768870418\n",
      "Epoch 11/15000, Loss: 2558.729268982725\n",
      "Epoch 12/15000, Loss: 2515.6489744712285\n",
      "Epoch 13/15000, Loss: 2476.1407290913353\n",
      "Epoch 1/15000, Loss: 4316.146037361944\n",
      "Epoch 2/15000, Loss: 3517.8978476408397\n",
      "Epoch 3/15000, Loss: 3146.632914621037\n",
      "Epoch 4/15000, Loss: 2926.7492494495746\n",
      "Epoch 5/15000, Loss: 2774.3286260204463\n",
      "Epoch 6/15000, Loss: 2660.3352712520145\n",
      "Epoch 7/15000, Loss: 2570.4073667816747\n",
      "Epoch 8/15000, Loss: 2495.1746661810653\n",
      "Epoch 1/15000, Loss: 2892.2990422741345\n",
      "Epoch 2/15000, Loss: 2686.809015198793\n",
      "Epoch 3/15000, Loss: 2578.568081886334\n",
      "Epoch 4/15000, Loss: 2501.9662556840503\n",
      "Epoch 5/15000, Loss: 2441.4926781402787\n",
      "Epoch 1/15000, Loss: 2823.796198304572\n",
      "Epoch 2/15000, Loss: 2561.972777632393\n",
      "Epoch 3/15000, Loss: 2440.7269070122716\n",
      "Epoch 1/15000, Loss: 3087.313087722504\n",
      "Epoch 2/15000, Loss: 2784.8402841810744\n",
      "Epoch 3/15000, Loss: 2610.43452884949\n",
      "Epoch 4/15000, Loss: 2488.8728884254647\n",
      "Epoch 1/15000, Loss: 2472.354066105789\n"
     ]
    },
    {
     "data": {
      "application/vnd.plotly.v1+json": {
       "config": {
        "plotlyServerURL": "https://plot.ly"
       },
       "data": [
        {
         "mode": "lines+markers",
         "type": "scatter",
         "x": [
          0.0005,
          0.0006,
          0.0007,
          0.0008,
          0.0009,
          0.001
         ],
         "y": [
          13,
          8,
          5,
          3,
          4,
          1
         ]
        }
       ],
       "layout": {
        "font": {
         "size": 20
        },
        "height": 720,
        "template": {
         "data": {
          "bar": [
           {
            "error_x": {
             "color": "#2a3f5f"
            },
            "error_y": {
             "color": "#2a3f5f"
            },
            "marker": {
             "line": {
              "color": "#E5ECF6",
              "width": 0.5
             },
             "pattern": {
              "fillmode": "overlay",
              "size": 10,
              "solidity": 0.2
             }
            },
            "type": "bar"
           }
          ],
          "barpolar": [
           {
            "marker": {
             "line": {
              "color": "#E5ECF6",
              "width": 0.5
             },
             "pattern": {
              "fillmode": "overlay",
              "size": 10,
              "solidity": 0.2
             }
            },
            "type": "barpolar"
           }
          ],
          "carpet": [
           {
            "aaxis": {
             "endlinecolor": "#2a3f5f",
             "gridcolor": "white",
             "linecolor": "white",
             "minorgridcolor": "white",
             "startlinecolor": "#2a3f5f"
            },
            "baxis": {
             "endlinecolor": "#2a3f5f",
             "gridcolor": "white",
             "linecolor": "white",
             "minorgridcolor": "white",
             "startlinecolor": "#2a3f5f"
            },
            "type": "carpet"
           }
          ],
          "choropleth": [
           {
            "colorbar": {
             "outlinewidth": 0,
             "ticks": ""
            },
            "type": "choropleth"
           }
          ],
          "contour": [
           {
            "colorbar": {
             "outlinewidth": 0,
             "ticks": ""
            },
            "colorscale": [
             [
              0,
              "#0d0887"
             ],
             [
              0.1111111111111111,
              "#46039f"
             ],
             [
              0.2222222222222222,
              "#7201a8"
             ],
             [
              0.3333333333333333,
              "#9c179e"
             ],
             [
              0.4444444444444444,
              "#bd3786"
             ],
             [
              0.5555555555555556,
              "#d8576b"
             ],
             [
              0.6666666666666666,
              "#ed7953"
             ],
             [
              0.7777777777777778,
              "#fb9f3a"
             ],
             [
              0.8888888888888888,
              "#fdca26"
             ],
             [
              1,
              "#f0f921"
             ]
            ],
            "type": "contour"
           }
          ],
          "contourcarpet": [
           {
            "colorbar": {
             "outlinewidth": 0,
             "ticks": ""
            },
            "type": "contourcarpet"
           }
          ],
          "heatmap": [
           {
            "colorbar": {
             "outlinewidth": 0,
             "ticks": ""
            },
            "colorscale": [
             [
              0,
              "#0d0887"
             ],
             [
              0.1111111111111111,
              "#46039f"
             ],
             [
              0.2222222222222222,
              "#7201a8"
             ],
             [
              0.3333333333333333,
              "#9c179e"
             ],
             [
              0.4444444444444444,
              "#bd3786"
             ],
             [
              0.5555555555555556,
              "#d8576b"
             ],
             [
              0.6666666666666666,
              "#ed7953"
             ],
             [
              0.7777777777777778,
              "#fb9f3a"
             ],
             [
              0.8888888888888888,
              "#fdca26"
             ],
             [
              1,
              "#f0f921"
             ]
            ],
            "type": "heatmap"
           }
          ],
          "heatmapgl": [
           {
            "colorbar": {
             "outlinewidth": 0,
             "ticks": ""
            },
            "colorscale": [
             [
              0,
              "#0d0887"
             ],
             [
              0.1111111111111111,
              "#46039f"
             ],
             [
              0.2222222222222222,
              "#7201a8"
             ],
             [
              0.3333333333333333,
              "#9c179e"
             ],
             [
              0.4444444444444444,
              "#bd3786"
             ],
             [
              0.5555555555555556,
              "#d8576b"
             ],
             [
              0.6666666666666666,
              "#ed7953"
             ],
             [
              0.7777777777777778,
              "#fb9f3a"
             ],
             [
              0.8888888888888888,
              "#fdca26"
             ],
             [
              1,
              "#f0f921"
             ]
            ],
            "type": "heatmapgl"
           }
          ],
          "histogram": [
           {
            "marker": {
             "pattern": {
              "fillmode": "overlay",
              "size": 10,
              "solidity": 0.2
             }
            },
            "type": "histogram"
           }
          ],
          "histogram2d": [
           {
            "colorbar": {
             "outlinewidth": 0,
             "ticks": ""
            },
            "colorscale": [
             [
              0,
              "#0d0887"
             ],
             [
              0.1111111111111111,
              "#46039f"
             ],
             [
              0.2222222222222222,
              "#7201a8"
             ],
             [
              0.3333333333333333,
              "#9c179e"
             ],
             [
              0.4444444444444444,
              "#bd3786"
             ],
             [
              0.5555555555555556,
              "#d8576b"
             ],
             [
              0.6666666666666666,
              "#ed7953"
             ],
             [
              0.7777777777777778,
              "#fb9f3a"
             ],
             [
              0.8888888888888888,
              "#fdca26"
             ],
             [
              1,
              "#f0f921"
             ]
            ],
            "type": "histogram2d"
           }
          ],
          "histogram2dcontour": [
           {
            "colorbar": {
             "outlinewidth": 0,
             "ticks": ""
            },
            "colorscale": [
             [
              0,
              "#0d0887"
             ],
             [
              0.1111111111111111,
              "#46039f"
             ],
             [
              0.2222222222222222,
              "#7201a8"
             ],
             [
              0.3333333333333333,
              "#9c179e"
             ],
             [
              0.4444444444444444,
              "#bd3786"
             ],
             [
              0.5555555555555556,
              "#d8576b"
             ],
             [
              0.6666666666666666,
              "#ed7953"
             ],
             [
              0.7777777777777778,
              "#fb9f3a"
             ],
             [
              0.8888888888888888,
              "#fdca26"
             ],
             [
              1,
              "#f0f921"
             ]
            ],
            "type": "histogram2dcontour"
           }
          ],
          "mesh3d": [
           {
            "colorbar": {
             "outlinewidth": 0,
             "ticks": ""
            },
            "type": "mesh3d"
           }
          ],
          "parcoords": [
           {
            "line": {
             "colorbar": {
              "outlinewidth": 0,
              "ticks": ""
             }
            },
            "type": "parcoords"
           }
          ],
          "pie": [
           {
            "automargin": true,
            "type": "pie"
           }
          ],
          "scatter": [
           {
            "fillpattern": {
             "fillmode": "overlay",
             "size": 10,
             "solidity": 0.2
            },
            "type": "scatter"
           }
          ],
          "scatter3d": [
           {
            "line": {
             "colorbar": {
              "outlinewidth": 0,
              "ticks": ""
             }
            },
            "marker": {
             "colorbar": {
              "outlinewidth": 0,
              "ticks": ""
             }
            },
            "type": "scatter3d"
           }
          ],
          "scattercarpet": [
           {
            "marker": {
             "colorbar": {
              "outlinewidth": 0,
              "ticks": ""
             }
            },
            "type": "scattercarpet"
           }
          ],
          "scattergeo": [
           {
            "marker": {
             "colorbar": {
              "outlinewidth": 0,
              "ticks": ""
             }
            },
            "type": "scattergeo"
           }
          ],
          "scattergl": [
           {
            "marker": {
             "colorbar": {
              "outlinewidth": 0,
              "ticks": ""
             }
            },
            "type": "scattergl"
           }
          ],
          "scattermapbox": [
           {
            "marker": {
             "colorbar": {
              "outlinewidth": 0,
              "ticks": ""
             }
            },
            "type": "scattermapbox"
           }
          ],
          "scatterpolar": [
           {
            "marker": {
             "colorbar": {
              "outlinewidth": 0,
              "ticks": ""
             }
            },
            "type": "scatterpolar"
           }
          ],
          "scatterpolargl": [
           {
            "marker": {
             "colorbar": {
              "outlinewidth": 0,
              "ticks": ""
             }
            },
            "type": "scatterpolargl"
           }
          ],
          "scatterternary": [
           {
            "marker": {
             "colorbar": {
              "outlinewidth": 0,
              "ticks": ""
             }
            },
            "type": "scatterternary"
           }
          ],
          "surface": [
           {
            "colorbar": {
             "outlinewidth": 0,
             "ticks": ""
            },
            "colorscale": [
             [
              0,
              "#0d0887"
             ],
             [
              0.1111111111111111,
              "#46039f"
             ],
             [
              0.2222222222222222,
              "#7201a8"
             ],
             [
              0.3333333333333333,
              "#9c179e"
             ],
             [
              0.4444444444444444,
              "#bd3786"
             ],
             [
              0.5555555555555556,
              "#d8576b"
             ],
             [
              0.6666666666666666,
              "#ed7953"
             ],
             [
              0.7777777777777778,
              "#fb9f3a"
             ],
             [
              0.8888888888888888,
              "#fdca26"
             ],
             [
              1,
              "#f0f921"
             ]
            ],
            "type": "surface"
           }
          ],
          "table": [
           {
            "cells": {
             "fill": {
              "color": "#EBF0F8"
             },
             "line": {
              "color": "white"
             }
            },
            "header": {
             "fill": {
              "color": "#C8D4E3"
             },
             "line": {
              "color": "white"
             }
            },
            "type": "table"
           }
          ]
         },
         "layout": {
          "annotationdefaults": {
           "arrowcolor": "#2a3f5f",
           "arrowhead": 0,
           "arrowwidth": 1
          },
          "autotypenumbers": "strict",
          "coloraxis": {
           "colorbar": {
            "outlinewidth": 0,
            "ticks": ""
           }
          },
          "colorscale": {
           "diverging": [
            [
             0,
             "#8e0152"
            ],
            [
             0.1,
             "#c51b7d"
            ],
            [
             0.2,
             "#de77ae"
            ],
            [
             0.3,
             "#f1b6da"
            ],
            [
             0.4,
             "#fde0ef"
            ],
            [
             0.5,
             "#f7f7f7"
            ],
            [
             0.6,
             "#e6f5d0"
            ],
            [
             0.7,
             "#b8e186"
            ],
            [
             0.8,
             "#7fbc41"
            ],
            [
             0.9,
             "#4d9221"
            ],
            [
             1,
             "#276419"
            ]
           ],
           "sequential": [
            [
             0,
             "#0d0887"
            ],
            [
             0.1111111111111111,
             "#46039f"
            ],
            [
             0.2222222222222222,
             "#7201a8"
            ],
            [
             0.3333333333333333,
             "#9c179e"
            ],
            [
             0.4444444444444444,
             "#bd3786"
            ],
            [
             0.5555555555555556,
             "#d8576b"
            ],
            [
             0.6666666666666666,
             "#ed7953"
            ],
            [
             0.7777777777777778,
             "#fb9f3a"
            ],
            [
             0.8888888888888888,
             "#fdca26"
            ],
            [
             1,
             "#f0f921"
            ]
           ],
           "sequentialminus": [
            [
             0,
             "#0d0887"
            ],
            [
             0.1111111111111111,
             "#46039f"
            ],
            [
             0.2222222222222222,
             "#7201a8"
            ],
            [
             0.3333333333333333,
             "#9c179e"
            ],
            [
             0.4444444444444444,
             "#bd3786"
            ],
            [
             0.5555555555555556,
             "#d8576b"
            ],
            [
             0.6666666666666666,
             "#ed7953"
            ],
            [
             0.7777777777777778,
             "#fb9f3a"
            ],
            [
             0.8888888888888888,
             "#fdca26"
            ],
            [
             1,
             "#f0f921"
            ]
           ]
          },
          "colorway": [
           "#636efa",
           "#EF553B",
           "#00cc96",
           "#ab63fa",
           "#FFA15A",
           "#19d3f3",
           "#FF6692",
           "#B6E880",
           "#FF97FF",
           "#FECB52"
          ],
          "font": {
           "color": "#2a3f5f"
          },
          "geo": {
           "bgcolor": "white",
           "lakecolor": "white",
           "landcolor": "#E5ECF6",
           "showlakes": true,
           "showland": true,
           "subunitcolor": "white"
          },
          "hoverlabel": {
           "align": "left"
          },
          "hovermode": "closest",
          "mapbox": {
           "style": "light"
          },
          "paper_bgcolor": "white",
          "plot_bgcolor": "#E5ECF6",
          "polar": {
           "angularaxis": {
            "gridcolor": "white",
            "linecolor": "white",
            "ticks": ""
           },
           "bgcolor": "#E5ECF6",
           "radialaxis": {
            "gridcolor": "white",
            "linecolor": "white",
            "ticks": ""
           }
          },
          "scene": {
           "xaxis": {
            "backgroundcolor": "#E5ECF6",
            "gridcolor": "white",
            "gridwidth": 2,
            "linecolor": "white",
            "showbackground": true,
            "ticks": "",
            "zerolinecolor": "white"
           },
           "yaxis": {
            "backgroundcolor": "#E5ECF6",
            "gridcolor": "white",
            "gridwidth": 2,
            "linecolor": "white",
            "showbackground": true,
            "ticks": "",
            "zerolinecolor": "white"
           },
           "zaxis": {
            "backgroundcolor": "#E5ECF6",
            "gridcolor": "white",
            "gridwidth": 2,
            "linecolor": "white",
            "showbackground": true,
            "ticks": "",
            "zerolinecolor": "white"
           }
          },
          "shapedefaults": {
           "line": {
            "color": "#2a3f5f"
           }
          },
          "ternary": {
           "aaxis": {
            "gridcolor": "white",
            "linecolor": "white",
            "ticks": ""
           },
           "baxis": {
            "gridcolor": "white",
            "linecolor": "white",
            "ticks": ""
           },
           "bgcolor": "#E5ECF6",
           "caxis": {
            "gridcolor": "white",
            "linecolor": "white",
            "ticks": ""
           }
          },
          "title": {
           "x": 0.05
          },
          "xaxis": {
           "automargin": true,
           "gridcolor": "white",
           "linecolor": "white",
           "ticks": "",
           "title": {
            "standoff": 15
           },
           "zerolinecolor": "white",
           "zerolinewidth": 2
          },
          "yaxis": {
           "automargin": true,
           "gridcolor": "white",
           "linecolor": "white",
           "ticks": "",
           "title": {
            "standoff": 15
           },
           "zerolinecolor": "white",
           "zerolinewidth": 2
          }
         }
        },
        "title": {
         "text": "Зависимость количества итераций обучения от коэффициента обучения"
        },
        "width": 1280,
        "xaxis": {
         "title": {
          "text": "Коэффициент обучения"
         }
        },
        "yaxis": {
         "title": {
          "text": "Количество итераций обучения"
         }
        }
       }
      }
     },
     "metadata": {},
     "output_type": "display_data"
    }
   ],
   "source": [
    "alphas = (0.0005, 0.0006, 0.0007, 0.0008, 0.0009, 0.001)\n",
    "epochs_amount: list[int] = []\n",
    "for alpha in alphas:\n",
    "    dl = LRNN(n, p, alpha)\n",
    "    dl.train(train, 15000, learn_by_loss=True, max_loss=2500)\n",
    "    epochs_amount.append(dl.epoch)\n",
    "fig = go.Figure()\n",
    "fig.add_trace(go.Scatter(x=alphas, y=epochs_amount, mode='lines+markers'))\n",
    "fig.update_layout(title='Зависимость количества итераций обучения от коэффициента обучения',\n",
    "                  xaxis_title='Коэффициент обучения',\n",
    "                  yaxis_title='Количество итераций обучения',\n",
    "                  height=720, width=1280,\n",
    "                  font=dict(size=20))\n",
    "fig.show()"
   ]
  },
  {
   "cell_type": "markdown",
   "metadata": {},
   "source": [
    "## Relationship between hidden layer dimension and epochs"
   ]
  },
  {
   "cell_type": "code",
   "execution_count": 12,
   "metadata": {},
   "outputs": [
    {
     "name": "stdout",
     "output_type": "stream",
     "text": [
      "Epoch 1/15000, Loss: 3389.9609106053326\n",
      "Epoch 2/15000, Loss: 2795.76864363157\n",
      "Epoch 3/15000, Loss: 2547.859915828938\n",
      "Epoch 4/15000, Loss: 2421.031577586499\n",
      "Epoch 5/15000, Loss: 2342.7152640161958\n",
      "Epoch 6/15000, Loss: 2287.875317685338\n",
      "Epoch 7/15000, Loss: 2248.6729535452\n",
      "Epoch 8/15000, Loss: 2218.2840994135568\n",
      "Epoch 9/15000, Loss: 2195.319457131569\n",
      "Epoch 10/15000, Loss: 2173.1878688083098\n",
      "Epoch 11/15000, Loss: 2156.3987447139257\n",
      "Epoch 12/15000, Loss: 2140.901089799217\n",
      "Epoch 13/15000, Loss: 2124.274210936122\n",
      "Epoch 14/15000, Loss: 2111.780207152004\n",
      "Epoch 15/15000, Loss: 2097.797073039105\n",
      "Epoch 16/15000, Loss: 2085.659058462184\n",
      "Epoch 17/15000, Loss: 2074.137886517042\n",
      "Epoch 18/15000, Loss: 2062.0938519072233\n",
      "Epoch 19/15000, Loss: 2051.3129557167226\n",
      "Epoch 20/15000, Loss: 2040.5475012529719\n",
      "Epoch 21/15000, Loss: 2031.129864144571\n",
      "Epoch 22/15000, Loss: 2021.3206155594576\n",
      "Epoch 23/15000, Loss: 2011.0679452108861\n",
      "Epoch 24/15000, Loss: 2000.8957510652083\n",
      "Epoch 25/15000, Loss: 1990.6423877542234\n",
      "Epoch 1/15000, Loss: 2280.8872637540735\n",
      "Epoch 2/15000, Loss: 2217.4745566426195\n",
      "Epoch 3/15000, Loss: 2182.0482123911033\n",
      "Epoch 4/15000, Loss: 2153.501036762659\n",
      "Epoch 5/15000, Loss: 2138.5899213080593\n",
      "Epoch 6/15000, Loss: 2118.5270948777465\n",
      "Epoch 7/15000, Loss: 2105.167198027147\n",
      "Epoch 8/15000, Loss: 2090.3485170866866\n",
      "Epoch 9/15000, Loss: 2079.510516168787\n",
      "Epoch 10/15000, Loss: 2069.537044352524\n",
      "Epoch 11/15000, Loss: 2061.607139121224\n",
      "Epoch 12/15000, Loss: 2051.7705307974725\n",
      "Epoch 13/15000, Loss: 2043.5091633586674\n",
      "Epoch 14/15000, Loss: 2034.2271215226765\n",
      "Epoch 15/15000, Loss: 2027.2055257479053\n",
      "Epoch 16/15000, Loss: 2018.676427404115\n",
      "Epoch 17/15000, Loss: 2010.0858581220743\n",
      "Epoch 18/15000, Loss: 2002.0134914987386\n",
      "Epoch 19/15000, Loss: 1995.389943476734\n",
      "Epoch 1/15000, Loss: 2533.327290692959\n",
      "Epoch 2/15000, Loss: 2342.574000566439\n",
      "Epoch 3/15000, Loss: 2242.911509544452\n",
      "Epoch 4/15000, Loss: 2175.410781076638\n",
      "Epoch 5/15000, Loss: 2123.670376306578\n",
      "Epoch 6/15000, Loss: 2082.6575969699998\n",
      "Epoch 7/15000, Loss: 2048.326028159199\n",
      "Epoch 8/15000, Loss: 2018.8653686132166\n",
      "Epoch 9/15000, Loss: 1993.4852858554086\n",
      "Epoch 1/15000, Loss: 2855.818530266725\n",
      "Epoch 2/15000, Loss: 2577.171044113155\n",
      "Epoch 3/15000, Loss: 2388.579383270302\n",
      "Epoch 4/15000, Loss: 2234.1880642085325\n",
      "Epoch 5/15000, Loss: 2129.139272819989\n",
      "Epoch 6/15000, Loss: 2044.7767711222398\n",
      "Epoch 7/15000, Loss: 1962.8011651157822\n",
      "Epoch 1/15000, Loss: 2917.811631249658\n",
      "Epoch 2/15000, Loss: 2529.3954902742485\n",
      "Epoch 3/15000, Loss: 2339.7082734450455\n",
      "Epoch 4/15000, Loss: 2201.443444321975\n",
      "Epoch 5/15000, Loss: 2107.2766554191867\n",
      "Epoch 6/15000, Loss: 2034.8695333212404\n",
      "Epoch 7/15000, Loss: 1967.4256933387137\n",
      "Epoch 1/15000, Loss: 3062.6961485612137\n",
      "Epoch 2/15000, Loss: 2638.102479005401\n",
      "Epoch 3/15000, Loss: 2403.6250288477813\n",
      "Epoch 4/15000, Loss: 2239.2872226014956\n",
      "Epoch 5/15000, Loss: 2123.405025052205\n",
      "Epoch 6/15000, Loss: 2012.8329249218025\n",
      "Epoch 7/15000, Loss: 1927.5089315073426\n",
      "Epoch 1/15000, Loss: 3014.045059597057\n",
      "Epoch 2/15000, Loss: 2435.2368700426696\n",
      "Epoch 3/15000, Loss: 2172.7784900689517\n",
      "Epoch 4/15000, Loss: 1996.2754690170345\n"
     ]
    },
    {
     "data": {
      "application/vnd.plotly.v1+json": {
       "config": {
        "plotlyServerURL": "https://plot.ly"
       },
       "data": [
        {
         "mode": "lines+markers",
         "type": "scatter",
         "x": [
          9.614645027305592,
          6.409927696015589,
          4.807507403561401,
          3.846035506599797,
          3.2050460244609114,
          2.7471923693984746,
          2.4037999269244823
         ],
         "y": [
          25,
          19,
          9,
          7,
          7,
          7,
          4
         ]
        }
       ],
       "layout": {
        "font": {
         "size": 20
        },
        "height": 720,
        "template": {
         "data": {
          "bar": [
           {
            "error_x": {
             "color": "#2a3f5f"
            },
            "error_y": {
             "color": "#2a3f5f"
            },
            "marker": {
             "line": {
              "color": "#E5ECF6",
              "width": 0.5
             },
             "pattern": {
              "fillmode": "overlay",
              "size": 10,
              "solidity": 0.2
             }
            },
            "type": "bar"
           }
          ],
          "barpolar": [
           {
            "marker": {
             "line": {
              "color": "#E5ECF6",
              "width": 0.5
             },
             "pattern": {
              "fillmode": "overlay",
              "size": 10,
              "solidity": 0.2
             }
            },
            "type": "barpolar"
           }
          ],
          "carpet": [
           {
            "aaxis": {
             "endlinecolor": "#2a3f5f",
             "gridcolor": "white",
             "linecolor": "white",
             "minorgridcolor": "white",
             "startlinecolor": "#2a3f5f"
            },
            "baxis": {
             "endlinecolor": "#2a3f5f",
             "gridcolor": "white",
             "linecolor": "white",
             "minorgridcolor": "white",
             "startlinecolor": "#2a3f5f"
            },
            "type": "carpet"
           }
          ],
          "choropleth": [
           {
            "colorbar": {
             "outlinewidth": 0,
             "ticks": ""
            },
            "type": "choropleth"
           }
          ],
          "contour": [
           {
            "colorbar": {
             "outlinewidth": 0,
             "ticks": ""
            },
            "colorscale": [
             [
              0,
              "#0d0887"
             ],
             [
              0.1111111111111111,
              "#46039f"
             ],
             [
              0.2222222222222222,
              "#7201a8"
             ],
             [
              0.3333333333333333,
              "#9c179e"
             ],
             [
              0.4444444444444444,
              "#bd3786"
             ],
             [
              0.5555555555555556,
              "#d8576b"
             ],
             [
              0.6666666666666666,
              "#ed7953"
             ],
             [
              0.7777777777777778,
              "#fb9f3a"
             ],
             [
              0.8888888888888888,
              "#fdca26"
             ],
             [
              1,
              "#f0f921"
             ]
            ],
            "type": "contour"
           }
          ],
          "contourcarpet": [
           {
            "colorbar": {
             "outlinewidth": 0,
             "ticks": ""
            },
            "type": "contourcarpet"
           }
          ],
          "heatmap": [
           {
            "colorbar": {
             "outlinewidth": 0,
             "ticks": ""
            },
            "colorscale": [
             [
              0,
              "#0d0887"
             ],
             [
              0.1111111111111111,
              "#46039f"
             ],
             [
              0.2222222222222222,
              "#7201a8"
             ],
             [
              0.3333333333333333,
              "#9c179e"
             ],
             [
              0.4444444444444444,
              "#bd3786"
             ],
             [
              0.5555555555555556,
              "#d8576b"
             ],
             [
              0.6666666666666666,
              "#ed7953"
             ],
             [
              0.7777777777777778,
              "#fb9f3a"
             ],
             [
              0.8888888888888888,
              "#fdca26"
             ],
             [
              1,
              "#f0f921"
             ]
            ],
            "type": "heatmap"
           }
          ],
          "heatmapgl": [
           {
            "colorbar": {
             "outlinewidth": 0,
             "ticks": ""
            },
            "colorscale": [
             [
              0,
              "#0d0887"
             ],
             [
              0.1111111111111111,
              "#46039f"
             ],
             [
              0.2222222222222222,
              "#7201a8"
             ],
             [
              0.3333333333333333,
              "#9c179e"
             ],
             [
              0.4444444444444444,
              "#bd3786"
             ],
             [
              0.5555555555555556,
              "#d8576b"
             ],
             [
              0.6666666666666666,
              "#ed7953"
             ],
             [
              0.7777777777777778,
              "#fb9f3a"
             ],
             [
              0.8888888888888888,
              "#fdca26"
             ],
             [
              1,
              "#f0f921"
             ]
            ],
            "type": "heatmapgl"
           }
          ],
          "histogram": [
           {
            "marker": {
             "pattern": {
              "fillmode": "overlay",
              "size": 10,
              "solidity": 0.2
             }
            },
            "type": "histogram"
           }
          ],
          "histogram2d": [
           {
            "colorbar": {
             "outlinewidth": 0,
             "ticks": ""
            },
            "colorscale": [
             [
              0,
              "#0d0887"
             ],
             [
              0.1111111111111111,
              "#46039f"
             ],
             [
              0.2222222222222222,
              "#7201a8"
             ],
             [
              0.3333333333333333,
              "#9c179e"
             ],
             [
              0.4444444444444444,
              "#bd3786"
             ],
             [
              0.5555555555555556,
              "#d8576b"
             ],
             [
              0.6666666666666666,
              "#ed7953"
             ],
             [
              0.7777777777777778,
              "#fb9f3a"
             ],
             [
              0.8888888888888888,
              "#fdca26"
             ],
             [
              1,
              "#f0f921"
             ]
            ],
            "type": "histogram2d"
           }
          ],
          "histogram2dcontour": [
           {
            "colorbar": {
             "outlinewidth": 0,
             "ticks": ""
            },
            "colorscale": [
             [
              0,
              "#0d0887"
             ],
             [
              0.1111111111111111,
              "#46039f"
             ],
             [
              0.2222222222222222,
              "#7201a8"
             ],
             [
              0.3333333333333333,
              "#9c179e"
             ],
             [
              0.4444444444444444,
              "#bd3786"
             ],
             [
              0.5555555555555556,
              "#d8576b"
             ],
             [
              0.6666666666666666,
              "#ed7953"
             ],
             [
              0.7777777777777778,
              "#fb9f3a"
             ],
             [
              0.8888888888888888,
              "#fdca26"
             ],
             [
              1,
              "#f0f921"
             ]
            ],
            "type": "histogram2dcontour"
           }
          ],
          "mesh3d": [
           {
            "colorbar": {
             "outlinewidth": 0,
             "ticks": ""
            },
            "type": "mesh3d"
           }
          ],
          "parcoords": [
           {
            "line": {
             "colorbar": {
              "outlinewidth": 0,
              "ticks": ""
             }
            },
            "type": "parcoords"
           }
          ],
          "pie": [
           {
            "automargin": true,
            "type": "pie"
           }
          ],
          "scatter": [
           {
            "fillpattern": {
             "fillmode": "overlay",
             "size": 10,
             "solidity": 0.2
            },
            "type": "scatter"
           }
          ],
          "scatter3d": [
           {
            "line": {
             "colorbar": {
              "outlinewidth": 0,
              "ticks": ""
             }
            },
            "marker": {
             "colorbar": {
              "outlinewidth": 0,
              "ticks": ""
             }
            },
            "type": "scatter3d"
           }
          ],
          "scattercarpet": [
           {
            "marker": {
             "colorbar": {
              "outlinewidth": 0,
              "ticks": ""
             }
            },
            "type": "scattercarpet"
           }
          ],
          "scattergeo": [
           {
            "marker": {
             "colorbar": {
              "outlinewidth": 0,
              "ticks": ""
             }
            },
            "type": "scattergeo"
           }
          ],
          "scattergl": [
           {
            "marker": {
             "colorbar": {
              "outlinewidth": 0,
              "ticks": ""
             }
            },
            "type": "scattergl"
           }
          ],
          "scattermapbox": [
           {
            "marker": {
             "colorbar": {
              "outlinewidth": 0,
              "ticks": ""
             }
            },
            "type": "scattermapbox"
           }
          ],
          "scatterpolar": [
           {
            "marker": {
             "colorbar": {
              "outlinewidth": 0,
              "ticks": ""
             }
            },
            "type": "scatterpolar"
           }
          ],
          "scatterpolargl": [
           {
            "marker": {
             "colorbar": {
              "outlinewidth": 0,
              "ticks": ""
             }
            },
            "type": "scatterpolargl"
           }
          ],
          "scatterternary": [
           {
            "marker": {
             "colorbar": {
              "outlinewidth": 0,
              "ticks": ""
             }
            },
            "type": "scatterternary"
           }
          ],
          "surface": [
           {
            "colorbar": {
             "outlinewidth": 0,
             "ticks": ""
            },
            "colorscale": [
             [
              0,
              "#0d0887"
             ],
             [
              0.1111111111111111,
              "#46039f"
             ],
             [
              0.2222222222222222,
              "#7201a8"
             ],
             [
              0.3333333333333333,
              "#9c179e"
             ],
             [
              0.4444444444444444,
              "#bd3786"
             ],
             [
              0.5555555555555556,
              "#d8576b"
             ],
             [
              0.6666666666666666,
              "#ed7953"
             ],
             [
              0.7777777777777778,
              "#fb9f3a"
             ],
             [
              0.8888888888888888,
              "#fdca26"
             ],
             [
              1,
              "#f0f921"
             ]
            ],
            "type": "surface"
           }
          ],
          "table": [
           {
            "cells": {
             "fill": {
              "color": "#EBF0F8"
             },
             "line": {
              "color": "white"
             }
            },
            "header": {
             "fill": {
              "color": "#C8D4E3"
             },
             "line": {
              "color": "white"
             }
            },
            "type": "table"
           }
          ]
         },
         "layout": {
          "annotationdefaults": {
           "arrowcolor": "#2a3f5f",
           "arrowhead": 0,
           "arrowwidth": 1
          },
          "autotypenumbers": "strict",
          "coloraxis": {
           "colorbar": {
            "outlinewidth": 0,
            "ticks": ""
           }
          },
          "colorscale": {
           "diverging": [
            [
             0,
             "#8e0152"
            ],
            [
             0.1,
             "#c51b7d"
            ],
            [
             0.2,
             "#de77ae"
            ],
            [
             0.3,
             "#f1b6da"
            ],
            [
             0.4,
             "#fde0ef"
            ],
            [
             0.5,
             "#f7f7f7"
            ],
            [
             0.6,
             "#e6f5d0"
            ],
            [
             0.7,
             "#b8e186"
            ],
            [
             0.8,
             "#7fbc41"
            ],
            [
             0.9,
             "#4d9221"
            ],
            [
             1,
             "#276419"
            ]
           ],
           "sequential": [
            [
             0,
             "#0d0887"
            ],
            [
             0.1111111111111111,
             "#46039f"
            ],
            [
             0.2222222222222222,
             "#7201a8"
            ],
            [
             0.3333333333333333,
             "#9c179e"
            ],
            [
             0.4444444444444444,
             "#bd3786"
            ],
            [
             0.5555555555555556,
             "#d8576b"
            ],
            [
             0.6666666666666666,
             "#ed7953"
            ],
            [
             0.7777777777777778,
             "#fb9f3a"
            ],
            [
             0.8888888888888888,
             "#fdca26"
            ],
            [
             1,
             "#f0f921"
            ]
           ],
           "sequentialminus": [
            [
             0,
             "#0d0887"
            ],
            [
             0.1111111111111111,
             "#46039f"
            ],
            [
             0.2222222222222222,
             "#7201a8"
            ],
            [
             0.3333333333333333,
             "#9c179e"
            ],
            [
             0.4444444444444444,
             "#bd3786"
            ],
            [
             0.5555555555555556,
             "#d8576b"
            ],
            [
             0.6666666666666666,
             "#ed7953"
            ],
            [
             0.7777777777777778,
             "#fb9f3a"
            ],
            [
             0.8888888888888888,
             "#fdca26"
            ],
            [
             1,
             "#f0f921"
            ]
           ]
          },
          "colorway": [
           "#636efa",
           "#EF553B",
           "#00cc96",
           "#ab63fa",
           "#FFA15A",
           "#19d3f3",
           "#FF6692",
           "#B6E880",
           "#FF97FF",
           "#FECB52"
          ],
          "font": {
           "color": "#2a3f5f"
          },
          "geo": {
           "bgcolor": "white",
           "lakecolor": "white",
           "landcolor": "#E5ECF6",
           "showlakes": true,
           "showland": true,
           "subunitcolor": "white"
          },
          "hoverlabel": {
           "align": "left"
          },
          "hovermode": "closest",
          "mapbox": {
           "style": "light"
          },
          "paper_bgcolor": "white",
          "plot_bgcolor": "#E5ECF6",
          "polar": {
           "angularaxis": {
            "gridcolor": "white",
            "linecolor": "white",
            "ticks": ""
           },
           "bgcolor": "#E5ECF6",
           "radialaxis": {
            "gridcolor": "white",
            "linecolor": "white",
            "ticks": ""
           }
          },
          "scene": {
           "xaxis": {
            "backgroundcolor": "#E5ECF6",
            "gridcolor": "white",
            "gridwidth": 2,
            "linecolor": "white",
            "showbackground": true,
            "ticks": "",
            "zerolinecolor": "white"
           },
           "yaxis": {
            "backgroundcolor": "#E5ECF6",
            "gridcolor": "white",
            "gridwidth": 2,
            "linecolor": "white",
            "showbackground": true,
            "ticks": "",
            "zerolinecolor": "white"
           },
           "zaxis": {
            "backgroundcolor": "#E5ECF6",
            "gridcolor": "white",
            "gridwidth": 2,
            "linecolor": "white",
            "showbackground": true,
            "ticks": "",
            "zerolinecolor": "white"
           }
          },
          "shapedefaults": {
           "line": {
            "color": "#2a3f5f"
           }
          },
          "ternary": {
           "aaxis": {
            "gridcolor": "white",
            "linecolor": "white",
            "ticks": ""
           },
           "baxis": {
            "gridcolor": "white",
            "linecolor": "white",
            "ticks": ""
           },
           "bgcolor": "#E5ECF6",
           "caxis": {
            "gridcolor": "white",
            "linecolor": "white",
            "ticks": ""
           }
          },
          "title": {
           "x": 0.05
          },
          "xaxis": {
           "automargin": true,
           "gridcolor": "white",
           "linecolor": "white",
           "ticks": "",
           "title": {
            "standoff": 15
           },
           "zerolinecolor": "white",
           "zerolinewidth": 2
          },
          "yaxis": {
           "automargin": true,
           "gridcolor": "white",
           "linecolor": "white",
           "ticks": "",
           "title": {
            "standoff": 15
           },
           "zerolinecolor": "white",
           "zerolinewidth": 2
          }
         }
        },
        "title": {
         "text": "Зависимость количества итераций обучения от коэффициента сжатия"
        },
        "width": 1280,
        "xaxis": {
         "title": {
          "text": "Коэффициент сжатия"
         }
        },
        "yaxis": {
         "title": {
          "text": "Количество итераций обучения"
         }
        }
       }
      }
     },
     "metadata": {},
     "output_type": "display_data"
    }
   ],
   "source": [
    "p_s = (10, 15, 20, 25, 30, 35, 40)\n",
    "epochs_amount: list[int] = []\n",
    "compression_rates: list[float] = []\n",
    "for p in p_s:\n",
    "    compression_rates.append((n*l) / ((n+l) * p + 2))\n",
    "    dl = LRNN(n, p, 0.001)\n",
    "    dl.train(train, 15000, learn_by_loss=True, max_loss=2000)\n",
    "    epochs_amount.append(dl.epoch)\n",
    "fig = go.Figure()\n",
    "fig.add_trace(go.Scatter(x=compression_rates, y=epochs_amount, mode='lines+markers'))\n",
    "fig.update_layout(title='Зависимость количества итераций обучения от коэффициента сжатия',\n",
    "                  xaxis_title='Коэффициент сжатия',\n",
    "                  yaxis_title='Количество итераций обучения',\n",
    "                  height=720, width=1280,\n",
    "                  font=dict(size=20))\n",
    "fig.show()"
   ]
  },
  {
   "cell_type": "markdown",
   "metadata": {},
   "source": [
    "## Relationship between max error and epochs"
   ]
  },
  {
   "cell_type": "code",
   "execution_count": 13,
   "metadata": {},
   "outputs": [
    {
     "name": "stdout",
     "output_type": "stream",
     "text": [
      "Epoch 1/15000, Loss: 2797.233974282863\n",
      "Epoch 2/15000, Loss: 2317.191328759601\n",
      "Epoch 3/15000, Loss: 2058.269929736794\n",
      "Epoch 4/15000, Loss: 1875.6849355857407\n",
      "Epoch 5/15000, Loss: 1738.6966476119844\n",
      "Epoch 6/15000, Loss: 1631.6152063939141\n",
      "Epoch 7/15000, Loss: 1543.4793864646997\n",
      "Epoch 8/15000, Loss: 1469.6743861146742\n",
      "Epoch 9/15000, Loss: 1406.14212906825\n",
      "Epoch 10/15000, Loss: 1350.9568982113444\n",
      "Epoch 11/15000, Loss: 1303.2832552788152\n",
      "Epoch 12/15000, Loss: 1259.5769059170432\n",
      "Epoch 13/15000, Loss: 1220.9126917525537\n",
      "Epoch 14/15000, Loss: 1186.1421572858615\n",
      "Epoch 15/15000, Loss: 1155.3205219823396\n",
      "Epoch 16/15000, Loss: 1128.0344914886166\n",
      "Epoch 17/15000, Loss: 1103.7840856840073\n",
      "Epoch 18/15000, Loss: 1081.5774256533437\n",
      "Epoch 19/15000, Loss: 1060.5574108442515\n",
      "Epoch 20/15000, Loss: 1041.7562947609474\n",
      "Epoch 21/15000, Loss: 1025.1828552050142\n",
      "Epoch 22/15000, Loss: 1009.9789293354818\n",
      "Epoch 23/15000, Loss: 995.6714809424357\n",
      "Epoch 1/15000, Loss: 2766.8178792458743\n",
      "Epoch 2/15000, Loss: 2303.8678709245837\n",
      "Epoch 3/15000, Loss: 2058.2085427354386\n",
      "Epoch 4/15000, Loss: 1884.0773460999628\n",
      "Epoch 5/15000, Loss: 1747.6877089784598\n",
      "Epoch 6/15000, Loss: 1636.9276740598532\n",
      "Epoch 7/15000, Loss: 1543.3156451656369\n",
      "Epoch 8/15000, Loss: 1463.0982726384968\n",
      "Epoch 9/15000, Loss: 1393.5157570245206\n",
      "Epoch 10/15000, Loss: 1333.537355192622\n",
      "Epoch 11/15000, Loss: 1281.9552802947169\n",
      "Epoch 12/15000, Loss: 1235.5487911157045\n",
      "Epoch 13/15000, Loss: 1194.0666217716944\n",
      "Epoch 14/15000, Loss: 1158.7287918331442\n",
      "Epoch 15/15000, Loss: 1127.0122392823519\n",
      "Epoch 16/15000, Loss: 1098.6288572223486\n",
      "Epoch 1/15000, Loss: 2812.2543488642973\n",
      "Epoch 2/15000, Loss: 2309.413827582681\n",
      "Epoch 3/15000, Loss: 2054.206610482998\n",
      "Epoch 4/15000, Loss: 1875.302901589916\n",
      "Epoch 5/15000, Loss: 1735.8392155238391\n",
      "Epoch 6/15000, Loss: 1622.323614299071\n",
      "Epoch 7/15000, Loss: 1530.6704139048093\n",
      "Epoch 8/15000, Loss: 1453.9449568100665\n",
      "Epoch 9/15000, Loss: 1389.0463959126866\n",
      "Epoch 10/15000, Loss: 1334.6644862351839\n",
      "Epoch 11/15000, Loss: 1287.7807939069805\n",
      "Epoch 12/15000, Loss: 1247.1467778779997\n",
      "Epoch 13/15000, Loss: 1211.8683725729372\n",
      "Epoch 14/15000, Loss: 1181.2591527974805\n",
      "Epoch 1/15000, Loss: 2956.9272351365385\n",
      "Epoch 2/15000, Loss: 2395.884573615329\n",
      "Epoch 3/15000, Loss: 2122.4982249659074\n",
      "Epoch 4/15000, Loss: 1928.984746065047\n",
      "Epoch 5/15000, Loss: 1776.6248859060117\n",
      "Epoch 6/15000, Loss: 1652.9397207524673\n",
      "Epoch 7/15000, Loss: 1550.0888940230425\n",
      "Epoch 8/15000, Loss: 1464.225018903045\n",
      "Epoch 9/15000, Loss: 1392.200585824055\n",
      "Epoch 10/15000, Loss: 1330.4876743586522\n",
      "Epoch 11/15000, Loss: 1277.013427911602\n",
      "Epoch 1/15000, Loss: 2863.631562521116\n",
      "Epoch 2/15000, Loss: 2353.399727305183\n",
      "Epoch 3/15000, Loss: 2084.33705838265\n",
      "Epoch 4/15000, Loss: 1892.9534856297266\n",
      "Epoch 5/15000, Loss: 1740.3060407307191\n",
      "Epoch 6/15000, Loss: 1617.2225272635005\n",
      "Epoch 7/15000, Loss: 1515.9909863155683\n",
      "Epoch 8/15000, Loss: 1432.7026349980358\n",
      "Epoch 9/15000, Loss: 1364.7336272190232\n",
      "Epoch 1/15000, Loss: 2804.050132766117\n",
      "Epoch 2/15000, Loss: 2295.385900400766\n",
      "Epoch 3/15000, Loss: 2025.826228407875\n",
      "Epoch 4/15000, Loss: 1835.3920575282436\n",
      "Epoch 5/15000, Loss: 1685.0559819417258\n",
      "Epoch 6/15000, Loss: 1564.730650977083\n",
      "Epoch 7/15000, Loss: 1466.8046928214394\n",
      "Epoch 1/15000, Loss: 2897.420023271087\n",
      "Epoch 2/15000, Loss: 2345.258216079489\n",
      "Epoch 3/15000, Loss: 2073.8705562682544\n",
      "Epoch 4/15000, Loss: 1880.342303546639\n",
      "Epoch 5/15000, Loss: 1727.8684302613897\n",
      "Epoch 6/15000, Loss: 1604.4802296627636\n",
      "Epoch 7/15000, Loss: 1504.8857759638367\n",
      "Epoch 1/15000, Loss: 2819.1433477322025\n",
      "Epoch 2/15000, Loss: 2305.9545552971063\n",
      "Epoch 3/15000, Loss: 2038.385365309803\n",
      "Epoch 4/15000, Loss: 1852.416634409206\n",
      "Epoch 5/15000, Loss: 1709.856726029481\n",
      "Epoch 6/15000, Loss: 1595.5325749644178\n",
      "Epoch 1/15000, Loss: 2853.3778381137226\n",
      "Epoch 2/15000, Loss: 2354.002064528904\n",
      "Epoch 3/15000, Loss: 2088.1742730700485\n",
      "Epoch 4/15000, Loss: 1896.0414355194166\n",
      "Epoch 5/15000, Loss: 1742.842115761434\n",
      "Epoch 1/15000, Loss: 2864.402093881221\n",
      "Epoch 2/15000, Loss: 2362.849222505079\n",
      "Epoch 3/15000, Loss: 2103.272770168194\n",
      "Epoch 4/15000, Loss: 1921.2617812062422\n",
      "Epoch 5/15000, Loss: 1778.6223406461543\n",
      "Epoch 1/15000, Loss: 2798.1897077479043\n",
      "Epoch 2/15000, Loss: 2290.9955459625085\n",
      "Epoch 3/15000, Loss: 2028.1191718048906\n",
      "Epoch 4/15000, Loss: 1841.2442854457875\n",
      "Epoch 1/15000, Loss: 2885.7408393671085\n",
      "Epoch 2/15000, Loss: 2360.202815333383\n",
      "Epoch 3/15000, Loss: 2096.2424989397905\n",
      "Epoch 1/15000, Loss: 2816.189802927142\n",
      "Epoch 2/15000, Loss: 2282.234349733766\n",
      "Epoch 3/15000, Loss: 2010.8028245896635\n",
      "Epoch 1/15000, Loss: 2812.8369943470984\n",
      "Epoch 2/15000, Loss: 2353.920859176142\n",
      "Epoch 3/15000, Loss: 2096.6851526623855\n",
      "Epoch 1/15000, Loss: 2886.6377122048243\n",
      "Epoch 2/15000, Loss: 2356.3295691643666\n",
      "Epoch 1/15000, Loss: 2881.198011412927\n",
      "Epoch 2/15000, Loss: 2354.0233529030793\n",
      "Epoch 1/15000, Loss: 2861.8363488375794\n",
      "Epoch 2/15000, Loss: 2336.089890910458\n",
      "Epoch 1/15000, Loss: 2782.271530307425\n",
      "Epoch 2/15000, Loss: 2326.074564571123\n",
      "Epoch 1/15000, Loss: 2762.7545882799636\n",
      "Epoch 1/15000, Loss: 2826.794302596135\n"
     ]
    },
    {
     "data": {
      "application/vnd.plotly.v1+json": {
       "config": {
        "plotlyServerURL": "https://plot.ly"
       },
       "data": [
        {
         "mode": "lines+markers",
         "type": "scatter",
         "x": [
          1000,
          1100,
          1200,
          1300,
          1400,
          1500,
          1600,
          1700,
          1800,
          1900,
          2000,
          2100,
          2200,
          2300,
          2400,
          2500,
          2600,
          2700,
          2800,
          2900
         ],
         "y": [
          23,
          16,
          14,
          11,
          9,
          7,
          7,
          6,
          5,
          5,
          4,
          3,
          3,
          3,
          2,
          2,
          2,
          2,
          1,
          1
         ]
        }
       ],
       "layout": {
        "font": {
         "size": 20
        },
        "height": 720,
        "template": {
         "data": {
          "bar": [
           {
            "error_x": {
             "color": "#2a3f5f"
            },
            "error_y": {
             "color": "#2a3f5f"
            },
            "marker": {
             "line": {
              "color": "#E5ECF6",
              "width": 0.5
             },
             "pattern": {
              "fillmode": "overlay",
              "size": 10,
              "solidity": 0.2
             }
            },
            "type": "bar"
           }
          ],
          "barpolar": [
           {
            "marker": {
             "line": {
              "color": "#E5ECF6",
              "width": 0.5
             },
             "pattern": {
              "fillmode": "overlay",
              "size": 10,
              "solidity": 0.2
             }
            },
            "type": "barpolar"
           }
          ],
          "carpet": [
           {
            "aaxis": {
             "endlinecolor": "#2a3f5f",
             "gridcolor": "white",
             "linecolor": "white",
             "minorgridcolor": "white",
             "startlinecolor": "#2a3f5f"
            },
            "baxis": {
             "endlinecolor": "#2a3f5f",
             "gridcolor": "white",
             "linecolor": "white",
             "minorgridcolor": "white",
             "startlinecolor": "#2a3f5f"
            },
            "type": "carpet"
           }
          ],
          "choropleth": [
           {
            "colorbar": {
             "outlinewidth": 0,
             "ticks": ""
            },
            "type": "choropleth"
           }
          ],
          "contour": [
           {
            "colorbar": {
             "outlinewidth": 0,
             "ticks": ""
            },
            "colorscale": [
             [
              0,
              "#0d0887"
             ],
             [
              0.1111111111111111,
              "#46039f"
             ],
             [
              0.2222222222222222,
              "#7201a8"
             ],
             [
              0.3333333333333333,
              "#9c179e"
             ],
             [
              0.4444444444444444,
              "#bd3786"
             ],
             [
              0.5555555555555556,
              "#d8576b"
             ],
             [
              0.6666666666666666,
              "#ed7953"
             ],
             [
              0.7777777777777778,
              "#fb9f3a"
             ],
             [
              0.8888888888888888,
              "#fdca26"
             ],
             [
              1,
              "#f0f921"
             ]
            ],
            "type": "contour"
           }
          ],
          "contourcarpet": [
           {
            "colorbar": {
             "outlinewidth": 0,
             "ticks": ""
            },
            "type": "contourcarpet"
           }
          ],
          "heatmap": [
           {
            "colorbar": {
             "outlinewidth": 0,
             "ticks": ""
            },
            "colorscale": [
             [
              0,
              "#0d0887"
             ],
             [
              0.1111111111111111,
              "#46039f"
             ],
             [
              0.2222222222222222,
              "#7201a8"
             ],
             [
              0.3333333333333333,
              "#9c179e"
             ],
             [
              0.4444444444444444,
              "#bd3786"
             ],
             [
              0.5555555555555556,
              "#d8576b"
             ],
             [
              0.6666666666666666,
              "#ed7953"
             ],
             [
              0.7777777777777778,
              "#fb9f3a"
             ],
             [
              0.8888888888888888,
              "#fdca26"
             ],
             [
              1,
              "#f0f921"
             ]
            ],
            "type": "heatmap"
           }
          ],
          "heatmapgl": [
           {
            "colorbar": {
             "outlinewidth": 0,
             "ticks": ""
            },
            "colorscale": [
             [
              0,
              "#0d0887"
             ],
             [
              0.1111111111111111,
              "#46039f"
             ],
             [
              0.2222222222222222,
              "#7201a8"
             ],
             [
              0.3333333333333333,
              "#9c179e"
             ],
             [
              0.4444444444444444,
              "#bd3786"
             ],
             [
              0.5555555555555556,
              "#d8576b"
             ],
             [
              0.6666666666666666,
              "#ed7953"
             ],
             [
              0.7777777777777778,
              "#fb9f3a"
             ],
             [
              0.8888888888888888,
              "#fdca26"
             ],
             [
              1,
              "#f0f921"
             ]
            ],
            "type": "heatmapgl"
           }
          ],
          "histogram": [
           {
            "marker": {
             "pattern": {
              "fillmode": "overlay",
              "size": 10,
              "solidity": 0.2
             }
            },
            "type": "histogram"
           }
          ],
          "histogram2d": [
           {
            "colorbar": {
             "outlinewidth": 0,
             "ticks": ""
            },
            "colorscale": [
             [
              0,
              "#0d0887"
             ],
             [
              0.1111111111111111,
              "#46039f"
             ],
             [
              0.2222222222222222,
              "#7201a8"
             ],
             [
              0.3333333333333333,
              "#9c179e"
             ],
             [
              0.4444444444444444,
              "#bd3786"
             ],
             [
              0.5555555555555556,
              "#d8576b"
             ],
             [
              0.6666666666666666,
              "#ed7953"
             ],
             [
              0.7777777777777778,
              "#fb9f3a"
             ],
             [
              0.8888888888888888,
              "#fdca26"
             ],
             [
              1,
              "#f0f921"
             ]
            ],
            "type": "histogram2d"
           }
          ],
          "histogram2dcontour": [
           {
            "colorbar": {
             "outlinewidth": 0,
             "ticks": ""
            },
            "colorscale": [
             [
              0,
              "#0d0887"
             ],
             [
              0.1111111111111111,
              "#46039f"
             ],
             [
              0.2222222222222222,
              "#7201a8"
             ],
             [
              0.3333333333333333,
              "#9c179e"
             ],
             [
              0.4444444444444444,
              "#bd3786"
             ],
             [
              0.5555555555555556,
              "#d8576b"
             ],
             [
              0.6666666666666666,
              "#ed7953"
             ],
             [
              0.7777777777777778,
              "#fb9f3a"
             ],
             [
              0.8888888888888888,
              "#fdca26"
             ],
             [
              1,
              "#f0f921"
             ]
            ],
            "type": "histogram2dcontour"
           }
          ],
          "mesh3d": [
           {
            "colorbar": {
             "outlinewidth": 0,
             "ticks": ""
            },
            "type": "mesh3d"
           }
          ],
          "parcoords": [
           {
            "line": {
             "colorbar": {
              "outlinewidth": 0,
              "ticks": ""
             }
            },
            "type": "parcoords"
           }
          ],
          "pie": [
           {
            "automargin": true,
            "type": "pie"
           }
          ],
          "scatter": [
           {
            "fillpattern": {
             "fillmode": "overlay",
             "size": 10,
             "solidity": 0.2
            },
            "type": "scatter"
           }
          ],
          "scatter3d": [
           {
            "line": {
             "colorbar": {
              "outlinewidth": 0,
              "ticks": ""
             }
            },
            "marker": {
             "colorbar": {
              "outlinewidth": 0,
              "ticks": ""
             }
            },
            "type": "scatter3d"
           }
          ],
          "scattercarpet": [
           {
            "marker": {
             "colorbar": {
              "outlinewidth": 0,
              "ticks": ""
             }
            },
            "type": "scattercarpet"
           }
          ],
          "scattergeo": [
           {
            "marker": {
             "colorbar": {
              "outlinewidth": 0,
              "ticks": ""
             }
            },
            "type": "scattergeo"
           }
          ],
          "scattergl": [
           {
            "marker": {
             "colorbar": {
              "outlinewidth": 0,
              "ticks": ""
             }
            },
            "type": "scattergl"
           }
          ],
          "scattermapbox": [
           {
            "marker": {
             "colorbar": {
              "outlinewidth": 0,
              "ticks": ""
             }
            },
            "type": "scattermapbox"
           }
          ],
          "scatterpolar": [
           {
            "marker": {
             "colorbar": {
              "outlinewidth": 0,
              "ticks": ""
             }
            },
            "type": "scatterpolar"
           }
          ],
          "scatterpolargl": [
           {
            "marker": {
             "colorbar": {
              "outlinewidth": 0,
              "ticks": ""
             }
            },
            "type": "scatterpolargl"
           }
          ],
          "scatterternary": [
           {
            "marker": {
             "colorbar": {
              "outlinewidth": 0,
              "ticks": ""
             }
            },
            "type": "scatterternary"
           }
          ],
          "surface": [
           {
            "colorbar": {
             "outlinewidth": 0,
             "ticks": ""
            },
            "colorscale": [
             [
              0,
              "#0d0887"
             ],
             [
              0.1111111111111111,
              "#46039f"
             ],
             [
              0.2222222222222222,
              "#7201a8"
             ],
             [
              0.3333333333333333,
              "#9c179e"
             ],
             [
              0.4444444444444444,
              "#bd3786"
             ],
             [
              0.5555555555555556,
              "#d8576b"
             ],
             [
              0.6666666666666666,
              "#ed7953"
             ],
             [
              0.7777777777777778,
              "#fb9f3a"
             ],
             [
              0.8888888888888888,
              "#fdca26"
             ],
             [
              1,
              "#f0f921"
             ]
            ],
            "type": "surface"
           }
          ],
          "table": [
           {
            "cells": {
             "fill": {
              "color": "#EBF0F8"
             },
             "line": {
              "color": "white"
             }
            },
            "header": {
             "fill": {
              "color": "#C8D4E3"
             },
             "line": {
              "color": "white"
             }
            },
            "type": "table"
           }
          ]
         },
         "layout": {
          "annotationdefaults": {
           "arrowcolor": "#2a3f5f",
           "arrowhead": 0,
           "arrowwidth": 1
          },
          "autotypenumbers": "strict",
          "coloraxis": {
           "colorbar": {
            "outlinewidth": 0,
            "ticks": ""
           }
          },
          "colorscale": {
           "diverging": [
            [
             0,
             "#8e0152"
            ],
            [
             0.1,
             "#c51b7d"
            ],
            [
             0.2,
             "#de77ae"
            ],
            [
             0.3,
             "#f1b6da"
            ],
            [
             0.4,
             "#fde0ef"
            ],
            [
             0.5,
             "#f7f7f7"
            ],
            [
             0.6,
             "#e6f5d0"
            ],
            [
             0.7,
             "#b8e186"
            ],
            [
             0.8,
             "#7fbc41"
            ],
            [
             0.9,
             "#4d9221"
            ],
            [
             1,
             "#276419"
            ]
           ],
           "sequential": [
            [
             0,
             "#0d0887"
            ],
            [
             0.1111111111111111,
             "#46039f"
            ],
            [
             0.2222222222222222,
             "#7201a8"
            ],
            [
             0.3333333333333333,
             "#9c179e"
            ],
            [
             0.4444444444444444,
             "#bd3786"
            ],
            [
             0.5555555555555556,
             "#d8576b"
            ],
            [
             0.6666666666666666,
             "#ed7953"
            ],
            [
             0.7777777777777778,
             "#fb9f3a"
            ],
            [
             0.8888888888888888,
             "#fdca26"
            ],
            [
             1,
             "#f0f921"
            ]
           ],
           "sequentialminus": [
            [
             0,
             "#0d0887"
            ],
            [
             0.1111111111111111,
             "#46039f"
            ],
            [
             0.2222222222222222,
             "#7201a8"
            ],
            [
             0.3333333333333333,
             "#9c179e"
            ],
            [
             0.4444444444444444,
             "#bd3786"
            ],
            [
             0.5555555555555556,
             "#d8576b"
            ],
            [
             0.6666666666666666,
             "#ed7953"
            ],
            [
             0.7777777777777778,
             "#fb9f3a"
            ],
            [
             0.8888888888888888,
             "#fdca26"
            ],
            [
             1,
             "#f0f921"
            ]
           ]
          },
          "colorway": [
           "#636efa",
           "#EF553B",
           "#00cc96",
           "#ab63fa",
           "#FFA15A",
           "#19d3f3",
           "#FF6692",
           "#B6E880",
           "#FF97FF",
           "#FECB52"
          ],
          "font": {
           "color": "#2a3f5f"
          },
          "geo": {
           "bgcolor": "white",
           "lakecolor": "white",
           "landcolor": "#E5ECF6",
           "showlakes": true,
           "showland": true,
           "subunitcolor": "white"
          },
          "hoverlabel": {
           "align": "left"
          },
          "hovermode": "closest",
          "mapbox": {
           "style": "light"
          },
          "paper_bgcolor": "white",
          "plot_bgcolor": "#E5ECF6",
          "polar": {
           "angularaxis": {
            "gridcolor": "white",
            "linecolor": "white",
            "ticks": ""
           },
           "bgcolor": "#E5ECF6",
           "radialaxis": {
            "gridcolor": "white",
            "linecolor": "white",
            "ticks": ""
           }
          },
          "scene": {
           "xaxis": {
            "backgroundcolor": "#E5ECF6",
            "gridcolor": "white",
            "gridwidth": 2,
            "linecolor": "white",
            "showbackground": true,
            "ticks": "",
            "zerolinecolor": "white"
           },
           "yaxis": {
            "backgroundcolor": "#E5ECF6",
            "gridcolor": "white",
            "gridwidth": 2,
            "linecolor": "white",
            "showbackground": true,
            "ticks": "",
            "zerolinecolor": "white"
           },
           "zaxis": {
            "backgroundcolor": "#E5ECF6",
            "gridcolor": "white",
            "gridwidth": 2,
            "linecolor": "white",
            "showbackground": true,
            "ticks": "",
            "zerolinecolor": "white"
           }
          },
          "shapedefaults": {
           "line": {
            "color": "#2a3f5f"
           }
          },
          "ternary": {
           "aaxis": {
            "gridcolor": "white",
            "linecolor": "white",
            "ticks": ""
           },
           "baxis": {
            "gridcolor": "white",
            "linecolor": "white",
            "ticks": ""
           },
           "bgcolor": "#E5ECF6",
           "caxis": {
            "gridcolor": "white",
            "linecolor": "white",
            "ticks": ""
           }
          },
          "title": {
           "x": 0.05
          },
          "xaxis": {
           "automargin": true,
           "gridcolor": "white",
           "linecolor": "white",
           "ticks": "",
           "title": {
            "standoff": 15
           },
           "zerolinecolor": "white",
           "zerolinewidth": 2
          },
          "yaxis": {
           "automargin": true,
           "gridcolor": "white",
           "linecolor": "white",
           "ticks": "",
           "title": {
            "standoff": 15
           },
           "zerolinecolor": "white",
           "zerolinewidth": 2
          }
         }
        },
        "title": {
         "text": "Зависимость количества итераций обучения от значения максимальной ошибки"
        },
        "width": 1280,
        "xaxis": {
         "title": {
          "text": "Значение максимальной ошибки"
         }
        },
        "yaxis": {
         "title": {
          "text": "Количество итераций обучения"
         }
        }
       }
      }
     },
     "metadata": {},
     "output_type": "display_data"
    }
   ],
   "source": [
    "max_errors = list(range(1000, 3000, 100))\n",
    "epochs_amount: list[int] = []\n",
    "for err in max_errors:    \n",
    "    dl = LRNN(n, 50, 0.001)\n",
    "    dl.train(train, 15000, learn_by_loss=True, max_loss=err)\n",
    "    epochs_amount.append(dl.epoch)\n",
    "fig = go.Figure()\n",
    "fig.add_trace(go.Scatter(x=max_errors, y=epochs_amount, mode='lines+markers'))\n",
    "fig.update_layout(title='Зависимость количества итераций обучения от значения максимальной ошибки',\n",
    "                  xaxis_title='Значение максимальной ошибки',\n",
    "                  yaxis_title='Количество итераций обучения',\n",
    "                  height=720, width=1280,\n",
    "                  font=dict(size=20))\n",
    "fig.show()"
   ]
  },
  {
   "cell_type": "markdown",
   "metadata": {},
   "source": [
    "## Relationship between image and epochs"
   ]
  },
  {
   "cell_type": "code",
   "execution_count": 14,
   "metadata": {},
   "outputs": [
    {
     "name": "stdout",
     "output_type": "stream",
     "text": [
      "Z = 1.9230473377332657\n",
      "Epoch 1/15000, Loss: 7249.204110497766\n",
      "Epoch 2/15000, Loss: 3880.151918643388\n",
      "Epoch 3/15000, Loss: 3119.007891899047\n",
      "Epoch 4/15000, Loss: 2764.050247474703\n",
      "Epoch 5/15000, Loss: 2530.548851292371\n",
      "Epoch 6/15000, Loss: 2357.6743368277907\n",
      "Epoch 7/15000, Loss: 2222.6687505956697\n",
      "Epoch 8/15000, Loss: 2112.1283245546465\n",
      "Epoch 9/15000, Loss: 2018.8318164960942\n",
      "Epoch 10/15000, Loss: 1939.6484548062735\n",
      "Epoch 11/15000, Loss: 1872.055842951379\n",
      "Epoch 12/15000, Loss: 1812.023755101229\n",
      "Epoch 13/15000, Loss: 1759.6028877987903\n",
      "Epoch 14/15000, Loss: 1712.2467112904692\n",
      "Epoch 15/15000, Loss: 1669.5723799791704\n",
      "Epoch 16/15000, Loss: 1631.1716563270709\n",
      "Epoch 17/15000, Loss: 1595.9001508003012\n",
      "Epoch 18/15000, Loss: 1563.9729390540192\n",
      "Epoch 19/15000, Loss: 1533.541698407911\n",
      "Epoch 20/15000, Loss: 1505.618591047944\n",
      "Epoch 21/15000, Loss: 1479.3376602011897\n",
      "21\n"
     ]
    }
   ],
   "source": [
    "# Collecting everything\n",
    "\n",
    "block_width = 10\n",
    "block_height = 10\n",
    "\n",
    "n = block_height * block_width\n",
    "# Hidden layer neuron amount\n",
    "p = 50 \n",
    "\n",
    "img = Image.open('images/winter.jpg')\n",
    "img_array = np.asarray(img)\n",
    "shape = img_array.shape\n",
    "blocks = image_to_blocks(img_array, block_height, block_width, overlap=0)\n",
    "\n",
    "l = len(blocks)\n",
    "# Compression coeff\n",
    "print('Z =', (n*l) / ((n+l) * p+2))\n",
    "\n",
    "color_df = ((2 * blocks / MAX_RGB_VALUE) - 1).reshape(len(blocks), -1, 3).transpose(0, 2, 1).reshape(-1, block_height * block_width)\n",
    "train = np.matrix(color_df[np.random.choice(color_df.shape[0], int(color_df.shape[0] * 0.05))])\n",
    "\n",
    "network = LRNN(n, p, 0.001)\n",
    "network.train(train, 15000, learn_by_loss=True, max_loss=1500)\n",
    "\n",
    "print(network.epoch)\n",
    "\n",
    "# compressed = compress_image(network.W_enc, img_array, COLOR_CHANNELS_AMOUNT, block_height, block_width, 0)\n",
    "# dimg = decompress_image(network.W_dec, compressed, shape, COLOR_CHANNELS_AMOUNT, block_height, block_width, 0)\n",
    "# dimg_array = np.asarray(dimg)\n",
    "# dimg.save('compression-decompression_test.jpg')"
   ]
  }
 ],
 "metadata": {
  "kernelspec": {
   "display_name": ".venv",
   "language": "python",
   "name": "python3"
  },
  "language_info": {
   "codemirror_mode": {
    "name": "ipython",
    "version": 3
   },
   "file_extension": ".py",
   "mimetype": "text/x-python",
   "name": "python",
   "nbconvert_exporter": "python",
   "pygments_lexer": "ipython3",
   "version": "3.11.9"
  }
 },
 "nbformat": 4,
 "nbformat_minor": 2
}
