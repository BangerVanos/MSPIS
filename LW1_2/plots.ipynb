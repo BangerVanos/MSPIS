{
 "cells": [
  {
   "cell_type": "code",
   "execution_count": 1,
   "metadata": {},
   "outputs": [],
   "source": [
    "# Лабораторная работа 1 по дисциплине МРЗвИС\n",
    "# Выполнена студентом группы 121702\n",
    "# БГУИР Заломов Роман Андреевич\n",
    "#\n",
    "# Вариант 15: Реализовать модель линейной рециркуляционной сети \n",
    "# с постоянным коэффициентом обучения и нормированными весовыми коэффициентами.\n",
    "#\n",
    "# Данный файл содержит алгоритмы построения графиков различных зависимостей"
   ]
  },
  {
   "cell_type": "code",
   "execution_count": 16,
   "metadata": {},
   "outputs": [],
   "source": [
    "from lrnn import (\n",
    "    LRNN,\n",
    "    image_to_blocks,\n",
    "    compress_image,\n",
    "    decompress_image\n",
    ")\n",
    "import numpy as np\n",
    "from PIL import Image\n",
    "import plotly.graph_objects as go\n",
    "from random import randint"
   ]
  },
  {
   "cell_type": "code",
   "execution_count": 3,
   "metadata": {},
   "outputs": [],
   "source": [
    "MAX_RGB_VALUE = 255\n",
    "COLOR_CHANNELS_AMOUNT = 3"
   ]
  },
  {
   "cell_type": "code",
   "execution_count": 4,
   "metadata": {},
   "outputs": [
    {
     "name": "stdout",
     "output_type": "stream",
     "text": [
      "Z = 4.807507403561401\n",
      "Epoch 1/15000, Loss: 3059.400024158364\n",
      "MSE: 4.079200\n",
      "Epoch 2/15000, Loss: 2557.9787317354717\n",
      "MSE: 3.410638\n",
      "Epoch 3/15000, Loss: 2292.3977805440095\n",
      "MSE: 3.056530\n",
      "Epoch 4/15000, Loss: 2098.1943998903635\n",
      "MSE: 2.797593\n",
      "Epoch 5/15000, Loss: 1946.2904365087186\n",
      "MSE: 2.595054\n",
      "TRAINING FINISHED ON:\n",
      "Epoch 5/15000, Loss: 1946.2904365087186\n",
      "MSE: 2.595054\n",
      "Compression coefficient: 1.2334714821393329\n",
      "Z = 4.807507403561401\n"
     ]
    }
   ],
   "source": [
    "# Collecting everything\n",
    "\n",
    "block_width = 10\n",
    "block_height = 10\n",
    "\n",
    "n = block_height * block_width\n",
    "# Hidden layer neuron amount\n",
    "p = 20 \n",
    "\n",
    "img = Image.open('car.jpg')\n",
    "img_array = np.asarray(img)\n",
    "shape = img_array.shape\n",
    "blocks = image_to_blocks(img_array, block_height, block_width, overlap=0)\n",
    "\n",
    "l = len(blocks)\n",
    "# Compression coeff\n",
    "print('Z =', (n*l) / ((n+l) * p+2))\n",
    "\n",
    "color_df = ((2 * blocks / MAX_RGB_VALUE) - 1).reshape(len(blocks), -1, 3).transpose(0, 2, 1).reshape(-1, block_height * block_width)\n",
    "train = np.matrix(color_df[np.random.choice(color_df.shape[0], int(color_df.shape[0] * 0.1))])\n",
    "\n",
    "\n",
    "network = LRNN(n, p, 0.0015)\n",
    "network.train(train, 15000, learn_by_loss=True, max_loss=2000)\n",
    "\n",
    "compressed = compress_image(network.W_enc, img_array, COLOR_CHANNELS_AMOUNT, block_height, block_width, 0)\n",
    "\n",
    "compression_info_size = (\n",
    "    compressed.size * compressed.itemsize +\n",
    "    network.W_dec.size * network.W_dec.itemsize +\n",
    "    np.array(shape).size * np.array(shape).itemsize +\n",
    "    np.array((block_height, block_width)).size * np.array((block_height, block_width)).itemsize \n",
    ") * 8\n",
    "print(f'Compression coefficient: {(img_array.size * img_array.itemsize * 8) / compression_info_size}')\n",
    "print('Z =', (n*l) / ((n+l) * p + 2))\n",
    "\n",
    "dimg = decompress_image(network.W_dec, compressed, shape, COLOR_CHANNELS_AMOUNT, block_height, block_width, 0)\n",
    "dimg_array = np.asarray(dimg)\n",
    "dimg.save('compression-decompression_test.jpg')"
   ]
  },
  {
   "cell_type": "markdown",
   "metadata": {},
   "source": [
    "## Relation between learning rate and epochs "
   ]
  },
  {
   "cell_type": "code",
   "execution_count": null,
   "metadata": {},
   "outputs": [
    {
     "name": "stdout",
     "output_type": "stream",
     "text": [
      "ALPHA: 0.0001\n",
      "Epoch 20/15000, Loss: 2472.598842698493\n",
      "MSE: 3.296798\n",
      "Epoch 40/15000, Loss: 2133.64940099485\n",
      "MSE: 2.844866\n",
      "Epoch 60/15000, Loss: 1894.5084760299344\n",
      "MSE: 2.526011\n",
      "Epoch 80/15000, Loss: 1726.708935222988\n",
      "MSE: 2.302279\n",
      "Epoch 100/15000, Loss: 1608.3383361951994\n",
      "MSE: 2.144451\n",
      "Epoch 120/15000, Loss: 1518.008913365979\n",
      "MSE: 2.024012\n",
      "Epoch 140/15000, Loss: 1444.2790656913367\n",
      "MSE: 1.925705\n",
      "TRAINING FINISHED ON:\n",
      "Epoch 154/15000, Loss: 1399.5325900541445\n",
      "MSE: 1.866043\n",
      "Epoch 20/15000, Loss: 2547.80844252467\n",
      "MSE: 3.397078\n",
      "Epoch 40/15000, Loss: 2197.8129063704678\n",
      "MSE: 2.930417\n",
      "Epoch 60/15000, Loss: 1939.705025801769\n",
      "MSE: 2.586273\n",
      "Epoch 80/15000, Loss: 1746.0980617654795\n",
      "MSE: 2.328131\n",
      "Epoch 100/15000, Loss: 1612.7475667482597\n",
      "MSE: 2.150330\n",
      "Epoch 120/15000, Loss: 1515.9297662383185\n",
      "MSE: 2.021240\n",
      "Epoch 140/15000, Loss: 1439.4313506765857\n",
      "MSE: 1.919242\n",
      "TRAINING FINISHED ON:\n",
      "Epoch 152/15000, Loss: 1399.9370241159857\n",
      "MSE: 1.866583\n",
      "Epoch 20/15000, Loss: 2585.182472561129\n",
      "MSE: 3.446910\n",
      "Epoch 40/15000, Loss: 2225.292327865784\n",
      "MSE: 2.967056\n",
      "Epoch 60/15000, Loss: 1965.1241154486718\n",
      "MSE: 2.620165\n",
      "Epoch 80/15000, Loss: 1767.073154539633\n",
      "MSE: 2.356098\n",
      "Epoch 100/15000, Loss: 1628.6230241305675\n",
      "MSE: 2.171497\n",
      "Epoch 120/15000, Loss: 1529.8733303339943\n",
      "MSE: 2.039831\n",
      "Epoch 140/15000, Loss: 1453.920968606072\n",
      "MSE: 1.938561\n",
      "TRAINING FINISHED ON:\n",
      "Epoch 158/15000, Loss: 1397.2500835291498\n",
      "MSE: 1.863000\n",
      "Epoch 20/15000, Loss: 2550.6256882645744\n",
      "MSE: 3.400834\n",
      "Epoch 40/15000, Loss: 2239.2751376099563\n",
      "MSE: 2.985700\n",
      "Epoch 60/15000, Loss: 1996.5023213649672\n",
      "MSE: 2.662003\n",
      "Epoch 80/15000, Loss: 1787.6043103273073\n",
      "MSE: 2.383472\n",
      "Epoch 100/15000, Loss: 1634.3252043433322\n",
      "MSE: 2.179100\n",
      "Epoch 120/15000, Loss: 1527.1172885501126\n",
      "MSE: 2.036156\n",
      "Epoch 140/15000, Loss: 1446.5620350846964\n",
      "MSE: 1.928749\n",
      "TRAINING FINISHED ON:\n",
      "Epoch 154/15000, Loss: 1399.8249498893017\n",
      "MSE: 1.866433\n",
      "Epoch 20/15000, Loss: 2511.0277028065275\n",
      "MSE: 3.348037\n",
      "Epoch 40/15000, Loss: 2223.0812650786816\n",
      "MSE: 2.964108\n",
      "Epoch 60/15000, Loss: 1977.3213138461183\n",
      "MSE: 2.636428\n",
      "Epoch 80/15000, Loss: 1763.2191419532523\n",
      "MSE: 2.350959\n",
      "Epoch 100/15000, Loss: 1609.4807806154645\n",
      "MSE: 2.145974\n",
      "Epoch 120/15000, Loss: 1502.0930951481025\n",
      "MSE: 2.002791\n",
      "Epoch 140/15000, Loss: 1420.871389377377\n",
      "MSE: 1.894495\n",
      "TRAINING FINISHED ON:\n",
      "Epoch 146/15000, Loss: 1399.972811276623\n",
      "MSE: 1.866630\n",
      "ALPHA: 0.0005333333333333334\n",
      "Epoch 20/15000, Loss: 1632.485004350513\n",
      "MSE: 2.176647\n",
      "TRAINING FINISHED ON:\n",
      "Epoch 32/15000, Loss: 1385.3573044028935\n",
      "MSE: 1.847143\n",
      "Epoch 20/15000, Loss: 1635.7761175477667\n",
      "MSE: 2.181035\n",
      "TRAINING FINISHED ON:\n",
      "Epoch 31/15000, Loss: 1396.940187314293\n",
      "MSE: 1.862587\n",
      "Epoch 20/15000, Loss: 1654.6777900857205\n",
      "MSE: 2.206237\n",
      "TRAINING FINISHED ON:\n",
      "Epoch 34/15000, Loss: 1385.7468976880716\n",
      "MSE: 1.847663\n",
      "Epoch 20/15000, Loss: 1674.322948942093\n",
      "MSE: 2.232431\n",
      "TRAINING FINISHED ON:\n",
      "Epoch 35/15000, Loss: 1394.6900972090025\n",
      "MSE: 1.859587\n",
      "Epoch 20/15000, Loss: 1607.3498414224619\n",
      "MSE: 2.143133\n",
      "TRAINING FINISHED ON:\n",
      "Epoch 32/15000, Loss: 1391.3484955457789\n",
      "MSE: 1.855131\n",
      "ALPHA: 0.0009666666666666668\n",
      "Epoch 20/15000, Loss: 1636.6209915979146\n",
      "MSE: 2.182161\n",
      "TRAINING FINISHED ON:\n",
      "Epoch 32/15000, Loss: 1392.656071011844\n",
      "MSE: 1.856875\n",
      "Epoch 20/15000, Loss: 1497.3549647943441\n",
      "MSE: 1.996473\n",
      "TRAINING FINISHED ON:\n",
      "Epoch 26/15000, Loss: 1390.617499052154\n",
      "MSE: 1.854157\n",
      "Epoch 20/15000, Loss: 1593.7945829112712\n",
      "MSE: 2.125059\n",
      "TRAINING FINISHED ON:\n",
      "Epoch 29/15000, Loss: 1386.9325875316401\n",
      "MSE: 1.849243\n",
      "Epoch 20/15000, Loss: 1556.3574398703524\n",
      "MSE: 2.075143\n",
      "TRAINING FINISHED ON:\n",
      "Epoch 28/15000, Loss: 1386.964640173919\n",
      "MSE: 1.849286\n",
      "Epoch 20/15000, Loss: 1607.190462813037\n",
      "MSE: 2.142921\n",
      "TRAINING FINISHED ON:\n",
      "Epoch 30/15000, Loss: 1393.1516484784595\n",
      "MSE: 1.857536\n",
      "ALPHA: 0.0014000000000000002\n",
      "TRAINING FINISHED ON:\n",
      "Epoch 19/15000, Loss: 1398.2145491888577\n",
      "MSE: 1.864286\n",
      "TRAINING FINISHED ON:\n",
      "Epoch 19/15000, Loss: 1381.3726887467676\n",
      "MSE: 1.841830\n",
      "TRAINING FINISHED ON:\n",
      "Epoch 18/15000, Loss: 1388.598518913977\n",
      "MSE: 1.851465\n",
      "Epoch 20/15000, Loss: 1381.664010815686\n",
      "MSE: 1.842219\n",
      "TRAINING FINISHED ON:\n",
      "Epoch 20/15000, Loss: 1381.664010815686\n",
      "MSE: 1.842219\n",
      "Epoch 20/15000, Loss: 1389.3778775398634\n",
      "MSE: 1.852504\n",
      "TRAINING FINISHED ON:\n",
      "Epoch 20/15000, Loss: 1389.3778775398634\n",
      "MSE: 1.852504\n",
      "ALPHA: 0.0018333333333333335\n",
      "TRAINING FINISHED ON:\n",
      "Epoch 12/15000, Loss: 1395.4122951066029\n",
      "MSE: 1.860550\n",
      "TRAINING FINISHED ON:\n",
      "Epoch 16/15000, Loss: 1386.7605570380974\n",
      "MSE: 1.849014\n",
      "TRAINING FINISHED ON:\n",
      "Epoch 14/15000, Loss: 1378.9601145059896\n",
      "MSE: 1.838613\n",
      "TRAINING FINISHED ON:\n",
      "Epoch 13/15000, Loss: 1393.3982607948285\n",
      "MSE: 1.857864\n",
      "TRAINING FINISHED ON:\n",
      "Epoch 11/15000, Loss: 1388.3562892242642\n",
      "MSE: 1.851142\n",
      "ALPHA: 0.002266666666666667\n",
      "TRAINING FINISHED ON:\n",
      "Epoch 11/15000, Loss: 1376.702475127081\n",
      "MSE: 1.835603\n",
      "TRAINING FINISHED ON:\n",
      "Epoch 11/15000, Loss: 1382.1332860831326\n",
      "MSE: 1.842844\n",
      "TRAINING FINISHED ON:\n",
      "Epoch 10/15000, Loss: 1388.2094000194445\n",
      "MSE: 1.850946\n",
      "TRAINING FINISHED ON:\n",
      "Epoch 11/15000, Loss: 1385.9921168522799\n",
      "MSE: 1.847989\n",
      "TRAINING FINISHED ON:\n",
      "Epoch 11/15000, Loss: 1388.3428342894006\n",
      "MSE: 1.851124\n",
      "ALPHA: 0.0027\n",
      "TRAINING FINISHED ON:\n",
      "Epoch 12/15000, Loss: 1383.4091573782564\n",
      "MSE: 1.844546\n",
      "TRAINING FINISHED ON:\n",
      "Epoch 13/15000, Loss: 1378.856259113288\n",
      "MSE: 1.838475\n",
      "TRAINING FINISHED ON:\n",
      "Epoch 13/15000, Loss: 1381.7893065007408\n",
      "MSE: 1.842386\n",
      "TRAINING FINISHED ON:\n",
      "Epoch 12/15000, Loss: 1372.8616893451192\n",
      "MSE: 1.830482\n",
      "TRAINING FINISHED ON:\n",
      "Epoch 11/15000, Loss: 1372.7720604422714\n",
      "MSE: 1.830363\n",
      "ALPHA: 0.0031333333333333335\n",
      "TRAINING FINISHED ON:\n",
      "Epoch 9/15000, Loss: 1389.7679074378784\n",
      "MSE: 1.853024\n",
      "TRAINING FINISHED ON:\n",
      "Epoch 9/15000, Loss: 1387.8829397245327\n",
      "MSE: 1.850511\n",
      "TRAINING FINISHED ON:\n",
      "Epoch 10/15000, Loss: 1396.0911881357597\n",
      "MSE: 1.861455\n",
      "TRAINING FINISHED ON:\n",
      "Epoch 10/15000, Loss: 1366.6825170029313\n",
      "MSE: 1.822243\n",
      "TRAINING FINISHED ON:\n",
      "Epoch 10/15000, Loss: 1377.6863915248196\n",
      "MSE: 1.836915\n",
      "ALPHA: 0.0035666666666666668\n",
      "TRAINING FINISHED ON:\n",
      "Epoch 7/15000, Loss: 1393.0936149818835\n",
      "MSE: 1.857458\n",
      "TRAINING FINISHED ON:\n",
      "Epoch 6/15000, Loss: 1378.4285563623946\n",
      "MSE: 1.837905\n",
      "TRAINING FINISHED ON:\n",
      "Epoch 7/15000, Loss: 1377.0867178296623\n",
      "MSE: 1.836116\n",
      "TRAINING FINISHED ON:\n",
      "Epoch 8/15000, Loss: 1370.3440558931222\n",
      "MSE: 1.827125\n",
      "TRAINING FINISHED ON:\n",
      "Epoch 7/15000, Loss: 1390.6447326287048\n",
      "MSE: 1.854193\n",
      "ALPHA: 0.004\n",
      "TRAINING FINISHED ON:\n",
      "Epoch 6/15000, Loss: 1371.5758389285431\n",
      "MSE: 1.828768\n",
      "TRAINING FINISHED ON:\n",
      "Epoch 6/15000, Loss: 1395.0829015163324\n",
      "MSE: 1.860111\n",
      "TRAINING FINISHED ON:\n",
      "Epoch 6/15000, Loss: 1342.4473334047766\n",
      "MSE: 1.789930\n",
      "TRAINING FINISHED ON:\n",
      "Epoch 7/15000, Loss: 1360.5995628739156\n",
      "MSE: 1.814133\n",
      "TRAINING FINISHED ON:\n",
      "Epoch 7/15000, Loss: 1379.3103960490782\n",
      "MSE: 1.839081\n"
     ]
    },
    {
     "data": {
      "application/vnd.plotly.v1+json": {
       "config": {
        "plotlyServerURL": "https://plot.ly"
       },
       "data": [
        {
         "mode": "markers",
         "name": "Все наблюдения",
         "type": "scatter",
         "x": [
          0.0001,
          0.0001,
          0.0001,
          0.0001,
          0.0001,
          0.0005333333333333334,
          0.0005333333333333334,
          0.0005333333333333334,
          0.0005333333333333334,
          0.0005333333333333334,
          0.0009666666666666668,
          0.0009666666666666668,
          0.0009666666666666668,
          0.0009666666666666668,
          0.0009666666666666668,
          0.0014000000000000002,
          0.0014000000000000002,
          0.0014000000000000002,
          0.0014000000000000002,
          0.0014000000000000002,
          0.0018333333333333335,
          0.0018333333333333335,
          0.0018333333333333335,
          0.0018333333333333335,
          0.0018333333333333335,
          0.002266666666666667,
          0.002266666666666667,
          0.002266666666666667,
          0.002266666666666667,
          0.002266666666666667,
          0.0027,
          0.0027,
          0.0027,
          0.0027,
          0.0027,
          0.0031333333333333335,
          0.0031333333333333335,
          0.0031333333333333335,
          0.0031333333333333335,
          0.0031333333333333335,
          0.0035666666666666668,
          0.0035666666666666668,
          0.0035666666666666668,
          0.0035666666666666668,
          0.0035666666666666668,
          0.004,
          0.004,
          0.004,
          0.004,
          0.004
         ],
         "y": [
          154,
          152,
          158,
          154,
          146,
          32,
          31,
          34,
          35,
          32,
          32,
          26,
          29,
          28,
          30,
          19,
          19,
          18,
          20,
          20,
          12,
          16,
          14,
          13,
          11,
          11,
          11,
          10,
          11,
          11,
          12,
          13,
          13,
          12,
          11,
          9,
          9,
          10,
          10,
          10,
          19,
          15,
          18,
          15,
          20,
          23,
          24,
          25,
          25,
          25
         ]
        },
        {
         "mode": "lines+markers",
         "name": "Средние значения",
         "type": "scatter",
         "x": [
          0.0001,
          0.0005333333333333334,
          0.0009666666666666668,
          0.0014000000000000002,
          0.0018333333333333335,
          0.002266666666666667,
          0.0027,
          0.0031333333333333335,
          0.0035666666666666668,
          0.004
         ],
         "y": [
          152.8,
          32.8,
          29,
          19.2,
          13.2,
          10.8,
          12.2,
          9.6,
          17.4,
          24.4
         ]
        }
       ],
       "layout": {
        "font": {
         "size": 20
        },
        "height": 720,
        "template": {
         "data": {
          "bar": [
           {
            "error_x": {
             "color": "#2a3f5f"
            },
            "error_y": {
             "color": "#2a3f5f"
            },
            "marker": {
             "line": {
              "color": "#E5ECF6",
              "width": 0.5
             },
             "pattern": {
              "fillmode": "overlay",
              "size": 10,
              "solidity": 0.2
             }
            },
            "type": "bar"
           }
          ],
          "barpolar": [
           {
            "marker": {
             "line": {
              "color": "#E5ECF6",
              "width": 0.5
             },
             "pattern": {
              "fillmode": "overlay",
              "size": 10,
              "solidity": 0.2
             }
            },
            "type": "barpolar"
           }
          ],
          "carpet": [
           {
            "aaxis": {
             "endlinecolor": "#2a3f5f",
             "gridcolor": "white",
             "linecolor": "white",
             "minorgridcolor": "white",
             "startlinecolor": "#2a3f5f"
            },
            "baxis": {
             "endlinecolor": "#2a3f5f",
             "gridcolor": "white",
             "linecolor": "white",
             "minorgridcolor": "white",
             "startlinecolor": "#2a3f5f"
            },
            "type": "carpet"
           }
          ],
          "choropleth": [
           {
            "colorbar": {
             "outlinewidth": 0,
             "ticks": ""
            },
            "type": "choropleth"
           }
          ],
          "contour": [
           {
            "colorbar": {
             "outlinewidth": 0,
             "ticks": ""
            },
            "colorscale": [
             [
              0,
              "#0d0887"
             ],
             [
              0.1111111111111111,
              "#46039f"
             ],
             [
              0.2222222222222222,
              "#7201a8"
             ],
             [
              0.3333333333333333,
              "#9c179e"
             ],
             [
              0.4444444444444444,
              "#bd3786"
             ],
             [
              0.5555555555555556,
              "#d8576b"
             ],
             [
              0.6666666666666666,
              "#ed7953"
             ],
             [
              0.7777777777777778,
              "#fb9f3a"
             ],
             [
              0.8888888888888888,
              "#fdca26"
             ],
             [
              1,
              "#f0f921"
             ]
            ],
            "type": "contour"
           }
          ],
          "contourcarpet": [
           {
            "colorbar": {
             "outlinewidth": 0,
             "ticks": ""
            },
            "type": "contourcarpet"
           }
          ],
          "heatmap": [
           {
            "colorbar": {
             "outlinewidth": 0,
             "ticks": ""
            },
            "colorscale": [
             [
              0,
              "#0d0887"
             ],
             [
              0.1111111111111111,
              "#46039f"
             ],
             [
              0.2222222222222222,
              "#7201a8"
             ],
             [
              0.3333333333333333,
              "#9c179e"
             ],
             [
              0.4444444444444444,
              "#bd3786"
             ],
             [
              0.5555555555555556,
              "#d8576b"
             ],
             [
              0.6666666666666666,
              "#ed7953"
             ],
             [
              0.7777777777777778,
              "#fb9f3a"
             ],
             [
              0.8888888888888888,
              "#fdca26"
             ],
             [
              1,
              "#f0f921"
             ]
            ],
            "type": "heatmap"
           }
          ],
          "heatmapgl": [
           {
            "colorbar": {
             "outlinewidth": 0,
             "ticks": ""
            },
            "colorscale": [
             [
              0,
              "#0d0887"
             ],
             [
              0.1111111111111111,
              "#46039f"
             ],
             [
              0.2222222222222222,
              "#7201a8"
             ],
             [
              0.3333333333333333,
              "#9c179e"
             ],
             [
              0.4444444444444444,
              "#bd3786"
             ],
             [
              0.5555555555555556,
              "#d8576b"
             ],
             [
              0.6666666666666666,
              "#ed7953"
             ],
             [
              0.7777777777777778,
              "#fb9f3a"
             ],
             [
              0.8888888888888888,
              "#fdca26"
             ],
             [
              1,
              "#f0f921"
             ]
            ],
            "type": "heatmapgl"
           }
          ],
          "histogram": [
           {
            "marker": {
             "pattern": {
              "fillmode": "overlay",
              "size": 10,
              "solidity": 0.2
             }
            },
            "type": "histogram"
           }
          ],
          "histogram2d": [
           {
            "colorbar": {
             "outlinewidth": 0,
             "ticks": ""
            },
            "colorscale": [
             [
              0,
              "#0d0887"
             ],
             [
              0.1111111111111111,
              "#46039f"
             ],
             [
              0.2222222222222222,
              "#7201a8"
             ],
             [
              0.3333333333333333,
              "#9c179e"
             ],
             [
              0.4444444444444444,
              "#bd3786"
             ],
             [
              0.5555555555555556,
              "#d8576b"
             ],
             [
              0.6666666666666666,
              "#ed7953"
             ],
             [
              0.7777777777777778,
              "#fb9f3a"
             ],
             [
              0.8888888888888888,
              "#fdca26"
             ],
             [
              1,
              "#f0f921"
             ]
            ],
            "type": "histogram2d"
           }
          ],
          "histogram2dcontour": [
           {
            "colorbar": {
             "outlinewidth": 0,
             "ticks": ""
            },
            "colorscale": [
             [
              0,
              "#0d0887"
             ],
             [
              0.1111111111111111,
              "#46039f"
             ],
             [
              0.2222222222222222,
              "#7201a8"
             ],
             [
              0.3333333333333333,
              "#9c179e"
             ],
             [
              0.4444444444444444,
              "#bd3786"
             ],
             [
              0.5555555555555556,
              "#d8576b"
             ],
             [
              0.6666666666666666,
              "#ed7953"
             ],
             [
              0.7777777777777778,
              "#fb9f3a"
             ],
             [
              0.8888888888888888,
              "#fdca26"
             ],
             [
              1,
              "#f0f921"
             ]
            ],
            "type": "histogram2dcontour"
           }
          ],
          "mesh3d": [
           {
            "colorbar": {
             "outlinewidth": 0,
             "ticks": ""
            },
            "type": "mesh3d"
           }
          ],
          "parcoords": [
           {
            "line": {
             "colorbar": {
              "outlinewidth": 0,
              "ticks": ""
             }
            },
            "type": "parcoords"
           }
          ],
          "pie": [
           {
            "automargin": true,
            "type": "pie"
           }
          ],
          "scatter": [
           {
            "fillpattern": {
             "fillmode": "overlay",
             "size": 10,
             "solidity": 0.2
            },
            "type": "scatter"
           }
          ],
          "scatter3d": [
           {
            "line": {
             "colorbar": {
              "outlinewidth": 0,
              "ticks": ""
             }
            },
            "marker": {
             "colorbar": {
              "outlinewidth": 0,
              "ticks": ""
             }
            },
            "type": "scatter3d"
           }
          ],
          "scattercarpet": [
           {
            "marker": {
             "colorbar": {
              "outlinewidth": 0,
              "ticks": ""
             }
            },
            "type": "scattercarpet"
           }
          ],
          "scattergeo": [
           {
            "marker": {
             "colorbar": {
              "outlinewidth": 0,
              "ticks": ""
             }
            },
            "type": "scattergeo"
           }
          ],
          "scattergl": [
           {
            "marker": {
             "colorbar": {
              "outlinewidth": 0,
              "ticks": ""
             }
            },
            "type": "scattergl"
           }
          ],
          "scattermapbox": [
           {
            "marker": {
             "colorbar": {
              "outlinewidth": 0,
              "ticks": ""
             }
            },
            "type": "scattermapbox"
           }
          ],
          "scatterpolar": [
           {
            "marker": {
             "colorbar": {
              "outlinewidth": 0,
              "ticks": ""
             }
            },
            "type": "scatterpolar"
           }
          ],
          "scatterpolargl": [
           {
            "marker": {
             "colorbar": {
              "outlinewidth": 0,
              "ticks": ""
             }
            },
            "type": "scatterpolargl"
           }
          ],
          "scatterternary": [
           {
            "marker": {
             "colorbar": {
              "outlinewidth": 0,
              "ticks": ""
             }
            },
            "type": "scatterternary"
           }
          ],
          "surface": [
           {
            "colorbar": {
             "outlinewidth": 0,
             "ticks": ""
            },
            "colorscale": [
             [
              0,
              "#0d0887"
             ],
             [
              0.1111111111111111,
              "#46039f"
             ],
             [
              0.2222222222222222,
              "#7201a8"
             ],
             [
              0.3333333333333333,
              "#9c179e"
             ],
             [
              0.4444444444444444,
              "#bd3786"
             ],
             [
              0.5555555555555556,
              "#d8576b"
             ],
             [
              0.6666666666666666,
              "#ed7953"
             ],
             [
              0.7777777777777778,
              "#fb9f3a"
             ],
             [
              0.8888888888888888,
              "#fdca26"
             ],
             [
              1,
              "#f0f921"
             ]
            ],
            "type": "surface"
           }
          ],
          "table": [
           {
            "cells": {
             "fill": {
              "color": "#EBF0F8"
             },
             "line": {
              "color": "white"
             }
            },
            "header": {
             "fill": {
              "color": "#C8D4E3"
             },
             "line": {
              "color": "white"
             }
            },
            "type": "table"
           }
          ]
         },
         "layout": {
          "annotationdefaults": {
           "arrowcolor": "#2a3f5f",
           "arrowhead": 0,
           "arrowwidth": 1
          },
          "autotypenumbers": "strict",
          "coloraxis": {
           "colorbar": {
            "outlinewidth": 0,
            "ticks": ""
           }
          },
          "colorscale": {
           "diverging": [
            [
             0,
             "#8e0152"
            ],
            [
             0.1,
             "#c51b7d"
            ],
            [
             0.2,
             "#de77ae"
            ],
            [
             0.3,
             "#f1b6da"
            ],
            [
             0.4,
             "#fde0ef"
            ],
            [
             0.5,
             "#f7f7f7"
            ],
            [
             0.6,
             "#e6f5d0"
            ],
            [
             0.7,
             "#b8e186"
            ],
            [
             0.8,
             "#7fbc41"
            ],
            [
             0.9,
             "#4d9221"
            ],
            [
             1,
             "#276419"
            ]
           ],
           "sequential": [
            [
             0,
             "#0d0887"
            ],
            [
             0.1111111111111111,
             "#46039f"
            ],
            [
             0.2222222222222222,
             "#7201a8"
            ],
            [
             0.3333333333333333,
             "#9c179e"
            ],
            [
             0.4444444444444444,
             "#bd3786"
            ],
            [
             0.5555555555555556,
             "#d8576b"
            ],
            [
             0.6666666666666666,
             "#ed7953"
            ],
            [
             0.7777777777777778,
             "#fb9f3a"
            ],
            [
             0.8888888888888888,
             "#fdca26"
            ],
            [
             1,
             "#f0f921"
            ]
           ],
           "sequentialminus": [
            [
             0,
             "#0d0887"
            ],
            [
             0.1111111111111111,
             "#46039f"
            ],
            [
             0.2222222222222222,
             "#7201a8"
            ],
            [
             0.3333333333333333,
             "#9c179e"
            ],
            [
             0.4444444444444444,
             "#bd3786"
            ],
            [
             0.5555555555555556,
             "#d8576b"
            ],
            [
             0.6666666666666666,
             "#ed7953"
            ],
            [
             0.7777777777777778,
             "#fb9f3a"
            ],
            [
             0.8888888888888888,
             "#fdca26"
            ],
            [
             1,
             "#f0f921"
            ]
           ]
          },
          "colorway": [
           "#636efa",
           "#EF553B",
           "#00cc96",
           "#ab63fa",
           "#FFA15A",
           "#19d3f3",
           "#FF6692",
           "#B6E880",
           "#FF97FF",
           "#FECB52"
          ],
          "font": {
           "color": "#2a3f5f"
          },
          "geo": {
           "bgcolor": "white",
           "lakecolor": "white",
           "landcolor": "#E5ECF6",
           "showlakes": true,
           "showland": true,
           "subunitcolor": "white"
          },
          "hoverlabel": {
           "align": "left"
          },
          "hovermode": "closest",
          "mapbox": {
           "style": "light"
          },
          "paper_bgcolor": "white",
          "plot_bgcolor": "#E5ECF6",
          "polar": {
           "angularaxis": {
            "gridcolor": "white",
            "linecolor": "white",
            "ticks": ""
           },
           "bgcolor": "#E5ECF6",
           "radialaxis": {
            "gridcolor": "white",
            "linecolor": "white",
            "ticks": ""
           }
          },
          "scene": {
           "xaxis": {
            "backgroundcolor": "#E5ECF6",
            "gridcolor": "white",
            "gridwidth": 2,
            "linecolor": "white",
            "showbackground": true,
            "ticks": "",
            "zerolinecolor": "white"
           },
           "yaxis": {
            "backgroundcolor": "#E5ECF6",
            "gridcolor": "white",
            "gridwidth": 2,
            "linecolor": "white",
            "showbackground": true,
            "ticks": "",
            "zerolinecolor": "white"
           },
           "zaxis": {
            "backgroundcolor": "#E5ECF6",
            "gridcolor": "white",
            "gridwidth": 2,
            "linecolor": "white",
            "showbackground": true,
            "ticks": "",
            "zerolinecolor": "white"
           }
          },
          "shapedefaults": {
           "line": {
            "color": "#2a3f5f"
           }
          },
          "ternary": {
           "aaxis": {
            "gridcolor": "white",
            "linecolor": "white",
            "ticks": ""
           },
           "baxis": {
            "gridcolor": "white",
            "linecolor": "white",
            "ticks": ""
           },
           "bgcolor": "#E5ECF6",
           "caxis": {
            "gridcolor": "white",
            "linecolor": "white",
            "ticks": ""
           }
          },
          "title": {
           "x": 0.05
          },
          "xaxis": {
           "automargin": true,
           "gridcolor": "white",
           "linecolor": "white",
           "ticks": "",
           "title": {
            "standoff": 15
           },
           "zerolinecolor": "white",
           "zerolinewidth": 2
          },
          "yaxis": {
           "automargin": true,
           "gridcolor": "white",
           "linecolor": "white",
           "ticks": "",
           "title": {
            "standoff": 15
           },
           "zerolinecolor": "white",
           "zerolinewidth": 2
          }
         }
        },
        "title": {
         "text": "Зависимость количества итераций обучения от коэффициента обучения"
        },
        "width": 1280,
        "xaxis": {
         "title": {
          "text": "Значение коэффициента обучения"
         }
        },
        "yaxis": {
         "title": {
          "text": "Количество итераций обучения"
         }
        }
       }
      }
     },
     "metadata": {},
     "output_type": "display_data"
    }
   ],
   "source": [
    "alphas = np.linspace(0.0001, 0.004, endpoint=True, num=10)\n",
    "all_alphas: list[float] = []\n",
    "epochs_amount_mean: list[int] = []\n",
    "epochs_amount: list[int] = []\n",
    "fig = go.Figure()\n",
    "experiments_amount = 5\n",
    "for alpha in alphas:\n",
    "    print(f'ALPHA: {alpha}')\n",
    "    epoch_sum = 0\n",
    "    for i in range(experiments_amount):\n",
    "        all_alphas.append(alpha)        \n",
    "        dl = LRNN(n, 20, alpha)\n",
    "        dl.train(train, 15000, learn_by_loss=True, max_loss=1400, verbosity=20)        \n",
    "        epoch_sum += dl.epoch\n",
    "        epochs_amount.append(dl.epoch)\n",
    "    epochs_amount_mean.append(epoch_sum / experiments_amount)\n",
    "fig.add_trace(go.Scatter(x=all_alphas, y=epochs_amount, mode='markers',\n",
    "                         name='Все наблюдения'))\n",
    "fig.add_trace(go.Scatter(x=alphas, y=epochs_amount_mean, mode='lines+markers',\n",
    "                         name='Средние значения'))\n",
    "fig.update_layout(title='Зависимость количества итераций обучения от коэффициента обучения',\n",
    "                  xaxis_title='Значение коэффициента обучения',\n",
    "                  yaxis_title='Количество итераций обучения',\n",
    "                  height=720, width=1280,\n",
    "                  font=dict(size=20))\n",
    "fig.show()"
   ]
  },
  {
   "cell_type": "markdown",
   "metadata": {},
   "source": [
    "## Relationship between hidden layer dimension and epochs"
   ]
  },
  {
   "cell_type": "code",
   "execution_count": 6,
   "metadata": {},
   "outputs": [
    {
     "name": "stdout",
     "output_type": "stream",
     "text": [
      "Epoch 1/15000, Loss: 3871.0088178801075\n",
      "MSE: 5.161345\n",
      "Epoch 2/15000, Loss: 3069.319768276927\n",
      "MSE: 4.092426\n",
      "Epoch 3/15000, Loss: 2823.2647099728106\n",
      "MSE: 3.764353\n",
      "Epoch 4/15000, Loss: 2679.9128621632676\n",
      "MSE: 3.573217\n",
      "Epoch 5/15000, Loss: 2583.7914645805495\n",
      "MSE: 3.445055\n",
      "Epoch 6/15000, Loss: 2514.77253007027\n",
      "MSE: 3.353030\n",
      "Epoch 7/15000, Loss: 2462.8924830227984\n",
      "MSE: 3.283857\n",
      "Epoch 8/15000, Loss: 2422.542070471053\n",
      "MSE: 3.230056\n",
      "Epoch 9/15000, Loss: 2390.306928550228\n",
      "MSE: 3.187076\n",
      "Epoch 10/15000, Loss: 2363.985454155671\n",
      "MSE: 3.151981\n",
      "Epoch 11/15000, Loss: 2342.0962581748645\n",
      "MSE: 3.122795\n",
      "Epoch 12/15000, Loss: 2323.606638823043\n",
      "MSE: 3.098142\n",
      "Epoch 13/15000, Loss: 2307.7748160489386\n",
      "MSE: 3.077033\n",
      "Epoch 14/15000, Loss: 2294.055179344929\n",
      "MSE: 3.058740\n",
      "Epoch 15/15000, Loss: 2282.0380225755034\n",
      "MSE: 3.042717\n",
      "Epoch 16/15000, Loss: 2271.409715542638\n",
      "MSE: 3.028546\n",
      "Epoch 17/15000, Loss: 2261.926633726728\n",
      "MSE: 3.015902\n",
      "Epoch 18/15000, Loss: 2253.3967669698136\n",
      "MSE: 3.004529\n",
      "Epoch 19/15000, Loss: 2245.6668944821968\n",
      "MSE: 2.994223\n",
      "Epoch 20/15000, Loss: 2238.612917922348\n",
      "MSE: 2.984817\n",
      "Epoch 21/15000, Loss: 2232.1338442638626\n",
      "MSE: 2.976178\n",
      "Epoch 22/15000, Loss: 2226.146860813673\n",
      "MSE: 2.968196\n",
      "Epoch 23/15000, Loss: 2220.5819510950405\n",
      "MSE: 2.960776\n",
      "Epoch 24/15000, Loss: 2215.380790180352\n",
      "MSE: 2.953841\n",
      "Epoch 25/15000, Loss: 2210.494373359929\n",
      "MSE: 2.947326\n",
      "Epoch 26/15000, Loss: 2205.880261667931\n",
      "MSE: 2.941174\n",
      "Epoch 27/15000, Loss: 2201.501971770639\n",
      "MSE: 2.935336\n",
      "Epoch 28/15000, Loss: 2197.328125019204\n",
      "MSE: 2.929771\n",
      "Epoch 29/15000, Loss: 2193.331089707614\n",
      "MSE: 2.924441\n",
      "Epoch 30/15000, Loss: 2189.48602094894\n",
      "MSE: 2.919315\n",
      "Epoch 31/15000, Loss: 2185.7722314998873\n",
      "MSE: 2.914363\n",
      "Epoch 32/15000, Loss: 2182.170263562379\n",
      "MSE: 2.909560\n",
      "Epoch 33/15000, Loss: 2178.662828412992\n",
      "MSE: 2.904884\n",
      "Epoch 34/15000, Loss: 2175.234870966855\n",
      "MSE: 2.900313\n",
      "Epoch 35/15000, Loss: 2171.872216976261\n",
      "MSE: 2.895830\n",
      "Epoch 36/15000, Loss: 2168.562662989112\n",
      "MSE: 2.891417\n",
      "Epoch 37/15000, Loss: 2165.294512777405\n",
      "MSE: 2.887059\n",
      "Epoch 38/15000, Loss: 2162.057639405357\n",
      "MSE: 2.882744\n",
      "Epoch 39/15000, Loss: 2158.8424404421467\n",
      "MSE: 2.878457\n",
      "Epoch 40/15000, Loss: 2155.6402398835176\n",
      "MSE: 2.874187\n",
      "Epoch 41/15000, Loss: 2152.442947490162\n",
      "MSE: 2.869924\n",
      "Epoch 42/15000, Loss: 2149.2439199943024\n",
      "MSE: 2.865659\n",
      "Epoch 43/15000, Loss: 2146.035692568472\n",
      "MSE: 2.861381\n",
      "Epoch 44/15000, Loss: 2142.8123709816355\n",
      "MSE: 2.857083\n",
      "Epoch 45/15000, Loss: 2139.568582836856\n",
      "MSE: 2.852758\n",
      "Epoch 46/15000, Loss: 2136.298543937608\n",
      "MSE: 2.848398\n",
      "Epoch 47/15000, Loss: 2132.998039630061\n",
      "MSE: 2.843997\n",
      "Epoch 48/15000, Loss: 2129.662215345148\n",
      "MSE: 2.839550\n",
      "Epoch 49/15000, Loss: 2126.286932173946\n",
      "MSE: 2.835049\n"
     ]
    },
    {
     "ename": "KeyboardInterrupt",
     "evalue": "",
     "output_type": "error",
     "traceback": [
      "\u001b[1;31m---------------------------------------------------------------------------\u001b[0m",
      "\u001b[1;31mKeyboardInterrupt\u001b[0m                         Traceback (most recent call last)",
      "Cell \u001b[1;32mIn[6], line 6\u001b[0m\n\u001b[0;32m      4\u001b[0m \u001b[38;5;28;01mfor\u001b[39;00m p \u001b[38;5;129;01min\u001b[39;00m p_s:    \n\u001b[0;32m      5\u001b[0m     dl \u001b[38;5;241m=\u001b[39m LRNN(n, p, \u001b[38;5;241m0.001\u001b[39m)\n\u001b[1;32m----> 6\u001b[0m     \u001b[43mdl\u001b[49m\u001b[38;5;241;43m.\u001b[39;49m\u001b[43mtrain\u001b[49m\u001b[43m(\u001b[49m\u001b[43mtrain\u001b[49m\u001b[43m,\u001b[49m\u001b[43m \u001b[49m\u001b[38;5;241;43m15000\u001b[39;49m\u001b[43m,\u001b[49m\u001b[43m \u001b[49m\u001b[43mlearn_by_loss\u001b[49m\u001b[38;5;241;43m=\u001b[39;49m\u001b[38;5;28;43;01mTrue\u001b[39;49;00m\u001b[43m,\u001b[49m\u001b[43m \u001b[49m\u001b[43mmax_loss\u001b[49m\u001b[38;5;241;43m=\u001b[39;49m\u001b[38;5;241;43m1900\u001b[39;49m\u001b[43m)\u001b[49m\n\u001b[0;32m      7\u001b[0m     epochs_amount\u001b[38;5;241m.\u001b[39mappend(dl\u001b[38;5;241m.\u001b[39mepoch)\n\u001b[0;32m      9\u001b[0m     compressed \u001b[38;5;241m=\u001b[39m compress_image(dl\u001b[38;5;241m.\u001b[39mW_enc, img_array, COLOR_CHANNELS_AMOUNT, block_height, block_width, \u001b[38;5;241m0\u001b[39m)\n",
      "File \u001b[1;32md:\\Programms\\Programming\\BSUIR\\MSPIS\\LW1_2\\lrnn.py:143\u001b[0m, in \u001b[0;36mLRNN.train\u001b[1;34m(self, data, epochs, max_loss, learn_by_loss, verbosity)\u001b[0m\n\u001b[0;32m    141\u001b[0m     x \u001b[38;5;241m=\u001b[39m np\u001b[38;5;241m.\u001b[39mmatrix(x)\n\u001b[0;32m    142\u001b[0m     _, x_reconstructed \u001b[38;5;241m=\u001b[39m \u001b[38;5;28mself\u001b[39m\u001b[38;5;241m.\u001b[39mforward(x)\n\u001b[1;32m--> 143\u001b[0m     \u001b[38;5;28;43mself\u001b[39;49m\u001b[38;5;241;43m.\u001b[39;49m\u001b[43mbackward\u001b[49m\u001b[43m(\u001b[49m\u001b[43mx\u001b[49m\u001b[43m,\u001b[49m\u001b[43m \u001b[49m\u001b[43mx_reconstructed\u001b[49m\u001b[43m)\u001b[49m\n\u001b[0;32m    144\u001b[0m \u001b[38;5;28;01mfor\u001b[39;00m x \u001b[38;5;129;01min\u001b[39;00m data:\n\u001b[0;32m    145\u001b[0m     _, x_reconstructed \u001b[38;5;241m=\u001b[39m \u001b[38;5;28mself\u001b[39m\u001b[38;5;241m.\u001b[39mforward(x)\n",
      "File \u001b[1;32md:\\Programms\\Programming\\BSUIR\\MSPIS\\LW1_2\\lrnn.py:118\u001b[0m, in \u001b[0;36mLRNN.backward\u001b[1;34m(self, x, x_reconstructed)\u001b[0m\n\u001b[0;32m    115\u001b[0m error \u001b[38;5;241m=\u001b[39m x_reconstructed \u001b[38;5;241m-\u001b[39m x        \n\u001b[0;32m    117\u001b[0m dW_dec \u001b[38;5;241m=\u001b[39m (x \u001b[38;5;241m@\u001b[39m \u001b[38;5;28mself\u001b[39m\u001b[38;5;241m.\u001b[39mW_enc)\u001b[38;5;241m.\u001b[39mT \u001b[38;5;241m@\u001b[39m error\n\u001b[1;32m--> 118\u001b[0m dW_enc \u001b[38;5;241m=\u001b[39m x\u001b[38;5;241m.\u001b[39mT \u001b[38;5;241m@\u001b[39m (\u001b[43merror\u001b[49m\u001b[43m \u001b[49m\u001b[38;5;241;43m@\u001b[39;49m\u001b[43m \u001b[49m\u001b[38;5;28;43mself\u001b[39;49m\u001b[38;5;241;43m.\u001b[39;49m\u001b[43mW_dec\u001b[49m\u001b[38;5;241;43m.\u001b[39;49m\u001b[43mT\u001b[49m)                       \n\u001b[0;32m    120\u001b[0m \u001b[38;5;28mself\u001b[39m\u001b[38;5;241m.\u001b[39mW_dec \u001b[38;5;241m-\u001b[39m\u001b[38;5;241m=\u001b[39m \u001b[38;5;28mself\u001b[39m\u001b[38;5;241m.\u001b[39mlearning_rate \u001b[38;5;241m*\u001b[39m dW_dec\n\u001b[0;32m    121\u001b[0m \u001b[38;5;28mself\u001b[39m\u001b[38;5;241m.\u001b[39mW_enc \u001b[38;5;241m-\u001b[39m\u001b[38;5;241m=\u001b[39m \u001b[38;5;28mself\u001b[39m\u001b[38;5;241m.\u001b[39mlearning_rate \u001b[38;5;241m*\u001b[39m dW_enc        \n",
      "File \u001b[1;32md:\\Programms\\Programming\\BSUIR\\MSPIS\\LW1_2\\.venv\\Lib\\site-packages\\numpy\\matrixlib\\defmatrix.py:170\u001b[0m, in \u001b[0;36mmatrix.__array_finalize__\u001b[1;34m(self, obj)\u001b[0m\n\u001b[0;32m    165\u001b[0m     ret \u001b[38;5;241m=\u001b[39m N\u001b[38;5;241m.\u001b[39mndarray\u001b[38;5;241m.\u001b[39m\u001b[38;5;21m__new__\u001b[39m(subtype, shape, arr\u001b[38;5;241m.\u001b[39mdtype,\n\u001b[0;32m    166\u001b[0m                             buffer\u001b[38;5;241m=\u001b[39marr,\n\u001b[0;32m    167\u001b[0m                             order\u001b[38;5;241m=\u001b[39morder)\n\u001b[0;32m    168\u001b[0m     \u001b[38;5;28;01mreturn\u001b[39;00m ret\n\u001b[1;32m--> 170\u001b[0m \u001b[38;5;28;01mdef\u001b[39;00m \u001b[38;5;21m__array_finalize__\u001b[39m(\u001b[38;5;28mself\u001b[39m, obj):\n\u001b[0;32m    171\u001b[0m     \u001b[38;5;28mself\u001b[39m\u001b[38;5;241m.\u001b[39m_getitem \u001b[38;5;241m=\u001b[39m \u001b[38;5;28;01mFalse\u001b[39;00m\n\u001b[0;32m    172\u001b[0m     \u001b[38;5;28;01mif\u001b[39;00m (\u001b[38;5;28misinstance\u001b[39m(obj, matrix) \u001b[38;5;129;01mand\u001b[39;00m obj\u001b[38;5;241m.\u001b[39m_getitem): \u001b[38;5;28;01mreturn\u001b[39;00m\n",
      "\u001b[1;31mKeyboardInterrupt\u001b[0m: "
     ]
    }
   ],
   "source": [
    "p_s = (6, 8, 10, 12, 14, 16, 18, 20)\n",
    "epochs_amount: list[int] = []\n",
    "compression_rates: list[float] = []\n",
    "for p in p_s:    \n",
    "    dl = LRNN(n, p, 0.001)\n",
    "    dl.train(train, 15000, learn_by_loss=True, max_loss=1900)\n",
    "    epochs_amount.append(dl.epoch)\n",
    "\n",
    "    compressed = compress_image(dl.W_enc, img_array, COLOR_CHANNELS_AMOUNT, block_height, block_width, 0)\n",
    "    compression_info_size = (\n",
    "        compressed.size * compressed.itemsize +\n",
    "        network.W_dec.size * network.W_dec.itemsize +\n",
    "        np.array(shape).size * np.array(shape).itemsize +\n",
    "        np.array((block_height, block_width)).size * np.array((block_height, block_width)).itemsize \n",
    "    ) * 8\n",
    "    compression_rates.append((img_array.size * img_array.itemsize * 8) / compression_info_size)\n",
    "\n",
    "fig = go.Figure()\n",
    "fig.add_trace(go.Scatter(x=compression_rates, y=epochs_amount, mode='lines+markers'))\n",
    "fig.update_layout(title='Зависимость количества итераций обучения от коэффициента сжатия',\n",
    "                  xaxis_title='Коэффициент сжатия',\n",
    "                  yaxis_title='Количество итераций обучения',\n",
    "                  height=720, width=1280,\n",
    "                  font=dict(size=20))\n",
    "fig.show()"
   ]
  },
  {
   "cell_type": "code",
   "execution_count": null,
   "metadata": {},
   "outputs": [],
   "source": [
    "p_s = (6, 8, 10, 12, 14, 16, 18, 20)\n",
    "all_ps: list[int] = []\n",
    "all_compression_rates: list[float] = []\n",
    "compression_rates: list[float] = []\n",
    "epochs_amount_mean: list[int] = []\n",
    "epochs_amount: list[int] = []\n",
    "fig = go.Figure()\n",
    "experiments_amount = 5\n",
    "for p in p_s:\n",
    "    epoch_sum = 0\n",
    "    for i in range(experiments_amount):\n",
    "        all_ps.append(p)        \n",
    "        dl = LRNN(n, p, 0.001)\n",
    "        dl.train(train, 15000, learn_by_loss=True, max_loss=1500)\n",
    "        epoch_sum += dl.epoch\n",
    "        epochs_amount.append(dl.epoch)\n",
    "\n",
    "        compressed = compress_image(dl.W_enc, img_array, COLOR_CHANNELS_AMOUNT, block_height, block_width, 0)\n",
    "        compression_info_size = (\n",
    "            compressed.size * compressed.itemsize +\n",
    "            network.W_dec.size * network.W_dec.itemsize +\n",
    "            np.array(shape).size * np.array(shape).itemsize +\n",
    "            np.array((block_height, block_width)).size * np.array((block_height, block_width)).itemsize \n",
    "        ) * 8\n",
    "        all_compression_rates.append((img_array.size * img_array.itemsize * 8) / compression_info_size)\n",
    "    compression_rates.append(all_compression_rates[-1])\n",
    "\n",
    "    epochs_amount_mean.append(epoch_sum / experiments_amount)\n",
    "fig.add_trace(go.Scatter(x=all_compression_rates, y=epochs_amount, mode='markers',\n",
    "                         name='Все наблюдения'))\n",
    "fig.add_trace(go.Scatter(x=compression_rates, y=epochs_amount_mean, mode='lines+markers',\n",
    "                         name='Средние значения'))\n",
    "fig.update_layout(title='Зависимость количества итераций обучения от коэффициента сжатия',\n",
    "                  xaxis_title='Значение коэффичиента сжатия',\n",
    "                  yaxis_title='Количество итераций обучения',\n",
    "                  height=720, width=1280,\n",
    "                  font=dict(size=20))\n",
    "fig.show()"
   ]
  },
  {
   "cell_type": "markdown",
   "metadata": {},
   "source": [
    "## Relationship between max error and epochs"
   ]
  },
  {
   "cell_type": "code",
   "execution_count": null,
   "metadata": {},
   "outputs": [],
   "source": [
    "max_errors = list(range(800, 3100, 100))\n",
    "all_errors: list[float] = []\n",
    "epochs_amount_mean: list[int] = []\n",
    "epochs_amount: list[int] = []\n",
    "fig = go.Figure()\n",
    "experiments_amount = 5\n",
    "for err in max_errors:\n",
    "    epoch_sum = 0\n",
    "    for i in range(experiments_amount):\n",
    "        all_errors.append(err)        \n",
    "        dl = LRNN(n, 50, 0.001)\n",
    "        dl.train(train, 15000, learn_by_loss=True, max_loss=err)\n",
    "        epoch_sum += dl.epoch\n",
    "        epochs_amount.append(dl.epoch)\n",
    "    epochs_amount_mean.append(epoch_sum / experiments_amount)\n",
    "fig.add_trace(go.Scatter(x=all_errors, y=epochs_amount, mode='markers',\n",
    "                         name='Все наблюдения'))\n",
    "fig.add_trace(go.Scatter(x=max_errors, y=epochs_amount_mean, mode='lines+markers',\n",
    "                         name='Средние значения'))\n",
    "fig.update_layout(title='Зависимость количества итераций обучения от значения максимальной ошибки',\n",
    "                  xaxis_title='Значение максимальной ошибки',\n",
    "                  yaxis_title='Количество итераций обучения',\n",
    "                  height=720, width=1280,\n",
    "                  font=dict(size=20))\n",
    "fig.show()"
   ]
  },
  {
   "cell_type": "markdown",
   "metadata": {},
   "source": [
    "## Relationship between image and epochs"
   ]
  },
  {
   "cell_type": "code",
   "execution_count": null,
   "metadata": {},
   "outputs": [],
   "source": [
    "# Collecting everything\n",
    "\n",
    "block_width = 10\n",
    "block_height = 10\n",
    "\n",
    "n = block_height * block_width\n",
    "# Hidden layer neuron amount\n",
    "p = 20 \n",
    "\n",
    "img = Image.open('images/winter.jpg')\n",
    "img_array = np.asarray(img)\n",
    "shape = img_array.shape\n",
    "blocks = image_to_blocks(img_array, block_height, block_width, overlap=0)\n",
    "\n",
    "l = len(blocks)\n",
    "\n",
    "color_df = ((2 * blocks / MAX_RGB_VALUE) - 1).reshape(len(blocks), -1, 3).transpose(0, 2, 1).reshape(-1, block_height * block_width)\n",
    "train = np.matrix(color_df[np.random.choice(color_df.shape[0], int(color_df.shape[0] * 0.05))])\n",
    "\n",
    "network = LRNN(n, p, 0.001)\n",
    "network.train(train, 15000, learn_by_loss=True, max_loss=1300)\n",
    "\n",
    "r, g, b = img.split()\n",
    "fig = go.Figure()\n",
    "fig.add_trace(\n",
    "    go.Histogram(x=np.array(r).flatten(),\n",
    "                 name='Красный канал', marker_color='red',\n",
    "                 xbins=dict(\n",
    "                     start=0,\n",
    "                     end=255,\n",
    "                     size=7\n",
    "                 ),\n",
    "                 opacity=1,\n",
    "                 )\n",
    ")\n",
    "fig.add_trace(\n",
    "    go.Histogram(x=np.array(g).flatten(),\n",
    "                 name='Зелёный канал', marker_color='green',\n",
    "                 xbins=dict(\n",
    "                     start=0,\n",
    "                     end=255,\n",
    "                     size=7\n",
    "                 ),\n",
    "                 opacity=0.6,\n",
    "                 )\n",
    ")\n",
    "fig.add_trace(\n",
    "    go.Histogram(x=np.array(b).flatten(), \n",
    "                 name='Синий канал', marker_color='blue',\n",
    "                 xbins=dict(\n",
    "                     start=0,\n",
    "                     end=255,\n",
    "                     size=7\n",
    "                 ),\n",
    "                 opacity=0.3,\n",
    "                 )\n",
    ")\n",
    "fig.update_layout(barmode='stack',\n",
    "                  title='Гистограмма изображения',                  \n",
    "                  height=500, width=500,\n",
    "                  font=dict(size=20))\n",
    "fig.show()\n",
    "\n",
    "print(network.epoch)\n",
    "compressed = compress_image(network.W_enc, img_array, COLOR_CHANNELS_AMOUNT, block_height, block_width, 0)\n",
    "dimg = decompress_image(network.W_dec, compressed, shape, COLOR_CHANNELS_AMOUNT, block_height, block_width, 0)\n",
    "dimg_array = np.asarray(dimg)\n",
    "dimg.save('compression-decompression_test_winter.jpg')\n",
    "\n",
    "# compressed = compress_image(network.W_enc, img_array, COLOR_CHANNELS_AMOUNT, block_height, block_width, 0)\n",
    "# dimg = decompress_image(network.W_dec, compressed, shape, COLOR_CHANNELS_AMOUNT, block_height, block_width, 0)\n",
    "# dimg_array = np.asarray(dimg)\n",
    "# dimg.save('compression-decompression_test.jpg')"
   ]
  },
  {
   "cell_type": "code",
   "execution_count": null,
   "metadata": {},
   "outputs": [],
   "source": [
    "# Decompressed image quality based on error\n",
    "\n",
    "block_width = 10\n",
    "block_height = 10\n",
    "\n",
    "n = block_height * block_width\n",
    "# Hidden layer neuron amount\n",
    "p = 20 \n",
    "\n",
    "img = Image.open('images/landscape_bmp.bmp')\n",
    "img_array = np.asarray(img)\n",
    "img_array = img_array[:, :, :COLOR_CHANNELS_AMOUNT]\n",
    "shape = img_array.shape\n",
    "blocks = image_to_blocks(img_array, block_height, block_width, overlap=0)\n",
    "\n",
    "l = len(blocks)\n",
    "\n",
    "color_df = ((2 * blocks / MAX_RGB_VALUE) - 1).reshape(len(blocks), -1, 3).transpose(0, 2, 1).reshape(-1, block_height * block_width)\n",
    "train = np.matrix(color_df[np.random.choice(color_df.shape[0], int(color_df.shape[0] * 0.05))])\n",
    "\n",
    "network = LRNN(n, p, 0.0002)\n",
    "network.train(train, 15000, learn_by_loss=True, max_loss=500)\n",
    "\n",
    "compressed = compress_image(network.W_enc, img_array, COLOR_CHANNELS_AMOUNT, block_height, block_width, 0)\n",
    "\n",
    "compression_info_size = (\n",
    "    compressed.size * compressed.itemsize +\n",
    "    network.W_dec.size * network.W_dec.itemsize +\n",
    "    np.array(shape).size * np.array(shape).itemsize +\n",
    "    np.array((block_height, block_width)).size * np.array((block_height, block_width)).itemsize \n",
    ") * 8\n",
    "print(f'Compression rate: {(img_array.size * img_array.itemsize * 8) / compression_info_size:.5f}')\n",
    "\n",
    "\n",
    "dimg = decompress_image(network.W_dec, compressed, shape, COLOR_CHANNELS_AMOUNT, block_height, block_width, 0)\n",
    "dimg_array = np.asarray(dimg)\n",
    "dimg.save('compression-decompression_test_landscape.png')"
   ]
  },
  {
   "cell_type": "code",
   "execution_count": null,
   "metadata": {},
   "outputs": [],
   "source": [
    "np.dot([-3, -2, -2, -3, -1, 2], [0, 0, 0, 0, -1, -2])"
   ]
  },
  {
   "cell_type": "code",
   "execution_count": null,
   "metadata": {},
   "outputs": [],
   "source": [
    "0.46 * (1 - 0.8) * -0.9"
   ]
  }
 ],
 "metadata": {
  "kernelspec": {
   "display_name": ".venv",
   "language": "python",
   "name": "python3"
  },
  "language_info": {
   "codemirror_mode": {
    "name": "ipython",
    "version": 3
   },
   "file_extension": ".py",
   "mimetype": "text/x-python",
   "name": "python",
   "nbconvert_exporter": "python",
   "pygments_lexer": "ipython3",
   "version": "3.11.9"
  }
 },
 "nbformat": 4,
 "nbformat_minor": 2
}
