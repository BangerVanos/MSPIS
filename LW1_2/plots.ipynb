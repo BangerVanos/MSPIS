{
 "cells": [
  {
   "cell_type": "code",
   "execution_count": 1,
   "metadata": {},
   "outputs": [],
   "source": [
    "from lrnn import (\n",
    "    LRNN,\n",
    "    image_to_blocks,\n",
    "    compress_image,\n",
    "    decompress_image\n",
    ")\n",
    "import numpy as np\n",
    "from PIL import Image\n",
    "import plotly.graph_objects as go"
   ]
  },
  {
   "cell_type": "code",
   "execution_count": 2,
   "metadata": {},
   "outputs": [],
   "source": [
    "MAX_RGB_VALUE = 255\n",
    "COLOR_CHANNELS_AMOUNT = 3"
   ]
  },
  {
   "cell_type": "code",
   "execution_count": 17,
   "metadata": {},
   "outputs": [
    {
     "name": "stdout",
     "output_type": "stream",
     "text": [
      "Z = 1.9801901774646438\n",
      "Epoch 1/15000, Loss: 2067.8789630010588\n",
      "Epoch 2/15000, Loss: 1675.6352159899361\n",
      "Epoch 3/15000, Loss: 1459.9004556849259\n",
      "Epoch 4/15000, Loss: 1307.571222796847\n",
      "Epoch 5/15000, Loss: 1190.0404902795797\n",
      "Epoch 6/15000, Loss: 1096.6026257394105\n",
      "Epoch 7/15000, Loss: 1021.3023086866472\n",
      "Epoch 8/15000, Loss: 959.8400138420519\n",
      "Epoch 9/15000, Loss: 908.8911752481557\n",
      "Epoch 10/15000, Loss: 865.9215617230523\n",
      "Epoch 11/15000, Loss: 829.0470929493617\n",
      "Epoch 12/15000, Loss: 796.8886494770242\n",
      "Epoch 13/15000, Loss: 768.4415411303788\n",
      "Epoch 14/15000, Loss: 742.9711513756896\n",
      "Epoch 15/15000, Loss: 719.934880360102\n",
      "Epoch 16/15000, Loss: 698.9259006944502\n",
      "Epoch 17/15000, Loss: 679.6335312617049\n",
      "Epoch 18/15000, Loss: 661.815703004155\n",
      "Epoch 19/15000, Loss: 645.2799633959957\n",
      "Epoch 20/15000, Loss: 629.8703809041986\n",
      "Epoch 21/15000, Loss: 615.4584635263117\n",
      "Epoch 22/15000, Loss: 601.9367829331544\n",
      "Epoch 23/15000, Loss: 589.2144174044314\n",
      "Epoch 24/15000, Loss: 577.2136230248195\n",
      "Epoch 25/15000, Loss: 565.8673444055595\n",
      "Epoch 26/15000, Loss: 555.1173102267107\n",
      "Epoch 27/15000, Loss: 544.9125461836219\n",
      "Epoch 28/15000, Loss: 535.2081939826379\n",
      "Epoch 29/15000, Loss: 525.9645607745977\n",
      "Epoch 30/15000, Loss: 517.1463462219631\n",
      "Epoch 31/15000, Loss: 508.72200910400505\n",
      "Epoch 32/15000, Loss: 500.6632450600227\n",
      "Epoch 33/15000, Loss: 492.9445536737079\n",
      "Epoch 34/15000, Loss: 485.542877784828\n",
      "Epoch 35/15000, Loss: 478.4373013801639\n",
      "Epoch 36/15000, Loss: 471.60879508117966\n",
      "Epoch 37/15000, Loss: 465.04000035804637\n",
      "Epoch 38/15000, Loss: 458.7150453063884\n",
      "Epoch 39/15000, Loss: 452.6193862163552\n",
      "Epoch 40/15000, Loss: 446.73967030383096\n",
      "Epoch 41/15000, Loss: 441.0636159042513\n",
      "Epoch 42/15000, Loss: 435.5799071841657\n",
      "Epoch 43/15000, Loss: 430.2781010323703\n",
      "Epoch 44/15000, Loss: 425.14854427529997\n",
      "Epoch 45/15000, Loss: 420.1822997415414\n",
      "Epoch 46/15000, Loss: 415.37107999659816\n",
      "Epoch 47/15000, Loss: 410.7071877974182\n",
      "Epoch 48/15000, Loss: 406.18346249086017\n",
      "Epoch 49/15000, Loss: 401.7932317127532\n",
      "Epoch 50/15000, Loss: 397.530267844444\n",
      "Epoch 51/15000, Loss: 393.3887487595439\n",
      "Epoch 52/15000, Loss: 389.3632224513314\n",
      "Epoch 53/15000, Loss: 385.4485751759847\n",
      "Epoch 54/15000, Loss: 381.64000278213126\n",
      "Epoch 55/15000, Loss: 377.9329849261313\n",
      "Epoch 56/15000, Loss: 374.3232618969492\n",
      "Epoch 57/15000, Loss: 370.80681379602044\n",
      "Epoch 58/15000, Loss: 367.3798418370628\n",
      "Epoch 59/15000, Loss: 364.03875154898884\n",
      "Epoch 60/15000, Loss: 360.78013768239657\n",
      "Epoch 61/15000, Loss: 357.60077063663147\n",
      "Epoch 62/15000, Loss: 354.49758424027067\n",
      "Epoch 63/15000, Loss: 351.46766473317695\n",
      "Epoch 64/15000, Loss: 348.5082408127441\n",
      "Epoch 65/15000, Loss: 345.61667462078117\n",
      "Epoch 66/15000, Loss: 342.79045356050227\n",
      "Epoch 67/15000, Loss: 340.02718284519295\n",
      "Epoch 68/15000, Loss: 337.3245786914284\n",
      "Epoch 69/15000, Loss: 334.6804620800247\n",
      "Epoch 70/15000, Loss: 332.0927530173884\n",
      "Epoch 71/15000, Loss: 329.55946523843346\n",
      "Epoch 72/15000, Loss: 327.0787012999095\n",
      "Epoch 73/15000, Loss: 324.6486480198229\n",
      "Epoch 74/15000, Loss: 322.267572224643\n",
      "Epoch 75/15000, Loss: 319.9338167713402\n",
      "Epoch 76/15000, Loss: 317.64579681586434\n",
      "Epoch 77/15000, Loss: 315.4019963037388\n",
      "Epoch 78/15000, Loss: 313.200964661865\n",
      "Epoch 79/15000, Loss: 311.04131367361\n",
      "Epoch 80/15000, Loss: 308.9217145217406\n",
      "Epoch 81/15000, Loss: 306.8408949859321\n",
      "Epoch 82/15000, Loss: 304.7976367833433\n",
      "Epoch 83/15000, Loss: 302.79077304227343\n",
      "Epoch 84/15000, Loss: 300.81918590016977\n",
      "Epoch 85/15000, Loss: 298.8818042182834\n",
      "Epoch 86/15000, Loss: 296.97760140617396\n",
      "Epoch 87/15000, Loss: 295.1055933499436\n",
      "Epoch 88/15000, Loss: 293.26483643869534\n",
      "Epoch 89/15000, Loss: 291.4544256842205\n",
      "Epoch 90/15000, Loss: 289.6734929292834\n",
      "Epoch 91/15000, Loss: 287.9212051402641\n",
      "Epoch 92/15000, Loss: 286.19676278018636\n",
      "Epoch 93/15000, Loss: 284.49939825838493\n",
      "Epoch 94/15000, Loss: 282.8283744533165\n",
      "Epoch 95/15000, Loss: 281.1829833051691\n",
      "Epoch 96/15000, Loss: 279.56254447509536\n",
      "Epoch 97/15000, Loss: 277.96640406805057\n",
      "Epoch 98/15000, Loss: 276.3939334163289\n",
      "Epoch 99/15000, Loss: 274.84452792104406\n",
      "Epoch 100/15000, Loss: 273.31760594887356\n",
      "Epoch 101/15000, Loss: 271.8126077815354\n",
      "Epoch 102/15000, Loss: 270.32899461555144\n",
      "Epoch 103/15000, Loss: 268.8662476099334\n",
      "Epoch 104/15000, Loss: 267.42386697957926\n",
      "Epoch 105/15000, Loss: 266.0013711321827\n",
      "Epoch 106/15000, Loss: 264.59829584663134\n",
      "Epoch 107/15000, Loss: 263.21419349089047\n",
      "Epoch 108/15000, Loss: 261.84863227750037\n",
      "Epoch 109/15000, Loss: 260.50119555487265\n",
      "Epoch 110/15000, Loss: 259.1714811326669\n",
      "Epoch 111/15000, Loss: 257.85910063959983\n",
      "Epoch 112/15000, Loss: 256.5636789121139\n",
      "Epoch 113/15000, Loss: 255.28485341241216\n",
      "Epoch 114/15000, Loss: 254.02227367443643\n",
      "Epoch 115/15000, Loss: 252.77560077642295\n",
      "Epoch 116/15000, Loss: 251.54450683874282\n",
      "Epoch 117/15000, Loss: 250.328674545808\n",
      "Epoch 118/15000, Loss: 249.12779669085802\n",
      "Epoch 119/15000, Loss: 247.9415757425194\n",
      "Epoch 120/15000, Loss: 246.76972343207962\n",
      "Epoch 121/15000, Loss: 245.61196036047107\n",
      "Epoch 122/15000, Loss: 244.46801562399753\n",
      "Epoch 123/15000, Loss: 243.3376264579027\n",
      "Epoch 124/15000, Loss: 242.2205378969088\n",
      "Epoch 125/15000, Loss: 241.11650245191106\n",
      "Epoch 126/15000, Loss: 240.0252798020253\n",
      "Epoch 127/15000, Loss: 238.94663650127276\n",
      "Epoch 128/15000, Loss: 237.88034569916832\n",
      "Epoch 129/15000, Loss: 236.82618687455295\n",
      "Epoch 130/15000, Loss: 235.78394558202706\n",
      "Epoch 131/15000, Loss: 234.75341321037143\n",
      "Epoch 132/15000, Loss: 233.73438675237904\n",
      "Epoch 133/15000, Loss: 232.7266685855456\n",
      "Epoch 134/15000, Loss: 231.73006626309274\n",
      "Epoch 135/15000, Loss: 230.7443923148162\n",
      "Epoch 136/15000, Loss: 229.76946405730058\n",
      "Epoch 137/15000, Loss: 228.805103413025\n",
      "Epoch 138/15000, Loss: 227.8511367379441\n",
      "Epoch 139/15000, Loss: 226.9073946571224\n",
      "Epoch 140/15000, Loss: 225.97371190803673\n",
      "Epoch 141/15000, Loss: 225.0499271911678\n",
      "Epoch 142/15000, Loss: 224.13588302753158\n",
      "Epoch 143/15000, Loss: 223.23142562280032\n",
      "Epoch 144/15000, Loss: 222.33640473770555\n",
      "Epoch 145/15000, Loss: 221.4506735644008\n",
      "Epoch 146/15000, Loss: 220.57408860849714\n",
      "Epoch 147/15000, Loss: 219.70650957649758\n",
      "Epoch 148/15000, Loss: 218.8477992683505\n",
      "Epoch 149/15000, Loss: 217.99782347488508\n",
      "Epoch 150/15000, Loss: 217.1564508798738\n",
      "Epoch 151/15000, Loss: 216.32355296649774\n",
      "Epoch 152/15000, Loss: 215.4990039279994\n",
      "Epoch 153/15000, Loss: 214.6826805823082\n",
      "Epoch 154/15000, Loss: 213.87446229044363\n",
      "Epoch 155/15000, Loss: 213.07423087850714\n",
      "Epoch 156/15000, Loss: 212.28187056308272\n",
      "Epoch 157/15000, Loss: 211.4972678798745\n",
      "Epoch 158/15000, Loss: 210.72031161542444\n",
      "Epoch 159/15000, Loss: 209.95089274174487\n",
      "Epoch 160/15000, Loss: 209.18890435372734\n",
      "Epoch 161/15000, Loss: 208.43424160919034\n",
      "Epoch 162/15000, Loss: 207.686801671422\n",
      "Epoch 163/15000, Loss: 206.94648365410433\n",
      "Epoch 164/15000, Loss: 206.21318856848748\n",
      "Epoch 165/15000, Loss: 205.48681927271403\n",
      "Epoch 166/15000, Loss: 204.76728042316876\n",
      "Epoch 167/15000, Loss: 204.05447842776982\n",
      "Epoch 168/15000, Loss: 203.3483214010855\n",
      "Epoch 169/15000, Loss: 202.64871912119807\n",
      "Epoch 170/15000, Loss: 201.9555829882239\n",
      "Epoch 171/15000, Loss: 201.26882598440102\n",
      "Epoch 172/15000, Loss: 200.58836263567403\n",
      "Epoch 173/15000, Loss: 199.9141089746931\n"
     ]
    }
   ],
   "source": [
    "# Collecting everything\n",
    "\n",
    "block_width = 10\n",
    "block_height = 10\n",
    "\n",
    "n = block_height * block_width\n",
    "# Hidden layer neuron amount\n",
    "p = 50 \n",
    "\n",
    "img = Image.open('test_cat.jpg')\n",
    "img_array = np.asarray(img)\n",
    "shape = img_array.shape\n",
    "blocks = image_to_blocks(img_array, block_height, block_width, overlap=0)\n",
    "\n",
    "l = len(blocks)\n",
    "# Compression coeff\n",
    "print('Z =', (n*l) / ((n+l) * p+2))\n",
    "\n",
    "color_df = ((2 * blocks / MAX_RGB_VALUE) - 1).reshape(len(blocks), -1, 3).transpose(0, 2, 1).reshape(-1, block_height * block_width)\n",
    "train = np.matrix(color_df[np.random.choice(color_df.shape[0], int(color_df.shape[0] * 0.05))])\n",
    "\n",
    "\n",
    "network = LRNN(n, p, 0.001)\n",
    "network.train(train, 15000, learn_by_loss=True, max_loss=200)\n",
    "\n",
    "compressed = compress_image(network.W_enc, img_array, COLOR_CHANNELS_AMOUNT, block_height, block_width, 0)\n",
    "dimg = decompress_image(network.W_dec, compressed, shape, COLOR_CHANNELS_AMOUNT, block_height, block_width, 0)\n",
    "dimg_array = np.asarray(dimg)\n",
    "dimg.save('compression-decompression_test.jpg')"
   ]
  },
  {
   "cell_type": "code",
   "execution_count": null,
   "metadata": {},
   "outputs": [
    {
     "name": "stdout",
     "output_type": "stream",
     "text": [
      "Epoch 1/15000, Loss: 128918.98167013933\n",
      "Epoch 2/15000, Loss: 7599.3955888781375\n",
      "Epoch 3/15000, Loss: 6768.779678014347\n",
      "Epoch 4/15000, Loss: 6166.205006839041\n",
      "Epoch 5/15000, Loss: 5687.769497660043\n",
      "Epoch 6/15000, Loss: 5291.924949346673\n",
      "Epoch 7/15000, Loss: 4956.897506685865\n",
      "Epoch 8/15000, Loss: 4669.165746773303\n",
      "Epoch 9/15000, Loss: 4419.2689657129295\n",
      "Epoch 10/15000, Loss: 4200.114121113746\n",
      "Epoch 11/15000, Loss: 4006.216493537343\n",
      "Epoch 12/15000, Loss: 3833.2842866505716\n",
      "Epoch 13/15000, Loss: 3677.9371685490814\n",
      "Epoch 14/15000, Loss: 3537.4938922252554\n",
      "Epoch 15/15000, Loss: 3409.809189808215\n",
      "Epoch 16/15000, Loss: 3293.14991271132\n",
      "Epoch 17/15000, Loss: 3186.101845332449\n",
      "Epoch 18/15000, Loss: 3087.499628883208\n",
      "Epoch 19/15000, Loss: 2996.3737488868665\n",
      "Epoch 20/15000, Loss: 2911.9100907989764\n",
      "Epoch 21/15000, Loss: 2833.418824978337\n",
      "Epoch 22/15000, Loss: 2760.3102922555386\n",
      "Epoch 23/15000, Loss: 2692.0761944359174\n",
      "Epoch 24/15000, Loss: 2628.2748358871286\n",
      "Epoch 25/15000, Loss: 2568.519477586794\n",
      "Epoch 26/15000, Loss: 2512.469095168642\n",
      "Epoch 27/15000, Loss: 2459.82100319487\n",
      "Epoch 1/15000, Loss: 123254.62224318749\n",
      "Epoch 2/15000, Loss: 7202.463977958667\n",
      "Epoch 3/15000, Loss: 6438.48358100644\n",
      "Epoch 4/15000, Loss: 5881.209556544181\n",
      "Epoch 5/15000, Loss: 5435.96473770043\n",
      "Epoch 6/15000, Loss: 5066.190726394427\n",
      "Epoch 7/15000, Loss: 4752.762219098443\n",
      "Epoch 8/15000, Loss: 4483.576706497448\n",
      "Epoch 9/15000, Loss: 4250.051662459278\n",
      "Epoch 10/15000, Loss: 4045.686195296989\n",
      "Epoch 11/15000, Loss: 3865.380582209481\n",
      "Epoch 12/15000, Loss: 3705.069195481735\n",
      "Epoch 13/15000, Loss: 3561.491284176786\n",
      "Epoch 14/15000, Loss: 3432.0266699140225\n",
      "Epoch 15/15000, Loss: 3314.5668038748827\n",
      "Epoch 16/15000, Loss: 3207.409820819707\n",
      "Epoch 17/15000, Loss: 3109.1750079615913\n",
      "Epoch 18/15000, Loss: 3018.7340521389165\n",
      "Epoch 19/15000, Loss: 2935.15670411504\n",
      "Epoch 20/15000, Loss: 2857.6684556640334\n",
      "Epoch 21/15000, Loss: 2785.6178991286934\n",
      "Epoch 22/15000, Loss: 2718.451677197681\n",
      "Epoch 23/15000, Loss: 2655.695262010666\n",
      "Epoch 24/15000, Loss: 2596.9381519354906\n",
      "Epoch 25/15000, Loss: 2541.822393287535\n",
      "Epoch 26/15000, Loss: 2490.033601404139\n",
      "Epoch 1/15000, Loss: 110770.80215797052\n",
      "Epoch 2/15000, Loss: 8404.996398084484\n",
      "Epoch 3/15000, Loss: 7441.209233857461\n",
      "Epoch 4/15000, Loss: 6690.978105076996\n",
      "Epoch 5/15000, Loss: 6071.801594074315\n",
      "Epoch 6/15000, Loss: 5551.6063886308075\n",
      "Epoch 7/15000, Loss: 5113.553973819326\n",
      "Epoch 8/15000, Loss: 4745.146672227964\n",
      "Epoch 9/15000, Loss: 4434.9019451178\n",
      "Epoch 10/15000, Loss: 4172.08106083419\n",
      "Epoch 11/15000, Loss: 3947.2323713214646\n",
      "Epoch 12/15000, Loss: 3752.5661636644745\n",
      "Epoch 13/15000, Loss: 3581.9712706832665\n",
      "Epoch 14/15000, Loss: 3430.793932029976\n",
      "Epoch 15/15000, Loss: 3295.5321409404332\n",
      "Epoch 16/15000, Loss: 3173.5433365115064\n",
      "Epoch 17/15000, Loss: 3062.806823341878\n",
      "Epoch 18/15000, Loss: 2961.74733926246\n",
      "Epoch 19/15000, Loss: 2869.11056256961\n",
      "Epoch 20/15000, Loss: 2783.8773629102084\n",
      "Epoch 21/15000, Loss: 2705.204917957731\n",
      "Epoch 22/15000, Loss: 2632.385734505766\n",
      "Epoch 23/15000, Loss: 2564.8184321692697\n",
      "Epoch 24/15000, Loss: 2501.9863148966383\n",
      "Epoch 25/15000, Loss: 2443.4412347093635\n",
      "Epoch 1/15000, Loss: 111256.78508950876\n",
      "Epoch 2/15000, Loss: 9963.568679229325\n",
      "Epoch 3/15000, Loss: 8299.686980241488\n",
      "Epoch 4/15000, Loss: 7149.646826725768\n",
      "Epoch 5/15000, Loss: 6310.4518722373405\n",
      "Epoch 6/15000, Loss: 5675.153011297781\n",
      "Epoch 7/15000, Loss: 5178.335909750257\n",
      "Epoch 8/15000, Loss: 4778.015106347073\n",
      "Epoch 9/15000, Loss: 4446.860101140819\n",
      "Epoch 10/15000, Loss: 4166.853626075198\n",
      "Epoch 11/15000, Loss: 3925.8948321470307\n",
      "Epoch 12/15000, Loss: 3715.661128204618\n",
      "Epoch 13/15000, Loss: 3530.269555830317\n",
      "Epoch 14/15000, Loss: 3365.4356186657865\n",
      "Epoch 15/15000, Loss: 3217.9405710648516\n",
      "Epoch 16/15000, Loss: 3085.290988575515\n",
      "Epoch 17/15000, Loss: 2965.499154658166\n",
      "Epoch 18/15000, Loss: 2856.9399795142567\n",
      "Epoch 19/15000, Loss: 2758.2567284866022\n",
      "Epoch 20/15000, Loss: 2668.2980074808183\n",
      "Epoch 21/15000, Loss: 2586.0747833512223\n",
      "Epoch 22/15000, Loss: 2510.7302302816806\n",
      "Epoch 23/15000, Loss: 2441.517784061014\n",
      "Epoch 1/15000, Loss: 125709.94360685731\n",
      "Epoch 2/15000, Loss: 10648.65799756696\n",
      "Epoch 3/15000, Loss: 8306.057018502353\n",
      "Epoch 4/15000, Loss: 6915.301619964233\n",
      "Epoch 5/15000, Loss: 5974.1477318667385\n",
      "Epoch 6/15000, Loss: 5288.746714607317\n",
      "Epoch 7/15000, Loss: 4765.383663330668\n",
      "Epoch 8/15000, Loss: 4351.971434616698\n",
      "Epoch 9/15000, Loss: 4016.8013227726783\n",
      "Epoch 10/15000, Loss: 3739.3666424228127\n",
      "Epoch 11/15000, Loss: 3505.8246219053617\n",
      "Epoch 12/15000, Loss: 3306.503734736237\n",
      "Epoch 13/15000, Loss: 3134.4355025401064\n",
      "Epoch 14/15000, Loss: 2984.454574709987\n",
      "Epoch 15/15000, Loss: 2852.633987107992\n",
      "Epoch 16/15000, Loss: 2735.9235683505185\n",
      "Epoch 17/15000, Loss: 2631.9127536107576\n",
      "Epoch 18/15000, Loss: 2538.6702223726797\n",
      "Epoch 19/15000, Loss: 2454.631710676317\n",
      "Epoch 1/15000, Loss: 136122.78831620477\n",
      "Epoch 2/15000, Loss: 9098.393616230434\n",
      "Epoch 3/15000, Loss: 7215.4566480720205\n",
      "Epoch 4/15000, Loss: 6043.936106614719\n",
      "Epoch 5/15000, Loss: 5239.029781862509\n",
      "Epoch 6/15000, Loss: 4655.648681190816\n",
      "Epoch 7/15000, Loss: 4215.050691784104\n",
      "Epoch 8/15000, Loss: 3870.115936598741\n",
      "Epoch 9/15000, Loss: 3591.7826009920536\n",
      "Epoch 10/15000, Loss: 3361.6397105892725\n",
      "Epoch 11/15000, Loss: 3167.5999920571276\n",
      "Epoch 12/15000, Loss: 3001.4212771509347\n",
      "Epoch 13/15000, Loss: 2857.2840098343195\n",
      "Epoch 14/15000, Loss: 2730.951791385612\n",
      "Epoch 15/15000, Loss: 2619.25748881048\n",
      "Epoch 16/15000, Loss: 2519.7774459744196\n",
      "Epoch 17/15000, Loss: 2430.6185033127454\n"
     ]
    },
    {
     "data": {
      "application/vnd.plotly.v1+json": {
       "config": {
        "plotlyServerURL": "https://plot.ly"
       },
       "data": [
        {
         "mode": "lines+markers",
         "type": "scatter",
         "x": [
          0.0005,
          0.0006,
          0.0007,
          0.0008,
          0.0009,
          0.001
         ],
         "y": [
          27,
          26,
          25,
          23,
          19,
          17
         ]
        }
       ],
       "layout": {
        "height": 720,
        "template": {
         "data": {
          "bar": [
           {
            "error_x": {
             "color": "#2a3f5f"
            },
            "error_y": {
             "color": "#2a3f5f"
            },
            "marker": {
             "line": {
              "color": "#E5ECF6",
              "width": 0.5
             },
             "pattern": {
              "fillmode": "overlay",
              "size": 10,
              "solidity": 0.2
             }
            },
            "type": "bar"
           }
          ],
          "barpolar": [
           {
            "marker": {
             "line": {
              "color": "#E5ECF6",
              "width": 0.5
             },
             "pattern": {
              "fillmode": "overlay",
              "size": 10,
              "solidity": 0.2
             }
            },
            "type": "barpolar"
           }
          ],
          "carpet": [
           {
            "aaxis": {
             "endlinecolor": "#2a3f5f",
             "gridcolor": "white",
             "linecolor": "white",
             "minorgridcolor": "white",
             "startlinecolor": "#2a3f5f"
            },
            "baxis": {
             "endlinecolor": "#2a3f5f",
             "gridcolor": "white",
             "linecolor": "white",
             "minorgridcolor": "white",
             "startlinecolor": "#2a3f5f"
            },
            "type": "carpet"
           }
          ],
          "choropleth": [
           {
            "colorbar": {
             "outlinewidth": 0,
             "ticks": ""
            },
            "type": "choropleth"
           }
          ],
          "contour": [
           {
            "colorbar": {
             "outlinewidth": 0,
             "ticks": ""
            },
            "colorscale": [
             [
              0,
              "#0d0887"
             ],
             [
              0.1111111111111111,
              "#46039f"
             ],
             [
              0.2222222222222222,
              "#7201a8"
             ],
             [
              0.3333333333333333,
              "#9c179e"
             ],
             [
              0.4444444444444444,
              "#bd3786"
             ],
             [
              0.5555555555555556,
              "#d8576b"
             ],
             [
              0.6666666666666666,
              "#ed7953"
             ],
             [
              0.7777777777777778,
              "#fb9f3a"
             ],
             [
              0.8888888888888888,
              "#fdca26"
             ],
             [
              1,
              "#f0f921"
             ]
            ],
            "type": "contour"
           }
          ],
          "contourcarpet": [
           {
            "colorbar": {
             "outlinewidth": 0,
             "ticks": ""
            },
            "type": "contourcarpet"
           }
          ],
          "heatmap": [
           {
            "colorbar": {
             "outlinewidth": 0,
             "ticks": ""
            },
            "colorscale": [
             [
              0,
              "#0d0887"
             ],
             [
              0.1111111111111111,
              "#46039f"
             ],
             [
              0.2222222222222222,
              "#7201a8"
             ],
             [
              0.3333333333333333,
              "#9c179e"
             ],
             [
              0.4444444444444444,
              "#bd3786"
             ],
             [
              0.5555555555555556,
              "#d8576b"
             ],
             [
              0.6666666666666666,
              "#ed7953"
             ],
             [
              0.7777777777777778,
              "#fb9f3a"
             ],
             [
              0.8888888888888888,
              "#fdca26"
             ],
             [
              1,
              "#f0f921"
             ]
            ],
            "type": "heatmap"
           }
          ],
          "heatmapgl": [
           {
            "colorbar": {
             "outlinewidth": 0,
             "ticks": ""
            },
            "colorscale": [
             [
              0,
              "#0d0887"
             ],
             [
              0.1111111111111111,
              "#46039f"
             ],
             [
              0.2222222222222222,
              "#7201a8"
             ],
             [
              0.3333333333333333,
              "#9c179e"
             ],
             [
              0.4444444444444444,
              "#bd3786"
             ],
             [
              0.5555555555555556,
              "#d8576b"
             ],
             [
              0.6666666666666666,
              "#ed7953"
             ],
             [
              0.7777777777777778,
              "#fb9f3a"
             ],
             [
              0.8888888888888888,
              "#fdca26"
             ],
             [
              1,
              "#f0f921"
             ]
            ],
            "type": "heatmapgl"
           }
          ],
          "histogram": [
           {
            "marker": {
             "pattern": {
              "fillmode": "overlay",
              "size": 10,
              "solidity": 0.2
             }
            },
            "type": "histogram"
           }
          ],
          "histogram2d": [
           {
            "colorbar": {
             "outlinewidth": 0,
             "ticks": ""
            },
            "colorscale": [
             [
              0,
              "#0d0887"
             ],
             [
              0.1111111111111111,
              "#46039f"
             ],
             [
              0.2222222222222222,
              "#7201a8"
             ],
             [
              0.3333333333333333,
              "#9c179e"
             ],
             [
              0.4444444444444444,
              "#bd3786"
             ],
             [
              0.5555555555555556,
              "#d8576b"
             ],
             [
              0.6666666666666666,
              "#ed7953"
             ],
             [
              0.7777777777777778,
              "#fb9f3a"
             ],
             [
              0.8888888888888888,
              "#fdca26"
             ],
             [
              1,
              "#f0f921"
             ]
            ],
            "type": "histogram2d"
           }
          ],
          "histogram2dcontour": [
           {
            "colorbar": {
             "outlinewidth": 0,
             "ticks": ""
            },
            "colorscale": [
             [
              0,
              "#0d0887"
             ],
             [
              0.1111111111111111,
              "#46039f"
             ],
             [
              0.2222222222222222,
              "#7201a8"
             ],
             [
              0.3333333333333333,
              "#9c179e"
             ],
             [
              0.4444444444444444,
              "#bd3786"
             ],
             [
              0.5555555555555556,
              "#d8576b"
             ],
             [
              0.6666666666666666,
              "#ed7953"
             ],
             [
              0.7777777777777778,
              "#fb9f3a"
             ],
             [
              0.8888888888888888,
              "#fdca26"
             ],
             [
              1,
              "#f0f921"
             ]
            ],
            "type": "histogram2dcontour"
           }
          ],
          "mesh3d": [
           {
            "colorbar": {
             "outlinewidth": 0,
             "ticks": ""
            },
            "type": "mesh3d"
           }
          ],
          "parcoords": [
           {
            "line": {
             "colorbar": {
              "outlinewidth": 0,
              "ticks": ""
             }
            },
            "type": "parcoords"
           }
          ],
          "pie": [
           {
            "automargin": true,
            "type": "pie"
           }
          ],
          "scatter": [
           {
            "fillpattern": {
             "fillmode": "overlay",
             "size": 10,
             "solidity": 0.2
            },
            "type": "scatter"
           }
          ],
          "scatter3d": [
           {
            "line": {
             "colorbar": {
              "outlinewidth": 0,
              "ticks": ""
             }
            },
            "marker": {
             "colorbar": {
              "outlinewidth": 0,
              "ticks": ""
             }
            },
            "type": "scatter3d"
           }
          ],
          "scattercarpet": [
           {
            "marker": {
             "colorbar": {
              "outlinewidth": 0,
              "ticks": ""
             }
            },
            "type": "scattercarpet"
           }
          ],
          "scattergeo": [
           {
            "marker": {
             "colorbar": {
              "outlinewidth": 0,
              "ticks": ""
             }
            },
            "type": "scattergeo"
           }
          ],
          "scattergl": [
           {
            "marker": {
             "colorbar": {
              "outlinewidth": 0,
              "ticks": ""
             }
            },
            "type": "scattergl"
           }
          ],
          "scattermapbox": [
           {
            "marker": {
             "colorbar": {
              "outlinewidth": 0,
              "ticks": ""
             }
            },
            "type": "scattermapbox"
           }
          ],
          "scatterpolar": [
           {
            "marker": {
             "colorbar": {
              "outlinewidth": 0,
              "ticks": ""
             }
            },
            "type": "scatterpolar"
           }
          ],
          "scatterpolargl": [
           {
            "marker": {
             "colorbar": {
              "outlinewidth": 0,
              "ticks": ""
             }
            },
            "type": "scatterpolargl"
           }
          ],
          "scatterternary": [
           {
            "marker": {
             "colorbar": {
              "outlinewidth": 0,
              "ticks": ""
             }
            },
            "type": "scatterternary"
           }
          ],
          "surface": [
           {
            "colorbar": {
             "outlinewidth": 0,
             "ticks": ""
            },
            "colorscale": [
             [
              0,
              "#0d0887"
             ],
             [
              0.1111111111111111,
              "#46039f"
             ],
             [
              0.2222222222222222,
              "#7201a8"
             ],
             [
              0.3333333333333333,
              "#9c179e"
             ],
             [
              0.4444444444444444,
              "#bd3786"
             ],
             [
              0.5555555555555556,
              "#d8576b"
             ],
             [
              0.6666666666666666,
              "#ed7953"
             ],
             [
              0.7777777777777778,
              "#fb9f3a"
             ],
             [
              0.8888888888888888,
              "#fdca26"
             ],
             [
              1,
              "#f0f921"
             ]
            ],
            "type": "surface"
           }
          ],
          "table": [
           {
            "cells": {
             "fill": {
              "color": "#EBF0F8"
             },
             "line": {
              "color": "white"
             }
            },
            "header": {
             "fill": {
              "color": "#C8D4E3"
             },
             "line": {
              "color": "white"
             }
            },
            "type": "table"
           }
          ]
         },
         "layout": {
          "annotationdefaults": {
           "arrowcolor": "#2a3f5f",
           "arrowhead": 0,
           "arrowwidth": 1
          },
          "autotypenumbers": "strict",
          "coloraxis": {
           "colorbar": {
            "outlinewidth": 0,
            "ticks": ""
           }
          },
          "colorscale": {
           "diverging": [
            [
             0,
             "#8e0152"
            ],
            [
             0.1,
             "#c51b7d"
            ],
            [
             0.2,
             "#de77ae"
            ],
            [
             0.3,
             "#f1b6da"
            ],
            [
             0.4,
             "#fde0ef"
            ],
            [
             0.5,
             "#f7f7f7"
            ],
            [
             0.6,
             "#e6f5d0"
            ],
            [
             0.7,
             "#b8e186"
            ],
            [
             0.8,
             "#7fbc41"
            ],
            [
             0.9,
             "#4d9221"
            ],
            [
             1,
             "#276419"
            ]
           ],
           "sequential": [
            [
             0,
             "#0d0887"
            ],
            [
             0.1111111111111111,
             "#46039f"
            ],
            [
             0.2222222222222222,
             "#7201a8"
            ],
            [
             0.3333333333333333,
             "#9c179e"
            ],
            [
             0.4444444444444444,
             "#bd3786"
            ],
            [
             0.5555555555555556,
             "#d8576b"
            ],
            [
             0.6666666666666666,
             "#ed7953"
            ],
            [
             0.7777777777777778,
             "#fb9f3a"
            ],
            [
             0.8888888888888888,
             "#fdca26"
            ],
            [
             1,
             "#f0f921"
            ]
           ],
           "sequentialminus": [
            [
             0,
             "#0d0887"
            ],
            [
             0.1111111111111111,
             "#46039f"
            ],
            [
             0.2222222222222222,
             "#7201a8"
            ],
            [
             0.3333333333333333,
             "#9c179e"
            ],
            [
             0.4444444444444444,
             "#bd3786"
            ],
            [
             0.5555555555555556,
             "#d8576b"
            ],
            [
             0.6666666666666666,
             "#ed7953"
            ],
            [
             0.7777777777777778,
             "#fb9f3a"
            ],
            [
             0.8888888888888888,
             "#fdca26"
            ],
            [
             1,
             "#f0f921"
            ]
           ]
          },
          "colorway": [
           "#636efa",
           "#EF553B",
           "#00cc96",
           "#ab63fa",
           "#FFA15A",
           "#19d3f3",
           "#FF6692",
           "#B6E880",
           "#FF97FF",
           "#FECB52"
          ],
          "font": {
           "color": "#2a3f5f"
          },
          "geo": {
           "bgcolor": "white",
           "lakecolor": "white",
           "landcolor": "#E5ECF6",
           "showlakes": true,
           "showland": true,
           "subunitcolor": "white"
          },
          "hoverlabel": {
           "align": "left"
          },
          "hovermode": "closest",
          "mapbox": {
           "style": "light"
          },
          "paper_bgcolor": "white",
          "plot_bgcolor": "#E5ECF6",
          "polar": {
           "angularaxis": {
            "gridcolor": "white",
            "linecolor": "white",
            "ticks": ""
           },
           "bgcolor": "#E5ECF6",
           "radialaxis": {
            "gridcolor": "white",
            "linecolor": "white",
            "ticks": ""
           }
          },
          "scene": {
           "xaxis": {
            "backgroundcolor": "#E5ECF6",
            "gridcolor": "white",
            "gridwidth": 2,
            "linecolor": "white",
            "showbackground": true,
            "ticks": "",
            "zerolinecolor": "white"
           },
           "yaxis": {
            "backgroundcolor": "#E5ECF6",
            "gridcolor": "white",
            "gridwidth": 2,
            "linecolor": "white",
            "showbackground": true,
            "ticks": "",
            "zerolinecolor": "white"
           },
           "zaxis": {
            "backgroundcolor": "#E5ECF6",
            "gridcolor": "white",
            "gridwidth": 2,
            "linecolor": "white",
            "showbackground": true,
            "ticks": "",
            "zerolinecolor": "white"
           }
          },
          "shapedefaults": {
           "line": {
            "color": "#2a3f5f"
           }
          },
          "ternary": {
           "aaxis": {
            "gridcolor": "white",
            "linecolor": "white",
            "ticks": ""
           },
           "baxis": {
            "gridcolor": "white",
            "linecolor": "white",
            "ticks": ""
           },
           "bgcolor": "#E5ECF6",
           "caxis": {
            "gridcolor": "white",
            "linecolor": "white",
            "ticks": ""
           }
          },
          "title": {
           "x": 0.05
          },
          "xaxis": {
           "automargin": true,
           "gridcolor": "white",
           "linecolor": "white",
           "ticks": "",
           "title": {
            "standoff": 15
           },
           "zerolinecolor": "white",
           "zerolinewidth": 2
          },
          "yaxis": {
           "automargin": true,
           "gridcolor": "white",
           "linecolor": "white",
           "ticks": "",
           "title": {
            "standoff": 15
           },
           "zerolinecolor": "white",
           "zerolinewidth": 2
          }
         }
        },
        "title": {
         "text": "Зависимость количества итераций обучения от коэффициента обучения"
        },
        "width": 1280,
        "xaxis": {
         "title": {
          "text": "Коэффициент обучения"
         }
        },
        "yaxis": {
         "title": {
          "text": "Количество итераций обучения"
         }
        }
       }
      }
     },
     "metadata": {},
     "output_type": "display_data"
    }
   ],
   "source": [
    "alphas = (0.0005, 0.0006, 0.0007, 0.0008, 0.0009, 0.001)\n",
    "epochs_amount: list[int] = []\n",
    "for alpha in alphas:\n",
    "    dl = LRNN(n, p, alpha)\n",
    "    dl.train(train, 15000, learn_by_loss=True, max_loss=2500)\n",
    "    epochs_amount.append(dl.epoch)\n",
    "fig = go.Figure()\n",
    "fig.add_trace(go.Scatter(x=alphas, y=epochs_amount, mode='lines+markers'))\n",
    "fig.update_layout(title='Зависимость количества итераций обучения от коэффициента обучения',\n",
    "                  xaxis_title='Коэффициент обучения',\n",
    "                  yaxis_title='Количество итераций обучения',\n",
    "                  height=720, width=1280)\n",
    "fig.show()"
   ]
  },
  {
   "cell_type": "markdown",
   "metadata": {},
   "source": [
    "## Relation between learning rate and epochs "
   ]
  },
  {
   "cell_type": "code",
   "execution_count": 61,
   "metadata": {},
   "outputs": [
    {
     "name": "stdout",
     "output_type": "stream",
     "text": [
      "Epoch 1/15000, Loss: 128918.98167013933\n",
      "Epoch 2/15000, Loss: 7599.3955888781375\n",
      "Epoch 3/15000, Loss: 6768.779678014347\n",
      "Epoch 4/15000, Loss: 6166.205006839041\n",
      "Epoch 5/15000, Loss: 5687.769497660043\n",
      "Epoch 6/15000, Loss: 5291.924949346673\n",
      "Epoch 7/15000, Loss: 4956.897506685865\n",
      "Epoch 8/15000, Loss: 4669.165746773303\n",
      "Epoch 9/15000, Loss: 4419.2689657129295\n",
      "Epoch 10/15000, Loss: 4200.114121113746\n",
      "Epoch 11/15000, Loss: 4006.216493537343\n",
      "Epoch 12/15000, Loss: 3833.2842866505716\n",
      "Epoch 13/15000, Loss: 3677.9371685490814\n",
      "Epoch 14/15000, Loss: 3537.4938922252554\n",
      "Epoch 15/15000, Loss: 3409.809189808215\n",
      "Epoch 16/15000, Loss: 3293.14991271132\n",
      "Epoch 17/15000, Loss: 3186.101845332449\n",
      "Epoch 18/15000, Loss: 3087.499628883208\n",
      "Epoch 19/15000, Loss: 2996.3737488868665\n",
      "Epoch 20/15000, Loss: 2911.9100907989764\n",
      "Epoch 21/15000, Loss: 2833.418824978337\n",
      "Epoch 22/15000, Loss: 2760.3102922555386\n",
      "Epoch 23/15000, Loss: 2692.0761944359174\n",
      "Epoch 24/15000, Loss: 2628.2748358871286\n",
      "Epoch 25/15000, Loss: 2568.519477586794\n",
      "Epoch 26/15000, Loss: 2512.469095168642\n",
      "Epoch 27/15000, Loss: 2459.82100319487\n",
      "Epoch 1/15000, Loss: 123254.62224318749\n",
      "Epoch 2/15000, Loss: 7202.463977958667\n",
      "Epoch 3/15000, Loss: 6438.48358100644\n",
      "Epoch 4/15000, Loss: 5881.209556544181\n",
      "Epoch 5/15000, Loss: 5435.96473770043\n",
      "Epoch 6/15000, Loss: 5066.190726394427\n",
      "Epoch 7/15000, Loss: 4752.762219098443\n",
      "Epoch 8/15000, Loss: 4483.576706497448\n",
      "Epoch 9/15000, Loss: 4250.051662459278\n",
      "Epoch 10/15000, Loss: 4045.686195296989\n",
      "Epoch 11/15000, Loss: 3865.380582209481\n",
      "Epoch 12/15000, Loss: 3705.069195481735\n",
      "Epoch 13/15000, Loss: 3561.491284176786\n",
      "Epoch 14/15000, Loss: 3432.0266699140225\n",
      "Epoch 15/15000, Loss: 3314.5668038748827\n",
      "Epoch 16/15000, Loss: 3207.409820819707\n",
      "Epoch 17/15000, Loss: 3109.1750079615913\n",
      "Epoch 18/15000, Loss: 3018.7340521389165\n",
      "Epoch 19/15000, Loss: 2935.15670411504\n",
      "Epoch 20/15000, Loss: 2857.6684556640334\n",
      "Epoch 21/15000, Loss: 2785.6178991286934\n",
      "Epoch 22/15000, Loss: 2718.451677197681\n",
      "Epoch 23/15000, Loss: 2655.695262010666\n",
      "Epoch 24/15000, Loss: 2596.9381519354906\n",
      "Epoch 25/15000, Loss: 2541.822393287535\n",
      "Epoch 26/15000, Loss: 2490.033601404139\n",
      "Epoch 1/15000, Loss: 110770.80215797052\n",
      "Epoch 2/15000, Loss: 8404.996398084484\n",
      "Epoch 3/15000, Loss: 7441.209233857461\n",
      "Epoch 4/15000, Loss: 6690.978105076996\n",
      "Epoch 5/15000, Loss: 6071.801594074315\n",
      "Epoch 6/15000, Loss: 5551.6063886308075\n",
      "Epoch 7/15000, Loss: 5113.553973819326\n",
      "Epoch 8/15000, Loss: 4745.146672227964\n",
      "Epoch 9/15000, Loss: 4434.9019451178\n",
      "Epoch 10/15000, Loss: 4172.08106083419\n",
      "Epoch 11/15000, Loss: 3947.2323713214646\n",
      "Epoch 12/15000, Loss: 3752.5661636644745\n",
      "Epoch 13/15000, Loss: 3581.9712706832665\n",
      "Epoch 14/15000, Loss: 3430.793932029976\n",
      "Epoch 15/15000, Loss: 3295.5321409404332\n",
      "Epoch 16/15000, Loss: 3173.5433365115064\n",
      "Epoch 17/15000, Loss: 3062.806823341878\n",
      "Epoch 18/15000, Loss: 2961.74733926246\n",
      "Epoch 19/15000, Loss: 2869.11056256961\n",
      "Epoch 20/15000, Loss: 2783.8773629102084\n",
      "Epoch 21/15000, Loss: 2705.204917957731\n",
      "Epoch 22/15000, Loss: 2632.385734505766\n",
      "Epoch 23/15000, Loss: 2564.8184321692697\n",
      "Epoch 24/15000, Loss: 2501.9863148966383\n",
      "Epoch 25/15000, Loss: 2443.4412347093635\n",
      "Epoch 1/15000, Loss: 111256.78508950876\n",
      "Epoch 2/15000, Loss: 9963.568679229325\n",
      "Epoch 3/15000, Loss: 8299.686980241488\n",
      "Epoch 4/15000, Loss: 7149.646826725768\n",
      "Epoch 5/15000, Loss: 6310.4518722373405\n",
      "Epoch 6/15000, Loss: 5675.153011297781\n",
      "Epoch 7/15000, Loss: 5178.335909750257\n",
      "Epoch 8/15000, Loss: 4778.015106347073\n",
      "Epoch 9/15000, Loss: 4446.860101140819\n",
      "Epoch 10/15000, Loss: 4166.853626075198\n",
      "Epoch 11/15000, Loss: 3925.8948321470307\n",
      "Epoch 12/15000, Loss: 3715.661128204618\n",
      "Epoch 13/15000, Loss: 3530.269555830317\n",
      "Epoch 14/15000, Loss: 3365.4356186657865\n",
      "Epoch 15/15000, Loss: 3217.9405710648516\n",
      "Epoch 16/15000, Loss: 3085.290988575515\n",
      "Epoch 17/15000, Loss: 2965.499154658166\n",
      "Epoch 18/15000, Loss: 2856.9399795142567\n",
      "Epoch 19/15000, Loss: 2758.2567284866022\n",
      "Epoch 20/15000, Loss: 2668.2980074808183\n",
      "Epoch 21/15000, Loss: 2586.0747833512223\n",
      "Epoch 22/15000, Loss: 2510.7302302816806\n",
      "Epoch 23/15000, Loss: 2441.517784061014\n",
      "Epoch 1/15000, Loss: 125709.94360685731\n",
      "Epoch 2/15000, Loss: 10648.65799756696\n",
      "Epoch 3/15000, Loss: 8306.057018502353\n",
      "Epoch 4/15000, Loss: 6915.301619964233\n",
      "Epoch 5/15000, Loss: 5974.1477318667385\n",
      "Epoch 6/15000, Loss: 5288.746714607317\n",
      "Epoch 7/15000, Loss: 4765.383663330668\n",
      "Epoch 8/15000, Loss: 4351.971434616698\n",
      "Epoch 9/15000, Loss: 4016.8013227726783\n",
      "Epoch 10/15000, Loss: 3739.3666424228127\n",
      "Epoch 11/15000, Loss: 3505.8246219053617\n",
      "Epoch 12/15000, Loss: 3306.503734736237\n",
      "Epoch 13/15000, Loss: 3134.4355025401064\n",
      "Epoch 14/15000, Loss: 2984.454574709987\n",
      "Epoch 15/15000, Loss: 2852.633987107992\n",
      "Epoch 16/15000, Loss: 2735.9235683505185\n",
      "Epoch 17/15000, Loss: 2631.9127536107576\n",
      "Epoch 18/15000, Loss: 2538.6702223726797\n",
      "Epoch 19/15000, Loss: 2454.631710676317\n",
      "Epoch 1/15000, Loss: 136122.78831620477\n",
      "Epoch 2/15000, Loss: 9098.393616230434\n",
      "Epoch 3/15000, Loss: 7215.4566480720205\n",
      "Epoch 4/15000, Loss: 6043.936106614719\n",
      "Epoch 5/15000, Loss: 5239.029781862509\n",
      "Epoch 6/15000, Loss: 4655.648681190816\n",
      "Epoch 7/15000, Loss: 4215.050691784104\n",
      "Epoch 8/15000, Loss: 3870.115936598741\n",
      "Epoch 9/15000, Loss: 3591.7826009920536\n",
      "Epoch 10/15000, Loss: 3361.6397105892725\n",
      "Epoch 11/15000, Loss: 3167.5999920571276\n",
      "Epoch 12/15000, Loss: 3001.4212771509347\n",
      "Epoch 13/15000, Loss: 2857.2840098343195\n",
      "Epoch 14/15000, Loss: 2730.951791385612\n",
      "Epoch 15/15000, Loss: 2619.25748881048\n",
      "Epoch 16/15000, Loss: 2519.7774459744196\n",
      "Epoch 17/15000, Loss: 2430.6185033127454\n"
     ]
    },
    {
     "data": {
      "application/vnd.plotly.v1+json": {
       "config": {
        "plotlyServerURL": "https://plot.ly"
       },
       "data": [
        {
         "mode": "lines+markers",
         "type": "scatter",
         "x": [
          0.0005,
          0.0006,
          0.0007,
          0.0008,
          0.0009,
          0.001
         ],
         "y": [
          27,
          26,
          25,
          23,
          19,
          17
         ]
        }
       ],
       "layout": {
        "height": 720,
        "template": {
         "data": {
          "bar": [
           {
            "error_x": {
             "color": "#2a3f5f"
            },
            "error_y": {
             "color": "#2a3f5f"
            },
            "marker": {
             "line": {
              "color": "#E5ECF6",
              "width": 0.5
             },
             "pattern": {
              "fillmode": "overlay",
              "size": 10,
              "solidity": 0.2
             }
            },
            "type": "bar"
           }
          ],
          "barpolar": [
           {
            "marker": {
             "line": {
              "color": "#E5ECF6",
              "width": 0.5
             },
             "pattern": {
              "fillmode": "overlay",
              "size": 10,
              "solidity": 0.2
             }
            },
            "type": "barpolar"
           }
          ],
          "carpet": [
           {
            "aaxis": {
             "endlinecolor": "#2a3f5f",
             "gridcolor": "white",
             "linecolor": "white",
             "minorgridcolor": "white",
             "startlinecolor": "#2a3f5f"
            },
            "baxis": {
             "endlinecolor": "#2a3f5f",
             "gridcolor": "white",
             "linecolor": "white",
             "minorgridcolor": "white",
             "startlinecolor": "#2a3f5f"
            },
            "type": "carpet"
           }
          ],
          "choropleth": [
           {
            "colorbar": {
             "outlinewidth": 0,
             "ticks": ""
            },
            "type": "choropleth"
           }
          ],
          "contour": [
           {
            "colorbar": {
             "outlinewidth": 0,
             "ticks": ""
            },
            "colorscale": [
             [
              0,
              "#0d0887"
             ],
             [
              0.1111111111111111,
              "#46039f"
             ],
             [
              0.2222222222222222,
              "#7201a8"
             ],
             [
              0.3333333333333333,
              "#9c179e"
             ],
             [
              0.4444444444444444,
              "#bd3786"
             ],
             [
              0.5555555555555556,
              "#d8576b"
             ],
             [
              0.6666666666666666,
              "#ed7953"
             ],
             [
              0.7777777777777778,
              "#fb9f3a"
             ],
             [
              0.8888888888888888,
              "#fdca26"
             ],
             [
              1,
              "#f0f921"
             ]
            ],
            "type": "contour"
           }
          ],
          "contourcarpet": [
           {
            "colorbar": {
             "outlinewidth": 0,
             "ticks": ""
            },
            "type": "contourcarpet"
           }
          ],
          "heatmap": [
           {
            "colorbar": {
             "outlinewidth": 0,
             "ticks": ""
            },
            "colorscale": [
             [
              0,
              "#0d0887"
             ],
             [
              0.1111111111111111,
              "#46039f"
             ],
             [
              0.2222222222222222,
              "#7201a8"
             ],
             [
              0.3333333333333333,
              "#9c179e"
             ],
             [
              0.4444444444444444,
              "#bd3786"
             ],
             [
              0.5555555555555556,
              "#d8576b"
             ],
             [
              0.6666666666666666,
              "#ed7953"
             ],
             [
              0.7777777777777778,
              "#fb9f3a"
             ],
             [
              0.8888888888888888,
              "#fdca26"
             ],
             [
              1,
              "#f0f921"
             ]
            ],
            "type": "heatmap"
           }
          ],
          "heatmapgl": [
           {
            "colorbar": {
             "outlinewidth": 0,
             "ticks": ""
            },
            "colorscale": [
             [
              0,
              "#0d0887"
             ],
             [
              0.1111111111111111,
              "#46039f"
             ],
             [
              0.2222222222222222,
              "#7201a8"
             ],
             [
              0.3333333333333333,
              "#9c179e"
             ],
             [
              0.4444444444444444,
              "#bd3786"
             ],
             [
              0.5555555555555556,
              "#d8576b"
             ],
             [
              0.6666666666666666,
              "#ed7953"
             ],
             [
              0.7777777777777778,
              "#fb9f3a"
             ],
             [
              0.8888888888888888,
              "#fdca26"
             ],
             [
              1,
              "#f0f921"
             ]
            ],
            "type": "heatmapgl"
           }
          ],
          "histogram": [
           {
            "marker": {
             "pattern": {
              "fillmode": "overlay",
              "size": 10,
              "solidity": 0.2
             }
            },
            "type": "histogram"
           }
          ],
          "histogram2d": [
           {
            "colorbar": {
             "outlinewidth": 0,
             "ticks": ""
            },
            "colorscale": [
             [
              0,
              "#0d0887"
             ],
             [
              0.1111111111111111,
              "#46039f"
             ],
             [
              0.2222222222222222,
              "#7201a8"
             ],
             [
              0.3333333333333333,
              "#9c179e"
             ],
             [
              0.4444444444444444,
              "#bd3786"
             ],
             [
              0.5555555555555556,
              "#d8576b"
             ],
             [
              0.6666666666666666,
              "#ed7953"
             ],
             [
              0.7777777777777778,
              "#fb9f3a"
             ],
             [
              0.8888888888888888,
              "#fdca26"
             ],
             [
              1,
              "#f0f921"
             ]
            ],
            "type": "histogram2d"
           }
          ],
          "histogram2dcontour": [
           {
            "colorbar": {
             "outlinewidth": 0,
             "ticks": ""
            },
            "colorscale": [
             [
              0,
              "#0d0887"
             ],
             [
              0.1111111111111111,
              "#46039f"
             ],
             [
              0.2222222222222222,
              "#7201a8"
             ],
             [
              0.3333333333333333,
              "#9c179e"
             ],
             [
              0.4444444444444444,
              "#bd3786"
             ],
             [
              0.5555555555555556,
              "#d8576b"
             ],
             [
              0.6666666666666666,
              "#ed7953"
             ],
             [
              0.7777777777777778,
              "#fb9f3a"
             ],
             [
              0.8888888888888888,
              "#fdca26"
             ],
             [
              1,
              "#f0f921"
             ]
            ],
            "type": "histogram2dcontour"
           }
          ],
          "mesh3d": [
           {
            "colorbar": {
             "outlinewidth": 0,
             "ticks": ""
            },
            "type": "mesh3d"
           }
          ],
          "parcoords": [
           {
            "line": {
             "colorbar": {
              "outlinewidth": 0,
              "ticks": ""
             }
            },
            "type": "parcoords"
           }
          ],
          "pie": [
           {
            "automargin": true,
            "type": "pie"
           }
          ],
          "scatter": [
           {
            "fillpattern": {
             "fillmode": "overlay",
             "size": 10,
             "solidity": 0.2
            },
            "type": "scatter"
           }
          ],
          "scatter3d": [
           {
            "line": {
             "colorbar": {
              "outlinewidth": 0,
              "ticks": ""
             }
            },
            "marker": {
             "colorbar": {
              "outlinewidth": 0,
              "ticks": ""
             }
            },
            "type": "scatter3d"
           }
          ],
          "scattercarpet": [
           {
            "marker": {
             "colorbar": {
              "outlinewidth": 0,
              "ticks": ""
             }
            },
            "type": "scattercarpet"
           }
          ],
          "scattergeo": [
           {
            "marker": {
             "colorbar": {
              "outlinewidth": 0,
              "ticks": ""
             }
            },
            "type": "scattergeo"
           }
          ],
          "scattergl": [
           {
            "marker": {
             "colorbar": {
              "outlinewidth": 0,
              "ticks": ""
             }
            },
            "type": "scattergl"
           }
          ],
          "scattermapbox": [
           {
            "marker": {
             "colorbar": {
              "outlinewidth": 0,
              "ticks": ""
             }
            },
            "type": "scattermapbox"
           }
          ],
          "scatterpolar": [
           {
            "marker": {
             "colorbar": {
              "outlinewidth": 0,
              "ticks": ""
             }
            },
            "type": "scatterpolar"
           }
          ],
          "scatterpolargl": [
           {
            "marker": {
             "colorbar": {
              "outlinewidth": 0,
              "ticks": ""
             }
            },
            "type": "scatterpolargl"
           }
          ],
          "scatterternary": [
           {
            "marker": {
             "colorbar": {
              "outlinewidth": 0,
              "ticks": ""
             }
            },
            "type": "scatterternary"
           }
          ],
          "surface": [
           {
            "colorbar": {
             "outlinewidth": 0,
             "ticks": ""
            },
            "colorscale": [
             [
              0,
              "#0d0887"
             ],
             [
              0.1111111111111111,
              "#46039f"
             ],
             [
              0.2222222222222222,
              "#7201a8"
             ],
             [
              0.3333333333333333,
              "#9c179e"
             ],
             [
              0.4444444444444444,
              "#bd3786"
             ],
             [
              0.5555555555555556,
              "#d8576b"
             ],
             [
              0.6666666666666666,
              "#ed7953"
             ],
             [
              0.7777777777777778,
              "#fb9f3a"
             ],
             [
              0.8888888888888888,
              "#fdca26"
             ],
             [
              1,
              "#f0f921"
             ]
            ],
            "type": "surface"
           }
          ],
          "table": [
           {
            "cells": {
             "fill": {
              "color": "#EBF0F8"
             },
             "line": {
              "color": "white"
             }
            },
            "header": {
             "fill": {
              "color": "#C8D4E3"
             },
             "line": {
              "color": "white"
             }
            },
            "type": "table"
           }
          ]
         },
         "layout": {
          "annotationdefaults": {
           "arrowcolor": "#2a3f5f",
           "arrowhead": 0,
           "arrowwidth": 1
          },
          "autotypenumbers": "strict",
          "coloraxis": {
           "colorbar": {
            "outlinewidth": 0,
            "ticks": ""
           }
          },
          "colorscale": {
           "diverging": [
            [
             0,
             "#8e0152"
            ],
            [
             0.1,
             "#c51b7d"
            ],
            [
             0.2,
             "#de77ae"
            ],
            [
             0.3,
             "#f1b6da"
            ],
            [
             0.4,
             "#fde0ef"
            ],
            [
             0.5,
             "#f7f7f7"
            ],
            [
             0.6,
             "#e6f5d0"
            ],
            [
             0.7,
             "#b8e186"
            ],
            [
             0.8,
             "#7fbc41"
            ],
            [
             0.9,
             "#4d9221"
            ],
            [
             1,
             "#276419"
            ]
           ],
           "sequential": [
            [
             0,
             "#0d0887"
            ],
            [
             0.1111111111111111,
             "#46039f"
            ],
            [
             0.2222222222222222,
             "#7201a8"
            ],
            [
             0.3333333333333333,
             "#9c179e"
            ],
            [
             0.4444444444444444,
             "#bd3786"
            ],
            [
             0.5555555555555556,
             "#d8576b"
            ],
            [
             0.6666666666666666,
             "#ed7953"
            ],
            [
             0.7777777777777778,
             "#fb9f3a"
            ],
            [
             0.8888888888888888,
             "#fdca26"
            ],
            [
             1,
             "#f0f921"
            ]
           ],
           "sequentialminus": [
            [
             0,
             "#0d0887"
            ],
            [
             0.1111111111111111,
             "#46039f"
            ],
            [
             0.2222222222222222,
             "#7201a8"
            ],
            [
             0.3333333333333333,
             "#9c179e"
            ],
            [
             0.4444444444444444,
             "#bd3786"
            ],
            [
             0.5555555555555556,
             "#d8576b"
            ],
            [
             0.6666666666666666,
             "#ed7953"
            ],
            [
             0.7777777777777778,
             "#fb9f3a"
            ],
            [
             0.8888888888888888,
             "#fdca26"
            ],
            [
             1,
             "#f0f921"
            ]
           ]
          },
          "colorway": [
           "#636efa",
           "#EF553B",
           "#00cc96",
           "#ab63fa",
           "#FFA15A",
           "#19d3f3",
           "#FF6692",
           "#B6E880",
           "#FF97FF",
           "#FECB52"
          ],
          "font": {
           "color": "#2a3f5f"
          },
          "geo": {
           "bgcolor": "white",
           "lakecolor": "white",
           "landcolor": "#E5ECF6",
           "showlakes": true,
           "showland": true,
           "subunitcolor": "white"
          },
          "hoverlabel": {
           "align": "left"
          },
          "hovermode": "closest",
          "mapbox": {
           "style": "light"
          },
          "paper_bgcolor": "white",
          "plot_bgcolor": "#E5ECF6",
          "polar": {
           "angularaxis": {
            "gridcolor": "white",
            "linecolor": "white",
            "ticks": ""
           },
           "bgcolor": "#E5ECF6",
           "radialaxis": {
            "gridcolor": "white",
            "linecolor": "white",
            "ticks": ""
           }
          },
          "scene": {
           "xaxis": {
            "backgroundcolor": "#E5ECF6",
            "gridcolor": "white",
            "gridwidth": 2,
            "linecolor": "white",
            "showbackground": true,
            "ticks": "",
            "zerolinecolor": "white"
           },
           "yaxis": {
            "backgroundcolor": "#E5ECF6",
            "gridcolor": "white",
            "gridwidth": 2,
            "linecolor": "white",
            "showbackground": true,
            "ticks": "",
            "zerolinecolor": "white"
           },
           "zaxis": {
            "backgroundcolor": "#E5ECF6",
            "gridcolor": "white",
            "gridwidth": 2,
            "linecolor": "white",
            "showbackground": true,
            "ticks": "",
            "zerolinecolor": "white"
           }
          },
          "shapedefaults": {
           "line": {
            "color": "#2a3f5f"
           }
          },
          "ternary": {
           "aaxis": {
            "gridcolor": "white",
            "linecolor": "white",
            "ticks": ""
           },
           "baxis": {
            "gridcolor": "white",
            "linecolor": "white",
            "ticks": ""
           },
           "bgcolor": "#E5ECF6",
           "caxis": {
            "gridcolor": "white",
            "linecolor": "white",
            "ticks": ""
           }
          },
          "title": {
           "x": 0.05
          },
          "xaxis": {
           "automargin": true,
           "gridcolor": "white",
           "linecolor": "white",
           "ticks": "",
           "title": {
            "standoff": 15
           },
           "zerolinecolor": "white",
           "zerolinewidth": 2
          },
          "yaxis": {
           "automargin": true,
           "gridcolor": "white",
           "linecolor": "white",
           "ticks": "",
           "title": {
            "standoff": 15
           },
           "zerolinecolor": "white",
           "zerolinewidth": 2
          }
         }
        },
        "title": {
         "text": "Зависимость количества итераций обучения от коэффициента обучения"
        },
        "width": 1280,
        "xaxis": {
         "title": {
          "text": "Коэффициент обучения"
         }
        },
        "yaxis": {
         "title": {
          "text": "Количество итераций обучения"
         }
        }
       }
      }
     },
     "metadata": {},
     "output_type": "display_data"
    }
   ],
   "source": [
    "alphas = (0.0005, 0.0006, 0.0007, 0.0008, 0.0009, 0.001)\n",
    "epochs_amount: list[int] = []\n",
    "for alpha in alphas:\n",
    "    dl = LRNN(n, p, alpha)\n",
    "    dl.train(train, 15000, learn_by_loss=True, max_loss=2500)\n",
    "    epochs_amount.append(dl.epoch)\n",
    "fig = go.Figure()\n",
    "fig.add_trace(go.Scatter(x=alphas, y=epochs_amount, mode='lines+markers'))\n",
    "fig.update_layout(title='Зависимость количества итераций обучения от коэффициента обучения',\n",
    "                  xaxis_title='Коэффициент обучения',\n",
    "                  yaxis_title='Количество итераций обучения',\n",
    "                  height=720, width=1280)\n",
    "fig.show()"
   ]
  },
  {
   "cell_type": "markdown",
   "metadata": {},
   "source": [
    "## Relationship between hidden layer dimension and epochs"
   ]
  },
  {
   "cell_type": "code",
   "execution_count": 63,
   "metadata": {},
   "outputs": [
    {
     "name": "stdout",
     "output_type": "stream",
     "text": [
      "Epoch 1/15000, Loss: 72578.59058460512\n",
      "Epoch 2/15000, Loss: 7871.265555821872\n",
      "Epoch 3/15000, Loss: 6715.241367035782\n",
      "Epoch 4/15000, Loss: 6095.708827959285\n",
      "Epoch 5/15000, Loss: 5669.590656969925\n",
      "Epoch 6/15000, Loss: 5342.437438505515\n",
      "Epoch 7/15000, Loss: 5076.250758116881\n",
      "Epoch 8/15000, Loss: 4852.390942002139\n",
      "Epoch 9/15000, Loss: 4660.477720042996\n",
      "Epoch 10/15000, Loss: 4494.0871282577955\n",
      "Epoch 11/15000, Loss: 4348.805362004422\n",
      "Epoch 12/15000, Loss: 4221.299312668487\n",
      "Epoch 13/15000, Loss: 4108.887444116341\n",
      "Epoch 14/15000, Loss: 4009.3569069177456\n",
      "Epoch 15/15000, Loss: 3920.88350207235\n",
      "Epoch 16/15000, Loss: 3841.9776073521844\n",
      "Epoch 17/15000, Loss: 3771.4251422320194\n",
      "Epoch 18/15000, Loss: 3708.2212306728493\n",
      "Epoch 19/15000, Loss: 3651.5069788020537\n",
      "Epoch 20/15000, Loss: 3600.5204881041786\n",
      "Epoch 21/15000, Loss: 3554.567320338135\n",
      "Epoch 22/15000, Loss: 3513.008605251939\n",
      "Epoch 23/15000, Loss: 3475.2605720700044\n",
      "Epoch 24/15000, Loss: 3440.798547355517\n",
      "Epoch 25/15000, Loss: 3409.160316844796\n",
      "Epoch 26/15000, Loss: 3379.946409681813\n",
      "Epoch 27/15000, Loss: 3352.8170153168826\n",
      "Epoch 28/15000, Loss: 3327.486414800702\n",
      "Epoch 29/15000, Loss: 3303.7161335129617\n",
      "Epoch 30/15000, Loss: 3281.3078541894242\n",
      "Epoch 31/15000, Loss: 3260.0967818167\n",
      "Epoch 32/15000, Loss: 3239.945814920712\n",
      "Epoch 33/15000, Loss: 3220.7406289441615\n",
      "Epoch 34/15000, Loss: 3202.3856269982975\n",
      "Epoch 35/15000, Loss: 3184.800641580223\n",
      "Epoch 36/15000, Loss: 3167.918251155355\n",
      "Epoch 37/15000, Loss: 3151.6815846560903\n",
      "Epoch 38/15000, Loss: 3136.0425085345883\n",
      "Epoch 39/15000, Loss: 3120.960115050041\n",
      "Epoch 40/15000, Loss: 3106.399451853641\n",
      "Epoch 41/15000, Loss: 3092.330449714671\n",
      "Epoch 42/15000, Loss: 3078.727017267302\n",
      "Epoch 43/15000, Loss: 3065.566279663603\n",
      "Epoch 44/15000, Loss: 3052.8279429845784\n",
      "Epoch 45/15000, Loss: 3040.4937691530304\n",
      "Epoch 46/15000, Loss: 3028.5471477104984\n",
      "Epoch 47/15000, Loss: 3016.9727517712677\n",
      "Epoch 48/15000, Loss: 3005.756266161435\n",
      "Epoch 49/15000, Loss: 2994.884176445943\n",
      "Epoch 1/15000, Loss: 78252.11750194815\n",
      "Epoch 2/15000, Loss: 6353.420475780507\n",
      "Epoch 3/15000, Loss: 5618.200168476709\n",
      "Epoch 4/15000, Loss: 5120.167053252825\n",
      "Epoch 5/15000, Loss: 4742.711087087833\n",
      "Epoch 6/15000, Loss: 4441.444673567859\n",
      "Epoch 7/15000, Loss: 4197.385964064258\n",
      "Epoch 8/15000, Loss: 4000.097738810401\n",
      "Epoch 9/15000, Loss: 3840.9947872548605\n",
      "Epoch 10/15000, Loss: 3712.027624190699\n",
      "Epoch 11/15000, Loss: 3606.1868158268635\n",
      "Epoch 12/15000, Loss: 3517.877536833287\n",
      "Epoch 13/15000, Loss: 3442.856076234595\n",
      "Epoch 14/15000, Loss: 3377.9748129285817\n",
      "Epoch 15/15000, Loss: 3320.918164472368\n",
      "Epoch 16/15000, Loss: 3269.986578748404\n",
      "Epoch 17/15000, Loss: 3223.931672752301\n",
      "Epoch 18/15000, Loss: 3181.8332613366615\n",
      "Epoch 19/15000, Loss: 3143.008727451588\n",
      "Epoch 20/15000, Loss: 3106.946854440401\n",
      "Epoch 21/15000, Loss: 3073.25988265529\n",
      "Epoch 22/15000, Loss: 3041.6489707437313\n",
      "Epoch 23/15000, Loss: 3011.8794262607184\n",
      "Epoch 24/15000, Loss: 2983.7630154569133\n",
      "Epoch 1/15000, Loss: 79370.43802490736\n",
      "Epoch 2/15000, Loss: 7562.7985131888745\n",
      "Epoch 3/15000, Loss: 6754.048920309751\n",
      "Epoch 4/15000, Loss: 6137.312588729523\n",
      "Epoch 5/15000, Loss: 5641.469841811134\n",
      "Epoch 6/15000, Loss: 5236.197168037381\n",
      "Epoch 7/15000, Loss: 4903.291068451462\n",
      "Epoch 8/15000, Loss: 4628.579431010461\n",
      "Epoch 9/15000, Loss: 4399.954642195632\n",
      "Epoch 10/15000, Loss: 4207.341273726012\n",
      "Epoch 11/15000, Loss: 4042.781527941339\n",
      "Epoch 12/15000, Loss: 3900.22995434769\n",
      "Epoch 13/15000, Loss: 3775.1856024349745\n",
      "Epoch 14/15000, Loss: 3664.3169604619256\n",
      "Epoch 15/15000, Loss: 3565.148217564678\n",
      "Epoch 16/15000, Loss: 3475.8183424851027\n",
      "Epoch 17/15000, Loss: 3394.903432694245\n",
      "Epoch 18/15000, Loss: 3321.288803666771\n",
      "Epoch 19/15000, Loss: 3254.0786613976015\n",
      "Epoch 20/15000, Loss: 3192.5335391310928\n",
      "Epoch 21/15000, Loss: 3136.0278124483284\n",
      "Epoch 22/15000, Loss: 3084.02136966288\n",
      "Epoch 23/15000, Loss: 3036.040957421423\n",
      "Epoch 24/15000, Loss: 2991.667902819611\n",
      "Epoch 1/15000, Loss: 81597.33320982508\n",
      "Epoch 2/15000, Loss: 9295.424814187636\n",
      "Epoch 3/15000, Loss: 7871.964385111526\n",
      "Epoch 4/15000, Loss: 6856.86528734847\n",
      "Epoch 5/15000, Loss: 6096.513098473437\n",
      "Epoch 6/15000, Loss: 5509.668214196096\n",
      "Epoch 7/15000, Loss: 5047.665048551256\n",
      "Epoch 8/15000, Loss: 4678.573736121669\n",
      "Epoch 9/15000, Loss: 4379.707747589023\n",
      "Epoch 10/15000, Loss: 4134.2108468178585\n",
      "Epoch 11/15000, Loss: 3929.4414455376277\n",
      "Epoch 12/15000, Loss: 3755.9958078821373\n",
      "Epoch 13/15000, Loss: 3606.946126528749\n",
      "Epoch 14/15000, Loss: 3477.206949078305\n",
      "Epoch 15/15000, Loss: 3363.029845781503\n",
      "Epoch 16/15000, Loss: 3261.6220695070833\n",
      "Epoch 17/15000, Loss: 3170.8703707090517\n",
      "Epoch 18/15000, Loss: 3089.145821205857\n",
      "Epoch 19/15000, Loss: 3015.1675136293334\n",
      "Epoch 20/15000, Loss: 2947.907708436386\n",
      "Epoch 1/15000, Loss: 95728.28178052814\n",
      "Epoch 2/15000, Loss: 11196.409496299759\n",
      "Epoch 3/15000, Loss: 8688.51073735589\n",
      "Epoch 4/15000, Loss: 7195.979232245921\n",
      "Epoch 5/15000, Loss: 6209.036753347833\n",
      "Epoch 6/15000, Loss: 5510.751832152014\n",
      "Epoch 7/15000, Loss: 4990.345740404221\n",
      "Epoch 8/15000, Loss: 4585.713192304653\n",
      "Epoch 9/15000, Loss: 4260.484628667672\n",
      "Epoch 10/15000, Loss: 3992.506508233732\n",
      "Epoch 11/15000, Loss: 3767.574064709241\n",
      "Epoch 12/15000, Loss: 3576.049858826375\n",
      "Epoch 13/15000, Loss: 3411.0607361719176\n",
      "Epoch 14/15000, Loss: 3267.51818290651\n",
      "Epoch 15/15000, Loss: 3141.55650661429\n",
      "Epoch 16/15000, Loss: 3030.1854420616955\n",
      "Epoch 17/15000, Loss: 2931.0591203760964\n",
      "Epoch 1/15000, Loss: 117607.07065595673\n",
      "Epoch 2/15000, Loss: 11040.027652408395\n",
      "Epoch 3/15000, Loss: 8304.067708692148\n",
      "Epoch 4/15000, Loss: 6783.980286450302\n",
      "Epoch 5/15000, Loss: 5798.629783903658\n",
      "Epoch 6/15000, Loss: 5111.252595954226\n",
      "Epoch 7/15000, Loss: 4607.6106552122465\n",
      "Epoch 8/15000, Loss: 4222.39822280008\n",
      "Epoch 9/15000, Loss: 3916.2688959303628\n",
      "Epoch 10/15000, Loss: 3665.1970739406966\n",
      "Epoch 11/15000, Loss: 3454.234963963882\n",
      "Epoch 12/15000, Loss: 3273.7612985767328\n",
      "Epoch 13/15000, Loss: 3117.302845474496\n",
      "Epoch 14/15000, Loss: 2980.295871825908\n",
      "Epoch 1/15000, Loss: 134515.62189502083\n",
      "Epoch 2/15000, Loss: 9330.873009774656\n",
      "Epoch 3/15000, Loss: 7320.537880189294\n",
      "Epoch 4/15000, Loss: 6106.491784799639\n",
      "Epoch 5/15000, Loss: 5282.385473580478\n",
      "Epoch 6/15000, Loss: 4686.305660664446\n",
      "Epoch 7/15000, Loss: 4234.342044052212\n",
      "Epoch 8/15000, Loss: 3878.7304592169967\n",
      "Epoch 9/15000, Loss: 3590.898069433538\n",
      "Epoch 10/15000, Loss: 3352.8272549430176\n",
      "Epoch 11/15000, Loss: 3152.543694710359\n",
      "Epoch 12/15000, Loss: 2981.7270880898823\n"
     ]
    },
    {
     "data": {
      "application/vnd.plotly.v1+json": {
       "config": {
        "plotlyServerURL": "https://plot.ly"
       },
       "data": [
        {
         "mode": "lines+markers",
         "type": "scatter",
         "x": [
          4.95044603518777,
          3.9603646703788487,
          3.300308248790437,
          2.828838309259919,
          2.475235271112519,
          2.2002103401085145,
          1.9801901774646438
         ],
         "y": [
          49,
          24,
          24,
          20,
          17,
          14,
          12
         ]
        }
       ],
       "layout": {
        "font": {
         "size": 20
        },
        "height": 720,
        "template": {
         "data": {
          "bar": [
           {
            "error_x": {
             "color": "#2a3f5f"
            },
            "error_y": {
             "color": "#2a3f5f"
            },
            "marker": {
             "line": {
              "color": "#E5ECF6",
              "width": 0.5
             },
             "pattern": {
              "fillmode": "overlay",
              "size": 10,
              "solidity": 0.2
             }
            },
            "type": "bar"
           }
          ],
          "barpolar": [
           {
            "marker": {
             "line": {
              "color": "#E5ECF6",
              "width": 0.5
             },
             "pattern": {
              "fillmode": "overlay",
              "size": 10,
              "solidity": 0.2
             }
            },
            "type": "barpolar"
           }
          ],
          "carpet": [
           {
            "aaxis": {
             "endlinecolor": "#2a3f5f",
             "gridcolor": "white",
             "linecolor": "white",
             "minorgridcolor": "white",
             "startlinecolor": "#2a3f5f"
            },
            "baxis": {
             "endlinecolor": "#2a3f5f",
             "gridcolor": "white",
             "linecolor": "white",
             "minorgridcolor": "white",
             "startlinecolor": "#2a3f5f"
            },
            "type": "carpet"
           }
          ],
          "choropleth": [
           {
            "colorbar": {
             "outlinewidth": 0,
             "ticks": ""
            },
            "type": "choropleth"
           }
          ],
          "contour": [
           {
            "colorbar": {
             "outlinewidth": 0,
             "ticks": ""
            },
            "colorscale": [
             [
              0,
              "#0d0887"
             ],
             [
              0.1111111111111111,
              "#46039f"
             ],
             [
              0.2222222222222222,
              "#7201a8"
             ],
             [
              0.3333333333333333,
              "#9c179e"
             ],
             [
              0.4444444444444444,
              "#bd3786"
             ],
             [
              0.5555555555555556,
              "#d8576b"
             ],
             [
              0.6666666666666666,
              "#ed7953"
             ],
             [
              0.7777777777777778,
              "#fb9f3a"
             ],
             [
              0.8888888888888888,
              "#fdca26"
             ],
             [
              1,
              "#f0f921"
             ]
            ],
            "type": "contour"
           }
          ],
          "contourcarpet": [
           {
            "colorbar": {
             "outlinewidth": 0,
             "ticks": ""
            },
            "type": "contourcarpet"
           }
          ],
          "heatmap": [
           {
            "colorbar": {
             "outlinewidth": 0,
             "ticks": ""
            },
            "colorscale": [
             [
              0,
              "#0d0887"
             ],
             [
              0.1111111111111111,
              "#46039f"
             ],
             [
              0.2222222222222222,
              "#7201a8"
             ],
             [
              0.3333333333333333,
              "#9c179e"
             ],
             [
              0.4444444444444444,
              "#bd3786"
             ],
             [
              0.5555555555555556,
              "#d8576b"
             ],
             [
              0.6666666666666666,
              "#ed7953"
             ],
             [
              0.7777777777777778,
              "#fb9f3a"
             ],
             [
              0.8888888888888888,
              "#fdca26"
             ],
             [
              1,
              "#f0f921"
             ]
            ],
            "type": "heatmap"
           }
          ],
          "heatmapgl": [
           {
            "colorbar": {
             "outlinewidth": 0,
             "ticks": ""
            },
            "colorscale": [
             [
              0,
              "#0d0887"
             ],
             [
              0.1111111111111111,
              "#46039f"
             ],
             [
              0.2222222222222222,
              "#7201a8"
             ],
             [
              0.3333333333333333,
              "#9c179e"
             ],
             [
              0.4444444444444444,
              "#bd3786"
             ],
             [
              0.5555555555555556,
              "#d8576b"
             ],
             [
              0.6666666666666666,
              "#ed7953"
             ],
             [
              0.7777777777777778,
              "#fb9f3a"
             ],
             [
              0.8888888888888888,
              "#fdca26"
             ],
             [
              1,
              "#f0f921"
             ]
            ],
            "type": "heatmapgl"
           }
          ],
          "histogram": [
           {
            "marker": {
             "pattern": {
              "fillmode": "overlay",
              "size": 10,
              "solidity": 0.2
             }
            },
            "type": "histogram"
           }
          ],
          "histogram2d": [
           {
            "colorbar": {
             "outlinewidth": 0,
             "ticks": ""
            },
            "colorscale": [
             [
              0,
              "#0d0887"
             ],
             [
              0.1111111111111111,
              "#46039f"
             ],
             [
              0.2222222222222222,
              "#7201a8"
             ],
             [
              0.3333333333333333,
              "#9c179e"
             ],
             [
              0.4444444444444444,
              "#bd3786"
             ],
             [
              0.5555555555555556,
              "#d8576b"
             ],
             [
              0.6666666666666666,
              "#ed7953"
             ],
             [
              0.7777777777777778,
              "#fb9f3a"
             ],
             [
              0.8888888888888888,
              "#fdca26"
             ],
             [
              1,
              "#f0f921"
             ]
            ],
            "type": "histogram2d"
           }
          ],
          "histogram2dcontour": [
           {
            "colorbar": {
             "outlinewidth": 0,
             "ticks": ""
            },
            "colorscale": [
             [
              0,
              "#0d0887"
             ],
             [
              0.1111111111111111,
              "#46039f"
             ],
             [
              0.2222222222222222,
              "#7201a8"
             ],
             [
              0.3333333333333333,
              "#9c179e"
             ],
             [
              0.4444444444444444,
              "#bd3786"
             ],
             [
              0.5555555555555556,
              "#d8576b"
             ],
             [
              0.6666666666666666,
              "#ed7953"
             ],
             [
              0.7777777777777778,
              "#fb9f3a"
             ],
             [
              0.8888888888888888,
              "#fdca26"
             ],
             [
              1,
              "#f0f921"
             ]
            ],
            "type": "histogram2dcontour"
           }
          ],
          "mesh3d": [
           {
            "colorbar": {
             "outlinewidth": 0,
             "ticks": ""
            },
            "type": "mesh3d"
           }
          ],
          "parcoords": [
           {
            "line": {
             "colorbar": {
              "outlinewidth": 0,
              "ticks": ""
             }
            },
            "type": "parcoords"
           }
          ],
          "pie": [
           {
            "automargin": true,
            "type": "pie"
           }
          ],
          "scatter": [
           {
            "fillpattern": {
             "fillmode": "overlay",
             "size": 10,
             "solidity": 0.2
            },
            "type": "scatter"
           }
          ],
          "scatter3d": [
           {
            "line": {
             "colorbar": {
              "outlinewidth": 0,
              "ticks": ""
             }
            },
            "marker": {
             "colorbar": {
              "outlinewidth": 0,
              "ticks": ""
             }
            },
            "type": "scatter3d"
           }
          ],
          "scattercarpet": [
           {
            "marker": {
             "colorbar": {
              "outlinewidth": 0,
              "ticks": ""
             }
            },
            "type": "scattercarpet"
           }
          ],
          "scattergeo": [
           {
            "marker": {
             "colorbar": {
              "outlinewidth": 0,
              "ticks": ""
             }
            },
            "type": "scattergeo"
           }
          ],
          "scattergl": [
           {
            "marker": {
             "colorbar": {
              "outlinewidth": 0,
              "ticks": ""
             }
            },
            "type": "scattergl"
           }
          ],
          "scattermapbox": [
           {
            "marker": {
             "colorbar": {
              "outlinewidth": 0,
              "ticks": ""
             }
            },
            "type": "scattermapbox"
           }
          ],
          "scatterpolar": [
           {
            "marker": {
             "colorbar": {
              "outlinewidth": 0,
              "ticks": ""
             }
            },
            "type": "scatterpolar"
           }
          ],
          "scatterpolargl": [
           {
            "marker": {
             "colorbar": {
              "outlinewidth": 0,
              "ticks": ""
             }
            },
            "type": "scatterpolargl"
           }
          ],
          "scatterternary": [
           {
            "marker": {
             "colorbar": {
              "outlinewidth": 0,
              "ticks": ""
             }
            },
            "type": "scatterternary"
           }
          ],
          "surface": [
           {
            "colorbar": {
             "outlinewidth": 0,
             "ticks": ""
            },
            "colorscale": [
             [
              0,
              "#0d0887"
             ],
             [
              0.1111111111111111,
              "#46039f"
             ],
             [
              0.2222222222222222,
              "#7201a8"
             ],
             [
              0.3333333333333333,
              "#9c179e"
             ],
             [
              0.4444444444444444,
              "#bd3786"
             ],
             [
              0.5555555555555556,
              "#d8576b"
             ],
             [
              0.6666666666666666,
              "#ed7953"
             ],
             [
              0.7777777777777778,
              "#fb9f3a"
             ],
             [
              0.8888888888888888,
              "#fdca26"
             ],
             [
              1,
              "#f0f921"
             ]
            ],
            "type": "surface"
           }
          ],
          "table": [
           {
            "cells": {
             "fill": {
              "color": "#EBF0F8"
             },
             "line": {
              "color": "white"
             }
            },
            "header": {
             "fill": {
              "color": "#C8D4E3"
             },
             "line": {
              "color": "white"
             }
            },
            "type": "table"
           }
          ]
         },
         "layout": {
          "annotationdefaults": {
           "arrowcolor": "#2a3f5f",
           "arrowhead": 0,
           "arrowwidth": 1
          },
          "autotypenumbers": "strict",
          "coloraxis": {
           "colorbar": {
            "outlinewidth": 0,
            "ticks": ""
           }
          },
          "colorscale": {
           "diverging": [
            [
             0,
             "#8e0152"
            ],
            [
             0.1,
             "#c51b7d"
            ],
            [
             0.2,
             "#de77ae"
            ],
            [
             0.3,
             "#f1b6da"
            ],
            [
             0.4,
             "#fde0ef"
            ],
            [
             0.5,
             "#f7f7f7"
            ],
            [
             0.6,
             "#e6f5d0"
            ],
            [
             0.7,
             "#b8e186"
            ],
            [
             0.8,
             "#7fbc41"
            ],
            [
             0.9,
             "#4d9221"
            ],
            [
             1,
             "#276419"
            ]
           ],
           "sequential": [
            [
             0,
             "#0d0887"
            ],
            [
             0.1111111111111111,
             "#46039f"
            ],
            [
             0.2222222222222222,
             "#7201a8"
            ],
            [
             0.3333333333333333,
             "#9c179e"
            ],
            [
             0.4444444444444444,
             "#bd3786"
            ],
            [
             0.5555555555555556,
             "#d8576b"
            ],
            [
             0.6666666666666666,
             "#ed7953"
            ],
            [
             0.7777777777777778,
             "#fb9f3a"
            ],
            [
             0.8888888888888888,
             "#fdca26"
            ],
            [
             1,
             "#f0f921"
            ]
           ],
           "sequentialminus": [
            [
             0,
             "#0d0887"
            ],
            [
             0.1111111111111111,
             "#46039f"
            ],
            [
             0.2222222222222222,
             "#7201a8"
            ],
            [
             0.3333333333333333,
             "#9c179e"
            ],
            [
             0.4444444444444444,
             "#bd3786"
            ],
            [
             0.5555555555555556,
             "#d8576b"
            ],
            [
             0.6666666666666666,
             "#ed7953"
            ],
            [
             0.7777777777777778,
             "#fb9f3a"
            ],
            [
             0.8888888888888888,
             "#fdca26"
            ],
            [
             1,
             "#f0f921"
            ]
           ]
          },
          "colorway": [
           "#636efa",
           "#EF553B",
           "#00cc96",
           "#ab63fa",
           "#FFA15A",
           "#19d3f3",
           "#FF6692",
           "#B6E880",
           "#FF97FF",
           "#FECB52"
          ],
          "font": {
           "color": "#2a3f5f"
          },
          "geo": {
           "bgcolor": "white",
           "lakecolor": "white",
           "landcolor": "#E5ECF6",
           "showlakes": true,
           "showland": true,
           "subunitcolor": "white"
          },
          "hoverlabel": {
           "align": "left"
          },
          "hovermode": "closest",
          "mapbox": {
           "style": "light"
          },
          "paper_bgcolor": "white",
          "plot_bgcolor": "#E5ECF6",
          "polar": {
           "angularaxis": {
            "gridcolor": "white",
            "linecolor": "white",
            "ticks": ""
           },
           "bgcolor": "#E5ECF6",
           "radialaxis": {
            "gridcolor": "white",
            "linecolor": "white",
            "ticks": ""
           }
          },
          "scene": {
           "xaxis": {
            "backgroundcolor": "#E5ECF6",
            "gridcolor": "white",
            "gridwidth": 2,
            "linecolor": "white",
            "showbackground": true,
            "ticks": "",
            "zerolinecolor": "white"
           },
           "yaxis": {
            "backgroundcolor": "#E5ECF6",
            "gridcolor": "white",
            "gridwidth": 2,
            "linecolor": "white",
            "showbackground": true,
            "ticks": "",
            "zerolinecolor": "white"
           },
           "zaxis": {
            "backgroundcolor": "#E5ECF6",
            "gridcolor": "white",
            "gridwidth": 2,
            "linecolor": "white",
            "showbackground": true,
            "ticks": "",
            "zerolinecolor": "white"
           }
          },
          "shapedefaults": {
           "line": {
            "color": "#2a3f5f"
           }
          },
          "ternary": {
           "aaxis": {
            "gridcolor": "white",
            "linecolor": "white",
            "ticks": ""
           },
           "baxis": {
            "gridcolor": "white",
            "linecolor": "white",
            "ticks": ""
           },
           "bgcolor": "#E5ECF6",
           "caxis": {
            "gridcolor": "white",
            "linecolor": "white",
            "ticks": ""
           }
          },
          "title": {
           "x": 0.05
          },
          "xaxis": {
           "automargin": true,
           "gridcolor": "white",
           "linecolor": "white",
           "ticks": "",
           "title": {
            "standoff": 15
           },
           "zerolinecolor": "white",
           "zerolinewidth": 2
          },
          "yaxis": {
           "automargin": true,
           "gridcolor": "white",
           "linecolor": "white",
           "ticks": "",
           "title": {
            "standoff": 15
           },
           "zerolinecolor": "white",
           "zerolinewidth": 2
          }
         }
        },
        "title": {
         "text": "Зависимость количества итераций обучения от коэффициента сжатия"
        },
        "width": 1280,
        "xaxis": {
         "title": {
          "text": "Коэффициент сжатия"
         }
        },
        "yaxis": {
         "title": {
          "text": "Количество итераций обучения"
         }
        }
       }
      }
     },
     "metadata": {},
     "output_type": "display_data"
    }
   ],
   "source": [
    "p_s = (20, 25, 30, 35, 40, 45, 50)\n",
    "epochs_amount: list[int] = []\n",
    "compression_rates: list[float] = []\n",
    "for p in p_s:\n",
    "    compression_rates.append((n*l) / ((n+l) * p + 2))\n",
    "    dl = LRNN(n, p, 0.001)\n",
    "    dl.train(train, 15000, learn_by_loss=True, max_loss=3000)\n",
    "    epochs_amount.append(dl.epoch)\n",
    "fig = go.Figure()\n",
    "fig.add_trace(go.Scatter(x=compression_rates, y=epochs_amount, mode='lines+markers'))\n",
    "fig.update_layout(title='Зависимость количества итераций обучения от коэффициента сжатия',\n",
    "                  xaxis_title='Коэффициент сжатия',\n",
    "                  yaxis_title='Количество итераций обучения',\n",
    "                  height=720, width=1280,\n",
    "                  font=dict(size=20))\n",
    "fig.show()"
   ]
  },
  {
   "cell_type": "markdown",
   "metadata": {},
   "source": [
    "## Relationship between max error and epochs"
   ]
  },
  {
   "cell_type": "code",
   "execution_count": 6,
   "metadata": {},
   "outputs": [
    {
     "name": "stdout",
     "output_type": "stream",
     "text": [
      "Epoch 1/15000, Loss: 6147.6618908530345\n",
      "Epoch 2/15000, Loss: 5256.338715390715\n",
      "Epoch 3/15000, Loss: 4614.769188256983\n",
      "Epoch 4/15000, Loss: 4139.761209412967\n",
      "Epoch 5/15000, Loss: 3782.474047447226\n",
      "Epoch 6/15000, Loss: 3500.218125241111\n",
      "Epoch 7/15000, Loss: 3268.9043622039558\n",
      "Epoch 8/15000, Loss: 3075.5094337839237\n",
      "Epoch 9/15000, Loss: 2911.706633522301\n",
      "Epoch 10/15000, Loss: 2771.359552090972\n",
      "Epoch 11/15000, Loss: 2649.7250841865803\n",
      "Epoch 12/15000, Loss: 2543.152647913484\n",
      "Epoch 13/15000, Loss: 2448.8716393060595\n",
      "Epoch 14/15000, Loss: 2364.7883279780644\n",
      "Epoch 15/15000, Loss: 2289.3047636877714\n",
      "Epoch 16/15000, Loss: 2221.1758176475673\n",
      "Epoch 17/15000, Loss: 2159.4063897960864\n",
      "Epoch 18/15000, Loss: 2103.181695023576\n",
      "Epoch 19/15000, Loss: 2051.8212315174364\n",
      "Epoch 20/15000, Loss: 2004.7483186985512\n",
      "Epoch 21/15000, Loss: 1961.4693686728044\n",
      "Epoch 22/15000, Loss: 1921.5591105197732\n",
      "Epoch 23/15000, Loss: 1884.6494810451916\n",
      "Epoch 24/15000, Loss: 1850.4208620586169\n",
      "Epoch 25/15000, Loss: 1818.5949211183695\n",
      "Epoch 26/15000, Loss: 1788.9286355217655\n",
      "Epoch 27/15000, Loss: 1761.2092500796348\n",
      "Epoch 28/15000, Loss: 1735.2500054648972\n",
      "Epoch 29/15000, Loss: 1710.886516682034\n",
      "Epoch 30/15000, Loss: 1687.9737035063351\n",
      "Epoch 31/15000, Loss: 1666.3831884764597\n",
      "Epoch 32/15000, Loss: 1646.0010886834539\n",
      "Epoch 33/15000, Loss: 1626.7261373008118\n",
      "Epoch 34/15000, Loss: 1608.4680800683009\n",
      "Epoch 35/15000, Loss: 1591.146300676282\n",
      "Epoch 36/15000, Loss: 1574.6886369493\n",
      "Epoch 37/15000, Loss: 1559.030356699109\n",
      "Epoch 38/15000, Loss: 1544.1132680220194\n",
      "Epoch 39/15000, Loss: 1529.8849436675625\n",
      "Epoch 40/15000, Loss: 1516.2980429950405\n",
      "Epoch 41/15000, Loss: 1503.309718091047\n",
      "Epoch 42/15000, Loss: 1490.8810929905967\n",
      "Epoch 43/15000, Loss: 1478.9768067675113\n",
      "Epoch 44/15000, Loss: 1467.5646126635445\n",
      "Epoch 45/15000, Loss: 1456.6150265163735\n",
      "Epoch 46/15000, Loss: 1446.1010186086319\n",
      "Epoch 47/15000, Loss: 1435.997743759564\n",
      "Epoch 48/15000, Loss: 1426.282305064141\n",
      "Epoch 49/15000, Loss: 1416.9335471859006\n",
      "Epoch 50/15000, Loss: 1407.9318755515937\n",
      "Epoch 51/15000, Loss: 1399.259098192405\n",
      "Epoch 52/15000, Loss: 1390.8982873370542\n",
      "Epoch 53/15000, Loss: 1382.8336581914689\n",
      "Epoch 54/15000, Loss: 1375.0504626408897\n",
      "Epoch 55/15000, Loss: 1367.5348958847314\n",
      "Epoch 56/15000, Loss: 1360.2740142632717\n",
      "Epoch 57/15000, Loss: 1353.255662759292\n",
      "Epoch 58/15000, Loss: 1346.4684108581248\n",
      "Epoch 59/15000, Loss: 1339.901495627331\n",
      "Epoch 60/15000, Loss: 1333.5447710338722\n",
      "Epoch 61/15000, Loss: 1327.388662654027\n",
      "Epoch 62/15000, Loss: 1321.4241270508019\n",
      "Epoch 63/15000, Loss: 1315.642615197199\n",
      "Epoch 64/15000, Loss: 1310.036039413267\n",
      "Epoch 65/15000, Loss: 1304.5967433616893\n",
      "Epoch 66/15000, Loss: 1299.317474712841\n",
      "Epoch 67/15000, Loss: 1294.1913601467359\n",
      "Epoch 68/15000, Loss: 1289.211882407668\n",
      "Epoch 69/15000, Loss: 1284.3728591686222\n",
      "Epoch 70/15000, Loss: 1279.6684234977206\n",
      "Epoch 71/15000, Loss: 1275.0930057490884\n",
      "Epoch 72/15000, Loss: 1270.6413167258409\n",
      "Epoch 73/15000, Loss: 1266.3083319848552\n",
      "Epoch 74/15000, Loss: 1262.0892771712267\n",
      "Epoch 75/15000, Loss: 1257.979614286054\n",
      "Epoch 76/15000, Loss: 1253.9750288043365\n",
      "Epoch 77/15000, Loss: 1250.0714175710148\n",
      "Epoch 78/15000, Loss: 1246.2648774125782\n",
      "Epoch 79/15000, Loss: 1242.5516944095418\n",
      "Epoch 80/15000, Loss: 1238.9283337818488\n",
      "Epoch 81/15000, Loss: 1235.391430344763\n",
      "Epoch 82/15000, Loss: 1231.93777949757\n",
      "Epoch 83/15000, Loss: 1228.5643287112798\n",
      "Epoch 84/15000, Loss: 1225.2681694848532\n",
      "Epoch 85/15000, Loss: 1222.0465297422518\n",
      "Epoch 86/15000, Loss: 1218.8967666449428\n",
      "Epoch 87/15000, Loss: 1215.816359796466\n",
      "Epoch 88/15000, Loss: 1212.8029048173998\n",
      "Epoch 89/15000, Loss: 1209.8541072704745\n",
      "Epoch 90/15000, Loss: 1206.9677769169487\n",
      "Epoch 91/15000, Loss: 1204.1418222863456\n",
      "Epoch 92/15000, Loss: 1201.3742455428167\n",
      "Epoch 93/15000, Loss: 1198.6631376321488\n",
      "Epoch 94/15000, Loss: 1196.006673694388\n",
      "Epoch 95/15000, Loss: 1193.403108727705\n",
      "Epoch 96/15000, Loss: 1190.850773489955\n",
      "Epoch 97/15000, Loss: 1188.3480706249813\n",
      "Epoch 98/15000, Loss: 1185.8934710013484\n",
      "Epoch 99/15000, Loss: 1183.4855102519034\n",
      "Epoch 100/15000, Loss: 1181.122785502985\n",
      "Epoch 101/15000, Loss: 1178.803952282858\n",
      "Epoch 102/15000, Loss: 1176.5277215992485\n",
      "Epoch 103/15000, Loss: 1174.2928571766597\n",
      "Epoch 104/15000, Loss: 1172.0981728443721\n",
      "Epoch 105/15000, Loss: 1169.942530066719\n",
      "Epoch 106/15000, Loss: 1167.8248356075383\n",
      "Epoch 107/15000, Loss: 1165.7440393212726\n",
      "Epoch 108/15000, Loss: 1163.6991320634713\n",
      "Epoch 109/15000, Loss: 1161.6891437139552\n",
      "Epoch 110/15000, Loss: 1159.7131413062853\n",
      "Epoch 111/15000, Loss: 1157.7702272574281\n",
      "Epoch 112/15000, Loss: 1155.859537692008\n",
      "Epoch 113/15000, Loss: 1153.9802408557473\n",
      "Epoch 114/15000, Loss: 1152.131535613054\n",
      "Epoch 115/15000, Loss: 1150.3126500240462\n",
      "Epoch 116/15000, Loss: 1148.5228399964485\n",
      "Epoch 117/15000, Loss: 1146.7613880082654\n",
      "Epoch 118/15000, Loss: 1145.027601897149\n",
      "Epoch 119/15000, Loss: 1143.3208137128267\n",
      "Epoch 120/15000, Loss: 1141.640378628981\n",
      "Epoch 121/15000, Loss: 1139.9856739113525\n",
      "Epoch 122/15000, Loss: 1138.3560979389051\n",
      "Epoch 123/15000, Loss: 1136.751069275097\n",
      "Epoch 124/15000, Loss: 1135.170025786577\n",
      "Epoch 125/15000, Loss: 1133.6124238066116\n",
      "Epoch 126/15000, Loss: 1132.0777373408234\n",
      "Epoch 127/15000, Loss: 1130.5654573129655\n",
      "Epoch 128/15000, Loss: 1129.0750908485006\n",
      "Epoch 129/15000, Loss: 1127.6061605939449\n",
      "Epoch 130/15000, Loss: 1126.1582040700778\n",
      "Epoch 131/15000, Loss: 1124.7307730571426\n",
      "Epoch 132/15000, Loss: 1123.3234330103408\n",
      "Epoch 133/15000, Loss: 1121.9357625039884\n",
      "Epoch 134/15000, Loss: 1120.5673527028341\n",
      "Epoch 135/15000, Loss: 1119.2178068590129\n",
      "Epoch 136/15000, Loss: 1117.886739833369\n",
      "Epoch 137/15000, Loss: 1116.5737776397827\n",
      "Epoch 138/15000, Loss: 1115.2785570113176\n",
      "Epoch 139/15000, Loss: 1114.0007249870396\n",
      "Epoch 140/15000, Loss: 1112.739938518396\n",
      "Epoch 141/15000, Loss: 1111.4958640941613\n",
      "Epoch 142/15000, Loss: 1110.2681773829488\n",
      "Epoch 143/15000, Loss: 1109.0565628924164\n",
      "Epoch 144/15000, Loss: 1107.8607136442063\n",
      "Epoch 145/15000, Loss: 1106.6803308639442\n",
      "Epoch 146/15000, Loss: 1105.5151236853674\n",
      "Epoch 147/15000, Loss: 1104.3648088679713\n",
      "Epoch 148/15000, Loss: 1103.2291105273987\n",
      "Epoch 149/15000, Loss: 1102.1077598779832\n",
      "Epoch 150/15000, Loss: 1101.000494986749\n",
      "Epoch 151/15000, Loss: 1099.907060538382\n",
      "Epoch 152/15000, Loss: 1098.8272076104956\n",
      "Epoch 153/15000, Loss: 1097.7606934587745\n",
      "Epoch 154/15000, Loss: 1096.7072813114396\n",
      "Epoch 155/15000, Loss: 1095.6667401725779\n",
      "Epoch 156/15000, Loss: 1094.6388446338779\n",
      "Epoch 157/15000, Loss: 1093.623374694381\n",
      "Epoch 158/15000, Loss: 1092.62011558783\n",
      "Epoch 159/15000, Loss: 1091.6288576172028\n",
      "Epoch 160/15000, Loss: 1090.649395996167\n",
      "Epoch 161/15000, Loss: 1089.6815306969859\n",
      "Epoch 162/15000, Loss: 1088.7250663046832\n",
      "Epoch 163/15000, Loss: 1087.779811877065\n",
      "Epoch 164/15000, Loss: 1086.8455808103654\n",
      "Epoch 165/15000, Loss: 1085.9221907102171\n",
      "Epoch 166/15000, Loss: 1085.009463267717\n",
      "Epoch 167/15000, Loss: 1084.107224140285\n",
      "Epoch 168/15000, Loss: 1083.2153028371538\n",
      "Epoch 169/15000, Loss: 1082.3335326092204\n",
      "Epoch 170/15000, Loss: 1081.461750343061\n",
      "Epoch 171/15000, Loss: 1080.5997964589383\n",
      "Epoch 172/15000, Loss: 1079.7475148125534\n",
      "Epoch 173/15000, Loss: 1078.9047526004467\n",
      "Epoch 174/15000, Loss: 1078.0713602687988\n",
      "Epoch 175/15000, Loss: 1077.2471914255295\n",
      "Epoch 176/15000, Loss: 1076.4321027555193\n",
      "Epoch 177/15000, Loss: 1075.6259539387981\n",
      "Epoch 178/15000, Loss: 1074.8286075716042\n",
      "Epoch 179/15000, Loss: 1074.0399290901305\n",
      "Epoch 180/15000, Loss: 1073.259786696889\n",
      "Epoch 181/15000, Loss: 1072.4880512895459\n",
      "Epoch 182/15000, Loss: 1071.7245963921175\n",
      "Epoch 183/15000, Loss: 1070.969298088428\n",
      "Epoch 184/15000, Loss: 1070.222034957758\n",
      "Epoch 185/15000, Loss: 1069.4826880125145\n",
      "Epoch 186/15000, Loss: 1068.751140637933\n",
      "Epoch 187/15000, Loss: 1068.0272785336426\n",
      "Epoch 188/15000, Loss: 1067.3109896570484\n",
      "Epoch 189/15000, Loss: 1066.6021641684817\n",
      "Epoch 190/15000, Loss: 1065.9006943779773\n",
      "Epoch 191/15000, Loss: 1065.206474693679\n",
      "Epoch 192/15000, Loss: 1064.5194015717661\n",
      "Epoch 193/15000, Loss: 1063.839373467856\n",
      "Epoch 194/15000, Loss: 1063.1662907898146\n",
      "Epoch 195/15000, Loss: 1062.5000558519287\n",
      "Epoch 196/15000, Loss: 1061.8405728303778\n",
      "Epoch 197/15000, Loss: 1061.1877477199546\n",
      "Epoch 198/15000, Loss: 1060.5414882920102\n",
      "Epoch 199/15000, Loss: 1059.9017040535393\n",
      "Epoch 200/15000, Loss: 1059.2683062073834\n",
      "Epoch 201/15000, Loss: 1058.6412076135348\n",
      "Epoch 202/15000, Loss: 1058.0203227514342\n",
      "Epoch 203/15000, Loss: 1057.4055676833084\n",
      "Epoch 204/15000, Loss: 1056.7968600184452\n",
      "Epoch 205/15000, Loss: 1056.194118878425\n",
      "Epoch 206/15000, Loss: 1055.5972648632144\n",
      "Epoch 207/15000, Loss: 1055.00622001816\n",
      "Epoch 208/15000, Loss: 1054.4209078018118\n",
      "Epoch 209/15000, Loss: 1053.8412530545438\n",
      "Epoch 210/15000, Loss: 1053.2671819679867\n",
      "Epoch 211/15000, Loss: 1052.69862205519\n",
      "Epoch 212/15000, Loss: 1052.1355021215472\n",
      "Epoch 213/15000, Loss: 1051.5777522364142\n",
      "Epoch 214/15000, Loss: 1051.0253037054272\n",
      "Epoch 215/15000, Loss: 1050.478089043491\n",
      "Epoch 216/15000, Loss: 1049.9360419484212\n",
      "Epoch 217/15000, Loss: 1049.3990972751992\n",
      "Epoch 218/15000, Loss: 1048.8671910108712\n",
      "Epoch 219/15000, Loss: 1048.340260250015\n",
      "Epoch 220/15000, Loss: 1047.8182431707964\n",
      "Epoch 221/15000, Loss: 1047.3010790116005\n",
      "Epoch 222/15000, Loss: 1046.7887080481778\n",
      "Epoch 223/15000, Loss: 1046.281071571365\n",
      "Epoch 224/15000, Loss: 1045.778111865288\n",
      "Epoch 225/15000, Loss: 1045.2797721861034\n",
      "Epoch 226/15000, Loss: 1044.785996741197\n",
      "Epoch 227/15000, Loss: 1044.296730668894\n",
      "Epoch 228/15000, Loss: 1043.8119200186102\n",
      "Epoch 229/15000, Loss: 1043.3315117314798\n",
      "Epoch 230/15000, Loss: 1042.8554536214222\n",
      "Epoch 231/15000, Loss: 1042.3836943566391\n",
      "Epoch 232/15000, Loss: 1041.9161834415331\n",
      "Epoch 233/15000, Loss: 1041.4528711990433\n",
      "Epoch 234/15000, Loss: 1040.993708753395\n",
      "Epoch 235/15000, Loss: 1040.5386480132283\n",
      "Epoch 236/15000, Loss: 1040.0876416551084\n",
      "Epoch 237/15000, Loss: 1039.6406431074456\n",
      "Epoch 238/15000, Loss: 1039.1976065347299\n",
      "Epoch 239/15000, Loss: 1038.7584868221822\n",
      "Epoch 240/15000, Loss: 1038.323239560716\n",
      "Epoch 241/15000, Loss: 1037.8918210322558\n",
      "Epoch 242/15000, Loss: 1037.4641881953933\n",
      "Epoch 243/15000, Loss: 1037.040298671384\n",
      "Epoch 244/15000, Loss: 1036.6201107304312\n",
      "Epoch 245/15000, Loss: 1036.2035832783336\n",
      "Epoch 246/15000, Loss: 1035.790675843382\n",
      "Epoch 247/15000, Loss: 1035.3813485636113\n",
      "Epoch 248/15000, Loss: 1034.9755621743157\n",
      "Epoch 249/15000, Loss: 1034.5732779958591\n",
      "Epoch 250/15000, Loss: 1034.1744579217732\n",
      "Epoch 251/15000, Loss: 1033.7790644071151\n",
      "Epoch 252/15000, Loss: 1033.38706045712\n",
      "Epoch 253/15000, Loss: 1032.9984096160922\n",
      "Epoch 254/15000, Loss: 1032.6130759565729\n",
      "Epoch 255/15000, Loss: 1032.231024068743\n",
      "Epoch 256/15000, Loss: 1031.852219050097\n",
      "Epoch 257/15000, Loss: 1031.4766264953378\n",
      "Epoch 258/15000, Loss: 1031.1042124865126\n",
      "Epoch 259/15000, Loss: 1030.7349435833898\n",
      "Epoch 260/15000, Loss: 1030.3687868140446\n",
      "Epoch 261/15000, Loss: 1030.005709665687\n",
      "Epoch 262/15000, Loss: 1029.6456800756926\n",
      "Epoch 263/15000, Loss: 1029.2886664228422\n",
      "Epoch 264/15000, Loss: 1028.93463751878\n",
      "Epoch 265/15000, Loss: 1028.583562599666\n",
      "Epoch 266/15000, Loss: 1028.2354113180302\n",
      "Epoch 267/15000, Loss: 1027.8901537348156\n",
      "Epoch 268/15000, Loss: 1027.5477603116137\n",
      "Epoch 269/15000, Loss: 1027.2082019030852\n",
      "Epoch 270/15000, Loss: 1026.87144974956\n",
      "Epoch 271/15000, Loss: 1026.5374754698037\n",
      "Epoch 272/15000, Loss: 1026.2062510539838\n",
      "Epoch 273/15000, Loss: 1025.8777488567716\n",
      "Epoch 274/15000, Loss: 1025.551941590629\n",
      "Epoch 275/15000, Loss: 1025.2288023192425\n",
      "Epoch 276/15000, Loss: 1024.9083044511326\n",
      "Epoch 277/15000, Loss: 1024.5904217333966\n",
      "Epoch 278/15000, Loss: 1024.2751282456118\n",
      "Epoch 279/15000, Loss: 1023.9623983938751\n",
      "Epoch 280/15000, Loss: 1023.652206904999\n",
      "Epoch 281/15000, Loss: 1023.3445288208334\n",
      "Epoch 282/15000, Loss: 1023.0393394927262\n",
      "Epoch 283/15000, Loss: 1022.7366145761256\n",
      "Epoch 284/15000, Loss: 1022.4363300252874\n",
      "Epoch 285/15000, Loss: 1022.1384620881387\n",
      "Epoch 286/15000, Loss: 1021.8429873012352\n",
      "Epoch 287/15000, Loss: 1021.5498824848618\n",
      "Epoch 288/15000, Loss: 1021.2591247382327\n",
      "Epoch 289/15000, Loss: 1020.9706914348075\n",
      "Epoch 290/15000, Loss: 1020.6845602177272\n",
      "Epoch 291/15000, Loss: 1020.4007089953468\n",
      "Epoch 292/15000, Loss: 1020.1191159368832\n",
      "Epoch 293/15000, Loss: 1019.8397594681454\n",
      "Epoch 294/15000, Loss: 1019.5626182674008\n",
      "Epoch 295/15000, Loss: 1019.2876712612857\n",
      "Epoch 296/15000, Loss: 1019.0148976208677\n",
      "Epoch 297/15000, Loss: 1018.744276757751\n",
      "Epoch 298/15000, Loss: 1018.4757883203039\n",
      "Epoch 299/15000, Loss: 1018.209412189953\n",
      "Epoch 300/15000, Loss: 1017.9451284775803\n",
      "Epoch 301/15000, Loss: 1017.6829175199695\n",
      "Epoch 302/15000, Loss: 1017.4227598763867\n",
      "Epoch 303/15000, Loss: 1017.1646363251776\n",
      "Epoch 304/15000, Loss: 1016.9085278604866\n",
      "Epoch 305/15000, Loss: 1016.654415689032\n",
      "Epoch 306/15000, Loss: 1016.4022812269382\n",
      "Epoch 307/15000, Loss: 1016.1521060966745\n",
      "Epoch 308/15000, Loss: 1015.9038721240232\n",
      "Epoch 309/15000, Loss: 1015.6575613351367\n",
      "Epoch 310/15000, Loss: 1015.413155953645\n",
      "Epoch 311/15000, Loss: 1015.1706383978486\n",
      "Epoch 312/15000, Loss: 1014.9299912779331\n",
      "Epoch 313/15000, Loss: 1014.6911973932815\n",
      "Epoch 314/15000, Loss: 1014.454239729819\n",
      "Epoch 315/15000, Loss: 1014.2191014574271\n",
      "Epoch 316/15000, Loss: 1013.985765927392\n",
      "Epoch 317/15000, Loss: 1013.754216669938\n",
      "Epoch 318/15000, Loss: 1013.524437391773\n",
      "Epoch 319/15000, Loss: 1013.2964119737156\n",
      "Epoch 320/15000, Loss: 1013.0701244683572\n",
      "Epoch 321/15000, Loss: 1012.8455590977642\n",
      "Epoch 322/15000, Loss: 1012.6227002512336\n",
      "Epoch 323/15000, Loss: 1012.4015324830996\n",
      "Epoch 324/15000, Loss: 1012.1820405105597\n",
      "Epoch 325/15000, Loss: 1011.9642092115765\n",
      "Epoch 326/15000, Loss: 1011.7480236227815\n",
      "Epoch 327/15000, Loss: 1011.533468937449\n",
      "Epoch 328/15000, Loss: 1011.3205305034958\n",
      "Epoch 329/15000, Loss: 1011.1091938215105\n",
      "Epoch 330/15000, Loss: 1010.8994445428386\n",
      "Epoch 331/15000, Loss: 1010.6912684676835\n",
      "Epoch 332/15000, Loss: 1010.4846515432453\n",
      "Epoch 333/15000, Loss: 1010.2795798619068\n",
      "Epoch 334/15000, Loss: 1010.0760396594312\n",
      "Epoch 335/15000, Loss: 1009.8740173132085\n",
      "Epoch 336/15000, Loss: 1009.6734993405156\n",
      "Epoch 337/15000, Loss: 1009.4744723968264\n",
      "Epoch 338/15000, Loss: 1009.2769232741309\n",
      "Epoch 339/15000, Loss: 1009.0808388992888\n",
      "Epoch 340/15000, Loss: 1008.8862063324233\n",
      "Epoch 341/15000, Loss: 1008.6930127653159\n",
      "Epoch 342/15000, Loss: 1008.5012455198544\n",
      "Epoch 343/15000, Loss: 1008.310892046477\n",
      "Epoch 344/15000, Loss: 1008.1219399226754\n",
      "Epoch 345/15000, Loss: 1007.9343768514904\n",
      "Epoch 346/15000, Loss: 1007.7481906600426\n",
      "Epoch 347/15000, Loss: 1007.5633692980891\n",
      "Epoch 348/15000, Loss: 1007.3799008366054\n",
      "Epoch 349/15000, Loss: 1007.1977734663693\n",
      "Epoch 350/15000, Loss: 1007.0169754965876\n",
      "Epoch 351/15000, Loss: 1006.8374953535335\n",
      "Epoch 352/15000, Loss: 1006.6593215792018\n",
      "Epoch 353/15000, Loss: 1006.4824428299938\n",
      "Epoch 354/15000, Loss: 1006.3068478753964\n",
      "Epoch 355/15000, Loss: 1006.1325255967197\n",
      "Epoch 356/15000, Loss: 1005.9594649858144\n",
      "Epoch 357/15000, Loss: 1005.7876551438267\n",
      "Epoch 358/15000, Loss: 1005.6170852799615\n",
      "Epoch 359/15000, Loss: 1005.4477447102815\n",
      "Epoch 360/15000, Loss: 1005.2796228564864\n",
      "Epoch 361/15000, Loss: 1005.1127092447505\n",
      "Epoch 362/15000, Loss: 1004.9469935045369\n",
      "Epoch 363/15000, Loss: 1004.7824653674617\n",
      "Epoch 364/15000, Loss: 1004.6191146661472\n",
      "Epoch 365/15000, Loss: 1004.4569313331028\n",
      "Epoch 366/15000, Loss: 1004.2959053996159\n",
      "Epoch 367/15000, Loss: 1004.1360269946629\n",
      "Epoch 368/15000, Loss: 1003.9772863438207\n",
      "Epoch 369/15000, Loss: 1003.819673768212\n",
      "Epoch 370/15000, Loss: 1003.6631796834445\n",
      "Epoch 371/15000, Loss: 1003.5077945985691\n",
      "Epoch 372/15000, Loss: 1003.3535091150579\n",
      "Epoch 373/15000, Loss: 1003.2003139257962\n",
      "Epoch 374/15000, Loss: 1003.0481998140674\n",
      "Epoch 375/15000, Loss: 1002.897157652573\n",
      "Epoch 376/15000, Loss: 1002.7471784024453\n",
      "Epoch 377/15000, Loss: 1002.5982531122932\n",
      "Epoch 378/15000, Loss: 1002.4503729172429\n",
      "Epoch 379/15000, Loss: 1002.3035290379859\n",
      "Epoch 380/15000, Loss: 1002.1577127798665\n",
      "Epoch 381/15000, Loss: 1002.0129155319372\n",
      "Epoch 382/15000, Loss: 1001.8691287660723\n",
      "Epoch 383/15000, Loss: 1001.7263440360456\n",
      "Epoch 384/15000, Loss: 1001.5845529766614\n",
      "Epoch 385/15000, Loss: 1001.4437473028664\n",
      "Epoch 386/15000, Loss: 1001.3039188088733\n",
      "Epoch 387/15000, Loss: 1001.1650593673223\n",
      "Epoch 388/15000, Loss: 1001.0271609284165\n",
      "Epoch 389/15000, Loss: 1000.8902155190865\n",
      "Epoch 390/15000, Loss: 1000.754215242166\n",
      "Epoch 391/15000, Loss: 1000.6191522755662\n",
      "Epoch 392/15000, Loss: 1000.4850188714701\n",
      "Epoch 393/15000, Loss: 1000.3518073555299\n",
      "Epoch 394/15000, Loss: 1000.2195101260751\n",
      "Epoch 395/15000, Loss: 1000.0881196533301\n",
      "Epoch 396/15000, Loss: 999.9576284786391\n",
      "Epoch 1/15000, Loss: 6194.124500867078\n",
      "Epoch 2/15000, Loss: 5331.786602578283\n",
      "Epoch 3/15000, Loss: 4728.198644759439\n",
      "Epoch 4/15000, Loss: 4277.386114661745\n",
      "Epoch 5/15000, Loss: 3931.376357508715\n",
      "Epoch 6/15000, Loss: 3654.004927971562\n",
      "Epoch 7/15000, Loss: 3423.117414149998\n",
      "Epoch 8/15000, Loss: 3226.286242600047\n",
      "Epoch 9/15000, Loss: 3056.0457456350236\n",
      "Epoch 10/15000, Loss: 2907.324083317988\n",
      "Epoch 11/15000, Loss: 2776.35813335301\n",
      "Epoch 12/15000, Loss: 2660.2599196071137\n",
      "Epoch 13/15000, Loss: 2556.7991549295125\n",
      "Epoch 14/15000, Loss: 2464.2408414465503\n",
      "Epoch 15/15000, Loss: 2381.2046380809024\n",
      "Epoch 16/15000, Loss: 2306.551319424179\n",
      "Epoch 17/15000, Loss: 2239.3025155436994\n",
      "Epoch 18/15000, Loss: 2178.5919605431022\n",
      "Epoch 19/15000, Loss: 2123.6406832006096\n",
      "Epoch 20/15000, Loss: 2073.7469276462234\n",
      "Epoch 21/15000, Loss: 2028.282928816386\n",
      "Epoch 22/15000, Loss: 1986.6932846657705\n",
      "Epoch 23/15000, Loss: 1948.4922636994402\n",
      "Epoch 24/15000, Loss: 1913.2592880442278\n",
      "Epoch 25/15000, Loss: 1880.632896651958\n",
      "Epoch 26/15000, Loss: 1850.3038879163587\n",
      "Epoch 27/15000, Loss: 1822.0083308152703\n",
      "Epoch 28/15000, Loss: 1795.5209481412899\n",
      "Epoch 29/15000, Loss: 1770.6491607937633\n",
      "Epoch 30/15000, Loss: 1747.227907746221\n",
      "Epoch 31/15000, Loss: 1725.1152406460246\n",
      "Epoch 32/15000, Loss: 1704.1886282371545\n",
      "Epoch 33/15000, Loss: 1684.341878926727\n",
      "Epoch 34/15000, Loss: 1665.4825853825096\n",
      "Epoch 35/15000, Loss: 1647.5300022566319\n",
      "Epoch 36/15000, Loss: 1630.4132800689943\n",
      "Epoch 37/15000, Loss: 1614.0699910731844\n",
      "Epoch 38/15000, Loss: 1598.4448946891425\n",
      "Epoch 39/15000, Loss: 1583.4889001174947\n",
      "Epoch 40/15000, Loss: 1569.1581919599387\n",
      "Epoch 41/15000, Loss: 1555.4134912412464\n",
      "Epoch 42/15000, Loss: 1542.2194294347935\n",
      "Epoch 43/15000, Loss: 1529.5440172082713\n",
      "Epoch 44/15000, Loss: 1517.358192867428\n",
      "Epoch 45/15000, Loss: 1505.6354380757298\n",
      "Epoch 46/15000, Loss: 1494.3514505164062\n",
      "Epoch 47/15000, Loss: 1483.4838648548107\n",
      "Epoch 48/15000, Loss: 1473.0120147396985\n",
      "Epoch 49/15000, Loss: 1462.9167297169352\n",
      "Epoch 50/15000, Loss: 1453.1801618680217\n",
      "Epoch 51/15000, Loss: 1443.7856377666271\n",
      "Epoch 52/15000, Loss: 1434.7175319992143\n",
      "Epoch 53/15000, Loss: 1425.9611590437978\n",
      "Epoch 54/15000, Loss: 1417.5026807635754\n",
      "Epoch 55/15000, Loss: 1409.329027164197\n",
      "Epoch 56/15000, Loss: 1401.4278283976412\n",
      "Epoch 57/15000, Loss: 1393.787356282021\n",
      "Epoch 58/15000, Loss: 1386.3964738530499\n",
      "Epoch 59/15000, Loss: 1379.244591676104\n",
      "Epoch 60/15000, Loss: 1372.321629833134\n",
      "Epoch 61/15000, Loss: 1365.6179846595796\n",
      "Epoch 62/15000, Loss: 1359.1244994471915\n",
      "Epoch 63/15000, Loss: 1352.8324384509194\n",
      "Epoch 64/15000, Loss: 1346.7334636444912\n",
      "Epoch 65/15000, Loss: 1340.8196137616128\n",
      "Epoch 66/15000, Loss: 1335.0832852391247\n",
      "Epoch 67/15000, Loss: 1329.517214746754\n",
      "Epoch 68/15000, Loss: 1324.1144630458564\n",
      "Epoch 69/15000, Loss: 1318.8683999685875\n",
      "Epoch 70/15000, Loss: 1313.77269034972\n",
      "Epoch 71/15000, Loss: 1308.821280777051\n",
      "Epoch 72/15000, Loss: 1304.0083870541293\n",
      "Epoch 73/15000, Loss: 1299.328482291281\n",
      "Epoch 74/15000, Loss: 1294.776285558913\n",
      "Epoch 75/15000, Loss: 1290.3467510511155\n",
      "Epoch 76/15000, Loss: 1286.0350577187303\n",
      "Epoch 77/15000, Loss: 1281.836599339311\n",
      "Epoch 78/15000, Loss: 1277.7469749980878\n",
      "Epoch 79/15000, Loss: 1273.7619799585493\n",
      "Epoch 80/15000, Loss: 1269.8775969049884\n",
      "Epoch 81/15000, Loss: 1266.0899875417153\n",
      "Epoch 82/15000, Loss: 1262.3954845356095\n",
      "Epoch 83/15000, Loss: 1258.7905837897326\n",
      "Epoch 84/15000, Loss: 1255.2719370367788\n",
      "Epoch 85/15000, Loss: 1251.836344741547\n",
      "Epoch 86/15000, Loss: 1248.4807493022051\n",
      "Epoch 87/15000, Loss: 1245.2022285402127\n",
      "Epoch 88/15000, Loss: 1241.9979894691207\n",
      "Epoch 89/15000, Loss: 1238.8653623325927\n",
      "Epoch 90/15000, Loss: 1235.8017949021032\n",
      "Epoch 91/15000, Loss: 1232.8048470250442\n",
      "Epoch 92/15000, Loss: 1229.8721854140026\n",
      "Epoch 93/15000, Loss: 1227.001578668253\n",
      "Epoch 94/15000, Loss: 1224.1908925185985\n",
      "Epoch 95/15000, Loss: 1221.438085287027\n",
      "Epoch 96/15000, Loss: 1218.741203552677\n",
      "Epoch 97/15000, Loss: 1216.098378016032\n",
      "Epoch 98/15000, Loss: 1213.5078195532749\n",
      "Epoch 99/15000, Loss: 1210.967815453138\n",
      "Epoch 100/15000, Loss: 1208.4767258286827\n",
      "Epoch 101/15000, Loss: 1206.0329801967903\n",
      "Epoch 102/15000, Loss: 1203.635074218234\n",
      "Epoch 103/15000, Loss: 1201.2815665915425\n",
      "Epoch 104/15000, Loss: 1198.9710760940968\n",
      "Epoch 1/15000, Loss: 6248.451751547335\n",
      "Epoch 2/15000, Loss: 5302.185229365567\n",
      "Epoch 3/15000, Loss: 4666.192944978903\n",
      "Epoch 4/15000, Loss: 4202.1646605598635\n",
      "Epoch 5/15000, Loss: 3852.3140003883095\n",
      "Epoch 6/15000, Loss: 3576.029802918932\n",
      "Epoch 7/15000, Loss: 3348.9253249236526\n",
      "Epoch 8/15000, Loss: 3157.393697593345\n",
      "Epoch 9/15000, Loss: 2993.4478441275382\n",
      "Epoch 10/15000, Loss: 2851.8497514794126\n",
      "Epoch 11/15000, Loss: 2728.733498768199\n",
      "Epoch 12/15000, Loss: 2620.9992335464767\n",
      "Epoch 13/15000, Loss: 2526.073862339973\n",
      "Epoch 14/15000, Loss: 2441.818349758503\n",
      "Epoch 15/15000, Loss: 2366.4744709070806\n",
      "Epoch 16/15000, Loss: 2298.6132313514304\n",
      "Epoch 17/15000, Loss: 2237.0804588720384\n",
      "Epoch 18/15000, Loss: 2180.944703796766\n",
      "Epoch 19/15000, Loss: 2129.4518732473366\n",
      "Epoch 20/15000, Loss: 2081.988139168619\n",
      "Epoch 21/15000, Loss: 2038.050626259522\n",
      "Epoch 22/15000, Loss: 1997.2245493606647\n",
      "Epoch 23/15000, Loss: 1959.1653824062216\n",
      "Epoch 24/15000, Loss: 1923.584865043675\n",
      "Epoch 25/15000, Loss: 1890.239938194837\n",
      "Epoch 26/15000, Loss: 1858.923943944344\n",
      "Epoch 27/15000, Loss: 1829.4596048899314\n",
      "Epoch 28/15000, Loss: 1801.6934217373139\n",
      "Epoch 29/15000, Loss: 1775.4912113878047\n",
      "Epoch 30/15000, Loss: 1750.7345652028127\n",
      "Epoch 31/15000, Loss: 1727.318048565643\n",
      "Epoch 32/15000, Loss: 1705.1469945726708\n",
      "Epoch 33/15000, Loss: 1684.1357702825105\n",
      "Epoch 34/15000, Loss: 1664.206415383033\n",
      "Epoch 35/15000, Loss: 1645.287571417691\n",
      "Epoch 36/15000, Loss: 1627.3136353785546\n",
      "Epoch 37/15000, Loss: 1610.2240848351983\n",
      "Epoch 38/15000, Loss: 1593.962933045358\n",
      "Epoch 39/15000, Loss: 1578.4782818792976\n",
      "Epoch 40/15000, Loss: 1563.721948074599\n",
      "Epoch 41/15000, Loss: 1549.6491445174067\n",
      "Epoch 42/15000, Loss: 1536.2182031161453\n",
      "Epoch 43/15000, Loss: 1523.390329590437\n",
      "Epoch 44/15000, Loss: 1511.129383327061\n",
      "Epoch 45/15000, Loss: 1499.4016775309162\n",
      "Epoch 46/15000, Loss: 1488.175796378076\n",
      "Epoch 47/15000, Loss: 1477.4224268976202\n",
      "Epoch 48/15000, Loss: 1467.1142039848946\n",
      "Epoch 49/15000, Loss: 1457.2255673771408\n",
      "Epoch 50/15000, Loss: 1447.7326296788742\n",
      "Epoch 51/15000, Loss: 1438.613054667755\n",
      "Epoch 52/15000, Loss: 1429.84594518538\n",
      "Epoch 53/15000, Loss: 1421.4117399522474\n",
      "Epoch 54/15000, Loss: 1413.2921186631634\n",
      "Epoch 55/15000, Loss: 1405.46991473121\n",
      "Epoch 56/15000, Loss: 1397.9290350631627\n",
      "Epoch 1/15000, Loss: 6632.800661233981\n",
      "Epoch 2/15000, Loss: 5661.738199447066\n",
      "Epoch 3/15000, Loss: 5001.591524139137\n",
      "Epoch 4/15000, Loss: 4510.286963734318\n",
      "Epoch 5/15000, Loss: 4127.237569791382\n",
      "Epoch 6/15000, Loss: 3817.2389683267006\n",
      "Epoch 7/15000, Loss: 3559.6572450515846\n",
      "Epoch 8/15000, Loss: 3342.2683539257655\n",
      "Epoch 9/15000, Loss: 3157.09924893723\n",
      "Epoch 10/15000, Loss: 2998.2292193214867\n",
      "Epoch 11/15000, Loss: 2860.863117930836\n",
      "Epoch 12/15000, Loss: 2741.0225516285254\n",
      "Epoch 13/15000, Loss: 2635.4512975183593\n",
      "Epoch 14/15000, Loss: 2541.549625405838\n",
      "Epoch 15/15000, Loss: 2457.2860631823937\n",
      "Epoch 16/15000, Loss: 2381.092531127124\n",
      "Epoch 17/15000, Loss: 2311.7606315513253\n",
      "Epoch 18/15000, Loss: 2248.3513757654173\n",
      "Epoch 19/15000, Loss: 2190.1229602222293\n",
      "Epoch 20/15000, Loss: 2136.4762165335214\n",
      "Epoch 21/15000, Loss: 2086.9151298619313\n",
      "Epoch 22/15000, Loss: 2041.0192447486772\n",
      "Epoch 23/15000, Loss: 1998.424953739888\n",
      "Epoch 24/15000, Loss: 1958.8131085288449\n",
      "Epoch 25/15000, Loss: 1921.900902585103\n",
      "Epoch 26/15000, Loss: 1887.436471492914\n",
      "Epoch 27/15000, Loss: 1855.19510659813\n",
      "Epoch 28/15000, Loss: 1824.9763556524983\n",
      "Epoch 29/15000, Loss: 1796.6015775111389\n",
      "Epoch 30/15000, Loss: 1769.9117254654595\n",
      "Epoch 31/15000, Loss: 1744.7652656032953\n",
      "Epoch 32/15000, Loss: 1721.0362095572598\n",
      "Epoch 33/15000, Loss: 1698.6122735392148\n",
      "Epoch 34/15000, Loss: 1677.3931837716184\n",
      "Epoch 35/15000, Loss: 1657.2891443281621\n",
      "Epoch 36/15000, Loss: 1638.2194747763883\n",
      "Epoch 37/15000, Loss: 1620.1114162209635\n",
      "Epoch 38/15000, Loss: 1602.8990973447337\n",
      "Epoch 39/15000, Loss: 1586.5226473774535\n",
      "Epoch 1/15000, Loss: 6505.486112466006\n",
      "Epoch 2/15000, Loss: 5504.486924539144\n",
      "Epoch 3/15000, Loss: 4827.905368903796\n",
      "Epoch 4/15000, Loss: 4334.987995489853\n",
      "Epoch 5/15000, Loss: 3959.1843715065424\n",
      "Epoch 6/15000, Loss: 3658.6305769954383\n",
      "Epoch 7/15000, Loss: 3409.958010628081\n",
      "Epoch 8/15000, Loss: 3200.0723552970476\n",
      "Epoch 9/15000, Loss: 3020.748550106914\n",
      "Epoch 10/15000, Loss: 2866.1600723643705\n",
      "Epoch 11/15000, Loss: 2731.858323423259\n",
      "Epoch 12/15000, Loss: 2614.3293025701714\n",
      "Epoch 13/15000, Loss: 2510.763489309178\n",
      "Epoch 14/15000, Loss: 2418.906067831942\n",
      "Epoch 15/15000, Loss: 2336.9428809735873\n",
      "Epoch 16/15000, Loss: 2263.4082477406705\n",
      "Epoch 17/15000, Loss: 2197.1103286922644\n",
      "Epoch 18/15000, Loss: 2137.0718513232587\n",
      "Epoch 19/15000, Loss: 2082.483982288791\n",
      "Epoch 20/15000, Loss: 2032.6709061577383\n",
      "Epoch 21/15000, Loss: 1987.0627550604277\n",
      "Epoch 22/15000, Loss: 1945.1748794059813\n",
      "Epoch 23/15000, Loss: 1906.5918827020296\n",
      "Epoch 24/15000, Loss: 1870.9552386273795\n",
      "Epoch 25/15000, Loss: 1837.953617150363\n",
      "Epoch 26/15000, Loss: 1807.315269740421\n",
      "Epoch 27/15000, Loss: 1778.8019822695633\n",
      "Epoch 1/15000, Loss: 6501.163470789463\n",
      "Epoch 2/15000, Loss: 5437.147028356829\n",
      "Epoch 3/15000, Loss: 4728.772482696574\n",
      "Epoch 4/15000, Loss: 4219.489093205013\n",
      "Epoch 5/15000, Loss: 3840.6008539276877\n",
      "Epoch 6/15000, Loss: 3546.4352818032853\n",
      "Epoch 7/15000, Loss: 3309.320413069963\n",
      "Epoch 8/15000, Loss: 3113.0476896036607\n",
      "Epoch 9/15000, Loss: 2947.5703972313486\n",
      "Epoch 10/15000, Loss: 2806.1522336567164\n",
      "Epoch 11/15000, Loss: 2683.9683906330433\n",
      "Epoch 12/15000, Loss: 2577.4021957954965\n",
      "Epoch 13/15000, Loss: 2483.665303336851\n",
      "Epoch 14/15000, Loss: 2400.5711614642464\n",
      "Epoch 15/15000, Loss: 2326.3852298758798\n",
      "Epoch 16/15000, Loss: 2259.7182228864526\n",
      "Epoch 17/15000, Loss: 2199.4471604402897\n",
      "Epoch 18/15000, Loss: 2144.6563169161395\n",
      "Epoch 19/15000, Loss: 2094.5929297195635\n",
      "Epoch 20/15000, Loss: 2048.633810815081\n",
      "Epoch 21/15000, Loss: 2006.25989933785\n",
      "Epoch 22/15000, Loss: 1967.0365607212473\n",
      "Epoch 1/15000, Loss: 6526.955425662087\n",
      "Epoch 2/15000, Loss: 5556.196392560067\n",
      "Epoch 3/15000, Loss: 4891.856331238527\n",
      "Epoch 4/15000, Loss: 4387.643968736627\n",
      "Epoch 5/15000, Loss: 3994.523354543228\n",
      "Epoch 6/15000, Loss: 3679.7816892312053\n",
      "Epoch 7/15000, Loss: 3420.4705690703645\n",
      "Epoch 8/15000, Loss: 3202.2971014109985\n",
      "Epoch 9/15000, Loss: 3016.3568108218233\n",
      "Epoch 10/15000, Loss: 2856.595701489426\n",
      "Epoch 11/15000, Loss: 2718.505479989028\n",
      "Epoch 12/15000, Loss: 2598.523416323101\n",
      "Epoch 13/15000, Loss: 2493.740462017571\n",
      "Epoch 14/15000, Loss: 2401.7412249679464\n",
      "Epoch 15/15000, Loss: 2320.5064822569407\n",
      "Epoch 16/15000, Loss: 2248.347792659764\n",
      "Epoch 17/15000, Loss: 2183.858375216402\n",
      "Epoch 1/15000, Loss: 6583.292047997902\n",
      "Epoch 2/15000, Loss: 5659.068345444381\n",
      "Epoch 3/15000, Loss: 5008.635661093722\n",
      "Epoch 4/15000, Loss: 4517.17582124525\n",
      "Epoch 5/15000, Loss: 4132.85416414951\n",
      "Epoch 6/15000, Loss: 3820.41770310679\n",
      "Epoch 7/15000, Loss: 3558.5326107390383\n",
      "Epoch 8/15000, Loss: 3334.844807358873\n",
      "Epoch 9/15000, Loss: 3141.5075316784605\n",
      "Epoch 10/15000, Loss: 2973.0246456818577\n",
      "Epoch 11/15000, Loss: 2825.3368437533622\n",
      "Epoch 12/15000, Loss: 2695.3302023626256\n",
      "Epoch 13/15000, Loss: 2580.512551285816\n",
      "Epoch 14/15000, Loss: 2478.8056654782363\n",
      "Epoch 15/15000, Loss: 2388.4263734495103\n",
      "Epoch 1/15000, Loss: 6966.445601895782\n",
      "Epoch 2/15000, Loss: 5880.3741673509385\n",
      "Epoch 3/15000, Loss: 5133.884772497492\n",
      "Epoch 4/15000, Loss: 4573.523111640081\n",
      "Epoch 5/15000, Loss: 4147.685706757962\n",
      "Epoch 6/15000, Loss: 3815.1379967724774\n",
      "Epoch 7/15000, Loss: 3544.8103127414547\n",
      "Epoch 8/15000, Loss: 3318.364803032977\n",
      "Epoch 9/15000, Loss: 3125.31920586457\n",
      "Epoch 10/15000, Loss: 2959.0361138401463\n",
      "Epoch 11/15000, Loss: 2814.8112743859965\n",
      "Epoch 12/15000, Loss: 2689.029777214398\n",
      "Epoch 13/15000, Loss: 2578.7689873202708\n",
      "Epoch 1/15000, Loss: 6049.238875797181\n",
      "Epoch 2/15000, Loss: 5159.788732363089\n",
      "Epoch 3/15000, Loss: 4524.996435369546\n",
      "Epoch 4/15000, Loss: 4087.0093384552897\n",
      "Epoch 5/15000, Loss: 3770.3717560203017\n",
      "Epoch 6/15000, Loss: 3518.874656742858\n",
      "Epoch 7/15000, Loss: 3307.7540973877094\n",
      "Epoch 8/15000, Loss: 3126.3162216013907\n",
      "Epoch 9/15000, Loss: 2968.881816005875\n",
      "Epoch 10/15000, Loss: 2831.630441017153\n",
      "Epoch 11/15000, Loss: 2711.494319201063\n",
      "Epoch 1/15000, Loss: 6084.763943712656\n",
      "Epoch 2/15000, Loss: 5240.568047000346\n",
      "Epoch 3/15000, Loss: 4638.686271790788\n",
      "Epoch 4/15000, Loss: 4176.232197573462\n",
      "Epoch 5/15000, Loss: 3819.0077081698614\n",
      "Epoch 6/15000, Loss: 3536.307442295716\n",
      "Epoch 7/15000, Loss: 3305.90846810784\n",
      "Epoch 8/15000, Loss: 3113.8824425988887\n",
      "Epoch 9/15000, Loss: 2951.090064930034\n",
      "Epoch 1/15000, Loss: 6482.951014679767\n",
      "Epoch 2/15000, Loss: 5579.042035112665\n",
      "Epoch 3/15000, Loss: 4927.382779605566\n",
      "Epoch 4/15000, Loss: 4427.712442183915\n",
      "Epoch 5/15000, Loss: 4040.827508820073\n",
      "Epoch 6/15000, Loss: 3735.057235189667\n",
      "Epoch 7/15000, Loss: 3485.443553399486\n",
      "Epoch 8/15000, Loss: 3275.3375489294854\n",
      "Epoch 9/15000, Loss: 3094.539832979625\n",
      "Epoch 1/15000, Loss: 6709.483960884168\n",
      "Epoch 2/15000, Loss: 5766.006914454843\n",
      "Epoch 3/15000, Loss: 5081.847617455555\n",
      "Epoch 4/15000, Loss: 4549.017644707542\n",
      "Epoch 5/15000, Loss: 4128.617366754377\n",
      "Epoch 6/15000, Loss: 3793.087409173889\n",
      "Epoch 7/15000, Loss: 3520.6067864029847\n",
      "Epoch 8/15000, Loss: 3295.2913602196463\n",
      "Epoch 1/15000, Loss: 6508.181077851977\n",
      "Epoch 2/15000, Loss: 5627.467345379976\n",
      "Epoch 3/15000, Loss: 4993.929261748171\n",
      "Epoch 4/15000, Loss: 4490.10796609856\n",
      "Epoch 5/15000, Loss: 4090.8346270748566\n",
      "Epoch 6/15000, Loss: 3773.2972122017027\n",
      "Epoch 7/15000, Loss: 3514.314003815477\n",
      "Epoch 1/15000, Loss: 6727.894315669654\n",
      "Epoch 2/15000, Loss: 5740.392160162369\n",
      "Epoch 3/15000, Loss: 5055.420769206205\n",
      "Epoch 4/15000, Loss: 4536.4410691882895\n",
      "Epoch 5/15000, Loss: 4134.341073805063\n",
      "Epoch 6/15000, Loss: 3815.9109182624884\n",
      "Epoch 7/15000, Loss: 3556.887147525616\n",
      "Epoch 1/15000, Loss: 6441.698710285594\n",
      "Epoch 2/15000, Loss: 5513.648032765723\n",
      "Epoch 3/15000, Loss: 4887.660475694602\n",
      "Epoch 4/15000, Loss: 4410.392322833052\n",
      "Epoch 5/15000, Loss: 4033.139719850891\n",
      "Epoch 6/15000, Loss: 3730.5106234073123\n",
      "Epoch 1/15000, Loss: 5993.10066973528\n",
      "Epoch 2/15000, Loss: 5119.066482592583\n",
      "Epoch 3/15000, Loss: 4503.013532950416\n",
      "Epoch 4/15000, Loss: 4044.279401108644\n",
      "Epoch 1/15000, Loss: 6467.900330030621\n",
      "Epoch 2/15000, Loss: 5527.6418368109225\n",
      "Epoch 3/15000, Loss: 4854.771755178805\n",
      "Epoch 4/15000, Loss: 4339.584319997258\n",
      "Epoch 1/15000, Loss: 6428.554262555333\n",
      "Epoch 2/15000, Loss: 5494.520633934804\n",
      "Epoch 3/15000, Loss: 4832.050584702372\n",
      "Epoch 4/15000, Loss: 4326.733827622018\n",
      "Epoch 1/15000, Loss: 6151.790960428159\n",
      "Epoch 2/15000, Loss: 5272.590762091175\n",
      "Epoch 3/15000, Loss: 4681.792373834909\n",
      "Epoch 1/15000, Loss: 6298.917478926155\n",
      "Epoch 2/15000, Loss: 5447.671587359797\n",
      "Epoch 3/15000, Loss: 4843.214294453273\n"
     ]
    },
    {
     "data": {
      "application/vnd.plotly.v1+json": {
       "config": {
        "plotlyServerURL": "https://plot.ly"
       },
       "data": [
        {
         "mode": "lines+markers",
         "type": "scatter",
         "x": [
          1000,
          1200,
          1400,
          1600,
          1800,
          2000,
          2200,
          2400,
          2600,
          2800,
          3000,
          3200,
          3400,
          3600,
          3800,
          4000,
          4200,
          4400,
          4600,
          4800,
          5000
         ],
         "y": [
          396,
          104,
          56,
          39,
          27,
          22,
          17,
          15,
          13,
          11,
          9,
          9,
          8,
          7,
          7,
          6,
          4,
          4,
          4,
          3,
          3
         ]
        }
       ],
       "layout": {
        "font": {
         "size": 20
        },
        "height": 720,
        "template": {
         "data": {
          "bar": [
           {
            "error_x": {
             "color": "#2a3f5f"
            },
            "error_y": {
             "color": "#2a3f5f"
            },
            "marker": {
             "line": {
              "color": "#E5ECF6",
              "width": 0.5
             },
             "pattern": {
              "fillmode": "overlay",
              "size": 10,
              "solidity": 0.2
             }
            },
            "type": "bar"
           }
          ],
          "barpolar": [
           {
            "marker": {
             "line": {
              "color": "#E5ECF6",
              "width": 0.5
             },
             "pattern": {
              "fillmode": "overlay",
              "size": 10,
              "solidity": 0.2
             }
            },
            "type": "barpolar"
           }
          ],
          "carpet": [
           {
            "aaxis": {
             "endlinecolor": "#2a3f5f",
             "gridcolor": "white",
             "linecolor": "white",
             "minorgridcolor": "white",
             "startlinecolor": "#2a3f5f"
            },
            "baxis": {
             "endlinecolor": "#2a3f5f",
             "gridcolor": "white",
             "linecolor": "white",
             "minorgridcolor": "white",
             "startlinecolor": "#2a3f5f"
            },
            "type": "carpet"
           }
          ],
          "choropleth": [
           {
            "colorbar": {
             "outlinewidth": 0,
             "ticks": ""
            },
            "type": "choropleth"
           }
          ],
          "contour": [
           {
            "colorbar": {
             "outlinewidth": 0,
             "ticks": ""
            },
            "colorscale": [
             [
              0,
              "#0d0887"
             ],
             [
              0.1111111111111111,
              "#46039f"
             ],
             [
              0.2222222222222222,
              "#7201a8"
             ],
             [
              0.3333333333333333,
              "#9c179e"
             ],
             [
              0.4444444444444444,
              "#bd3786"
             ],
             [
              0.5555555555555556,
              "#d8576b"
             ],
             [
              0.6666666666666666,
              "#ed7953"
             ],
             [
              0.7777777777777778,
              "#fb9f3a"
             ],
             [
              0.8888888888888888,
              "#fdca26"
             ],
             [
              1,
              "#f0f921"
             ]
            ],
            "type": "contour"
           }
          ],
          "contourcarpet": [
           {
            "colorbar": {
             "outlinewidth": 0,
             "ticks": ""
            },
            "type": "contourcarpet"
           }
          ],
          "heatmap": [
           {
            "colorbar": {
             "outlinewidth": 0,
             "ticks": ""
            },
            "colorscale": [
             [
              0,
              "#0d0887"
             ],
             [
              0.1111111111111111,
              "#46039f"
             ],
             [
              0.2222222222222222,
              "#7201a8"
             ],
             [
              0.3333333333333333,
              "#9c179e"
             ],
             [
              0.4444444444444444,
              "#bd3786"
             ],
             [
              0.5555555555555556,
              "#d8576b"
             ],
             [
              0.6666666666666666,
              "#ed7953"
             ],
             [
              0.7777777777777778,
              "#fb9f3a"
             ],
             [
              0.8888888888888888,
              "#fdca26"
             ],
             [
              1,
              "#f0f921"
             ]
            ],
            "type": "heatmap"
           }
          ],
          "heatmapgl": [
           {
            "colorbar": {
             "outlinewidth": 0,
             "ticks": ""
            },
            "colorscale": [
             [
              0,
              "#0d0887"
             ],
             [
              0.1111111111111111,
              "#46039f"
             ],
             [
              0.2222222222222222,
              "#7201a8"
             ],
             [
              0.3333333333333333,
              "#9c179e"
             ],
             [
              0.4444444444444444,
              "#bd3786"
             ],
             [
              0.5555555555555556,
              "#d8576b"
             ],
             [
              0.6666666666666666,
              "#ed7953"
             ],
             [
              0.7777777777777778,
              "#fb9f3a"
             ],
             [
              0.8888888888888888,
              "#fdca26"
             ],
             [
              1,
              "#f0f921"
             ]
            ],
            "type": "heatmapgl"
           }
          ],
          "histogram": [
           {
            "marker": {
             "pattern": {
              "fillmode": "overlay",
              "size": 10,
              "solidity": 0.2
             }
            },
            "type": "histogram"
           }
          ],
          "histogram2d": [
           {
            "colorbar": {
             "outlinewidth": 0,
             "ticks": ""
            },
            "colorscale": [
             [
              0,
              "#0d0887"
             ],
             [
              0.1111111111111111,
              "#46039f"
             ],
             [
              0.2222222222222222,
              "#7201a8"
             ],
             [
              0.3333333333333333,
              "#9c179e"
             ],
             [
              0.4444444444444444,
              "#bd3786"
             ],
             [
              0.5555555555555556,
              "#d8576b"
             ],
             [
              0.6666666666666666,
              "#ed7953"
             ],
             [
              0.7777777777777778,
              "#fb9f3a"
             ],
             [
              0.8888888888888888,
              "#fdca26"
             ],
             [
              1,
              "#f0f921"
             ]
            ],
            "type": "histogram2d"
           }
          ],
          "histogram2dcontour": [
           {
            "colorbar": {
             "outlinewidth": 0,
             "ticks": ""
            },
            "colorscale": [
             [
              0,
              "#0d0887"
             ],
             [
              0.1111111111111111,
              "#46039f"
             ],
             [
              0.2222222222222222,
              "#7201a8"
             ],
             [
              0.3333333333333333,
              "#9c179e"
             ],
             [
              0.4444444444444444,
              "#bd3786"
             ],
             [
              0.5555555555555556,
              "#d8576b"
             ],
             [
              0.6666666666666666,
              "#ed7953"
             ],
             [
              0.7777777777777778,
              "#fb9f3a"
             ],
             [
              0.8888888888888888,
              "#fdca26"
             ],
             [
              1,
              "#f0f921"
             ]
            ],
            "type": "histogram2dcontour"
           }
          ],
          "mesh3d": [
           {
            "colorbar": {
             "outlinewidth": 0,
             "ticks": ""
            },
            "type": "mesh3d"
           }
          ],
          "parcoords": [
           {
            "line": {
             "colorbar": {
              "outlinewidth": 0,
              "ticks": ""
             }
            },
            "type": "parcoords"
           }
          ],
          "pie": [
           {
            "automargin": true,
            "type": "pie"
           }
          ],
          "scatter": [
           {
            "fillpattern": {
             "fillmode": "overlay",
             "size": 10,
             "solidity": 0.2
            },
            "type": "scatter"
           }
          ],
          "scatter3d": [
           {
            "line": {
             "colorbar": {
              "outlinewidth": 0,
              "ticks": ""
             }
            },
            "marker": {
             "colorbar": {
              "outlinewidth": 0,
              "ticks": ""
             }
            },
            "type": "scatter3d"
           }
          ],
          "scattercarpet": [
           {
            "marker": {
             "colorbar": {
              "outlinewidth": 0,
              "ticks": ""
             }
            },
            "type": "scattercarpet"
           }
          ],
          "scattergeo": [
           {
            "marker": {
             "colorbar": {
              "outlinewidth": 0,
              "ticks": ""
             }
            },
            "type": "scattergeo"
           }
          ],
          "scattergl": [
           {
            "marker": {
             "colorbar": {
              "outlinewidth": 0,
              "ticks": ""
             }
            },
            "type": "scattergl"
           }
          ],
          "scattermapbox": [
           {
            "marker": {
             "colorbar": {
              "outlinewidth": 0,
              "ticks": ""
             }
            },
            "type": "scattermapbox"
           }
          ],
          "scatterpolar": [
           {
            "marker": {
             "colorbar": {
              "outlinewidth": 0,
              "ticks": ""
             }
            },
            "type": "scatterpolar"
           }
          ],
          "scatterpolargl": [
           {
            "marker": {
             "colorbar": {
              "outlinewidth": 0,
              "ticks": ""
             }
            },
            "type": "scatterpolargl"
           }
          ],
          "scatterternary": [
           {
            "marker": {
             "colorbar": {
              "outlinewidth": 0,
              "ticks": ""
             }
            },
            "type": "scatterternary"
           }
          ],
          "surface": [
           {
            "colorbar": {
             "outlinewidth": 0,
             "ticks": ""
            },
            "colorscale": [
             [
              0,
              "#0d0887"
             ],
             [
              0.1111111111111111,
              "#46039f"
             ],
             [
              0.2222222222222222,
              "#7201a8"
             ],
             [
              0.3333333333333333,
              "#9c179e"
             ],
             [
              0.4444444444444444,
              "#bd3786"
             ],
             [
              0.5555555555555556,
              "#d8576b"
             ],
             [
              0.6666666666666666,
              "#ed7953"
             ],
             [
              0.7777777777777778,
              "#fb9f3a"
             ],
             [
              0.8888888888888888,
              "#fdca26"
             ],
             [
              1,
              "#f0f921"
             ]
            ],
            "type": "surface"
           }
          ],
          "table": [
           {
            "cells": {
             "fill": {
              "color": "#EBF0F8"
             },
             "line": {
              "color": "white"
             }
            },
            "header": {
             "fill": {
              "color": "#C8D4E3"
             },
             "line": {
              "color": "white"
             }
            },
            "type": "table"
           }
          ]
         },
         "layout": {
          "annotationdefaults": {
           "arrowcolor": "#2a3f5f",
           "arrowhead": 0,
           "arrowwidth": 1
          },
          "autotypenumbers": "strict",
          "coloraxis": {
           "colorbar": {
            "outlinewidth": 0,
            "ticks": ""
           }
          },
          "colorscale": {
           "diverging": [
            [
             0,
             "#8e0152"
            ],
            [
             0.1,
             "#c51b7d"
            ],
            [
             0.2,
             "#de77ae"
            ],
            [
             0.3,
             "#f1b6da"
            ],
            [
             0.4,
             "#fde0ef"
            ],
            [
             0.5,
             "#f7f7f7"
            ],
            [
             0.6,
             "#e6f5d0"
            ],
            [
             0.7,
             "#b8e186"
            ],
            [
             0.8,
             "#7fbc41"
            ],
            [
             0.9,
             "#4d9221"
            ],
            [
             1,
             "#276419"
            ]
           ],
           "sequential": [
            [
             0,
             "#0d0887"
            ],
            [
             0.1111111111111111,
             "#46039f"
            ],
            [
             0.2222222222222222,
             "#7201a8"
            ],
            [
             0.3333333333333333,
             "#9c179e"
            ],
            [
             0.4444444444444444,
             "#bd3786"
            ],
            [
             0.5555555555555556,
             "#d8576b"
            ],
            [
             0.6666666666666666,
             "#ed7953"
            ],
            [
             0.7777777777777778,
             "#fb9f3a"
            ],
            [
             0.8888888888888888,
             "#fdca26"
            ],
            [
             1,
             "#f0f921"
            ]
           ],
           "sequentialminus": [
            [
             0,
             "#0d0887"
            ],
            [
             0.1111111111111111,
             "#46039f"
            ],
            [
             0.2222222222222222,
             "#7201a8"
            ],
            [
             0.3333333333333333,
             "#9c179e"
            ],
            [
             0.4444444444444444,
             "#bd3786"
            ],
            [
             0.5555555555555556,
             "#d8576b"
            ],
            [
             0.6666666666666666,
             "#ed7953"
            ],
            [
             0.7777777777777778,
             "#fb9f3a"
            ],
            [
             0.8888888888888888,
             "#fdca26"
            ],
            [
             1,
             "#f0f921"
            ]
           ]
          },
          "colorway": [
           "#636efa",
           "#EF553B",
           "#00cc96",
           "#ab63fa",
           "#FFA15A",
           "#19d3f3",
           "#FF6692",
           "#B6E880",
           "#FF97FF",
           "#FECB52"
          ],
          "font": {
           "color": "#2a3f5f"
          },
          "geo": {
           "bgcolor": "white",
           "lakecolor": "white",
           "landcolor": "#E5ECF6",
           "showlakes": true,
           "showland": true,
           "subunitcolor": "white"
          },
          "hoverlabel": {
           "align": "left"
          },
          "hovermode": "closest",
          "mapbox": {
           "style": "light"
          },
          "paper_bgcolor": "white",
          "plot_bgcolor": "#E5ECF6",
          "polar": {
           "angularaxis": {
            "gridcolor": "white",
            "linecolor": "white",
            "ticks": ""
           },
           "bgcolor": "#E5ECF6",
           "radialaxis": {
            "gridcolor": "white",
            "linecolor": "white",
            "ticks": ""
           }
          },
          "scene": {
           "xaxis": {
            "backgroundcolor": "#E5ECF6",
            "gridcolor": "white",
            "gridwidth": 2,
            "linecolor": "white",
            "showbackground": true,
            "ticks": "",
            "zerolinecolor": "white"
           },
           "yaxis": {
            "backgroundcolor": "#E5ECF6",
            "gridcolor": "white",
            "gridwidth": 2,
            "linecolor": "white",
            "showbackground": true,
            "ticks": "",
            "zerolinecolor": "white"
           },
           "zaxis": {
            "backgroundcolor": "#E5ECF6",
            "gridcolor": "white",
            "gridwidth": 2,
            "linecolor": "white",
            "showbackground": true,
            "ticks": "",
            "zerolinecolor": "white"
           }
          },
          "shapedefaults": {
           "line": {
            "color": "#2a3f5f"
           }
          },
          "ternary": {
           "aaxis": {
            "gridcolor": "white",
            "linecolor": "white",
            "ticks": ""
           },
           "baxis": {
            "gridcolor": "white",
            "linecolor": "white",
            "ticks": ""
           },
           "bgcolor": "#E5ECF6",
           "caxis": {
            "gridcolor": "white",
            "linecolor": "white",
            "ticks": ""
           }
          },
          "title": {
           "x": 0.05
          },
          "xaxis": {
           "automargin": true,
           "gridcolor": "white",
           "linecolor": "white",
           "ticks": "",
           "title": {
            "standoff": 15
           },
           "zerolinecolor": "white",
           "zerolinewidth": 2
          },
          "yaxis": {
           "automargin": true,
           "gridcolor": "white",
           "linecolor": "white",
           "ticks": "",
           "title": {
            "standoff": 15
           },
           "zerolinecolor": "white",
           "zerolinewidth": 2
          }
         }
        },
        "title": {
         "text": "Зависимость количества итераций обучения от значения максимальной ошибки"
        },
        "width": 1280,
        "xaxis": {
         "title": {
          "text": "Значение максимальной ошибки"
         }
        },
        "yaxis": {
         "title": {
          "text": "Количество итераций обучения"
         }
        }
       }
      }
     },
     "metadata": {},
     "output_type": "display_data"
    }
   ],
   "source": [
    "max_errors = list(range(1000, 5200, 200))\n",
    "epochs_amount: list[int] = []\n",
    "for err in max_errors:    \n",
    "    dl = LRNN(n, 50, 0.001)\n",
    "    dl.train(train, 15000, learn_by_loss=True, max_loss=err)\n",
    "    epochs_amount.append(dl.epoch)\n",
    "fig = go.Figure()\n",
    "fig.add_trace(go.Scatter(x=max_errors, y=epochs_amount, mode='lines+markers'))\n",
    "fig.update_layout(title='Зависимость количества итераций обучения от значения максимальной ошибки',\n",
    "                  xaxis_title='Значение максимальной ошибки',\n",
    "                  yaxis_title='Количество итераций обучения',\n",
    "                  height=720, width=1280,\n",
    "                  font=dict(size=20))\n",
    "fig.show()"
   ]
  },
  {
   "cell_type": "markdown",
   "metadata": {},
   "source": [
    "## Relationship between image and epochs"
   ]
  },
  {
   "cell_type": "code",
   "execution_count": 15,
   "metadata": {},
   "outputs": [
    {
     "name": "stdout",
     "output_type": "stream",
     "text": [
      "Z = 1.9230473377332657\n",
      "Epoch 1/15000, Loss: 8003.214498963566\n",
      "Epoch 2/15000, Loss: 4563.315128646395\n",
      "Epoch 3/15000, Loss: 3559.5604225955094\n",
      "Epoch 4/15000, Loss: 3089.341501964721\n",
      "Epoch 5/15000, Loss: 2795.998341544916\n",
      "Epoch 6/15000, Loss: 2581.282103346765\n",
      "Epoch 7/15000, Loss: 2410.983855255077\n",
      "Epoch 8/15000, Loss: 2269.9226586297596\n",
      "Epoch 9/15000, Loss: 2149.989224130313\n",
      "Epoch 10/15000, Loss: 2046.252988580043\n",
      "Epoch 11/15000, Loss: 1955.427270050387\n",
      "Epoch 12/15000, Loss: 1875.166387234958\n",
      "Epoch 13/15000, Loss: 1803.7072188689506\n",
      "Epoch 14/15000, Loss: 1739.6722413897114\n",
      "Epoch 15/15000, Loss: 1681.9550972282593\n",
      "Epoch 16/15000, Loss: 1629.6506142744443\n",
      "Epoch 17/15000, Loss: 1582.009491289099\n",
      "Epoch 18/15000, Loss: 1538.4069948001559\n",
      "Epoch 19/15000, Loss: 1498.3198967770945\n",
      "19\n"
     ]
    }
   ],
   "source": [
    "# Collecting everything\n",
    "\n",
    "block_width = 10\n",
    "block_height = 10\n",
    "\n",
    "n = block_height * block_width\n",
    "# Hidden layer neuron amount\n",
    "p = 50 \n",
    "\n",
    "img = Image.open('images/winter.jpg')\n",
    "img_array = np.asarray(img)\n",
    "shape = img_array.shape\n",
    "blocks = image_to_blocks(img_array, block_height, block_width, overlap=0)\n",
    "\n",
    "l = len(blocks)\n",
    "# Compression coeff\n",
    "print('Z =', (n*l) / ((n+l) * p+2))\n",
    "\n",
    "color_df = ((2 * blocks / MAX_RGB_VALUE) - 1).reshape(len(blocks), -1, 3).transpose(0, 2, 1).reshape(-1, block_height * block_width)\n",
    "train = np.matrix(color_df[np.random.choice(color_df.shape[0], int(color_df.shape[0] * 0.05))])\n",
    "\n",
    "network = LRNN(n, p, 0.001)\n",
    "network.train(train, 15000, learn_by_loss=True, max_loss=1500)\n",
    "\n",
    "print(network.epoch)\n",
    "\n",
    "# compressed = compress_image(network.W_enc, img_array, COLOR_CHANNELS_AMOUNT, block_height, block_width, 0)\n",
    "# dimg = decompress_image(network.W_dec, compressed, shape, COLOR_CHANNELS_AMOUNT, block_height, block_width, 0)\n",
    "# dimg_array = np.asarray(dimg)\n",
    "# dimg.save('compression-decompression_test.jpg')"
   ]
  }
 ],
 "metadata": {
  "kernelspec": {
   "display_name": ".venv",
   "language": "python",
   "name": "python3"
  },
  "language_info": {
   "codemirror_mode": {
    "name": "ipython",
    "version": 3
   },
   "file_extension": ".py",
   "mimetype": "text/x-python",
   "name": "python",
   "nbconvert_exporter": "python",
   "pygments_lexer": "ipython3",
   "version": "3.11.9"
  }
 },
 "nbformat": 4,
 "nbformat_minor": 2
}
