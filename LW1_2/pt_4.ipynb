{
 "cells": [
  {
   "cell_type": "code",
   "execution_count": 2,
   "metadata": {},
   "outputs": [],
   "source": [
    "import numpy as np\n",
    "import plotly.graph_objects as go"
   ]
  },
  {
   "cell_type": "code",
   "execution_count": 6,
   "metadata": {},
   "outputs": [
    {
     "name": "stdout",
     "output_type": "stream",
     "text": [
      "W(1) = [[1 2]] + 1 * [[1 1]] * 1 = [[1 2]]\n",
      "W(2) = [[1 2]] + 1 * [[ 1 -1]] * 0 = [[1 2]]\n",
      "W(3) = [[1 2]] + 1 * [[-1 -1]] * 0 = [[1 2]]\n",
      "W(4) = [[0 3]] + 1 * [[-1  1]] * 1 = [[0 3]]\n"
     ]
    }
   ],
   "source": [
    "# Task 1\n",
    "def activation(s):\n",
    "    return np.sign(1 + np.sign(s))[0, 0]\n",
    "\n",
    "w_start = np.matrix([0, 1])\n",
    "x = np.matrix([[1, 1], [1, -1], [-1, -1], [-1, 1]])\n",
    "alpha = 1\n",
    "w = w_start\n",
    "\n",
    "for i in range(4):\n",
    "    l = np.dot(w, x[i].T)\n",
    "    f = activation(l)    \n",
    "    w = w + alpha * x[i] * f\n",
    "    print(f'W({i + 1}) = {w} + {alpha} * {x[i]} * {f} = {w}')"
   ]
  }
 ],
 "metadata": {
  "kernelspec": {
   "display_name": ".venv",
   "language": "python",
   "name": "python3"
  },
  "language_info": {
   "codemirror_mode": {
    "name": "ipython",
    "version": 3
   },
   "file_extension": ".py",
   "mimetype": "text/x-python",
   "name": "python",
   "nbconvert_exporter": "python",
   "pygments_lexer": "ipython3",
   "version": "3.11.9"
  }
 },
 "nbformat": 4,
 "nbformat_minor": 2
}
