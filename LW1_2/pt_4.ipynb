{
 "cells": [
  {
   "cell_type": "code",
   "execution_count": 2,
   "metadata": {},
   "outputs": [],
   "source": [
    "import numpy as np"
   ]
  },
  {
   "cell_type": "code",
   "execution_count": 6,
   "metadata": {},
   "outputs": [
    {
     "name": "stdout",
     "output_type": "stream",
     "text": [
      "W(1) = [[1 2]] + 1 * [[1 1]] * 1 = [[1 2]]\n",
      "W(2) = [[1 2]] + 1 * [[ 1 -1]] * 0 = [[1 2]]\n",
      "W(3) = [[1 2]] + 1 * [[-1 -1]] * 0 = [[1 2]]\n",
      "W(4) = [[0 3]] + 1 * [[-1  1]] * 1 = [[0 3]]\n"
     ]
    }
   ],
   "source": [
    "# Task 1\n",
    "def activation(s):\n",
    "    return np.sign(1 + np.sign(s))[0, 0]\n",
    "\n",
    "w_start = np.matrix([0, 1])\n",
    "x = np.matrix([[1, 1], [1, -1], [-1, -1], [-1, 1]])\n",
    "alpha = 1\n",
    "w = w_start\n",
    "\n",
    "for i in range(4):\n",
    "    l = np.dot(w, x[i].T)\n",
    "    f = activation(l)    \n",
    "    w = w + alpha * x[i] * f\n",
    "    print(f'W({i + 1}) = {w} + {alpha} * {x[i]} * {f} = {w}')"
   ]
  },
  {
   "cell_type": "code",
   "execution_count": 42,
   "metadata": {},
   "outputs": [
    {
     "name": "stdout",
     "output_type": "stream",
     "text": [
      "--- Epoch 0 ---\n"
     ]
    },
    {
     "ename": "ValueError",
     "evalue": "shapes (1,2) and (1,1) not aligned: 2 (dim 1) != 1 (dim 0)",
     "output_type": "error",
     "traceback": [
      "\u001b[1;31m---------------------------------------------------------------------------\u001b[0m",
      "\u001b[1;31mValueError\u001b[0m                                Traceback (most recent call last)",
      "Cell \u001b[1;32mIn[42], line 28\u001b[0m\n\u001b[0;32m     26\u001b[0m error_der \u001b[38;5;241m=\u001b[39m o2 \u001b[38;5;241m-\u001b[39m target\n\u001b[0;32m     27\u001b[0m grad_w2 \u001b[38;5;241m=\u001b[39m np\u001b[38;5;241m.\u001b[39mmatmul(o1\u001b[38;5;241m.\u001b[39mT, derivative(z2) \u001b[38;5;241m*\u001b[39m error_der)                 \n\u001b[1;32m---> 28\u001b[0m grad_w1 \u001b[38;5;241m=\u001b[39m np\u001b[38;5;241m.\u001b[39mmatmul(x\u001b[38;5;241m.\u001b[39mT, np\u001b[38;5;241m.\u001b[39mmatmul(\u001b[43mderivative\u001b[49m\u001b[43m(\u001b[49m\u001b[43mz1\u001b[49m\u001b[43m)\u001b[49m\u001b[43m \u001b[49m\u001b[38;5;241;43m*\u001b[39;49m\u001b[43m \u001b[49m\u001b[43merror_der\u001b[49m, w1\u001b[38;5;241m.\u001b[39mT))    \n\u001b[0;32m     29\u001b[0m w1 \u001b[38;5;241m-\u001b[39m\u001b[38;5;241m=\u001b[39m alpha \u001b[38;5;241m*\u001b[39m grad_w1\n\u001b[0;32m     30\u001b[0m w2 \u001b[38;5;241m-\u001b[39m\u001b[38;5;241m=\u001b[39m alpha \u001b[38;5;241m*\u001b[39m grad_w2\n",
      "File \u001b[1;32md:\\Programs\\Programming\\BSUIR\\MSPIS\\LW1_2\\.venv\\Lib\\site-packages\\numpy\\matrixlib\\defmatrix.py:221\u001b[0m, in \u001b[0;36mmatrix.__mul__\u001b[1;34m(self, other)\u001b[0m\n\u001b[0;32m    218\u001b[0m \u001b[38;5;28;01mdef\u001b[39;00m \u001b[38;5;21m__mul__\u001b[39m(\u001b[38;5;28mself\u001b[39m, other):\n\u001b[0;32m    219\u001b[0m     \u001b[38;5;28;01mif\u001b[39;00m \u001b[38;5;28misinstance\u001b[39m(other, (N\u001b[38;5;241m.\u001b[39mndarray, \u001b[38;5;28mlist\u001b[39m, \u001b[38;5;28mtuple\u001b[39m)) :\n\u001b[0;32m    220\u001b[0m         \u001b[38;5;66;03m# This promotes 1-D vectors to row vectors\u001b[39;00m\n\u001b[1;32m--> 221\u001b[0m         \u001b[38;5;28;01mreturn\u001b[39;00m \u001b[43mN\u001b[49m\u001b[38;5;241;43m.\u001b[39;49m\u001b[43mdot\u001b[49m\u001b[43m(\u001b[49m\u001b[38;5;28;43mself\u001b[39;49m\u001b[43m,\u001b[49m\u001b[43m \u001b[49m\u001b[43masmatrix\u001b[49m\u001b[43m(\u001b[49m\u001b[43mother\u001b[49m\u001b[43m)\u001b[49m\u001b[43m)\u001b[49m\n\u001b[0;32m    222\u001b[0m     \u001b[38;5;28;01mif\u001b[39;00m isscalar(other) \u001b[38;5;129;01mor\u001b[39;00m \u001b[38;5;129;01mnot\u001b[39;00m \u001b[38;5;28mhasattr\u001b[39m(other, \u001b[38;5;124m'\u001b[39m\u001b[38;5;124m__rmul__\u001b[39m\u001b[38;5;124m'\u001b[39m) :\n\u001b[0;32m    223\u001b[0m         \u001b[38;5;28;01mreturn\u001b[39;00m N\u001b[38;5;241m.\u001b[39mdot(\u001b[38;5;28mself\u001b[39m, other)\n",
      "\u001b[1;31mValueError\u001b[0m: shapes (1,2) and (1,1) not aligned: 2 (dim 1) != 1 (dim 0)"
     ]
    },
    {
     "ename": "",
     "evalue": "",
     "output_type": "error",
     "traceback": [
      "\u001b[1;31mThe Kernel crashed while executing code in the current cell or a previous cell. \n",
      "\u001b[1;31mPlease review the code in the cell(s) to identify a possible cause of the failure. \n",
      "\u001b[1;31mClick <a href='https://aka.ms/vscodeJupyterKernelCrash'>here</a> for more info. \n",
      "\u001b[1;31mView Jupyter <a href='command:jupyter.viewOutput'>log</a> for further details."
     ]
    }
   ],
   "source": [
    "# Task 2 Backpropagation\n",
    "\n",
    "def activation(s, t):\n",
    "    return 1 / (1 + np.exp(-s + t))\n",
    "\n",
    "def derivative(a):\n",
    "    return np.multiply(a, 1 - a)\n",
    "    \n",
    "\n",
    "w1 = np.matrix([[-0.2, 0.1], [-0.1, 0.3]])\n",
    "t1 = np.matrix([-0.1, -0.1])\n",
    "\n",
    "w2 = np.matrix([0.2, 0.3])\n",
    "t2 = np.matrix([-0.2])\n",
    "\n",
    "x = np.matrix([0.1, 0.9])\n",
    "target = 0.9\n",
    "alpha = 0.25\n",
    "\n",
    "for epoch in range(3):\n",
    "    print(f'--- Epoch {epoch} ---')\n",
    "    z1 = np.matmul(x, w1.T)\n",
    "    o1 = activation(z1, t1)\n",
    "    z2 = np.matmul(o1, w2.T)    \n",
    "    o2 = activation(z2, t2)\n",
    "    error_der = o2 - target\n",
    "    grad_w2 = np.matmul(o1.T, derivative(z2) * error_der)                 \n",
    "    grad_w1 = np.matmul(x.T, np.matmul(derivative(z1) * error_der, w1.T))    \n",
    "    w1 -= alpha * grad_w1\n",
    "    w2 -= alpha * grad_w2\n"
   ]
  }
 ],
 "metadata": {
  "kernelspec": {
   "display_name": ".venv",
   "language": "python",
   "name": "python3"
  },
  "language_info": {
   "codemirror_mode": {
    "name": "ipython",
    "version": 3
   },
   "file_extension": ".py",
   "mimetype": "text/x-python",
   "name": "python",
   "nbconvert_exporter": "python",
   "pygments_lexer": "ipython3",
   "version": "3.11.9"
  }
 },
 "nbformat": 4,
 "nbformat_minor": 2
}
