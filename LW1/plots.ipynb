{
 "cells": [
  {
   "cell_type": "code",
   "execution_count": 1,
   "metadata": {},
   "outputs": [],
   "source": [
    "from src.arithmetic_pipeline import ArithmeticPipeline\n",
    "import plotly.graph_objects as go\n",
    "import random"
   ]
  },
  {
   "cell_type": "code",
   "execution_count": 11,
   "metadata": {},
   "outputs": [
    {
     "data": {
      "application/vnd.plotly.v1+json": {
       "config": {
        "plotlyServerURL": "https://plot.ly"
       },
       "data": [
        {
         "mode": "lines",
         "text": [
          "r = 1; K(r) = 1.0",
          "r = 2; K(r) = 1.71",
          "r = 3; K(r) = 2.25",
          "r = 4; K(r) = 2.67",
          "r = 5; K(r) = 3.0",
          "r = 6; K(r) = 3.27",
          "r = 7; K(r) = 3.5",
          "r = 8; K(r) = 3.69",
          "r = 9; K(r) = 3.86",
          "r = 10; K(r) = 4.0",
          "r = 11; K(r) = 4.12",
          "r = 12; K(r) = 4.24",
          "r = 13; K(r) = 4.33",
          "r = 14; K(r) = 4.42",
          "r = 15; K(r) = 4.5",
          "r = 16; K(r) = 4.57",
          "r = 17; K(r) = 4.64",
          "r = 18; K(r) = 4.7",
          "r = 19; K(r) = 4.75",
          "r = 20; K(r) = 4.8",
          "r = 21; K(r) = 4.85",
          "r = 22; K(r) = 4.89",
          "r = 23; K(r) = 4.93",
          "r = 24; K(r) = 4.97",
          "r = 25; K(r) = 5.0",
          "r = 26; K(r) = 5.03",
          "r = 27; K(r) = 5.06",
          "r = 28; K(r) = 5.09",
          "r = 29; K(r) = 5.12",
          "r = 30; K(r) = 5.14",
          "r = 31; K(r) = 5.17",
          "r = 32; K(r) = 5.19",
          "r = 33; K(r) = 5.21",
          "r = 34; K(r) = 5.23",
          "r = 35; K(r) = 5.25",
          "r = 36; K(r) = 5.27",
          "r = 37; K(r) = 5.29",
          "r = 38; K(r) = 5.3",
          "r = 39; K(r) = 5.32",
          "r = 40; K(r) = 5.33",
          "r = 41; K(r) = 5.35",
          "r = 42; K(r) = 5.36",
          "r = 43; K(r) = 5.38",
          "r = 44; K(r) = 5.39",
          "r = 45; K(r) = 5.4",
          "r = 46; K(r) = 5.41",
          "r = 47; K(r) = 5.42",
          "r = 48; K(r) = 5.43",
          "r = 49; K(r) = 5.44",
          "r = 50; K(r) = 5.45",
          "r = 51; K(r) = 5.46",
          "r = 52; K(r) = 5.47",
          "r = 53; K(r) = 5.48",
          "r = 54; K(r) = 5.49",
          "r = 55; K(r) = 5.5",
          "r = 56; K(r) = 5.51",
          "r = 57; K(r) = 5.52",
          "r = 58; K(r) = 5.52",
          "r = 59; K(r) = 5.53",
          "r = 60; K(r) = 5.54",
          "r = 61; K(r) = 5.55",
          "r = 62; K(r) = 5.55",
          "r = 63; K(r) = 5.56",
          "r = 64; K(r) = 5.57",
          "r = 65; K(r) = 5.57",
          "r = 66; K(r) = 5.58",
          "r = 67; K(r) = 5.58",
          "r = 68; K(r) = 5.59",
          "r = 69; K(r) = 5.59",
          "r = 70; K(r) = 5.6",
          "r = 71; K(r) = 5.61",
          "r = 72; K(r) = 5.61",
          "r = 73; K(r) = 5.62",
          "r = 74; K(r) = 5.62",
          "r = 75; K(r) = 5.62",
          "r = 76; K(r) = 5.63",
          "r = 77; K(r) = 5.63",
          "r = 78; K(r) = 5.64",
          "r = 79; K(r) = 5.64",
          "r = 80; K(r) = 5.65",
          "r = 81; K(r) = 5.65",
          "r = 82; K(r) = 5.66",
          "r = 83; K(r) = 5.66",
          "r = 84; K(r) = 5.66",
          "r = 85; K(r) = 5.67",
          "r = 86; K(r) = 5.67",
          "r = 87; K(r) = 5.67",
          "r = 88; K(r) = 5.68",
          "r = 89; K(r) = 5.68",
          "r = 90; K(r) = 5.68",
          "r = 91; K(r) = 5.69",
          "r = 92; K(r) = 5.69",
          "r = 93; K(r) = 5.69",
          "r = 94; K(r) = 5.7",
          "r = 95; K(r) = 5.7",
          "r = 96; K(r) = 5.7",
          "r = 97; K(r) = 5.71",
          "r = 98; K(r) = 5.71",
          "r = 99; K(r) = 5.71",
          "r = 100; K(r) = 5.71",
          "r = 101; K(r) = 5.72",
          "r = 102; K(r) = 5.72",
          "r = 103; K(r) = 5.72",
          "r = 104; K(r) = 5.72",
          "r = 105; K(r) = 5.73",
          "r = 106; K(r) = 5.73",
          "r = 107; K(r) = 5.73",
          "r = 108; K(r) = 5.73",
          "r = 109; K(r) = 5.74",
          "r = 110; K(r) = 5.74",
          "r = 111; K(r) = 5.74",
          "r = 112; K(r) = 5.74",
          "r = 113; K(r) = 5.75",
          "r = 114; K(r) = 5.75",
          "r = 115; K(r) = 5.75",
          "r = 116; K(r) = 5.75",
          "r = 117; K(r) = 5.75",
          "r = 118; K(r) = 5.76",
          "r = 119; K(r) = 5.76",
          "r = 120; K(r) = 5.76",
          "r = 121; K(r) = 5.76",
          "r = 122; K(r) = 5.76",
          "r = 123; K(r) = 5.77",
          "r = 124; K(r) = 5.77",
          "r = 125; K(r) = 5.77",
          "r = 126; K(r) = 5.77",
          "r = 127; K(r) = 5.77",
          "r = 128; K(r) = 5.77",
          "r = 129; K(r) = 5.78",
          "r = 130; K(r) = 5.78",
          "r = 131; K(r) = 5.78",
          "r = 132; K(r) = 5.78",
          "r = 133; K(r) = 5.78",
          "r = 134; K(r) = 5.78",
          "r = 135; K(r) = 5.79",
          "r = 136; K(r) = 5.79",
          "r = 137; K(r) = 5.79",
          "r = 138; K(r) = 5.79",
          "r = 139; K(r) = 5.79",
          "r = 140; K(r) = 5.79",
          "r = 141; K(r) = 5.79",
          "r = 142; K(r) = 5.8",
          "r = 143; K(r) = 5.8",
          "r = 144; K(r) = 5.8",
          "r = 145; K(r) = 5.8",
          "r = 146; K(r) = 5.8",
          "r = 147; K(r) = 5.8",
          "r = 148; K(r) = 5.8",
          "r = 149; K(r) = 5.81",
          "r = 150; K(r) = 5.81",
          "r = 151; K(r) = 5.81",
          "r = 152; K(r) = 5.81",
          "r = 153; K(r) = 5.81",
          "r = 154; K(r) = 5.81",
          "r = 155; K(r) = 5.81",
          "r = 156; K(r) = 5.81",
          "r = 157; K(r) = 5.81",
          "r = 158; K(r) = 5.82",
          "r = 159; K(r) = 5.82",
          "r = 160; K(r) = 5.82",
          "r = 161; K(r) = 5.82",
          "r = 162; K(r) = 5.82",
          "r = 163; K(r) = 5.82",
          "r = 164; K(r) = 5.82",
          "r = 165; K(r) = 5.82",
          "r = 166; K(r) = 5.82",
          "r = 167; K(r) = 5.83",
          "r = 168; K(r) = 5.83",
          "r = 169; K(r) = 5.83",
          "r = 170; K(r) = 5.83",
          "r = 171; K(r) = 5.83",
          "r = 172; K(r) = 5.83",
          "r = 173; K(r) = 5.83",
          "r = 174; K(r) = 5.83",
          "r = 175; K(r) = 5.83",
          "r = 176; K(r) = 5.83",
          "r = 177; K(r) = 5.84",
          "r = 178; K(r) = 5.84",
          "r = 179; K(r) = 5.84",
          "r = 180; K(r) = 5.84",
          "r = 181; K(r) = 5.84",
          "r = 182; K(r) = 5.84",
          "r = 183; K(r) = 5.84",
          "r = 184; K(r) = 5.84",
          "r = 185; K(r) = 5.84",
          "r = 186; K(r) = 5.84",
          "r = 187; K(r) = 5.84",
          "r = 188; K(r) = 5.84",
          "r = 189; K(r) = 5.85",
          "r = 190; K(r) = 5.85",
          "r = 191; K(r) = 5.85",
          "r = 192; K(r) = 5.85",
          "r = 193; K(r) = 5.85",
          "r = 194; K(r) = 5.85",
          "r = 195; K(r) = 5.85",
          "r = 196; K(r) = 5.85",
          "r = 197; K(r) = 5.85",
          "r = 198; K(r) = 5.85",
          "r = 199; K(r) = 5.85"
         ],
         "textposition": "bottom center",
         "type": "scatter",
         "x": [
          1,
          2,
          3,
          4,
          5,
          6,
          7,
          8,
          9,
          10,
          11,
          12,
          13,
          14,
          15,
          16,
          17,
          18,
          19,
          20,
          21,
          22,
          23,
          24,
          25,
          26,
          27,
          28,
          29,
          30,
          31,
          32,
          33,
          34,
          35,
          36,
          37,
          38,
          39,
          40,
          41,
          42,
          43,
          44,
          45,
          46,
          47,
          48,
          49,
          50,
          51,
          52,
          53,
          54,
          55,
          56,
          57,
          58,
          59,
          60,
          61,
          62,
          63,
          64,
          65,
          66,
          67,
          68,
          69,
          70,
          71,
          72,
          73,
          74,
          75,
          76,
          77,
          78,
          79,
          80,
          81,
          82,
          83,
          84,
          85,
          86,
          87,
          88,
          89,
          90,
          91,
          92,
          93,
          94,
          95,
          96,
          97,
          98,
          99,
          100,
          101,
          102,
          103,
          104,
          105,
          106,
          107,
          108,
          109,
          110,
          111,
          112,
          113,
          114,
          115,
          116,
          117,
          118,
          119,
          120,
          121,
          122,
          123,
          124,
          125,
          126,
          127,
          128,
          129,
          130,
          131,
          132,
          133,
          134,
          135,
          136,
          137,
          138,
          139,
          140,
          141,
          142,
          143,
          144,
          145,
          146,
          147,
          148,
          149,
          150,
          151,
          152,
          153,
          154,
          155,
          156,
          157,
          158,
          159,
          160,
          161,
          162,
          163,
          164,
          165,
          166,
          167,
          168,
          169,
          170,
          171,
          172,
          173,
          174,
          175,
          176,
          177,
          178,
          179,
          180,
          181,
          182,
          183,
          184,
          185,
          186,
          187,
          188,
          189,
          190,
          191,
          192,
          193,
          194,
          195,
          196,
          197,
          198,
          199
         ],
         "y": [
          1,
          1.71,
          2.25,
          2.67,
          3,
          3.27,
          3.5,
          3.69,
          3.86,
          4,
          4.12,
          4.24,
          4.33,
          4.42,
          4.5,
          4.57,
          4.64,
          4.7,
          4.75,
          4.8,
          4.85,
          4.89,
          4.93,
          4.97,
          5,
          5.03,
          5.06,
          5.09,
          5.12,
          5.14,
          5.17,
          5.19,
          5.21,
          5.23,
          5.25,
          5.27,
          5.29,
          5.3,
          5.32,
          5.33,
          5.35,
          5.36,
          5.38,
          5.39,
          5.4,
          5.41,
          5.42,
          5.43,
          5.44,
          5.45,
          5.46,
          5.47,
          5.48,
          5.49,
          5.5,
          5.51,
          5.52,
          5.52,
          5.53,
          5.54,
          5.55,
          5.55,
          5.56,
          5.57,
          5.57,
          5.58,
          5.58,
          5.59,
          5.59,
          5.6,
          5.61,
          5.61,
          5.62,
          5.62,
          5.62,
          5.63,
          5.63,
          5.64,
          5.64,
          5.65,
          5.65,
          5.66,
          5.66,
          5.66,
          5.67,
          5.67,
          5.67,
          5.68,
          5.68,
          5.68,
          5.69,
          5.69,
          5.69,
          5.7,
          5.7,
          5.7,
          5.71,
          5.71,
          5.71,
          5.71,
          5.72,
          5.72,
          5.72,
          5.72,
          5.73,
          5.73,
          5.73,
          5.73,
          5.74,
          5.74,
          5.74,
          5.74,
          5.75,
          5.75,
          5.75,
          5.75,
          5.75,
          5.76,
          5.76,
          5.76,
          5.76,
          5.76,
          5.77,
          5.77,
          5.77,
          5.77,
          5.77,
          5.77,
          5.78,
          5.78,
          5.78,
          5.78,
          5.78,
          5.78,
          5.79,
          5.79,
          5.79,
          5.79,
          5.79,
          5.79,
          5.79,
          5.8,
          5.8,
          5.8,
          5.8,
          5.8,
          5.8,
          5.8,
          5.81,
          5.81,
          5.81,
          5.81,
          5.81,
          5.81,
          5.81,
          5.81,
          5.81,
          5.82,
          5.82,
          5.82,
          5.82,
          5.82,
          5.82,
          5.82,
          5.82,
          5.82,
          5.83,
          5.83,
          5.83,
          5.83,
          5.83,
          5.83,
          5.83,
          5.83,
          5.83,
          5.83,
          5.84,
          5.84,
          5.84,
          5.84,
          5.84,
          5.84,
          5.84,
          5.84,
          5.84,
          5.84,
          5.84,
          5.84,
          5.85,
          5.85,
          5.85,
          5.85,
          5.85,
          5.85,
          5.85,
          5.85,
          5.85,
          5.85,
          5.85
         ]
        }
       ],
       "layout": {
        "font": {
         "size": 20
        },
        "template": {
         "data": {
          "bar": [
           {
            "error_x": {
             "color": "#2a3f5f"
            },
            "error_y": {
             "color": "#2a3f5f"
            },
            "marker": {
             "line": {
              "color": "#E5ECF6",
              "width": 0.5
             },
             "pattern": {
              "fillmode": "overlay",
              "size": 10,
              "solidity": 0.2
             }
            },
            "type": "bar"
           }
          ],
          "barpolar": [
           {
            "marker": {
             "line": {
              "color": "#E5ECF6",
              "width": 0.5
             },
             "pattern": {
              "fillmode": "overlay",
              "size": 10,
              "solidity": 0.2
             }
            },
            "type": "barpolar"
           }
          ],
          "carpet": [
           {
            "aaxis": {
             "endlinecolor": "#2a3f5f",
             "gridcolor": "white",
             "linecolor": "white",
             "minorgridcolor": "white",
             "startlinecolor": "#2a3f5f"
            },
            "baxis": {
             "endlinecolor": "#2a3f5f",
             "gridcolor": "white",
             "linecolor": "white",
             "minorgridcolor": "white",
             "startlinecolor": "#2a3f5f"
            },
            "type": "carpet"
           }
          ],
          "choropleth": [
           {
            "colorbar": {
             "outlinewidth": 0,
             "ticks": ""
            },
            "type": "choropleth"
           }
          ],
          "contour": [
           {
            "colorbar": {
             "outlinewidth": 0,
             "ticks": ""
            },
            "colorscale": [
             [
              0,
              "#0d0887"
             ],
             [
              0.1111111111111111,
              "#46039f"
             ],
             [
              0.2222222222222222,
              "#7201a8"
             ],
             [
              0.3333333333333333,
              "#9c179e"
             ],
             [
              0.4444444444444444,
              "#bd3786"
             ],
             [
              0.5555555555555556,
              "#d8576b"
             ],
             [
              0.6666666666666666,
              "#ed7953"
             ],
             [
              0.7777777777777778,
              "#fb9f3a"
             ],
             [
              0.8888888888888888,
              "#fdca26"
             ],
             [
              1,
              "#f0f921"
             ]
            ],
            "type": "contour"
           }
          ],
          "contourcarpet": [
           {
            "colorbar": {
             "outlinewidth": 0,
             "ticks": ""
            },
            "type": "contourcarpet"
           }
          ],
          "heatmap": [
           {
            "colorbar": {
             "outlinewidth": 0,
             "ticks": ""
            },
            "colorscale": [
             [
              0,
              "#0d0887"
             ],
             [
              0.1111111111111111,
              "#46039f"
             ],
             [
              0.2222222222222222,
              "#7201a8"
             ],
             [
              0.3333333333333333,
              "#9c179e"
             ],
             [
              0.4444444444444444,
              "#bd3786"
             ],
             [
              0.5555555555555556,
              "#d8576b"
             ],
             [
              0.6666666666666666,
              "#ed7953"
             ],
             [
              0.7777777777777778,
              "#fb9f3a"
             ],
             [
              0.8888888888888888,
              "#fdca26"
             ],
             [
              1,
              "#f0f921"
             ]
            ],
            "type": "heatmap"
           }
          ],
          "heatmapgl": [
           {
            "colorbar": {
             "outlinewidth": 0,
             "ticks": ""
            },
            "colorscale": [
             [
              0,
              "#0d0887"
             ],
             [
              0.1111111111111111,
              "#46039f"
             ],
             [
              0.2222222222222222,
              "#7201a8"
             ],
             [
              0.3333333333333333,
              "#9c179e"
             ],
             [
              0.4444444444444444,
              "#bd3786"
             ],
             [
              0.5555555555555556,
              "#d8576b"
             ],
             [
              0.6666666666666666,
              "#ed7953"
             ],
             [
              0.7777777777777778,
              "#fb9f3a"
             ],
             [
              0.8888888888888888,
              "#fdca26"
             ],
             [
              1,
              "#f0f921"
             ]
            ],
            "type": "heatmapgl"
           }
          ],
          "histogram": [
           {
            "marker": {
             "pattern": {
              "fillmode": "overlay",
              "size": 10,
              "solidity": 0.2
             }
            },
            "type": "histogram"
           }
          ],
          "histogram2d": [
           {
            "colorbar": {
             "outlinewidth": 0,
             "ticks": ""
            },
            "colorscale": [
             [
              0,
              "#0d0887"
             ],
             [
              0.1111111111111111,
              "#46039f"
             ],
             [
              0.2222222222222222,
              "#7201a8"
             ],
             [
              0.3333333333333333,
              "#9c179e"
             ],
             [
              0.4444444444444444,
              "#bd3786"
             ],
             [
              0.5555555555555556,
              "#d8576b"
             ],
             [
              0.6666666666666666,
              "#ed7953"
             ],
             [
              0.7777777777777778,
              "#fb9f3a"
             ],
             [
              0.8888888888888888,
              "#fdca26"
             ],
             [
              1,
              "#f0f921"
             ]
            ],
            "type": "histogram2d"
           }
          ],
          "histogram2dcontour": [
           {
            "colorbar": {
             "outlinewidth": 0,
             "ticks": ""
            },
            "colorscale": [
             [
              0,
              "#0d0887"
             ],
             [
              0.1111111111111111,
              "#46039f"
             ],
             [
              0.2222222222222222,
              "#7201a8"
             ],
             [
              0.3333333333333333,
              "#9c179e"
             ],
             [
              0.4444444444444444,
              "#bd3786"
             ],
             [
              0.5555555555555556,
              "#d8576b"
             ],
             [
              0.6666666666666666,
              "#ed7953"
             ],
             [
              0.7777777777777778,
              "#fb9f3a"
             ],
             [
              0.8888888888888888,
              "#fdca26"
             ],
             [
              1,
              "#f0f921"
             ]
            ],
            "type": "histogram2dcontour"
           }
          ],
          "mesh3d": [
           {
            "colorbar": {
             "outlinewidth": 0,
             "ticks": ""
            },
            "type": "mesh3d"
           }
          ],
          "parcoords": [
           {
            "line": {
             "colorbar": {
              "outlinewidth": 0,
              "ticks": ""
             }
            },
            "type": "parcoords"
           }
          ],
          "pie": [
           {
            "automargin": true,
            "type": "pie"
           }
          ],
          "scatter": [
           {
            "fillpattern": {
             "fillmode": "overlay",
             "size": 10,
             "solidity": 0.2
            },
            "type": "scatter"
           }
          ],
          "scatter3d": [
           {
            "line": {
             "colorbar": {
              "outlinewidth": 0,
              "ticks": ""
             }
            },
            "marker": {
             "colorbar": {
              "outlinewidth": 0,
              "ticks": ""
             }
            },
            "type": "scatter3d"
           }
          ],
          "scattercarpet": [
           {
            "marker": {
             "colorbar": {
              "outlinewidth": 0,
              "ticks": ""
             }
            },
            "type": "scattercarpet"
           }
          ],
          "scattergeo": [
           {
            "marker": {
             "colorbar": {
              "outlinewidth": 0,
              "ticks": ""
             }
            },
            "type": "scattergeo"
           }
          ],
          "scattergl": [
           {
            "marker": {
             "colorbar": {
              "outlinewidth": 0,
              "ticks": ""
             }
            },
            "type": "scattergl"
           }
          ],
          "scattermapbox": [
           {
            "marker": {
             "colorbar": {
              "outlinewidth": 0,
              "ticks": ""
             }
            },
            "type": "scattermapbox"
           }
          ],
          "scatterpolar": [
           {
            "marker": {
             "colorbar": {
              "outlinewidth": 0,
              "ticks": ""
             }
            },
            "type": "scatterpolar"
           }
          ],
          "scatterpolargl": [
           {
            "marker": {
             "colorbar": {
              "outlinewidth": 0,
              "ticks": ""
             }
            },
            "type": "scatterpolargl"
           }
          ],
          "scatterternary": [
           {
            "marker": {
             "colorbar": {
              "outlinewidth": 0,
              "ticks": ""
             }
            },
            "type": "scatterternary"
           }
          ],
          "surface": [
           {
            "colorbar": {
             "outlinewidth": 0,
             "ticks": ""
            },
            "colorscale": [
             [
              0,
              "#0d0887"
             ],
             [
              0.1111111111111111,
              "#46039f"
             ],
             [
              0.2222222222222222,
              "#7201a8"
             ],
             [
              0.3333333333333333,
              "#9c179e"
             ],
             [
              0.4444444444444444,
              "#bd3786"
             ],
             [
              0.5555555555555556,
              "#d8576b"
             ],
             [
              0.6666666666666666,
              "#ed7953"
             ],
             [
              0.7777777777777778,
              "#fb9f3a"
             ],
             [
              0.8888888888888888,
              "#fdca26"
             ],
             [
              1,
              "#f0f921"
             ]
            ],
            "type": "surface"
           }
          ],
          "table": [
           {
            "cells": {
             "fill": {
              "color": "#EBF0F8"
             },
             "line": {
              "color": "white"
             }
            },
            "header": {
             "fill": {
              "color": "#C8D4E3"
             },
             "line": {
              "color": "white"
             }
            },
            "type": "table"
           }
          ]
         },
         "layout": {
          "annotationdefaults": {
           "arrowcolor": "#2a3f5f",
           "arrowhead": 0,
           "arrowwidth": 1
          },
          "autotypenumbers": "strict",
          "coloraxis": {
           "colorbar": {
            "outlinewidth": 0,
            "ticks": ""
           }
          },
          "colorscale": {
           "diverging": [
            [
             0,
             "#8e0152"
            ],
            [
             0.1,
             "#c51b7d"
            ],
            [
             0.2,
             "#de77ae"
            ],
            [
             0.3,
             "#f1b6da"
            ],
            [
             0.4,
             "#fde0ef"
            ],
            [
             0.5,
             "#f7f7f7"
            ],
            [
             0.6,
             "#e6f5d0"
            ],
            [
             0.7,
             "#b8e186"
            ],
            [
             0.8,
             "#7fbc41"
            ],
            [
             0.9,
             "#4d9221"
            ],
            [
             1,
             "#276419"
            ]
           ],
           "sequential": [
            [
             0,
             "#0d0887"
            ],
            [
             0.1111111111111111,
             "#46039f"
            ],
            [
             0.2222222222222222,
             "#7201a8"
            ],
            [
             0.3333333333333333,
             "#9c179e"
            ],
            [
             0.4444444444444444,
             "#bd3786"
            ],
            [
             0.5555555555555556,
             "#d8576b"
            ],
            [
             0.6666666666666666,
             "#ed7953"
            ],
            [
             0.7777777777777778,
             "#fb9f3a"
            ],
            [
             0.8888888888888888,
             "#fdca26"
            ],
            [
             1,
             "#f0f921"
            ]
           ],
           "sequentialminus": [
            [
             0,
             "#0d0887"
            ],
            [
             0.1111111111111111,
             "#46039f"
            ],
            [
             0.2222222222222222,
             "#7201a8"
            ],
            [
             0.3333333333333333,
             "#9c179e"
            ],
            [
             0.4444444444444444,
             "#bd3786"
            ],
            [
             0.5555555555555556,
             "#d8576b"
            ],
            [
             0.6666666666666666,
             "#ed7953"
            ],
            [
             0.7777777777777778,
             "#fb9f3a"
            ],
            [
             0.8888888888888888,
             "#fdca26"
            ],
            [
             1,
             "#f0f921"
            ]
           ]
          },
          "colorway": [
           "#636efa",
           "#EF553B",
           "#00cc96",
           "#ab63fa",
           "#FFA15A",
           "#19d3f3",
           "#FF6692",
           "#B6E880",
           "#FF97FF",
           "#FECB52"
          ],
          "font": {
           "color": "#2a3f5f"
          },
          "geo": {
           "bgcolor": "white",
           "lakecolor": "white",
           "landcolor": "#E5ECF6",
           "showlakes": true,
           "showland": true,
           "subunitcolor": "white"
          },
          "hoverlabel": {
           "align": "left"
          },
          "hovermode": "closest",
          "mapbox": {
           "style": "light"
          },
          "paper_bgcolor": "white",
          "plot_bgcolor": "#E5ECF6",
          "polar": {
           "angularaxis": {
            "gridcolor": "white",
            "linecolor": "white",
            "ticks": ""
           },
           "bgcolor": "#E5ECF6",
           "radialaxis": {
            "gridcolor": "white",
            "linecolor": "white",
            "ticks": ""
           }
          },
          "scene": {
           "xaxis": {
            "backgroundcolor": "#E5ECF6",
            "gridcolor": "white",
            "gridwidth": 2,
            "linecolor": "white",
            "showbackground": true,
            "ticks": "",
            "zerolinecolor": "white"
           },
           "yaxis": {
            "backgroundcolor": "#E5ECF6",
            "gridcolor": "white",
            "gridwidth": 2,
            "linecolor": "white",
            "showbackground": true,
            "ticks": "",
            "zerolinecolor": "white"
           },
           "zaxis": {
            "backgroundcolor": "#E5ECF6",
            "gridcolor": "white",
            "gridwidth": 2,
            "linecolor": "white",
            "showbackground": true,
            "ticks": "",
            "zerolinecolor": "white"
           }
          },
          "shapedefaults": {
           "line": {
            "color": "#2a3f5f"
           }
          },
          "ternary": {
           "aaxis": {
            "gridcolor": "white",
            "linecolor": "white",
            "ticks": ""
           },
           "baxis": {
            "gridcolor": "white",
            "linecolor": "white",
            "ticks": ""
           },
           "bgcolor": "#E5ECF6",
           "caxis": {
            "gridcolor": "white",
            "linecolor": "white",
            "ticks": ""
           }
          },
          "title": {
           "x": 0.05
          },
          "xaxis": {
           "automargin": true,
           "gridcolor": "white",
           "linecolor": "white",
           "ticks": "",
           "title": {
            "standoff": 15
           },
           "zerolinecolor": "white",
           "zerolinewidth": 2
          },
          "yaxis": {
           "automargin": true,
           "gridcolor": "white",
           "linecolor": "white",
           "ticks": "",
           "title": {
            "standoff": 15
           },
           "zerolinecolor": "white",
           "zerolinewidth": 2
          }
         }
        },
        "title": {
         "text": "Зависимость коэффициента ускорения от ранга задачи"
        },
        "xaxis": {
         "title": {
          "text": "Ранг задачи"
         }
        },
        "yaxis": {
         "title": {
          "text": "Коэффициент ускорения K(r)"
         }
        }
       }
      }
     },
     "metadata": {},
     "output_type": "display_data"
    }
   ],
   "source": [
    "# Acceleration coefficient graphic (dependence on problem rank)\n",
    "stages_amount = 6\n",
    "x_vector = []\n",
    "y_vector = []\n",
    "for i in range(1, 200):\n",
    "    vector_1 = [random.randint(0, 63) for _ in range(i)]\n",
    "    vector_2 = [random.randint(0, 63) for _ in range(i)]\n",
    "    seq_pipeline = ArithmeticPipeline(vector_1, vector_2, 1, 6)\n",
    "    par_pipeline = ArithmeticPipeline(vector_1, vector_2, 6, 6)\n",
    "    while seq_pipeline.is_busy:\n",
    "        seq_pipeline.tact()\n",
    "    while par_pipeline.is_busy:\n",
    "        par_pipeline.tact()\n",
    "    x_vector.append(i)\n",
    "    y_vector.append(round(seq_pipeline.status['tacts_done'] / \n",
    "                          par_pipeline.status['tacts_done'], 2))\n",
    "fig = go.Figure()\n",
    "fig.add_trace(\n",
    "    go.Scatter(x=x_vector, y=y_vector, mode='lines',\n",
    "               text=[f'r = {r}; K(r) = {y}' for r, y in enumerate(y_vector, 1)],\n",
    "               textposition='bottom center')\n",
    ")\n",
    "fig.update_layout(title_text='Зависимость коэффициента ускорения от ранга задачи',\n",
    "                  font=dict(size=20))\n",
    "fig.update_xaxes(title_text='Ранг задачи')\n",
    "fig.update_yaxes(title_text='Коэффициент ускорения K(r)')\n",
    "fig.show(width=1280, height=1280, autosize=True) "
   ]
  },
  {
   "cell_type": "code",
   "execution_count": 22,
   "metadata": {},
   "outputs": [
    {
     "data": {
      "application/vnd.plotly.v1+json": {
       "config": {
        "plotlyServerURL": "https://plot.ly"
       },
       "data": [
        {
         "mode": "markers",
         "text": [
          "n = 6; K(n) = 1.0",
          "n = 6; K(n) = 1.71",
          "n = 6; K(n) = 2.25",
          "n = 6; K(n) = 2.67",
          "n = 6; K(n) = 3.0",
          "n = 6; K(n) = 3.27",
          "n = 6; K(n) = 3.5",
          "n = 6; K(n) = 3.69",
          "n = 6; K(n) = 3.86",
          "n = 6; K(n) = 4.0",
          "n = 6; K(n) = 4.12",
          "n = 6; K(n) = 4.24",
          "n = 6; K(n) = 4.33",
          "n = 6; K(n) = 4.42",
          "n = 6; K(n) = 4.5",
          "n = 6; K(n) = 4.57",
          "n = 6; K(n) = 4.64",
          "n = 6; K(n) = 4.7",
          "n = 6; K(n) = 4.75"
         ],
         "textposition": "bottom center",
         "type": "scatter",
         "x": [
          6,
          6,
          6,
          6,
          6,
          6,
          6,
          6,
          6,
          6,
          6,
          6,
          6,
          6,
          6,
          6,
          6,
          6,
          6,
          6
         ],
         "y": [
          1,
          1.71,
          2.25,
          2.67,
          3,
          3.27,
          3.5,
          3.69,
          3.86,
          4,
          4.12,
          4.24,
          4.33,
          4.42,
          4.5,
          4.57,
          4.64,
          4.7,
          4.75
         ]
        },
        {
         "mode": "markers",
         "text": [
          "n = 1; K(n) = 1.0",
          "n = 1; K(n) = 1.0",
          "n = 1; K(n) = 1.0",
          "n = 1; K(n) = 1.0",
          "n = 1; K(n) = 1.0",
          "n = 1; K(n) = 1.0",
          "n = 1; K(n) = 1.0",
          "n = 1; K(n) = 1.0",
          "n = 1; K(n) = 1.0",
          "n = 1; K(n) = 1.0",
          "n = 1; K(n) = 1.0",
          "n = 1; K(n) = 1.0",
          "n = 1; K(n) = 1.0",
          "n = 1; K(n) = 1.0",
          "n = 1; K(n) = 1.0",
          "n = 1; K(n) = 1.0",
          "n = 1; K(n) = 1.0",
          "n = 1; K(n) = 1.0",
          "n = 1; K(n) = 1.0"
         ],
         "textposition": "bottom center",
         "type": "scatter",
         "x": [
          1,
          1,
          1,
          1,
          1,
          1,
          1,
          1,
          1,
          1,
          1,
          1,
          1,
          1,
          1,
          1,
          1,
          1,
          1,
          1
         ],
         "y": [
          1,
          1,
          1,
          1,
          1,
          1,
          1,
          1,
          1,
          1,
          1,
          1,
          1,
          1,
          1,
          1,
          1,
          1,
          1
         ]
        }
       ],
       "layout": {
        "font": {
         "size": 20
        },
        "showlegend": false,
        "template": {
         "data": {
          "bar": [
           {
            "error_x": {
             "color": "#2a3f5f"
            },
            "error_y": {
             "color": "#2a3f5f"
            },
            "marker": {
             "line": {
              "color": "#E5ECF6",
              "width": 0.5
             },
             "pattern": {
              "fillmode": "overlay",
              "size": 10,
              "solidity": 0.2
             }
            },
            "type": "bar"
           }
          ],
          "barpolar": [
           {
            "marker": {
             "line": {
              "color": "#E5ECF6",
              "width": 0.5
             },
             "pattern": {
              "fillmode": "overlay",
              "size": 10,
              "solidity": 0.2
             }
            },
            "type": "barpolar"
           }
          ],
          "carpet": [
           {
            "aaxis": {
             "endlinecolor": "#2a3f5f",
             "gridcolor": "white",
             "linecolor": "white",
             "minorgridcolor": "white",
             "startlinecolor": "#2a3f5f"
            },
            "baxis": {
             "endlinecolor": "#2a3f5f",
             "gridcolor": "white",
             "linecolor": "white",
             "minorgridcolor": "white",
             "startlinecolor": "#2a3f5f"
            },
            "type": "carpet"
           }
          ],
          "choropleth": [
           {
            "colorbar": {
             "outlinewidth": 0,
             "ticks": ""
            },
            "type": "choropleth"
           }
          ],
          "contour": [
           {
            "colorbar": {
             "outlinewidth": 0,
             "ticks": ""
            },
            "colorscale": [
             [
              0,
              "#0d0887"
             ],
             [
              0.1111111111111111,
              "#46039f"
             ],
             [
              0.2222222222222222,
              "#7201a8"
             ],
             [
              0.3333333333333333,
              "#9c179e"
             ],
             [
              0.4444444444444444,
              "#bd3786"
             ],
             [
              0.5555555555555556,
              "#d8576b"
             ],
             [
              0.6666666666666666,
              "#ed7953"
             ],
             [
              0.7777777777777778,
              "#fb9f3a"
             ],
             [
              0.8888888888888888,
              "#fdca26"
             ],
             [
              1,
              "#f0f921"
             ]
            ],
            "type": "contour"
           }
          ],
          "contourcarpet": [
           {
            "colorbar": {
             "outlinewidth": 0,
             "ticks": ""
            },
            "type": "contourcarpet"
           }
          ],
          "heatmap": [
           {
            "colorbar": {
             "outlinewidth": 0,
             "ticks": ""
            },
            "colorscale": [
             [
              0,
              "#0d0887"
             ],
             [
              0.1111111111111111,
              "#46039f"
             ],
             [
              0.2222222222222222,
              "#7201a8"
             ],
             [
              0.3333333333333333,
              "#9c179e"
             ],
             [
              0.4444444444444444,
              "#bd3786"
             ],
             [
              0.5555555555555556,
              "#d8576b"
             ],
             [
              0.6666666666666666,
              "#ed7953"
             ],
             [
              0.7777777777777778,
              "#fb9f3a"
             ],
             [
              0.8888888888888888,
              "#fdca26"
             ],
             [
              1,
              "#f0f921"
             ]
            ],
            "type": "heatmap"
           }
          ],
          "heatmapgl": [
           {
            "colorbar": {
             "outlinewidth": 0,
             "ticks": ""
            },
            "colorscale": [
             [
              0,
              "#0d0887"
             ],
             [
              0.1111111111111111,
              "#46039f"
             ],
             [
              0.2222222222222222,
              "#7201a8"
             ],
             [
              0.3333333333333333,
              "#9c179e"
             ],
             [
              0.4444444444444444,
              "#bd3786"
             ],
             [
              0.5555555555555556,
              "#d8576b"
             ],
             [
              0.6666666666666666,
              "#ed7953"
             ],
             [
              0.7777777777777778,
              "#fb9f3a"
             ],
             [
              0.8888888888888888,
              "#fdca26"
             ],
             [
              1,
              "#f0f921"
             ]
            ],
            "type": "heatmapgl"
           }
          ],
          "histogram": [
           {
            "marker": {
             "pattern": {
              "fillmode": "overlay",
              "size": 10,
              "solidity": 0.2
             }
            },
            "type": "histogram"
           }
          ],
          "histogram2d": [
           {
            "colorbar": {
             "outlinewidth": 0,
             "ticks": ""
            },
            "colorscale": [
             [
              0,
              "#0d0887"
             ],
             [
              0.1111111111111111,
              "#46039f"
             ],
             [
              0.2222222222222222,
              "#7201a8"
             ],
             [
              0.3333333333333333,
              "#9c179e"
             ],
             [
              0.4444444444444444,
              "#bd3786"
             ],
             [
              0.5555555555555556,
              "#d8576b"
             ],
             [
              0.6666666666666666,
              "#ed7953"
             ],
             [
              0.7777777777777778,
              "#fb9f3a"
             ],
             [
              0.8888888888888888,
              "#fdca26"
             ],
             [
              1,
              "#f0f921"
             ]
            ],
            "type": "histogram2d"
           }
          ],
          "histogram2dcontour": [
           {
            "colorbar": {
             "outlinewidth": 0,
             "ticks": ""
            },
            "colorscale": [
             [
              0,
              "#0d0887"
             ],
             [
              0.1111111111111111,
              "#46039f"
             ],
             [
              0.2222222222222222,
              "#7201a8"
             ],
             [
              0.3333333333333333,
              "#9c179e"
             ],
             [
              0.4444444444444444,
              "#bd3786"
             ],
             [
              0.5555555555555556,
              "#d8576b"
             ],
             [
              0.6666666666666666,
              "#ed7953"
             ],
             [
              0.7777777777777778,
              "#fb9f3a"
             ],
             [
              0.8888888888888888,
              "#fdca26"
             ],
             [
              1,
              "#f0f921"
             ]
            ],
            "type": "histogram2dcontour"
           }
          ],
          "mesh3d": [
           {
            "colorbar": {
             "outlinewidth": 0,
             "ticks": ""
            },
            "type": "mesh3d"
           }
          ],
          "parcoords": [
           {
            "line": {
             "colorbar": {
              "outlinewidth": 0,
              "ticks": ""
             }
            },
            "type": "parcoords"
           }
          ],
          "pie": [
           {
            "automargin": true,
            "type": "pie"
           }
          ],
          "scatter": [
           {
            "fillpattern": {
             "fillmode": "overlay",
             "size": 10,
             "solidity": 0.2
            },
            "type": "scatter"
           }
          ],
          "scatter3d": [
           {
            "line": {
             "colorbar": {
              "outlinewidth": 0,
              "ticks": ""
             }
            },
            "marker": {
             "colorbar": {
              "outlinewidth": 0,
              "ticks": ""
             }
            },
            "type": "scatter3d"
           }
          ],
          "scattercarpet": [
           {
            "marker": {
             "colorbar": {
              "outlinewidth": 0,
              "ticks": ""
             }
            },
            "type": "scattercarpet"
           }
          ],
          "scattergeo": [
           {
            "marker": {
             "colorbar": {
              "outlinewidth": 0,
              "ticks": ""
             }
            },
            "type": "scattergeo"
           }
          ],
          "scattergl": [
           {
            "marker": {
             "colorbar": {
              "outlinewidth": 0,
              "ticks": ""
             }
            },
            "type": "scattergl"
           }
          ],
          "scattermapbox": [
           {
            "marker": {
             "colorbar": {
              "outlinewidth": 0,
              "ticks": ""
             }
            },
            "type": "scattermapbox"
           }
          ],
          "scatterpolar": [
           {
            "marker": {
             "colorbar": {
              "outlinewidth": 0,
              "ticks": ""
             }
            },
            "type": "scatterpolar"
           }
          ],
          "scatterpolargl": [
           {
            "marker": {
             "colorbar": {
              "outlinewidth": 0,
              "ticks": ""
             }
            },
            "type": "scatterpolargl"
           }
          ],
          "scatterternary": [
           {
            "marker": {
             "colorbar": {
              "outlinewidth": 0,
              "ticks": ""
             }
            },
            "type": "scatterternary"
           }
          ],
          "surface": [
           {
            "colorbar": {
             "outlinewidth": 0,
             "ticks": ""
            },
            "colorscale": [
             [
              0,
              "#0d0887"
             ],
             [
              0.1111111111111111,
              "#46039f"
             ],
             [
              0.2222222222222222,
              "#7201a8"
             ],
             [
              0.3333333333333333,
              "#9c179e"
             ],
             [
              0.4444444444444444,
              "#bd3786"
             ],
             [
              0.5555555555555556,
              "#d8576b"
             ],
             [
              0.6666666666666666,
              "#ed7953"
             ],
             [
              0.7777777777777778,
              "#fb9f3a"
             ],
             [
              0.8888888888888888,
              "#fdca26"
             ],
             [
              1,
              "#f0f921"
             ]
            ],
            "type": "surface"
           }
          ],
          "table": [
           {
            "cells": {
             "fill": {
              "color": "#EBF0F8"
             },
             "line": {
              "color": "white"
             }
            },
            "header": {
             "fill": {
              "color": "#C8D4E3"
             },
             "line": {
              "color": "white"
             }
            },
            "type": "table"
           }
          ]
         },
         "layout": {
          "annotationdefaults": {
           "arrowcolor": "#2a3f5f",
           "arrowhead": 0,
           "arrowwidth": 1
          },
          "autotypenumbers": "strict",
          "coloraxis": {
           "colorbar": {
            "outlinewidth": 0,
            "ticks": ""
           }
          },
          "colorscale": {
           "diverging": [
            [
             0,
             "#8e0152"
            ],
            [
             0.1,
             "#c51b7d"
            ],
            [
             0.2,
             "#de77ae"
            ],
            [
             0.3,
             "#f1b6da"
            ],
            [
             0.4,
             "#fde0ef"
            ],
            [
             0.5,
             "#f7f7f7"
            ],
            [
             0.6,
             "#e6f5d0"
            ],
            [
             0.7,
             "#b8e186"
            ],
            [
             0.8,
             "#7fbc41"
            ],
            [
             0.9,
             "#4d9221"
            ],
            [
             1,
             "#276419"
            ]
           ],
           "sequential": [
            [
             0,
             "#0d0887"
            ],
            [
             0.1111111111111111,
             "#46039f"
            ],
            [
             0.2222222222222222,
             "#7201a8"
            ],
            [
             0.3333333333333333,
             "#9c179e"
            ],
            [
             0.4444444444444444,
             "#bd3786"
            ],
            [
             0.5555555555555556,
             "#d8576b"
            ],
            [
             0.6666666666666666,
             "#ed7953"
            ],
            [
             0.7777777777777778,
             "#fb9f3a"
            ],
            [
             0.8888888888888888,
             "#fdca26"
            ],
            [
             1,
             "#f0f921"
            ]
           ],
           "sequentialminus": [
            [
             0,
             "#0d0887"
            ],
            [
             0.1111111111111111,
             "#46039f"
            ],
            [
             0.2222222222222222,
             "#7201a8"
            ],
            [
             0.3333333333333333,
             "#9c179e"
            ],
            [
             0.4444444444444444,
             "#bd3786"
            ],
            [
             0.5555555555555556,
             "#d8576b"
            ],
            [
             0.6666666666666666,
             "#ed7953"
            ],
            [
             0.7777777777777778,
             "#fb9f3a"
            ],
            [
             0.8888888888888888,
             "#fdca26"
            ],
            [
             1,
             "#f0f921"
            ]
           ]
          },
          "colorway": [
           "#636efa",
           "#EF553B",
           "#00cc96",
           "#ab63fa",
           "#FFA15A",
           "#19d3f3",
           "#FF6692",
           "#B6E880",
           "#FF97FF",
           "#FECB52"
          ],
          "font": {
           "color": "#2a3f5f"
          },
          "geo": {
           "bgcolor": "white",
           "lakecolor": "white",
           "landcolor": "#E5ECF6",
           "showlakes": true,
           "showland": true,
           "subunitcolor": "white"
          },
          "hoverlabel": {
           "align": "left"
          },
          "hovermode": "closest",
          "mapbox": {
           "style": "light"
          },
          "paper_bgcolor": "white",
          "plot_bgcolor": "#E5ECF6",
          "polar": {
           "angularaxis": {
            "gridcolor": "white",
            "linecolor": "white",
            "ticks": ""
           },
           "bgcolor": "#E5ECF6",
           "radialaxis": {
            "gridcolor": "white",
            "linecolor": "white",
            "ticks": ""
           }
          },
          "scene": {
           "xaxis": {
            "backgroundcolor": "#E5ECF6",
            "gridcolor": "white",
            "gridwidth": 2,
            "linecolor": "white",
            "showbackground": true,
            "ticks": "",
            "zerolinecolor": "white"
           },
           "yaxis": {
            "backgroundcolor": "#E5ECF6",
            "gridcolor": "white",
            "gridwidth": 2,
            "linecolor": "white",
            "showbackground": true,
            "ticks": "",
            "zerolinecolor": "white"
           },
           "zaxis": {
            "backgroundcolor": "#E5ECF6",
            "gridcolor": "white",
            "gridwidth": 2,
            "linecolor": "white",
            "showbackground": true,
            "ticks": "",
            "zerolinecolor": "white"
           }
          },
          "shapedefaults": {
           "line": {
            "color": "#2a3f5f"
           }
          },
          "ternary": {
           "aaxis": {
            "gridcolor": "white",
            "linecolor": "white",
            "ticks": ""
           },
           "baxis": {
            "gridcolor": "white",
            "linecolor": "white",
            "ticks": ""
           },
           "bgcolor": "#E5ECF6",
           "caxis": {
            "gridcolor": "white",
            "linecolor": "white",
            "ticks": ""
           }
          },
          "title": {
           "x": 0.05
          },
          "xaxis": {
           "automargin": true,
           "gridcolor": "white",
           "linecolor": "white",
           "ticks": "",
           "title": {
            "standoff": 15
           },
           "zerolinecolor": "white",
           "zerolinewidth": 2
          },
          "yaxis": {
           "automargin": true,
           "gridcolor": "white",
           "linecolor": "white",
           "ticks": "",
           "title": {
            "standoff": 15
           },
           "zerolinecolor": "white",
           "zerolinewidth": 2
          }
         }
        },
        "title": {
         "text": "Зависимость коэффициента ускорения от количества процессорных элементов"
        },
        "xaxis": {
         "title": {
          "text": "Количество процессорных элементов"
         }
        },
        "yaxis": {
         "title": {
          "text": "Коэффициент ускорения K(n)"
         }
        }
       }
      }
     },
     "metadata": {},
     "output_type": "display_data"
    }
   ],
   "source": [
    "# Acceleration coefficient graphic (dependence on proceccing elems, based on 20 size num vector, the stupid one)\n",
    "y_vector = []\n",
    "y2_vector = []\n",
    "for i in range(1, 20):\n",
    "    vector_1 = [random.randint(0, 63) for _ in range(i)]\n",
    "    vector_2 = [random.randint(0, 63) for _ in range(i)]\n",
    "    seq_pipeline = ArithmeticPipeline(vector_1, vector_2, 1, 6)\n",
    "    par_pipeline = ArithmeticPipeline(vector_1, vector_2, 6, 6)\n",
    "    while seq_pipeline.is_busy:\n",
    "        seq_pipeline.tact()\n",
    "    while par_pipeline.is_busy:\n",
    "        par_pipeline.tact()\n",
    "    x_vector.append(i)\n",
    "    y_vector.append(round(seq_pipeline.status['tacts_done'] / \n",
    "                          par_pipeline.status['tacts_done'], 2))\n",
    "    y2_vector.append(round(seq_pipeline.status['tacts_done'] / \n",
    "                           seq_pipeline.status['tacts_done'], 2))\n",
    "fig = go.Figure()\n",
    "fig.add_trace(\n",
    "    go.Scatter(x=[6] * 20, y=y_vector, mode='markers',\n",
    "               text=[f'n = {6}; K(n) = {y}' for y in y_vector],\n",
    "               textposition='bottom center',\n",
    "               )\n",
    ")\n",
    "fig.add_trace(\n",
    "    go.Scatter(x=[1] * 20, y=y2_vector, mode='markers',\n",
    "               text=[f'n = {1}; K(n) = {y}' for y in y2_vector],\n",
    "               textposition='bottom center',\n",
    "               )\n",
    ")\n",
    "fig.update_layout(title_text='Зависимость коэффициента ускорения от количества процессорных элементов',\n",
    "                  font=dict(size=20), showlegend=False)\n",
    "fig.update_xaxes(title_text='Количество процессорных элементов')\n",
    "fig.update_yaxes(title_text='Коэффициент ускорения K(n)')\n",
    "fig.show(width=1280, height=1280, autosize=False) "
   ]
  },
  {
   "cell_type": "code",
   "execution_count": 4,
   "metadata": {},
   "outputs": [
    {
     "data": {
      "text/plain": [
       "8"
      ]
     },
     "execution_count": 4,
     "metadata": {},
     "output_type": "execute_result"
    }
   ],
   "source": [
    "vector_1 = [random.randint(0, 63) for _ in range(1)]\n",
    "vector_2 = [random.randint(0, 63) for _ in range(1)]\n",
    "par_pipeline = ArithmeticPipeline(vector_1, vector_2, 8, 6)\n",
    "while par_pipeline.is_busy:\n",
    "    par_pipeline.tact()\n",
    "    # print(par_pipeline.status)\n",
    "par_pipeline.status['tacts_done']"
   ]
  },
  {
   "cell_type": "code",
   "execution_count": 30,
   "metadata": {},
   "outputs": [
    {
     "data": {
      "application/vnd.plotly.v1+json": {
       "config": {
        "plotlyServerURL": "https://plot.ly"
       },
       "data": [
        {
         "mode": "lines",
         "text": [
          "r = 1; e(r) = 0.1666666667",
          "r = 2; e(r) = 0.2857142857",
          "r = 3; e(r) = 0.375",
          "r = 4; e(r) = 0.4444444444",
          "r = 5; e(r) = 0.5",
          "r = 6; e(r) = 0.5454545455",
          "r = 7; e(r) = 0.5833333333",
          "r = 8; e(r) = 0.6153846154",
          "r = 9; e(r) = 0.6428571429",
          "r = 10; e(r) = 0.6666666667",
          "r = 11; e(r) = 0.6875",
          "r = 12; e(r) = 0.7058823529",
          "r = 13; e(r) = 0.7222222222",
          "r = 14; e(r) = 0.7368421053",
          "r = 15; e(r) = 0.75",
          "r = 16; e(r) = 0.7619047619",
          "r = 17; e(r) = 0.7727272727",
          "r = 18; e(r) = 0.7826086957",
          "r = 19; e(r) = 0.7916666667"
         ],
         "textposition": "bottom center",
         "type": "scatter",
         "x": [
          1,
          2,
          3,
          4,
          5,
          6,
          7,
          8,
          9,
          10,
          11,
          12,
          13,
          14,
          15,
          16,
          17,
          18,
          19
         ],
         "y": [
          0.1666666667,
          0.2857142857,
          0.375,
          0.4444444444,
          0.5,
          0.5454545455,
          0.5833333333,
          0.6153846154,
          0.6428571429,
          0.6666666667,
          0.6875,
          0.7058823529,
          0.7222222222,
          0.7368421053,
          0.75,
          0.7619047619,
          0.7727272727,
          0.7826086957,
          0.7916666667
         ]
        }
       ],
       "layout": {
        "font": {
         "size": 20
        },
        "template": {
         "data": {
          "bar": [
           {
            "error_x": {
             "color": "#2a3f5f"
            },
            "error_y": {
             "color": "#2a3f5f"
            },
            "marker": {
             "line": {
              "color": "#E5ECF6",
              "width": 0.5
             },
             "pattern": {
              "fillmode": "overlay",
              "size": 10,
              "solidity": 0.2
             }
            },
            "type": "bar"
           }
          ],
          "barpolar": [
           {
            "marker": {
             "line": {
              "color": "#E5ECF6",
              "width": 0.5
             },
             "pattern": {
              "fillmode": "overlay",
              "size": 10,
              "solidity": 0.2
             }
            },
            "type": "barpolar"
           }
          ],
          "carpet": [
           {
            "aaxis": {
             "endlinecolor": "#2a3f5f",
             "gridcolor": "white",
             "linecolor": "white",
             "minorgridcolor": "white",
             "startlinecolor": "#2a3f5f"
            },
            "baxis": {
             "endlinecolor": "#2a3f5f",
             "gridcolor": "white",
             "linecolor": "white",
             "minorgridcolor": "white",
             "startlinecolor": "#2a3f5f"
            },
            "type": "carpet"
           }
          ],
          "choropleth": [
           {
            "colorbar": {
             "outlinewidth": 0,
             "ticks": ""
            },
            "type": "choropleth"
           }
          ],
          "contour": [
           {
            "colorbar": {
             "outlinewidth": 0,
             "ticks": ""
            },
            "colorscale": [
             [
              0,
              "#0d0887"
             ],
             [
              0.1111111111111111,
              "#46039f"
             ],
             [
              0.2222222222222222,
              "#7201a8"
             ],
             [
              0.3333333333333333,
              "#9c179e"
             ],
             [
              0.4444444444444444,
              "#bd3786"
             ],
             [
              0.5555555555555556,
              "#d8576b"
             ],
             [
              0.6666666666666666,
              "#ed7953"
             ],
             [
              0.7777777777777778,
              "#fb9f3a"
             ],
             [
              0.8888888888888888,
              "#fdca26"
             ],
             [
              1,
              "#f0f921"
             ]
            ],
            "type": "contour"
           }
          ],
          "contourcarpet": [
           {
            "colorbar": {
             "outlinewidth": 0,
             "ticks": ""
            },
            "type": "contourcarpet"
           }
          ],
          "heatmap": [
           {
            "colorbar": {
             "outlinewidth": 0,
             "ticks": ""
            },
            "colorscale": [
             [
              0,
              "#0d0887"
             ],
             [
              0.1111111111111111,
              "#46039f"
             ],
             [
              0.2222222222222222,
              "#7201a8"
             ],
             [
              0.3333333333333333,
              "#9c179e"
             ],
             [
              0.4444444444444444,
              "#bd3786"
             ],
             [
              0.5555555555555556,
              "#d8576b"
             ],
             [
              0.6666666666666666,
              "#ed7953"
             ],
             [
              0.7777777777777778,
              "#fb9f3a"
             ],
             [
              0.8888888888888888,
              "#fdca26"
             ],
             [
              1,
              "#f0f921"
             ]
            ],
            "type": "heatmap"
           }
          ],
          "heatmapgl": [
           {
            "colorbar": {
             "outlinewidth": 0,
             "ticks": ""
            },
            "colorscale": [
             [
              0,
              "#0d0887"
             ],
             [
              0.1111111111111111,
              "#46039f"
             ],
             [
              0.2222222222222222,
              "#7201a8"
             ],
             [
              0.3333333333333333,
              "#9c179e"
             ],
             [
              0.4444444444444444,
              "#bd3786"
             ],
             [
              0.5555555555555556,
              "#d8576b"
             ],
             [
              0.6666666666666666,
              "#ed7953"
             ],
             [
              0.7777777777777778,
              "#fb9f3a"
             ],
             [
              0.8888888888888888,
              "#fdca26"
             ],
             [
              1,
              "#f0f921"
             ]
            ],
            "type": "heatmapgl"
           }
          ],
          "histogram": [
           {
            "marker": {
             "pattern": {
              "fillmode": "overlay",
              "size": 10,
              "solidity": 0.2
             }
            },
            "type": "histogram"
           }
          ],
          "histogram2d": [
           {
            "colorbar": {
             "outlinewidth": 0,
             "ticks": ""
            },
            "colorscale": [
             [
              0,
              "#0d0887"
             ],
             [
              0.1111111111111111,
              "#46039f"
             ],
             [
              0.2222222222222222,
              "#7201a8"
             ],
             [
              0.3333333333333333,
              "#9c179e"
             ],
             [
              0.4444444444444444,
              "#bd3786"
             ],
             [
              0.5555555555555556,
              "#d8576b"
             ],
             [
              0.6666666666666666,
              "#ed7953"
             ],
             [
              0.7777777777777778,
              "#fb9f3a"
             ],
             [
              0.8888888888888888,
              "#fdca26"
             ],
             [
              1,
              "#f0f921"
             ]
            ],
            "type": "histogram2d"
           }
          ],
          "histogram2dcontour": [
           {
            "colorbar": {
             "outlinewidth": 0,
             "ticks": ""
            },
            "colorscale": [
             [
              0,
              "#0d0887"
             ],
             [
              0.1111111111111111,
              "#46039f"
             ],
             [
              0.2222222222222222,
              "#7201a8"
             ],
             [
              0.3333333333333333,
              "#9c179e"
             ],
             [
              0.4444444444444444,
              "#bd3786"
             ],
             [
              0.5555555555555556,
              "#d8576b"
             ],
             [
              0.6666666666666666,
              "#ed7953"
             ],
             [
              0.7777777777777778,
              "#fb9f3a"
             ],
             [
              0.8888888888888888,
              "#fdca26"
             ],
             [
              1,
              "#f0f921"
             ]
            ],
            "type": "histogram2dcontour"
           }
          ],
          "mesh3d": [
           {
            "colorbar": {
             "outlinewidth": 0,
             "ticks": ""
            },
            "type": "mesh3d"
           }
          ],
          "parcoords": [
           {
            "line": {
             "colorbar": {
              "outlinewidth": 0,
              "ticks": ""
             }
            },
            "type": "parcoords"
           }
          ],
          "pie": [
           {
            "automargin": true,
            "type": "pie"
           }
          ],
          "scatter": [
           {
            "fillpattern": {
             "fillmode": "overlay",
             "size": 10,
             "solidity": 0.2
            },
            "type": "scatter"
           }
          ],
          "scatter3d": [
           {
            "line": {
             "colorbar": {
              "outlinewidth": 0,
              "ticks": ""
             }
            },
            "marker": {
             "colorbar": {
              "outlinewidth": 0,
              "ticks": ""
             }
            },
            "type": "scatter3d"
           }
          ],
          "scattercarpet": [
           {
            "marker": {
             "colorbar": {
              "outlinewidth": 0,
              "ticks": ""
             }
            },
            "type": "scattercarpet"
           }
          ],
          "scattergeo": [
           {
            "marker": {
             "colorbar": {
              "outlinewidth": 0,
              "ticks": ""
             }
            },
            "type": "scattergeo"
           }
          ],
          "scattergl": [
           {
            "marker": {
             "colorbar": {
              "outlinewidth": 0,
              "ticks": ""
             }
            },
            "type": "scattergl"
           }
          ],
          "scattermapbox": [
           {
            "marker": {
             "colorbar": {
              "outlinewidth": 0,
              "ticks": ""
             }
            },
            "type": "scattermapbox"
           }
          ],
          "scatterpolar": [
           {
            "marker": {
             "colorbar": {
              "outlinewidth": 0,
              "ticks": ""
             }
            },
            "type": "scatterpolar"
           }
          ],
          "scatterpolargl": [
           {
            "marker": {
             "colorbar": {
              "outlinewidth": 0,
              "ticks": ""
             }
            },
            "type": "scatterpolargl"
           }
          ],
          "scatterternary": [
           {
            "marker": {
             "colorbar": {
              "outlinewidth": 0,
              "ticks": ""
             }
            },
            "type": "scatterternary"
           }
          ],
          "surface": [
           {
            "colorbar": {
             "outlinewidth": 0,
             "ticks": ""
            },
            "colorscale": [
             [
              0,
              "#0d0887"
             ],
             [
              0.1111111111111111,
              "#46039f"
             ],
             [
              0.2222222222222222,
              "#7201a8"
             ],
             [
              0.3333333333333333,
              "#9c179e"
             ],
             [
              0.4444444444444444,
              "#bd3786"
             ],
             [
              0.5555555555555556,
              "#d8576b"
             ],
             [
              0.6666666666666666,
              "#ed7953"
             ],
             [
              0.7777777777777778,
              "#fb9f3a"
             ],
             [
              0.8888888888888888,
              "#fdca26"
             ],
             [
              1,
              "#f0f921"
             ]
            ],
            "type": "surface"
           }
          ],
          "table": [
           {
            "cells": {
             "fill": {
              "color": "#EBF0F8"
             },
             "line": {
              "color": "white"
             }
            },
            "header": {
             "fill": {
              "color": "#C8D4E3"
             },
             "line": {
              "color": "white"
             }
            },
            "type": "table"
           }
          ]
         },
         "layout": {
          "annotationdefaults": {
           "arrowcolor": "#2a3f5f",
           "arrowhead": 0,
           "arrowwidth": 1
          },
          "autotypenumbers": "strict",
          "coloraxis": {
           "colorbar": {
            "outlinewidth": 0,
            "ticks": ""
           }
          },
          "colorscale": {
           "diverging": [
            [
             0,
             "#8e0152"
            ],
            [
             0.1,
             "#c51b7d"
            ],
            [
             0.2,
             "#de77ae"
            ],
            [
             0.3,
             "#f1b6da"
            ],
            [
             0.4,
             "#fde0ef"
            ],
            [
             0.5,
             "#f7f7f7"
            ],
            [
             0.6,
             "#e6f5d0"
            ],
            [
             0.7,
             "#b8e186"
            ],
            [
             0.8,
             "#7fbc41"
            ],
            [
             0.9,
             "#4d9221"
            ],
            [
             1,
             "#276419"
            ]
           ],
           "sequential": [
            [
             0,
             "#0d0887"
            ],
            [
             0.1111111111111111,
             "#46039f"
            ],
            [
             0.2222222222222222,
             "#7201a8"
            ],
            [
             0.3333333333333333,
             "#9c179e"
            ],
            [
             0.4444444444444444,
             "#bd3786"
            ],
            [
             0.5555555555555556,
             "#d8576b"
            ],
            [
             0.6666666666666666,
             "#ed7953"
            ],
            [
             0.7777777777777778,
             "#fb9f3a"
            ],
            [
             0.8888888888888888,
             "#fdca26"
            ],
            [
             1,
             "#f0f921"
            ]
           ],
           "sequentialminus": [
            [
             0,
             "#0d0887"
            ],
            [
             0.1111111111111111,
             "#46039f"
            ],
            [
             0.2222222222222222,
             "#7201a8"
            ],
            [
             0.3333333333333333,
             "#9c179e"
            ],
            [
             0.4444444444444444,
             "#bd3786"
            ],
            [
             0.5555555555555556,
             "#d8576b"
            ],
            [
             0.6666666666666666,
             "#ed7953"
            ],
            [
             0.7777777777777778,
             "#fb9f3a"
            ],
            [
             0.8888888888888888,
             "#fdca26"
            ],
            [
             1,
             "#f0f921"
            ]
           ]
          },
          "colorway": [
           "#636efa",
           "#EF553B",
           "#00cc96",
           "#ab63fa",
           "#FFA15A",
           "#19d3f3",
           "#FF6692",
           "#B6E880",
           "#FF97FF",
           "#FECB52"
          ],
          "font": {
           "color": "#2a3f5f"
          },
          "geo": {
           "bgcolor": "white",
           "lakecolor": "white",
           "landcolor": "#E5ECF6",
           "showlakes": true,
           "showland": true,
           "subunitcolor": "white"
          },
          "hoverlabel": {
           "align": "left"
          },
          "hovermode": "closest",
          "mapbox": {
           "style": "light"
          },
          "paper_bgcolor": "white",
          "plot_bgcolor": "#E5ECF6",
          "polar": {
           "angularaxis": {
            "gridcolor": "white",
            "linecolor": "white",
            "ticks": ""
           },
           "bgcolor": "#E5ECF6",
           "radialaxis": {
            "gridcolor": "white",
            "linecolor": "white",
            "ticks": ""
           }
          },
          "scene": {
           "xaxis": {
            "backgroundcolor": "#E5ECF6",
            "gridcolor": "white",
            "gridwidth": 2,
            "linecolor": "white",
            "showbackground": true,
            "ticks": "",
            "zerolinecolor": "white"
           },
           "yaxis": {
            "backgroundcolor": "#E5ECF6",
            "gridcolor": "white",
            "gridwidth": 2,
            "linecolor": "white",
            "showbackground": true,
            "ticks": "",
            "zerolinecolor": "white"
           },
           "zaxis": {
            "backgroundcolor": "#E5ECF6",
            "gridcolor": "white",
            "gridwidth": 2,
            "linecolor": "white",
            "showbackground": true,
            "ticks": "",
            "zerolinecolor": "white"
           }
          },
          "shapedefaults": {
           "line": {
            "color": "#2a3f5f"
           }
          },
          "ternary": {
           "aaxis": {
            "gridcolor": "white",
            "linecolor": "white",
            "ticks": ""
           },
           "baxis": {
            "gridcolor": "white",
            "linecolor": "white",
            "ticks": ""
           },
           "bgcolor": "#E5ECF6",
           "caxis": {
            "gridcolor": "white",
            "linecolor": "white",
            "ticks": ""
           }
          },
          "title": {
           "x": 0.05
          },
          "xaxis": {
           "automargin": true,
           "gridcolor": "white",
           "linecolor": "white",
           "ticks": "",
           "title": {
            "standoff": 15
           },
           "zerolinecolor": "white",
           "zerolinewidth": 2
          },
          "yaxis": {
           "automargin": true,
           "gridcolor": "white",
           "linecolor": "white",
           "ticks": "",
           "title": {
            "standoff": 15
           },
           "zerolinecolor": "white",
           "zerolinewidth": 2
          }
         }
        },
        "title": {
         "text": "Зависимость коэффициента эффективности от ранга задачи"
        },
        "xaxis": {
         "title": {
          "text": "Ранг задачи"
         }
        },
        "yaxis": {
         "title": {
          "text": "Коэффициент эффективности e(r)"
         }
        }
       }
      }
     },
     "metadata": {},
     "output_type": "display_data"
    }
   ],
   "source": [
    "# Efficency coefficient graphic (dependence on problem rank)\n",
    "stages_amount = 6\n",
    "x_vector = []\n",
    "y_vector = []\n",
    "for i in range(1, 20):\n",
    "    vector_1 = [random.randint(0, 63) for _ in range(i)]\n",
    "    vector_2 = [random.randint(0, 63) for _ in range(i)]\n",
    "    seq_pipeline = ArithmeticPipeline(vector_1, vector_2, 1, 6)\n",
    "    par_pipeline = ArithmeticPipeline(vector_1, vector_2, 6, 6)\n",
    "    while seq_pipeline.is_busy:\n",
    "        seq_pipeline.tact()\n",
    "    while par_pipeline.is_busy:\n",
    "        par_pipeline.tact()\n",
    "    x_vector.append(i)\n",
    "    y_vector.append(round(seq_pipeline.status['tacts_done'] / \n",
    "                          (par_pipeline.status['tacts_done'] * 6), 10))\n",
    "fig = go.Figure()\n",
    "fig.add_trace(\n",
    "    go.Scatter(x=x_vector, y=y_vector, mode='lines',\n",
    "               text=[f'r = {r}; e(r) = {y}' for r, y in enumerate(y_vector, 1)],\n",
    "               textposition='bottom center')\n",
    ")\n",
    "fig.update_layout(title_text='Зависимость коэффициента эффективности от ранга задачи',\n",
    "                  font=dict(size=20))\n",
    "fig.update_xaxes(title_text='Ранг задачи')\n",
    "fig.update_yaxes(title_text='Коэффициент эффективности e(r)')\n",
    "fig.show(width=1280, height=1280) "
   ]
  },
  {
   "cell_type": "code",
   "execution_count": 29,
   "metadata": {},
   "outputs": [
    {
     "data": {
      "application/vnd.plotly.v1+json": {
       "config": {
        "plotlyServerURL": "https://plot.ly"
       },
       "data": [
        {
         "mode": "markers",
         "text": [
          "r = 1; e(r) = 0.1666666667",
          "r = 2; e(r) = 0.2857142857",
          "r = 3; e(r) = 0.375",
          "r = 4; e(r) = 0.4444444444",
          "r = 5; e(r) = 0.5",
          "r = 6; e(r) = 0.5454545455",
          "r = 7; e(r) = 0.5833333333",
          "r = 8; e(r) = 0.6153846154",
          "r = 9; e(r) = 0.6428571429",
          "r = 10; e(r) = 0.6666666667",
          "r = 11; e(r) = 0.6875",
          "r = 12; e(r) = 0.7058823529",
          "r = 13; e(r) = 0.7222222222",
          "r = 14; e(r) = 0.7368421053",
          "r = 15; e(r) = 0.75",
          "r = 16; e(r) = 0.7619047619",
          "r = 17; e(r) = 0.7727272727",
          "r = 18; e(r) = 0.7826086957",
          "r = 19; e(r) = 0.7916666667"
         ],
         "textposition": "bottom center",
         "type": "scatter",
         "x": [
          1,
          2,
          3,
          4,
          5,
          6,
          7,
          8,
          9,
          10,
          11,
          12,
          13,
          14,
          15,
          16,
          17,
          18,
          19
         ],
         "y": [
          0.1666666667,
          0.2857142857,
          0.375,
          0.4444444444,
          0.5,
          0.5454545455,
          0.5833333333,
          0.6153846154,
          0.6428571429,
          0.6666666667,
          0.6875,
          0.7058823529,
          0.7222222222,
          0.7368421053,
          0.75,
          0.7619047619,
          0.7727272727,
          0.7826086957,
          0.7916666667
         ]
        }
       ],
       "layout": {
        "font": {
         "size": 20
        },
        "template": {
         "data": {
          "bar": [
           {
            "error_x": {
             "color": "#2a3f5f"
            },
            "error_y": {
             "color": "#2a3f5f"
            },
            "marker": {
             "line": {
              "color": "#E5ECF6",
              "width": 0.5
             },
             "pattern": {
              "fillmode": "overlay",
              "size": 10,
              "solidity": 0.2
             }
            },
            "type": "bar"
           }
          ],
          "barpolar": [
           {
            "marker": {
             "line": {
              "color": "#E5ECF6",
              "width": 0.5
             },
             "pattern": {
              "fillmode": "overlay",
              "size": 10,
              "solidity": 0.2
             }
            },
            "type": "barpolar"
           }
          ],
          "carpet": [
           {
            "aaxis": {
             "endlinecolor": "#2a3f5f",
             "gridcolor": "white",
             "linecolor": "white",
             "minorgridcolor": "white",
             "startlinecolor": "#2a3f5f"
            },
            "baxis": {
             "endlinecolor": "#2a3f5f",
             "gridcolor": "white",
             "linecolor": "white",
             "minorgridcolor": "white",
             "startlinecolor": "#2a3f5f"
            },
            "type": "carpet"
           }
          ],
          "choropleth": [
           {
            "colorbar": {
             "outlinewidth": 0,
             "ticks": ""
            },
            "type": "choropleth"
           }
          ],
          "contour": [
           {
            "colorbar": {
             "outlinewidth": 0,
             "ticks": ""
            },
            "colorscale": [
             [
              0,
              "#0d0887"
             ],
             [
              0.1111111111111111,
              "#46039f"
             ],
             [
              0.2222222222222222,
              "#7201a8"
             ],
             [
              0.3333333333333333,
              "#9c179e"
             ],
             [
              0.4444444444444444,
              "#bd3786"
             ],
             [
              0.5555555555555556,
              "#d8576b"
             ],
             [
              0.6666666666666666,
              "#ed7953"
             ],
             [
              0.7777777777777778,
              "#fb9f3a"
             ],
             [
              0.8888888888888888,
              "#fdca26"
             ],
             [
              1,
              "#f0f921"
             ]
            ],
            "type": "contour"
           }
          ],
          "contourcarpet": [
           {
            "colorbar": {
             "outlinewidth": 0,
             "ticks": ""
            },
            "type": "contourcarpet"
           }
          ],
          "heatmap": [
           {
            "colorbar": {
             "outlinewidth": 0,
             "ticks": ""
            },
            "colorscale": [
             [
              0,
              "#0d0887"
             ],
             [
              0.1111111111111111,
              "#46039f"
             ],
             [
              0.2222222222222222,
              "#7201a8"
             ],
             [
              0.3333333333333333,
              "#9c179e"
             ],
             [
              0.4444444444444444,
              "#bd3786"
             ],
             [
              0.5555555555555556,
              "#d8576b"
             ],
             [
              0.6666666666666666,
              "#ed7953"
             ],
             [
              0.7777777777777778,
              "#fb9f3a"
             ],
             [
              0.8888888888888888,
              "#fdca26"
             ],
             [
              1,
              "#f0f921"
             ]
            ],
            "type": "heatmap"
           }
          ],
          "heatmapgl": [
           {
            "colorbar": {
             "outlinewidth": 0,
             "ticks": ""
            },
            "colorscale": [
             [
              0,
              "#0d0887"
             ],
             [
              0.1111111111111111,
              "#46039f"
             ],
             [
              0.2222222222222222,
              "#7201a8"
             ],
             [
              0.3333333333333333,
              "#9c179e"
             ],
             [
              0.4444444444444444,
              "#bd3786"
             ],
             [
              0.5555555555555556,
              "#d8576b"
             ],
             [
              0.6666666666666666,
              "#ed7953"
             ],
             [
              0.7777777777777778,
              "#fb9f3a"
             ],
             [
              0.8888888888888888,
              "#fdca26"
             ],
             [
              1,
              "#f0f921"
             ]
            ],
            "type": "heatmapgl"
           }
          ],
          "histogram": [
           {
            "marker": {
             "pattern": {
              "fillmode": "overlay",
              "size": 10,
              "solidity": 0.2
             }
            },
            "type": "histogram"
           }
          ],
          "histogram2d": [
           {
            "colorbar": {
             "outlinewidth": 0,
             "ticks": ""
            },
            "colorscale": [
             [
              0,
              "#0d0887"
             ],
             [
              0.1111111111111111,
              "#46039f"
             ],
             [
              0.2222222222222222,
              "#7201a8"
             ],
             [
              0.3333333333333333,
              "#9c179e"
             ],
             [
              0.4444444444444444,
              "#bd3786"
             ],
             [
              0.5555555555555556,
              "#d8576b"
             ],
             [
              0.6666666666666666,
              "#ed7953"
             ],
             [
              0.7777777777777778,
              "#fb9f3a"
             ],
             [
              0.8888888888888888,
              "#fdca26"
             ],
             [
              1,
              "#f0f921"
             ]
            ],
            "type": "histogram2d"
           }
          ],
          "histogram2dcontour": [
           {
            "colorbar": {
             "outlinewidth": 0,
             "ticks": ""
            },
            "colorscale": [
             [
              0,
              "#0d0887"
             ],
             [
              0.1111111111111111,
              "#46039f"
             ],
             [
              0.2222222222222222,
              "#7201a8"
             ],
             [
              0.3333333333333333,
              "#9c179e"
             ],
             [
              0.4444444444444444,
              "#bd3786"
             ],
             [
              0.5555555555555556,
              "#d8576b"
             ],
             [
              0.6666666666666666,
              "#ed7953"
             ],
             [
              0.7777777777777778,
              "#fb9f3a"
             ],
             [
              0.8888888888888888,
              "#fdca26"
             ],
             [
              1,
              "#f0f921"
             ]
            ],
            "type": "histogram2dcontour"
           }
          ],
          "mesh3d": [
           {
            "colorbar": {
             "outlinewidth": 0,
             "ticks": ""
            },
            "type": "mesh3d"
           }
          ],
          "parcoords": [
           {
            "line": {
             "colorbar": {
              "outlinewidth": 0,
              "ticks": ""
             }
            },
            "type": "parcoords"
           }
          ],
          "pie": [
           {
            "automargin": true,
            "type": "pie"
           }
          ],
          "scatter": [
           {
            "fillpattern": {
             "fillmode": "overlay",
             "size": 10,
             "solidity": 0.2
            },
            "type": "scatter"
           }
          ],
          "scatter3d": [
           {
            "line": {
             "colorbar": {
              "outlinewidth": 0,
              "ticks": ""
             }
            },
            "marker": {
             "colorbar": {
              "outlinewidth": 0,
              "ticks": ""
             }
            },
            "type": "scatter3d"
           }
          ],
          "scattercarpet": [
           {
            "marker": {
             "colorbar": {
              "outlinewidth": 0,
              "ticks": ""
             }
            },
            "type": "scattercarpet"
           }
          ],
          "scattergeo": [
           {
            "marker": {
             "colorbar": {
              "outlinewidth": 0,
              "ticks": ""
             }
            },
            "type": "scattergeo"
           }
          ],
          "scattergl": [
           {
            "marker": {
             "colorbar": {
              "outlinewidth": 0,
              "ticks": ""
             }
            },
            "type": "scattergl"
           }
          ],
          "scattermapbox": [
           {
            "marker": {
             "colorbar": {
              "outlinewidth": 0,
              "ticks": ""
             }
            },
            "type": "scattermapbox"
           }
          ],
          "scatterpolar": [
           {
            "marker": {
             "colorbar": {
              "outlinewidth": 0,
              "ticks": ""
             }
            },
            "type": "scatterpolar"
           }
          ],
          "scatterpolargl": [
           {
            "marker": {
             "colorbar": {
              "outlinewidth": 0,
              "ticks": ""
             }
            },
            "type": "scatterpolargl"
           }
          ],
          "scatterternary": [
           {
            "marker": {
             "colorbar": {
              "outlinewidth": 0,
              "ticks": ""
             }
            },
            "type": "scatterternary"
           }
          ],
          "surface": [
           {
            "colorbar": {
             "outlinewidth": 0,
             "ticks": ""
            },
            "colorscale": [
             [
              0,
              "#0d0887"
             ],
             [
              0.1111111111111111,
              "#46039f"
             ],
             [
              0.2222222222222222,
              "#7201a8"
             ],
             [
              0.3333333333333333,
              "#9c179e"
             ],
             [
              0.4444444444444444,
              "#bd3786"
             ],
             [
              0.5555555555555556,
              "#d8576b"
             ],
             [
              0.6666666666666666,
              "#ed7953"
             ],
             [
              0.7777777777777778,
              "#fb9f3a"
             ],
             [
              0.8888888888888888,
              "#fdca26"
             ],
             [
              1,
              "#f0f921"
             ]
            ],
            "type": "surface"
           }
          ],
          "table": [
           {
            "cells": {
             "fill": {
              "color": "#EBF0F8"
             },
             "line": {
              "color": "white"
             }
            },
            "header": {
             "fill": {
              "color": "#C8D4E3"
             },
             "line": {
              "color": "white"
             }
            },
            "type": "table"
           }
          ]
         },
         "layout": {
          "annotationdefaults": {
           "arrowcolor": "#2a3f5f",
           "arrowhead": 0,
           "arrowwidth": 1
          },
          "autotypenumbers": "strict",
          "coloraxis": {
           "colorbar": {
            "outlinewidth": 0,
            "ticks": ""
           }
          },
          "colorscale": {
           "diverging": [
            [
             0,
             "#8e0152"
            ],
            [
             0.1,
             "#c51b7d"
            ],
            [
             0.2,
             "#de77ae"
            ],
            [
             0.3,
             "#f1b6da"
            ],
            [
             0.4,
             "#fde0ef"
            ],
            [
             0.5,
             "#f7f7f7"
            ],
            [
             0.6,
             "#e6f5d0"
            ],
            [
             0.7,
             "#b8e186"
            ],
            [
             0.8,
             "#7fbc41"
            ],
            [
             0.9,
             "#4d9221"
            ],
            [
             1,
             "#276419"
            ]
           ],
           "sequential": [
            [
             0,
             "#0d0887"
            ],
            [
             0.1111111111111111,
             "#46039f"
            ],
            [
             0.2222222222222222,
             "#7201a8"
            ],
            [
             0.3333333333333333,
             "#9c179e"
            ],
            [
             0.4444444444444444,
             "#bd3786"
            ],
            [
             0.5555555555555556,
             "#d8576b"
            ],
            [
             0.6666666666666666,
             "#ed7953"
            ],
            [
             0.7777777777777778,
             "#fb9f3a"
            ],
            [
             0.8888888888888888,
             "#fdca26"
            ],
            [
             1,
             "#f0f921"
            ]
           ],
           "sequentialminus": [
            [
             0,
             "#0d0887"
            ],
            [
             0.1111111111111111,
             "#46039f"
            ],
            [
             0.2222222222222222,
             "#7201a8"
            ],
            [
             0.3333333333333333,
             "#9c179e"
            ],
            [
             0.4444444444444444,
             "#bd3786"
            ],
            [
             0.5555555555555556,
             "#d8576b"
            ],
            [
             0.6666666666666666,
             "#ed7953"
            ],
            [
             0.7777777777777778,
             "#fb9f3a"
            ],
            [
             0.8888888888888888,
             "#fdca26"
            ],
            [
             1,
             "#f0f921"
            ]
           ]
          },
          "colorway": [
           "#636efa",
           "#EF553B",
           "#00cc96",
           "#ab63fa",
           "#FFA15A",
           "#19d3f3",
           "#FF6692",
           "#B6E880",
           "#FF97FF",
           "#FECB52"
          ],
          "font": {
           "color": "#2a3f5f"
          },
          "geo": {
           "bgcolor": "white",
           "lakecolor": "white",
           "landcolor": "#E5ECF6",
           "showlakes": true,
           "showland": true,
           "subunitcolor": "white"
          },
          "hoverlabel": {
           "align": "left"
          },
          "hovermode": "closest",
          "mapbox": {
           "style": "light"
          },
          "paper_bgcolor": "white",
          "plot_bgcolor": "#E5ECF6",
          "polar": {
           "angularaxis": {
            "gridcolor": "white",
            "linecolor": "white",
            "ticks": ""
           },
           "bgcolor": "#E5ECF6",
           "radialaxis": {
            "gridcolor": "white",
            "linecolor": "white",
            "ticks": ""
           }
          },
          "scene": {
           "xaxis": {
            "backgroundcolor": "#E5ECF6",
            "gridcolor": "white",
            "gridwidth": 2,
            "linecolor": "white",
            "showbackground": true,
            "ticks": "",
            "zerolinecolor": "white"
           },
           "yaxis": {
            "backgroundcolor": "#E5ECF6",
            "gridcolor": "white",
            "gridwidth": 2,
            "linecolor": "white",
            "showbackground": true,
            "ticks": "",
            "zerolinecolor": "white"
           },
           "zaxis": {
            "backgroundcolor": "#E5ECF6",
            "gridcolor": "white",
            "gridwidth": 2,
            "linecolor": "white",
            "showbackground": true,
            "ticks": "",
            "zerolinecolor": "white"
           }
          },
          "shapedefaults": {
           "line": {
            "color": "#2a3f5f"
           }
          },
          "ternary": {
           "aaxis": {
            "gridcolor": "white",
            "linecolor": "white",
            "ticks": ""
           },
           "baxis": {
            "gridcolor": "white",
            "linecolor": "white",
            "ticks": ""
           },
           "bgcolor": "#E5ECF6",
           "caxis": {
            "gridcolor": "white",
            "linecolor": "white",
            "ticks": ""
           }
          },
          "title": {
           "x": 0.05
          },
          "xaxis": {
           "automargin": true,
           "gridcolor": "white",
           "linecolor": "white",
           "ticks": "",
           "title": {
            "standoff": 15
           },
           "zerolinecolor": "white",
           "zerolinewidth": 2
          },
          "yaxis": {
           "automargin": true,
           "gridcolor": "white",
           "linecolor": "white",
           "ticks": "",
           "title": {
            "standoff": 15
           },
           "zerolinecolor": "white",
           "zerolinewidth": 2
          }
         }
        },
        "title": {
         "text": "Зависимость коэффициента эффективности от ранга задачи"
        },
        "xaxis": {
         "title": {
          "text": "Ранг задачи"
         }
        },
        "yaxis": {
         "title": {
          "text": "Коэффициент эффективности e(r)"
         }
        }
       }
      }
     },
     "metadata": {},
     "output_type": "display_data"
    }
   ],
   "source": [
    "# Efficency coefficient graphic (dependence on problem rank, stupid one)\n",
    "stages_amount = 6\n",
    "x_vector = []\n",
    "y_vector = []\n",
    "for i in range(1, 20):\n",
    "    vector_1 = [random.randint(0, 63) for _ in range(i)]\n",
    "    vector_2 = [random.randint(0, 63) for _ in range(i)]\n",
    "    seq_pipeline = ArithmeticPipeline(vector_1, vector_2, 1, 6)\n",
    "    par_pipeline = ArithmeticPipeline(vector_1, vector_2, 6, 6)\n",
    "    while seq_pipeline.is_busy:\n",
    "        seq_pipeline.tact()\n",
    "    while par_pipeline.is_busy:\n",
    "        par_pipeline.tact()\n",
    "    x_vector.append(i)\n",
    "    y_vector.append(round((i * 6) / \n",
    "                          ((i + 6 - 1) * 6), 10))\n",
    "fig = go.Figure()\n",
    "fig.add_trace(\n",
    "    go.Scatter(x=x_vector, y=y_vector, mode='markers',\n",
    "               text=[f'r = {r}; e(r) = {y}' for r, y in enumerate(y_vector, 1)],\n",
    "               textposition='bottom center')\n",
    ")\n",
    "fig.update_layout(title_text='Зависимость коэффициента эффективности от ранга задачи',\n",
    "                  font=dict(size=20))\n",
    "fig.update_xaxes(title_text='Ранг задачи')\n",
    "fig.update_yaxes(title_text='Коэффициент эффективности e(r)')\n",
    "fig.show(width=1280, height=1280) "
   ]
  },
  {
   "cell_type": "code",
   "execution_count": 6,
   "metadata": {},
   "outputs": [
    {
     "data": {
      "application/vnd.plotly.v1+json": {
       "config": {
        "plotlyServerURL": "https://plot.ly"
       },
       "data": [
        {
         "mode": "markers",
         "text": [
          "n = 1; e(n) = 1.0",
          "n = 2; e(n) = 0.98",
          "n = 3; e(n) = 0.93",
          "n = 4; e(n) = 0.91",
          "n = 5; e(n) = 0.86",
          "n = 6; e(n) = 0.8",
          "n = 7; e(n) = 0.66",
          "n = 8; e(n) = 0.56",
          "n = 9; e(n) = 0.48",
          "n = 10; e(n) = 0.41",
          "n = 11; e(n) = 0.36",
          "n = 12; e(n) = 0.32",
          "n = 13; e(n) = 0.29",
          "n = 14; e(n) = 0.26",
          "n = 15; e(n) = 0.24",
          "n = 16; e(n) = 0.21",
          "n = 17; e(n) = 0.2",
          "n = 18; e(n) = 0.18",
          "n = 19; e(n) = 0.17"
         ],
         "textposition": "bottom center",
         "type": "scatter",
         "x": [
          1,
          2,
          3,
          4,
          5,
          6,
          7,
          8,
          9,
          10,
          11,
          12,
          13,
          14,
          15,
          16,
          17,
          18,
          19
         ],
         "y": [
          1,
          0.98,
          0.93,
          0.91,
          0.86,
          0.8,
          0.66,
          0.56,
          0.48,
          0.41,
          0.36,
          0.32,
          0.29,
          0.26,
          0.24,
          0.21,
          0.2,
          0.18,
          0.17
         ]
        }
       ],
       "layout": {
        "font": {
         "size": 20
        },
        "template": {
         "data": {
          "bar": [
           {
            "error_x": {
             "color": "#2a3f5f"
            },
            "error_y": {
             "color": "#2a3f5f"
            },
            "marker": {
             "line": {
              "color": "#E5ECF6",
              "width": 0.5
             },
             "pattern": {
              "fillmode": "overlay",
              "size": 10,
              "solidity": 0.2
             }
            },
            "type": "bar"
           }
          ],
          "barpolar": [
           {
            "marker": {
             "line": {
              "color": "#E5ECF6",
              "width": 0.5
             },
             "pattern": {
              "fillmode": "overlay",
              "size": 10,
              "solidity": 0.2
             }
            },
            "type": "barpolar"
           }
          ],
          "carpet": [
           {
            "aaxis": {
             "endlinecolor": "#2a3f5f",
             "gridcolor": "white",
             "linecolor": "white",
             "minorgridcolor": "white",
             "startlinecolor": "#2a3f5f"
            },
            "baxis": {
             "endlinecolor": "#2a3f5f",
             "gridcolor": "white",
             "linecolor": "white",
             "minorgridcolor": "white",
             "startlinecolor": "#2a3f5f"
            },
            "type": "carpet"
           }
          ],
          "choropleth": [
           {
            "colorbar": {
             "outlinewidth": 0,
             "ticks": ""
            },
            "type": "choropleth"
           }
          ],
          "contour": [
           {
            "colorbar": {
             "outlinewidth": 0,
             "ticks": ""
            },
            "colorscale": [
             [
              0,
              "#0d0887"
             ],
             [
              0.1111111111111111,
              "#46039f"
             ],
             [
              0.2222222222222222,
              "#7201a8"
             ],
             [
              0.3333333333333333,
              "#9c179e"
             ],
             [
              0.4444444444444444,
              "#bd3786"
             ],
             [
              0.5555555555555556,
              "#d8576b"
             ],
             [
              0.6666666666666666,
              "#ed7953"
             ],
             [
              0.7777777777777778,
              "#fb9f3a"
             ],
             [
              0.8888888888888888,
              "#fdca26"
             ],
             [
              1,
              "#f0f921"
             ]
            ],
            "type": "contour"
           }
          ],
          "contourcarpet": [
           {
            "colorbar": {
             "outlinewidth": 0,
             "ticks": ""
            },
            "type": "contourcarpet"
           }
          ],
          "heatmap": [
           {
            "colorbar": {
             "outlinewidth": 0,
             "ticks": ""
            },
            "colorscale": [
             [
              0,
              "#0d0887"
             ],
             [
              0.1111111111111111,
              "#46039f"
             ],
             [
              0.2222222222222222,
              "#7201a8"
             ],
             [
              0.3333333333333333,
              "#9c179e"
             ],
             [
              0.4444444444444444,
              "#bd3786"
             ],
             [
              0.5555555555555556,
              "#d8576b"
             ],
             [
              0.6666666666666666,
              "#ed7953"
             ],
             [
              0.7777777777777778,
              "#fb9f3a"
             ],
             [
              0.8888888888888888,
              "#fdca26"
             ],
             [
              1,
              "#f0f921"
             ]
            ],
            "type": "heatmap"
           }
          ],
          "heatmapgl": [
           {
            "colorbar": {
             "outlinewidth": 0,
             "ticks": ""
            },
            "colorscale": [
             [
              0,
              "#0d0887"
             ],
             [
              0.1111111111111111,
              "#46039f"
             ],
             [
              0.2222222222222222,
              "#7201a8"
             ],
             [
              0.3333333333333333,
              "#9c179e"
             ],
             [
              0.4444444444444444,
              "#bd3786"
             ],
             [
              0.5555555555555556,
              "#d8576b"
             ],
             [
              0.6666666666666666,
              "#ed7953"
             ],
             [
              0.7777777777777778,
              "#fb9f3a"
             ],
             [
              0.8888888888888888,
              "#fdca26"
             ],
             [
              1,
              "#f0f921"
             ]
            ],
            "type": "heatmapgl"
           }
          ],
          "histogram": [
           {
            "marker": {
             "pattern": {
              "fillmode": "overlay",
              "size": 10,
              "solidity": 0.2
             }
            },
            "type": "histogram"
           }
          ],
          "histogram2d": [
           {
            "colorbar": {
             "outlinewidth": 0,
             "ticks": ""
            },
            "colorscale": [
             [
              0,
              "#0d0887"
             ],
             [
              0.1111111111111111,
              "#46039f"
             ],
             [
              0.2222222222222222,
              "#7201a8"
             ],
             [
              0.3333333333333333,
              "#9c179e"
             ],
             [
              0.4444444444444444,
              "#bd3786"
             ],
             [
              0.5555555555555556,
              "#d8576b"
             ],
             [
              0.6666666666666666,
              "#ed7953"
             ],
             [
              0.7777777777777778,
              "#fb9f3a"
             ],
             [
              0.8888888888888888,
              "#fdca26"
             ],
             [
              1,
              "#f0f921"
             ]
            ],
            "type": "histogram2d"
           }
          ],
          "histogram2dcontour": [
           {
            "colorbar": {
             "outlinewidth": 0,
             "ticks": ""
            },
            "colorscale": [
             [
              0,
              "#0d0887"
             ],
             [
              0.1111111111111111,
              "#46039f"
             ],
             [
              0.2222222222222222,
              "#7201a8"
             ],
             [
              0.3333333333333333,
              "#9c179e"
             ],
             [
              0.4444444444444444,
              "#bd3786"
             ],
             [
              0.5555555555555556,
              "#d8576b"
             ],
             [
              0.6666666666666666,
              "#ed7953"
             ],
             [
              0.7777777777777778,
              "#fb9f3a"
             ],
             [
              0.8888888888888888,
              "#fdca26"
             ],
             [
              1,
              "#f0f921"
             ]
            ],
            "type": "histogram2dcontour"
           }
          ],
          "mesh3d": [
           {
            "colorbar": {
             "outlinewidth": 0,
             "ticks": ""
            },
            "type": "mesh3d"
           }
          ],
          "parcoords": [
           {
            "line": {
             "colorbar": {
              "outlinewidth": 0,
              "ticks": ""
             }
            },
            "type": "parcoords"
           }
          ],
          "pie": [
           {
            "automargin": true,
            "type": "pie"
           }
          ],
          "scatter": [
           {
            "fillpattern": {
             "fillmode": "overlay",
             "size": 10,
             "solidity": 0.2
            },
            "type": "scatter"
           }
          ],
          "scatter3d": [
           {
            "line": {
             "colorbar": {
              "outlinewidth": 0,
              "ticks": ""
             }
            },
            "marker": {
             "colorbar": {
              "outlinewidth": 0,
              "ticks": ""
             }
            },
            "type": "scatter3d"
           }
          ],
          "scattercarpet": [
           {
            "marker": {
             "colorbar": {
              "outlinewidth": 0,
              "ticks": ""
             }
            },
            "type": "scattercarpet"
           }
          ],
          "scattergeo": [
           {
            "marker": {
             "colorbar": {
              "outlinewidth": 0,
              "ticks": ""
             }
            },
            "type": "scattergeo"
           }
          ],
          "scattergl": [
           {
            "marker": {
             "colorbar": {
              "outlinewidth": 0,
              "ticks": ""
             }
            },
            "type": "scattergl"
           }
          ],
          "scattermapbox": [
           {
            "marker": {
             "colorbar": {
              "outlinewidth": 0,
              "ticks": ""
             }
            },
            "type": "scattermapbox"
           }
          ],
          "scatterpolar": [
           {
            "marker": {
             "colorbar": {
              "outlinewidth": 0,
              "ticks": ""
             }
            },
            "type": "scatterpolar"
           }
          ],
          "scatterpolargl": [
           {
            "marker": {
             "colorbar": {
              "outlinewidth": 0,
              "ticks": ""
             }
            },
            "type": "scatterpolargl"
           }
          ],
          "scatterternary": [
           {
            "marker": {
             "colorbar": {
              "outlinewidth": 0,
              "ticks": ""
             }
            },
            "type": "scatterternary"
           }
          ],
          "surface": [
           {
            "colorbar": {
             "outlinewidth": 0,
             "ticks": ""
            },
            "colorscale": [
             [
              0,
              "#0d0887"
             ],
             [
              0.1111111111111111,
              "#46039f"
             ],
             [
              0.2222222222222222,
              "#7201a8"
             ],
             [
              0.3333333333333333,
              "#9c179e"
             ],
             [
              0.4444444444444444,
              "#bd3786"
             ],
             [
              0.5555555555555556,
              "#d8576b"
             ],
             [
              0.6666666666666666,
              "#ed7953"
             ],
             [
              0.7777777777777778,
              "#fb9f3a"
             ],
             [
              0.8888888888888888,
              "#fdca26"
             ],
             [
              1,
              "#f0f921"
             ]
            ],
            "type": "surface"
           }
          ],
          "table": [
           {
            "cells": {
             "fill": {
              "color": "#EBF0F8"
             },
             "line": {
              "color": "white"
             }
            },
            "header": {
             "fill": {
              "color": "#C8D4E3"
             },
             "line": {
              "color": "white"
             }
            },
            "type": "table"
           }
          ]
         },
         "layout": {
          "annotationdefaults": {
           "arrowcolor": "#2a3f5f",
           "arrowhead": 0,
           "arrowwidth": 1
          },
          "autotypenumbers": "strict",
          "coloraxis": {
           "colorbar": {
            "outlinewidth": 0,
            "ticks": ""
           }
          },
          "colorscale": {
           "diverging": [
            [
             0,
             "#8e0152"
            ],
            [
             0.1,
             "#c51b7d"
            ],
            [
             0.2,
             "#de77ae"
            ],
            [
             0.3,
             "#f1b6da"
            ],
            [
             0.4,
             "#fde0ef"
            ],
            [
             0.5,
             "#f7f7f7"
            ],
            [
             0.6,
             "#e6f5d0"
            ],
            [
             0.7,
             "#b8e186"
            ],
            [
             0.8,
             "#7fbc41"
            ],
            [
             0.9,
             "#4d9221"
            ],
            [
             1,
             "#276419"
            ]
           ],
           "sequential": [
            [
             0,
             "#0d0887"
            ],
            [
             0.1111111111111111,
             "#46039f"
            ],
            [
             0.2222222222222222,
             "#7201a8"
            ],
            [
             0.3333333333333333,
             "#9c179e"
            ],
            [
             0.4444444444444444,
             "#bd3786"
            ],
            [
             0.5555555555555556,
             "#d8576b"
            ],
            [
             0.6666666666666666,
             "#ed7953"
            ],
            [
             0.7777777777777778,
             "#fb9f3a"
            ],
            [
             0.8888888888888888,
             "#fdca26"
            ],
            [
             1,
             "#f0f921"
            ]
           ],
           "sequentialminus": [
            [
             0,
             "#0d0887"
            ],
            [
             0.1111111111111111,
             "#46039f"
            ],
            [
             0.2222222222222222,
             "#7201a8"
            ],
            [
             0.3333333333333333,
             "#9c179e"
            ],
            [
             0.4444444444444444,
             "#bd3786"
            ],
            [
             0.5555555555555556,
             "#d8576b"
            ],
            [
             0.6666666666666666,
             "#ed7953"
            ],
            [
             0.7777777777777778,
             "#fb9f3a"
            ],
            [
             0.8888888888888888,
             "#fdca26"
            ],
            [
             1,
             "#f0f921"
            ]
           ]
          },
          "colorway": [
           "#636efa",
           "#EF553B",
           "#00cc96",
           "#ab63fa",
           "#FFA15A",
           "#19d3f3",
           "#FF6692",
           "#B6E880",
           "#FF97FF",
           "#FECB52"
          ],
          "font": {
           "color": "#2a3f5f"
          },
          "geo": {
           "bgcolor": "white",
           "lakecolor": "white",
           "landcolor": "#E5ECF6",
           "showlakes": true,
           "showland": true,
           "subunitcolor": "white"
          },
          "hoverlabel": {
           "align": "left"
          },
          "hovermode": "closest",
          "mapbox": {
           "style": "light"
          },
          "paper_bgcolor": "white",
          "plot_bgcolor": "#E5ECF6",
          "polar": {
           "angularaxis": {
            "gridcolor": "white",
            "linecolor": "white",
            "ticks": ""
           },
           "bgcolor": "#E5ECF6",
           "radialaxis": {
            "gridcolor": "white",
            "linecolor": "white",
            "ticks": ""
           }
          },
          "scene": {
           "xaxis": {
            "backgroundcolor": "#E5ECF6",
            "gridcolor": "white",
            "gridwidth": 2,
            "linecolor": "white",
            "showbackground": true,
            "ticks": "",
            "zerolinecolor": "white"
           },
           "yaxis": {
            "backgroundcolor": "#E5ECF6",
            "gridcolor": "white",
            "gridwidth": 2,
            "linecolor": "white",
            "showbackground": true,
            "ticks": "",
            "zerolinecolor": "white"
           },
           "zaxis": {
            "backgroundcolor": "#E5ECF6",
            "gridcolor": "white",
            "gridwidth": 2,
            "linecolor": "white",
            "showbackground": true,
            "ticks": "",
            "zerolinecolor": "white"
           }
          },
          "shapedefaults": {
           "line": {
            "color": "#2a3f5f"
           }
          },
          "ternary": {
           "aaxis": {
            "gridcolor": "white",
            "linecolor": "white",
            "ticks": ""
           },
           "baxis": {
            "gridcolor": "white",
            "linecolor": "white",
            "ticks": ""
           },
           "bgcolor": "#E5ECF6",
           "caxis": {
            "gridcolor": "white",
            "linecolor": "white",
            "ticks": ""
           }
          },
          "title": {
           "x": 0.05
          },
          "xaxis": {
           "automargin": true,
           "gridcolor": "white",
           "linecolor": "white",
           "ticks": "",
           "title": {
            "standoff": 15
           },
           "zerolinecolor": "white",
           "zerolinewidth": 2
          },
          "yaxis": {
           "automargin": true,
           "gridcolor": "white",
           "linecolor": "white",
           "ticks": "",
           "title": {
            "standoff": 15
           },
           "zerolinecolor": "white",
           "zerolinewidth": 2
          }
         }
        },
        "title": {
         "text": "Зависимость коэффициента эффективности от количества процессорных элементов"
        },
        "xaxis": {
         "title": {
          "text": "Количество процессорных элементов"
         }
        },
        "yaxis": {
         "title": {
          "text": "Коэффициент эффективности e(n)"
         }
        }
       }
      }
     },
     "metadata": {},
     "output_type": "display_data"
    }
   ],
   "source": [
    "# Efficency coefficient graphic (dependence on proceccing elems, based on 20 size num vector)\n",
    "vector_size = 20\n",
    "x_vector = []\n",
    "y_vector = []\n",
    "for i in range(1, 20):\n",
    "    vector_1 = [random.randint(0, 63) for _ in range(vector_size)]\n",
    "    vector_2 = [random.randint(0, 63) for _ in range(vector_size)]\n",
    "    seq_pipeline = ArithmeticPipeline(vector_1, vector_2, 1, 6)\n",
    "    par_pipeline = ArithmeticPipeline(vector_1, vector_2, i, 6)\n",
    "    while seq_pipeline.is_busy:\n",
    "        seq_pipeline.tact()\n",
    "    while par_pipeline.is_busy:\n",
    "        par_pipeline.tact()\n",
    "    x_vector.append(i)\n",
    "    y_vector.append(round(seq_pipeline.status['tacts_done'] / \n",
    "                          (par_pipeline.status['tacts_done'] * i), 2))\n",
    "fig = go.Figure()\n",
    "fig.add_trace(\n",
    "    go.Scatter(x=x_vector, y=y_vector, mode='markers',\n",
    "               text=[f'n = {n}; e(n) = {y}' for n, y in enumerate(y_vector, 1)],\n",
    "               textposition='bottom center')\n",
    ")\n",
    "fig.update_layout(title_text='Зависимость коэффициента эффективности от количества процессорных элементов',\n",
    "                  font=dict(size=20))\n",
    "fig.update_xaxes(title_text='Количество процессорных элементов')\n",
    "fig.update_yaxes(title_text='Коэффициент эффективности e(n)')\n",
    "fig.show(width=1280, height=720, autosize=True) "
   ]
  },
  {
   "cell_type": "code",
   "execution_count": 32,
   "metadata": {},
   "outputs": [
    {
     "data": {
      "application/vnd.plotly.v1+json": {
       "config": {
        "plotlyServerURL": "https://plot.ly"
       },
       "data": [
        {
         "mode": "markers",
         "text": [
          "n = 6; e(n) = 0.1666666667",
          "n = 6; e(n) = 0.2857142857",
          "n = 6; e(n) = 0.375",
          "n = 6; e(n) = 0.4444444444",
          "n = 6; e(n) = 0.5",
          "n = 6; e(n) = 0.5454545455",
          "n = 6; e(n) = 0.5833333333",
          "n = 6; e(n) = 0.6153846154",
          "n = 6; e(n) = 0.6428571429",
          "n = 6; e(n) = 0.6666666667",
          "n = 6; e(n) = 0.6875",
          "n = 6; e(n) = 0.7058823529",
          "n = 6; e(n) = 0.7222222222",
          "n = 6; e(n) = 0.7368421053",
          "n = 6; e(n) = 0.75",
          "n = 6; e(n) = 0.7619047619",
          "n = 6; e(n) = 0.7727272727",
          "n = 6; e(n) = 0.7826086957",
          "n = 6; e(n) = 0.7916666667",
          "n = 6; e(n) = 0.8",
          "n = 6; e(n) = 0.8076923077",
          "n = 6; e(n) = 0.8148148148",
          "n = 6; e(n) = 0.8214285714",
          "n = 6; e(n) = 0.8275862069",
          "n = 6; e(n) = 0.8333333333",
          "n = 6; e(n) = 0.8387096774",
          "n = 6; e(n) = 0.84375",
          "n = 6; e(n) = 0.8484848485",
          "n = 6; e(n) = 0.8529411765",
          "n = 6; e(n) = 0.8571428571",
          "n = 6; e(n) = 0.8611111111",
          "n = 6; e(n) = 0.8648648649",
          "n = 6; e(n) = 0.8684210526",
          "n = 6; e(n) = 0.8717948718",
          "n = 6; e(n) = 0.875",
          "n = 6; e(n) = 0.8780487805",
          "n = 6; e(n) = 0.880952381",
          "n = 6; e(n) = 0.8837209302",
          "n = 6; e(n) = 0.8863636364",
          "n = 6; e(n) = 0.8888888889",
          "n = 6; e(n) = 0.8913043478",
          "n = 6; e(n) = 0.8936170213",
          "n = 6; e(n) = 0.8958333333",
          "n = 6; e(n) = 0.8979591837",
          "n = 6; e(n) = 0.9",
          "n = 6; e(n) = 0.9019607843",
          "n = 6; e(n) = 0.9038461538",
          "n = 6; e(n) = 0.9056603774",
          "n = 6; e(n) = 0.9074074074",
          "n = 6; e(n) = 0.9090909091",
          "n = 6; e(n) = 0.9107142857",
          "n = 6; e(n) = 0.9122807018",
          "n = 6; e(n) = 0.9137931034",
          "n = 6; e(n) = 0.9152542373",
          "n = 6; e(n) = 0.9166666667",
          "n = 6; e(n) = 0.9180327869",
          "n = 6; e(n) = 0.9193548387",
          "n = 6; e(n) = 0.9206349206",
          "n = 6; e(n) = 0.921875",
          "n = 6; e(n) = 0.9230769231",
          "n = 6; e(n) = 0.9242424242",
          "n = 6; e(n) = 0.9253731343",
          "n = 6; e(n) = 0.9264705882",
          "n = 6; e(n) = 0.9275362319",
          "n = 6; e(n) = 0.9285714286",
          "n = 6; e(n) = 0.9295774648",
          "n = 6; e(n) = 0.9305555556",
          "n = 6; e(n) = 0.9315068493",
          "n = 6; e(n) = 0.9324324324",
          "n = 6; e(n) = 0.9333333333",
          "n = 6; e(n) = 0.9342105263",
          "n = 6; e(n) = 0.9350649351",
          "n = 6; e(n) = 0.9358974359",
          "n = 6; e(n) = 0.9367088608",
          "n = 6; e(n) = 0.9375",
          "n = 6; e(n) = 0.9382716049",
          "n = 6; e(n) = 0.9390243902",
          "n = 6; e(n) = 0.9397590361",
          "n = 6; e(n) = 0.9404761905",
          "n = 6; e(n) = 0.9411764706",
          "n = 6; e(n) = 0.9418604651",
          "n = 6; e(n) = 0.9425287356",
          "n = 6; e(n) = 0.9431818182",
          "n = 6; e(n) = 0.9438202247",
          "n = 6; e(n) = 0.9444444444",
          "n = 6; e(n) = 0.9450549451",
          "n = 6; e(n) = 0.9456521739",
          "n = 6; e(n) = 0.9462365591",
          "n = 6; e(n) = 0.9468085106",
          "n = 6; e(n) = 0.9473684211",
          "n = 6; e(n) = 0.9479166667",
          "n = 6; e(n) = 0.9484536082",
          "n = 6; e(n) = 0.9489795918",
          "n = 6; e(n) = 0.9494949495",
          "n = 6; e(n) = 0.95",
          "n = 6; e(n) = 0.9504950495",
          "n = 6; e(n) = 0.9509803922",
          "n = 6; e(n) = 0.9514563107",
          "n = 6; e(n) = 0.9519230769",
          "n = 6; e(n) = 0.9523809524",
          "n = 6; e(n) = 0.9528301887",
          "n = 6; e(n) = 0.953271028",
          "n = 6; e(n) = 0.9537037037",
          "n = 6; e(n) = 0.9541284404",
          "n = 6; e(n) = 0.9545454545",
          "n = 6; e(n) = 0.954954955",
          "n = 6; e(n) = 0.9553571429",
          "n = 6; e(n) = 0.9557522124",
          "n = 6; e(n) = 0.9561403509",
          "n = 6; e(n) = 0.9565217391",
          "n = 6; e(n) = 0.9568965517",
          "n = 6; e(n) = 0.9572649573",
          "n = 6; e(n) = 0.9576271186",
          "n = 6; e(n) = 0.9579831933",
          "n = 6; e(n) = 0.9583333333",
          "n = 6; e(n) = 0.958677686",
          "n = 6; e(n) = 0.9590163934",
          "n = 6; e(n) = 0.9593495935",
          "n = 6; e(n) = 0.9596774194",
          "n = 6; e(n) = 0.96",
          "n = 6; e(n) = 0.9603174603",
          "n = 6; e(n) = 0.9606299213",
          "n = 6; e(n) = 0.9609375",
          "n = 6; e(n) = 0.9612403101",
          "n = 6; e(n) = 0.9615384615",
          "n = 6; e(n) = 0.9618320611",
          "n = 6; e(n) = 0.9621212121",
          "n = 6; e(n) = 0.962406015",
          "n = 6; e(n) = 0.9626865672",
          "n = 6; e(n) = 0.962962963",
          "n = 6; e(n) = 0.9632352941",
          "n = 6; e(n) = 0.9635036496",
          "n = 6; e(n) = 0.9637681159",
          "n = 6; e(n) = 0.964028777",
          "n = 6; e(n) = 0.9642857143",
          "n = 6; e(n) = 0.9645390071",
          "n = 6; e(n) = 0.9647887324",
          "n = 6; e(n) = 0.965034965",
          "n = 6; e(n) = 0.9652777778",
          "n = 6; e(n) = 0.9655172414",
          "n = 6; e(n) = 0.9657534247",
          "n = 6; e(n) = 0.9659863946",
          "n = 6; e(n) = 0.9662162162",
          "n = 6; e(n) = 0.966442953",
          "n = 6; e(n) = 0.9666666667",
          "n = 6; e(n) = 0.9668874172",
          "n = 6; e(n) = 0.9671052632",
          "n = 6; e(n) = 0.9673202614",
          "n = 6; e(n) = 0.9675324675",
          "n = 6; e(n) = 0.9677419355",
          "n = 6; e(n) = 0.9679487179",
          "n = 6; e(n) = 0.9681528662",
          "n = 6; e(n) = 0.9683544304",
          "n = 6; e(n) = 0.9685534591",
          "n = 6; e(n) = 0.96875",
          "n = 6; e(n) = 0.9689440994",
          "n = 6; e(n) = 0.9691358025",
          "n = 6; e(n) = 0.9693251534",
          "n = 6; e(n) = 0.9695121951",
          "n = 6; e(n) = 0.9696969697",
          "n = 6; e(n) = 0.9698795181",
          "n = 6; e(n) = 0.9700598802",
          "n = 6; e(n) = 0.9702380952",
          "n = 6; e(n) = 0.9704142012",
          "n = 6; e(n) = 0.9705882353",
          "n = 6; e(n) = 0.9707602339",
          "n = 6; e(n) = 0.9709302326",
          "n = 6; e(n) = 0.9710982659",
          "n = 6; e(n) = 0.9712643678",
          "n = 6; e(n) = 0.9714285714",
          "n = 6; e(n) = 0.9715909091",
          "n = 6; e(n) = 0.9717514124",
          "n = 6; e(n) = 0.9719101124",
          "n = 6; e(n) = 0.9720670391",
          "n = 6; e(n) = 0.9722222222",
          "n = 6; e(n) = 0.9723756906",
          "n = 6; e(n) = 0.9725274725",
          "n = 6; e(n) = 0.9726775956",
          "n = 6; e(n) = 0.972826087",
          "n = 6; e(n) = 0.972972973",
          "n = 6; e(n) = 0.9731182796",
          "n = 6; e(n) = 0.9732620321",
          "n = 6; e(n) = 0.9734042553",
          "n = 6; e(n) = 0.9735449735",
          "n = 6; e(n) = 0.9736842105",
          "n = 6; e(n) = 0.9738219895",
          "n = 6; e(n) = 0.9739583333",
          "n = 6; e(n) = 0.9740932642",
          "n = 6; e(n) = 0.9742268041",
          "n = 6; e(n) = 0.9743589744",
          "n = 6; e(n) = 0.9744897959",
          "n = 6; e(n) = 0.9746192893",
          "n = 6; e(n) = 0.9747474747",
          "n = 6; e(n) = 0.9748743719",
          "n = 6; e(n) = 0.975",
          "n = 6; e(n) = 0.9751243781",
          "n = 6; e(n) = 0.9752475248",
          "n = 6; e(n) = 0.9753694581",
          "n = 6; e(n) = 0.9754901961"
         ],
         "textposition": "bottom center",
         "type": "scatter",
         "x": [
          6,
          6,
          6,
          6,
          6,
          6,
          6,
          6,
          6,
          6,
          6,
          6,
          6,
          6,
          6,
          6,
          6,
          6,
          6,
          6
         ],
         "y": [
          0.1666666667,
          0.2857142857,
          0.375,
          0.4444444444,
          0.5,
          0.5454545455,
          0.5833333333,
          0.6153846154,
          0.6428571429,
          0.6666666667,
          0.6875,
          0.7058823529,
          0.7222222222,
          0.7368421053,
          0.75,
          0.7619047619,
          0.7727272727,
          0.7826086957,
          0.7916666667,
          0.8,
          0.8076923077,
          0.8148148148,
          0.8214285714,
          0.8275862069,
          0.8333333333,
          0.8387096774,
          0.84375,
          0.8484848485,
          0.8529411765,
          0.8571428571,
          0.8611111111,
          0.8648648649,
          0.8684210526,
          0.8717948718,
          0.875,
          0.8780487805,
          0.880952381,
          0.8837209302,
          0.8863636364,
          0.8888888889,
          0.8913043478,
          0.8936170213,
          0.8958333333,
          0.8979591837,
          0.9,
          0.9019607843,
          0.9038461538,
          0.9056603774,
          0.9074074074,
          0.9090909091,
          0.9107142857,
          0.9122807018,
          0.9137931034,
          0.9152542373,
          0.9166666667,
          0.9180327869,
          0.9193548387,
          0.9206349206,
          0.921875,
          0.9230769231,
          0.9242424242,
          0.9253731343,
          0.9264705882,
          0.9275362319,
          0.9285714286,
          0.9295774648,
          0.9305555556,
          0.9315068493,
          0.9324324324,
          0.9333333333,
          0.9342105263,
          0.9350649351,
          0.9358974359,
          0.9367088608,
          0.9375,
          0.9382716049,
          0.9390243902,
          0.9397590361,
          0.9404761905,
          0.9411764706,
          0.9418604651,
          0.9425287356,
          0.9431818182,
          0.9438202247,
          0.9444444444,
          0.9450549451,
          0.9456521739,
          0.9462365591,
          0.9468085106,
          0.9473684211,
          0.9479166667,
          0.9484536082,
          0.9489795918,
          0.9494949495,
          0.95,
          0.9504950495,
          0.9509803922,
          0.9514563107,
          0.9519230769,
          0.9523809524,
          0.9528301887,
          0.953271028,
          0.9537037037,
          0.9541284404,
          0.9545454545,
          0.954954955,
          0.9553571429,
          0.9557522124,
          0.9561403509,
          0.9565217391,
          0.9568965517,
          0.9572649573,
          0.9576271186,
          0.9579831933,
          0.9583333333,
          0.958677686,
          0.9590163934,
          0.9593495935,
          0.9596774194,
          0.96,
          0.9603174603,
          0.9606299213,
          0.9609375,
          0.9612403101,
          0.9615384615,
          0.9618320611,
          0.9621212121,
          0.962406015,
          0.9626865672,
          0.962962963,
          0.9632352941,
          0.9635036496,
          0.9637681159,
          0.964028777,
          0.9642857143,
          0.9645390071,
          0.9647887324,
          0.965034965,
          0.9652777778,
          0.9655172414,
          0.9657534247,
          0.9659863946,
          0.9662162162,
          0.966442953,
          0.9666666667,
          0.9668874172,
          0.9671052632,
          0.9673202614,
          0.9675324675,
          0.9677419355,
          0.9679487179,
          0.9681528662,
          0.9683544304,
          0.9685534591,
          0.96875,
          0.9689440994,
          0.9691358025,
          0.9693251534,
          0.9695121951,
          0.9696969697,
          0.9698795181,
          0.9700598802,
          0.9702380952,
          0.9704142012,
          0.9705882353,
          0.9707602339,
          0.9709302326,
          0.9710982659,
          0.9712643678,
          0.9714285714,
          0.9715909091,
          0.9717514124,
          0.9719101124,
          0.9720670391,
          0.9722222222,
          0.9723756906,
          0.9725274725,
          0.9726775956,
          0.972826087,
          0.972972973,
          0.9731182796,
          0.9732620321,
          0.9734042553,
          0.9735449735,
          0.9736842105,
          0.9738219895,
          0.9739583333,
          0.9740932642,
          0.9742268041,
          0.9743589744,
          0.9744897959,
          0.9746192893,
          0.9747474747,
          0.9748743719,
          0.975,
          0.9751243781,
          0.9752475248,
          0.9753694581,
          0.9754901961
         ]
        },
        {
         "mode": "markers",
         "text": [
          "n = 1; e(n) = 1.0",
          "n = 1; e(n) = 1.0",
          "n = 1; e(n) = 1.0",
          "n = 1; e(n) = 1.0",
          "n = 1; e(n) = 1.0",
          "n = 1; e(n) = 1.0",
          "n = 1; e(n) = 1.0",
          "n = 1; e(n) = 1.0",
          "n = 1; e(n) = 1.0",
          "n = 1; e(n) = 1.0",
          "n = 1; e(n) = 1.0",
          "n = 1; e(n) = 1.0",
          "n = 1; e(n) = 1.0",
          "n = 1; e(n) = 1.0",
          "n = 1; e(n) = 1.0",
          "n = 1; e(n) = 1.0",
          "n = 1; e(n) = 1.0",
          "n = 1; e(n) = 1.0",
          "n = 1; e(n) = 1.0",
          "n = 1; e(n) = 1.0",
          "n = 1; e(n) = 1.0",
          "n = 1; e(n) = 1.0",
          "n = 1; e(n) = 1.0",
          "n = 1; e(n) = 1.0",
          "n = 1; e(n) = 1.0",
          "n = 1; e(n) = 1.0",
          "n = 1; e(n) = 1.0",
          "n = 1; e(n) = 1.0",
          "n = 1; e(n) = 1.0",
          "n = 1; e(n) = 1.0",
          "n = 1; e(n) = 1.0",
          "n = 1; e(n) = 1.0",
          "n = 1; e(n) = 1.0",
          "n = 1; e(n) = 1.0",
          "n = 1; e(n) = 1.0",
          "n = 1; e(n) = 1.0",
          "n = 1; e(n) = 1.0",
          "n = 1; e(n) = 1.0",
          "n = 1; e(n) = 1.0",
          "n = 1; e(n) = 1.0",
          "n = 1; e(n) = 1.0",
          "n = 1; e(n) = 1.0",
          "n = 1; e(n) = 1.0",
          "n = 1; e(n) = 1.0",
          "n = 1; e(n) = 1.0",
          "n = 1; e(n) = 1.0",
          "n = 1; e(n) = 1.0",
          "n = 1; e(n) = 1.0",
          "n = 1; e(n) = 1.0",
          "n = 1; e(n) = 1.0",
          "n = 1; e(n) = 1.0",
          "n = 1; e(n) = 1.0",
          "n = 1; e(n) = 1.0",
          "n = 1; e(n) = 1.0",
          "n = 1; e(n) = 1.0",
          "n = 1; e(n) = 1.0",
          "n = 1; e(n) = 1.0",
          "n = 1; e(n) = 1.0",
          "n = 1; e(n) = 1.0",
          "n = 1; e(n) = 1.0",
          "n = 1; e(n) = 1.0",
          "n = 1; e(n) = 1.0",
          "n = 1; e(n) = 1.0",
          "n = 1; e(n) = 1.0",
          "n = 1; e(n) = 1.0",
          "n = 1; e(n) = 1.0",
          "n = 1; e(n) = 1.0",
          "n = 1; e(n) = 1.0",
          "n = 1; e(n) = 1.0",
          "n = 1; e(n) = 1.0",
          "n = 1; e(n) = 1.0",
          "n = 1; e(n) = 1.0",
          "n = 1; e(n) = 1.0",
          "n = 1; e(n) = 1.0",
          "n = 1; e(n) = 1.0",
          "n = 1; e(n) = 1.0",
          "n = 1; e(n) = 1.0",
          "n = 1; e(n) = 1.0",
          "n = 1; e(n) = 1.0",
          "n = 1; e(n) = 1.0",
          "n = 1; e(n) = 1.0",
          "n = 1; e(n) = 1.0",
          "n = 1; e(n) = 1.0",
          "n = 1; e(n) = 1.0",
          "n = 1; e(n) = 1.0",
          "n = 1; e(n) = 1.0",
          "n = 1; e(n) = 1.0",
          "n = 1; e(n) = 1.0",
          "n = 1; e(n) = 1.0",
          "n = 1; e(n) = 1.0",
          "n = 1; e(n) = 1.0",
          "n = 1; e(n) = 1.0",
          "n = 1; e(n) = 1.0",
          "n = 1; e(n) = 1.0",
          "n = 1; e(n) = 1.0",
          "n = 1; e(n) = 1.0",
          "n = 1; e(n) = 1.0",
          "n = 1; e(n) = 1.0",
          "n = 1; e(n) = 1.0",
          "n = 1; e(n) = 1.0",
          "n = 1; e(n) = 1.0",
          "n = 1; e(n) = 1.0",
          "n = 1; e(n) = 1.0",
          "n = 1; e(n) = 1.0",
          "n = 1; e(n) = 1.0",
          "n = 1; e(n) = 1.0",
          "n = 1; e(n) = 1.0",
          "n = 1; e(n) = 1.0",
          "n = 1; e(n) = 1.0",
          "n = 1; e(n) = 1.0",
          "n = 1; e(n) = 1.0",
          "n = 1; e(n) = 1.0",
          "n = 1; e(n) = 1.0",
          "n = 1; e(n) = 1.0",
          "n = 1; e(n) = 1.0",
          "n = 1; e(n) = 1.0",
          "n = 1; e(n) = 1.0",
          "n = 1; e(n) = 1.0",
          "n = 1; e(n) = 1.0",
          "n = 1; e(n) = 1.0",
          "n = 1; e(n) = 1.0",
          "n = 1; e(n) = 1.0",
          "n = 1; e(n) = 1.0",
          "n = 1; e(n) = 1.0",
          "n = 1; e(n) = 1.0",
          "n = 1; e(n) = 1.0",
          "n = 1; e(n) = 1.0",
          "n = 1; e(n) = 1.0",
          "n = 1; e(n) = 1.0",
          "n = 1; e(n) = 1.0",
          "n = 1; e(n) = 1.0",
          "n = 1; e(n) = 1.0",
          "n = 1; e(n) = 1.0",
          "n = 1; e(n) = 1.0",
          "n = 1; e(n) = 1.0",
          "n = 1; e(n) = 1.0",
          "n = 1; e(n) = 1.0",
          "n = 1; e(n) = 1.0",
          "n = 1; e(n) = 1.0",
          "n = 1; e(n) = 1.0",
          "n = 1; e(n) = 1.0",
          "n = 1; e(n) = 1.0",
          "n = 1; e(n) = 1.0",
          "n = 1; e(n) = 1.0",
          "n = 1; e(n) = 1.0",
          "n = 1; e(n) = 1.0",
          "n = 1; e(n) = 1.0",
          "n = 1; e(n) = 1.0",
          "n = 1; e(n) = 1.0",
          "n = 1; e(n) = 1.0",
          "n = 1; e(n) = 1.0",
          "n = 1; e(n) = 1.0",
          "n = 1; e(n) = 1.0",
          "n = 1; e(n) = 1.0",
          "n = 1; e(n) = 1.0",
          "n = 1; e(n) = 1.0",
          "n = 1; e(n) = 1.0",
          "n = 1; e(n) = 1.0",
          "n = 1; e(n) = 1.0",
          "n = 1; e(n) = 1.0",
          "n = 1; e(n) = 1.0",
          "n = 1; e(n) = 1.0",
          "n = 1; e(n) = 1.0",
          "n = 1; e(n) = 1.0",
          "n = 1; e(n) = 1.0",
          "n = 1; e(n) = 1.0",
          "n = 1; e(n) = 1.0",
          "n = 1; e(n) = 1.0",
          "n = 1; e(n) = 1.0",
          "n = 1; e(n) = 1.0",
          "n = 1; e(n) = 1.0",
          "n = 1; e(n) = 1.0",
          "n = 1; e(n) = 1.0",
          "n = 1; e(n) = 1.0",
          "n = 1; e(n) = 1.0",
          "n = 1; e(n) = 1.0",
          "n = 1; e(n) = 1.0",
          "n = 1; e(n) = 1.0",
          "n = 1; e(n) = 1.0",
          "n = 1; e(n) = 1.0",
          "n = 1; e(n) = 1.0",
          "n = 1; e(n) = 1.0",
          "n = 1; e(n) = 1.0",
          "n = 1; e(n) = 1.0",
          "n = 1; e(n) = 1.0",
          "n = 1; e(n) = 1.0",
          "n = 1; e(n) = 1.0",
          "n = 1; e(n) = 1.0",
          "n = 1; e(n) = 1.0",
          "n = 1; e(n) = 1.0",
          "n = 1; e(n) = 1.0",
          "n = 1; e(n) = 1.0",
          "n = 1; e(n) = 1.0",
          "n = 1; e(n) = 1.0",
          "n = 1; e(n) = 1.0",
          "n = 1; e(n) = 1.0",
          "n = 1; e(n) = 1.0",
          "n = 1; e(n) = 1.0",
          "n = 1; e(n) = 1.0"
         ],
         "textposition": "bottom center",
         "type": "scatter",
         "x": [
          1,
          1,
          1,
          1,
          1,
          1,
          1,
          1,
          1,
          1,
          1,
          1,
          1,
          1,
          1,
          1,
          1,
          1,
          1,
          1
         ],
         "y": [
          1,
          1,
          1,
          1,
          1,
          1,
          1,
          1,
          1,
          1,
          1,
          1,
          1,
          1,
          1,
          1,
          1,
          1,
          1,
          1,
          1,
          1,
          1,
          1,
          1,
          1,
          1,
          1,
          1,
          1,
          1,
          1,
          1,
          1,
          1,
          1,
          1,
          1,
          1,
          1,
          1,
          1,
          1,
          1,
          1,
          1,
          1,
          1,
          1,
          1,
          1,
          1,
          1,
          1,
          1,
          1,
          1,
          1,
          1,
          1,
          1,
          1,
          1,
          1,
          1,
          1,
          1,
          1,
          1,
          1,
          1,
          1,
          1,
          1,
          1,
          1,
          1,
          1,
          1,
          1,
          1,
          1,
          1,
          1,
          1,
          1,
          1,
          1,
          1,
          1,
          1,
          1,
          1,
          1,
          1,
          1,
          1,
          1,
          1,
          1,
          1,
          1,
          1,
          1,
          1,
          1,
          1,
          1,
          1,
          1,
          1,
          1,
          1,
          1,
          1,
          1,
          1,
          1,
          1,
          1,
          1,
          1,
          1,
          1,
          1,
          1,
          1,
          1,
          1,
          1,
          1,
          1,
          1,
          1,
          1,
          1,
          1,
          1,
          1,
          1,
          1,
          1,
          1,
          1,
          1,
          1,
          1,
          1,
          1,
          1,
          1,
          1,
          1,
          1,
          1,
          1,
          1,
          1,
          1,
          1,
          1,
          1,
          1,
          1,
          1,
          1,
          1,
          1,
          1,
          1,
          1,
          1,
          1,
          1,
          1,
          1,
          1,
          1,
          1,
          1,
          1,
          1,
          1,
          1,
          1,
          1,
          1,
          1,
          1,
          1,
          1,
          1,
          1,
          1,
          1,
          1,
          1,
          1,
          1
         ]
        }
       ],
       "layout": {
        "font": {
         "size": 20
        },
        "showlegend": false,
        "template": {
         "data": {
          "bar": [
           {
            "error_x": {
             "color": "#2a3f5f"
            },
            "error_y": {
             "color": "#2a3f5f"
            },
            "marker": {
             "line": {
              "color": "#E5ECF6",
              "width": 0.5
             },
             "pattern": {
              "fillmode": "overlay",
              "size": 10,
              "solidity": 0.2
             }
            },
            "type": "bar"
           }
          ],
          "barpolar": [
           {
            "marker": {
             "line": {
              "color": "#E5ECF6",
              "width": 0.5
             },
             "pattern": {
              "fillmode": "overlay",
              "size": 10,
              "solidity": 0.2
             }
            },
            "type": "barpolar"
           }
          ],
          "carpet": [
           {
            "aaxis": {
             "endlinecolor": "#2a3f5f",
             "gridcolor": "white",
             "linecolor": "white",
             "minorgridcolor": "white",
             "startlinecolor": "#2a3f5f"
            },
            "baxis": {
             "endlinecolor": "#2a3f5f",
             "gridcolor": "white",
             "linecolor": "white",
             "minorgridcolor": "white",
             "startlinecolor": "#2a3f5f"
            },
            "type": "carpet"
           }
          ],
          "choropleth": [
           {
            "colorbar": {
             "outlinewidth": 0,
             "ticks": ""
            },
            "type": "choropleth"
           }
          ],
          "contour": [
           {
            "colorbar": {
             "outlinewidth": 0,
             "ticks": ""
            },
            "colorscale": [
             [
              0,
              "#0d0887"
             ],
             [
              0.1111111111111111,
              "#46039f"
             ],
             [
              0.2222222222222222,
              "#7201a8"
             ],
             [
              0.3333333333333333,
              "#9c179e"
             ],
             [
              0.4444444444444444,
              "#bd3786"
             ],
             [
              0.5555555555555556,
              "#d8576b"
             ],
             [
              0.6666666666666666,
              "#ed7953"
             ],
             [
              0.7777777777777778,
              "#fb9f3a"
             ],
             [
              0.8888888888888888,
              "#fdca26"
             ],
             [
              1,
              "#f0f921"
             ]
            ],
            "type": "contour"
           }
          ],
          "contourcarpet": [
           {
            "colorbar": {
             "outlinewidth": 0,
             "ticks": ""
            },
            "type": "contourcarpet"
           }
          ],
          "heatmap": [
           {
            "colorbar": {
             "outlinewidth": 0,
             "ticks": ""
            },
            "colorscale": [
             [
              0,
              "#0d0887"
             ],
             [
              0.1111111111111111,
              "#46039f"
             ],
             [
              0.2222222222222222,
              "#7201a8"
             ],
             [
              0.3333333333333333,
              "#9c179e"
             ],
             [
              0.4444444444444444,
              "#bd3786"
             ],
             [
              0.5555555555555556,
              "#d8576b"
             ],
             [
              0.6666666666666666,
              "#ed7953"
             ],
             [
              0.7777777777777778,
              "#fb9f3a"
             ],
             [
              0.8888888888888888,
              "#fdca26"
             ],
             [
              1,
              "#f0f921"
             ]
            ],
            "type": "heatmap"
           }
          ],
          "heatmapgl": [
           {
            "colorbar": {
             "outlinewidth": 0,
             "ticks": ""
            },
            "colorscale": [
             [
              0,
              "#0d0887"
             ],
             [
              0.1111111111111111,
              "#46039f"
             ],
             [
              0.2222222222222222,
              "#7201a8"
             ],
             [
              0.3333333333333333,
              "#9c179e"
             ],
             [
              0.4444444444444444,
              "#bd3786"
             ],
             [
              0.5555555555555556,
              "#d8576b"
             ],
             [
              0.6666666666666666,
              "#ed7953"
             ],
             [
              0.7777777777777778,
              "#fb9f3a"
             ],
             [
              0.8888888888888888,
              "#fdca26"
             ],
             [
              1,
              "#f0f921"
             ]
            ],
            "type": "heatmapgl"
           }
          ],
          "histogram": [
           {
            "marker": {
             "pattern": {
              "fillmode": "overlay",
              "size": 10,
              "solidity": 0.2
             }
            },
            "type": "histogram"
           }
          ],
          "histogram2d": [
           {
            "colorbar": {
             "outlinewidth": 0,
             "ticks": ""
            },
            "colorscale": [
             [
              0,
              "#0d0887"
             ],
             [
              0.1111111111111111,
              "#46039f"
             ],
             [
              0.2222222222222222,
              "#7201a8"
             ],
             [
              0.3333333333333333,
              "#9c179e"
             ],
             [
              0.4444444444444444,
              "#bd3786"
             ],
             [
              0.5555555555555556,
              "#d8576b"
             ],
             [
              0.6666666666666666,
              "#ed7953"
             ],
             [
              0.7777777777777778,
              "#fb9f3a"
             ],
             [
              0.8888888888888888,
              "#fdca26"
             ],
             [
              1,
              "#f0f921"
             ]
            ],
            "type": "histogram2d"
           }
          ],
          "histogram2dcontour": [
           {
            "colorbar": {
             "outlinewidth": 0,
             "ticks": ""
            },
            "colorscale": [
             [
              0,
              "#0d0887"
             ],
             [
              0.1111111111111111,
              "#46039f"
             ],
             [
              0.2222222222222222,
              "#7201a8"
             ],
             [
              0.3333333333333333,
              "#9c179e"
             ],
             [
              0.4444444444444444,
              "#bd3786"
             ],
             [
              0.5555555555555556,
              "#d8576b"
             ],
             [
              0.6666666666666666,
              "#ed7953"
             ],
             [
              0.7777777777777778,
              "#fb9f3a"
             ],
             [
              0.8888888888888888,
              "#fdca26"
             ],
             [
              1,
              "#f0f921"
             ]
            ],
            "type": "histogram2dcontour"
           }
          ],
          "mesh3d": [
           {
            "colorbar": {
             "outlinewidth": 0,
             "ticks": ""
            },
            "type": "mesh3d"
           }
          ],
          "parcoords": [
           {
            "line": {
             "colorbar": {
              "outlinewidth": 0,
              "ticks": ""
             }
            },
            "type": "parcoords"
           }
          ],
          "pie": [
           {
            "automargin": true,
            "type": "pie"
           }
          ],
          "scatter": [
           {
            "fillpattern": {
             "fillmode": "overlay",
             "size": 10,
             "solidity": 0.2
            },
            "type": "scatter"
           }
          ],
          "scatter3d": [
           {
            "line": {
             "colorbar": {
              "outlinewidth": 0,
              "ticks": ""
             }
            },
            "marker": {
             "colorbar": {
              "outlinewidth": 0,
              "ticks": ""
             }
            },
            "type": "scatter3d"
           }
          ],
          "scattercarpet": [
           {
            "marker": {
             "colorbar": {
              "outlinewidth": 0,
              "ticks": ""
             }
            },
            "type": "scattercarpet"
           }
          ],
          "scattergeo": [
           {
            "marker": {
             "colorbar": {
              "outlinewidth": 0,
              "ticks": ""
             }
            },
            "type": "scattergeo"
           }
          ],
          "scattergl": [
           {
            "marker": {
             "colorbar": {
              "outlinewidth": 0,
              "ticks": ""
             }
            },
            "type": "scattergl"
           }
          ],
          "scattermapbox": [
           {
            "marker": {
             "colorbar": {
              "outlinewidth": 0,
              "ticks": ""
             }
            },
            "type": "scattermapbox"
           }
          ],
          "scatterpolar": [
           {
            "marker": {
             "colorbar": {
              "outlinewidth": 0,
              "ticks": ""
             }
            },
            "type": "scatterpolar"
           }
          ],
          "scatterpolargl": [
           {
            "marker": {
             "colorbar": {
              "outlinewidth": 0,
              "ticks": ""
             }
            },
            "type": "scatterpolargl"
           }
          ],
          "scatterternary": [
           {
            "marker": {
             "colorbar": {
              "outlinewidth": 0,
              "ticks": ""
             }
            },
            "type": "scatterternary"
           }
          ],
          "surface": [
           {
            "colorbar": {
             "outlinewidth": 0,
             "ticks": ""
            },
            "colorscale": [
             [
              0,
              "#0d0887"
             ],
             [
              0.1111111111111111,
              "#46039f"
             ],
             [
              0.2222222222222222,
              "#7201a8"
             ],
             [
              0.3333333333333333,
              "#9c179e"
             ],
             [
              0.4444444444444444,
              "#bd3786"
             ],
             [
              0.5555555555555556,
              "#d8576b"
             ],
             [
              0.6666666666666666,
              "#ed7953"
             ],
             [
              0.7777777777777778,
              "#fb9f3a"
             ],
             [
              0.8888888888888888,
              "#fdca26"
             ],
             [
              1,
              "#f0f921"
             ]
            ],
            "type": "surface"
           }
          ],
          "table": [
           {
            "cells": {
             "fill": {
              "color": "#EBF0F8"
             },
             "line": {
              "color": "white"
             }
            },
            "header": {
             "fill": {
              "color": "#C8D4E3"
             },
             "line": {
              "color": "white"
             }
            },
            "type": "table"
           }
          ]
         },
         "layout": {
          "annotationdefaults": {
           "arrowcolor": "#2a3f5f",
           "arrowhead": 0,
           "arrowwidth": 1
          },
          "autotypenumbers": "strict",
          "coloraxis": {
           "colorbar": {
            "outlinewidth": 0,
            "ticks": ""
           }
          },
          "colorscale": {
           "diverging": [
            [
             0,
             "#8e0152"
            ],
            [
             0.1,
             "#c51b7d"
            ],
            [
             0.2,
             "#de77ae"
            ],
            [
             0.3,
             "#f1b6da"
            ],
            [
             0.4,
             "#fde0ef"
            ],
            [
             0.5,
             "#f7f7f7"
            ],
            [
             0.6,
             "#e6f5d0"
            ],
            [
             0.7,
             "#b8e186"
            ],
            [
             0.8,
             "#7fbc41"
            ],
            [
             0.9,
             "#4d9221"
            ],
            [
             1,
             "#276419"
            ]
           ],
           "sequential": [
            [
             0,
             "#0d0887"
            ],
            [
             0.1111111111111111,
             "#46039f"
            ],
            [
             0.2222222222222222,
             "#7201a8"
            ],
            [
             0.3333333333333333,
             "#9c179e"
            ],
            [
             0.4444444444444444,
             "#bd3786"
            ],
            [
             0.5555555555555556,
             "#d8576b"
            ],
            [
             0.6666666666666666,
             "#ed7953"
            ],
            [
             0.7777777777777778,
             "#fb9f3a"
            ],
            [
             0.8888888888888888,
             "#fdca26"
            ],
            [
             1,
             "#f0f921"
            ]
           ],
           "sequentialminus": [
            [
             0,
             "#0d0887"
            ],
            [
             0.1111111111111111,
             "#46039f"
            ],
            [
             0.2222222222222222,
             "#7201a8"
            ],
            [
             0.3333333333333333,
             "#9c179e"
            ],
            [
             0.4444444444444444,
             "#bd3786"
            ],
            [
             0.5555555555555556,
             "#d8576b"
            ],
            [
             0.6666666666666666,
             "#ed7953"
            ],
            [
             0.7777777777777778,
             "#fb9f3a"
            ],
            [
             0.8888888888888888,
             "#fdca26"
            ],
            [
             1,
             "#f0f921"
            ]
           ]
          },
          "colorway": [
           "#636efa",
           "#EF553B",
           "#00cc96",
           "#ab63fa",
           "#FFA15A",
           "#19d3f3",
           "#FF6692",
           "#B6E880",
           "#FF97FF",
           "#FECB52"
          ],
          "font": {
           "color": "#2a3f5f"
          },
          "geo": {
           "bgcolor": "white",
           "lakecolor": "white",
           "landcolor": "#E5ECF6",
           "showlakes": true,
           "showland": true,
           "subunitcolor": "white"
          },
          "hoverlabel": {
           "align": "left"
          },
          "hovermode": "closest",
          "mapbox": {
           "style": "light"
          },
          "paper_bgcolor": "white",
          "plot_bgcolor": "#E5ECF6",
          "polar": {
           "angularaxis": {
            "gridcolor": "white",
            "linecolor": "white",
            "ticks": ""
           },
           "bgcolor": "#E5ECF6",
           "radialaxis": {
            "gridcolor": "white",
            "linecolor": "white",
            "ticks": ""
           }
          },
          "scene": {
           "xaxis": {
            "backgroundcolor": "#E5ECF6",
            "gridcolor": "white",
            "gridwidth": 2,
            "linecolor": "white",
            "showbackground": true,
            "ticks": "",
            "zerolinecolor": "white"
           },
           "yaxis": {
            "backgroundcolor": "#E5ECF6",
            "gridcolor": "white",
            "gridwidth": 2,
            "linecolor": "white",
            "showbackground": true,
            "ticks": "",
            "zerolinecolor": "white"
           },
           "zaxis": {
            "backgroundcolor": "#E5ECF6",
            "gridcolor": "white",
            "gridwidth": 2,
            "linecolor": "white",
            "showbackground": true,
            "ticks": "",
            "zerolinecolor": "white"
           }
          },
          "shapedefaults": {
           "line": {
            "color": "#2a3f5f"
           }
          },
          "ternary": {
           "aaxis": {
            "gridcolor": "white",
            "linecolor": "white",
            "ticks": ""
           },
           "baxis": {
            "gridcolor": "white",
            "linecolor": "white",
            "ticks": ""
           },
           "bgcolor": "#E5ECF6",
           "caxis": {
            "gridcolor": "white",
            "linecolor": "white",
            "ticks": ""
           }
          },
          "title": {
           "x": 0.05
          },
          "xaxis": {
           "automargin": true,
           "gridcolor": "white",
           "linecolor": "white",
           "ticks": "",
           "title": {
            "standoff": 15
           },
           "zerolinecolor": "white",
           "zerolinewidth": 2
          },
          "yaxis": {
           "automargin": true,
           "gridcolor": "white",
           "linecolor": "white",
           "ticks": "",
           "title": {
            "standoff": 15
           },
           "zerolinecolor": "white",
           "zerolinewidth": 2
          }
         }
        },
        "title": {
         "text": "Зависимость коэффициента эффективности от количества процессорных элементов"
        },
        "xaxis": {
         "title": {
          "text": "Количество процессорных элементов"
         }
        },
        "yaxis": {
         "title": {
          "text": "Коэффициент эффективности e(n)"
         }
        }
       }
      }
     },
     "metadata": {},
     "output_type": "display_data"
    }
   ],
   "source": [
    "# Efficency coefficient graphic (dependence on proceccing elems, the stupid one)\n",
    "y_vector = []\n",
    "y2_vector = []\n",
    "for i in range(1, 200):\n",
    "    vector_1 = [random.randint(0, 63) for _ in range(i)]\n",
    "    vector_2 = [random.randint(0, 63) for _ in range(i)]\n",
    "    seq_pipeline = ArithmeticPipeline(vector_1, vector_2, 1, 6)\n",
    "    par_pipeline = ArithmeticPipeline(vector_1, vector_2, 6, 6)\n",
    "    while seq_pipeline.is_busy:\n",
    "        seq_pipeline.tact()\n",
    "    while par_pipeline.is_busy:\n",
    "        par_pipeline.tact()\n",
    "    x_vector.append(i)\n",
    "    y_vector.append(round(seq_pipeline.status['tacts_done'] / \n",
    "                          (par_pipeline.status['tacts_done'] * 6), 10))\n",
    "    y2_vector.append(round(seq_pipeline.status['tacts_done'] / \n",
    "                           (seq_pipeline.status['tacts_done'] * 1), 10))\n",
    "fig = go.Figure()\n",
    "fig.add_trace(\n",
    "    go.Scatter(x=[6] * 20, y=y_vector, mode='markers',\n",
    "               text=[f'n = {6}; e(n) = {y}' for y in y_vector],\n",
    "               textposition='bottom center',\n",
    "               )\n",
    ")\n",
    "fig.add_trace(\n",
    "    go.Scatter(x=[1] * 20, y=y2_vector, mode='markers',\n",
    "               text=[f'n = {1}; e(n) = {y}' for y in y2_vector],\n",
    "               textposition='bottom center',\n",
    "               )\n",
    ")\n",
    "fig.update_layout(title_text='Зависимость коэффициента эффективности от количества процессорных элементов',\n",
    "                  font=dict(size=20), showlegend=False)\n",
    "fig.update_xaxes(title_text='Количество процессорных элементов')\n",
    "fig.update_yaxes(title_text='Коэффициент эффективности e(n)')\n",
    "fig.show(width=1280, height=1280, autosize=False) "
   ]
  }
 ],
 "metadata": {
  "kernelspec": {
   "display_name": ".venv",
   "language": "python",
   "name": "python3"
  },
  "language_info": {
   "codemirror_mode": {
    "name": "ipython",
    "version": 3
   },
   "file_extension": ".py",
   "mimetype": "text/x-python",
   "name": "python",
   "nbconvert_exporter": "python",
   "pygments_lexer": "ipython3",
   "version": "3.12.1"
  }
 },
 "nbformat": 4,
 "nbformat_minor": 2
}
