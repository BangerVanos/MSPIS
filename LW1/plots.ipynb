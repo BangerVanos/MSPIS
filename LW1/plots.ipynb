{
 "cells": [
  {
   "cell_type": "code",
   "execution_count": 1,
   "metadata": {},
   "outputs": [],
   "source": [
    "from src.arithmetic_pipeline import ArithmeticPipeline\n",
    "import plotly.graph_objects as go\n",
    "import random"
   ]
  },
  {
   "cell_type": "code",
   "execution_count": 2,
   "metadata": {},
   "outputs": [
    {
     "data": {
      "application/vnd.plotly.v1+json": {
       "config": {
        "plotlyServerURL": "https://plot.ly"
       },
       "data": [
        {
         "mode": "lines+markers+text",
         "name": "n = 1",
         "text": [
          "Длина: 1 Тактов: 6",
          "Длина: 2 Тактов: 12",
          "Длина: 3 Тактов: 18",
          "Длина: 4 Тактов: 24",
          "Длина: 5 Тактов: 30",
          "Длина: 6 Тактов: 36",
          "Длина: 7 Тактов: 42",
          "Длина: 8 Тактов: 48",
          "Длина: 9 Тактов: 54",
          "Длина: 10 Тактов: 60"
         ],
         "textposition": "bottom center",
         "type": "scatter",
         "x": [
          1,
          2,
          3,
          4,
          5,
          6,
          7,
          8,
          9,
          10
         ],
         "y": [
          6,
          12,
          18,
          24,
          30,
          36,
          42,
          48,
          54,
          60
         ]
        },
        {
         "mode": "lines+markers+text",
         "name": "n = 2",
         "text": [
          "Длина: 1 Тактов: 6",
          "Длина: 2 Тактов: 7",
          "Длина: 3 Тактов: 12",
          "Длина: 4 Тактов: 13",
          "Длина: 5 Тактов: 18",
          "Длина: 6 Тактов: 19",
          "Длина: 7 Тактов: 24",
          "Длина: 8 Тактов: 25",
          "Длина: 9 Тактов: 30",
          "Длина: 10 Тактов: 31"
         ],
         "textposition": "bottom center",
         "type": "scatter",
         "x": [
          1,
          2,
          3,
          4,
          5,
          6,
          7,
          8,
          9,
          10
         ],
         "y": [
          6,
          7,
          12,
          13,
          18,
          19,
          24,
          25,
          30,
          31
         ]
        },
        {
         "mode": "lines+markers+text",
         "name": "n = 3",
         "text": [
          "Длина: 1 Тактов: 6",
          "Длина: 2 Тактов: 7",
          "Длина: 3 Тактов: 8",
          "Длина: 4 Тактов: 12",
          "Длина: 5 Тактов: 13",
          "Длина: 6 Тактов: 14",
          "Длина: 7 Тактов: 18",
          "Длина: 8 Тактов: 19",
          "Длина: 9 Тактов: 20",
          "Длина: 10 Тактов: 24"
         ],
         "textposition": "bottom center",
         "type": "scatter",
         "x": [
          1,
          2,
          3,
          4,
          5,
          6,
          7,
          8,
          9,
          10
         ],
         "y": [
          6,
          7,
          8,
          12,
          13,
          14,
          18,
          19,
          20,
          24
         ]
        },
        {
         "mode": "lines+markers+text",
         "name": "n = 4",
         "text": [
          "Длина: 1 Тактов: 6",
          "Длина: 2 Тактов: 7",
          "Длина: 3 Тактов: 8",
          "Длина: 4 Тактов: 9",
          "Длина: 5 Тактов: 12",
          "Длина: 6 Тактов: 13",
          "Длина: 7 Тактов: 14",
          "Длина: 8 Тактов: 15",
          "Длина: 9 Тактов: 18",
          "Длина: 10 Тактов: 19"
         ],
         "textposition": "bottom center",
         "type": "scatter",
         "x": [
          1,
          2,
          3,
          4,
          5,
          6,
          7,
          8,
          9,
          10
         ],
         "y": [
          6,
          7,
          8,
          9,
          12,
          13,
          14,
          15,
          18,
          19
         ]
        },
        {
         "mode": "lines+markers+text",
         "name": "n = 5",
         "text": [
          "Длина: 1 Тактов: 6",
          "Длина: 2 Тактов: 7",
          "Длина: 3 Тактов: 8",
          "Длина: 4 Тактов: 9",
          "Длина: 5 Тактов: 10",
          "Длина: 6 Тактов: 12",
          "Длина: 7 Тактов: 13",
          "Длина: 8 Тактов: 14",
          "Длина: 9 Тактов: 15",
          "Длина: 10 Тактов: 16"
         ],
         "textposition": "bottom center",
         "type": "scatter",
         "x": [
          1,
          2,
          3,
          4,
          5,
          6,
          7,
          8,
          9,
          10
         ],
         "y": [
          6,
          7,
          8,
          9,
          10,
          12,
          13,
          14,
          15,
          16
         ]
        },
        {
         "mode": "lines+markers+text",
         "name": "n = 6",
         "text": [
          "Длина: 1 Тактов: 6",
          "Длина: 2 Тактов: 7",
          "Длина: 3 Тактов: 8",
          "Длина: 4 Тактов: 9",
          "Длина: 5 Тактов: 10",
          "Длина: 6 Тактов: 11",
          "Длина: 7 Тактов: 12",
          "Длина: 8 Тактов: 13",
          "Длина: 9 Тактов: 14",
          "Длина: 10 Тактов: 15"
         ],
         "textposition": "bottom center",
         "type": "scatter",
         "x": [
          1,
          2,
          3,
          4,
          5,
          6,
          7,
          8,
          9,
          10
         ],
         "y": [
          6,
          7,
          8,
          9,
          10,
          11,
          12,
          13,
          14,
          15
         ]
        }
       ],
       "layout": {
        "template": {
         "data": {
          "bar": [
           {
            "error_x": {
             "color": "#2a3f5f"
            },
            "error_y": {
             "color": "#2a3f5f"
            },
            "marker": {
             "line": {
              "color": "#E5ECF6",
              "width": 0.5
             },
             "pattern": {
              "fillmode": "overlay",
              "size": 10,
              "solidity": 0.2
             }
            },
            "type": "bar"
           }
          ],
          "barpolar": [
           {
            "marker": {
             "line": {
              "color": "#E5ECF6",
              "width": 0.5
             },
             "pattern": {
              "fillmode": "overlay",
              "size": 10,
              "solidity": 0.2
             }
            },
            "type": "barpolar"
           }
          ],
          "carpet": [
           {
            "aaxis": {
             "endlinecolor": "#2a3f5f",
             "gridcolor": "white",
             "linecolor": "white",
             "minorgridcolor": "white",
             "startlinecolor": "#2a3f5f"
            },
            "baxis": {
             "endlinecolor": "#2a3f5f",
             "gridcolor": "white",
             "linecolor": "white",
             "minorgridcolor": "white",
             "startlinecolor": "#2a3f5f"
            },
            "type": "carpet"
           }
          ],
          "choropleth": [
           {
            "colorbar": {
             "outlinewidth": 0,
             "ticks": ""
            },
            "type": "choropleth"
           }
          ],
          "contour": [
           {
            "colorbar": {
             "outlinewidth": 0,
             "ticks": ""
            },
            "colorscale": [
             [
              0,
              "#0d0887"
             ],
             [
              0.1111111111111111,
              "#46039f"
             ],
             [
              0.2222222222222222,
              "#7201a8"
             ],
             [
              0.3333333333333333,
              "#9c179e"
             ],
             [
              0.4444444444444444,
              "#bd3786"
             ],
             [
              0.5555555555555556,
              "#d8576b"
             ],
             [
              0.6666666666666666,
              "#ed7953"
             ],
             [
              0.7777777777777778,
              "#fb9f3a"
             ],
             [
              0.8888888888888888,
              "#fdca26"
             ],
             [
              1,
              "#f0f921"
             ]
            ],
            "type": "contour"
           }
          ],
          "contourcarpet": [
           {
            "colorbar": {
             "outlinewidth": 0,
             "ticks": ""
            },
            "type": "contourcarpet"
           }
          ],
          "heatmap": [
           {
            "colorbar": {
             "outlinewidth": 0,
             "ticks": ""
            },
            "colorscale": [
             [
              0,
              "#0d0887"
             ],
             [
              0.1111111111111111,
              "#46039f"
             ],
             [
              0.2222222222222222,
              "#7201a8"
             ],
             [
              0.3333333333333333,
              "#9c179e"
             ],
             [
              0.4444444444444444,
              "#bd3786"
             ],
             [
              0.5555555555555556,
              "#d8576b"
             ],
             [
              0.6666666666666666,
              "#ed7953"
             ],
             [
              0.7777777777777778,
              "#fb9f3a"
             ],
             [
              0.8888888888888888,
              "#fdca26"
             ],
             [
              1,
              "#f0f921"
             ]
            ],
            "type": "heatmap"
           }
          ],
          "heatmapgl": [
           {
            "colorbar": {
             "outlinewidth": 0,
             "ticks": ""
            },
            "colorscale": [
             [
              0,
              "#0d0887"
             ],
             [
              0.1111111111111111,
              "#46039f"
             ],
             [
              0.2222222222222222,
              "#7201a8"
             ],
             [
              0.3333333333333333,
              "#9c179e"
             ],
             [
              0.4444444444444444,
              "#bd3786"
             ],
             [
              0.5555555555555556,
              "#d8576b"
             ],
             [
              0.6666666666666666,
              "#ed7953"
             ],
             [
              0.7777777777777778,
              "#fb9f3a"
             ],
             [
              0.8888888888888888,
              "#fdca26"
             ],
             [
              1,
              "#f0f921"
             ]
            ],
            "type": "heatmapgl"
           }
          ],
          "histogram": [
           {
            "marker": {
             "pattern": {
              "fillmode": "overlay",
              "size": 10,
              "solidity": 0.2
             }
            },
            "type": "histogram"
           }
          ],
          "histogram2d": [
           {
            "colorbar": {
             "outlinewidth": 0,
             "ticks": ""
            },
            "colorscale": [
             [
              0,
              "#0d0887"
             ],
             [
              0.1111111111111111,
              "#46039f"
             ],
             [
              0.2222222222222222,
              "#7201a8"
             ],
             [
              0.3333333333333333,
              "#9c179e"
             ],
             [
              0.4444444444444444,
              "#bd3786"
             ],
             [
              0.5555555555555556,
              "#d8576b"
             ],
             [
              0.6666666666666666,
              "#ed7953"
             ],
             [
              0.7777777777777778,
              "#fb9f3a"
             ],
             [
              0.8888888888888888,
              "#fdca26"
             ],
             [
              1,
              "#f0f921"
             ]
            ],
            "type": "histogram2d"
           }
          ],
          "histogram2dcontour": [
           {
            "colorbar": {
             "outlinewidth": 0,
             "ticks": ""
            },
            "colorscale": [
             [
              0,
              "#0d0887"
             ],
             [
              0.1111111111111111,
              "#46039f"
             ],
             [
              0.2222222222222222,
              "#7201a8"
             ],
             [
              0.3333333333333333,
              "#9c179e"
             ],
             [
              0.4444444444444444,
              "#bd3786"
             ],
             [
              0.5555555555555556,
              "#d8576b"
             ],
             [
              0.6666666666666666,
              "#ed7953"
             ],
             [
              0.7777777777777778,
              "#fb9f3a"
             ],
             [
              0.8888888888888888,
              "#fdca26"
             ],
             [
              1,
              "#f0f921"
             ]
            ],
            "type": "histogram2dcontour"
           }
          ],
          "mesh3d": [
           {
            "colorbar": {
             "outlinewidth": 0,
             "ticks": ""
            },
            "type": "mesh3d"
           }
          ],
          "parcoords": [
           {
            "line": {
             "colorbar": {
              "outlinewidth": 0,
              "ticks": ""
             }
            },
            "type": "parcoords"
           }
          ],
          "pie": [
           {
            "automargin": true,
            "type": "pie"
           }
          ],
          "scatter": [
           {
            "fillpattern": {
             "fillmode": "overlay",
             "size": 10,
             "solidity": 0.2
            },
            "type": "scatter"
           }
          ],
          "scatter3d": [
           {
            "line": {
             "colorbar": {
              "outlinewidth": 0,
              "ticks": ""
             }
            },
            "marker": {
             "colorbar": {
              "outlinewidth": 0,
              "ticks": ""
             }
            },
            "type": "scatter3d"
           }
          ],
          "scattercarpet": [
           {
            "marker": {
             "colorbar": {
              "outlinewidth": 0,
              "ticks": ""
             }
            },
            "type": "scattercarpet"
           }
          ],
          "scattergeo": [
           {
            "marker": {
             "colorbar": {
              "outlinewidth": 0,
              "ticks": ""
             }
            },
            "type": "scattergeo"
           }
          ],
          "scattergl": [
           {
            "marker": {
             "colorbar": {
              "outlinewidth": 0,
              "ticks": ""
             }
            },
            "type": "scattergl"
           }
          ],
          "scattermapbox": [
           {
            "marker": {
             "colorbar": {
              "outlinewidth": 0,
              "ticks": ""
             }
            },
            "type": "scattermapbox"
           }
          ],
          "scatterpolar": [
           {
            "marker": {
             "colorbar": {
              "outlinewidth": 0,
              "ticks": ""
             }
            },
            "type": "scatterpolar"
           }
          ],
          "scatterpolargl": [
           {
            "marker": {
             "colorbar": {
              "outlinewidth": 0,
              "ticks": ""
             }
            },
            "type": "scatterpolargl"
           }
          ],
          "scatterternary": [
           {
            "marker": {
             "colorbar": {
              "outlinewidth": 0,
              "ticks": ""
             }
            },
            "type": "scatterternary"
           }
          ],
          "surface": [
           {
            "colorbar": {
             "outlinewidth": 0,
             "ticks": ""
            },
            "colorscale": [
             [
              0,
              "#0d0887"
             ],
             [
              0.1111111111111111,
              "#46039f"
             ],
             [
              0.2222222222222222,
              "#7201a8"
             ],
             [
              0.3333333333333333,
              "#9c179e"
             ],
             [
              0.4444444444444444,
              "#bd3786"
             ],
             [
              0.5555555555555556,
              "#d8576b"
             ],
             [
              0.6666666666666666,
              "#ed7953"
             ],
             [
              0.7777777777777778,
              "#fb9f3a"
             ],
             [
              0.8888888888888888,
              "#fdca26"
             ],
             [
              1,
              "#f0f921"
             ]
            ],
            "type": "surface"
           }
          ],
          "table": [
           {
            "cells": {
             "fill": {
              "color": "#EBF0F8"
             },
             "line": {
              "color": "white"
             }
            },
            "header": {
             "fill": {
              "color": "#C8D4E3"
             },
             "line": {
              "color": "white"
             }
            },
            "type": "table"
           }
          ]
         },
         "layout": {
          "annotationdefaults": {
           "arrowcolor": "#2a3f5f",
           "arrowhead": 0,
           "arrowwidth": 1
          },
          "autotypenumbers": "strict",
          "coloraxis": {
           "colorbar": {
            "outlinewidth": 0,
            "ticks": ""
           }
          },
          "colorscale": {
           "diverging": [
            [
             0,
             "#8e0152"
            ],
            [
             0.1,
             "#c51b7d"
            ],
            [
             0.2,
             "#de77ae"
            ],
            [
             0.3,
             "#f1b6da"
            ],
            [
             0.4,
             "#fde0ef"
            ],
            [
             0.5,
             "#f7f7f7"
            ],
            [
             0.6,
             "#e6f5d0"
            ],
            [
             0.7,
             "#b8e186"
            ],
            [
             0.8,
             "#7fbc41"
            ],
            [
             0.9,
             "#4d9221"
            ],
            [
             1,
             "#276419"
            ]
           ],
           "sequential": [
            [
             0,
             "#0d0887"
            ],
            [
             0.1111111111111111,
             "#46039f"
            ],
            [
             0.2222222222222222,
             "#7201a8"
            ],
            [
             0.3333333333333333,
             "#9c179e"
            ],
            [
             0.4444444444444444,
             "#bd3786"
            ],
            [
             0.5555555555555556,
             "#d8576b"
            ],
            [
             0.6666666666666666,
             "#ed7953"
            ],
            [
             0.7777777777777778,
             "#fb9f3a"
            ],
            [
             0.8888888888888888,
             "#fdca26"
            ],
            [
             1,
             "#f0f921"
            ]
           ],
           "sequentialminus": [
            [
             0,
             "#0d0887"
            ],
            [
             0.1111111111111111,
             "#46039f"
            ],
            [
             0.2222222222222222,
             "#7201a8"
            ],
            [
             0.3333333333333333,
             "#9c179e"
            ],
            [
             0.4444444444444444,
             "#bd3786"
            ],
            [
             0.5555555555555556,
             "#d8576b"
            ],
            [
             0.6666666666666666,
             "#ed7953"
            ],
            [
             0.7777777777777778,
             "#fb9f3a"
            ],
            [
             0.8888888888888888,
             "#fdca26"
            ],
            [
             1,
             "#f0f921"
            ]
           ]
          },
          "colorway": [
           "#636efa",
           "#EF553B",
           "#00cc96",
           "#ab63fa",
           "#FFA15A",
           "#19d3f3",
           "#FF6692",
           "#B6E880",
           "#FF97FF",
           "#FECB52"
          ],
          "font": {
           "color": "#2a3f5f"
          },
          "geo": {
           "bgcolor": "white",
           "lakecolor": "white",
           "landcolor": "#E5ECF6",
           "showlakes": true,
           "showland": true,
           "subunitcolor": "white"
          },
          "hoverlabel": {
           "align": "left"
          },
          "hovermode": "closest",
          "mapbox": {
           "style": "light"
          },
          "paper_bgcolor": "white",
          "plot_bgcolor": "#E5ECF6",
          "polar": {
           "angularaxis": {
            "gridcolor": "white",
            "linecolor": "white",
            "ticks": ""
           },
           "bgcolor": "#E5ECF6",
           "radialaxis": {
            "gridcolor": "white",
            "linecolor": "white",
            "ticks": ""
           }
          },
          "scene": {
           "xaxis": {
            "backgroundcolor": "#E5ECF6",
            "gridcolor": "white",
            "gridwidth": 2,
            "linecolor": "white",
            "showbackground": true,
            "ticks": "",
            "zerolinecolor": "white"
           },
           "yaxis": {
            "backgroundcolor": "#E5ECF6",
            "gridcolor": "white",
            "gridwidth": 2,
            "linecolor": "white",
            "showbackground": true,
            "ticks": "",
            "zerolinecolor": "white"
           },
           "zaxis": {
            "backgroundcolor": "#E5ECF6",
            "gridcolor": "white",
            "gridwidth": 2,
            "linecolor": "white",
            "showbackground": true,
            "ticks": "",
            "zerolinecolor": "white"
           }
          },
          "shapedefaults": {
           "line": {
            "color": "#2a3f5f"
           }
          },
          "ternary": {
           "aaxis": {
            "gridcolor": "white",
            "linecolor": "white",
            "ticks": ""
           },
           "baxis": {
            "gridcolor": "white",
            "linecolor": "white",
            "ticks": ""
           },
           "bgcolor": "#E5ECF6",
           "caxis": {
            "gridcolor": "white",
            "linecolor": "white",
            "ticks": ""
           }
          },
          "title": {
           "x": 0.05
          },
          "xaxis": {
           "automargin": true,
           "gridcolor": "white",
           "linecolor": "white",
           "ticks": "",
           "title": {
            "standoff": 15
           },
           "zerolinecolor": "white",
           "zerolinewidth": 2
          },
          "yaxis": {
           "automargin": true,
           "gridcolor": "white",
           "linecolor": "white",
           "ticks": "",
           "title": {
            "standoff": 15
           },
           "zerolinecolor": "white",
           "zerolinewidth": 2
          }
         }
        },
        "title": {
         "text": "Количество тактов, необходимое для завершения работы конвейера"
        },
        "xaxis": {
         "title": {
          "text": "Длина входящих векторов"
         }
        },
        "yaxis": {
         "title": {
          "text": "Количество тактов"
         }
        }
       }
      }
     },
     "metadata": {},
     "output_type": "display_data"
    }
   ],
   "source": [
    "# Tacts amount dependency on amount of numbers in vectors\n",
    "# with amount of stages n = 1, 2, 3, 4, 5, 6\n",
    "x_vectors = []\n",
    "y_vectors = []\n",
    "for i in range(1, 7):\n",
    "    x_vector = []\n",
    "    y_vector = []\n",
    "    for j in range(1, 11):\n",
    "        vector_1 = [random.randint(0, 63) for _ in range(j)]\n",
    "        vector_2 = [random.randint(0, 63) for _ in range(j)]\n",
    "        pipeline = ArithmeticPipeline(vector_1, vector_2, i, 6)\n",
    "        while pipeline.is_busy:\n",
    "            pipeline.tact()\n",
    "        x_vector.append(j)\n",
    "        y_vector.append(pipeline.status['tacts_done'])\n",
    "    x_vectors.append(x_vector)\n",
    "    y_vectors.append(y_vector)\n",
    "\n",
    "fig = go.Figure()\n",
    "i = 1\n",
    "for x, y in list(zip(x_vectors, y_vectors)):\n",
    "    fig.add_trace(\n",
    "        go.Scatter(x=x, y=y, mode='lines+markers+text', name=f'n = {i}',\n",
    "                   text=[f'Длина: {len} Тактов: {tct}' for len, tct in list(zip(x, y))],\n",
    "                   textposition='bottom center',\n",
    "                   )\n",
    "    )\n",
    "    i += 1\n",
    "fig.update_layout(title_text='Количество тактов, необходимое для завершения работы конвейера',\n",
    "                  )\n",
    "fig.update_xaxes(title_text='Длина входящих векторов')\n",
    "fig.update_yaxes(title_text='Количество тактов')\n",
    "fig.show(width=1280, height=720, autosize=True)"
   ]
  },
  {
   "cell_type": "code",
   "execution_count": 3,
   "metadata": {},
   "outputs": [
    {
     "data": {
      "application/vnd.plotly.v1+json": {
       "config": {
        "plotlyServerURL": "https://plot.ly"
       },
       "data": [
        {
         "mode": "lines+markers+text",
         "text": [
          "r = 1; K(r) = 1.0",
          "r = 2; K(r) = 1.71",
          "r = 3; K(r) = 2.25",
          "r = 4; K(r) = 2.67",
          "r = 5; K(r) = 3.0",
          "r = 6; K(r) = 3.27",
          "r = 7; K(r) = 3.5",
          "r = 8; K(r) = 3.69",
          "r = 9; K(r) = 3.86",
          "r = 10; K(r) = 4.0",
          "r = 11; K(r) = 4.12",
          "r = 12; K(r) = 4.24",
          "r = 13; K(r) = 4.33",
          "r = 14; K(r) = 4.42",
          "r = 15; K(r) = 4.5",
          "r = 16; K(r) = 4.57",
          "r = 17; K(r) = 4.64",
          "r = 18; K(r) = 4.7",
          "r = 19; K(r) = 4.75",
          "r = 20; K(r) = 4.8",
          "r = 21; K(r) = 4.85",
          "r = 22; K(r) = 4.89",
          "r = 23; K(r) = 4.93",
          "r = 24; K(r) = 4.97",
          "r = 25; K(r) = 5.0",
          "r = 26; K(r) = 5.03",
          "r = 27; K(r) = 5.06",
          "r = 28; K(r) = 5.09",
          "r = 29; K(r) = 5.12",
          "r = 30; K(r) = 5.14",
          "r = 31; K(r) = 5.17",
          "r = 32; K(r) = 5.19",
          "r = 33; K(r) = 5.21",
          "r = 34; K(r) = 5.23",
          "r = 35; K(r) = 5.25",
          "r = 36; K(r) = 5.27",
          "r = 37; K(r) = 5.29",
          "r = 38; K(r) = 5.3",
          "r = 39; K(r) = 5.32",
          "r = 40; K(r) = 5.33",
          "r = 41; K(r) = 5.35",
          "r = 42; K(r) = 5.36",
          "r = 43; K(r) = 5.38",
          "r = 44; K(r) = 5.39",
          "r = 45; K(r) = 5.4",
          "r = 46; K(r) = 5.41",
          "r = 47; K(r) = 5.42",
          "r = 48; K(r) = 5.43",
          "r = 49; K(r) = 5.44",
          "r = 50; K(r) = 5.45",
          "r = 51; K(r) = 5.46",
          "r = 52; K(r) = 5.47",
          "r = 53; K(r) = 5.48",
          "r = 54; K(r) = 5.49",
          "r = 55; K(r) = 5.5",
          "r = 56; K(r) = 5.51",
          "r = 57; K(r) = 5.52",
          "r = 58; K(r) = 5.52",
          "r = 59; K(r) = 5.53",
          "r = 60; K(r) = 5.54",
          "r = 61; K(r) = 5.55",
          "r = 62; K(r) = 5.55",
          "r = 63; K(r) = 5.56",
          "r = 64; K(r) = 5.57",
          "r = 65; K(r) = 5.57",
          "r = 66; K(r) = 5.58",
          "r = 67; K(r) = 5.58",
          "r = 68; K(r) = 5.59",
          "r = 69; K(r) = 5.59",
          "r = 70; K(r) = 5.6",
          "r = 71; K(r) = 5.61",
          "r = 72; K(r) = 5.61",
          "r = 73; K(r) = 5.62",
          "r = 74; K(r) = 5.62",
          "r = 75; K(r) = 5.62",
          "r = 76; K(r) = 5.63",
          "r = 77; K(r) = 5.63",
          "r = 78; K(r) = 5.64",
          "r = 79; K(r) = 5.64",
          "r = 80; K(r) = 5.65",
          "r = 81; K(r) = 5.65",
          "r = 82; K(r) = 5.66",
          "r = 83; K(r) = 5.66",
          "r = 84; K(r) = 5.66",
          "r = 85; K(r) = 5.67",
          "r = 86; K(r) = 5.67",
          "r = 87; K(r) = 5.67",
          "r = 88; K(r) = 5.68",
          "r = 89; K(r) = 5.68",
          "r = 90; K(r) = 5.68",
          "r = 91; K(r) = 5.69",
          "r = 92; K(r) = 5.69",
          "r = 93; K(r) = 5.69",
          "r = 94; K(r) = 5.7",
          "r = 95; K(r) = 5.7",
          "r = 96; K(r) = 5.7",
          "r = 97; K(r) = 5.71",
          "r = 98; K(r) = 5.71",
          "r = 99; K(r) = 5.71",
          "r = 100; K(r) = 5.71",
          "r = 101; K(r) = 5.72",
          "r = 102; K(r) = 5.72",
          "r = 103; K(r) = 5.72",
          "r = 104; K(r) = 5.72",
          "r = 105; K(r) = 5.73",
          "r = 106; K(r) = 5.73",
          "r = 107; K(r) = 5.73",
          "r = 108; K(r) = 5.73",
          "r = 109; K(r) = 5.74",
          "r = 110; K(r) = 5.74",
          "r = 111; K(r) = 5.74",
          "r = 112; K(r) = 5.74",
          "r = 113; K(r) = 5.75",
          "r = 114; K(r) = 5.75",
          "r = 115; K(r) = 5.75",
          "r = 116; K(r) = 5.75",
          "r = 117; K(r) = 5.75",
          "r = 118; K(r) = 5.76",
          "r = 119; K(r) = 5.76",
          "r = 120; K(r) = 5.76",
          "r = 121; K(r) = 5.76",
          "r = 122; K(r) = 5.76",
          "r = 123; K(r) = 5.77",
          "r = 124; K(r) = 5.77",
          "r = 125; K(r) = 5.77",
          "r = 126; K(r) = 5.77",
          "r = 127; K(r) = 5.77",
          "r = 128; K(r) = 5.77",
          "r = 129; K(r) = 5.78",
          "r = 130; K(r) = 5.78",
          "r = 131; K(r) = 5.78",
          "r = 132; K(r) = 5.78",
          "r = 133; K(r) = 5.78",
          "r = 134; K(r) = 5.78",
          "r = 135; K(r) = 5.79",
          "r = 136; K(r) = 5.79",
          "r = 137; K(r) = 5.79",
          "r = 138; K(r) = 5.79",
          "r = 139; K(r) = 5.79",
          "r = 140; K(r) = 5.79",
          "r = 141; K(r) = 5.79",
          "r = 142; K(r) = 5.8",
          "r = 143; K(r) = 5.8",
          "r = 144; K(r) = 5.8",
          "r = 145; K(r) = 5.8",
          "r = 146; K(r) = 5.8",
          "r = 147; K(r) = 5.8",
          "r = 148; K(r) = 5.8",
          "r = 149; K(r) = 5.81",
          "r = 150; K(r) = 5.81",
          "r = 151; K(r) = 5.81",
          "r = 152; K(r) = 5.81",
          "r = 153; K(r) = 5.81",
          "r = 154; K(r) = 5.81",
          "r = 155; K(r) = 5.81",
          "r = 156; K(r) = 5.81",
          "r = 157; K(r) = 5.81",
          "r = 158; K(r) = 5.82",
          "r = 159; K(r) = 5.82",
          "r = 160; K(r) = 5.82",
          "r = 161; K(r) = 5.82",
          "r = 162; K(r) = 5.82",
          "r = 163; K(r) = 5.82",
          "r = 164; K(r) = 5.82",
          "r = 165; K(r) = 5.82",
          "r = 166; K(r) = 5.82",
          "r = 167; K(r) = 5.83",
          "r = 168; K(r) = 5.83",
          "r = 169; K(r) = 5.83",
          "r = 170; K(r) = 5.83",
          "r = 171; K(r) = 5.83",
          "r = 172; K(r) = 5.83",
          "r = 173; K(r) = 5.83",
          "r = 174; K(r) = 5.83",
          "r = 175; K(r) = 5.83",
          "r = 176; K(r) = 5.83",
          "r = 177; K(r) = 5.84",
          "r = 178; K(r) = 5.84",
          "r = 179; K(r) = 5.84",
          "r = 180; K(r) = 5.84",
          "r = 181; K(r) = 5.84",
          "r = 182; K(r) = 5.84",
          "r = 183; K(r) = 5.84",
          "r = 184; K(r) = 5.84",
          "r = 185; K(r) = 5.84",
          "r = 186; K(r) = 5.84",
          "r = 187; K(r) = 5.84",
          "r = 188; K(r) = 5.84",
          "r = 189; K(r) = 5.85",
          "r = 190; K(r) = 5.85",
          "r = 191; K(r) = 5.85",
          "r = 192; K(r) = 5.85",
          "r = 193; K(r) = 5.85",
          "r = 194; K(r) = 5.85",
          "r = 195; K(r) = 5.85",
          "r = 196; K(r) = 5.85",
          "r = 197; K(r) = 5.85",
          "r = 198; K(r) = 5.85",
          "r = 199; K(r) = 5.85"
         ],
         "textposition": "bottom center",
         "type": "scatter",
         "x": [
          1,
          2,
          3,
          4,
          5,
          6,
          7,
          8,
          9,
          10,
          11,
          12,
          13,
          14,
          15,
          16,
          17,
          18,
          19,
          20,
          21,
          22,
          23,
          24,
          25,
          26,
          27,
          28,
          29,
          30,
          31,
          32,
          33,
          34,
          35,
          36,
          37,
          38,
          39,
          40,
          41,
          42,
          43,
          44,
          45,
          46,
          47,
          48,
          49,
          50,
          51,
          52,
          53,
          54,
          55,
          56,
          57,
          58,
          59,
          60,
          61,
          62,
          63,
          64,
          65,
          66,
          67,
          68,
          69,
          70,
          71,
          72,
          73,
          74,
          75,
          76,
          77,
          78,
          79,
          80,
          81,
          82,
          83,
          84,
          85,
          86,
          87,
          88,
          89,
          90,
          91,
          92,
          93,
          94,
          95,
          96,
          97,
          98,
          99,
          100,
          101,
          102,
          103,
          104,
          105,
          106,
          107,
          108,
          109,
          110,
          111,
          112,
          113,
          114,
          115,
          116,
          117,
          118,
          119,
          120,
          121,
          122,
          123,
          124,
          125,
          126,
          127,
          128,
          129,
          130,
          131,
          132,
          133,
          134,
          135,
          136,
          137,
          138,
          139,
          140,
          141,
          142,
          143,
          144,
          145,
          146,
          147,
          148,
          149,
          150,
          151,
          152,
          153,
          154,
          155,
          156,
          157,
          158,
          159,
          160,
          161,
          162,
          163,
          164,
          165,
          166,
          167,
          168,
          169,
          170,
          171,
          172,
          173,
          174,
          175,
          176,
          177,
          178,
          179,
          180,
          181,
          182,
          183,
          184,
          185,
          186,
          187,
          188,
          189,
          190,
          191,
          192,
          193,
          194,
          195,
          196,
          197,
          198,
          199
         ],
         "y": [
          1,
          1.71,
          2.25,
          2.67,
          3,
          3.27,
          3.5,
          3.69,
          3.86,
          4,
          4.12,
          4.24,
          4.33,
          4.42,
          4.5,
          4.57,
          4.64,
          4.7,
          4.75,
          4.8,
          4.85,
          4.89,
          4.93,
          4.97,
          5,
          5.03,
          5.06,
          5.09,
          5.12,
          5.14,
          5.17,
          5.19,
          5.21,
          5.23,
          5.25,
          5.27,
          5.29,
          5.3,
          5.32,
          5.33,
          5.35,
          5.36,
          5.38,
          5.39,
          5.4,
          5.41,
          5.42,
          5.43,
          5.44,
          5.45,
          5.46,
          5.47,
          5.48,
          5.49,
          5.5,
          5.51,
          5.52,
          5.52,
          5.53,
          5.54,
          5.55,
          5.55,
          5.56,
          5.57,
          5.57,
          5.58,
          5.58,
          5.59,
          5.59,
          5.6,
          5.61,
          5.61,
          5.62,
          5.62,
          5.62,
          5.63,
          5.63,
          5.64,
          5.64,
          5.65,
          5.65,
          5.66,
          5.66,
          5.66,
          5.67,
          5.67,
          5.67,
          5.68,
          5.68,
          5.68,
          5.69,
          5.69,
          5.69,
          5.7,
          5.7,
          5.7,
          5.71,
          5.71,
          5.71,
          5.71,
          5.72,
          5.72,
          5.72,
          5.72,
          5.73,
          5.73,
          5.73,
          5.73,
          5.74,
          5.74,
          5.74,
          5.74,
          5.75,
          5.75,
          5.75,
          5.75,
          5.75,
          5.76,
          5.76,
          5.76,
          5.76,
          5.76,
          5.77,
          5.77,
          5.77,
          5.77,
          5.77,
          5.77,
          5.78,
          5.78,
          5.78,
          5.78,
          5.78,
          5.78,
          5.79,
          5.79,
          5.79,
          5.79,
          5.79,
          5.79,
          5.79,
          5.8,
          5.8,
          5.8,
          5.8,
          5.8,
          5.8,
          5.8,
          5.81,
          5.81,
          5.81,
          5.81,
          5.81,
          5.81,
          5.81,
          5.81,
          5.81,
          5.82,
          5.82,
          5.82,
          5.82,
          5.82,
          5.82,
          5.82,
          5.82,
          5.82,
          5.83,
          5.83,
          5.83,
          5.83,
          5.83,
          5.83,
          5.83,
          5.83,
          5.83,
          5.83,
          5.84,
          5.84,
          5.84,
          5.84,
          5.84,
          5.84,
          5.84,
          5.84,
          5.84,
          5.84,
          5.84,
          5.84,
          5.85,
          5.85,
          5.85,
          5.85,
          5.85,
          5.85,
          5.85,
          5.85,
          5.85,
          5.85,
          5.85
         ]
        }
       ],
       "layout": {
        "template": {
         "data": {
          "bar": [
           {
            "error_x": {
             "color": "#2a3f5f"
            },
            "error_y": {
             "color": "#2a3f5f"
            },
            "marker": {
             "line": {
              "color": "#E5ECF6",
              "width": 0.5
             },
             "pattern": {
              "fillmode": "overlay",
              "size": 10,
              "solidity": 0.2
             }
            },
            "type": "bar"
           }
          ],
          "barpolar": [
           {
            "marker": {
             "line": {
              "color": "#E5ECF6",
              "width": 0.5
             },
             "pattern": {
              "fillmode": "overlay",
              "size": 10,
              "solidity": 0.2
             }
            },
            "type": "barpolar"
           }
          ],
          "carpet": [
           {
            "aaxis": {
             "endlinecolor": "#2a3f5f",
             "gridcolor": "white",
             "linecolor": "white",
             "minorgridcolor": "white",
             "startlinecolor": "#2a3f5f"
            },
            "baxis": {
             "endlinecolor": "#2a3f5f",
             "gridcolor": "white",
             "linecolor": "white",
             "minorgridcolor": "white",
             "startlinecolor": "#2a3f5f"
            },
            "type": "carpet"
           }
          ],
          "choropleth": [
           {
            "colorbar": {
             "outlinewidth": 0,
             "ticks": ""
            },
            "type": "choropleth"
           }
          ],
          "contour": [
           {
            "colorbar": {
             "outlinewidth": 0,
             "ticks": ""
            },
            "colorscale": [
             [
              0,
              "#0d0887"
             ],
             [
              0.1111111111111111,
              "#46039f"
             ],
             [
              0.2222222222222222,
              "#7201a8"
             ],
             [
              0.3333333333333333,
              "#9c179e"
             ],
             [
              0.4444444444444444,
              "#bd3786"
             ],
             [
              0.5555555555555556,
              "#d8576b"
             ],
             [
              0.6666666666666666,
              "#ed7953"
             ],
             [
              0.7777777777777778,
              "#fb9f3a"
             ],
             [
              0.8888888888888888,
              "#fdca26"
             ],
             [
              1,
              "#f0f921"
             ]
            ],
            "type": "contour"
           }
          ],
          "contourcarpet": [
           {
            "colorbar": {
             "outlinewidth": 0,
             "ticks": ""
            },
            "type": "contourcarpet"
           }
          ],
          "heatmap": [
           {
            "colorbar": {
             "outlinewidth": 0,
             "ticks": ""
            },
            "colorscale": [
             [
              0,
              "#0d0887"
             ],
             [
              0.1111111111111111,
              "#46039f"
             ],
             [
              0.2222222222222222,
              "#7201a8"
             ],
             [
              0.3333333333333333,
              "#9c179e"
             ],
             [
              0.4444444444444444,
              "#bd3786"
             ],
             [
              0.5555555555555556,
              "#d8576b"
             ],
             [
              0.6666666666666666,
              "#ed7953"
             ],
             [
              0.7777777777777778,
              "#fb9f3a"
             ],
             [
              0.8888888888888888,
              "#fdca26"
             ],
             [
              1,
              "#f0f921"
             ]
            ],
            "type": "heatmap"
           }
          ],
          "heatmapgl": [
           {
            "colorbar": {
             "outlinewidth": 0,
             "ticks": ""
            },
            "colorscale": [
             [
              0,
              "#0d0887"
             ],
             [
              0.1111111111111111,
              "#46039f"
             ],
             [
              0.2222222222222222,
              "#7201a8"
             ],
             [
              0.3333333333333333,
              "#9c179e"
             ],
             [
              0.4444444444444444,
              "#bd3786"
             ],
             [
              0.5555555555555556,
              "#d8576b"
             ],
             [
              0.6666666666666666,
              "#ed7953"
             ],
             [
              0.7777777777777778,
              "#fb9f3a"
             ],
             [
              0.8888888888888888,
              "#fdca26"
             ],
             [
              1,
              "#f0f921"
             ]
            ],
            "type": "heatmapgl"
           }
          ],
          "histogram": [
           {
            "marker": {
             "pattern": {
              "fillmode": "overlay",
              "size": 10,
              "solidity": 0.2
             }
            },
            "type": "histogram"
           }
          ],
          "histogram2d": [
           {
            "colorbar": {
             "outlinewidth": 0,
             "ticks": ""
            },
            "colorscale": [
             [
              0,
              "#0d0887"
             ],
             [
              0.1111111111111111,
              "#46039f"
             ],
             [
              0.2222222222222222,
              "#7201a8"
             ],
             [
              0.3333333333333333,
              "#9c179e"
             ],
             [
              0.4444444444444444,
              "#bd3786"
             ],
             [
              0.5555555555555556,
              "#d8576b"
             ],
             [
              0.6666666666666666,
              "#ed7953"
             ],
             [
              0.7777777777777778,
              "#fb9f3a"
             ],
             [
              0.8888888888888888,
              "#fdca26"
             ],
             [
              1,
              "#f0f921"
             ]
            ],
            "type": "histogram2d"
           }
          ],
          "histogram2dcontour": [
           {
            "colorbar": {
             "outlinewidth": 0,
             "ticks": ""
            },
            "colorscale": [
             [
              0,
              "#0d0887"
             ],
             [
              0.1111111111111111,
              "#46039f"
             ],
             [
              0.2222222222222222,
              "#7201a8"
             ],
             [
              0.3333333333333333,
              "#9c179e"
             ],
             [
              0.4444444444444444,
              "#bd3786"
             ],
             [
              0.5555555555555556,
              "#d8576b"
             ],
             [
              0.6666666666666666,
              "#ed7953"
             ],
             [
              0.7777777777777778,
              "#fb9f3a"
             ],
             [
              0.8888888888888888,
              "#fdca26"
             ],
             [
              1,
              "#f0f921"
             ]
            ],
            "type": "histogram2dcontour"
           }
          ],
          "mesh3d": [
           {
            "colorbar": {
             "outlinewidth": 0,
             "ticks": ""
            },
            "type": "mesh3d"
           }
          ],
          "parcoords": [
           {
            "line": {
             "colorbar": {
              "outlinewidth": 0,
              "ticks": ""
             }
            },
            "type": "parcoords"
           }
          ],
          "pie": [
           {
            "automargin": true,
            "type": "pie"
           }
          ],
          "scatter": [
           {
            "fillpattern": {
             "fillmode": "overlay",
             "size": 10,
             "solidity": 0.2
            },
            "type": "scatter"
           }
          ],
          "scatter3d": [
           {
            "line": {
             "colorbar": {
              "outlinewidth": 0,
              "ticks": ""
             }
            },
            "marker": {
             "colorbar": {
              "outlinewidth": 0,
              "ticks": ""
             }
            },
            "type": "scatter3d"
           }
          ],
          "scattercarpet": [
           {
            "marker": {
             "colorbar": {
              "outlinewidth": 0,
              "ticks": ""
             }
            },
            "type": "scattercarpet"
           }
          ],
          "scattergeo": [
           {
            "marker": {
             "colorbar": {
              "outlinewidth": 0,
              "ticks": ""
             }
            },
            "type": "scattergeo"
           }
          ],
          "scattergl": [
           {
            "marker": {
             "colorbar": {
              "outlinewidth": 0,
              "ticks": ""
             }
            },
            "type": "scattergl"
           }
          ],
          "scattermapbox": [
           {
            "marker": {
             "colorbar": {
              "outlinewidth": 0,
              "ticks": ""
             }
            },
            "type": "scattermapbox"
           }
          ],
          "scatterpolar": [
           {
            "marker": {
             "colorbar": {
              "outlinewidth": 0,
              "ticks": ""
             }
            },
            "type": "scatterpolar"
           }
          ],
          "scatterpolargl": [
           {
            "marker": {
             "colorbar": {
              "outlinewidth": 0,
              "ticks": ""
             }
            },
            "type": "scatterpolargl"
           }
          ],
          "scatterternary": [
           {
            "marker": {
             "colorbar": {
              "outlinewidth": 0,
              "ticks": ""
             }
            },
            "type": "scatterternary"
           }
          ],
          "surface": [
           {
            "colorbar": {
             "outlinewidth": 0,
             "ticks": ""
            },
            "colorscale": [
             [
              0,
              "#0d0887"
             ],
             [
              0.1111111111111111,
              "#46039f"
             ],
             [
              0.2222222222222222,
              "#7201a8"
             ],
             [
              0.3333333333333333,
              "#9c179e"
             ],
             [
              0.4444444444444444,
              "#bd3786"
             ],
             [
              0.5555555555555556,
              "#d8576b"
             ],
             [
              0.6666666666666666,
              "#ed7953"
             ],
             [
              0.7777777777777778,
              "#fb9f3a"
             ],
             [
              0.8888888888888888,
              "#fdca26"
             ],
             [
              1,
              "#f0f921"
             ]
            ],
            "type": "surface"
           }
          ],
          "table": [
           {
            "cells": {
             "fill": {
              "color": "#EBF0F8"
             },
             "line": {
              "color": "white"
             }
            },
            "header": {
             "fill": {
              "color": "#C8D4E3"
             },
             "line": {
              "color": "white"
             }
            },
            "type": "table"
           }
          ]
         },
         "layout": {
          "annotationdefaults": {
           "arrowcolor": "#2a3f5f",
           "arrowhead": 0,
           "arrowwidth": 1
          },
          "autotypenumbers": "strict",
          "coloraxis": {
           "colorbar": {
            "outlinewidth": 0,
            "ticks": ""
           }
          },
          "colorscale": {
           "diverging": [
            [
             0,
             "#8e0152"
            ],
            [
             0.1,
             "#c51b7d"
            ],
            [
             0.2,
             "#de77ae"
            ],
            [
             0.3,
             "#f1b6da"
            ],
            [
             0.4,
             "#fde0ef"
            ],
            [
             0.5,
             "#f7f7f7"
            ],
            [
             0.6,
             "#e6f5d0"
            ],
            [
             0.7,
             "#b8e186"
            ],
            [
             0.8,
             "#7fbc41"
            ],
            [
             0.9,
             "#4d9221"
            ],
            [
             1,
             "#276419"
            ]
           ],
           "sequential": [
            [
             0,
             "#0d0887"
            ],
            [
             0.1111111111111111,
             "#46039f"
            ],
            [
             0.2222222222222222,
             "#7201a8"
            ],
            [
             0.3333333333333333,
             "#9c179e"
            ],
            [
             0.4444444444444444,
             "#bd3786"
            ],
            [
             0.5555555555555556,
             "#d8576b"
            ],
            [
             0.6666666666666666,
             "#ed7953"
            ],
            [
             0.7777777777777778,
             "#fb9f3a"
            ],
            [
             0.8888888888888888,
             "#fdca26"
            ],
            [
             1,
             "#f0f921"
            ]
           ],
           "sequentialminus": [
            [
             0,
             "#0d0887"
            ],
            [
             0.1111111111111111,
             "#46039f"
            ],
            [
             0.2222222222222222,
             "#7201a8"
            ],
            [
             0.3333333333333333,
             "#9c179e"
            ],
            [
             0.4444444444444444,
             "#bd3786"
            ],
            [
             0.5555555555555556,
             "#d8576b"
            ],
            [
             0.6666666666666666,
             "#ed7953"
            ],
            [
             0.7777777777777778,
             "#fb9f3a"
            ],
            [
             0.8888888888888888,
             "#fdca26"
            ],
            [
             1,
             "#f0f921"
            ]
           ]
          },
          "colorway": [
           "#636efa",
           "#EF553B",
           "#00cc96",
           "#ab63fa",
           "#FFA15A",
           "#19d3f3",
           "#FF6692",
           "#B6E880",
           "#FF97FF",
           "#FECB52"
          ],
          "font": {
           "color": "#2a3f5f"
          },
          "geo": {
           "bgcolor": "white",
           "lakecolor": "white",
           "landcolor": "#E5ECF6",
           "showlakes": true,
           "showland": true,
           "subunitcolor": "white"
          },
          "hoverlabel": {
           "align": "left"
          },
          "hovermode": "closest",
          "mapbox": {
           "style": "light"
          },
          "paper_bgcolor": "white",
          "plot_bgcolor": "#E5ECF6",
          "polar": {
           "angularaxis": {
            "gridcolor": "white",
            "linecolor": "white",
            "ticks": ""
           },
           "bgcolor": "#E5ECF6",
           "radialaxis": {
            "gridcolor": "white",
            "linecolor": "white",
            "ticks": ""
           }
          },
          "scene": {
           "xaxis": {
            "backgroundcolor": "#E5ECF6",
            "gridcolor": "white",
            "gridwidth": 2,
            "linecolor": "white",
            "showbackground": true,
            "ticks": "",
            "zerolinecolor": "white"
           },
           "yaxis": {
            "backgroundcolor": "#E5ECF6",
            "gridcolor": "white",
            "gridwidth": 2,
            "linecolor": "white",
            "showbackground": true,
            "ticks": "",
            "zerolinecolor": "white"
           },
           "zaxis": {
            "backgroundcolor": "#E5ECF6",
            "gridcolor": "white",
            "gridwidth": 2,
            "linecolor": "white",
            "showbackground": true,
            "ticks": "",
            "zerolinecolor": "white"
           }
          },
          "shapedefaults": {
           "line": {
            "color": "#2a3f5f"
           }
          },
          "ternary": {
           "aaxis": {
            "gridcolor": "white",
            "linecolor": "white",
            "ticks": ""
           },
           "baxis": {
            "gridcolor": "white",
            "linecolor": "white",
            "ticks": ""
           },
           "bgcolor": "#E5ECF6",
           "caxis": {
            "gridcolor": "white",
            "linecolor": "white",
            "ticks": ""
           }
          },
          "title": {
           "x": 0.05
          },
          "xaxis": {
           "automargin": true,
           "gridcolor": "white",
           "linecolor": "white",
           "ticks": "",
           "title": {
            "standoff": 15
           },
           "zerolinecolor": "white",
           "zerolinewidth": 2
          },
          "yaxis": {
           "automargin": true,
           "gridcolor": "white",
           "linecolor": "white",
           "ticks": "",
           "title": {
            "standoff": 15
           },
           "zerolinecolor": "white",
           "zerolinewidth": 2
          }
         }
        },
        "title": {
         "text": "Зависимость коэффициента ускорения от ранга задачи"
        },
        "xaxis": {
         "title": {
          "text": "Длина входящих векторов (ранг задачи)"
         }
        },
        "yaxis": {
         "title": {
          "text": "Коэффициент ускорения K(r)"
         }
        }
       }
      }
     },
     "metadata": {},
     "output_type": "display_data"
    }
   ],
   "source": [
    "# Acceleration coefficient graphic (dependence on problem rank)\n",
    "stages_amount = 6\n",
    "x_vector = []\n",
    "y_vector = []\n",
    "for i in range(1, 200):\n",
    "    vector_1 = [random.randint(0, 63) for _ in range(i)]\n",
    "    vector_2 = [random.randint(0, 63) for _ in range(i)]\n",
    "    seq_pipeline = ArithmeticPipeline(vector_1, vector_2, 1, 6)\n",
    "    par_pipeline = ArithmeticPipeline(vector_1, vector_2, 6, 6)\n",
    "    while seq_pipeline.is_busy:\n",
    "        seq_pipeline.tact()\n",
    "    while par_pipeline.is_busy:\n",
    "        par_pipeline.tact()\n",
    "    x_vector.append(i)\n",
    "    y_vector.append(round(seq_pipeline.status['tacts_done'] / \n",
    "                          par_pipeline.status['tacts_done'], 2))\n",
    "fig = go.Figure()\n",
    "fig.add_trace(\n",
    "    go.Scatter(x=x_vector, y=y_vector, mode='lines+markers+text',\n",
    "               text=[f'r = {r}; K(r) = {y}' for r, y in enumerate(y_vector, 1)],\n",
    "               textposition='bottom center')\n",
    ")\n",
    "fig.update_layout(title_text='Зависимость коэффициента ускорения от ранга задачи')\n",
    "fig.update_xaxes(title_text='Длина входящих векторов (ранг задачи)')\n",
    "fig.update_yaxes(title_text='Коэффициент ускорения K(r)')\n",
    "fig.show(width=1280, height=1280, autosize=True) "
   ]
  },
  {
   "cell_type": "code",
   "execution_count": 4,
   "metadata": {},
   "outputs": [
    {
     "data": {
      "application/vnd.plotly.v1+json": {
       "config": {
        "plotlyServerURL": "https://plot.ly"
       },
       "data": [
        {
         "mode": "lines+markers+text",
         "text": [
          "n = 1; K(n) = 1.0",
          "n = 2; K(n) = 1.97",
          "n = 3; K(n) = 2.79",
          "n = 4; K(n) = 3.64",
          "n = 5; K(n) = 4.29",
          "n = 6; K(n) = 4.8",
          "n = 7; K(n) = 4.62",
          "n = 8; K(n) = 4.44",
          "n = 9; K(n) = 4.29",
          "n = 10; K(n) = 4.14",
          "n = 11; K(n) = 4.0",
          "n = 12; K(n) = 3.87",
          "n = 13; K(n) = 3.75",
          "n = 14; K(n) = 3.64",
          "n = 15; K(n) = 3.53",
          "n = 16; K(n) = 3.43",
          "n = 17; K(n) = 3.33",
          "n = 18; K(n) = 3.24",
          "n = 19; K(n) = 3.16",
          "n = 20; K(n) = 3.08",
          "n = 21; K(n) = 3.0",
          "n = 22; K(n) = 2.93",
          "n = 23; K(n) = 2.86",
          "n = 24; K(n) = 2.79",
          "n = 25; K(n) = 2.73",
          "n = 26; K(n) = 2.67",
          "n = 27; K(n) = 2.61",
          "n = 28; K(n) = 2.55",
          "n = 29; K(n) = 2.5",
          "n = 30; K(n) = 2.45",
          "n = 31; K(n) = 2.4",
          "n = 32; K(n) = 2.35",
          "n = 33; K(n) = 2.31",
          "n = 34; K(n) = 2.26",
          "n = 35; K(n) = 2.22",
          "n = 36; K(n) = 2.18",
          "n = 37; K(n) = 2.14",
          "n = 38; K(n) = 2.11",
          "n = 39; K(n) = 2.07",
          "n = 40; K(n) = 2.03",
          "n = 41; K(n) = 2.0",
          "n = 42; K(n) = 1.97",
          "n = 43; K(n) = 1.94",
          "n = 44; K(n) = 1.9",
          "n = 45; K(n) = 1.88",
          "n = 46; K(n) = 1.85",
          "n = 47; K(n) = 1.82",
          "n = 48; K(n) = 1.79",
          "n = 49; K(n) = 1.76",
          "n = 50; K(n) = 1.74",
          "n = 51; K(n) = 1.71",
          "n = 52; K(n) = 1.69",
          "n = 53; K(n) = 1.67",
          "n = 54; K(n) = 1.64",
          "n = 55; K(n) = 1.62",
          "n = 56; K(n) = 1.6",
          "n = 57; K(n) = 1.58",
          "n = 58; K(n) = 1.56",
          "n = 59; K(n) = 1.54",
          "n = 60; K(n) = 1.52",
          "n = 61; K(n) = 1.5",
          "n = 62; K(n) = 1.48",
          "n = 63; K(n) = 1.46",
          "n = 64; K(n) = 1.45",
          "n = 65; K(n) = 1.43",
          "n = 66; K(n) = 1.41",
          "n = 67; K(n) = 1.4",
          "n = 68; K(n) = 1.38",
          "n = 69; K(n) = 1.36",
          "n = 70; K(n) = 1.35",
          "n = 71; K(n) = 1.33",
          "n = 72; K(n) = 1.32",
          "n = 73; K(n) = 1.3",
          "n = 74; K(n) = 1.29",
          "n = 75; K(n) = 1.28",
          "n = 76; K(n) = 1.26",
          "n = 77; K(n) = 1.25",
          "n = 78; K(n) = 1.24",
          "n = 79; K(n) = 1.22",
          "n = 80; K(n) = 1.21",
          "n = 81; K(n) = 1.2",
          "n = 82; K(n) = 1.19",
          "n = 83; K(n) = 1.18",
          "n = 84; K(n) = 1.17",
          "n = 85; K(n) = 1.15",
          "n = 86; K(n) = 1.14",
          "n = 87; K(n) = 1.13",
          "n = 88; K(n) = 1.12",
          "n = 89; K(n) = 1.11",
          "n = 90; K(n) = 1.1",
          "n = 91; K(n) = 1.09",
          "n = 92; K(n) = 1.08",
          "n = 93; K(n) = 1.07",
          "n = 94; K(n) = 1.06",
          "n = 95; K(n) = 1.05",
          "n = 96; K(n) = 1.04",
          "n = 97; K(n) = 1.03",
          "n = 98; K(n) = 1.03",
          "n = 99; K(n) = 1.02",
          "n = 100; K(n) = 1.01",
          "n = 101; K(n) = 1.0",
          "n = 102; K(n) = 0.99",
          "n = 103; K(n) = 0.98",
          "n = 104; K(n) = 0.98",
          "n = 105; K(n) = 0.97",
          "n = 106; K(n) = 0.96",
          "n = 107; K(n) = 0.95",
          "n = 108; K(n) = 0.94",
          "n = 109; K(n) = 0.94",
          "n = 110; K(n) = 0.93",
          "n = 111; K(n) = 0.92",
          "n = 112; K(n) = 0.92",
          "n = 113; K(n) = 0.91",
          "n = 114; K(n) = 0.9",
          "n = 115; K(n) = 0.9",
          "n = 116; K(n) = 0.89",
          "n = 117; K(n) = 0.88",
          "n = 118; K(n) = 0.88",
          "n = 119; K(n) = 0.87",
          "n = 120; K(n) = 0.86",
          "n = 121; K(n) = 0.86",
          "n = 122; K(n) = 0.85",
          "n = 123; K(n) = 0.85",
          "n = 124; K(n) = 0.84",
          "n = 125; K(n) = 0.83",
          "n = 126; K(n) = 0.83",
          "n = 127; K(n) = 0.82",
          "n = 128; K(n) = 0.82",
          "n = 129; K(n) = 0.81",
          "n = 130; K(n) = 0.81",
          "n = 131; K(n) = 0.8",
          "n = 132; K(n) = 0.79",
          "n = 133; K(n) = 0.79",
          "n = 134; K(n) = 0.78",
          "n = 135; K(n) = 0.78",
          "n = 136; K(n) = 0.77",
          "n = 137; K(n) = 0.77",
          "n = 138; K(n) = 0.76",
          "n = 139; K(n) = 0.76",
          "n = 140; K(n) = 0.75",
          "n = 141; K(n) = 0.75",
          "n = 142; K(n) = 0.75",
          "n = 143; K(n) = 0.74",
          "n = 144; K(n) = 0.74",
          "n = 145; K(n) = 0.73",
          "n = 146; K(n) = 0.73",
          "n = 147; K(n) = 0.72",
          "n = 148; K(n) = 0.72",
          "n = 149; K(n) = 0.71",
          "n = 150; K(n) = 0.71",
          "n = 151; K(n) = 0.71",
          "n = 152; K(n) = 0.7",
          "n = 153; K(n) = 0.7",
          "n = 154; K(n) = 0.69",
          "n = 155; K(n) = 0.69",
          "n = 156; K(n) = 0.69",
          "n = 157; K(n) = 0.68",
          "n = 158; K(n) = 0.68",
          "n = 159; K(n) = 0.67",
          "n = 160; K(n) = 0.67",
          "n = 161; K(n) = 0.67",
          "n = 162; K(n) = 0.66",
          "n = 163; K(n) = 0.66",
          "n = 164; K(n) = 0.66",
          "n = 165; K(n) = 0.65",
          "n = 166; K(n) = 0.65",
          "n = 167; K(n) = 0.65",
          "n = 168; K(n) = 0.64",
          "n = 169; K(n) = 0.64",
          "n = 170; K(n) = 0.63",
          "n = 171; K(n) = 0.63",
          "n = 172; K(n) = 0.63",
          "n = 173; K(n) = 0.62",
          "n = 174; K(n) = 0.62",
          "n = 175; K(n) = 0.62",
          "n = 176; K(n) = 0.62",
          "n = 177; K(n) = 0.61",
          "n = 178; K(n) = 0.61",
          "n = 179; K(n) = 0.61",
          "n = 180; K(n) = 0.6",
          "n = 181; K(n) = 0.6",
          "n = 182; K(n) = 0.6",
          "n = 183; K(n) = 0.59",
          "n = 184; K(n) = 0.59",
          "n = 185; K(n) = 0.59",
          "n = 186; K(n) = 0.59",
          "n = 187; K(n) = 0.58",
          "n = 188; K(n) = 0.58",
          "n = 189; K(n) = 0.58",
          "n = 190; K(n) = 0.57",
          "n = 191; K(n) = 0.57",
          "n = 192; K(n) = 0.57",
          "n = 193; K(n) = 0.57",
          "n = 194; K(n) = 0.56",
          "n = 195; K(n) = 0.56",
          "n = 196; K(n) = 0.56",
          "n = 197; K(n) = 0.56",
          "n = 198; K(n) = 0.55",
          "n = 199; K(n) = 0.55"
         ],
         "textposition": "bottom center",
         "type": "scatter",
         "x": [
          1,
          2,
          3,
          4,
          5,
          6,
          7,
          8,
          9,
          10,
          11,
          12,
          13,
          14,
          15,
          16,
          17,
          18,
          19,
          20,
          21,
          22,
          23,
          24,
          25,
          26,
          27,
          28,
          29,
          30,
          31,
          32,
          33,
          34,
          35,
          36,
          37,
          38,
          39,
          40,
          41,
          42,
          43,
          44,
          45,
          46,
          47,
          48,
          49,
          50,
          51,
          52,
          53,
          54,
          55,
          56,
          57,
          58,
          59,
          60,
          61,
          62,
          63,
          64,
          65,
          66,
          67,
          68,
          69,
          70,
          71,
          72,
          73,
          74,
          75,
          76,
          77,
          78,
          79,
          80,
          81,
          82,
          83,
          84,
          85,
          86,
          87,
          88,
          89,
          90,
          91,
          92,
          93,
          94,
          95,
          96,
          97,
          98,
          99,
          100,
          101,
          102,
          103,
          104,
          105,
          106,
          107,
          108,
          109,
          110,
          111,
          112,
          113,
          114,
          115,
          116,
          117,
          118,
          119,
          120,
          121,
          122,
          123,
          124,
          125,
          126,
          127,
          128,
          129,
          130,
          131,
          132,
          133,
          134,
          135,
          136,
          137,
          138,
          139,
          140,
          141,
          142,
          143,
          144,
          145,
          146,
          147,
          148,
          149,
          150,
          151,
          152,
          153,
          154,
          155,
          156,
          157,
          158,
          159,
          160,
          161,
          162,
          163,
          164,
          165,
          166,
          167,
          168,
          169,
          170,
          171,
          172,
          173,
          174,
          175,
          176,
          177,
          178,
          179,
          180,
          181,
          182,
          183,
          184,
          185,
          186,
          187,
          188,
          189,
          190,
          191,
          192,
          193,
          194,
          195,
          196,
          197,
          198,
          199
         ],
         "y": [
          1,
          1.97,
          2.79,
          3.64,
          4.29,
          4.8,
          4.62,
          4.44,
          4.29,
          4.14,
          4,
          3.87,
          3.75,
          3.64,
          3.53,
          3.43,
          3.33,
          3.24,
          3.16,
          3.08,
          3,
          2.93,
          2.86,
          2.79,
          2.73,
          2.67,
          2.61,
          2.55,
          2.5,
          2.45,
          2.4,
          2.35,
          2.31,
          2.26,
          2.22,
          2.18,
          2.14,
          2.11,
          2.07,
          2.03,
          2,
          1.97,
          1.94,
          1.9,
          1.88,
          1.85,
          1.82,
          1.79,
          1.76,
          1.74,
          1.71,
          1.69,
          1.67,
          1.64,
          1.62,
          1.6,
          1.58,
          1.56,
          1.54,
          1.52,
          1.5,
          1.48,
          1.46,
          1.45,
          1.43,
          1.41,
          1.4,
          1.38,
          1.36,
          1.35,
          1.33,
          1.32,
          1.3,
          1.29,
          1.28,
          1.26,
          1.25,
          1.24,
          1.22,
          1.21,
          1.2,
          1.19,
          1.18,
          1.17,
          1.15,
          1.14,
          1.13,
          1.12,
          1.11,
          1.1,
          1.09,
          1.08,
          1.07,
          1.06,
          1.05,
          1.04,
          1.03,
          1.03,
          1.02,
          1.01,
          1,
          0.99,
          0.98,
          0.98,
          0.97,
          0.96,
          0.95,
          0.94,
          0.94,
          0.93,
          0.92,
          0.92,
          0.91,
          0.9,
          0.9,
          0.89,
          0.88,
          0.88,
          0.87,
          0.86,
          0.86,
          0.85,
          0.85,
          0.84,
          0.83,
          0.83,
          0.82,
          0.82,
          0.81,
          0.81,
          0.8,
          0.79,
          0.79,
          0.78,
          0.78,
          0.77,
          0.77,
          0.76,
          0.76,
          0.75,
          0.75,
          0.75,
          0.74,
          0.74,
          0.73,
          0.73,
          0.72,
          0.72,
          0.71,
          0.71,
          0.71,
          0.7,
          0.7,
          0.69,
          0.69,
          0.69,
          0.68,
          0.68,
          0.67,
          0.67,
          0.67,
          0.66,
          0.66,
          0.66,
          0.65,
          0.65,
          0.65,
          0.64,
          0.64,
          0.63,
          0.63,
          0.63,
          0.62,
          0.62,
          0.62,
          0.62,
          0.61,
          0.61,
          0.61,
          0.6,
          0.6,
          0.6,
          0.59,
          0.59,
          0.59,
          0.59,
          0.58,
          0.58,
          0.58,
          0.57,
          0.57,
          0.57,
          0.57,
          0.56,
          0.56,
          0.56,
          0.56,
          0.55,
          0.55
         ]
        }
       ],
       "layout": {
        "template": {
         "data": {
          "bar": [
           {
            "error_x": {
             "color": "#2a3f5f"
            },
            "error_y": {
             "color": "#2a3f5f"
            },
            "marker": {
             "line": {
              "color": "#E5ECF6",
              "width": 0.5
             },
             "pattern": {
              "fillmode": "overlay",
              "size": 10,
              "solidity": 0.2
             }
            },
            "type": "bar"
           }
          ],
          "barpolar": [
           {
            "marker": {
             "line": {
              "color": "#E5ECF6",
              "width": 0.5
             },
             "pattern": {
              "fillmode": "overlay",
              "size": 10,
              "solidity": 0.2
             }
            },
            "type": "barpolar"
           }
          ],
          "carpet": [
           {
            "aaxis": {
             "endlinecolor": "#2a3f5f",
             "gridcolor": "white",
             "linecolor": "white",
             "minorgridcolor": "white",
             "startlinecolor": "#2a3f5f"
            },
            "baxis": {
             "endlinecolor": "#2a3f5f",
             "gridcolor": "white",
             "linecolor": "white",
             "minorgridcolor": "white",
             "startlinecolor": "#2a3f5f"
            },
            "type": "carpet"
           }
          ],
          "choropleth": [
           {
            "colorbar": {
             "outlinewidth": 0,
             "ticks": ""
            },
            "type": "choropleth"
           }
          ],
          "contour": [
           {
            "colorbar": {
             "outlinewidth": 0,
             "ticks": ""
            },
            "colorscale": [
             [
              0,
              "#0d0887"
             ],
             [
              0.1111111111111111,
              "#46039f"
             ],
             [
              0.2222222222222222,
              "#7201a8"
             ],
             [
              0.3333333333333333,
              "#9c179e"
             ],
             [
              0.4444444444444444,
              "#bd3786"
             ],
             [
              0.5555555555555556,
              "#d8576b"
             ],
             [
              0.6666666666666666,
              "#ed7953"
             ],
             [
              0.7777777777777778,
              "#fb9f3a"
             ],
             [
              0.8888888888888888,
              "#fdca26"
             ],
             [
              1,
              "#f0f921"
             ]
            ],
            "type": "contour"
           }
          ],
          "contourcarpet": [
           {
            "colorbar": {
             "outlinewidth": 0,
             "ticks": ""
            },
            "type": "contourcarpet"
           }
          ],
          "heatmap": [
           {
            "colorbar": {
             "outlinewidth": 0,
             "ticks": ""
            },
            "colorscale": [
             [
              0,
              "#0d0887"
             ],
             [
              0.1111111111111111,
              "#46039f"
             ],
             [
              0.2222222222222222,
              "#7201a8"
             ],
             [
              0.3333333333333333,
              "#9c179e"
             ],
             [
              0.4444444444444444,
              "#bd3786"
             ],
             [
              0.5555555555555556,
              "#d8576b"
             ],
             [
              0.6666666666666666,
              "#ed7953"
             ],
             [
              0.7777777777777778,
              "#fb9f3a"
             ],
             [
              0.8888888888888888,
              "#fdca26"
             ],
             [
              1,
              "#f0f921"
             ]
            ],
            "type": "heatmap"
           }
          ],
          "heatmapgl": [
           {
            "colorbar": {
             "outlinewidth": 0,
             "ticks": ""
            },
            "colorscale": [
             [
              0,
              "#0d0887"
             ],
             [
              0.1111111111111111,
              "#46039f"
             ],
             [
              0.2222222222222222,
              "#7201a8"
             ],
             [
              0.3333333333333333,
              "#9c179e"
             ],
             [
              0.4444444444444444,
              "#bd3786"
             ],
             [
              0.5555555555555556,
              "#d8576b"
             ],
             [
              0.6666666666666666,
              "#ed7953"
             ],
             [
              0.7777777777777778,
              "#fb9f3a"
             ],
             [
              0.8888888888888888,
              "#fdca26"
             ],
             [
              1,
              "#f0f921"
             ]
            ],
            "type": "heatmapgl"
           }
          ],
          "histogram": [
           {
            "marker": {
             "pattern": {
              "fillmode": "overlay",
              "size": 10,
              "solidity": 0.2
             }
            },
            "type": "histogram"
           }
          ],
          "histogram2d": [
           {
            "colorbar": {
             "outlinewidth": 0,
             "ticks": ""
            },
            "colorscale": [
             [
              0,
              "#0d0887"
             ],
             [
              0.1111111111111111,
              "#46039f"
             ],
             [
              0.2222222222222222,
              "#7201a8"
             ],
             [
              0.3333333333333333,
              "#9c179e"
             ],
             [
              0.4444444444444444,
              "#bd3786"
             ],
             [
              0.5555555555555556,
              "#d8576b"
             ],
             [
              0.6666666666666666,
              "#ed7953"
             ],
             [
              0.7777777777777778,
              "#fb9f3a"
             ],
             [
              0.8888888888888888,
              "#fdca26"
             ],
             [
              1,
              "#f0f921"
             ]
            ],
            "type": "histogram2d"
           }
          ],
          "histogram2dcontour": [
           {
            "colorbar": {
             "outlinewidth": 0,
             "ticks": ""
            },
            "colorscale": [
             [
              0,
              "#0d0887"
             ],
             [
              0.1111111111111111,
              "#46039f"
             ],
             [
              0.2222222222222222,
              "#7201a8"
             ],
             [
              0.3333333333333333,
              "#9c179e"
             ],
             [
              0.4444444444444444,
              "#bd3786"
             ],
             [
              0.5555555555555556,
              "#d8576b"
             ],
             [
              0.6666666666666666,
              "#ed7953"
             ],
             [
              0.7777777777777778,
              "#fb9f3a"
             ],
             [
              0.8888888888888888,
              "#fdca26"
             ],
             [
              1,
              "#f0f921"
             ]
            ],
            "type": "histogram2dcontour"
           }
          ],
          "mesh3d": [
           {
            "colorbar": {
             "outlinewidth": 0,
             "ticks": ""
            },
            "type": "mesh3d"
           }
          ],
          "parcoords": [
           {
            "line": {
             "colorbar": {
              "outlinewidth": 0,
              "ticks": ""
             }
            },
            "type": "parcoords"
           }
          ],
          "pie": [
           {
            "automargin": true,
            "type": "pie"
           }
          ],
          "scatter": [
           {
            "fillpattern": {
             "fillmode": "overlay",
             "size": 10,
             "solidity": 0.2
            },
            "type": "scatter"
           }
          ],
          "scatter3d": [
           {
            "line": {
             "colorbar": {
              "outlinewidth": 0,
              "ticks": ""
             }
            },
            "marker": {
             "colorbar": {
              "outlinewidth": 0,
              "ticks": ""
             }
            },
            "type": "scatter3d"
           }
          ],
          "scattercarpet": [
           {
            "marker": {
             "colorbar": {
              "outlinewidth": 0,
              "ticks": ""
             }
            },
            "type": "scattercarpet"
           }
          ],
          "scattergeo": [
           {
            "marker": {
             "colorbar": {
              "outlinewidth": 0,
              "ticks": ""
             }
            },
            "type": "scattergeo"
           }
          ],
          "scattergl": [
           {
            "marker": {
             "colorbar": {
              "outlinewidth": 0,
              "ticks": ""
             }
            },
            "type": "scattergl"
           }
          ],
          "scattermapbox": [
           {
            "marker": {
             "colorbar": {
              "outlinewidth": 0,
              "ticks": ""
             }
            },
            "type": "scattermapbox"
           }
          ],
          "scatterpolar": [
           {
            "marker": {
             "colorbar": {
              "outlinewidth": 0,
              "ticks": ""
             }
            },
            "type": "scatterpolar"
           }
          ],
          "scatterpolargl": [
           {
            "marker": {
             "colorbar": {
              "outlinewidth": 0,
              "ticks": ""
             }
            },
            "type": "scatterpolargl"
           }
          ],
          "scatterternary": [
           {
            "marker": {
             "colorbar": {
              "outlinewidth": 0,
              "ticks": ""
             }
            },
            "type": "scatterternary"
           }
          ],
          "surface": [
           {
            "colorbar": {
             "outlinewidth": 0,
             "ticks": ""
            },
            "colorscale": [
             [
              0,
              "#0d0887"
             ],
             [
              0.1111111111111111,
              "#46039f"
             ],
             [
              0.2222222222222222,
              "#7201a8"
             ],
             [
              0.3333333333333333,
              "#9c179e"
             ],
             [
              0.4444444444444444,
              "#bd3786"
             ],
             [
              0.5555555555555556,
              "#d8576b"
             ],
             [
              0.6666666666666666,
              "#ed7953"
             ],
             [
              0.7777777777777778,
              "#fb9f3a"
             ],
             [
              0.8888888888888888,
              "#fdca26"
             ],
             [
              1,
              "#f0f921"
             ]
            ],
            "type": "surface"
           }
          ],
          "table": [
           {
            "cells": {
             "fill": {
              "color": "#EBF0F8"
             },
             "line": {
              "color": "white"
             }
            },
            "header": {
             "fill": {
              "color": "#C8D4E3"
             },
             "line": {
              "color": "white"
             }
            },
            "type": "table"
           }
          ]
         },
         "layout": {
          "annotationdefaults": {
           "arrowcolor": "#2a3f5f",
           "arrowhead": 0,
           "arrowwidth": 1
          },
          "autotypenumbers": "strict",
          "coloraxis": {
           "colorbar": {
            "outlinewidth": 0,
            "ticks": ""
           }
          },
          "colorscale": {
           "diverging": [
            [
             0,
             "#8e0152"
            ],
            [
             0.1,
             "#c51b7d"
            ],
            [
             0.2,
             "#de77ae"
            ],
            [
             0.3,
             "#f1b6da"
            ],
            [
             0.4,
             "#fde0ef"
            ],
            [
             0.5,
             "#f7f7f7"
            ],
            [
             0.6,
             "#e6f5d0"
            ],
            [
             0.7,
             "#b8e186"
            ],
            [
             0.8,
             "#7fbc41"
            ],
            [
             0.9,
             "#4d9221"
            ],
            [
             1,
             "#276419"
            ]
           ],
           "sequential": [
            [
             0,
             "#0d0887"
            ],
            [
             0.1111111111111111,
             "#46039f"
            ],
            [
             0.2222222222222222,
             "#7201a8"
            ],
            [
             0.3333333333333333,
             "#9c179e"
            ],
            [
             0.4444444444444444,
             "#bd3786"
            ],
            [
             0.5555555555555556,
             "#d8576b"
            ],
            [
             0.6666666666666666,
             "#ed7953"
            ],
            [
             0.7777777777777778,
             "#fb9f3a"
            ],
            [
             0.8888888888888888,
             "#fdca26"
            ],
            [
             1,
             "#f0f921"
            ]
           ],
           "sequentialminus": [
            [
             0,
             "#0d0887"
            ],
            [
             0.1111111111111111,
             "#46039f"
            ],
            [
             0.2222222222222222,
             "#7201a8"
            ],
            [
             0.3333333333333333,
             "#9c179e"
            ],
            [
             0.4444444444444444,
             "#bd3786"
            ],
            [
             0.5555555555555556,
             "#d8576b"
            ],
            [
             0.6666666666666666,
             "#ed7953"
            ],
            [
             0.7777777777777778,
             "#fb9f3a"
            ],
            [
             0.8888888888888888,
             "#fdca26"
            ],
            [
             1,
             "#f0f921"
            ]
           ]
          },
          "colorway": [
           "#636efa",
           "#EF553B",
           "#00cc96",
           "#ab63fa",
           "#FFA15A",
           "#19d3f3",
           "#FF6692",
           "#B6E880",
           "#FF97FF",
           "#FECB52"
          ],
          "font": {
           "color": "#2a3f5f"
          },
          "geo": {
           "bgcolor": "white",
           "lakecolor": "white",
           "landcolor": "#E5ECF6",
           "showlakes": true,
           "showland": true,
           "subunitcolor": "white"
          },
          "hoverlabel": {
           "align": "left"
          },
          "hovermode": "closest",
          "mapbox": {
           "style": "light"
          },
          "paper_bgcolor": "white",
          "plot_bgcolor": "#E5ECF6",
          "polar": {
           "angularaxis": {
            "gridcolor": "white",
            "linecolor": "white",
            "ticks": ""
           },
           "bgcolor": "#E5ECF6",
           "radialaxis": {
            "gridcolor": "white",
            "linecolor": "white",
            "ticks": ""
           }
          },
          "scene": {
           "xaxis": {
            "backgroundcolor": "#E5ECF6",
            "gridcolor": "white",
            "gridwidth": 2,
            "linecolor": "white",
            "showbackground": true,
            "ticks": "",
            "zerolinecolor": "white"
           },
           "yaxis": {
            "backgroundcolor": "#E5ECF6",
            "gridcolor": "white",
            "gridwidth": 2,
            "linecolor": "white",
            "showbackground": true,
            "ticks": "",
            "zerolinecolor": "white"
           },
           "zaxis": {
            "backgroundcolor": "#E5ECF6",
            "gridcolor": "white",
            "gridwidth": 2,
            "linecolor": "white",
            "showbackground": true,
            "ticks": "",
            "zerolinecolor": "white"
           }
          },
          "shapedefaults": {
           "line": {
            "color": "#2a3f5f"
           }
          },
          "ternary": {
           "aaxis": {
            "gridcolor": "white",
            "linecolor": "white",
            "ticks": ""
           },
           "baxis": {
            "gridcolor": "white",
            "linecolor": "white",
            "ticks": ""
           },
           "bgcolor": "#E5ECF6",
           "caxis": {
            "gridcolor": "white",
            "linecolor": "white",
            "ticks": ""
           }
          },
          "title": {
           "x": 0.05
          },
          "xaxis": {
           "automargin": true,
           "gridcolor": "white",
           "linecolor": "white",
           "ticks": "",
           "title": {
            "standoff": 15
           },
           "zerolinecolor": "white",
           "zerolinewidth": 2
          },
          "yaxis": {
           "automargin": true,
           "gridcolor": "white",
           "linecolor": "white",
           "ticks": "",
           "title": {
            "standoff": 15
           },
           "zerolinecolor": "white",
           "zerolinewidth": 2
          }
         }
        },
        "title": {
         "text": "Зависимость коэффициента ускорения от количества обрабатывающих элементов"
        },
        "xaxis": {
         "title": {
          "text": "Количество процессорных элементов"
         }
        },
        "yaxis": {
         "title": {
          "text": "Коэффициент ускорения K(n)"
         }
        }
       }
      }
     },
     "metadata": {},
     "output_type": "display_data"
    }
   ],
   "source": [
    "# Acceleration coefficient graphic (dependence on proceccing elems, based on 20 size num vector)\n",
    "vector_size = 20\n",
    "x_vector = []\n",
    "y_vector = []\n",
    "for i in range(1, 200):\n",
    "    vector_1 = [random.randint(0, 63) for _ in range(vector_size)]\n",
    "    vector_2 = [random.randint(0, 63) for _ in range(vector_size)]\n",
    "    seq_pipeline = ArithmeticPipeline(vector_1, vector_2, 1, 6)\n",
    "    par_pipeline = ArithmeticPipeline(vector_1, vector_2, i, 6)\n",
    "    while seq_pipeline.is_busy:\n",
    "        seq_pipeline.tact()\n",
    "    while par_pipeline.is_busy:\n",
    "        par_pipeline.tact()\n",
    "    x_vector.append(i)\n",
    "    y_vector.append(round(seq_pipeline.status['tacts_done'] / \n",
    "                          par_pipeline.status['tacts_done'], 2))\n",
    "fig = go.Figure()\n",
    "fig.add_trace(\n",
    "    go.Scatter(x=x_vector, y=y_vector, mode='lines+markers+text',\n",
    "               text=[f'n = {n}; K(n) = {y}' for n, y in enumerate(y_vector, 1)],\n",
    "               textposition='bottom center')\n",
    ")\n",
    "fig.update_layout(title_text='Зависимость коэффициента ускорения от количества обрабатывающих элементов')\n",
    "fig.update_xaxes(title_text='Количество процессорных элементов')\n",
    "fig.update_yaxes(title_text='Коэффициент ускорения K(n)')\n",
    "fig.show(width=1280, height=1280, autosize=True) "
   ]
  },
  {
   "cell_type": "code",
   "execution_count": 5,
   "metadata": {},
   "outputs": [
    {
     "data": {
      "text/plain": [
       "8"
      ]
     },
     "execution_count": 5,
     "metadata": {},
     "output_type": "execute_result"
    }
   ],
   "source": [
    "vector_1 = [random.randint(0, 63) for _ in range(1)]\n",
    "vector_2 = [random.randint(0, 63) for _ in range(1)]\n",
    "par_pipeline = ArithmeticPipeline(vector_1, vector_2, 8, 6)\n",
    "while par_pipeline.is_busy:\n",
    "    par_pipeline.tact()\n",
    "    # print(par_pipeline.status)\n",
    "par_pipeline.status['tacts_done']"
   ]
  },
  {
   "cell_type": "code",
   "execution_count": 6,
   "metadata": {},
   "outputs": [
    {
     "data": {
      "application/vnd.plotly.v1+json": {
       "config": {
        "plotlyServerURL": "https://plot.ly"
       },
       "data": [
        {
         "mode": "lines+markers+text",
         "text": [
          "r = 1; K(r) = 0.17",
          "r = 2; K(r) = 0.29",
          "r = 3; K(r) = 0.38",
          "r = 4; K(r) = 0.44",
          "r = 5; K(r) = 0.5",
          "r = 6; K(r) = 0.55",
          "r = 7; K(r) = 0.58",
          "r = 8; K(r) = 0.62",
          "r = 9; K(r) = 0.64",
          "r = 10; K(r) = 0.67",
          "r = 11; K(r) = 0.69",
          "r = 12; K(r) = 0.71",
          "r = 13; K(r) = 0.72",
          "r = 14; K(r) = 0.74",
          "r = 15; K(r) = 0.75",
          "r = 16; K(r) = 0.76",
          "r = 17; K(r) = 0.77",
          "r = 18; K(r) = 0.78",
          "r = 19; K(r) = 0.79",
          "r = 20; K(r) = 0.8",
          "r = 21; K(r) = 0.81",
          "r = 22; K(r) = 0.81",
          "r = 23; K(r) = 0.82",
          "r = 24; K(r) = 0.83",
          "r = 25; K(r) = 0.83",
          "r = 26; K(r) = 0.84",
          "r = 27; K(r) = 0.84",
          "r = 28; K(r) = 0.85",
          "r = 29; K(r) = 0.85",
          "r = 30; K(r) = 0.86",
          "r = 31; K(r) = 0.86",
          "r = 32; K(r) = 0.86",
          "r = 33; K(r) = 0.87",
          "r = 34; K(r) = 0.87",
          "r = 35; K(r) = 0.88",
          "r = 36; K(r) = 0.88",
          "r = 37; K(r) = 0.88",
          "r = 38; K(r) = 0.88",
          "r = 39; K(r) = 0.89",
          "r = 40; K(r) = 0.89",
          "r = 41; K(r) = 0.89",
          "r = 42; K(r) = 0.89",
          "r = 43; K(r) = 0.9",
          "r = 44; K(r) = 0.9",
          "r = 45; K(r) = 0.9",
          "r = 46; K(r) = 0.9",
          "r = 47; K(r) = 0.9",
          "r = 48; K(r) = 0.91",
          "r = 49; K(r) = 0.91",
          "r = 50; K(r) = 0.91",
          "r = 51; K(r) = 0.91",
          "r = 52; K(r) = 0.91",
          "r = 53; K(r) = 0.91",
          "r = 54; K(r) = 0.92",
          "r = 55; K(r) = 0.92",
          "r = 56; K(r) = 0.92",
          "r = 57; K(r) = 0.92",
          "r = 58; K(r) = 0.92",
          "r = 59; K(r) = 0.92",
          "r = 60; K(r) = 0.92",
          "r = 61; K(r) = 0.92",
          "r = 62; K(r) = 0.93",
          "r = 63; K(r) = 0.93",
          "r = 64; K(r) = 0.93",
          "r = 65; K(r) = 0.93",
          "r = 66; K(r) = 0.93",
          "r = 67; K(r) = 0.93",
          "r = 68; K(r) = 0.93",
          "r = 69; K(r) = 0.93",
          "r = 70; K(r) = 0.93",
          "r = 71; K(r) = 0.93",
          "r = 72; K(r) = 0.94",
          "r = 73; K(r) = 0.94",
          "r = 74; K(r) = 0.94",
          "r = 75; K(r) = 0.94",
          "r = 76; K(r) = 0.94",
          "r = 77; K(r) = 0.94",
          "r = 78; K(r) = 0.94",
          "r = 79; K(r) = 0.94",
          "r = 80; K(r) = 0.94",
          "r = 81; K(r) = 0.94",
          "r = 82; K(r) = 0.94",
          "r = 83; K(r) = 0.94",
          "r = 84; K(r) = 0.94",
          "r = 85; K(r) = 0.94",
          "r = 86; K(r) = 0.95",
          "r = 87; K(r) = 0.95",
          "r = 88; K(r) = 0.95",
          "r = 89; K(r) = 0.95",
          "r = 90; K(r) = 0.95",
          "r = 91; K(r) = 0.95",
          "r = 92; K(r) = 0.95",
          "r = 93; K(r) = 0.95",
          "r = 94; K(r) = 0.95",
          "r = 95; K(r) = 0.95",
          "r = 96; K(r) = 0.95",
          "r = 97; K(r) = 0.95",
          "r = 98; K(r) = 0.95",
          "r = 99; K(r) = 0.95",
          "r = 100; K(r) = 0.95",
          "r = 101; K(r) = 0.95",
          "r = 102; K(r) = 0.95",
          "r = 103; K(r) = 0.95",
          "r = 104; K(r) = 0.95",
          "r = 105; K(r) = 0.95",
          "r = 106; K(r) = 0.95",
          "r = 107; K(r) = 0.96",
          "r = 108; K(r) = 0.96",
          "r = 109; K(r) = 0.96",
          "r = 110; K(r) = 0.96",
          "r = 111; K(r) = 0.96",
          "r = 112; K(r) = 0.96",
          "r = 113; K(r) = 0.96",
          "r = 114; K(r) = 0.96",
          "r = 115; K(r) = 0.96",
          "r = 116; K(r) = 0.96",
          "r = 117; K(r) = 0.96",
          "r = 118; K(r) = 0.96",
          "r = 119; K(r) = 0.96",
          "r = 120; K(r) = 0.96",
          "r = 121; K(r) = 0.96",
          "r = 122; K(r) = 0.96",
          "r = 123; K(r) = 0.96",
          "r = 124; K(r) = 0.96",
          "r = 125; K(r) = 0.96",
          "r = 126; K(r) = 0.96",
          "r = 127; K(r) = 0.96",
          "r = 128; K(r) = 0.96",
          "r = 129; K(r) = 0.96",
          "r = 130; K(r) = 0.96",
          "r = 131; K(r) = 0.96",
          "r = 132; K(r) = 0.96",
          "r = 133; K(r) = 0.96",
          "r = 134; K(r) = 0.96",
          "r = 135; K(r) = 0.96",
          "r = 136; K(r) = 0.96",
          "r = 137; K(r) = 0.96",
          "r = 138; K(r) = 0.97",
          "r = 139; K(r) = 0.97",
          "r = 140; K(r) = 0.97",
          "r = 141; K(r) = 0.97",
          "r = 142; K(r) = 0.97",
          "r = 143; K(r) = 0.97",
          "r = 144; K(r) = 0.97",
          "r = 145; K(r) = 0.97",
          "r = 146; K(r) = 0.97",
          "r = 147; K(r) = 0.97",
          "r = 148; K(r) = 0.97",
          "r = 149; K(r) = 0.97",
          "r = 150; K(r) = 0.97",
          "r = 151; K(r) = 0.97",
          "r = 152; K(r) = 0.97",
          "r = 153; K(r) = 0.97",
          "r = 154; K(r) = 0.97",
          "r = 155; K(r) = 0.97",
          "r = 156; K(r) = 0.97",
          "r = 157; K(r) = 0.97",
          "r = 158; K(r) = 0.97",
          "r = 159; K(r) = 0.97",
          "r = 160; K(r) = 0.97",
          "r = 161; K(r) = 0.97",
          "r = 162; K(r) = 0.97",
          "r = 163; K(r) = 0.97",
          "r = 164; K(r) = 0.97",
          "r = 165; K(r) = 0.97",
          "r = 166; K(r) = 0.97",
          "r = 167; K(r) = 0.97",
          "r = 168; K(r) = 0.97",
          "r = 169; K(r) = 0.97",
          "r = 170; K(r) = 0.97",
          "r = 171; K(r) = 0.97",
          "r = 172; K(r) = 0.97",
          "r = 173; K(r) = 0.97",
          "r = 174; K(r) = 0.97",
          "r = 175; K(r) = 0.97",
          "r = 176; K(r) = 0.97",
          "r = 177; K(r) = 0.97",
          "r = 178; K(r) = 0.97",
          "r = 179; K(r) = 0.97",
          "r = 180; K(r) = 0.97",
          "r = 181; K(r) = 0.97",
          "r = 182; K(r) = 0.97",
          "r = 183; K(r) = 0.97",
          "r = 184; K(r) = 0.97",
          "r = 185; K(r) = 0.97",
          "r = 186; K(r) = 0.97",
          "r = 187; K(r) = 0.97",
          "r = 188; K(r) = 0.97",
          "r = 189; K(r) = 0.97",
          "r = 190; K(r) = 0.97",
          "r = 191; K(r) = 0.97",
          "r = 192; K(r) = 0.97",
          "r = 193; K(r) = 0.97",
          "r = 194; K(r) = 0.97",
          "r = 195; K(r) = 0.97",
          "r = 196; K(r) = 0.98",
          "r = 197; K(r) = 0.98",
          "r = 198; K(r) = 0.98",
          "r = 199; K(r) = 0.98"
         ],
         "textposition": "bottom center",
         "type": "scatter",
         "x": [
          1,
          2,
          3,
          4,
          5,
          6,
          7,
          8,
          9,
          10,
          11,
          12,
          13,
          14,
          15,
          16,
          17,
          18,
          19,
          20,
          21,
          22,
          23,
          24,
          25,
          26,
          27,
          28,
          29,
          30,
          31,
          32,
          33,
          34,
          35,
          36,
          37,
          38,
          39,
          40,
          41,
          42,
          43,
          44,
          45,
          46,
          47,
          48,
          49,
          50,
          51,
          52,
          53,
          54,
          55,
          56,
          57,
          58,
          59,
          60,
          61,
          62,
          63,
          64,
          65,
          66,
          67,
          68,
          69,
          70,
          71,
          72,
          73,
          74,
          75,
          76,
          77,
          78,
          79,
          80,
          81,
          82,
          83,
          84,
          85,
          86,
          87,
          88,
          89,
          90,
          91,
          92,
          93,
          94,
          95,
          96,
          97,
          98,
          99,
          100,
          101,
          102,
          103,
          104,
          105,
          106,
          107,
          108,
          109,
          110,
          111,
          112,
          113,
          114,
          115,
          116,
          117,
          118,
          119,
          120,
          121,
          122,
          123,
          124,
          125,
          126,
          127,
          128,
          129,
          130,
          131,
          132,
          133,
          134,
          135,
          136,
          137,
          138,
          139,
          140,
          141,
          142,
          143,
          144,
          145,
          146,
          147,
          148,
          149,
          150,
          151,
          152,
          153,
          154,
          155,
          156,
          157,
          158,
          159,
          160,
          161,
          162,
          163,
          164,
          165,
          166,
          167,
          168,
          169,
          170,
          171,
          172,
          173,
          174,
          175,
          176,
          177,
          178,
          179,
          180,
          181,
          182,
          183,
          184,
          185,
          186,
          187,
          188,
          189,
          190,
          191,
          192,
          193,
          194,
          195,
          196,
          197,
          198,
          199
         ],
         "y": [
          0.17,
          0.29,
          0.38,
          0.44,
          0.5,
          0.55,
          0.58,
          0.62,
          0.64,
          0.67,
          0.69,
          0.71,
          0.72,
          0.74,
          0.75,
          0.76,
          0.77,
          0.78,
          0.79,
          0.8,
          0.81,
          0.81,
          0.82,
          0.83,
          0.83,
          0.84,
          0.84,
          0.85,
          0.85,
          0.86,
          0.86,
          0.86,
          0.87,
          0.87,
          0.88,
          0.88,
          0.88,
          0.88,
          0.89,
          0.89,
          0.89,
          0.89,
          0.9,
          0.9,
          0.9,
          0.9,
          0.9,
          0.91,
          0.91,
          0.91,
          0.91,
          0.91,
          0.91,
          0.92,
          0.92,
          0.92,
          0.92,
          0.92,
          0.92,
          0.92,
          0.92,
          0.93,
          0.93,
          0.93,
          0.93,
          0.93,
          0.93,
          0.93,
          0.93,
          0.93,
          0.93,
          0.94,
          0.94,
          0.94,
          0.94,
          0.94,
          0.94,
          0.94,
          0.94,
          0.94,
          0.94,
          0.94,
          0.94,
          0.94,
          0.94,
          0.95,
          0.95,
          0.95,
          0.95,
          0.95,
          0.95,
          0.95,
          0.95,
          0.95,
          0.95,
          0.95,
          0.95,
          0.95,
          0.95,
          0.95,
          0.95,
          0.95,
          0.95,
          0.95,
          0.95,
          0.95,
          0.96,
          0.96,
          0.96,
          0.96,
          0.96,
          0.96,
          0.96,
          0.96,
          0.96,
          0.96,
          0.96,
          0.96,
          0.96,
          0.96,
          0.96,
          0.96,
          0.96,
          0.96,
          0.96,
          0.96,
          0.96,
          0.96,
          0.96,
          0.96,
          0.96,
          0.96,
          0.96,
          0.96,
          0.96,
          0.96,
          0.96,
          0.97,
          0.97,
          0.97,
          0.97,
          0.97,
          0.97,
          0.97,
          0.97,
          0.97,
          0.97,
          0.97,
          0.97,
          0.97,
          0.97,
          0.97,
          0.97,
          0.97,
          0.97,
          0.97,
          0.97,
          0.97,
          0.97,
          0.97,
          0.97,
          0.97,
          0.97,
          0.97,
          0.97,
          0.97,
          0.97,
          0.97,
          0.97,
          0.97,
          0.97,
          0.97,
          0.97,
          0.97,
          0.97,
          0.97,
          0.97,
          0.97,
          0.97,
          0.97,
          0.97,
          0.97,
          0.97,
          0.97,
          0.97,
          0.97,
          0.97,
          0.97,
          0.97,
          0.97,
          0.97,
          0.97,
          0.97,
          0.97,
          0.97,
          0.98,
          0.98,
          0.98,
          0.98
         ]
        }
       ],
       "layout": {
        "template": {
         "data": {
          "bar": [
           {
            "error_x": {
             "color": "#2a3f5f"
            },
            "error_y": {
             "color": "#2a3f5f"
            },
            "marker": {
             "line": {
              "color": "#E5ECF6",
              "width": 0.5
             },
             "pattern": {
              "fillmode": "overlay",
              "size": 10,
              "solidity": 0.2
             }
            },
            "type": "bar"
           }
          ],
          "barpolar": [
           {
            "marker": {
             "line": {
              "color": "#E5ECF6",
              "width": 0.5
             },
             "pattern": {
              "fillmode": "overlay",
              "size": 10,
              "solidity": 0.2
             }
            },
            "type": "barpolar"
           }
          ],
          "carpet": [
           {
            "aaxis": {
             "endlinecolor": "#2a3f5f",
             "gridcolor": "white",
             "linecolor": "white",
             "minorgridcolor": "white",
             "startlinecolor": "#2a3f5f"
            },
            "baxis": {
             "endlinecolor": "#2a3f5f",
             "gridcolor": "white",
             "linecolor": "white",
             "minorgridcolor": "white",
             "startlinecolor": "#2a3f5f"
            },
            "type": "carpet"
           }
          ],
          "choropleth": [
           {
            "colorbar": {
             "outlinewidth": 0,
             "ticks": ""
            },
            "type": "choropleth"
           }
          ],
          "contour": [
           {
            "colorbar": {
             "outlinewidth": 0,
             "ticks": ""
            },
            "colorscale": [
             [
              0,
              "#0d0887"
             ],
             [
              0.1111111111111111,
              "#46039f"
             ],
             [
              0.2222222222222222,
              "#7201a8"
             ],
             [
              0.3333333333333333,
              "#9c179e"
             ],
             [
              0.4444444444444444,
              "#bd3786"
             ],
             [
              0.5555555555555556,
              "#d8576b"
             ],
             [
              0.6666666666666666,
              "#ed7953"
             ],
             [
              0.7777777777777778,
              "#fb9f3a"
             ],
             [
              0.8888888888888888,
              "#fdca26"
             ],
             [
              1,
              "#f0f921"
             ]
            ],
            "type": "contour"
           }
          ],
          "contourcarpet": [
           {
            "colorbar": {
             "outlinewidth": 0,
             "ticks": ""
            },
            "type": "contourcarpet"
           }
          ],
          "heatmap": [
           {
            "colorbar": {
             "outlinewidth": 0,
             "ticks": ""
            },
            "colorscale": [
             [
              0,
              "#0d0887"
             ],
             [
              0.1111111111111111,
              "#46039f"
             ],
             [
              0.2222222222222222,
              "#7201a8"
             ],
             [
              0.3333333333333333,
              "#9c179e"
             ],
             [
              0.4444444444444444,
              "#bd3786"
             ],
             [
              0.5555555555555556,
              "#d8576b"
             ],
             [
              0.6666666666666666,
              "#ed7953"
             ],
             [
              0.7777777777777778,
              "#fb9f3a"
             ],
             [
              0.8888888888888888,
              "#fdca26"
             ],
             [
              1,
              "#f0f921"
             ]
            ],
            "type": "heatmap"
           }
          ],
          "heatmapgl": [
           {
            "colorbar": {
             "outlinewidth": 0,
             "ticks": ""
            },
            "colorscale": [
             [
              0,
              "#0d0887"
             ],
             [
              0.1111111111111111,
              "#46039f"
             ],
             [
              0.2222222222222222,
              "#7201a8"
             ],
             [
              0.3333333333333333,
              "#9c179e"
             ],
             [
              0.4444444444444444,
              "#bd3786"
             ],
             [
              0.5555555555555556,
              "#d8576b"
             ],
             [
              0.6666666666666666,
              "#ed7953"
             ],
             [
              0.7777777777777778,
              "#fb9f3a"
             ],
             [
              0.8888888888888888,
              "#fdca26"
             ],
             [
              1,
              "#f0f921"
             ]
            ],
            "type": "heatmapgl"
           }
          ],
          "histogram": [
           {
            "marker": {
             "pattern": {
              "fillmode": "overlay",
              "size": 10,
              "solidity": 0.2
             }
            },
            "type": "histogram"
           }
          ],
          "histogram2d": [
           {
            "colorbar": {
             "outlinewidth": 0,
             "ticks": ""
            },
            "colorscale": [
             [
              0,
              "#0d0887"
             ],
             [
              0.1111111111111111,
              "#46039f"
             ],
             [
              0.2222222222222222,
              "#7201a8"
             ],
             [
              0.3333333333333333,
              "#9c179e"
             ],
             [
              0.4444444444444444,
              "#bd3786"
             ],
             [
              0.5555555555555556,
              "#d8576b"
             ],
             [
              0.6666666666666666,
              "#ed7953"
             ],
             [
              0.7777777777777778,
              "#fb9f3a"
             ],
             [
              0.8888888888888888,
              "#fdca26"
             ],
             [
              1,
              "#f0f921"
             ]
            ],
            "type": "histogram2d"
           }
          ],
          "histogram2dcontour": [
           {
            "colorbar": {
             "outlinewidth": 0,
             "ticks": ""
            },
            "colorscale": [
             [
              0,
              "#0d0887"
             ],
             [
              0.1111111111111111,
              "#46039f"
             ],
             [
              0.2222222222222222,
              "#7201a8"
             ],
             [
              0.3333333333333333,
              "#9c179e"
             ],
             [
              0.4444444444444444,
              "#bd3786"
             ],
             [
              0.5555555555555556,
              "#d8576b"
             ],
             [
              0.6666666666666666,
              "#ed7953"
             ],
             [
              0.7777777777777778,
              "#fb9f3a"
             ],
             [
              0.8888888888888888,
              "#fdca26"
             ],
             [
              1,
              "#f0f921"
             ]
            ],
            "type": "histogram2dcontour"
           }
          ],
          "mesh3d": [
           {
            "colorbar": {
             "outlinewidth": 0,
             "ticks": ""
            },
            "type": "mesh3d"
           }
          ],
          "parcoords": [
           {
            "line": {
             "colorbar": {
              "outlinewidth": 0,
              "ticks": ""
             }
            },
            "type": "parcoords"
           }
          ],
          "pie": [
           {
            "automargin": true,
            "type": "pie"
           }
          ],
          "scatter": [
           {
            "fillpattern": {
             "fillmode": "overlay",
             "size": 10,
             "solidity": 0.2
            },
            "type": "scatter"
           }
          ],
          "scatter3d": [
           {
            "line": {
             "colorbar": {
              "outlinewidth": 0,
              "ticks": ""
             }
            },
            "marker": {
             "colorbar": {
              "outlinewidth": 0,
              "ticks": ""
             }
            },
            "type": "scatter3d"
           }
          ],
          "scattercarpet": [
           {
            "marker": {
             "colorbar": {
              "outlinewidth": 0,
              "ticks": ""
             }
            },
            "type": "scattercarpet"
           }
          ],
          "scattergeo": [
           {
            "marker": {
             "colorbar": {
              "outlinewidth": 0,
              "ticks": ""
             }
            },
            "type": "scattergeo"
           }
          ],
          "scattergl": [
           {
            "marker": {
             "colorbar": {
              "outlinewidth": 0,
              "ticks": ""
             }
            },
            "type": "scattergl"
           }
          ],
          "scattermapbox": [
           {
            "marker": {
             "colorbar": {
              "outlinewidth": 0,
              "ticks": ""
             }
            },
            "type": "scattermapbox"
           }
          ],
          "scatterpolar": [
           {
            "marker": {
             "colorbar": {
              "outlinewidth": 0,
              "ticks": ""
             }
            },
            "type": "scatterpolar"
           }
          ],
          "scatterpolargl": [
           {
            "marker": {
             "colorbar": {
              "outlinewidth": 0,
              "ticks": ""
             }
            },
            "type": "scatterpolargl"
           }
          ],
          "scatterternary": [
           {
            "marker": {
             "colorbar": {
              "outlinewidth": 0,
              "ticks": ""
             }
            },
            "type": "scatterternary"
           }
          ],
          "surface": [
           {
            "colorbar": {
             "outlinewidth": 0,
             "ticks": ""
            },
            "colorscale": [
             [
              0,
              "#0d0887"
             ],
             [
              0.1111111111111111,
              "#46039f"
             ],
             [
              0.2222222222222222,
              "#7201a8"
             ],
             [
              0.3333333333333333,
              "#9c179e"
             ],
             [
              0.4444444444444444,
              "#bd3786"
             ],
             [
              0.5555555555555556,
              "#d8576b"
             ],
             [
              0.6666666666666666,
              "#ed7953"
             ],
             [
              0.7777777777777778,
              "#fb9f3a"
             ],
             [
              0.8888888888888888,
              "#fdca26"
             ],
             [
              1,
              "#f0f921"
             ]
            ],
            "type": "surface"
           }
          ],
          "table": [
           {
            "cells": {
             "fill": {
              "color": "#EBF0F8"
             },
             "line": {
              "color": "white"
             }
            },
            "header": {
             "fill": {
              "color": "#C8D4E3"
             },
             "line": {
              "color": "white"
             }
            },
            "type": "table"
           }
          ]
         },
         "layout": {
          "annotationdefaults": {
           "arrowcolor": "#2a3f5f",
           "arrowhead": 0,
           "arrowwidth": 1
          },
          "autotypenumbers": "strict",
          "coloraxis": {
           "colorbar": {
            "outlinewidth": 0,
            "ticks": ""
           }
          },
          "colorscale": {
           "diverging": [
            [
             0,
             "#8e0152"
            ],
            [
             0.1,
             "#c51b7d"
            ],
            [
             0.2,
             "#de77ae"
            ],
            [
             0.3,
             "#f1b6da"
            ],
            [
             0.4,
             "#fde0ef"
            ],
            [
             0.5,
             "#f7f7f7"
            ],
            [
             0.6,
             "#e6f5d0"
            ],
            [
             0.7,
             "#b8e186"
            ],
            [
             0.8,
             "#7fbc41"
            ],
            [
             0.9,
             "#4d9221"
            ],
            [
             1,
             "#276419"
            ]
           ],
           "sequential": [
            [
             0,
             "#0d0887"
            ],
            [
             0.1111111111111111,
             "#46039f"
            ],
            [
             0.2222222222222222,
             "#7201a8"
            ],
            [
             0.3333333333333333,
             "#9c179e"
            ],
            [
             0.4444444444444444,
             "#bd3786"
            ],
            [
             0.5555555555555556,
             "#d8576b"
            ],
            [
             0.6666666666666666,
             "#ed7953"
            ],
            [
             0.7777777777777778,
             "#fb9f3a"
            ],
            [
             0.8888888888888888,
             "#fdca26"
            ],
            [
             1,
             "#f0f921"
            ]
           ],
           "sequentialminus": [
            [
             0,
             "#0d0887"
            ],
            [
             0.1111111111111111,
             "#46039f"
            ],
            [
             0.2222222222222222,
             "#7201a8"
            ],
            [
             0.3333333333333333,
             "#9c179e"
            ],
            [
             0.4444444444444444,
             "#bd3786"
            ],
            [
             0.5555555555555556,
             "#d8576b"
            ],
            [
             0.6666666666666666,
             "#ed7953"
            ],
            [
             0.7777777777777778,
             "#fb9f3a"
            ],
            [
             0.8888888888888888,
             "#fdca26"
            ],
            [
             1,
             "#f0f921"
            ]
           ]
          },
          "colorway": [
           "#636efa",
           "#EF553B",
           "#00cc96",
           "#ab63fa",
           "#FFA15A",
           "#19d3f3",
           "#FF6692",
           "#B6E880",
           "#FF97FF",
           "#FECB52"
          ],
          "font": {
           "color": "#2a3f5f"
          },
          "geo": {
           "bgcolor": "white",
           "lakecolor": "white",
           "landcolor": "#E5ECF6",
           "showlakes": true,
           "showland": true,
           "subunitcolor": "white"
          },
          "hoverlabel": {
           "align": "left"
          },
          "hovermode": "closest",
          "mapbox": {
           "style": "light"
          },
          "paper_bgcolor": "white",
          "plot_bgcolor": "#E5ECF6",
          "polar": {
           "angularaxis": {
            "gridcolor": "white",
            "linecolor": "white",
            "ticks": ""
           },
           "bgcolor": "#E5ECF6",
           "radialaxis": {
            "gridcolor": "white",
            "linecolor": "white",
            "ticks": ""
           }
          },
          "scene": {
           "xaxis": {
            "backgroundcolor": "#E5ECF6",
            "gridcolor": "white",
            "gridwidth": 2,
            "linecolor": "white",
            "showbackground": true,
            "ticks": "",
            "zerolinecolor": "white"
           },
           "yaxis": {
            "backgroundcolor": "#E5ECF6",
            "gridcolor": "white",
            "gridwidth": 2,
            "linecolor": "white",
            "showbackground": true,
            "ticks": "",
            "zerolinecolor": "white"
           },
           "zaxis": {
            "backgroundcolor": "#E5ECF6",
            "gridcolor": "white",
            "gridwidth": 2,
            "linecolor": "white",
            "showbackground": true,
            "ticks": "",
            "zerolinecolor": "white"
           }
          },
          "shapedefaults": {
           "line": {
            "color": "#2a3f5f"
           }
          },
          "ternary": {
           "aaxis": {
            "gridcolor": "white",
            "linecolor": "white",
            "ticks": ""
           },
           "baxis": {
            "gridcolor": "white",
            "linecolor": "white",
            "ticks": ""
           },
           "bgcolor": "#E5ECF6",
           "caxis": {
            "gridcolor": "white",
            "linecolor": "white",
            "ticks": ""
           }
          },
          "title": {
           "x": 0.05
          },
          "xaxis": {
           "automargin": true,
           "gridcolor": "white",
           "linecolor": "white",
           "ticks": "",
           "title": {
            "standoff": 15
           },
           "zerolinecolor": "white",
           "zerolinewidth": 2
          },
          "yaxis": {
           "automargin": true,
           "gridcolor": "white",
           "linecolor": "white",
           "ticks": "",
           "title": {
            "standoff": 15
           },
           "zerolinecolor": "white",
           "zerolinewidth": 2
          }
         }
        },
        "title": {
         "text": "Зависимость коэффициента эффективности от ранга задачи"
        },
        "xaxis": {
         "title": {
          "text": "Длина входящих векторов (ранг задачи)"
         }
        },
        "yaxis": {
         "title": {
          "text": "Коэффициент эффективности e(r)"
         }
        }
       }
      }
     },
     "metadata": {},
     "output_type": "display_data"
    }
   ],
   "source": [
    "# Efficency coefficient graphic (dependence on problem rank)\n",
    "stages_amount = 6\n",
    "x_vector = []\n",
    "y_vector = []\n",
    "for i in range(1, 200):\n",
    "    vector_1 = [random.randint(0, 63) for _ in range(i)]\n",
    "    vector_2 = [random.randint(0, 63) for _ in range(i)]\n",
    "    seq_pipeline = ArithmeticPipeline(vector_1, vector_2, 1, 6)\n",
    "    par_pipeline = ArithmeticPipeline(vector_1, vector_2, 6, 6)\n",
    "    while seq_pipeline.is_busy:\n",
    "        seq_pipeline.tact()\n",
    "    while par_pipeline.is_busy:\n",
    "        par_pipeline.tact()\n",
    "    x_vector.append(i)\n",
    "    y_vector.append(round(seq_pipeline.status['tacts_done'] / \n",
    "                          (par_pipeline.status['tacts_done'] * 6), 2))\n",
    "fig = go.Figure()\n",
    "fig.add_trace(\n",
    "    go.Scatter(x=x_vector, y=y_vector, mode='lines+markers+text',\n",
    "               text=[f'r = {r}; K(r) = {y}' for r, y in enumerate(y_vector, 1)],\n",
    "               textposition='bottom center')\n",
    ")\n",
    "fig.update_layout(title_text='Зависимость коэффициента эффективности от ранга задачи')\n",
    "fig.update_xaxes(title_text='Длина входящих векторов (ранг задачи)')\n",
    "fig.update_yaxes(title_text='Коэффициент эффективности e(r)')\n",
    "fig.show(width=1280, height=720, autosize=True) "
   ]
  },
  {
   "cell_type": "code",
   "execution_count": 7,
   "metadata": {},
   "outputs": [
    {
     "data": {
      "application/vnd.plotly.v1+json": {
       "config": {
        "plotlyServerURL": "https://plot.ly"
       },
       "data": [
        {
         "mode": "lines+markers+text",
         "text": [
          "n = 1; K(n) = 1.0",
          "n = 2; K(n) = 0.98",
          "n = 3; K(n) = 0.93",
          "n = 4; K(n) = 0.91",
          "n = 5; K(n) = 0.86",
          "n = 6; K(n) = 0.8",
          "n = 7; K(n) = 0.66",
          "n = 8; K(n) = 0.56",
          "n = 9; K(n) = 0.48",
          "n = 10; K(n) = 0.41",
          "n = 11; K(n) = 0.36",
          "n = 12; K(n) = 0.32",
          "n = 13; K(n) = 0.29",
          "n = 14; K(n) = 0.26",
          "n = 15; K(n) = 0.24",
          "n = 16; K(n) = 0.21",
          "n = 17; K(n) = 0.2",
          "n = 18; K(n) = 0.18",
          "n = 19; K(n) = 0.17",
          "n = 20; K(n) = 0.15",
          "n = 21; K(n) = 0.14",
          "n = 22; K(n) = 0.13",
          "n = 23; K(n) = 0.12",
          "n = 24; K(n) = 0.12",
          "n = 25; K(n) = 0.11",
          "n = 26; K(n) = 0.1",
          "n = 27; K(n) = 0.1",
          "n = 28; K(n) = 0.09",
          "n = 29; K(n) = 0.09",
          "n = 30; K(n) = 0.08",
          "n = 31; K(n) = 0.08",
          "n = 32; K(n) = 0.07",
          "n = 33; K(n) = 0.07",
          "n = 34; K(n) = 0.07",
          "n = 35; K(n) = 0.06",
          "n = 36; K(n) = 0.06",
          "n = 37; K(n) = 0.06",
          "n = 38; K(n) = 0.06",
          "n = 39; K(n) = 0.05",
          "n = 40; K(n) = 0.05",
          "n = 41; K(n) = 0.05",
          "n = 42; K(n) = 0.05",
          "n = 43; K(n) = 0.05",
          "n = 44; K(n) = 0.04",
          "n = 45; K(n) = 0.04",
          "n = 46; K(n) = 0.04",
          "n = 47; K(n) = 0.04",
          "n = 48; K(n) = 0.04",
          "n = 49; K(n) = 0.04",
          "n = 50; K(n) = 0.03",
          "n = 51; K(n) = 0.03",
          "n = 52; K(n) = 0.03",
          "n = 53; K(n) = 0.03",
          "n = 54; K(n) = 0.03",
          "n = 55; K(n) = 0.03",
          "n = 56; K(n) = 0.03",
          "n = 57; K(n) = 0.03",
          "n = 58; K(n) = 0.03",
          "n = 59; K(n) = 0.03",
          "n = 60; K(n) = 0.03",
          "n = 61; K(n) = 0.02",
          "n = 62; K(n) = 0.02",
          "n = 63; K(n) = 0.02",
          "n = 64; K(n) = 0.02",
          "n = 65; K(n) = 0.02",
          "n = 66; K(n) = 0.02",
          "n = 67; K(n) = 0.02",
          "n = 68; K(n) = 0.02",
          "n = 69; K(n) = 0.02",
          "n = 70; K(n) = 0.02",
          "n = 71; K(n) = 0.02",
          "n = 72; K(n) = 0.02",
          "n = 73; K(n) = 0.02",
          "n = 74; K(n) = 0.02",
          "n = 75; K(n) = 0.02",
          "n = 76; K(n) = 0.02",
          "n = 77; K(n) = 0.02",
          "n = 78; K(n) = 0.02",
          "n = 79; K(n) = 0.02",
          "n = 80; K(n) = 0.02",
          "n = 81; K(n) = 0.01",
          "n = 82; K(n) = 0.01",
          "n = 83; K(n) = 0.01",
          "n = 84; K(n) = 0.01",
          "n = 85; K(n) = 0.01",
          "n = 86; K(n) = 0.01",
          "n = 87; K(n) = 0.01",
          "n = 88; K(n) = 0.01",
          "n = 89; K(n) = 0.01",
          "n = 90; K(n) = 0.01",
          "n = 91; K(n) = 0.01",
          "n = 92; K(n) = 0.01",
          "n = 93; K(n) = 0.01",
          "n = 94; K(n) = 0.01",
          "n = 95; K(n) = 0.01",
          "n = 96; K(n) = 0.01",
          "n = 97; K(n) = 0.01",
          "n = 98; K(n) = 0.01",
          "n = 99; K(n) = 0.01",
          "n = 100; K(n) = 0.01",
          "n = 101; K(n) = 0.01",
          "n = 102; K(n) = 0.01",
          "n = 103; K(n) = 0.01",
          "n = 104; K(n) = 0.01",
          "n = 105; K(n) = 0.01",
          "n = 106; K(n) = 0.01",
          "n = 107; K(n) = 0.01",
          "n = 108; K(n) = 0.01",
          "n = 109; K(n) = 0.01",
          "n = 110; K(n) = 0.01",
          "n = 111; K(n) = 0.01",
          "n = 112; K(n) = 0.01",
          "n = 113; K(n) = 0.01",
          "n = 114; K(n) = 0.01",
          "n = 115; K(n) = 0.01",
          "n = 116; K(n) = 0.01",
          "n = 117; K(n) = 0.01",
          "n = 118; K(n) = 0.01",
          "n = 119; K(n) = 0.01",
          "n = 120; K(n) = 0.01",
          "n = 121; K(n) = 0.01",
          "n = 122; K(n) = 0.01",
          "n = 123; K(n) = 0.01",
          "n = 124; K(n) = 0.01",
          "n = 125; K(n) = 0.01",
          "n = 126; K(n) = 0.01",
          "n = 127; K(n) = 0.01",
          "n = 128; K(n) = 0.01",
          "n = 129; K(n) = 0.01",
          "n = 130; K(n) = 0.01",
          "n = 131; K(n) = 0.01",
          "n = 132; K(n) = 0.01",
          "n = 133; K(n) = 0.01",
          "n = 134; K(n) = 0.01",
          "n = 135; K(n) = 0.01",
          "n = 136; K(n) = 0.01",
          "n = 137; K(n) = 0.01",
          "n = 138; K(n) = 0.01",
          "n = 139; K(n) = 0.01",
          "n = 140; K(n) = 0.01",
          "n = 141; K(n) = 0.01",
          "n = 142; K(n) = 0.01",
          "n = 143; K(n) = 0.01",
          "n = 144; K(n) = 0.01",
          "n = 145; K(n) = 0.01",
          "n = 146; K(n) = 0.0",
          "n = 147; K(n) = 0.0",
          "n = 148; K(n) = 0.0",
          "n = 149; K(n) = 0.0",
          "n = 150; K(n) = 0.0",
          "n = 151; K(n) = 0.0",
          "n = 152; K(n) = 0.0",
          "n = 153; K(n) = 0.0",
          "n = 154; K(n) = 0.0",
          "n = 155; K(n) = 0.0",
          "n = 156; K(n) = 0.0",
          "n = 157; K(n) = 0.0",
          "n = 158; K(n) = 0.0",
          "n = 159; K(n) = 0.0",
          "n = 160; K(n) = 0.0",
          "n = 161; K(n) = 0.0",
          "n = 162; K(n) = 0.0",
          "n = 163; K(n) = 0.0",
          "n = 164; K(n) = 0.0",
          "n = 165; K(n) = 0.0",
          "n = 166; K(n) = 0.0",
          "n = 167; K(n) = 0.0",
          "n = 168; K(n) = 0.0",
          "n = 169; K(n) = 0.0",
          "n = 170; K(n) = 0.0",
          "n = 171; K(n) = 0.0",
          "n = 172; K(n) = 0.0",
          "n = 173; K(n) = 0.0",
          "n = 174; K(n) = 0.0",
          "n = 175; K(n) = 0.0",
          "n = 176; K(n) = 0.0",
          "n = 177; K(n) = 0.0",
          "n = 178; K(n) = 0.0",
          "n = 179; K(n) = 0.0",
          "n = 180; K(n) = 0.0",
          "n = 181; K(n) = 0.0",
          "n = 182; K(n) = 0.0",
          "n = 183; K(n) = 0.0",
          "n = 184; K(n) = 0.0",
          "n = 185; K(n) = 0.0",
          "n = 186; K(n) = 0.0",
          "n = 187; K(n) = 0.0",
          "n = 188; K(n) = 0.0",
          "n = 189; K(n) = 0.0",
          "n = 190; K(n) = 0.0",
          "n = 191; K(n) = 0.0",
          "n = 192; K(n) = 0.0",
          "n = 193; K(n) = 0.0",
          "n = 194; K(n) = 0.0",
          "n = 195; K(n) = 0.0",
          "n = 196; K(n) = 0.0",
          "n = 197; K(n) = 0.0",
          "n = 198; K(n) = 0.0",
          "n = 199; K(n) = 0.0"
         ],
         "textposition": "bottom center",
         "type": "scatter",
         "x": [
          1,
          2,
          3,
          4,
          5,
          6,
          7,
          8,
          9,
          10,
          11,
          12,
          13,
          14,
          15,
          16,
          17,
          18,
          19,
          20,
          21,
          22,
          23,
          24,
          25,
          26,
          27,
          28,
          29,
          30,
          31,
          32,
          33,
          34,
          35,
          36,
          37,
          38,
          39,
          40,
          41,
          42,
          43,
          44,
          45,
          46,
          47,
          48,
          49,
          50,
          51,
          52,
          53,
          54,
          55,
          56,
          57,
          58,
          59,
          60,
          61,
          62,
          63,
          64,
          65,
          66,
          67,
          68,
          69,
          70,
          71,
          72,
          73,
          74,
          75,
          76,
          77,
          78,
          79,
          80,
          81,
          82,
          83,
          84,
          85,
          86,
          87,
          88,
          89,
          90,
          91,
          92,
          93,
          94,
          95,
          96,
          97,
          98,
          99,
          100,
          101,
          102,
          103,
          104,
          105,
          106,
          107,
          108,
          109,
          110,
          111,
          112,
          113,
          114,
          115,
          116,
          117,
          118,
          119,
          120,
          121,
          122,
          123,
          124,
          125,
          126,
          127,
          128,
          129,
          130,
          131,
          132,
          133,
          134,
          135,
          136,
          137,
          138,
          139,
          140,
          141,
          142,
          143,
          144,
          145,
          146,
          147,
          148,
          149,
          150,
          151,
          152,
          153,
          154,
          155,
          156,
          157,
          158,
          159,
          160,
          161,
          162,
          163,
          164,
          165,
          166,
          167,
          168,
          169,
          170,
          171,
          172,
          173,
          174,
          175,
          176,
          177,
          178,
          179,
          180,
          181,
          182,
          183,
          184,
          185,
          186,
          187,
          188,
          189,
          190,
          191,
          192,
          193,
          194,
          195,
          196,
          197,
          198,
          199
         ],
         "y": [
          1,
          0.98,
          0.93,
          0.91,
          0.86,
          0.8,
          0.66,
          0.56,
          0.48,
          0.41,
          0.36,
          0.32,
          0.29,
          0.26,
          0.24,
          0.21,
          0.2,
          0.18,
          0.17,
          0.15,
          0.14,
          0.13,
          0.12,
          0.12,
          0.11,
          0.1,
          0.1,
          0.09,
          0.09,
          0.08,
          0.08,
          0.07,
          0.07,
          0.07,
          0.06,
          0.06,
          0.06,
          0.06,
          0.05,
          0.05,
          0.05,
          0.05,
          0.05,
          0.04,
          0.04,
          0.04,
          0.04,
          0.04,
          0.04,
          0.03,
          0.03,
          0.03,
          0.03,
          0.03,
          0.03,
          0.03,
          0.03,
          0.03,
          0.03,
          0.03,
          0.02,
          0.02,
          0.02,
          0.02,
          0.02,
          0.02,
          0.02,
          0.02,
          0.02,
          0.02,
          0.02,
          0.02,
          0.02,
          0.02,
          0.02,
          0.02,
          0.02,
          0.02,
          0.02,
          0.02,
          0.01,
          0.01,
          0.01,
          0.01,
          0.01,
          0.01,
          0.01,
          0.01,
          0.01,
          0.01,
          0.01,
          0.01,
          0.01,
          0.01,
          0.01,
          0.01,
          0.01,
          0.01,
          0.01,
          0.01,
          0.01,
          0.01,
          0.01,
          0.01,
          0.01,
          0.01,
          0.01,
          0.01,
          0.01,
          0.01,
          0.01,
          0.01,
          0.01,
          0.01,
          0.01,
          0.01,
          0.01,
          0.01,
          0.01,
          0.01,
          0.01,
          0.01,
          0.01,
          0.01,
          0.01,
          0.01,
          0.01,
          0.01,
          0.01,
          0.01,
          0.01,
          0.01,
          0.01,
          0.01,
          0.01,
          0.01,
          0.01,
          0.01,
          0.01,
          0.01,
          0.01,
          0.01,
          0.01,
          0.01,
          0.01,
          0,
          0,
          0,
          0,
          0,
          0,
          0,
          0,
          0,
          0,
          0,
          0,
          0,
          0,
          0,
          0,
          0,
          0,
          0,
          0,
          0,
          0,
          0,
          0,
          0,
          0,
          0,
          0,
          0,
          0,
          0,
          0,
          0,
          0,
          0,
          0,
          0,
          0,
          0,
          0,
          0,
          0,
          0,
          0,
          0,
          0,
          0,
          0,
          0,
          0,
          0,
          0,
          0,
          0
         ]
        }
       ],
       "layout": {
        "template": {
         "data": {
          "bar": [
           {
            "error_x": {
             "color": "#2a3f5f"
            },
            "error_y": {
             "color": "#2a3f5f"
            },
            "marker": {
             "line": {
              "color": "#E5ECF6",
              "width": 0.5
             },
             "pattern": {
              "fillmode": "overlay",
              "size": 10,
              "solidity": 0.2
             }
            },
            "type": "bar"
           }
          ],
          "barpolar": [
           {
            "marker": {
             "line": {
              "color": "#E5ECF6",
              "width": 0.5
             },
             "pattern": {
              "fillmode": "overlay",
              "size": 10,
              "solidity": 0.2
             }
            },
            "type": "barpolar"
           }
          ],
          "carpet": [
           {
            "aaxis": {
             "endlinecolor": "#2a3f5f",
             "gridcolor": "white",
             "linecolor": "white",
             "minorgridcolor": "white",
             "startlinecolor": "#2a3f5f"
            },
            "baxis": {
             "endlinecolor": "#2a3f5f",
             "gridcolor": "white",
             "linecolor": "white",
             "minorgridcolor": "white",
             "startlinecolor": "#2a3f5f"
            },
            "type": "carpet"
           }
          ],
          "choropleth": [
           {
            "colorbar": {
             "outlinewidth": 0,
             "ticks": ""
            },
            "type": "choropleth"
           }
          ],
          "contour": [
           {
            "colorbar": {
             "outlinewidth": 0,
             "ticks": ""
            },
            "colorscale": [
             [
              0,
              "#0d0887"
             ],
             [
              0.1111111111111111,
              "#46039f"
             ],
             [
              0.2222222222222222,
              "#7201a8"
             ],
             [
              0.3333333333333333,
              "#9c179e"
             ],
             [
              0.4444444444444444,
              "#bd3786"
             ],
             [
              0.5555555555555556,
              "#d8576b"
             ],
             [
              0.6666666666666666,
              "#ed7953"
             ],
             [
              0.7777777777777778,
              "#fb9f3a"
             ],
             [
              0.8888888888888888,
              "#fdca26"
             ],
             [
              1,
              "#f0f921"
             ]
            ],
            "type": "contour"
           }
          ],
          "contourcarpet": [
           {
            "colorbar": {
             "outlinewidth": 0,
             "ticks": ""
            },
            "type": "contourcarpet"
           }
          ],
          "heatmap": [
           {
            "colorbar": {
             "outlinewidth": 0,
             "ticks": ""
            },
            "colorscale": [
             [
              0,
              "#0d0887"
             ],
             [
              0.1111111111111111,
              "#46039f"
             ],
             [
              0.2222222222222222,
              "#7201a8"
             ],
             [
              0.3333333333333333,
              "#9c179e"
             ],
             [
              0.4444444444444444,
              "#bd3786"
             ],
             [
              0.5555555555555556,
              "#d8576b"
             ],
             [
              0.6666666666666666,
              "#ed7953"
             ],
             [
              0.7777777777777778,
              "#fb9f3a"
             ],
             [
              0.8888888888888888,
              "#fdca26"
             ],
             [
              1,
              "#f0f921"
             ]
            ],
            "type": "heatmap"
           }
          ],
          "heatmapgl": [
           {
            "colorbar": {
             "outlinewidth": 0,
             "ticks": ""
            },
            "colorscale": [
             [
              0,
              "#0d0887"
             ],
             [
              0.1111111111111111,
              "#46039f"
             ],
             [
              0.2222222222222222,
              "#7201a8"
             ],
             [
              0.3333333333333333,
              "#9c179e"
             ],
             [
              0.4444444444444444,
              "#bd3786"
             ],
             [
              0.5555555555555556,
              "#d8576b"
             ],
             [
              0.6666666666666666,
              "#ed7953"
             ],
             [
              0.7777777777777778,
              "#fb9f3a"
             ],
             [
              0.8888888888888888,
              "#fdca26"
             ],
             [
              1,
              "#f0f921"
             ]
            ],
            "type": "heatmapgl"
           }
          ],
          "histogram": [
           {
            "marker": {
             "pattern": {
              "fillmode": "overlay",
              "size": 10,
              "solidity": 0.2
             }
            },
            "type": "histogram"
           }
          ],
          "histogram2d": [
           {
            "colorbar": {
             "outlinewidth": 0,
             "ticks": ""
            },
            "colorscale": [
             [
              0,
              "#0d0887"
             ],
             [
              0.1111111111111111,
              "#46039f"
             ],
             [
              0.2222222222222222,
              "#7201a8"
             ],
             [
              0.3333333333333333,
              "#9c179e"
             ],
             [
              0.4444444444444444,
              "#bd3786"
             ],
             [
              0.5555555555555556,
              "#d8576b"
             ],
             [
              0.6666666666666666,
              "#ed7953"
             ],
             [
              0.7777777777777778,
              "#fb9f3a"
             ],
             [
              0.8888888888888888,
              "#fdca26"
             ],
             [
              1,
              "#f0f921"
             ]
            ],
            "type": "histogram2d"
           }
          ],
          "histogram2dcontour": [
           {
            "colorbar": {
             "outlinewidth": 0,
             "ticks": ""
            },
            "colorscale": [
             [
              0,
              "#0d0887"
             ],
             [
              0.1111111111111111,
              "#46039f"
             ],
             [
              0.2222222222222222,
              "#7201a8"
             ],
             [
              0.3333333333333333,
              "#9c179e"
             ],
             [
              0.4444444444444444,
              "#bd3786"
             ],
             [
              0.5555555555555556,
              "#d8576b"
             ],
             [
              0.6666666666666666,
              "#ed7953"
             ],
             [
              0.7777777777777778,
              "#fb9f3a"
             ],
             [
              0.8888888888888888,
              "#fdca26"
             ],
             [
              1,
              "#f0f921"
             ]
            ],
            "type": "histogram2dcontour"
           }
          ],
          "mesh3d": [
           {
            "colorbar": {
             "outlinewidth": 0,
             "ticks": ""
            },
            "type": "mesh3d"
           }
          ],
          "parcoords": [
           {
            "line": {
             "colorbar": {
              "outlinewidth": 0,
              "ticks": ""
             }
            },
            "type": "parcoords"
           }
          ],
          "pie": [
           {
            "automargin": true,
            "type": "pie"
           }
          ],
          "scatter": [
           {
            "fillpattern": {
             "fillmode": "overlay",
             "size": 10,
             "solidity": 0.2
            },
            "type": "scatter"
           }
          ],
          "scatter3d": [
           {
            "line": {
             "colorbar": {
              "outlinewidth": 0,
              "ticks": ""
             }
            },
            "marker": {
             "colorbar": {
              "outlinewidth": 0,
              "ticks": ""
             }
            },
            "type": "scatter3d"
           }
          ],
          "scattercarpet": [
           {
            "marker": {
             "colorbar": {
              "outlinewidth": 0,
              "ticks": ""
             }
            },
            "type": "scattercarpet"
           }
          ],
          "scattergeo": [
           {
            "marker": {
             "colorbar": {
              "outlinewidth": 0,
              "ticks": ""
             }
            },
            "type": "scattergeo"
           }
          ],
          "scattergl": [
           {
            "marker": {
             "colorbar": {
              "outlinewidth": 0,
              "ticks": ""
             }
            },
            "type": "scattergl"
           }
          ],
          "scattermapbox": [
           {
            "marker": {
             "colorbar": {
              "outlinewidth": 0,
              "ticks": ""
             }
            },
            "type": "scattermapbox"
           }
          ],
          "scatterpolar": [
           {
            "marker": {
             "colorbar": {
              "outlinewidth": 0,
              "ticks": ""
             }
            },
            "type": "scatterpolar"
           }
          ],
          "scatterpolargl": [
           {
            "marker": {
             "colorbar": {
              "outlinewidth": 0,
              "ticks": ""
             }
            },
            "type": "scatterpolargl"
           }
          ],
          "scatterternary": [
           {
            "marker": {
             "colorbar": {
              "outlinewidth": 0,
              "ticks": ""
             }
            },
            "type": "scatterternary"
           }
          ],
          "surface": [
           {
            "colorbar": {
             "outlinewidth": 0,
             "ticks": ""
            },
            "colorscale": [
             [
              0,
              "#0d0887"
             ],
             [
              0.1111111111111111,
              "#46039f"
             ],
             [
              0.2222222222222222,
              "#7201a8"
             ],
             [
              0.3333333333333333,
              "#9c179e"
             ],
             [
              0.4444444444444444,
              "#bd3786"
             ],
             [
              0.5555555555555556,
              "#d8576b"
             ],
             [
              0.6666666666666666,
              "#ed7953"
             ],
             [
              0.7777777777777778,
              "#fb9f3a"
             ],
             [
              0.8888888888888888,
              "#fdca26"
             ],
             [
              1,
              "#f0f921"
             ]
            ],
            "type": "surface"
           }
          ],
          "table": [
           {
            "cells": {
             "fill": {
              "color": "#EBF0F8"
             },
             "line": {
              "color": "white"
             }
            },
            "header": {
             "fill": {
              "color": "#C8D4E3"
             },
             "line": {
              "color": "white"
             }
            },
            "type": "table"
           }
          ]
         },
         "layout": {
          "annotationdefaults": {
           "arrowcolor": "#2a3f5f",
           "arrowhead": 0,
           "arrowwidth": 1
          },
          "autotypenumbers": "strict",
          "coloraxis": {
           "colorbar": {
            "outlinewidth": 0,
            "ticks": ""
           }
          },
          "colorscale": {
           "diverging": [
            [
             0,
             "#8e0152"
            ],
            [
             0.1,
             "#c51b7d"
            ],
            [
             0.2,
             "#de77ae"
            ],
            [
             0.3,
             "#f1b6da"
            ],
            [
             0.4,
             "#fde0ef"
            ],
            [
             0.5,
             "#f7f7f7"
            ],
            [
             0.6,
             "#e6f5d0"
            ],
            [
             0.7,
             "#b8e186"
            ],
            [
             0.8,
             "#7fbc41"
            ],
            [
             0.9,
             "#4d9221"
            ],
            [
             1,
             "#276419"
            ]
           ],
           "sequential": [
            [
             0,
             "#0d0887"
            ],
            [
             0.1111111111111111,
             "#46039f"
            ],
            [
             0.2222222222222222,
             "#7201a8"
            ],
            [
             0.3333333333333333,
             "#9c179e"
            ],
            [
             0.4444444444444444,
             "#bd3786"
            ],
            [
             0.5555555555555556,
             "#d8576b"
            ],
            [
             0.6666666666666666,
             "#ed7953"
            ],
            [
             0.7777777777777778,
             "#fb9f3a"
            ],
            [
             0.8888888888888888,
             "#fdca26"
            ],
            [
             1,
             "#f0f921"
            ]
           ],
           "sequentialminus": [
            [
             0,
             "#0d0887"
            ],
            [
             0.1111111111111111,
             "#46039f"
            ],
            [
             0.2222222222222222,
             "#7201a8"
            ],
            [
             0.3333333333333333,
             "#9c179e"
            ],
            [
             0.4444444444444444,
             "#bd3786"
            ],
            [
             0.5555555555555556,
             "#d8576b"
            ],
            [
             0.6666666666666666,
             "#ed7953"
            ],
            [
             0.7777777777777778,
             "#fb9f3a"
            ],
            [
             0.8888888888888888,
             "#fdca26"
            ],
            [
             1,
             "#f0f921"
            ]
           ]
          },
          "colorway": [
           "#636efa",
           "#EF553B",
           "#00cc96",
           "#ab63fa",
           "#FFA15A",
           "#19d3f3",
           "#FF6692",
           "#B6E880",
           "#FF97FF",
           "#FECB52"
          ],
          "font": {
           "color": "#2a3f5f"
          },
          "geo": {
           "bgcolor": "white",
           "lakecolor": "white",
           "landcolor": "#E5ECF6",
           "showlakes": true,
           "showland": true,
           "subunitcolor": "white"
          },
          "hoverlabel": {
           "align": "left"
          },
          "hovermode": "closest",
          "mapbox": {
           "style": "light"
          },
          "paper_bgcolor": "white",
          "plot_bgcolor": "#E5ECF6",
          "polar": {
           "angularaxis": {
            "gridcolor": "white",
            "linecolor": "white",
            "ticks": ""
           },
           "bgcolor": "#E5ECF6",
           "radialaxis": {
            "gridcolor": "white",
            "linecolor": "white",
            "ticks": ""
           }
          },
          "scene": {
           "xaxis": {
            "backgroundcolor": "#E5ECF6",
            "gridcolor": "white",
            "gridwidth": 2,
            "linecolor": "white",
            "showbackground": true,
            "ticks": "",
            "zerolinecolor": "white"
           },
           "yaxis": {
            "backgroundcolor": "#E5ECF6",
            "gridcolor": "white",
            "gridwidth": 2,
            "linecolor": "white",
            "showbackground": true,
            "ticks": "",
            "zerolinecolor": "white"
           },
           "zaxis": {
            "backgroundcolor": "#E5ECF6",
            "gridcolor": "white",
            "gridwidth": 2,
            "linecolor": "white",
            "showbackground": true,
            "ticks": "",
            "zerolinecolor": "white"
           }
          },
          "shapedefaults": {
           "line": {
            "color": "#2a3f5f"
           }
          },
          "ternary": {
           "aaxis": {
            "gridcolor": "white",
            "linecolor": "white",
            "ticks": ""
           },
           "baxis": {
            "gridcolor": "white",
            "linecolor": "white",
            "ticks": ""
           },
           "bgcolor": "#E5ECF6",
           "caxis": {
            "gridcolor": "white",
            "linecolor": "white",
            "ticks": ""
           }
          },
          "title": {
           "x": 0.05
          },
          "xaxis": {
           "automargin": true,
           "gridcolor": "white",
           "linecolor": "white",
           "ticks": "",
           "title": {
            "standoff": 15
           },
           "zerolinecolor": "white",
           "zerolinewidth": 2
          },
          "yaxis": {
           "automargin": true,
           "gridcolor": "white",
           "linecolor": "white",
           "ticks": "",
           "title": {
            "standoff": 15
           },
           "zerolinecolor": "white",
           "zerolinewidth": 2
          }
         }
        },
        "title": {
         "text": "Зависимость коэффициента эффективности от количества обрабатывающих элементов"
        },
        "xaxis": {
         "title": {
          "text": "Длина входящих векторов"
         }
        },
        "yaxis": {
         "title": {
          "text": "Коэффициент эффективности e(n)"
         }
        }
       }
      }
     },
     "metadata": {},
     "output_type": "display_data"
    }
   ],
   "source": [
    "# Efficency coefficient graphic (dependence on proceccing elems, based on 20 size num vector)\n",
    "vector_size = 20\n",
    "x_vector = []\n",
    "y_vector = []\n",
    "for i in range(1, 200):\n",
    "    vector_1 = [random.randint(0, 63) for _ in range(vector_size)]\n",
    "    vector_2 = [random.randint(0, 63) for _ in range(vector_size)]\n",
    "    seq_pipeline = ArithmeticPipeline(vector_1, vector_2, 1, 6)\n",
    "    par_pipeline = ArithmeticPipeline(vector_1, vector_2, i, 6)\n",
    "    while seq_pipeline.is_busy:\n",
    "        seq_pipeline.tact()\n",
    "    while par_pipeline.is_busy:\n",
    "        par_pipeline.tact()\n",
    "    x_vector.append(i)\n",
    "    y_vector.append(round(seq_pipeline.status['tacts_done'] / \n",
    "                          (par_pipeline.status['tacts_done'] * i), 2))\n",
    "fig = go.Figure()\n",
    "fig.add_trace(\n",
    "    go.Scatter(x=x_vector, y=y_vector, mode='lines+markers+text',\n",
    "               text=[f'n = {n}; K(n) = {y}' for n, y in enumerate(y_vector, 1)],\n",
    "               textposition='bottom center')\n",
    ")\n",
    "fig.update_layout(title_text='Зависимость коэффициента эффективности от количества обрабатывающих элементов')\n",
    "fig.update_xaxes(title_text='Длина входящих векторов')\n",
    "fig.update_yaxes(title_text='Коэффициент эффективности e(n)')\n",
    "fig.show(width=1280, height=720, autosize=True) "
   ]
  }
 ],
 "metadata": {
  "kernelspec": {
   "display_name": ".venv",
   "language": "python",
   "name": "python3"
  },
  "language_info": {
   "codemirror_mode": {
    "name": "ipython",
    "version": 3
   },
   "file_extension": ".py",
   "mimetype": "text/x-python",
   "name": "python",
   "nbconvert_exporter": "python",
   "pygments_lexer": "ipython3",
   "version": "3.12.1"
  }
 },
 "nbformat": 4,
 "nbformat_minor": 2
}
